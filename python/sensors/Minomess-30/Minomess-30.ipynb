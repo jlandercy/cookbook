{
 "cells": [
  {
   "cell_type": "code",
   "execution_count": 1,
   "metadata": {
    "ExecuteTime": {
     "end_time": "2021-09-13T11:28:32.643583Z",
     "start_time": "2021-09-13T11:28:30.893131Z"
    }
   },
   "outputs": [],
   "source": [
    "import io\n",
    "import js2py\n",
    "import base64\n",
    "import pandas as pd"
   ]
  },
  {
   "cell_type": "code",
   "execution_count": 2,
   "metadata": {
    "ExecuteTime": {
     "end_time": "2021-09-13T11:28:32.670479Z",
     "start_time": "2021-09-13T11:28:32.649941Z"
    }
   },
   "outputs": [],
   "source": [
    "df = pd.read_fwf(io.StringIO(\"\"\"2021-09-10T00:55:04Z home-water       04b6481955196490 water-meter-01 1      EWEBAAA=\n",
    "2021-09-11T00:54:32Z home-water       04b6481955196490 water-meter-01 1      EQUCAAA=\n",
    "2021-09-12T00:54:52Z home-water       04b6481955196490 water-meter-01 1      EaACAAA=\n",
    "2021-09-13T00:55:06Z home-water       04b6481955196490 water-meter-01 1      EWADAAA=\n",
    "\"\"\"), names=[\"time\", \"app\", \"eui\", \"name\", \"port\", \"payload\"])\n",
    "df[\"time\"] = pd.to_datetime(df[\"time\"])"
   ]
  },
  {
   "cell_type": "code",
   "execution_count": 3,
   "metadata": {
    "ExecuteTime": {
     "end_time": "2021-09-13T11:28:32.721180Z",
     "start_time": "2021-09-13T11:28:32.675049Z"
    }
   },
   "outputs": [
    {
     "data": {
      "text/html": [
       "<div>\n",
       "<style scoped>\n",
       "    .dataframe tbody tr th:only-of-type {\n",
       "        vertical-align: middle;\n",
       "    }\n",
       "\n",
       "    .dataframe tbody tr th {\n",
       "        vertical-align: top;\n",
       "    }\n",
       "\n",
       "    .dataframe thead th {\n",
       "        text-align: right;\n",
       "    }\n",
       "</style>\n",
       "<table border=\"1\" class=\"dataframe\">\n",
       "  <thead>\n",
       "    <tr style=\"text-align: right;\">\n",
       "      <th></th>\n",
       "      <th>time</th>\n",
       "      <th>app</th>\n",
       "      <th>eui</th>\n",
       "      <th>name</th>\n",
       "      <th>port</th>\n",
       "      <th>payload</th>\n",
       "    </tr>\n",
       "  </thead>\n",
       "  <tbody>\n",
       "    <tr>\n",
       "      <th>0</th>\n",
       "      <td>2021-09-10 00:55:04+00:00</td>\n",
       "      <td>home-water</td>\n",
       "      <td>04b6481955196490</td>\n",
       "      <td>water-meter-01</td>\n",
       "      <td>1</td>\n",
       "      <td>EWEBAAA=</td>\n",
       "    </tr>\n",
       "    <tr>\n",
       "      <th>1</th>\n",
       "      <td>2021-09-11 00:54:32+00:00</td>\n",
       "      <td>home-water</td>\n",
       "      <td>04b6481955196490</td>\n",
       "      <td>water-meter-01</td>\n",
       "      <td>1</td>\n",
       "      <td>EQUCAAA=</td>\n",
       "    </tr>\n",
       "    <tr>\n",
       "      <th>2</th>\n",
       "      <td>2021-09-12 00:54:52+00:00</td>\n",
       "      <td>home-water</td>\n",
       "      <td>04b6481955196490</td>\n",
       "      <td>water-meter-01</td>\n",
       "      <td>1</td>\n",
       "      <td>EaACAAA=</td>\n",
       "    </tr>\n",
       "    <tr>\n",
       "      <th>3</th>\n",
       "      <td>2021-09-13 00:55:06+00:00</td>\n",
       "      <td>home-water</td>\n",
       "      <td>04b6481955196490</td>\n",
       "      <td>water-meter-01</td>\n",
       "      <td>1</td>\n",
       "      <td>EWADAAA=</td>\n",
       "    </tr>\n",
       "  </tbody>\n",
       "</table>\n",
       "</div>"
      ],
      "text/plain": [
       "                       time         app               eui            name  \\\n",
       "0 2021-09-10 00:55:04+00:00  home-water  04b6481955196490  water-meter-01   \n",
       "1 2021-09-11 00:54:32+00:00  home-water  04b6481955196490  water-meter-01   \n",
       "2 2021-09-12 00:54:52+00:00  home-water  04b6481955196490  water-meter-01   \n",
       "3 2021-09-13 00:55:06+00:00  home-water  04b6481955196490  water-meter-01   \n",
       "\n",
       "   port   payload  \n",
       "0     1  EWEBAAA=  \n",
       "1     1  EQUCAAA=  \n",
       "2     1  EaACAAA=  \n",
       "3     1  EWADAAA=  "
      ]
     },
     "execution_count": 3,
     "metadata": {},
     "output_type": "execute_result"
    }
   ],
   "source": [
    "df"
   ]
  },
  {
   "cell_type": "code",
   "execution_count": 4,
   "metadata": {
    "ExecuteTime": {
     "end_time": "2021-09-13T11:28:32.732606Z",
     "start_time": "2021-09-13T11:28:32.725431Z"
    }
   },
   "outputs": [],
   "source": [
    "def index(s):\n",
    "    b = base64.b64decode(s)\n",
    "    print(b)\n",
    "    return (b[1] | (b[2] << 8) | (b[3] << 16) | (b[4] << 24)) / 1000."
   ]
  },
  {
   "cell_type": "code",
   "execution_count": 5,
   "metadata": {
    "ExecuteTime": {
     "end_time": "2021-09-13T11:28:32.747486Z",
     "start_time": "2021-09-13T11:28:32.736737Z"
    }
   },
   "outputs": [
    {
     "name": "stdout",
     "output_type": "stream",
     "text": [
      "b'\\x11a\\x01\\x00\\x00'\n",
      "b'\\x11\\x05\\x02\\x00\\x00'\n",
      "b'\\x11\\xa0\\x02\\x00\\x00'\n",
      "b'\\x11`\\x03\\x00\\x00'\n"
     ]
    }
   ],
   "source": [
    "df[\"index\"] = df[\"payload\"].apply(index)"
   ]
  },
  {
   "cell_type": "code",
   "execution_count": 6,
   "metadata": {
    "ExecuteTime": {
     "end_time": "2021-09-13T11:28:32.774890Z",
     "start_time": "2021-09-13T11:28:32.751092Z"
    }
   },
   "outputs": [
    {
     "data": {
      "text/html": [
       "<div>\n",
       "<style scoped>\n",
       "    .dataframe tbody tr th:only-of-type {\n",
       "        vertical-align: middle;\n",
       "    }\n",
       "\n",
       "    .dataframe tbody tr th {\n",
       "        vertical-align: top;\n",
       "    }\n",
       "\n",
       "    .dataframe thead th {\n",
       "        text-align: right;\n",
       "    }\n",
       "</style>\n",
       "<table border=\"1\" class=\"dataframe\">\n",
       "  <thead>\n",
       "    <tr style=\"text-align: right;\">\n",
       "      <th></th>\n",
       "      <th>time</th>\n",
       "      <th>app</th>\n",
       "      <th>eui</th>\n",
       "      <th>name</th>\n",
       "      <th>port</th>\n",
       "      <th>payload</th>\n",
       "      <th>index</th>\n",
       "    </tr>\n",
       "  </thead>\n",
       "  <tbody>\n",
       "    <tr>\n",
       "      <th>0</th>\n",
       "      <td>2021-09-10 00:55:04+00:00</td>\n",
       "      <td>home-water</td>\n",
       "      <td>04b6481955196490</td>\n",
       "      <td>water-meter-01</td>\n",
       "      <td>1</td>\n",
       "      <td>EWEBAAA=</td>\n",
       "      <td>0.353</td>\n",
       "    </tr>\n",
       "    <tr>\n",
       "      <th>1</th>\n",
       "      <td>2021-09-11 00:54:32+00:00</td>\n",
       "      <td>home-water</td>\n",
       "      <td>04b6481955196490</td>\n",
       "      <td>water-meter-01</td>\n",
       "      <td>1</td>\n",
       "      <td>EQUCAAA=</td>\n",
       "      <td>0.517</td>\n",
       "    </tr>\n",
       "    <tr>\n",
       "      <th>2</th>\n",
       "      <td>2021-09-12 00:54:52+00:00</td>\n",
       "      <td>home-water</td>\n",
       "      <td>04b6481955196490</td>\n",
       "      <td>water-meter-01</td>\n",
       "      <td>1</td>\n",
       "      <td>EaACAAA=</td>\n",
       "      <td>0.672</td>\n",
       "    </tr>\n",
       "    <tr>\n",
       "      <th>3</th>\n",
       "      <td>2021-09-13 00:55:06+00:00</td>\n",
       "      <td>home-water</td>\n",
       "      <td>04b6481955196490</td>\n",
       "      <td>water-meter-01</td>\n",
       "      <td>1</td>\n",
       "      <td>EWADAAA=</td>\n",
       "      <td>0.864</td>\n",
       "    </tr>\n",
       "  </tbody>\n",
       "</table>\n",
       "</div>"
      ],
      "text/plain": [
       "                       time         app               eui            name  \\\n",
       "0 2021-09-10 00:55:04+00:00  home-water  04b6481955196490  water-meter-01   \n",
       "1 2021-09-11 00:54:32+00:00  home-water  04b6481955196490  water-meter-01   \n",
       "2 2021-09-12 00:54:52+00:00  home-water  04b6481955196490  water-meter-01   \n",
       "3 2021-09-13 00:55:06+00:00  home-water  04b6481955196490  water-meter-01   \n",
       "\n",
       "   port   payload  index  \n",
       "0     1  EWEBAAA=  0.353  \n",
       "1     1  EQUCAAA=  0.517  \n",
       "2     1  EaACAAA=  0.672  \n",
       "3     1  EWADAAA=  0.864  "
      ]
     },
     "execution_count": 6,
     "metadata": {},
     "output_type": "execute_result"
    }
   ],
   "source": [
    "df"
   ]
  },
  {
   "cell_type": "code",
   "execution_count": 7,
   "metadata": {
    "ExecuteTime": {
     "end_time": "2021-09-13T11:28:32.787302Z",
     "start_time": "2021-09-13T11:28:32.778124Z"
    }
   },
   "outputs": [
    {
     "data": {
      "text/plain": [
       "'0b11110000'"
      ]
     },
     "execution_count": 7,
     "metadata": {},
     "output_type": "execute_result"
    }
   ],
   "source": [
    "bin(0xf0)"
   ]
  },
  {
   "cell_type": "code",
   "execution_count": 8,
   "metadata": {
    "ExecuteTime": {
     "end_time": "2021-09-13T11:28:32.796773Z",
     "start_time": "2021-09-13T11:28:32.792598Z"
    }
   },
   "outputs": [],
   "source": [
    "code = \"\"\"\n",
    "function Decode(port, bytes, variables) {\n",
    "  var data = {\n",
    "    \"data\": bytes,\n",
    "    \"type\": bytes[0] & 0x0f,\n",
    "    \"subtype\": (bytes[0] & 0xf0) >> 4\n",
    "  };\n",
    "  if (data[\"type\"] == 1) {\n",
    "    data[\"index\"] = (bytes[1] | (bytes[2] << 8) | (bytes[3] << 16) | (bytes[4] << 24)) / 1000.\n",
    "  }\n",
    "  return data;\n",
    "}\n",
    "var x = Decode(2, %s, null);\n",
    "\"\"\""
   ]
  },
  {
   "cell_type": "code",
   "execution_count": 9,
   "metadata": {
    "ExecuteTime": {
     "end_time": "2021-09-13T11:28:32.806457Z",
     "start_time": "2021-09-13T11:28:32.801266Z"
    }
   },
   "outputs": [],
   "source": [
    "def decode(s):\n",
    "    b = [int(c) for c in base64.b64decode(s)]\n",
    "    return js2py.eval_js(code % b)"
   ]
  },
  {
   "cell_type": "code",
   "execution_count": 10,
   "metadata": {
    "ExecuteTime": {
     "end_time": "2021-09-13T11:28:33.273981Z",
     "start_time": "2021-09-13T11:28:32.810556Z"
    }
   },
   "outputs": [],
   "source": [
    "df[\"decoded\"] = df[\"payload\"].apply(decode)"
   ]
  },
  {
   "cell_type": "code",
   "execution_count": 11,
   "metadata": {
    "ExecuteTime": {
     "end_time": "2021-09-13T11:28:33.288177Z",
     "start_time": "2021-09-13T11:28:33.278462Z"
    }
   },
   "outputs": [
    {
     "data": {
      "text/plain": [
       "[{'data': [17, 97, 1, 0, 0], 'index': 0.353, 'subtype': 1, 'type': 1},\n",
       " {'data': [17, 5, 2, 0, 0], 'index': 0.517, 'subtype': 1, 'type': 1},\n",
       " {'data': [17, 160, 2, 0, 0], 'index': 0.672, 'subtype': 1, 'type': 1},\n",
       " {'data': [17, 96, 3, 0, 0], 'index': 0.864, 'subtype': 1, 'type': 1}]"
      ]
     },
     "execution_count": 11,
     "metadata": {},
     "output_type": "execute_result"
    }
   ],
   "source": [
    "df[\"decoded\"].to_list()"
   ]
  },
  {
   "cell_type": "code",
   "execution_count": 46,
   "metadata": {
    "ExecuteTime": {
     "end_time": "2021-09-13T11:41:01.641691Z",
     "start_time": "2021-09-13T11:41:01.628755Z"
    }
   },
   "outputs": [],
   "source": [
    "df[\"stamp\"] = df[\"time\"].apply(lambda x: int(x.timestamp()))*1000000000"
   ]
  },
  {
   "cell_type": "code",
   "execution_count": 47,
   "metadata": {
    "ExecuteTime": {
     "end_time": "2021-09-13T11:41:02.088794Z",
     "start_time": "2021-09-13T11:41:02.027967Z"
    }
   },
   "outputs": [
    {
     "data": {
      "text/html": [
       "<div>\n",
       "<style scoped>\n",
       "    .dataframe tbody tr th:only-of-type {\n",
       "        vertical-align: middle;\n",
       "    }\n",
       "\n",
       "    .dataframe tbody tr th {\n",
       "        vertical-align: top;\n",
       "    }\n",
       "\n",
       "    .dataframe thead th {\n",
       "        text-align: right;\n",
       "    }\n",
       "</style>\n",
       "<table border=\"1\" class=\"dataframe\">\n",
       "  <thead>\n",
       "    <tr style=\"text-align: right;\">\n",
       "      <th></th>\n",
       "      <th>time</th>\n",
       "      <th>app</th>\n",
       "      <th>eui</th>\n",
       "      <th>name</th>\n",
       "      <th>port</th>\n",
       "      <th>payload</th>\n",
       "      <th>index</th>\n",
       "      <th>decoded</th>\n",
       "      <th>stamp</th>\n",
       "    </tr>\n",
       "  </thead>\n",
       "  <tbody>\n",
       "    <tr>\n",
       "      <th>0</th>\n",
       "      <td>2021-09-10 00:55:04+00:00</td>\n",
       "      <td>home-water</td>\n",
       "      <td>04b6481955196490</td>\n",
       "      <td>water-meter-01</td>\n",
       "      <td>1</td>\n",
       "      <td>EWEBAAA=</td>\n",
       "      <td>0.353</td>\n",
       "      <td>{'data': [17, 97, 1, 0, 0], 'index': 0.353, 's...</td>\n",
       "      <td>1631235304000000000</td>\n",
       "    </tr>\n",
       "    <tr>\n",
       "      <th>1</th>\n",
       "      <td>2021-09-11 00:54:32+00:00</td>\n",
       "      <td>home-water</td>\n",
       "      <td>04b6481955196490</td>\n",
       "      <td>water-meter-01</td>\n",
       "      <td>1</td>\n",
       "      <td>EQUCAAA=</td>\n",
       "      <td>0.517</td>\n",
       "      <td>{'data': [17, 5, 2, 0, 0], 'index': 0.517, 'su...</td>\n",
       "      <td>1631321672000000000</td>\n",
       "    </tr>\n",
       "    <tr>\n",
       "      <th>2</th>\n",
       "      <td>2021-09-12 00:54:52+00:00</td>\n",
       "      <td>home-water</td>\n",
       "      <td>04b6481955196490</td>\n",
       "      <td>water-meter-01</td>\n",
       "      <td>1</td>\n",
       "      <td>EaACAAA=</td>\n",
       "      <td>0.672</td>\n",
       "      <td>{'data': [17, 160, 2, 0, 0], 'index': 0.672, '...</td>\n",
       "      <td>1631408092000000000</td>\n",
       "    </tr>\n",
       "    <tr>\n",
       "      <th>3</th>\n",
       "      <td>2021-09-13 00:55:06+00:00</td>\n",
       "      <td>home-water</td>\n",
       "      <td>04b6481955196490</td>\n",
       "      <td>water-meter-01</td>\n",
       "      <td>1</td>\n",
       "      <td>EWADAAA=</td>\n",
       "      <td>0.864</td>\n",
       "      <td>{'data': [17, 96, 3, 0, 0], 'index': 0.864, 's...</td>\n",
       "      <td>1631494506000000000</td>\n",
       "    </tr>\n",
       "  </tbody>\n",
       "</table>\n",
       "</div>"
      ],
      "text/plain": [
       "                       time         app               eui            name  \\\n",
       "0 2021-09-10 00:55:04+00:00  home-water  04b6481955196490  water-meter-01   \n",
       "1 2021-09-11 00:54:32+00:00  home-water  04b6481955196490  water-meter-01   \n",
       "2 2021-09-12 00:54:52+00:00  home-water  04b6481955196490  water-meter-01   \n",
       "3 2021-09-13 00:55:06+00:00  home-water  04b6481955196490  water-meter-01   \n",
       "\n",
       "   port   payload  index                                            decoded  \\\n",
       "0     1  EWEBAAA=  0.353  {'data': [17, 97, 1, 0, 0], 'index': 0.353, 's...   \n",
       "1     1  EQUCAAA=  0.517  {'data': [17, 5, 2, 0, 0], 'index': 0.517, 'su...   \n",
       "2     1  EaACAAA=  0.672  {'data': [17, 160, 2, 0, 0], 'index': 0.672, '...   \n",
       "3     1  EWADAAA=  0.864  {'data': [17, 96, 3, 0, 0], 'index': 0.864, 's...   \n",
       "\n",
       "                 stamp  \n",
       "0  1631235304000000000  \n",
       "1  1631321672000000000  \n",
       "2  1631408092000000000  \n",
       "3  1631494506000000000  "
      ]
     },
     "execution_count": 47,
     "metadata": {},
     "output_type": "execute_result"
    }
   ],
   "source": [
    "df"
   ]
  },
  {
   "cell_type": "code",
   "execution_count": 48,
   "metadata": {
    "ExecuteTime": {
     "end_time": "2021-09-13T11:41:03.021614Z",
     "start_time": "2021-09-13T11:41:03.014870Z"
    }
   },
   "outputs": [
    {
     "name": "stdout",
     "output_type": "stream",
     "text": [
      "INSERT device_frmpayload_data_index,application_name=home-water,dev_eui=04b6481955196490,device_name=water-meter-01,f_port=1 value=0.353 1631235304000000000\n",
      "INSERT device_frmpayload_data_index,application_name=home-water,dev_eui=04b6481955196490,device_name=water-meter-01,f_port=1 value=0.517 1631321672000000000\n",
      "INSERT device_frmpayload_data_index,application_name=home-water,dev_eui=04b6481955196490,device_name=water-meter-01,f_port=1 value=0.672 1631408092000000000\n",
      "INSERT device_frmpayload_data_index,application_name=home-water,dev_eui=04b6481955196490,device_name=water-meter-01,f_port=1 value=0.864 1631494506000000000\n"
     ]
    }
   ],
   "source": [
    "for r in df.to_dict(orient=\"records\"):\n",
    "    print(\"INSERT device_frmpayload_data_index,application_name={app:},dev_eui={eui:},device_name={name:},f_port={port:} value={index:} {stamp:}\".format(**r))"
   ]
  },
  {
   "cell_type": "raw",
   "metadata": {},
   "source": [
    "INSERT cpu,host=serverA,region=us_west value=0.64\n",
    "time                 application_name dev_eui          device_name    f_port value\n"
   ]
  },
  {
   "cell_type": "code",
   "execution_count": null,
   "metadata": {},
   "outputs": [],
   "source": []
  },
  {
   "cell_type": "code",
   "execution_count": null,
   "metadata": {},
   "outputs": [],
   "source": []
  },
  {
   "cell_type": "code",
   "execution_count": null,
   "metadata": {},
   "outputs": [],
   "source": []
  }
 ],
 "metadata": {
  "hide_input": false,
  "kernelspec": {
   "display_name": "Python 3",
   "language": "python",
   "name": "python3"
  },
  "language_info": {
   "codemirror_mode": {
    "name": "ipython",
    "version": 3
   },
   "file_extension": ".py",
   "mimetype": "text/x-python",
   "name": "python",
   "nbconvert_exporter": "python",
   "pygments_lexer": "ipython3",
   "version": "3.6.9"
  },
  "toc": {
   "base_numbering": 1,
   "nav_menu": {},
   "number_sections": true,
   "sideBar": true,
   "skip_h1_title": false,
   "title_cell": "Table of Contents",
   "title_sidebar": "Contents",
   "toc_cell": false,
   "toc_position": {},
   "toc_section_display": true,
   "toc_window_display": false
  },
  "varInspector": {
   "cols": {
    "lenName": 16,
    "lenType": 16,
    "lenVar": 40
   },
   "kernels_config": {
    "python": {
     "delete_cmd_postfix": "",
     "delete_cmd_prefix": "del ",
     "library": "var_list.py",
     "varRefreshCmd": "print(var_dic_list())"
    },
    "r": {
     "delete_cmd_postfix": ") ",
     "delete_cmd_prefix": "rm(",
     "library": "var_list.r",
     "varRefreshCmd": "cat(var_dic_list()) "
    }
   },
   "types_to_exclude": [
    "module",
    "function",
    "builtin_function_or_method",
    "instance",
    "_Feature"
   ],
   "window_display": false
  }
 },
 "nbformat": 4,
 "nbformat_minor": 4
}
