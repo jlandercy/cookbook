{
 "cells": [
  {
   "cell_type": "code",
   "execution_count": 1,
   "metadata": {
    "ExecuteTime": {
     "end_time": "2021-09-16T06:13:54.409909Z",
     "start_time": "2021-09-16T06:13:53.887632Z"
    }
   },
   "outputs": [],
   "source": [
    "import pandas as pd"
   ]
  },
  {
   "cell_type": "code",
   "execution_count": 2,
   "metadata": {
    "ExecuteTime": {
     "end_time": "2021-09-16T06:13:54.461315Z",
     "start_time": "2021-09-16T06:13:54.413606Z"
    }
   },
   "outputs": [],
   "source": [
    "df = pd.read_excel(\"water.xlsx\")"
   ]
  },
  {
   "cell_type": "code",
   "execution_count": 3,
   "metadata": {
    "ExecuteTime": {
     "end_time": "2021-09-16T06:13:54.471966Z",
     "start_time": "2021-09-16T06:13:54.464302Z"
    }
   },
   "outputs": [],
   "source": [
    "df = df.loc[df[\"location\"] == \"Cure\", [\"date\", \"volume\"]]"
   ]
  },
  {
   "cell_type": "code",
   "execution_count": 4,
   "metadata": {
    "ExecuteTime": {
     "end_time": "2021-09-16T06:13:54.485315Z",
     "start_time": "2021-09-16T06:13:54.474813Z"
    }
   },
   "outputs": [],
   "source": [
    "df = df.append(pd.DataFrame([{\"date\": pd.Timestamp(\"2021-09-10\"), \"volume\": 2330.74}]))"
   ]
  },
  {
   "cell_type": "code",
   "execution_count": 5,
   "metadata": {
    "ExecuteTime": {
     "end_time": "2021-09-16T06:13:54.493055Z",
     "start_time": "2021-09-16T06:13:54.487525Z"
    }
   },
   "outputs": [],
   "source": [
    "df = df.set_index(\"date\")"
   ]
  },
  {
   "cell_type": "code",
   "execution_count": 6,
   "metadata": {
    "ExecuteTime": {
     "end_time": "2021-09-16T06:13:54.514774Z",
     "start_time": "2021-09-16T06:13:54.496088Z"
    }
   },
   "outputs": [],
   "source": [
    "df = df.resample(\"1D\").interpolate()"
   ]
  },
  {
   "cell_type": "code",
   "execution_count": 7,
   "metadata": {
    "ExecuteTime": {
     "end_time": "2021-09-16T06:13:55.349812Z",
     "start_time": "2021-09-16T06:13:54.517876Z"
    }
   },
   "outputs": [
    {
     "data": {
      "text/plain": [
       "<AxesSubplot:xlabel='date'>"
      ]
     },
     "execution_count": 7,
     "metadata": {},
     "output_type": "execute_result"
    },
    {
     "data": {
      "image/png": "[encoded data removed]",
      "text/plain": [
       "<Figure size 432x288 with 1 Axes>"
      ]
     },
     "metadata": {
      "needs_background": "light"
     },
     "output_type": "display_data"
    }
   ],
   "source": [
    "df.plot()"
   ]
  },
  {
   "cell_type": "code",
   "execution_count": 8,
   "metadata": {
    "ExecuteTime": {
     "end_time": "2021-09-16T06:13:55.361110Z",
     "start_time": "2021-09-16T06:13:55.355310Z"
    }
   },
   "outputs": [],
   "source": [
    "df[\"volume\"] = df[\"volume\"] - (2331.7053 - 1.323)"
   ]
  },
  {
   "cell_type": "code",
   "execution_count": 9,
   "metadata": {
    "ExecuteTime": {
     "end_time": "2021-09-16T06:13:55.371586Z",
     "start_time": "2021-09-16T06:13:55.366450Z"
    }
   },
   "outputs": [],
   "source": [
    "df = df.iloc[:-1,:]"
   ]
  },
  {
   "cell_type": "code",
   "execution_count": 10,
   "metadata": {
    "ExecuteTime": {
     "end_time": "2021-09-16T06:13:55.398405Z",
     "start_time": "2021-09-16T06:13:55.375661Z"
    }
   },
   "outputs": [
    {
     "data": {
      "text/html": [
       "<div>\n",
       "<style scoped>\n",
       "    .dataframe tbody tr th:only-of-type {\n",
       "        vertical-align: middle;\n",
       "    }\n",
       "\n",
       "    .dataframe tbody tr th {\n",
       "        vertical-align: top;\n",
       "    }\n",
       "\n",
       "    .dataframe thead th {\n",
       "        text-align: right;\n",
       "    }\n",
       "</style>\n",
       "<table border=\"1\" class=\"dataframe\">\n",
       "  <thead>\n",
       "    <tr style=\"text-align: right;\">\n",
       "      <th></th>\n",
       "      <th>volume</th>\n",
       "    </tr>\n",
       "    <tr>\n",
       "      <th>date</th>\n",
       "      <th></th>\n",
       "    </tr>\n",
       "  </thead>\n",
       "  <tbody>\n",
       "    <tr>\n",
       "      <th>2020-06-30</th>\n",
       "      <td>-86.052300</td>\n",
       "    </tr>\n",
       "    <tr>\n",
       "      <th>2020-07-01</th>\n",
       "      <td>-85.893578</td>\n",
       "    </tr>\n",
       "    <tr>\n",
       "      <th>2020-07-02</th>\n",
       "      <td>-85.734856</td>\n",
       "    </tr>\n",
       "    <tr>\n",
       "      <th>2020-07-03</th>\n",
       "      <td>-85.576135</td>\n",
       "    </tr>\n",
       "    <tr>\n",
       "      <th>2020-07-04</th>\n",
       "      <td>-85.417413</td>\n",
       "    </tr>\n",
       "    <tr>\n",
       "      <th>...</th>\n",
       "      <td>...</td>\n",
       "    </tr>\n",
       "    <tr>\n",
       "      <th>2021-09-05</th>\n",
       "      <td>-0.824443</td>\n",
       "    </tr>\n",
       "    <tr>\n",
       "      <th>2021-09-06</th>\n",
       "      <td>-0.588014</td>\n",
       "    </tr>\n",
       "    <tr>\n",
       "      <th>2021-09-07</th>\n",
       "      <td>-0.351586</td>\n",
       "    </tr>\n",
       "    <tr>\n",
       "      <th>2021-09-08</th>\n",
       "      <td>-0.115157</td>\n",
       "    </tr>\n",
       "    <tr>\n",
       "      <th>2021-09-09</th>\n",
       "      <td>0.121271</td>\n",
       "    </tr>\n",
       "  </tbody>\n",
       "</table>\n",
       "<p>437 rows × 1 columns</p>\n",
       "</div>"
      ],
      "text/plain": [
       "               volume\n",
       "date                 \n",
       "2020-06-30 -86.052300\n",
       "2020-07-01 -85.893578\n",
       "2020-07-02 -85.734856\n",
       "2020-07-03 -85.576135\n",
       "2020-07-04 -85.417413\n",
       "...               ...\n",
       "2021-09-05  -0.824443\n",
       "2021-09-06  -0.588014\n",
       "2021-09-07  -0.351586\n",
       "2021-09-08  -0.115157\n",
       "2021-09-09   0.121271\n",
       "\n",
       "[437 rows x 1 columns]"
      ]
     },
     "execution_count": 10,
     "metadata": {},
     "output_type": "execute_result"
    }
   ],
   "source": [
    "df"
   ]
  },
  {
   "cell_type": "code",
   "execution_count": 12,
   "metadata": {
    "ExecuteTime": {
     "end_time": "2021-09-16T06:15:14.718035Z",
     "start_time": "2021-09-16T06:15:13.755869Z"
    }
   },
   "outputs": [
    {
     "data": {
      "text/plain": [
       "<AxesSubplot:ylabel='Density'>"
      ]
     },
     "execution_count": 12,
     "metadata": {},
     "output_type": "execute_result"
    },
    {
     "data": {
      "image/png": "[encoded data removed]",
      "text/plain": [
       "<Figure size 432x288 with 1 Axes>"
      ]
     },
     "metadata": {
      "needs_background": "light"
     },
     "output_type": "display_data"
    }
   ],
   "source": [
    "df.diff().plot(kind=\"kde\")"
   ]
  },
  {
   "cell_type": "code",
   "execution_count": 16,
   "metadata": {
    "ExecuteTime": {
     "end_time": "2021-09-16T06:18:50.164106Z",
     "start_time": "2021-09-16T06:18:50.122851Z"
    }
   },
   "outputs": [
    {
     "name": "stderr",
     "output_type": "stream",
     "text": [
      "/usr/local/lib/python3.6/dist-packages/ipykernel_launcher.py:1: SettingWithCopyWarning: \n",
      "A value is trying to be set on a copy of a slice from a DataFrame.\n",
      "Try using .loc[row_indexer,col_indexer] = value instead\n",
      "\n",
      "See the caveats in the documentation: https://pandas.pydata.org/pandas-docs/stable/user_guide/indexing.html#returning-a-view-versus-a-copy\n",
      "  \"\"\"Entry point for launching an IPython kernel.\n"
     ]
    }
   ],
   "source": [
    "df[\"time\"] = df.index.map(lambda x: int(x.timestamp()))*1000000000"
   ]
  },
  {
   "cell_type": "code",
   "execution_count": 17,
   "metadata": {
    "ExecuteTime": {
     "end_time": "2021-09-16T06:18:53.754456Z",
     "start_time": "2021-09-16T06:18:53.734814Z"
    }
   },
   "outputs": [
    {
     "data": {
      "text/html": [
       "<div>\n",
       "<style scoped>\n",
       "    .dataframe tbody tr th:only-of-type {\n",
       "        vertical-align: middle;\n",
       "    }\n",
       "\n",
       "    .dataframe tbody tr th {\n",
       "        vertical-align: top;\n",
       "    }\n",
       "\n",
       "    .dataframe thead th {\n",
       "        text-align: right;\n",
       "    }\n",
       "</style>\n",
       "<table border=\"1\" class=\"dataframe\">\n",
       "  <thead>\n",
       "    <tr style=\"text-align: right;\">\n",
       "      <th></th>\n",
       "      <th>volume</th>\n",
       "      <th>time</th>\n",
       "    </tr>\n",
       "    <tr>\n",
       "      <th>date</th>\n",
       "      <th></th>\n",
       "      <th></th>\n",
       "    </tr>\n",
       "  </thead>\n",
       "  <tbody>\n",
       "    <tr>\n",
       "      <th>2020-06-30</th>\n",
       "      <td>-86.052300</td>\n",
       "      <td>1593475200000000000</td>\n",
       "    </tr>\n",
       "    <tr>\n",
       "      <th>2020-07-01</th>\n",
       "      <td>-85.893578</td>\n",
       "      <td>1593561600000000000</td>\n",
       "    </tr>\n",
       "    <tr>\n",
       "      <th>2020-07-02</th>\n",
       "      <td>-85.734856</td>\n",
       "      <td>1593648000000000000</td>\n",
       "    </tr>\n",
       "    <tr>\n",
       "      <th>2020-07-03</th>\n",
       "      <td>-85.576135</td>\n",
       "      <td>1593734400000000000</td>\n",
       "    </tr>\n",
       "    <tr>\n",
       "      <th>2020-07-04</th>\n",
       "      <td>-85.417413</td>\n",
       "      <td>1593820800000000000</td>\n",
       "    </tr>\n",
       "    <tr>\n",
       "      <th>...</th>\n",
       "      <td>...</td>\n",
       "      <td>...</td>\n",
       "    </tr>\n",
       "    <tr>\n",
       "      <th>2021-09-05</th>\n",
       "      <td>-0.824443</td>\n",
       "      <td>1630800000000000000</td>\n",
       "    </tr>\n",
       "    <tr>\n",
       "      <th>2021-09-06</th>\n",
       "      <td>-0.588014</td>\n",
       "      <td>1630886400000000000</td>\n",
       "    </tr>\n",
       "    <tr>\n",
       "      <th>2021-09-07</th>\n",
       "      <td>-0.351586</td>\n",
       "      <td>1630972800000000000</td>\n",
       "    </tr>\n",
       "    <tr>\n",
       "      <th>2021-09-08</th>\n",
       "      <td>-0.115157</td>\n",
       "      <td>1631059200000000000</td>\n",
       "    </tr>\n",
       "    <tr>\n",
       "      <th>2021-09-09</th>\n",
       "      <td>0.121271</td>\n",
       "      <td>1631145600000000000</td>\n",
       "    </tr>\n",
       "  </tbody>\n",
       "</table>\n",
       "<p>437 rows × 2 columns</p>\n",
       "</div>"
      ],
      "text/plain": [
       "               volume                 time\n",
       "date                                      \n",
       "2020-06-30 -86.052300  1593475200000000000\n",
       "2020-07-01 -85.893578  1593561600000000000\n",
       "2020-07-02 -85.734856  1593648000000000000\n",
       "2020-07-03 -85.576135  1593734400000000000\n",
       "2020-07-04 -85.417413  1593820800000000000\n",
       "...               ...                  ...\n",
       "2021-09-05  -0.824443  1630800000000000000\n",
       "2021-09-06  -0.588014  1630886400000000000\n",
       "2021-09-07  -0.351586  1630972800000000000\n",
       "2021-09-08  -0.115157  1631059200000000000\n",
       "2021-09-09   0.121271  1631145600000000000\n",
       "\n",
       "[437 rows x 2 columns]"
      ]
     },
     "execution_count": 17,
     "metadata": {},
     "output_type": "execute_result"
    }
   ],
   "source": [
    "df"
   ]
  },
  {
   "cell_type": "code",
   "execution_count": 18,
   "metadata": {
    "ExecuteTime": {
     "end_time": "2021-09-16T06:19:49.363171Z",
     "start_time": "2021-09-16T06:19:49.211834Z"
    }
   },
   "outputs": [
    {
     "name": "stdout",
     "output_type": "stream",
     "text": [
      "INSERT device_frmpayload_data_index,application_name=home-water,dev_eui=04b6481955196490,device_name=water-meter-01,f_port=1 value=-86.05230000000029 1593475200000000000\n",
      "INSERT device_frmpayload_data_index,application_name=home-water,dev_eui=04b6481955196490,device_name=water-meter-01,f_port=1 value=-85.89357819548923 1593561600000000000\n",
      "INSERT device_frmpayload_data_index,application_name=home-water,dev_eui=04b6481955196490,device_name=water-meter-01,f_port=1 value=-85.73485639097771 1593648000000000000\n",
      "INSERT device_frmpayload_data_index,application_name=home-water,dev_eui=04b6481955196490,device_name=water-meter-01,f_port=1 value=-85.57613458646665 1593734400000000000\n",
      "INSERT device_frmpayload_data_index,application_name=home-water,dev_eui=04b6481955196490,device_name=water-meter-01,f_port=1 value=-85.41741278195514 1593820800000000000\n",
      "INSERT device_frmpayload_data_index,application_name=home-water,dev_eui=04b6481955196490,device_name=water-meter-01,f_port=1 value=-85.25869097744408 1593907200000000000\n",
      "INSERT device_frmpayload_data_index,application_name=home-water,dev_eui=04b6481955196490,device_name=water-meter-01,f_port=1 value=-85.09996917293256 1593993600000000000\n",
      "INSERT device_frmpayload_data_index,application_name=home-water,dev_eui=04b6481955196490,device_name=water-meter-01,f_port=1 value=-84.9412473684215 1594080000000000000\n",
      "INSERT device_frmpayload_data_index,application_name=home-water,dev_eui=04b6481955196490,device_name=water-meter-01,f_port=1 value=-84.78252556390999 1594166400000000000\n",
      "INSERT device_frmpayload_data_index,application_name=home-water,dev_eui=04b6481955196490,device_name=water-meter-01,f_port=1 value=-84.62380375939892 1594252800000000000\n",
      "INSERT device_frmpayload_data_index,application_name=home-water,dev_eui=04b6481955196490,device_name=water-meter-01,f_port=1 value=-84.46508195488741 1594339200000000000\n",
      "INSERT device_frmpayload_data_index,application_name=home-water,dev_eui=04b6481955196490,device_name=water-meter-01,f_port=1 value=-84.30636015037635 1594425600000000000\n",
      "INSERT device_frmpayload_data_index,application_name=home-water,dev_eui=04b6481955196490,device_name=water-meter-01,f_port=1 value=-84.14763834586483 1594512000000000000\n",
      "INSERT device_frmpayload_data_index,application_name=home-water,dev_eui=04b6481955196490,device_name=water-meter-01,f_port=1 value=-83.98891654135377 1594598400000000000\n",
      "INSERT device_frmpayload_data_index,application_name=home-water,dev_eui=04b6481955196490,device_name=water-meter-01,f_port=1 value=-83.83019473684226 1594684800000000000\n",
      "INSERT device_frmpayload_data_index,application_name=home-water,dev_eui=04b6481955196490,device_name=water-meter-01,f_port=1 value=-83.6714729323312 1594771200000000000\n",
      "INSERT device_frmpayload_data_index,application_name=home-water,dev_eui=04b6481955196490,device_name=water-meter-01,f_port=1 value=-83.51275112781968 1594857600000000000\n",
      "INSERT device_frmpayload_data_index,application_name=home-water,dev_eui=04b6481955196490,device_name=water-meter-01,f_port=1 value=-83.35402932330862 1594944000000000000\n",
      "INSERT device_frmpayload_data_index,application_name=home-water,dev_eui=04b6481955196490,device_name=water-meter-01,f_port=1 value=-83.19530751879711 1595030400000000000\n",
      "INSERT device_frmpayload_data_index,application_name=home-water,dev_eui=04b6481955196490,device_name=water-meter-01,f_port=1 value=-83.03658571428605 1595116800000000000\n",
      "INSERT device_frmpayload_data_index,application_name=home-water,dev_eui=04b6481955196490,device_name=water-meter-01,f_port=1 value=-82.87786390977453 1595203200000000000\n",
      "INSERT device_frmpayload_data_index,application_name=home-water,dev_eui=04b6481955196490,device_name=water-meter-01,f_port=1 value=-82.71914210526347 1595289600000000000\n",
      "INSERT device_frmpayload_data_index,application_name=home-water,dev_eui=04b6481955196490,device_name=water-meter-01,f_port=1 value=-82.56042030075196 1595376000000000000\n",
      "INSERT device_frmpayload_data_index,application_name=home-water,dev_eui=04b6481955196490,device_name=water-meter-01,f_port=1 value=-82.4016984962409 1595462400000000000\n",
      "INSERT device_frmpayload_data_index,application_name=home-water,dev_eui=04b6481955196490,device_name=water-meter-01,f_port=1 value=-82.24297669172938 1595548800000000000\n",
      "INSERT device_frmpayload_data_index,application_name=home-water,dev_eui=04b6481955196490,device_name=water-meter-01,f_port=1 value=-82.08425488721832 1595635200000000000\n",
      "INSERT device_frmpayload_data_index,application_name=home-water,dev_eui=04b6481955196490,device_name=water-meter-01,f_port=1 value=-81.9255330827068 1595721600000000000\n",
      "INSERT device_frmpayload_data_index,application_name=home-water,dev_eui=04b6481955196490,device_name=water-meter-01,f_port=1 value=-81.76681127819575 1595808000000000000\n",
      "INSERT device_frmpayload_data_index,application_name=home-water,dev_eui=04b6481955196490,device_name=water-meter-01,f_port=1 value=-81.60808947368469 1595894400000000000\n",
      "INSERT device_frmpayload_data_index,application_name=home-water,dev_eui=04b6481955196490,device_name=water-meter-01,f_port=1 value=-81.44936766917317 1595980800000000000\n",
      "INSERT device_frmpayload_data_index,application_name=home-water,dev_eui=04b6481955196490,device_name=water-meter-01,f_port=1 value=-81.29064586466211 1596067200000000000\n",
      "INSERT device_frmpayload_data_index,application_name=home-water,dev_eui=04b6481955196490,device_name=water-meter-01,f_port=1 value=-81.1319240601506 1596153600000000000\n",
      "INSERT device_frmpayload_data_index,application_name=home-water,dev_eui=04b6481955196490,device_name=water-meter-01,f_port=1 value=-80.97320225563953 1596240000000000000\n",
      "INSERT device_frmpayload_data_index,application_name=home-water,dev_eui=04b6481955196490,device_name=water-meter-01,f_port=1 value=-80.81448045112802 1596326400000000000\n",
      "INSERT device_frmpayload_data_index,application_name=home-water,dev_eui=04b6481955196490,device_name=water-meter-01,f_port=1 value=-80.65575864661696 1596412800000000000\n",
      "INSERT device_frmpayload_data_index,application_name=home-water,dev_eui=04b6481955196490,device_name=water-meter-01,f_port=1 value=-80.49703684210544 1596499200000000000\n",
      "INSERT device_frmpayload_data_index,application_name=home-water,dev_eui=04b6481955196490,device_name=water-meter-01,f_port=1 value=-80.33831503759438 1596585600000000000\n",
      "INSERT device_frmpayload_data_index,application_name=home-water,dev_eui=04b6481955196490,device_name=water-meter-01,f_port=1 value=-80.17959323308287 1596672000000000000\n",
      "INSERT device_frmpayload_data_index,application_name=home-water,dev_eui=04b6481955196490,device_name=water-meter-01,f_port=1 value=-80.02087142857181 1596758400000000000\n",
      "INSERT device_frmpayload_data_index,application_name=home-water,dev_eui=04b6481955196490,device_name=water-meter-01,f_port=1 value=-79.8621496240603 1596844800000000000\n",
      "INSERT device_frmpayload_data_index,application_name=home-water,dev_eui=04b6481955196490,device_name=water-meter-01,f_port=1 value=-79.70342781954923 1596931200000000000\n",
      "INSERT device_frmpayload_data_index,application_name=home-water,dev_eui=04b6481955196490,device_name=water-meter-01,f_port=1 value=-79.54470601503772 1597017600000000000\n",
      "INSERT device_frmpayload_data_index,application_name=home-water,dev_eui=04b6481955196490,device_name=water-meter-01,f_port=1 value=-79.38598421052666 1597104000000000000\n",
      "INSERT device_frmpayload_data_index,application_name=home-water,dev_eui=04b6481955196490,device_name=water-meter-01,f_port=1 value=-79.22726240601514 1597190400000000000\n",
      "INSERT device_frmpayload_data_index,application_name=home-water,dev_eui=04b6481955196490,device_name=water-meter-01,f_port=1 value=-79.06854060150408 1597276800000000000\n",
      "INSERT device_frmpayload_data_index,application_name=home-water,dev_eui=04b6481955196490,device_name=water-meter-01,f_port=1 value=-78.90981879699257 1597363200000000000\n",
      "INSERT device_frmpayload_data_index,application_name=home-water,dev_eui=04b6481955196490,device_name=water-meter-01,f_port=1 value=-78.75109699248151 1597449600000000000\n",
      "INSERT device_frmpayload_data_index,application_name=home-water,dev_eui=04b6481955196490,device_name=water-meter-01,f_port=1 value=-78.59237518796999 1597536000000000000\n",
      "INSERT device_frmpayload_data_index,application_name=home-water,dev_eui=04b6481955196490,device_name=water-meter-01,f_port=1 value=-78.43365338345893 1597622400000000000\n",
      "INSERT device_frmpayload_data_index,application_name=home-water,dev_eui=04b6481955196490,device_name=water-meter-01,f_port=1 value=-78.27493157894742 1597708800000000000\n",
      "INSERT device_frmpayload_data_index,application_name=home-water,dev_eui=04b6481955196490,device_name=water-meter-01,f_port=1 value=-78.11620977443636 1597795200000000000\n",
      "INSERT device_frmpayload_data_index,application_name=home-water,dev_eui=04b6481955196490,device_name=water-meter-01,f_port=1 value=-77.95748796992484 1597881600000000000\n",
      "INSERT device_frmpayload_data_index,application_name=home-water,dev_eui=04b6481955196490,device_name=water-meter-01,f_port=1 value=-77.79876616541378 1597968000000000000\n",
      "INSERT device_frmpayload_data_index,application_name=home-water,dev_eui=04b6481955196490,device_name=water-meter-01,f_port=1 value=-77.64004436090227 1598054400000000000\n",
      "INSERT device_frmpayload_data_index,application_name=home-water,dev_eui=04b6481955196490,device_name=water-meter-01,f_port=1 value=-77.4813225563912 1598140800000000000\n",
      "INSERT device_frmpayload_data_index,application_name=home-water,dev_eui=04b6481955196490,device_name=water-meter-01,f_port=1 value=-77.32260075188015 1598227200000000000\n",
      "INSERT device_frmpayload_data_index,application_name=home-water,dev_eui=04b6481955196490,device_name=water-meter-01,f_port=1 value=-77.16387894736863 1598313600000000000\n",
      "INSERT device_frmpayload_data_index,application_name=home-water,dev_eui=04b6481955196490,device_name=water-meter-01,f_port=1 value=-77.00515714285757 1598400000000000000\n",
      "INSERT device_frmpayload_data_index,application_name=home-water,dev_eui=04b6481955196490,device_name=water-meter-01,f_port=1 value=-76.84643533834605 1598486400000000000\n",
      "INSERT device_frmpayload_data_index,application_name=home-water,dev_eui=04b6481955196490,device_name=water-meter-01,f_port=1 value=-76.687713533835 1598572800000000000\n",
      "INSERT device_frmpayload_data_index,application_name=home-water,dev_eui=04b6481955196490,device_name=water-meter-01,f_port=1 value=-76.52899172932348 1598659200000000000\n",
      "INSERT device_frmpayload_data_index,application_name=home-water,dev_eui=04b6481955196490,device_name=water-meter-01,f_port=1 value=-76.37026992481242 1598745600000000000\n",
      "INSERT device_frmpayload_data_index,application_name=home-water,dev_eui=04b6481955196490,device_name=water-meter-01,f_port=1 value=-76.2115481203009 1598832000000000000\n",
      "INSERT device_frmpayload_data_index,application_name=home-water,dev_eui=04b6481955196490,device_name=water-meter-01,f_port=1 value=-76.05282631578984 1598918400000000000\n",
      "INSERT device_frmpayload_data_index,application_name=home-water,dev_eui=04b6481955196490,device_name=water-meter-01,f_port=1 value=-75.89410451127833 1599004800000000000\n",
      "INSERT device_frmpayload_data_index,application_name=home-water,dev_eui=04b6481955196490,device_name=water-meter-01,f_port=1 value=-75.73538270676727 1599091200000000000\n",
      "INSERT device_frmpayload_data_index,application_name=home-water,dev_eui=04b6481955196490,device_name=water-meter-01,f_port=1 value=-75.57666090225575 1599177600000000000\n",
      "INSERT device_frmpayload_data_index,application_name=home-water,dev_eui=04b6481955196490,device_name=water-meter-01,f_port=1 value=-75.41793909774469 1599264000000000000\n",
      "INSERT device_frmpayload_data_index,application_name=home-water,dev_eui=04b6481955196490,device_name=water-meter-01,f_port=1 value=-75.25921729323318 1599350400000000000\n",
      "INSERT device_frmpayload_data_index,application_name=home-water,dev_eui=04b6481955196490,device_name=water-meter-01,f_port=1 value=-75.10049548872212 1599436800000000000\n",
      "INSERT device_frmpayload_data_index,application_name=home-water,dev_eui=04b6481955196490,device_name=water-meter-01,f_port=1 value=-74.9417736842106 1599523200000000000\n",
      "INSERT device_frmpayload_data_index,application_name=home-water,dev_eui=04b6481955196490,device_name=water-meter-01,f_port=1 value=-74.78305187969954 1599609600000000000\n",
      "INSERT device_frmpayload_data_index,application_name=home-water,dev_eui=04b6481955196490,device_name=water-meter-01,f_port=1 value=-74.62433007518803 1599696000000000000\n",
      "INSERT device_frmpayload_data_index,application_name=home-water,dev_eui=04b6481955196490,device_name=water-meter-01,f_port=1 value=-74.46560827067697 1599782400000000000\n",
      "INSERT device_frmpayload_data_index,application_name=home-water,dev_eui=04b6481955196490,device_name=water-meter-01,f_port=1 value=-74.30688646616545 1599868800000000000\n",
      "INSERT device_frmpayload_data_index,application_name=home-water,dev_eui=04b6481955196490,device_name=water-meter-01,f_port=1 value=-74.14816466165439 1599955200000000000\n",
      "INSERT device_frmpayload_data_index,application_name=home-water,dev_eui=04b6481955196490,device_name=water-meter-01,f_port=1 value=-73.98944285714288 1600041600000000000\n",
      "INSERT device_frmpayload_data_index,application_name=home-water,dev_eui=04b6481955196490,device_name=water-meter-01,f_port=1 value=-73.83072105263182 1600128000000000000\n",
      "INSERT device_frmpayload_data_index,application_name=home-water,dev_eui=04b6481955196490,device_name=water-meter-01,f_port=1 value=-73.6719992481203 1600214400000000000\n",
      "INSERT device_frmpayload_data_index,application_name=home-water,dev_eui=04b6481955196490,device_name=water-meter-01,f_port=1 value=-73.51327744360924 1600300800000000000\n",
      "INSERT device_frmpayload_data_index,application_name=home-water,dev_eui=04b6481955196490,device_name=water-meter-01,f_port=1 value=-73.35455563909818 1600387200000000000\n",
      "INSERT device_frmpayload_data_index,application_name=home-water,dev_eui=04b6481955196490,device_name=water-meter-01,f_port=1 value=-73.19583383458667 1600473600000000000\n",
      "INSERT device_frmpayload_data_index,application_name=home-water,dev_eui=04b6481955196490,device_name=water-meter-01,f_port=1 value=-73.0371120300756 1600560000000000000\n",
      "INSERT device_frmpayload_data_index,application_name=home-water,dev_eui=04b6481955196490,device_name=water-meter-01,f_port=1 value=-72.87839022556409 1600646400000000000\n",
      "INSERT device_frmpayload_data_index,application_name=home-water,dev_eui=04b6481955196490,device_name=water-meter-01,f_port=1 value=-72.71966842105303 1600732800000000000\n",
      "INSERT device_frmpayload_data_index,application_name=home-water,dev_eui=04b6481955196490,device_name=water-meter-01,f_port=1 value=-72.56094661654151 1600819200000000000\n",
      "INSERT device_frmpayload_data_index,application_name=home-water,dev_eui=04b6481955196490,device_name=water-meter-01,f_port=1 value=-72.40222481203045 1600905600000000000\n",
      "INSERT device_frmpayload_data_index,application_name=home-water,dev_eui=04b6481955196490,device_name=water-meter-01,f_port=1 value=-72.24350300751894 1600992000000000000\n",
      "INSERT device_frmpayload_data_index,application_name=home-water,dev_eui=04b6481955196490,device_name=water-meter-01,f_port=1 value=-72.08478120300788 1601078400000000000\n",
      "INSERT device_frmpayload_data_index,application_name=home-water,dev_eui=04b6481955196490,device_name=water-meter-01,f_port=1 value=-71.92605939849636 1601164800000000000\n",
      "INSERT device_frmpayload_data_index,application_name=home-water,dev_eui=04b6481955196490,device_name=water-meter-01,f_port=1 value=-71.7673375939853 1601251200000000000\n",
      "INSERT device_frmpayload_data_index,application_name=home-water,dev_eui=04b6481955196490,device_name=water-meter-01,f_port=1 value=-71.60861578947379 1601337600000000000\n",
      "INSERT device_frmpayload_data_index,application_name=home-water,dev_eui=04b6481955196490,device_name=water-meter-01,f_port=1 value=-71.44989398496273 1601424000000000000\n",
      "INSERT device_frmpayload_data_index,application_name=home-water,dev_eui=04b6481955196490,device_name=water-meter-01,f_port=1 value=-71.29117218045121 1601510400000000000\n",
      "INSERT device_frmpayload_data_index,application_name=home-water,dev_eui=04b6481955196490,device_name=water-meter-01,f_port=1 value=-71.13245037594015 1601596800000000000\n",
      "INSERT device_frmpayload_data_index,application_name=home-water,dev_eui=04b6481955196490,device_name=water-meter-01,f_port=1 value=-70.97372857142864 1601683200000000000\n",
      "INSERT device_frmpayload_data_index,application_name=home-water,dev_eui=04b6481955196490,device_name=water-meter-01,f_port=1 value=-70.81500676691758 1601769600000000000\n",
      "INSERT device_frmpayload_data_index,application_name=home-water,dev_eui=04b6481955196490,device_name=water-meter-01,f_port=1 value=-70.65628496240606 1601856000000000000\n",
      "INSERT device_frmpayload_data_index,application_name=home-water,dev_eui=04b6481955196490,device_name=water-meter-01,f_port=1 value=-70.497563157895 1601942400000000000\n",
      "INSERT device_frmpayload_data_index,application_name=home-water,dev_eui=04b6481955196490,device_name=water-meter-01,f_port=1 value=-70.33884135338349 1602028800000000000\n",
      "INSERT device_frmpayload_data_index,application_name=home-water,dev_eui=04b6481955196490,device_name=water-meter-01,f_port=1 value=-70.18011954887243 1602115200000000000\n",
      "INSERT device_frmpayload_data_index,application_name=home-water,dev_eui=04b6481955196490,device_name=water-meter-01,f_port=1 value=-70.02139774436091 1602201600000000000\n",
      "INSERT device_frmpayload_data_index,application_name=home-water,dev_eui=04b6481955196490,device_name=water-meter-01,f_port=1 value=-69.86267593984985 1602288000000000000\n",
      "INSERT device_frmpayload_data_index,application_name=home-water,dev_eui=04b6481955196490,device_name=water-meter-01,f_port=1 value=-69.70395413533834 1602374400000000000\n",
      "INSERT device_frmpayload_data_index,application_name=home-water,dev_eui=04b6481955196490,device_name=water-meter-01,f_port=1 value=-69.54523233082728 1602460800000000000\n",
      "INSERT device_frmpayload_data_index,application_name=home-water,dev_eui=04b6481955196490,device_name=water-meter-01,f_port=1 value=-69.38651052631576 1602547200000000000\n",
      "INSERT device_frmpayload_data_index,application_name=home-water,dev_eui=04b6481955196490,device_name=water-meter-01,f_port=1 value=-69.2277887218047 1602633600000000000\n",
      "INSERT device_frmpayload_data_index,application_name=home-water,dev_eui=04b6481955196490,device_name=water-meter-01,f_port=1 value=-69.06906691729364 1602720000000000000\n",
      "INSERT device_frmpayload_data_index,application_name=home-water,dev_eui=04b6481955196490,device_name=water-meter-01,f_port=1 value=-68.91034511278212 1602806400000000000\n",
      "INSERT device_frmpayload_data_index,application_name=home-water,dev_eui=04b6481955196490,device_name=water-meter-01,f_port=1 value=-68.75162330827106 1602892800000000000\n",
      "INSERT device_frmpayload_data_index,application_name=home-water,dev_eui=04b6481955196490,device_name=water-meter-01,f_port=1 value=-68.59290150375955 1602979200000000000\n",
      "INSERT device_frmpayload_data_index,application_name=home-water,dev_eui=04b6481955196490,device_name=water-meter-01,f_port=1 value=-68.43417969924849 1603065600000000000\n",
      "INSERT device_frmpayload_data_index,application_name=home-water,dev_eui=04b6481955196490,device_name=water-meter-01,f_port=1 value=-68.27545789473697 1603152000000000000\n",
      "INSERT device_frmpayload_data_index,application_name=home-water,dev_eui=04b6481955196490,device_name=water-meter-01,f_port=1 value=-68.11673609022591 1603238400000000000\n",
      "INSERT device_frmpayload_data_index,application_name=home-water,dev_eui=04b6481955196490,device_name=water-meter-01,f_port=1 value=-67.9580142857144 1603324800000000000\n",
      "INSERT device_frmpayload_data_index,application_name=home-water,dev_eui=04b6481955196490,device_name=water-meter-01,f_port=1 value=-67.79929248120334 1603411200000000000\n",
      "INSERT device_frmpayload_data_index,application_name=home-water,dev_eui=04b6481955196490,device_name=water-meter-01,f_port=1 value=-67.64057067669182 1603497600000000000\n",
      "INSERT device_frmpayload_data_index,application_name=home-water,dev_eui=04b6481955196490,device_name=water-meter-01,f_port=1 value=-67.48184887218076 1603584000000000000\n",
      "INSERT device_frmpayload_data_index,application_name=home-water,dev_eui=04b6481955196490,device_name=water-meter-01,f_port=1 value=-67.32312706766925 1603670400000000000\n",
      "INSERT device_frmpayload_data_index,application_name=home-water,dev_eui=04b6481955196490,device_name=water-meter-01,f_port=1 value=-67.16440526315819 1603756800000000000\n",
      "INSERT device_frmpayload_data_index,application_name=home-water,dev_eui=04b6481955196490,device_name=water-meter-01,f_port=1 value=-67.00568345864667 1603843200000000000\n",
      "INSERT device_frmpayload_data_index,application_name=home-water,dev_eui=04b6481955196490,device_name=water-meter-01,f_port=1 value=-66.84696165413561 1603929600000000000\n",
      "INSERT device_frmpayload_data_index,application_name=home-water,dev_eui=04b6481955196490,device_name=water-meter-01,f_port=1 value=-66.6882398496241 1604016000000000000\n",
      "INSERT device_frmpayload_data_index,application_name=home-water,dev_eui=04b6481955196490,device_name=water-meter-01,f_port=1 value=-66.52951804511304 1604102400000000000\n",
      "INSERT device_frmpayload_data_index,application_name=home-water,dev_eui=04b6481955196490,device_name=water-meter-01,f_port=1 value=-66.37079624060152 1604188800000000000\n",
      "INSERT device_frmpayload_data_index,application_name=home-water,dev_eui=04b6481955196490,device_name=water-meter-01,f_port=1 value=-66.21207443609046 1604275200000000000\n",
      "INSERT device_frmpayload_data_index,application_name=home-water,dev_eui=04b6481955196490,device_name=water-meter-01,f_port=1 value=-66.05335263157895 1604361600000000000\n",
      "INSERT device_frmpayload_data_index,application_name=home-water,dev_eui=04b6481955196490,device_name=water-meter-01,f_port=1 value=-65.89463082706789 1604448000000000000\n",
      "INSERT device_frmpayload_data_index,application_name=home-water,dev_eui=04b6481955196490,device_name=water-meter-01,f_port=1 value=-65.73590902255637 1604534400000000000\n",
      "INSERT device_frmpayload_data_index,application_name=home-water,dev_eui=04b6481955196490,device_name=water-meter-01,f_port=1 value=-65.57718721804531 1604620800000000000\n",
      "INSERT device_frmpayload_data_index,application_name=home-water,dev_eui=04b6481955196490,device_name=water-meter-01,f_port=1 value=-65.4184654135338 1604707200000000000\n",
      "INSERT device_frmpayload_data_index,application_name=home-water,dev_eui=04b6481955196490,device_name=water-meter-01,f_port=1 value=-65.25974360902273 1604793600000000000\n",
      "INSERT device_frmpayload_data_index,application_name=home-water,dev_eui=04b6481955196490,device_name=water-meter-01,f_port=1 value=-65.10102180451122 1604880000000000000\n",
      "INSERT device_frmpayload_data_index,application_name=home-water,dev_eui=04b6481955196490,device_name=water-meter-01,f_port=1 value=-64.94230000000016 1604966400000000000\n",
      "INSERT device_frmpayload_data_index,application_name=home-water,dev_eui=04b6481955196490,device_name=water-meter-01,f_port=1 value=-64.70736329113925 1605052800000000000\n",
      "INSERT device_frmpayload_data_index,application_name=home-water,dev_eui=04b6481955196490,device_name=water-meter-01,f_port=1 value=-64.47242658227879 1605139200000000000\n",
      "INSERT device_frmpayload_data_index,application_name=home-water,dev_eui=04b6481955196490,device_name=water-meter-01,f_port=1 value=-64.23748987341787 1605225600000000000\n",
      "INSERT device_frmpayload_data_index,application_name=home-water,dev_eui=04b6481955196490,device_name=water-meter-01,f_port=1 value=-64.00255316455696 1605312000000000000\n",
      "INSERT device_frmpayload_data_index,application_name=home-water,dev_eui=04b6481955196490,device_name=water-meter-01,f_port=1 value=-63.7676164556965 1605398400000000000\n",
      "INSERT device_frmpayload_data_index,application_name=home-water,dev_eui=04b6481955196490,device_name=water-meter-01,f_port=1 value=-63.53267974683558 1605484800000000000\n",
      "INSERT device_frmpayload_data_index,application_name=home-water,dev_eui=04b6481955196490,device_name=water-meter-01,f_port=1 value=-63.29774303797467 1605571200000000000\n",
      "INSERT device_frmpayload_data_index,application_name=home-water,dev_eui=04b6481955196490,device_name=water-meter-01,f_port=1 value=-63.06280632911421 1605657600000000000\n",
      "INSERT device_frmpayload_data_index,application_name=home-water,dev_eui=04b6481955196490,device_name=water-meter-01,f_port=1 value=-62.827869620253296 1605744000000000000\n",
      "INSERT device_frmpayload_data_index,application_name=home-water,dev_eui=04b6481955196490,device_name=water-meter-01,f_port=1 value=-62.59293291139238 1605830400000000000\n",
      "INSERT device_frmpayload_data_index,application_name=home-water,dev_eui=04b6481955196490,device_name=water-meter-01,f_port=1 value=-62.35799620253192 1605916800000000000\n",
      "INSERT device_frmpayload_data_index,application_name=home-water,dev_eui=04b6481955196490,device_name=water-meter-01,f_port=1 value=-62.12305949367101 1606003200000000000\n",
      "INSERT device_frmpayload_data_index,application_name=home-water,dev_eui=04b6481955196490,device_name=water-meter-01,f_port=1 value=-61.88812278481009 1606089600000000000\n",
      "INSERT device_frmpayload_data_index,application_name=home-water,dev_eui=04b6481955196490,device_name=water-meter-01,f_port=1 value=-61.653186075949634 1606176000000000000\n",
      "INSERT device_frmpayload_data_index,application_name=home-water,dev_eui=04b6481955196490,device_name=water-meter-01,f_port=1 value=-61.41824936708872 1606262400000000000\n",
      "INSERT device_frmpayload_data_index,application_name=home-water,dev_eui=04b6481955196490,device_name=water-meter-01,f_port=1 value=-61.183312658227806 1606348800000000000\n",
      "INSERT device_frmpayload_data_index,application_name=home-water,dev_eui=04b6481955196490,device_name=water-meter-01,f_port=1 value=-60.948375949367346 1606435200000000000\n",
      "INSERT device_frmpayload_data_index,application_name=home-water,dev_eui=04b6481955196490,device_name=water-meter-01,f_port=1 value=-60.71343924050643 1606521600000000000\n",
      "INSERT device_frmpayload_data_index,application_name=home-water,dev_eui=04b6481955196490,device_name=water-meter-01,f_port=1 value=-60.47850253164552 1606608000000000000\n",
      "INSERT device_frmpayload_data_index,application_name=home-water,dev_eui=04b6481955196490,device_name=water-meter-01,f_port=1 value=-60.24356582278506 1606694400000000000\n",
      "INSERT device_frmpayload_data_index,application_name=home-water,dev_eui=04b6481955196490,device_name=water-meter-01,f_port=1 value=-60.008629113924144 1606780800000000000\n",
      "INSERT device_frmpayload_data_index,application_name=home-water,dev_eui=04b6481955196490,device_name=water-meter-01,f_port=1 value=-59.773692405063684 1606867200000000000\n",
      "INSERT device_frmpayload_data_index,application_name=home-water,dev_eui=04b6481955196490,device_name=water-meter-01,f_port=1 value=-59.53875569620277 1606953600000000000\n",
      "INSERT device_frmpayload_data_index,application_name=home-water,dev_eui=04b6481955196490,device_name=water-meter-01,f_port=1 value=-59.303818987341856 1607040000000000000\n",
      "INSERT device_frmpayload_data_index,application_name=home-water,dev_eui=04b6481955196490,device_name=water-meter-01,f_port=1 value=-59.0688822784814 1607126400000000000\n",
      "INSERT device_frmpayload_data_index,application_name=home-water,dev_eui=04b6481955196490,device_name=water-meter-01,f_port=1 value=-58.83394556962048 1607212800000000000\n",
      "INSERT device_frmpayload_data_index,application_name=home-water,dev_eui=04b6481955196490,device_name=water-meter-01,f_port=1 value=-58.59900886075957 1607299200000000000\n",
      "INSERT device_frmpayload_data_index,application_name=home-water,dev_eui=04b6481955196490,device_name=water-meter-01,f_port=1 value=-58.36407215189911 1607385600000000000\n",
      "INSERT device_frmpayload_data_index,application_name=home-water,dev_eui=04b6481955196490,device_name=water-meter-01,f_port=1 value=-58.129135443038194 1607472000000000000\n",
      "INSERT device_frmpayload_data_index,application_name=home-water,dev_eui=04b6481955196490,device_name=water-meter-01,f_port=1 value=-57.89419873417728 1607558400000000000\n",
      "INSERT device_frmpayload_data_index,application_name=home-water,dev_eui=04b6481955196490,device_name=water-meter-01,f_port=1 value=-57.65926202531682 1607644800000000000\n",
      "INSERT device_frmpayload_data_index,application_name=home-water,dev_eui=04b6481955196490,device_name=water-meter-01,f_port=1 value=-57.424325316455906 1607731200000000000\n",
      "INSERT device_frmpayload_data_index,application_name=home-water,dev_eui=04b6481955196490,device_name=water-meter-01,f_port=1 value=-57.18938860759499 1607817600000000000\n",
      "INSERT device_frmpayload_data_index,application_name=home-water,dev_eui=04b6481955196490,device_name=water-meter-01,f_port=1 value=-56.95445189873453 1607904000000000000\n",
      "INSERT device_frmpayload_data_index,application_name=home-water,dev_eui=04b6481955196490,device_name=water-meter-01,f_port=1 value=-56.71951518987362 1607990400000000000\n",
      "INSERT device_frmpayload_data_index,application_name=home-water,dev_eui=04b6481955196490,device_name=water-meter-01,f_port=1 value=-56.484578481012704 1608076800000000000\n",
      "INSERT device_frmpayload_data_index,application_name=home-water,dev_eui=04b6481955196490,device_name=water-meter-01,f_port=1 value=-56.249641772152245 1608163200000000000\n",
      "INSERT device_frmpayload_data_index,application_name=home-water,dev_eui=04b6481955196490,device_name=water-meter-01,f_port=1 value=-56.01470506329133 1608249600000000000\n",
      "INSERT device_frmpayload_data_index,application_name=home-water,dev_eui=04b6481955196490,device_name=water-meter-01,f_port=1 value=-55.779768354430416 1608336000000000000\n",
      "INSERT device_frmpayload_data_index,application_name=home-water,dev_eui=04b6481955196490,device_name=water-meter-01,f_port=1 value=-55.54483164556996 1608422400000000000\n",
      "INSERT device_frmpayload_data_index,application_name=home-water,dev_eui=04b6481955196490,device_name=water-meter-01,f_port=1 value=-55.30989493670904 1608508800000000000\n",
      "INSERT device_frmpayload_data_index,application_name=home-water,dev_eui=04b6481955196490,device_name=water-meter-01,f_port=1 value=-55.07495822784813 1608595200000000000\n",
      "INSERT device_frmpayload_data_index,application_name=home-water,dev_eui=04b6481955196490,device_name=water-meter-01,f_port=1 value=-54.84002151898767 1608681600000000000\n",
      "INSERT device_frmpayload_data_index,application_name=home-water,dev_eui=04b6481955196490,device_name=water-meter-01,f_port=1 value=-54.605084810126755 1608768000000000000\n",
      "INSERT device_frmpayload_data_index,application_name=home-water,dev_eui=04b6481955196490,device_name=water-meter-01,f_port=1 value=-54.37014810126584 1608854400000000000\n",
      "INSERT device_frmpayload_data_index,application_name=home-water,dev_eui=04b6481955196490,device_name=water-meter-01,f_port=1 value=-54.13521139240538 1608940800000000000\n",
      "INSERT device_frmpayload_data_index,application_name=home-water,dev_eui=04b6481955196490,device_name=water-meter-01,f_port=1 value=-53.90027468354447 1609027200000000000\n",
      "INSERT device_frmpayload_data_index,application_name=home-water,dev_eui=04b6481955196490,device_name=water-meter-01,f_port=1 value=-53.66533797468355 1609113600000000000\n",
      "INSERT device_frmpayload_data_index,application_name=home-water,dev_eui=04b6481955196490,device_name=water-meter-01,f_port=1 value=-53.43040126582309 1609200000000000000\n",
      "INSERT device_frmpayload_data_index,application_name=home-water,dev_eui=04b6481955196490,device_name=water-meter-01,f_port=1 value=-53.19546455696218 1609286400000000000\n",
      "INSERT device_frmpayload_data_index,application_name=home-water,dev_eui=04b6481955196490,device_name=water-meter-01,f_port=1 value=-52.960527848101265 1609372800000000000\n",
      "INSERT device_frmpayload_data_index,application_name=home-water,dev_eui=04b6481955196490,device_name=water-meter-01,f_port=1 value=-52.725591139240805 1609459200000000000\n",
      "INSERT device_frmpayload_data_index,application_name=home-water,dev_eui=04b6481955196490,device_name=water-meter-01,f_port=1 value=-52.49065443037989 1609545600000000000\n",
      "INSERT device_frmpayload_data_index,application_name=home-water,dev_eui=04b6481955196490,device_name=water-meter-01,f_port=1 value=-52.25571772151898 1609632000000000000\n",
      "INSERT device_frmpayload_data_index,application_name=home-water,dev_eui=04b6481955196490,device_name=water-meter-01,f_port=1 value=-52.02078101265852 1609718400000000000\n",
      "INSERT device_frmpayload_data_index,application_name=home-water,dev_eui=04b6481955196490,device_name=water-meter-01,f_port=1 value=-51.7858443037976 1609804800000000000\n",
      "INSERT device_frmpayload_data_index,application_name=home-water,dev_eui=04b6481955196490,device_name=water-meter-01,f_port=1 value=-51.55090759493669 1609891200000000000\n",
      "INSERT device_frmpayload_data_index,application_name=home-water,dev_eui=04b6481955196490,device_name=water-meter-01,f_port=1 value=-51.31597088607623 1609977600000000000\n",
      "INSERT device_frmpayload_data_index,application_name=home-water,dev_eui=04b6481955196490,device_name=water-meter-01,f_port=1 value=-51.081034177215315 1610064000000000000\n",
      "INSERT device_frmpayload_data_index,application_name=home-water,dev_eui=04b6481955196490,device_name=water-meter-01,f_port=1 value=-50.846097468354856 1610150400000000000\n",
      "INSERT device_frmpayload_data_index,application_name=home-water,dev_eui=04b6481955196490,device_name=water-meter-01,f_port=1 value=-50.61116075949394 1610236800000000000\n",
      "INSERT device_frmpayload_data_index,application_name=home-water,dev_eui=04b6481955196490,device_name=water-meter-01,f_port=1 value=-50.37622405063303 1610323200000000000\n",
      "INSERT device_frmpayload_data_index,application_name=home-water,dev_eui=04b6481955196490,device_name=water-meter-01,f_port=1 value=-50.14128734177257 1610409600000000000\n",
      "INSERT device_frmpayload_data_index,application_name=home-water,dev_eui=04b6481955196490,device_name=water-meter-01,f_port=1 value=-49.90635063291165 1610496000000000000\n",
      "INSERT device_frmpayload_data_index,application_name=home-water,dev_eui=04b6481955196490,device_name=water-meter-01,f_port=1 value=-49.67141392405074 1610582400000000000\n",
      "INSERT device_frmpayload_data_index,application_name=home-water,dev_eui=04b6481955196490,device_name=water-meter-01,f_port=1 value=-49.43647721519028 1610668800000000000\n",
      "INSERT device_frmpayload_data_index,application_name=home-water,dev_eui=04b6481955196490,device_name=water-meter-01,f_port=1 value=-49.201540506329366 1610755200000000000\n",
      "INSERT device_frmpayload_data_index,application_name=home-water,dev_eui=04b6481955196490,device_name=water-meter-01,f_port=1 value=-48.96660379746845 1610841600000000000\n",
      "INSERT device_frmpayload_data_index,application_name=home-water,dev_eui=04b6481955196490,device_name=water-meter-01,f_port=1 value=-48.73166708860799 1610928000000000000\n",
      "INSERT device_frmpayload_data_index,application_name=home-water,dev_eui=04b6481955196490,device_name=water-meter-01,f_port=1 value=-48.49673037974708 1611014400000000000\n",
      "INSERT device_frmpayload_data_index,application_name=home-water,dev_eui=04b6481955196490,device_name=water-meter-01,f_port=1 value=-48.26179367088616 1611100800000000000\n",
      "INSERT device_frmpayload_data_index,application_name=home-water,dev_eui=04b6481955196490,device_name=water-meter-01,f_port=1 value=-48.026856962025704 1611187200000000000\n",
      "INSERT device_frmpayload_data_index,application_name=home-water,dev_eui=04b6481955196490,device_name=water-meter-01,f_port=1 value=-47.79192025316479 1611273600000000000\n",
      "INSERT device_frmpayload_data_index,application_name=home-water,dev_eui=04b6481955196490,device_name=water-meter-01,f_port=1 value=-47.556983544303876 1611360000000000000\n",
      "INSERT device_frmpayload_data_index,application_name=home-water,dev_eui=04b6481955196490,device_name=water-meter-01,f_port=1 value=-47.322046835443416 1611446400000000000\n",
      "INSERT device_frmpayload_data_index,application_name=home-water,dev_eui=04b6481955196490,device_name=water-meter-01,f_port=1 value=-47.0871101265825 1611532800000000000\n",
      "INSERT device_frmpayload_data_index,application_name=home-water,dev_eui=04b6481955196490,device_name=water-meter-01,f_port=1 value=-46.85217341772159 1611619200000000000\n",
      "INSERT device_frmpayload_data_index,application_name=home-water,dev_eui=04b6481955196490,device_name=water-meter-01,f_port=1 value=-46.61723670886113 1611705600000000000\n",
      "INSERT device_frmpayload_data_index,application_name=home-water,dev_eui=04b6481955196490,device_name=water-meter-01,f_port=1 value=-46.382300000000214 1611792000000000000\n",
      "INSERT device_frmpayload_data_index,application_name=home-water,dev_eui=04b6481955196490,device_name=water-meter-01,f_port=1 value=-46.18014946236599 1611878400000000000\n",
      "INSERT device_frmpayload_data_index,application_name=home-water,dev_eui=04b6481955196490,device_name=water-meter-01,f_port=1 value=-45.97799892473131 1611964800000000000\n",
      "INSERT device_frmpayload_data_index,application_name=home-water,dev_eui=04b6481955196490,device_name=water-meter-01,f_port=1 value=-45.775848387097085 1612051200000000000\n",
      "INSERT device_frmpayload_data_index,application_name=home-water,dev_eui=04b6481955196490,device_name=water-meter-01,f_port=1 value=-45.573697849462405 1612137600000000000\n",
      "INSERT device_frmpayload_data_index,application_name=home-water,dev_eui=04b6481955196490,device_name=water-meter-01,f_port=1 value=-45.37154731182818 1612224000000000000\n",
      "INSERT device_frmpayload_data_index,application_name=home-water,dev_eui=04b6481955196490,device_name=water-meter-01,f_port=1 value=-45.169396774193956 1612310400000000000\n",
      "INSERT device_frmpayload_data_index,application_name=home-water,dev_eui=04b6481955196490,device_name=water-meter-01,f_port=1 value=-44.967246236559276 1612396800000000000\n",
      "INSERT device_frmpayload_data_index,application_name=home-water,dev_eui=04b6481955196490,device_name=water-meter-01,f_port=1 value=-44.76509569892505 1612483200000000000\n",
      "INSERT device_frmpayload_data_index,application_name=home-water,dev_eui=04b6481955196490,device_name=water-meter-01,f_port=1 value=-44.56294516129037 1612569600000000000\n",
      "INSERT device_frmpayload_data_index,application_name=home-water,dev_eui=04b6481955196490,device_name=water-meter-01,f_port=1 value=-44.36079462365615 1612656000000000000\n",
      "INSERT device_frmpayload_data_index,application_name=home-water,dev_eui=04b6481955196490,device_name=water-meter-01,f_port=1 value=-44.15864408602192 1612742400000000000\n",
      "INSERT device_frmpayload_data_index,application_name=home-water,dev_eui=04b6481955196490,device_name=water-meter-01,f_port=1 value=-43.95649354838724 1612828800000000000\n",
      "INSERT device_frmpayload_data_index,application_name=home-water,dev_eui=04b6481955196490,device_name=water-meter-01,f_port=1 value=-43.75434301075302 1612915200000000000\n",
      "INSERT device_frmpayload_data_index,application_name=home-water,dev_eui=04b6481955196490,device_name=water-meter-01,f_port=1 value=-43.55219247311834 1613001600000000000\n",
      "INSERT device_frmpayload_data_index,application_name=home-water,dev_eui=04b6481955196490,device_name=water-meter-01,f_port=1 value=-43.350041935484114 1613088000000000000\n",
      "INSERT device_frmpayload_data_index,application_name=home-water,dev_eui=04b6481955196490,device_name=water-meter-01,f_port=1 value=-43.147891397849435 1613174400000000000\n",
      "INSERT device_frmpayload_data_index,application_name=home-water,dev_eui=04b6481955196490,device_name=water-meter-01,f_port=1 value=-42.94574086021521 1613260800000000000\n",
      "INSERT device_frmpayload_data_index,application_name=home-water,dev_eui=04b6481955196490,device_name=water-meter-01,f_port=1 value=-42.743590322580985 1613347200000000000\n",
      "INSERT device_frmpayload_data_index,application_name=home-water,dev_eui=04b6481955196490,device_name=water-meter-01,f_port=1 value=-42.541439784946306 1613433600000000000\n",
      "INSERT device_frmpayload_data_index,application_name=home-water,dev_eui=04b6481955196490,device_name=water-meter-01,f_port=1 value=-42.33928924731208 1613520000000000000\n",
      "INSERT device_frmpayload_data_index,application_name=home-water,dev_eui=04b6481955196490,device_name=water-meter-01,f_port=1 value=-42.1371387096774 1613606400000000000\n",
      "INSERT device_frmpayload_data_index,application_name=home-water,dev_eui=04b6481955196490,device_name=water-meter-01,f_port=1 value=-41.93498817204318 1613692800000000000\n",
      "INSERT device_frmpayload_data_index,application_name=home-water,dev_eui=04b6481955196490,device_name=water-meter-01,f_port=1 value=-41.73283763440895 1613779200000000000\n",
      "INSERT device_frmpayload_data_index,application_name=home-water,dev_eui=04b6481955196490,device_name=water-meter-01,f_port=1 value=-41.53068709677427 1613865600000000000\n",
      "INSERT device_frmpayload_data_index,application_name=home-water,dev_eui=04b6481955196490,device_name=water-meter-01,f_port=1 value=-41.32853655914005 1613952000000000000\n",
      "INSERT device_frmpayload_data_index,application_name=home-water,dev_eui=04b6481955196490,device_name=water-meter-01,f_port=1 value=-41.12638602150537 1614038400000000000\n",
      "INSERT device_frmpayload_data_index,application_name=home-water,dev_eui=04b6481955196490,device_name=water-meter-01,f_port=1 value=-40.92423548387114 1614124800000000000\n",
      "INSERT device_frmpayload_data_index,application_name=home-water,dev_eui=04b6481955196490,device_name=water-meter-01,f_port=1 value=-40.72208494623692 1614211200000000000\n",
      "INSERT device_frmpayload_data_index,application_name=home-water,dev_eui=04b6481955196490,device_name=water-meter-01,f_port=1 value=-40.51993440860224 1614297600000000000\n",
      "INSERT device_frmpayload_data_index,application_name=home-water,dev_eui=04b6481955196490,device_name=water-meter-01,f_port=1 value=-40.317783870968015 1614384000000000000\n",
      "INSERT device_frmpayload_data_index,application_name=home-water,dev_eui=04b6481955196490,device_name=water-meter-01,f_port=1 value=-40.115633333333335 1614470400000000000\n",
      "INSERT device_frmpayload_data_index,application_name=home-water,dev_eui=04b6481955196490,device_name=water-meter-01,f_port=1 value=-39.91348279569911 1614556800000000000\n",
      "INSERT device_frmpayload_data_index,application_name=home-water,dev_eui=04b6481955196490,device_name=water-meter-01,f_port=1 value=-39.711332258064886 1614643200000000000\n",
      "INSERT device_frmpayload_data_index,application_name=home-water,dev_eui=04b6481955196490,device_name=water-meter-01,f_port=1 value=-39.509181720430206 1614729600000000000\n",
      "INSERT device_frmpayload_data_index,application_name=home-water,dev_eui=04b6481955196490,device_name=water-meter-01,f_port=1 value=-39.30703118279598 1614816000000000000\n",
      "INSERT device_frmpayload_data_index,application_name=home-water,dev_eui=04b6481955196490,device_name=water-meter-01,f_port=1 value=-39.1048806451613 1614902400000000000\n",
      "INSERT device_frmpayload_data_index,application_name=home-water,dev_eui=04b6481955196490,device_name=water-meter-01,f_port=1 value=-38.90273010752708 1614988800000000000\n",
      "INSERT device_frmpayload_data_index,application_name=home-water,dev_eui=04b6481955196490,device_name=water-meter-01,f_port=1 value=-38.7005795698924 1615075200000000000\n",
      "INSERT device_frmpayload_data_index,application_name=home-water,dev_eui=04b6481955196490,device_name=water-meter-01,f_port=1 value=-38.49842903225817 1615161600000000000\n",
      "INSERT device_frmpayload_data_index,application_name=home-water,dev_eui=04b6481955196490,device_name=water-meter-01,f_port=1 value=-38.29627849462395 1615248000000000000\n",
      "INSERT device_frmpayload_data_index,application_name=home-water,dev_eui=04b6481955196490,device_name=water-meter-01,f_port=1 value=-38.09412795698927 1615334400000000000\n",
      "INSERT device_frmpayload_data_index,application_name=home-water,dev_eui=04b6481955196490,device_name=water-meter-01,f_port=1 value=-37.891977419355044 1615420800000000000\n",
      "INSERT device_frmpayload_data_index,application_name=home-water,dev_eui=04b6481955196490,device_name=water-meter-01,f_port=1 value=-37.689826881720364 1615507200000000000\n",
      "INSERT device_frmpayload_data_index,application_name=home-water,dev_eui=04b6481955196490,device_name=water-meter-01,f_port=1 value=-37.48767634408614 1615593600000000000\n",
      "INSERT device_frmpayload_data_index,application_name=home-water,dev_eui=04b6481955196490,device_name=water-meter-01,f_port=1 value=-37.285525806451915 1615680000000000000\n",
      "INSERT device_frmpayload_data_index,application_name=home-water,dev_eui=04b6481955196490,device_name=water-meter-01,f_port=1 value=-37.083375268817235 1615766400000000000\n",
      "INSERT device_frmpayload_data_index,application_name=home-water,dev_eui=04b6481955196490,device_name=water-meter-01,f_port=1 value=-36.88122473118301 1615852800000000000\n",
      "INSERT device_frmpayload_data_index,application_name=home-water,dev_eui=04b6481955196490,device_name=water-meter-01,f_port=1 value=-36.67907419354833 1615939200000000000\n",
      "INSERT device_frmpayload_data_index,application_name=home-water,dev_eui=04b6481955196490,device_name=water-meter-01,f_port=1 value=-36.476923655914106 1616025600000000000\n",
      "INSERT device_frmpayload_data_index,application_name=home-water,dev_eui=04b6481955196490,device_name=water-meter-01,f_port=1 value=-36.27477311827988 1616112000000000000\n",
      "INSERT device_frmpayload_data_index,application_name=home-water,dev_eui=04b6481955196490,device_name=water-meter-01,f_port=1 value=-36.0726225806452 1616198400000000000\n",
      "INSERT device_frmpayload_data_index,application_name=home-water,dev_eui=04b6481955196490,device_name=water-meter-01,f_port=1 value=-35.87047204301098 1616284800000000000\n",
      "INSERT device_frmpayload_data_index,application_name=home-water,dev_eui=04b6481955196490,device_name=water-meter-01,f_port=1 value=-35.6683215053763 1616371200000000000\n",
      "INSERT device_frmpayload_data_index,application_name=home-water,dev_eui=04b6481955196490,device_name=water-meter-01,f_port=1 value=-35.46617096774207 1616457600000000000\n",
      "INSERT device_frmpayload_data_index,application_name=home-water,dev_eui=04b6481955196490,device_name=water-meter-01,f_port=1 value=-35.26402043010785 1616544000000000000\n",
      "INSERT device_frmpayload_data_index,application_name=home-water,dev_eui=04b6481955196490,device_name=water-meter-01,f_port=1 value=-35.06186989247317 1616630400000000000\n",
      "INSERT device_frmpayload_data_index,application_name=home-water,dev_eui=04b6481955196490,device_name=water-meter-01,f_port=1 value=-34.859719354838944 1616716800000000000\n",
      "INSERT device_frmpayload_data_index,application_name=home-water,dev_eui=04b6481955196490,device_name=water-meter-01,f_port=1 value=-34.657568817204265 1616803200000000000\n",
      "INSERT device_frmpayload_data_index,application_name=home-water,dev_eui=04b6481955196490,device_name=water-meter-01,f_port=1 value=-34.45541827957004 1616889600000000000\n",
      "INSERT device_frmpayload_data_index,application_name=home-water,dev_eui=04b6481955196490,device_name=water-meter-01,f_port=1 value=-34.25326774193536 1616976000000000000\n",
      "INSERT device_frmpayload_data_index,application_name=home-water,dev_eui=04b6481955196490,device_name=water-meter-01,f_port=1 value=-34.051117204301136 1617062400000000000\n",
      "INSERT device_frmpayload_data_index,application_name=home-water,dev_eui=04b6481955196490,device_name=water-meter-01,f_port=1 value=-33.84896666666691 1617148800000000000\n",
      "INSERT device_frmpayload_data_index,application_name=home-water,dev_eui=04b6481955196490,device_name=water-meter-01,f_port=1 value=-33.64681612903223 1617235200000000000\n",
      "INSERT device_frmpayload_data_index,application_name=home-water,dev_eui=04b6481955196490,device_name=water-meter-01,f_port=1 value=-33.44466559139801 1617321600000000000\n",
      "INSERT device_frmpayload_data_index,application_name=home-water,dev_eui=04b6481955196490,device_name=water-meter-01,f_port=1 value=-33.24251505376333 1617408000000000000\n",
      "INSERT device_frmpayload_data_index,application_name=home-water,dev_eui=04b6481955196490,device_name=water-meter-01,f_port=1 value=-33.0403645161291 1617494400000000000\n",
      "INSERT device_frmpayload_data_index,application_name=home-water,dev_eui=04b6481955196490,device_name=water-meter-01,f_port=1 value=-32.83821397849488 1617580800000000000\n",
      "INSERT device_frmpayload_data_index,application_name=home-water,dev_eui=04b6481955196490,device_name=water-meter-01,f_port=1 value=-32.6360634408602 1617667200000000000\n",
      "INSERT device_frmpayload_data_index,application_name=home-water,dev_eui=04b6481955196490,device_name=water-meter-01,f_port=1 value=-32.43391290322597 1617753600000000000\n",
      "INSERT device_frmpayload_data_index,application_name=home-water,dev_eui=04b6481955196490,device_name=water-meter-01,f_port=1 value=-32.231762365591294 1617840000000000000\n",
      "INSERT device_frmpayload_data_index,application_name=home-water,dev_eui=04b6481955196490,device_name=water-meter-01,f_port=1 value=-32.02961182795707 1617926400000000000\n",
      "INSERT device_frmpayload_data_index,application_name=home-water,dev_eui=04b6481955196490,device_name=water-meter-01,f_port=1 value=-31.827461290322844 1618012800000000000\n",
      "INSERT device_frmpayload_data_index,application_name=home-water,dev_eui=04b6481955196490,device_name=water-meter-01,f_port=1 value=-31.625310752688165 1618099200000000000\n",
      "INSERT device_frmpayload_data_index,application_name=home-water,dev_eui=04b6481955196490,device_name=water-meter-01,f_port=1 value=-31.42316021505394 1618185600000000000\n",
      "INSERT device_frmpayload_data_index,application_name=home-water,dev_eui=04b6481955196490,device_name=water-meter-01,f_port=1 value=-31.22100967741926 1618272000000000000\n",
      "INSERT device_frmpayload_data_index,application_name=home-water,dev_eui=04b6481955196490,device_name=water-meter-01,f_port=1 value=-31.018859139785036 1618358400000000000\n",
      "INSERT device_frmpayload_data_index,application_name=home-water,dev_eui=04b6481955196490,device_name=water-meter-01,f_port=1 value=-30.81670860215081 1618444800000000000\n",
      "INSERT device_frmpayload_data_index,application_name=home-water,dev_eui=04b6481955196490,device_name=water-meter-01,f_port=1 value=-30.61455806451613 1618531200000000000\n",
      "INSERT device_frmpayload_data_index,application_name=home-water,dev_eui=04b6481955196490,device_name=water-meter-01,f_port=1 value=-30.412407526881907 1618617600000000000\n",
      "INSERT device_frmpayload_data_index,application_name=home-water,dev_eui=04b6481955196490,device_name=water-meter-01,f_port=1 value=-30.210256989247227 1618704000000000000\n",
      "INSERT device_frmpayload_data_index,application_name=home-water,dev_eui=04b6481955196490,device_name=water-meter-01,f_port=1 value=-30.008106451613003 1618790400000000000\n",
      "INSERT device_frmpayload_data_index,application_name=home-water,dev_eui=04b6481955196490,device_name=water-meter-01,f_port=1 value=-29.805955913978323 1618876800000000000\n",
      "INSERT device_frmpayload_data_index,application_name=home-water,dev_eui=04b6481955196490,device_name=water-meter-01,f_port=1 value=-29.6038053763441 1618963200000000000\n",
      "INSERT device_frmpayload_data_index,application_name=home-water,dev_eui=04b6481955196490,device_name=water-meter-01,f_port=1 value=-29.401654838709874 1619049600000000000\n",
      "INSERT device_frmpayload_data_index,application_name=home-water,dev_eui=04b6481955196490,device_name=water-meter-01,f_port=1 value=-29.199504301075194 1619136000000000000\n",
      "INSERT device_frmpayload_data_index,application_name=home-water,dev_eui=04b6481955196490,device_name=water-meter-01,f_port=1 value=-28.99735376344097 1619222400000000000\n",
      "INSERT device_frmpayload_data_index,application_name=home-water,dev_eui=04b6481955196490,device_name=water-meter-01,f_port=1 value=-28.79520322580629 1619308800000000000\n",
      "INSERT device_frmpayload_data_index,application_name=home-water,dev_eui=04b6481955196490,device_name=water-meter-01,f_port=1 value=-28.593052688172065 1619395200000000000\n",
      "INSERT device_frmpayload_data_index,application_name=home-water,dev_eui=04b6481955196490,device_name=water-meter-01,f_port=1 value=-28.39090215053784 1619481600000000000\n",
      "INSERT device_frmpayload_data_index,application_name=home-water,dev_eui=04b6481955196490,device_name=water-meter-01,f_port=1 value=-28.18875161290316 1619568000000000000\n",
      "INSERT device_frmpayload_data_index,application_name=home-water,dev_eui=04b6481955196490,device_name=water-meter-01,f_port=1 value=-27.986601075268936 1619654400000000000\n",
      "INSERT device_frmpayload_data_index,application_name=home-water,dev_eui=04b6481955196490,device_name=water-meter-01,f_port=1 value=-27.784450537634257 1619740800000000000\n",
      "INSERT device_frmpayload_data_index,application_name=home-water,dev_eui=04b6481955196490,device_name=water-meter-01,f_port=1 value=-27.582300000000032 1619827200000000000\n",
      "INSERT device_frmpayload_data_index,application_name=home-water,dev_eui=04b6481955196490,device_name=water-meter-01,f_port=1 value=-27.332300000000032 1619913600000000000\n",
      "INSERT device_frmpayload_data_index,application_name=home-water,dev_eui=04b6481955196490,device_name=water-meter-01,f_port=1 value=-27.082300000000032 1620000000000000000\n",
      "INSERT device_frmpayload_data_index,application_name=home-water,dev_eui=04b6481955196490,device_name=water-meter-01,f_port=1 value=-26.832300000000032 1620086400000000000\n",
      "INSERT device_frmpayload_data_index,application_name=home-water,dev_eui=04b6481955196490,device_name=water-meter-01,f_port=1 value=-26.582300000000032 1620172800000000000\n",
      "INSERT device_frmpayload_data_index,application_name=home-water,dev_eui=04b6481955196490,device_name=water-meter-01,f_port=1 value=-26.332300000000032 1620259200000000000\n",
      "INSERT device_frmpayload_data_index,application_name=home-water,dev_eui=04b6481955196490,device_name=water-meter-01,f_port=1 value=-26.082300000000032 1620345600000000000\n",
      "INSERT device_frmpayload_data_index,application_name=home-water,dev_eui=04b6481955196490,device_name=water-meter-01,f_port=1 value=-25.832300000000032 1620432000000000000\n",
      "INSERT device_frmpayload_data_index,application_name=home-water,dev_eui=04b6481955196490,device_name=water-meter-01,f_port=1 value=-25.582300000000032 1620518400000000000\n",
      "INSERT device_frmpayload_data_index,application_name=home-water,dev_eui=04b6481955196490,device_name=water-meter-01,f_port=1 value=-25.332300000000032 1620604800000000000\n",
      "INSERT device_frmpayload_data_index,application_name=home-water,dev_eui=04b6481955196490,device_name=water-meter-01,f_port=1 value=-25.082300000000032 1620691200000000000\n",
      "INSERT device_frmpayload_data_index,application_name=home-water,dev_eui=04b6481955196490,device_name=water-meter-01,f_port=1 value=-24.832300000000032 1620777600000000000\n",
      "INSERT device_frmpayload_data_index,application_name=home-water,dev_eui=04b6481955196490,device_name=water-meter-01,f_port=1 value=-24.582300000000032 1620864000000000000\n",
      "INSERT device_frmpayload_data_index,application_name=home-water,dev_eui=04b6481955196490,device_name=water-meter-01,f_port=1 value=-24.332300000000032 1620950400000000000\n",
      "INSERT device_frmpayload_data_index,application_name=home-water,dev_eui=04b6481955196490,device_name=water-meter-01,f_port=1 value=-24.082300000000032 1621036800000000000\n",
      "INSERT device_frmpayload_data_index,application_name=home-water,dev_eui=04b6481955196490,device_name=water-meter-01,f_port=1 value=-23.832300000000032 1621123200000000000\n",
      "INSERT device_frmpayload_data_index,application_name=home-water,dev_eui=04b6481955196490,device_name=water-meter-01,f_port=1 value=-23.582300000000032 1621209600000000000\n",
      "INSERT device_frmpayload_data_index,application_name=home-water,dev_eui=04b6481955196490,device_name=water-meter-01,f_port=1 value=-23.332300000000032 1621296000000000000\n",
      "INSERT device_frmpayload_data_index,application_name=home-water,dev_eui=04b6481955196490,device_name=water-meter-01,f_port=1 value=-23.082300000000032 1621382400000000000\n",
      "INSERT device_frmpayload_data_index,application_name=home-water,dev_eui=04b6481955196490,device_name=water-meter-01,f_port=1 value=-22.832300000000032 1621468800000000000\n",
      "INSERT device_frmpayload_data_index,application_name=home-water,dev_eui=04b6481955196490,device_name=water-meter-01,f_port=1 value=-22.582300000000032 1621555200000000000\n",
      "INSERT device_frmpayload_data_index,application_name=home-water,dev_eui=04b6481955196490,device_name=water-meter-01,f_port=1 value=-22.332300000000032 1621641600000000000\n",
      "INSERT device_frmpayload_data_index,application_name=home-water,dev_eui=04b6481955196490,device_name=water-meter-01,f_port=1 value=-22.082300000000032 1621728000000000000\n",
      "INSERT device_frmpayload_data_index,application_name=home-water,dev_eui=04b6481955196490,device_name=water-meter-01,f_port=1 value=-21.898966666666638 1621814400000000000\n",
      "INSERT device_frmpayload_data_index,application_name=home-water,dev_eui=04b6481955196490,device_name=water-meter-01,f_port=1 value=-21.7156333333337 1621900800000000000\n",
      "INSERT device_frmpayload_data_index,application_name=home-water,dev_eui=04b6481955196490,device_name=water-meter-01,f_port=1 value=-21.532300000000305 1621987200000000000\n",
      "INSERT device_frmpayload_data_index,application_name=home-water,dev_eui=04b6481955196490,device_name=water-meter-01,f_port=1 value=-21.332300000000032 1622073600000000000\n",
      "INSERT device_frmpayload_data_index,application_name=home-water,dev_eui=04b6481955196490,device_name=water-meter-01,f_port=1 value=-21.132300000000214 1622160000000000000\n",
      "INSERT device_frmpayload_data_index,application_name=home-water,dev_eui=04b6481955196490,device_name=water-meter-01,f_port=1 value=-20.932300000000396 1622246400000000000\n",
      "INSERT device_frmpayload_data_index,application_name=home-water,dev_eui=04b6481955196490,device_name=water-meter-01,f_port=1 value=-20.732300000000123 1622332800000000000\n",
      "INSERT device_frmpayload_data_index,application_name=home-water,dev_eui=04b6481955196490,device_name=water-meter-01,f_port=1 value=-20.53229999999985 1622419200000000000\n",
      "INSERT device_frmpayload_data_index,application_name=home-water,dev_eui=04b6481955196490,device_name=water-meter-01,f_port=1 value=-20.332300000000032 1622505600000000000\n",
      "INSERT device_frmpayload_data_index,application_name=home-water,dev_eui=04b6481955196490,device_name=water-meter-01,f_port=1 value=-20.139966666666623 1622592000000000000\n",
      "INSERT device_frmpayload_data_index,application_name=home-water,dev_eui=04b6481955196490,device_name=water-meter-01,f_port=1 value=-19.94763333333367 1622678400000000000\n",
      "INSERT device_frmpayload_data_index,application_name=home-water,dev_eui=04b6481955196490,device_name=water-meter-01,f_port=1 value=-19.75530000000026 1622764800000000000\n",
      "INSERT device_frmpayload_data_index,application_name=home-water,dev_eui=04b6481955196490,device_name=water-meter-01,f_port=1 value=-19.544550000000527 1622851200000000000\n",
      "INSERT device_frmpayload_data_index,application_name=home-water,dev_eui=04b6481955196490,device_name=water-meter-01,f_port=1 value=-19.333800000000338 1622937600000000000\n",
      "INSERT device_frmpayload_data_index,application_name=home-water,dev_eui=04b6481955196490,device_name=water-meter-01,f_port=1 value=-19.12305000000015 1623024000000000000\n",
      "INSERT device_frmpayload_data_index,application_name=home-water,dev_eui=04b6481955196490,device_name=water-meter-01,f_port=1 value=-18.912300000000414 1623110400000000000\n",
      "INSERT device_frmpayload_data_index,application_name=home-water,dev_eui=04b6481955196490,device_name=water-meter-01,f_port=1 value=-18.59730000000036 1623196800000000000\n",
      "INSERT device_frmpayload_data_index,application_name=home-water,dev_eui=04b6481955196490,device_name=water-meter-01,f_port=1 value=-18.282300000000305 1623283200000000000\n",
      "INSERT device_frmpayload_data_index,application_name=home-water,dev_eui=04b6481955196490,device_name=water-meter-01,f_port=1 value=-18.10030000000006 1623369600000000000\n",
      "INSERT device_frmpayload_data_index,application_name=home-water,dev_eui=04b6481955196490,device_name=water-meter-01,f_port=1 value=-17.918300000000272 1623456000000000000\n",
      "INSERT device_frmpayload_data_index,application_name=home-water,dev_eui=04b6481955196490,device_name=water-meter-01,f_port=1 value=-17.73630000000003 1623542400000000000\n",
      "INSERT device_frmpayload_data_index,application_name=home-water,dev_eui=04b6481955196490,device_name=water-meter-01,f_port=1 value=-17.55430000000024 1623628800000000000\n",
      "INSERT device_frmpayload_data_index,application_name=home-water,dev_eui=04b6481955196490,device_name=water-meter-01,f_port=1 value=-17.372299999999996 1623715200000000000\n",
      "INSERT device_frmpayload_data_index,application_name=home-water,dev_eui=04b6481955196490,device_name=water-meter-01,f_port=1 value=-17.08730000000014 1623801600000000000\n",
      "INSERT device_frmpayload_data_index,application_name=home-water,dev_eui=04b6481955196490,device_name=water-meter-01,f_port=1 value=-16.802300000000287 1623888000000000000\n",
      "INSERT device_frmpayload_data_index,application_name=home-water,dev_eui=04b6481955196490,device_name=water-meter-01,f_port=1 value=-16.517300000000432 1623974400000000000\n",
      "INSERT device_frmpayload_data_index,application_name=home-water,dev_eui=04b6481955196490,device_name=water-meter-01,f_port=1 value=-16.232300000000123 1624060800000000000\n",
      "INSERT device_frmpayload_data_index,application_name=home-water,dev_eui=04b6481955196490,device_name=water-meter-01,f_port=1 value=-15.947300000000268 1624147200000000000\n",
      "INSERT device_frmpayload_data_index,application_name=home-water,dev_eui=04b6481955196490,device_name=water-meter-01,f_port=1 value=-15.662300000000414 1624233600000000000\n",
      "INSERT device_frmpayload_data_index,application_name=home-water,dev_eui=04b6481955196490,device_name=water-meter-01,f_port=1 value=-15.472598507463317 1624320000000000000\n",
      "INSERT device_frmpayload_data_index,application_name=home-water,dev_eui=04b6481955196490,device_name=water-meter-01,f_port=1 value=-15.282897014925766 1624406400000000000\n",
      "INSERT device_frmpayload_data_index,application_name=home-water,dev_eui=04b6481955196490,device_name=water-meter-01,f_port=1 value=-15.093195522388669 1624492800000000000\n",
      "INSERT device_frmpayload_data_index,application_name=home-water,dev_eui=04b6481955196490,device_name=water-meter-01,f_port=1 value=-14.903494029851117 1624579200000000000\n",
      "INSERT device_frmpayload_data_index,application_name=home-water,dev_eui=04b6481955196490,device_name=water-meter-01,f_port=1 value=-14.71379253731402 1624665600000000000\n",
      "INSERT device_frmpayload_data_index,application_name=home-water,dev_eui=04b6481955196490,device_name=water-meter-01,f_port=1 value=-14.524091044776469 1624752000000000000\n",
      "INSERT device_frmpayload_data_index,application_name=home-water,dev_eui=04b6481955196490,device_name=water-meter-01,f_port=1 value=-14.334389552239372 1624838400000000000\n",
      "INSERT device_frmpayload_data_index,application_name=home-water,dev_eui=04b6481955196490,device_name=water-meter-01,f_port=1 value=-14.14468805970182 1624924800000000000\n",
      "INSERT device_frmpayload_data_index,application_name=home-water,dev_eui=04b6481955196490,device_name=water-meter-01,f_port=1 value=-13.954986567164724 1625011200000000000\n",
      "INSERT device_frmpayload_data_index,application_name=home-water,dev_eui=04b6481955196490,device_name=water-meter-01,f_port=1 value=-13.765285074627172 1625097600000000000\n",
      "INSERT device_frmpayload_data_index,application_name=home-water,dev_eui=04b6481955196490,device_name=water-meter-01,f_port=1 value=-13.575583582090076 1625184000000000000\n",
      "INSERT device_frmpayload_data_index,application_name=home-water,dev_eui=04b6481955196490,device_name=water-meter-01,f_port=1 value=-13.385882089552524 1625270400000000000\n",
      "INSERT device_frmpayload_data_index,application_name=home-water,dev_eui=04b6481955196490,device_name=water-meter-01,f_port=1 value=-13.196180597015427 1625356800000000000\n",
      "INSERT device_frmpayload_data_index,application_name=home-water,dev_eui=04b6481955196490,device_name=water-meter-01,f_port=1 value=-13.006479104477876 1625443200000000000\n",
      "INSERT device_frmpayload_data_index,application_name=home-water,dev_eui=04b6481955196490,device_name=water-meter-01,f_port=1 value=-12.816777611940779 1625529600000000000\n",
      "INSERT device_frmpayload_data_index,application_name=home-water,dev_eui=04b6481955196490,device_name=water-meter-01,f_port=1 value=-12.627076119403227 1625616000000000000\n",
      "INSERT device_frmpayload_data_index,application_name=home-water,dev_eui=04b6481955196490,device_name=water-meter-01,f_port=1 value=-12.43737462686613 1625702400000000000\n",
      "INSERT device_frmpayload_data_index,application_name=home-water,dev_eui=04b6481955196490,device_name=water-meter-01,f_port=1 value=-12.24767313432858 1625788800000000000\n",
      "INSERT device_frmpayload_data_index,application_name=home-water,dev_eui=04b6481955196490,device_name=water-meter-01,f_port=1 value=-12.057971641791482 1625875200000000000\n",
      "INSERT device_frmpayload_data_index,application_name=home-water,dev_eui=04b6481955196490,device_name=water-meter-01,f_port=1 value=-11.86827014925393 1625961600000000000\n",
      "INSERT device_frmpayload_data_index,application_name=home-water,dev_eui=04b6481955196490,device_name=water-meter-01,f_port=1 value=-11.678568656716834 1626048000000000000\n",
      "INSERT device_frmpayload_data_index,application_name=home-water,dev_eui=04b6481955196490,device_name=water-meter-01,f_port=1 value=-11.488867164179283 1626134400000000000\n",
      "INSERT device_frmpayload_data_index,application_name=home-water,dev_eui=04b6481955196490,device_name=water-meter-01,f_port=1 value=-11.299165671642186 1626220800000000000\n",
      "INSERT device_frmpayload_data_index,application_name=home-water,dev_eui=04b6481955196490,device_name=water-meter-01,f_port=1 value=-11.109464179105089 1626307200000000000\n",
      "INSERT device_frmpayload_data_index,application_name=home-water,dev_eui=04b6481955196490,device_name=water-meter-01,f_port=1 value=-10.919762686567537 1626393600000000000\n",
      "INSERT device_frmpayload_data_index,application_name=home-water,dev_eui=04b6481955196490,device_name=water-meter-01,f_port=1 value=-10.73006119403044 1626480000000000000\n",
      "INSERT device_frmpayload_data_index,application_name=home-water,dev_eui=04b6481955196490,device_name=water-meter-01,f_port=1 value=-10.54035970149289 1626566400000000000\n",
      "INSERT device_frmpayload_data_index,application_name=home-water,dev_eui=04b6481955196490,device_name=water-meter-01,f_port=1 value=-10.350658208955792 1626652800000000000\n",
      "INSERT device_frmpayload_data_index,application_name=home-water,dev_eui=04b6481955196490,device_name=water-meter-01,f_port=1 value=-10.16095671641824 1626739200000000000\n",
      "INSERT device_frmpayload_data_index,application_name=home-water,dev_eui=04b6481955196490,device_name=water-meter-01,f_port=1 value=-9.971255223881144 1626825600000000000\n",
      "INSERT device_frmpayload_data_index,application_name=home-water,dev_eui=04b6481955196490,device_name=water-meter-01,f_port=1 value=-9.781553731343593 1626912000000000000\n",
      "INSERT device_frmpayload_data_index,application_name=home-water,dev_eui=04b6481955196490,device_name=water-meter-01,f_port=1 value=-9.591852238806496 1626998400000000000\n",
      "INSERT device_frmpayload_data_index,application_name=home-water,dev_eui=04b6481955196490,device_name=water-meter-01,f_port=1 value=-9.402150746268944 1627084800000000000\n",
      "INSERT device_frmpayload_data_index,application_name=home-water,dev_eui=04b6481955196490,device_name=water-meter-01,f_port=1 value=-9.212449253731847 1627171200000000000\n",
      "INSERT device_frmpayload_data_index,application_name=home-water,dev_eui=04b6481955196490,device_name=water-meter-01,f_port=1 value=-9.022747761194296 1627257600000000000\n",
      "INSERT device_frmpayload_data_index,application_name=home-water,dev_eui=04b6481955196490,device_name=water-meter-01,f_port=1 value=-8.833046268657199 1627344000000000000\n",
      "INSERT device_frmpayload_data_index,application_name=home-water,dev_eui=04b6481955196490,device_name=water-meter-01,f_port=1 value=-8.643344776119648 1627430400000000000\n",
      "INSERT device_frmpayload_data_index,application_name=home-water,dev_eui=04b6481955196490,device_name=water-meter-01,f_port=1 value=-8.45364328358255 1627516800000000000\n",
      "INSERT device_frmpayload_data_index,application_name=home-water,dev_eui=04b6481955196490,device_name=water-meter-01,f_port=1 value=-8.263941791045 1627603200000000000\n",
      "INSERT device_frmpayload_data_index,application_name=home-water,dev_eui=04b6481955196490,device_name=water-meter-01,f_port=1 value=-8.074240298507902 1627689600000000000\n",
      "INSERT device_frmpayload_data_index,application_name=home-water,dev_eui=04b6481955196490,device_name=water-meter-01,f_port=1 value=-7.884538805970351 1627776000000000000\n",
      "INSERT device_frmpayload_data_index,application_name=home-water,dev_eui=04b6481955196490,device_name=water-meter-01,f_port=1 value=-7.694837313433254 1627862400000000000\n",
      "INSERT device_frmpayload_data_index,application_name=home-water,dev_eui=04b6481955196490,device_name=water-meter-01,f_port=1 value=-7.505135820895703 1627948800000000000\n",
      "INSERT device_frmpayload_data_index,application_name=home-water,dev_eui=04b6481955196490,device_name=water-meter-01,f_port=1 value=-7.315434328358606 1628035200000000000\n",
      "INSERT device_frmpayload_data_index,application_name=home-water,dev_eui=04b6481955196490,device_name=water-meter-01,f_port=1 value=-7.125732835821509 1628121600000000000\n",
      "INSERT device_frmpayload_data_index,application_name=home-water,dev_eui=04b6481955196490,device_name=water-meter-01,f_port=1 value=-6.9360313432839575 1628208000000000000\n",
      "INSERT device_frmpayload_data_index,application_name=home-water,dev_eui=04b6481955196490,device_name=water-meter-01,f_port=1 value=-6.746329850746861 1628294400000000000\n",
      "INSERT device_frmpayload_data_index,application_name=home-water,dev_eui=04b6481955196490,device_name=water-meter-01,f_port=1 value=-6.556628358209309 1628380800000000000\n",
      "INSERT device_frmpayload_data_index,application_name=home-water,dev_eui=04b6481955196490,device_name=water-meter-01,f_port=1 value=-6.366926865672212 1628467200000000000\n",
      "INSERT device_frmpayload_data_index,application_name=home-water,dev_eui=04b6481955196490,device_name=water-meter-01,f_port=1 value=-6.177225373134661 1628553600000000000\n",
      "INSERT device_frmpayload_data_index,application_name=home-water,dev_eui=04b6481955196490,device_name=water-meter-01,f_port=1 value=-5.987523880597564 1628640000000000000\n",
      "INSERT device_frmpayload_data_index,application_name=home-water,dev_eui=04b6481955196490,device_name=water-meter-01,f_port=1 value=-5.797822388060013 1628726400000000000\n",
      "INSERT device_frmpayload_data_index,application_name=home-water,dev_eui=04b6481955196490,device_name=water-meter-01,f_port=1 value=-5.608120895522916 1628812800000000000\n",
      "INSERT device_frmpayload_data_index,application_name=home-water,dev_eui=04b6481955196490,device_name=water-meter-01,f_port=1 value=-5.418419402985364 1628899200000000000\n",
      "INSERT device_frmpayload_data_index,application_name=home-water,dev_eui=04b6481955196490,device_name=water-meter-01,f_port=1 value=-5.2287179104482675 1628985600000000000\n",
      "INSERT device_frmpayload_data_index,application_name=home-water,dev_eui=04b6481955196490,device_name=water-meter-01,f_port=1 value=-5.039016417910716 1629072000000000000\n",
      "INSERT device_frmpayload_data_index,application_name=home-water,dev_eui=04b6481955196490,device_name=water-meter-01,f_port=1 value=-4.849314925373619 1629158400000000000\n",
      "INSERT device_frmpayload_data_index,application_name=home-water,dev_eui=04b6481955196490,device_name=water-meter-01,f_port=1 value=-4.659613432836068 1629244800000000000\n",
      "INSERT device_frmpayload_data_index,application_name=home-water,dev_eui=04b6481955196490,device_name=water-meter-01,f_port=1 value=-4.469911940298971 1629331200000000000\n",
      "INSERT device_frmpayload_data_index,application_name=home-water,dev_eui=04b6481955196490,device_name=water-meter-01,f_port=1 value=-4.280210447761419 1629417600000000000\n",
      "INSERT device_frmpayload_data_index,application_name=home-water,dev_eui=04b6481955196490,device_name=water-meter-01,f_port=1 value=-4.090508955224323 1629504000000000000\n",
      "INSERT device_frmpayload_data_index,application_name=home-water,dev_eui=04b6481955196490,device_name=water-meter-01,f_port=1 value=-3.900807462686771 1629590400000000000\n",
      "INSERT device_frmpayload_data_index,application_name=home-water,dev_eui=04b6481955196490,device_name=water-meter-01,f_port=1 value=-3.7111059701496742 1629676800000000000\n",
      "INSERT device_frmpayload_data_index,application_name=home-water,dev_eui=04b6481955196490,device_name=water-meter-01,f_port=1 value=-3.5214044776121227 1629763200000000000\n",
      "INSERT device_frmpayload_data_index,application_name=home-water,dev_eui=04b6481955196490,device_name=water-meter-01,f_port=1 value=-3.331702985075026 1629849600000000000\n",
      "INSERT device_frmpayload_data_index,application_name=home-water,dev_eui=04b6481955196490,device_name=water-meter-01,f_port=1 value=-3.1420014925374744 1629936000000000000\n",
      "INSERT device_frmpayload_data_index,application_name=home-water,dev_eui=04b6481955196490,device_name=water-meter-01,f_port=1 value=-2.9523000000003776 1630022400000000000\n",
      "INSERT device_frmpayload_data_index,application_name=home-water,dev_eui=04b6481955196490,device_name=water-meter-01,f_port=1 value=-2.7158714285719725 1630108800000000000\n",
      "INSERT device_frmpayload_data_index,application_name=home-water,dev_eui=04b6481955196490,device_name=water-meter-01,f_port=1 value=-2.4794428571431126 1630195200000000000\n",
      "INSERT device_frmpayload_data_index,application_name=home-water,dev_eui=04b6481955196490,device_name=water-meter-01,f_port=1 value=-2.2430142857147075 1630281600000000000\n",
      "INSERT device_frmpayload_data_index,application_name=home-water,dev_eui=04b6481955196490,device_name=water-meter-01,f_port=1 value=-2.0065857142863024 1630368000000000000\n",
      "INSERT device_frmpayload_data_index,application_name=home-water,dev_eui=04b6481955196490,device_name=water-meter-01,f_port=1 value=-1.7701571428574425 1630454400000000000\n",
      "INSERT device_frmpayload_data_index,application_name=home-water,dev_eui=04b6481955196490,device_name=water-meter-01,f_port=1 value=-1.5337285714290374 1630540800000000000\n",
      "INSERT device_frmpayload_data_index,application_name=home-water,dev_eui=04b6481955196490,device_name=water-meter-01,f_port=1 value=-1.2973000000001775 1630627200000000000\n",
      "INSERT device_frmpayload_data_index,application_name=home-water,dev_eui=04b6481955196490,device_name=water-meter-01,f_port=1 value=-1.0608714285717724 1630713600000000000\n",
      "INSERT device_frmpayload_data_index,application_name=home-water,dev_eui=04b6481955196490,device_name=water-meter-01,f_port=1 value=-0.8244428571433673 1630800000000000000\n",
      "INSERT device_frmpayload_data_index,application_name=home-water,dev_eui=04b6481955196490,device_name=water-meter-01,f_port=1 value=-0.5880142857145074 1630886400000000000\n",
      "INSERT device_frmpayload_data_index,application_name=home-water,dev_eui=04b6481955196490,device_name=water-meter-01,f_port=1 value=-0.3515857142861023 1630972800000000000\n",
      "INSERT device_frmpayload_data_index,application_name=home-water,dev_eui=04b6481955196490,device_name=water-meter-01,f_port=1 value=-0.11515714285769718 1631059200000000000\n",
      "INSERT device_frmpayload_data_index,application_name=home-water,dev_eui=04b6481955196490,device_name=water-meter-01,f_port=1 value=0.12127142857116269 1631145600000000000\n"
     ]
    }
   ],
   "source": [
    "for r in df.to_dict(orient=\"records\"):\n",
    "    print(\"INSERT device_frmpayload_data_index,application_name=home-water,dev_eui=04b6481955196490,device_name=water-meter-01,f_port=1 value={volume:} {time:}\".format(**r))"
   ]
  },
  {
   "cell_type": "code",
   "execution_count": null,
   "metadata": {},
   "outputs": [],
   "source": []
  }
 ],
 "metadata": {
  "hide_input": false,
  "kernelspec": {
   "display_name": "Python 3",
   "language": "python",
   "name": "python3"
  },
  "language_info": {
   "codemirror_mode": {
    "name": "ipython",
    "version": 3
   },
   "file_extension": ".py",
   "mimetype": "text/x-python",
   "name": "python",
   "nbconvert_exporter": "python",
   "pygments_lexer": "ipython3",
   "version": "3.6.9"
  },
  "toc": {
   "base_numbering": 1,
   "nav_menu": {},
   "number_sections": true,
   "sideBar": true,
   "skip_h1_title": false,
   "title_cell": "Table of Contents",
   "title_sidebar": "Contents",
   "toc_cell": false,
   "toc_position": {},
   "toc_section_display": true,
   "toc_window_display": false
  },
  "varInspector": {
   "cols": {
    "lenName": 16,
    "lenType": 16,
    "lenVar": 40
   },
   "kernels_config": {
    "python": {
     "delete_cmd_postfix": "",
     "delete_cmd_prefix": "del ",
     "library": "var_list.py",
     "varRefreshCmd": "print(var_dic_list())"
    },
    "r": {
     "delete_cmd_postfix": ") ",
     "delete_cmd_prefix": "rm(",
     "library": "var_list.r",
     "varRefreshCmd": "cat(var_dic_list()) "
    }
   },
   "types_to_exclude": [
    "module",
    "function",
    "builtin_function_or_method",
    "instance",
    "_Feature"
   ],
   "window_display": false
  }
 },
 "nbformat": 4,
 "nbformat_minor": 4
}
