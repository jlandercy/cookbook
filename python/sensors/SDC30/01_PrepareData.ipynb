{
 "cells": [
  {
   "cell_type": "code",
   "execution_count": 1,
   "metadata": {
    "ExecuteTime": {
     "end_time": "2021-09-24T07:58:31.445211Z",
     "start_time": "2021-09-24T07:58:28.555832Z"
    }
   },
   "outputs": [],
   "source": [
    "import json\n",
    "from influxdb import InfluxDBClient\n",
    "import pandas as pd\n",
    "from odapi.connectors import Irceline\n",
    "from odapi.settings import settings\n",
    "settings.logger.setLevel(50)"
   ]
  },
  {
   "cell_type": "code",
   "execution_count": 2,
   "metadata": {
    "ExecuteTime": {
     "end_time": "2021-09-24T07:58:31.453266Z",
     "start_time": "2021-09-24T07:58:31.447518Z"
    }
   },
   "outputs": [],
   "source": [
    "with open(\"../../../../secrets/homevision.json\") as handler:\n",
    "    creds = json.load(handler)"
   ]
  },
  {
   "cell_type": "code",
   "execution_count": 3,
   "metadata": {
    "ExecuteTime": {
     "end_time": "2021-09-24T07:58:31.473140Z",
     "start_time": "2021-09-24T07:58:31.456020Z"
    }
   },
   "outputs": [
    {
     "data": {
      "text/plain": [
       "'1.8.1'"
      ]
     },
     "execution_count": 3,
     "metadata": {},
     "output_type": "execute_result"
    }
   ],
   "source": [
    "idb = InfluxDBClient(**creds)\n",
    "idb.ping()"
   ]
  },
  {
   "cell_type": "code",
   "execution_count": 4,
   "metadata": {
    "ExecuteTime": {
     "end_time": "2021-09-24T07:58:31.479808Z",
     "start_time": "2021-09-24T07:58:31.475893Z"
    }
   },
   "outputs": [],
   "source": [
    "def get_points(connection, query, database):\n",
    "    result = connection.query(query, database=database)\n",
    "    frame = pd.DataFrame(result.get_points())\n",
    "    frame[\"time\"] = pd.to_datetime(frame[\"time\"])\n",
    "    return frame"
   ]
  },
  {
   "cell_type": "markdown",
   "metadata": {},
   "source": [
    "### SDC30"
   ]
  },
  {
   "cell_type": "code",
   "execution_count": 5,
   "metadata": {
    "ExecuteTime": {
     "end_time": "2021-09-24T07:58:39.138244Z",
     "start_time": "2021-09-24T07:58:31.482400Z"
    }
   },
   "outputs": [
    {
     "data": {
      "text/html": [
       "<div>\n",
       "<style scoped>\n",
       "    .dataframe tbody tr th:only-of-type {\n",
       "        vertical-align: middle;\n",
       "    }\n",
       "\n",
       "    .dataframe tbody tr th {\n",
       "        vertical-align: top;\n",
       "    }\n",
       "\n",
       "    .dataframe thead th {\n",
       "        text-align: right;\n",
       "    }\n",
       "</style>\n",
       "<table border=\"1\" class=\"dataframe\">\n",
       "  <thead>\n",
       "    <tr style=\"text-align: right;\">\n",
       "      <th></th>\n",
       "      <th>time</th>\n",
       "      <th>CO2</th>\n",
       "      <th>RH</th>\n",
       "      <th>T</th>\n",
       "      <th>device</th>\n",
       "      <th>location</th>\n",
       "      <th>owner</th>\n",
       "    </tr>\n",
       "  </thead>\n",
       "  <tbody>\n",
       "    <tr>\n",
       "      <th>0</th>\n",
       "      <td>2021-08-01 00:00:14.665830+00:00</td>\n",
       "      <td>567.090759</td>\n",
       "      <td>50.433613</td>\n",
       "      <td>24.942894</td>\n",
       "      <td>bluebox-01</td>\n",
       "      <td>home-lab</td>\n",
       "      <td>jlandercy</td>\n",
       "    </tr>\n",
       "    <tr>\n",
       "      <th>1</th>\n",
       "      <td>2021-08-01 00:00:31.686256+00:00</td>\n",
       "      <td>567.109070</td>\n",
       "      <td>50.410419</td>\n",
       "      <td>24.929543</td>\n",
       "      <td>bluebox-01</td>\n",
       "      <td>home-lab</td>\n",
       "      <td>jlandercy</td>\n",
       "    </tr>\n",
       "    <tr>\n",
       "      <th>2</th>\n",
       "      <td>2021-08-01 00:00:47.250102+00:00</td>\n",
       "      <td>567.323364</td>\n",
       "      <td>50.538620</td>\n",
       "      <td>24.900169</td>\n",
       "      <td>bluebox-01</td>\n",
       "      <td>home-lab</td>\n",
       "      <td>jlandercy</td>\n",
       "    </tr>\n",
       "    <tr>\n",
       "      <th>3</th>\n",
       "      <td>2021-08-01 00:01:04.248512+00:00</td>\n",
       "      <td>568.063171</td>\n",
       "      <td>50.538757</td>\n",
       "      <td>24.929543</td>\n",
       "      <td>bluebox-01</td>\n",
       "      <td>home-lab</td>\n",
       "      <td>jlandercy</td>\n",
       "    </tr>\n",
       "    <tr>\n",
       "      <th>4</th>\n",
       "      <td>2021-08-01 00:01:20.346114+00:00</td>\n",
       "      <td>568.112244</td>\n",
       "      <td>50.472427</td>\n",
       "      <td>24.913521</td>\n",
       "      <td>bluebox-01</td>\n",
       "      <td>home-lab</td>\n",
       "      <td>jlandercy</td>\n",
       "    </tr>\n",
       "    <tr>\n",
       "      <th>...</th>\n",
       "      <td>...</td>\n",
       "      <td>...</td>\n",
       "      <td>...</td>\n",
       "      <td>...</td>\n",
       "      <td>...</td>\n",
       "      <td>...</td>\n",
       "      <td>...</td>\n",
       "    </tr>\n",
       "    <tr>\n",
       "      <th>286130</th>\n",
       "      <td>2021-09-24 07:56:46.740637+00:00</td>\n",
       "      <td>423.121521</td>\n",
       "      <td>55.531658</td>\n",
       "      <td>23.618408</td>\n",
       "      <td>bluebox-01</td>\n",
       "      <td>home-lab</td>\n",
       "      <td>jlandercy</td>\n",
       "    </tr>\n",
       "    <tr>\n",
       "      <th>286131</th>\n",
       "      <td>2021-09-24 07:57:02.893482+00:00</td>\n",
       "      <td>422.458954</td>\n",
       "      <td>55.296696</td>\n",
       "      <td>23.661133</td>\n",
       "      <td>bluebox-01</td>\n",
       "      <td>home-lab</td>\n",
       "      <td>jlandercy</td>\n",
       "    </tr>\n",
       "    <tr>\n",
       "      <th>286132</th>\n",
       "      <td>2021-09-24 07:57:18.828718+00:00</td>\n",
       "      <td>423.857361</td>\n",
       "      <td>55.453129</td>\n",
       "      <td>23.661133</td>\n",
       "      <td>bluebox-01</td>\n",
       "      <td>home-lab</td>\n",
       "      <td>jlandercy</td>\n",
       "    </tr>\n",
       "    <tr>\n",
       "      <th>286133</th>\n",
       "      <td>2021-09-24 07:57:35.407590+00:00</td>\n",
       "      <td>423.537872</td>\n",
       "      <td>55.489937</td>\n",
       "      <td>23.661133</td>\n",
       "      <td>bluebox-01</td>\n",
       "      <td>home-lab</td>\n",
       "      <td>jlandercy</td>\n",
       "    </tr>\n",
       "    <tr>\n",
       "      <th>286134</th>\n",
       "      <td>2021-09-24 07:57:51.946000+00:00</td>\n",
       "      <td>423.425720</td>\n",
       "      <td>55.393318</td>\n",
       "      <td>23.661133</td>\n",
       "      <td>bluebox-01</td>\n",
       "      <td>home-lab</td>\n",
       "      <td>jlandercy</td>\n",
       "    </tr>\n",
       "  </tbody>\n",
       "</table>\n",
       "<p>286135 rows × 7 columns</p>\n",
       "</div>"
      ],
      "text/plain": [
       "                                   time         CO2         RH          T  \\\n",
       "0      2021-08-01 00:00:14.665830+00:00  567.090759  50.433613  24.942894   \n",
       "1      2021-08-01 00:00:31.686256+00:00  567.109070  50.410419  24.929543   \n",
       "2      2021-08-01 00:00:47.250102+00:00  567.323364  50.538620  24.900169   \n",
       "3      2021-08-01 00:01:04.248512+00:00  568.063171  50.538757  24.929543   \n",
       "4      2021-08-01 00:01:20.346114+00:00  568.112244  50.472427  24.913521   \n",
       "...                                 ...         ...        ...        ...   \n",
       "286130 2021-09-24 07:56:46.740637+00:00  423.121521  55.531658  23.618408   \n",
       "286131 2021-09-24 07:57:02.893482+00:00  422.458954  55.296696  23.661133   \n",
       "286132 2021-09-24 07:57:18.828718+00:00  423.857361  55.453129  23.661133   \n",
       "286133 2021-09-24 07:57:35.407590+00:00  423.537872  55.489937  23.661133   \n",
       "286134 2021-09-24 07:57:51.946000+00:00  423.425720  55.393318  23.661133   \n",
       "\n",
       "            device  location      owner  \n",
       "0       bluebox-01  home-lab  jlandercy  \n",
       "1       bluebox-01  home-lab  jlandercy  \n",
       "2       bluebox-01  home-lab  jlandercy  \n",
       "3       bluebox-01  home-lab  jlandercy  \n",
       "4       bluebox-01  home-lab  jlandercy  \n",
       "...            ...       ...        ...  \n",
       "286130  bluebox-01  home-lab  jlandercy  \n",
       "286131  bluebox-01  home-lab  jlandercy  \n",
       "286132  bluebox-01  home-lab  jlandercy  \n",
       "286133  bluebox-01  home-lab  jlandercy  \n",
       "286134  bluebox-01  home-lab  jlandercy  \n",
       "\n",
       "[286135 rows x 7 columns]"
      ]
     },
     "execution_count": 5,
     "metadata": {},
     "output_type": "execute_result"
    }
   ],
   "source": [
    "co2 = get_points(idb, \"SELECT * FROM scd30 WHERE time >= '2021-08-01';\", \"homevision\")\n",
    "co2"
   ]
  },
  {
   "cell_type": "code",
   "execution_count": 6,
   "metadata": {
    "ExecuteTime": {
     "end_time": "2021-09-24T07:58:39.725907Z",
     "start_time": "2021-09-24T07:58:39.142272Z"
    }
   },
   "outputs": [],
   "source": [
    "co2 = co2.set_index(\"time\").resample(\"1H\").mean()"
   ]
  },
  {
   "cell_type": "code",
   "execution_count": 7,
   "metadata": {
    "ExecuteTime": {
     "end_time": "2021-09-24T07:58:39.737216Z",
     "start_time": "2021-09-24T07:58:39.731038Z"
    }
   },
   "outputs": [],
   "source": [
    "co2.columns = [\"CO2/indoor/scd30 (ppm)\", \"RH/indoor/scd30 (%)\", \"T/indoor/scd30 (°C)\"]"
   ]
  },
  {
   "cell_type": "code",
   "execution_count": 8,
   "metadata": {
    "ExecuteTime": {
     "end_time": "2021-09-24T07:58:39.745540Z",
     "start_time": "2021-09-24T07:58:39.740829Z"
    }
   },
   "outputs": [],
   "source": [
    "co2.columns.name = \"seriekey\""
   ]
  },
  {
   "cell_type": "code",
   "execution_count": 9,
   "metadata": {
    "ExecuteTime": {
     "end_time": "2021-09-24T07:58:41.138169Z",
     "start_time": "2021-09-24T07:58:39.751775Z"
    }
   },
   "outputs": [
    {
     "data": {
      "text/plain": [
       "<AxesSubplot:xlabel='time'>"
      ]
     },
     "execution_count": 9,
     "metadata": {},
     "output_type": "execute_result"
    },
    {
     "data": {
      "image/png": "[encoded data removed]",
      "text/plain": [
       "<Figure size 432x288 with 1 Axes>"
      ]
     },
     "metadata": {
      "needs_background": "light"
     },
     "output_type": "display_data"
    }
   ],
   "source": [
    "co2.plot()"
   ]
  },
  {
   "cell_type": "markdown",
   "metadata": {},
   "source": [
    "### LTH65"
   ]
  },
  {
   "cell_type": "code",
   "execution_count": 10,
   "metadata": {
    "ExecuteTime": {
     "end_time": "2021-09-24T07:58:42.317514Z",
     "start_time": "2021-09-24T07:58:41.173613Z"
    }
   },
   "outputs": [
    {
     "data": {
      "text/html": [
       "<div>\n",
       "<style scoped>\n",
       "    .dataframe tbody tr th:only-of-type {\n",
       "        vertical-align: middle;\n",
       "    }\n",
       "\n",
       "    .dataframe tbody tr th {\n",
       "        vertical-align: top;\n",
       "    }\n",
       "\n",
       "    .dataframe thead th {\n",
       "        text-align: right;\n",
       "    }\n",
       "</style>\n",
       "<table border=\"1\" class=\"dataframe\">\n",
       "  <thead>\n",
       "    <tr style=\"text-align: right;\">\n",
       "      <th></th>\n",
       "      <th>time</th>\n",
       "      <th>application_name</th>\n",
       "      <th>dev_eui</th>\n",
       "      <th>device_name</th>\n",
       "      <th>f_port</th>\n",
       "      <th>location</th>\n",
       "      <th>value</th>\n",
       "    </tr>\n",
       "  </thead>\n",
       "  <tbody>\n",
       "    <tr>\n",
       "      <th>0</th>\n",
       "      <td>2021-08-01 00:05:37.909000+00:00</td>\n",
       "      <td>home-comfort</td>\n",
       "      <td>a84041000181bd79</td>\n",
       "      <td>node-T041</td>\n",
       "      <td>2</td>\n",
       "      <td>living-room</td>\n",
       "      <td>23.71</td>\n",
       "    </tr>\n",
       "    <tr>\n",
       "      <th>1</th>\n",
       "      <td>2021-08-01 00:06:05.716000+00:00</td>\n",
       "      <td>home-comfort</td>\n",
       "      <td>a84041000181bb73</td>\n",
       "      <td>node-T012</td>\n",
       "      <td>2</td>\n",
       "      <td>kitchen</td>\n",
       "      <td>23.81</td>\n",
       "    </tr>\n",
       "    <tr>\n",
       "      <th>2</th>\n",
       "      <td>2021-08-01 00:07:34.793000+00:00</td>\n",
       "      <td>home-comfort</td>\n",
       "      <td>a84041000181bd52</td>\n",
       "      <td>node-T040</td>\n",
       "      <td>2</td>\n",
       "      <td>bathroom-parent</td>\n",
       "      <td>23.32</td>\n",
       "    </tr>\n",
       "    <tr>\n",
       "      <th>3</th>\n",
       "      <td>2021-08-01 00:11:05.908000+00:00</td>\n",
       "      <td>home-comfort</td>\n",
       "      <td>a84041000181bd7d</td>\n",
       "      <td>node-T046</td>\n",
       "      <td>2</td>\n",
       "      <td>bedroom-child-right</td>\n",
       "      <td>23.67</td>\n",
       "    </tr>\n",
       "    <tr>\n",
       "      <th>4</th>\n",
       "      <td>2021-08-01 00:13:47.422000+00:00</td>\n",
       "      <td>home-comfort</td>\n",
       "      <td>a84041000181bd48</td>\n",
       "      <td>node-T042</td>\n",
       "      <td>2</td>\n",
       "      <td>bathroom-children</td>\n",
       "      <td>23.61</td>\n",
       "    </tr>\n",
       "    <tr>\n",
       "      <th>...</th>\n",
       "      <td>...</td>\n",
       "      <td>...</td>\n",
       "      <td>...</td>\n",
       "      <td>...</td>\n",
       "      <td>...</td>\n",
       "      <td>...</td>\n",
       "      <td>...</td>\n",
       "    </tr>\n",
       "    <tr>\n",
       "      <th>31096</th>\n",
       "      <td>2021-09-24 07:50:02.950000+00:00</td>\n",
       "      <td>home-comfort</td>\n",
       "      <td>a84041000181bd7d</td>\n",
       "      <td>node-T046</td>\n",
       "      <td>2</td>\n",
       "      <td>bedroom-child-right</td>\n",
       "      <td>21.07</td>\n",
       "    </tr>\n",
       "    <tr>\n",
       "      <th>31097</th>\n",
       "      <td>2021-09-24 07:52:48.926000+00:00</td>\n",
       "      <td>home-comfort</td>\n",
       "      <td>a84041000181bd48</td>\n",
       "      <td>node-T042</td>\n",
       "      <td>2</td>\n",
       "      <td>bathroom-children</td>\n",
       "      <td>21.73</td>\n",
       "    </tr>\n",
       "    <tr>\n",
       "      <th>31098</th>\n",
       "      <td>2021-09-24 07:52:54.197000+00:00</td>\n",
       "      <td>home-comfort</td>\n",
       "      <td>a84041000181bd60</td>\n",
       "      <td>node-T043</td>\n",
       "      <td>2</td>\n",
       "      <td>bedroom-child-left</td>\n",
       "      <td>21.50</td>\n",
       "    </tr>\n",
       "    <tr>\n",
       "      <th>31099</th>\n",
       "      <td>2021-09-24 07:54:16.695000+00:00</td>\n",
       "      <td>home-comfort</td>\n",
       "      <td>a84041000181bd5a</td>\n",
       "      <td>node-T047</td>\n",
       "      <td>2</td>\n",
       "      <td>bedroom-parent</td>\n",
       "      <td>21.31</td>\n",
       "    </tr>\n",
       "    <tr>\n",
       "      <th>31100</th>\n",
       "      <td>2021-09-24 07:54:21.150000+00:00</td>\n",
       "      <td>home-comfort</td>\n",
       "      <td>a84041000181bb5a</td>\n",
       "      <td>node-T011</td>\n",
       "      <td>2</td>\n",
       "      <td>outdoor</td>\n",
       "      <td>17.09</td>\n",
       "    </tr>\n",
       "  </tbody>\n",
       "</table>\n",
       "<p>31101 rows × 7 columns</p>\n",
       "</div>"
      ],
      "text/plain": [
       "                                  time application_name           dev_eui  \\\n",
       "0     2021-08-01 00:05:37.909000+00:00     home-comfort  a84041000181bd79   \n",
       "1     2021-08-01 00:06:05.716000+00:00     home-comfort  a84041000181bb73   \n",
       "2     2021-08-01 00:07:34.793000+00:00     home-comfort  a84041000181bd52   \n",
       "3     2021-08-01 00:11:05.908000+00:00     home-comfort  a84041000181bd7d   \n",
       "4     2021-08-01 00:13:47.422000+00:00     home-comfort  a84041000181bd48   \n",
       "...                                ...              ...               ...   \n",
       "31096 2021-09-24 07:50:02.950000+00:00     home-comfort  a84041000181bd7d   \n",
       "31097 2021-09-24 07:52:48.926000+00:00     home-comfort  a84041000181bd48   \n",
       "31098 2021-09-24 07:52:54.197000+00:00     home-comfort  a84041000181bd60   \n",
       "31099 2021-09-24 07:54:16.695000+00:00     home-comfort  a84041000181bd5a   \n",
       "31100 2021-09-24 07:54:21.150000+00:00     home-comfort  a84041000181bb5a   \n",
       "\n",
       "      device_name f_port             location  value  \n",
       "0       node-T041      2          living-room  23.71  \n",
       "1       node-T012      2              kitchen  23.81  \n",
       "2       node-T040      2      bathroom-parent  23.32  \n",
       "3       node-T046      2  bedroom-child-right  23.67  \n",
       "4       node-T042      2    bathroom-children  23.61  \n",
       "...           ...    ...                  ...    ...  \n",
       "31096   node-T046      2  bedroom-child-right  21.07  \n",
       "31097   node-T042      2    bathroom-children  21.73  \n",
       "31098   node-T043      2   bedroom-child-left  21.50  \n",
       "31099   node-T047      2       bedroom-parent  21.31  \n",
       "31100   node-T011      2              outdoor  17.09  \n",
       "\n",
       "[31101 rows x 7 columns]"
      ]
     },
     "execution_count": 10,
     "metadata": {},
     "output_type": "execute_result"
    }
   ],
   "source": [
    "Tnode = get_points(idb, \n",
    "      \"SELECT * FROM device_frmpayload_data_node_temperature WHERE time >= '2021-08-01';\", \"chirpstack_lht65\")\n",
    "Tnode"
   ]
  },
  {
   "cell_type": "code",
   "execution_count": 11,
   "metadata": {
    "ExecuteTime": {
     "end_time": "2021-09-24T07:58:42.397255Z",
     "start_time": "2021-09-24T07:58:42.321046Z"
    }
   },
   "outputs": [],
   "source": [
    "Tnode[\"time\"] = Tnode[\"time\"].dt.floor(\"1H\")\n",
    "Tnode = Tnode.pivot_table(index=\"time\", columns=\"location\", values=\"value\")"
   ]
  },
  {
   "cell_type": "code",
   "execution_count": 12,
   "metadata": {
    "ExecuteTime": {
     "end_time": "2021-09-24T07:58:42.416713Z",
     "start_time": "2021-09-24T07:58:42.402717Z"
    }
   },
   "outputs": [],
   "source": [
    "Tnode = Tnode[[\"living-room\", \"outdoor\"]]\n",
    "Tnode[Tnode>100] = None"
   ]
  },
  {
   "cell_type": "code",
   "execution_count": 13,
   "metadata": {
    "ExecuteTime": {
     "end_time": "2021-09-24T07:58:42.426910Z",
     "start_time": "2021-09-24T07:58:42.422734Z"
    }
   },
   "outputs": [],
   "source": [
    "Tnode.columns.name = \"seriekey\""
   ]
  },
  {
   "cell_type": "code",
   "execution_count": 14,
   "metadata": {
    "ExecuteTime": {
     "end_time": "2021-09-24T07:58:42.436908Z",
     "start_time": "2021-09-24T07:58:42.430974Z"
    }
   },
   "outputs": [],
   "source": [
    "Tnode.columns = [\"T/indoor/lht65 (°C)\", \"T/outdoor/lht65 (°C)\"]"
   ]
  },
  {
   "cell_type": "code",
   "execution_count": 15,
   "metadata": {
    "ExecuteTime": {
     "end_time": "2021-09-24T07:58:43.188956Z",
     "start_time": "2021-09-24T07:58:42.441127Z"
    }
   },
   "outputs": [
    {
     "data": {
      "text/plain": [
       "<AxesSubplot:xlabel='time'>"
      ]
     },
     "execution_count": 15,
     "metadata": {},
     "output_type": "execute_result"
    },
    {
     "data": {
      "image/png": "[encoded data removed]",
      "text/plain": [
       "<Figure size 432x288 with 1 Axes>"
      ]
     },
     "metadata": {
      "needs_background": "light"
     },
     "output_type": "display_data"
    }
   ],
   "source": [
    "Tnode.plot()"
   ]
  },
  {
   "cell_type": "code",
   "execution_count": 16,
   "metadata": {
    "ExecuteTime": {
     "end_time": "2021-09-24T07:58:44.070860Z",
     "start_time": "2021-09-24T07:58:43.191980Z"
    }
   },
   "outputs": [
    {
     "data": {
      "text/html": [
       "<div>\n",
       "<style scoped>\n",
       "    .dataframe tbody tr th:only-of-type {\n",
       "        vertical-align: middle;\n",
       "    }\n",
       "\n",
       "    .dataframe tbody tr th {\n",
       "        vertical-align: top;\n",
       "    }\n",
       "\n",
       "    .dataframe thead th {\n",
       "        text-align: right;\n",
       "    }\n",
       "</style>\n",
       "<table border=\"1\" class=\"dataframe\">\n",
       "  <thead>\n",
       "    <tr style=\"text-align: right;\">\n",
       "      <th></th>\n",
       "      <th>time</th>\n",
       "      <th>application_name</th>\n",
       "      <th>dev_eui</th>\n",
       "      <th>device_name</th>\n",
       "      <th>f_port</th>\n",
       "      <th>location</th>\n",
       "      <th>value</th>\n",
       "    </tr>\n",
       "  </thead>\n",
       "  <tbody>\n",
       "    <tr>\n",
       "      <th>0</th>\n",
       "      <td>2021-08-01 00:05:37.909000+00:00</td>\n",
       "      <td>home-comfort</td>\n",
       "      <td>a84041000181bd79</td>\n",
       "      <td>node-T041</td>\n",
       "      <td>2</td>\n",
       "      <td>living-room</td>\n",
       "      <td>55.5</td>\n",
       "    </tr>\n",
       "    <tr>\n",
       "      <th>1</th>\n",
       "      <td>2021-08-01 00:06:05.716000+00:00</td>\n",
       "      <td>home-comfort</td>\n",
       "      <td>a84041000181bb73</td>\n",
       "      <td>node-T012</td>\n",
       "      <td>2</td>\n",
       "      <td>kitchen</td>\n",
       "      <td>55.8</td>\n",
       "    </tr>\n",
       "    <tr>\n",
       "      <th>2</th>\n",
       "      <td>2021-08-01 00:07:34.793000+00:00</td>\n",
       "      <td>home-comfort</td>\n",
       "      <td>a84041000181bd52</td>\n",
       "      <td>node-T040</td>\n",
       "      <td>2</td>\n",
       "      <td>bathroom-parent</td>\n",
       "      <td>58.3</td>\n",
       "    </tr>\n",
       "    <tr>\n",
       "      <th>3</th>\n",
       "      <td>2021-08-01 00:11:05.908000+00:00</td>\n",
       "      <td>home-comfort</td>\n",
       "      <td>a84041000181bd7d</td>\n",
       "      <td>node-T046</td>\n",
       "      <td>2</td>\n",
       "      <td>bedroom-child-right</td>\n",
       "      <td>59.9</td>\n",
       "    </tr>\n",
       "    <tr>\n",
       "      <th>4</th>\n",
       "      <td>2021-08-01 00:13:47.422000+00:00</td>\n",
       "      <td>home-comfort</td>\n",
       "      <td>a84041000181bd48</td>\n",
       "      <td>node-T042</td>\n",
       "      <td>2</td>\n",
       "      <td>bathroom-children</td>\n",
       "      <td>58.6</td>\n",
       "    </tr>\n",
       "    <tr>\n",
       "      <th>...</th>\n",
       "      <td>...</td>\n",
       "      <td>...</td>\n",
       "      <td>...</td>\n",
       "      <td>...</td>\n",
       "      <td>...</td>\n",
       "      <td>...</td>\n",
       "      <td>...</td>\n",
       "    </tr>\n",
       "    <tr>\n",
       "      <th>31096</th>\n",
       "      <td>2021-09-24 07:50:02.950000+00:00</td>\n",
       "      <td>home-comfort</td>\n",
       "      <td>a84041000181bd7d</td>\n",
       "      <td>node-T046</td>\n",
       "      <td>2</td>\n",
       "      <td>bedroom-child-right</td>\n",
       "      <td>65.6</td>\n",
       "    </tr>\n",
       "    <tr>\n",
       "      <th>31097</th>\n",
       "      <td>2021-09-24 07:52:48.926000+00:00</td>\n",
       "      <td>home-comfort</td>\n",
       "      <td>a84041000181bd48</td>\n",
       "      <td>node-T042</td>\n",
       "      <td>2</td>\n",
       "      <td>bathroom-children</td>\n",
       "      <td>64.0</td>\n",
       "    </tr>\n",
       "    <tr>\n",
       "      <th>31098</th>\n",
       "      <td>2021-09-24 07:52:54.197000+00:00</td>\n",
       "      <td>home-comfort</td>\n",
       "      <td>a84041000181bd60</td>\n",
       "      <td>node-T043</td>\n",
       "      <td>2</td>\n",
       "      <td>bedroom-child-left</td>\n",
       "      <td>65.6</td>\n",
       "    </tr>\n",
       "    <tr>\n",
       "      <th>31099</th>\n",
       "      <td>2021-09-24 07:54:16.695000+00:00</td>\n",
       "      <td>home-comfort</td>\n",
       "      <td>a84041000181bd5a</td>\n",
       "      <td>node-T047</td>\n",
       "      <td>2</td>\n",
       "      <td>bedroom-parent</td>\n",
       "      <td>64.9</td>\n",
       "    </tr>\n",
       "    <tr>\n",
       "      <th>31100</th>\n",
       "      <td>2021-09-24 07:54:21.150000+00:00</td>\n",
       "      <td>home-comfort</td>\n",
       "      <td>a84041000181bb5a</td>\n",
       "      <td>node-T011</td>\n",
       "      <td>2</td>\n",
       "      <td>outdoor</td>\n",
       "      <td>85.6</td>\n",
       "    </tr>\n",
       "  </tbody>\n",
       "</table>\n",
       "<p>31101 rows × 7 columns</p>\n",
       "</div>"
      ],
      "text/plain": [
       "                                  time application_name           dev_eui  \\\n",
       "0     2021-08-01 00:05:37.909000+00:00     home-comfort  a84041000181bd79   \n",
       "1     2021-08-01 00:06:05.716000+00:00     home-comfort  a84041000181bb73   \n",
       "2     2021-08-01 00:07:34.793000+00:00     home-comfort  a84041000181bd52   \n",
       "3     2021-08-01 00:11:05.908000+00:00     home-comfort  a84041000181bd7d   \n",
       "4     2021-08-01 00:13:47.422000+00:00     home-comfort  a84041000181bd48   \n",
       "...                                ...              ...               ...   \n",
       "31096 2021-09-24 07:50:02.950000+00:00     home-comfort  a84041000181bd7d   \n",
       "31097 2021-09-24 07:52:48.926000+00:00     home-comfort  a84041000181bd48   \n",
       "31098 2021-09-24 07:52:54.197000+00:00     home-comfort  a84041000181bd60   \n",
       "31099 2021-09-24 07:54:16.695000+00:00     home-comfort  a84041000181bd5a   \n",
       "31100 2021-09-24 07:54:21.150000+00:00     home-comfort  a84041000181bb5a   \n",
       "\n",
       "      device_name f_port             location  value  \n",
       "0       node-T041      2          living-room   55.5  \n",
       "1       node-T012      2              kitchen   55.8  \n",
       "2       node-T040      2      bathroom-parent   58.3  \n",
       "3       node-T046      2  bedroom-child-right   59.9  \n",
       "4       node-T042      2    bathroom-children   58.6  \n",
       "...           ...    ...                  ...    ...  \n",
       "31096   node-T046      2  bedroom-child-right   65.6  \n",
       "31097   node-T042      2    bathroom-children   64.0  \n",
       "31098   node-T043      2   bedroom-child-left   65.6  \n",
       "31099   node-T047      2       bedroom-parent   64.9  \n",
       "31100   node-T011      2              outdoor   85.6  \n",
       "\n",
       "[31101 rows x 7 columns]"
      ]
     },
     "execution_count": 16,
     "metadata": {},
     "output_type": "execute_result"
    }
   ],
   "source": [
    "RHnode = get_points(idb, \n",
    "      \"SELECT * FROM device_frmpayload_data_node_humidity WHERE time >= '2021-08-01';\", \"chirpstack_lht65\")\n",
    "RHnode"
   ]
  },
  {
   "cell_type": "code",
   "execution_count": 17,
   "metadata": {
    "ExecuteTime": {
     "end_time": "2021-09-24T07:58:44.128665Z",
     "start_time": "2021-09-24T07:58:44.074745Z"
    }
   },
   "outputs": [],
   "source": [
    "RHnode[\"time\"] = RHnode[\"time\"].dt.floor(\"1H\")\n",
    "RHnode = RHnode.pivot_table(index=\"time\", columns=\"location\", values=\"value\")"
   ]
  },
  {
   "cell_type": "code",
   "execution_count": 18,
   "metadata": {
    "ExecuteTime": {
     "end_time": "2021-09-24T07:58:44.134619Z",
     "start_time": "2021-09-24T07:58:44.131389Z"
    }
   },
   "outputs": [],
   "source": [
    "RHnode.columns.name = \"seriekey\""
   ]
  },
  {
   "cell_type": "code",
   "execution_count": 19,
   "metadata": {
    "ExecuteTime": {
     "end_time": "2021-09-24T07:58:44.849762Z",
     "start_time": "2021-09-24T07:58:44.137092Z"
    }
   },
   "outputs": [
    {
     "data": {
      "text/plain": [
       "<AxesSubplot:xlabel='time'>"
      ]
     },
     "execution_count": 19,
     "metadata": {},
     "output_type": "execute_result"
    },
    {
     "data": {
      "image/png": "[encoded data removed]",
      "text/plain": [
       "<Figure size 432x288 with 1 Axes>"
      ]
     },
     "metadata": {
      "needs_background": "light"
     },
     "output_type": "display_data"
    }
   ],
   "source": [
    "RHnode = RHnode[[\"living-room\", \"outdoor\"]]\n",
    "RHnode.columns = [\"RH/indoor/lht65 (%)\", \"RH/outdoor/lht65 (%)\"]\n",
    "RHnode.plot()"
   ]
  },
  {
   "cell_type": "markdown",
   "metadata": {},
   "source": [
    "### BME280"
   ]
  },
  {
   "cell_type": "code",
   "execution_count": 20,
   "metadata": {
    "ExecuteTime": {
     "end_time": "2021-09-24T07:58:56.613807Z",
     "start_time": "2021-09-24T07:58:44.854095Z"
    }
   },
   "outputs": [
    {
     "data": {
      "text/html": [
       "<div>\n",
       "<style scoped>\n",
       "    .dataframe tbody tr th:only-of-type {\n",
       "        vertical-align: middle;\n",
       "    }\n",
       "\n",
       "    .dataframe tbody tr th {\n",
       "        vertical-align: top;\n",
       "    }\n",
       "\n",
       "    .dataframe thead th {\n",
       "        text-align: right;\n",
       "    }\n",
       "</style>\n",
       "<table border=\"1\" class=\"dataframe\">\n",
       "  <thead>\n",
       "    <tr style=\"text-align: right;\">\n",
       "      <th></th>\n",
       "      <th>time</th>\n",
       "      <th>device</th>\n",
       "      <th>humidity</th>\n",
       "      <th>location</th>\n",
       "      <th>measuring</th>\n",
       "      <th>owner</th>\n",
       "      <th>pressure</th>\n",
       "      <th>temperature</th>\n",
       "      <th>updated</th>\n",
       "    </tr>\n",
       "  </thead>\n",
       "  <tbody>\n",
       "    <tr>\n",
       "      <th>0</th>\n",
       "      <td>2021-08-01 00:00:09.776820+00:00</td>\n",
       "      <td>bluebox-01</td>\n",
       "      <td>31.827764</td>\n",
       "      <td>home-lab</td>\n",
       "      <td>0</td>\n",
       "      <td>jlandercy</td>\n",
       "      <td>1007.288902</td>\n",
       "      <td>31.679309</td>\n",
       "      <td>0</td>\n",
       "    </tr>\n",
       "    <tr>\n",
       "      <th>1</th>\n",
       "      <td>2021-08-01 00:00:19.776826+00:00</td>\n",
       "      <td>bluebox-01</td>\n",
       "      <td>31.857528</td>\n",
       "      <td>home-lab</td>\n",
       "      <td>0</td>\n",
       "      <td>jlandercy</td>\n",
       "      <td>1007.268425</td>\n",
       "      <td>31.664176</td>\n",
       "      <td>0</td>\n",
       "    </tr>\n",
       "    <tr>\n",
       "      <th>2</th>\n",
       "      <td>2021-08-01 00:00:29.796057+00:00</td>\n",
       "      <td>bluebox-01</td>\n",
       "      <td>31.869550</td>\n",
       "      <td>home-lab</td>\n",
       "      <td>0</td>\n",
       "      <td>jlandercy</td>\n",
       "      <td>1007.248678</td>\n",
       "      <td>31.652826</td>\n",
       "      <td>0</td>\n",
       "    </tr>\n",
       "    <tr>\n",
       "      <th>3</th>\n",
       "      <td>2021-08-01 00:00:39.796544+00:00</td>\n",
       "      <td>bluebox-01</td>\n",
       "      <td>31.887207</td>\n",
       "      <td>home-lab</td>\n",
       "      <td>0</td>\n",
       "      <td>jlandercy</td>\n",
       "      <td>1007.255702</td>\n",
       "      <td>31.652826</td>\n",
       "      <td>0</td>\n",
       "    </tr>\n",
       "    <tr>\n",
       "      <th>4</th>\n",
       "      <td>2021-08-01 00:00:49.798433+00:00</td>\n",
       "      <td>bluebox-01</td>\n",
       "      <td>31.899047</td>\n",
       "      <td>home-lab</td>\n",
       "      <td>0</td>\n",
       "      <td>jlandercy</td>\n",
       "      <td>1007.236657</td>\n",
       "      <td>31.649673</td>\n",
       "      <td>0</td>\n",
       "    </tr>\n",
       "    <tr>\n",
       "      <th>...</th>\n",
       "      <td>...</td>\n",
       "      <td>...</td>\n",
       "      <td>...</td>\n",
       "      <td>...</td>\n",
       "      <td>...</td>\n",
       "      <td>...</td>\n",
       "      <td>...</td>\n",
       "      <td>...</td>\n",
       "      <td>...</td>\n",
       "    </tr>\n",
       "    <tr>\n",
       "      <th>467630</th>\n",
       "      <td>2021-09-24 07:57:12.216727+00:00</td>\n",
       "      <td>bluebox-01</td>\n",
       "      <td>34.836633</td>\n",
       "      <td>home-lab</td>\n",
       "      <td>0</td>\n",
       "      <td>jlandercy</td>\n",
       "      <td>1014.415857</td>\n",
       "      <td>30.367489</td>\n",
       "      <td>0</td>\n",
       "    </tr>\n",
       "    <tr>\n",
       "      <th>467631</th>\n",
       "      <td>2021-09-24 07:57:22.815167+00:00</td>\n",
       "      <td>bluebox-01</td>\n",
       "      <td>34.866042</td>\n",
       "      <td>home-lab</td>\n",
       "      <td>0</td>\n",
       "      <td>jlandercy</td>\n",
       "      <td>1014.409785</td>\n",
       "      <td>30.361499</td>\n",
       "      <td>0</td>\n",
       "    </tr>\n",
       "    <tr>\n",
       "      <th>467632</th>\n",
       "      <td>2021-09-24 07:57:32.827689+00:00</td>\n",
       "      <td>bluebox-01</td>\n",
       "      <td>34.854234</td>\n",
       "      <td>home-lab</td>\n",
       "      <td>0</td>\n",
       "      <td>jlandercy</td>\n",
       "      <td>1014.432375</td>\n",
       "      <td>30.366858</td>\n",
       "      <td>0</td>\n",
       "    </tr>\n",
       "    <tr>\n",
       "      <th>467633</th>\n",
       "      <td>2021-09-24 07:57:42.827689+00:00</td>\n",
       "      <td>bluebox-01</td>\n",
       "      <td>34.842360</td>\n",
       "      <td>home-lab</td>\n",
       "      <td>0</td>\n",
       "      <td>jlandercy</td>\n",
       "      <td>1014.435732</td>\n",
       "      <td>30.376631</td>\n",
       "      <td>0</td>\n",
       "    </tr>\n",
       "    <tr>\n",
       "      <th>467634</th>\n",
       "      <td>2021-09-24 07:57:52.828365+00:00</td>\n",
       "      <td>bluebox-01</td>\n",
       "      <td>34.824734</td>\n",
       "      <td>home-lab</td>\n",
       "      <td>0</td>\n",
       "      <td>jlandercy</td>\n",
       "      <td>1014.441014</td>\n",
       "      <td>30.378838</td>\n",
       "      <td>0</td>\n",
       "    </tr>\n",
       "  </tbody>\n",
       "</table>\n",
       "<p>467635 rows × 9 columns</p>\n",
       "</div>"
      ],
      "text/plain": [
       "                                   time      device   humidity  location  \\\n",
       "0      2021-08-01 00:00:09.776820+00:00  bluebox-01  31.827764  home-lab   \n",
       "1      2021-08-01 00:00:19.776826+00:00  bluebox-01  31.857528  home-lab   \n",
       "2      2021-08-01 00:00:29.796057+00:00  bluebox-01  31.869550  home-lab   \n",
       "3      2021-08-01 00:00:39.796544+00:00  bluebox-01  31.887207  home-lab   \n",
       "4      2021-08-01 00:00:49.798433+00:00  bluebox-01  31.899047  home-lab   \n",
       "...                                 ...         ...        ...       ...   \n",
       "467630 2021-09-24 07:57:12.216727+00:00  bluebox-01  34.836633  home-lab   \n",
       "467631 2021-09-24 07:57:22.815167+00:00  bluebox-01  34.866042  home-lab   \n",
       "467632 2021-09-24 07:57:32.827689+00:00  bluebox-01  34.854234  home-lab   \n",
       "467633 2021-09-24 07:57:42.827689+00:00  bluebox-01  34.842360  home-lab   \n",
       "467634 2021-09-24 07:57:52.828365+00:00  bluebox-01  34.824734  home-lab   \n",
       "\n",
       "        measuring      owner     pressure  temperature  updated  \n",
       "0               0  jlandercy  1007.288902    31.679309        0  \n",
       "1               0  jlandercy  1007.268425    31.664176        0  \n",
       "2               0  jlandercy  1007.248678    31.652826        0  \n",
       "3               0  jlandercy  1007.255702    31.652826        0  \n",
       "4               0  jlandercy  1007.236657    31.649673        0  \n",
       "...           ...        ...          ...          ...      ...  \n",
       "467630          0  jlandercy  1014.415857    30.367489        0  \n",
       "467631          0  jlandercy  1014.409785    30.361499        0  \n",
       "467632          0  jlandercy  1014.432375    30.366858        0  \n",
       "467633          0  jlandercy  1014.435732    30.376631        0  \n",
       "467634          0  jlandercy  1014.441014    30.378838        0  \n",
       "\n",
       "[467635 rows x 9 columns]"
      ]
     },
     "execution_count": 20,
     "metadata": {},
     "output_type": "execute_result"
    }
   ],
   "source": [
    "p = get_points(idb, \n",
    "      \"SELECT * FROM bme280 WHERE time >= '2021-08-01';\", \"homevision\")\n",
    "p"
   ]
  },
  {
   "cell_type": "code",
   "execution_count": 21,
   "metadata": {
    "ExecuteTime": {
     "end_time": "2021-09-24T07:58:56.898013Z",
     "start_time": "2021-09-24T07:58:56.616166Z"
    }
   },
   "outputs": [],
   "source": [
    "p = p.set_index(\"time\").resample(\"1H\").mean()[[\"humidity\", \"pressure\", \"temperature\"]]"
   ]
  },
  {
   "cell_type": "code",
   "execution_count": 22,
   "metadata": {
    "ExecuteTime": {
     "end_time": "2021-09-24T07:58:56.906354Z",
     "start_time": "2021-09-24T07:58:56.902372Z"
    }
   },
   "outputs": [],
   "source": [
    "p.columns.name = \"seriekey\""
   ]
  },
  {
   "cell_type": "code",
   "execution_count": 23,
   "metadata": {
    "ExecuteTime": {
     "end_time": "2021-09-24T07:58:56.913400Z",
     "start_time": "2021-09-24T07:58:56.909174Z"
    }
   },
   "outputs": [],
   "source": [
    "p.columns = [\"RH/indoor/bme280 (%)\", \"p/indoor/bme280 (hPa)\", \"T/indoor/bme280 (°C)\"]"
   ]
  },
  {
   "cell_type": "code",
   "execution_count": 24,
   "metadata": {
    "ExecuteTime": {
     "end_time": "2021-09-24T07:58:57.535933Z",
     "start_time": "2021-09-24T07:58:56.916115Z"
    }
   },
   "outputs": [
    {
     "data": {
      "text/plain": [
       "<AxesSubplot:xlabel='time'>"
      ]
     },
     "execution_count": 24,
     "metadata": {},
     "output_type": "execute_result"
    },
    {
     "data": {
      "image/png": "[encoded data removed]",
      "text/plain": [
       "<Figure size 432x288 with 1 Axes>"
      ]
     },
     "metadata": {
      "needs_background": "light"
     },
     "output_type": "display_data"
    }
   ],
   "source": [
    "p.plot()"
   ]
  },
  {
   "cell_type": "code",
   "execution_count": null,
   "metadata": {},
   "outputs": [],
   "source": []
  },
  {
   "cell_type": "code",
   "execution_count": null,
   "metadata": {},
   "outputs": [],
   "source": []
  },
  {
   "cell_type": "code",
   "execution_count": 25,
   "metadata": {
    "ExecuteTime": {
     "end_time": "2021-09-24T07:58:57.545132Z",
     "start_time": "2021-09-24T07:58:57.538416Z"
    }
   },
   "outputs": [],
   "source": [
    "client = Irceline()"
   ]
  },
  {
   "cell_type": "code",
   "execution_count": 26,
   "metadata": {
    "ExecuteTime": {
     "end_time": "2021-09-24T07:58:59.364890Z",
     "start_time": "2021-09-24T07:58:57.547008Z"
    }
   },
   "outputs": [
    {
     "data": {
      "text/html": [
       "<div>\n",
       "<style scoped>\n",
       "    .dataframe tbody tr th:only-of-type {\n",
       "        vertical-align: middle;\n",
       "    }\n",
       "\n",
       "    .dataframe tbody tr th {\n",
       "        vertical-align: top;\n",
       "    }\n",
       "\n",
       "    .dataframe thead th {\n",
       "        text-align: right;\n",
       "    }\n",
       "</style>\n",
       "<table border=\"1\" class=\"dataframe\">\n",
       "  <thead>\n",
       "    <tr style=\"text-align: right;\">\n",
       "      <th></th>\n",
       "      <th>serieid</th>\n",
       "      <th>siteid</th>\n",
       "      <th>measureid</th>\n",
       "      <th>serieunits</th>\n",
       "      <th>measurekey</th>\n",
       "      <th>measurename</th>\n",
       "      <th>sitekey</th>\n",
       "      <th>sitename</th>\n",
       "      <th>seriekey</th>\n",
       "      <th>molarmass</th>\n",
       "      <th>...</th>\n",
       "      <th>nuts1id</th>\n",
       "      <th>nuts2id</th>\n",
       "      <th>nuts3id</th>\n",
       "      <th>nuts1name</th>\n",
       "      <th>nuts2name</th>\n",
       "      <th>nuts3name</th>\n",
       "      <th>lauid</th>\n",
       "      <th>launame</th>\n",
       "      <th>started</th>\n",
       "      <th>stopped</th>\n",
       "    </tr>\n",
       "  </thead>\n",
       "  <tbody>\n",
       "    <tr>\n",
       "      <th>42</th>\n",
       "      <td>6612</td>\n",
       "      <td>1119</td>\n",
       "      <td>71</td>\n",
       "      <td>ppm</td>\n",
       "      <td>CO2</td>\n",
       "      <td>Carbon Dioxide</td>\n",
       "      <td>41R002</td>\n",
       "      <td>Ixelles</td>\n",
       "      <td>CO2/41R002 (ppm)</td>\n",
       "      <td>44.0</td>\n",
       "      <td>...</td>\n",
       "      <td>BE1</td>\n",
       "      <td>BE10</td>\n",
       "      <td>BE100</td>\n",
       "      <td>RÉGION DE BRUXELLES-CAPITALE/BRUSSELS HOOFDSTE...</td>\n",
       "      <td>Brussels</td>\n",
       "      <td>de Bruxelles-Capitale/van Brussel-Hoofdstad</td>\n",
       "      <td>BE_21009</td>\n",
       "      <td>Ixelles</td>\n",
       "      <td>2012-05-29 01:00:00+00:00</td>\n",
       "      <td>2021-06-16 10:00:00+00:00</td>\n",
       "    </tr>\n",
       "    <tr>\n",
       "      <th>43</th>\n",
       "      <td>6619</td>\n",
       "      <td>1122</td>\n",
       "      <td>71</td>\n",
       "      <td>ppm</td>\n",
       "      <td>CO2</td>\n",
       "      <td>Carbon Dioxide</td>\n",
       "      <td>41R012</td>\n",
       "      <td>Uccle</td>\n",
       "      <td>CO2/41R012 (ppm)</td>\n",
       "      <td>44.0</td>\n",
       "      <td>...</td>\n",
       "      <td>BE1</td>\n",
       "      <td>BE10</td>\n",
       "      <td>BE100</td>\n",
       "      <td>RÉGION DE BRUXELLES-CAPITALE/BRUSSELS HOOFDSTE...</td>\n",
       "      <td>Brussels</td>\n",
       "      <td>de Bruxelles-Capitale/van Brussel-Hoofdstad</td>\n",
       "      <td>BE_21016</td>\n",
       "      <td>Uccle</td>\n",
       "      <td>2012-05-29 01:00:00+00:00</td>\n",
       "      <td>2021-09-24 07:00:00+00:00</td>\n",
       "    </tr>\n",
       "    <tr>\n",
       "      <th>462</th>\n",
       "      <td>10793</td>\n",
       "      <td>1118</td>\n",
       "      <td>62106</td>\n",
       "      <td>%</td>\n",
       "      <td>RH</td>\n",
       "      <td>relative humidity</td>\n",
       "      <td>41R001</td>\n",
       "      <td>Molenbeek-Saint-Jean</td>\n",
       "      <td>RH/41R001 (%)</td>\n",
       "      <td>NaN</td>\n",
       "      <td>...</td>\n",
       "      <td>BE1</td>\n",
       "      <td>BE10</td>\n",
       "      <td>BE100</td>\n",
       "      <td>RÉGION DE BRUXELLES-CAPITALE/BRUSSELS HOOFDSTE...</td>\n",
       "      <td>Brussels</td>\n",
       "      <td>de Bruxelles-Capitale/van Brussel-Hoofdstad</td>\n",
       "      <td>BE_21012</td>\n",
       "      <td>Molenbeek-Saint-Jean</td>\n",
       "      <td>2019-01-01 01:00:00+00:00</td>\n",
       "      <td>2021-09-24 07:00:00+00:00</td>\n",
       "    </tr>\n",
       "    <tr>\n",
       "      <th>463</th>\n",
       "      <td>10794</td>\n",
       "      <td>1122</td>\n",
       "      <td>62106</td>\n",
       "      <td>%</td>\n",
       "      <td>RH</td>\n",
       "      <td>relative humidity</td>\n",
       "      <td>41R012</td>\n",
       "      <td>Uccle</td>\n",
       "      <td>RH/41R012 (%)</td>\n",
       "      <td>NaN</td>\n",
       "      <td>...</td>\n",
       "      <td>BE1</td>\n",
       "      <td>BE10</td>\n",
       "      <td>BE100</td>\n",
       "      <td>RÉGION DE BRUXELLES-CAPITALE/BRUSSELS HOOFDSTE...</td>\n",
       "      <td>Brussels</td>\n",
       "      <td>de Bruxelles-Capitale/van Brussel-Hoofdstad</td>\n",
       "      <td>BE_21016</td>\n",
       "      <td>Uccle</td>\n",
       "      <td>2019-01-01 01:00:00+00:00</td>\n",
       "      <td>2021-09-24 07:00:00+00:00</td>\n",
       "    </tr>\n",
       "    <tr>\n",
       "      <th>574</th>\n",
       "      <td>99914</td>\n",
       "      <td>1113</td>\n",
       "      <td>62101</td>\n",
       "      <td>°C</td>\n",
       "      <td>T</td>\n",
       "      <td>temperature</td>\n",
       "      <td>41B011</td>\n",
       "      <td>Berchem-Sainte-Agathe</td>\n",
       "      <td>T/41B011 (°C)</td>\n",
       "      <td>NaN</td>\n",
       "      <td>...</td>\n",
       "      <td>BE1</td>\n",
       "      <td>BE10</td>\n",
       "      <td>BE100</td>\n",
       "      <td>RÉGION DE BRUXELLES-CAPITALE/BRUSSELS HOOFDSTE...</td>\n",
       "      <td>Brussels</td>\n",
       "      <td>de Bruxelles-Capitale/van Brussel-Hoofdstad</td>\n",
       "      <td>BE_21003</td>\n",
       "      <td>Berchem-Sainte-Agathe</td>\n",
       "      <td>2014-01-01 01:00:00+00:00</td>\n",
       "      <td>2015-10-23 08:00:00+00:00</td>\n",
       "    </tr>\n",
       "    <tr>\n",
       "      <th>575</th>\n",
       "      <td>99917</td>\n",
       "      <td>1118</td>\n",
       "      <td>62101</td>\n",
       "      <td>°C</td>\n",
       "      <td>T</td>\n",
       "      <td>temperature</td>\n",
       "      <td>41R001</td>\n",
       "      <td>Molenbeek-Saint-Jean</td>\n",
       "      <td>T/41R001 (°C)</td>\n",
       "      <td>NaN</td>\n",
       "      <td>...</td>\n",
       "      <td>BE1</td>\n",
       "      <td>BE10</td>\n",
       "      <td>BE100</td>\n",
       "      <td>RÉGION DE BRUXELLES-CAPITALE/BRUSSELS HOOFDSTE...</td>\n",
       "      <td>Brussels</td>\n",
       "      <td>de Bruxelles-Capitale/van Brussel-Hoofdstad</td>\n",
       "      <td>BE_21012</td>\n",
       "      <td>Molenbeek-Saint-Jean</td>\n",
       "      <td>2014-01-01 01:00:00+00:00</td>\n",
       "      <td>2021-09-25 00:00:00+00:00</td>\n",
       "    </tr>\n",
       "    <tr>\n",
       "      <th>583</th>\n",
       "      <td>99941</td>\n",
       "      <td>1122</td>\n",
       "      <td>62101</td>\n",
       "      <td>°C</td>\n",
       "      <td>T</td>\n",
       "      <td>temperature</td>\n",
       "      <td>41R012</td>\n",
       "      <td>Uccle</td>\n",
       "      <td>T/41R012 (°C)</td>\n",
       "      <td>NaN</td>\n",
       "      <td>...</td>\n",
       "      <td>BE1</td>\n",
       "      <td>BE10</td>\n",
       "      <td>BE100</td>\n",
       "      <td>RÉGION DE BRUXELLES-CAPITALE/BRUSSELS HOOFDSTE...</td>\n",
       "      <td>Brussels</td>\n",
       "      <td>de Bruxelles-Capitale/van Brussel-Hoofdstad</td>\n",
       "      <td>BE_21016</td>\n",
       "      <td>Uccle</td>\n",
       "      <td>2014-01-01 01:00:00+00:00</td>\n",
       "      <td>2018-07-24 07:00:00+00:00</td>\n",
       "    </tr>\n",
       "  </tbody>\n",
       "</table>\n",
       "<p>7 rows × 25 columns</p>\n",
       "</div>"
      ],
      "text/plain": [
       "    serieid  siteid measureid serieunits measurekey        measurename  \\\n",
       "42     6612    1119        71        ppm        CO2     Carbon Dioxide   \n",
       "43     6619    1122        71        ppm        CO2     Carbon Dioxide   \n",
       "462   10793    1118     62106          %         RH  relative humidity   \n",
       "463   10794    1122     62106          %         RH  relative humidity   \n",
       "574   99914    1113     62101         °C          T        temperature   \n",
       "575   99917    1118     62101         °C          T        temperature   \n",
       "583   99941    1122     62101         °C          T        temperature   \n",
       "\n",
       "    sitekey                sitename          seriekey  molarmass  ...  \\\n",
       "42   41R002                 Ixelles  CO2/41R002 (ppm)       44.0  ...   \n",
       "43   41R012                   Uccle  CO2/41R012 (ppm)       44.0  ...   \n",
       "462  41R001    Molenbeek-Saint-Jean     RH/41R001 (%)        NaN  ...   \n",
       "463  41R012                   Uccle     RH/41R012 (%)        NaN  ...   \n",
       "574  41B011   Berchem-Sainte-Agathe     T/41B011 (°C)        NaN  ...   \n",
       "575  41R001    Molenbeek-Saint-Jean     T/41R001 (°C)        NaN  ...   \n",
       "583  41R012                   Uccle     T/41R012 (°C)        NaN  ...   \n",
       "\n",
       "     nuts1id nuts2id nuts3id  \\\n",
       "42       BE1    BE10   BE100   \n",
       "43       BE1    BE10   BE100   \n",
       "462      BE1    BE10   BE100   \n",
       "463      BE1    BE10   BE100   \n",
       "574      BE1    BE10   BE100   \n",
       "575      BE1    BE10   BE100   \n",
       "583      BE1    BE10   BE100   \n",
       "\n",
       "                                             nuts1name  nuts2name  \\\n",
       "42   RÉGION DE BRUXELLES-CAPITALE/BRUSSELS HOOFDSTE...   Brussels   \n",
       "43   RÉGION DE BRUXELLES-CAPITALE/BRUSSELS HOOFDSTE...   Brussels   \n",
       "462  RÉGION DE BRUXELLES-CAPITALE/BRUSSELS HOOFDSTE...   Brussels   \n",
       "463  RÉGION DE BRUXELLES-CAPITALE/BRUSSELS HOOFDSTE...   Brussels   \n",
       "574  RÉGION DE BRUXELLES-CAPITALE/BRUSSELS HOOFDSTE...   Brussels   \n",
       "575  RÉGION DE BRUXELLES-CAPITALE/BRUSSELS HOOFDSTE...   Brussels   \n",
       "583  RÉGION DE BRUXELLES-CAPITALE/BRUSSELS HOOFDSTE...   Brussels   \n",
       "\n",
       "                                       nuts3name     lauid  \\\n",
       "42   de Bruxelles-Capitale/van Brussel-Hoofdstad  BE_21009   \n",
       "43   de Bruxelles-Capitale/van Brussel-Hoofdstad  BE_21016   \n",
       "462  de Bruxelles-Capitale/van Brussel-Hoofdstad  BE_21012   \n",
       "463  de Bruxelles-Capitale/van Brussel-Hoofdstad  BE_21016   \n",
       "574  de Bruxelles-Capitale/van Brussel-Hoofdstad  BE_21003   \n",
       "575  de Bruxelles-Capitale/van Brussel-Hoofdstad  BE_21012   \n",
       "583  de Bruxelles-Capitale/van Brussel-Hoofdstad  BE_21016   \n",
       "\n",
       "                   launame                   started                   stopped  \n",
       "42                 Ixelles 2012-05-29 01:00:00+00:00 2021-06-16 10:00:00+00:00  \n",
       "43                   Uccle 2012-05-29 01:00:00+00:00 2021-09-24 07:00:00+00:00  \n",
       "462   Molenbeek-Saint-Jean 2019-01-01 01:00:00+00:00 2021-09-24 07:00:00+00:00  \n",
       "463                  Uccle 2019-01-01 01:00:00+00:00 2021-09-24 07:00:00+00:00  \n",
       "574  Berchem-Sainte-Agathe 2014-01-01 01:00:00+00:00 2015-10-23 08:00:00+00:00  \n",
       "575   Molenbeek-Saint-Jean 2014-01-01 01:00:00+00:00 2021-09-25 00:00:00+00:00  \n",
       "583                  Uccle 2014-01-01 01:00:00+00:00 2018-07-24 07:00:00+00:00  \n",
       "\n",
       "[7 rows x 25 columns]"
      ]
     },
     "execution_count": 26,
     "metadata": {},
     "output_type": "execute_result"
    }
   ],
   "source": [
    "sel = client.select(measurekey=[\"^T$\", \"RH\", \"CO2\"], sitekey=\"41\")\n",
    "sel"
   ]
  },
  {
   "cell_type": "code",
   "execution_count": 27,
   "metadata": {
    "ExecuteTime": {
     "end_time": "2021-09-24T07:59:03.075764Z",
     "start_time": "2021-09-24T07:58:59.374745Z"
    }
   },
   "outputs": [],
   "source": [
    "recs = client.get_records(sel, start=\"2021-08-01\")"
   ]
  },
  {
   "cell_type": "code",
   "execution_count": 28,
   "metadata": {
    "ExecuteTime": {
     "end_time": "2021-09-24T07:59:03.109856Z",
     "start_time": "2021-09-24T07:59:03.080550Z"
    }
   },
   "outputs": [],
   "source": [
    "ircel = recs.merge(sel[[\"serieid\", \"seriekey\"]]).pivot_table(index=\"start\", columns=\"seriekey\", values=\"value\")"
   ]
  },
  {
   "cell_type": "code",
   "execution_count": 29,
   "metadata": {
    "ExecuteTime": {
     "end_time": "2021-09-24T07:59:03.116944Z",
     "start_time": "2021-09-24T07:59:03.112097Z"
    }
   },
   "outputs": [],
   "source": [
    "ircel = ircel.drop([\"RH/41R012 (%)\"], axis=1)"
   ]
  },
  {
   "cell_type": "code",
   "execution_count": 30,
   "metadata": {
    "ExecuteTime": {
     "end_time": "2021-09-24T07:59:03.122241Z",
     "start_time": "2021-09-24T07:59:03.119552Z"
    }
   },
   "outputs": [],
   "source": [
    "ircel.index.name = \"time\""
   ]
  },
  {
   "cell_type": "code",
   "execution_count": 31,
   "metadata": {
    "ExecuteTime": {
     "end_time": "2021-09-24T07:59:03.137788Z",
     "start_time": "2021-09-24T07:59:03.124172Z"
    }
   },
   "outputs": [
    {
     "data": {
      "text/html": [
       "<div>\n",
       "<style scoped>\n",
       "    .dataframe tbody tr th:only-of-type {\n",
       "        vertical-align: middle;\n",
       "    }\n",
       "\n",
       "    .dataframe tbody tr th {\n",
       "        vertical-align: top;\n",
       "    }\n",
       "\n",
       "    .dataframe thead th {\n",
       "        text-align: right;\n",
       "    }\n",
       "</style>\n",
       "<table border=\"1\" class=\"dataframe\">\n",
       "  <thead>\n",
       "    <tr style=\"text-align: right;\">\n",
       "      <th>seriekey</th>\n",
       "      <th>CO2/41R012 (ppm)</th>\n",
       "      <th>RH/41R001 (%)</th>\n",
       "      <th>T/41R001 (°C)</th>\n",
       "    </tr>\n",
       "    <tr>\n",
       "      <th>time</th>\n",
       "      <th></th>\n",
       "      <th></th>\n",
       "      <th></th>\n",
       "    </tr>\n",
       "  </thead>\n",
       "  <tbody>\n",
       "    <tr>\n",
       "      <th>2021-08-01 00:00:00+00:00</th>\n",
       "      <td>414.5</td>\n",
       "      <td>91.0</td>\n",
       "      <td>13.50</td>\n",
       "    </tr>\n",
       "    <tr>\n",
       "      <th>2021-08-01 01:00:00+00:00</th>\n",
       "      <td>412.5</td>\n",
       "      <td>91.5</td>\n",
       "      <td>13.20</td>\n",
       "    </tr>\n",
       "    <tr>\n",
       "      <th>2021-08-01 02:00:00+00:00</th>\n",
       "      <td>411.0</td>\n",
       "      <td>92.0</td>\n",
       "      <td>13.25</td>\n",
       "    </tr>\n",
       "    <tr>\n",
       "      <th>2021-08-01 03:00:00+00:00</th>\n",
       "      <td>413.0</td>\n",
       "      <td>92.0</td>\n",
       "      <td>13.30</td>\n",
       "    </tr>\n",
       "    <tr>\n",
       "      <th>2021-08-01 04:00:00+00:00</th>\n",
       "      <td>413.0</td>\n",
       "      <td>92.0</td>\n",
       "      <td>13.55</td>\n",
       "    </tr>\n",
       "    <tr>\n",
       "      <th>...</th>\n",
       "      <td>...</td>\n",
       "      <td>...</td>\n",
       "      <td>...</td>\n",
       "    </tr>\n",
       "    <tr>\n",
       "      <th>2021-09-24 02:00:00+00:00</th>\n",
       "      <td>405.5</td>\n",
       "      <td>90.0</td>\n",
       "      <td>15.45</td>\n",
       "    </tr>\n",
       "    <tr>\n",
       "      <th>2021-09-24 03:00:00+00:00</th>\n",
       "      <td>410.5</td>\n",
       "      <td>89.0</td>\n",
       "      <td>15.45</td>\n",
       "    </tr>\n",
       "    <tr>\n",
       "      <th>2021-09-24 04:00:00+00:00</th>\n",
       "      <td>411.5</td>\n",
       "      <td>89.5</td>\n",
       "      <td>15.45</td>\n",
       "    </tr>\n",
       "    <tr>\n",
       "      <th>2021-09-24 05:00:00+00:00</th>\n",
       "      <td>410.0</td>\n",
       "      <td>90.0</td>\n",
       "      <td>15.50</td>\n",
       "    </tr>\n",
       "    <tr>\n",
       "      <th>2021-09-24 06:00:00+00:00</th>\n",
       "      <td>408.5</td>\n",
       "      <td>89.5</td>\n",
       "      <td>15.80</td>\n",
       "    </tr>\n",
       "  </tbody>\n",
       "</table>\n",
       "<p>1303 rows × 3 columns</p>\n",
       "</div>"
      ],
      "text/plain": [
       "seriekey                   CO2/41R012 (ppm)  RH/41R001 (%)  T/41R001 (°C)\n",
       "time                                                                     \n",
       "2021-08-01 00:00:00+00:00             414.5           91.0          13.50\n",
       "2021-08-01 01:00:00+00:00             412.5           91.5          13.20\n",
       "2021-08-01 02:00:00+00:00             411.0           92.0          13.25\n",
       "2021-08-01 03:00:00+00:00             413.0           92.0          13.30\n",
       "2021-08-01 04:00:00+00:00             413.0           92.0          13.55\n",
       "...                                     ...            ...            ...\n",
       "2021-09-24 02:00:00+00:00             405.5           90.0          15.45\n",
       "2021-09-24 03:00:00+00:00             410.5           89.0          15.45\n",
       "2021-09-24 04:00:00+00:00             411.5           89.5          15.45\n",
       "2021-09-24 05:00:00+00:00             410.0           90.0          15.50\n",
       "2021-09-24 06:00:00+00:00             408.5           89.5          15.80\n",
       "\n",
       "[1303 rows x 3 columns]"
      ]
     },
     "execution_count": 31,
     "metadata": {},
     "output_type": "execute_result"
    }
   ],
   "source": [
    "ircel"
   ]
  },
  {
   "cell_type": "code",
   "execution_count": 32,
   "metadata": {
    "ExecuteTime": {
     "end_time": "2021-09-24T07:59:03.689112Z",
     "start_time": "2021-09-24T07:59:03.139943Z"
    }
   },
   "outputs": [
    {
     "data": {
      "text/plain": [
       "<AxesSubplot:xlabel='time'>"
      ]
     },
     "execution_count": 32,
     "metadata": {},
     "output_type": "execute_result"
    },
    {
     "data": {
      "image/png": "[encoded data removed]",
      "text/plain": [
       "<Figure size 432x288 with 1 Axes>"
      ]
     },
     "metadata": {
      "needs_background": "light"
     },
     "output_type": "display_data"
    }
   ],
   "source": [
    "ircel.plot()"
   ]
  },
  {
   "cell_type": "code",
   "execution_count": null,
   "metadata": {},
   "outputs": [],
   "source": []
  },
  {
   "cell_type": "code",
   "execution_count": null,
   "metadata": {},
   "outputs": [],
   "source": []
  },
  {
   "cell_type": "code",
   "execution_count": 37,
   "metadata": {
    "ExecuteTime": {
     "end_time": "2021-09-24T08:00:38.299359Z",
     "start_time": "2021-09-24T08:00:38.263675Z"
    }
   },
   "outputs": [
    {
     "data": {
      "text/html": [
       "<div>\n",
       "<style scoped>\n",
       "    .dataframe tbody tr th:only-of-type {\n",
       "        vertical-align: middle;\n",
       "    }\n",
       "\n",
       "    .dataframe tbody tr th {\n",
       "        vertical-align: top;\n",
       "    }\n",
       "\n",
       "    .dataframe thead th {\n",
       "        text-align: right;\n",
       "    }\n",
       "</style>\n",
       "<table border=\"1\" class=\"dataframe\">\n",
       "  <thead>\n",
       "    <tr style=\"text-align: right;\">\n",
       "      <th></th>\n",
       "      <th>CO2/indoor/scd30 (ppm)</th>\n",
       "      <th>RH/indoor/scd30 (%)</th>\n",
       "      <th>T/indoor/scd30 (°C)</th>\n",
       "      <th>T/indoor/lht65 (°C)</th>\n",
       "      <th>T/outdoor/lht65 (°C)</th>\n",
       "      <th>RH/indoor/lht65 (%)</th>\n",
       "      <th>RH/outdoor/lht65 (%)</th>\n",
       "      <th>RH/indoor/bme280 (%)</th>\n",
       "      <th>p/indoor/bme280 (hPa)</th>\n",
       "      <th>T/indoor/bme280 (°C)</th>\n",
       "      <th>CO2/41R012 (ppm)</th>\n",
       "      <th>RH/41R001 (%)</th>\n",
       "      <th>T/41R001 (°C)</th>\n",
       "    </tr>\n",
       "    <tr>\n",
       "      <th>time</th>\n",
       "      <th></th>\n",
       "      <th></th>\n",
       "      <th></th>\n",
       "      <th></th>\n",
       "      <th></th>\n",
       "      <th></th>\n",
       "      <th></th>\n",
       "      <th></th>\n",
       "      <th></th>\n",
       "      <th></th>\n",
       "      <th></th>\n",
       "      <th></th>\n",
       "      <th></th>\n",
       "    </tr>\n",
       "  </thead>\n",
       "  <tbody>\n",
       "    <tr>\n",
       "      <th>2021-08-01 00:00:00+00:00</th>\n",
       "      <td>557.743626</td>\n",
       "      <td>50.055070</td>\n",
       "      <td>24.856091</td>\n",
       "      <td>23.670000</td>\n",
       "      <td>15.723333</td>\n",
       "      <td>55.233333</td>\n",
       "      <td>81.200000</td>\n",
       "      <td>31.624319</td>\n",
       "      <td>1007.077279</td>\n",
       "      <td>31.590608</td>\n",
       "      <td>414.5</td>\n",
       "      <td>91.0</td>\n",
       "      <td>13.50</td>\n",
       "    </tr>\n",
       "    <tr>\n",
       "      <th>2021-08-01 01:00:00+00:00</th>\n",
       "      <td>549.320450</td>\n",
       "      <td>49.286815</td>\n",
       "      <td>24.806696</td>\n",
       "      <td>23.630000</td>\n",
       "      <td>15.230000</td>\n",
       "      <td>54.533333</td>\n",
       "      <td>81.033333</td>\n",
       "      <td>31.165720</td>\n",
       "      <td>1006.853882</td>\n",
       "      <td>31.533173</td>\n",
       "      <td>412.5</td>\n",
       "      <td>91.5</td>\n",
       "      <td>13.20</td>\n",
       "    </tr>\n",
       "    <tr>\n",
       "      <th>2021-08-01 02:00:00+00:00</th>\n",
       "      <td>533.576876</td>\n",
       "      <td>48.229155</td>\n",
       "      <td>24.853592</td>\n",
       "      <td>23.620000</td>\n",
       "      <td>14.756667</td>\n",
       "      <td>53.866667</td>\n",
       "      <td>83.133333</td>\n",
       "      <td>30.556481</td>\n",
       "      <td>1006.770912</td>\n",
       "      <td>31.560379</td>\n",
       "      <td>411.0</td>\n",
       "      <td>92.0</td>\n",
       "      <td>13.25</td>\n",
       "    </tr>\n",
       "    <tr>\n",
       "      <th>2021-08-01 03:00:00+00:00</th>\n",
       "      <td>491.597841</td>\n",
       "      <td>47.941203</td>\n",
       "      <td>24.688690</td>\n",
       "      <td>23.540000</td>\n",
       "      <td>14.546667</td>\n",
       "      <td>53.033333</td>\n",
       "      <td>86.066667</td>\n",
       "      <td>30.385586</td>\n",
       "      <td>1006.771652</td>\n",
       "      <td>31.392291</td>\n",
       "      <td>413.0</td>\n",
       "      <td>92.0</td>\n",
       "      <td>13.30</td>\n",
       "    </tr>\n",
       "    <tr>\n",
       "      <th>2021-08-01 04:00:00+00:00</th>\n",
       "      <td>477.637309</td>\n",
       "      <td>48.232575</td>\n",
       "      <td>24.499253</td>\n",
       "      <td>23.483333</td>\n",
       "      <td>14.520000</td>\n",
       "      <td>52.800000</td>\n",
       "      <td>86.800000</td>\n",
       "      <td>30.551965</td>\n",
       "      <td>1006.740060</td>\n",
       "      <td>31.215793</td>\n",
       "      <td>413.0</td>\n",
       "      <td>92.0</td>\n",
       "      <td>13.55</td>\n",
       "    </tr>\n",
       "    <tr>\n",
       "      <th>...</th>\n",
       "      <td>...</td>\n",
       "      <td>...</td>\n",
       "      <td>...</td>\n",
       "      <td>...</td>\n",
       "      <td>...</td>\n",
       "      <td>...</td>\n",
       "      <td>...</td>\n",
       "      <td>...</td>\n",
       "      <td>...</td>\n",
       "      <td>...</td>\n",
       "      <td>...</td>\n",
       "      <td>...</td>\n",
       "      <td>...</td>\n",
       "    </tr>\n",
       "    <tr>\n",
       "      <th>2021-09-24 03:00:00+00:00</th>\n",
       "      <td>828.533368</td>\n",
       "      <td>51.840831</td>\n",
       "      <td>23.845706</td>\n",
       "      <td>22.116667</td>\n",
       "      <td>16.560000</td>\n",
       "      <td>57.933333</td>\n",
       "      <td>82.100000</td>\n",
       "      <td>32.408469</td>\n",
       "      <td>1014.466316</td>\n",
       "      <td>30.629759</td>\n",
       "      <td>410.5</td>\n",
       "      <td>89.0</td>\n",
       "      <td>15.45</td>\n",
       "    </tr>\n",
       "    <tr>\n",
       "      <th>2021-09-24 04:00:00+00:00</th>\n",
       "      <td>838.881638</td>\n",
       "      <td>52.047797</td>\n",
       "      <td>23.797859</td>\n",
       "      <td>22.093333</td>\n",
       "      <td>16.493333</td>\n",
       "      <td>58.233333</td>\n",
       "      <td>83.300000</td>\n",
       "      <td>32.547669</td>\n",
       "      <td>1014.405154</td>\n",
       "      <td>30.581244</td>\n",
       "      <td>411.5</td>\n",
       "      <td>89.5</td>\n",
       "      <td>15.45</td>\n",
       "    </tr>\n",
       "    <tr>\n",
       "      <th>2021-09-24 05:00:00+00:00</th>\n",
       "      <td>860.335362</td>\n",
       "      <td>52.318859</td>\n",
       "      <td>23.811030</td>\n",
       "      <td>22.080000</td>\n",
       "      <td>16.493333</td>\n",
       "      <td>58.700000</td>\n",
       "      <td>84.066667</td>\n",
       "      <td>32.723404</td>\n",
       "      <td>1014.383543</td>\n",
       "      <td>30.590072</td>\n",
       "      <td>410.0</td>\n",
       "      <td>90.0</td>\n",
       "      <td>15.50</td>\n",
       "    </tr>\n",
       "    <tr>\n",
       "      <th>2021-09-24 06:00:00+00:00</th>\n",
       "      <td>630.129872</td>\n",
       "      <td>54.392530</td>\n",
       "      <td>23.812198</td>\n",
       "      <td>22.153333</td>\n",
       "      <td>16.620000</td>\n",
       "      <td>60.900000</td>\n",
       "      <td>85.300000</td>\n",
       "      <td>34.132125</td>\n",
       "      <td>1014.306912</td>\n",
       "      <td>30.550075</td>\n",
       "      <td>408.5</td>\n",
       "      <td>89.5</td>\n",
       "      <td>15.80</td>\n",
       "    </tr>\n",
       "    <tr>\n",
       "      <th>2021-09-24 07:00:00+00:00</th>\n",
       "      <td>439.285245</td>\n",
       "      <td>55.100433</td>\n",
       "      <td>23.649746</td>\n",
       "      <td>22.143333</td>\n",
       "      <td>16.923333</td>\n",
       "      <td>60.400000</td>\n",
       "      <td>85.366667</td>\n",
       "      <td>34.580918</td>\n",
       "      <td>1014.300040</td>\n",
       "      <td>30.379414</td>\n",
       "      <td>NaN</td>\n",
       "      <td>NaN</td>\n",
       "      <td>NaN</td>\n",
       "    </tr>\n",
       "  </tbody>\n",
       "</table>\n",
       "<p>1304 rows × 13 columns</p>\n",
       "</div>"
      ],
      "text/plain": [
       "                           CO2/indoor/scd30 (ppm)  RH/indoor/scd30 (%)  \\\n",
       "time                                                                     \n",
       "2021-08-01 00:00:00+00:00              557.743626            50.055070   \n",
       "2021-08-01 01:00:00+00:00              549.320450            49.286815   \n",
       "2021-08-01 02:00:00+00:00              533.576876            48.229155   \n",
       "2021-08-01 03:00:00+00:00              491.597841            47.941203   \n",
       "2021-08-01 04:00:00+00:00              477.637309            48.232575   \n",
       "...                                           ...                  ...   \n",
       "2021-09-24 03:00:00+00:00              828.533368            51.840831   \n",
       "2021-09-24 04:00:00+00:00              838.881638            52.047797   \n",
       "2021-09-24 05:00:00+00:00              860.335362            52.318859   \n",
       "2021-09-24 06:00:00+00:00              630.129872            54.392530   \n",
       "2021-09-24 07:00:00+00:00              439.285245            55.100433   \n",
       "\n",
       "                           T/indoor/scd30 (°C)  T/indoor/lht65 (°C)  \\\n",
       "time                                                                  \n",
       "2021-08-01 00:00:00+00:00            24.856091            23.670000   \n",
       "2021-08-01 01:00:00+00:00            24.806696            23.630000   \n",
       "2021-08-01 02:00:00+00:00            24.853592            23.620000   \n",
       "2021-08-01 03:00:00+00:00            24.688690            23.540000   \n",
       "2021-08-01 04:00:00+00:00            24.499253            23.483333   \n",
       "...                                        ...                  ...   \n",
       "2021-09-24 03:00:00+00:00            23.845706            22.116667   \n",
       "2021-09-24 04:00:00+00:00            23.797859            22.093333   \n",
       "2021-09-24 05:00:00+00:00            23.811030            22.080000   \n",
       "2021-09-24 06:00:00+00:00            23.812198            22.153333   \n",
       "2021-09-24 07:00:00+00:00            23.649746            22.143333   \n",
       "\n",
       "                           T/outdoor/lht65 (°C)  RH/indoor/lht65 (%)  \\\n",
       "time                                                                   \n",
       "2021-08-01 00:00:00+00:00             15.723333            55.233333   \n",
       "2021-08-01 01:00:00+00:00             15.230000            54.533333   \n",
       "2021-08-01 02:00:00+00:00             14.756667            53.866667   \n",
       "2021-08-01 03:00:00+00:00             14.546667            53.033333   \n",
       "2021-08-01 04:00:00+00:00             14.520000            52.800000   \n",
       "...                                         ...                  ...   \n",
       "2021-09-24 03:00:00+00:00             16.560000            57.933333   \n",
       "2021-09-24 04:00:00+00:00             16.493333            58.233333   \n",
       "2021-09-24 05:00:00+00:00             16.493333            58.700000   \n",
       "2021-09-24 06:00:00+00:00             16.620000            60.900000   \n",
       "2021-09-24 07:00:00+00:00             16.923333            60.400000   \n",
       "\n",
       "                           RH/outdoor/lht65 (%)  RH/indoor/bme280 (%)  \\\n",
       "time                                                                    \n",
       "2021-08-01 00:00:00+00:00             81.200000             31.624319   \n",
       "2021-08-01 01:00:00+00:00             81.033333             31.165720   \n",
       "2021-08-01 02:00:00+00:00             83.133333             30.556481   \n",
       "2021-08-01 03:00:00+00:00             86.066667             30.385586   \n",
       "2021-08-01 04:00:00+00:00             86.800000             30.551965   \n",
       "...                                         ...                   ...   \n",
       "2021-09-24 03:00:00+00:00             82.100000             32.408469   \n",
       "2021-09-24 04:00:00+00:00             83.300000             32.547669   \n",
       "2021-09-24 05:00:00+00:00             84.066667             32.723404   \n",
       "2021-09-24 06:00:00+00:00             85.300000             34.132125   \n",
       "2021-09-24 07:00:00+00:00             85.366667             34.580918   \n",
       "\n",
       "                           p/indoor/bme280 (hPa)  T/indoor/bme280 (°C)  \\\n",
       "time                                                                     \n",
       "2021-08-01 00:00:00+00:00            1007.077279             31.590608   \n",
       "2021-08-01 01:00:00+00:00            1006.853882             31.533173   \n",
       "2021-08-01 02:00:00+00:00            1006.770912             31.560379   \n",
       "2021-08-01 03:00:00+00:00            1006.771652             31.392291   \n",
       "2021-08-01 04:00:00+00:00            1006.740060             31.215793   \n",
       "...                                          ...                   ...   \n",
       "2021-09-24 03:00:00+00:00            1014.466316             30.629759   \n",
       "2021-09-24 04:00:00+00:00            1014.405154             30.581244   \n",
       "2021-09-24 05:00:00+00:00            1014.383543             30.590072   \n",
       "2021-09-24 06:00:00+00:00            1014.306912             30.550075   \n",
       "2021-09-24 07:00:00+00:00            1014.300040             30.379414   \n",
       "\n",
       "                           CO2/41R012 (ppm)  RH/41R001 (%)  T/41R001 (°C)  \n",
       "time                                                                       \n",
       "2021-08-01 00:00:00+00:00             414.5           91.0          13.50  \n",
       "2021-08-01 01:00:00+00:00             412.5           91.5          13.20  \n",
       "2021-08-01 02:00:00+00:00             411.0           92.0          13.25  \n",
       "2021-08-01 03:00:00+00:00             413.0           92.0          13.30  \n",
       "2021-08-01 04:00:00+00:00             413.0           92.0          13.55  \n",
       "...                                     ...            ...            ...  \n",
       "2021-09-24 03:00:00+00:00             410.5           89.0          15.45  \n",
       "2021-09-24 04:00:00+00:00             411.5           89.5          15.45  \n",
       "2021-09-24 05:00:00+00:00             410.0           90.0          15.50  \n",
       "2021-09-24 06:00:00+00:00             408.5           89.5          15.80  \n",
       "2021-09-24 07:00:00+00:00               NaN            NaN            NaN  \n",
       "\n",
       "[1304 rows x 13 columns]"
      ]
     },
     "execution_count": 37,
     "metadata": {},
     "output_type": "execute_result"
    }
   ],
   "source": [
    "data = pd.concat([co2, Tnode, RHnode, p, ircel], axis=1)\n",
    "data"
   ]
  },
  {
   "cell_type": "code",
   "execution_count": 38,
   "metadata": {
    "ExecuteTime": {
     "end_time": "2021-09-24T08:00:44.237261Z",
     "start_time": "2021-09-24T08:00:43.238124Z"
    }
   },
   "outputs": [
    {
     "data": {
      "text/plain": [
       "<AxesSubplot:xlabel='time'>"
      ]
     },
     "execution_count": 38,
     "metadata": {},
     "output_type": "execute_result"
    },
    {
     "data": {
      "image/png": "[encoded data removed]",
      "text/plain": [
       "<Figure size 432x288 with 1 Axes>"
      ]
     },
     "metadata": {
      "needs_background": "light"
     },
     "output_type": "display_data"
    }
   ],
   "source": [
    "data.plot()"
   ]
  },
  {
   "cell_type": "code",
   "execution_count": 40,
   "metadata": {
    "ExecuteTime": {
     "end_time": "2021-09-24T08:02:08.743519Z",
     "start_time": "2021-09-24T08:02:08.738046Z"
    }
   },
   "outputs": [
    {
     "data": {
      "text/plain": [
       "(1304, 13)"
      ]
     },
     "execution_count": 40,
     "metadata": {},
     "output_type": "execute_result"
    }
   ],
   "source": [
    "data.shape"
   ]
  },
  {
   "cell_type": "code",
   "execution_count": 41,
   "metadata": {
    "ExecuteTime": {
     "end_time": "2021-09-24T08:02:20.973217Z",
     "start_time": "2021-09-24T08:02:20.958140Z"
    }
   },
   "outputs": [],
   "source": [
    "data.to_pickle(\"data.pickle\")"
   ]
  },
  {
   "cell_type": "code",
   "execution_count": null,
   "metadata": {},
   "outputs": [],
   "source": []
  }
 ],
 "metadata": {
  "hide_input": false,
  "kernelspec": {
   "display_name": "Python 3",
   "language": "python",
   "name": "python3"
  },
  "language_info": {
   "codemirror_mode": {
    "name": "ipython",
    "version": 3
   },
   "file_extension": ".py",
   "mimetype": "text/x-python",
   "name": "python",
   "nbconvert_exporter": "python",
   "pygments_lexer": "ipython3",
   "version": "3.6.9"
  },
  "toc": {
   "base_numbering": 1,
   "nav_menu": {},
   "number_sections": true,
   "sideBar": true,
   "skip_h1_title": false,
   "title_cell": "Table of Contents",
   "title_sidebar": "Contents",
   "toc_cell": false,
   "toc_position": {},
   "toc_section_display": true,
   "toc_window_display": false
  },
  "varInspector": {
   "cols": {
    "lenName": 16,
    "lenType": 16,
    "lenVar": 40
   },
   "kernels_config": {
    "python": {
     "delete_cmd_postfix": "",
     "delete_cmd_prefix": "del ",
     "library": "var_list.py",
     "varRefreshCmd": "print(var_dic_list())"
    },
    "r": {
     "delete_cmd_postfix": ") ",
     "delete_cmd_prefix": "rm(",
     "library": "var_list.r",
     "varRefreshCmd": "cat(var_dic_list()) "
    }
   },
   "types_to_exclude": [
    "module",
    "function",
    "builtin_function_or_method",
    "instance",
    "_Feature"
   ],
   "window_display": false
  }
 },
 "nbformat": 4,
 "nbformat_minor": 4
}
