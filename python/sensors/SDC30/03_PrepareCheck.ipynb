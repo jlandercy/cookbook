{
 "cells": [
  {
   "cell_type": "code",
   "execution_count": 1,
   "metadata": {
    "ExecuteTime": {
     "end_time": "2021-10-06T10:54:23.437832Z",
     "start_time": "2021-10-06T10:54:21.533912Z"
    }
   },
   "outputs": [],
   "source": [
    "import json\n",
    "from influxdb import InfluxDBClient\n",
    "from scipy.stats import linregress\n",
    "import numpy as np\n",
    "import pandas as pd\n",
    "import matplotlib.pyplot as plt"
   ]
  },
  {
   "cell_type": "code",
   "execution_count": 2,
   "metadata": {
    "ExecuteTime": {
     "end_time": "2021-10-06T10:54:23.448358Z",
     "start_time": "2021-10-06T10:54:23.443202Z"
    }
   },
   "outputs": [],
   "source": [
    "with open(\"../../../../secrets/homevision.json\") as handler:\n",
    "    creds = json.load(handler)"
   ]
  },
  {
   "cell_type": "code",
   "execution_count": 3,
   "metadata": {
    "ExecuteTime": {
     "end_time": "2021-10-06T10:54:23.475375Z",
     "start_time": "2021-10-06T10:54:23.452740Z"
    }
   },
   "outputs": [
    {
     "data": {
      "text/plain": [
       "'1.8.1'"
      ]
     },
     "execution_count": 3,
     "metadata": {},
     "output_type": "execute_result"
    }
   ],
   "source": [
    "idb = InfluxDBClient(**creds)\n",
    "idb.ping()"
   ]
  },
  {
   "cell_type": "code",
   "execution_count": 4,
   "metadata": {
    "ExecuteTime": {
     "end_time": "2021-10-06T10:54:23.484422Z",
     "start_time": "2021-10-06T10:54:23.478926Z"
    }
   },
   "outputs": [],
   "source": [
    "def get_points(connection, query, database):\n",
    "    result = connection.query(query, database=database)\n",
    "    frame = pd.DataFrame(result.get_points())\n",
    "    frame[\"time\"] = pd.to_datetime(frame[\"time\"])\n",
    "    return frame"
   ]
  },
  {
   "cell_type": "markdown",
   "metadata": {},
   "source": [
    "### SDC30"
   ]
  },
  {
   "cell_type": "code",
   "execution_count": 5,
   "metadata": {
    "ExecuteTime": {
     "end_time": "2021-10-06T10:54:23.566305Z",
     "start_time": "2021-10-06T10:54:23.486934Z"
    }
   },
   "outputs": [
    {
     "data": {
      "text/html": [
       "<div>\n",
       "<style scoped>\n",
       "    .dataframe tbody tr th:only-of-type {\n",
       "        vertical-align: middle;\n",
       "    }\n",
       "\n",
       "    .dataframe tbody tr th {\n",
       "        vertical-align: top;\n",
       "    }\n",
       "\n",
       "    .dataframe thead th {\n",
       "        text-align: right;\n",
       "    }\n",
       "</style>\n",
       "<table border=\"1\" class=\"dataframe\">\n",
       "  <thead>\n",
       "    <tr style=\"text-align: right;\">\n",
       "      <th></th>\n",
       "      <th>time</th>\n",
       "      <th>CO2</th>\n",
       "      <th>RH</th>\n",
       "      <th>T</th>\n",
       "      <th>device</th>\n",
       "      <th>location</th>\n",
       "      <th>owner</th>\n",
       "    </tr>\n",
       "  </thead>\n",
       "  <tbody>\n",
       "    <tr>\n",
       "      <th>0</th>\n",
       "      <td>2021-09-24 09:00:08.613586+00:00</td>\n",
       "      <td>407.422638</td>\n",
       "      <td>55.996071</td>\n",
       "      <td>23.674484</td>\n",
       "      <td>bluebox-01</td>\n",
       "      <td>home-lab</td>\n",
       "      <td>jlandercy</td>\n",
       "    </tr>\n",
       "    <tr>\n",
       "      <th>1</th>\n",
       "      <td>2021-09-24 09:00:25.816873+00:00</td>\n",
       "      <td>407.228943</td>\n",
       "      <td>55.859966</td>\n",
       "      <td>23.703857</td>\n",
       "      <td>bluebox-01</td>\n",
       "      <td>home-lab</td>\n",
       "      <td>jlandercy</td>\n",
       "    </tr>\n",
       "    <tr>\n",
       "      <th>2</th>\n",
       "      <td>2021-09-24 09:00:41.125671+00:00</td>\n",
       "      <td>407.699554</td>\n",
       "      <td>55.784100</td>\n",
       "      <td>23.717209</td>\n",
       "      <td>bluebox-01</td>\n",
       "      <td>home-lab</td>\n",
       "      <td>jlandercy</td>\n",
       "    </tr>\n",
       "    <tr>\n",
       "      <th>3</th>\n",
       "      <td>2021-09-24 09:00:57.852246+00:00</td>\n",
       "      <td>407.482971</td>\n",
       "      <td>55.882935</td>\n",
       "      <td>23.690506</td>\n",
       "      <td>bluebox-01</td>\n",
       "      <td>home-lab</td>\n",
       "      <td>jlandercy</td>\n",
       "    </tr>\n",
       "    <tr>\n",
       "      <th>4</th>\n",
       "      <td>2021-09-24 09:01:14.014555+00:00</td>\n",
       "      <td>408.253479</td>\n",
       "      <td>55.938141</td>\n",
       "      <td>23.690506</td>\n",
       "      <td>bluebox-01</td>\n",
       "      <td>home-lab</td>\n",
       "      <td>jlandercy</td>\n",
       "    </tr>\n",
       "    <tr>\n",
       "      <th>...</th>\n",
       "      <td>...</td>\n",
       "      <td>...</td>\n",
       "      <td>...</td>\n",
       "      <td>...</td>\n",
       "      <td>...</td>\n",
       "      <td>...</td>\n",
       "      <td>...</td>\n",
       "    </tr>\n",
       "    <tr>\n",
       "      <th>1748</th>\n",
       "      <td>2021-09-24 16:58:42.865068+00:00</td>\n",
       "      <td>650.079468</td>\n",
       "      <td>52.162918</td>\n",
       "      <td>25.183220</td>\n",
       "      <td>bluebox-01</td>\n",
       "      <td>home-lab</td>\n",
       "      <td>jlandercy</td>\n",
       "    </tr>\n",
       "    <tr>\n",
       "      <th>1749</th>\n",
       "      <td>2021-09-24 16:58:59.055504+00:00</td>\n",
       "      <td>639.688721</td>\n",
       "      <td>51.632160</td>\n",
       "      <td>25.239296</td>\n",
       "      <td>bluebox-01</td>\n",
       "      <td>home-lab</td>\n",
       "      <td>jlandercy</td>\n",
       "    </tr>\n",
       "    <tr>\n",
       "      <th>1750</th>\n",
       "      <td>2021-09-24 16:59:15.118600+00:00</td>\n",
       "      <td>626.633789</td>\n",
       "      <td>51.373512</td>\n",
       "      <td>25.268677</td>\n",
       "      <td>bluebox-01</td>\n",
       "      <td>home-lab</td>\n",
       "      <td>jlandercy</td>\n",
       "    </tr>\n",
       "    <tr>\n",
       "      <th>1751</th>\n",
       "      <td>2021-09-24 16:59:31.506066+00:00</td>\n",
       "      <td>614.304993</td>\n",
       "      <td>51.476536</td>\n",
       "      <td>25.268677</td>\n",
       "      <td>bluebox-01</td>\n",
       "      <td>home-lab</td>\n",
       "      <td>jlandercy</td>\n",
       "    </tr>\n",
       "    <tr>\n",
       "      <th>1752</th>\n",
       "      <td>2021-09-24 16:59:47.639897+00:00</td>\n",
       "      <td>606.385620</td>\n",
       "      <td>51.574978</td>\n",
       "      <td>25.268677</td>\n",
       "      <td>bluebox-01</td>\n",
       "      <td>home-lab</td>\n",
       "      <td>jlandercy</td>\n",
       "    </tr>\n",
       "  </tbody>\n",
       "</table>\n",
       "<p>1753 rows × 7 columns</p>\n",
       "</div>"
      ],
      "text/plain": [
       "                                 time         CO2         RH          T  \\\n",
       "0    2021-09-24 09:00:08.613586+00:00  407.422638  55.996071  23.674484   \n",
       "1    2021-09-24 09:00:25.816873+00:00  407.228943  55.859966  23.703857   \n",
       "2    2021-09-24 09:00:41.125671+00:00  407.699554  55.784100  23.717209   \n",
       "3    2021-09-24 09:00:57.852246+00:00  407.482971  55.882935  23.690506   \n",
       "4    2021-09-24 09:01:14.014555+00:00  408.253479  55.938141  23.690506   \n",
       "...                               ...         ...        ...        ...   \n",
       "1748 2021-09-24 16:58:42.865068+00:00  650.079468  52.162918  25.183220   \n",
       "1749 2021-09-24 16:58:59.055504+00:00  639.688721  51.632160  25.239296   \n",
       "1750 2021-09-24 16:59:15.118600+00:00  626.633789  51.373512  25.268677   \n",
       "1751 2021-09-24 16:59:31.506066+00:00  614.304993  51.476536  25.268677   \n",
       "1752 2021-09-24 16:59:47.639897+00:00  606.385620  51.574978  25.268677   \n",
       "\n",
       "          device  location      owner  \n",
       "0     bluebox-01  home-lab  jlandercy  \n",
       "1     bluebox-01  home-lab  jlandercy  \n",
       "2     bluebox-01  home-lab  jlandercy  \n",
       "3     bluebox-01  home-lab  jlandercy  \n",
       "4     bluebox-01  home-lab  jlandercy  \n",
       "...          ...       ...        ...  \n",
       "1748  bluebox-01  home-lab  jlandercy  \n",
       "1749  bluebox-01  home-lab  jlandercy  \n",
       "1750  bluebox-01  home-lab  jlandercy  \n",
       "1751  bluebox-01  home-lab  jlandercy  \n",
       "1752  bluebox-01  home-lab  jlandercy  \n",
       "\n",
       "[1753 rows x 7 columns]"
      ]
     },
     "execution_count": 5,
     "metadata": {},
     "output_type": "execute_result"
    }
   ],
   "source": [
    "co2 = get_points(idb, \"SELECT * FROM scd30 WHERE time >= '2021-09-24 09:00:00' AND time <= '2021-09-24 17:00:00';\", \"homevision\")\n",
    "co2"
   ]
  },
  {
   "cell_type": "code",
   "execution_count": 6,
   "metadata": {
    "ExecuteTime": {
     "end_time": "2021-10-06T10:54:23.683793Z",
     "start_time": "2021-10-06T10:54:23.568635Z"
    }
   },
   "outputs": [
    {
     "data": {
      "text/html": [
       "<div>\n",
       "<style scoped>\n",
       "    .dataframe tbody tr th:only-of-type {\n",
       "        vertical-align: middle;\n",
       "    }\n",
       "\n",
       "    .dataframe tbody tr th {\n",
       "        vertical-align: top;\n",
       "    }\n",
       "\n",
       "    .dataframe thead th {\n",
       "        text-align: right;\n",
       "    }\n",
       "</style>\n",
       "<table border=\"1\" class=\"dataframe\">\n",
       "  <thead>\n",
       "    <tr style=\"text-align: right;\">\n",
       "      <th></th>\n",
       "      <th>RH (%)</th>\n",
       "      <th>p (hPa)</th>\n",
       "      <th>T' (°C)</th>\n",
       "    </tr>\n",
       "    <tr>\n",
       "      <th>time</th>\n",
       "      <th></th>\n",
       "      <th></th>\n",
       "      <th></th>\n",
       "    </tr>\n",
       "  </thead>\n",
       "  <tbody>\n",
       "    <tr>\n",
       "      <th>2021-09-24 09:00:00+00:00</th>\n",
       "      <td>35.211732</td>\n",
       "      <td>1014.605528</td>\n",
       "      <td>30.379784</td>\n",
       "    </tr>\n",
       "    <tr>\n",
       "      <th>2021-09-24 09:00:15+00:00</th>\n",
       "      <td>35.199898</td>\n",
       "      <td>1014.571180</td>\n",
       "      <td>30.387350</td>\n",
       "    </tr>\n",
       "    <tr>\n",
       "      <th>2021-09-24 09:00:30+00:00</th>\n",
       "      <td>35.170607</td>\n",
       "      <td>1014.562021</td>\n",
       "      <td>30.385459</td>\n",
       "    </tr>\n",
       "    <tr>\n",
       "      <th>2021-09-24 09:00:45+00:00</th>\n",
       "      <td>35.197105</td>\n",
       "      <td>1014.572203</td>\n",
       "      <td>30.377577</td>\n",
       "    </tr>\n",
       "    <tr>\n",
       "      <th>2021-09-24 09:01:00+00:00</th>\n",
       "      <td>35.205833</td>\n",
       "      <td>1014.565743</td>\n",
       "      <td>30.382306</td>\n",
       "    </tr>\n",
       "    <tr>\n",
       "      <th>...</th>\n",
       "      <td>...</td>\n",
       "      <td>...</td>\n",
       "      <td>...</td>\n",
       "    </tr>\n",
       "    <tr>\n",
       "      <th>2021-09-24 16:58:45+00:00</th>\n",
       "      <td>32.465794</td>\n",
       "      <td>1012.760200</td>\n",
       "      <td>31.989217</td>\n",
       "    </tr>\n",
       "    <tr>\n",
       "      <th>2021-09-24 16:59:00+00:00</th>\n",
       "      <td>32.255000</td>\n",
       "      <td>1012.746591</td>\n",
       "      <td>32.070557</td>\n",
       "    </tr>\n",
       "    <tr>\n",
       "      <th>2021-09-24 16:59:15+00:00</th>\n",
       "      <td>32.219236</td>\n",
       "      <td>1012.757775</td>\n",
       "      <td>32.090261</td>\n",
       "    </tr>\n",
       "    <tr>\n",
       "      <th>2021-09-24 16:59:30+00:00</th>\n",
       "      <td>32.331883</td>\n",
       "      <td>1012.784988</td>\n",
       "      <td>32.056054</td>\n",
       "    </tr>\n",
       "    <tr>\n",
       "      <th>2021-09-24 16:59:45+00:00</th>\n",
       "      <td>32.204908</td>\n",
       "      <td>1012.767427</td>\n",
       "      <td>32.071503</td>\n",
       "    </tr>\n",
       "  </tbody>\n",
       "</table>\n",
       "<p>1920 rows × 3 columns</p>\n",
       "</div>"
      ],
      "text/plain": [
       "                              RH (%)      p (hPa)    T' (°C)\n",
       "time                                                        \n",
       "2021-09-24 09:00:00+00:00  35.211732  1014.605528  30.379784\n",
       "2021-09-24 09:00:15+00:00  35.199898  1014.571180  30.387350\n",
       "2021-09-24 09:00:30+00:00  35.170607  1014.562021  30.385459\n",
       "2021-09-24 09:00:45+00:00  35.197105  1014.572203  30.377577\n",
       "2021-09-24 09:01:00+00:00  35.205833  1014.565743  30.382306\n",
       "...                              ...          ...        ...\n",
       "2021-09-24 16:58:45+00:00  32.465794  1012.760200  31.989217\n",
       "2021-09-24 16:59:00+00:00  32.255000  1012.746591  32.070557\n",
       "2021-09-24 16:59:15+00:00  32.219236  1012.757775  32.090261\n",
       "2021-09-24 16:59:30+00:00  32.331883  1012.784988  32.056054\n",
       "2021-09-24 16:59:45+00:00  32.204908  1012.767427  32.071503\n",
       "\n",
       "[1920 rows x 3 columns]"
      ]
     },
     "execution_count": 6,
     "metadata": {},
     "output_type": "execute_result"
    }
   ],
   "source": [
    "p = get_points(idb, \"SELECT * FROM bme280 WHERE time >= '2021-09-24 09:00:00' AND time <= '2021-09-24 17:00:00';\", \"homevision\")\n",
    "p = p.pivot_table(index=\"time\", columns=\"location\", values=[\"pressure\", \"humidity\", \"temperature\"])\n",
    "p.columns = [\"RH (%)\", \"p (hPa)\", \"T' (°C)\"]\n",
    "p = p.resample(\"15S\").mean().interpolate()\n",
    "p"
   ]
  },
  {
   "cell_type": "code",
   "execution_count": null,
   "metadata": {
    "ExecuteTime": {
     "end_time": "2021-09-24T10:56:28.980696Z",
     "start_time": "2021-09-24T10:56:28.929700Z"
    }
   },
   "outputs": [],
   "source": []
  },
  {
   "cell_type": "code",
   "execution_count": 7,
   "metadata": {
    "ExecuteTime": {
     "end_time": "2021-10-06T10:54:23.703383Z",
     "start_time": "2021-10-06T10:54:23.686425Z"
    }
   },
   "outputs": [
    {
     "data": {
      "text/html": [
       "<div>\n",
       "<style scoped>\n",
       "    .dataframe tbody tr th:only-of-type {\n",
       "        vertical-align: middle;\n",
       "    }\n",
       "\n",
       "    .dataframe tbody tr th {\n",
       "        vertical-align: top;\n",
       "    }\n",
       "\n",
       "    .dataframe thead th {\n",
       "        text-align: right;\n",
       "    }\n",
       "</style>\n",
       "<table border=\"1\" class=\"dataframe\">\n",
       "  <thead>\n",
       "    <tr style=\"text-align: right;\">\n",
       "      <th></th>\n",
       "      <th>CO2 (ppm)</th>\n",
       "      <th>T (°C)</th>\n",
       "    </tr>\n",
       "    <tr>\n",
       "      <th>time</th>\n",
       "      <th></th>\n",
       "      <th></th>\n",
       "    </tr>\n",
       "  </thead>\n",
       "  <tbody>\n",
       "    <tr>\n",
       "      <th>2021-09-24 09:00:08.613586+00:00</th>\n",
       "      <td>407.422638</td>\n",
       "      <td>23.674484</td>\n",
       "    </tr>\n",
       "    <tr>\n",
       "      <th>2021-09-24 09:00:25.816873+00:00</th>\n",
       "      <td>407.228943</td>\n",
       "      <td>23.703857</td>\n",
       "    </tr>\n",
       "    <tr>\n",
       "      <th>2021-09-24 09:00:41.125671+00:00</th>\n",
       "      <td>407.699554</td>\n",
       "      <td>23.717209</td>\n",
       "    </tr>\n",
       "    <tr>\n",
       "      <th>2021-09-24 09:00:57.852246+00:00</th>\n",
       "      <td>407.482971</td>\n",
       "      <td>23.690506</td>\n",
       "    </tr>\n",
       "    <tr>\n",
       "      <th>2021-09-24 09:01:14.014555+00:00</th>\n",
       "      <td>408.253479</td>\n",
       "      <td>23.690506</td>\n",
       "    </tr>\n",
       "    <tr>\n",
       "      <th>...</th>\n",
       "      <td>...</td>\n",
       "      <td>...</td>\n",
       "    </tr>\n",
       "    <tr>\n",
       "      <th>2021-09-24 16:58:42.865068+00:00</th>\n",
       "      <td>650.079468</td>\n",
       "      <td>25.183220</td>\n",
       "    </tr>\n",
       "    <tr>\n",
       "      <th>2021-09-24 16:58:59.055504+00:00</th>\n",
       "      <td>639.688721</td>\n",
       "      <td>25.239296</td>\n",
       "    </tr>\n",
       "    <tr>\n",
       "      <th>2021-09-24 16:59:15.118600+00:00</th>\n",
       "      <td>626.633789</td>\n",
       "      <td>25.268677</td>\n",
       "    </tr>\n",
       "    <tr>\n",
       "      <th>2021-09-24 16:59:31.506066+00:00</th>\n",
       "      <td>614.304993</td>\n",
       "      <td>25.268677</td>\n",
       "    </tr>\n",
       "    <tr>\n",
       "      <th>2021-09-24 16:59:47.639897+00:00</th>\n",
       "      <td>606.385620</td>\n",
       "      <td>25.268677</td>\n",
       "    </tr>\n",
       "  </tbody>\n",
       "</table>\n",
       "<p>1753 rows × 2 columns</p>\n",
       "</div>"
      ],
      "text/plain": [
       "                                   CO2 (ppm)     T (°C)\n",
       "time                                                   \n",
       "2021-09-24 09:00:08.613586+00:00  407.422638  23.674484\n",
       "2021-09-24 09:00:25.816873+00:00  407.228943  23.703857\n",
       "2021-09-24 09:00:41.125671+00:00  407.699554  23.717209\n",
       "2021-09-24 09:00:57.852246+00:00  407.482971  23.690506\n",
       "2021-09-24 09:01:14.014555+00:00  408.253479  23.690506\n",
       "...                                      ...        ...\n",
       "2021-09-24 16:58:42.865068+00:00  650.079468  25.183220\n",
       "2021-09-24 16:58:59.055504+00:00  639.688721  25.239296\n",
       "2021-09-24 16:59:15.118600+00:00  626.633789  25.268677\n",
       "2021-09-24 16:59:31.506066+00:00  614.304993  25.268677\n",
       "2021-09-24 16:59:47.639897+00:00  606.385620  25.268677\n",
       "\n",
       "[1753 rows x 2 columns]"
      ]
     },
     "execution_count": 7,
     "metadata": {},
     "output_type": "execute_result"
    }
   ],
   "source": [
    "data = co2.set_index(\"time\")[[\"CO2\", \"T\"]]\n",
    "data.columns = [\"CO2 (ppm)\", \"T (°C)\"]\n",
    "data"
   ]
  },
  {
   "cell_type": "code",
   "execution_count": 8,
   "metadata": {
    "ExecuteTime": {
     "end_time": "2021-10-06T10:54:23.992078Z",
     "start_time": "2021-10-06T10:54:23.705809Z"
    }
   },
   "outputs": [
    {
     "data": {
      "text/plain": [
       "<AxesSubplot:xlabel='time'>"
      ]
     },
     "execution_count": 8,
     "metadata": {},
     "output_type": "execute_result"
    },
    {
     "data": {
      "image/png": "[encoded data removed]",
      "text/plain": [
       "<Figure size 432x288 with 1 Axes>"
      ]
     },
     "metadata": {
      "needs_background": "light"
     },
     "output_type": "display_data"
    }
   ],
   "source": [
    "data.loc[\"2021-09-24 10:14:20\":\"2021-09-24 10:43:50\", \"CO2 (ppm)\"].plot()"
   ]
  },
  {
   "cell_type": "code",
   "execution_count": 9,
   "metadata": {
    "ExecuteTime": {
     "end_time": "2021-10-06T10:54:24.018166Z",
     "start_time": "2021-10-06T10:54:24.000340Z"
    }
   },
   "outputs": [
    {
     "data": {
      "text/plain": [
       "(297.45338165996964, 1.0134763790651724)"
      ]
     },
     "execution_count": 9,
     "metadata": {},
     "output_type": "execute_result"
    }
   ],
   "source": [
    "data[\"T (K)\"] = data[\"T (°C)\"] + 273.16\n",
    "T0 = data[\"T (K)\"].mean()\n",
    "p0 = p[\"p (hPa)\"].mean()/1e3\n",
    "T0, p0"
   ]
  },
  {
   "cell_type": "code",
   "execution_count": 10,
   "metadata": {
    "ExecuteTime": {
     "end_time": "2021-10-06T10:54:24.025174Z",
     "start_time": "2021-10-06T10:54:24.021359Z"
    }
   },
   "outputs": [],
   "source": [
    "f = 2.46e13 # ppm -> molec/cm3"
   ]
  },
  {
   "cell_type": "code",
   "execution_count": 11,
   "metadata": {
    "ExecuteTime": {
     "end_time": "2021-10-06T10:54:24.146230Z",
     "start_time": "2021-10-06T10:54:24.027865Z"
    }
   },
   "outputs": [],
   "source": [
    "data[\"t (s)\"] = data.index.map(lambda x: x.timestamp())"
   ]
  },
  {
   "cell_type": "code",
   "execution_count": 12,
   "metadata": {
    "ExecuteTime": {
     "end_time": "2021-10-06T10:54:24.162310Z",
     "start_time": "2021-10-06T10:54:24.151856Z"
    }
   },
   "outputs": [],
   "source": [
    "kinetic = data.loc[\"2021-09-24 10:15\":\"2021-09-24 10:40:00\", [\"CO2 (ppm)\", \"t (s)\", \"T (°C)\", \"T (K)\"]]"
   ]
  },
  {
   "cell_type": "code",
   "execution_count": null,
   "metadata": {
    "ExecuteTime": {
     "end_time": "2021-10-05T07:33:18.888870Z",
     "start_time": "2021-10-05T07:33:18.882638Z"
    }
   },
   "outputs": [],
   "source": []
  },
  {
   "cell_type": "code",
   "execution_count": 13,
   "metadata": {
    "ExecuteTime": {
     "end_time": "2021-10-06T10:54:24.177209Z",
     "start_time": "2021-10-06T10:54:24.165292Z"
    }
   },
   "outputs": [],
   "source": [
    "kinetic[\"Ng (molec/cm³)\"] = (kinetic[\"CO2 (ppm)\"]*f)\n",
    "kinetic[\"pNg (-)\"] = kinetic[\"Ng (molec/cm³)\"].apply(np.log10)"
   ]
  },
  {
   "cell_type": "code",
   "execution_count": 14,
   "metadata": {
    "ExecuteTime": {
     "end_time": "2021-10-06T10:54:24.185130Z",
     "start_time": "2021-10-06T10:54:24.180938Z"
    }
   },
   "outputs": [],
   "source": [
    "rho = 1                 # kg/L\n",
    "kH = 0.035*rho          # mol/L*bar\n",
    "NA = 6.022e23           # molec/mol\n",
    "B0 = 2.5                # mol/L\n",
    "S = (2.5)**2            # cm2\n",
    "D = 1.61e-5             # cm2/s\n",
    "k = 6.79e-10*NA*1e-3    # L/mol.s"
   ]
  },
  {
   "cell_type": "code",
   "execution_count": 15,
   "metadata": {
    "ExecuteTime": {
     "end_time": "2021-10-06T10:54:24.197613Z",
     "start_time": "2021-10-06T10:54:24.188398Z"
    }
   },
   "outputs": [],
   "source": [
    "kinetic = kinetic.resample(\"15S\").mean().interpolate()"
   ]
  },
  {
   "cell_type": "code",
   "execution_count": 16,
   "metadata": {
    "ExecuteTime": {
     "end_time": "2021-10-06T10:54:24.204948Z",
     "start_time": "2021-10-06T10:54:24.199834Z"
    }
   },
   "outputs": [],
   "source": [
    "kinetic[\"t (s)\"] -= kinetic[\"t (s)\"].values[0]"
   ]
  },
  {
   "cell_type": "code",
   "execution_count": null,
   "metadata": {},
   "outputs": [],
   "source": []
  },
  {
   "cell_type": "code",
   "execution_count": null,
   "metadata": {
    "ExecuteTime": {
     "end_time": "2021-10-05T08:03:01.779437Z",
     "start_time": "2021-10-05T08:03:01.774144Z"
    }
   },
   "outputs": [],
   "source": []
  },
  {
   "cell_type": "code",
   "execution_count": 17,
   "metadata": {
    "ExecuteTime": {
     "end_time": "2021-10-06T10:54:24.215203Z",
     "start_time": "2021-10-06T10:54:24.207447Z"
    }
   },
   "outputs": [],
   "source": [
    "kinetic = kinetic.merge(p, left_index=True, right_index=True)"
   ]
  },
  {
   "cell_type": "code",
   "execution_count": 18,
   "metadata": {
    "ExecuteTime": {
     "end_time": "2021-10-06T10:54:24.228634Z",
     "start_time": "2021-10-06T10:54:24.217453Z"
    }
   },
   "outputs": [],
   "source": [
    "kinetic[\"pCO2 (Bar)\"] = p0*(kinetic[\"CO2 (ppm)\"]/1e6)"
   ]
  },
  {
   "cell_type": "code",
   "execution_count": 19,
   "metadata": {
    "ExecuteTime": {
     "end_time": "2021-10-06T10:54:24.270064Z",
     "start_time": "2021-10-06T10:54:24.234580Z"
    }
   },
   "outputs": [
    {
     "data": {
      "text/html": [
       "<div>\n",
       "<style scoped>\n",
       "    .dataframe tbody tr th:only-of-type {\n",
       "        vertical-align: middle;\n",
       "    }\n",
       "\n",
       "    .dataframe tbody tr th {\n",
       "        vertical-align: top;\n",
       "    }\n",
       "\n",
       "    .dataframe thead th {\n",
       "        text-align: right;\n",
       "    }\n",
       "</style>\n",
       "<table border=\"1\" class=\"dataframe\">\n",
       "  <thead>\n",
       "    <tr style=\"text-align: right;\">\n",
       "      <th></th>\n",
       "      <th>CO2 (ppm)</th>\n",
       "      <th>t (s)</th>\n",
       "      <th>T (°C)</th>\n",
       "      <th>T (K)</th>\n",
       "      <th>Ng (molec/cm³)</th>\n",
       "      <th>pNg (-)</th>\n",
       "      <th>RH (%)</th>\n",
       "      <th>p (hPa)</th>\n",
       "      <th>T' (°C)</th>\n",
       "      <th>pCO2 (Bar)</th>\n",
       "    </tr>\n",
       "    <tr>\n",
       "      <th>time</th>\n",
       "      <th></th>\n",
       "      <th></th>\n",
       "      <th></th>\n",
       "      <th></th>\n",
       "      <th></th>\n",
       "      <th></th>\n",
       "      <th></th>\n",
       "      <th></th>\n",
       "      <th></th>\n",
       "      <th></th>\n",
       "    </tr>\n",
       "  </thead>\n",
       "  <tbody>\n",
       "    <tr>\n",
       "      <th>2021-09-24 10:15:15+00:00</th>\n",
       "      <td>500.383118</td>\n",
       "      <td>0.000000</td>\n",
       "      <td>25.199242</td>\n",
       "      <td>298.359242</td>\n",
       "      <td>1.230942e+16</td>\n",
       "      <td>16.090238</td>\n",
       "      <td>38.167342</td>\n",
       "      <td>1014.557284</td>\n",
       "      <td>32.016488</td>\n",
       "      <td>0.000507</td>\n",
       "    </tr>\n",
       "    <tr>\n",
       "      <th>2021-09-24 10:15:30+00:00</th>\n",
       "      <td>479.904785</td>\n",
       "      <td>15.976720</td>\n",
       "      <td>25.169868</td>\n",
       "      <td>298.329868</td>\n",
       "      <td>1.180566e+16</td>\n",
       "      <td>16.072090</td>\n",
       "      <td>38.505350</td>\n",
       "      <td>1014.564717</td>\n",
       "      <td>32.023897</td>\n",
       "      <td>0.000486</td>\n",
       "    </tr>\n",
       "    <tr>\n",
       "      <th>2021-09-24 10:15:45+00:00</th>\n",
       "      <td>460.835602</td>\n",
       "      <td>33.172112</td>\n",
       "      <td>25.212593</td>\n",
       "      <td>298.372593</td>\n",
       "      <td>1.133656e+16</td>\n",
       "      <td>16.054481</td>\n",
       "      <td>38.849241</td>\n",
       "      <td>1014.580293</td>\n",
       "      <td>32.027050</td>\n",
       "      <td>0.000467</td>\n",
       "    </tr>\n",
       "    <tr>\n",
       "      <th>2021-09-24 10:16:00+00:00</th>\n",
       "      <td>449.847809</td>\n",
       "      <td>49.710267</td>\n",
       "      <td>25.212593</td>\n",
       "      <td>298.372593</td>\n",
       "      <td>1.106626e+16</td>\n",
       "      <td>16.044001</td>\n",
       "      <td>39.146070</td>\n",
       "      <td>1014.571523</td>\n",
       "      <td>32.031463</td>\n",
       "      <td>0.000456</td>\n",
       "    </tr>\n",
       "    <tr>\n",
       "      <th>2021-09-24 10:16:15+00:00</th>\n",
       "      <td>439.248077</td>\n",
       "      <td>66.065390</td>\n",
       "      <td>25.199242</td>\n",
       "      <td>298.359242</td>\n",
       "      <td>1.080550e+16</td>\n",
       "      <td>16.033645</td>\n",
       "      <td>39.457517</td>\n",
       "      <td>1014.557394</td>\n",
       "      <td>32.046281</td>\n",
       "      <td>0.000445</td>\n",
       "    </tr>\n",
       "    <tr>\n",
       "      <th>...</th>\n",
       "      <td>...</td>\n",
       "      <td>...</td>\n",
       "      <td>...</td>\n",
       "      <td>...</td>\n",
       "      <td>...</td>\n",
       "      <td>...</td>\n",
       "      <td>...</td>\n",
       "      <td>...</td>\n",
       "      <td>...</td>\n",
       "      <td>...</td>\n",
       "    </tr>\n",
       "    <tr>\n",
       "      <th>2021-09-24 10:38:45+00:00</th>\n",
       "      <td>67.818455</td>\n",
       "      <td>1416.973560</td>\n",
       "      <td>25.601128</td>\n",
       "      <td>298.761128</td>\n",
       "      <td>1.668334e+15</td>\n",
       "      <td>15.222247</td>\n",
       "      <td>46.002472</td>\n",
       "      <td>1014.353611</td>\n",
       "      <td>32.423659</td>\n",
       "      <td>0.000069</td>\n",
       "    </tr>\n",
       "    <tr>\n",
       "      <th>2021-09-24 10:39:00+00:00</th>\n",
       "      <td>66.949341</td>\n",
       "      <td>1424.854698</td>\n",
       "      <td>25.607803</td>\n",
       "      <td>298.767803</td>\n",
       "      <td>1.646954e+15</td>\n",
       "      <td>15.216681</td>\n",
       "      <td>46.020088</td>\n",
       "      <td>1014.394303</td>\n",
       "      <td>32.423817</td>\n",
       "      <td>0.000068</td>\n",
       "    </tr>\n",
       "    <tr>\n",
       "      <th>2021-09-24 10:39:15+00:00</th>\n",
       "      <td>66.933250</td>\n",
       "      <td>1441.350796</td>\n",
       "      <td>25.594452</td>\n",
       "      <td>298.754452</td>\n",
       "      <td>1.646558e+15</td>\n",
       "      <td>15.216577</td>\n",
       "      <td>46.043561</td>\n",
       "      <td>1014.367424</td>\n",
       "      <td>32.422398</td>\n",
       "      <td>0.000068</td>\n",
       "    </tr>\n",
       "    <tr>\n",
       "      <th>2021-09-24 10:39:30+00:00</th>\n",
       "      <td>66.996300</td>\n",
       "      <td>1458.253410</td>\n",
       "      <td>25.594452</td>\n",
       "      <td>298.754452</td>\n",
       "      <td>1.648109e+15</td>\n",
       "      <td>15.216986</td>\n",
       "      <td>46.055358</td>\n",
       "      <td>1014.375472</td>\n",
       "      <td>32.428546</td>\n",
       "      <td>0.000068</td>\n",
       "    </tr>\n",
       "    <tr>\n",
       "      <th>2021-09-24 10:39:45+00:00</th>\n",
       "      <td>65.542374</td>\n",
       "      <td>1474.109629</td>\n",
       "      <td>25.634506</td>\n",
       "      <td>298.794506</td>\n",
       "      <td>1.612342e+15</td>\n",
       "      <td>15.207457</td>\n",
       "      <td>46.078896</td>\n",
       "      <td>1014.375984</td>\n",
       "      <td>32.434378</td>\n",
       "      <td>0.000066</td>\n",
       "    </tr>\n",
       "  </tbody>\n",
       "</table>\n",
       "<p>99 rows × 10 columns</p>\n",
       "</div>"
      ],
      "text/plain": [
       "                            CO2 (ppm)        t (s)     T (°C)       T (K)  \\\n",
       "time                                                                        \n",
       "2021-09-24 10:15:15+00:00  500.383118     0.000000  25.199242  298.359242   \n",
       "2021-09-24 10:15:30+00:00  479.904785    15.976720  25.169868  298.329868   \n",
       "2021-09-24 10:15:45+00:00  460.835602    33.172112  25.212593  298.372593   \n",
       "2021-09-24 10:16:00+00:00  449.847809    49.710267  25.212593  298.372593   \n",
       "2021-09-24 10:16:15+00:00  439.248077    66.065390  25.199242  298.359242   \n",
       "...                               ...          ...        ...         ...   \n",
       "2021-09-24 10:38:45+00:00   67.818455  1416.973560  25.601128  298.761128   \n",
       "2021-09-24 10:39:00+00:00   66.949341  1424.854698  25.607803  298.767803   \n",
       "2021-09-24 10:39:15+00:00   66.933250  1441.350796  25.594452  298.754452   \n",
       "2021-09-24 10:39:30+00:00   66.996300  1458.253410  25.594452  298.754452   \n",
       "2021-09-24 10:39:45+00:00   65.542374  1474.109629  25.634506  298.794506   \n",
       "\n",
       "                           Ng (molec/cm³)    pNg (-)     RH (%)      p (hPa)  \\\n",
       "time                                                                           \n",
       "2021-09-24 10:15:15+00:00    1.230942e+16  16.090238  38.167342  1014.557284   \n",
       "2021-09-24 10:15:30+00:00    1.180566e+16  16.072090  38.505350  1014.564717   \n",
       "2021-09-24 10:15:45+00:00    1.133656e+16  16.054481  38.849241  1014.580293   \n",
       "2021-09-24 10:16:00+00:00    1.106626e+16  16.044001  39.146070  1014.571523   \n",
       "2021-09-24 10:16:15+00:00    1.080550e+16  16.033645  39.457517  1014.557394   \n",
       "...                                   ...        ...        ...          ...   \n",
       "2021-09-24 10:38:45+00:00    1.668334e+15  15.222247  46.002472  1014.353611   \n",
       "2021-09-24 10:39:00+00:00    1.646954e+15  15.216681  46.020088  1014.394303   \n",
       "2021-09-24 10:39:15+00:00    1.646558e+15  15.216577  46.043561  1014.367424   \n",
       "2021-09-24 10:39:30+00:00    1.648109e+15  15.216986  46.055358  1014.375472   \n",
       "2021-09-24 10:39:45+00:00    1.612342e+15  15.207457  46.078896  1014.375984   \n",
       "\n",
       "                             T' (°C)  pCO2 (Bar)  \n",
       "time                                              \n",
       "2021-09-24 10:15:15+00:00  32.016488    0.000507  \n",
       "2021-09-24 10:15:30+00:00  32.023897    0.000486  \n",
       "2021-09-24 10:15:45+00:00  32.027050    0.000467  \n",
       "2021-09-24 10:16:00+00:00  32.031463    0.000456  \n",
       "2021-09-24 10:16:15+00:00  32.046281    0.000445  \n",
       "...                              ...         ...  \n",
       "2021-09-24 10:38:45+00:00  32.423659    0.000069  \n",
       "2021-09-24 10:39:00+00:00  32.423817    0.000068  \n",
       "2021-09-24 10:39:15+00:00  32.422398    0.000068  \n",
       "2021-09-24 10:39:30+00:00  32.428546    0.000068  \n",
       "2021-09-24 10:39:45+00:00  32.434378    0.000066  \n",
       "\n",
       "[99 rows x 10 columns]"
      ]
     },
     "execution_count": 19,
     "metadata": {},
     "output_type": "execute_result"
    }
   ],
   "source": [
    "kinetic"
   ]
  },
  {
   "cell_type": "code",
   "execution_count": null,
   "metadata": {},
   "outputs": [],
   "source": []
  },
  {
   "cell_type": "code",
   "execution_count": 20,
   "metadata": {
    "ExecuteTime": {
     "end_time": "2021-10-06T10:54:24.518555Z",
     "start_time": "2021-10-06T10:54:24.272176Z"
    }
   },
   "outputs": [
    {
     "data": {
      "text/plain": [
       "[<matplotlib.lines.Line2D at 0x7ff845ea03c8>]"
      ]
     },
     "execution_count": 20,
     "metadata": {},
     "output_type": "execute_result"
    },
    {
     "data": {
      "image/png": "[encoded data removed]",
      "text/plain": [
       "<Figure size 432x288 with 1 Axes>"
      ]
     },
     "metadata": {
      "needs_background": "light"
     },
     "output_type": "display_data"
    }
   ],
   "source": [
    "fig, axe = plt.subplots()\n",
    "axe.plot(kinetic[\"t (s)\"], kinetic[\"pCO2 (Bar)\"], \".\")"
   ]
  },
  {
   "cell_type": "code",
   "execution_count": 21,
   "metadata": {
    "ExecuteTime": {
     "end_time": "2021-10-06T10:54:24.526225Z",
     "start_time": "2021-10-06T10:54:24.521308Z"
    }
   },
   "outputs": [],
   "source": [
    "res = linregress(kinetic[\"t (s)\"], np.log(kinetic[\"pCO2 (Bar)\"]))"
   ]
  },
  {
   "cell_type": "code",
   "execution_count": 22,
   "metadata": {
    "ExecuteTime": {
     "end_time": "2021-10-06T10:54:24.534162Z",
     "start_time": "2021-10-06T10:54:24.528473Z"
    }
   },
   "outputs": [
    {
     "data": {
      "text/plain": [
       "LinregressResult(slope=-0.0013493913433796861, intercept=-7.745757071198734, rvalue=-0.9944187569183174, pvalue=1.4701433485968791e-96, stderr=1.4536384069672292e-05)"
      ]
     },
     "execution_count": 22,
     "metadata": {},
     "output_type": "execute_result"
    }
   ],
   "source": [
    "res"
   ]
  },
  {
   "cell_type": "code",
   "execution_count": 23,
   "metadata": {
    "ExecuteTime": {
     "end_time": "2021-10-06T10:54:24.540020Z",
     "start_time": "2021-10-06T10:54:24.536498Z"
    }
   },
   "outputs": [],
   "source": [
    "def f(t, res):\n",
    "    return np.exp(res.intercept + res.slope*t)"
   ]
  },
  {
   "cell_type": "code",
   "execution_count": 24,
   "metadata": {
    "ExecuteTime": {
     "end_time": "2021-10-06T10:54:25.170162Z",
     "start_time": "2021-10-06T10:54:24.542643Z"
    }
   },
   "outputs": [
    {
     "data": {
      "text/plain": [
       "<matplotlib.legend.Legend at 0x7ff845e22860>"
      ]
     },
     "execution_count": 24,
     "metadata": {},
     "output_type": "execute_result"
    },
    {
     "data": {
      "image/png": "[encoded data removed]",
      "text/plain": [
       "<Figure size 432x288 with 1 Axes>"
      ]
     },
     "metadata": {
      "needs_background": "light"
     },
     "output_type": "display_data"
    }
   ],
   "source": [
    "t = kinetic[\"t (s)\"]\n",
    "fig, axe = plt.subplots()\n",
    "axe.plot(t, kinetic[\"pCO2 (Bar)\"], \".\", label=\"Data\")\n",
    "axe.plot(t, f(t, res), label=\"Fit\")\n",
    "axe.grid(which=\"both\")\n",
    "axe.set_title(\"Kinetic\")\n",
    "axe.set_xlabel(r\"Time, $t$ $[\\mathrm{s}]$\")\n",
    "axe.set_ylabel(r\"Concentration, $C_x(t)$ $[\\mathrm{mol\\cdot L^{-1}}]$\")\n",
    "axe.legend()"
   ]
  },
  {
   "cell_type": "code",
   "execution_count": 25,
   "metadata": {
    "ExecuteTime": {
     "end_time": "2021-10-06T10:54:25.670669Z",
     "start_time": "2021-10-06T10:54:25.173063Z"
    }
   },
   "outputs": [
    {
     "data": {
      "text/plain": [
       "<matplotlib.legend.Legend at 0x7ff843c914e0>"
      ]
     },
     "execution_count": 25,
     "metadata": {},
     "output_type": "execute_result"
    },
    {
     "data": {
      "image/png": "[encoded data removed]",
      "text/plain": [
       "<Figure size 432x288 with 1 Axes>"
      ]
     },
     "metadata": {
      "needs_background": "light"
     },
     "output_type": "display_data"
    }
   ],
   "source": [
    "t = kinetic[\"t (s)\"]\n",
    "fig, axe = plt.subplots()\n",
    "axe.semilogy(t, kinetic[\"pCO2 (Bar)\"], \".\", label=\"Data\")\n",
    "axe.semilogy(t, f(t, res), label=\"Fit\")\n",
    "axe.grid(which=\"both\")\n",
    "axe.set_title(\"Kinetic\")\n",
    "axe.set_xlabel(r\"Time, $t$ $[\\mathrm{s}]$\")\n",
    "axe.set_ylabel(r\"Concentration, $C_x(t)$ $[\\mathrm{mol\\cdot L^{-1}}]$\")\n",
    "axe.legend()"
   ]
  },
  {
   "cell_type": "code",
   "execution_count": null,
   "metadata": {
    "ExecuteTime": {
     "end_time": "2021-10-06T10:46:56.577177Z",
     "start_time": "2021-10-06T10:46:56.569301Z"
    }
   },
   "outputs": [],
   "source": []
  },
  {
   "cell_type": "code",
   "execution_count": null,
   "metadata": {
    "ExecuteTime": {
     "end_time": "2021-10-06T10:46:56.587806Z",
     "start_time": "2021-10-06T10:46:56.580629Z"
    }
   },
   "outputs": [],
   "source": []
  },
  {
   "cell_type": "code",
   "execution_count": 26,
   "metadata": {
    "ExecuteTime": {
     "end_time": "2021-10-06T10:54:25.677058Z",
     "start_time": "2021-10-06T10:54:25.672854Z"
    }
   },
   "outputs": [],
   "source": [
    "ks = -res.slope"
   ]
  },
  {
   "cell_type": "code",
   "execution_count": 27,
   "metadata": {
    "ExecuteTime": {
     "end_time": "2021-10-06T10:54:25.689421Z",
     "start_time": "2021-10-06T10:54:25.684530Z"
    }
   },
   "outputs": [
    {
     "data": {
      "text/plain": [
       "15216.551339001653"
      ]
     },
     "execution_count": 27,
     "metadata": {},
     "output_type": "execute_result"
    }
   ],
   "source": [
    "k = ks/(p0*kH*B0*1e-6)\n",
    "k"
   ]
  },
  {
   "cell_type": "code",
   "execution_count": null,
   "metadata": {
    "ExecuteTime": {
     "end_time": "2021-10-06T08:06:47.094676Z",
     "start_time": "2021-10-06T08:06:47.089535Z"
    }
   },
   "outputs": [],
   "source": []
  },
  {
   "cell_type": "code",
   "execution_count": 28,
   "metadata": {
    "ExecuteTime": {
     "end_time": "2021-10-06T10:54:25.918603Z",
     "start_time": "2021-10-06T10:54:25.693755Z"
    }
   },
   "outputs": [
    {
     "data": {
      "text/plain": [
       "<AxesSubplot:xlabel='time'>"
      ]
     },
     "execution_count": 28,
     "metadata": {},
     "output_type": "execute_result"
    },
    {
     "data": {
      "image/png": "[encoded data removed]",
      "text/plain": [
       "<Figure size 432x288 with 1 Axes>"
      ]
     },
     "metadata": {
      "needs_background": "light"
     },
     "output_type": "display_data"
    }
   ],
   "source": [
    "kinetic.filter(regex=\"p \\(hPa\\)\").plot()"
   ]
  },
  {
   "cell_type": "code",
   "execution_count": 29,
   "metadata": {
    "ExecuteTime": {
     "end_time": "2021-10-06T10:54:26.225700Z",
     "start_time": "2021-10-06T10:54:25.921232Z"
    }
   },
   "outputs": [
    {
     "data": {
      "text/plain": [
       "<AxesSubplot:xlabel='time'>"
      ]
     },
     "execution_count": 29,
     "metadata": {},
     "output_type": "execute_result"
    },
    {
     "data": {
      "image/png": "[encoded data removed]",
      "text/plain": [
       "<Figure size 432x288 with 1 Axes>"
      ]
     },
     "metadata": {
      "needs_background": "light"
     },
     "output_type": "display_data"
    }
   ],
   "source": [
    "kinetic.filter(regex=\"T \\(.C\\)\").plot()"
   ]
  },
  {
   "cell_type": "code",
   "execution_count": 30,
   "metadata": {
    "ExecuteTime": {
     "end_time": "2021-10-06T10:54:26.575597Z",
     "start_time": "2021-10-06T10:54:26.229994Z"
    }
   },
   "outputs": [
    {
     "data": {
      "text/plain": [
       "<AxesSubplot:ylabel='Density'>"
      ]
     },
     "execution_count": 30,
     "metadata": {},
     "output_type": "execute_result"
    },
    {
     "data": {
      "image/png": "[encoded data removed]",
      "text/plain": [
       "<Figure size 432x288 with 1 Axes>"
      ]
     },
     "metadata": {
      "needs_background": "light"
     },
     "output_type": "display_data"
    }
   ],
   "source": [
    "kinetic.filter(regex=\"T \\(.C\\)\").plot(kind=\"kde\")"
   ]
  },
  {
   "cell_type": "code",
   "execution_count": null,
   "metadata": {},
   "outputs": [],
   "source": []
  },
  {
   "cell_type": "code",
   "execution_count": null,
   "metadata": {},
   "outputs": [],
   "source": []
  }
 ],
 "metadata": {
  "hide_input": false,
  "kernelspec": {
   "display_name": "Python 3",
   "language": "python",
   "name": "python3"
  },
  "language_info": {
   "codemirror_mode": {
    "name": "ipython",
    "version": 3
   },
   "file_extension": ".py",
   "mimetype": "text/x-python",
   "name": "python",
   "nbconvert_exporter": "python",
   "pygments_lexer": "ipython3",
   "version": "3.6.9"
  },
  "toc": {
   "base_numbering": 1,
   "nav_menu": {},
   "number_sections": true,
   "sideBar": true,
   "skip_h1_title": false,
   "title_cell": "Table of Contents",
   "title_sidebar": "Contents",
   "toc_cell": false,
   "toc_position": {},
   "toc_section_display": true,
   "toc_window_display": false
  },
  "varInspector": {
   "cols": {
    "lenName": 16,
    "lenType": 16,
    "lenVar": 40
   },
   "kernels_config": {
    "python": {
     "delete_cmd_postfix": "",
     "delete_cmd_prefix": "del ",
     "library": "var_list.py",
     "varRefreshCmd": "print(var_dic_list())"
    },
    "r": {
     "delete_cmd_postfix": ") ",
     "delete_cmd_prefix": "rm(",
     "library": "var_list.r",
     "varRefreshCmd": "cat(var_dic_list()) "
    }
   },
   "types_to_exclude": [
    "module",
    "function",
    "builtin_function_or_method",
    "instance",
    "_Feature"
   ],
   "window_display": false
  }
 },
 "nbformat": 4,
 "nbformat_minor": 4
}
