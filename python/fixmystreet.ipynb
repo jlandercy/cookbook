{
 "cells": [
  {
   "cell_type": "code",
   "execution_count": 3,
   "id": "03528adb",
   "metadata": {
    "ExecuteTime": {
     "end_time": "2024-03-21T22:24:16.213449Z",
     "start_time": "2024-03-21T22:24:16.089244Z"
    }
   },
   "outputs": [],
   "source": [
    "import pandas as pd\n",
    "import geopandas as gpd\n",
    "import requests"
   ]
  },
  {
   "cell_type": "code",
   "execution_count": 11,
   "id": "d4cae140",
   "metadata": {
    "ExecuteTime": {
     "end_time": "2024-03-21T22:27:38.387141Z",
     "start_time": "2024-03-21T22:27:38.380203Z"
    }
   },
   "outputs": [],
   "source": [
    "url = \"https://fixmystreet.brussels/api/incidents?startDate=2024-01-01&endDate=2024-03-21&page={page:}&size={size:}\""
   ]
  },
  {
   "cell_type": "code",
   "execution_count": 12,
   "id": "016edcc9",
   "metadata": {
    "ExecuteTime": {
     "end_time": "2024-03-21T22:27:54.539861Z",
     "start_time": "2024-03-21T22:27:53.891535Z"
    }
   },
   "outputs": [],
   "source": [
    "rep = requests.get(url.format(page=0, size=1))"
   ]
  },
  {
   "cell_type": "code",
   "execution_count": 16,
   "id": "4901bbfe",
   "metadata": {
    "ExecuteTime": {
     "end_time": "2024-03-21T22:29:09.425505Z",
     "start_time": "2024-03-21T22:29:09.419483Z"
    }
   },
   "outputs": [],
   "source": [
    "n = rep.json()[\"page\"][\"totalElements\"]\n",
    "m = n // 5000 + 1"
   ]
  },
  {
   "cell_type": "code",
   "execution_count": null,
   "id": "3b70ff65",
   "metadata": {
    "ExecuteTime": {
     "end_time": "2024-03-21T22:29:16.383813Z",
     "start_time": "2024-03-21T22:29:16.377169Z"
    }
   },
   "outputs": [],
   "source": []
  },
  {
   "cell_type": "code",
   "execution_count": 18,
   "id": "027c0684",
   "metadata": {
    "ExecuteTime": {
     "end_time": "2024-03-21T22:30:18.154727Z",
     "start_time": "2024-03-21T22:29:50.542444Z"
    }
   },
   "outputs": [],
   "source": [
    "frames = []\n",
    "for i in range(6):\n",
    "    rep = requests.get(url.format(page=i, size=5000))\n",
    "    frame = pd.json_normalize(rep.json()[\"_embedded\"][\"response\"])\n",
    "    frames.append(frame)"
   ]
  },
  {
   "cell_type": "code",
   "execution_count": 19,
   "id": "e3fb2cd4",
   "metadata": {
    "ExecuteTime": {
     "end_time": "2024-03-21T22:30:26.724621Z",
     "start_time": "2024-03-21T22:30:25.950355Z"
    }
   },
   "outputs": [],
   "source": [
    "data = pd.concat(frames)"
   ]
  },
  {
   "cell_type": "code",
   "execution_count": null,
   "id": "6d85611e",
   "metadata": {
    "ExecuteTime": {
     "end_time": "2024-03-21T22:33:42.369977Z",
     "start_time": "2024-03-21T22:33:42.292518Z"
    }
   },
   "outputs": [],
   "source": []
  },
  {
   "cell_type": "code",
   "execution_count": 23,
   "id": "ae36925b",
   "metadata": {
    "ExecuteTime": {
     "end_time": "2024-03-21T22:34:33.104428Z",
     "start_time": "2024-03-21T22:34:29.418102Z"
    }
   },
   "outputs": [],
   "source": [
    "gdf = gpd.GeoDataFrame(\n",
    "    data,\n",
    "    geometry=gpd.points_from_xy(\n",
    "        x=data[\"location.coordinates.x\"],\n",
    "        y=data[\"location.coordinates.y\"]\n",
    "    ),\n",
    "    crs=\"EPSG:31370\"\n",
    ")"
   ]
  },
  {
   "cell_type": "code",
   "execution_count": null,
   "id": "5bc9b9fe",
   "metadata": {
    "ExecuteTime": {
     "end_time": "2024-03-21T22:36:09.268008Z",
     "start_time": "2024-03-21T22:36:09.007941Z"
    }
   },
   "outputs": [],
   "source": []
  },
  {
   "cell_type": "code",
   "execution_count": null,
   "id": "436f86d6",
   "metadata": {},
   "outputs": [],
   "source": []
  },
  {
   "cell_type": "code",
   "execution_count": 29,
   "id": "84c99360",
   "metadata": {
    "ExecuteTime": {
     "end_time": "2024-03-21T22:40:33.906287Z",
     "start_time": "2024-03-21T22:40:33.750195Z"
    }
   },
   "outputs": [],
   "source": [
    "selection = gpd.read_file(\"GDM_planFederal_perimeter.shp\")"
   ]
  },
  {
   "cell_type": "code",
   "execution_count": 31,
   "id": "0d01d235",
   "metadata": {
    "ExecuteTime": {
     "end_time": "2024-03-21T22:41:35.631923Z",
     "start_time": "2024-03-21T22:41:32.845142Z"
    }
   },
   "outputs": [],
   "source": [
    "sel = gdf.sjoin(selection)"
   ]
  },
  {
   "cell_type": "code",
   "execution_count": 33,
   "id": "75451fcc",
   "metadata": {
    "ExecuteTime": {
     "end_time": "2024-03-21T22:41:59.588123Z",
     "start_time": "2024-03-21T22:41:58.308140Z"
    }
   },
   "outputs": [],
   "source": [
    "sel.to_excel(\"selection.xlsx\")"
   ]
  },
  {
   "cell_type": "code",
   "execution_count": 32,
   "id": "c0faf769",
   "metadata": {
    "ExecuteTime": {
     "end_time": "2024-03-21T22:41:37.662154Z",
     "start_time": "2024-03-21T22:41:37.343601Z"
    }
   },
   "outputs": [
    {
     "data": {
      "text/plain": [
       "<AxesSubplot:>"
      ]
     },
     "execution_count": 32,
     "metadata": {},
     "output_type": "execute_result"
    },
    {
     "data": {
      "image/png": "[encoded data removed]",
      "text/plain": [
       "<Figure size 640x480 with 1 Axes>"
      ]
     },
     "metadata": {},
     "output_type": "display_data"
    }
   ],
   "source": [
    "sel.plot()"
   ]
  },
  {
   "cell_type": "code",
   "execution_count": null,
   "id": "e7333aba",
   "metadata": {},
   "outputs": [],
   "source": []
  }
 ],
 "metadata": {
  "hide_input": false,
  "kernelspec": {
   "display_name": "Python 3",
   "language": "python",
   "name": "python3"
  },
  "language_info": {
   "codemirror_mode": {
    "name": "ipython",
    "version": 3
   },
   "file_extension": ".py",
   "mimetype": "text/x-python",
   "name": "python",
   "nbconvert_exporter": "python",
   "pygments_lexer": "ipython3",
   "version": "3.10.6"
  },
  "toc": {
   "base_numbering": 1,
   "nav_menu": {},
   "number_sections": true,
   "sideBar": true,
   "skip_h1_title": false,
   "title_cell": "Table of Contents",
   "title_sidebar": "Contents",
   "toc_cell": false,
   "toc_position": {},
   "toc_section_display": true,
   "toc_window_display": false
  },
  "varInspector": {
   "cols": {
    "lenName": 16,
    "lenType": 16,
    "lenVar": 40
   },
   "kernels_config": {
    "python": {
     "delete_cmd_postfix": "",
     "delete_cmd_prefix": "del ",
     "library": "var_list.py",
     "varRefreshCmd": "print(var_dic_list())"
    },
    "r": {
     "delete_cmd_postfix": ") ",
     "delete_cmd_prefix": "rm(",
     "library": "var_list.r",
     "varRefreshCmd": "cat(var_dic_list()) "
    }
   },
   "types_to_exclude": [
    "module",
    "function",
    "builtin_function_or_method",
    "instance",
    "_Feature"
   ],
   "window_display": false
  }
 },
 "nbformat": 4,
 "nbformat_minor": 5
}
