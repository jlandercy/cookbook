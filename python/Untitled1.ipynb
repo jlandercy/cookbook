{
 "cells": [
  {
   "cell_type": "code",
   "execution_count": 2,
   "id": "316cc2e5",
   "metadata": {
    "ExecuteTime": {
     "end_time": "2023-04-01T13:32:53.225933Z",
     "start_time": "2023-04-01T13:32:53.129081Z"
    }
   },
   "outputs": [],
   "source": [
    "import qrcode"
   ]
  },
  {
   "cell_type": "code",
   "execution_count": 3,
   "id": "61c1a55f",
   "metadata": {
    "ExecuteTime": {
     "end_time": "2023-04-01T13:33:01.381136Z",
     "start_time": "2023-04-01T13:33:01.377703Z"
    }
   },
   "outputs": [],
   "source": [
    "url = \"https://landercy.be/olimat/guestmap/guest/\""
   ]
  },
  {
   "cell_type": "code",
   "execution_count": 4,
   "id": "df2385d3",
   "metadata": {
    "ExecuteTime": {
     "end_time": "2023-04-01T13:33:35.415984Z",
     "start_time": "2023-04-01T13:33:35.381710Z"
    }
   },
   "outputs": [],
   "source": [
    "qr = qrcode.QRCode(\n",
    "    version=1,\n",
    "    error_correction=qrcode.constants.ERROR_CORRECT_H,\n",
    "    box_size=10,\n",
    "    border=4,\n",
    ")\n",
    "qr.add_data(url)\n",
    "qr.make(fit=True)\n",
    "\n",
    "img = qr.make_image(fill_color=\"black\", back_color=\"white\")"
   ]
  },
  {
   "cell_type": "code",
   "execution_count": 5,
   "id": "b6791b3d",
   "metadata": {
    "ExecuteTime": {
     "end_time": "2023-04-01T13:34:06.546941Z",
     "start_time": "2023-04-01T13:34:06.519856Z"
    }
   },
   "outputs": [],
   "source": [
    "img.save(\"olimat_game.png\")"
   ]
  },
  {
   "cell_type": "code",
   "execution_count": null,
   "id": "2eff91f1",
   "metadata": {},
   "outputs": [],
   "source": []
  }
 ],
 "metadata": {
  "hide_input": false,
  "kernelspec": {
   "display_name": "Python 3",
   "language": "python",
   "name": "python3"
  },
  "language_info": {
   "codemirror_mode": {
    "name": "ipython",
    "version": 3
   },
   "file_extension": ".py",
   "mimetype": "text/x-python",
   "name": "python",
   "nbconvert_exporter": "python",
   "pygments_lexer": "ipython3",
   "version": "3.10.6"
  },
  "toc": {
   "base_numbering": 1,
   "nav_menu": {},
   "number_sections": true,
   "sideBar": true,
   "skip_h1_title": false,
   "title_cell": "Table of Contents",
   "title_sidebar": "Contents",
   "toc_cell": false,
   "toc_position": {},
   "toc_section_display": true,
   "toc_window_display": false
  },
  "varInspector": {
   "cols": {
    "lenName": 16,
    "lenType": 16,
    "lenVar": 40
   },
   "kernels_config": {
    "python": {
     "delete_cmd_postfix": "",
     "delete_cmd_prefix": "del ",
     "library": "var_list.py",
     "varRefreshCmd": "print(var_dic_list())"
    },
    "r": {
     "delete_cmd_postfix": ") ",
     "delete_cmd_prefix": "rm(",
     "library": "var_list.r",
     "varRefreshCmd": "cat(var_dic_list()) "
    }
   },
   "types_to_exclude": [
    "module",
    "function",
    "builtin_function_or_method",
    "instance",
    "_Feature"
   ],
   "window_display": false
  }
 },
 "nbformat": 4,
 "nbformat_minor": 5
}
