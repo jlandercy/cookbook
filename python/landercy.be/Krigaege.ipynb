{
 "cells": [
  {
   "cell_type": "code",
   "execution_count": 1,
   "id": "5957f111",
   "metadata": {},
   "outputs": [],
   "source": [
    "import numpy as np\n",
    "import pandas as pd\n",
    "import matplotlib.pyplot as plt\n",
    "from scipy import stats"
   ]
  },
  {
   "cell_type": "code",
   "execution_count": 2,
   "id": "2be1f27e",
   "metadata": {},
   "outputs": [],
   "source": [
    "np.random.seed(12345)"
   ]
  },
  {
   "cell_type": "code",
   "execution_count": 3,
   "id": "00b67f19",
   "metadata": {},
   "outputs": [],
   "source": [
    "spot1 = stats.multivariate_normal([0.5, -0.2], [[2.0, 0.3], [0.3, 0.5]])\n",
    "spot2 = stats.multivariate_normal([-0.5, 0.2], [[0.7, 0.5], [0.3, 0.2]])\n",
    "def model(x, y):\n",
    "    coords = np.dstack((x, y))\n",
    "    return 3.02*spot1.pdf(coords) + 0.25*spot2.pdf(coords)"
   ]
  },
  {
   "cell_type": "code",
   "execution_count": 4,
   "id": "da87a337",
   "metadata": {},
   "outputs": [],
   "source": [
    "xlin = np.linspace(-1, 1, 100)\n",
    "ylin = np.linspace(-1, 1, 100)\n",
    "X, Y = np.meshgrid(xlin, ylin)"
   ]
  },
  {
   "cell_type": "code",
   "execution_count": null,
   "id": "248a28ac",
   "metadata": {},
   "outputs": [],
   "source": []
  },
  {
   "cell_type": "code",
   "execution_count": 5,
   "id": "8f049b5f",
   "metadata": {},
   "outputs": [],
   "source": [
    "Z = model(X, Y)"
   ]
  },
  {
   "cell_type": "code",
   "execution_count": 6,
   "id": "436c8a5b",
   "metadata": {},
   "outputs": [
    {
     "data": {
      "text/plain": [
       "0.030936219499713792"
      ]
     },
     "execution_count": 6,
     "metadata": {},
     "output_type": "execute_result"
    }
   ],
   "source": [
    "Z.min()"
   ]
  },
  {
   "cell_type": "code",
   "execution_count": 7,
   "id": "fc731fa3",
   "metadata": {},
   "outputs": [
    {
     "data": {
      "text/plain": [
       "0.34854357570241373"
      ]
     },
     "execution_count": 7,
     "metadata": {},
     "output_type": "execute_result"
    }
   ],
   "source": [
    "Z.mean()"
   ]
  },
  {
   "cell_type": "code",
   "execution_count": 8,
   "id": "6596e832",
   "metadata": {},
   "outputs": [
    {
     "data": {
      "text/plain": [
       "0.5046174317946395"
      ]
     },
     "execution_count": 8,
     "metadata": {},
     "output_type": "execute_result"
    }
   ],
   "source": [
    "Z.max()"
   ]
  },
  {
   "cell_type": "code",
   "execution_count": null,
   "id": "4bcc98b2",
   "metadata": {},
   "outputs": [],
   "source": []
  },
  {
   "cell_type": "code",
   "execution_count": 9,
   "id": "9589f302",
   "metadata": {},
   "outputs": [],
   "source": [
    "n = 100\n",
    "x = np.random.uniform(low=-1, high=1, size=n)\n",
    "y = np.random.uniform(low=-1, high=1, size=n)\n",
    "z = model(x, y)"
   ]
  },
  {
   "cell_type": "code",
   "execution_count": null,
   "id": "a33df089",
   "metadata": {},
   "outputs": [],
   "source": []
  },
  {
   "cell_type": "code",
   "execution_count": 10,
   "id": "a9036fca",
   "metadata": {},
   "outputs": [
    {
     "data": {
      "text/plain": [
       "<matplotlib.collections.PathCollection at 0x211f0c1f5e0>"
      ]
     },
     "execution_count": 10,
     "metadata": {},
     "output_type": "execute_result"
    },
    {
     "data": {
      "image/png": "[encoded data removed]",
      "text/plain": [
       "<Figure size 432x288 with 1 Axes>"
      ]
     },
     "metadata": {
      "needs_background": "light"
     },
     "output_type": "display_data"
    }
   ],
   "source": [
    "fig, axe = plt.subplots()\n",
    "axe.contourf(X, Y, Z, cmap=\"jet\")\n",
    "axe.scatter(x, y)"
   ]
  },
  {
   "cell_type": "code",
   "execution_count": null,
   "id": "47c462c8",
   "metadata": {},
   "outputs": [],
   "source": []
  },
  {
   "cell_type": "code",
   "execution_count": 11,
   "id": "7d2f7df1",
   "metadata": {},
   "outputs": [],
   "source": [
    "df = pd.DataFrame({\"x\": x, \"y\": y, \"z\": z})"
   ]
  },
  {
   "cell_type": "code",
   "execution_count": 12,
   "id": "57668d94",
   "metadata": {},
   "outputs": [],
   "source": [
    "cross = df.merge(df, how=\"cross\", suffixes=(\"_1\", \"_2\"))"
   ]
  },
  {
   "cell_type": "code",
   "execution_count": 13,
   "id": "88a54b86",
   "metadata": {},
   "outputs": [],
   "source": [
    "cross[\"d\"] = np.sqrt((cross[\"x_1\"] - cross[\"x_2\"])**2 + (cross[\"y_1\"] - cross[\"y_2\"])**2)"
   ]
  },
  {
   "cell_type": "code",
   "execution_count": 14,
   "id": "65583d21",
   "metadata": {},
   "outputs": [],
   "source": [
    "cross[\"g\"] = 0.5 * (cross[\"z_1\"] - cross[\"z_2\"])**2"
   ]
  },
  {
   "cell_type": "code",
   "execution_count": 15,
   "id": "35e4dff4",
   "metadata": {},
   "outputs": [
    {
     "data": {
      "text/html": [
       "<div>\n",
       "<style scoped>\n",
       "    .dataframe tbody tr th:only-of-type {\n",
       "        vertical-align: middle;\n",
       "    }\n",
       "\n",
       "    .dataframe tbody tr th {\n",
       "        vertical-align: top;\n",
       "    }\n",
       "\n",
       "    .dataframe thead th {\n",
       "        text-align: right;\n",
       "    }\n",
       "</style>\n",
       "<table border=\"1\" class=\"dataframe\">\n",
       "  <thead>\n",
       "    <tr style=\"text-align: right;\">\n",
       "      <th></th>\n",
       "      <th>x_1</th>\n",
       "      <th>y_1</th>\n",
       "      <th>z_1</th>\n",
       "      <th>x_2</th>\n",
       "      <th>y_2</th>\n",
       "      <th>z_2</th>\n",
       "      <th>d</th>\n",
       "      <th>g</th>\n",
       "    </tr>\n",
       "  </thead>\n",
       "  <tbody>\n",
       "    <tr>\n",
       "      <th>0</th>\n",
       "      <td>0.859232</td>\n",
       "      <td>-0.608410</td>\n",
       "      <td>0.385745</td>\n",
       "      <td>0.859232</td>\n",
       "      <td>-0.608410</td>\n",
       "      <td>0.385745</td>\n",
       "      <td>0.000000</td>\n",
       "      <td>0.000000e+00</td>\n",
       "    </tr>\n",
       "    <tr>\n",
       "      <th>1</th>\n",
       "      <td>0.859232</td>\n",
       "      <td>-0.608410</td>\n",
       "      <td>0.385745</td>\n",
       "      <td>-0.367249</td>\n",
       "      <td>-0.410997</td>\n",
       "      <td>0.422237</td>\n",
       "      <td>1.242267</td>\n",
       "      <td>6.658355e-04</td>\n",
       "    </tr>\n",
       "    <tr>\n",
       "      <th>2</th>\n",
       "      <td>0.859232</td>\n",
       "      <td>-0.608410</td>\n",
       "      <td>0.385745</td>\n",
       "      <td>-0.632162</td>\n",
       "      <td>0.254000</td>\n",
       "      <td>0.399762</td>\n",
       "      <td>1.722791</td>\n",
       "      <td>9.824522e-05</td>\n",
       "    </tr>\n",
       "    <tr>\n",
       "      <th>3</th>\n",
       "      <td>0.859232</td>\n",
       "      <td>-0.608410</td>\n",
       "      <td>0.385745</td>\n",
       "      <td>-0.590879</td>\n",
       "      <td>-0.827554</td>\n",
       "      <td>0.295573</td>\n",
       "      <td>1.466577</td>\n",
       "      <td>4.065440e-03</td>\n",
       "    </tr>\n",
       "    <tr>\n",
       "      <th>4</th>\n",
       "      <td>0.859232</td>\n",
       "      <td>-0.608410</td>\n",
       "      <td>0.385745</td>\n",
       "      <td>0.135450</td>\n",
       "      <td>-0.714110</td>\n",
       "      <td>0.386501</td>\n",
       "      <td>0.731460</td>\n",
       "      <td>2.863870e-07</td>\n",
       "    </tr>\n",
       "    <tr>\n",
       "      <th>...</th>\n",
       "      <td>...</td>\n",
       "      <td>...</td>\n",
       "      <td>...</td>\n",
       "      <td>...</td>\n",
       "      <td>...</td>\n",
       "      <td>...</td>\n",
       "      <td>...</td>\n",
       "      <td>...</td>\n",
       "    </tr>\n",
       "    <tr>\n",
       "      <th>9995</th>\n",
       "      <td>-0.914569</td>\n",
       "      <td>0.136567</td>\n",
       "      <td>0.363094</td>\n",
       "      <td>0.821451</td>\n",
       "      <td>-0.552660</td>\n",
       "      <td>0.411522</td>\n",
       "      <td>1.867833</td>\n",
       "      <td>1.172637e-03</td>\n",
       "    </tr>\n",
       "    <tr>\n",
       "      <th>9996</th>\n",
       "      <td>-0.914569</td>\n",
       "      <td>0.136567</td>\n",
       "      <td>0.363094</td>\n",
       "      <td>-0.327890</td>\n",
       "      <td>-0.475651</td>\n",
       "      <td>0.417361</td>\n",
       "      <td>0.847941</td>\n",
       "      <td>1.472450e-03</td>\n",
       "    </tr>\n",
       "    <tr>\n",
       "      <th>9997</th>\n",
       "      <td>-0.914569</td>\n",
       "      <td>0.136567</td>\n",
       "      <td>0.363094</td>\n",
       "      <td>0.652761</td>\n",
       "      <td>-0.086261</td>\n",
       "      <td>0.497375</td>\n",
       "      <td>1.583091</td>\n",
       "      <td>9.015751e-03</td>\n",
       "    </tr>\n",
       "    <tr>\n",
       "      <th>9998</th>\n",
       "      <td>-0.914569</td>\n",
       "      <td>0.136567</td>\n",
       "      <td>0.363094</td>\n",
       "      <td>0.796201</td>\n",
       "      <td>-0.500146</td>\n",
       "      <td>0.432630</td>\n",
       "      <td>1.825415</td>\n",
       "      <td>2.417641e-03</td>\n",
       "    </tr>\n",
       "    <tr>\n",
       "      <th>9999</th>\n",
       "      <td>-0.914569</td>\n",
       "      <td>0.136567</td>\n",
       "      <td>0.363094</td>\n",
       "      <td>-0.914569</td>\n",
       "      <td>0.136567</td>\n",
       "      <td>0.363094</td>\n",
       "      <td>0.000000</td>\n",
       "      <td>0.000000e+00</td>\n",
       "    </tr>\n",
       "  </tbody>\n",
       "</table>\n",
       "<p>10000 rows × 8 columns</p>\n",
       "</div>"
      ],
      "text/plain": [
       "           x_1       y_1       z_1       x_2       y_2       z_2         d  \\\n",
       "0     0.859232 -0.608410  0.385745  0.859232 -0.608410  0.385745  0.000000   \n",
       "1     0.859232 -0.608410  0.385745 -0.367249 -0.410997  0.422237  1.242267   \n",
       "2     0.859232 -0.608410  0.385745 -0.632162  0.254000  0.399762  1.722791   \n",
       "3     0.859232 -0.608410  0.385745 -0.590879 -0.827554  0.295573  1.466577   \n",
       "4     0.859232 -0.608410  0.385745  0.135450 -0.714110  0.386501  0.731460   \n",
       "...        ...       ...       ...       ...       ...       ...       ...   \n",
       "9995 -0.914569  0.136567  0.363094  0.821451 -0.552660  0.411522  1.867833   \n",
       "9996 -0.914569  0.136567  0.363094 -0.327890 -0.475651  0.417361  0.847941   \n",
       "9997 -0.914569  0.136567  0.363094  0.652761 -0.086261  0.497375  1.583091   \n",
       "9998 -0.914569  0.136567  0.363094  0.796201 -0.500146  0.432630  1.825415   \n",
       "9999 -0.914569  0.136567  0.363094 -0.914569  0.136567  0.363094  0.000000   \n",
       "\n",
       "                 g  \n",
       "0     0.000000e+00  \n",
       "1     6.658355e-04  \n",
       "2     9.824522e-05  \n",
       "3     4.065440e-03  \n",
       "4     2.863870e-07  \n",
       "...            ...  \n",
       "9995  1.172637e-03  \n",
       "9996  1.472450e-03  \n",
       "9997  9.015751e-03  \n",
       "9998  2.417641e-03  \n",
       "9999  0.000000e+00  \n",
       "\n",
       "[10000 rows x 8 columns]"
      ]
     },
     "execution_count": 15,
     "metadata": {},
     "output_type": "execute_result"
    }
   ],
   "source": [
    "cross"
   ]
  },
  {
   "cell_type": "code",
   "execution_count": 20,
   "id": "6069e31a",
   "metadata": {},
   "outputs": [],
   "source": [
    "bins = np.arange(0., 3.1, 0.125)\n",
    "centers = bins[:-1] + np.diff(bins)/2"
   ]
  },
  {
   "cell_type": "code",
   "execution_count": 21,
   "id": "90095199",
   "metadata": {},
   "outputs": [],
   "source": [
    "cross[\"dbin\"] = pd.cut(cross[\"d\"], bins=bins, right=False, labels=centers)"
   ]
  },
  {
   "cell_type": "code",
   "execution_count": 22,
   "id": "19797b5e",
   "metadata": {},
   "outputs": [
    {
     "data": {
      "text/plain": [
       "<Axes: xlabel='dbin'>"
      ]
     },
     "execution_count": 22,
     "metadata": {},
     "output_type": "execute_result"
    },
    {
     "data": {
      "image/png": "[encoded data removed]",
      "text/plain": [
       "<Figure size 432x288 with 1 Axes>"
      ]
     },
     "metadata": {
      "needs_background": "light"
     },
     "output_type": "display_data"
    }
   ],
   "source": [
    "cross.groupby(\"dbin\").agg({\"g\": \"mean\"}).plot()"
   ]
  },
  {
   "cell_type": "code",
   "execution_count": 19,
   "id": "c6fbf99e",
   "metadata": {},
   "outputs": [
    {
     "data": {
      "text/plain": [
       "<matplotlib.collections.PathCollection at 0x211f0d6baf0>"
      ]
     },
     "execution_count": 19,
     "metadata": {},
     "output_type": "execute_result"
    },
    {
     "data": {
      "image/png": "[encoded data removed]",
      "text/plain": [
       "<Figure size 432x288 with 1 Axes>"
      ]
     },
     "metadata": {
      "needs_background": "light"
     },
     "output_type": "display_data"
    }
   ],
   "source": [
    "fig, axe = plt.subplots()\n",
    "axe.scatter(cross[\"d\"], cross[\"g\"], marker='+')"
   ]
  },
  {
   "cell_type": "code",
   "execution_count": null,
   "id": "23b2908e",
   "metadata": {},
   "outputs": [],
   "source": []
  }
 ],
 "metadata": {
  "kernelspec": {
   "display_name": "Python 3 (ipykernel)",
   "language": "python",
   "name": "python3"
  },
  "language_info": {
   "codemirror_mode": {
    "name": "ipython",
    "version": 3
   },
   "file_extension": ".py",
   "mimetype": "text/x-python",
   "name": "python",
   "nbconvert_exporter": "python",
   "pygments_lexer": "ipython3",
   "version": "3.9.7"
  }
 },
 "nbformat": 4,
 "nbformat_minor": 5
}
