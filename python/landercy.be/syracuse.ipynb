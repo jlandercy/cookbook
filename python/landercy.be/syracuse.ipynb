{
 "cells": [
  {
   "cell_type": "code",
   "execution_count": 47,
   "id": "8d8ebd9d",
   "metadata": {
    "ExecuteTime": {
     "end_time": "2022-07-02T17:33:30.529260Z",
     "start_time": "2022-07-02T17:33:30.516816Z"
    }
   },
   "outputs": [],
   "source": [
    "import matplotlib.pyplot as plt\n",
    "import pandas as pd\n",
    "import numpy as np"
   ]
  },
  {
   "cell_type": "code",
   "execution_count": 2,
   "id": "dd722276",
   "metadata": {
    "ExecuteTime": {
     "end_time": "2022-07-02T17:15:12.914431Z",
     "start_time": "2022-07-02T17:15:12.908989Z"
    }
   },
   "outputs": [],
   "source": [
    "def application(n):\n",
    "    if n % 2 == 0:\n",
    "        return n // 2\n",
    "    else:\n",
    "        return 3*n + 1"
   ]
  },
  {
   "cell_type": "code",
   "execution_count": 3,
   "id": "23380cb5",
   "metadata": {
    "ExecuteTime": {
     "end_time": "2022-07-02T17:15:12.925586Z",
     "start_time": "2022-07-02T17:15:12.919865Z"
    }
   },
   "outputs": [],
   "source": [
    "def syracuse(n, max_iter=10000):\n",
    "    yield n\n",
    "    for i in range(max_iter):\n",
    "        n = application(n)\n",
    "        yield n\n",
    "        if n <= 1:\n",
    "            break"
   ]
  },
  {
   "cell_type": "code",
   "execution_count": 34,
   "id": "2556f923",
   "metadata": {
    "ExecuteTime": {
     "end_time": "2022-07-02T17:22:01.751062Z",
     "start_time": "2022-07-02T17:21:02.440528Z"
    }
   },
   "outputs": [],
   "source": [
    "flights = []\n",
    "for i in range(1000000):\n",
    "    flights.append(len(list(syracuse(i))))"
   ]
  },
  {
   "cell_type": "code",
   "execution_count": 41,
   "id": "72f96c35",
   "metadata": {
    "ExecuteTime": {
     "end_time": "2022-07-02T17:29:40.043759Z",
     "start_time": "2022-07-02T17:29:39.544208Z"
    }
   },
   "outputs": [],
   "source": [
    "df = pd.DataFrame(flights, columns=[\"tof\"]).reset_index().rename(columns={\"index\": \"seed\"})"
   ]
  },
  {
   "cell_type": "code",
   "execution_count": 43,
   "id": "e008f4ca",
   "metadata": {
    "ExecuteTime": {
     "end_time": "2022-07-02T17:32:12.047917Z",
     "start_time": "2022-07-02T17:32:11.986725Z"
    }
   },
   "outputs": [],
   "source": [
    "df[\"odd\"] = df[\"seed\"] % 2 == 1"
   ]
  },
  {
   "cell_type": "code",
   "execution_count": 64,
   "id": "5863ca58",
   "metadata": {
    "ExecuteTime": {
     "end_time": "2022-07-02T17:39:12.333264Z",
     "start_time": "2022-07-02T17:39:12.184091Z"
    }
   },
   "outputs": [],
   "source": [
    "df[\"even\"] = df[\"seed\"] % 2 == 1\n",
    "df[\"11\"] = df[\"seed\"] % 11 == 0"
   ]
  },
  {
   "cell_type": "code",
   "execution_count": 62,
   "id": "8b0b8e14",
   "metadata": {
    "ExecuteTime": {
     "end_time": "2022-07-02T17:38:17.992610Z",
     "start_time": "2022-07-02T17:38:12.389957Z"
    }
   },
   "outputs": [],
   "source": [
    "df[\"2^n\"] = df[\"seed\"].apply(lambda x: np.log2(x).is_integer())"
   ]
  },
  {
   "cell_type": "code",
   "execution_count": 55,
   "id": "ec1fdbb7",
   "metadata": {
    "ExecuteTime": {
     "end_time": "2022-07-02T17:35:46.422580Z",
     "start_time": "2022-07-02T17:35:46.394826Z"
    }
   },
   "outputs": [
    {
     "data": {
      "text/html": [
       "<div>\n",
       "<style scoped>\n",
       "    .dataframe tbody tr th:only-of-type {\n",
       "        vertical-align: middle;\n",
       "    }\n",
       "\n",
       "    .dataframe tbody tr th {\n",
       "        vertical-align: top;\n",
       "    }\n",
       "\n",
       "    .dataframe thead th {\n",
       "        text-align: right;\n",
       "    }\n",
       "</style>\n",
       "<table border=\"1\" class=\"dataframe\">\n",
       "  <thead>\n",
       "    <tr style=\"text-align: right;\">\n",
       "      <th></th>\n",
       "      <th>seed</th>\n",
       "      <th>tof</th>\n",
       "      <th>odd</th>\n",
       "      <th>even</th>\n",
       "      <th>2^n</th>\n",
       "    </tr>\n",
       "  </thead>\n",
       "  <tbody>\n",
       "    <tr>\n",
       "      <th>0</th>\n",
       "      <td>0</td>\n",
       "      <td>2</td>\n",
       "      <td>False</td>\n",
       "      <td>False</td>\n",
       "      <td>False</td>\n",
       "    </tr>\n",
       "    <tr>\n",
       "      <th>1</th>\n",
       "      <td>1</td>\n",
       "      <td>4</td>\n",
       "      <td>True</td>\n",
       "      <td>True</td>\n",
       "      <td>True</td>\n",
       "    </tr>\n",
       "    <tr>\n",
       "      <th>2</th>\n",
       "      <td>2</td>\n",
       "      <td>2</td>\n",
       "      <td>False</td>\n",
       "      <td>False</td>\n",
       "      <td>True</td>\n",
       "    </tr>\n",
       "    <tr>\n",
       "      <th>3</th>\n",
       "      <td>3</td>\n",
       "      <td>8</td>\n",
       "      <td>True</td>\n",
       "      <td>True</td>\n",
       "      <td>False</td>\n",
       "    </tr>\n",
       "    <tr>\n",
       "      <th>4</th>\n",
       "      <td>4</td>\n",
       "      <td>3</td>\n",
       "      <td>False</td>\n",
       "      <td>False</td>\n",
       "      <td>True</td>\n",
       "    </tr>\n",
       "    <tr>\n",
       "      <th>...</th>\n",
       "      <td>...</td>\n",
       "      <td>...</td>\n",
       "      <td>...</td>\n",
       "      <td>...</td>\n",
       "      <td>...</td>\n",
       "    </tr>\n",
       "    <tr>\n",
       "      <th>999995</th>\n",
       "      <td>999995</td>\n",
       "      <td>259</td>\n",
       "      <td>True</td>\n",
       "      <td>True</td>\n",
       "      <td>False</td>\n",
       "    </tr>\n",
       "    <tr>\n",
       "      <th>999996</th>\n",
       "      <td>999996</td>\n",
       "      <td>114</td>\n",
       "      <td>False</td>\n",
       "      <td>False</td>\n",
       "      <td>False</td>\n",
       "    </tr>\n",
       "    <tr>\n",
       "      <th>999997</th>\n",
       "      <td>999997</td>\n",
       "      <td>114</td>\n",
       "      <td>True</td>\n",
       "      <td>True</td>\n",
       "      <td>False</td>\n",
       "    </tr>\n",
       "    <tr>\n",
       "      <th>999998</th>\n",
       "      <td>999998</td>\n",
       "      <td>259</td>\n",
       "      <td>False</td>\n",
       "      <td>False</td>\n",
       "      <td>False</td>\n",
       "    </tr>\n",
       "    <tr>\n",
       "      <th>999999</th>\n",
       "      <td>999999</td>\n",
       "      <td>259</td>\n",
       "      <td>True</td>\n",
       "      <td>True</td>\n",
       "      <td>False</td>\n",
       "    </tr>\n",
       "  </tbody>\n",
       "</table>\n",
       "<p>1000000 rows × 5 columns</p>\n",
       "</div>"
      ],
      "text/plain": [
       "          seed  tof    odd   even    2^n\n",
       "0            0    2  False  False  False\n",
       "1            1    4   True   True   True\n",
       "2            2    2  False  False   True\n",
       "3            3    8   True   True  False\n",
       "4            4    3  False  False   True\n",
       "...        ...  ...    ...    ...    ...\n",
       "999995  999995  259   True   True  False\n",
       "999996  999996  114  False  False  False\n",
       "999997  999997  114   True   True  False\n",
       "999998  999998  259  False  False  False\n",
       "999999  999999  259   True   True  False\n",
       "\n",
       "[1000000 rows x 5 columns]"
      ]
     },
     "execution_count": 55,
     "metadata": {},
     "output_type": "execute_result"
    }
   ],
   "source": [
    "df"
   ]
  },
  {
   "cell_type": "code",
   "execution_count": null,
   "id": "fdd06344",
   "metadata": {},
   "outputs": [],
   "source": []
  },
  {
   "cell_type": "code",
   "execution_count": 65,
   "id": "57915e85",
   "metadata": {
    "ExecuteTime": {
     "end_time": "2022-07-02T17:39:21.630446Z",
     "start_time": "2022-07-02T17:39:17.859674Z"
    }
   },
   "outputs": [
    {
     "data": {
      "text/plain": [
       "<AxesSubplot:>"
      ]
     },
     "execution_count": 65,
     "metadata": {},
     "output_type": "execute_result"
    },
    {
     "data": {
      "image/png": "[encoded data removed]",
      "text/plain": [
       "<Figure size 432x288 with 1 Axes>"
      ]
     },
     "metadata": {
      "needs_background": "light"
     },
     "output_type": "display_data"
    }
   ],
   "source": [
    "fig, axe = plt.subplots()\n",
    "axe.semilogx(flights, '.', markersize=3)\n",
    "df.loc[df[\"2^n\"],\"tof\"].plot(ax=axe, linestyle=\"none\", marker=\".\")\n",
    "df.loc[df[\"11\"],\"tof\"].plot(ax=axe, linestyle=\"none\", marker=\".\")"
   ]
  },
  {
   "cell_type": "code",
   "execution_count": null,
   "id": "ed1fec59",
   "metadata": {
    "ExecuteTime": {
     "end_time": "2022-07-02T17:34:47.181296Z",
     "start_time": "2022-07-02T17:34:47.165494Z"
    }
   },
   "outputs": [],
   "source": []
  },
  {
   "cell_type": "code",
   "execution_count": null,
   "id": "4ad75ebf",
   "metadata": {},
   "outputs": [],
   "source": []
  }
 ],
 "metadata": {
  "hide_input": false,
  "kernelspec": {
   "display_name": "Python 3",
   "language": "python",
   "name": "python3"
  },
  "language_info": {
   "codemirror_mode": {
    "name": "ipython",
    "version": 3
   },
   "file_extension": ".py",
   "mimetype": "text/x-python",
   "name": "python",
   "nbconvert_exporter": "python",
   "pygments_lexer": "ipython3",
   "version": "3.6.9"
  },
  "toc": {
   "base_numbering": 1,
   "nav_menu": {},
   "number_sections": true,
   "sideBar": true,
   "skip_h1_title": false,
   "title_cell": "Table of Contents",
   "title_sidebar": "Contents",
   "toc_cell": false,
   "toc_position": {},
   "toc_section_display": true,
   "toc_window_display": false
  },
  "varInspector": {
   "cols": {
    "lenName": 16,
    "lenType": 16,
    "lenVar": 40
   },
   "kernels_config": {
    "python": {
     "delete_cmd_postfix": "",
     "delete_cmd_prefix": "del ",
     "library": "var_list.py",
     "varRefreshCmd": "print(var_dic_list())"
    },
    "r": {
     "delete_cmd_postfix": ") ",
     "delete_cmd_prefix": "rm(",
     "library": "var_list.r",
     "varRefreshCmd": "cat(var_dic_list()) "
    }
   },
   "types_to_exclude": [
    "module",
    "function",
    "builtin_function_or_method",
    "instance",
    "_Feature"
   ],
   "window_display": false
  }
 },
 "nbformat": 4,
 "nbformat_minor": 5
}
