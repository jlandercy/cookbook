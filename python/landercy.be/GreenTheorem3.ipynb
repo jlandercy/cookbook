{
 "cells": [
  {
   "cell_type": "code",
   "execution_count": 1,
   "id": "eaa40c12",
   "metadata": {
    "ExecuteTime": {
     "end_time": "2023-10-23T08:12:26.697296Z",
     "start_time": "2023-10-23T08:12:25.200245Z"
    }
   },
   "outputs": [],
   "source": [
    "import numpy as np\n",
    "import matplotlib.pyplot as plt\n",
    "\n",
    "from scipy.interpolate import interp1d\n",
    "from scipy.integrate import dblquad, quad, simpson\n",
    "\n",
    "#import autograd.numpy as np\n",
    "#from autograd import grad\n",
    "import numdifftools as nd"
   ]
  },
  {
   "cell_type": "code",
   "execution_count": null,
   "id": "102c3d00",
   "metadata": {},
   "outputs": [],
   "source": []
  },
  {
   "cell_type": "markdown",
   "id": "824fec5e",
   "metadata": {},
   "source": [
    " - https://math.stackexchange.com/questions/2099318/determine-the-surface-of-a-cardioid"
   ]
  },
  {
   "cell_type": "code",
   "execution_count": 2,
   "id": "c1e35a54",
   "metadata": {
    "ExecuteTime": {
     "end_time": "2023-10-23T08:12:26.710339Z",
     "start_time": "2023-10-23T08:12:26.705909Z"
    }
   },
   "outputs": [],
   "source": [
    "a = 2."
   ]
  },
  {
   "cell_type": "code",
   "execution_count": 3,
   "id": "727e6592",
   "metadata": {
    "ExecuteTime": {
     "end_time": "2023-10-23T08:12:26.722479Z",
     "start_time": "2023-10-23T08:12:26.715966Z"
    }
   },
   "outputs": [],
   "source": [
    "def f(t, a=1.):\n",
    "    return np.array([\n",
    "        a * np.cos(t),\n",
    "        a * np.sin(t)\n",
    "    ])"
   ]
  },
  {
   "cell_type": "raw",
   "id": "f92bd34f",
   "metadata": {
    "ExecuteTime": {
     "end_time": "2023-10-23T08:08:46.523445Z",
     "start_time": "2023-10-23T08:08:46.519930Z"
    }
   },
   "source": [
    "fx = lambda t: f(t, a=a)[0]\n",
    "fy = lambda t: f(t, a=a)[1]"
   ]
  },
  {
   "cell_type": "code",
   "execution_count": 4,
   "id": "8d1747d8",
   "metadata": {
    "ExecuteTime": {
     "end_time": "2023-10-23T08:12:26.732099Z",
     "start_time": "2023-10-23T08:12:26.728999Z"
    }
   },
   "outputs": [],
   "source": [
    "t = np.linspace(0, 2 * np.pi, 201)"
   ]
  },
  {
   "cell_type": "code",
   "execution_count": 5,
   "id": "8f6180ee",
   "metadata": {
    "ExecuteTime": {
     "end_time": "2023-10-23T08:12:26.743864Z",
     "start_time": "2023-10-23T08:12:26.738855Z"
    }
   },
   "outputs": [],
   "source": [
    "x, y = f(t, a=a)"
   ]
  },
  {
   "cell_type": "code",
   "execution_count": 6,
   "id": "fdcb4add",
   "metadata": {
    "ExecuteTime": {
     "end_time": "2023-10-23T08:12:26.756006Z",
     "start_time": "2023-10-23T08:12:26.747287Z"
    }
   },
   "outputs": [],
   "source": [
    "fx = interp1d(t, x, fill_value=x[0], bounds_error=False, kind='cubic')\n",
    "fy = interp1d(t, y, fill_value=y[0], bounds_error=False, kind='cubic')"
   ]
  },
  {
   "cell_type": "code",
   "execution_count": 7,
   "id": "58c15a9a",
   "metadata": {
    "ExecuteTime": {
     "end_time": "2023-10-23T08:12:26.763624Z",
     "start_time": "2023-10-23T08:12:26.759476Z"
    }
   },
   "outputs": [],
   "source": [
    "def integrand(t):\n",
    "    return fx(t)*nd.Derivative(fy)(t)"
   ]
  },
  {
   "cell_type": "code",
   "execution_count": 8,
   "id": "60a87d1a",
   "metadata": {
    "ExecuteTime": {
     "end_time": "2023-10-23T08:12:26.849808Z",
     "start_time": "2023-10-23T08:12:26.766415Z"
    }
   },
   "outputs": [
    {
     "data": {
      "text/plain": [
       "(12.56637079139576, 1.0850560402992373e-07)"
      ]
     },
     "execution_count": 8,
     "metadata": {},
     "output_type": "execute_result"
    }
   ],
   "source": [
    "I = quad(integrand, t.min(), t.max())\n",
    "I"
   ]
  },
  {
   "cell_type": "code",
   "execution_count": null,
   "id": "56855ed0",
   "metadata": {
    "ExecuteTime": {
     "end_time": "2023-10-23T07:44:49.547701Z",
     "start_time": "2023-10-23T07:44:49.536601Z"
    }
   },
   "outputs": [],
   "source": []
  },
  {
   "cell_type": "code",
   "execution_count": 9,
   "id": "c55e4381",
   "metadata": {
    "ExecuteTime": {
     "end_time": "2023-10-23T08:12:26.859779Z",
     "start_time": "2023-10-23T08:12:26.855025Z"
    }
   },
   "outputs": [
    {
     "data": {
      "text/plain": [
       "12.566370614359172"
      ]
     },
     "execution_count": 9,
     "metadata": {},
     "output_type": "execute_result"
    }
   ],
   "source": [
    "A = a**2 * np.pi\n",
    "A"
   ]
  },
  {
   "cell_type": "code",
   "execution_count": 10,
   "id": "e1608298",
   "metadata": {
    "ExecuteTime": {
     "end_time": "2023-10-23T08:12:26.870496Z",
     "start_time": "2023-10-23T08:12:26.865151Z"
    }
   },
   "outputs": [
    {
     "data": {
      "text/plain": [
       "1.7703658805601208e-07"
      ]
     },
     "execution_count": 10,
     "metadata": {},
     "output_type": "execute_result"
    }
   ],
   "source": [
    "I[0] - A"
   ]
  },
  {
   "cell_type": "code",
   "execution_count": null,
   "id": "99f580f3",
   "metadata": {},
   "outputs": [],
   "source": []
  },
  {
   "cell_type": "code",
   "execution_count": 11,
   "id": "2bbae388",
   "metadata": {
    "ExecuteTime": {
     "end_time": "2023-10-23T08:12:27.209179Z",
     "start_time": "2023-10-23T08:12:26.872774Z"
    }
   },
   "outputs": [
    {
     "data": {
      "image/png": "[encoded data removed]",
      "text/plain": [
       "<Figure size 640x480 with 1 Axes>"
      ]
     },
     "metadata": {},
     "output_type": "display_data"
    }
   ],
   "source": [
    "fig, axe = plt.subplots()\n",
    "axe.plot(x, y)\n",
    "axe.set_aspect(\"equal\")\n",
    "axe.grid()"
   ]
  },
  {
   "cell_type": "code",
   "execution_count": null,
   "id": "4d267140",
   "metadata": {},
   "outputs": [],
   "source": []
  },
  {
   "cell_type": "code",
   "execution_count": null,
   "id": "81a6655e",
   "metadata": {},
   "outputs": [],
   "source": []
  }
 ],
 "metadata": {
  "hide_input": false,
  "kernelspec": {
   "display_name": "Python 3",
   "language": "python",
   "name": "python3"
  },
  "language_info": {
   "codemirror_mode": {
    "name": "ipython",
    "version": 3
   },
   "file_extension": ".py",
   "mimetype": "text/x-python",
   "name": "python",
   "nbconvert_exporter": "python",
   "pygments_lexer": "ipython3",
   "version": "3.10.6"
  },
  "toc": {
   "base_numbering": 1,
   "nav_menu": {},
   "number_sections": true,
   "sideBar": true,
   "skip_h1_title": false,
   "title_cell": "Table of Contents",
   "title_sidebar": "Contents",
   "toc_cell": false,
   "toc_position": {},
   "toc_section_display": true,
   "toc_window_display": false
  },
  "varInspector": {
   "cols": {
    "lenName": 16,
    "lenType": 16,
    "lenVar": 40
   },
   "kernels_config": {
    "python": {
     "delete_cmd_postfix": "",
     "delete_cmd_prefix": "del ",
     "library": "var_list.py",
     "varRefreshCmd": "print(var_dic_list())"
    },
    "r": {
     "delete_cmd_postfix": ") ",
     "delete_cmd_prefix": "rm(",
     "library": "var_list.r",
     "varRefreshCmd": "cat(var_dic_list()) "
    }
   },
   "types_to_exclude": [
    "module",
    "function",
    "builtin_function_or_method",
    "instance",
    "_Feature"
   ],
   "window_display": false
  }
 },
 "nbformat": 4,
 "nbformat_minor": 5
}
