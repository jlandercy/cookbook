{
 "cells": [
  {
   "cell_type": "code",
   "execution_count": 1,
   "id": "eaa40c12",
   "metadata": {
    "ExecuteTime": {
     "end_time": "2023-10-23T08:04:31.951381Z",
     "start_time": "2023-10-23T08:04:30.081139Z"
    }
   },
   "outputs": [],
   "source": [
    "import numpy as np\n",
    "import matplotlib.pyplot as plt\n",
    "\n",
    "from scipy.interpolate import interp1d\n",
    "from scipy.integrate import dblquad, quad, simpson\n",
    "\n",
    "#import autograd.numpy as np\n",
    "#from autograd import grad\n",
    "import numdifftools as nd"
   ]
  },
  {
   "cell_type": "code",
   "execution_count": null,
   "id": "102c3d00",
   "metadata": {},
   "outputs": [],
   "source": []
  },
  {
   "cell_type": "markdown",
   "id": "824fec5e",
   "metadata": {},
   "source": [
    " - https://math.stackexchange.com/questions/2099318/determine-the-surface-of-a-cardioid"
   ]
  },
  {
   "cell_type": "code",
   "execution_count": 2,
   "id": "c1e35a54",
   "metadata": {
    "ExecuteTime": {
     "end_time": "2023-10-23T08:04:31.960969Z",
     "start_time": "2023-10-23T08:04:31.954311Z"
    }
   },
   "outputs": [],
   "source": [
    "a = 2."
   ]
  },
  {
   "cell_type": "code",
   "execution_count": 3,
   "id": "727e6592",
   "metadata": {
    "ExecuteTime": {
     "end_time": "2023-10-23T08:04:31.972715Z",
     "start_time": "2023-10-23T08:04:31.966168Z"
    }
   },
   "outputs": [],
   "source": [
    "def f(t, a=1.):\n",
    "    return np.array([\n",
    "        a * (2 * np.cos(t) - np.cos(2 * t)),\n",
    "        a * (2 * np.sin(t) - np.sin(2 * t))\n",
    "    ])"
   ]
  },
  {
   "cell_type": "code",
   "execution_count": 4,
   "id": "f7468672",
   "metadata": {
    "ExecuteTime": {
     "end_time": "2023-10-23T08:04:31.983294Z",
     "start_time": "2023-10-23T08:04:31.977215Z"
    }
   },
   "outputs": [],
   "source": [
    "fx = lambda t: f(t, a=a)[0]\n",
    "fy = lambda t: f(t, a=a)[1]"
   ]
  },
  {
   "cell_type": "code",
   "execution_count": 5,
   "id": "8d1747d8",
   "metadata": {
    "ExecuteTime": {
     "end_time": "2023-10-23T08:04:31.994422Z",
     "start_time": "2023-10-23T08:04:31.987769Z"
    }
   },
   "outputs": [],
   "source": [
    "t = np.linspace(0, 2 * np.pi, 1001)"
   ]
  },
  {
   "cell_type": "code",
   "execution_count": 6,
   "id": "8f6180ee",
   "metadata": {
    "ExecuteTime": {
     "end_time": "2023-10-23T08:04:32.003960Z",
     "start_time": "2023-10-23T08:04:31.999263Z"
    }
   },
   "outputs": [],
   "source": [
    "x, y = f(t, a=a)"
   ]
  },
  {
   "cell_type": "code",
   "execution_count": null,
   "id": "fdcb4add",
   "metadata": {},
   "outputs": [],
   "source": []
  },
  {
   "cell_type": "code",
   "execution_count": 7,
   "id": "58c15a9a",
   "metadata": {
    "ExecuteTime": {
     "end_time": "2023-10-23T08:04:32.010567Z",
     "start_time": "2023-10-23T08:04:32.007000Z"
    }
   },
   "outputs": [],
   "source": [
    "def integrand(t):\n",
    "    return fx(t)*nd.Derivative(fy)(t)"
   ]
  },
  {
   "cell_type": "code",
   "execution_count": 13,
   "id": "60a87d1a",
   "metadata": {
    "ExecuteTime": {
     "end_time": "2023-10-23T08:04:40.715637Z",
     "start_time": "2023-10-23T08:04:40.570403Z"
    }
   },
   "outputs": [
    {
     "data": {
      "text/plain": [
       "(75.39822368615748, 9.425270786067586e-09)"
      ]
     },
     "execution_count": 13,
     "metadata": {},
     "output_type": "execute_result"
    }
   ],
   "source": [
    "I = quad(integrand, t.min(), t.max())\n",
    "I"
   ]
  },
  {
   "cell_type": "code",
   "execution_count": null,
   "id": "56855ed0",
   "metadata": {
    "ExecuteTime": {
     "end_time": "2023-10-23T07:44:49.547701Z",
     "start_time": "2023-10-23T07:44:49.536601Z"
    }
   },
   "outputs": [],
   "source": []
  },
  {
   "cell_type": "code",
   "execution_count": 9,
   "id": "c55e4381",
   "metadata": {
    "ExecuteTime": {
     "end_time": "2023-10-23T08:04:32.165773Z",
     "start_time": "2023-10-23T08:04:32.160416Z"
    }
   },
   "outputs": [
    {
     "data": {
      "text/plain": [
       "75.39822368615503"
      ]
     },
     "execution_count": 9,
     "metadata": {},
     "output_type": "execute_result"
    }
   ],
   "source": [
    "A = 6 * a**2 * np.pi\n",
    "A"
   ]
  },
  {
   "cell_type": "code",
   "execution_count": 10,
   "id": "e1608298",
   "metadata": {
    "ExecuteTime": {
     "end_time": "2023-10-23T08:04:32.175920Z",
     "start_time": "2023-10-23T08:04:32.171103Z"
    }
   },
   "outputs": [
    {
     "data": {
      "text/plain": [
       "2.4442670110147446e-12"
      ]
     },
     "execution_count": 10,
     "metadata": {},
     "output_type": "execute_result"
    }
   ],
   "source": [
    "I[0] - A"
   ]
  },
  {
   "cell_type": "code",
   "execution_count": null,
   "id": "99f580f3",
   "metadata": {},
   "outputs": [],
   "source": []
  },
  {
   "cell_type": "code",
   "execution_count": 11,
   "id": "2bbae388",
   "metadata": {
    "ExecuteTime": {
     "end_time": "2023-10-23T08:04:32.423889Z",
     "start_time": "2023-10-23T08:04:32.178547Z"
    }
   },
   "outputs": [
    {
     "data": {
      "image/png": "[encoded data removed]",
      "text/plain": [
       "<Figure size 640x480 with 1 Axes>"
      ]
     },
     "metadata": {},
     "output_type": "display_data"
    }
   ],
   "source": [
    "fig, axe = plt.subplots()\n",
    "axe.plot(x, y)\n",
    "axe.set_aspect(\"equal\")\n",
    "axe.grid()"
   ]
  },
  {
   "cell_type": "code",
   "execution_count": null,
   "id": "4d267140",
   "metadata": {},
   "outputs": [],
   "source": []
  },
  {
   "cell_type": "code",
   "execution_count": null,
   "id": "81a6655e",
   "metadata": {},
   "outputs": [],
   "source": []
  }
 ],
 "metadata": {
  "hide_input": false,
  "kernelspec": {
   "display_name": "Python 3",
   "language": "python",
   "name": "python3"
  },
  "language_info": {
   "codemirror_mode": {
    "name": "ipython",
    "version": 3
   },
   "file_extension": ".py",
   "mimetype": "text/x-python",
   "name": "python",
   "nbconvert_exporter": "python",
   "pygments_lexer": "ipython3",
   "version": "3.10.6"
  },
  "toc": {
   "base_numbering": 1,
   "nav_menu": {},
   "number_sections": true,
   "sideBar": true,
   "skip_h1_title": false,
   "title_cell": "Table of Contents",
   "title_sidebar": "Contents",
   "toc_cell": false,
   "toc_position": {},
   "toc_section_display": true,
   "toc_window_display": false
  },
  "varInspector": {
   "cols": {
    "lenName": 16,
    "lenType": 16,
    "lenVar": 40
   },
   "kernels_config": {
    "python": {
     "delete_cmd_postfix": "",
     "delete_cmd_prefix": "del ",
     "library": "var_list.py",
     "varRefreshCmd": "print(var_dic_list())"
    },
    "r": {
     "delete_cmd_postfix": ") ",
     "delete_cmd_prefix": "rm(",
     "library": "var_list.r",
     "varRefreshCmd": "cat(var_dic_list()) "
    }
   },
   "types_to_exclude": [
    "module",
    "function",
    "builtin_function_or_method",
    "instance",
    "_Feature"
   ],
   "window_display": false
  }
 },
 "nbformat": 4,
 "nbformat_minor": 5
}
