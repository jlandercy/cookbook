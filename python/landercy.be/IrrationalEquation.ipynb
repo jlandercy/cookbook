{
 "cells": [
  {
   "cell_type": "code",
   "execution_count": 1,
   "id": "090e759c",
   "metadata": {},
   "outputs": [],
   "source": [
    "import numpy as np\n",
    "from scipy import optimize\n",
    "import matplotlib.pyplot as plt"
   ]
  },
  {
   "cell_type": "code",
   "execution_count": null,
   "id": "b85d004f",
   "metadata": {},
   "outputs": [],
   "source": []
  },
  {
   "cell_type": "code",
   "execution_count": 2,
   "id": "655037d2",
   "metadata": {},
   "outputs": [],
   "source": [
    "def lhs(x):\n",
    "    return np.exp(x + np.pi)"
   ]
  },
  {
   "cell_type": "code",
   "execution_count": 3,
   "id": "05e44dee",
   "metadata": {},
   "outputs": [],
   "source": [
    "def rhs(x):\n",
    "    return np.power(np.pi, x + np.exp(1))"
   ]
  },
  {
   "cell_type": "code",
   "execution_count": 4,
   "id": "a28e632c",
   "metadata": {},
   "outputs": [],
   "source": [
    "xlin = np.linspace(-1, 1, 201)"
   ]
  },
  {
   "cell_type": "code",
   "execution_count": null,
   "id": "c258368c",
   "metadata": {},
   "outputs": [],
   "source": []
  },
  {
   "cell_type": "code",
   "execution_count": 5,
   "id": "17f2ff6d",
   "metadata": {},
   "outputs": [],
   "source": [
    "def equation(x):\n",
    "    return np.power(lhs(x) - rhs(x), 2)"
   ]
  },
  {
   "cell_type": "code",
   "execution_count": 15,
   "id": "d0452c7e",
   "metadata": {},
   "outputs": [
    {
     "data": {
      "text/plain": [
       "  message: Optimization terminated successfully.\n",
       "  success: True\n",
       "   status: 0\n",
       "      fun: 5.676559641097793e-14\n",
       "        x: [ 2.066e-01]\n",
       "      nit: 3\n",
       "      jac: [-1.709e-06]\n",
       " hess_inv: [[ 1.605e-01]]\n",
       "     nfev: 18\n",
       "     njev: 9"
      ]
     },
     "execution_count": 15,
     "metadata": {},
     "output_type": "execute_result"
    }
   ],
   "source": [
    "sol = optimize.minimize(equation, x0=0.75)\n",
    "sol"
   ]
  },
  {
   "cell_type": "code",
   "execution_count": null,
   "id": "2cb84d48",
   "metadata": {},
   "outputs": [],
   "source": []
  },
  {
   "cell_type": "code",
   "execution_count": 16,
   "id": "db925496",
   "metadata": {},
   "outputs": [],
   "source": [
    "x0 = (np.exp(1)*np.log(np.pi) - np.pi)/(1 - np.log(np.pi))"
   ]
  },
  {
   "cell_type": "code",
   "execution_count": 17,
   "id": "23d79c05",
   "metadata": {},
   "outputs": [
    {
     "data": {
      "text/plain": [
       "0.20655171677864992"
      ]
     },
     "execution_count": 17,
     "metadata": {},
     "output_type": "execute_result"
    }
   ],
   "source": [
    "x0"
   ]
  },
  {
   "cell_type": "code",
   "execution_count": 18,
   "id": "ae16f243",
   "metadata": {},
   "outputs": [
    {
     "data": {
      "text/plain": [
       "-3.552713678800501e-15"
      ]
     },
     "execution_count": 18,
     "metadata": {},
     "output_type": "execute_result"
    }
   ],
   "source": [
    "rhs(x0) - lhs(x0)"
   ]
  },
  {
   "cell_type": "code",
   "execution_count": 19,
   "id": "27236751",
   "metadata": {},
   "outputs": [
    {
     "data": {
      "text/plain": [
       "5.786337764490668e-08"
      ]
     },
     "execution_count": 19,
     "metadata": {},
     "output_type": "execute_result"
    }
   ],
   "source": [
    "x0 - sol.x[0]"
   ]
  },
  {
   "cell_type": "code",
   "execution_count": 20,
   "id": "793237b5",
   "metadata": {},
   "outputs": [
    {
     "data": {
      "text/plain": [
       "-2.382553176971669e-07"
      ]
     },
     "execution_count": 20,
     "metadata": {},
     "output_type": "execute_result"
    }
   ],
   "source": [
    "rhs(sol.x[0]) - lhs(sol.x[0])"
   ]
  },
  {
   "cell_type": "code",
   "execution_count": null,
   "id": "3bc1bfff",
   "metadata": {},
   "outputs": [],
   "source": []
  },
  {
   "cell_type": "code",
   "execution_count": 12,
   "id": "6f9fde61",
   "metadata": {},
   "outputs": [
    {
     "data": {
      "image/png": "[encoded data removed]",
      "text/plain": [
       "<Figure size 432x288 with 1 Axes>"
      ]
     },
     "metadata": {
      "needs_background": "light"
     },
     "output_type": "display_data"
    }
   ],
   "source": [
    "fig, axe = plt.subplots()\n",
    "axe.plot(xlin, lhs(xlin))\n",
    "axe.plot(xlin, rhs(xlin))\n",
    "axe.plot(xlin, equation(xlin))\n",
    "axe.scatter(x0, rhs(x0))\n",
    "axe.grid()"
   ]
  },
  {
   "cell_type": "code",
   "execution_count": null,
   "id": "becb4a17",
   "metadata": {},
   "outputs": [],
   "source": []
  },
  {
   "cell_type": "code",
   "execution_count": null,
   "id": "068505df",
   "metadata": {},
   "outputs": [],
   "source": []
  },
  {
   "cell_type": "code",
   "execution_count": null,
   "id": "f4ce88cc",
   "metadata": {},
   "outputs": [],
   "source": []
  },
  {
   "cell_type": "code",
   "execution_count": null,
   "id": "83e7b8f9",
   "metadata": {},
   "outputs": [],
   "source": []
  }
 ],
 "metadata": {
  "kernelspec": {
   "display_name": "Python 3 (ipykernel)",
   "language": "python",
   "name": "python3"
  },
  "language_info": {
   "codemirror_mode": {
    "name": "ipython",
    "version": 3
   },
   "file_extension": ".py",
   "mimetype": "text/x-python",
   "name": "python",
   "nbconvert_exporter": "python",
   "pygments_lexer": "ipython3",
   "version": "3.9.7"
  }
 },
 "nbformat": 4,
 "nbformat_minor": 5
}
