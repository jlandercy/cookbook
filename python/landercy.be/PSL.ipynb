{
 "cells": [
  {
   "cell_type": "code",
   "execution_count": 1,
   "metadata": {
    "ExecuteTime": {
     "end_time": "2021-04-15T13:13:32.977233Z",
     "start_time": "2021-04-15T13:13:32.964402Z"
    }
   },
   "outputs": [],
   "source": [
    "import datetime"
   ]
  },
  {
   "cell_type": "code",
   "execution_count": 2,
   "metadata": {
    "ExecuteTime": {
     "end_time": "2021-04-15T13:13:32.991493Z",
     "start_time": "2021-04-15T13:13:32.982866Z"
    }
   },
   "outputs": [],
   "source": [
    "t0 = datetime.datetime.utcnow()           # 2021-04-10 22:22:32.658787\n",
    "dob = datetime.datetime(1983, 4, 19, 21)  # 1983-04-19 21:00:00\n",
    "age = t0 - dob                            # 13871 days, 1:25:32.384650\n",
    "year = age.days/365.25                    # 37.97672826830938"
   ]
  },
  {
   "cell_type": "code",
   "execution_count": 3,
   "metadata": {
    "ExecuteTime": {
     "end_time": "2021-04-15T13:13:33.028856Z",
     "start_time": "2021-04-15T13:13:32.994462Z"
    }
   },
   "outputs": [
    {
     "data": {
      "text/plain": [
       "[0, 1, 4, 9, 16, 25, 36, 49, 64, 81, 100]"
      ]
     },
     "execution_count": 3,
     "metadata": {},
     "output_type": "execute_result"
    }
   ],
   "source": [
    "[x**2 for x in range(11)]"
   ]
  },
  {
   "cell_type": "code",
   "execution_count": 4,
   "metadata": {
    "ExecuteTime": {
     "end_time": "2021-04-15T13:13:33.054967Z",
     "start_time": "2021-04-15T13:13:33.037423Z"
    }
   },
   "outputs": [
    {
     "data": {
      "text/plain": [
       "{0: 0, 1: 1, 2: 4, 3: 9, 4: 16}"
      ]
     },
     "execution_count": 4,
     "metadata": {},
     "output_type": "execute_result"
    }
   ],
   "source": [
    "{x: x**2 for x in range(5)}"
   ]
  },
  {
   "cell_type": "code",
   "execution_count": 5,
   "metadata": {
    "ExecuteTime": {
     "end_time": "2021-04-15T13:13:33.075513Z",
     "start_time": "2021-04-15T13:13:33.061202Z"
    }
   },
   "outputs": [],
   "source": [
    "l = [1, 2, 3, 4]\n",
    "a = filter(lambda x: x % 2 == 0, l)  # Generator for [2, 4]\n",
    "b = map(lambda x: x**2 + 1, l)       # Generator for [2, 5, 10, 17]"
   ]
  },
  {
   "cell_type": "code",
   "execution_count": 6,
   "metadata": {
    "ExecuteTime": {
     "end_time": "2021-04-15T13:13:33.087861Z",
     "start_time": "2021-04-15T13:13:33.077952Z"
    }
   },
   "outputs": [],
   "source": [
    "l = [1, 2, 3, 4]\n",
    "a = [x for x in l if x % 2 == 0]\n",
    "b = [x**2 + 1 for x in l]"
   ]
  },
  {
   "cell_type": "code",
   "execution_count": 7,
   "metadata": {
    "ExecuteTime": {
     "end_time": "2021-04-15T13:13:33.106602Z",
     "start_time": "2021-04-15T13:13:33.090505Z"
    }
   },
   "outputs": [
    {
     "data": {
      "text/plain": [
       "[2, 5, 10, 17]"
      ]
     },
     "execution_count": 7,
     "metadata": {},
     "output_type": "execute_result"
    }
   ],
   "source": [
    "b"
   ]
  },
  {
   "cell_type": "code",
   "execution_count": 8,
   "metadata": {
    "ExecuteTime": {
     "end_time": "2021-04-15T13:13:33.120433Z",
     "start_time": "2021-04-15T13:13:33.113177Z"
    }
   },
   "outputs": [
    {
     "data": {
      "text/plain": [
       "41"
      ]
     },
     "execution_count": 8,
     "metadata": {},
     "output_type": "execute_result"
    }
   ],
   "source": [
    "from functools import reduce\n",
    "reduce(lambda x, y: x*y + 1, l)   # 41 = ((1*2 + 1)*3 + 1)*4 + 1"
   ]
  },
  {
   "cell_type": "code",
   "execution_count": 9,
   "metadata": {
    "ExecuteTime": {
     "end_time": "2021-04-15T13:13:33.130757Z",
     "start_time": "2021-04-15T13:13:33.123892Z"
    }
   },
   "outputs": [
    {
     "data": {
      "text/plain": [
       "172"
      ]
     },
     "execution_count": 9,
     "metadata": {},
     "output_type": "execute_result"
    }
   ],
   "source": [
    "d = {\n",
    "    (1, 3, \"x\"): 172\n",
    "}\n",
    "d[(1, 3, \"x\")]  # 172"
   ]
  },
  {
   "cell_type": "code",
   "execution_count": null,
   "metadata": {},
   "outputs": [],
   "source": []
  },
  {
   "cell_type": "code",
   "execution_count": 10,
   "metadata": {
    "ExecuteTime": {
     "end_time": "2021-04-15T13:13:33.137001Z",
     "start_time": "2021-04-15T13:13:33.133107Z"
    }
   },
   "outputs": [],
   "source": [
    "import re\n",
    "\n",
    "text = \"\"\"\n",
    "Lorem ipsum dolor sit amet, consectetuer adipiscing elit (176.98 €).\n",
    "Aenean commodo ligula eget dolor -.765 mV. Aenean massa 56.78 m.\n",
    "Cum sociis natoque penatibus B41-56 et magnis dis parturient montes,\n",
    "nascetur ridiculus mus 173 cm.\n",
    "\"\"\""
   ]
  },
  {
   "cell_type": "code",
   "execution_count": null,
   "metadata": {
    "ExecuteTime": {
     "end_time": "2021-04-11T12:01:12.697110Z",
     "start_time": "2021-04-11T12:01:12.693306Z"
    }
   },
   "outputs": [],
   "source": []
  },
  {
   "cell_type": "code",
   "execution_count": 11,
   "metadata": {
    "ExecuteTime": {
     "end_time": "2021-04-15T13:13:33.145964Z",
     "start_time": "2021-04-15T13:13:33.139377Z"
    }
   },
   "outputs": [
    {
     "data": {
      "text/plain": [
       "[176.98, -0.765, 56.78, 173.0]"
      ]
     },
     "execution_count": 11,
     "metadata": {},
     "output_type": "execute_result"
    }
   ],
   "source": [
    "pattern = re.compile(r\"[\\s]{1}[\\(]*([-+]?\\d*\\.*\\d+)\")\n",
    "numbers = [float(match) for match in pattern.findall(text)]\n",
    "numbers\n",
    "# [176.98, -0.765, 56.78, 173.0]"
   ]
  },
  {
   "cell_type": "code",
   "execution_count": 12,
   "metadata": {
    "ExecuteTime": {
     "end_time": "2021-04-15T13:13:33.151666Z",
     "start_time": "2021-04-15T13:13:33.148102Z"
    }
   },
   "outputs": [],
   "source": [
    "frames = \"\\u0000\\u0000x\\u00ff\\u0086\\u0017\\u0023\\u0000\\u0000\\u0000\\u0000@\\u00ff\\u0001\\u0086\\u0000\\u0000\\u0000\\u0000\\u0000y\\u00ff\\u0086\\u0003\\u008e?\\u0000\\u0000\\u0000\\u00aa\\u00ff\\u0086\\u0003\\u008d?\\u0000\\u0000\\u0000\\u00ab\\u00ff\\u0086\\u0009\""
   ]
  },
  {
   "cell_type": "code",
   "execution_count": null,
   "metadata": {
    "ExecuteTime": {
     "end_time": "2021-04-11T12:10:55.317574Z",
     "start_time": "2021-04-11T12:10:55.311466Z"
    }
   },
   "outputs": [],
   "source": []
  },
  {
   "cell_type": "code",
   "execution_count": 13,
   "metadata": {
    "ExecuteTime": {
     "end_time": "2021-04-15T13:13:33.158101Z",
     "start_time": "2021-04-15T13:13:33.154232Z"
    }
   },
   "outputs": [],
   "source": [
    "pattern = re.compile(\"(?P<header>\\u00ff)(?P<command>[\\u0000-\\u00ff]{1})(?P<value>[\\u0000-\\u00ff]{2})(?P<parameters>[\\u0000-\\u00ff]{4})(?P<checksum>[\\u0000-\\u00ff]{1})\")"
   ]
  },
  {
   "cell_type": "code",
   "execution_count": 14,
   "metadata": {
    "ExecuteTime": {
     "end_time": "2021-04-15T13:13:33.168011Z",
     "start_time": "2021-04-15T13:13:33.161529Z"
    }
   },
   "outputs": [
    {
     "data": {
      "text/plain": [
       "[{'header': 'ÿ',\n",
       "  'command': '\\x86',\n",
       "  'value': '\\x17#',\n",
       "  'parameters': '\\x00\\x00\\x00\\x00',\n",
       "  'checksum': '@'},\n",
       " {'header': 'ÿ',\n",
       "  'command': '\\x01',\n",
       "  'value': '\\x86\\x00',\n",
       "  'parameters': '\\x00\\x00\\x00\\x00',\n",
       "  'checksum': 'y'},\n",
       " {'header': 'ÿ',\n",
       "  'command': '\\x86',\n",
       "  'value': '\\x03\\x8e',\n",
       "  'parameters': '?\\x00\\x00\\x00',\n",
       "  'checksum': 'ª'},\n",
       " {'header': 'ÿ',\n",
       "  'command': '\\x86',\n",
       "  'value': '\\x03\\x8d',\n",
       "  'parameters': '?\\x00\\x00\\x00',\n",
       "  'checksum': '«'}]"
      ]
     },
     "execution_count": 14,
     "metadata": {},
     "output_type": "execute_result"
    }
   ],
   "source": [
    "data = [match.groupdict() for match in pattern.finditer(frames)]\n",
    "data"
   ]
  },
  {
   "cell_type": "code",
   "execution_count": 15,
   "metadata": {
    "ExecuteTime": {
     "end_time": "2021-04-15T13:13:33.173512Z",
     "start_time": "2021-04-15T13:13:33.170002Z"
    }
   },
   "outputs": [],
   "source": [
    "import json"
   ]
  },
  {
   "cell_type": "code",
   "execution_count": 16,
   "metadata": {
    "ExecuteTime": {
     "end_time": "2021-04-15T13:13:33.181635Z",
     "start_time": "2021-04-15T13:13:33.176714Z"
    }
   },
   "outputs": [
    {
     "name": "stdout",
     "output_type": "stream",
     "text": [
      "[{\"header\": \"\\u00ff\", \"command\": \"\\u0086\", \"value\": \"\\u0017#\", \"parameters\": \"\\u0000\\u0000\\u0000\\u0000\", \"checksum\": \"@\"}, {\"header\": \"\\u00ff\", \"command\": \"\\u0001\", \"value\": \"\\u0086\\u0000\", \"parameters\": \"\\u0000\\u0000\\u0000\\u0000\", \"checksum\": \"y\"}, {\"header\": \"\\u00ff\", \"command\": \"\\u0086\", \"value\": \"\\u0003\\u008e\", \"parameters\": \"?\\u0000\\u0000\\u0000\", \"checksum\": \"\\u00aa\"}, {\"header\": \"\\u00ff\", \"command\": \"\\u0086\", \"value\": \"\\u0003\\u008d\", \"parameters\": \"?\\u0000\\u0000\\u0000\", \"checksum\": \"\\u00ab\"}]\n"
     ]
    }
   ],
   "source": [
    "print(json.dumps(data))"
   ]
  },
  {
   "cell_type": "code",
   "execution_count": null,
   "metadata": {},
   "outputs": [],
   "source": []
  },
  {
   "cell_type": "code",
   "execution_count": 17,
   "metadata": {
    "ExecuteTime": {
     "end_time": "2021-04-15T13:13:33.188683Z",
     "start_time": "2021-04-15T13:13:33.183980Z"
    }
   },
   "outputs": [],
   "source": [
    "import ipaddress\n",
    "\n",
    "host = ipaddress.ip_address('192.168.0.1')\n",
    "network = ipaddress.ip_network('192.168.0.0/28')\n",
    "closure = host in network  # True"
   ]
  },
  {
   "cell_type": "code",
   "execution_count": null,
   "metadata": {
    "ExecuteTime": {
     "end_time": "2021-04-11T12:38:03.691666Z",
     "start_time": "2021-04-11T12:38:03.686085Z"
    }
   },
   "outputs": [],
   "source": []
  },
  {
   "cell_type": "code",
   "execution_count": 12,
   "metadata": {
    "ExecuteTime": {
     "end_time": "2021-04-16T12:23:31.247598Z",
     "start_time": "2021-04-16T12:23:31.031249Z"
    }
   },
   "outputs": [
    {
     "name": "stdout",
     "output_type": "stream",
     "text": [
      "hello\n",
      "(b'', None)\n"
     ]
    }
   ],
   "source": [
    "import socket\n",
    "\n",
    "s = socket.socket(socket.AF_INET, socket.SOCK_STREAM)\n",
    "s.settimeout(5)\n",
    "s.connect(('52.20.16.20', 30000))\n",
    "s.sendall(b'Hello, world')\n",
    "print(\"hello\")\n",
    "data = s.recvfrom(1024)\n",
    "print(data)\n",
    "s.close()"
   ]
  },
  {
   "cell_type": "code",
   "execution_count": null,
   "metadata": {
    "ExecuteTime": {
     "end_time": "2021-04-15T13:27:46.868264Z",
     "start_time": "2021-04-15T13:27:46.865488Z"
    }
   },
   "outputs": [],
   "source": []
  },
  {
   "cell_type": "code",
   "execution_count": 23,
   "metadata": {
    "ExecuteTime": {
     "end_time": "2021-04-15T13:29:05.938398Z",
     "start_time": "2021-04-15T13:29:05.930432Z"
    }
   },
   "outputs": [
    {
     "data": {
      "text/plain": [
       "b'e8+OXQ5DgtbLN8O/sTcdckOQ2fZi+OXpdFeROuMYHzg='"
      ]
     },
     "execution_count": 23,
     "metadata": {},
     "output_type": "execute_result"
    }
   ],
   "source": [
    "import base64\n",
    "import secrets\n",
    "\n",
    "token = base64.b64encode(secrets.token_bytes(32))"
   ]
  },
  {
   "cell_type": "code",
   "execution_count": null,
   "metadata": {},
   "outputs": [],
   "source": []
  }
 ],
 "metadata": {
  "hide_input": false,
  "kernelspec": {
   "display_name": "Python 3",
   "language": "python",
   "name": "python3"
  },
  "language_info": {
   "codemirror_mode": {
    "name": "ipython",
    "version": 3
   },
   "file_extension": ".py",
   "mimetype": "text/x-python",
   "name": "python",
   "nbconvert_exporter": "python",
   "pygments_lexer": "ipython3",
   "version": "3.6.9"
  },
  "toc": {
   "base_numbering": 1,
   "nav_menu": {},
   "number_sections": true,
   "sideBar": true,
   "skip_h1_title": false,
   "title_cell": "Table of Contents",
   "title_sidebar": "Contents",
   "toc_cell": false,
   "toc_position": {},
   "toc_section_display": true,
   "toc_window_display": false
  },
  "varInspector": {
   "cols": {
    "lenName": 16,
    "lenType": 16,
    "lenVar": 40
   },
   "kernels_config": {
    "python": {
     "delete_cmd_postfix": "",
     "delete_cmd_prefix": "del ",
     "library": "var_list.py",
     "varRefreshCmd": "print(var_dic_list())"
    },
    "r": {
     "delete_cmd_postfix": ") ",
     "delete_cmd_prefix": "rm(",
     "library": "var_list.r",
     "varRefreshCmd": "cat(var_dic_list()) "
    }
   },
   "types_to_exclude": [
    "module",
    "function",
    "builtin_function_or_method",
    "instance",
    "_Feature"
   ],
   "window_display": false
  }
 },
 "nbformat": 4,
 "nbformat_minor": 4
}
