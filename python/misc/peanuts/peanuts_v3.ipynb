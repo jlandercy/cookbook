{
 "cells": [
  {
   "cell_type": "code",
   "execution_count": 1,
   "metadata": {},
   "outputs": [],
   "source": [
    "def mailer(subject, body, reciever, sender='pybot@mail.org'):\n",
    "    import smtplib\n",
    "    from email.mime.text import MIMEText\n",
    "    # Compose Mail:\n",
    "    msg = MIMEText(body)\n",
    "    msg['Subject'] = subject\n",
    "    msg['From'] = sender\n",
    "    msg['To'] = reciever\n",
    "    # Send Mail:\n",
    "    s = smtplib.SMTP('localhost')\n",
    "    s.send_message(msg)\n",
    "    return s.quit()"
   ]
  },
  {
   "cell_type": "code",
   "execution_count": 2,
   "metadata": {},
   "outputs": [
    {
     "data": {
      "text/plain": [
       "[{'email': 'alice@mail.org', 'name': 'Alice'},\n",
       " {'email': 'bob@mail.org', 'name': 'Bob'},\n",
       " {'email': 'claire@mail.org', 'name': 'Claire'},\n",
       " {'email': 'david@mail.org', 'name': 'David'},\n",
       " {'email': 'etienne@mail.org', 'name': 'Etienne'}]"
      ]
     },
     "execution_count": 2,
     "metadata": {},
     "output_type": "execute_result"
    }
   ],
   "source": [
    "import json\n",
    "with open('users.json', 'r') as file:\n",
    "    users = json.load(file)\n",
    "users"
   ]
  },
  {
   "cell_type": "code",
   "execution_count": 3,
   "metadata": {},
   "outputs": [
    {
     "name": "stdout",
     "output_type": "stream",
     "text": [
      "Hello {username:},\n",
      "\n",
      "Your target is {targetname:} ({targetemail:}).\n",
      "\n",
      "Best Regards,\n",
      "\n",
      "{signature:}\n",
      "\n"
     ]
    }
   ],
   "source": [
    "with open('message.txt', 'r') as file:\n",
    "    genmsg = file.read()\n",
    "print(genmsg)"
   ]
  },
  {
   "cell_type": "code",
   "execution_count": 4,
   "metadata": {},
   "outputs": [],
   "source": [
    "import random"
   ]
  },
  {
   "cell_type": "code",
   "execution_count": 5,
   "metadata": {},
   "outputs": [],
   "source": [
    "#random.seed(a=1, version=2)"
   ]
  },
  {
   "cell_type": "code",
   "execution_count": 6,
   "metadata": {},
   "outputs": [
    {
     "data": {
      "text/plain": [
       "[0, 1, 2, 3, 4, 5, 6, 7, 8, 9]"
      ]
     },
     "execution_count": 6,
     "metadata": {},
     "output_type": "execute_result"
    }
   ],
   "source": [
    "x = list(range(10))\n",
    "x"
   ]
  },
  {
   "cell_type": "code",
   "execution_count": 7,
   "metadata": {},
   "outputs": [
    {
     "data": {
      "text/plain": [
       "[5, 0, 2, 3, 4, 7, 1, 6, 9, 8]"
      ]
     },
     "execution_count": 7,
     "metadata": {},
     "output_type": "execute_result"
    }
   ],
   "source": [
    "random.sample(x, k=len(x))"
   ]
  },
  {
   "cell_type": "code",
   "execution_count": 8,
   "metadata": {},
   "outputs": [],
   "source": [
    "cycle = random.sample(users, k=len(users))"
   ]
  },
  {
   "cell_type": "code",
   "execution_count": 9,
   "metadata": {},
   "outputs": [
    {
     "name": "stdout",
     "output_type": "stream",
     "text": [
      "[{'email': 'bob@mail.org', 'name': 'Bob'},\n",
      " {'email': 'david@mail.org', 'name': 'David'},\n",
      " {'email': 'alice@mail.org', 'name': 'Alice'},\n",
      " {'email': 'etienne@mail.org', 'name': 'Etienne'},\n",
      " {'email': 'claire@mail.org', 'name': 'Claire'}]\n"
     ]
    }
   ],
   "source": [
    "import pprint\n",
    "pprint.pprint(cycle)"
   ]
  },
  {
   "cell_type": "code",
   "execution_count": 10,
   "metadata": {},
   "outputs": [],
   "source": [
    "with open('cycle.json', 'w') as file:\n",
    "    json.dump(cycle, file)"
   ]
  },
  {
   "cell_type": "code",
   "execution_count": 11,
   "metadata": {},
   "outputs": [
    {
     "name": "stdout",
     "output_type": "stream",
     "text": [
      "Mail sent to Claire (claire@mail.org) with status: 1\n",
      "Mail sent to Bob (bob@mail.org) with status: 1\n",
      "Mail sent to David (david@mail.org) with status: 1\n",
      "Mail sent to Alice (alice@mail.org) with status: 1\n",
      "Mail sent to Etienne (etienne@mail.org) with status: 1\n"
     ]
    }
   ],
   "source": [
    "import time\n",
    "for k in range(len(cycle)):\n",
    "    # Create a Pair:\n",
    "    sender = cycle[k-1]\n",
    "    reciever = cycle[k]\n",
    "    # Format Message:\n",
    "    msg = genmsg.format(\n",
    "        username=sender['name']\n",
    "       ,targetname=reciever['name']\n",
    "       ,targetemail=reciever['email']\n",
    "       ,signature='The-KISS-Python-Peanuts-Bot-v2'\n",
    "    )\n",
    "    # Send Email:\n",
    "    #code = mailer(\"Peanuts\", msg, reciever=sender['email'], sender='pybot@mail.org')\n",
    "    code=1\n",
    "    print(\"Mail sent to {name:} ({email:}) with status: {status:}\".format(status=code, **sender))\n",
    "    #print(msg)\n",
    "    #print(\"-\"*30)\n",
    "    # Wait between mails to avoid black listing:\n",
    "    #time.sleep(20)\n",
    "    "
   ]
  },
  {
   "cell_type": "code",
   "execution_count": null,
   "metadata": {},
   "outputs": [],
   "source": []
  }
 ],
 "metadata": {
  "anaconda-cloud": {},
  "hide_input": false,
  "kernelspec": {
   "display_name": "Python 3",
   "language": "python",
   "name": "python3"
  },
  "language_info": {
   "codemirror_mode": {
    "name": "ipython",
    "version": 3
   },
   "file_extension": ".py",
   "mimetype": "text/x-python",
   "name": "python",
   "nbconvert_exporter": "python",
   "pygments_lexer": "ipython3",
   "version": "3.10.6"
  },
  "toc": {
   "base_numbering": 1,
   "nav_menu": {},
   "number_sections": true,
   "sideBar": true,
   "skip_h1_title": false,
   "title_cell": "Table of Contents",
   "title_sidebar": "Contents",
   "toc_cell": false,
   "toc_position": {},
   "toc_section_display": true,
   "toc_window_display": false
  },
  "varInspector": {
   "cols": {
    "lenName": 16,
    "lenType": 16,
    "lenVar": 40
   },
   "kernels_config": {
    "python": {
     "delete_cmd_postfix": "",
     "delete_cmd_prefix": "del ",
     "library": "var_list.py",
     "varRefreshCmd": "print(var_dic_list())"
    },
    "r": {
     "delete_cmd_postfix": ") ",
     "delete_cmd_prefix": "rm(",
     "library": "var_list.r",
     "varRefreshCmd": "cat(var_dic_list()) "
    }
   },
   "types_to_exclude": [
    "module",
    "function",
    "builtin_function_or_method",
    "instance",
    "_Feature"
   ],
   "window_display": false
  }
 },
 "nbformat": 4,
 "nbformat_minor": 1
}
