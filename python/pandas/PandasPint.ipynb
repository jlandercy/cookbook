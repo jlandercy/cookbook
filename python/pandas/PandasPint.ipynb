{
 "cells": [
  {
   "cell_type": "code",
   "execution_count": 1,
   "id": "0ce1844f",
   "metadata": {
    "ExecuteTime": {
     "end_time": "2023-10-03T09:15:09.336415Z",
     "start_time": "2023-10-03T09:15:08.538998Z"
    }
   },
   "outputs": [],
   "source": [
    "import numpy as np\n",
    "import pandas as pd\n",
    "import pint"
   ]
  },
  {
   "cell_type": "code",
   "execution_count": 2,
   "id": "02689027",
   "metadata": {
    "ExecuteTime": {
     "end_time": "2023-10-03T09:15:10.523119Z",
     "start_time": "2023-10-03T09:15:09.340085Z"
    }
   },
   "outputs": [],
   "source": [
    "ureg = pint.UnitRegistry()\n",
    "ureg.default_format = \".3gP~\""
   ]
  },
  {
   "cell_type": "code",
   "execution_count": 19,
   "id": "47c9dd1d",
   "metadata": {
    "ExecuteTime": {
     "end_time": "2023-10-03T09:16:32.291520Z",
     "start_time": "2023-10-03T09:16:32.279409Z"
    }
   },
   "outputs": [],
   "source": [
    "data = pd.DataFrame(np.random.normal(size=(5, 5)))"
   ]
  },
  {
   "cell_type": "code",
   "execution_count": 20,
   "id": "5e5f8ed3",
   "metadata": {
    "ExecuteTime": {
     "end_time": "2023-10-03T09:16:32.583925Z",
     "start_time": "2023-10-03T09:16:32.575613Z"
    }
   },
   "outputs": [
    {
     "data": {
      "text/plain": [
       "0    float64\n",
       "1    float64\n",
       "2    float64\n",
       "3    float64\n",
       "4    float64\n",
       "dtype: object"
      ]
     },
     "execution_count": 20,
     "metadata": {},
     "output_type": "execute_result"
    }
   ],
   "source": [
    "data.dtypes"
   ]
  },
  {
   "cell_type": "code",
   "execution_count": 30,
   "id": "e4d3083a",
   "metadata": {
    "ExecuteTime": {
     "end_time": "2023-10-03T09:18:07.769656Z",
     "start_time": "2023-10-03T09:18:07.753993Z"
    }
   },
   "outputs": [],
   "source": [
    "data[0] = data[0].apply(lambda x: ureg.Quantity(x, ureg.m))\n",
    "data[1] = data[1].apply(lambda x: ureg.Quantity(x, ureg.s))\n",
    "data[2] = data[2].apply(lambda x: ureg.Quantity(x, ureg.m / ureg.s))\n",
    "data[3] = data[3].apply(lambda x: ureg.Quantity(x, ureg.kg))\n",
    "data[4] = data[4].apply(lambda x: ureg.Quantity(x, ureg.cm))"
   ]
  },
  {
   "cell_type": "raw",
   "id": "168b931f",
   "metadata": {},
   "source": [
    "data[0] = data[0].apply(lambda x: x * ureg.m)\n",
    "data[1] = data[1].apply(lambda x: x * ureg.s)\n",
    "data[2] = data[2].apply(lambda x: x * ureg.m / ureg.s)\n",
    "data[3] = data[3].apply(lambda x: x * ureg.kg)\n",
    "data[4] = data[4].apply(lambda x: x * ureg.cm)"
   ]
  },
  {
   "cell_type": "code",
   "execution_count": 26,
   "id": "48009329",
   "metadata": {
    "ExecuteTime": {
     "end_time": "2023-10-03T09:17:21.384931Z",
     "start_time": "2023-10-03T09:17:21.375777Z"
    }
   },
   "outputs": [],
   "source": [
    "data[5] = data[0]/data[1]\n",
    "data[6] = data[5]/data[2]\n",
    "data[7] = data[0]/data[4]"
   ]
  },
  {
   "cell_type": "code",
   "execution_count": 27,
   "id": "19dfc454",
   "metadata": {
    "ExecuteTime": {
     "end_time": "2023-10-03T09:17:21.926705Z",
     "start_time": "2023-10-03T09:17:21.905284Z"
    }
   },
   "outputs": [
    {
     "data": {
      "text/html": [
       "<div>\n",
       "<style scoped>\n",
       "    .dataframe tbody tr th:only-of-type {\n",
       "        vertical-align: middle;\n",
       "    }\n",
       "\n",
       "    .dataframe tbody tr th {\n",
       "        vertical-align: top;\n",
       "    }\n",
       "\n",
       "    .dataframe thead th {\n",
       "        text-align: right;\n",
       "    }\n",
       "</style>\n",
       "<table border=\"1\" class=\"dataframe\">\n",
       "  <thead>\n",
       "    <tr style=\"text-align: right;\">\n",
       "      <th></th>\n",
       "      <th>0</th>\n",
       "      <th>1</th>\n",
       "      <th>2</th>\n",
       "      <th>3</th>\n",
       "      <th>4</th>\n",
       "      <th>5</th>\n",
       "      <th>6</th>\n",
       "      <th>7</th>\n",
       "    </tr>\n",
       "  </thead>\n",
       "  <tbody>\n",
       "    <tr>\n",
       "      <th>0</th>\n",
       "      <td>0.478 m</td>\n",
       "      <td>-0.357 s</td>\n",
       "      <td>0.817 m/s</td>\n",
       "      <td>1.69 kg</td>\n",
       "      <td>0.288 cm</td>\n",
       "      <td>-1.34 m/s</td>\n",
       "      <td>-1.64</td>\n",
       "      <td>1.66 m/cm</td>\n",
       "    </tr>\n",
       "    <tr>\n",
       "      <th>1</th>\n",
       "      <td>-1.36 m</td>\n",
       "      <td>-0.75 s</td>\n",
       "      <td>0.9 m/s</td>\n",
       "      <td>-1.62 kg</td>\n",
       "      <td>0.808 cm</td>\n",
       "      <td>1.81 m/s</td>\n",
       "      <td>2.01</td>\n",
       "      <td>-1.68 m/cm</td>\n",
       "    </tr>\n",
       "    <tr>\n",
       "      <th>2</th>\n",
       "      <td>0.377 m</td>\n",
       "      <td>-1.05 s</td>\n",
       "      <td>0.663 m/s</td>\n",
       "      <td>-1.28 kg</td>\n",
       "      <td>0.943 cm</td>\n",
       "      <td>-0.357 m/s</td>\n",
       "      <td>-0.539</td>\n",
       "      <td>0.399 m/cm</td>\n",
       "    </tr>\n",
       "    <tr>\n",
       "      <th>3</th>\n",
       "      <td>-1.75 m</td>\n",
       "      <td>-0.596 s</td>\n",
       "      <td>0.27 m/s</td>\n",
       "      <td>-0.694 kg</td>\n",
       "      <td>-0.105 cm</td>\n",
       "      <td>2.94 m/s</td>\n",
       "      <td>10.9</td>\n",
       "      <td>16.6 m/cm</td>\n",
       "    </tr>\n",
       "    <tr>\n",
       "      <th>4</th>\n",
       "      <td>-1.58 m</td>\n",
       "      <td>1.26 s</td>\n",
       "      <td>-1.37 m/s</td>\n",
       "      <td>0.349 kg</td>\n",
       "      <td>-0.333 cm</td>\n",
       "      <td>-1.25 m/s</td>\n",
       "      <td>0.916</td>\n",
       "      <td>4.74 m/cm</td>\n",
       "    </tr>\n",
       "  </tbody>\n",
       "</table>\n",
       "</div>"
      ],
      "text/plain": [
       "         0         1          2          3          4           5       6  \\\n",
       "0  0.478 m  -0.357 s  0.817 m/s    1.69 kg   0.288 cm   -1.34 m/s   -1.64   \n",
       "1  -1.36 m   -0.75 s    0.9 m/s   -1.62 kg   0.808 cm    1.81 m/s    2.01   \n",
       "2  0.377 m   -1.05 s  0.663 m/s   -1.28 kg   0.943 cm  -0.357 m/s  -0.539   \n",
       "3  -1.75 m  -0.596 s   0.27 m/s  -0.694 kg  -0.105 cm    2.94 m/s    10.9   \n",
       "4  -1.58 m    1.26 s  -1.37 m/s   0.349 kg  -0.333 cm   -1.25 m/s   0.916   \n",
       "\n",
       "            7  \n",
       "0   1.66 m/cm  \n",
       "1  -1.68 m/cm  \n",
       "2  0.399 m/cm  \n",
       "3   16.6 m/cm  \n",
       "4   4.74 m/cm  "
      ]
     },
     "execution_count": 27,
     "metadata": {},
     "output_type": "execute_result"
    }
   ],
   "source": [
    "data"
   ]
  },
  {
   "cell_type": "code",
   "execution_count": 31,
   "id": "6127d17d",
   "metadata": {
    "ExecuteTime": {
     "end_time": "2023-10-03T09:19:22.651285Z",
     "start_time": "2023-10-03T09:19:22.640867Z"
    }
   },
   "outputs": [],
   "source": [
    "data[7] = data[7].apply(lambda x: x.to_base_units())"
   ]
  },
  {
   "cell_type": "code",
   "execution_count": 32,
   "id": "929dee9e",
   "metadata": {
    "ExecuteTime": {
     "end_time": "2023-10-03T09:19:26.583742Z",
     "start_time": "2023-10-03T09:19:26.563252Z"
    }
   },
   "outputs": [
    {
     "data": {
      "text/html": [
       "<div>\n",
       "<style scoped>\n",
       "    .dataframe tbody tr th:only-of-type {\n",
       "        vertical-align: middle;\n",
       "    }\n",
       "\n",
       "    .dataframe tbody tr th {\n",
       "        vertical-align: top;\n",
       "    }\n",
       "\n",
       "    .dataframe thead th {\n",
       "        text-align: right;\n",
       "    }\n",
       "</style>\n",
       "<table border=\"1\" class=\"dataframe\">\n",
       "  <thead>\n",
       "    <tr style=\"text-align: right;\">\n",
       "      <th></th>\n",
       "      <th>0</th>\n",
       "      <th>1</th>\n",
       "      <th>2</th>\n",
       "      <th>3</th>\n",
       "      <th>4</th>\n",
       "      <th>5</th>\n",
       "      <th>6</th>\n",
       "      <th>7</th>\n",
       "    </tr>\n",
       "  </thead>\n",
       "  <tbody>\n",
       "    <tr>\n",
       "      <th>0</th>\n",
       "      <td>0.478 m</td>\n",
       "      <td>-0.357 s</td>\n",
       "      <td>0.817 m/s</td>\n",
       "      <td>1.69 kg</td>\n",
       "      <td>0.288 cm</td>\n",
       "      <td>-1.34 m/s</td>\n",
       "      <td>-1.64</td>\n",
       "      <td>166</td>\n",
       "    </tr>\n",
       "    <tr>\n",
       "      <th>1</th>\n",
       "      <td>-1.36 m</td>\n",
       "      <td>-0.75 s</td>\n",
       "      <td>0.9 m/s</td>\n",
       "      <td>-1.62 kg</td>\n",
       "      <td>0.808 cm</td>\n",
       "      <td>1.81 m/s</td>\n",
       "      <td>2.01</td>\n",
       "      <td>-168</td>\n",
       "    </tr>\n",
       "    <tr>\n",
       "      <th>2</th>\n",
       "      <td>0.377 m</td>\n",
       "      <td>-1.05 s</td>\n",
       "      <td>0.663 m/s</td>\n",
       "      <td>-1.28 kg</td>\n",
       "      <td>0.943 cm</td>\n",
       "      <td>-0.357 m/s</td>\n",
       "      <td>-0.539</td>\n",
       "      <td>39.9</td>\n",
       "    </tr>\n",
       "    <tr>\n",
       "      <th>3</th>\n",
       "      <td>-1.75 m</td>\n",
       "      <td>-0.596 s</td>\n",
       "      <td>0.27 m/s</td>\n",
       "      <td>-0.694 kg</td>\n",
       "      <td>-0.105 cm</td>\n",
       "      <td>2.94 m/s</td>\n",
       "      <td>10.9</td>\n",
       "      <td>1.66×10³</td>\n",
       "    </tr>\n",
       "    <tr>\n",
       "      <th>4</th>\n",
       "      <td>-1.58 m</td>\n",
       "      <td>1.26 s</td>\n",
       "      <td>-1.37 m/s</td>\n",
       "      <td>0.349 kg</td>\n",
       "      <td>-0.333 cm</td>\n",
       "      <td>-1.25 m/s</td>\n",
       "      <td>0.916</td>\n",
       "      <td>474</td>\n",
       "    </tr>\n",
       "  </tbody>\n",
       "</table>\n",
       "</div>"
      ],
      "text/plain": [
       "         0         1          2          3          4           5       6  \\\n",
       "0  0.478 m  -0.357 s  0.817 m/s    1.69 kg   0.288 cm   -1.34 m/s   -1.64   \n",
       "1  -1.36 m   -0.75 s    0.9 m/s   -1.62 kg   0.808 cm    1.81 m/s    2.01   \n",
       "2  0.377 m   -1.05 s  0.663 m/s   -1.28 kg   0.943 cm  -0.357 m/s  -0.539   \n",
       "3  -1.75 m  -0.596 s   0.27 m/s  -0.694 kg  -0.105 cm    2.94 m/s    10.9   \n",
       "4  -1.58 m    1.26 s  -1.37 m/s   0.349 kg  -0.333 cm   -1.25 m/s   0.916   \n",
       "\n",
       "          7  \n",
       "0       166  \n",
       "1      -168  \n",
       "2      39.9  \n",
       "3  1.66×10³  \n",
       "4       474  "
      ]
     },
     "execution_count": 32,
     "metadata": {},
     "output_type": "execute_result"
    }
   ],
   "source": [
    "data"
   ]
  },
  {
   "cell_type": "code",
   "execution_count": null,
   "id": "e619d77c",
   "metadata": {},
   "outputs": [],
   "source": []
  }
 ],
 "metadata": {
  "hide_input": false,
  "kernelspec": {
   "display_name": "Python 3",
   "language": "python",
   "name": "python3"
  },
  "language_info": {
   "codemirror_mode": {
    "name": "ipython",
    "version": 3
   },
   "file_extension": ".py",
   "mimetype": "text/x-python",
   "name": "python",
   "nbconvert_exporter": "python",
   "pygments_lexer": "ipython3",
   "version": "3.10.6"
  },
  "toc": {
   "base_numbering": 1,
   "nav_menu": {},
   "number_sections": true,
   "sideBar": true,
   "skip_h1_title": false,
   "title_cell": "Table of Contents",
   "title_sidebar": "Contents",
   "toc_cell": false,
   "toc_position": {},
   "toc_section_display": true,
   "toc_window_display": false
  },
  "varInspector": {
   "cols": {
    "lenName": 16,
    "lenType": 16,
    "lenVar": 40
   },
   "kernels_config": {
    "python": {
     "delete_cmd_postfix": "",
     "delete_cmd_prefix": "del ",
     "library": "var_list.py",
     "varRefreshCmd": "print(var_dic_list())"
    },
    "r": {
     "delete_cmd_postfix": ") ",
     "delete_cmd_prefix": "rm(",
     "library": "var_list.r",
     "varRefreshCmd": "cat(var_dic_list()) "
    }
   },
   "types_to_exclude": [
    "module",
    "function",
    "builtin_function_or_method",
    "instance",
    "_Feature"
   ],
   "window_display": false
  }
 },
 "nbformat": 4,
 "nbformat_minor": 5
}
