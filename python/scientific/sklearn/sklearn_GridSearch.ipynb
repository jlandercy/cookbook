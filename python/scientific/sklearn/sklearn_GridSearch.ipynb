{
 "cells": [
  {
   "cell_type": "code",
   "execution_count": 1,
   "metadata": {},
   "outputs": [],
   "source": [
    "import numpy as np\n",
    "import pandas as pd\n",
    "import matplotlib.pyplot as plt"
   ]
  },
  {
   "cell_type": "code",
   "execution_count": 2,
   "metadata": {},
   "outputs": [],
   "source": [
    "from sklearn.pipeline import Pipeline\n",
    "from sklearn.model_selection import GridSearchCV\n",
    "from sklearn.compose import TransformedTargetRegressor\n",
    "from sklearn.preprocessing import StandardScaler, FunctionTransformer\n",
    "from sklearn.linear_model import Ridge\n",
    "from sklearn.svm import SVR\n",
    "from sklearn import metrics"
   ]
  },
  {
   "cell_type": "code",
   "execution_count": 3,
   "metadata": {},
   "outputs": [],
   "source": [
    "np.random.seed(16082011)"
   ]
  },
  {
   "cell_type": "markdown",
   "metadata": {},
   "source": [
    " - https://scikit-learn.org/stable/modules/classes.html#module-sklearn.preprocessing\n",
    " - https://scikit-learn.org/stable/modules/generated/sklearn.preprocessing.FunctionTransformer.html\n",
    " - https://scikit-learn.org/stable/modules/generated/sklearn.model_selection.GridSearchCV.html\n",
    " - https://scikit-learn.org/stable/modules/generated/sklearn.svm.SVR.html"
   ]
  },
  {
   "cell_type": "code",
   "execution_count": null,
   "metadata": {},
   "outputs": [],
   "source": []
  },
  {
   "cell_type": "code",
   "execution_count": 4,
   "metadata": {},
   "outputs": [],
   "source": [
    "def f(x):\n",
    "    return x/(x+2)**5"
   ]
  },
  {
   "cell_type": "code",
   "execution_count": 5,
   "metadata": {},
   "outputs": [],
   "source": [
    "x = np.linspace(0, 10, 501)\n",
    "x = np.logspace(-1, 1, base=10, num=501)\n",
    "y = f(x)\n",
    "e1 = np.random.randn(x.size)\n",
    "e2 = np.random.randn(x.size)\n",
    "yxp = y + np.abs(y)*e1/5 + e2/1e5"
   ]
  },
  {
   "cell_type": "code",
   "execution_count": 6,
   "metadata": {},
   "outputs": [
    {
     "data": {
      "text/html": [
       "<div>\n",
       "<style scoped>\n",
       "    .dataframe tbody tr th:only-of-type {\n",
       "        vertical-align: middle;\n",
       "    }\n",
       "\n",
       "    .dataframe tbody tr th {\n",
       "        vertical-align: top;\n",
       "    }\n",
       "\n",
       "    .dataframe thead th {\n",
       "        text-align: right;\n",
       "    }\n",
       "</style>\n",
       "<table border=\"1\" class=\"dataframe\">\n",
       "  <thead>\n",
       "    <tr style=\"text-align: right;\">\n",
       "      <th></th>\n",
       "      <th>x</th>\n",
       "      <th>yth</th>\n",
       "      <th>yexp</th>\n",
       "    </tr>\n",
       "  </thead>\n",
       "  <tbody>\n",
       "    <tr>\n",
       "      <th>0</th>\n",
       "      <td>0.100000</td>\n",
       "      <td>0.002449</td>\n",
       "      <td>0.002611</td>\n",
       "    </tr>\n",
       "    <tr>\n",
       "      <th>1</th>\n",
       "      <td>0.100925</td>\n",
       "      <td>0.002466</td>\n",
       "      <td>0.002501</td>\n",
       "    </tr>\n",
       "    <tr>\n",
       "      <th>2</th>\n",
       "      <td>0.101859</td>\n",
       "      <td>0.002483</td>\n",
       "      <td>0.002349</td>\n",
       "    </tr>\n",
       "    <tr>\n",
       "      <th>3</th>\n",
       "      <td>0.102802</td>\n",
       "      <td>0.002500</td>\n",
       "      <td>0.002921</td>\n",
       "    </tr>\n",
       "    <tr>\n",
       "      <th>4</th>\n",
       "      <td>0.103753</td>\n",
       "      <td>0.002518</td>\n",
       "      <td>0.002423</td>\n",
       "    </tr>\n",
       "  </tbody>\n",
       "</table>\n",
       "</div>"
      ],
      "text/plain": [
       "          x       yth      yexp\n",
       "0  0.100000  0.002449  0.002611\n",
       "1  0.100925  0.002466  0.002501\n",
       "2  0.101859  0.002483  0.002349\n",
       "3  0.102802  0.002500  0.002921\n",
       "4  0.103753  0.002518  0.002423"
      ]
     },
     "execution_count": 6,
     "metadata": {},
     "output_type": "execute_result"
    }
   ],
   "source": [
    "df = pd.DataFrame({'x': x, 'yth': y, 'yexp': yxp})\n",
    "df.head()"
   ]
  },
  {
   "cell_type": "code",
   "execution_count": 7,
   "metadata": {},
   "outputs": [
    {
     "data": {
      "text/plain": [
       "{'C': array([1.e+00, 1.e+01, 1.e+02, 1.e+03, 1.e+04]),\n",
       " 'epsilon': array([1.e-03, 1.e-02, 1.e-01, 1.e+00, 1.e+01, 1.e+02, 1.e+03])}"
      ]
     },
     "execution_count": 7,
     "metadata": {},
     "output_type": "execute_result"
    }
   ],
   "source": [
    "params = {\n",
    "    'C': np.logspace(0, 4, num=5),\n",
    "    'epsilon': np.logspace(-3, 3, num=7)\n",
    "}\n",
    "params"
   ]
  },
  {
   "cell_type": "code",
   "execution_count": 8,
   "metadata": {},
   "outputs": [],
   "source": [
    "model = TransformedTargetRegressor(\n",
    "    regressor=Pipeline([\n",
    "        ('Scaler', StandardScaler()),\n",
    "        ('Model', GridSearchCV(SVR(kernel='rbf', gamma='scale'), params))\n",
    "    ]),\n",
    "    transformer=StandardScaler()\n",
    ")"
   ]
  },
  {
   "cell_type": "code",
   "execution_count": null,
   "metadata": {},
   "outputs": [],
   "source": []
  },
  {
   "cell_type": "code",
   "execution_count": 9,
   "metadata": {},
   "outputs": [
    {
     "data": {
      "text/plain": [
       "TransformedTargetRegressor(regressor=Pipeline(steps=[('Scaler',\n",
       "                                                      StandardScaler()),\n",
       "                                                     ('Model',\n",
       "                                                      GridSearchCV(estimator=SVR(),\n",
       "                                                                   param_grid={'C': array([1.e+00, 1.e+01, 1.e+02, 1.e+03, 1.e+04]),\n",
       "                                                                               'epsilon': array([1.e-03, 1.e-02, 1.e-01, 1.e+00, 1.e+01, 1.e+02, 1.e+03])}))]),\n",
       "                           transformer=StandardScaler())"
      ]
     },
     "execution_count": 9,
     "metadata": {},
     "output_type": "execute_result"
    }
   ],
   "source": [
    "model.fit(df[['x']], df['yexp'])"
   ]
  },
  {
   "cell_type": "code",
   "execution_count": null,
   "metadata": {},
   "outputs": [],
   "source": []
  },
  {
   "cell_type": "code",
   "execution_count": 10,
   "metadata": {
    "scrolled": true
   },
   "outputs": [
    {
     "data": {
      "text/plain": [
       "{'mean_fit_time': array([1.06741428e-02, 6.25700951e-03, 3.12418938e-03, 0.00000000e+00,\n",
       "        0.00000000e+00, 0.00000000e+00, 0.00000000e+00, 1.10031128e-02,\n",
       "        1.06664181e-02, 7.76066780e-03, 0.00000000e+00, 4.19044495e-04,\n",
       "        0.00000000e+00, 0.00000000e+00, 2.90092468e-02, 2.85998821e-02,\n",
       "        1.22787952e-02, 2.48003006e-03, 0.00000000e+00, 0.00000000e+00,\n",
       "        1.77860260e-05, 1.48799801e-01, 1.12454081e-01, 3.88639927e-02,\n",
       "        5.69124222e-03, 0.00000000e+00, 1.61647797e-05, 0.00000000e+00,\n",
       "        1.35512676e+00, 9.32948112e-01, 1.74459982e-01, 8.17832947e-03,\n",
       "        0.00000000e+00, 0.00000000e+00, 1.61867142e-03]),\n",
       " 'std_fit_time': array([6.39872595e-03, 7.66324706e-03, 6.24837875e-03, 0.00000000e+00,\n",
       "        0.00000000e+00, 0.00000000e+00, 0.00000000e+00, 6.41062293e-03,\n",
       "        8.27976551e-04, 3.96838248e-03, 0.00000000e+00, 8.38088989e-04,\n",
       "        0.00000000e+00, 0.00000000e+00, 4.33116906e-03, 7.18351527e-03,\n",
       "        3.13074129e-03, 3.93609626e-03, 0.00000000e+00, 0.00000000e+00,\n",
       "        3.55720520e-05, 4.60090063e-02, 2.65994478e-02, 3.14229651e-03,\n",
       "        4.70638870e-03, 0.00000000e+00, 3.23295593e-05, 0.00000000e+00,\n",
       "        6.23377844e-01, 4.94519351e-01, 8.41522293e-02, 3.14300000e-03,\n",
       "        0.00000000e+00, 0.00000000e+00, 3.23734283e-03]),\n",
       " 'mean_score_time': array([0.00000000e+00, 0.00000000e+00, 3.11951637e-03, 0.00000000e+00,\n",
       "        0.00000000e+00, 0.00000000e+00, 0.00000000e+00, 1.60794258e-03,\n",
       "        0.00000000e+00, 0.00000000e+00, 1.62339211e-03, 0.00000000e+00,\n",
       "        1.62696838e-03, 4.26626205e-04, 0.00000000e+00, 0.00000000e+00,\n",
       "        0.00000000e+00, 0.00000000e+00, 0.00000000e+00, 0.00000000e+00,\n",
       "        0.00000000e+00, 4.28628922e-04, 1.65333748e-03, 0.00000000e+00,\n",
       "        4.24289703e-04, 0.00000000e+00, 0.00000000e+00, 0.00000000e+00,\n",
       "        9.72747803e-06, 0.00000000e+00, 0.00000000e+00, 0.00000000e+00,\n",
       "        1.60818100e-03, 0.00000000e+00, 4.18233871e-04]),\n",
       " 'std_score_time': array([0.00000000e+00, 0.00000000e+00, 6.23903275e-03, 0.00000000e+00,\n",
       "        0.00000000e+00, 0.00000000e+00, 0.00000000e+00, 3.21588516e-03,\n",
       "        0.00000000e+00, 0.00000000e+00, 3.24678421e-03, 0.00000000e+00,\n",
       "        3.25393677e-03, 8.53252411e-04, 0.00000000e+00, 0.00000000e+00,\n",
       "        0.00000000e+00, 0.00000000e+00, 0.00000000e+00, 0.00000000e+00,\n",
       "        0.00000000e+00, 8.57257843e-04, 3.30667496e-03, 0.00000000e+00,\n",
       "        8.48579407e-04, 0.00000000e+00, 0.00000000e+00, 0.00000000e+00,\n",
       "        1.94549561e-05, 0.00000000e+00, 0.00000000e+00, 0.00000000e+00,\n",
       "        3.21636200e-03, 0.00000000e+00, 8.36467743e-04]),\n",
       " 'param_C': masked_array(data=[1.0, 1.0, 1.0, 1.0, 1.0, 1.0, 1.0, 10.0, 10.0, 10.0,\n",
       "                    10.0, 10.0, 10.0, 10.0, 100.0, 100.0, 100.0, 100.0,\n",
       "                    100.0, 100.0, 100.0, 1000.0, 1000.0, 1000.0, 1000.0,\n",
       "                    1000.0, 1000.0, 1000.0, 10000.0, 10000.0, 10000.0,\n",
       "                    10000.0, 10000.0, 10000.0, 10000.0],\n",
       "              mask=[False, False, False, False, False, False, False, False,\n",
       "                    False, False, False, False, False, False, False, False,\n",
       "                    False, False, False, False, False, False, False, False,\n",
       "                    False, False, False, False, False, False, False, False,\n",
       "                    False, False, False],\n",
       "        fill_value='?',\n",
       "             dtype=object),\n",
       " 'param_epsilon': masked_array(data=[0.001, 0.01, 0.1, 1.0, 10.0, 100.0, 1000.0, 0.001,\n",
       "                    0.01, 0.1, 1.0, 10.0, 100.0, 1000.0, 0.001, 0.01, 0.1,\n",
       "                    1.0, 10.0, 100.0, 1000.0, 0.001, 0.01, 0.1, 1.0, 10.0,\n",
       "                    100.0, 1000.0, 0.001, 0.01, 0.1, 1.0, 10.0, 100.0,\n",
       "                    1000.0],\n",
       "              mask=[False, False, False, False, False, False, False, False,\n",
       "                    False, False, False, False, False, False, False, False,\n",
       "                    False, False, False, False, False, False, False, False,\n",
       "                    False, False, False, False, False, False, False, False,\n",
       "                    False, False, False],\n",
       "        fill_value='?',\n",
       "             dtype=object),\n",
       " 'params': [{'C': 1.0, 'epsilon': 0.001},\n",
       "  {'C': 1.0, 'epsilon': 0.01},\n",
       "  {'C': 1.0, 'epsilon': 0.1},\n",
       "  {'C': 1.0, 'epsilon': 1.0},\n",
       "  {'C': 1.0, 'epsilon': 10.0},\n",
       "  {'C': 1.0, 'epsilon': 100.0},\n",
       "  {'C': 1.0, 'epsilon': 1000.0},\n",
       "  {'C': 10.0, 'epsilon': 0.001},\n",
       "  {'C': 10.0, 'epsilon': 0.01},\n",
       "  {'C': 10.0, 'epsilon': 0.1},\n",
       "  {'C': 10.0, 'epsilon': 1.0},\n",
       "  {'C': 10.0, 'epsilon': 10.0},\n",
       "  {'C': 10.0, 'epsilon': 100.0},\n",
       "  {'C': 10.0, 'epsilon': 1000.0},\n",
       "  {'C': 100.0, 'epsilon': 0.001},\n",
       "  {'C': 100.0, 'epsilon': 0.01},\n",
       "  {'C': 100.0, 'epsilon': 0.1},\n",
       "  {'C': 100.0, 'epsilon': 1.0},\n",
       "  {'C': 100.0, 'epsilon': 10.0},\n",
       "  {'C': 100.0, 'epsilon': 100.0},\n",
       "  {'C': 100.0, 'epsilon': 1000.0},\n",
       "  {'C': 1000.0, 'epsilon': 0.001},\n",
       "  {'C': 1000.0, 'epsilon': 0.01},\n",
       "  {'C': 1000.0, 'epsilon': 0.1},\n",
       "  {'C': 1000.0, 'epsilon': 1.0},\n",
       "  {'C': 1000.0, 'epsilon': 10.0},\n",
       "  {'C': 1000.0, 'epsilon': 100.0},\n",
       "  {'C': 1000.0, 'epsilon': 1000.0},\n",
       "  {'C': 10000.0, 'epsilon': 0.001},\n",
       "  {'C': 10000.0, 'epsilon': 0.01},\n",
       "  {'C': 10000.0, 'epsilon': 0.1},\n",
       "  {'C': 10000.0, 'epsilon': 1.0},\n",
       "  {'C': 10000.0, 'epsilon': 10.0},\n",
       "  {'C': 10000.0, 'epsilon': 100.0},\n",
       "  {'C': 10000.0, 'epsilon': 1000.0}],\n",
       " 'split0_test_score': array([-3.68671119, -3.79807204, -4.11657064, -4.29385098, -0.48077323,\n",
       "        -0.48077323, -0.48077323, -2.9880594 , -3.00919506, -3.43065775,\n",
       "        -5.34307737, -0.48077323, -0.48077323, -0.48077323, -2.12211338,\n",
       "        -2.11157698, -2.07196876, -3.95265277, -0.48077323, -0.48077323,\n",
       "        -0.48077323, -1.19316131, -1.10033232, -0.84699368, -2.13445749,\n",
       "        -0.48077323, -0.48077323, -0.48077323, -0.11605217, -0.14111569,\n",
       "        -0.35222341, -0.24653951, -0.48077323, -0.48077323, -0.48077323]),\n",
       " 'split1_test_score': array([-1.1803893 , -1.17705216, -1.24964208, -1.05013221, -1.90645092,\n",
       "        -1.90645092, -1.90645092, -0.7626545 , -0.74089734, -0.80338942,\n",
       "        -0.91304332, -1.90645092, -1.90645092, -1.90645092, -0.41424381,\n",
       "        -0.41550567, -0.38632678, -0.70576873, -1.90645092, -1.90645092,\n",
       "        -1.90645092, -0.13447174, -0.12179136, -0.13250492, -0.27601657,\n",
       "        -1.90645092, -1.90645092, -1.90645092,  0.05126762,  0.05320844,\n",
       "         0.01641657, -0.03921723, -1.90645092, -1.90645092, -1.90645092]),\n",
       " 'split2_test_score': array([ 0.28889606,  0.29662565,  0.30669521,  0.21932382, -0.00466405,\n",
       "        -0.00466405, -0.00466405,  0.1448035 ,  0.13595903, -0.03099735,\n",
       "        -0.02689974, -0.00466405, -0.00466405, -0.00466405, -0.39749484,\n",
       "        -0.45567201, -0.43671852, -1.41407951, -0.00466405, -0.00466405,\n",
       "        -0.00466405, -0.5953518 , -0.54982711, -0.28192081, -2.18908832,\n",
       "        -0.00466405, -0.00466405, -0.00466405, -0.06716649, -0.06723046,\n",
       "         0.09836375, -0.73746122, -0.00466405, -0.00466405, -0.00466405]),\n",
       " 'split3_test_score': array([  0.40347978,   0.45246527,   0.5170584 ,  -7.30070991,\n",
       "        -13.70345571, -13.70345571, -13.70345571,  -0.79226358,\n",
       "         -0.8240511 ,  -1.86057664,  -0.29309974, -13.70345571,\n",
       "        -13.70345571, -13.70345571,  -0.38173458,  -0.41761832,\n",
       "         -1.7354298 , -13.92950192, -13.70345571, -13.70345571,\n",
       "        -13.70345571,   0.53519915,   0.53845873,  -0.12811019,\n",
       "         -7.82570965, -13.70345571, -13.70345571, -13.70345571,\n",
       "         -1.70151766,  -1.25551212,  -2.15083616, -14.61022534,\n",
       "        -13.70345571, -13.70345571, -13.70345571]),\n",
       " 'split4_test_score': array([-6.07461711e+01, -6.20020308e+01, -5.85726408e+01, -2.93276995e+02,\n",
       "        -6.60854495e+02, -6.60854495e+02, -6.60854495e+02, -3.39861142e+00,\n",
       "        -3.20547928e+00, -1.32795900e+01, -1.02969215e+02, -6.60854495e+02,\n",
       "        -6.60854495e+02, -6.60854495e+02, -1.37323612e+01, -1.79898785e+01,\n",
       "         9.91398120e-02, -6.34212742e+00, -6.60854495e+02, -6.60854495e+02,\n",
       "        -6.60854495e+02, -1.83836460e+02, -1.50319669e+02, -1.61915515e+01,\n",
       "        -3.52624872e+01, -6.60854495e+02, -6.60854495e+02, -6.60854495e+02,\n",
       "        -7.46905838e+02, -7.99586360e+02, -4.80676156e+01, -3.05670927e+01,\n",
       "        -6.60854495e+02, -6.60854495e+02, -6.60854495e+02]),\n",
       " 'mean_test_score': array([ -12.98417914,  -13.24561282,  -12.62301999,  -61.14047293,\n",
       "        -135.38996774, -135.38996774, -135.38996774,   -1.55935708,\n",
       "          -1.52873275,   -3.88104224,  -21.90906708, -135.38996774,\n",
       "        -135.38996774, -135.38996774,   -3.40958957,   -4.2780503 ,\n",
       "          -0.90626081,   -5.26882607, -135.38996774, -135.38996774,\n",
       "        -135.38996774,  -37.04484909,  -30.31063228,   -3.51621622,\n",
       "          -9.53755185, -135.38996774, -135.38996774, -135.38996774,\n",
       "        -149.74786138, -160.19940201,  -10.09117896,   -9.2401072 ,\n",
       "        -135.38996774, -135.38996774, -135.38996774]),\n",
       " 'std_test_score': array([ 23.92648814,  24.42590446,  23.03441016, 116.09780124,\n",
       "        262.78055364, 262.78055364, 262.78055364,   1.38212717,\n",
       "          1.33354469,   4.83554796,  40.57608148, 262.78055364,\n",
       "        262.78055364, 262.78055364,   5.20441978,   6.88680771,\n",
       "          0.84238091,   4.76596596, 262.78055364, 262.78055364,\n",
       "        262.78055364,  73.39798678,  60.00691403,   6.3431586 ,\n",
       "         13.10941999, 262.78055364, 262.78055364, 262.78055364,\n",
       "        298.57968349, 319.6938251 ,  19.00576915,  12.01261091,\n",
       "        262.78055364, 262.78055364, 262.78055364]),\n",
       " 'rank_test_score': array([13, 14, 12, 18, 29, 24, 19,  3,  2,  6, 15, 29, 24, 19,  4,  7,  1,\n",
       "         8, 29, 24, 19, 17, 16,  5, 10, 29, 24, 19, 34, 35, 11,  9, 29, 24,\n",
       "        19])}"
      ]
     },
     "execution_count": 10,
     "metadata": {},
     "output_type": "execute_result"
    }
   ],
   "source": [
    "model.regressor_[-1].cv_results_"
   ]
  },
  {
   "cell_type": "code",
   "execution_count": 11,
   "metadata": {},
   "outputs": [
    {
     "data": {
      "text/plain": [
       "{'cv': None,\n",
       " 'error_score': nan,\n",
       " 'estimator__C': 1.0,\n",
       " 'estimator__cache_size': 200,\n",
       " 'estimator__coef0': 0.0,\n",
       " 'estimator__degree': 3,\n",
       " 'estimator__epsilon': 0.1,\n",
       " 'estimator__gamma': 'scale',\n",
       " 'estimator__kernel': 'rbf',\n",
       " 'estimator__max_iter': -1,\n",
       " 'estimator__shrinking': True,\n",
       " 'estimator__tol': 0.001,\n",
       " 'estimator__verbose': False,\n",
       " 'estimator': SVR(),\n",
       " 'iid': 'deprecated',\n",
       " 'n_jobs': None,\n",
       " 'param_grid': {'C': array([1.e+00, 1.e+01, 1.e+02, 1.e+03, 1.e+04]),\n",
       "  'epsilon': array([1.e-03, 1.e-02, 1.e-01, 1.e+00, 1.e+01, 1.e+02, 1.e+03])},\n",
       " 'pre_dispatch': '2*n_jobs',\n",
       " 'refit': True,\n",
       " 'return_train_score': False,\n",
       " 'scoring': None,\n",
       " 'verbose': 0}"
      ]
     },
     "execution_count": 11,
     "metadata": {},
     "output_type": "execute_result"
    }
   ],
   "source": [
    "model.regressor_[-1].get_params()"
   ]
  },
  {
   "cell_type": "code",
   "execution_count": 12,
   "metadata": {},
   "outputs": [
    {
     "data": {
      "text/plain": [
       "{'C': 100.0, 'epsilon': 0.1}"
      ]
     },
     "execution_count": 12,
     "metadata": {},
     "output_type": "execute_result"
    }
   ],
   "source": [
    "model.regressor_[-1].best_params_"
   ]
  },
  {
   "cell_type": "code",
   "execution_count": 13,
   "metadata": {},
   "outputs": [
    {
     "data": {
      "text/plain": [
       "SVR(C=100.0)"
      ]
     },
     "execution_count": 13,
     "metadata": {},
     "output_type": "execute_result"
    }
   ],
   "source": [
    "model.regressor_[-1].best_estimator_"
   ]
  },
  {
   "cell_type": "code",
   "execution_count": 14,
   "metadata": {},
   "outputs": [
    {
     "data": {
      "text/plain": [
       "-1288166.3348898224"
      ]
     },
     "execution_count": 14,
     "metadata": {},
     "output_type": "execute_result"
    }
   ],
   "source": [
    "model.regressor_[-1].best_estimator_.score(df[['x']], df['yexp'])"
   ]
  },
  {
   "cell_type": "code",
   "execution_count": null,
   "metadata": {},
   "outputs": [],
   "source": []
  },
  {
   "cell_type": "code",
   "execution_count": null,
   "metadata": {},
   "outputs": [],
   "source": []
  },
  {
   "cell_type": "code",
   "execution_count": 15,
   "metadata": {},
   "outputs": [],
   "source": [
    "df['yhat'] = model.predict(df[['x']])"
   ]
  },
  {
   "cell_type": "code",
   "execution_count": 16,
   "metadata": {},
   "outputs": [
    {
     "data": {
      "text/plain": [
       "0.8734030589056618"
      ]
     },
     "execution_count": 16,
     "metadata": {},
     "output_type": "execute_result"
    }
   ],
   "source": [
    "metrics.r2_score(df['yexp'], df['yhat'])"
   ]
  },
  {
   "cell_type": "code",
   "execution_count": null,
   "metadata": {},
   "outputs": [],
   "source": []
  },
  {
   "cell_type": "code",
   "execution_count": 17,
   "metadata": {},
   "outputs": [
    {
     "data": {
      "image/png": "[encoded data removed]",
      "text/plain": [
       "<Figure size 432x288 with 1 Axes>"
      ]
     },
     "metadata": {
      "needs_background": "light"
     },
     "output_type": "display_data"
    }
   ],
   "source": [
    "fig, axe = plt.subplots()\n",
    "axe.plot(df['x'], df['yexp'], '.')\n",
    "axe.plot(df['x'], df['yth'])\n",
    "axe.plot(df['x'], df['yhat'])\n",
    "axe.grid()"
   ]
  },
  {
   "cell_type": "code",
   "execution_count": null,
   "metadata": {},
   "outputs": [],
   "source": []
  }
 ],
 "metadata": {
  "hide_input": false,
  "kernelspec": {
   "display_name": "Python 3",
   "language": "python",
   "name": "python3"
  },
  "language_info": {
   "codemirror_mode": {
    "name": "ipython",
    "version": 3
   },
   "file_extension": ".py",
   "mimetype": "text/x-python",
   "name": "python",
   "nbconvert_exporter": "python",
   "pygments_lexer": "ipython3",
   "version": "3.6.9"
  },
  "toc": {
   "base_numbering": 1,
   "nav_menu": {},
   "number_sections": true,
   "sideBar": true,
   "skip_h1_title": false,
   "title_cell": "Table of Contents",
   "title_sidebar": "Contents",
   "toc_cell": false,
   "toc_position": {},
   "toc_section_display": true,
   "toc_window_display": false
  },
  "varInspector": {
   "cols": {
    "lenName": 16,
    "lenType": 16,
    "lenVar": 40
   },
   "kernels_config": {
    "python": {
     "delete_cmd_postfix": "",
     "delete_cmd_prefix": "del ",
     "library": "var_list.py",
     "varRefreshCmd": "print(var_dic_list())"
    },
    "r": {
     "delete_cmd_postfix": ") ",
     "delete_cmd_prefix": "rm(",
     "library": "var_list.r",
     "varRefreshCmd": "cat(var_dic_list()) "
    }
   },
   "types_to_exclude": [
    "module",
    "function",
    "builtin_function_or_method",
    "instance",
    "_Feature"
   ],
   "window_display": false
  }
 },
 "nbformat": 4,
 "nbformat_minor": 4
}
