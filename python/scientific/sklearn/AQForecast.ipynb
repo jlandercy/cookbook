{
 "cells": [
  {
   "cell_type": "code",
   "execution_count": 1,
   "metadata": {},
   "outputs": [],
   "source": [
    "import pandas as pd\n",
    "import numpy as np\n",
    "import matplotlib.pyplot as plt\n",
    "pd.options.display.max_rows = 1000"
   ]
  },
  {
   "cell_type": "code",
   "execution_count": 2,
   "metadata": {},
   "outputs": [],
   "source": [
    "from odapi.connectors import Irceline\n",
    "from odapi.settings import settings\n",
    "settings.logger.setLevel(40)"
   ]
  },
  {
   "cell_type": "code",
   "execution_count": 3,
   "metadata": {},
   "outputs": [],
   "source": [
    "c = Irceline()"
   ]
  },
  {
   "cell_type": "code",
   "execution_count": 4,
   "metadata": {},
   "outputs": [],
   "source": [
    "s = c.select(sitekey='41R001')"
   ]
  },
  {
   "cell_type": "code",
   "execution_count": 5,
   "metadata": {},
   "outputs": [],
   "source": [
    "r = c.get_records(s, start='2020', stop='2020-06-08')"
   ]
  },
  {
   "cell_type": "code",
   "execution_count": 6,
   "metadata": {},
   "outputs": [],
   "source": [
    "d = r.merge(s[['serieid', 'measurekey']]).pivot_table(index='start', columns='measurekey', values='value')"
   ]
  },
  {
   "cell_type": "code",
   "execution_count": 7,
   "metadata": {},
   "outputs": [],
   "source": [
    "d.index = d.index.tz_convert('CET').tz_localize(None)"
   ]
  },
  {
   "cell_type": "code",
   "execution_count": 8,
   "metadata": {},
   "outputs": [],
   "source": [
    "d = d.fillna(d.rolling(5, min_periods=1).mean())"
   ]
  },
  {
   "cell_type": "code",
   "execution_count": 9,
   "metadata": {},
   "outputs": [],
   "source": [
    "df = []\n",
    "for i in range(5):\n",
    "    df.append(d.shift(-i).add_suffix('_{}'.format(i)))\n",
    "df = pd.concat(df, axis=1)   "
   ]
  },
  {
   "cell_type": "code",
   "execution_count": 10,
   "metadata": {},
   "outputs": [],
   "source": [
    "df['Month'] = df.index.month\n",
    "df['Time'] = (df.index - df.index.floor('1D')).total_seconds()/60**2\n",
    "df['DoW'] = df.index.dayofweek"
   ]
  },
  {
   "cell_type": "code",
   "execution_count": 11,
   "metadata": {},
   "outputs": [],
   "source": [
    "df = df.interpolate()"
   ]
  },
  {
   "cell_type": "code",
   "execution_count": null,
   "metadata": {},
   "outputs": [],
   "source": []
  },
  {
   "cell_type": "code",
   "execution_count": null,
   "metadata": {},
   "outputs": [],
   "source": []
  },
  {
   "cell_type": "code",
   "execution_count": null,
   "metadata": {},
   "outputs": [],
   "source": []
  },
  {
   "cell_type": "code",
   "execution_count": 12,
   "metadata": {},
   "outputs": [],
   "source": [
    "X = df.copy()"
   ]
  },
  {
   "cell_type": "code",
   "execution_count": 13,
   "metadata": {},
   "outputs": [],
   "source": [
    "y = X.pop('PM-2.5_0')"
   ]
  },
  {
   "cell_type": "code",
   "execution_count": 14,
   "metadata": {},
   "outputs": [],
   "source": [
    "from sklearn.model_selection import train_test_split"
   ]
  },
  {
   "cell_type": "code",
   "execution_count": 15,
   "metadata": {},
   "outputs": [],
   "source": [
    "X_train, X_test, y_train, y_test = train_test_split(X, y, test_size=.3, random_state=1234)"
   ]
  },
  {
   "cell_type": "code",
   "execution_count": 16,
   "metadata": {},
   "outputs": [],
   "source": [
    "from sklearn.ensemble import RandomForestRegressor\n",
    "from sklearn.metrics import mean_squared_error, mean_absolute_error, r2_score"
   ]
  },
  {
   "cell_type": "code",
   "execution_count": 17,
   "metadata": {},
   "outputs": [],
   "source": [
    "regr_rf = RandomForestRegressor(n_estimators=100, random_state=1234, verbose=1)"
   ]
  },
  {
   "cell_type": "code",
   "execution_count": 18,
   "metadata": {},
   "outputs": [
    {
     "name": "stderr",
     "output_type": "stream",
     "text": [
      "[Parallel(n_jobs=1)]: Using backend SequentialBackend with 1 concurrent workers.\n",
      "[Parallel(n_jobs=1)]: Done 100 out of 100 | elapsed:    6.3s finished\n"
     ]
    },
    {
     "data": {
      "text/plain": [
       "RandomForestRegressor(bootstrap=True, ccp_alpha=0.0, criterion='mse',\n",
       "                      max_depth=None, max_features='auto', max_leaf_nodes=None,\n",
       "                      max_samples=None, min_impurity_decrease=0.0,\n",
       "                      min_impurity_split=None, min_samples_leaf=1,\n",
       "                      min_samples_split=2, min_weight_fraction_leaf=0.0,\n",
       "                      n_estimators=100, n_jobs=None, oob_score=False,\n",
       "                      random_state=1234, verbose=1, warm_start=False)"
      ]
     },
     "execution_count": 18,
     "metadata": {},
     "output_type": "execute_result"
    }
   ],
   "source": [
    "regr_rf.fit(X_train, y_train)"
   ]
  },
  {
   "cell_type": "code",
   "execution_count": 19,
   "metadata": {},
   "outputs": [
    {
     "name": "stderr",
     "output_type": "stream",
     "text": [
      "[Parallel(n_jobs=1)]: Using backend SequentialBackend with 1 concurrent workers.\n",
      "[Parallel(n_jobs=1)]: Done 100 out of 100 | elapsed:    0.0s finished\n"
     ]
    },
    {
     "data": {
      "text/plain": [
       "0.9325313876268644"
      ]
     },
     "execution_count": 19,
     "metadata": {},
     "output_type": "execute_result"
    }
   ],
   "source": [
    "decision_forest_score = regr_rf.score(X_test, y_test)\n",
    "decision_forest_score"
   ]
  },
  {
   "cell_type": "code",
   "execution_count": 20,
   "metadata": {},
   "outputs": [
    {
     "name": "stderr",
     "output_type": "stream",
     "text": [
      "[Parallel(n_jobs=1)]: Using backend SequentialBackend with 1 concurrent workers.\n",
      "[Parallel(n_jobs=1)]: Done 100 out of 100 | elapsed:    0.0s finished\n"
     ]
    }
   ],
   "source": [
    "regr_rf_pred = regr_rf.predict(X_test)"
   ]
  },
  {
   "cell_type": "code",
   "execution_count": 21,
   "metadata": {},
   "outputs": [
    {
     "name": "stdout",
     "output_type": "stream",
     "text": [
      "Root mean squared error: 1.81\n",
      "Mean absolute error: 1.22\n",
      "R-squared: 0.93\n"
     ]
    }
   ],
   "source": [
    "# The mean squared error\n",
    "print(\"Root mean squared error: %.2f\"\n",
    "      % np.sqrt(mean_squared_error(y_test, regr_rf_pred)))\n",
    "# The absolute squared error\n",
    "print(\"Mean absolute error: %.2f\"\n",
    "      % mean_absolute_error(y_test, regr_rf_pred))\n",
    "# Explained variance score: 1 is perfect prediction\n",
    "print('R-squared: %.2f' % r2_score(y_test, regr_rf_pred))"
   ]
  },
  {
   "cell_type": "code",
   "execution_count": 22,
   "metadata": {},
   "outputs": [
    {
     "data": {
      "text/plain": [
       "array([1.07480375e-03, 6.45933215e-03, 1.21713136e-03, 9.98508429e-04,\n",
       "       1.61802128e-03, 6.48359416e-02, 2.54940010e-03, 5.84960854e-04,\n",
       "       9.98726152e-04, 1.49722786e-03, 1.11132869e-03, 1.76055456e-04,\n",
       "       8.08553918e-04, 1.04125783e-02, 8.56829779e-03, 7.07447207e-04,\n",
       "       2.31979188e-02, 7.37836211e-01, 1.75376020e-03, 1.58540337e-03,\n",
       "       4.82222558e-04, 1.37057011e-03, 1.05628549e-03, 3.08171858e-04,\n",
       "       3.61417536e-03, 3.55344389e-04, 4.60514847e-03, 1.24801049e-03,\n",
       "       8.82119792e-03, 2.26278890e-02, 8.52390184e-04, 5.38870448e-04,\n",
       "       4.72439916e-04, 1.41111675e-03, 7.82851837e-04, 7.13291083e-04,\n",
       "       4.89681044e-04, 4.92484871e-04, 1.36375236e-02, 4.20667344e-03,\n",
       "       3.84166199e-03, 2.18108477e-03, 7.48874440e-04, 1.89882427e-03,\n",
       "       2.00202627e-03, 5.19548619e-03, 2.44699664e-03, 3.04826952e-04,\n",
       "       9.78720331e-03, 4.17772221e-04, 1.46156767e-02, 1.42798759e-03,\n",
       "       3.59906658e-03, 9.59218613e-04, 1.12605438e-03, 6.01852371e-04,\n",
       "       6.06645677e-03, 2.19609077e-03, 2.73336972e-03, 3.54802513e-04,\n",
       "       7.62298380e-04, 6.54421064e-04])"
      ]
     },
     "execution_count": 22,
     "metadata": {},
     "output_type": "execute_result"
    }
   ],
   "source": [
    "regr_rf.feature_importances_"
   ]
  },
  {
   "cell_type": "code",
   "execution_count": 23,
   "metadata": {},
   "outputs": [
    {
     "data": {
      "text/html": [
       "<div>\n",
       "<style scoped>\n",
       "    .dataframe tbody tr th:only-of-type {\n",
       "        vertical-align: middle;\n",
       "    }\n",
       "\n",
       "    .dataframe tbody tr th {\n",
       "        vertical-align: top;\n",
       "    }\n",
       "\n",
       "    .dataframe thead th {\n",
       "        text-align: right;\n",
       "    }\n",
       "</style>\n",
       "<table border=\"1\" class=\"dataframe\">\n",
       "  <thead>\n",
       "    <tr style=\"text-align: right;\">\n",
       "      <th></th>\n",
       "      <th>Feature</th>\n",
       "      <th>Importance</th>\n",
       "    </tr>\n",
       "  </thead>\n",
       "  <tbody>\n",
       "    <tr>\n",
       "      <th>17</th>\n",
       "      <td>PM-2.5_1</td>\n",
       "      <td>0.737836</td>\n",
       "    </tr>\n",
       "    <tr>\n",
       "      <th>5</th>\n",
       "      <td>PM-10.0_0</td>\n",
       "      <td>0.0648359</td>\n",
       "    </tr>\n",
       "    <tr>\n",
       "      <th>16</th>\n",
       "      <td>PM-10.0_1</td>\n",
       "      <td>0.0231979</td>\n",
       "    </tr>\n",
       "    <tr>\n",
       "      <th>29</th>\n",
       "      <td>PM-2.5_2</td>\n",
       "      <td>0.0226279</td>\n",
       "    </tr>\n",
       "    <tr>\n",
       "      <th>50</th>\n",
       "      <td>NO2_4</td>\n",
       "      <td>0.0146157</td>\n",
       "    </tr>\n",
       "    <tr>\n",
       "      <th>38</th>\n",
       "      <td>NO2_3</td>\n",
       "      <td>0.0136375</td>\n",
       "    </tr>\n",
       "    <tr>\n",
       "      <th>13</th>\n",
       "      <td>NO_1</td>\n",
       "      <td>0.0104126</td>\n",
       "    </tr>\n",
       "    <tr>\n",
       "      <th>48</th>\n",
       "      <td>CO_4</td>\n",
       "      <td>0.0097872</td>\n",
       "    </tr>\n",
       "    <tr>\n",
       "      <th>28</th>\n",
       "      <td>PM-10.0_2</td>\n",
       "      <td>0.0088212</td>\n",
       "    </tr>\n",
       "    <tr>\n",
       "      <th>14</th>\n",
       "      <td>NO2_1</td>\n",
       "      <td>0.0085683</td>\n",
       "    </tr>\n",
       "    <tr>\n",
       "      <th>1</th>\n",
       "      <td>CO_0</td>\n",
       "      <td>0.00645933</td>\n",
       "    </tr>\n",
       "    <tr>\n",
       "      <th>56</th>\n",
       "      <td>T_4</td>\n",
       "      <td>0.00606646</td>\n",
       "    </tr>\n",
       "    <tr>\n",
       "      <th>45</th>\n",
       "      <td>WD_3</td>\n",
       "      <td>0.00519549</td>\n",
       "    </tr>\n",
       "    <tr>\n",
       "      <th>26</th>\n",
       "      <td>NO2_2</td>\n",
       "      <td>0.00460515</td>\n",
       "    </tr>\n",
       "    <tr>\n",
       "      <th>39</th>\n",
       "      <td>O3_3</td>\n",
       "      <td>0.00420667</td>\n",
       "    </tr>\n",
       "    <tr>\n",
       "      <th>40</th>\n",
       "      <td>PM-10.0_3</td>\n",
       "      <td>0.00384166</td>\n",
       "    </tr>\n",
       "    <tr>\n",
       "      <th>24</th>\n",
       "      <td>CO_2</td>\n",
       "      <td>0.00361418</td>\n",
       "    </tr>\n",
       "    <tr>\n",
       "      <th>52</th>\n",
       "      <td>PM-10.0_4</td>\n",
       "      <td>0.00359907</td>\n",
       "    </tr>\n",
       "    <tr>\n",
       "      <th>58</th>\n",
       "      <td>WS_4</td>\n",
       "      <td>0.00273337</td>\n",
       "    </tr>\n",
       "    <tr>\n",
       "      <th>6</th>\n",
       "      <td>RH_0</td>\n",
       "      <td>0.0025494</td>\n",
       "    </tr>\n",
       "    <tr>\n",
       "      <th>46</th>\n",
       "      <td>WS_3</td>\n",
       "      <td>0.002447</td>\n",
       "    </tr>\n",
       "    <tr>\n",
       "      <th>57</th>\n",
       "      <td>WD_4</td>\n",
       "      <td>0.00219609</td>\n",
       "    </tr>\n",
       "    <tr>\n",
       "      <th>41</th>\n",
       "      <td>PM-2.5_3</td>\n",
       "      <td>0.00218108</td>\n",
       "    </tr>\n",
       "    <tr>\n",
       "      <th>44</th>\n",
       "      <td>T_3</td>\n",
       "      <td>0.00200203</td>\n",
       "    </tr>\n",
       "    <tr>\n",
       "      <th>43</th>\n",
       "      <td>SO2_3</td>\n",
       "      <td>0.00189882</td>\n",
       "    </tr>\n",
       "    <tr>\n",
       "      <th>18</th>\n",
       "      <td>RH_1</td>\n",
       "      <td>0.00175376</td>\n",
       "    </tr>\n",
       "    <tr>\n",
       "      <th>4</th>\n",
       "      <td>O3_0</td>\n",
       "      <td>0.00161802</td>\n",
       "    </tr>\n",
       "    <tr>\n",
       "      <th>19</th>\n",
       "      <td>SO2_1</td>\n",
       "      <td>0.0015854</td>\n",
       "    </tr>\n",
       "    <tr>\n",
       "      <th>9</th>\n",
       "      <td>WD_0</td>\n",
       "      <td>0.00149723</td>\n",
       "    </tr>\n",
       "    <tr>\n",
       "      <th>51</th>\n",
       "      <td>O3_4</td>\n",
       "      <td>0.00142799</td>\n",
       "    </tr>\n",
       "    <tr>\n",
       "      <th>33</th>\n",
       "      <td>WD_2</td>\n",
       "      <td>0.00141112</td>\n",
       "    </tr>\n",
       "    <tr>\n",
       "      <th>21</th>\n",
       "      <td>WD_1</td>\n",
       "      <td>0.00137057</td>\n",
       "    </tr>\n",
       "    <tr>\n",
       "      <th>27</th>\n",
       "      <td>O3_2</td>\n",
       "      <td>0.00124801</td>\n",
       "    </tr>\n",
       "    <tr>\n",
       "      <th>2</th>\n",
       "      <td>NO_0</td>\n",
       "      <td>0.00121713</td>\n",
       "    </tr>\n",
       "    <tr>\n",
       "      <th>54</th>\n",
       "      <td>RH_4</td>\n",
       "      <td>0.00112605</td>\n",
       "    </tr>\n",
       "    <tr>\n",
       "      <th>10</th>\n",
       "      <td>WS_0</td>\n",
       "      <td>0.00111133</td>\n",
       "    </tr>\n",
       "    <tr>\n",
       "      <th>0</th>\n",
       "      <td>BC_0</td>\n",
       "      <td>0.0010748</td>\n",
       "    </tr>\n",
       "    <tr>\n",
       "      <th>22</th>\n",
       "      <td>WS_1</td>\n",
       "      <td>0.00105629</td>\n",
       "    </tr>\n",
       "    <tr>\n",
       "      <th>8</th>\n",
       "      <td>T_0</td>\n",
       "      <td>0.000998726</td>\n",
       "    </tr>\n",
       "    <tr>\n",
       "      <th>3</th>\n",
       "      <td>NO2_0</td>\n",
       "      <td>0.000998508</td>\n",
       "    </tr>\n",
       "    <tr>\n",
       "      <th>53</th>\n",
       "      <td>PM-2.5_4</td>\n",
       "      <td>0.000959219</td>\n",
       "    </tr>\n",
       "    <tr>\n",
       "      <th>30</th>\n",
       "      <td>RH_2</td>\n",
       "      <td>0.00085239</td>\n",
       "    </tr>\n",
       "    <tr>\n",
       "      <th>12</th>\n",
       "      <td>CO_1</td>\n",
       "      <td>0.000808554</td>\n",
       "    </tr>\n",
       "    <tr>\n",
       "      <th>34</th>\n",
       "      <td>WS_2</td>\n",
       "      <td>0.000782852</td>\n",
       "    </tr>\n",
       "    <tr>\n",
       "      <th>60</th>\n",
       "      <td>Time</td>\n",
       "      <td>0.000762298</td>\n",
       "    </tr>\n",
       "    <tr>\n",
       "      <th>42</th>\n",
       "      <td>RH_3</td>\n",
       "      <td>0.000748874</td>\n",
       "    </tr>\n",
       "    <tr>\n",
       "      <th>35</th>\n",
       "      <td>BC_3</td>\n",
       "      <td>0.000713291</td>\n",
       "    </tr>\n",
       "    <tr>\n",
       "      <th>15</th>\n",
       "      <td>O3_1</td>\n",
       "      <td>0.000707447</td>\n",
       "    </tr>\n",
       "    <tr>\n",
       "      <th>61</th>\n",
       "      <td>DoW</td>\n",
       "      <td>0.000654421</td>\n",
       "    </tr>\n",
       "    <tr>\n",
       "      <th>55</th>\n",
       "      <td>SO2_4</td>\n",
       "      <td>0.000601852</td>\n",
       "    </tr>\n",
       "    <tr>\n",
       "      <th>7</th>\n",
       "      <td>SO2_0</td>\n",
       "      <td>0.000584961</td>\n",
       "    </tr>\n",
       "    <tr>\n",
       "      <th>31</th>\n",
       "      <td>SO2_2</td>\n",
       "      <td>0.00053887</td>\n",
       "    </tr>\n",
       "    <tr>\n",
       "      <th>37</th>\n",
       "      <td>NO_3</td>\n",
       "      <td>0.000492485</td>\n",
       "    </tr>\n",
       "    <tr>\n",
       "      <th>36</th>\n",
       "      <td>CO_3</td>\n",
       "      <td>0.000489681</td>\n",
       "    </tr>\n",
       "    <tr>\n",
       "      <th>20</th>\n",
       "      <td>T_1</td>\n",
       "      <td>0.000482223</td>\n",
       "    </tr>\n",
       "    <tr>\n",
       "      <th>32</th>\n",
       "      <td>T_2</td>\n",
       "      <td>0.00047244</td>\n",
       "    </tr>\n",
       "    <tr>\n",
       "      <th>49</th>\n",
       "      <td>NO_4</td>\n",
       "      <td>0.000417772</td>\n",
       "    </tr>\n",
       "    <tr>\n",
       "      <th>25</th>\n",
       "      <td>NO_2</td>\n",
       "      <td>0.000355344</td>\n",
       "    </tr>\n",
       "    <tr>\n",
       "      <th>59</th>\n",
       "      <td>Month</td>\n",
       "      <td>0.000354803</td>\n",
       "    </tr>\n",
       "    <tr>\n",
       "      <th>23</th>\n",
       "      <td>BC_2</td>\n",
       "      <td>0.000308172</td>\n",
       "    </tr>\n",
       "    <tr>\n",
       "      <th>47</th>\n",
       "      <td>BC_4</td>\n",
       "      <td>0.000304827</td>\n",
       "    </tr>\n",
       "    <tr>\n",
       "      <th>11</th>\n",
       "      <td>BC_1</td>\n",
       "      <td>0.000176055</td>\n",
       "    </tr>\n",
       "  </tbody>\n",
       "</table>\n",
       "</div>"
      ],
      "text/plain": [
       "      Feature   Importance\n",
       "17   PM-2.5_1     0.737836\n",
       "5   PM-10.0_0    0.0648359\n",
       "16  PM-10.0_1    0.0231979\n",
       "29   PM-2.5_2    0.0226279\n",
       "50      NO2_4    0.0146157\n",
       "38      NO2_3    0.0136375\n",
       "13       NO_1    0.0104126\n",
       "48       CO_4    0.0097872\n",
       "28  PM-10.0_2    0.0088212\n",
       "14      NO2_1    0.0085683\n",
       "1        CO_0   0.00645933\n",
       "56        T_4   0.00606646\n",
       "45       WD_3   0.00519549\n",
       "26      NO2_2   0.00460515\n",
       "39       O3_3   0.00420667\n",
       "40  PM-10.0_3   0.00384166\n",
       "24       CO_2   0.00361418\n",
       "52  PM-10.0_4   0.00359907\n",
       "58       WS_4   0.00273337\n",
       "6        RH_0    0.0025494\n",
       "46       WS_3     0.002447\n",
       "57       WD_4   0.00219609\n",
       "41   PM-2.5_3   0.00218108\n",
       "44        T_3   0.00200203\n",
       "43      SO2_3   0.00189882\n",
       "18       RH_1   0.00175376\n",
       "4        O3_0   0.00161802\n",
       "19      SO2_1    0.0015854\n",
       "9        WD_0   0.00149723\n",
       "51       O3_4   0.00142799\n",
       "33       WD_2   0.00141112\n",
       "21       WD_1   0.00137057\n",
       "27       O3_2   0.00124801\n",
       "2        NO_0   0.00121713\n",
       "54       RH_4   0.00112605\n",
       "10       WS_0   0.00111133\n",
       "0        BC_0    0.0010748\n",
       "22       WS_1   0.00105629\n",
       "8         T_0  0.000998726\n",
       "3       NO2_0  0.000998508\n",
       "53   PM-2.5_4  0.000959219\n",
       "30       RH_2   0.00085239\n",
       "12       CO_1  0.000808554\n",
       "34       WS_2  0.000782852\n",
       "60       Time  0.000762298\n",
       "42       RH_3  0.000748874\n",
       "35       BC_3  0.000713291\n",
       "15       O3_1  0.000707447\n",
       "61        DoW  0.000654421\n",
       "55      SO2_4  0.000601852\n",
       "7       SO2_0  0.000584961\n",
       "31      SO2_2   0.00053887\n",
       "37       NO_3  0.000492485\n",
       "36       CO_3  0.000489681\n",
       "20        T_1  0.000482223\n",
       "32        T_2   0.00047244\n",
       "49       NO_4  0.000417772\n",
       "25       NO_2  0.000355344\n",
       "59      Month  0.000354803\n",
       "23       BC_2  0.000308172\n",
       "47       BC_4  0.000304827\n",
       "11       BC_1  0.000176055"
      ]
     },
     "execution_count": 23,
     "metadata": {},
     "output_type": "execute_result"
    }
   ],
   "source": [
    "imp = pd.DataFrame(np.array([X.columns, regr_rf.feature_importances_]).T, columns=['Feature', 'Importance'])\n",
    "imp.sort_values('Importance', ascending=False)"
   ]
  },
  {
   "cell_type": "code",
   "execution_count": 24,
   "metadata": {},
   "outputs": [
    {
     "data": {
      "image/png": "[encoded data removed]",
      "text/plain": [
       "<Figure size 432x288 with 1 Axes>"
      ]
     },
     "metadata": {
      "needs_background": "light"
     },
     "output_type": "display_data"
    }
   ],
   "source": [
    "plt.scatter(y_test, regr_rf_pred)\n",
    "plt.xlabel('Measured')\n",
    "plt.ylabel('Predicted')\n",
    "plt.title('Decision Forest Predicted vs Actual')\n",
    "plt.show()"
   ]
  },
  {
   "cell_type": "code",
   "execution_count": null,
   "metadata": {},
   "outputs": [],
   "source": []
  }
 ],
 "metadata": {
  "hide_input": false,
  "kernelspec": {
   "display_name": "Python 3",
   "language": "python",
   "name": "python3"
  },
  "language_info": {
   "codemirror_mode": {
    "name": "ipython",
    "version": 3
   },
   "file_extension": ".py",
   "mimetype": "text/x-python",
   "name": "python",
   "nbconvert_exporter": "python",
   "pygments_lexer": "ipython3",
   "version": "3.6.9"
  },
  "toc": {
   "base_numbering": 1,
   "nav_menu": {},
   "number_sections": true,
   "sideBar": true,
   "skip_h1_title": false,
   "title_cell": "Table of Contents",
   "title_sidebar": "Contents",
   "toc_cell": false,
   "toc_position": {},
   "toc_section_display": true,
   "toc_window_display": false
  },
  "varInspector": {
   "cols": {
    "lenName": 16,
    "lenType": 16,
    "lenVar": 40
   },
   "kernels_config": {
    "python": {
     "delete_cmd_postfix": "",
     "delete_cmd_prefix": "del ",
     "library": "var_list.py",
     "varRefreshCmd": "print(var_dic_list())"
    },
    "r": {
     "delete_cmd_postfix": ") ",
     "delete_cmd_prefix": "rm(",
     "library": "var_list.r",
     "varRefreshCmd": "cat(var_dic_list()) "
    }
   },
   "types_to_exclude": [
    "module",
    "function",
    "builtin_function_or_method",
    "instance",
    "_Feature"
   ],
   "window_display": false
  }
 },
 "nbformat": 4,
 "nbformat_minor": 4
}
