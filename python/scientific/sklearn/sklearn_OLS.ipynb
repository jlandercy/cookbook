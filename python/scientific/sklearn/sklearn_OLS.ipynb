{
 "cells": [
  {
   "cell_type": "code",
   "execution_count": 1,
   "metadata": {
    "ExecuteTime": {
     "end_time": "2020-09-18T07:22:33.547235Z",
     "start_time": "2020-09-18T07:22:32.148404Z"
    }
   },
   "outputs": [],
   "source": [
    "import numpy as np\n",
    "import pandas as pd\n",
    "import matplotlib.pyplot as plt"
   ]
  },
  {
   "cell_type": "code",
   "execution_count": 2,
   "metadata": {
    "ExecuteTime": {
     "end_time": "2020-09-18T07:22:34.529312Z",
     "start_time": "2020-09-18T07:22:33.555832Z"
    }
   },
   "outputs": [],
   "source": [
    "import sklearn\n",
    "from sklearn import base\n",
    "from sklearn.linear_model import LinearRegression\n",
    "from sklearn.pipeline import Pipeline, FeatureUnion\n",
    "from sklearn.compose import TransformedTargetRegressor\n",
    "from sklearn.preprocessing import StandardScaler, FunctionTransformer, PolynomialFeatures\n",
    "from sklearn import metrics"
   ]
  },
  {
   "cell_type": "code",
   "execution_count": 3,
   "metadata": {
    "ExecuteTime": {
     "end_time": "2020-09-18T07:22:34.549906Z",
     "start_time": "2020-09-18T07:22:34.541640Z"
    }
   },
   "outputs": [],
   "source": [
    "np.random.seed(16082011)"
   ]
  },
  {
   "cell_type": "markdown",
   "metadata": {},
   "source": [
    " - https://scikit-learn.org/stable/modules/classes.html#module-sklearn.preprocessing\n",
    " - https://scikit-learn.org/stable/modules/generated/sklearn.preprocessing.FunctionTransformer.html\n",
    " - https://scikit-learn.org/stable/modules/generated/sklearn.preprocessing.PolynomialFeatures.html\n",
    " - https://scikit-learn.org/stable/modules/generated/sklearn.pipeline.Pipeline.html#sklearn.pipeline.Pipeline\n",
    " - https://scikit-learn.org/stable/modules/generated/sklearn.pipeline.FeatureUnion.html#sklearn.pipeline.FeatureUnion\n",
    " - https://scikit-learn.org/stable/modules/generated/sklearn.linear_model.LinearRegression.html?highlight=linearregression#sklearn.linear_model.LinearRegression"
   ]
  },
  {
   "cell_type": "code",
   "execution_count": 4,
   "metadata": {
    "ExecuteTime": {
     "end_time": "2020-09-18T07:22:34.564092Z",
     "start_time": "2020-09-18T07:22:34.556961Z"
    }
   },
   "outputs": [],
   "source": [
    "def f(x):\n",
    "    return 1 + x + x**2 + np.cos(x)"
   ]
  },
  {
   "cell_type": "code",
   "execution_count": 5,
   "metadata": {
    "ExecuteTime": {
     "end_time": "2020-09-18T07:22:34.581195Z",
     "start_time": "2020-09-18T07:22:34.568340Z"
    }
   },
   "outputs": [],
   "source": [
    "xl = np.linspace(-5, 5, 1001)\n",
    "yl = f(xl)\n",
    "e1 = np.random.randn(xl.size)\n",
    "e2 = np.random.randn(xl.size)"
   ]
  },
  {
   "cell_type": "code",
   "execution_count": 6,
   "metadata": {
    "ExecuteTime": {
     "end_time": "2020-09-18T07:22:34.623494Z",
     "start_time": "2020-09-18T07:22:34.583833Z"
    }
   },
   "outputs": [
    {
     "data": {
      "text/html": [
       "<div>\n",
       "<style scoped>\n",
       "    .dataframe tbody tr th:only-of-type {\n",
       "        vertical-align: middle;\n",
       "    }\n",
       "\n",
       "    .dataframe tbody tr th {\n",
       "        vertical-align: top;\n",
       "    }\n",
       "\n",
       "    .dataframe thead th {\n",
       "        text-align: right;\n",
       "    }\n",
       "</style>\n",
       "<table border=\"1\" class=\"dataframe\">\n",
       "  <thead>\n",
       "    <tr style=\"text-align: right;\">\n",
       "      <th></th>\n",
       "      <th>x</th>\n",
       "      <th>yth</th>\n",
       "      <th>yexp</th>\n",
       "    </tr>\n",
       "  </thead>\n",
       "  <tbody>\n",
       "    <tr>\n",
       "      <th>0</th>\n",
       "      <td>-5.00</td>\n",
       "      <td>21.283662</td>\n",
       "      <td>24.331734</td>\n",
       "    </tr>\n",
       "    <tr>\n",
       "      <th>1</th>\n",
       "      <td>-4.99</td>\n",
       "      <td>21.184159</td>\n",
       "      <td>22.755368</td>\n",
       "    </tr>\n",
       "    <tr>\n",
       "      <th>2</th>\n",
       "      <td>-4.98</td>\n",
       "      <td>21.084828</td>\n",
       "      <td>18.460559</td>\n",
       "    </tr>\n",
       "    <tr>\n",
       "      <th>3</th>\n",
       "      <td>-4.97</td>\n",
       "      <td>20.985671</td>\n",
       "      <td>25.261467</td>\n",
       "    </tr>\n",
       "    <tr>\n",
       "      <th>4</th>\n",
       "      <td>-4.96</td>\n",
       "      <td>20.886689</td>\n",
       "      <td>20.382842</td>\n",
       "    </tr>\n",
       "  </tbody>\n",
       "</table>\n",
       "</div>"
      ],
      "text/plain": [
       "      x        yth       yexp\n",
       "0 -5.00  21.283662  24.331734\n",
       "1 -4.99  21.184159  22.755368\n",
       "2 -4.98  21.084828  18.460559\n",
       "3 -4.97  20.985671  25.261467\n",
       "4 -4.96  20.886689  20.382842"
      ]
     },
     "execution_count": 6,
     "metadata": {},
     "output_type": "execute_result"
    }
   ],
   "source": [
    "df = pd.DataFrame({'x': xl, 'yth': yl, 'yexp': yl + np.abs(xl)*e1 + e2})\n",
    "df.head()"
   ]
  },
  {
   "cell_type": "code",
   "execution_count": 7,
   "metadata": {
    "ExecuteTime": {
     "end_time": "2020-09-18T07:22:34.637095Z",
     "start_time": "2020-09-18T07:22:34.632255Z"
    }
   },
   "outputs": [],
   "source": [
    "t1 = FunctionTransformer(func=np.cos)"
   ]
  },
  {
   "cell_type": "code",
   "execution_count": 8,
   "metadata": {
    "ExecuteTime": {
     "end_time": "2020-09-18T07:22:34.651137Z",
     "start_time": "2020-09-18T07:22:34.645160Z"
    }
   },
   "outputs": [],
   "source": [
    "p1 = FeatureUnion([\n",
    "    ('Polynomial', PolynomialFeatures(degree=2)),\n",
    "    ('Functional', t1)\n",
    "])"
   ]
  },
  {
   "cell_type": "code",
   "execution_count": 9,
   "metadata": {
    "ExecuteTime": {
     "end_time": "2020-09-18T07:22:34.664993Z",
     "start_time": "2020-09-18T07:22:34.657560Z"
    }
   },
   "outputs": [],
   "source": [
    "p2 = Pipeline([\n",
    "    ('Conditioner', p1),\n",
    "    ('Standardizer', StandardScaler()),\n",
    "    ('OLS', LinearRegression(fit_intercept=False))\n",
    "])"
   ]
  },
  {
   "cell_type": "code",
   "execution_count": 10,
   "metadata": {
    "ExecuteTime": {
     "end_time": "2020-09-18T07:22:34.673918Z",
     "start_time": "2020-09-18T07:22:34.669894Z"
    }
   },
   "outputs": [],
   "source": [
    "model = TransformedTargetRegressor(\n",
    "    regressor=p2,\n",
    "    transformer=StandardScaler()\n",
    ")"
   ]
  },
  {
   "cell_type": "code",
   "execution_count": 11,
   "metadata": {
    "ExecuteTime": {
     "end_time": "2020-09-18T07:22:34.885710Z",
     "start_time": "2020-09-18T07:22:34.679315Z"
    }
   },
   "outputs": [
    {
     "data": {
      "text/plain": [
       "TransformedTargetRegressor(regressor=Pipeline(steps=[('Conditioner',\n",
       "                                                      FeatureUnion(transformer_list=[('Polynomial',\n",
       "                                                                                      PolynomialFeatures()),\n",
       "                                                                                     ('Functional',\n",
       "                                                                                      FunctionTransformer(func=<ufunc 'cos'>))])),\n",
       "                                                     ('Standardizer',\n",
       "                                                      StandardScaler()),\n",
       "                                                     ('OLS',\n",
       "                                                      LinearRegression(fit_intercept=False))]),\n",
       "                           transformer=StandardScaler())"
      ]
     },
     "execution_count": 11,
     "metadata": {},
     "output_type": "execute_result"
    }
   ],
   "source": [
    "model.fit(df[['x']], df['yexp'])"
   ]
  },
  {
   "cell_type": "code",
   "execution_count": 12,
   "metadata": {
    "ExecuteTime": {
     "end_time": "2020-09-18T07:22:34.918005Z",
     "start_time": "2020-09-18T07:22:34.894126Z"
    }
   },
   "outputs": [],
   "source": [
    "df['yhat'] = model.predict(df[['x']])"
   ]
  },
  {
   "cell_type": "code",
   "execution_count": null,
   "metadata": {},
   "outputs": [],
   "source": []
  },
  {
   "cell_type": "code",
   "execution_count": 13,
   "metadata": {
    "ExecuteTime": {
     "end_time": "2020-09-18T07:22:34.942899Z",
     "start_time": "2020-09-18T07:22:34.925730Z"
    }
   },
   "outputs": [
    {
     "data": {
      "text/plain": [
       "0.8769556342122321"
      ]
     },
     "execution_count": 13,
     "metadata": {},
     "output_type": "execute_result"
    }
   ],
   "source": [
    "model.score(df[['x']], df['yexp'])"
   ]
  },
  {
   "cell_type": "code",
   "execution_count": 14,
   "metadata": {
    "ExecuteTime": {
     "end_time": "2020-09-18T07:22:34.959911Z",
     "start_time": "2020-09-18T07:22:34.949764Z"
    }
   },
   "outputs": [
    {
     "data": {
      "text/plain": [
       "0.9991477953542787"
      ]
     },
     "execution_count": 14,
     "metadata": {},
     "output_type": "execute_result"
    }
   ],
   "source": [
    "metrics.r2_score(df['yth'], df['yhat'])"
   ]
  },
  {
   "cell_type": "code",
   "execution_count": 15,
   "metadata": {
    "ExecuteTime": {
     "end_time": "2020-09-18T07:22:34.979310Z",
     "start_time": "2020-09-18T07:22:34.965492Z"
    }
   },
   "outputs": [
    {
     "data": {
      "text/plain": [
       "0.8769556342122321"
      ]
     },
     "execution_count": 15,
     "metadata": {},
     "output_type": "execute_result"
    }
   ],
   "source": [
    "metrics.r2_score(df['yexp'], df['yhat'])"
   ]
  },
  {
   "cell_type": "code",
   "execution_count": 16,
   "metadata": {
    "ExecuteTime": {
     "end_time": "2020-09-18T07:22:34.995721Z",
     "start_time": "2020-09-18T07:22:34.983134Z"
    }
   },
   "outputs": [
    {
     "data": {
      "text/plain": [
       "0.05121151147673492"
      ]
     },
     "execution_count": 16,
     "metadata": {},
     "output_type": "execute_result"
    }
   ],
   "source": [
    "metrics.mean_squared_error(df['yth'], df['yhat'])"
   ]
  },
  {
   "cell_type": "code",
   "execution_count": 17,
   "metadata": {
    "ExecuteTime": {
     "end_time": "2020-09-18T07:22:35.012426Z",
     "start_time": "2020-09-18T07:22:35.002025Z"
    }
   },
   "outputs": [
    {
     "data": {
      "text/plain": [
       "0.9992532272752218"
      ]
     },
     "execution_count": 17,
     "metadata": {},
     "output_type": "execute_result"
    }
   ],
   "source": [
    "metrics.explained_variance_score(df['yth'], df['yhat'])"
   ]
  },
  {
   "cell_type": "code",
   "execution_count": null,
   "metadata": {},
   "outputs": [],
   "source": []
  },
  {
   "cell_type": "code",
   "execution_count": 18,
   "metadata": {
    "ExecuteTime": {
     "end_time": "2020-09-18T07:22:35.537280Z",
     "start_time": "2020-09-18T07:22:35.015066Z"
    }
   },
   "outputs": [
    {
     "data": {
      "image/png": "[encoded data removed]",
      "text/plain": [
       "<Figure size 432x288 with 1 Axes>"
      ]
     },
     "metadata": {
      "needs_background": "light"
     },
     "output_type": "display_data"
    }
   ],
   "source": [
    "fig, axe = plt.subplots()\n",
    "axe.plot(df['x'], df['yexp'], '.', label=\"Exp. Data\")\n",
    "axe.plot(df['x'], df['yth'], label=\"Theorical\")\n",
    "axe.plot(df['x'], df['yhat'], label=\"Fit\")\n",
    "axe.set_title(\"OLS Fit\")\n",
    "axe.set_ylabel(\"$y, \\hat{y}$\")\n",
    "axe.set_xlabel(\"$x$\")\n",
    "axe.legend()\n",
    "axe.grid()"
   ]
  },
  {
   "cell_type": "code",
   "execution_count": 19,
   "metadata": {
    "ExecuteTime": {
     "end_time": "2020-09-18T07:22:35.739443Z",
     "start_time": "2020-09-18T07:22:35.545950Z"
    }
   },
   "outputs": [
    {
     "data": {
      "image/png": "[encoded data removed]",
      "text/plain": [
       "<Figure size 432x288 with 1 Axes>"
      ]
     },
     "metadata": {
      "needs_background": "light"
     },
     "output_type": "display_data"
    }
   ],
   "source": [
    "fig, axe = plt.subplots()\n",
    "axe.plot(df['x'], (df['yhat'] - df['yth'])/df['yth'])\n",
    "axe.grid()"
   ]
  },
  {
   "cell_type": "code",
   "execution_count": 20,
   "metadata": {
    "ExecuteTime": {
     "end_time": "2020-09-18T07:22:36.308625Z",
     "start_time": "2020-09-18T07:22:35.746443Z"
    }
   },
   "outputs": [
    {
     "data": {
      "image/png": "[encoded data removed]",
      "text/plain": [
       "<Figure size 432x288 with 1 Axes>"
      ]
     },
     "metadata": {
      "needs_background": "light"
     },
     "output_type": "display_data"
    }
   ],
   "source": [
    "fig, axe = plt.subplots()\n",
    "axe.plot(df['x'], (df['yexp'] - df['yth'])/df['yth'])\n",
    "axe.grid()"
   ]
  },
  {
   "cell_type": "code",
   "execution_count": 21,
   "metadata": {
    "ExecuteTime": {
     "end_time": "2020-09-18T07:22:36.508241Z",
     "start_time": "2020-09-18T07:22:36.318615Z"
    }
   },
   "outputs": [
    {
     "data": {
      "image/png": "[encoded data removed]",
      "text/plain": [
       "<Figure size 432x288 with 1 Axes>"
      ]
     },
     "metadata": {
      "needs_background": "light"
     },
     "output_type": "display_data"
    }
   ],
   "source": [
    "fig, axe = plt.subplots()\n",
    "axe.plot(df['x'], (df['yexp'] - df['yhat'])/df['yhat'])\n",
    "axe.grid()"
   ]
  },
  {
   "cell_type": "code",
   "execution_count": 22,
   "metadata": {
    "ExecuteTime": {
     "end_time": "2020-09-18T07:22:36.528208Z",
     "start_time": "2020-09-18T07:22:36.517959Z"
    }
   },
   "outputs": [
    {
     "data": {
      "text/plain": [
       "array([0.        , 0.32786397, 0.91377884, 0.08855189])"
      ]
     },
     "execution_count": 22,
     "metadata": {},
     "output_type": "execute_result"
    }
   ],
   "source": [
    "model.regressor_[-1].coef_"
   ]
  },
  {
   "cell_type": "code",
   "execution_count": 23,
   "metadata": {
    "ExecuteTime": {
     "end_time": "2020-09-18T07:22:36.548643Z",
     "start_time": "2020-09-18T07:22:36.539216Z"
    }
   },
   "outputs": [
    {
     "data": {
      "text/plain": [
       "0.0"
      ]
     },
     "execution_count": 23,
     "metadata": {},
     "output_type": "execute_result"
    }
   ],
   "source": [
    "model.regressor_[-1].intercept_"
   ]
  },
  {
   "cell_type": "code",
   "execution_count": 24,
   "metadata": {
    "ExecuteTime": {
     "end_time": "2020-09-18T07:22:36.568732Z",
     "start_time": "2020-09-18T07:22:36.557587Z"
    }
   },
   "outputs": [
    {
     "data": {
      "text/plain": [
       "array([1.08637159])"
      ]
     },
     "execution_count": 24,
     "metadata": {},
     "output_type": "execute_result"
    }
   ],
   "source": [
    "model.transformer_.mean_/model.transformer_.scale_"
   ]
  },
  {
   "cell_type": "code",
   "execution_count": null,
   "metadata": {},
   "outputs": [],
   "source": []
  }
 ],
 "metadata": {
  "hide_input": false,
  "kernelspec": {
   "display_name": "Python 3",
   "language": "python",
   "name": "python3"
  },
  "language_info": {
   "codemirror_mode": {
    "name": "ipython",
    "version": 3
   },
   "file_extension": ".py",
   "mimetype": "text/x-python",
   "name": "python",
   "nbconvert_exporter": "python",
   "pygments_lexer": "ipython3",
   "version": "3.6.9"
  },
  "toc": {
   "base_numbering": 1,
   "nav_menu": {},
   "number_sections": true,
   "sideBar": true,
   "skip_h1_title": false,
   "title_cell": "Table of Contents",
   "title_sidebar": "Contents",
   "toc_cell": false,
   "toc_position": {},
   "toc_section_display": true,
   "toc_window_display": false
  },
  "varInspector": {
   "cols": {
    "lenName": 16,
    "lenType": 16,
    "lenVar": 40
   },
   "kernels_config": {
    "python": {
     "delete_cmd_postfix": "",
     "delete_cmd_prefix": "del ",
     "library": "var_list.py",
     "varRefreshCmd": "print(var_dic_list())"
    },
    "r": {
     "delete_cmd_postfix": ") ",
     "delete_cmd_prefix": "rm(",
     "library": "var_list.r",
     "varRefreshCmd": "cat(var_dic_list()) "
    }
   },
   "types_to_exclude": [
    "module",
    "function",
    "builtin_function_or_method",
    "instance",
    "_Feature"
   ],
   "window_display": false
  }
 },
 "nbformat": 4,
 "nbformat_minor": 4
}
