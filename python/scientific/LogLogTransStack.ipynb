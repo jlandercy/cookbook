{
 "cells": [
  {
   "cell_type": "code",
   "execution_count": 1,
   "metadata": {
    "ExecuteTime": {
     "end_time": "2021-07-26T18:53:07.848326Z",
     "start_time": "2021-07-26T18:53:05.642092Z"
    }
   },
   "outputs": [],
   "source": [
    "import io\n",
    "import numpy as np\n",
    "import pandas as pd\n",
    "from scipy import stats\n",
    "import matplotlib.pyplot as plt\n",
    "\n",
    "from sklearn.preprocessing import FunctionTransformer, PolynomialFeatures\n",
    "from sklearn.linear_model import LinearRegression\n",
    "from sklearn.compose import TransformedTargetRegressor\n",
    "from sklearn.pipeline import Pipeline"
   ]
  },
  {
   "cell_type": "code",
   "execution_count": 2,
   "metadata": {
    "ExecuteTime": {
     "end_time": "2021-07-26T18:53:07.871456Z",
     "start_time": "2021-07-26T18:53:07.853397Z"
    }
   },
   "outputs": [],
   "source": [
    "data = io.StringIO(\"\"\"id;x;y;sy\n",
    "0;1.0;0.121159;1\n",
    "1;101.0;0.195525;1\n",
    "2;201.0;0.167305;1\n",
    "3;301.0;0.125499;1\n",
    "4;401.0;0.094138;1\n",
    "5;501.0;0.071610;1\n",
    "6;601.0;0.053848;1\n",
    "7;701.0;0.039890;1\n",
    "8;801.0;0.031099;1\n",
    "9;901.0;0.023976;1\n",
    "10;1001.0;0.018271;1\n",
    "11;1101.0;0.013807;1\n",
    "12;1201.0;0.010596;1\n",
    "13;1301.0;0.008033;1\n",
    "14;1401.0;0.006710;1\n",
    "15;1501.0;0.005222;1\n",
    "16;1601.0;0.004299;1\n",
    "17;1701.0;0.003376;1\n",
    "18;1801.0;0.002976;1\n",
    "19;1901.0;0.002659;1\n",
    "\"\"\")\n",
    "df = pd.read_csv(data, sep=\";\", index_col=\"id\")"
   ]
  },
  {
   "cell_type": "code",
   "execution_count": 3,
   "metadata": {
    "ExecuteTime": {
     "end_time": "2021-07-26T18:53:07.884049Z",
     "start_time": "2021-07-26T18:53:07.876113Z"
    }
   },
   "outputs": [],
   "source": [
    "df = df.iloc[1:,:]"
   ]
  },
  {
   "cell_type": "code",
   "execution_count": 4,
   "metadata": {
    "ExecuteTime": {
     "end_time": "2021-07-26T18:53:08.175760Z",
     "start_time": "2021-07-26T18:53:07.888434Z"
    }
   },
   "outputs": [
    {
     "data": {
      "image/png": "[encoded data removed]",
      "text/plain": [
       "<Figure size 432x288 with 1 Axes>"
      ]
     },
     "metadata": {
      "needs_background": "light"
     },
     "output_type": "display_data"
    }
   ],
   "source": [
    "xl = np.linspace(0.001, 10, 201)\n",
    "fig, axe = plt.subplots()\n",
    "axe.plot(df.x, df.y, '.')\n",
    "axe.grid()"
   ]
  },
  {
   "cell_type": "code",
   "execution_count": 5,
   "metadata": {
    "ExecuteTime": {
     "end_time": "2021-07-26T18:53:08.187600Z",
     "start_time": "2021-07-26T18:53:08.179216Z"
    }
   },
   "outputs": [],
   "source": [
    "x = df.x.values\n",
    "y = df.y.values"
   ]
  },
  {
   "cell_type": "code",
   "execution_count": 6,
   "metadata": {
    "ExecuteTime": {
     "end_time": "2021-07-26T18:53:08.196781Z",
     "start_time": "2021-07-26T18:53:08.191474Z"
    }
   },
   "outputs": [],
   "source": [
    "X = x.reshape(-1, 1)"
   ]
  },
  {
   "cell_type": "code",
   "execution_count": 7,
   "metadata": {
    "ExecuteTime": {
     "end_time": "2021-07-26T18:53:08.206342Z",
     "start_time": "2021-07-26T18:53:08.201821Z"
    }
   },
   "outputs": [],
   "source": [
    "xl = np.linspace(0.001, 2000, 201)"
   ]
  },
  {
   "cell_type": "code",
   "execution_count": 8,
   "metadata": {
    "ExecuteTime": {
     "end_time": "2021-07-26T18:53:08.216404Z",
     "start_time": "2021-07-26T18:53:08.210995Z"
    }
   },
   "outputs": [],
   "source": [
    "transformer = FunctionTransformer(func=np.log, inverse_func=np.exp)"
   ]
  },
  {
   "cell_type": "code",
   "execution_count": 9,
   "metadata": {
    "ExecuteTime": {
     "end_time": "2021-07-26T18:53:08.228807Z",
     "start_time": "2021-07-26T18:53:08.224386Z"
    }
   },
   "outputs": [],
   "source": [
    "polynomial = PolynomialFeatures(2)"
   ]
  },
  {
   "cell_type": "code",
   "execution_count": 10,
   "metadata": {
    "ExecuteTime": {
     "end_time": "2021-07-26T18:53:08.237488Z",
     "start_time": "2021-07-26T18:53:08.233189Z"
    }
   },
   "outputs": [],
   "source": [
    "regressor = TransformedTargetRegressor(regressor=LinearRegression(), transformer=transformer)"
   ]
  },
  {
   "cell_type": "code",
   "execution_count": 11,
   "metadata": {
    "ExecuteTime": {
     "end_time": "2021-07-26T18:53:08.245597Z",
     "start_time": "2021-07-26T18:53:08.240951Z"
    }
   },
   "outputs": [],
   "source": [
    "model = Pipeline(steps=[\n",
    "    (\"transformer\", transformer),\n",
    "    (\"polynomial\", polynomial),\n",
    "    (\"regressor\", regressor)\n",
    "])"
   ]
  },
  {
   "cell_type": "code",
   "execution_count": 12,
   "metadata": {
    "ExecuteTime": {
     "end_time": "2021-07-26T18:53:08.301578Z",
     "start_time": "2021-07-26T18:53:08.249127Z"
    }
   },
   "outputs": [
    {
     "data": {
      "text/plain": [
       "Pipeline(steps=[('transformer',\n",
       "                 FunctionTransformer(func=<ufunc 'log'>,\n",
       "                                     inverse_func=<ufunc 'exp'>)),\n",
       "                ('polynomial', PolynomialFeatures()),\n",
       "                ('regressor',\n",
       "                 TransformedTargetRegressor(regressor=LinearRegression(),\n",
       "                                            transformer=FunctionTransformer(func=<ufunc 'log'>,\n",
       "                                                                            inverse_func=<ufunc 'exp'>)))])"
      ]
     },
     "execution_count": 12,
     "metadata": {},
     "output_type": "execute_result"
    }
   ],
   "source": [
    "model.fit(X, y)"
   ]
  },
  {
   "cell_type": "code",
   "execution_count": 13,
   "metadata": {
    "ExecuteTime": {
     "end_time": "2021-07-26T18:53:08.313776Z",
     "start_time": "2021-07-26T18:53:08.305124Z"
    }
   },
   "outputs": [
    {
     "data": {
      "text/plain": [
       "0.9886074889773485"
      ]
     },
     "execution_count": 13,
     "metadata": {},
     "output_type": "execute_result"
    }
   ],
   "source": [
    "model.score(X, y)"
   ]
  },
  {
   "cell_type": "code",
   "execution_count": 14,
   "metadata": {
    "ExecuteTime": {
     "end_time": "2021-07-26T18:53:08.323450Z",
     "start_time": "2021-07-26T18:53:08.317266Z"
    }
   },
   "outputs": [],
   "source": [
    "yhat = model.predict(xl.reshape(-1, 1))"
   ]
  },
  {
   "cell_type": "code",
   "execution_count": 15,
   "metadata": {
    "ExecuteTime": {
     "end_time": "2021-07-26T18:53:08.688781Z",
     "start_time": "2021-07-26T18:53:08.327274Z"
    }
   },
   "outputs": [
    {
     "data": {
      "image/png": "[encoded data removed]",
      "text/plain": [
       "<Figure size 432x288 with 1 Axes>"
      ]
     },
     "metadata": {
      "needs_background": "light"
     },
     "output_type": "display_data"
    }
   ],
   "source": [
    "fig, axe = plt.subplots()\n",
    "axe.plot(xl, yhat)\n",
    "axe.plot(x, y, '.')\n",
    "axe.grid()"
   ]
  },
  {
   "cell_type": "code",
   "execution_count": 16,
   "metadata": {
    "ExecuteTime": {
     "end_time": "2021-07-26T18:53:08.701063Z",
     "start_time": "2021-07-26T18:53:08.692639Z"
    }
   },
   "outputs": [
    {
     "data": {
      "text/plain": [
       "array([ 0.        ,  6.54242226, -0.6570402 ])"
      ]
     },
     "execution_count": 16,
     "metadata": {},
     "output_type": "execute_result"
    }
   ],
   "source": [
    "model.steps[-1][1].regressor_.coef_"
   ]
  },
  {
   "cell_type": "code",
   "execution_count": null,
   "metadata": {},
   "outputs": [],
   "source": []
  }
 ],
 "metadata": {
  "hide_input": false,
  "kernelspec": {
   "display_name": "Python 3",
   "language": "python",
   "name": "python3"
  },
  "language_info": {
   "codemirror_mode": {
    "name": "ipython",
    "version": 3
   },
   "file_extension": ".py",
   "mimetype": "text/x-python",
   "name": "python",
   "nbconvert_exporter": "python",
   "pygments_lexer": "ipython3",
   "version": "3.6.9"
  },
  "toc": {
   "base_numbering": 1,
   "nav_menu": {},
   "number_sections": true,
   "sideBar": true,
   "skip_h1_title": false,
   "title_cell": "Table of Contents",
   "title_sidebar": "Contents",
   "toc_cell": false,
   "toc_position": {},
   "toc_section_display": true,
   "toc_window_display": false
  },
  "varInspector": {
   "cols": {
    "lenName": 16,
    "lenType": 16,
    "lenVar": 40
   },
   "kernels_config": {
    "python": {
     "delete_cmd_postfix": "",
     "delete_cmd_prefix": "del ",
     "library": "var_list.py",
     "varRefreshCmd": "print(var_dic_list())"
    },
    "r": {
     "delete_cmd_postfix": ") ",
     "delete_cmd_prefix": "rm(",
     "library": "var_list.r",
     "varRefreshCmd": "cat(var_dic_list()) "
    }
   },
   "types_to_exclude": [
    "module",
    "function",
    "builtin_function_or_method",
    "instance",
    "_Feature"
   ],
   "window_display": false
  }
 },
 "nbformat": 4,
 "nbformat_minor": 4
}
