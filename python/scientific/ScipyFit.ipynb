{
 "cells": [
  {
   "cell_type": "markdown",
   "metadata": {},
   "source": [
    " - https://stackoverflow.com/questions/68523795/fit-a-custom-function-in-python\n",
    " - https://www.wolframalpha.com/input/?i=diff%5B+%28A%2Fx%29*exp%28-%28%28log%28x%2Fmu%29%2Flog%28sigma%29%29%5E2%29%2F2%29%2C+x%5D"
   ]
  },
  {
   "cell_type": "code",
   "execution_count": 1,
   "metadata": {
    "ExecuteTime": {
     "end_time": "2022-01-26T19:01:57.656420Z",
     "start_time": "2022-01-26T19:01:55.191795Z"
    }
   },
   "outputs": [],
   "source": [
    "import io\n",
    "import numpy as np\n",
    "from scipy import optimize\n",
    "import pandas as pd\n",
    "import matplotlib.pyplot as plt\n",
    "\n",
    "from sklearn.linear_model import LinearRegression\n",
    "from sklearn.preprocessing import PolynomialFeatures\n",
    "from sklearn.pipeline import make_pipeline"
   ]
  },
  {
   "cell_type": "code",
   "execution_count": 2,
   "metadata": {
    "ExecuteTime": {
     "end_time": "2022-01-26T19:01:57.780846Z",
     "start_time": "2022-01-26T19:01:57.663814Z"
    }
   },
   "outputs": [],
   "source": [
    "data = io.StringIO(\"\"\"id;x;y;sy\n",
    "0;1.0;0.121159;100\n",
    "1;101.0;0.195525;1\n",
    "2;201.0;0.167305;1\n",
    "3;301.0;0.125499;1\n",
    "4;401.0;0.094138;1\n",
    "5;501.0;0.071610;1\n",
    "6;601.0;0.053848;1\n",
    "7;701.0;0.039890;1\n",
    "8;801.0;0.031099;1\n",
    "9;901.0;0.023976;1\n",
    "10;1001.0;0.018271;1\n",
    "11;1101.0;0.013807;1\n",
    "12;1201.0;0.010596;1\n",
    "13;1301.0;0.008033;1\n",
    "14;1401.0;0.006710;1\n",
    "15;1501.0;0.005222;1\n",
    "16;1601.0;0.004299;1\n",
    "17;1701.0;0.003376;1\n",
    "18;1801.0;0.002976;1\n",
    "19;1901.0;0.002659;1\n",
    "\"\"\")\n",
    "df = pd.read_csv(data, sep=\";\", index_col=\"id\")"
   ]
  },
  {
   "cell_type": "code",
   "execution_count": 3,
   "metadata": {
    "ExecuteTime": {
     "end_time": "2022-01-26T19:01:57.822020Z",
     "start_time": "2022-01-26T19:01:57.787618Z"
    }
   },
   "outputs": [
    {
     "data": {
      "text/html": [
       "<div>\n",
       "<style scoped>\n",
       "    .dataframe tbody tr th:only-of-type {\n",
       "        vertical-align: middle;\n",
       "    }\n",
       "\n",
       "    .dataframe tbody tr th {\n",
       "        vertical-align: top;\n",
       "    }\n",
       "\n",
       "    .dataframe thead th {\n",
       "        text-align: right;\n",
       "    }\n",
       "</style>\n",
       "<table border=\"1\" class=\"dataframe\">\n",
       "  <thead>\n",
       "    <tr style=\"text-align: right;\">\n",
       "      <th></th>\n",
       "      <th>x</th>\n",
       "      <th>y</th>\n",
       "      <th>sy</th>\n",
       "    </tr>\n",
       "    <tr>\n",
       "      <th>id</th>\n",
       "      <th></th>\n",
       "      <th></th>\n",
       "      <th></th>\n",
       "    </tr>\n",
       "  </thead>\n",
       "  <tbody>\n",
       "    <tr>\n",
       "      <th>0</th>\n",
       "      <td>1.0</td>\n",
       "      <td>0.121159</td>\n",
       "      <td>100</td>\n",
       "    </tr>\n",
       "    <tr>\n",
       "      <th>1</th>\n",
       "      <td>101.0</td>\n",
       "      <td>0.195525</td>\n",
       "      <td>1</td>\n",
       "    </tr>\n",
       "    <tr>\n",
       "      <th>2</th>\n",
       "      <td>201.0</td>\n",
       "      <td>0.167305</td>\n",
       "      <td>1</td>\n",
       "    </tr>\n",
       "    <tr>\n",
       "      <th>3</th>\n",
       "      <td>301.0</td>\n",
       "      <td>0.125499</td>\n",
       "      <td>1</td>\n",
       "    </tr>\n",
       "    <tr>\n",
       "      <th>4</th>\n",
       "      <td>401.0</td>\n",
       "      <td>0.094138</td>\n",
       "      <td>1</td>\n",
       "    </tr>\n",
       "    <tr>\n",
       "      <th>5</th>\n",
       "      <td>501.0</td>\n",
       "      <td>0.071610</td>\n",
       "      <td>1</td>\n",
       "    </tr>\n",
       "    <tr>\n",
       "      <th>6</th>\n",
       "      <td>601.0</td>\n",
       "      <td>0.053848</td>\n",
       "      <td>1</td>\n",
       "    </tr>\n",
       "    <tr>\n",
       "      <th>7</th>\n",
       "      <td>701.0</td>\n",
       "      <td>0.039890</td>\n",
       "      <td>1</td>\n",
       "    </tr>\n",
       "    <tr>\n",
       "      <th>8</th>\n",
       "      <td>801.0</td>\n",
       "      <td>0.031099</td>\n",
       "      <td>1</td>\n",
       "    </tr>\n",
       "    <tr>\n",
       "      <th>9</th>\n",
       "      <td>901.0</td>\n",
       "      <td>0.023976</td>\n",
       "      <td>1</td>\n",
       "    </tr>\n",
       "    <tr>\n",
       "      <th>10</th>\n",
       "      <td>1001.0</td>\n",
       "      <td>0.018271</td>\n",
       "      <td>1</td>\n",
       "    </tr>\n",
       "    <tr>\n",
       "      <th>11</th>\n",
       "      <td>1101.0</td>\n",
       "      <td>0.013807</td>\n",
       "      <td>1</td>\n",
       "    </tr>\n",
       "    <tr>\n",
       "      <th>12</th>\n",
       "      <td>1201.0</td>\n",
       "      <td>0.010596</td>\n",
       "      <td>1</td>\n",
       "    </tr>\n",
       "    <tr>\n",
       "      <th>13</th>\n",
       "      <td>1301.0</td>\n",
       "      <td>0.008033</td>\n",
       "      <td>1</td>\n",
       "    </tr>\n",
       "    <tr>\n",
       "      <th>14</th>\n",
       "      <td>1401.0</td>\n",
       "      <td>0.006710</td>\n",
       "      <td>1</td>\n",
       "    </tr>\n",
       "    <tr>\n",
       "      <th>15</th>\n",
       "      <td>1501.0</td>\n",
       "      <td>0.005222</td>\n",
       "      <td>1</td>\n",
       "    </tr>\n",
       "    <tr>\n",
       "      <th>16</th>\n",
       "      <td>1601.0</td>\n",
       "      <td>0.004299</td>\n",
       "      <td>1</td>\n",
       "    </tr>\n",
       "    <tr>\n",
       "      <th>17</th>\n",
       "      <td>1701.0</td>\n",
       "      <td>0.003376</td>\n",
       "      <td>1</td>\n",
       "    </tr>\n",
       "    <tr>\n",
       "      <th>18</th>\n",
       "      <td>1801.0</td>\n",
       "      <td>0.002976</td>\n",
       "      <td>1</td>\n",
       "    </tr>\n",
       "    <tr>\n",
       "      <th>19</th>\n",
       "      <td>1901.0</td>\n",
       "      <td>0.002659</td>\n",
       "      <td>1</td>\n",
       "    </tr>\n",
       "  </tbody>\n",
       "</table>\n",
       "</div>"
      ],
      "text/plain": [
       "         x         y   sy\n",
       "id                       \n",
       "0      1.0  0.121159  100\n",
       "1    101.0  0.195525    1\n",
       "2    201.0  0.167305    1\n",
       "3    301.0  0.125499    1\n",
       "4    401.0  0.094138    1\n",
       "5    501.0  0.071610    1\n",
       "6    601.0  0.053848    1\n",
       "7    701.0  0.039890    1\n",
       "8    801.0  0.031099    1\n",
       "9    901.0  0.023976    1\n",
       "10  1001.0  0.018271    1\n",
       "11  1101.0  0.013807    1\n",
       "12  1201.0  0.010596    1\n",
       "13  1301.0  0.008033    1\n",
       "14  1401.0  0.006710    1\n",
       "15  1501.0  0.005222    1\n",
       "16  1601.0  0.004299    1\n",
       "17  1701.0  0.003376    1\n",
       "18  1801.0  0.002976    1\n",
       "19  1901.0  0.002659    1"
      ]
     },
     "execution_count": 3,
     "metadata": {},
     "output_type": "execute_result"
    }
   ],
   "source": [
    "df "
   ]
  },
  {
   "cell_type": "code",
   "execution_count": 4,
   "metadata": {
    "ExecuteTime": {
     "end_time": "2022-01-26T19:01:57.837761Z",
     "start_time": "2022-01-26T19:01:57.830693Z"
    }
   },
   "outputs": [],
   "source": [
    "df = df.loc[1:,:]"
   ]
  },
  {
   "cell_type": "code",
   "execution_count": 5,
   "metadata": {
    "ExecuteTime": {
     "end_time": "2022-01-26T19:01:58.105405Z",
     "start_time": "2022-01-26T19:01:57.842291Z"
    }
   },
   "outputs": [
    {
     "data": {
      "text/plain": [
       "[<matplotlib.lines.Line2D at 0x7fccaace1128>]"
      ]
     },
     "execution_count": 5,
     "metadata": {},
     "output_type": "execute_result"
    },
    {
     "data": {
      "image/png": "[encoded data removed]",
      "text/plain": [
       "<Figure size 432x288 with 1 Axes>"
      ]
     },
     "metadata": {
      "needs_background": "light"
     },
     "output_type": "display_data"
    }
   ],
   "source": [
    "fig, axe = plt.subplots()\n",
    "axe.plot(df.x, df.y, '.')"
   ]
  },
  {
   "cell_type": "code",
   "execution_count": 6,
   "metadata": {
    "ExecuteTime": {
     "end_time": "2022-01-26T19:01:58.119037Z",
     "start_time": "2022-01-26T19:01:58.109602Z"
    }
   },
   "outputs": [],
   "source": [
    "def func(x, A, mu, sigma):\n",
    "    return (A/x)*np.exp(-((np.log(x/mu)/np.log(sigma))**2)/2)"
   ]
  },
  {
   "cell_type": "code",
   "execution_count": null,
   "metadata": {
    "ExecuteTime": {
     "end_time": "2021-07-26T07:27:09.338399Z",
     "start_time": "2021-07-26T07:27:09.331482Z"
    }
   },
   "outputs": [],
   "source": []
  },
  {
   "cell_type": "code",
   "execution_count": 7,
   "metadata": {
    "ExecuteTime": {
     "end_time": "2022-01-26T19:01:58.268424Z",
     "start_time": "2022-01-26T19:01:58.123502Z"
    }
   },
   "outputs": [],
   "source": [
    "popt, pcov = optimize.curve_fit(func, df.x, df.y, sigma=df.sy, p0=(50, 100, 0.1), method=\"lm\")"
   ]
  },
  {
   "cell_type": "code",
   "execution_count": 8,
   "metadata": {
    "ExecuteTime": {
     "end_time": "2022-01-26T19:01:58.281021Z",
     "start_time": "2022-01-26T19:01:58.273927Z"
    }
   },
   "outputs": [
    {
     "data": {
      "text/plain": [
       "array([ 38.05564466, 315.9224773 ,   0.37133596])"
      ]
     },
     "execution_count": 8,
     "metadata": {},
     "output_type": "execute_result"
    }
   ],
   "source": [
    "popt"
   ]
  },
  {
   "cell_type": "code",
   "execution_count": 9,
   "metadata": {
    "ExecuteTime": {
     "end_time": "2022-01-26T19:01:58.292653Z",
     "start_time": "2022-01-26T19:01:58.285070Z"
    }
   },
   "outputs": [
    {
     "data": {
      "text/plain": [
       "array([[ 1.32237070e-01,  6.33522684e-02,  1.03426409e-03],\n",
       "       [ 6.33522684e-02,  1.82633625e+01, -1.50874460e-02],\n",
       "       [ 1.03426409e-03, -1.50874460e-02,  2.95381377e-05]])"
      ]
     },
     "execution_count": 9,
     "metadata": {},
     "output_type": "execute_result"
    }
   ],
   "source": [
    "pcov"
   ]
  },
  {
   "cell_type": "code",
   "execution_count": 10,
   "metadata": {
    "ExecuteTime": {
     "end_time": "2022-01-26T19:01:58.301431Z",
     "start_time": "2022-01-26T19:01:58.296067Z"
    }
   },
   "outputs": [],
   "source": [
    "xmax = popt[1]*np.exp(-np.log(popt[2])**2)"
   ]
  },
  {
   "cell_type": "code",
   "execution_count": 11,
   "metadata": {
    "ExecuteTime": {
     "end_time": "2022-01-26T19:01:58.718894Z",
     "start_time": "2022-01-26T19:01:58.304282Z"
    }
   },
   "outputs": [
    {
     "data": {
      "image/png": "[encoded data removed]",
      "text/plain": [
       "<Figure size 432x288 with 1 Axes>"
      ]
     },
     "metadata": {
      "needs_background": "light"
     },
     "output_type": "display_data"
    }
   ],
   "source": [
    "fig, axe = plt.subplots()\n",
    "axe.plot(df.x, df.y, '.', label=\"data\")\n",
    "xl = np.linspace(df.x.min(), df.x.max(), 1000)\n",
    "axe.plot(xl, func(xl, *popt), label=\"fit\")\n",
    "axe.plot([xmax], func([xmax], *popt), \"*\", label=\"max\")\n",
    "axe.legend()\n",
    "axe.grid()"
   ]
  },
  {
   "cell_type": "code",
   "execution_count": null,
   "metadata": {},
   "outputs": [],
   "source": []
  },
  {
   "cell_type": "code",
   "execution_count": null,
   "metadata": {},
   "outputs": [],
   "source": []
  },
  {
   "cell_type": "code",
   "execution_count": null,
   "metadata": {},
   "outputs": [],
   "source": []
  },
  {
   "cell_type": "code",
   "execution_count": 12,
   "metadata": {
    "ExecuteTime": {
     "end_time": "2022-01-26T19:01:58.733260Z",
     "start_time": "2022-01-26T19:01:58.722850Z"
    }
   },
   "outputs": [
    {
     "name": "stderr",
     "output_type": "stream",
     "text": [
      "/usr/local/lib/python3.6/dist-packages/ipykernel_launcher.py:1: SettingWithCopyWarning: \n",
      "A value is trying to be set on a copy of a slice from a DataFrame.\n",
      "Try using .loc[row_indexer,col_indexer] = value instead\n",
      "\n",
      "See the caveats in the documentation: https://pandas.pydata.org/pandas-docs/stable/user_guide/indexing.html#returning-a-view-versus-a-copy\n",
      "  \"\"\"Entry point for launching an IPython kernel.\n"
     ]
    }
   ],
   "source": [
    "df[\"x2\"] = df.x.apply(np.log)"
   ]
  },
  {
   "cell_type": "code",
   "execution_count": null,
   "metadata": {
    "ExecuteTime": {
     "end_time": "2021-07-26T07:56:31.133237Z",
     "start_time": "2021-07-26T07:56:30.817328Z"
    }
   },
   "outputs": [],
   "source": []
  },
  {
   "cell_type": "code",
   "execution_count": 13,
   "metadata": {
    "ExecuteTime": {
     "end_time": "2022-01-26T19:01:58.743250Z",
     "start_time": "2022-01-26T19:01:58.737123Z"
    }
   },
   "outputs": [],
   "source": [
    "X = np.log(df.x.values).reshape(-1, 1)\n",
    "y = np.log(df.y)"
   ]
  },
  {
   "cell_type": "code",
   "execution_count": 14,
   "metadata": {
    "ExecuteTime": {
     "end_time": "2022-01-26T19:01:58.753148Z",
     "start_time": "2022-01-26T19:01:58.747689Z"
    }
   },
   "outputs": [],
   "source": [
    "linreg = LinearRegression()\n",
    "poly = PolynomialFeatures(2)\n",
    "model = make_pipeline(poly, linreg)"
   ]
  },
  {
   "cell_type": "code",
   "execution_count": null,
   "metadata": {
    "ExecuteTime": {
     "end_time": "2021-07-26T08:34:40.080427Z",
     "start_time": "2021-07-26T08:34:40.035650Z"
    }
   },
   "outputs": [],
   "source": []
  },
  {
   "cell_type": "code",
   "execution_count": null,
   "metadata": {
    "ExecuteTime": {
     "end_time": "2021-07-26T08:35:39.537564Z",
     "start_time": "2021-07-26T08:35:39.534036Z"
    }
   },
   "outputs": [],
   "source": []
  },
  {
   "cell_type": "code",
   "execution_count": null,
   "metadata": {
    "ExecuteTime": {
     "end_time": "2021-07-26T08:35:42.101925Z",
     "start_time": "2021-07-26T08:35:42.090000Z"
    }
   },
   "outputs": [],
   "source": []
  },
  {
   "cell_type": "code",
   "execution_count": 15,
   "metadata": {
    "ExecuteTime": {
     "end_time": "2022-01-26T19:01:58.777170Z",
     "start_time": "2022-01-26T19:01:58.757222Z"
    }
   },
   "outputs": [
    {
     "data": {
      "text/plain": [
       "Pipeline(steps=[('polynomialfeatures', PolynomialFeatures()),\n",
       "                ('linearregression', LinearRegression())])"
      ]
     },
     "execution_count": 15,
     "metadata": {},
     "output_type": "execute_result"
    }
   ],
   "source": [
    "model.fit(X, y)"
   ]
  },
  {
   "cell_type": "code",
   "execution_count": 16,
   "metadata": {
    "ExecuteTime": {
     "end_time": "2022-01-26T19:01:58.791195Z",
     "start_time": "2022-01-26T19:01:58.781111Z"
    }
   },
   "outputs": [
    {
     "data": {
      "text/plain": [
       "0.9982242621455882"
      ]
     },
     "execution_count": 16,
     "metadata": {},
     "output_type": "execute_result"
    }
   ],
   "source": [
    "model.score(X, y)"
   ]
  },
  {
   "cell_type": "code",
   "execution_count": 17,
   "metadata": {
    "ExecuteTime": {
     "end_time": "2022-01-26T19:01:59.087710Z",
     "start_time": "2022-01-26T19:01:58.795341Z"
    }
   },
   "outputs": [
    {
     "data": {
      "image/png": "[encoded data removed]",
      "text/plain": [
       "<Figure size 432x288 with 1 Axes>"
      ]
     },
     "metadata": {
      "needs_background": "light"
     },
     "output_type": "display_data"
    }
   ],
   "source": [
    "fig, axe = plt.subplots()\n",
    "axe.plot(X, y, '.')\n",
    "axe.plot(X, model.predict(X))\n",
    "axe.grid()"
   ]
  },
  {
   "cell_type": "code",
   "execution_count": 18,
   "metadata": {
    "ExecuteTime": {
     "end_time": "2022-01-26T19:01:59.106516Z",
     "start_time": "2022-01-26T19:01:59.095559Z"
    }
   },
   "outputs": [
    {
     "data": {
      "text/plain": [
       "0.0"
      ]
     },
     "execution_count": 18,
     "metadata": {},
     "output_type": "execute_result"
    }
   ],
   "source": [
    "model.steps[-1][1].coef_[0]"
   ]
  },
  {
   "cell_type": "code",
   "execution_count": null,
   "metadata": {},
   "outputs": [],
   "source": []
  },
  {
   "cell_type": "code",
   "execution_count": null,
   "metadata": {},
   "outputs": [],
   "source": []
  }
 ],
 "metadata": {
  "hide_input": false,
  "kernelspec": {
   "display_name": "Python 3",
   "language": "python",
   "name": "python3"
  },
  "language_info": {
   "codemirror_mode": {
    "name": "ipython",
    "version": 3
   },
   "file_extension": ".py",
   "mimetype": "text/x-python",
   "name": "python",
   "nbconvert_exporter": "python",
   "pygments_lexer": "ipython3",
   "version": "3.6.9"
  },
  "toc": {
   "base_numbering": 1,
   "nav_menu": {},
   "number_sections": true,
   "sideBar": true,
   "skip_h1_title": false,
   "title_cell": "Table of Contents",
   "title_sidebar": "Contents",
   "toc_cell": false,
   "toc_position": {},
   "toc_section_display": true,
   "toc_window_display": false
  },
  "varInspector": {
   "cols": {
    "lenName": 16,
    "lenType": 16,
    "lenVar": 40
   },
   "kernels_config": {
    "python": {
     "delete_cmd_postfix": "",
     "delete_cmd_prefix": "del ",
     "library": "var_list.py",
     "varRefreshCmd": "print(var_dic_list())"
    },
    "r": {
     "delete_cmd_postfix": ") ",
     "delete_cmd_prefix": "rm(",
     "library": "var_list.r",
     "varRefreshCmd": "cat(var_dic_list()) "
    }
   },
   "types_to_exclude": [
    "module",
    "function",
    "builtin_function_or_method",
    "instance",
    "_Feature"
   ],
   "window_display": false
  }
 },
 "nbformat": 4,
 "nbformat_minor": 4
}
