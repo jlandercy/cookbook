{
 "cells": [
  {
   "cell_type": "code",
   "execution_count": 1,
   "metadata": {
    "ExecuteTime": {
     "end_time": "2020-09-18T07:27:33.602066Z",
     "start_time": "2020-09-18T07:27:30.802997Z"
    }
   },
   "outputs": [],
   "source": [
    "import numpy as np\n",
    "import scipy\n",
    "from scipy import stats\n",
    "from statsmodels.distributions.empirical_distribution import ECDF, monotone_fn_inverter\n",
    "import matplotlib.pyplot as plt"
   ]
  },
  {
   "cell_type": "code",
   "execution_count": 2,
   "metadata": {
    "ExecuteTime": {
     "end_time": "2020-09-18T07:27:33.639117Z",
     "start_time": "2020-09-18T07:27:33.621110Z"
    }
   },
   "outputs": [],
   "source": [
    "np.random.seed(123456789)"
   ]
  },
  {
   "cell_type": "code",
   "execution_count": 3,
   "metadata": {
    "ExecuteTime": {
     "end_time": "2020-09-18T07:27:33.672551Z",
     "start_time": "2020-09-18T07:27:33.647486Z"
    }
   },
   "outputs": [],
   "source": [
    "n = 10000\n",
    "X = stats.lognorm(s=0.95)\n",
    "x = X.rvs(10000)\n",
    "xr = np.round(x, decimals=2)\n",
    "xl = np.linspace(x.min(), x.max(),501)\n",
    "pl = np.linspace(0, 1, 1001)"
   ]
  },
  {
   "cell_type": "code",
   "execution_count": 4,
   "metadata": {
    "ExecuteTime": {
     "end_time": "2020-09-18T07:27:34.587021Z",
     "start_time": "2020-09-18T07:27:33.717156Z"
    }
   },
   "outputs": [
    {
     "data": {
      "text/plain": [
       "(0.0, 10.0)"
      ]
     },
     "execution_count": 4,
     "metadata": {},
     "output_type": "execute_result"
    },
    {
     "data": {
      "image/png": "[encoded data removed]",
      "text/plain": [
       "<Figure size 432x288 with 1 Axes>"
      ]
     },
     "metadata": {
      "needs_background": "light"
     },
     "output_type": "display_data"
    }
   ],
   "source": [
    "fig, axe = plt.subplots()\n",
    "c = axe.hist(xr, bins=100, density=1)\n",
    "axe.plot(xl, X.pdf(xl))\n",
    "axe.set_xlim([0, 10])"
   ]
  },
  {
   "cell_type": "code",
   "execution_count": 5,
   "metadata": {
    "ExecuteTime": {
     "end_time": "2020-09-18T07:27:34.602713Z",
     "start_time": "2020-09-18T07:27:34.594111Z"
    }
   },
   "outputs": [],
   "source": [
    "xecdf = ECDF(xr)"
   ]
  },
  {
   "cell_type": "code",
   "execution_count": 6,
   "metadata": {
    "ExecuteTime": {
     "end_time": "2020-09-18T07:27:34.620559Z",
     "start_time": "2020-09-18T07:27:34.609365Z"
    }
   },
   "outputs": [
    {
     "data": {
      "text/plain": [
       "array([     -inf, 4.000e-02, 4.000e-02, ..., 3.059e+01, 3.577e+01,\n",
       "       4.499e+01])"
      ]
     },
     "execution_count": 6,
     "metadata": {},
     "output_type": "execute_result"
    }
   ],
   "source": [
    "xecdf.x"
   ]
  },
  {
   "cell_type": "code",
   "execution_count": 7,
   "metadata": {
    "ExecuteTime": {
     "end_time": "2020-09-18T07:27:34.639978Z",
     "start_time": "2020-09-18T07:27:34.624058Z"
    }
   },
   "outputs": [
    {
     "data": {
      "text/plain": [
       "array([-inf, 0.04, 0.04, 0.04, 0.05, 0.05, 0.05, 0.05, 0.05, 0.05, 0.05,\n",
       "       0.06, 0.06, 0.06, 0.06, 0.06, 0.06, 0.06, 0.06, 0.06, 0.06, 0.06,\n",
       "       0.07, 0.07, 0.07, 0.07, 0.07, 0.07, 0.07, 0.07, 0.07, 0.07, 0.07,\n",
       "       0.07, 0.08, 0.08, 0.08, 0.08, 0.08, 0.08, 0.08, 0.08, 0.08, 0.08,\n",
       "       0.08, 0.08, 0.08, 0.08, 0.08, 0.08, 0.08, 0.08, 0.09, 0.09, 0.09,\n",
       "       0.09, 0.09, 0.09, 0.09, 0.09, 0.09, 0.09, 0.09, 0.09, 0.09, 0.09,\n",
       "       0.1 , 0.1 , 0.1 , 0.1 , 0.1 , 0.1 , 0.1 , 0.1 , 0.1 , 0.1 , 0.1 ,\n",
       "       0.1 , 0.1 , 0.1 , 0.1 , 0.1 , 0.1 , 0.1 , 0.1 , 0.1 , 0.1 , 0.1 ,\n",
       "       0.1 , 0.1 , 0.1 , 0.1 , 0.1 , 0.1 , 0.1 , 0.11, 0.11, 0.11, 0.11,\n",
       "       0.11, 0.11, 0.11, 0.11, 0.11, 0.11, 0.11, 0.11, 0.11, 0.11, 0.11,\n",
       "       0.11, 0.11, 0.11, 0.11, 0.11, 0.11, 0.11, 0.12, 0.12, 0.12, 0.12,\n",
       "       0.12, 0.12, 0.12, 0.12, 0.12, 0.12, 0.12, 0.12, 0.12, 0.12, 0.12,\n",
       "       0.12, 0.12, 0.12, 0.12, 0.12, 0.12, 0.12, 0.12, 0.12, 0.12, 0.12,\n",
       "       0.12, 0.12, 0.12, 0.12, 0.12, 0.12, 0.12, 0.12, 0.13, 0.13, 0.13,\n",
       "       0.13, 0.13, 0.13, 0.13, 0.13, 0.13, 0.13, 0.13, 0.13, 0.13, 0.13,\n",
       "       0.13, 0.13, 0.13, 0.13, 0.13, 0.13, 0.13, 0.13, 0.13, 0.13, 0.13,\n",
       "       0.13, 0.13, 0.13, 0.13, 0.13, 0.13, 0.13, 0.13, 0.14, 0.14, 0.14,\n",
       "       0.14, 0.14, 0.14, 0.14, 0.14, 0.14, 0.14, 0.14, 0.14, 0.14, 0.14,\n",
       "       0.14, 0.14])"
      ]
     },
     "execution_count": 7,
     "metadata": {},
     "output_type": "execute_result"
    }
   ],
   "source": [
    "xecdf.x[:200]"
   ]
  },
  {
   "cell_type": "code",
   "execution_count": 8,
   "metadata": {
    "ExecuteTime": {
     "end_time": "2020-09-18T07:27:34.658713Z",
     "start_time": "2020-09-18T07:27:34.647391Z"
    }
   },
   "outputs": [
    {
     "data": {
      "text/plain": [
       "array([0.000e+00, 1.000e-04, 2.000e-04, ..., 9.998e-01, 9.999e-01,\n",
       "       1.000e+00])"
      ]
     },
     "execution_count": 8,
     "metadata": {},
     "output_type": "execute_result"
    }
   ],
   "source": [
    "xecdf.y"
   ]
  },
  {
   "cell_type": "code",
   "execution_count": null,
   "metadata": {},
   "outputs": [],
   "source": []
  },
  {
   "cell_type": "code",
   "execution_count": 9,
   "metadata": {
    "ExecuteTime": {
     "end_time": "2020-09-18T07:27:34.681954Z",
     "start_time": "2020-09-18T07:27:34.663783Z"
    }
   },
   "outputs": [],
   "source": [
    "xhist = np.histogram(xr, bins=100)\n",
    "xdist = stats.rv_histogram(xhist)\n",
    "xinv = xdist.ppf(pl)"
   ]
  },
  {
   "cell_type": "code",
   "execution_count": null,
   "metadata": {},
   "outputs": [],
   "source": []
  },
  {
   "cell_type": "code",
   "execution_count": 10,
   "metadata": {
    "ExecuteTime": {
     "end_time": "2020-09-18T07:27:34.695969Z",
     "start_time": "2020-09-18T07:27:34.687930Z"
    }
   },
   "outputs": [],
   "source": [
    "xecdf_inv = monotone_fn_inverter(xecdf, xl)"
   ]
  },
  {
   "cell_type": "code",
   "execution_count": 11,
   "metadata": {
    "ExecuteTime": {
     "end_time": "2020-09-18T07:27:34.705766Z",
     "start_time": "2020-09-18T07:27:34.699082Z"
    }
   },
   "outputs": [],
   "source": [
    "eps = np.finfo(np.float).eps"
   ]
  },
  {
   "cell_type": "code",
   "execution_count": 12,
   "metadata": {
    "ExecuteTime": {
     "end_time": "2020-09-18T07:27:34.751393Z",
     "start_time": "2020-09-18T07:27:34.709834Z"
    }
   },
   "outputs": [
    {
     "data": {
      "text/plain": [
       "array([0.001, 0.002, 0.003, 0.004, 0.005, 0.006, 0.007, 0.008, 0.009,\n",
       "       0.01 , 0.011, 0.012, 0.013, 0.014, 0.015, 0.016, 0.017, 0.018,\n",
       "       0.019, 0.02 , 0.021, 0.022, 0.023, 0.024, 0.025, 0.026, 0.027,\n",
       "       0.028, 0.029, 0.03 , 0.031, 0.032, 0.033, 0.034, 0.035, 0.036,\n",
       "       0.037, 0.038, 0.039, 0.04 , 0.041, 0.042, 0.043, 0.044, 0.045,\n",
       "       0.046, 0.047, 0.048, 0.049, 0.05 , 0.051, 0.052, 0.053, 0.054,\n",
       "       0.055, 0.056, 0.057, 0.058, 0.059, 0.06 , 0.061, 0.062, 0.063,\n",
       "       0.064, 0.065, 0.066, 0.067, 0.068, 0.069, 0.07 , 0.071, 0.072,\n",
       "       0.073, 0.074, 0.075, 0.076, 0.077, 0.078, 0.079, 0.08 , 0.081,\n",
       "       0.082, 0.083, 0.084, 0.085, 0.086, 0.087, 0.088, 0.089, 0.09 ,\n",
       "       0.091, 0.092, 0.093, 0.094, 0.095, 0.096, 0.097, 0.098, 0.099,\n",
       "       0.1  , 0.101, 0.102, 0.103, 0.104, 0.105, 0.106, 0.107, 0.108,\n",
       "       0.109, 0.11 , 0.111, 0.112, 0.113, 0.114, 0.115, 0.116, 0.117,\n",
       "       0.118, 0.119, 0.12 , 0.121, 0.122, 0.123, 0.124, 0.125, 0.126,\n",
       "       0.127, 0.128, 0.129, 0.13 , 0.131, 0.132, 0.133, 0.134, 0.135,\n",
       "       0.136, 0.137, 0.138, 0.139, 0.14 , 0.141, 0.142, 0.143, 0.144,\n",
       "       0.145, 0.146, 0.147, 0.148, 0.149, 0.15 , 0.151, 0.152, 0.153,\n",
       "       0.154, 0.155, 0.156, 0.157, 0.158, 0.159, 0.16 , 0.161, 0.162,\n",
       "       0.163, 0.164, 0.165, 0.166, 0.167, 0.168, 0.169, 0.17 , 0.171,\n",
       "       0.172, 0.173, 0.174, 0.175, 0.176, 0.177, 0.178, 0.179, 0.18 ,\n",
       "       0.181, 0.182, 0.183, 0.184, 0.185, 0.186, 0.187, 0.188, 0.189,\n",
       "       0.19 , 0.191, 0.192, 0.193, 0.194, 0.195, 0.196, 0.197, 0.198,\n",
       "       0.199, 0.2  , 0.201, 0.202, 0.203, 0.204, 0.205, 0.206, 0.207,\n",
       "       0.208, 0.209, 0.21 , 0.211, 0.212, 0.213, 0.214, 0.215, 0.216,\n",
       "       0.217, 0.218, 0.219, 0.22 , 0.221, 0.222, 0.223, 0.224, 0.225,\n",
       "       0.226, 0.227, 0.228, 0.229, 0.23 , 0.231, 0.232, 0.233, 0.234,\n",
       "       0.235, 0.236, 0.237, 0.238, 0.239, 0.24 , 0.241, 0.242, 0.243,\n",
       "       0.244, 0.245, 0.246, 0.247, 0.248, 0.249, 0.25 , 0.251, 0.252,\n",
       "       0.253, 0.254, 0.255, 0.256, 0.257, 0.258, 0.259, 0.26 , 0.261,\n",
       "       0.262, 0.263, 0.264, 0.265, 0.266, 0.267, 0.268, 0.269, 0.27 ,\n",
       "       0.271, 0.272, 0.273, 0.274, 0.275, 0.276, 0.277, 0.278, 0.279,\n",
       "       0.28 , 0.281, 0.282, 0.283, 0.284, 0.285, 0.286, 0.287, 0.288,\n",
       "       0.289, 0.29 , 0.291, 0.292, 0.293, 0.294, 0.295, 0.296, 0.297,\n",
       "       0.298, 0.299, 0.3  , 0.301, 0.302, 0.303, 0.304, 0.305, 0.306,\n",
       "       0.307, 0.308, 0.309, 0.31 , 0.311, 0.312, 0.313, 0.314, 0.315,\n",
       "       0.316, 0.317, 0.318, 0.319, 0.32 , 0.321, 0.322, 0.323, 0.324,\n",
       "       0.325, 0.326, 0.327, 0.328, 0.329, 0.33 , 0.331, 0.332, 0.333,\n",
       "       0.334, 0.335, 0.336, 0.337, 0.338, 0.339, 0.34 , 0.341, 0.342,\n",
       "       0.343, 0.344, 0.345, 0.346, 0.347, 0.348, 0.349, 0.35 , 0.351,\n",
       "       0.352, 0.353, 0.354, 0.355, 0.356, 0.357, 0.358, 0.359, 0.36 ,\n",
       "       0.361, 0.362, 0.363, 0.364, 0.365, 0.366, 0.367, 0.368, 0.369,\n",
       "       0.37 , 0.371, 0.372, 0.373, 0.374, 0.375, 0.376, 0.377, 0.378,\n",
       "       0.379, 0.38 , 0.381, 0.382, 0.383, 0.384, 0.385, 0.386, 0.387,\n",
       "       0.388, 0.389, 0.39 , 0.391, 0.392, 0.393, 0.394, 0.395, 0.396,\n",
       "       0.397, 0.398, 0.399, 0.4  , 0.401, 0.402, 0.403, 0.404, 0.405,\n",
       "       0.406, 0.407, 0.408, 0.409, 0.41 , 0.411, 0.412, 0.413, 0.414,\n",
       "       0.415, 0.416, 0.417, 0.418, 0.419, 0.42 , 0.421, 0.422, 0.423,\n",
       "       0.424, 0.425, 0.426, 0.427, 0.428, 0.429, 0.43 , 0.431, 0.432,\n",
       "       0.433, 0.434, 0.435, 0.436, 0.437, 0.438, 0.439, 0.44 , 0.441,\n",
       "       0.442, 0.443, 0.444, 0.445, 0.446, 0.447, 0.448, 0.449, 0.45 ,\n",
       "       0.451, 0.452, 0.453, 0.454, 0.455, 0.456, 0.457, 0.458, 0.459,\n",
       "       0.46 , 0.461, 0.462, 0.463, 0.464, 0.465, 0.466, 0.467, 0.468,\n",
       "       0.469, 0.47 , 0.471, 0.472, 0.473, 0.474, 0.475, 0.476, 0.477,\n",
       "       0.478, 0.479, 0.48 , 0.481, 0.482, 0.483, 0.484, 0.485, 0.486,\n",
       "       0.487, 0.488, 0.489, 0.49 , 0.491, 0.492, 0.493, 0.494, 0.495,\n",
       "       0.496, 0.497, 0.498, 0.499, 0.5  , 0.501, 0.502, 0.503, 0.504,\n",
       "       0.505, 0.506, 0.507, 0.508, 0.509, 0.51 , 0.511, 0.512, 0.513,\n",
       "       0.514, 0.515, 0.516, 0.517, 0.518, 0.519, 0.52 , 0.521, 0.522,\n",
       "       0.523, 0.524, 0.525, 0.526, 0.527, 0.528, 0.529, 0.53 , 0.531,\n",
       "       0.532, 0.533, 0.534, 0.535, 0.536, 0.537, 0.538, 0.539, 0.54 ,\n",
       "       0.541, 0.542, 0.543, 0.544, 0.545, 0.546, 0.547, 0.548, 0.549,\n",
       "       0.55 , 0.551, 0.552, 0.553, 0.554, 0.555, 0.556, 0.557, 0.558,\n",
       "       0.559, 0.56 , 0.561, 0.562, 0.563, 0.564, 0.565, 0.566, 0.567,\n",
       "       0.568, 0.569, 0.57 , 0.571, 0.572, 0.573, 0.574, 0.575, 0.576,\n",
       "       0.577, 0.578, 0.579, 0.58 , 0.581, 0.582, 0.583, 0.584, 0.585,\n",
       "       0.586, 0.587, 0.588, 0.589, 0.59 , 0.591, 0.592, 0.593, 0.594,\n",
       "       0.595, 0.596, 0.597, 0.598, 0.599, 0.6  , 0.601, 0.602, 0.603,\n",
       "       0.604, 0.605, 0.606, 0.607, 0.608, 0.609, 0.61 , 0.611, 0.612,\n",
       "       0.613, 0.614, 0.615, 0.616, 0.617, 0.618, 0.619, 0.62 , 0.621,\n",
       "       0.622, 0.623, 0.624, 0.625, 0.626, 0.627, 0.628, 0.629, 0.63 ,\n",
       "       0.631, 0.632, 0.633, 0.634, 0.635, 0.636, 0.637, 0.638, 0.639,\n",
       "       0.64 , 0.641, 0.642, 0.643, 0.644, 0.645, 0.646, 0.647, 0.648,\n",
       "       0.649, 0.65 , 0.651, 0.652, 0.653, 0.654, 0.655, 0.656, 0.657,\n",
       "       0.658, 0.659, 0.66 , 0.661, 0.662, 0.663, 0.664, 0.665, 0.666,\n",
       "       0.667, 0.668, 0.669, 0.67 , 0.671, 0.672, 0.673, 0.674, 0.675,\n",
       "       0.676, 0.677, 0.678, 0.679, 0.68 , 0.681, 0.682, 0.683, 0.684,\n",
       "       0.685, 0.686, 0.687, 0.688, 0.689, 0.69 , 0.691, 0.692, 0.693,\n",
       "       0.694, 0.695, 0.696, 0.697, 0.698, 0.699, 0.7  , 0.701, 0.702,\n",
       "       0.703, 0.704, 0.705, 0.706, 0.707, 0.708, 0.709, 0.71 , 0.711,\n",
       "       0.712, 0.713, 0.714, 0.715, 0.716, 0.717, 0.718, 0.719, 0.72 ,\n",
       "       0.721, 0.722, 0.723, 0.724, 0.725, 0.726, 0.727, 0.728, 0.729,\n",
       "       0.73 , 0.731, 0.732, 0.733, 0.734, 0.735, 0.736, 0.737, 0.738,\n",
       "       0.739, 0.74 , 0.741, 0.742, 0.743, 0.744, 0.745, 0.746, 0.747,\n",
       "       0.748, 0.749, 0.75 , 0.751, 0.752, 0.753, 0.754, 0.755, 0.756,\n",
       "       0.757, 0.758, 0.759, 0.76 , 0.761, 0.762, 0.763, 0.764, 0.765,\n",
       "       0.766, 0.767, 0.768, 0.769, 0.77 , 0.771, 0.772, 0.773, 0.774,\n",
       "       0.775, 0.776, 0.777, 0.778, 0.779, 0.78 , 0.781, 0.782, 0.783,\n",
       "       0.784, 0.785, 0.786, 0.787, 0.788, 0.789, 0.79 , 0.791, 0.792,\n",
       "       0.793, 0.794, 0.795, 0.796, 0.797, 0.798, 0.799, 0.8  , 0.801,\n",
       "       0.802, 0.803, 0.804, 0.805, 0.806, 0.807, 0.808, 0.809, 0.81 ,\n",
       "       0.811, 0.812, 0.813, 0.814, 0.815, 0.816, 0.817, 0.818, 0.819,\n",
       "       0.82 , 0.821, 0.822, 0.823, 0.824, 0.825, 0.826, 0.827, 0.828,\n",
       "       0.829, 0.83 , 0.831, 0.832, 0.833, 0.834, 0.835, 0.836, 0.837,\n",
       "       0.838, 0.839, 0.84 , 0.841, 0.842, 0.843, 0.844, 0.845, 0.846,\n",
       "       0.847, 0.848, 0.849, 0.85 , 0.851, 0.852, 0.853, 0.854, 0.855,\n",
       "       0.856, 0.857, 0.858, 0.859, 0.86 , 0.861, 0.862, 0.863, 0.864,\n",
       "       0.865, 0.866, 0.867, 0.868, 0.869, 0.87 , 0.871, 0.872, 0.873,\n",
       "       0.874, 0.875, 0.876, 0.877, 0.878, 0.879, 0.88 , 0.881, 0.882,\n",
       "       0.883, 0.884, 0.885, 0.886, 0.887, 0.888, 0.889, 0.89 , 0.891,\n",
       "       0.892, 0.893, 0.894, 0.895, 0.896, 0.897, 0.898, 0.899, 0.9  ,\n",
       "       0.901, 0.902, 0.903, 0.904, 0.905, 0.906, 0.907, 0.908, 0.909,\n",
       "       0.91 , 0.911, 0.912, 0.913, 0.914, 0.915, 0.916, 0.917, 0.918,\n",
       "       0.919, 0.92 , 0.921, 0.922, 0.923, 0.924, 0.925, 0.926, 0.927,\n",
       "       0.928, 0.929, 0.93 , 0.931, 0.932, 0.933, 0.934, 0.935, 0.936,\n",
       "       0.937, 0.938, 0.939, 0.94 , 0.941, 0.942, 0.943, 0.944, 0.945,\n",
       "       0.946, 0.947, 0.948, 0.949, 0.95 , 0.951, 0.952, 0.953, 0.954,\n",
       "       0.955, 0.956, 0.957, 0.958, 0.959, 0.96 , 0.961, 0.962, 0.963,\n",
       "       0.964, 0.965, 0.966, 0.967, 0.968, 0.969, 0.97 , 0.971, 0.972,\n",
       "       0.973, 0.974, 0.975, 0.976, 0.977, 0.978, 0.979, 0.98 , 0.981,\n",
       "       0.982, 0.983, 0.984, 0.985, 0.986, 0.987, 0.988, 0.989, 0.99 ,\n",
       "       0.991, 0.992, 0.993, 0.994, 0.995, 0.996, 0.997, 0.998, 0.999])"
      ]
     },
     "execution_count": 12,
     "metadata": {},
     "output_type": "execute_result"
    }
   ],
   "source": [
    "plr = np.linspace(0.001, 0.999, 999)\n",
    "xlr = xecdf_inv(plr)\n",
    "plr"
   ]
  },
  {
   "cell_type": "code",
   "execution_count": 13,
   "metadata": {
    "ExecuteTime": {
     "end_time": "2020-09-18T07:27:34.963461Z",
     "start_time": "2020-09-18T07:27:34.757886Z"
    }
   },
   "outputs": [
    {
     "data": {
      "image/png": "[encoded data removed]",
      "text/plain": [
       "<Figure size 432x288 with 1 Axes>"
      ]
     },
     "metadata": {
      "needs_background": "light"
     },
     "output_type": "display_data"
    }
   ],
   "source": [
    "fig, axe = plt.subplots()\n",
    "axe.plot(xecdf.x, xecdf.y)\n",
    "axe.plot(xlr, plr)\n",
    "axe.plot(xinv, pl)\n",
    "axe.set_xlim([0, 10])\n",
    "axe.grid()"
   ]
  },
  {
   "cell_type": "code",
   "execution_count": 23,
   "metadata": {
    "ExecuteTime": {
     "end_time": "2020-09-18T07:29:02.036446Z",
     "start_time": "2020-09-18T07:28:59.530054Z"
    }
   },
   "outputs": [
    {
     "data": {
      "image/png": "[encoded data removed]",
      "text/plain": [
       "<Figure size 432x288 with 1 Axes>"
      ]
     },
     "metadata": {
      "needs_background": "light"
     },
     "output_type": "display_data"
    }
   ],
   "source": [
    "fig, axe = plt.subplots()\n",
    "axe.loglog(xecdf.x, xecdf.y, label=\"statsmodels\")\n",
    "axe.plot(xlr, plr, label=\"naive\")\n",
    "axe.plot(xinv, pl, label=\"scipy.stats\")\n",
    "axe.set_title(\"CDF estimations\")\n",
    "axe.set_xlabel(\"$x$\")\n",
    "axe.set_ylabel(\"$F(x)$\")\n",
    "axe.legend()\n",
    "axe.grid()"
   ]
  },
  {
   "cell_type": "code",
   "execution_count": 15,
   "metadata": {
    "ExecuteTime": {
     "end_time": "2020-09-18T07:27:36.702106Z",
     "start_time": "2020-09-18T07:27:36.446329Z"
    }
   },
   "outputs": [
    {
     "name": "stderr",
     "output_type": "stream",
     "text": [
      "/usr/local/lib/python3.6/dist-packages/ipykernel_launcher.py:2: RuntimeWarning: divide by zero encountered in true_divide\n",
      "  \n"
     ]
    },
    {
     "data": {
      "text/plain": [
       "[<matplotlib.lines.Line2D at 0x7fc60d453470>]"
      ]
     },
     "execution_count": 15,
     "metadata": {},
     "output_type": "execute_result"
    },
    {
     "data": {
      "image/png": "[encoded data removed]",
      "text/plain": [
       "<Figure size 432x288 with 1 Axes>"
      ]
     },
     "metadata": {
      "needs_background": "light"
     },
     "output_type": "display_data"
    }
   ],
   "source": [
    "fig, axe = plt.subplots()\n",
    "axe.plot(xecdf.x[:-1], np.diff(xecdf.y)/np.diff(xecdf.x))\n",
    "axe.plot(xlr[:-1], np.diff(plr)/np.diff(xlr))\n",
    "axe.plot(xinv[:-1], np.diff(pl)/np.diff(xinv))"
   ]
  },
  {
   "cell_type": "code",
   "execution_count": 16,
   "metadata": {
    "ExecuteTime": {
     "end_time": "2020-09-18T07:27:37.218693Z",
     "start_time": "2020-09-18T07:27:36.709322Z"
    }
   },
   "outputs": [
    {
     "data": {
      "text/plain": [
       "(0.0, 10.0)"
      ]
     },
     "execution_count": 16,
     "metadata": {},
     "output_type": "execute_result"
    },
    {
     "data": {
      "image/png": "[encoded data removed]",
      "text/plain": [
       "<Figure size 432x288 with 1 Axes>"
      ]
     },
     "metadata": {
      "needs_background": "light"
     },
     "output_type": "display_data"
    }
   ],
   "source": [
    "fig, axe = plt.subplots()\n",
    "c = axe.hist(xr, bins=100, density=1)\n",
    "axe.plot(xl, X.pdf(xl))\n",
    "axe.plot(xlr[:-1], np.diff(plr)/np.diff(xlr))\n",
    "axe.plot(xinv[:-1], np.diff(pl)/np.diff(xinv))\n",
    "axe.set_xlim([0, 10])"
   ]
  },
  {
   "cell_type": "code",
   "execution_count": null,
   "metadata": {},
   "outputs": [],
   "source": []
  },
  {
   "cell_type": "code",
   "execution_count": null,
   "metadata": {},
   "outputs": [],
   "source": []
  },
  {
   "cell_type": "code",
   "execution_count": 17,
   "metadata": {
    "ExecuteTime": {
     "end_time": "2020-09-18T07:27:37.238090Z",
     "start_time": "2020-09-18T07:27:37.226353Z"
    }
   },
   "outputs": [
    {
     "data": {
      "text/plain": [
       "(array([2.09899889e-01, 1.03225806e-02, 1.57953281e-03, 3.33704116e-04,\n",
       "        2.00222469e-04, 6.67408231e-05, 2.22469410e-05, 2.22469410e-05,\n",
       "        0.00000000e+00, 2.22469410e-05]),\n",
       " array([4.0000e-02, 4.5350e+00, 9.0300e+00, 1.3525e+01, 1.8020e+01,\n",
       "        2.2515e+01, 2.7010e+01, 3.1505e+01, 3.6000e+01, 4.0495e+01,\n",
       "        4.4990e+01]))"
      ]
     },
     "execution_count": 17,
     "metadata": {},
     "output_type": "execute_result"
    }
   ],
   "source": [
    "c, b = np.histogram(xr, density=1.)\n",
    "c, b"
   ]
  },
  {
   "cell_type": "code",
   "execution_count": 18,
   "metadata": {
    "ExecuteTime": {
     "end_time": "2020-09-18T07:27:37.253513Z",
     "start_time": "2020-09-18T07:27:37.244667Z"
    }
   },
   "outputs": [],
   "source": [
    "xs = np.sort(xr)\n",
    "px = np.linspace(0, 1, xs.size)\n",
    "ecdf = scipy.interpolate.interp1d(xs, px, kind='linear')"
   ]
  },
  {
   "cell_type": "code",
   "execution_count": 19,
   "metadata": {
    "ExecuteTime": {
     "end_time": "2020-09-18T07:27:37.269444Z",
     "start_time": "2020-09-18T07:27:37.260210Z"
    }
   },
   "outputs": [],
   "source": [
    "xl = np.linspace(min(xs), max(xs), 500)\n",
    "pxl = ecdf(xl)"
   ]
  },
  {
   "cell_type": "code",
   "execution_count": 20,
   "metadata": {
    "ExecuteTime": {
     "end_time": "2020-09-18T07:27:37.464788Z",
     "start_time": "2020-09-18T07:27:37.276705Z"
    }
   },
   "outputs": [
    {
     "data": {
      "text/plain": [
       "[<matplotlib.lines.Line2D at 0x7fc60cfbfe48>]"
      ]
     },
     "execution_count": 20,
     "metadata": {},
     "output_type": "execute_result"
    },
    {
     "data": {
      "image/png": "[encoded data removed]",
      "text/plain": [
       "<Figure size 432x288 with 1 Axes>"
      ]
     },
     "metadata": {
      "needs_background": "light"
     },
     "output_type": "display_data"
    }
   ],
   "source": [
    "fig, axe = plt.subplots()\n",
    "axe.plot(xs, px)\n",
    "axe.plot(xl, pxl)"
   ]
  },
  {
   "cell_type": "code",
   "execution_count": 21,
   "metadata": {
    "ExecuteTime": {
     "end_time": "2020-09-18T07:27:37.651802Z",
     "start_time": "2020-09-18T07:27:37.471857Z"
    }
   },
   "outputs": [
    {
     "data": {
      "text/plain": [
       "[<matplotlib.lines.Line2D at 0x7fc60cfe3a20>]"
      ]
     },
     "execution_count": 21,
     "metadata": {},
     "output_type": "execute_result"
    },
    {
     "data": {
      "image/png": "[encoded data removed]",
      "text/plain": [
       "<Figure size 432x288 with 1 Axes>"
      ]
     },
     "metadata": {
      "needs_background": "light"
     },
     "output_type": "display_data"
    }
   ],
   "source": [
    "fig, axe = plt.subplots()\n",
    "axe.plot(xl[:-1], np.diff(pxl)/np.diff(xl))"
   ]
  },
  {
   "cell_type": "code",
   "execution_count": null,
   "metadata": {},
   "outputs": [],
   "source": []
  },
  {
   "cell_type": "code",
   "execution_count": null,
   "metadata": {},
   "outputs": [],
   "source": []
  },
  {
   "cell_type": "code",
   "execution_count": null,
   "metadata": {},
   "outputs": [],
   "source": []
  }
 ],
 "metadata": {
  "hide_input": false,
  "kernelspec": {
   "display_name": "Python 3",
   "language": "python",
   "name": "python3"
  },
  "language_info": {
   "codemirror_mode": {
    "name": "ipython",
    "version": 3
   },
   "file_extension": ".py",
   "mimetype": "text/x-python",
   "name": "python",
   "nbconvert_exporter": "python",
   "pygments_lexer": "ipython3",
   "version": "3.6.9"
  },
  "toc": {
   "base_numbering": 1,
   "nav_menu": {},
   "number_sections": true,
   "sideBar": true,
   "skip_h1_title": false,
   "title_cell": "Table of Contents",
   "title_sidebar": "Contents",
   "toc_cell": false,
   "toc_position": {},
   "toc_section_display": true,
   "toc_window_display": false
  },
  "varInspector": {
   "cols": {
    "lenName": 16,
    "lenType": 16,
    "lenVar": 40
   },
   "kernels_config": {
    "python": {
     "delete_cmd_postfix": "",
     "delete_cmd_prefix": "del ",
     "library": "var_list.py",
     "varRefreshCmd": "print(var_dic_list())"
    },
    "r": {
     "delete_cmd_postfix": ") ",
     "delete_cmd_prefix": "rm(",
     "library": "var_list.r",
     "varRefreshCmd": "cat(var_dic_list()) "
    }
   },
   "types_to_exclude": [
    "module",
    "function",
    "builtin_function_or_method",
    "instance",
    "_Feature"
   ],
   "window_display": false
  }
 },
 "nbformat": 4,
 "nbformat_minor": 2
}
