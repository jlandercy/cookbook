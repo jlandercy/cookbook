{
 "cells": [
  {
   "cell_type": "code",
   "execution_count": 1,
   "metadata": {},
   "outputs": [],
   "source": [
    "import numpy as np\n",
    "from scipy import stats, integrate\n",
    "import matplotlib.pyplot as plt\n",
    "%matplotlib inline"
   ]
  },
  {
   "cell_type": "markdown",
   "metadata": {},
   "source": [
    "## References \n",
    "\n",
    " - https://math.stackexchange.com/questions/3152412/use-monte-carlo-stimulation-to-estimate-mixture-distributions\n",
    " - https://docs.scipy.org/doc/scipy/reference/generated/scipy.stats.rv_continuous.html\n",
    " - https://docs.scipy.org/doc/scipy/reference/tutorial/stats.html#building-specific-distributions\n",
    " - https://wiki.analytica.com/index.php?title=Mixture_distribution\n",
    " - https://github.com/scipy/scipy/blob/v1.2.1/scipy/stats/_distn_infrastructure.py#L948\n",
    " - https://docs.scipy.org/doc/scipy/reference/generated/scipy.stats.rv_histogram.html\n",
    " \n",
    "## Checks\n",
    "\n",
    " - https://www.wolframalpha.com/input/?i=int(1%2Fx,x%3D1..e)\n",
    " - https://www.wolframalpha.com/input/?i=int((x%5E2*e%5Ex)%2F(e-2),x%3D0..1)"
   ]
  },
  {
   "cell_type": "markdown",
   "metadata": {},
   "source": [
    "Suppose we have the following PDFs\n",
    "\n",
    "$$f_1(x) = \\frac{1}{x}$$\n",
    "\n",
    "with support $[1,e]$, and\n",
    "\n",
    "$$f_2(x) = \\frac{x^2e^{x}}{e - 2}$$\n",
    "\n",
    "with support $[0,1].$ Use Monte Carlo simulation and R to visually estimate the density of the mixture distribution defined by the PDF:\n",
    "\n",
    "$$f(x) = 0.4f_1(x) + 0.6f_2(x)$$"
   ]
  },
  {
   "cell_type": "code",
   "execution_count": 2,
   "metadata": {},
   "outputs": [],
   "source": [
    "def f1(x):\n",
    "    return 1./x"
   ]
  },
  {
   "cell_type": "code",
   "execution_count": 3,
   "metadata": {},
   "outputs": [],
   "source": [
    "C1 = [1, np.exp(1)]"
   ]
  },
  {
   "cell_type": "code",
   "execution_count": 4,
   "metadata": {},
   "outputs": [],
   "source": [
    "def f2(x):\n",
    "    return x**2*np.exp(x)/(np.exp(1) - 2)"
   ]
  },
  {
   "cell_type": "code",
   "execution_count": 5,
   "metadata": {},
   "outputs": [],
   "source": [
    "C2 = [0, 1]"
   ]
  },
  {
   "cell_type": "code",
   "execution_count": 6,
   "metadata": {},
   "outputs": [],
   "source": [
    "x = np.linspace(-0.25, 3, 250)"
   ]
  },
  {
   "cell_type": "code",
   "execution_count": 7,
   "metadata": {},
   "outputs": [
    {
     "data": {
      "image/png": "[encoded data removed]",
      "text/plain": [
       "<Figure size 432x288 with 1 Axes>"
      ]
     },
     "metadata": {
      "needs_background": "light"
     },
     "output_type": "display_data"
    }
   ],
   "source": [
    "fig, axe = plt.subplots()\n",
    "axe.plot(x, 0.4*f1(x), label='$f_1(x)$')\n",
    "axe.plot(x, 0.6*f2(x), label='$f_2(x)$')\n",
    "axe.set_ylim([-10, 100])\n",
    "axe.legend()\n",
    "axe.grid()"
   ]
  },
  {
   "cell_type": "code",
   "execution_count": 8,
   "metadata": {},
   "outputs": [
    {
     "data": {
      "text/plain": [
       "(0.9999999999999998, 1.1102230246251562e-14)"
      ]
     },
     "execution_count": 8,
     "metadata": {},
     "output_type": "execute_result"
    }
   ],
   "source": [
    "I1 = integrate.quad(f1, *C1)\n",
    "I1"
   ]
  },
  {
   "cell_type": "code",
   "execution_count": 9,
   "metadata": {},
   "outputs": [
    {
     "data": {
      "text/plain": [
       "(1.0000000000000002, 1.1102230246251569e-14)"
      ]
     },
     "execution_count": 9,
     "metadata": {},
     "output_type": "execute_result"
    }
   ],
   "source": [
    "I2 = integrate.quad(f2, *C2)\n",
    "I2"
   ]
  },
  {
   "cell_type": "code",
   "execution_count": 10,
   "metadata": {},
   "outputs": [],
   "source": [
    "class rv1(stats.rv_continuous):\n",
    "    \"\"\"Home-made distribution\"\"\"\n",
    "    def _pdf(self, x):\n",
    "        return 1./x"
   ]
  },
  {
   "cell_type": "code",
   "execution_count": 11,
   "metadata": {},
   "outputs": [],
   "source": [
    "class rv2(stats.rv_continuous):\n",
    "    \"\"\"Home-made distribution\"\"\"\n",
    "    def _pdf(self, x):\n",
    "        return x**2*np.exp(x)/(np.exp(1) - 2)"
   ]
  },
  {
   "cell_type": "raw",
   "metadata": {},
   "source": [
    "class rvcombo(stats.rv_continuous):\n",
    "    \"\"\"Home-made distribution\"\"\"\n",
    "    def __init__(self, *args, **kwargs):\n",
    "        \n",
    "        super().__init__(*args, **kwargs)\n",
    "        self._X1 = rv1(a=1, b=np.exp(1))\n",
    "        self._X2 = rv2(a=0, b=1)\n",
    "        self._B = stats.bernoulli(p=0.6)\n",
    "        \n",
    "    def _rvs(self, *args, **kwargs):\n",
    "        n = self._size\n",
    "        b = self._B.rvs(n)\n",
    "        x = np.empty(n)\n",
    "        m = np.sum(b)\n",
    "        x[b==0] = self._X1.rvs(n[0]-m)\n",
    "        x[b==1] = self._X2.rvs(m)\n",
    "        return x"
   ]
  },
  {
   "cell_type": "code",
   "execution_count": 12,
   "metadata": {},
   "outputs": [],
   "source": [
    "def mixture(X1, X2, B, n=100):\n",
    "    b = B.rvs(size=n)\n",
    "    x = np.empty(n)\n",
    "    m = np.sum(b)\n",
    "    x[b==0] = X1.rvs(size=n-m)\n",
    "    x[b==1] = X2.rvs(size=m)\n",
    "    return x"
   ]
  },
  {
   "cell_type": "code",
   "execution_count": 13,
   "metadata": {},
   "outputs": [],
   "source": [
    "b = stats.bernoulli(p=0.6)"
   ]
  },
  {
   "cell_type": "code",
   "execution_count": 14,
   "metadata": {},
   "outputs": [],
   "source": [
    "x1 = rv1(a=1, b=np.exp(1))\n",
    "x2 = rv2(a=0, b=1)"
   ]
  },
  {
   "cell_type": "code",
   "execution_count": 15,
   "metadata": {},
   "outputs": [],
   "source": [
    "xrv = mixture(x1, x2, b, n=50000)"
   ]
  },
  {
   "cell_type": "code",
   "execution_count": 16,
   "metadata": {},
   "outputs": [],
   "source": [
    "kern = stats.gaussian_kde(xrv)"
   ]
  },
  {
   "cell_type": "code",
   "execution_count": 17,
   "metadata": {},
   "outputs": [],
   "source": [
    "hist = np.histogram(xrv, bins=50)"
   ]
  },
  {
   "cell_type": "code",
   "execution_count": 18,
   "metadata": {},
   "outputs": [],
   "source": [
    "xd = stats.rv_histogram(hist)"
   ]
  },
  {
   "cell_type": "code",
   "execution_count": null,
   "metadata": {},
   "outputs": [],
   "source": []
  },
  {
   "cell_type": "code",
   "execution_count": 19,
   "metadata": {},
   "outputs": [
    {
     "data": {
      "image/png": "[encoded data removed]",
      "text/plain": [
       "<Figure size 432x288 with 1 Axes>"
      ]
     },
     "metadata": {
      "needs_background": "light"
     },
     "output_type": "display_data"
    }
   ],
   "source": [
    "fig, axe = plt.subplots()\n",
    "axe.plot(x, 0.4*x1.pdf(x), linewidth=2, label=r\"$0.4 f_1(x)$\")\n",
    "axe.plot(x, 0.6*x2.pdf(x), linewidth=2, label=r\"$0.6 f_2(x)$\")\n",
    "axe.plot(x, xd.pdf(x), linewidth=1, label='RVS Histogram')\n",
    "axe.plot(x, kern.pdf(x), linewidth=1, label='RVS KDE')\n",
    "axe.set_title(\"Mixture of Distributions w/ disjoint supports\")\n",
    "axe.set_xlabel(\"Random Variable, $x$\")\n",
    "axe.set_ylabel(\"PDF, $f(x)$\")\n",
    "axe.legend()\n",
    "axe.grid()\n",
    "fig.savefig(\"mixture.png\", dpi=120)"
   ]
  },
  {
   "cell_type": "code",
   "execution_count": null,
   "metadata": {},
   "outputs": [],
   "source": []
  },
  {
   "cell_type": "code",
   "execution_count": null,
   "metadata": {},
   "outputs": [],
   "source": []
  }
 ],
 "metadata": {
  "hide_input": false,
  "kernelspec": {
   "display_name": "Python 3",
   "language": "python",
   "name": "python3"
  },
  "language_info": {
   "codemirror_mode": {
    "name": "ipython",
    "version": 3
   },
   "file_extension": ".py",
   "mimetype": "text/x-python",
   "name": "python",
   "nbconvert_exporter": "python",
   "pygments_lexer": "ipython3",
   "version": "3.6.9"
  },
  "toc": {
   "base_numbering": 1,
   "nav_menu": {},
   "number_sections": true,
   "sideBar": true,
   "skip_h1_title": false,
   "title_cell": "Table of Contents",
   "title_sidebar": "Contents",
   "toc_cell": false,
   "toc_position": {},
   "toc_section_display": true,
   "toc_window_display": false
  },
  "varInspector": {
   "cols": {
    "lenName": 16,
    "lenType": 16,
    "lenVar": 40
   },
   "kernels_config": {
    "python": {
     "delete_cmd_postfix": "",
     "delete_cmd_prefix": "del ",
     "library": "var_list.py",
     "varRefreshCmd": "print(var_dic_list())"
    },
    "r": {
     "delete_cmd_postfix": ") ",
     "delete_cmd_prefix": "rm(",
     "library": "var_list.r",
     "varRefreshCmd": "cat(var_dic_list()) "
    }
   },
   "types_to_exclude": [
    "module",
    "function",
    "builtin_function_or_method",
    "instance",
    "_Feature"
   ],
   "window_display": false
  }
 },
 "nbformat": 4,
 "nbformat_minor": 2
}
