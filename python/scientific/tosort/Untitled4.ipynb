{
 "cells": [
  {
   "cell_type": "code",
   "execution_count": 1,
   "metadata": {},
   "outputs": [],
   "source": [
    "import numpy as np\n",
    "from scipy import integrate, optimize\n",
    "from numpy import exp\n",
    "from scipy.optimize import curve_fit\n",
    "\n",
    "\n",
    "def debay(temp, ylambd):\n",
    "    def func(tem, const, theta):\n",
    "        f = const * tem * (tem / theta) ** 3 * integrate.quad(lambda x: (x ** 3 / (exp(x) - 1)), 0.0, theta / tem)[0]\n",
    "        return f\n",
    "\n",
    "    constants = curve_fit(func, temp, ylambd)\n",
    "    const_fit = constants[0][0]\n",
    "    theta_fit = constants[0][1]\n",
    "\n",
    "    fit_lambda = []\n",
    "    for i in temp:\n",
    "        fit_lambda.append(func(i, const_fit, theta_fit))\n",
    "    return fit_lambda"
   ]
  },
  {
   "cell_type": "code",
   "execution_count": 2,
   "metadata": {},
   "outputs": [
    {
     "data": {
      "text/plain": [
       "[0.9999999547931057]"
      ]
     },
     "execution_count": 2,
     "metadata": {},
     "output_type": "execute_result"
    }
   ],
   "source": [
    "debay([200], [0,1,2])"
   ]
  },
  {
   "cell_type": "code",
   "execution_count": 3,
   "metadata": {},
   "outputs": [],
   "source": [
    "import numpy as np\n",
    "from scipy import integrate, optimize\n",
    "import matplotlib.pyplot as plt"
   ]
  },
  {
   "cell_type": "code",
   "execution_count": 4,
   "metadata": {},
   "outputs": [],
   "source": [
    "def Debye(n):\n",
    "    \n",
    "    def integrand(t):\n",
    "        return t**n/(np.exp(t) - 1)\n",
    "    \n",
    "    @np.vectorize\n",
    "    def function(x):\n",
    "        return (n/x**n)*integrate.quad(integrand, 0, x)[0]\n",
    "    \n",
    "    return function"
   ]
  },
  {
   "cell_type": "code",
   "execution_count": null,
   "metadata": {},
   "outputs": [],
   "source": []
  },
  {
   "cell_type": "markdown",
   "metadata": {},
   "source": [
    "$$\n",
    "f(x) = c_1 x D_3(x) = c_1 x \\frac{n}{x^n} \\int_0^x \\frac{t^n}{e^t - 1}\\,\\mathrm{d}t \\, , \\quad x = \\frac{T}{c_2}\n",
    "$$"
   ]
  },
  {
   "cell_type": "code",
   "execution_count": 5,
   "metadata": {},
   "outputs": [],
   "source": [
    "debye3 = Debye(3)\n",
    "def objective(x, c, theta):\n",
    "    return c*(x/theta)*debye3(x/theta)"
   ]
  },
  {
   "cell_type": "code",
   "execution_count": 6,
   "metadata": {},
   "outputs": [],
   "source": [
    "np.random.seed(123)\n",
    "T = np.linspace(200, 400, 21)\n",
    "c1 = 1e-1\n",
    "c2 = 298.15\n",
    "sigma = 5e-4\n",
    "f = objective(T, c1, c2)\n",
    "data = f + sigma*np.random.randn(f.size)"
   ]
  },
  {
   "cell_type": "code",
   "execution_count": null,
   "metadata": {},
   "outputs": [],
   "source": []
  },
  {
   "cell_type": "code",
   "execution_count": 7,
   "metadata": {},
   "outputs": [
    {
     "data": {
      "text/plain": [
       "(array([1.02509632e-01, 3.10534004e+02]),\n",
       " array([[1.85637330e-06, 9.46948796e-03],\n",
       "        [9.46948796e-03, 4.92873904e+01]]))"
      ]
     },
     "execution_count": 7,
     "metadata": {},
     "output_type": "execute_result"
    }
   ],
   "source": [
    "params, covariance = optimize.curve_fit(objective, T, data, (0, 300))\n",
    "params, covariance"
   ]
  },
  {
   "cell_type": "code",
   "execution_count": null,
   "metadata": {},
   "outputs": [],
   "source": []
  },
  {
   "cell_type": "code",
   "execution_count": 8,
   "metadata": {},
   "outputs": [
    {
     "data": {
      "image/png": "[encoded data removed]",
      "text/plain": [
       "<Figure size 432x288 with 1 Axes>"
      ]
     },
     "metadata": {
      "needs_background": "light"
     },
     "output_type": "display_data"
    }
   ],
   "source": [
    "Tlin = np.linspace(200, 400, 201)\n",
    "fhat = objective(Tlin, *params)\n",
    "\n",
    "fig, axe = plt.subplots()\n",
    "axe.plot(T, data, '.', label=\"Data\")\n",
    "axe.plot(Tlin, fhat, '-', label=\"Fit\")\n",
    "axe.set_title(\"Heat Capacity Adjustment\")\n",
    "axe.set_xlabel(\"Temperature, $T=c_2 x$\")\n",
    "axe.set_ylabel(\"Heat Capacity, $\\hat{f}(x)$\")\n",
    "axe.legend()\n",
    "axe.grid()"
   ]
  },
  {
   "cell_type": "code",
   "execution_count": null,
   "metadata": {},
   "outputs": [],
   "source": []
  },
  {
   "cell_type": "code",
   "execution_count": 9,
   "metadata": {},
   "outputs": [
    {
     "data": {
      "text/plain": [
       "array([[1.36248791e-03, 9.73112941e-02],\n",
       "       [9.73112941e-02, 7.02049787e+00]])"
      ]
     },
     "execution_count": 9,
     "metadata": {},
     "output_type": "execute_result"
    }
   ],
   "source": [
    "np.sqrt(covariance)"
   ]
  },
  {
   "cell_type": "code",
   "execution_count": null,
   "metadata": {},
   "outputs": [],
   "source": []
  }
 ],
 "metadata": {
  "kernelspec": {
   "display_name": "Python 3 (ipykernel)",
   "language": "python",
   "name": "python3"
  },
  "language_info": {
   "codemirror_mode": {
    "name": "ipython",
    "version": 3
   },
   "file_extension": ".py",
   "mimetype": "text/x-python",
   "name": "python",
   "nbconvert_exporter": "python",
   "pygments_lexer": "ipython3",
   "version": "3.9.7"
  }
 },
 "nbformat": 4,
 "nbformat_minor": 4
}
