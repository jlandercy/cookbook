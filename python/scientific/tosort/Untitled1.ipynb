{
 "cells": [
  {
   "cell_type": "code",
   "execution_count": 5,
   "metadata": {},
   "outputs": [
    {
     "data": {
      "text/plain": [
       "'1.3.5'"
      ]
     },
     "execution_count": 5,
     "metadata": {},
     "output_type": "execute_result"
    }
   ],
   "source": [
    "import inspect\n",
    "import pandas as pd\n",
    "pd.__version__  # 1.3.5"
   ]
  },
  {
   "cell_type": "code",
   "execution_count": 12,
   "metadata": {},
   "outputs": [
    {
     "data": {
      "text/plain": [
       "'C:\\\\Users\\\\jlanderc\\\\AppData\\\\Roaming\\\\Python\\\\Python38\\\\site-packages\\\\pandas\\\\util\\\\_decorators.py'"
      ]
     },
     "execution_count": 12,
     "metadata": {},
     "output_type": "execute_result"
    }
   ],
   "source": [
    "inspect.getsourcefile(pd.read_csv)"
   ]
  },
  {
   "cell_type": "code",
   "execution_count": 11,
   "metadata": {},
   "outputs": [
    {
     "name": "stdout",
     "output_type": "stream",
     "text": [
      "@deprecate_nonkeyword_arguments(\n",
      "    version=None, allowed_args=[\"filepath_or_buffer\"], stacklevel=3\n",
      ")\n",
      "@Appender(\n",
      "    _doc_read_csv_and_table.format(\n",
      "        func_name=\"read_csv\",\n",
      "        summary=\"Read a comma-separated values (csv) file into DataFrame.\",\n",
      "        _default_sep=\"','\",\n",
      "        storage_options=generic._shared_docs[\"storage_options\"],\n",
      "    )\n",
      ")\n",
      "def read_csv(\n",
      "    filepath_or_buffer: FilePathOrBuffer,\n",
      "    sep=lib.no_default,\n",
      "    delimiter=None,\n",
      "    # Column and Index Locations and Names\n",
      "    header=\"infer\",\n",
      "    names=lib.no_default,\n",
      "    index_col=None,\n",
      "    usecols=None,\n",
      "    squeeze=False,\n",
      "    prefix=lib.no_default,\n",
      "    mangle_dupe_cols=True,\n",
      "    # General Parsing Configuration\n",
      "    dtype: DtypeArg | None = None,\n",
      "    engine=None,\n",
      "    converters=None,\n",
      "    true_values=None,\n",
      "    false_values=None,\n",
      "    skipinitialspace=False,\n",
      "    skiprows=None,\n",
      "    skipfooter=0,\n",
      "    nrows=None,\n",
      "    # NA and Missing Data Handling\n",
      "    na_values=None,\n",
      "    keep_default_na=True,\n",
      "    na_filter=True,\n",
      "    verbose=False,\n",
      "    skip_blank_lines=True,\n",
      "    # Datetime Handling\n",
      "    parse_dates=False,\n",
      "    infer_datetime_format=False,\n",
      "    keep_date_col=False,\n",
      "    date_parser=None,\n",
      "    dayfirst=False,\n",
      "    cache_dates=True,\n",
      "    # Iteration\n",
      "    iterator=False,\n",
      "    chunksize=None,\n",
      "    # Quoting, Compression, and File Format\n",
      "    compression=\"infer\",\n",
      "    thousands=None,\n",
      "    decimal: str = \".\",\n",
      "    lineterminator=None,\n",
      "    quotechar='\"',\n",
      "    quoting=csv.QUOTE_MINIMAL,\n",
      "    doublequote=True,\n",
      "    escapechar=None,\n",
      "    comment=None,\n",
      "    encoding=None,\n",
      "    encoding_errors: str | None = \"strict\",\n",
      "    dialect=None,\n",
      "    # Error Handling\n",
      "    error_bad_lines=None,\n",
      "    warn_bad_lines=None,\n",
      "    # TODO (2.0): set on_bad_lines to \"error\".\n",
      "    # See _refine_defaults_read comment for why we do this.\n",
      "    on_bad_lines=None,\n",
      "    # Internal\n",
      "    delim_whitespace=False,\n",
      "    low_memory=_c_parser_defaults[\"low_memory\"],\n",
      "    memory_map=False,\n",
      "    float_precision=None,\n",
      "    storage_options: StorageOptions = None,\n",
      "):\n",
      "    # locals() should never be modified\n",
      "    kwds = locals().copy()\n",
      "    del kwds[\"filepath_or_buffer\"]\n",
      "    del kwds[\"sep\"]\n",
      "\n",
      "    kwds_defaults = _refine_defaults_read(\n",
      "        dialect,\n",
      "        delimiter,\n",
      "        delim_whitespace,\n",
      "        engine,\n",
      "        sep,\n",
      "        error_bad_lines,\n",
      "        warn_bad_lines,\n",
      "        on_bad_lines,\n",
      "        names,\n",
      "        prefix,\n",
      "        defaults={\"delimiter\": \",\"},\n",
      "    )\n",
      "    kwds.update(kwds_defaults)\n",
      "\n",
      "    return _read(filepath_or_buffer, kwds)\n",
      "\n"
     ]
    }
   ],
   "source": [
    "print(inspect.getsource(pd.read_csv))"
   ]
  },
  {
   "cell_type": "code",
   "execution_count": 13,
   "metadata": {},
   "outputs": [
    {
     "data": {
      "text/plain": [
       "'C:\\\\Users\\\\jlanderc\\\\AppData\\\\Roaming\\\\Python\\\\Python38\\\\site-packages\\\\pandas\\\\core\\\\generic.py'"
      ]
     },
     "execution_count": 13,
     "metadata": {},
     "output_type": "execute_result"
    }
   ],
   "source": [
    "inspect.getsourcefile(pd.DataFrame.to_csv)"
   ]
  },
  {
   "cell_type": "code",
   "execution_count": 16,
   "metadata": {},
   "outputs": [
    {
     "ename": "AttributeError",
     "evalue": "module 'pandas' has no attribute 'ExtensionDtype'",
     "output_type": "error",
     "traceback": [
      "\u001b[1;31m---------------------------------------------------------------------------\u001b[0m",
      "\u001b[1;31mAttributeError\u001b[0m                            Traceback (most recent call last)",
      "\u001b[1;32m<ipython-input-16-c536bd1c1bdb>\u001b[0m in \u001b[0;36m<module>\u001b[1;34m\u001b[0m\n\u001b[1;32m----> 1\u001b[1;33m \u001b[0mprint\u001b[0m\u001b[1;33m(\u001b[0m\u001b[0minspect\u001b[0m\u001b[1;33m.\u001b[0m\u001b[0mgetsource\u001b[0m\u001b[1;33m(\u001b[0m\u001b[0mpd\u001b[0m\u001b[1;33m.\u001b[0m\u001b[0mExtensionDtype\u001b[0m\u001b[1;33m)\u001b[0m\u001b[1;33m)\u001b[0m\u001b[1;33m\u001b[0m\u001b[1;33m\u001b[0m\u001b[0m\n\u001b[0m",
      "\u001b[1;32m~\\AppData\\Roaming\\Python\\Python38\\site-packages\\pandas\\__init__.py\u001b[0m in \u001b[0;36m__getattr__\u001b[1;34m(name)\u001b[0m\n\u001b[0;32m    242\u001b[0m         \u001b[1;32mreturn\u001b[0m \u001b[0m_SparseArray\u001b[0m\u001b[1;33m\u001b[0m\u001b[1;33m\u001b[0m\u001b[0m\n\u001b[0;32m    243\u001b[0m \u001b[1;33m\u001b[0m\u001b[0m\n\u001b[1;32m--> 244\u001b[1;33m     \u001b[1;32mraise\u001b[0m \u001b[0mAttributeError\u001b[0m\u001b[1;33m(\u001b[0m\u001b[1;34mf\"module 'pandas' has no attribute '{name}'\"\u001b[0m\u001b[1;33m)\u001b[0m\u001b[1;33m\u001b[0m\u001b[1;33m\u001b[0m\u001b[0m\n\u001b[0m\u001b[0;32m    245\u001b[0m \u001b[1;33m\u001b[0m\u001b[0m\n\u001b[0;32m    246\u001b[0m \u001b[1;33m\u001b[0m\u001b[0m\n",
      "\u001b[1;31mAttributeError\u001b[0m: module 'pandas' has no attribute 'ExtensionDtype'"
     ]
    }
   ],
   "source": [
    "print(inspect.getsource(pd.ExtensionDtype))"
   ]
  },
  {
   "cell_type": "code",
   "execution_count": null,
   "metadata": {},
   "outputs": [],
   "source": []
  }
 ],
 "metadata": {
  "kernelspec": {
   "display_name": "Python 3 (ipykernel)",
   "language": "python",
   "name": "python3"
  },
  "language_info": {
   "codemirror_mode": {
    "name": "ipython",
    "version": 3
   },
   "file_extension": ".py",
   "mimetype": "text/x-python",
   "name": "python",
   "nbconvert_exporter": "python",
   "pygments_lexer": "ipython3",
   "version": "3.9.7"
  }
 },
 "nbformat": 4,
 "nbformat_minor": 4
}
