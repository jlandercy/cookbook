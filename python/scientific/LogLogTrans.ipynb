{
 "cells": [
  {
   "cell_type": "code",
   "execution_count": 1,
   "metadata": {
    "ExecuteTime": {
     "end_time": "2021-07-27T06:21:31.607339Z",
     "start_time": "2021-07-27T06:21:28.447083Z"
    }
   },
   "outputs": [],
   "source": [
    "import numpy as np\n",
    "from scipy import stats\n",
    "import matplotlib.pyplot as plt\n",
    "\n",
    "from sklearn.preprocessing import FunctionTransformer, PolynomialFeatures\n",
    "from sklearn.linear_model import LinearRegression\n",
    "from sklearn.compose import TransformedTargetRegressor\n",
    "from sklearn.pipeline import Pipeline"
   ]
  },
  {
   "cell_type": "code",
   "execution_count": 2,
   "metadata": {
    "ExecuteTime": {
     "end_time": "2021-07-27T06:21:31.625310Z",
     "start_time": "2021-07-27T06:21:31.612126Z"
    }
   },
   "outputs": [],
   "source": [
    "distribution = stats.lognorm(0.75)"
   ]
  },
  {
   "cell_type": "code",
   "execution_count": 3,
   "metadata": {
    "ExecuteTime": {
     "end_time": "2021-07-27T06:21:31.650211Z",
     "start_time": "2021-07-27T06:21:31.630167Z"
    }
   },
   "outputs": [],
   "source": [
    "x = np.linspace(0, 10, 21)\n",
    "x[0] += 0.001\n",
    "y = distribution.pdf(x)"
   ]
  },
  {
   "cell_type": "code",
   "execution_count": 4,
   "metadata": {
    "ExecuteTime": {
     "end_time": "2021-07-27T06:21:32.404810Z",
     "start_time": "2021-07-27T06:21:31.655432Z"
    }
   },
   "outputs": [
    {
     "data": {
      "image/png": "[encoded data removed]",
      "text/plain": [
       "<Figure size 432x288 with 1 Axes>"
      ]
     },
     "metadata": {
      "needs_background": "light"
     },
     "output_type": "display_data"
    }
   ],
   "source": [
    "xl = np.linspace(0.001, 10, 201)\n",
    "fig, axe = plt.subplots()\n",
    "axe.plot(xl, distribution.pdf(xl))\n",
    "axe.plot(x, y, '.')\n",
    "axe.grid()"
   ]
  },
  {
   "cell_type": "code",
   "execution_count": null,
   "metadata": {},
   "outputs": [],
   "source": []
  },
  {
   "cell_type": "code",
   "execution_count": 5,
   "metadata": {
    "ExecuteTime": {
     "end_time": "2021-07-27T06:21:32.421246Z",
     "start_time": "2021-07-27T06:21:32.411008Z"
    }
   },
   "outputs": [],
   "source": [
    "X = x.reshape(-1, 1)"
   ]
  },
  {
   "cell_type": "code",
   "execution_count": null,
   "metadata": {
    "ExecuteTime": {
     "end_time": "2021-07-26T18:33:37.488583Z",
     "start_time": "2021-07-26T18:33:37.274701Z"
    }
   },
   "outputs": [],
   "source": []
  },
  {
   "cell_type": "code",
   "execution_count": 6,
   "metadata": {
    "ExecuteTime": {
     "end_time": "2021-07-27T06:21:32.446065Z",
     "start_time": "2021-07-27T06:21:32.429738Z"
    }
   },
   "outputs": [],
   "source": [
    "transformer = FunctionTransformer(func=np.log, inverse_func=np.exp)"
   ]
  },
  {
   "cell_type": "code",
   "execution_count": 7,
   "metadata": {
    "ExecuteTime": {
     "end_time": "2021-07-27T06:21:32.458034Z",
     "start_time": "2021-07-27T06:21:32.448126Z"
    }
   },
   "outputs": [],
   "source": [
    "polynomial = PolynomialFeatures(2)"
   ]
  },
  {
   "cell_type": "code",
   "execution_count": 8,
   "metadata": {
    "ExecuteTime": {
     "end_time": "2021-07-27T06:21:32.470359Z",
     "start_time": "2021-07-27T06:21:32.460755Z"
    }
   },
   "outputs": [],
   "source": [
    "regressor = TransformedTargetRegressor(regressor=LinearRegression(), transformer=transformer)"
   ]
  },
  {
   "cell_type": "code",
   "execution_count": 9,
   "metadata": {
    "ExecuteTime": {
     "end_time": "2021-07-27T06:21:32.497850Z",
     "start_time": "2021-07-27T06:21:32.480009Z"
    }
   },
   "outputs": [],
   "source": [
    "model = Pipeline(steps=[\n",
    "    (\"transformer\", transformer),\n",
    "    (\"polynomial\", polynomial),\n",
    "    (\"regressor\", regressor)\n",
    "])"
   ]
  },
  {
   "cell_type": "code",
   "execution_count": 10,
   "metadata": {
    "ExecuteTime": {
     "end_time": "2021-07-27T06:21:32.697940Z",
     "start_time": "2021-07-27T06:21:32.508554Z"
    }
   },
   "outputs": [
    {
     "data": {
      "text/plain": [
       "Pipeline(steps=[('transformer',\n",
       "                 FunctionTransformer(func=<ufunc 'log'>,\n",
       "                                     inverse_func=<ufunc 'exp'>)),\n",
       "                ('polynomial', PolynomialFeatures()),\n",
       "                ('regressor',\n",
       "                 TransformedTargetRegressor(regressor=LinearRegression(),\n",
       "                                            transformer=FunctionTransformer(func=<ufunc 'log'>,\n",
       "                                                                            inverse_func=<ufunc 'exp'>)))])"
      ]
     },
     "execution_count": 10,
     "metadata": {},
     "output_type": "execute_result"
    }
   ],
   "source": [
    "model.fit(X, y)"
   ]
  },
  {
   "cell_type": "code",
   "execution_count": 11,
   "metadata": {
    "ExecuteTime": {
     "end_time": "2021-07-27T06:21:32.736556Z",
     "start_time": "2021-07-27T06:21:32.708209Z"
    }
   },
   "outputs": [
    {
     "data": {
      "text/plain": [
       "1.0"
      ]
     },
     "execution_count": 11,
     "metadata": {},
     "output_type": "execute_result"
    }
   ],
   "source": [
    "model.score(X, y)"
   ]
  },
  {
   "cell_type": "code",
   "execution_count": 12,
   "metadata": {
    "ExecuteTime": {
     "end_time": "2021-07-27T06:21:32.759698Z",
     "start_time": "2021-07-27T06:21:32.740032Z"
    }
   },
   "outputs": [],
   "source": [
    "yhat = model.predict(xl.reshape(-1, 1))"
   ]
  },
  {
   "cell_type": "code",
   "execution_count": 13,
   "metadata": {
    "ExecuteTime": {
     "end_time": "2021-07-27T06:21:33.083481Z",
     "start_time": "2021-07-27T06:21:32.761771Z"
    }
   },
   "outputs": [
    {
     "data": {
      "image/png": "[encoded data removed]",
      "text/plain": [
       "<Figure size 432x288 with 1 Axes>"
      ]
     },
     "metadata": {
      "needs_background": "light"
     },
     "output_type": "display_data"
    }
   ],
   "source": [
    "xl = np.linspace(0, 10, 201)\n",
    "fig, axe = plt.subplots()\n",
    "axe.plot(xl, yhat)\n",
    "axe.plot(x, y, '.')\n",
    "axe.grid()"
   ]
  },
  {
   "cell_type": "code",
   "execution_count": 14,
   "metadata": {
    "ExecuteTime": {
     "end_time": "2021-07-27T06:21:33.135650Z",
     "start_time": "2021-07-27T06:21:33.098743Z"
    }
   },
   "outputs": [
    {
     "data": {
      "text/plain": [
       "array([ 0.        , -1.        , -0.88888889])"
      ]
     },
     "execution_count": 14,
     "metadata": {},
     "output_type": "execute_result"
    }
   ],
   "source": [
    "p = model.steps[-1][1].regressor_.coef_\n",
    "p"
   ]
  },
  {
   "cell_type": "code",
   "execution_count": 15,
   "metadata": {
    "ExecuteTime": {
     "end_time": "2021-07-27T06:21:33.163943Z",
     "start_time": "2021-07-27T06:21:33.140733Z"
    }
   },
   "outputs": [
    {
     "data": {
      "text/plain": [
       "0.7500000000000001"
      ]
     },
     "execution_count": 15,
     "metadata": {},
     "output_type": "execute_result"
    }
   ],
   "source": [
    "s = np.sqrt(-1/(2*p[2]))\n",
    "s"
   ]
  },
  {
   "cell_type": "code",
   "execution_count": null,
   "metadata": {},
   "outputs": [],
   "source": []
  }
 ],
 "metadata": {
  "hide_input": false,
  "kernelspec": {
   "display_name": "Python 3",
   "language": "python",
   "name": "python3"
  },
  "language_info": {
   "codemirror_mode": {
    "name": "ipython",
    "version": 3
   },
   "file_extension": ".py",
   "mimetype": "text/x-python",
   "name": "python",
   "nbconvert_exporter": "python",
   "pygments_lexer": "ipython3",
   "version": "3.6.9"
  },
  "toc": {
   "base_numbering": 1,
   "nav_menu": {},
   "number_sections": true,
   "sideBar": true,
   "skip_h1_title": false,
   "title_cell": "Table of Contents",
   "title_sidebar": "Contents",
   "toc_cell": false,
   "toc_position": {},
   "toc_section_display": true,
   "toc_window_display": false
  },
  "varInspector": {
   "cols": {
    "lenName": 16,
    "lenType": 16,
    "lenVar": 40
   },
   "kernels_config": {
    "python": {
     "delete_cmd_postfix": "",
     "delete_cmd_prefix": "del ",
     "library": "var_list.py",
     "varRefreshCmd": "print(var_dic_list())"
    },
    "r": {
     "delete_cmd_postfix": ") ",
     "delete_cmd_prefix": "rm(",
     "library": "var_list.r",
     "varRefreshCmd": "cat(var_dic_list()) "
    }
   },
   "types_to_exclude": [
    "module",
    "function",
    "builtin_function_or_method",
    "instance",
    "_Feature"
   ],
   "window_display": false
  }
 },
 "nbformat": 4,
 "nbformat_minor": 4
}
