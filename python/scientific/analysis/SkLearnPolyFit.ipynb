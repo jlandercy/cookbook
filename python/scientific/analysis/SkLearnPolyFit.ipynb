{
 "cells": [
  {
   "cell_type": "code",
   "execution_count": 1,
   "metadata": {
    "ExecuteTime": {
     "end_time": "2020-09-18T06:49:41.345226Z",
     "start_time": "2020-09-18T06:49:39.297410Z"
    }
   },
   "outputs": [],
   "source": [
    "from sklearn.preprocessing import PolynomialFeatures\n",
    "from sklearn.linear_model import LinearRegression\n",
    "from sklearn.model_selection import train_test_split\n",
    "from sklearn.pipeline import make_pipeline\n",
    "import numpy as np\n",
    "import matplotlib.pyplot as plt"
   ]
  },
  {
   "cell_type": "code",
   "execution_count": 2,
   "metadata": {
    "ExecuteTime": {
     "end_time": "2020-09-18T06:49:41.387244Z",
     "start_time": "2020-09-18T06:49:41.366603Z"
    }
   },
   "outputs": [],
   "source": [
    "N = 200\n",
    "X = np.linspace(-2, 2, N).reshape((N,1))\n",
    "y = X**4 - 3*X**2 + X - 4"
   ]
  },
  {
   "cell_type": "code",
   "execution_count": 3,
   "metadata": {
    "ExecuteTime": {
     "end_time": "2020-09-18T06:49:41.609909Z",
     "start_time": "2020-09-18T06:49:41.590437Z"
    }
   },
   "outputs": [],
   "source": [
    "X_train, X_test, y_train, y_test = train_test_split(X, y)"
   ]
  },
  {
   "cell_type": "code",
   "execution_count": 4,
   "metadata": {
    "ExecuteTime": {
     "end_time": "2020-09-18T06:49:41.713812Z",
     "start_time": "2020-09-18T06:49:41.699033Z"
    }
   },
   "outputs": [],
   "source": [
    "def create_model(degree):\n",
    "    model = make_pipeline(PolynomialFeatures(degree), LinearRegression())\n",
    "    return model"
   ]
  },
  {
   "cell_type": "code",
   "execution_count": 5,
   "metadata": {
    "ExecuteTime": {
     "end_time": "2020-09-18T06:49:41.801182Z",
     "start_time": "2020-09-18T06:49:41.722153Z"
    }
   },
   "outputs": [
    {
     "name": "stdout",
     "output_type": "stream",
     "text": [
      "d=1, c=[[0.         1.01399347]], c0=[-4.7717472], z=0.4740480053181947\n",
      "d=3, c=[[ 0.          1.02580559  0.52043006 -0.00970367]], c0=[-5.4893988], z=0.48799883916959563\n",
      "d=6, c=[[ 0.00000000e+00  1.00000000e+00 -3.00000000e+00 -1.29757316e-15\n",
      "   1.00000000e+00  2.06432094e-16 -3.33066907e-16]], c0=[-4.], z=1.0\n",
      "d=9, c=[[ 0.00000000e+00  1.00000000e+00 -3.00000000e+00 -1.52581940e-14\n",
      "   1.00000000e+00  6.77084257e-15  8.43769499e-15  1.66533454e-16\n",
      "  -6.66133815e-16 -5.53376789e-16]], c0=[-4.], z=1.0\n"
     ]
    }
   ],
   "source": [
    "predictions = []\n",
    "for degree in [1,3,6,9]:\n",
    "    model = create_model(degree)\n",
    "    model.fit(X_train,y_train)\n",
    "    predicted = model.predict(X_test)\n",
    "    predictions.append(predicted)\n",
    "    print(\"d={}, c={}, c0={}, z={}\".format(degree, model.steps[1][1].coef_, model.steps[1][1].intercept_, model.score(X_test, y_test)))"
   ]
  },
  {
   "cell_type": "code",
   "execution_count": 6,
   "metadata": {
    "ExecuteTime": {
     "end_time": "2020-09-18T06:49:41.837962Z",
     "start_time": "2020-09-18T06:49:41.826406Z"
    }
   },
   "outputs": [],
   "source": [
    "predictions = np.concatenate(predictions, axis=1)"
   ]
  },
  {
   "cell_type": "code",
   "execution_count": 8,
   "metadata": {
    "ExecuteTime": {
     "end_time": "2020-09-18T06:50:21.438331Z",
     "start_time": "2020-09-18T06:50:20.810158Z"
    }
   },
   "outputs": [
    {
     "data": {
      "image/png": "[encoded data removed]",
      "text/plain": [
       "<Figure size 432x288 with 1 Axes>"
      ]
     },
     "metadata": {
      "needs_background": "light"
     },
     "output_type": "display_data"
    }
   ],
   "source": [
    "fig, axe = plt.subplots()\n",
    "axe.plot(X, y)\n",
    "axe.plot(X_train, y_train, '.', markersize=3)\n",
    "axe.plot(X_test, predictions, 'o', markersize=4)\n",
    "axe.legend(['Original', 'Train', 'Fit deg=1', 'Fit deg=3', 'Fit deg=6', 'Fit deg=9'], bbox_to_anchor=(1,1))\n",
    "axe.set_title(\"Polynomial fits\")\n",
    "axe.set_xlabel(\"$x$\")\n",
    "axe.set_ylabel(\"$y, \\hat{y}$\")\n",
    "axe.grid()"
   ]
  },
  {
   "cell_type": "code",
   "execution_count": null,
   "metadata": {},
   "outputs": [],
   "source": []
  },
  {
   "cell_type": "code",
   "execution_count": null,
   "metadata": {},
   "outputs": [],
   "source": []
  }
 ],
 "metadata": {
  "hide_input": false,
  "kernelspec": {
   "display_name": "Python 3",
   "language": "python",
   "name": "python3"
  },
  "language_info": {
   "codemirror_mode": {
    "name": "ipython",
    "version": 3
   },
   "file_extension": ".py",
   "mimetype": "text/x-python",
   "name": "python",
   "nbconvert_exporter": "python",
   "pygments_lexer": "ipython3",
   "version": "3.6.9"
  },
  "toc": {
   "base_numbering": 1,
   "nav_menu": {},
   "number_sections": true,
   "sideBar": true,
   "skip_h1_title": false,
   "title_cell": "Table of Contents",
   "title_sidebar": "Contents",
   "toc_cell": false,
   "toc_position": {},
   "toc_section_display": true,
   "toc_window_display": false
  },
  "varInspector": {
   "cols": {
    "lenName": 16,
    "lenType": 16,
    "lenVar": 40
   },
   "kernels_config": {
    "python": {
     "delete_cmd_postfix": "",
     "delete_cmd_prefix": "del ",
     "library": "var_list.py",
     "varRefreshCmd": "print(var_dic_list())"
    },
    "r": {
     "delete_cmd_postfix": ") ",
     "delete_cmd_prefix": "rm(",
     "library": "var_list.r",
     "varRefreshCmd": "cat(var_dic_list()) "
    }
   },
   "types_to_exclude": [
    "module",
    "function",
    "builtin_function_or_method",
    "instance",
    "_Feature"
   ],
   "window_display": false
  }
 },
 "nbformat": 4,
 "nbformat_minor": 2
}
