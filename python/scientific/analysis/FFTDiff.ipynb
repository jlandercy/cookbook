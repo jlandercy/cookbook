{
 "cells": [
  {
   "cell_type": "code",
   "execution_count": 1,
   "metadata": {
    "ExecuteTime": {
     "end_time": "2021-10-13T12:17:09.937512Z",
     "start_time": "2021-10-13T12:17:09.118175Z"
    }
   },
   "outputs": [],
   "source": [
    "import numpy as np\n",
    "from scipy import fftpack\n",
    "import matplotlib.pyplot as plt"
   ]
  },
  {
   "cell_type": "code",
   "execution_count": 2,
   "metadata": {
    "ExecuteTime": {
     "end_time": "2021-10-13T12:17:09.950194Z",
     "start_time": "2021-10-13T12:17:09.944315Z"
    }
   },
   "outputs": [],
   "source": [
    "tmax = 600\n",
    "N = 4096\n",
    "dt = tmax/N\n",
    "t = np.arange(0, tmax, dt)"
   ]
  },
  {
   "cell_type": "code",
   "execution_count": 3,
   "metadata": {
    "ExecuteTime": {
     "end_time": "2021-10-13T12:17:09.958562Z",
     "start_time": "2021-10-13T12:17:09.953595Z"
    }
   },
   "outputs": [],
   "source": [
    "x = np.sin(1/6*t)"
   ]
  },
  {
   "cell_type": "code",
   "execution_count": 4,
   "metadata": {
    "ExecuteTime": {
     "end_time": "2021-10-13T12:17:09.972911Z",
     "start_time": "2021-10-13T12:17:09.968042Z"
    }
   },
   "outputs": [],
   "source": [
    "xta = np.diff(x)/np.diff(t)"
   ]
  },
  {
   "cell_type": "code",
   "execution_count": 5,
   "metadata": {
    "ExecuteTime": {
     "end_time": "2021-10-13T12:17:09.987961Z",
     "start_time": "2021-10-13T12:17:09.976255Z"
    }
   },
   "outputs": [
    {
     "data": {
      "text/plain": [
       "array([-21.44660585, -21.43613387, -21.4256619 , ...,  21.41518992,\n",
       "        21.4256619 ,  21.43613387])"
      ]
     },
     "execution_count": 5,
     "metadata": {},
     "output_type": "execute_result"
    }
   ],
   "source": [
    "freq = 2*np.pi*np.fft.fftfreq(N, d=dt)\n",
    "freq = np.fft.fftshift(freq)\n",
    "freq"
   ]
  },
  {
   "cell_type": "code",
   "execution_count": 6,
   "metadata": {
    "ExecuteTime": {
     "end_time": "2021-10-13T12:17:09.999382Z",
     "start_time": "2021-10-13T12:17:09.990953Z"
    }
   },
   "outputs": [
    {
     "data": {
      "text/plain": [
       "array([0.        -5.41188885j, 0.00416328-5.40924631j,\n",
       "       0.00832249-5.40660376j, ..., 0.01247765+5.40396118j,\n",
       "       0.00832249+5.40660376j, 0.00416328+5.40924631j])"
      ]
     },
     "execution_count": 6,
     "metadata": {},
     "output_type": "execute_result"
    }
   ],
   "source": [
    "X = np.fft.fftshift(np.fft.fft(x))\n",
    "Xt = 1j*freq*X\n",
    "Xt"
   ]
  },
  {
   "cell_type": "code",
   "execution_count": 7,
   "metadata": {
    "ExecuteTime": {
     "end_time": "2021-10-13T12:17:10.079949Z",
     "start_time": "2021-10-13T12:17:10.033587Z"
    }
   },
   "outputs": [
    {
     "data": {
      "text/plain": [
       "array([ 2.55099937, -0.88961726,  0.83150375, ...,  0.80301611,\n",
       "       -0.91870972,  2.53330679])"
      ]
     },
     "execution_count": 7,
     "metadata": {},
     "output_type": "execute_result"
    }
   ],
   "source": [
    "xtf2 = np.fft.ifft(np.fft.fftshift(Xt)).real\n",
    "xtf2"
   ]
  },
  {
   "cell_type": "code",
   "execution_count": 8,
   "metadata": {
    "ExecuteTime": {
     "end_time": "2021-10-13T12:17:10.116751Z",
     "start_time": "2021-10-13T12:17:10.093870Z"
    }
   },
   "outputs": [],
   "source": [
    "xtf = fftpack.diff(x, period=tmax)"
   ]
  },
  {
   "cell_type": "code",
   "execution_count": 9,
   "metadata": {
    "ExecuteTime": {
     "end_time": "2021-10-13T12:17:10.598889Z",
     "start_time": "2021-10-13T12:17:10.126757Z"
    }
   },
   "outputs": [
    {
     "data": {
      "text/plain": [
       "<matplotlib.legend.Legend at 0x7fc00fc7b0f0>"
      ]
     },
     "execution_count": 9,
     "metadata": {},
     "output_type": "execute_result"
    },
    {
     "data": {
      "image/png": "[encoded data removed]",
      "text/plain": [
       "<Figure size 432x288 with 1 Axes>"
      ]
     },
     "metadata": {
      "needs_background": "light"
     },
     "output_type": "display_data"
    }
   ],
   "source": [
    "fig, axe = plt.subplots()\n",
    "#axe.plot(t, x)\n",
    "axe.plot(t, xtf, label=\"fft\")\n",
    "axe.plot(t, xtf2, '.', label=\"my\")\n",
    "axe.plot(t[:-1], xta, label=\"diff\")\n",
    "axe.legend()\n",
    "#axe.set_ylim([0, 1e6])"
   ]
  },
  {
   "cell_type": "code",
   "execution_count": null,
   "metadata": {},
   "outputs": [],
   "source": []
  },
  {
   "cell_type": "code",
   "execution_count": null,
   "metadata": {},
   "outputs": [],
   "source": []
  },
  {
   "cell_type": "code",
   "execution_count": null,
   "metadata": {},
   "outputs": [],
   "source": []
  },
  {
   "cell_type": "code",
   "execution_count": null,
   "metadata": {},
   "outputs": [],
   "source": []
  }
 ],
 "metadata": {
  "hide_input": false,
  "kernelspec": {
   "display_name": "Python 3",
   "language": "python",
   "name": "python3"
  },
  "language_info": {
   "codemirror_mode": {
    "name": "ipython",
    "version": 3
   },
   "file_extension": ".py",
   "mimetype": "text/x-python",
   "name": "python",
   "nbconvert_exporter": "python",
   "pygments_lexer": "ipython3",
   "version": "3.6.9"
  },
  "toc": {
   "base_numbering": 1,
   "nav_menu": {},
   "number_sections": true,
   "sideBar": true,
   "skip_h1_title": false,
   "title_cell": "Table of Contents",
   "title_sidebar": "Contents",
   "toc_cell": false,
   "toc_position": {},
   "toc_section_display": true,
   "toc_window_display": false
  },
  "varInspector": {
   "cols": {
    "lenName": 16,
    "lenType": 16,
    "lenVar": 40
   },
   "kernels_config": {
    "python": {
     "delete_cmd_postfix": "",
     "delete_cmd_prefix": "del ",
     "library": "var_list.py",
     "varRefreshCmd": "print(var_dic_list())"
    },
    "r": {
     "delete_cmd_postfix": ") ",
     "delete_cmd_prefix": "rm(",
     "library": "var_list.r",
     "varRefreshCmd": "cat(var_dic_list()) "
    }
   },
   "types_to_exclude": [
    "module",
    "function",
    "builtin_function_or_method",
    "instance",
    "_Feature"
   ],
   "window_display": false
  }
 },
 "nbformat": 4,
 "nbformat_minor": 4
}
