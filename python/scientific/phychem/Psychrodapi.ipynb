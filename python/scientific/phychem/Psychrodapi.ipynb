{
 "cells": [
  {
   "cell_type": "code",
   "execution_count": 1,
   "metadata": {
    "ExecuteTime": {
     "end_time": "2022-02-07T09:56:35.013495Z",
     "start_time": "2022-02-07T09:56:32.160317Z"
    }
   },
   "outputs": [],
   "source": [
    "import json\n",
    "import influxdb\n",
    "import pandas as pd\n",
    "import matplotlib.pyplot as plt\n",
    "from odapi.formats import InfluxDB\n",
    "from odapi.toolbox.psychro import Constants, Mix"
   ]
  },
  {
   "cell_type": "code",
   "execution_count": 2,
   "metadata": {
    "ExecuteTime": {
     "end_time": "2022-02-07T09:56:35.029672Z",
     "start_time": "2022-02-07T09:56:35.017903Z"
    }
   },
   "outputs": [],
   "source": [
    "with open(\"../../../../secrets/lht65.json\") as fh:\n",
    "    client = influxdb.InfluxDBClient(**json.load(fh))"
   ]
  },
  {
   "cell_type": "code",
   "execution_count": null,
   "metadata": {
    "ExecuteTime": {
     "end_time": "2022-02-07T09:57:08.072003Z",
     "start_time": "2022-02-07T09:57:08.060885Z"
    }
   },
   "outputs": [],
   "source": []
  },
  {
   "cell_type": "code",
   "execution_count": 3,
   "metadata": {
    "ExecuteTime": {
     "end_time": "2022-02-07T09:56:35.335459Z",
     "start_time": "2022-02-07T09:56:35.033482Z"
    }
   },
   "outputs": [
    {
     "ename": "InfluxDBClientError",
     "evalue": "401: {\"error\":\"authorization failed\"}",
     "output_type": "error",
     "traceback": [
      "\u001b[0;31m---------------------------------------------------------------------------\u001b[0m",
      "\u001b[0;31mInfluxDBClientError\u001b[0m                       Traceback (most recent call last)",
      "\u001b[0;32m<ipython-input-3-89afae79b4e5>\u001b[0m in \u001b[0;36m<module>\u001b[0;34m\u001b[0m\n\u001b[0;32m----> 1\u001b[0;31m \u001b[0mq\u001b[0m \u001b[0;34m=\u001b[0m \u001b[0mclient\u001b[0m\u001b[0;34m.\u001b[0m\u001b[0mquery\u001b[0m\u001b[0;34m(\u001b[0m\u001b[0;34m'SELECT \"value\" FROM /device_frmpayload_data_node_.*/ GROUP BY \"device_name\", \"location\"'\u001b[0m\u001b[0;34m)\u001b[0m\u001b[0;34m\u001b[0m\u001b[0;34m\u001b[0m\u001b[0m\n\u001b[0m",
      "\u001b[0;32m/usr/local/lib/python3.6/dist-packages/influxdb/client.py\u001b[0m in \u001b[0;36mquery\u001b[0;34m(self, query, params, bind_params, epoch, expected_response_code, database, raise_errors, chunked, chunk_size, method)\u001b[0m\n\u001b[1;32m    525\u001b[0m             \u001b[0mdata\u001b[0m\u001b[0;34m=\u001b[0m\u001b[0;32mNone\u001b[0m\u001b[0;34m,\u001b[0m\u001b[0;34m\u001b[0m\u001b[0;34m\u001b[0m\u001b[0m\n\u001b[1;32m    526\u001b[0m             \u001b[0mstream\u001b[0m\u001b[0;34m=\u001b[0m\u001b[0mchunked\u001b[0m\u001b[0;34m,\u001b[0m\u001b[0;34m\u001b[0m\u001b[0;34m\u001b[0m\u001b[0m\n\u001b[0;32m--> 527\u001b[0;31m             \u001b[0mexpected_response_code\u001b[0m\u001b[0;34m=\u001b[0m\u001b[0mexpected_response_code\u001b[0m\u001b[0;34m\u001b[0m\u001b[0;34m\u001b[0m\u001b[0m\n\u001b[0m\u001b[1;32m    528\u001b[0m         )\n\u001b[1;32m    529\u001b[0m \u001b[0;34m\u001b[0m\u001b[0m\n",
      "\u001b[0;32m/usr/local/lib/python3.6/dist-packages/influxdb/client.py\u001b[0m in \u001b[0;36mrequest\u001b[0;34m(self, url, method, params, data, stream, expected_response_code, headers)\u001b[0m\n\u001b[1;32m    376\u001b[0m         \u001b[0;32melse\u001b[0m\u001b[0;34m:\u001b[0m\u001b[0;34m\u001b[0m\u001b[0;34m\u001b[0m\u001b[0m\n\u001b[1;32m    377\u001b[0m             \u001b[0merr_msg\u001b[0m \u001b[0;34m=\u001b[0m \u001b[0mreformat_error\u001b[0m\u001b[0;34m(\u001b[0m\u001b[0mresponse\u001b[0m\u001b[0;34m)\u001b[0m\u001b[0;34m\u001b[0m\u001b[0;34m\u001b[0m\u001b[0m\n\u001b[0;32m--> 378\u001b[0;31m             \u001b[0;32mraise\u001b[0m \u001b[0mInfluxDBClientError\u001b[0m\u001b[0;34m(\u001b[0m\u001b[0merr_msg\u001b[0m\u001b[0;34m,\u001b[0m \u001b[0mresponse\u001b[0m\u001b[0;34m.\u001b[0m\u001b[0mstatus_code\u001b[0m\u001b[0;34m)\u001b[0m\u001b[0;34m\u001b[0m\u001b[0;34m\u001b[0m\u001b[0m\n\u001b[0m\u001b[1;32m    379\u001b[0m \u001b[0;34m\u001b[0m\u001b[0m\n\u001b[1;32m    380\u001b[0m     def write(self, data, params=None, expected_response_code=204,\n",
      "\u001b[0;31mInfluxDBClientError\u001b[0m: 401: {\"error\":\"authorization failed\"}"
     ]
    }
   ],
   "source": [
    "q = client.query('SELECT \"value\" FROM /device_frmpayload_data_node_.*/ GROUP BY \"device_name\", \"location\"')"
   ]
  },
  {
   "cell_type": "code",
   "execution_count": null,
   "metadata": {
    "ExecuteTime": {
     "end_time": "2022-02-07T09:56:35.346482Z",
     "start_time": "2022-02-07T09:56:32.117Z"
    }
   },
   "outputs": [],
   "source": [
    "df = InfluxDB.to_frame(q.raw)"
   ]
  },
  {
   "cell_type": "code",
   "execution_count": null,
   "metadata": {
    "ExecuteTime": {
     "end_time": "2022-02-07T09:56:35.349246Z",
     "start_time": "2022-02-07T09:56:32.118Z"
    }
   },
   "outputs": [],
   "source": [
    "df.head()"
   ]
  },
  {
   "cell_type": "code",
   "execution_count": null,
   "metadata": {
    "ExecuteTime": {
     "end_time": "2020-08-24T14:15:34.309567Z",
     "start_time": "2020-08-24T14:15:34.286119Z"
    }
   },
   "outputs": [],
   "source": []
  },
  {
   "cell_type": "code",
   "execution_count": null,
   "metadata": {
    "ExecuteTime": {
     "end_time": "2022-02-07T09:56:35.351863Z",
     "start_time": "2022-02-07T09:56:32.120Z"
    }
   },
   "outputs": [],
   "source": [
    "df[\"time\"] = df[\"time\"].dt.round(\"20T\")"
   ]
  },
  {
   "cell_type": "code",
   "execution_count": null,
   "metadata": {
    "ExecuteTime": {
     "end_time": "2022-02-07T09:56:35.354548Z",
     "start_time": "2022-02-07T09:56:32.121Z"
    }
   },
   "outputs": [],
   "source": [
    "df[\"serie_name\"] = df[\"serie_name\"].apply(lambda x: x.split(\"_\")[-1])\n",
    "df[\"location\"] = df[\"location\"].replace({'badroom-children': 'bathroom-children'})"
   ]
  },
  {
   "cell_type": "code",
   "execution_count": null,
   "metadata": {
    "ExecuteTime": {
     "end_time": "2022-02-07T09:56:35.357368Z",
     "start_time": "2022-02-07T09:56:32.123Z"
    }
   },
   "outputs": [],
   "source": [
    "dc = df.pivot_table(index=\"time\", columns=[\"serie_name\", \"location\"], values=\"value\")"
   ]
  },
  {
   "cell_type": "code",
   "execution_count": null,
   "metadata": {
    "ExecuteTime": {
     "end_time": "2022-02-07T09:56:35.360505Z",
     "start_time": "2022-02-07T09:56:32.124Z"
    }
   },
   "outputs": [],
   "source": [
    "dc = dc[dc[\"temperature\"]<300]"
   ]
  },
  {
   "cell_type": "code",
   "execution_count": null,
   "metadata": {
    "ExecuteTime": {
     "end_time": "2022-02-07T09:56:35.363373Z",
     "start_time": "2022-02-07T09:56:32.125Z"
    }
   },
   "outputs": [],
   "source": [
    "dc = dc.interpolate()"
   ]
  },
  {
   "cell_type": "code",
   "execution_count": null,
   "metadata": {
    "ExecuteTime": {
     "end_time": "2022-02-07T09:56:35.366643Z",
     "start_time": "2022-02-07T09:56:32.127Z"
    }
   },
   "outputs": [],
   "source": [
    "dc.head()"
   ]
  },
  {
   "cell_type": "code",
   "execution_count": null,
   "metadata": {
    "ExecuteTime": {
     "end_time": "2022-02-07T09:56:35.369355Z",
     "start_time": "2022-02-07T09:56:32.128Z"
    }
   },
   "outputs": [],
   "source": [
    "T = dc[\"temperature\"]\n",
    "RH = dc[\"humidity\"]"
   ]
  },
  {
   "cell_type": "code",
   "execution_count": null,
   "metadata": {
    "ExecuteTime": {
     "end_time": "2022-02-07T09:56:35.372772Z",
     "start_time": "2022-02-07T09:56:32.129Z"
    }
   },
   "outputs": [],
   "source": [
    "axe = T.plot()\n",
    "axe.legend(bbox_to_anchor=(1,1))\n",
    "axe.grid()"
   ]
  },
  {
   "cell_type": "code",
   "execution_count": null,
   "metadata": {
    "ExecuteTime": {
     "end_time": "2022-02-07T09:56:35.375511Z",
     "start_time": "2022-02-07T09:56:32.132Z"
    }
   },
   "outputs": [],
   "source": [
    "axe = RH.plot()\n",
    "axe.legend(bbox_to_anchor=(1,1))\n",
    "axe.grid()"
   ]
  },
  {
   "cell_type": "code",
   "execution_count": null,
   "metadata": {
    "ExecuteTime": {
     "end_time": "2020-08-24T14:21:36.397225Z",
     "start_time": "2020-08-24T14:21:36.376548Z"
    }
   },
   "outputs": [],
   "source": []
  },
  {
   "cell_type": "code",
   "execution_count": null,
   "metadata": {
    "ExecuteTime": {
     "end_time": "2020-08-24T15:51:59.475322Z",
     "start_time": "2020-08-24T15:51:58.947962Z"
    }
   },
   "outputs": [],
   "source": []
  },
  {
   "cell_type": "code",
   "execution_count": null,
   "metadata": {
    "ExecuteTime": {
     "end_time": "2020-08-24T15:50:36.276321Z",
     "start_time": "2020-08-24T15:50:36.263691Z"
    }
   },
   "outputs": [],
   "source": []
  },
  {
   "cell_type": "code",
   "execution_count": null,
   "metadata": {
    "ExecuteTime": {
     "end_time": "2022-02-07T09:56:35.378107Z",
     "start_time": "2022-02-07T09:56:32.136Z"
    }
   },
   "outputs": [],
   "source": [
    "TK = T + Constants.T0K\n",
    "pw = pd.DataFrame(Mix.pisow(TK.values , phi=RH.values/100.)/1000., columns = TK.columns, index = T.index)"
   ]
  },
  {
   "cell_type": "raw",
   "metadata": {
    "ExecuteTime": {
     "end_time": "2020-08-24T15:58:07.940490Z",
     "start_time": "2020-08-24T15:58:04.004550Z"
    }
   },
   "source": [
    "for k in TK:\n",
    "    axe = Mix.plot()\n",
    "    axe.plot(TK[k], pw[k], \".\", markersize=2)\n",
    "    #axe.legend([axe.legend] + [\"Data\"])"
   ]
  },
  {
   "cell_type": "code",
   "execution_count": null,
   "metadata": {
    "ExecuteTime": {
     "end_time": "2022-02-07T09:56:35.381148Z",
     "start_time": "2022-02-07T09:56:32.151Z"
    },
    "scrolled": false
   },
   "outputs": [],
   "source": [
    "axe = Mix.plot()\n",
    "_ = axe.plot(TK, pw, \".\", markersize=3)"
   ]
  },
  {
   "cell_type": "code",
   "execution_count": null,
   "metadata": {},
   "outputs": [],
   "source": []
  },
  {
   "cell_type": "code",
   "execution_count": null,
   "metadata": {},
   "outputs": [],
   "source": []
  },
  {
   "cell_type": "code",
   "execution_count": null,
   "metadata": {},
   "outputs": [],
   "source": []
  },
  {
   "cell_type": "code",
   "execution_count": null,
   "metadata": {},
   "outputs": [],
   "source": []
  },
  {
   "cell_type": "code",
   "execution_count": null,
   "metadata": {},
   "outputs": [],
   "source": []
  },
  {
   "cell_type": "code",
   "execution_count": null,
   "metadata": {
    "ExecuteTime": {
     "end_time": "2022-02-07T09:56:35.383743Z",
     "start_time": "2022-02-07T09:56:32.156Z"
    }
   },
   "outputs": [],
   "source": [
    "df2 = pd.read_csv(\"Psychro_data.csv\", header=[0,1], parse_dates=[0], index_col=0)\n",
    "df2.head()"
   ]
  },
  {
   "cell_type": "code",
   "execution_count": null,
   "metadata": {
    "ExecuteTime": {
     "end_time": "2022-02-07T09:56:35.386131Z",
     "start_time": "2022-02-07T09:56:32.157Z"
    }
   },
   "outputs": [],
   "source": [
    "df2 = df2.loc[\"2019-11-09 09:30:00\":\"2019-11-16 09:30:00\",:]"
   ]
  },
  {
   "cell_type": "code",
   "execution_count": null,
   "metadata": {
    "ExecuteTime": {
     "end_time": "2022-02-07T09:56:35.389162Z",
     "start_time": "2022-02-07T09:56:32.158Z"
    }
   },
   "outputs": [],
   "source": [
    "T = df2[\"node_temperature\"]\n",
    "RH = df2[\"node_humidity\"]"
   ]
  },
  {
   "cell_type": "code",
   "execution_count": null,
   "metadata": {
    "ExecuteTime": {
     "end_time": "2020-08-24T16:09:12.754599Z",
     "start_time": "2020-08-24T16:09:12.736740Z"
    }
   },
   "outputs": [],
   "source": []
  },
  {
   "cell_type": "code",
   "execution_count": null,
   "metadata": {
    "ExecuteTime": {
     "end_time": "2022-02-07T09:56:35.391916Z",
     "start_time": "2022-02-07T09:56:32.160Z"
    }
   },
   "outputs": [],
   "source": [
    "axe = T.plot()\n",
    "axe.legend(bbox_to_anchor=(1,1))\n",
    "axe.grid()"
   ]
  },
  {
   "cell_type": "code",
   "execution_count": null,
   "metadata": {
    "ExecuteTime": {
     "end_time": "2022-02-07T09:56:35.394520Z",
     "start_time": "2022-02-07T09:56:32.161Z"
    }
   },
   "outputs": [],
   "source": [
    "axe = RH.plot()\n",
    "axe.legend(bbox_to_anchor=(1,1))\n",
    "axe.grid()"
   ]
  },
  {
   "cell_type": "code",
   "execution_count": null,
   "metadata": {
    "ExecuteTime": {
     "end_time": "2022-02-07T09:56:35.397032Z",
     "start_time": "2022-02-07T09:56:32.162Z"
    }
   },
   "outputs": [],
   "source": [
    "TK = T + Constants.T0K\n",
    "pw = pd.DataFrame(Mix.pisow(TK.values , phi=RH.values/100.)/1000., columns = TK.columns, index = T.index)"
   ]
  },
  {
   "cell_type": "code",
   "execution_count": null,
   "metadata": {
    "ExecuteTime": {
     "end_time": "2022-02-07T09:56:35.399421Z",
     "start_time": "2022-02-07T09:56:32.163Z"
    }
   },
   "outputs": [],
   "source": [
    "axe = Mix.plot()\n",
    "axe.plot(TK, pw, \".\", markersize=3)"
   ]
  },
  {
   "cell_type": "code",
   "execution_count": null,
   "metadata": {},
   "outputs": [],
   "source": []
  },
  {
   "cell_type": "code",
   "execution_count": null,
   "metadata": {},
   "outputs": [],
   "source": []
  },
  {
   "cell_type": "code",
   "execution_count": null,
   "metadata": {},
   "outputs": [],
   "source": []
  }
 ],
 "metadata": {
  "hide_input": false,
  "kernelspec": {
   "display_name": "Python 3",
   "language": "python",
   "name": "python3"
  },
  "language_info": {
   "codemirror_mode": {
    "name": "ipython",
    "version": 3
   },
   "file_extension": ".py",
   "mimetype": "text/x-python",
   "name": "python",
   "nbconvert_exporter": "python",
   "pygments_lexer": "ipython3",
   "version": "3.6.9"
  },
  "toc": {
   "base_numbering": 1,
   "nav_menu": {},
   "number_sections": true,
   "sideBar": true,
   "skip_h1_title": false,
   "title_cell": "Table of Contents",
   "title_sidebar": "Contents",
   "toc_cell": false,
   "toc_position": {},
   "toc_section_display": true,
   "toc_window_display": false
  },
  "varInspector": {
   "cols": {
    "lenName": 16,
    "lenType": 16,
    "lenVar": 40
   },
   "kernels_config": {
    "python": {
     "delete_cmd_postfix": "",
     "delete_cmd_prefix": "del ",
     "library": "var_list.py",
     "varRefreshCmd": "print(var_dic_list())"
    },
    "r": {
     "delete_cmd_postfix": ") ",
     "delete_cmd_prefix": "rm(",
     "library": "var_list.r",
     "varRefreshCmd": "cat(var_dic_list()) "
    }
   },
   "types_to_exclude": [
    "module",
    "function",
    "builtin_function_or_method",
    "instance",
    "_Feature"
   ],
   "window_display": false
  }
 },
 "nbformat": 4,
 "nbformat_minor": 4
}
