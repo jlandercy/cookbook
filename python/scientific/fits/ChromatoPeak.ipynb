{
 "cells": [
  {
   "cell_type": "code",
   "execution_count": 1,
   "metadata": {
    "ExecuteTime": {
     "end_time": "2020-09-18T07:00:51.382686Z",
     "start_time": "2020-09-18T07:00:48.956917Z"
    }
   },
   "outputs": [],
   "source": [
    "import numpy as np\n",
    "from scipy import stats, signal\n",
    "import matplotlib.pyplot as plt\n",
    "%matplotlib inline"
   ]
  },
  {
   "cell_type": "markdown",
   "metadata": {},
   "source": [
    " - https://docs.scipy.org/doc/scipy/reference/signal.html\n",
    " - https://docs.scipy.org/doc/scipy/reference/generated/scipy.signal.find_peaks.html\n",
    " - https://en.wikipedia.org/wiki/Savitzky%E2%80%93Golay_filter\n",
    " - https://docs.scipy.org/doc/scipy-0.16.1/reference/generated/scipy.signal.savgol_filter.html"
   ]
  },
  {
   "cell_type": "code",
   "execution_count": 2,
   "metadata": {
    "ExecuteTime": {
     "end_time": "2020-09-18T07:00:51.429229Z",
     "start_time": "2020-09-18T07:00:51.419199Z"
    }
   },
   "outputs": [],
   "source": [
    "N = 10000\n",
    "t = np.linspace(0, 100, N)"
   ]
  },
  {
   "cell_type": "code",
   "execution_count": 3,
   "metadata": {
    "ExecuteTime": {
     "end_time": "2020-09-18T07:00:51.445078Z",
     "start_time": "2020-09-18T07:00:51.435440Z"
    }
   },
   "outputs": [],
   "source": [
    "baseline = 8e-4*t + 0.71 + np.random.randn(N)*5e-3"
   ]
  },
  {
   "cell_type": "code",
   "execution_count": 4,
   "metadata": {
    "ExecuteTime": {
     "end_time": "2020-09-18T07:00:51.481315Z",
     "start_time": "2020-09-18T07:00:51.449897Z"
    }
   },
   "outputs": [],
   "source": [
    "p1 = stats.norm(scale=0.1, loc=20).pdf(t)\n",
    "p2 = stats.norm(scale=0.2, loc=40).pdf(t)\n",
    "p3 = stats.norm(scale=0.15, loc=60).pdf(t)\n",
    "p4 = stats.norm(scale=0.25, loc=61).pdf(t)\n",
    "p5 = stats.lognorm(0.3, loc=75).pdf(t)\n",
    "p6 = stats.lognorm(0.4, loc=80, scale=0.5).pdf(t)"
   ]
  },
  {
   "cell_type": "code",
   "execution_count": 5,
   "metadata": {
    "ExecuteTime": {
     "end_time": "2020-09-18T07:00:51.513638Z",
     "start_time": "2020-09-18T07:00:51.489145Z"
    }
   },
   "outputs": [],
   "source": [
    "gt = baseline+p1+p2+p3+p4+p5+p6\n",
    "gtf = signal.savgol_filter(tuple(gt), polyorder=3, window_length=25)"
   ]
  },
  {
   "cell_type": "code",
   "execution_count": 6,
   "metadata": {
    "ExecuteTime": {
     "end_time": "2020-09-18T07:00:51.550132Z",
     "start_time": "2020-09-18T07:00:51.522791Z"
    }
   },
   "outputs": [
    {
     "data": {
      "text/plain": [
       "(array([2000, 4000, 5999, 6099, 7591, 8042]),\n",
       " {'peak_heights': array([4.63720462, 2.73395587, 3.40716247, 2.35100555, 2.16106515,\n",
       "         2.93124852]),\n",
       "  'left_thresholds': array([0.01069599, 0.00064302, 0.00932201, 0.00171053, 0.0007622 ,\n",
       "         0.00286836]),\n",
       "  'right_thresholds': array([0.02567224, 0.00414297, 0.00182201, 0.00027495, 0.00114278,\n",
       "         0.00430917]),\n",
       "  'prominences': array([3.91471758, 1.99291032, 2.65099799, 1.4318283 , 1.40030908,\n",
       "         2.15779021]),\n",
       "  'left_bases': array([   4, 2044, 2044, 6042, 6527, 6527]),\n",
       "  'right_bases': array([2044, 4099, 6527, 6527, 8007, 8207]),\n",
       "  'widths': array([24.25528966, 47.20744263, 35.63029311, 54.77994539, 66.319056  ,\n",
       "         41.63829988]),\n",
       "  'width_heights': array([2.67984583, 1.73750071, 2.08166347, 1.6350914 , 1.46091061,\n",
       "         1.85235341]),\n",
       "  'left_ips': array([1987.66779018, 3976.01551013, 5981.6462014 , 6072.03322687,\n",
       "         7563.37112682, 8025.83208937]),\n",
       "  'right_ips': array([2011.92307984, 4023.22295276, 6017.27649452, 6126.81317226,\n",
       "         7629.69018281, 8067.47038924])})"
      ]
     },
     "execution_count": 6,
     "metadata": {},
     "output_type": "execute_result"
    }
   ],
   "source": [
    "peak = signal.find_peaks(gtf, height=1.0, threshold=1e-4, width=0.5, prominence=1)\n",
    "#peak = signal.find_peaks(gt, height=1.0, threshold=2e-3, width=0.1, prominence=1, distance=100)\n",
    "peak"
   ]
  },
  {
   "cell_type": "code",
   "execution_count": 8,
   "metadata": {
    "ExecuteTime": {
     "end_time": "2020-09-18T07:01:44.515028Z",
     "start_time": "2020-09-18T07:01:43.980451Z"
    },
    "scrolled": true
   },
   "outputs": [
    {
     "data": {
      "text/plain": [
       "Text(0, 0.5, 'Signal, $g(t)$')"
      ]
     },
     "execution_count": 8,
     "metadata": {},
     "output_type": "execute_result"
    },
    {
     "data": {
      "image/png": "[encoded data removed]",
      "text/plain": [
       "<Figure size 432x288 with 1 Axes>"
      ]
     },
     "metadata": {
      "needs_background": "light"
     },
     "output_type": "display_data"
    }
   ],
   "source": [
    "fig, axe = plt.subplots()\n",
    "axe.plot(t, gt, '.', markersize=1)\n",
    "axe.plot(t, gtf)\n",
    "axe.plot(t[peak[0]], gt[peak[0]], 'o')\n",
    "axe.plot(t[peak[1]['left_bases']], gt[peak[1]['left_bases']], 'x')\n",
    "axe.plot(t[peak[1]['right_bases']], gt[peak[1]['right_bases']], '+')\n",
    "#axe.set_xlim([55,65])\n",
    "#axe.set_ylim([0.5, 1.0])\n",
    "axe.grid()\n",
    "axe.set_title(\"Peak and baseline detection\")\n",
    "axe.set_xlabel(\"Time, $t$\")\n",
    "axe.set_ylabel(\"Signal, $g(t)$\")\n",
    "#fig.savefig(\"chromato.svg\")"
   ]
  },
  {
   "cell_type": "code",
   "execution_count": null,
   "metadata": {},
   "outputs": [],
   "source": []
  },
  {
   "cell_type": "code",
   "execution_count": null,
   "metadata": {},
   "outputs": [],
   "source": []
  },
  {
   "cell_type": "code",
   "execution_count": null,
   "metadata": {},
   "outputs": [],
   "source": []
  }
 ],
 "metadata": {
  "hide_input": false,
  "kernelspec": {
   "display_name": "Python 3",
   "language": "python",
   "name": "python3"
  },
  "language_info": {
   "codemirror_mode": {
    "name": "ipython",
    "version": 3
   },
   "file_extension": ".py",
   "mimetype": "text/x-python",
   "name": "python",
   "nbconvert_exporter": "python",
   "pygments_lexer": "ipython3",
   "version": "3.6.9"
  },
  "toc": {
   "base_numbering": 1,
   "nav_menu": {},
   "number_sections": true,
   "sideBar": true,
   "skip_h1_title": false,
   "title_cell": "Table of Contents",
   "title_sidebar": "Contents",
   "toc_cell": false,
   "toc_position": {},
   "toc_section_display": true,
   "toc_window_display": false
  },
  "varInspector": {
   "cols": {
    "lenName": 16,
    "lenType": 16,
    "lenVar": 40
   },
   "kernels_config": {
    "python": {
     "delete_cmd_postfix": "",
     "delete_cmd_prefix": "del ",
     "library": "var_list.py",
     "varRefreshCmd": "print(var_dic_list())"
    },
    "r": {
     "delete_cmd_postfix": ") ",
     "delete_cmd_prefix": "rm(",
     "library": "var_list.r",
     "varRefreshCmd": "cat(var_dic_list()) "
    }
   },
   "types_to_exclude": [
    "module",
    "function",
    "builtin_function_or_method",
    "instance",
    "_Feature"
   ],
   "window_display": false
  }
 },
 "nbformat": 4,
 "nbformat_minor": 2
}
