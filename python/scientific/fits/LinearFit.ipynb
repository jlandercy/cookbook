{
 "cells": [
  {
   "cell_type": "markdown",
   "metadata": {},
   "source": [
    "# Linear Regression\n",
    "\n",
    "[Linear Regression][1] (LR) is a quite common task for scientific and can be performed in many fashions most of all methods relying on [Linear Algebra][2].\n",
    "\n",
    "[1]: https://en.wikipedia.org/wiki/Linear_regression\n",
    "[2]: https://en.wikipedia.org/wiki/Linear_algebra"
   ]
  },
  {
   "cell_type": "markdown",
   "metadata": {},
   "source": [
    "## Introduction"
   ]
  },
  {
   "cell_type": "markdown",
   "metadata": {},
   "source": [
    "This notebook is extensively inspired by the excellent [article][1]: \"*8 ways to perform simple linear regression and measure their speed using Python*\" by **Tirthajyoti Sarkar** and investigates side aspects of each method ([source code][2]).\n",
    "\n",
    "[1]: https://medium.freecodecamp.org/data-science-with-python-8-ways-to-do-linear-regression-and-measure-their-speed-b5577d75f8b\n",
    "[2]: https://github.com/tirthajyoti/Python-Machine-Learning-Demo-Tutorials/blob/master/Linear_Regression_Methods.ipynb\n",
    "\n",
    "### Trivial imports\n",
    "\n",
    "Most methods presented here works with the bare use of [`numpy`][3], [`matplotlib`][4] is just a convenience for data display.\n",
    "\n",
    "[3]: http://www.numpy.org/\n",
    "[4]: https://matplotlib.org/"
   ]
  },
  {
   "cell_type": "code",
   "execution_count": 1,
   "metadata": {},
   "outputs": [],
   "source": [
    "import numpy as np\n",
    "import matplotlib.pyplot as plt\n",
    "%matplotlib inline"
   ]
  },
  {
   "cell_type": "markdown",
   "metadata": {},
   "source": [
    "### Functions"
   ]
  },
  {
   "cell_type": "code",
   "execution_count": 100,
   "metadata": {},
   "outputs": [],
   "source": [
    "from collections.abc import Iterable\n",
    "from numbers import Number\n",
    "\n",
    "class Chi2:\n",
    "\n",
    "    def __init__(self, x, mu=None, sx=None, model=None, predictor=None):\n",
    "        \n",
    "        assert isinstance(x, Iterable)\n",
    "        self._x = np.array(x)\n",
    "        \n",
    "        assert (mu is None) or isinstance(mu, Iterable)\n",
    "        assert (model is None) or callable(model)\n",
    "        assert not((mu is None) and (model is None))\n",
    "        if mu is None:\n",
    "            mu = model(predictor)\n",
    "        else:\n",
    "            mu = mu\n",
    "        self._mu = np.array(mu)\n",
    "        assert len(x) == len(mu)\n",
    "        \n",
    "        \n",
    "        assert (predictor is None) or (isinstance(mu, Iterable) and (len(predictor) == len(x)))\n",
    "        assert not((model is None) and (predictor is None) and (mu is None))\n",
    "        self._predictor = predictor\n",
    "        #assert len(predictor)\n",
    "        \n",
    "        if sx is None:\n",
    "            self._sx = np.ones(x.shape)\n",
    "        elif isinstance(sx, Number):\n",
    "            self._sx = np.full(x.shape, sx)\n",
    "        elif isinstance(sx, Iterable):\n",
    "             pass\n",
    "        else:\n",
    "            raise TypeError\n",
    "        self._sx = np.array(sx)\n",
    "        assert len(sx) == len(x)\n",
    "    \n",
    "    @property\n",
    "    def n(self):\n",
    "        return len(self.x)\n",
    "    \n",
    "    @property\n",
    "    def z(self):\n",
    "        return self._predictor\n",
    "    \n",
    "    @property\n",
    "    def x(self):\n",
    "        return self._x\n",
    "    \n",
    "    @property\n",
    "    def mu(self):\n",
    "        return self._mu\n",
    "    \n",
    "    @property\n",
    "    def sx(self):\n",
    "        return self._sx\n",
    "    \n",
    "    def chi_terms(self):\n",
    "        return (self.x - self.mu)/self.sx\n",
    "\n",
    "    def chi2_terms(self):\n",
    "        return self.chi_terms()**2\n",
    "    \n",
    "    def chi2(self):\n",
    "        return np.sum(self.chi2_terms())\n",
    "\n",
    "    def chi2n(self):\n",
    "        return self.chi2()/(self.n - 1)\n",
    "\n",
    "    def chi2ns(self):\n",
    "        sx2 = np.sqrt(2./(self.n - 1))\n",
    "        return (self.chi2n()-1)/sx2\n",
    "    \n",
    "    def plot(self, mode='norm', title=''):\n",
    "        assert isinstance(mode, str)\n",
    "        assert mode in {'norm', 'model'}\n",
    "        fig, axe = plt.subplots()\n",
    "        if (mode=='norm') or (self.z is None):\n",
    "            axe.errorbar(self.mu, self.chi_terms(), yerr=self.sx, marker='x', linestyle='none', linewidth=0.75, label='Trial Data')\n",
    "            axe.axhline(0, linestyle=':', color='k')\n",
    "            axe.set_xlabel(\"Reference, $\\mu$\")\n",
    "            axe.set_ylabel(\"Chi, $\\chi = \\frac{x-\\mu}{s_x}$\")\n",
    "        elif (mode=='model'):\n",
    "            axe.errorbar(self.z, self.x, yerr=self.sx, marker='x', linestyle='none', linewidth=0.75, label='Trial Data')\n",
    "            axe.set_xlabel(\"Variable, $z$\")\n",
    "            axe.set_ylabel(\"Variable, $x = f(z)$\")\n",
    "        axe.set_title(\"Chi Square: %s\" % title)\n",
    "\n",
    "        axe.grid()\n",
    "        axe.legend()\n",
    "        \n",
    "        return fig, axe"
   ]
  },
  {
   "cell_type": "markdown",
   "metadata": {},
   "source": [
    "### Trial Data\n",
    "\n",
    "We generate a trial pseudo-random dataset for the example purpose of a linear relationship between two variables ($X$ and $Y$) with the following model:\n",
    "\n",
    "$$\n",
    "\\begin{equation}\n",
    "Y_i = \\beta_1 X_i + \\beta_0 + \\epsilon_i \\,,\\quad \\epsilon_i \\sim \\mathcal{N}(\\mu = 0, \\sigma_i)\n",
    "\\end{equation}\n",
    "$$\n",
    "\n",
    "Errors on measurement are centered normal with different variances ([Heteroscedasticity][1]).\n",
    "\n",
    "[1]: https://en.wikipedia.org/wiki/Heteroscedasticity\n",
    "\n",
    "#### Generation"
   ]
  },
  {
   "cell_type": "code",
   "execution_count": 92,
   "metadata": {},
   "outputs": [],
   "source": [
    "np.random.seed(12345678)"
   ]
  },
  {
   "cell_type": "code",
   "execution_count": 93,
   "metadata": {},
   "outputs": [],
   "source": [
    "n = 31\n",
    "x = np.linspace(0, 10, n)\n",
    "sx = np.abs(0.65*np.random.randn(n)) + 0.2\n",
    "f = np.poly1d([2, 3])\n",
    "e = np.array([si*np.random.randn(1)[0] for si in sx])\n",
    "y = f(x) + e"
   ]
  },
  {
   "cell_type": "code",
   "execution_count": null,
   "metadata": {},
   "outputs": [],
   "source": []
  },
  {
   "cell_type": "markdown",
   "metadata": {},
   "source": [
    "#### Goodness of Fit\n",
    "\n",
    " - https://en.wikipedia.org/wiki/Goodness_of_fit\n",
    " - http://physics.ucsc.edu/~drip/133/ch4.pdf\n",
    " - https://docs.scipy.org/doc/scipy-0.15.1/reference/generated/scipy.stats.chi2.html\n",
    " - http://www.astroml.org/book_figures/chapter4/fig_chi2_eval.html"
   ]
  },
  {
   "cell_type": "code",
   "execution_count": 94,
   "metadata": {},
   "outputs": [],
   "source": [
    "from scipy import stats"
   ]
  },
  {
   "cell_type": "code",
   "execution_count": 101,
   "metadata": {},
   "outputs": [],
   "source": [
    "X2 = Chi2(y, mu=f(x), sx=sx)"
   ]
  },
  {
   "cell_type": "code",
   "execution_count": 102,
   "metadata": {},
   "outputs": [
    {
     "data": {
      "text/plain": [
       "(<Figure size 432x288 with 1 Axes>,\n",
       " <matplotlib.axes._subplots.AxesSubplot at 0x1aff8340b38>)"
      ]
     },
     "execution_count": 102,
     "metadata": {},
     "output_type": "execute_result"
    },
    {
     "data": {
      "image/png": "[encoded data removed]",
      "text/plain": [
       "<Figure size 432x288 with 1 Axes>"
      ]
     },
     "metadata": {},
     "output_type": "display_data"
    }
   ],
   "source": [
    "X2.plot()"
   ]
  },
  {
   "cell_type": "code",
   "execution_count": 10,
   "metadata": {},
   "outputs": [],
   "source": [
    "X2 = Chi2(y, model=f, predictor=x, sx=sx)"
   ]
  },
  {
   "cell_type": "code",
   "execution_count": null,
   "metadata": {},
   "outputs": [],
   "source": [
    "X2.chi2()"
   ]
  },
  {
   "cell_type": "code",
   "execution_count": null,
   "metadata": {},
   "outputs": [],
   "source": [
    "X2.chi2n()"
   ]
  },
  {
   "cell_type": "code",
   "execution_count": null,
   "metadata": {},
   "outputs": [],
   "source": [
    "X2.chi2ns()"
   ]
  },
  {
   "cell_type": "code",
   "execution_count": null,
   "metadata": {},
   "outputs": [],
   "source": [
    "X2.plot()"
   ]
  },
  {
   "cell_type": "markdown",
   "metadata": {},
   "source": [
    "## Fitting Methods"
   ]
  },
  {
   "cell_type": "markdown",
   "metadata": {
    "heading_collapsed": true
   },
   "source": [
    "### `numpy.polyfit`\n",
    "\n",
    "- https://docs.scipy.org/doc/numpy-1.15.0/reference/generated/numpy.polyfit.html"
   ]
  },
  {
   "cell_type": "code",
   "execution_count": null,
   "metadata": {
    "hidden": true
   },
   "outputs": [],
   "source": [
    "res121_1 = np.polyfit(x, y, 1)\n",
    "res121_1"
   ]
  },
  {
   "cell_type": "code",
   "execution_count": null,
   "metadata": {
    "hidden": true
   },
   "outputs": [],
   "source": [
    "res121_2 = np.polyfit(x, y, 1, w=1/s)\n",
    "res121_2"
   ]
  },
  {
   "cell_type": "code",
   "execution_count": null,
   "metadata": {
    "hidden": true
   },
   "outputs": [],
   "source": [
    "f121_1 = np.poly1d(res121_1)\n",
    "f121_2 = np.poly1d(res121_2)"
   ]
  },
  {
   "cell_type": "code",
   "execution_count": null,
   "metadata": {
    "hidden": true
   },
   "outputs": [],
   "source": [
    "fig, axe = plotData(x, y, s, title='numpy.polyfit')\n",
    "axe.plot(x, f121_1(x), label='Fit')\n",
    "axe.plot(x, f121_2(x), label='Fit W')\n",
    "axe.legend()"
   ]
  },
  {
   "cell_type": "markdown",
   "metadata": {
    "heading_collapsed": true
   },
   "source": [
    "### `scipy.stats.linregress`\n",
    "\n",
    "- https://docs.scipy.org/doc/scipy/reference/generated/scipy.stats.linregress.html"
   ]
  },
  {
   "cell_type": "code",
   "execution_count": null,
   "metadata": {
    "hidden": true
   },
   "outputs": [],
   "source": [
    "from scipy import stats"
   ]
  },
  {
   "cell_type": "code",
   "execution_count": null,
   "metadata": {
    "hidden": true
   },
   "outputs": [],
   "source": [
    "res122 = stats.linregress(x, y)\n",
    "res122"
   ]
  },
  {
   "cell_type": "code",
   "execution_count": null,
   "metadata": {
    "hidden": true
   },
   "outputs": [],
   "source": [
    "f122 = np.poly1d([res122.slope, res122.intercept])"
   ]
  },
  {
   "cell_type": "code",
   "execution_count": null,
   "metadata": {
    "hidden": true
   },
   "outputs": [],
   "source": [
    "fig, axe = plotData(x, y, s, title='scipy.stats.linregress')\n",
    "axe.plot(x, f122(x), label='Fit')\n",
    "axe.legend()"
   ]
  },
  {
   "cell_type": "markdown",
   "metadata": {
    "heading_collapsed": true
   },
   "source": [
    "### `scipy.optimize.curve_fit`\n",
    "\n",
    "- https://docs.scipy.org/doc/scipy/reference/generated/scipy.optimize.curve_fit.html"
   ]
  },
  {
   "cell_type": "code",
   "execution_count": null,
   "metadata": {
    "hidden": true
   },
   "outputs": [],
   "source": [
    "from scipy import optimize"
   ]
  },
  {
   "cell_type": "code",
   "execution_count": null,
   "metadata": {
    "hidden": true
   },
   "outputs": [],
   "source": [
    "def f123p(x, b1, b0):\n",
    "    return b1*x + b0 "
   ]
  },
  {
   "cell_type": "code",
   "execution_count": null,
   "metadata": {
    "hidden": true
   },
   "outputs": [],
   "source": [
    "res123_1 = optimize.curve_fit(f123p, x, y)\n",
    "res123_1"
   ]
  },
  {
   "cell_type": "code",
   "execution_count": null,
   "metadata": {
    "hidden": true
   },
   "outputs": [],
   "source": [
    "res123_2 = optimize.curve_fit(f123p, x, y, sigma=s)\n",
    "res123_2"
   ]
  },
  {
   "cell_type": "code",
   "execution_count": null,
   "metadata": {
    "hidden": true
   },
   "outputs": [],
   "source": [
    "f123_1 = np.poly1d(res123_1[0])\n",
    "f123_2 = np.poly1d(res123_2[0])"
   ]
  },
  {
   "cell_type": "code",
   "execution_count": null,
   "metadata": {
    "hidden": true
   },
   "outputs": [],
   "source": [
    "fig, axe = plotData(x, y, s, title='scipy.optimize.curve_fit')\n",
    "axe.plot(x, f123_1(x), label='Fit')\n",
    "axe.plot(x, f123_2(x), label='Fit W')\n",
    "axe.legend()"
   ]
  },
  {
   "cell_type": "markdown",
   "metadata": {
    "heading_collapsed": true
   },
   "source": [
    "### `numpy.linalg.lstsq`\n",
    "\n",
    " - https://docs.scipy.org/doc/numpy-1.13.0/reference/generated/numpy.linalg.lstsq.html"
   ]
  },
  {
   "cell_type": "code",
   "execution_count": null,
   "metadata": {
    "hidden": true
   },
   "outputs": [],
   "source": [
    "A124 = np.vstack([x, np.ones(len(x))]).T"
   ]
  },
  {
   "cell_type": "code",
   "execution_count": null,
   "metadata": {
    "hidden": true
   },
   "outputs": [],
   "source": [
    "res124 = np.linalg.lstsq(A124, y, rcond=-1)\n",
    "res124"
   ]
  },
  {
   "cell_type": "code",
   "execution_count": null,
   "metadata": {
    "hidden": true
   },
   "outputs": [],
   "source": [
    "f124 = np.poly1d(res124[0])"
   ]
  },
  {
   "cell_type": "code",
   "execution_count": null,
   "metadata": {
    "hidden": true
   },
   "outputs": [],
   "source": [
    "fig, axe = plotData(x, y, s, title='numpy.linalg.lstsq')\n",
    "axe.plot(x, f124(x), label='Fit')\n",
    "axe.legend()"
   ]
  },
  {
   "cell_type": "markdown",
   "metadata": {
    "heading_collapsed": true
   },
   "source": [
    "### `statsmodels.api.OLS`\n",
    "\n",
    "- https://www.statsmodels.org/dev/generated/statsmodels.regression.linear_model.OLS.html\n",
    "- https://www.statsmodels.org/dev/generated/statsmodels.regression.linear_model.OLS.predict.html#statsmodels.regression.linear_model.OLS.predict"
   ]
  },
  {
   "cell_type": "code",
   "execution_count": null,
   "metadata": {
    "hidden": true
   },
   "outputs": [],
   "source": [
    "import statsmodels.api as sm"
   ]
  },
  {
   "cell_type": "code",
   "execution_count": null,
   "metadata": {
    "hidden": true
   },
   "outputs": [],
   "source": [
    "x125 = sm.add_constant(x)"
   ]
  },
  {
   "cell_type": "code",
   "execution_count": null,
   "metadata": {
    "hidden": true
   },
   "outputs": [],
   "source": [
    "model125 = sm.OLS(y, x125)"
   ]
  },
  {
   "cell_type": "code",
   "execution_count": null,
   "metadata": {
    "hidden": true
   },
   "outputs": [],
   "source": [
    "res125 = model125.fit()\n",
    "res125"
   ]
  },
  {
   "cell_type": "code",
   "execution_count": null,
   "metadata": {
    "hidden": true
   },
   "outputs": [],
   "source": [
    "res125.params"
   ]
  },
  {
   "cell_type": "code",
   "execution_count": null,
   "metadata": {
    "hidden": true
   },
   "outputs": [],
   "source": [
    "f125_1 = np.poly1d(np.flipud(res125.params))\n",
    "f125_2 = res125.predict"
   ]
  },
  {
   "cell_type": "code",
   "execution_count": null,
   "metadata": {
    "hidden": true
   },
   "outputs": [],
   "source": [
    "fig, axe = plotData(x, y, s, title='statsmodels.api.OLS')\n",
    "axe.plot(x, f125_1(x), label='Fit')\n",
    "axe.plot(x, f125_2(x125), label='Fit Predict')\n",
    "axe.legend()"
   ]
  },
  {
   "cell_type": "code",
   "execution_count": null,
   "metadata": {
    "hidden": true
   },
   "outputs": [],
   "source": [
    "res125.rsquared"
   ]
  },
  {
   "cell_type": "code",
   "execution_count": null,
   "metadata": {
    "hidden": true
   },
   "outputs": [],
   "source": [
    "res125.summary()"
   ]
  },
  {
   "cell_type": "markdown",
   "metadata": {
    "heading_collapsed": true
   },
   "source": [
    "### `sklearn.linear_model.LinearRegression`\n",
    "\n",
    " - https://scikit-learn.org/stable/modules/generated/sklearn.linear_model.LinearRegression.html"
   ]
  },
  {
   "cell_type": "code",
   "execution_count": null,
   "metadata": {
    "hidden": true
   },
   "outputs": [],
   "source": [
    "from sklearn.linear_model import LinearRegression"
   ]
  },
  {
   "cell_type": "code",
   "execution_count": null,
   "metadata": {
    "hidden": true
   },
   "outputs": [],
   "source": [
    "x126 = x.reshape(-1,1)"
   ]
  },
  {
   "cell_type": "code",
   "execution_count": null,
   "metadata": {
    "hidden": true
   },
   "outputs": [],
   "source": [
    "res126 = LinearRegression().fit(x126, y)\n",
    "res126"
   ]
  },
  {
   "cell_type": "code",
   "execution_count": null,
   "metadata": {
    "hidden": true
   },
   "outputs": [],
   "source": [
    "f126_1 = np.poly1d(np.append(res126.coef_, res126.intercept_))\n",
    "f126_2 = res126.predict"
   ]
  },
  {
   "cell_type": "code",
   "execution_count": null,
   "metadata": {
    "hidden": true
   },
   "outputs": [],
   "source": [
    "res126.score(x126, y)"
   ]
  },
  {
   "cell_type": "code",
   "execution_count": null,
   "metadata": {
    "hidden": true
   },
   "outputs": [],
   "source": [
    "fig, axe = plotData(x, y, s, title='statsmodels.api.OLS')\n",
    "axe.plot(x, f126_1(x), label='Fit')\n",
    "axe.plot(x, f126_2(x126), label='Fit P')\n",
    "axe.legend()"
   ]
  },
  {
   "cell_type": "markdown",
   "metadata": {},
   "source": [
    "### `sklearn.decomposition.PCA`\n",
    "\n",
    " - https://scikit-learn.org/stable/modules/generated/sklearn.decomposition.PCA.html"
   ]
  },
  {
   "cell_type": "code",
   "execution_count": null,
   "metadata": {},
   "outputs": [],
   "source": [
    "from sklearn.decomposition import PCA"
   ]
  },
  {
   "cell_type": "code",
   "execution_count": null,
   "metadata": {},
   "outputs": [],
   "source": [
    "x127 = np.stack([x,y], axis=1)\n",
    "x127m = np.mean(x127, axis=0)\n",
    "x127m"
   ]
  },
  {
   "cell_type": "code",
   "execution_count": null,
   "metadata": {},
   "outputs": [],
   "source": [
    "res127 = PCA(svd_solver='full').fit(x127)\n",
    "res127"
   ]
  },
  {
   "cell_type": "code",
   "execution_count": null,
   "metadata": {},
   "outputs": [],
   "source": [
    "v = res127.components_\n",
    "v"
   ]
  },
  {
   "cell_type": "code",
   "execution_count": null,
   "metadata": {},
   "outputs": [],
   "source": [
    "res127.singular_values_"
   ]
  },
  {
   "cell_type": "code",
   "execution_count": null,
   "metadata": {},
   "outputs": [],
   "source": [
    "res127.mean_"
   ]
  },
  {
   "cell_type": "code",
   "execution_count": null,
   "metadata": {},
   "outputs": [],
   "source": [
    "res127.get_covariance()"
   ]
  },
  {
   "cell_type": "code",
   "execution_count": null,
   "metadata": {},
   "outputs": [],
   "source": [
    "def f1(x):\n",
    "    return -v[1,0]/v[0,0]*(x-x127m[0]) + x127m[1]\n",
    "def f2(x):\n",
    "    return -v[1,1]/v[0,1]*(x-x127m[0]) + x127m[1]"
   ]
  },
  {
   "cell_type": "code",
   "execution_count": null,
   "metadata": {
    "scrolled": true
   },
   "outputs": [],
   "source": [
    "fig, axe = plotData(x, y, s, title='sklearn.decomposition.PCA')\n",
    "axe.plot(x, f1(x), label='Fit 1st')\n",
    "axe.plot(x, f2(x), label='Fit 2nd')\n",
    "#axe.set_aspect('equal', 'box')\n",
    "axe.legend()"
   ]
  },
  {
   "cell_type": "code",
   "execution_count": null,
   "metadata": {},
   "outputs": [],
   "source": []
  }
 ],
 "metadata": {
  "hide_input": false,
  "kernelspec": {
   "display_name": "Python 3",
   "language": "python",
   "name": "python3"
  },
  "language_info": {
   "codemirror_mode": {
    "name": "ipython",
    "version": 3
   },
   "file_extension": ".py",
   "mimetype": "text/x-python",
   "name": "python",
   "nbconvert_exporter": "python",
   "pygments_lexer": "ipython3",
   "version": "3.6.9"
  },
  "toc": {
   "base_numbering": 1,
   "nav_menu": {
    "height": "271px",
    "width": "356px"
   },
   "number_sections": true,
   "sideBar": true,
   "skip_h1_title": false,
   "title_cell": "Table of Contents",
   "title_sidebar": "Contents",
   "toc_cell": false,
   "toc_position": {
    "height": "calc(100% - 180px)",
    "left": "10px",
    "top": "150px",
    "width": "294.667px"
   },
   "toc_section_display": true,
   "toc_window_display": true
  },
  "varInspector": {
   "cols": {
    "lenName": 16,
    "lenType": 16,
    "lenVar": 40
   },
   "kernels_config": {
    "python": {
     "delete_cmd_postfix": "",
     "delete_cmd_prefix": "del ",
     "library": "var_list.py",
     "varRefreshCmd": "print(var_dic_list())"
    },
    "r": {
     "delete_cmd_postfix": ") ",
     "delete_cmd_prefix": "rm(",
     "library": "var_list.r",
     "varRefreshCmd": "cat(var_dic_list()) "
    }
   },
   "types_to_exclude": [
    "module",
    "function",
    "builtin_function_or_method",
    "instance",
    "_Feature"
   ],
   "window_display": false
  }
 },
 "nbformat": 4,
 "nbformat_minor": 2
}
