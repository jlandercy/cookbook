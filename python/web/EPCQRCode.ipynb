{
 "cells": [
  {
   "cell_type": "code",
   "execution_count": 6,
   "metadata": {
    "ExecuteTime": {
     "end_time": "2020-09-06T14:53:56.409623Z",
     "start_time": "2020-09-06T14:53:56.402010Z"
    }
   },
   "outputs": [],
   "source": [
    "from segno import helpers"
   ]
  },
  {
   "cell_type": "code",
   "execution_count": 7,
   "metadata": {
    "ExecuteTime": {
     "end_time": "2020-09-06T14:53:56.921260Z",
     "start_time": "2020-09-06T14:53:56.727787Z"
    }
   },
   "outputs": [],
   "source": [
    "qr = helpers.make_epc_qr(name='Jean Landercy', iban='BE50063919771718', amount=1.11, text='Test me if you dare')"
   ]
  },
  {
   "cell_type": "code",
   "execution_count": null,
   "metadata": {
    "ExecuteTime": {
     "end_time": "2020-09-06T14:54:43.178705Z",
     "start_time": "2020-09-06T14:54:43.099714Z"
    }
   },
   "outputs": [],
   "source": []
  },
  {
   "cell_type": "code",
   "execution_count": 8,
   "metadata": {
    "ExecuteTime": {
     "end_time": "2020-09-06T14:53:57.111043Z",
     "start_time": "2020-09-06T14:53:57.101527Z"
    }
   },
   "outputs": [
    {
     "data": {
      "text/plain": [
       "['__class__',\n",
       " '__delattr__',\n",
       " '__dir__',\n",
       " '__doc__',\n",
       " '__eq__',\n",
       " '__format__',\n",
       " '__ge__',\n",
       " '__getattr__',\n",
       " '__getattribute__',\n",
       " '__gt__',\n",
       " '__hash__',\n",
       " '__init__',\n",
       " '__init_subclass__',\n",
       " '__le__',\n",
       " '__lt__',\n",
       " '__module__',\n",
       " '__ne__',\n",
       " '__new__',\n",
       " '__reduce__',\n",
       " '__reduce_ex__',\n",
       " '__repr__',\n",
       " '__setattr__',\n",
       " '__sizeof__',\n",
       " '__slots__',\n",
       " '__str__',\n",
       " '__subclasshook__',\n",
       " '_error',\n",
       " '_mode',\n",
       " '_version',\n",
       " 'default_border_size',\n",
       " 'designator',\n",
       " 'error',\n",
       " 'is_micro',\n",
       " 'mask',\n",
       " 'matrix',\n",
       " 'matrix_iter',\n",
       " 'mode',\n",
       " 'png_data_uri',\n",
       " 'save',\n",
       " 'show',\n",
       " 'svg_data_uri',\n",
       " 'svg_inline',\n",
       " 'symbol_size',\n",
       " 'terminal',\n",
       " 'version']"
      ]
     },
     "execution_count": 8,
     "metadata": {},
     "output_type": "execute_result"
    }
   ],
   "source": [
    "dir(qr)"
   ]
  },
  {
   "cell_type": "code",
   "execution_count": 6,
   "metadata": {
    "ExecuteTime": {
     "end_time": "2020-09-06T11:11:17.982590Z",
     "start_time": "2020-09-06T11:11:17.970444Z"
    }
   },
   "outputs": [],
   "source": [
    "qr.save('jlandercy.png', scale=3)"
   ]
  },
  {
   "cell_type": "code",
   "execution_count": 1,
   "metadata": {
    "ExecuteTime": {
     "end_time": "2020-09-06T14:53:06.342912Z",
     "start_time": "2020-09-06T14:53:06.272615Z"
    }
   },
   "outputs": [],
   "source": [
    "import segno\n",
    "qr = segno.make('Yellow Submarine', version=7, error='h')"
   ]
  },
  {
   "cell_type": "code",
   "execution_count": null,
   "metadata": {
    "ExecuteTime": {
     "end_time": "2020-09-06T14:54:00.314121Z",
     "start_time": "2020-09-06T14:54:00.259200Z"
    }
   },
   "outputs": [],
   "source": []
  },
  {
   "cell_type": "code",
   "execution_count": 15,
   "metadata": {
    "ExecuteTime": {
     "end_time": "2020-09-06T14:56:54.902029Z",
     "start_time": "2020-09-06T14:56:54.892648Z"
    }
   },
   "outputs": [
    {
     "data": {
      "text/plain": [
       "'<segno.QRCode object at 0x7fde2ccd9ae8>'"
      ]
     },
     "execution_count": 15,
     "metadata": {},
     "output_type": "execute_result"
    }
   ],
   "source": [
    "str(qr)"
   ]
  },
  {
   "cell_type": "code",
   "execution_count": null,
   "metadata": {},
   "outputs": [],
   "source": []
  }
 ],
 "metadata": {
  "hide_input": false,
  "kernelspec": {
   "display_name": "Python 3",
   "language": "python",
   "name": "python3"
  },
  "language_info": {
   "codemirror_mode": {
    "name": "ipython",
    "version": 3
   },
   "file_extension": ".py",
   "mimetype": "text/x-python",
   "name": "python",
   "nbconvert_exporter": "python",
   "pygments_lexer": "ipython3",
   "version": "3.10.6"
  },
  "toc": {
   "base_numbering": 1,
   "nav_menu": {},
   "number_sections": true,
   "sideBar": true,
   "skip_h1_title": false,
   "title_cell": "Table of Contents",
   "title_sidebar": "Contents",
   "toc_cell": false,
   "toc_position": {},
   "toc_section_display": true,
   "toc_window_display": false
  },
  "varInspector": {
   "cols": {
    "lenName": 16,
    "lenType": 16,
    "lenVar": 40
   },
   "kernels_config": {
    "python": {
     "delete_cmd_postfix": "",
     "delete_cmd_prefix": "del ",
     "library": "var_list.py",
     "varRefreshCmd": "print(var_dic_list())"
    },
    "r": {
     "delete_cmd_postfix": ") ",
     "delete_cmd_prefix": "rm(",
     "library": "var_list.r",
     "varRefreshCmd": "cat(var_dic_list()) "
    }
   },
   "types_to_exclude": [
    "module",
    "function",
    "builtin_function_or_method",
    "instance",
    "_Feature"
   ],
   "window_display": false
  }
 },
 "nbformat": 4,
 "nbformat_minor": 4
}
