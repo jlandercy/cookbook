{
 "cells": [
  {
   "cell_type": "code",
   "execution_count": 1,
   "metadata": {
    "ExecuteTime": {
     "end_time": "2022-01-28T08:35:13.172257Z",
     "start_time": "2022-01-28T08:35:12.270544Z"
    }
   },
   "outputs": [
    {
     "name": "stdout",
     "output_type": "stream",
     "text": [
      "1\n",
      "0    jozefeg@gmail.com\n",
      "1    congrat to decode\n",
      "2      happy coding!  \n",
      "dtype: object\n"
     ]
    }
   ],
   "source": [
    "import pandas as pd\n",
    "\n",
    "d = {0: {50: 16, 23: 7, 22: 7, 5: 1, 31: 10, 47: 15, 2: 0, 44: 14, 39: 13, 21: 7, 11: 3, 30: 10, 16: 5, 42: 14, 26: 8, 1: 0, 40: 13, 32: 10, 34: 11, 46: 15, 49: 16, 15: 5, 37: 12, 9: 3, 12: 4, 41: 13, 24: 8, 10: 3, 18: 6, 8: 2, 33: 11, 35: 11, 0: 0, 36: 12, 27: 9, 48: 16, 38: 12, 7: 2, 28: 9, 3: 1, 29: 9, 43: 14, 4: 1, 45: 15, 17: 5, 14: 4, 13: 4, 19: 6, 25: 8, 20: 6, 6: 2}, 1: {50: 2, 23: 2, 22: 1, 5: 2, 31: 1, 47: 2, 2: 2, 44: 2, 39: 0, 21: 0, 11: 2, 30: 0, 16: 1, 42: 0, 26: 2, 1: 1, 40: 1, 32: 2, 34: 1, 46: 1, 49: 1, 15: 0, 37: 1, 9: 0, 12: 0, 41: 2, 24: 0, 10: 1, 18: 0, 8: 2, 33: 0, 35: 2, 0: 0, 36: 0, 27: 0, 48: 0, 38: 2, 7: 1, 28: 1, 3: 0, 29: 2, 43: 1, 4: 1, 45: 0, 17: 2, 14: 2, 13: 1, 19: 1, 25: 1, 20: 2, 6: 0}, 2: {50: 32, 23: 32, 22: 32, 5: 32, 31: 32, 47: 32, 2: 32, 44: 33, 39: 46, 21: 64, 11: 97, 30: 97, 16: 97, 42: 99, 26: 99, 1: 99, 40: 99, 32: 100, 34: 100, 46: 100, 49: 101, 15: 101, 37: 101, 9: 101, 12: 102, 41: 103, 24: 103, 10: 103, 18: 103, 8: 104, 33: 105, 35: 105, 0: 106, 36: 108, 27: 109, 48: 109, 38: 110, 7: 110, 28: 111, 3: 111, 29: 111, 43: 111, 4: 111, 45: 111, 17: 112, 14: 112, 13: 114, 19: 116, 25: 116, 20: 121, 6: 122}}\n",
    "print(pd.DataFrame(d).pivot(0,1,2).applymap(chr).agg(''.join))"
   ]
  },
  {
   "cell_type": "code",
   "execution_count": 2,
   "metadata": {
    "ExecuteTime": {
     "end_time": "2022-01-28T08:35:13.198462Z",
     "start_time": "2022-01-28T08:35:13.176561Z"
    }
   },
   "outputs": [
    {
     "data": {
      "text/plain": [
       "1\n",
       "0    jozefeg@gmail.com\n",
       "1    congrat to decode\n",
       "2      happy coding!  \n",
       "dtype: object"
      ]
     },
     "execution_count": 2,
     "metadata": {},
     "output_type": "execute_result"
    }
   ],
   "source": [
    "pd.DataFrame(d).pivot(0,1,2).applymap(chr).agg(''.join)"
   ]
  },
  {
   "cell_type": "code",
   "execution_count": null,
   "metadata": {},
   "outputs": [],
   "source": []
  }
 ],
 "metadata": {
  "hide_input": false,
  "kernelspec": {
   "display_name": "Python 3",
   "language": "python",
   "name": "python3"
  },
  "language_info": {
   "codemirror_mode": {
    "name": "ipython",
    "version": 3
   },
   "file_extension": ".py",
   "mimetype": "text/x-python",
   "name": "python",
   "nbconvert_exporter": "python",
   "pygments_lexer": "ipython3",
   "version": "3.6.9"
  },
  "toc": {
   "base_numbering": 1,
   "nav_menu": {},
   "number_sections": true,
   "sideBar": true,
   "skip_h1_title": false,
   "title_cell": "Table of Contents",
   "title_sidebar": "Contents",
   "toc_cell": false,
   "toc_position": {},
   "toc_section_display": true,
   "toc_window_display": false
  },
  "varInspector": {
   "cols": {
    "lenName": 16,
    "lenType": 16,
    "lenVar": 40
   },
   "kernels_config": {
    "python": {
     "delete_cmd_postfix": "",
     "delete_cmd_prefix": "del ",
     "library": "var_list.py",
     "varRefreshCmd": "print(var_dic_list())"
    },
    "r": {
     "delete_cmd_postfix": ") ",
     "delete_cmd_prefix": "rm(",
     "library": "var_list.r",
     "varRefreshCmd": "cat(var_dic_list()) "
    }
   },
   "types_to_exclude": [
    "module",
    "function",
    "builtin_function_or_method",
    "instance",
    "_Feature"
   ],
   "window_display": false
  }
 },
 "nbformat": 4,
 "nbformat_minor": 4
}
