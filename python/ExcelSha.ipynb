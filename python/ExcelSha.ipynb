{
 "cells": [
  {
   "cell_type": "code",
   "execution_count": 6,
   "id": "60352f25",
   "metadata": {
    "ExecuteTime": {
     "end_time": "2024-05-27T14:48:04.906178Z",
     "start_time": "2024-05-27T14:48:04.902424Z"
    }
   },
   "outputs": [],
   "source": [
    "import base64\n",
    "import hashlib"
   ]
  },
  {
   "cell_type": "code",
   "execution_count": null,
   "id": "001191af",
   "metadata": {},
   "outputs": [],
   "source": []
  },
  {
   "cell_type": "code",
   "execution_count": 1,
   "id": "da55e61f",
   "metadata": {
    "ExecuteTime": {
     "end_time": "2024-05-27T14:46:55.692433Z",
     "start_time": "2024-05-27T14:46:55.687384Z"
    }
   },
   "outputs": [],
   "source": [
    "hashed = \"PNO0CmMYMKZX472SvxDKR8/ByDG11hBeNZfv1L+oaqgkxh8HWeqJAhrGSXnADSxemwVTnDEClg6hRAJQuKeYhA==\"\n",
    "salted = \"3y5NgoBn79E3RuvzhFVZgw==\""
   ]
  },
  {
   "cell_type": "code",
   "execution_count": 16,
   "id": "7bcc251b",
   "metadata": {
    "ExecuteTime": {
     "end_time": "2024-05-27T14:51:11.730388Z",
     "start_time": "2024-05-27T14:51:11.716955Z"
    }
   },
   "outputs": [
    {
     "data": {
      "text/plain": [
       "b'\\xdf.M\\x82\\x80g\\xef\\xd17F\\xeb\\xf3\\x84UY\\x83'"
      ]
     },
     "execution_count": 16,
     "metadata": {},
     "output_type": "execute_result"
    }
   ],
   "source": [
    "salt = base64.b64decode(salted)\n",
    "salt"
   ]
  },
  {
   "cell_type": "code",
   "execution_count": 21,
   "id": "ff8dd9a3",
   "metadata": {
    "ExecuteTime": {
     "end_time": "2024-05-27T14:52:11.042675Z",
     "start_time": "2024-05-27T14:52:10.872746Z"
    }
   },
   "outputs": [],
   "source": [
    "message = hashlib.sha512()\n",
    "message.update(salt)\n",
    "message.update(\"123456789\".encode('utf-8'))\n"
   ]
  },
  {
   "cell_type": "code",
   "execution_count": 22,
   "id": "079e576b",
   "metadata": {
    "ExecuteTime": {
     "end_time": "2024-05-27T14:52:12.288267Z",
     "start_time": "2024-05-27T14:52:12.250432Z"
    }
   },
   "outputs": [
    {
     "data": {
      "text/plain": [
       "b'g\\xff\\x95\\xc7\\xf1\\x16*\\xcd\\x18\\xcc\\xe1y\\xc5\\x0e:\\x1e\\x13\\x1eP\\xc8Y;\\x9fs\\xe0\\xe8\\xf3\\x90\\xb0\\x18:\\xbb\\xe0\\xabX\\xc2\\x95\\xd7\\xf9\\xab\\xb4?\\xc5h-.:\\xb5\\r\\xaa&x\\x8e^\\xd8\\x10:\\x82\\x99\\x05\\xc2h\\xca\\x82'"
      ]
     },
     "execution_count": 22,
     "metadata": {},
     "output_type": "execute_result"
    }
   ],
   "source": [
    "message.digest()"
   ]
  },
  {
   "cell_type": "code",
   "execution_count": 20,
   "id": "ad12f20a",
   "metadata": {
    "ExecuteTime": {
     "end_time": "2024-05-27T14:51:59.930198Z",
     "start_time": "2024-05-27T14:51:59.766271Z"
    }
   },
   "outputs": [
    {
     "data": {
      "text/plain": [
       "b'<\\xd3\\xb4\\nc\\x180\\xa6W\\xe3\\xbd\\x92\\xbf\\x10\\xcaG\\xcf\\xc1\\xc81\\xb5\\xd6\\x10^5\\x97\\xef\\xd4\\xbf\\xa8j\\xa8$\\xc6\\x1f\\x07Y\\xea\\x89\\x02\\x1a\\xc6Iy\\xc0\\r,^\\x9b\\x05S\\x9c1\\x02\\x96\\x0e\\xa1D\\x02P\\xb8\\xa7\\x98\\x84'"
      ]
     },
     "execution_count": 20,
     "metadata": {},
     "output_type": "execute_result"
    }
   ],
   "source": [
    "base64.b64decode(hashed)"
   ]
  },
  {
   "cell_type": "code",
   "execution_count": null,
   "id": "792006f6",
   "metadata": {},
   "outputs": [],
   "source": []
  }
 ],
 "metadata": {
  "hide_input": false,
  "kernelspec": {
   "display_name": "Python 3",
   "language": "python",
   "name": "python3"
  },
  "language_info": {
   "codemirror_mode": {
    "name": "ipython",
    "version": 3
   },
   "file_extension": ".py",
   "mimetype": "text/x-python",
   "name": "python",
   "nbconvert_exporter": "python",
   "pygments_lexer": "ipython3",
   "version": "3.10.6"
  },
  "toc": {
   "base_numbering": 1,
   "nav_menu": {},
   "number_sections": true,
   "sideBar": true,
   "skip_h1_title": false,
   "title_cell": "Table of Contents",
   "title_sidebar": "Contents",
   "toc_cell": false,
   "toc_position": {},
   "toc_section_display": true,
   "toc_window_display": false
  },
  "varInspector": {
   "cols": {
    "lenName": 16,
    "lenType": 16,
    "lenVar": 40
   },
   "kernels_config": {
    "python": {
     "delete_cmd_postfix": "",
     "delete_cmd_prefix": "del ",
     "library": "var_list.py",
     "varRefreshCmd": "print(var_dic_list())"
    },
    "r": {
     "delete_cmd_postfix": ") ",
     "delete_cmd_prefix": "rm(",
     "library": "var_list.r",
     "varRefreshCmd": "cat(var_dic_list()) "
    }
   },
   "types_to_exclude": [
    "module",
    "function",
    "builtin_function_or_method",
    "instance",
    "_Feature"
   ],
   "window_display": false
  }
 },
 "nbformat": 4,
 "nbformat_minor": 5
}
