{
 "cells": [
  {
   "cell_type": "markdown",
   "id": "7c5b6753",
   "metadata": {},
   "source": [
    " - https://stackoverflow.com/questions/70278957/python-fitting-curve-with-integral-func/70694744#70694744\n",
    " - https://en.wikipedia.org/wiki/Debye_model\n",
    " - https://en.wikipedia.org/wiki/Debye_function\n",
    " - https://en.wikipedia.org/wiki/Dulong%E2%80%93Petit_law"
   ]
  },
  {
   "cell_type": "code",
   "execution_count": 26,
   "id": "d2b48707",
   "metadata": {
    "ExecuteTime": {
     "end_time": "2022-02-04T10:01:16.920422Z",
     "start_time": "2022-02-04T10:01:16.664617Z"
    }
   },
   "outputs": [],
   "source": [
    "import numpy as np\n",
    "from scipy import integrate, optimize, stats\n",
    "import matplotlib.pyplot as plt\n",
    "np.random.seed(123)"
   ]
  },
  {
   "cell_type": "markdown",
   "id": "b1f02c2b",
   "metadata": {},
   "source": [
    "$$\\frac{U}{Nk} = 9T \\left({T\\over T_{\\rm D}}\\right)^3\\int_0^{T_{\\rm D}/T} {x^3\\over e^x-1}\\, \\mathrm{d}x = 3T D_3 \\left({T_{\\rm D}\\over T}\\right)$$\n",
    "\n",
    "$$\\frac{C_V}{Nk} = 9 \\left({T\\over T_{\\rm D}}\\right)^3\\int_0^{T_{\\rm D}/T} {x^4 e^x\\over\\left(e^x-1\\right)^2}\\, dx$$\n",
    "\n",
    "$$D_n(x) = \\frac{n}{x^n} \\int_0^x \\frac{t^n}{e^t - 1}\\,\\mathrm{d}t$$"
   ]
  },
  {
   "cell_type": "code",
   "execution_count": 2,
   "id": "ed0dc875",
   "metadata": {
    "ExecuteTime": {
     "end_time": "2022-02-04T09:37:42.973650Z",
     "start_time": "2022-02-04T09:37:42.948372Z"
    }
   },
   "outputs": [],
   "source": [
    "def Debye(n):\n",
    "    \n",
    "    def integrand(t):\n",
    "        return t**n/(np.exp(t) - 1)\n",
    "    \n",
    "    @np.vectorize\n",
    "    def function(x):\n",
    "        return (n/x**n)*integrate.quad(integrand, 0, x)[0]\n",
    "    \n",
    "    return function"
   ]
  },
  {
   "cell_type": "code",
   "execution_count": 3,
   "id": "b652b4b4",
   "metadata": {
    "ExecuteTime": {
     "end_time": "2022-02-04T09:37:42.991737Z",
     "start_time": "2022-02-04T09:37:42.978569Z"
    }
   },
   "outputs": [],
   "source": [
    "D3 = Debye(3)\n",
    "def energy(x, theta):\n",
    "    return 3*x*D3(theta/x)"
   ]
  },
  {
   "cell_type": "code",
   "execution_count": null,
   "id": "9c5a01dd",
   "metadata": {
    "ExecuteTime": {
     "end_time": "2022-02-04T09:23:32.643232Z",
     "start_time": "2022-02-04T09:23:32.639154Z"
    }
   },
   "outputs": [],
   "source": []
  },
  {
   "cell_type": "code",
   "execution_count": null,
   "id": "48e06150",
   "metadata": {
    "ExecuteTime": {
     "end_time": "2022-02-04T09:23:32.650223Z",
     "start_time": "2022-02-04T09:23:32.646302Z"
    }
   },
   "outputs": [],
   "source": []
  },
  {
   "cell_type": "code",
   "execution_count": 4,
   "id": "b010fa14",
   "metadata": {
    "ExecuteTime": {
     "end_time": "2022-02-04T09:37:43.030492Z",
     "start_time": "2022-02-04T09:37:43.008713Z"
    }
   },
   "outputs": [],
   "source": [
    "TD = 428\n",
    "T = np.arange(25, 551, 20)\n",
    "Un = energy(T, TD)\n",
    "Ur = Un + 10*np.random.randn(Un.size)"
   ]
  },
  {
   "cell_type": "code",
   "execution_count": 5,
   "id": "985b5ed0",
   "metadata": {
    "ExecuteTime": {
     "end_time": "2022-02-04T09:37:43.112840Z",
     "start_time": "2022-02-04T09:37:43.043165Z"
    }
   },
   "outputs": [
    {
     "data": {
      "text/plain": [
       "(array([424.20465445]), array([[11.97832334]]))"
      ]
     },
     "execution_count": 5,
     "metadata": {},
     "output_type": "execute_result"
    }
   ],
   "source": [
    "parameters, covariance = optimize.curve_fit(energy, T, Ur, (300,))\n",
    "parameters, covariance"
   ]
  },
  {
   "cell_type": "code",
   "execution_count": 41,
   "id": "06e8e230",
   "metadata": {
    "ExecuteTime": {
     "end_time": "2022-02-04T10:05:41.205530Z",
     "start_time": "2022-02-04T10:05:41.196827Z"
    }
   },
   "outputs": [],
   "source": [
    "Normal = stats.norm()\n",
    "z = Normal.ppf(0.975)            # 1.959963984540054\n",
    "CI = z*np.sqrt(covariance[0,0])  # 6.783379383753078"
   ]
  },
  {
   "cell_type": "code",
   "execution_count": null,
   "id": "30f408bb",
   "metadata": {},
   "outputs": [],
   "source": []
  },
  {
   "cell_type": "code",
   "execution_count": 6,
   "id": "753fb0b3",
   "metadata": {
    "ExecuteTime": {
     "end_time": "2022-02-04T09:37:43.125927Z",
     "start_time": "2022-02-04T09:37:43.117545Z"
    }
   },
   "outputs": [],
   "source": [
    "Uhat = energy(T, *parameters)"
   ]
  },
  {
   "cell_type": "code",
   "execution_count": 24,
   "id": "b12ee7c2",
   "metadata": {
    "ExecuteTime": {
     "end_time": "2022-02-04T09:51:45.341829Z",
     "start_time": "2022-02-04T09:51:44.738647Z"
    }
   },
   "outputs": [
    {
     "data": {
      "image/png": "[encoded data removed]",
      "text/plain": [
       "<Figure size 432x288 with 1 Axes>"
      ]
     },
     "metadata": {
      "needs_background": "light"
     },
     "output_type": "display_data"
    }
   ],
   "source": [
    "fig, axe = plt.subplots()\n",
    "axe.plot(T, Ur, '.', label=\"Syntehtic Data\")\n",
    "axe.plot(T, Uhat, '-', label=\"NLLS Fit\")\n",
    "axe.set_title(\"Debye Model Adjustment for Aluminium\")\n",
    "axe.set_xlabel(r\"Temperature, $T$ $[\\mathrm{K}]$\")\n",
    "axe.set_ylabel(r\"Internal Energy, $\\frac{U}{Nk}$ $[\\mathrm{K \\cdot molec^{-1}}]$\")\n",
    "axe.legend()\n",
    "axe.grid()"
   ]
  },
  {
   "cell_type": "code",
   "execution_count": 8,
   "id": "2791648a",
   "metadata": {
    "ExecuteTime": {
     "end_time": "2022-02-04T09:37:44.029542Z",
     "start_time": "2022-02-04T09:37:44.024121Z"
    }
   },
   "outputs": [],
   "source": [
    "Tlin = np.linspace(1, 550, 10000)"
   ]
  },
  {
   "cell_type": "code",
   "execution_count": 21,
   "id": "e52f425c",
   "metadata": {
    "ExecuteTime": {
     "end_time": "2022-02-04T09:50:38.671989Z",
     "start_time": "2022-02-04T09:50:37.639715Z"
    }
   },
   "outputs": [],
   "source": [
    "Ulin = energy(Tlin, *parameters)"
   ]
  },
  {
   "cell_type": "code",
   "execution_count": 22,
   "id": "58d40e1a",
   "metadata": {
    "ExecuteTime": {
     "end_time": "2022-02-04T09:50:39.423157Z",
     "start_time": "2022-02-04T09:50:39.417850Z"
    }
   },
   "outputs": [],
   "source": [
    "Cvlin = np.diff(Ulin)/np.diff(Tlin)"
   ]
  },
  {
   "cell_type": "code",
   "execution_count": null,
   "id": "fecc0fac",
   "metadata": {
    "ExecuteTime": {
     "end_time": "2022-02-04T08:53:01.341749Z",
     "start_time": "2022-02-04T08:53:01.334642Z"
    }
   },
   "outputs": [],
   "source": []
  },
  {
   "cell_type": "code",
   "execution_count": 25,
   "id": "d43005f6",
   "metadata": {
    "ExecuteTime": {
     "end_time": "2022-02-04T09:51:50.743316Z",
     "start_time": "2022-02-04T09:51:50.057465Z"
    }
   },
   "outputs": [
    {
     "data": {
      "image/png": "[encoded data removed]",
      "text/plain": [
       "<Figure size 432x288 with 1 Axes>"
      ]
     },
     "metadata": {
      "needs_background": "light"
     },
     "output_type": "display_data"
    }
   ],
   "source": [
    "fig, axe = plt.subplots()\n",
    "axe.plot(Tlin[:-1]/TD, Cvlin, '-', label=\"First Derivative Estimate\")\n",
    "axe.set_title(\"Debye Model Adjustment for Aluminium\")\n",
    "axe.set_xlabel(r\"Realtive Temperature, $T/T_D$ $[-]$\")\n",
    "axe.set_ylabel(r\"Realtive Heat Capacity, $\\frac{C_v}{Nk}$ $[\\mathrm{molec^{-1}}]$\")\n",
    "axe.legend()\n",
    "axe.grid()"
   ]
  },
  {
   "cell_type": "code",
   "execution_count": 30,
   "id": "9db4821a",
   "metadata": {
    "ExecuteTime": {
     "end_time": "2022-02-04T10:01:37.643783Z",
     "start_time": "2022-02-04T10:01:37.637033Z"
    }
   },
   "outputs": [],
   "source": []
  },
  {
   "cell_type": "code",
   "execution_count": 35,
   "id": "4a40c927",
   "metadata": {
    "ExecuteTime": {
     "end_time": "2022-02-04T10:03:49.376966Z",
     "start_time": "2022-02-04T10:03:49.368155Z"
    }
   },
   "outputs": [
    {
     "data": {
      "text/plain": [
       "1.959963984540054"
      ]
     },
     "execution_count": 35,
     "metadata": {},
     "output_type": "execute_result"
    }
   ],
   "source": []
  },
  {
   "cell_type": "code",
   "execution_count": 36,
   "id": "634fd86c",
   "metadata": {
    "ExecuteTime": {
     "end_time": "2022-02-04T10:03:57.887257Z",
     "start_time": "2022-02-04T10:03:57.877261Z"
    }
   },
   "outputs": [
    {
     "data": {
      "text/plain": [
       "-1.9599639845400545"
      ]
     },
     "execution_count": 36,
     "metadata": {},
     "output_type": "execute_result"
    }
   ],
   "source": [
    "N.ppf(0.025)"
   ]
  },
  {
   "cell_type": "code",
   "execution_count": null,
   "id": "76f013a9",
   "metadata": {},
   "outputs": [],
   "source": []
  }
 ],
 "metadata": {
  "hide_input": false,
  "kernelspec": {
   "display_name": "Python 3",
   "language": "python",
   "name": "python3"
  },
  "language_info": {
   "codemirror_mode": {
    "name": "ipython",
    "version": 3
   },
   "file_extension": ".py",
   "mimetype": "text/x-python",
   "name": "python",
   "nbconvert_exporter": "python",
   "pygments_lexer": "ipython3",
   "version": "3.6.9"
  },
  "toc": {
   "base_numbering": 1,
   "nav_menu": {},
   "number_sections": true,
   "sideBar": true,
   "skip_h1_title": false,
   "title_cell": "Table of Contents",
   "title_sidebar": "Contents",
   "toc_cell": false,
   "toc_position": {},
   "toc_section_display": true,
   "toc_window_display": false
  },
  "varInspector": {
   "cols": {
    "lenName": 16,
    "lenType": 16,
    "lenVar": 40
   },
   "kernels_config": {
    "python": {
     "delete_cmd_postfix": "",
     "delete_cmd_prefix": "del ",
     "library": "var_list.py",
     "varRefreshCmd": "print(var_dic_list())"
    },
    "r": {
     "delete_cmd_postfix": ") ",
     "delete_cmd_prefix": "rm(",
     "library": "var_list.r",
     "varRefreshCmd": "cat(var_dic_list()) "
    }
   },
   "types_to_exclude": [
    "module",
    "function",
    "builtin_function_or_method",
    "instance",
    "_Feature"
   ],
   "window_display": false
  }
 },
 "nbformat": 4,
 "nbformat_minor": 5
}
