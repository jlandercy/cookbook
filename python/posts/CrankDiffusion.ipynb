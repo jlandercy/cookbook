{
 "cells": [
  {
   "cell_type": "code",
   "execution_count": 1,
   "id": "22c859f6",
   "metadata": {
    "ExecuteTime": {
     "end_time": "2022-02-05T11:40:08.860333Z",
     "start_time": "2022-02-05T11:40:07.378810Z"
    }
   },
   "outputs": [],
   "source": [
    "import numpy as np\n",
    "from scipy import stats, optimize\n",
    "import matplotlib.pyplot as plt"
   ]
  },
  {
   "cell_type": "code",
   "execution_count": 2,
   "id": "1b2d739c",
   "metadata": {
    "ExecuteTime": {
     "end_time": "2022-02-05T11:40:08.950109Z",
     "start_time": "2022-02-05T11:40:08.864386Z"
    }
   },
   "outputs": [],
   "source": [
    "class Solver:\n",
    "    \n",
    "    def __init__(self, alpha):\n",
    "        self.alpha = alpha\n",
    "        self.roots = {}\n",
    "        \n",
    "    def lhs(self, x):\n",
    "        return np.tan(x)\n",
    "    \n",
    "    def rhs(self, x):\n",
    "        return 3*x/(3 + self.alpha*x**2)\n",
    "\n",
    "    def interval(self, n):\n",
    "        return (- np.pi/2 + n*np.pi, np.pi/2 + n*np.pi)\n",
    "    \n",
    "    def objective(self, x):\n",
    "        return (self.lhs(x) - self.rhs(x))**2\n",
    "\n",
    "    def root(self, n):\n",
    "        if n not in self.roots:\n",
    "            result = optimize.minimize_scalar(\n",
    "                self.objective,\n",
    "                method=\"bounded\",\n",
    "                bounds=self.interval(n)\n",
    "            )\n",
    "            self.roots[n] = result.x\n",
    "        return self.roots[n]\n",
    "    \n",
    "    def compute(self, n):\n",
    "        solutions = []\n",
    "        for i in range(n):\n",
    "            solutions.append(self.root(i+1))\n",
    "        return np.array(solutions)"
   ]
  },
  {
   "cell_type": "code",
   "execution_count": null,
   "id": "5339951f",
   "metadata": {
    "ExecuteTime": {
     "end_time": "2022-02-05T11:24:58.875986Z",
     "start_time": "2022-02-05T11:24:58.869046Z"
    }
   },
   "outputs": [],
   "source": []
  },
  {
   "cell_type": "code",
   "execution_count": 3,
   "id": "3a1ec44e",
   "metadata": {
    "ExecuteTime": {
     "end_time": "2022-02-05T11:40:08.962183Z",
     "start_time": "2022-02-05T11:40:08.956441Z"
    }
   },
   "outputs": [],
   "source": [
    "handler = Solver(3)"
   ]
  },
  {
   "cell_type": "code",
   "execution_count": 4,
   "id": "adc618a9",
   "metadata": {
    "ExecuteTime": {
     "end_time": "2022-02-05T11:40:08.972867Z",
     "start_time": "2022-02-05T11:40:08.967195Z"
    }
   },
   "outputs": [],
   "source": [
    "xlin = np.linspace(0, 10*np.pi, 5000)"
   ]
  },
  {
   "cell_type": "code",
   "execution_count": 5,
   "id": "71ff9a6a",
   "metadata": {
    "ExecuteTime": {
     "end_time": "2022-02-05T11:40:09.013016Z",
     "start_time": "2022-02-05T11:40:08.976741Z"
    }
   },
   "outputs": [],
   "source": [
    "xr = handler.compute(30)"
   ]
  },
  {
   "cell_type": "code",
   "execution_count": 6,
   "id": "e4204e3e",
   "metadata": {
    "ExecuteTime": {
     "end_time": "2022-02-05T11:40:09.029113Z",
     "start_time": "2022-02-05T11:40:09.017491Z"
    }
   },
   "outputs": [
    {
     "data": {
      "text/plain": [
       "array([ 3.40560956,  6.43379729,  9.52821635, 12.64480217, 15.77103322,\n",
       "       18.90226315, 22.03640253, 25.17238551, 28.30960007, 31.44768341,\n",
       "       34.58640073, 37.72559472, 40.86515608, 44.00500651, 47.14508845,\n",
       "       50.28535869, 53.4257841 , 56.5663389 , 59.70700273, 62.84775927,\n",
       "       65.98859531, 69.12950003, 72.27046448, 75.41148122, 78.55254398,\n",
       "       81.69364745, 84.83478712, 87.97595912, 91.11716011, 94.25838718])"
      ]
     },
     "execution_count": 6,
     "metadata": {},
     "output_type": "execute_result"
    }
   ],
   "source": [
    "xr"
   ]
  },
  {
   "cell_type": "code",
   "execution_count": 7,
   "id": "1105406b",
   "metadata": {
    "ExecuteTime": {
     "end_time": "2022-02-05T11:40:09.411430Z",
     "start_time": "2022-02-05T11:40:09.033049Z"
    }
   },
   "outputs": [
    {
     "data": {
      "image/png": "[encoded data removed]",
      "text/plain": [
       "<Figure size 432x288 with 1 Axes>"
      ]
     },
     "metadata": {
      "needs_background": "light"
     },
     "output_type": "display_data"
    }
   ],
   "source": [
    "fig, axe = plt.subplots()\n",
    "axe.plot(xlin, handler.lhs(xlin))\n",
    "axe.plot(xlin, handler.rhs(xlin))\n",
    "axe.plot(xr, handler.rhs(xr), \".\")\n",
    "axe.set_xlim([0, 25])\n",
    "axe.set_ylim([-1, 1])\n",
    "axe.grid()"
   ]
  },
  {
   "cell_type": "code",
   "execution_count": null,
   "id": "dc97b200",
   "metadata": {
    "ExecuteTime": {
     "end_time": "2022-02-05T11:10:25.833990Z",
     "start_time": "2022-02-05T11:10:25.821535Z"
    }
   },
   "outputs": [],
   "source": []
  },
  {
   "cell_type": "code",
   "execution_count": 41,
   "id": "44606b07",
   "metadata": {
    "ExecuteTime": {
     "end_time": "2022-02-05T11:47:26.695912Z",
     "start_time": "2022-02-05T11:47:26.668029Z"
    }
   },
   "outputs": [],
   "source": [
    "class CrankDiffusion:\n",
    "    \n",
    "    def __init__(self, alpha=1, radius=3e-3, partition=1/4, n=30):\n",
    "        self.n = n\n",
    "        self.alpha = alpha\n",
    "        self.partition = partition\n",
    "        self.radius = radius\n",
    "        self.terms = Solver(self.alpha).compute(self.n)\n",
    "        self.objective = np.vectorize(self._objective, excluded='self')\n",
    "        \n",
    "    def sum(self, t, D):\n",
    "        return np.sum([\n",
    "            np.exp(-(D*t*term**2)/(self.radius**2))/(9*(self.alpha + 1) + (self.alpha**2)*term**2)\n",
    "            for term in self.terms\n",
    "        ])\n",
    "    \n",
    "    def _objective(self, t, D):\n",
    "        return self.alpha/(1 + self.alpha) + 6*self.alpha*self.sum(t, D)\n",
    "        "
   ]
  },
  {
   "cell_type": "code",
   "execution_count": 42,
   "id": "bc57ec6c",
   "metadata": {
    "ExecuteTime": {
     "end_time": "2022-02-05T11:47:27.791383Z",
     "start_time": "2022-02-05T11:47:27.768194Z"
    }
   },
   "outputs": [],
   "source": [
    "S = CrankDiffusion()"
   ]
  },
  {
   "cell_type": "code",
   "execution_count": 54,
   "id": "c3c81b2a",
   "metadata": {
    "ExecuteTime": {
     "end_time": "2022-02-05T11:50:01.179171Z",
     "start_time": "2022-02-05T11:50:01.154821Z"
    }
   },
   "outputs": [],
   "source": [
    "tlin = np.linspace(0, 50000, 30)"
   ]
  },
  {
   "cell_type": "code",
   "execution_count": 55,
   "id": "d1064b73",
   "metadata": {
    "ExecuteTime": {
     "end_time": "2022-02-05T11:50:02.085445Z",
     "start_time": "2022-02-05T11:50:02.042036Z"
    }
   },
   "outputs": [],
   "source": [
    "ratio = S.objective(tlin, 1e-10)"
   ]
  },
  {
   "cell_type": "code",
   "execution_count": 56,
   "id": "b21dc47a",
   "metadata": {
    "ExecuteTime": {
     "end_time": "2022-02-05T11:50:03.455485Z",
     "start_time": "2022-02-05T11:50:03.119694Z"
    }
   },
   "outputs": [
    {
     "data": {
      "text/plain": [
       "[<matplotlib.lines.Line2D at 0x7fce223c9278>]"
      ]
     },
     "execution_count": 56,
     "metadata": {},
     "output_type": "execute_result"
    },
    {
     "data": {
      "image/png": "[encoded data removed]",
      "text/plain": [
       "<Figure size 432x288 with 1 Axes>"
      ]
     },
     "metadata": {
      "needs_background": "light"
     },
     "output_type": "display_data"
    }
   ],
   "source": [
    "fig, axe = plt.subplots()\n",
    "axe.plot(tlin, ratio)"
   ]
  },
  {
   "cell_type": "code",
   "execution_count": null,
   "id": "26efadd3",
   "metadata": {},
   "outputs": [],
   "source": []
  },
  {
   "cell_type": "code",
   "execution_count": null,
   "id": "c2af050b",
   "metadata": {},
   "outputs": [],
   "source": []
  }
 ],
 "metadata": {
  "hide_input": false,
  "kernelspec": {
   "display_name": "Python 3",
   "language": "python",
   "name": "python3"
  },
  "language_info": {
   "codemirror_mode": {
    "name": "ipython",
    "version": 3
   },
   "file_extension": ".py",
   "mimetype": "text/x-python",
   "name": "python",
   "nbconvert_exporter": "python",
   "pygments_lexer": "ipython3",
   "version": "3.6.9"
  },
  "toc": {
   "base_numbering": 1,
   "nav_menu": {},
   "number_sections": true,
   "sideBar": true,
   "skip_h1_title": false,
   "title_cell": "Table of Contents",
   "title_sidebar": "Contents",
   "toc_cell": false,
   "toc_position": {},
   "toc_section_display": true,
   "toc_window_display": false
  },
  "varInspector": {
   "cols": {
    "lenName": 16,
    "lenType": 16,
    "lenVar": 40
   },
   "kernels_config": {
    "python": {
     "delete_cmd_postfix": "",
     "delete_cmd_prefix": "del ",
     "library": "var_list.py",
     "varRefreshCmd": "print(var_dic_list())"
    },
    "r": {
     "delete_cmd_postfix": ") ",
     "delete_cmd_prefix": "rm(",
     "library": "var_list.r",
     "varRefreshCmd": "cat(var_dic_list()) "
    }
   },
   "types_to_exclude": [
    "module",
    "function",
    "builtin_function_or_method",
    "instance",
    "_Feature"
   ],
   "window_display": false
  }
 },
 "nbformat": 4,
 "nbformat_minor": 5
}
