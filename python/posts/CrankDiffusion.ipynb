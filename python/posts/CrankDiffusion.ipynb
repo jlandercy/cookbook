{
 "cells": [
  {
   "cell_type": "code",
   "execution_count": 1,
   "id": "8208c93b",
   "metadata": {
    "ExecuteTime": {
     "end_time": "2022-02-05T12:39:10.370886Z",
     "start_time": "2022-02-05T12:39:08.928366Z"
    }
   },
   "outputs": [],
   "source": [
    "import numpy as np\n",
    "from scipy import stats, optimize\n",
    "import matplotlib.pyplot as plt"
   ]
  },
  {
   "cell_type": "code",
   "execution_count": 2,
   "id": "19fa58a5",
   "metadata": {
    "ExecuteTime": {
     "end_time": "2022-02-05T12:39:10.453031Z",
     "start_time": "2022-02-05T12:39:10.374397Z"
    }
   },
   "outputs": [],
   "source": [
    "class Solver:\n",
    "    \n",
    "    def __init__(self, alpha):\n",
    "        self.alpha = alpha\n",
    "        self.roots = {}\n",
    "        \n",
    "    def lhs(self, x):\n",
    "        return np.tan(x)\n",
    "    \n",
    "    def rhs(self, x):\n",
    "        return 3*x/(3 + self.alpha*x**2)\n",
    "\n",
    "    def interval(self, n):\n",
    "        return (- np.pi/2 + n*np.pi, np.pi/2 + n*np.pi)\n",
    "    \n",
    "    def objective(self, x):\n",
    "        return (self.lhs(x) - self.rhs(x))**2\n",
    "\n",
    "    def root(self, n):\n",
    "        if n not in self.roots:\n",
    "            result = optimize.minimize_scalar(\n",
    "                self.objective,\n",
    "                method=\"bounded\",\n",
    "                bounds=self.interval(n)\n",
    "            )\n",
    "            self.roots[n] = result.x\n",
    "        return self.roots[n]\n",
    "    \n",
    "    def compute(self, n):\n",
    "        solutions = []\n",
    "        for i in range(n):\n",
    "            solutions.append(self.root(i+1))\n",
    "        return np.array(solutions)"
   ]
  },
  {
   "cell_type": "code",
   "execution_count": null,
   "id": "37135e15",
   "metadata": {
    "ExecuteTime": {
     "end_time": "2022-02-05T11:24:58.875986Z",
     "start_time": "2022-02-05T11:24:58.869046Z"
    }
   },
   "outputs": [],
   "source": []
  },
  {
   "cell_type": "code",
   "execution_count": 3,
   "id": "cc518f43",
   "metadata": {
    "ExecuteTime": {
     "end_time": "2022-02-05T12:39:10.462669Z",
     "start_time": "2022-02-05T12:39:10.457408Z"
    }
   },
   "outputs": [],
   "source": [
    "handler = Solver(3)"
   ]
  },
  {
   "cell_type": "code",
   "execution_count": 14,
   "id": "48a0e1c3",
   "metadata": {
    "ExecuteTime": {
     "end_time": "2022-02-05T12:39:26.031557Z",
     "start_time": "2022-02-05T12:39:26.026760Z"
    }
   },
   "outputs": [],
   "source": [
    "xlin = np.linspace(-4*np.pi, 10*np.pi, 5000)"
   ]
  },
  {
   "cell_type": "code",
   "execution_count": 19,
   "id": "8e7814bc",
   "metadata": {
    "ExecuteTime": {
     "end_time": "2022-02-05T12:39:49.286749Z",
     "start_time": "2022-02-05T12:39:49.282101Z"
    }
   },
   "outputs": [],
   "source": [
    "xr = handler.compute(10)"
   ]
  },
  {
   "cell_type": "code",
   "execution_count": 20,
   "id": "15642df4",
   "metadata": {
    "ExecuteTime": {
     "end_time": "2022-02-05T12:39:49.977035Z",
     "start_time": "2022-02-05T12:39:49.955175Z"
    }
   },
   "outputs": [
    {
     "data": {
      "text/plain": [
       "array([ 3.40560956,  6.43379729,  9.52821635, 12.64480217, 15.77103322,\n",
       "       18.90226315, 22.03640253, 25.17238551, 28.30960007, 31.44768341])"
      ]
     },
     "execution_count": 20,
     "metadata": {},
     "output_type": "execute_result"
    }
   ],
   "source": [
    "xr"
   ]
  },
  {
   "cell_type": "code",
   "execution_count": 21,
   "id": "5cd15563",
   "metadata": {
    "ExecuteTime": {
     "end_time": "2022-02-05T12:39:51.934691Z",
     "start_time": "2022-02-05T12:39:51.463123Z"
    }
   },
   "outputs": [
    {
     "data": {
      "image/png": "[encoded data removed]",
      "text/plain": [
       "<Figure size 432x288 with 1 Axes>"
      ]
     },
     "metadata": {
      "needs_background": "light"
     },
     "output_type": "display_data"
    }
   ],
   "source": [
    "fig, axe = plt.subplots()\n",
    "axe.plot(xlin, handler.lhs(xlin))\n",
    "axe.plot(xlin, handler.rhs(xlin))\n",
    "axe.plot(xr, handler.rhs(xr), \".\")\n",
    "#axe.set_xlim([-1, 26])\n",
    "axe.set_ylim([-1, 1])\n",
    "axe.grid()"
   ]
  },
  {
   "cell_type": "code",
   "execution_count": null,
   "id": "276bb6cc",
   "metadata": {
    "ExecuteTime": {
     "end_time": "2022-02-05T11:10:25.833990Z",
     "start_time": "2022-02-05T11:10:25.821535Z"
    }
   },
   "outputs": [],
   "source": []
  },
  {
   "cell_type": "code",
   "execution_count": 8,
   "id": "b27bfe61",
   "metadata": {
    "ExecuteTime": {
     "end_time": "2022-02-05T12:39:11.063774Z",
     "start_time": "2022-02-05T12:39:11.025875Z"
    }
   },
   "outputs": [],
   "source": [
    "class CrankDiffusion:\n",
    "    \n",
    "    def __init__(self, alpha=3, radius=1.9e-3, n=30):\n",
    "        self.n = n\n",
    "        self.alpha = alpha\n",
    "        self.radius = radius\n",
    "        self.terms = Solver(self.alpha).compute(self.n)\n",
    "        self.objective = np.vectorize(self._objective, excluded='self')\n",
    "    \n",
    "    def alpha_prime(self, Kp):\n",
    "        return self.alpha/Kp\n",
    "    \n",
    "    def sum(self, t, Kp, D):\n",
    "        return np.sum([\n",
    "            np.exp(-(D*t*term**2)/(self.radius**2))/(9*(self.alpha_prime(Kp) + 1) + (self.alpha_prime(Kp)**2)*term**2)\n",
    "            for term in self.terms\n",
    "        ])\n",
    "    \n",
    "    def _objective(self, t, Kp, D):\n",
    "        return self.alpha/(1 + self.alpha_prime(Kp)) + 6*self.alpha*self.sum(t, Kp, D)\n",
    "        "
   ]
  },
  {
   "cell_type": "code",
   "execution_count": 9,
   "id": "95488fe4",
   "metadata": {
    "ExecuteTime": {
     "end_time": "2022-02-05T12:39:11.138185Z",
     "start_time": "2022-02-05T12:39:11.074385Z"
    }
   },
   "outputs": [],
   "source": [
    "S = CrankDiffusion()"
   ]
  },
  {
   "cell_type": "code",
   "execution_count": 10,
   "id": "e1e60904",
   "metadata": {
    "ExecuteTime": {
     "end_time": "2022-02-05T12:39:11.195329Z",
     "start_time": "2022-02-05T12:39:11.152364Z"
    }
   },
   "outputs": [
    {
     "data": {
      "text/plain": [
       "array([ 3.40560956,  6.43379729,  9.52821635, 12.64480217, 15.77103322,\n",
       "       18.90226315, 22.03640253, 25.17238551, 28.30960007, 31.44768341,\n",
       "       34.58640073, 37.72559472, 40.86515608, 44.00500651, 47.14508845,\n",
       "       50.28535869, 53.4257841 , 56.5663389 , 59.70700273, 62.84775927,\n",
       "       65.98859531, 69.12950003, 72.27046448, 75.41148122, 78.55254398,\n",
       "       81.69364745, 84.83478712, 87.97595912, 91.11716011, 94.25838718])"
      ]
     },
     "execution_count": 10,
     "metadata": {},
     "output_type": "execute_result"
    }
   ],
   "source": [
    "S.terms"
   ]
  },
  {
   "cell_type": "code",
   "execution_count": 11,
   "id": "d69bd191",
   "metadata": {
    "ExecuteTime": {
     "end_time": "2022-02-05T12:39:11.214130Z",
     "start_time": "2022-02-05T12:39:11.197790Z"
    }
   },
   "outputs": [],
   "source": [
    "tlin = np.logspace(-1, 5, 50)"
   ]
  },
  {
   "cell_type": "code",
   "execution_count": 12,
   "id": "0d8ff2b0",
   "metadata": {
    "ExecuteTime": {
     "end_time": "2022-02-05T12:39:11.252938Z",
     "start_time": "2022-02-05T12:39:11.219668Z"
    }
   },
   "outputs": [],
   "source": [
    "ratio = S.objective(tlin, 3.91, 2e-11)"
   ]
  },
  {
   "cell_type": "code",
   "execution_count": 13,
   "id": "57d861e5",
   "metadata": {
    "ExecuteTime": {
     "end_time": "2022-02-05T12:39:11.687298Z",
     "start_time": "2022-02-05T12:39:11.265118Z"
    }
   },
   "outputs": [
    {
     "data": {
      "image/png": "[encoded data removed]",
      "text/plain": [
       "<Figure size 432x288 with 1 Axes>"
      ]
     },
     "metadata": {
      "needs_background": "light"
     },
     "output_type": "display_data"
    }
   ],
   "source": [
    "fig, axe = plt.subplots()\n",
    "axe.plot(tlin, ratio)\n",
    "axe.grid()"
   ]
  },
  {
   "cell_type": "code",
   "execution_count": null,
   "id": "9fd83f90",
   "metadata": {},
   "outputs": [],
   "source": []
  },
  {
   "cell_type": "code",
   "execution_count": null,
   "id": "7a2e6415",
   "metadata": {},
   "outputs": [],
   "source": []
  }
 ],
 "metadata": {
  "hide_input": false,
  "kernelspec": {
   "display_name": "Python 3",
   "language": "python",
   "name": "python3"
  },
  "language_info": {
   "codemirror_mode": {
    "name": "ipython",
    "version": 3
   },
   "file_extension": ".py",
   "mimetype": "text/x-python",
   "name": "python",
   "nbconvert_exporter": "python",
   "pygments_lexer": "ipython3",
   "version": "3.6.9"
  },
  "toc": {
   "base_numbering": 1,
   "nav_menu": {},
   "number_sections": true,
   "sideBar": true,
   "skip_h1_title": false,
   "title_cell": "Table of Contents",
   "title_sidebar": "Contents",
   "toc_cell": false,
   "toc_position": {},
   "toc_section_display": true,
   "toc_window_display": false
  },
  "varInspector": {
   "cols": {
    "lenName": 16,
    "lenType": 16,
    "lenVar": 40
   },
   "kernels_config": {
    "python": {
     "delete_cmd_postfix": "",
     "delete_cmd_prefix": "del ",
     "library": "var_list.py",
     "varRefreshCmd": "print(var_dic_list())"
    },
    "r": {
     "delete_cmd_postfix": ") ",
     "delete_cmd_prefix": "rm(",
     "library": "var_list.r",
     "varRefreshCmd": "cat(var_dic_list()) "
    }
   },
   "types_to_exclude": [
    "module",
    "function",
    "builtin_function_or_method",
    "instance",
    "_Feature"
   ],
   "window_display": false
  }
 },
 "nbformat": 4,
 "nbformat_minor": 5
}
