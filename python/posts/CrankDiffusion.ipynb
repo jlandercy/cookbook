{
 "cells": [
  {
   "cell_type": "code",
   "execution_count": 1,
   "id": "cd61d348",
   "metadata": {
    "ExecuteTime": {
     "end_time": "2022-02-05T15:46:51.715687Z",
     "start_time": "2022-02-05T15:46:49.929672Z"
    }
   },
   "outputs": [],
   "source": [
    "import numpy as np\n",
    "from scipy import stats, optimize\n",
    "import matplotlib.pyplot as plt\n",
    "np.random.seed(123)"
   ]
  },
  {
   "cell_type": "markdown",
   "id": "4f5607c7",
   "metadata": {},
   "source": [
    "$$\\frac{\\partial C}{\\partial t} - \\mathcal{D}\\left( \\frac{\\partial^2 C}{\\partial r^2} + \\frac{2}{r}\\frac{\\partial C}{\\partial r}\\right) = 0$$\n",
    "\n",
    "$$\\gamma(t) = \\frac{C(t,R)}{C(0,R)} = \\frac{\\alpha}{1 + \\alpha} + 6 \\alpha \\sum\\limits_{i=1}^\\infty \\frac{\\exp \\left(-\\mathcal{D}\\frac{q_n^2 t}{R^2}\\right)}{9(\\alpha + 1) + \\alpha^2q_n^2}$$\n",
    "\n",
    "$$\\alpha = \\frac{V_l}{V_s K_p}$$\n",
    "\n",
    "$$\\forall q_n \\in \\mathbb{R}^+_0 \\, | \\, \\tan(q_n) = \\frac{3 q_n}{3 + \\alpha q_n^2} $$"
   ]
  },
  {
   "cell_type": "code",
   "execution_count": 2,
   "id": "a6c93670",
   "metadata": {
    "ExecuteTime": {
     "end_time": "2022-02-05T15:46:51.798772Z",
     "start_time": "2022-02-05T15:46:51.720464Z"
    }
   },
   "outputs": [],
   "source": [
    "class Solver:\n",
    "    \n",
    "    def __init__(self, alpha):\n",
    "        self.alpha = alpha\n",
    "        self.roots = {}\n",
    "        \n",
    "    def lhs(self, x):\n",
    "        return np.tan(x)\n",
    "    \n",
    "    def rhs(self, x):\n",
    "        return 3*x/(3 + self.alpha*x**2)\n",
    "\n",
    "    def interval(self, n):\n",
    "        return (-np.pi/2 + n*np.pi, np.pi/2 + n*np.pi)\n",
    "    \n",
    "    def objective(self, x):\n",
    "        return (self.lhs(x) - self.rhs(x))**2\n",
    "\n",
    "    def root(self, n):\n",
    "        if n not in self.roots:\n",
    "            result = optimize.minimize_scalar(\n",
    "                self.objective,\n",
    "                method=\"bounded\",\n",
    "                bounds=self.interval(n)\n",
    "            )\n",
    "            self.roots[n] = result.x\n",
    "        return self.roots[n]\n",
    "    \n",
    "    def compute(self, n):\n",
    "        solutions = []\n",
    "        for i in range(n):\n",
    "            solutions.append(self.root(i + 1))\n",
    "        return np.array(solutions)"
   ]
  },
  {
   "cell_type": "code",
   "execution_count": null,
   "id": "5f8e6ec0",
   "metadata": {
    "ExecuteTime": {
     "end_time": "2022-02-05T11:24:58.875986Z",
     "start_time": "2022-02-05T11:24:58.869046Z"
    }
   },
   "outputs": [],
   "source": []
  },
  {
   "cell_type": "code",
   "execution_count": 3,
   "id": "db83d904",
   "metadata": {
    "ExecuteTime": {
     "end_time": "2022-02-05T15:46:51.812190Z",
     "start_time": "2022-02-05T15:46:51.804465Z"
    }
   },
   "outputs": [],
   "source": [
    "handler = Solver(3)"
   ]
  },
  {
   "cell_type": "code",
   "execution_count": 4,
   "id": "66522ecc",
   "metadata": {
    "ExecuteTime": {
     "end_time": "2022-02-05T15:46:51.823629Z",
     "start_time": "2022-02-05T15:46:51.817403Z"
    }
   },
   "outputs": [],
   "source": [
    "xlin = np.linspace(-4*np.pi, 10*np.pi, 5000)"
   ]
  },
  {
   "cell_type": "code",
   "execution_count": 5,
   "id": "1c26ecbf",
   "metadata": {
    "ExecuteTime": {
     "end_time": "2022-02-05T15:46:51.848064Z",
     "start_time": "2022-02-05T15:46:51.828777Z"
    }
   },
   "outputs": [],
   "source": [
    "xr = handler.compute(10)"
   ]
  },
  {
   "cell_type": "code",
   "execution_count": 6,
   "id": "88652780",
   "metadata": {
    "ExecuteTime": {
     "end_time": "2022-02-05T15:46:51.872219Z",
     "start_time": "2022-02-05T15:46:51.852726Z"
    }
   },
   "outputs": [
    {
     "data": {
      "text/plain": [
       "array([ 3.40560956,  6.43379729,  9.52821635, 12.64480217, 15.77103322,\n",
       "       18.90226315, 22.03640253, 25.17238551, 28.30960007, 31.44768341])"
      ]
     },
     "execution_count": 6,
     "metadata": {},
     "output_type": "execute_result"
    }
   ],
   "source": [
    "xr"
   ]
  },
  {
   "cell_type": "code",
   "execution_count": 7,
   "id": "372f6c4e",
   "metadata": {
    "ExecuteTime": {
     "end_time": "2022-02-05T15:46:51.888031Z",
     "start_time": "2022-02-05T15:46:51.879200Z"
    }
   },
   "outputs": [],
   "source": [
    "lhs = handler.lhs(xlin)\n",
    "q = np.where(np.diff(lhs) < 0)[0]\n",
    "lhs[q] = np.nan"
   ]
  },
  {
   "cell_type": "code",
   "execution_count": 8,
   "id": "579aee16",
   "metadata": {
    "ExecuteTime": {
     "end_time": "2022-02-05T15:46:52.182397Z",
     "start_time": "2022-02-05T15:46:51.894746Z"
    }
   },
   "outputs": [
    {
     "data": {
      "image/png": "[encoded data removed]",
      "text/plain": [
       "<Figure size 432x288 with 1 Axes>"
      ]
     },
     "metadata": {
      "needs_background": "light"
     },
     "output_type": "display_data"
    }
   ],
   "source": [
    "fig, axe = plt.subplots()\n",
    "axe.plot(xlin, lhs)\n",
    "axe.plot(xlin, handler.rhs(xlin))\n",
    "axe.plot(xr, handler.rhs(xr), \".\", markersize=10)\n",
    "axe.set_xlim([-5, 20])\n",
    "axe.set_ylim([-1, 1])\n",
    "axe.grid()"
   ]
  },
  {
   "cell_type": "code",
   "execution_count": null,
   "id": "4b3fe539",
   "metadata": {
    "ExecuteTime": {
     "end_time": "2022-02-05T11:10:25.833990Z",
     "start_time": "2022-02-05T11:10:25.821535Z"
    }
   },
   "outputs": [],
   "source": []
  },
  {
   "cell_type": "code",
   "execution_count": 9,
   "id": "eaa004fb",
   "metadata": {
    "ExecuteTime": {
     "end_time": "2022-02-05T15:46:52.236485Z",
     "start_time": "2022-02-05T15:46:52.198580Z"
    }
   },
   "outputs": [],
   "source": [
    "class CrankDiffusion:\n",
    "    \n",
    "    def __init__(self, alpha=3, radius=1.9e-3, n=30):\n",
    "        self.n = n\n",
    "        self.alpha = alpha\n",
    "        self.radius = radius\n",
    "        self.objective = np.vectorize(self._objective, excluded='self')\n",
    "    \n",
    "    def alpha_prime(self, Kp):\n",
    "        return self.alpha/Kp\n",
    "    \n",
    "    def sum(self, t, Kp, D):\n",
    "        return np.sum([\n",
    "            np.exp(-(D*t*term**2)/(self.radius**2))/(9*(self.alpha_prime(Kp) + 1) + (self.alpha_prime(Kp)**2)*term**2)\n",
    "            for term in Solver(self.alpha_prime(Kp)).compute(self.n)\n",
    "        ])\n",
    "    \n",
    "    def _objective(self, t, Kp, D):\n",
    "        return self.alpha_prime(Kp)/(1 + self.alpha_prime(Kp)) + 6*self.alpha_prime(Kp)*self.sum(t, Kp, D)\n",
    "        "
   ]
  },
  {
   "cell_type": "code",
   "execution_count": 10,
   "id": "e03ad8db",
   "metadata": {
    "ExecuteTime": {
     "end_time": "2022-02-05T15:46:52.264158Z",
     "start_time": "2022-02-05T15:46:52.245643Z"
    }
   },
   "outputs": [],
   "source": [
    "S = CrankDiffusion()"
   ]
  },
  {
   "cell_type": "code",
   "execution_count": null,
   "id": "40543b49",
   "metadata": {
    "ExecuteTime": {
     "end_time": "2022-02-05T13:11:13.759880Z",
     "start_time": "2022-02-05T13:11:13.637224Z"
    }
   },
   "outputs": [],
   "source": []
  },
  {
   "cell_type": "code",
   "execution_count": 11,
   "id": "2f8d7f5f",
   "metadata": {
    "ExecuteTime": {
     "end_time": "2022-02-05T15:46:52.297886Z",
     "start_time": "2022-02-05T15:46:52.279105Z"
    }
   },
   "outputs": [],
   "source": [
    "tlin = np.logspace(0, 6, 100)"
   ]
  },
  {
   "cell_type": "code",
   "execution_count": 12,
   "id": "a017b688",
   "metadata": {
    "ExecuteTime": {
     "end_time": "2022-02-05T15:46:54.009447Z",
     "start_time": "2022-02-05T15:46:52.308446Z"
    }
   },
   "outputs": [],
   "source": [
    "ratio = S.objective(tlin, 3.9, 2e-11)"
   ]
  },
  {
   "cell_type": "code",
   "execution_count": 13,
   "id": "918c6665",
   "metadata": {
    "ExecuteTime": {
     "end_time": "2022-02-05T15:46:54.217658Z",
     "start_time": "2022-02-05T15:46:54.013285Z"
    }
   },
   "outputs": [
    {
     "data": {
      "image/png": "[encoded data removed]",
      "text/plain": [
       "<Figure size 432x288 with 1 Axes>"
      ]
     },
     "metadata": {
      "needs_background": "light"
     },
     "output_type": "display_data"
    }
   ],
   "source": [
    "fig, axe = plt.subplots()\n",
    "axe.plot(tlin, ratio)\n",
    "axe.grid()"
   ]
  },
  {
   "cell_type": "code",
   "execution_count": 14,
   "id": "4bb70370",
   "metadata": {
    "ExecuteTime": {
     "end_time": "2022-02-05T15:46:54.270513Z",
     "start_time": "2022-02-05T15:46:54.221412Z"
    }
   },
   "outputs": [
    {
     "data": {
      "text/plain": [
       "array(0.97412322)"
      ]
     },
     "execution_count": 14,
     "metadata": {},
     "output_type": "execute_result"
    }
   ],
   "source": [
    "S.objective(0, 3.9, 2e-11)"
   ]
  },
  {
   "cell_type": "code",
   "execution_count": 15,
   "id": "22ad2158",
   "metadata": {
    "ExecuteTime": {
     "end_time": "2022-02-05T15:46:54.604222Z",
     "start_time": "2022-02-05T15:46:54.273100Z"
    }
   },
   "outputs": [],
   "source": [
    "texp = np.logspace(0, 6, 20)\n",
    "rexp = S.objective(texp, 3.9, 2e-11) + np.random.randn(texp.size)*0.005"
   ]
  },
  {
   "cell_type": "code",
   "execution_count": null,
   "id": "88a8627e",
   "metadata": {
    "ExecuteTime": {
     "end_time": "2022-02-05T15:41:42.584007Z",
     "start_time": "2022-02-05T15:41:42.392307Z"
    }
   },
   "outputs": [],
   "source": []
  },
  {
   "cell_type": "code",
   "execution_count": 16,
   "id": "b456a368",
   "metadata": {
    "ExecuteTime": {
     "end_time": "2022-02-05T15:47:05.170286Z",
     "start_time": "2022-02-05T15:46:54.607561Z"
    }
   },
   "outputs": [
    {
     "name": "stderr",
     "output_type": "stream",
     "text": [
      "/usr/local/lib/python3.6/dist-packages/ipykernel_launcher.py:15: RuntimeWarning: overflow encountered in exp\n",
      "  from ipykernel import kernelapp as app\n"
     ]
    }
   ],
   "source": [
    "parameters, covariance = optimize.curve_fit(S.objective, texp, rexp, (5, 1e-10))"
   ]
  },
  {
   "cell_type": "code",
   "execution_count": 17,
   "id": "47155fc9",
   "metadata": {
    "ExecuteTime": {
     "end_time": "2022-02-05T15:47:05.182866Z",
     "start_time": "2022-02-05T15:47:05.173986Z"
    }
   },
   "outputs": [
    {
     "data": {
      "text/plain": [
       "(array([3.82331137e+00, 2.12004031e-11]),\n",
       " array([[ 1.57599053e-03, -2.25070137e-14],\n",
       "        [-2.25070137e-14,  6.06577003e-25]]))"
      ]
     },
     "execution_count": 17,
     "metadata": {},
     "output_type": "execute_result"
    }
   ],
   "source": [
    "parameters, covariance"
   ]
  },
  {
   "cell_type": "code",
   "execution_count": 18,
   "id": "44ab648a",
   "metadata": {
    "ExecuteTime": {
     "end_time": "2022-02-05T15:47:07.217501Z",
     "start_time": "2022-02-05T15:47:05.186623Z"
    }
   },
   "outputs": [],
   "source": [
    "rfit = S.objective(tlin, *parameters)"
   ]
  },
  {
   "cell_type": "code",
   "execution_count": 19,
   "id": "1a4416ca",
   "metadata": {
    "ExecuteTime": {
     "end_time": "2022-02-05T15:47:08.729080Z",
     "start_time": "2022-02-05T15:47:07.222890Z"
    }
   },
   "outputs": [
    {
     "data": {
      "image/png": "[encoded data removed]",
      "text/plain": [
       "<Figure size 432x288 with 1 Axes>"
      ]
     },
     "metadata": {
      "needs_background": "light"
     },
     "output_type": "display_data"
    }
   ],
   "source": [
    "fig, axe = plt.subplots()\n",
    "axe.loglog(texp, rexp, \".\")\n",
    "axe.plot(tlin, rfit)\n",
    "axe.grid(which=\"both\")"
   ]
  },
  {
   "cell_type": "code",
   "execution_count": null,
   "id": "bcb0ef13",
   "metadata": {},
   "outputs": [],
   "source": []
  }
 ],
 "metadata": {
  "hide_input": false,
  "kernelspec": {
   "display_name": "Python 3",
   "language": "python",
   "name": "python3"
  },
  "language_info": {
   "codemirror_mode": {
    "name": "ipython",
    "version": 3
   },
   "file_extension": ".py",
   "mimetype": "text/x-python",
   "name": "python",
   "nbconvert_exporter": "python",
   "pygments_lexer": "ipython3",
   "version": "3.6.9"
  },
  "toc": {
   "base_numbering": 1,
   "nav_menu": {},
   "number_sections": true,
   "sideBar": true,
   "skip_h1_title": false,
   "title_cell": "Table of Contents",
   "title_sidebar": "Contents",
   "toc_cell": false,
   "toc_position": {},
   "toc_section_display": true,
   "toc_window_display": false
  },
  "varInspector": {
   "cols": {
    "lenName": 16,
    "lenType": 16,
    "lenVar": 40
   },
   "kernels_config": {
    "python": {
     "delete_cmd_postfix": "",
     "delete_cmd_prefix": "del ",
     "library": "var_list.py",
     "varRefreshCmd": "print(var_dic_list())"
    },
    "r": {
     "delete_cmd_postfix": ") ",
     "delete_cmd_prefix": "rm(",
     "library": "var_list.r",
     "varRefreshCmd": "cat(var_dic_list()) "
    }
   },
   "types_to_exclude": [
    "module",
    "function",
    "builtin_function_or_method",
    "instance",
    "_Feature"
   ],
   "window_display": false
  }
 },
 "nbformat": 4,
 "nbformat_minor": 5
}
