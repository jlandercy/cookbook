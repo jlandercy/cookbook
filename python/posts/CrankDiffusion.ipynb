{
 "cells": [
  {
   "cell_type": "code",
   "execution_count": 1,
   "id": "cd61d348",
   "metadata": {
    "ExecuteTime": {
     "end_time": "2022-02-05T13:48:14.439862Z",
     "start_time": "2022-02-05T13:48:12.586733Z"
    }
   },
   "outputs": [],
   "source": [
    "import numpy as np\n",
    "from scipy import stats, optimize\n",
    "import matplotlib.pyplot as plt"
   ]
  },
  {
   "cell_type": "markdown",
   "id": "8721c5d3",
   "metadata": {},
   "source": [
    "$$\\frac{\\partial C}{\\partial t} - \\mathcal{D}\\left( \\frac{\\partial^2 C}{\\partial r^2} + \\frac{2}{r}\\frac{\\partial C}{\\partial r}\\right) = 0$$\n",
    "\n",
    "$$\\gamma(t) = \\frac{C(t,R)}{C(0,R)} = \\frac{\\alpha}{1 + \\alpha} + 6 \\alpha \\sum\\limits_{i=1}^\\infty \\frac{\\exp \\left(-\\mathcal{D}\\frac{q_n^2 t}{R^2}\\right)}{9(\\alpha + 1) + \\alpha^2q_n^2}$$\n",
    "\n",
    "$$\\alpha = \\frac{V_l}{V_s K_p}$$\n",
    "\n",
    "$$\\forall q_n \\in \\mathbb{R}^+_0 \\, | \\, \\tan(q_n) = \\frac{3 q_n}{3 + \\alpha q_n^2} $$"
   ]
  },
  {
   "cell_type": "code",
   "execution_count": 2,
   "id": "a6c93670",
   "metadata": {
    "ExecuteTime": {
     "end_time": "2022-02-05T13:48:14.531424Z",
     "start_time": "2022-02-05T13:48:14.444737Z"
    }
   },
   "outputs": [],
   "source": [
    "class Solver:\n",
    "    \n",
    "    def __init__(self, alpha):\n",
    "        self.alpha = alpha\n",
    "        self.roots = {}\n",
    "        \n",
    "    def lhs(self, x):\n",
    "        return np.tan(x)\n",
    "    \n",
    "    def rhs(self, x):\n",
    "        return 3*x/(3 + self.alpha*x**2)\n",
    "\n",
    "    def interval(self, n):\n",
    "        return (-np.pi/2 + n*np.pi, np.pi/2 + n*np.pi)\n",
    "    \n",
    "    def objective(self, x):\n",
    "        return (self.lhs(x) - self.rhs(x))**2\n",
    "\n",
    "    def root(self, n):\n",
    "        if n not in self.roots:\n",
    "            result = optimize.minimize_scalar(\n",
    "                self.objective,\n",
    "                method=\"bounded\",\n",
    "                bounds=self.interval(n)\n",
    "            )\n",
    "            self.roots[n] = result.x\n",
    "        return self.roots[n]\n",
    "    \n",
    "    def compute(self, n):\n",
    "        solutions = []\n",
    "        for i in range(n):\n",
    "            solutions.append(self.root(i + 1))\n",
    "        return np.array(solutions)"
   ]
  },
  {
   "cell_type": "code",
   "execution_count": null,
   "id": "5f8e6ec0",
   "metadata": {
    "ExecuteTime": {
     "end_time": "2022-02-05T11:24:58.875986Z",
     "start_time": "2022-02-05T11:24:58.869046Z"
    }
   },
   "outputs": [],
   "source": []
  },
  {
   "cell_type": "code",
   "execution_count": 3,
   "id": "db83d904",
   "metadata": {
    "ExecuteTime": {
     "end_time": "2022-02-05T13:48:14.541444Z",
     "start_time": "2022-02-05T13:48:14.536508Z"
    }
   },
   "outputs": [],
   "source": [
    "handler = Solver(3)"
   ]
  },
  {
   "cell_type": "code",
   "execution_count": 4,
   "id": "66522ecc",
   "metadata": {
    "ExecuteTime": {
     "end_time": "2022-02-05T13:48:14.553229Z",
     "start_time": "2022-02-05T13:48:14.547018Z"
    }
   },
   "outputs": [],
   "source": [
    "xlin = np.linspace(-4*np.pi, 10*np.pi, 5000)"
   ]
  },
  {
   "cell_type": "code",
   "execution_count": 5,
   "id": "1c26ecbf",
   "metadata": {
    "ExecuteTime": {
     "end_time": "2022-02-05T13:48:14.574680Z",
     "start_time": "2022-02-05T13:48:14.558197Z"
    }
   },
   "outputs": [],
   "source": [
    "xr = handler.compute(10)"
   ]
  },
  {
   "cell_type": "code",
   "execution_count": 6,
   "id": "88652780",
   "metadata": {
    "ExecuteTime": {
     "end_time": "2022-02-05T13:48:14.589532Z",
     "start_time": "2022-02-05T13:48:14.578504Z"
    }
   },
   "outputs": [
    {
     "data": {
      "text/plain": [
       "array([ 3.40560956,  6.43379729,  9.52821635, 12.64480217, 15.77103322,\n",
       "       18.90226315, 22.03640253, 25.17238551, 28.30960007, 31.44768341])"
      ]
     },
     "execution_count": 6,
     "metadata": {},
     "output_type": "execute_result"
    }
   ],
   "source": [
    "xr"
   ]
  },
  {
   "cell_type": "code",
   "execution_count": 7,
   "id": "372f6c4e",
   "metadata": {
    "ExecuteTime": {
     "end_time": "2022-02-05T13:48:14.600621Z",
     "start_time": "2022-02-05T13:48:14.593448Z"
    }
   },
   "outputs": [],
   "source": [
    "lhs = handler.lhs(xlin)\n",
    "q = np.where(np.diff(lhs) < 0)[0]\n",
    "lhs[q] = np.nan"
   ]
  },
  {
   "cell_type": "code",
   "execution_count": 8,
   "id": "579aee16",
   "metadata": {
    "ExecuteTime": {
     "end_time": "2022-02-05T13:48:14.954686Z",
     "start_time": "2022-02-05T13:48:14.606788Z"
    }
   },
   "outputs": [
    {
     "data": {
      "image/png": "[encoded data removed]",
      "text/plain": [
       "<Figure size 432x288 with 1 Axes>"
      ]
     },
     "metadata": {
      "needs_background": "light"
     },
     "output_type": "display_data"
    }
   ],
   "source": [
    "fig, axe = plt.subplots()\n",
    "axe.plot(xlin, lhs)\n",
    "axe.plot(xlin, handler.rhs(xlin))\n",
    "axe.plot(xr, handler.rhs(xr), \".\", markersize=10)\n",
    "axe.set_xlim([-5, 20])\n",
    "axe.set_ylim([-1, 1])\n",
    "axe.grid()"
   ]
  },
  {
   "cell_type": "code",
   "execution_count": null,
   "id": "4b3fe539",
   "metadata": {
    "ExecuteTime": {
     "end_time": "2022-02-05T11:10:25.833990Z",
     "start_time": "2022-02-05T11:10:25.821535Z"
    }
   },
   "outputs": [],
   "source": []
  },
  {
   "cell_type": "code",
   "execution_count": 9,
   "id": "eaa004fb",
   "metadata": {
    "ExecuteTime": {
     "end_time": "2022-02-05T13:48:14.974836Z",
     "start_time": "2022-02-05T13:48:14.959629Z"
    }
   },
   "outputs": [],
   "source": [
    "class CrankDiffusion:\n",
    "    \n",
    "    def __init__(self, alpha=3, radius=1.9e-3, n=30):\n",
    "        self.n = n\n",
    "        self.alpha = alpha\n",
    "        self.radius = radius\n",
    "        self.objective = np.vectorize(self._objective, excluded='self')\n",
    "    \n",
    "    def alpha_prime(self, Kp):\n",
    "        return self.alpha/Kp\n",
    "    \n",
    "    def sum(self, t, Kp, D):\n",
    "        return np.sum([\n",
    "            np.exp(-(D*t*term**2)/(self.radius**2))/(9*(self.alpha_prime(Kp) + 1) + (self.alpha_prime(Kp)**2)*term**2)\n",
    "            for term in Solver(self.alpha_prime(Kp)).compute(self.n)\n",
    "        ])\n",
    "    \n",
    "    def _objective(self, t, Kp, D):\n",
    "        return self.alpha_prime(Kp)/(1 + self.alpha_prime(Kp)) + 6*self.alpha_prime(Kp)*self.sum(t, Kp, D)\n",
    "        "
   ]
  },
  {
   "cell_type": "code",
   "execution_count": 10,
   "id": "e03ad8db",
   "metadata": {
    "ExecuteTime": {
     "end_time": "2022-02-05T13:48:14.983428Z",
     "start_time": "2022-02-05T13:48:14.978662Z"
    }
   },
   "outputs": [],
   "source": [
    "S = CrankDiffusion()"
   ]
  },
  {
   "cell_type": "code",
   "execution_count": null,
   "id": "40543b49",
   "metadata": {
    "ExecuteTime": {
     "end_time": "2022-02-05T13:11:13.759880Z",
     "start_time": "2022-02-05T13:11:13.637224Z"
    }
   },
   "outputs": [],
   "source": []
  },
  {
   "cell_type": "code",
   "execution_count": 11,
   "id": "2f8d7f5f",
   "metadata": {
    "ExecuteTime": {
     "end_time": "2022-02-05T13:48:14.992782Z",
     "start_time": "2022-02-05T13:48:14.987716Z"
    }
   },
   "outputs": [],
   "source": [
    "tlin = np.logspace(-3, 5, 100)"
   ]
  },
  {
   "cell_type": "code",
   "execution_count": 12,
   "id": "a017b688",
   "metadata": {
    "ExecuteTime": {
     "end_time": "2022-02-05T13:48:17.217017Z",
     "start_time": "2022-02-05T13:48:14.996897Z"
    }
   },
   "outputs": [],
   "source": [
    "ratio = S.objective(tlin, 3.9, 2e-11)"
   ]
  },
  {
   "cell_type": "code",
   "execution_count": 18,
   "id": "918c6665",
   "metadata": {
    "ExecuteTime": {
     "end_time": "2022-02-05T13:50:02.874728Z",
     "start_time": "2022-02-05T13:50:02.374696Z"
    }
   },
   "outputs": [
    {
     "data": {
      "image/png": "[encoded data removed]",
      "text/plain": [
       "<Figure size 432x288 with 1 Axes>"
      ]
     },
     "metadata": {
      "needs_background": "light"
     },
     "output_type": "display_data"
    }
   ],
   "source": [
    "fig, axe = plt.subplots()\n",
    "axe.plot(tlin, ratio)\n",
    "axe.grid()"
   ]
  },
  {
   "cell_type": "code",
   "execution_count": 14,
   "id": "4bb70370",
   "metadata": {
    "ExecuteTime": {
     "end_time": "2022-02-05T13:48:17.580963Z",
     "start_time": "2022-02-05T13:48:17.521047Z"
    }
   },
   "outputs": [
    {
     "data": {
      "text/plain": [
       "array(0.97412322)"
      ]
     },
     "execution_count": 14,
     "metadata": {},
     "output_type": "execute_result"
    }
   ],
   "source": [
    "S.objective(0, 3.9, 2e-11)"
   ]
  },
  {
   "cell_type": "code",
   "execution_count": null,
   "id": "22ad2158",
   "metadata": {},
   "outputs": [],
   "source": []
  }
 ],
 "metadata": {
  "hide_input": false,
  "kernelspec": {
   "display_name": "Python 3",
   "language": "python",
   "name": "python3"
  },
  "language_info": {
   "codemirror_mode": {
    "name": "ipython",
    "version": 3
   },
   "file_extension": ".py",
   "mimetype": "text/x-python",
   "name": "python",
   "nbconvert_exporter": "python",
   "pygments_lexer": "ipython3",
   "version": "3.6.9"
  },
  "toc": {
   "base_numbering": 1,
   "nav_menu": {},
   "number_sections": true,
   "sideBar": true,
   "skip_h1_title": false,
   "title_cell": "Table of Contents",
   "title_sidebar": "Contents",
   "toc_cell": false,
   "toc_position": {},
   "toc_section_display": true,
   "toc_window_display": false
  },
  "varInspector": {
   "cols": {
    "lenName": 16,
    "lenType": 16,
    "lenVar": 40
   },
   "kernels_config": {
    "python": {
     "delete_cmd_postfix": "",
     "delete_cmd_prefix": "del ",
     "library": "var_list.py",
     "varRefreshCmd": "print(var_dic_list())"
    },
    "r": {
     "delete_cmd_postfix": ") ",
     "delete_cmd_prefix": "rm(",
     "library": "var_list.r",
     "varRefreshCmd": "cat(var_dic_list()) "
    }
   },
   "types_to_exclude": [
    "module",
    "function",
    "builtin_function_or_method",
    "instance",
    "_Feature"
   ],
   "window_display": false
  }
 },
 "nbformat": 4,
 "nbformat_minor": 5
}
