{
 "cells": [
  {
   "cell_type": "markdown",
   "metadata": {},
   "source": [
    "# Time Series Sampling\n",
    "\n",
    "## Introduction\n",
    "\n",
    "Open Data API (abbreviated to `odapi`) provides convenient interfaces such as the `TimeSerieAPI` interface to make time series management easier to the end user. \n",
    "\n",
    "Those interfaces are derived to create connectors such as the `Irceline` connector. As a first example, we will download a trial dataset from the [Irceline][1] [API][2] using the eponymous connector. Dataset created will be used in subequent notebooks to show time series capabilities of the package.\n",
    "\n",
    "[1]: https://www.irceline.be/en\n",
    "[2]: https://github.com/irceline/open_data\n",
    "\n",
    "### Import package\n",
    "\n",
    "All we need is to import the `Irceline` connector form the `odapi` package:"
   ]
  },
  {
   "cell_type": "code",
   "execution_count": 1,
   "metadata": {
    "ExecuteTime": {
     "end_time": "2022-02-18T11:22:32.910779Z",
     "start_time": "2022-02-18T11:22:29.646824Z"
    }
   },
   "outputs": [],
   "source": [
    "from odapi.connectors import Irceline"
   ]
  },
  {
   "cell_type": "markdown",
   "metadata": {},
   "source": [
    "Additionally, we may silence logs as `odapi` package is bit verbose:"
   ]
  },
  {
   "cell_type": "code",
   "execution_count": 2,
   "metadata": {
    "ExecuteTime": {
     "end_time": "2022-02-18T11:22:32.922219Z",
     "start_time": "2022-02-18T11:22:32.916762Z"
    }
   },
   "outputs": [],
   "source": [
    "from odapi.settings import settings\n",
    "settings.logger.setLevel(40)"
   ]
  },
  {
   "cell_type": "markdown",
   "metadata": {},
   "source": [
    "### Create connector\n",
    "\n",
    "Create a instance of `Irceline` connector to control the Irceline underlying API:"
   ]
  },
  {
   "cell_type": "code",
   "execution_count": 3,
   "metadata": {
    "ExecuteTime": {
     "end_time": "2022-02-18T11:22:32.944003Z",
     "start_time": "2022-02-18T11:22:32.933459Z"
    }
   },
   "outputs": [],
   "source": [
    "client = Irceline()"
   ]
  },
  {
   "cell_type": "markdown",
   "metadata": {},
   "source": [
    "Now, we are ready to use the Open Data API."
   ]
  },
  {
   "cell_type": "markdown",
   "metadata": {},
   "source": [
    "## Create Dataset\n",
    "\n",
    "Now we will create a typical Air Quality Dataset to feed subsequent examples. We will sample Air Quality Data of Brussels City (Central Europe) for the 2014 civil year.\n",
    "\n",
    "### Metadata\n",
    "\n",
    "All interfaces from `odapi` exposes metadata. We fetch the metadata from the Irceline API to se what it holds. Because we are dealing with air quality time series, metadata will looks like measurment channels. We sample 10 channels at random and show the 8 first columns:"
   ]
  },
  {
   "cell_type": "code",
   "execution_count": 4,
   "metadata": {
    "ExecuteTime": {
     "end_time": "2022-02-18T11:22:36.485259Z",
     "start_time": "2022-02-18T11:22:32.948360Z"
    }
   },
   "outputs": [
    {
     "data": {
      "text/html": [
       "<div>\n",
       "<style scoped>\n",
       "    .dataframe tbody tr th:only-of-type {\n",
       "        vertical-align: middle;\n",
       "    }\n",
       "\n",
       "    .dataframe tbody tr th {\n",
       "        vertical-align: top;\n",
       "    }\n",
       "\n",
       "    .dataframe thead th {\n",
       "        text-align: right;\n",
       "    }\n",
       "</style>\n",
       "<table border=\"1\" class=\"dataframe\">\n",
       "  <thead>\n",
       "    <tr style=\"text-align: right;\">\n",
       "      <th></th>\n",
       "      <th>serieid</th>\n",
       "      <th>siteid</th>\n",
       "      <th>measureid</th>\n",
       "      <th>serieunits</th>\n",
       "      <th>measurekey</th>\n",
       "      <th>measurename</th>\n",
       "      <th>sitekey</th>\n",
       "      <th>sitename</th>\n",
       "    </tr>\n",
       "  </thead>\n",
       "  <tbody>\n",
       "    <tr>\n",
       "      <th>335</th>\n",
       "      <td>10873</td>\n",
       "      <td>1710</td>\n",
       "      <td>6002</td>\n",
       "      <td>µg/m³</td>\n",
       "      <td>PM-1.0</td>\n",
       "      <td>Particulate Matter &lt; 1 µm</td>\n",
       "      <td>42R834</td>\n",
       "      <td>Boom</td>\n",
       "    </tr>\n",
       "    <tr>\n",
       "      <th>455</th>\n",
       "      <td>6158</td>\n",
       "      <td>1034</td>\n",
       "      <td>6001</td>\n",
       "      <td>µg/m³</td>\n",
       "      <td>PM-2.5</td>\n",
       "      <td>Particulate Matter &lt; 2.5 µm</td>\n",
       "      <td>40AL05</td>\n",
       "      <td>Beveren</td>\n",
       "    </tr>\n",
       "    <tr>\n",
       "      <th>427</th>\n",
       "      <td>100011</td>\n",
       "      <td>1710</td>\n",
       "      <td>6001</td>\n",
       "      <td>µg/m³</td>\n",
       "      <td>PM-2.5</td>\n",
       "      <td>Particulate Matter &lt; 2.5 µm</td>\n",
       "      <td>42R834</td>\n",
       "      <td>Boom</td>\n",
       "    </tr>\n",
       "    <tr>\n",
       "      <th>407</th>\n",
       "      <td>7034</td>\n",
       "      <td>1198</td>\n",
       "      <td>5</td>\n",
       "      <td>µg/m³</td>\n",
       "      <td>PM-10.0</td>\n",
       "      <td>Particulate Matter &lt; 10 µm</td>\n",
       "      <td>44M705</td>\n",
       "      <td>Roeselare</td>\n",
       "    </tr>\n",
       "    <tr>\n",
       "      <th>585</th>\n",
       "      <td>10962</td>\n",
       "      <td>1142</td>\n",
       "      <td>62101</td>\n",
       "      <td>°C</td>\n",
       "      <td>T</td>\n",
       "      <td>Temperature</td>\n",
       "      <td>42N054</td>\n",
       "      <td>Walshoutem</td>\n",
       "    </tr>\n",
       "    <tr>\n",
       "      <th>601</th>\n",
       "      <td>10979</td>\n",
       "      <td>1723</td>\n",
       "      <td>62101</td>\n",
       "      <td>°C</td>\n",
       "      <td>T</td>\n",
       "      <td>Temperature</td>\n",
       "      <td>42R804</td>\n",
       "      <td>Antwerpen (Ring)</td>\n",
       "    </tr>\n",
       "    <tr>\n",
       "      <th>421</th>\n",
       "      <td>100001</td>\n",
       "      <td>1044</td>\n",
       "      <td>6001</td>\n",
       "      <td>µg/m³</td>\n",
       "      <td>PM-2.5</td>\n",
       "      <td>Particulate Matter &lt; 2.5 µm</td>\n",
       "      <td>40GK06</td>\n",
       "      <td>Genk</td>\n",
       "    </tr>\n",
       "    <tr>\n",
       "      <th>356</th>\n",
       "      <td>10762</td>\n",
       "      <td>1723</td>\n",
       "      <td>5</td>\n",
       "      <td>µg/m³</td>\n",
       "      <td>PM-10.0</td>\n",
       "      <td>Particulate Matter &lt; 10 µm</td>\n",
       "      <td>42R804</td>\n",
       "      <td>Antwerpen (Ring)</td>\n",
       "    </tr>\n",
       "    <tr>\n",
       "      <th>352</th>\n",
       "      <td>10691</td>\n",
       "      <td>1719</td>\n",
       "      <td>5</td>\n",
       "      <td>µg/m³</td>\n",
       "      <td>PM-10.0</td>\n",
       "      <td>Particulate Matter &lt; 10 µm</td>\n",
       "      <td>40SA04</td>\n",
       "      <td>Hoevenen</td>\n",
       "    </tr>\n",
       "    <tr>\n",
       "      <th>140</th>\n",
       "      <td>6817</td>\n",
       "      <td>1157</td>\n",
       "      <td>8</td>\n",
       "      <td>µg/m³</td>\n",
       "      <td>NO2</td>\n",
       "      <td>Nitrogen dioxide</td>\n",
       "      <td>42R822</td>\n",
       "      <td>Antwerpen</td>\n",
       "    </tr>\n",
       "  </tbody>\n",
       "</table>\n",
       "</div>"
      ],
      "text/plain": [
       "    serieid  siteid measureid serieunits measurekey  \\\n",
       "335   10873    1710      6002      µg/m³     PM-1.0   \n",
       "455    6158    1034      6001      µg/m³     PM-2.5   \n",
       "427  100011    1710      6001      µg/m³     PM-2.5   \n",
       "407    7034    1198         5      µg/m³    PM-10.0   \n",
       "585   10962    1142     62101         °C          T   \n",
       "601   10979    1723     62101         °C          T   \n",
       "421  100001    1044      6001      µg/m³     PM-2.5   \n",
       "356   10762    1723         5      µg/m³    PM-10.0   \n",
       "352   10691    1719         5      µg/m³    PM-10.0   \n",
       "140    6817    1157         8      µg/m³        NO2   \n",
       "\n",
       "                     measurename sitekey           sitename  \n",
       "335    Particulate Matter < 1 µm  42R834               Boom  \n",
       "455  Particulate Matter < 2.5 µm  40AL05            Beveren  \n",
       "427  Particulate Matter < 2.5 µm  42R834               Boom  \n",
       "407   Particulate Matter < 10 µm  44M705          Roeselare  \n",
       "585                  Temperature  42N054         Walshoutem  \n",
       "601                  Temperature  42R804   Antwerpen (Ring)  \n",
       "421  Particulate Matter < 2.5 µm  40GK06               Genk  \n",
       "356   Particulate Matter < 10 µm  42R804   Antwerpen (Ring)  \n",
       "352   Particulate Matter < 10 µm  40SA04           Hoevenen  \n",
       "140             Nitrogen dioxide  42R822          Antwerpen  "
      ]
     },
     "execution_count": 4,
     "metadata": {},
     "output_type": "execute_result"
    }
   ],
   "source": [
    "meta = client.meta\n",
    "meta.sample(10).iloc[:,:8]"
   ]
  },
  {
   "cell_type": "markdown",
   "metadata": {},
   "source": [
    "The complete list of available metadata is:"
   ]
  },
  {
   "cell_type": "code",
   "execution_count": 5,
   "metadata": {
    "ExecuteTime": {
     "end_time": "2022-02-18T11:22:36.500354Z",
     "start_time": "2022-02-18T11:22:36.490300Z"
    }
   },
   "outputs": [
    {
     "data": {
      "text/plain": [
       "serieid                      object\n",
       "siteid                        int64\n",
       "measureid                    object\n",
       "serieunits                   object\n",
       "measurekey                   object\n",
       "measurename                  object\n",
       "sitekey                      object\n",
       "sitename                     object\n",
       "seriekey                     object\n",
       "molarmass                   float64\n",
       "factor                      float64\n",
       "sitelocation                 object\n",
       "sitetype                     object\n",
       "lat                         float64\n",
       "lon                         float64\n",
       "nuts1id                      object\n",
       "nuts2id                      object\n",
       "nuts3id                      object\n",
       "nuts1name                    object\n",
       "nuts2name                    object\n",
       "nuts3name                    object\n",
       "lauid                        object\n",
       "launame                      object\n",
       "started         datetime64[ns, UTC]\n",
       "stopped         datetime64[ns, UTC]\n",
       "dtype: object"
      ]
     },
     "execution_count": 5,
     "metadata": {},
     "output_type": "execute_result"
    }
   ],
   "source": [
    "meta.dtypes"
   ]
  },
  {
   "cell_type": "markdown",
   "metadata": {},
   "source": [
    "The main columns we are concerned about are:"
   ]
  },
  {
   "cell_type": "code",
   "execution_count": 6,
   "metadata": {
    "ExecuteTime": {
     "end_time": "2022-02-18T11:22:36.510463Z",
     "start_time": "2022-02-18T11:22:36.505148Z"
    }
   },
   "outputs": [],
   "source": [
    "keys = ['serieid', 'seriekey', 'measurekey', 'sitekey', 'measurename', 'sitename']"
   ]
  },
  {
   "cell_type": "code",
   "execution_count": 7,
   "metadata": {
    "ExecuteTime": {
     "end_time": "2022-02-18T11:22:36.526466Z",
     "start_time": "2022-02-18T11:22:36.518602Z"
    }
   },
   "outputs": [
    {
     "data": {
      "text/plain": [
       "array(['1,2-XYLENE O-XYLENE', 'Ammonia', 'p', 'BZN', 'BC', 'CO2', 'CO',\n",
       "       'Hg', 'EBZ', 'MPX', 'NO2', 'NO', 'O3', 'PM-1.0', 'PM-10.0',\n",
       "       'PM-2.5', 'Relative Humidity', 'SO2', 'T', 'TOL', 'WD', 'WS'],\n",
       "      dtype=object)"
      ]
     },
     "execution_count": 7,
     "metadata": {},
     "output_type": "execute_result"
    }
   ],
   "source": [
    "client.meta.measurekey.unique()"
   ]
  },
  {
   "cell_type": "markdown",
   "metadata": {},
   "source": [
    "#### Selection \n",
    "\n",
    "From this, we can make a precise selection of measurement channels using the `select` method (`sitekey` starting by `41` are located in Brussels):"
   ]
  },
  {
   "cell_type": "code",
   "execution_count": 8,
   "metadata": {
    "ExecuteTime": {
     "end_time": "2022-02-18T11:22:36.625845Z",
     "start_time": "2022-02-18T11:22:36.532973Z"
    }
   },
   "outputs": [
    {
     "data": {
      "text/html": [
       "<div>\n",
       "<style scoped>\n",
       "    .dataframe tbody tr th:only-of-type {\n",
       "        vertical-align: middle;\n",
       "    }\n",
       "\n",
       "    .dataframe tbody tr th {\n",
       "        vertical-align: top;\n",
       "    }\n",
       "\n",
       "    .dataframe thead th {\n",
       "        text-align: right;\n",
       "    }\n",
       "</style>\n",
       "<table border=\"1\" class=\"dataframe\">\n",
       "  <thead>\n",
       "    <tr style=\"text-align: right;\">\n",
       "      <th></th>\n",
       "      <th>serieid</th>\n",
       "      <th>seriekey</th>\n",
       "      <th>measurekey</th>\n",
       "      <th>sitekey</th>\n",
       "      <th>measurename</th>\n",
       "      <th>sitename</th>\n",
       "    </tr>\n",
       "  </thead>\n",
       "  <tbody>\n",
       "    <tr>\n",
       "      <th>30</th>\n",
       "      <td>11009</td>\n",
       "      <td>p/41R001 (hPa)</td>\n",
       "      <td>p</td>\n",
       "      <td>41R001</td>\n",
       "      <td>Atmospheric  Pressure</td>\n",
       "      <td>Molenbeek-Saint-Jean</td>\n",
       "    </tr>\n",
       "    <tr>\n",
       "      <th>48</th>\n",
       "      <td>10607</td>\n",
       "      <td>BC/41R012 (µg/m³)</td>\n",
       "      <td>BC</td>\n",
       "      <td>41R012</td>\n",
       "      <td>Black Carbon</td>\n",
       "      <td>Uccle</td>\n",
       "    </tr>\n",
       "    <tr>\n",
       "      <th>51</th>\n",
       "      <td>10693</td>\n",
       "      <td>BC/41N043 (µg/m³)</td>\n",
       "      <td>BC</td>\n",
       "      <td>41N043</td>\n",
       "      <td>Black Carbon</td>\n",
       "      <td>Haren</td>\n",
       "    </tr>\n",
       "    <tr>\n",
       "      <th>63</th>\n",
       "      <td>6569</td>\n",
       "      <td>BC/41R001 (µg/m³)</td>\n",
       "      <td>BC</td>\n",
       "      <td>41R001</td>\n",
       "      <td>Black Carbon</td>\n",
       "      <td>Molenbeek-Saint-Jean</td>\n",
       "    </tr>\n",
       "    <tr>\n",
       "      <th>64</th>\n",
       "      <td>6609</td>\n",
       "      <td>BC/41R002 (µg/m³)</td>\n",
       "      <td>BC</td>\n",
       "      <td>41R002</td>\n",
       "      <td>Black Carbon</td>\n",
       "      <td>Ixelles</td>\n",
       "    </tr>\n",
       "    <tr>\n",
       "      <th>...</th>\n",
       "      <td>...</td>\n",
       "      <td>...</td>\n",
       "      <td>...</td>\n",
       "      <td>...</td>\n",
       "      <td>...</td>\n",
       "      <td>...</td>\n",
       "    </tr>\n",
       "    <tr>\n",
       "      <th>617</th>\n",
       "      <td>99941</td>\n",
       "      <td>T/41R012 (°C)</td>\n",
       "      <td>T</td>\n",
       "      <td>41R012</td>\n",
       "      <td>Temperature</td>\n",
       "      <td>Uccle</td>\n",
       "    </tr>\n",
       "    <tr>\n",
       "      <th>623</th>\n",
       "      <td>99915</td>\n",
       "      <td>WD/41R001 (°G)</td>\n",
       "      <td>WD</td>\n",
       "      <td>41R001</td>\n",
       "      <td>Wind Direction</td>\n",
       "      <td>Molenbeek-Saint-Jean</td>\n",
       "    </tr>\n",
       "    <tr>\n",
       "      <th>624</th>\n",
       "      <td>99939</td>\n",
       "      <td>WD/41R012 (°G)</td>\n",
       "      <td>WD</td>\n",
       "      <td>41R012</td>\n",
       "      <td>Wind Direction</td>\n",
       "      <td>Uccle</td>\n",
       "    </tr>\n",
       "    <tr>\n",
       "      <th>629</th>\n",
       "      <td>99916</td>\n",
       "      <td>WS/41R001 (m/s)</td>\n",
       "      <td>WS</td>\n",
       "      <td>41R001</td>\n",
       "      <td>Wind Speed (scalar)</td>\n",
       "      <td>Molenbeek-Saint-Jean</td>\n",
       "    </tr>\n",
       "    <tr>\n",
       "      <th>630</th>\n",
       "      <td>99940</td>\n",
       "      <td>WS/41R012 (m/s)</td>\n",
       "      <td>WS</td>\n",
       "      <td>41R012</td>\n",
       "      <td>Wind Speed (scalar)</td>\n",
       "      <td>Uccle</td>\n",
       "    </tr>\n",
       "  </tbody>\n",
       "</table>\n",
       "<p>71 rows × 6 columns</p>\n",
       "</div>"
      ],
      "text/plain": [
       "    serieid           seriekey measurekey sitekey            measurename  \\\n",
       "30    11009     p/41R001 (hPa)          p  41R001  Atmospheric  Pressure   \n",
       "48    10607  BC/41R012 (µg/m³)         BC  41R012           Black Carbon   \n",
       "51    10693  BC/41N043 (µg/m³)         BC  41N043           Black Carbon   \n",
       "63     6569  BC/41R001 (µg/m³)         BC  41R001           Black Carbon   \n",
       "64     6609  BC/41R002 (µg/m³)         BC  41R002           Black Carbon   \n",
       "..      ...                ...        ...     ...                    ...   \n",
       "617   99941      T/41R012 (°C)          T  41R012            Temperature   \n",
       "623   99915     WD/41R001 (°G)         WD  41R001         Wind Direction   \n",
       "624   99939     WD/41R012 (°G)         WD  41R012         Wind Direction   \n",
       "629   99916    WS/41R001 (m/s)         WS  41R001    Wind Speed (scalar)   \n",
       "630   99940    WS/41R012 (m/s)         WS  41R012    Wind Speed (scalar)   \n",
       "\n",
       "                  sitename  \n",
       "30    Molenbeek-Saint-Jean  \n",
       "48                   Uccle  \n",
       "51                   Haren  \n",
       "63    Molenbeek-Saint-Jean  \n",
       "64                 Ixelles  \n",
       "..                     ...  \n",
       "617                  Uccle  \n",
       "623   Molenbeek-Saint-Jean  \n",
       "624                  Uccle  \n",
       "629   Molenbeek-Saint-Jean  \n",
       "630                  Uccle  \n",
       "\n",
       "[71 rows x 6 columns]"
      ]
     },
     "execution_count": 8,
     "metadata": {},
     "output_type": "execute_result"
    }
   ],
   "source": [
    "sel = client.select(sitekey='41....',\n",
    "                    measurekey=['NO', 'O3', 'CO', 'SO2',\n",
    "                                'PM-', 'BC', 'RH', 'T$', 'W', 'p'])[keys]\n",
    "sel"
   ]
  },
  {
   "cell_type": "code",
   "execution_count": 9,
   "metadata": {
    "ExecuteTime": {
     "end_time": "2022-02-18T11:22:36.659015Z",
     "start_time": "2022-02-18T11:22:36.631711Z"
    }
   },
   "outputs": [
    {
     "data": {
      "text/html": [
       "<div>\n",
       "<style scoped>\n",
       "    .dataframe tbody tr th:only-of-type {\n",
       "        vertical-align: middle;\n",
       "    }\n",
       "\n",
       "    .dataframe tbody tr th {\n",
       "        vertical-align: top;\n",
       "    }\n",
       "\n",
       "    .dataframe thead th {\n",
       "        text-align: right;\n",
       "    }\n",
       "</style>\n",
       "<table border=\"1\" class=\"dataframe\">\n",
       "  <thead>\n",
       "    <tr style=\"text-align: right;\">\n",
       "      <th></th>\n",
       "      <th>serieid</th>\n",
       "      <th>seriekey</th>\n",
       "      <th>measurekey</th>\n",
       "      <th>sitekey</th>\n",
       "      <th>measurename</th>\n",
       "      <th>sitename</th>\n",
       "    </tr>\n",
       "  </thead>\n",
       "  <tbody>\n",
       "    <tr>\n",
       "      <th>30</th>\n",
       "      <td>11009</td>\n",
       "      <td>p/41R001 (hPa)</td>\n",
       "      <td>p</td>\n",
       "      <td>41R001</td>\n",
       "      <td>Atmospheric  Pressure</td>\n",
       "      <td>Molenbeek-Saint-Jean</td>\n",
       "    </tr>\n",
       "    <tr>\n",
       "      <th>48</th>\n",
       "      <td>10607</td>\n",
       "      <td>BC/41R012 (µg/m³)</td>\n",
       "      <td>BC</td>\n",
       "      <td>41R012</td>\n",
       "      <td>Black Carbon</td>\n",
       "      <td>Uccle</td>\n",
       "    </tr>\n",
       "    <tr>\n",
       "      <th>51</th>\n",
       "      <td>10693</td>\n",
       "      <td>BC/41N043 (µg/m³)</td>\n",
       "      <td>BC</td>\n",
       "      <td>41N043</td>\n",
       "      <td>Black Carbon</td>\n",
       "      <td>Haren</td>\n",
       "    </tr>\n",
       "    <tr>\n",
       "      <th>63</th>\n",
       "      <td>6569</td>\n",
       "      <td>BC/41R001 (µg/m³)</td>\n",
       "      <td>BC</td>\n",
       "      <td>41R001</td>\n",
       "      <td>Black Carbon</td>\n",
       "      <td>Molenbeek-Saint-Jean</td>\n",
       "    </tr>\n",
       "    <tr>\n",
       "      <th>64</th>\n",
       "      <td>6609</td>\n",
       "      <td>BC/41R002 (µg/m³)</td>\n",
       "      <td>BC</td>\n",
       "      <td>41R002</td>\n",
       "      <td>Black Carbon</td>\n",
       "      <td>Ixelles</td>\n",
       "    </tr>\n",
       "    <tr>\n",
       "      <th>...</th>\n",
       "      <td>...</td>\n",
       "      <td>...</td>\n",
       "      <td>...</td>\n",
       "      <td>...</td>\n",
       "      <td>...</td>\n",
       "      <td>...</td>\n",
       "    </tr>\n",
       "    <tr>\n",
       "      <th>617</th>\n",
       "      <td>99941</td>\n",
       "      <td>T/41R012 (°C)</td>\n",
       "      <td>T</td>\n",
       "      <td>41R012</td>\n",
       "      <td>Temperature</td>\n",
       "      <td>Uccle</td>\n",
       "    </tr>\n",
       "    <tr>\n",
       "      <th>623</th>\n",
       "      <td>99915</td>\n",
       "      <td>WD/41R001 (°G)</td>\n",
       "      <td>WD</td>\n",
       "      <td>41R001</td>\n",
       "      <td>Wind Direction</td>\n",
       "      <td>Molenbeek-Saint-Jean</td>\n",
       "    </tr>\n",
       "    <tr>\n",
       "      <th>624</th>\n",
       "      <td>99939</td>\n",
       "      <td>WD/41R012 (°G)</td>\n",
       "      <td>WD</td>\n",
       "      <td>41R012</td>\n",
       "      <td>Wind Direction</td>\n",
       "      <td>Uccle</td>\n",
       "    </tr>\n",
       "    <tr>\n",
       "      <th>629</th>\n",
       "      <td>99916</td>\n",
       "      <td>WS/41R001 (m/s)</td>\n",
       "      <td>WS</td>\n",
       "      <td>41R001</td>\n",
       "      <td>Wind Speed (scalar)</td>\n",
       "      <td>Molenbeek-Saint-Jean</td>\n",
       "    </tr>\n",
       "    <tr>\n",
       "      <th>630</th>\n",
       "      <td>99940</td>\n",
       "      <td>WS/41R012 (m/s)</td>\n",
       "      <td>WS</td>\n",
       "      <td>41R012</td>\n",
       "      <td>Wind Speed (scalar)</td>\n",
       "      <td>Uccle</td>\n",
       "    </tr>\n",
       "  </tbody>\n",
       "</table>\n",
       "<p>71 rows × 6 columns</p>\n",
       "</div>"
      ],
      "text/plain": [
       "    serieid           seriekey measurekey sitekey            measurename  \\\n",
       "30    11009     p/41R001 (hPa)          p  41R001  Atmospheric  Pressure   \n",
       "48    10607  BC/41R012 (µg/m³)         BC  41R012           Black Carbon   \n",
       "51    10693  BC/41N043 (µg/m³)         BC  41N043           Black Carbon   \n",
       "63     6569  BC/41R001 (µg/m³)         BC  41R001           Black Carbon   \n",
       "64     6609  BC/41R002 (µg/m³)         BC  41R002           Black Carbon   \n",
       "..      ...                ...        ...     ...                    ...   \n",
       "617   99941      T/41R012 (°C)          T  41R012            Temperature   \n",
       "623   99915     WD/41R001 (°G)         WD  41R001         Wind Direction   \n",
       "624   99939     WD/41R012 (°G)         WD  41R012         Wind Direction   \n",
       "629   99916    WS/41R001 (m/s)         WS  41R001    Wind Speed (scalar)   \n",
       "630   99940    WS/41R012 (m/s)         WS  41R012    Wind Speed (scalar)   \n",
       "\n",
       "                  sitename  \n",
       "30    Molenbeek-Saint-Jean  \n",
       "48                   Uccle  \n",
       "51                   Haren  \n",
       "63    Molenbeek-Saint-Jean  \n",
       "64                 Ixelles  \n",
       "..                     ...  \n",
       "617                  Uccle  \n",
       "623   Molenbeek-Saint-Jean  \n",
       "624                  Uccle  \n",
       "629   Molenbeek-Saint-Jean  \n",
       "630                  Uccle  \n",
       "\n",
       "[71 rows x 6 columns]"
      ]
     },
     "execution_count": 9,
     "metadata": {},
     "output_type": "execute_result"
    }
   ],
   "source": [
    "sel"
   ]
  },
  {
   "cell_type": "markdown",
   "metadata": {},
   "source": [
    "A complete overview of the selection is (table shows serie identifiers):"
   ]
  },
  {
   "cell_type": "code",
   "execution_count": 10,
   "metadata": {
    "ExecuteTime": {
     "end_time": "2022-02-18T11:22:37.079769Z",
     "start_time": "2022-02-18T11:22:36.663631Z"
    }
   },
   "outputs": [
    {
     "data": {
      "text/html": [
       "<style  type=\"text/css\" >\n",
       "</style><table id=\"T_13618048_90ad_11ec_8aea_0242ac13000b\" ><thead>    <tr>        <th class=\"index_name level0\" >measurekey</th>        <th class=\"col_heading level0 col0\" >BC</th>        <th class=\"col_heading level0 col1\" >CO</th>        <th class=\"col_heading level0 col2\" >CO2</th>        <th class=\"col_heading level0 col3\" >NO</th>        <th class=\"col_heading level0 col4\" >NO2</th>        <th class=\"col_heading level0 col5\" >O3</th>        <th class=\"col_heading level0 col6\" >PM-10.0</th>        <th class=\"col_heading level0 col7\" >PM-2.5</th>        <th class=\"col_heading level0 col8\" >SO2</th>        <th class=\"col_heading level0 col9\" >T</th>        <th class=\"col_heading level0 col10\" >WD</th>        <th class=\"col_heading level0 col11\" >WS</th>        <th class=\"col_heading level0 col12\" >p</th>    </tr>    <tr>        <th class=\"index_name level0\" >sitekey</th>        <th class=\"blank\" ></th>        <th class=\"blank\" ></th>        <th class=\"blank\" ></th>        <th class=\"blank\" ></th>        <th class=\"blank\" ></th>        <th class=\"blank\" ></th>        <th class=\"blank\" ></th>        <th class=\"blank\" ></th>        <th class=\"blank\" ></th>        <th class=\"blank\" ></th>        <th class=\"blank\" ></th>        <th class=\"blank\" ></th>        <th class=\"blank\" ></th>    </tr></thead><tbody>\n",
       "                <tr>\n",
       "                        <th id=\"T_13618048_90ad_11ec_8aea_0242ac13000blevel0_row0\" class=\"row_heading level0 row0\" >41B001</th>\n",
       "                        <td id=\"T_13618048_90ad_11ec_8aea_0242ac13000brow0_col0\" class=\"data row0 col0\" >-</td>\n",
       "                        <td id=\"T_13618048_90ad_11ec_8aea_0242ac13000brow0_col1\" class=\"data row0 col1\" >6500</td>\n",
       "                        <td id=\"T_13618048_90ad_11ec_8aea_0242ac13000brow0_col2\" class=\"data row0 col2\" >-</td>\n",
       "                        <td id=\"T_13618048_90ad_11ec_8aea_0242ac13000brow0_col3\" class=\"data row0 col3\" >6503</td>\n",
       "                        <td id=\"T_13618048_90ad_11ec_8aea_0242ac13000brow0_col4\" class=\"data row0 col4\" >6504</td>\n",
       "                        <td id=\"T_13618048_90ad_11ec_8aea_0242ac13000brow0_col5\" class=\"data row0 col5\" >-</td>\n",
       "                        <td id=\"T_13618048_90ad_11ec_8aea_0242ac13000brow0_col6\" class=\"data row0 col6\" >-</td>\n",
       "                        <td id=\"T_13618048_90ad_11ec_8aea_0242ac13000brow0_col7\" class=\"data row0 col7\" >-</td>\n",
       "                        <td id=\"T_13618048_90ad_11ec_8aea_0242ac13000brow0_col8\" class=\"data row0 col8\" >6502</td>\n",
       "                        <td id=\"T_13618048_90ad_11ec_8aea_0242ac13000brow0_col9\" class=\"data row0 col9\" >-</td>\n",
       "                        <td id=\"T_13618048_90ad_11ec_8aea_0242ac13000brow0_col10\" class=\"data row0 col10\" >-</td>\n",
       "                        <td id=\"T_13618048_90ad_11ec_8aea_0242ac13000brow0_col11\" class=\"data row0 col11\" >-</td>\n",
       "                        <td id=\"T_13618048_90ad_11ec_8aea_0242ac13000brow0_col12\" class=\"data row0 col12\" >-</td>\n",
       "            </tr>\n",
       "            <tr>\n",
       "                        <th id=\"T_13618048_90ad_11ec_8aea_0242ac13000blevel0_row1\" class=\"row_heading level0 row1\" >41B004</th>\n",
       "                        <td id=\"T_13618048_90ad_11ec_8aea_0242ac13000brow1_col0\" class=\"data row1 col0\" >-</td>\n",
       "                        <td id=\"T_13618048_90ad_11ec_8aea_0242ac13000brow1_col1\" class=\"data row1 col1\" >6506</td>\n",
       "                        <td id=\"T_13618048_90ad_11ec_8aea_0242ac13000brow1_col2\" class=\"data row1 col2\" >-</td>\n",
       "                        <td id=\"T_13618048_90ad_11ec_8aea_0242ac13000brow1_col3\" class=\"data row1 col3\" >6507</td>\n",
       "                        <td id=\"T_13618048_90ad_11ec_8aea_0242ac13000brow1_col4\" class=\"data row1 col4\" >6508</td>\n",
       "                        <td id=\"T_13618048_90ad_11ec_8aea_0242ac13000brow1_col5\" class=\"data row1 col5\" >6509</td>\n",
       "                        <td id=\"T_13618048_90ad_11ec_8aea_0242ac13000brow1_col6\" class=\"data row1 col6\" >-</td>\n",
       "                        <td id=\"T_13618048_90ad_11ec_8aea_0242ac13000brow1_col7\" class=\"data row1 col7\" >-</td>\n",
       "                        <td id=\"T_13618048_90ad_11ec_8aea_0242ac13000brow1_col8\" class=\"data row1 col8\" >-</td>\n",
       "                        <td id=\"T_13618048_90ad_11ec_8aea_0242ac13000brow1_col9\" class=\"data row1 col9\" >-</td>\n",
       "                        <td id=\"T_13618048_90ad_11ec_8aea_0242ac13000brow1_col10\" class=\"data row1 col10\" >-</td>\n",
       "                        <td id=\"T_13618048_90ad_11ec_8aea_0242ac13000brow1_col11\" class=\"data row1 col11\" >-</td>\n",
       "                        <td id=\"T_13618048_90ad_11ec_8aea_0242ac13000brow1_col12\" class=\"data row1 col12\" >-</td>\n",
       "            </tr>\n",
       "            <tr>\n",
       "                        <th id=\"T_13618048_90ad_11ec_8aea_0242ac13000blevel0_row2\" class=\"row_heading level0 row2\" >41B006</th>\n",
       "                        <td id=\"T_13618048_90ad_11ec_8aea_0242ac13000brow2_col0\" class=\"data row2 col0\" >-</td>\n",
       "                        <td id=\"T_13618048_90ad_11ec_8aea_0242ac13000brow2_col1\" class=\"data row2 col1\" >6514</td>\n",
       "                        <td id=\"T_13618048_90ad_11ec_8aea_0242ac13000brow2_col2\" class=\"data row2 col2\" >-</td>\n",
       "                        <td id=\"T_13618048_90ad_11ec_8aea_0242ac13000brow2_col3\" class=\"data row2 col3\" >6515</td>\n",
       "                        <td id=\"T_13618048_90ad_11ec_8aea_0242ac13000brow2_col4\" class=\"data row2 col4\" >6516</td>\n",
       "                        <td id=\"T_13618048_90ad_11ec_8aea_0242ac13000brow2_col5\" class=\"data row2 col5\" >6517</td>\n",
       "                        <td id=\"T_13618048_90ad_11ec_8aea_0242ac13000brow2_col6\" class=\"data row2 col6\" >-</td>\n",
       "                        <td id=\"T_13618048_90ad_11ec_8aea_0242ac13000brow2_col7\" class=\"data row2 col7\" >-</td>\n",
       "                        <td id=\"T_13618048_90ad_11ec_8aea_0242ac13000brow2_col8\" class=\"data row2 col8\" >-</td>\n",
       "                        <td id=\"T_13618048_90ad_11ec_8aea_0242ac13000brow2_col9\" class=\"data row2 col9\" >-</td>\n",
       "                        <td id=\"T_13618048_90ad_11ec_8aea_0242ac13000brow2_col10\" class=\"data row2 col10\" >-</td>\n",
       "                        <td id=\"T_13618048_90ad_11ec_8aea_0242ac13000brow2_col11\" class=\"data row2 col11\" >-</td>\n",
       "                        <td id=\"T_13618048_90ad_11ec_8aea_0242ac13000brow2_col12\" class=\"data row2 col12\" >-</td>\n",
       "            </tr>\n",
       "            <tr>\n",
       "                        <th id=\"T_13618048_90ad_11ec_8aea_0242ac13000blevel0_row3\" class=\"row_heading level0 row3\" >41B008</th>\n",
       "                        <td id=\"T_13618048_90ad_11ec_8aea_0242ac13000brow3_col0\" class=\"data row3 col0\" >-</td>\n",
       "                        <td id=\"T_13618048_90ad_11ec_8aea_0242ac13000brow3_col1\" class=\"data row3 col1\" >10616</td>\n",
       "                        <td id=\"T_13618048_90ad_11ec_8aea_0242ac13000brow3_col2\" class=\"data row3 col2\" >-</td>\n",
       "                        <td id=\"T_13618048_90ad_11ec_8aea_0242ac13000brow3_col3\" class=\"data row3 col3\" >10613</td>\n",
       "                        <td id=\"T_13618048_90ad_11ec_8aea_0242ac13000brow3_col4\" class=\"data row3 col4\" >10614</td>\n",
       "                        <td id=\"T_13618048_90ad_11ec_8aea_0242ac13000brow3_col5\" class=\"data row3 col5\" >-</td>\n",
       "                        <td id=\"T_13618048_90ad_11ec_8aea_0242ac13000brow3_col6\" class=\"data row3 col6\" >-</td>\n",
       "                        <td id=\"T_13618048_90ad_11ec_8aea_0242ac13000brow3_col7\" class=\"data row3 col7\" >-</td>\n",
       "                        <td id=\"T_13618048_90ad_11ec_8aea_0242ac13000brow3_col8\" class=\"data row3 col8\" >10615</td>\n",
       "                        <td id=\"T_13618048_90ad_11ec_8aea_0242ac13000brow3_col9\" class=\"data row3 col9\" >-</td>\n",
       "                        <td id=\"T_13618048_90ad_11ec_8aea_0242ac13000brow3_col10\" class=\"data row3 col10\" >-</td>\n",
       "                        <td id=\"T_13618048_90ad_11ec_8aea_0242ac13000brow3_col11\" class=\"data row3 col11\" >-</td>\n",
       "                        <td id=\"T_13618048_90ad_11ec_8aea_0242ac13000brow3_col12\" class=\"data row3 col12\" >-</td>\n",
       "            </tr>\n",
       "            <tr>\n",
       "                        <th id=\"T_13618048_90ad_11ec_8aea_0242ac13000blevel0_row4\" class=\"row_heading level0 row4\" >41B011</th>\n",
       "                        <td id=\"T_13618048_90ad_11ec_8aea_0242ac13000brow4_col0\" class=\"data row4 col0\" >-</td>\n",
       "                        <td id=\"T_13618048_90ad_11ec_8aea_0242ac13000brow4_col1\" class=\"data row4 col1\" >-</td>\n",
       "                        <td id=\"T_13618048_90ad_11ec_8aea_0242ac13000brow4_col2\" class=\"data row4 col2\" >-</td>\n",
       "                        <td id=\"T_13618048_90ad_11ec_8aea_0242ac13000brow4_col3\" class=\"data row4 col3\" >6527</td>\n",
       "                        <td id=\"T_13618048_90ad_11ec_8aea_0242ac13000brow4_col4\" class=\"data row4 col4\" >6528</td>\n",
       "                        <td id=\"T_13618048_90ad_11ec_8aea_0242ac13000brow4_col5\" class=\"data row4 col5\" >6530</td>\n",
       "                        <td id=\"T_13618048_90ad_11ec_8aea_0242ac13000brow4_col6\" class=\"data row4 col6\" >6531</td>\n",
       "                        <td id=\"T_13618048_90ad_11ec_8aea_0242ac13000brow4_col7\" class=\"data row4 col7\" >6532</td>\n",
       "                        <td id=\"T_13618048_90ad_11ec_8aea_0242ac13000brow4_col8\" class=\"data row4 col8\" >-</td>\n",
       "                        <td id=\"T_13618048_90ad_11ec_8aea_0242ac13000brow4_col9\" class=\"data row4 col9\" >99914</td>\n",
       "                        <td id=\"T_13618048_90ad_11ec_8aea_0242ac13000brow4_col10\" class=\"data row4 col10\" >-</td>\n",
       "                        <td id=\"T_13618048_90ad_11ec_8aea_0242ac13000brow4_col11\" class=\"data row4 col11\" >-</td>\n",
       "                        <td id=\"T_13618048_90ad_11ec_8aea_0242ac13000brow4_col12\" class=\"data row4 col12\" >-</td>\n",
       "            </tr>\n",
       "            <tr>\n",
       "                        <th id=\"T_13618048_90ad_11ec_8aea_0242ac13000blevel0_row5\" class=\"row_heading level0 row5\" >41CHA1</th>\n",
       "                        <td id=\"T_13618048_90ad_11ec_8aea_0242ac13000brow5_col0\" class=\"data row5 col0\" >-</td>\n",
       "                        <td id=\"T_13618048_90ad_11ec_8aea_0242ac13000brow5_col1\" class=\"data row5 col1\" >-</td>\n",
       "                        <td id=\"T_13618048_90ad_11ec_8aea_0242ac13000brow5_col2\" class=\"data row5 col2\" >-</td>\n",
       "                        <td id=\"T_13618048_90ad_11ec_8aea_0242ac13000brow5_col3\" class=\"data row5 col3\" >100035</td>\n",
       "                        <td id=\"T_13618048_90ad_11ec_8aea_0242ac13000brow5_col4\" class=\"data row5 col4\" >100036</td>\n",
       "                        <td id=\"T_13618048_90ad_11ec_8aea_0242ac13000brow5_col5\" class=\"data row5 col5\" >-</td>\n",
       "                        <td id=\"T_13618048_90ad_11ec_8aea_0242ac13000brow5_col6\" class=\"data row5 col6\" >-</td>\n",
       "                        <td id=\"T_13618048_90ad_11ec_8aea_0242ac13000brow5_col7\" class=\"data row5 col7\" >-</td>\n",
       "                        <td id=\"T_13618048_90ad_11ec_8aea_0242ac13000brow5_col8\" class=\"data row5 col8\" >-</td>\n",
       "                        <td id=\"T_13618048_90ad_11ec_8aea_0242ac13000brow5_col9\" class=\"data row5 col9\" >-</td>\n",
       "                        <td id=\"T_13618048_90ad_11ec_8aea_0242ac13000brow5_col10\" class=\"data row5 col10\" >-</td>\n",
       "                        <td id=\"T_13618048_90ad_11ec_8aea_0242ac13000brow5_col11\" class=\"data row5 col11\" >-</td>\n",
       "                        <td id=\"T_13618048_90ad_11ec_8aea_0242ac13000brow5_col12\" class=\"data row5 col12\" >-</td>\n",
       "            </tr>\n",
       "            <tr>\n",
       "                        <th id=\"T_13618048_90ad_11ec_8aea_0242ac13000blevel0_row6\" class=\"row_heading level0 row6\" >41MEU1</th>\n",
       "                        <td id=\"T_13618048_90ad_11ec_8aea_0242ac13000brow6_col0\" class=\"data row6 col0\" >-</td>\n",
       "                        <td id=\"T_13618048_90ad_11ec_8aea_0242ac13000brow6_col1\" class=\"data row6 col1\" >-</td>\n",
       "                        <td id=\"T_13618048_90ad_11ec_8aea_0242ac13000brow6_col2\" class=\"data row6 col2\" >-</td>\n",
       "                        <td id=\"T_13618048_90ad_11ec_8aea_0242ac13000brow6_col3\" class=\"data row6 col3\" >6550</td>\n",
       "                        <td id=\"T_13618048_90ad_11ec_8aea_0242ac13000brow6_col4\" class=\"data row6 col4\" >6551</td>\n",
       "                        <td id=\"T_13618048_90ad_11ec_8aea_0242ac13000brow6_col5\" class=\"data row6 col5\" >10766</td>\n",
       "                        <td id=\"T_13618048_90ad_11ec_8aea_0242ac13000brow6_col6\" class=\"data row6 col6\" >6552</td>\n",
       "                        <td id=\"T_13618048_90ad_11ec_8aea_0242ac13000brow6_col7\" class=\"data row6 col7\" >6553</td>\n",
       "                        <td id=\"T_13618048_90ad_11ec_8aea_0242ac13000brow6_col8\" class=\"data row6 col8\" >6549</td>\n",
       "                        <td id=\"T_13618048_90ad_11ec_8aea_0242ac13000brow6_col9\" class=\"data row6 col9\" >-</td>\n",
       "                        <td id=\"T_13618048_90ad_11ec_8aea_0242ac13000brow6_col10\" class=\"data row6 col10\" >-</td>\n",
       "                        <td id=\"T_13618048_90ad_11ec_8aea_0242ac13000brow6_col11\" class=\"data row6 col11\" >-</td>\n",
       "                        <td id=\"T_13618048_90ad_11ec_8aea_0242ac13000brow6_col12\" class=\"data row6 col12\" >-</td>\n",
       "            </tr>\n",
       "            <tr>\n",
       "                        <th id=\"T_13618048_90ad_11ec_8aea_0242ac13000blevel0_row7\" class=\"row_heading level0 row7\" >41N043</th>\n",
       "                        <td id=\"T_13618048_90ad_11ec_8aea_0242ac13000brow7_col0\" class=\"data row7 col0\" >10693</td>\n",
       "                        <td id=\"T_13618048_90ad_11ec_8aea_0242ac13000brow7_col1\" class=\"data row7 col1\" >6558</td>\n",
       "                        <td id=\"T_13618048_90ad_11ec_8aea_0242ac13000brow7_col2\" class=\"data row7 col2\" >-</td>\n",
       "                        <td id=\"T_13618048_90ad_11ec_8aea_0242ac13000brow7_col3\" class=\"data row7 col3\" >6560</td>\n",
       "                        <td id=\"T_13618048_90ad_11ec_8aea_0242ac13000brow7_col4\" class=\"data row7 col4\" >6561</td>\n",
       "                        <td id=\"T_13618048_90ad_11ec_8aea_0242ac13000brow7_col5\" class=\"data row7 col5\" >6562</td>\n",
       "                        <td id=\"T_13618048_90ad_11ec_8aea_0242ac13000brow7_col6\" class=\"data row7 col6\" >6563</td>\n",
       "                        <td id=\"T_13618048_90ad_11ec_8aea_0242ac13000brow7_col7\" class=\"data row7 col7\" >6564</td>\n",
       "                        <td id=\"T_13618048_90ad_11ec_8aea_0242ac13000brow7_col8\" class=\"data row7 col8\" >6559</td>\n",
       "                        <td id=\"T_13618048_90ad_11ec_8aea_0242ac13000brow7_col9\" class=\"data row7 col9\" >-</td>\n",
       "                        <td id=\"T_13618048_90ad_11ec_8aea_0242ac13000brow7_col10\" class=\"data row7 col10\" >-</td>\n",
       "                        <td id=\"T_13618048_90ad_11ec_8aea_0242ac13000brow7_col11\" class=\"data row7 col11\" >-</td>\n",
       "                        <td id=\"T_13618048_90ad_11ec_8aea_0242ac13000brow7_col12\" class=\"data row7 col12\" >-</td>\n",
       "            </tr>\n",
       "            <tr>\n",
       "                        <th id=\"T_13618048_90ad_11ec_8aea_0242ac13000blevel0_row8\" class=\"row_heading level0 row8\" >41R001</th>\n",
       "                        <td id=\"T_13618048_90ad_11ec_8aea_0242ac13000brow8_col0\" class=\"data row8 col0\" >6569</td>\n",
       "                        <td id=\"T_13618048_90ad_11ec_8aea_0242ac13000brow8_col1\" class=\"data row8 col1\" >6571</td>\n",
       "                        <td id=\"T_13618048_90ad_11ec_8aea_0242ac13000brow8_col2\" class=\"data row8 col2\" >-</td>\n",
       "                        <td id=\"T_13618048_90ad_11ec_8aea_0242ac13000brow8_col3\" class=\"data row8 col3\" >6573</td>\n",
       "                        <td id=\"T_13618048_90ad_11ec_8aea_0242ac13000brow8_col4\" class=\"data row8 col4\" >6574</td>\n",
       "                        <td id=\"T_13618048_90ad_11ec_8aea_0242ac13000brow8_col5\" class=\"data row8 col5\" >6577</td>\n",
       "                        <td id=\"T_13618048_90ad_11ec_8aea_0242ac13000brow8_col6\" class=\"data row8 col6\" >6578</td>\n",
       "                        <td id=\"T_13618048_90ad_11ec_8aea_0242ac13000brow8_col7\" class=\"data row8 col7\" >6579</td>\n",
       "                        <td id=\"T_13618048_90ad_11ec_8aea_0242ac13000brow8_col8\" class=\"data row8 col8\" >6572</td>\n",
       "                        <td id=\"T_13618048_90ad_11ec_8aea_0242ac13000brow8_col9\" class=\"data row8 col9\" >99917</td>\n",
       "                        <td id=\"T_13618048_90ad_11ec_8aea_0242ac13000brow8_col10\" class=\"data row8 col10\" >99915</td>\n",
       "                        <td id=\"T_13618048_90ad_11ec_8aea_0242ac13000brow8_col11\" class=\"data row8 col11\" >99916</td>\n",
       "                        <td id=\"T_13618048_90ad_11ec_8aea_0242ac13000brow8_col12\" class=\"data row8 col12\" >11009</td>\n",
       "            </tr>\n",
       "            <tr>\n",
       "                        <th id=\"T_13618048_90ad_11ec_8aea_0242ac13000blevel0_row9\" class=\"row_heading level0 row9\" >41R002</th>\n",
       "                        <td id=\"T_13618048_90ad_11ec_8aea_0242ac13000brow9_col0\" class=\"data row9 col0\" >6609</td>\n",
       "                        <td id=\"T_13618048_90ad_11ec_8aea_0242ac13000brow9_col1\" class=\"data row9 col1\" >6611</td>\n",
       "                        <td id=\"T_13618048_90ad_11ec_8aea_0242ac13000brow9_col2\" class=\"data row9 col2\" >6612</td>\n",
       "                        <td id=\"T_13618048_90ad_11ec_8aea_0242ac13000brow9_col3\" class=\"data row9 col3\" >6614</td>\n",
       "                        <td id=\"T_13618048_90ad_11ec_8aea_0242ac13000brow9_col4\" class=\"data row9 col4\" >6615</td>\n",
       "                        <td id=\"T_13618048_90ad_11ec_8aea_0242ac13000brow9_col5\" class=\"data row9 col5\" >-</td>\n",
       "                        <td id=\"T_13618048_90ad_11ec_8aea_0242ac13000brow9_col6\" class=\"data row9 col6\" >-</td>\n",
       "                        <td id=\"T_13618048_90ad_11ec_8aea_0242ac13000brow9_col7\" class=\"data row9 col7\" >-</td>\n",
       "                        <td id=\"T_13618048_90ad_11ec_8aea_0242ac13000brow9_col8\" class=\"data row9 col8\" >6613</td>\n",
       "                        <td id=\"T_13618048_90ad_11ec_8aea_0242ac13000brow9_col9\" class=\"data row9 col9\" >-</td>\n",
       "                        <td id=\"T_13618048_90ad_11ec_8aea_0242ac13000brow9_col10\" class=\"data row9 col10\" >-</td>\n",
       "                        <td id=\"T_13618048_90ad_11ec_8aea_0242ac13000brow9_col11\" class=\"data row9 col11\" >-</td>\n",
       "                        <td id=\"T_13618048_90ad_11ec_8aea_0242ac13000brow9_col12\" class=\"data row9 col12\" >-</td>\n",
       "            </tr>\n",
       "            <tr>\n",
       "                        <th id=\"T_13618048_90ad_11ec_8aea_0242ac13000blevel0_row10\" class=\"row_heading level0 row10\" >41R012</th>\n",
       "                        <td id=\"T_13618048_90ad_11ec_8aea_0242ac13000brow10_col0\" class=\"data row10 col0\" >10607</td>\n",
       "                        <td id=\"T_13618048_90ad_11ec_8aea_0242ac13000brow10_col1\" class=\"data row10 col1\" >-</td>\n",
       "                        <td id=\"T_13618048_90ad_11ec_8aea_0242ac13000brow10_col2\" class=\"data row10 col2\" >6619</td>\n",
       "                        <td id=\"T_13618048_90ad_11ec_8aea_0242ac13000brow10_col3\" class=\"data row10 col3\" >6621</td>\n",
       "                        <td id=\"T_13618048_90ad_11ec_8aea_0242ac13000brow10_col4\" class=\"data row10 col4\" >6622</td>\n",
       "                        <td id=\"T_13618048_90ad_11ec_8aea_0242ac13000brow10_col5\" class=\"data row10 col5\" >6625</td>\n",
       "                        <td id=\"T_13618048_90ad_11ec_8aea_0242ac13000brow10_col6\" class=\"data row10 col6\" >6626</td>\n",
       "                        <td id=\"T_13618048_90ad_11ec_8aea_0242ac13000brow10_col7\" class=\"data row10 col7\" >6627</td>\n",
       "                        <td id=\"T_13618048_90ad_11ec_8aea_0242ac13000brow10_col8\" class=\"data row10 col8\" >6620</td>\n",
       "                        <td id=\"T_13618048_90ad_11ec_8aea_0242ac13000brow10_col9\" class=\"data row10 col9\" >99941</td>\n",
       "                        <td id=\"T_13618048_90ad_11ec_8aea_0242ac13000brow10_col10\" class=\"data row10 col10\" >99939</td>\n",
       "                        <td id=\"T_13618048_90ad_11ec_8aea_0242ac13000brow10_col11\" class=\"data row10 col11\" >99940</td>\n",
       "                        <td id=\"T_13618048_90ad_11ec_8aea_0242ac13000brow10_col12\" class=\"data row10 col12\" >-</td>\n",
       "            </tr>\n",
       "            <tr>\n",
       "                        <th id=\"T_13618048_90ad_11ec_8aea_0242ac13000blevel0_row11\" class=\"row_heading level0 row11\" >41REG1</th>\n",
       "                        <td id=\"T_13618048_90ad_11ec_8aea_0242ac13000brow11_col0\" class=\"data row11 col0\" >-</td>\n",
       "                        <td id=\"T_13618048_90ad_11ec_8aea_0242ac13000brow11_col1\" class=\"data row11 col1\" >-</td>\n",
       "                        <td id=\"T_13618048_90ad_11ec_8aea_0242ac13000brow11_col2\" class=\"data row11 col2\" >-</td>\n",
       "                        <td id=\"T_13618048_90ad_11ec_8aea_0242ac13000brow11_col3\" class=\"data row11 col3\" >100031</td>\n",
       "                        <td id=\"T_13618048_90ad_11ec_8aea_0242ac13000brow11_col4\" class=\"data row11 col4\" >100032</td>\n",
       "                        <td id=\"T_13618048_90ad_11ec_8aea_0242ac13000brow11_col5\" class=\"data row11 col5\" >-</td>\n",
       "                        <td id=\"T_13618048_90ad_11ec_8aea_0242ac13000brow11_col6\" class=\"data row11 col6\" >100033</td>\n",
       "                        <td id=\"T_13618048_90ad_11ec_8aea_0242ac13000brow11_col7\" class=\"data row11 col7\" >100034</td>\n",
       "                        <td id=\"T_13618048_90ad_11ec_8aea_0242ac13000brow11_col8\" class=\"data row11 col8\" >-</td>\n",
       "                        <td id=\"T_13618048_90ad_11ec_8aea_0242ac13000brow11_col9\" class=\"data row11 col9\" >-</td>\n",
       "                        <td id=\"T_13618048_90ad_11ec_8aea_0242ac13000brow11_col10\" class=\"data row11 col10\" >-</td>\n",
       "                        <td id=\"T_13618048_90ad_11ec_8aea_0242ac13000brow11_col11\" class=\"data row11 col11\" >-</td>\n",
       "                        <td id=\"T_13618048_90ad_11ec_8aea_0242ac13000brow11_col12\" class=\"data row11 col12\" >-</td>\n",
       "            </tr>\n",
       "    </tbody></table>"
      ],
      "text/plain": [
       "<pandas.io.formats.style.Styler at 0x7fa0f3d2b358>"
      ]
     },
     "execution_count": 10,
     "metadata": {},
     "output_type": "execute_result"
    }
   ],
   "source": [
    "sel.pivot_table(index='sitekey', columns='measurekey',\n",
    "                values='serieid', aggfunc='first')\\\n",
    "   .style.format('{}', na_rep='-')"
   ]
  },
  {
   "cell_type": "markdown",
   "metadata": {},
   "source": [
    "### Records\n",
    "\n",
    "Using the selection done above, we can fetch records on a defined time range using the `get_records` method:"
   ]
  },
  {
   "cell_type": "code",
   "execution_count": 11,
   "metadata": {
    "ExecuteTime": {
     "end_time": "2022-02-18T11:23:27.385040Z",
     "start_time": "2022-02-18T11:22:37.084027Z"
    }
   },
   "outputs": [],
   "source": [
    "recs = client.get_records(sel, start='2014-01-01 00:00:00+0100',\n",
    "                          stop='2015-01-01 00:00:00+0100')"
   ]
  },
  {
   "cell_type": "markdown",
   "metadata": {},
   "source": [
    "We localize timestamps to the rightful timezone (`odapi` enforces Time Zone to be located in UTC internally):"
   ]
  },
  {
   "cell_type": "code",
   "execution_count": 12,
   "metadata": {
    "ExecuteTime": {
     "end_time": "2022-02-18T11:23:27.459383Z",
     "start_time": "2022-02-18T11:23:27.392043Z"
    }
   },
   "outputs": [],
   "source": [
    "recs['start'] = recs['start'].dt.tz_convert('CET')"
   ]
  },
  {
   "cell_type": "markdown",
   "metadata": {},
   "source": [
    "We pivot records to align Time Series and ensure time axis is regular:"
   ]
  },
  {
   "cell_type": "code",
   "execution_count": 13,
   "metadata": {
    "ExecuteTime": {
     "end_time": "2022-02-18T11:23:28.887297Z",
     "start_time": "2022-02-18T11:23:27.463787Z"
    }
   },
   "outputs": [],
   "source": [
    "data = recs.merge(sel[keys])\n",
    "data = data.pivot_table(index='start',\n",
    "                        columns=['seriekey', 'sitekey', 'measurekey', 'serieid'],\n",
    "                        values='value')\n",
    "data = data.resample('1H').first()"
   ]
  },
  {
   "cell_type": "markdown",
   "metadata": {},
   "source": [
    "A selection of final dataframe looks like:"
   ]
  },
  {
   "cell_type": "code",
   "execution_count": 14,
   "metadata": {
    "ExecuteTime": {
     "end_time": "2022-02-18T11:23:28.942631Z",
     "start_time": "2022-02-18T11:23:28.892906Z"
    }
   },
   "outputs": [
    {
     "data": {
      "text/html": [
       "<div>\n",
       "<style scoped>\n",
       "    .dataframe tbody tr th:only-of-type {\n",
       "        vertical-align: middle;\n",
       "    }\n",
       "\n",
       "    .dataframe tbody tr th {\n",
       "        vertical-align: top;\n",
       "    }\n",
       "\n",
       "    .dataframe thead tr th {\n",
       "        text-align: left;\n",
       "    }\n",
       "\n",
       "    .dataframe thead tr:last-of-type th {\n",
       "        text-align: right;\n",
       "    }\n",
       "</style>\n",
       "<table border=\"1\" class=\"dataframe\">\n",
       "  <thead>\n",
       "    <tr>\n",
       "      <th>seriekey</th>\n",
       "      <th>NO/41R001 (µg/m³)</th>\n",
       "      <th>NO/41R002 (µg/m³)</th>\n",
       "      <th>NO2/41R001 (µg/m³)</th>\n",
       "      <th>NO2/41R002 (µg/m³)</th>\n",
       "    </tr>\n",
       "    <tr>\n",
       "      <th>sitekey</th>\n",
       "      <th>41R001</th>\n",
       "      <th>41R002</th>\n",
       "      <th>41R001</th>\n",
       "      <th>41R002</th>\n",
       "    </tr>\n",
       "    <tr>\n",
       "      <th>measurekey</th>\n",
       "      <th>NO</th>\n",
       "      <th>NO</th>\n",
       "      <th>NO2</th>\n",
       "      <th>NO2</th>\n",
       "    </tr>\n",
       "    <tr>\n",
       "      <th>serieid</th>\n",
       "      <th>6573</th>\n",
       "      <th>6614</th>\n",
       "      <th>6574</th>\n",
       "      <th>6615</th>\n",
       "    </tr>\n",
       "    <tr>\n",
       "      <th>start</th>\n",
       "      <th></th>\n",
       "      <th></th>\n",
       "      <th></th>\n",
       "      <th></th>\n",
       "    </tr>\n",
       "  </thead>\n",
       "  <tbody>\n",
       "    <tr>\n",
       "      <th>2014-12-31 19:00:00+01:00</th>\n",
       "      <td>95.0</td>\n",
       "      <td>55.0</td>\n",
       "      <td>91.0</td>\n",
       "      <td>75.0</td>\n",
       "    </tr>\n",
       "    <tr>\n",
       "      <th>2014-12-31 20:00:00+01:00</th>\n",
       "      <td>52.0</td>\n",
       "      <td>52.0</td>\n",
       "      <td>73.0</td>\n",
       "      <td>69.5</td>\n",
       "    </tr>\n",
       "    <tr>\n",
       "      <th>2014-12-31 21:00:00+01:00</th>\n",
       "      <td>29.5</td>\n",
       "      <td>33.5</td>\n",
       "      <td>62.0</td>\n",
       "      <td>60.5</td>\n",
       "    </tr>\n",
       "    <tr>\n",
       "      <th>2014-12-31 22:00:00+01:00</th>\n",
       "      <td>32.5</td>\n",
       "      <td>34.5</td>\n",
       "      <td>60.5</td>\n",
       "      <td>57.5</td>\n",
       "    </tr>\n",
       "    <tr>\n",
       "      <th>2014-12-31 23:00:00+01:00</th>\n",
       "      <td>43.5</td>\n",
       "      <td>30.5</td>\n",
       "      <td>57.5</td>\n",
       "      <td>48.5</td>\n",
       "    </tr>\n",
       "  </tbody>\n",
       "</table>\n",
       "</div>"
      ],
      "text/plain": [
       "seriekey                  NO/41R001 (µg/m³) NO/41R002 (µg/m³)  \\\n",
       "sitekey                              41R001            41R002   \n",
       "measurekey                               NO                NO   \n",
       "serieid                                6573              6614   \n",
       "start                                                           \n",
       "2014-12-31 19:00:00+01:00              95.0              55.0   \n",
       "2014-12-31 20:00:00+01:00              52.0              52.0   \n",
       "2014-12-31 21:00:00+01:00              29.5              33.5   \n",
       "2014-12-31 22:00:00+01:00              32.5              34.5   \n",
       "2014-12-31 23:00:00+01:00              43.5              30.5   \n",
       "\n",
       "seriekey                  NO2/41R001 (µg/m³) NO2/41R002 (µg/m³)  \n",
       "sitekey                               41R001             41R002  \n",
       "measurekey                               NO2                NO2  \n",
       "serieid                                 6574               6615  \n",
       "start                                                            \n",
       "2014-12-31 19:00:00+01:00               91.0               75.0  \n",
       "2014-12-31 20:00:00+01:00               73.0               69.5  \n",
       "2014-12-31 21:00:00+01:00               62.0               60.5  \n",
       "2014-12-31 22:00:00+01:00               60.5               57.5  \n",
       "2014-12-31 23:00:00+01:00               57.5               48.5  "
      ]
     },
     "execution_count": 14,
     "metadata": {},
     "output_type": "execute_result"
    }
   ],
   "source": [
    "data.filter(regex='NO.*/41R00(1|2)').tail()"
   ]
  },
  {
   "cell_type": "markdown",
   "metadata": {},
   "source": [
    "And finally, we draw some Time Series:"
   ]
  },
  {
   "cell_type": "code",
   "execution_count": 15,
   "metadata": {
    "ExecuteTime": {
     "end_time": "2022-02-18T11:23:32.675668Z",
     "start_time": "2022-02-18T11:23:28.947020Z"
    },
    "scrolled": false
   },
   "outputs": [
    {
     "data": {
      "image/png": "[encoded data removed]",
      "text/plain": [
       "<Figure size 432x288 with 1 Axes>"
      ]
     },
     "metadata": {
      "needs_background": "light"
     },
     "output_type": "display_data"
    },
    {
     "data": {
      "image/png": "[encoded data removed]",
      "text/plain": [
       "<Figure size 432x288 with 1 Axes>"
      ]
     },
     "metadata": {
      "needs_background": "light"
     },
     "output_type": "display_data"
    }
   ],
   "source": [
    "for k in ['BC', 'NO']:#data.columns.levels[2]:\n",
    "    axe = data.filter(regex='{}/'.format(k)).droplevel([1,2,3], axis=1).plot()\n",
    "    axe.set_title(\"Time Series\")\n",
    "    axe.set_xlabel(\"Time, $t$\")\n",
    "    axe.set_ylabel(\"Series, $x(t)$\")\n",
    "    lgd = axe.legend(bbox_to_anchor=(1, 1), loc='upper left')\n",
    "    axe.grid(which='both', color='lightgray')"
   ]
  },
  {
   "cell_type": "markdown",
   "metadata": {},
   "source": [
    "We store the final dataframe for subseqent examples (see next notebooks):"
   ]
  },
  {
   "cell_type": "code",
   "execution_count": 16,
   "metadata": {
    "ExecuteTime": {
     "end_time": "2022-02-18T11:23:32.702722Z",
     "start_time": "2022-02-18T11:23:32.678697Z"
    }
   },
   "outputs": [],
   "source": [
    "data.to_pickle(\"brussels_2014.pickle\")"
   ]
  },
  {
   "cell_type": "code",
   "execution_count": null,
   "metadata": {},
   "outputs": [],
   "source": []
  }
 ],
 "metadata": {
  "hide_input": false,
  "kernelspec": {
   "display_name": "Python 3",
   "language": "python",
   "name": "python3"
  },
  "language_info": {
   "codemirror_mode": {
    "name": "ipython",
    "version": 3
   },
   "file_extension": ".py",
   "mimetype": "text/x-python",
   "name": "python",
   "nbconvert_exporter": "python",
   "pygments_lexer": "ipython3",
   "version": "3.6.9"
  },
  "toc": {
   "base_numbering": 1,
   "nav_menu": {},
   "number_sections": true,
   "sideBar": true,
   "skip_h1_title": false,
   "title_cell": "Table of Contents",
   "title_sidebar": "Contents",
   "toc_cell": false,
   "toc_position": {},
   "toc_section_display": true,
   "toc_window_display": false
  },
  "varInspector": {
   "cols": {
    "lenName": 16,
    "lenType": 16,
    "lenVar": 40
   },
   "kernels_config": {
    "python": {
     "delete_cmd_postfix": "",
     "delete_cmd_prefix": "del ",
     "library": "var_list.py",
     "varRefreshCmd": "print(var_dic_list())"
    },
    "r": {
     "delete_cmd_postfix": ") ",
     "delete_cmd_prefix": "rm(",
     "library": "var_list.r",
     "varRefreshCmd": "cat(var_dic_list()) "
    }
   },
   "types_to_exclude": [
    "module",
    "function",
    "builtin_function_or_method",
    "instance",
    "_Feature"
   ],
   "window_display": false
  }
 },
 "nbformat": 4,
 "nbformat_minor": 2
}
