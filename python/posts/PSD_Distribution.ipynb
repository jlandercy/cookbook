{
 "cells": [
  {
   "cell_type": "code",
   "execution_count": 1,
   "id": "069d7a43",
   "metadata": {
    "ExecuteTime": {
     "end_time": "2022-01-30T07:29:49.428592Z",
     "start_time": "2022-01-30T07:29:47.371308Z"
    }
   },
   "outputs": [],
   "source": [
    "import numpy as np\n",
    "import pandas as pd\n",
    "from scipy import stats\n",
    "import matplotlib.pyplot as plt"
   ]
  },
  {
   "cell_type": "code",
   "execution_count": 2,
   "id": "df571072",
   "metadata": {
    "ExecuteTime": {
     "end_time": "2022-01-30T07:29:49.437435Z",
     "start_time": "2022-01-30T07:29:49.433280Z"
    }
   },
   "outputs": [],
   "source": [
    "np.random.seed(12345)"
   ]
  },
  {
   "cell_type": "code",
   "execution_count": 3,
   "id": "6469c660",
   "metadata": {
    "ExecuteTime": {
     "end_time": "2022-01-30T07:29:49.445694Z",
     "start_time": "2022-01-30T07:29:49.441216Z"
    }
   },
   "outputs": [],
   "source": [
    "law = stats.lognorm(1, scale=1.2)"
   ]
  },
  {
   "cell_type": "code",
   "execution_count": 4,
   "id": "8629a290",
   "metadata": {
    "ExecuteTime": {
     "end_time": "2022-01-30T07:29:49.451856Z",
     "start_time": "2022-01-30T07:29:49.448668Z"
    }
   },
   "outputs": [],
   "source": [
    "xlog = np.logspace(-1, 1.2, 37)"
   ]
  },
  {
   "cell_type": "code",
   "execution_count": 5,
   "id": "c4f9a63b",
   "metadata": {
    "ExecuteTime": {
     "end_time": "2022-01-30T07:29:49.464879Z",
     "start_time": "2022-01-30T07:29:49.455657Z"
    }
   },
   "outputs": [
    {
     "data": {
      "text/plain": [
       "array([ 0.1       ,  0.11510949,  0.13250194,  0.1525223 ,  0.17556763,\n",
       "        0.20209499,  0.23263051,  0.26777978,  0.30823992,  0.35481339,\n",
       "        0.40842387,  0.47013461,  0.54116953,  0.62293746,  0.7170601 ,\n",
       "        0.82540419,  0.95011851,  1.09367652,  1.25892541,  1.44914256,\n",
       "        1.66810054,  1.92014194,  2.2102655 ,  2.54422523,  2.92864456,\n",
       "        3.37114768,  3.88051073,  4.46683592,  5.14175183,  5.91864405,\n",
       "        6.81292069,  7.84231792,  9.02725178, 10.39122304, 11.96128333,\n",
       "       13.76857165, 15.84893192])"
      ]
     },
     "execution_count": 5,
     "metadata": {},
     "output_type": "execute_result"
    }
   ],
   "source": [
    "xlog"
   ]
  },
  {
   "cell_type": "code",
   "execution_count": 6,
   "id": "16ff3617",
   "metadata": {
    "ExecuteTime": {
     "end_time": "2022-01-30T07:29:49.472036Z",
     "start_time": "2022-01-30T07:29:49.467619Z"
    }
   },
   "outputs": [],
   "source": [
    "x = law.rvs(10000)"
   ]
  },
  {
   "cell_type": "code",
   "execution_count": 23,
   "id": "1b9ff59f",
   "metadata": {
    "ExecuteTime": {
     "end_time": "2022-01-30T07:43:21.110765Z",
     "start_time": "2022-01-30T07:43:20.313899Z"
    }
   },
   "outputs": [
    {
     "data": {
      "image/png": "[encoded data removed]",
      "text/plain": [
       "<Figure size 432x288 with 1 Axes>"
      ]
     },
     "metadata": {
      "needs_background": "light"
     },
     "output_type": "display_data"
    }
   ],
   "source": [
    "fig, axe = plt.subplots()\n",
    "axe.plot(xlog, law.pdf(xlog), label=r\"PDF $f(\\phi)$ $[\\mathrm{\\mu m^{-1}}]$\")\n",
    "axe.plot(xlog, law.cdf(xlog), label=r\"CDF $F(\\phi)$ $[\\mathrm{-}]$\")\n",
    "axe.hist(x, xlog, density=1, color=\"lightgrey\", label=\"Sample $f_i(\\Delta\\phi_i)$ $[\\mathrm{\\mu m^{-1}}]$\")\n",
    "axe.set_title(\"Syntehtic Particle Size Distribution\")\n",
    "axe.set_xlabel(r\"Diameter, $\\phi_i$ $[\\mathrm{\\mu m}]$\")\n",
    "axe.set_ylabel(r\"Particle Size Statistics\")\n",
    "axe.set_xlim([0, 10])\n",
    "axe.set_ylim([0, 1])\n",
    "axe.legend(prop={'size': 10})\n",
    "axe.grid()"
   ]
  },
  {
   "cell_type": "code",
   "execution_count": null,
   "id": "161809f3",
   "metadata": {},
   "outputs": [],
   "source": []
  },
  {
   "cell_type": "code",
   "execution_count": null,
   "id": "a12c2d37",
   "metadata": {},
   "outputs": [],
   "source": []
  },
  {
   "cell_type": "code",
   "execution_count": null,
   "id": "a9188949",
   "metadata": {},
   "outputs": [],
   "source": []
  },
  {
   "cell_type": "code",
   "execution_count": null,
   "id": "29a3a847",
   "metadata": {},
   "outputs": [],
   "source": []
  }
 ],
 "metadata": {
  "hide_input": false,
  "kernelspec": {
   "display_name": "Python 3",
   "language": "python",
   "name": "python3"
  },
  "language_info": {
   "codemirror_mode": {
    "name": "ipython",
    "version": 3
   },
   "file_extension": ".py",
   "mimetype": "text/x-python",
   "name": "python",
   "nbconvert_exporter": "python",
   "pygments_lexer": "ipython3",
   "version": "3.6.9"
  },
  "toc": {
   "base_numbering": 1,
   "nav_menu": {},
   "number_sections": true,
   "sideBar": true,
   "skip_h1_title": false,
   "title_cell": "Table of Contents",
   "title_sidebar": "Contents",
   "toc_cell": false,
   "toc_position": {},
   "toc_section_display": true,
   "toc_window_display": false
  },
  "varInspector": {
   "cols": {
    "lenName": 16,
    "lenType": 16,
    "lenVar": 40
   },
   "kernels_config": {
    "python": {
     "delete_cmd_postfix": "",
     "delete_cmd_prefix": "del ",
     "library": "var_list.py",
     "varRefreshCmd": "print(var_dic_list())"
    },
    "r": {
     "delete_cmd_postfix": ") ",
     "delete_cmd_prefix": "rm(",
     "library": "var_list.r",
     "varRefreshCmd": "cat(var_dic_list()) "
    }
   },
   "types_to_exclude": [
    "module",
    "function",
    "builtin_function_or_method",
    "instance",
    "_Feature"
   ],
   "window_display": false
  }
 },
 "nbformat": 4,
 "nbformat_minor": 5
}
