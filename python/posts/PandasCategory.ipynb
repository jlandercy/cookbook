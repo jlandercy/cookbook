{
 "cells": [
  {
   "cell_type": "code",
   "execution_count": 1,
   "id": "58b38c54",
   "metadata": {
    "ExecuteTime": {
     "end_time": "2022-02-21T04:03:23.418658Z",
     "start_time": "2022-02-21T04:03:21.738061Z"
    }
   },
   "outputs": [],
   "source": [
    "import numpy as np\n",
    "import pandas as pd\n",
    "from scipy import stats"
   ]
  },
  {
   "cell_type": "markdown",
   "id": "e14d56c1",
   "metadata": {},
   "source": [
    "https://pandas.pydata.org/docs/reference/api/pandas.Categorical.html"
   ]
  },
  {
   "cell_type": "code",
   "execution_count": 2,
   "id": "e1daf4f3",
   "metadata": {
    "ExecuteTime": {
     "end_time": "2022-02-21T04:03:23.431191Z",
     "start_time": "2022-02-21T04:03:23.426223Z"
    }
   },
   "outputs": [],
   "source": [
    "labels = list(\"ABDFH\")\n",
    "law = stats.lognorm(0.78, scale=10)"
   ]
  },
  {
   "cell_type": "code",
   "execution_count": 3,
   "id": "b3b67139",
   "metadata": {
    "ExecuteTime": {
     "end_time": "2022-02-21T04:03:23.437176Z",
     "start_time": "2022-02-21T04:03:23.434424Z"
    }
   },
   "outputs": [],
   "source": [
    "N = 500"
   ]
  },
  {
   "cell_type": "code",
   "execution_count": 4,
   "id": "aeaeb34c",
   "metadata": {
    "ExecuteTime": {
     "end_time": "2022-02-21T04:03:23.447889Z",
     "start_time": "2022-02-21T04:03:23.440108Z"
    }
   },
   "outputs": [],
   "source": [
    "df = pd.DataFrame({\n",
    "    \"label\": np.random.choice(labels, N, p=[0.50, 0.25, 0.15, 0.05, 0.05]),\n",
    "    \"value\": law.rvs(size=N)\n",
    "})"
   ]
  },
  {
   "cell_type": "code",
   "execution_count": 5,
   "id": "8b5a6571",
   "metadata": {
    "ExecuteTime": {
     "end_time": "2022-02-21T04:03:23.469209Z",
     "start_time": "2022-02-21T04:03:23.450370Z"
    }
   },
   "outputs": [
    {
     "data": {
      "text/plain": [
       "label     object\n",
       "value    float64\n",
       "dtype: object"
      ]
     },
     "execution_count": 5,
     "metadata": {},
     "output_type": "execute_result"
    }
   ],
   "source": [
    "df.dtypes"
   ]
  },
  {
   "cell_type": "code",
   "execution_count": 6,
   "id": "60901c13",
   "metadata": {
    "ExecuteTime": {
     "end_time": "2022-02-21T04:03:24.385212Z",
     "start_time": "2022-02-21T04:03:23.471718Z"
    }
   },
   "outputs": [
    {
     "data": {
      "image/png": "[encoded data removed]",
      "text/plain": [
       "<Figure size 432x288 with 1 Axes>"
      ]
     },
     "metadata": {
      "needs_background": "light"
     },
     "output_type": "display_data"
    }
   ],
   "source": [
    "axe = df.boxplot(\"value\", by=\"label\")"
   ]
  },
  {
   "cell_type": "code",
   "execution_count": 7,
   "id": "068d03ba",
   "metadata": {
    "ExecuteTime": {
     "end_time": "2022-02-21T04:03:24.644774Z",
     "start_time": "2022-02-21T04:03:24.389245Z"
    }
   },
   "outputs": [
    {
     "data": {
      "image/png": "[encoded data removed]",
      "text/plain": [
       "<Figure size 432x288 with 1 Axes>"
      ]
     },
     "metadata": {
      "needs_background": "light"
     },
     "output_type": "display_data"
    }
   ],
   "source": [
    "axe = df.groupby(\"label\")[\"value\"].count().plot(kind=\"bar\")"
   ]
  },
  {
   "cell_type": "code",
   "execution_count": 8,
   "id": "1b2a840d",
   "metadata": {
    "ExecuteTime": {
     "end_time": "2022-02-21T04:03:24.654442Z",
     "start_time": "2022-02-21T04:03:24.647577Z"
    }
   },
   "outputs": [],
   "source": [
    "df[\"label\"] = pd.Categorical(df[\"label\"], categories=list(\"ABCDEFGH\"), ordered=True)"
   ]
  },
  {
   "cell_type": "code",
   "execution_count": 9,
   "id": "a6a83949",
   "metadata": {
    "ExecuteTime": {
     "end_time": "2022-02-21T04:03:24.665652Z",
     "start_time": "2022-02-21T04:03:24.658583Z"
    }
   },
   "outputs": [
    {
     "data": {
      "text/plain": [
       "label    category\n",
       "value     float64\n",
       "dtype: object"
      ]
     },
     "execution_count": 9,
     "metadata": {},
     "output_type": "execute_result"
    }
   ],
   "source": [
    "df.dtypes"
   ]
  },
  {
   "cell_type": "code",
   "execution_count": 10,
   "id": "0491670f",
   "metadata": {
    "ExecuteTime": {
     "end_time": "2022-02-21T04:03:25.140148Z",
     "start_time": "2022-02-21T04:03:24.668756Z"
    }
   },
   "outputs": [
    {
     "data": {
      "image/png": "[encoded data removed]",
      "text/plain": [
       "<Figure size 432x288 with 1 Axes>"
      ]
     },
     "metadata": {
      "needs_background": "light"
     },
     "output_type": "display_data"
    }
   ],
   "source": [
    "axe = df.boxplot(\"value\", by=\"label\")"
   ]
  },
  {
   "cell_type": "code",
   "execution_count": 11,
   "id": "bfa01a28",
   "metadata": {
    "ExecuteTime": {
     "end_time": "2022-02-21T04:03:25.148316Z",
     "start_time": "2022-02-21T04:03:25.142821Z"
    }
   },
   "outputs": [
    {
     "data": {
      "text/plain": [
       "array([1, 2, 3, 4, 5, 6, 7, 8])"
      ]
     },
     "execution_count": 11,
     "metadata": {},
     "output_type": "execute_result"
    }
   ],
   "source": [
    "axe.get_xticks()"
   ]
  },
  {
   "cell_type": "code",
   "execution_count": null,
   "id": "73759af7",
   "metadata": {},
   "outputs": [],
   "source": []
  },
  {
   "cell_type": "code",
   "execution_count": 12,
   "id": "fb94aee0",
   "metadata": {
    "ExecuteTime": {
     "end_time": "2022-02-21T04:03:25.471744Z",
     "start_time": "2022-02-21T04:03:25.150924Z"
    }
   },
   "outputs": [
    {
     "data": {
      "image/png": "[encoded data removed]",
      "text/plain": [
       "<Figure size 432x288 with 1 Axes>"
      ]
     },
     "metadata": {
      "needs_background": "light"
     },
     "output_type": "display_data"
    }
   ],
   "source": [
    "axe = df.groupby(\"label\")[\"value\"].count().plot(kind=\"bar\")"
   ]
  },
  {
   "cell_type": "code",
   "execution_count": 13,
   "id": "21075de8",
   "metadata": {
    "ExecuteTime": {
     "end_time": "2022-02-21T04:03:25.484571Z",
     "start_time": "2022-02-21T04:03:25.475701Z"
    }
   },
   "outputs": [
    {
     "data": {
      "text/plain": [
       "array([0, 1, 2, 3, 4, 5, 6, 7])"
      ]
     },
     "execution_count": 13,
     "metadata": {},
     "output_type": "execute_result"
    }
   ],
   "source": [
    "axe.get_xticks()"
   ]
  },
  {
   "cell_type": "code",
   "execution_count": null,
   "id": "b18b9bb6",
   "metadata": {},
   "outputs": [],
   "source": []
  }
 ],
 "metadata": {
  "hide_input": false,
  "kernelspec": {
   "display_name": "Python 3",
   "language": "python",
   "name": "python3"
  },
  "language_info": {
   "codemirror_mode": {
    "name": "ipython",
    "version": 3
   },
   "file_extension": ".py",
   "mimetype": "text/x-python",
   "name": "python",
   "nbconvert_exporter": "python",
   "pygments_lexer": "ipython3",
   "version": "3.6.9"
  },
  "toc": {
   "base_numbering": 1,
   "nav_menu": {},
   "number_sections": true,
   "sideBar": true,
   "skip_h1_title": false,
   "title_cell": "Table of Contents",
   "title_sidebar": "Contents",
   "toc_cell": false,
   "toc_position": {},
   "toc_section_display": true,
   "toc_window_display": false
  },
  "varInspector": {
   "cols": {
    "lenName": 16,
    "lenType": 16,
    "lenVar": 40
   },
   "kernels_config": {
    "python": {
     "delete_cmd_postfix": "",
     "delete_cmd_prefix": "del ",
     "library": "var_list.py",
     "varRefreshCmd": "print(var_dic_list())"
    },
    "r": {
     "delete_cmd_postfix": ") ",
     "delete_cmd_prefix": "rm(",
     "library": "var_list.r",
     "varRefreshCmd": "cat(var_dic_list()) "
    }
   },
   "types_to_exclude": [
    "module",
    "function",
    "builtin_function_or_method",
    "instance",
    "_Feature"
   ],
   "window_display": false
  }
 },
 "nbformat": 4,
 "nbformat_minor": 5
}
