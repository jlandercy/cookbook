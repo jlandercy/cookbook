{
 "cells": [
  {
   "cell_type": "code",
   "execution_count": 1,
   "metadata": {
    "ExecuteTime": {
     "end_time": "2022-02-22T11:59:04.481230Z",
     "start_time": "2022-02-22T11:59:01.920178Z"
    }
   },
   "outputs": [],
   "source": [
    "from functools import wraps\n",
    "import numpy as np\n",
    "import pandas as pd\n",
    "from scipy import integrate, optimize, stats\n",
    "import matplotlib.pyplot as plt"
   ]
  },
  {
   "cell_type": "markdown",
   "metadata": {},
   "source": [
    "## References\n",
    "\n",
    " - Gerardo Chowell, *Fitting dynamic models to epidemic outbreaks withquantified uncertainty: A primer for parameter uncertainty,identifiability, and forecasts*, KeAi Infectious Disease Modelling (2017) 379-398\n",
    " - Cécile Viboud, *A generalized-growth model to characterize the early ascendingphase of infectious disease outbreaks*, Elsevier Epidemics (2016) 27-37\n",
    "\n",
    "### Useful Links\n",
    "\n",
    " \n",
    " - https://www.sciencedirect.com/science/article/pii/S2468042717300234\n",
    " - https://www.sciencedirect.com/science/article/pii/S1755436516000037\n",
    " - https://docs.scipy.org/doc/scipy/reference/generated/scipy.integrate.solve_ivp.html#scipy.integrate.solve_ivp\n",
    " - https://docs.scipy.org/doc/scipy/reference/generated/scipy.optimize.curve_fit.html\n",
    " - https://stackoverflow.com/questions/60791453/how-can-i-fix-this-typeerror-when-fitting-ode-with-scipy\n",
    " \n",
    " "
   ]
  },
  {
   "cell_type": "code",
   "execution_count": 2,
   "metadata": {
    "ExecuteTime": {
     "end_time": "2022-02-22T11:59:04.493521Z",
     "start_time": "2022-02-22T11:59:04.488743Z"
    }
   },
   "outputs": [],
   "source": [
    "t = np.arange(0, 50)"
   ]
  },
  {
   "cell_type": "markdown",
   "metadata": {},
   "source": [
    "## GRM\n",
    "\n",
    "\n",
    "The Generalized Richards Model:\n",
    "\n",
    "$$\n",
    "\\dot{C}(t) = \\frac{\\mathrm{d}C}{\\mathrm{d}t} = r C^p\\left[1-\\left(\\frac{C}{K}\\right)^a\\right]\n",
    "$$\n",
    "\n",
    "Where $C(t)$ is the cumulative number of case, $r \\in \\mathbb{R}^+$ is the **growth rate** and $p \\in (0,1)$ is the **deceleration of growth**, $K \\in \\mathbb{R}^+$ is the **size of the epidemic** and $a$ is the deviation from the S-shaped dynamic."
   ]
  },
  {
   "cell_type": "code",
   "execution_count": 3,
   "metadata": {
    "ExecuteTime": {
     "end_time": "2022-02-22T11:59:04.503847Z",
     "start_time": "2022-02-22T11:59:04.498615Z"
    }
   },
   "outputs": [],
   "source": [
    "def GRM_ODE(t, C, r, p, K, a):\n",
    "    return r*np.power(C, p)*(1-np.power((C/K), a))"
   ]
  },
  {
   "cell_type": "code",
   "execution_count": 4,
   "metadata": {
    "ExecuteTime": {
     "end_time": "2022-02-22T11:59:04.514603Z",
     "start_time": "2022-02-22T11:59:04.508693Z"
    }
   },
   "outputs": [],
   "source": [
    "def GRM(t, C, r, p, K, a):\n",
    "    return integrate.solve_ivp(GRM_ODE, (t[0], t[-1]), [C], t_eval=t, args=(r, p, K, a), rtol=1e-9).y[0]"
   ]
  },
  {
   "cell_type": "code",
   "execution_count": 5,
   "metadata": {
    "ExecuteTime": {
     "end_time": "2022-02-22T11:59:04.542308Z",
     "start_time": "2022-02-22T11:59:04.518804Z"
    }
   },
   "outputs": [],
   "source": [
    "y2 = GRM(t, 2, 1.15, 0.4, 2550, 0.89)"
   ]
  },
  {
   "cell_type": "code",
   "execution_count": 6,
   "metadata": {
    "ExecuteTime": {
     "end_time": "2022-02-22T11:59:12.892827Z",
     "start_time": "2022-02-22T11:59:04.546136Z"
    }
   },
   "outputs": [
    {
     "data": {
      "text/plain": [
       "(array([2.00e+00, 1.15e+00, 4.00e-01, 2.55e+03, 8.90e-01]),\n",
       " array([[ 1.17444395e-27, -3.89362595e-28,  1.41117184e-28,\n",
       "          6.52087851e-24, -2.29522185e-27],\n",
       "        [-3.89362595e-28,  1.52716834e-28, -5.87762753e-29,\n",
       "         -3.11466221e-24,  1.04051003e-27],\n",
       "        [ 1.41117184e-28, -5.87762753e-29,  2.31798485e-29,\n",
       "          1.30213828e-24, -4.25127359e-28],\n",
       "        [ 6.52087851e-24, -3.11466221e-24,  1.30213828e-24,\n",
       "          8.39837153e-20, -2.59660428e-23],\n",
       "        [-2.29522185e-27,  1.04051003e-27, -4.25127359e-28,\n",
       "         -2.59660428e-23,  8.20296824e-27]]))"
      ]
     },
     "execution_count": 6,
     "metadata": {},
     "output_type": "execute_result"
    }
   ],
   "source": [
    "popt2, pcov2 = optimize.curve_fit(GRM, t, y2, bounds=([0.1, 0.1, 0.1, 50, 0.1], [10, 10, 1, 10000, 10]), gtol=1e-9)\n",
    "(popt2, pcov2)"
   ]
  },
  {
   "cell_type": "code",
   "execution_count": 7,
   "metadata": {
    "ExecuteTime": {
     "end_time": "2022-02-22T11:59:12.921041Z",
     "start_time": "2022-02-22T11:59:12.896813Z"
    }
   },
   "outputs": [],
   "source": [
    "y2f = GRM(t, *popt2)"
   ]
  },
  {
   "cell_type": "code",
   "execution_count": 8,
   "metadata": {
    "ExecuteTime": {
     "end_time": "2022-02-22T11:59:14.090033Z",
     "start_time": "2022-02-22T11:59:12.924801Z"
    }
   },
   "outputs": [
    {
     "data": {
      "image/png": "[encoded data removed]",
      "text/plain": [
       "<Figure size 432x288 with 1 Axes>"
      ]
     },
     "metadata": {
      "needs_background": "light"
     },
     "output_type": "display_data"
    }
   ],
   "source": [
    "fig, axe = plt.subplots()\n",
    "axe.semilogy(t, y2, '.', label='Original')\n",
    "axe.semilogy(t, y2f, label='LM Fit')\n",
    "axe.legend()\n",
    "axe.grid(which='both', color='lightgray')"
   ]
  },
  {
   "cell_type": "code",
   "execution_count": 9,
   "metadata": {
    "ExecuteTime": {
     "end_time": "2022-02-22T11:59:14.457284Z",
     "start_time": "2022-02-22T11:59:14.100304Z"
    }
   },
   "outputs": [
    {
     "data": {
      "image/png": "[encoded data removed]",
      "text/plain": [
       "<Figure size 432x288 with 1 Axes>"
      ]
     },
     "metadata": {
      "needs_background": "light"
     },
     "output_type": "display_data"
    }
   ],
   "source": [
    "fig, axe = plt.subplots()\n",
    "axe.plot(t[:-1], np.diff(y2)/np.diff(t), '-', label='Original')\n",
    "#axe.semilogy(t, y2f, label='LM Fit')\n",
    "axe.legend()\n",
    "axe.grid(which='both', color='lightgray')"
   ]
  },
  {
   "cell_type": "code",
   "execution_count": null,
   "metadata": {},
   "outputs": [],
   "source": []
  },
  {
   "cell_type": "code",
   "execution_count": null,
   "metadata": {},
   "outputs": [],
   "source": []
  },
  {
   "cell_type": "markdown",
   "metadata": {},
   "source": [
    "## Refactoring\n",
    "\n",
    "### Factory for ODE\n",
    "\n",
    "We create a factory for ODE adjustment"
   ]
  },
  {
   "cell_type": "code",
   "execution_count": 10,
   "metadata": {
    "ExecuteTime": {
     "end_time": "2022-02-22T11:59:14.470608Z",
     "start_time": "2022-02-22T11:59:14.462530Z"
    }
   },
   "outputs": [],
   "source": [
    "def ODEFitFactory(f):\n",
    "    \"\"\"\n",
    "    Factory to adjust signature function of the Integrated ODE solved by scipy.integrate.solve_ivp\n",
    "    to the optimizer provided by scipy.optimize.curve_fit\n",
    "    The first argument args[0] is the initial condition of the IVP\n",
    "    The rest of arguments args[1:] are parameters of the Fit\n",
    "    \"\"\"\n",
    "    @wraps(f)\n",
    "    def inner(t, *args):\n",
    "        return integrate.solve_ivp(f, (t[0], t[-1]), args[0:], t_eval=t, args=args[1:]).y[0]\n",
    "    return inner"
   ]
  },
  {
   "cell_type": "code",
   "execution_count": 11,
   "metadata": {
    "ExecuteTime": {
     "end_time": "2022-02-22T11:59:14.482061Z",
     "start_time": "2022-02-22T11:59:14.475109Z"
    }
   },
   "outputs": [],
   "source": [
    "def ODEFit(ode, x, y, p0=None, bounds=(-np.inf, np.inf)):\n",
    "    \"\"\"\n",
    "    Fit ODE parameters using optimizer provided by scipy.optimize.curve_fit\n",
    "    \"\"\"\n",
    "    odef = ODEFitFactory(ode)\n",
    "    popt, pcov = optimize.curve_fit(odef, x, y, p0=p0, bounds=bounds)\n",
    "    return popt, pcov"
   ]
  },
  {
   "cell_type": "code",
   "execution_count": null,
   "metadata": {},
   "outputs": [],
   "source": []
  },
  {
   "cell_type": "code",
   "execution_count": 12,
   "metadata": {
    "ExecuteTime": {
     "end_time": "2022-02-22T11:59:17.515967Z",
     "start_time": "2022-02-22T11:59:14.486109Z"
    }
   },
   "outputs": [],
   "source": [
    "data = pd.read_json(\"https://epistat.sciensano.be/Data/COVID19BE_CASES_AGESEX.json\")"
   ]
  },
  {
   "cell_type": "code",
   "execution_count": 13,
   "metadata": {
    "ExecuteTime": {
     "end_time": "2022-02-22T11:59:17.527467Z",
     "start_time": "2022-02-22T11:59:17.519671Z"
    }
   },
   "outputs": [
    {
     "data": {
      "text/plain": [
       "Index(['DATE', 'PROVINCE', 'REGION', 'AGEGROUP', 'SEX', 'CASES'], dtype='object')"
      ]
     },
     "execution_count": 13,
     "metadata": {},
     "output_type": "execute_result"
    }
   ],
   "source": [
    "data.columns"
   ]
  },
  {
   "cell_type": "code",
   "execution_count": 14,
   "metadata": {
    "ExecuteTime": {
     "end_time": "2022-02-22T11:59:17.574780Z",
     "start_time": "2022-02-22T11:59:17.531417Z"
    }
   },
   "outputs": [],
   "source": [
    "data[\"DATE\"] = pd.to_datetime(data[\"DATE\"])"
   ]
  },
  {
   "cell_type": "code",
   "execution_count": 15,
   "metadata": {
    "ExecuteTime": {
     "end_time": "2022-02-22T11:59:17.592676Z",
     "start_time": "2022-02-22T11:59:17.578409Z"
    }
   },
   "outputs": [],
   "source": [
    "tso = data.groupby(\"DATE\")[\"CASES\"].sum().to_frame()"
   ]
  },
  {
   "cell_type": "code",
   "execution_count": 16,
   "metadata": {
    "ExecuteTime": {
     "end_time": "2022-02-22T11:59:17.619962Z",
     "start_time": "2022-02-22T11:59:17.596226Z"
    }
   },
   "outputs": [],
   "source": [
    "from scipy import signal"
   ]
  },
  {
   "cell_type": "code",
   "execution_count": null,
   "metadata": {
    "ExecuteTime": {
     "end_time": "2022-02-22T11:45:38.491824Z",
     "start_time": "2022-02-22T11:45:38.453375Z"
    }
   },
   "outputs": [],
   "source": []
  },
  {
   "cell_type": "code",
   "execution_count": 17,
   "metadata": {
    "ExecuteTime": {
     "end_time": "2022-02-22T11:59:17.633218Z",
     "start_time": "2022-02-22T11:59:17.623924Z"
    }
   },
   "outputs": [],
   "source": [
    "ts = tso.rolling(7).mean()\n",
    "#ts = signal.savgol_filter(tso[\"CASES\"].values, 9, 3)"
   ]
  },
  {
   "cell_type": "code",
   "execution_count": 18,
   "metadata": {
    "ExecuteTime": {
     "end_time": "2022-02-22T11:59:17.642510Z",
     "start_time": "2022-02-22T11:59:17.637222Z"
    }
   },
   "outputs": [],
   "source": [
    "tk = \"2021-12-21\""
   ]
  },
  {
   "cell_type": "code",
   "execution_count": null,
   "metadata": {
    "ExecuteTime": {
     "end_time": "2022-02-22T11:31:42.521866Z",
     "start_time": "2022-02-22T11:31:42.510919Z"
    }
   },
   "outputs": [],
   "source": []
  },
  {
   "cell_type": "code",
   "execution_count": 19,
   "metadata": {
    "ExecuteTime": {
     "end_time": "2022-02-22T11:59:18.602776Z",
     "start_time": "2022-02-22T11:59:17.647138Z"
    }
   },
   "outputs": [
    {
     "data": {
      "text/plain": [
       "<AxesSubplot:xlabel='DATE'>"
      ]
     },
     "execution_count": 19,
     "metadata": {},
     "output_type": "execute_result"
    },
    {
     "data": {
      "image/png": "[encoded data removed]",
      "text/plain": [
       "<Figure size 432x288 with 1 Axes>"
      ]
     },
     "metadata": {
      "needs_background": "light"
     },
     "output_type": "display_data"
    }
   ],
   "source": [
    "axe = ts[ts.index >= tk].shift(-7).plot()\n",
    "tso[ts.index >= tk].plot(ax=axe)"
   ]
  },
  {
   "cell_type": "code",
   "execution_count": 20,
   "metadata": {
    "ExecuteTime": {
     "end_time": "2022-02-22T11:59:18.631721Z",
     "start_time": "2022-02-22T11:59:18.608724Z"
    }
   },
   "outputs": [],
   "source": [
    "cts = tso[tso.index >= tk].cumsum()\n",
    "tp = (cts.index - pd.Timestamp(tk)) // pd.Timedelta('1d')\n",
    "cts.index = tp\n",
    "C = cts[\"CASES\"].values"
   ]
  },
  {
   "cell_type": "code",
   "execution_count": 21,
   "metadata": {
    "ExecuteTime": {
     "end_time": "2022-02-22T11:59:24.701388Z",
     "start_time": "2022-02-22T11:59:18.640780Z"
    }
   },
   "outputs": [
    {
     "data": {
      "text/plain": [
       "(array([2.19121403e+04, 1.32911051e+00, 7.97534595e-01, 1.50050635e+06,\n",
       "        1.99619308e+00]),\n",
       " array([[ 2.11909404e+07, -4.69308695e+03,  2.85967561e+02,\n",
       "          1.27527957e+07, -1.35686760e+03],\n",
       "        [-4.69308695e+03,  1.23548964e+00, -7.62299132e-02,\n",
       "         -4.91647103e+03,  4.12153604e-01],\n",
       "        [ 2.85967561e+02, -7.62299132e-02,  4.70750979e-03,\n",
       "          3.11789466e+02, -2.56900369e-02],\n",
       "        [ 1.27527957e+07, -4.91647103e+03,  3.11789466e+02,\n",
       "          8.50334574e+07, -2.45236295e+03],\n",
       "        [-1.35686760e+03,  4.12153604e-01, -2.56900369e-02,\n",
       "         -2.45236295e+03,  1.56599160e-01]]))"
      ]
     },
     "execution_count": 21,
     "metadata": {},
     "output_type": "execute_result"
    }
   ],
   "source": [
    "popt2, pcov2 = optimize.curve_fit(GRM, tp, C, p0=(2e4, 1.1, 0.8, 1.5e6, 1),\n",
    "                                  bounds=([1, 0.1, 0.1, 50, 0.1], [1e7, 10, 1, 1e7, 10]),\n",
    "                                  gtol=1e-9, max_nfev=10000)\n",
    "(popt2, pcov2)"
   ]
  },
  {
   "cell_type": "code",
   "execution_count": 22,
   "metadata": {
    "ExecuteTime": {
     "end_time": "2022-02-22T11:59:24.848067Z",
     "start_time": "2022-02-22T11:59:24.706000Z"
    }
   },
   "outputs": [],
   "source": [
    "n = np.arange(100)\n",
    "c = GRM(tp, *popt2)\n",
    "cex = GRM(n, *popt2)"
   ]
  },
  {
   "cell_type": "code",
   "execution_count": 23,
   "metadata": {
    "ExecuteTime": {
     "end_time": "2022-02-22T11:59:25.346267Z",
     "start_time": "2022-02-22T11:59:24.852611Z"
    }
   },
   "outputs": [
    {
     "data": {
      "image/png": "[encoded data removed]",
      "text/plain": [
       "<Figure size 432x288 with 1 Axes>"
      ]
     },
     "metadata": {
      "needs_background": "light"
     },
     "output_type": "display_data"
    }
   ],
   "source": [
    "fig, axe = plt.subplots()\n",
    "axe.plot(tp, C, \".\", label=\"Data\")\n",
    "axe.plot(tp, c, label=\"LM Fit\")\n",
    "#axe.plot(n, cex, label=\"LM Fit\")\n",
    "axe.legend()\n",
    "axe.set_title(\"GRM Model for Covid omicron wave\")\n",
    "axe.set_xlabel(\"Time index, $t_i$ [day]\")\n",
    "axe.set_ylabel(\"Cumulative cases, $C(t_i)$ [-]\")\n",
    "axe.grid()"
   ]
  },
  {
   "cell_type": "code",
   "execution_count": 25,
   "metadata": {
    "ExecuteTime": {
     "end_time": "2022-02-22T11:59:46.460938Z",
     "start_time": "2022-02-22T11:59:45.959404Z"
    }
   },
   "outputs": [
    {
     "data": {
      "image/png": "[encoded data removed]",
      "text/plain": [
       "<Figure size 432x288 with 1 Axes>"
      ]
     },
     "metadata": {
      "needs_background": "light"
     },
     "output_type": "display_data"
    }
   ],
   "source": [
    "fig, axe = plt.subplots()\n",
    "axe.plot(tp[:-1], np.diff(C), \".-\", label=\"Data\")\n",
    "axe.plot(tp[:-1], np.diff(c), label=\"LM Fit\")\n",
    "#axe.plot(n[:-1], np.diff(cex), label=\"LM Fit\")\n",
    "axe.legend()\n",
    "axe.set_title(\"GRM Model for Covid omicron wave\")\n",
    "axe.set_xlabel(\"Time index, $t_i$ [day]\")\n",
    "axe.set_ylabel(\"Daily cases, $\\dot{C}(t_i)$ [1/day]\")\n",
    "axe.grid()"
   ]
  },
  {
   "cell_type": "code",
   "execution_count": null,
   "metadata": {},
   "outputs": [],
   "source": []
  },
  {
   "cell_type": "code",
   "execution_count": null,
   "metadata": {},
   "outputs": [],
   "source": []
  },
  {
   "cell_type": "code",
   "execution_count": null,
   "metadata": {},
   "outputs": [],
   "source": []
  }
 ],
 "metadata": {
  "hide_input": false,
  "kernelspec": {
   "display_name": "Python 3",
   "language": "python",
   "name": "python3"
  },
  "language_info": {
   "codemirror_mode": {
    "name": "ipython",
    "version": 3
   },
   "file_extension": ".py",
   "mimetype": "text/x-python",
   "name": "python",
   "nbconvert_exporter": "python",
   "pygments_lexer": "ipython3",
   "version": "3.6.9"
  },
  "toc": {
   "base_numbering": 1,
   "nav_menu": {},
   "number_sections": true,
   "sideBar": true,
   "skip_h1_title": false,
   "title_cell": "Table of Contents",
   "title_sidebar": "Contents",
   "toc_cell": false,
   "toc_position": {},
   "toc_section_display": true,
   "toc_window_display": false
  },
  "varInspector": {
   "cols": {
    "lenName": 16,
    "lenType": 16,
    "lenVar": 40
   },
   "kernels_config": {
    "python": {
     "delete_cmd_postfix": "",
     "delete_cmd_prefix": "del ",
     "library": "var_list.py",
     "varRefreshCmd": "print(var_dic_list())"
    },
    "r": {
     "delete_cmd_postfix": ") ",
     "delete_cmd_prefix": "rm(",
     "library": "var_list.r",
     "varRefreshCmd": "cat(var_dic_list()) "
    }
   },
   "types_to_exclude": [
    "module",
    "function",
    "builtin_function_or_method",
    "instance",
    "_Feature"
   ],
   "window_display": false
  }
 },
 "nbformat": 4,
 "nbformat_minor": 2
}
