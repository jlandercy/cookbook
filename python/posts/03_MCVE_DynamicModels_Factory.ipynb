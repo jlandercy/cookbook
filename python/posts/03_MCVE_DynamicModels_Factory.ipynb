{
 "cells": [
  {
   "cell_type": "code",
   "execution_count": 1,
   "metadata": {
    "ExecuteTime": {
     "end_time": "2022-02-21T18:23:25.281453Z",
     "start_time": "2022-02-21T18:23:23.459560Z"
    }
   },
   "outputs": [],
   "source": [
    "from functools import wraps\n",
    "import numpy as np\n",
    "import pandas as pd\n",
    "from scipy import integrate, optimize, stats\n",
    "import matplotlib.pyplot as plt"
   ]
  },
  {
   "cell_type": "markdown",
   "metadata": {},
   "source": [
    "## References\n",
    "\n",
    " - Gerardo Chowell, *Fitting dynamic models to epidemic outbreaks withquantified uncertainty: A primer for parameter uncertainty,identifiability, and forecasts*, KeAi Infectious Disease Modelling (2017) 379-398\n",
    " - Cécile Viboud, *A generalized-growth model to characterize the early ascendingphase of infectious disease outbreaks*, Elsevier Epidemics (2016) 27-37\n",
    "\n",
    "### Useful Links\n",
    "\n",
    " \n",
    " - https://www.sciencedirect.com/science/article/pii/S2468042717300234\n",
    " - https://www.sciencedirect.com/science/article/pii/S1755436516000037\n",
    " - https://docs.scipy.org/doc/scipy/reference/generated/scipy.integrate.solve_ivp.html#scipy.integrate.solve_ivp\n",
    " - https://docs.scipy.org/doc/scipy/reference/generated/scipy.optimize.curve_fit.html\n",
    " - https://stackoverflow.com/questions/60791453/how-can-i-fix-this-typeerror-when-fitting-ode-with-scipy\n",
    " \n",
    " "
   ]
  },
  {
   "cell_type": "code",
   "execution_count": 2,
   "metadata": {
    "ExecuteTime": {
     "end_time": "2022-02-21T18:23:25.292611Z",
     "start_time": "2022-02-21T18:23:25.288335Z"
    }
   },
   "outputs": [],
   "source": [
    "t = np.arange(0, 50)"
   ]
  },
  {
   "cell_type": "markdown",
   "metadata": {},
   "source": [
    "## GRM\n",
    "\n",
    "\n",
    "The Generalized Richards Model:\n",
    "\n",
    "$$\n",
    "\\dot{C}(t) = r C^p\\left[1-\\left(\\frac{C}{K}\\right)^a\\right]\n",
    "$$\n",
    "\n",
    "Where $C(t)$ is the cumulative number of case, $r \\in \\mathbb{R}^+$ is the **growth rate** and $p \\in (0,1)$ is the **deceleration of growth**, $K \\in \\mathbb{R}^+$ is the **size of the epidemic** and $a$ is the deviation from the S-shaped dynamic."
   ]
  },
  {
   "cell_type": "code",
   "execution_count": 3,
   "metadata": {
    "ExecuteTime": {
     "end_time": "2022-02-21T18:23:25.300979Z",
     "start_time": "2022-02-21T18:23:25.295806Z"
    }
   },
   "outputs": [],
   "source": [
    "def GRM_ODE(t, C, r, p, K, a):\n",
    "    return r*np.power(C, p)*(1-np.power((C/K), a))"
   ]
  },
  {
   "cell_type": "code",
   "execution_count": 4,
   "metadata": {
    "ExecuteTime": {
     "end_time": "2022-02-21T18:23:25.308842Z",
     "start_time": "2022-02-21T18:23:25.304204Z"
    }
   },
   "outputs": [],
   "source": [
    "def GRM(t, C, r, p, K, a):\n",
    "    return integrate.solve_ivp(GRM_ODE, (t[0], t[-1]), [C], t_eval=t, args=(r, p, K, a), rtol=1e-6).y[0]"
   ]
  },
  {
   "cell_type": "code",
   "execution_count": 5,
   "metadata": {
    "ExecuteTime": {
     "end_time": "2022-02-21T18:23:25.326086Z",
     "start_time": "2022-02-21T18:23:25.312195Z"
    }
   },
   "outputs": [],
   "source": [
    "y2 = GRM(t, 2, 1.15, 0.4, 2550, 0.89)"
   ]
  },
  {
   "cell_type": "code",
   "execution_count": 6,
   "metadata": {
    "ExecuteTime": {
     "end_time": "2022-02-21T18:23:30.193367Z",
     "start_time": "2022-02-21T18:23:25.330129Z"
    }
   },
   "outputs": [
    {
     "data": {
      "text/plain": [
       "(array([2.00e+00, 1.15e+00, 4.00e-01, 2.55e+03, 8.90e-01]),\n",
       " array([[ 1.63428484e-28, -5.41812693e-29,  1.96369340e-29,\n",
       "          9.07390858e-25, -3.19385848e-28],\n",
       "        [-5.41812693e-29,  2.12511504e-29, -8.17893667e-30,\n",
       "         -4.33412914e-25,  1.44790179e-28],\n",
       "        [ 1.96369340e-29, -8.17893667e-30,  3.22555719e-30,\n",
       "          1.81195662e-25, -5.91577267e-29],\n",
       "        [ 9.07390858e-25, -4.33412914e-25,  1.81195662e-25,\n",
       "          1.16864748e-20, -3.61322821e-24],\n",
       "        [-3.19385848e-28,  1.44790179e-28, -5.91577267e-29,\n",
       "         -3.61322821e-24,  1.14146363e-27]]))"
      ]
     },
     "execution_count": 6,
     "metadata": {},
     "output_type": "execute_result"
    }
   ],
   "source": [
    "popt2, pcov2 = optimize.curve_fit(GRM, t, y2, bounds=([0.1, 0.1, 0.1, 50, 0.1], [10, 10, 1, 10000, 10]), gtol=1e-9)\n",
    "(popt2, pcov2)"
   ]
  },
  {
   "cell_type": "code",
   "execution_count": 7,
   "metadata": {
    "ExecuteTime": {
     "end_time": "2022-02-21T18:23:30.219802Z",
     "start_time": "2022-02-21T18:23:30.197706Z"
    }
   },
   "outputs": [],
   "source": [
    "y2f = GRM(t, *popt2)"
   ]
  },
  {
   "cell_type": "code",
   "execution_count": 8,
   "metadata": {
    "ExecuteTime": {
     "end_time": "2022-02-21T18:23:31.887954Z",
     "start_time": "2022-02-21T18:23:30.226241Z"
    }
   },
   "outputs": [
    {
     "data": {
      "image/png": "[encoded data removed]",
      "text/plain": [
       "<Figure size 432x288 with 1 Axes>"
      ]
     },
     "metadata": {
      "needs_background": "light"
     },
     "output_type": "display_data"
    }
   ],
   "source": [
    "fig, axe = plt.subplots()\n",
    "axe.semilogy(t, y2, '.', label='Original')\n",
    "axe.semilogy(t, y2f, label='LM Fit')\n",
    "axe.legend()\n",
    "axe.grid(which='both', color='lightgray')"
   ]
  },
  {
   "cell_type": "code",
   "execution_count": 9,
   "metadata": {
    "ExecuteTime": {
     "end_time": "2022-02-21T18:23:32.444821Z",
     "start_time": "2022-02-21T18:23:31.896605Z"
    }
   },
   "outputs": [
    {
     "data": {
      "image/png": "[encoded data removed]",
      "text/plain": [
       "<Figure size 432x288 with 1 Axes>"
      ]
     },
     "metadata": {
      "needs_background": "light"
     },
     "output_type": "display_data"
    }
   ],
   "source": [
    "fig, axe = plt.subplots()\n",
    "axe.plot(t[:-1], np.diff(y2)/np.diff(t), '-', label='Original')\n",
    "#axe.semilogy(t, y2f, label='LM Fit')\n",
    "axe.legend()\n",
    "axe.grid(which='both', color='lightgray')"
   ]
  },
  {
   "cell_type": "code",
   "execution_count": null,
   "metadata": {},
   "outputs": [],
   "source": []
  },
  {
   "cell_type": "code",
   "execution_count": null,
   "metadata": {},
   "outputs": [],
   "source": []
  },
  {
   "cell_type": "markdown",
   "metadata": {},
   "source": [
    "## Refactoring\n",
    "\n",
    "### Factory for ODE\n",
    "\n",
    "We create a factory for ODE adjustment"
   ]
  },
  {
   "cell_type": "code",
   "execution_count": 10,
   "metadata": {
    "ExecuteTime": {
     "end_time": "2022-02-21T18:23:32.471951Z",
     "start_time": "2022-02-21T18:23:32.455803Z"
    }
   },
   "outputs": [],
   "source": [
    "def ODEFitFactory(f):\n",
    "    \"\"\"\n",
    "    Factory to adjust signature function of the Integrated ODE solved by scipy.integrate.solve_ivp\n",
    "    to the optimizer provided by scipy.optimize.curve_fit\n",
    "    The first argument args[0] is the initial condition of the IVP\n",
    "    The rest of arguments args[1:] are parameters of the Fit\n",
    "    \"\"\"\n",
    "    @wraps(f)\n",
    "    def inner(t, *args):\n",
    "        return integrate.solve_ivp(f, (t[0], t[-1]), args[0:], t_eval=t, args=args[1:]).y[0]\n",
    "    return inner"
   ]
  },
  {
   "cell_type": "code",
   "execution_count": 11,
   "metadata": {
    "ExecuteTime": {
     "end_time": "2022-02-21T18:23:32.489871Z",
     "start_time": "2022-02-21T18:23:32.476247Z"
    }
   },
   "outputs": [],
   "source": [
    "def ODEFit(ode, x, y, p0=None, bounds=(-np.inf, np.inf)):\n",
    "    \"\"\"\n",
    "    Fit ODE parameters using optimizer provided by scipy.optimize.curve_fit\n",
    "    \"\"\"\n",
    "    odef = ODEFitFactory(ode)\n",
    "    popt, pcov = optimize.curve_fit(odef, x, y, p0=p0, bounds=bounds)\n",
    "    return popt, pcov"
   ]
  },
  {
   "cell_type": "code",
   "execution_count": null,
   "metadata": {},
   "outputs": [],
   "source": []
  },
  {
   "cell_type": "code",
   "execution_count": null,
   "metadata": {},
   "outputs": [],
   "source": []
  },
  {
   "cell_type": "code",
   "execution_count": null,
   "metadata": {},
   "outputs": [],
   "source": []
  },
  {
   "cell_type": "code",
   "execution_count": null,
   "metadata": {},
   "outputs": [],
   "source": []
  },
  {
   "cell_type": "code",
   "execution_count": null,
   "metadata": {},
   "outputs": [],
   "source": []
  },
  {
   "cell_type": "code",
   "execution_count": null,
   "metadata": {},
   "outputs": [],
   "source": []
  }
 ],
 "metadata": {
  "hide_input": false,
  "kernelspec": {
   "display_name": "Python 3",
   "language": "python",
   "name": "python3"
  },
  "language_info": {
   "codemirror_mode": {
    "name": "ipython",
    "version": 3
   },
   "file_extension": ".py",
   "mimetype": "text/x-python",
   "name": "python",
   "nbconvert_exporter": "python",
   "pygments_lexer": "ipython3",
   "version": "3.6.9"
  },
  "toc": {
   "base_numbering": 1,
   "nav_menu": {},
   "number_sections": true,
   "sideBar": true,
   "skip_h1_title": false,
   "title_cell": "Table of Contents",
   "title_sidebar": "Contents",
   "toc_cell": false,
   "toc_position": {},
   "toc_section_display": true,
   "toc_window_display": false
  },
  "varInspector": {
   "cols": {
    "lenName": 16,
    "lenType": 16,
    "lenVar": 40
   },
   "kernels_config": {
    "python": {
     "delete_cmd_postfix": "",
     "delete_cmd_prefix": "del ",
     "library": "var_list.py",
     "varRefreshCmd": "print(var_dic_list())"
    },
    "r": {
     "delete_cmd_postfix": ") ",
     "delete_cmd_prefix": "rm(",
     "library": "var_list.r",
     "varRefreshCmd": "cat(var_dic_list()) "
    }
   },
   "types_to_exclude": [
    "module",
    "function",
    "builtin_function_or_method",
    "instance",
    "_Feature"
   ],
   "window_display": false
  }
 },
 "nbformat": 4,
 "nbformat_minor": 2
}
