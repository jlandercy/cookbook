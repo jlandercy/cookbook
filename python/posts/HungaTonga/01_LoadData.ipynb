{
 "cells": [
  {
   "cell_type": "code",
   "execution_count": 11,
   "id": "2ad28dbd",
   "metadata": {
    "ExecuteTime": {
     "end_time": "2022-08-14T08:47:13.835027Z",
     "start_time": "2022-08-14T08:47:13.826168Z"
    }
   },
   "outputs": [],
   "source": [
    "import numpy as np\n",
    "import pandas as pd\n",
    "from sklearn.linear_model import LinearRegression\n",
    "import matplotlib.pyplot as plt"
   ]
  },
  {
   "cell_type": "code",
   "execution_count": null,
   "id": "693af506",
   "metadata": {},
   "outputs": [],
   "source": []
  },
  {
   "cell_type": "code",
   "execution_count": 2,
   "id": "7f3c9ec5",
   "metadata": {
    "ExecuteTime": {
     "end_time": "2022-08-14T08:43:15.041633Z",
     "start_time": "2022-08-14T08:43:15.035472Z"
    }
   },
   "outputs": [],
   "source": [
    "def load(file):\n",
    "    frame = pd.read_csv(file, parse_dates=[\"Time\"])\n",
    "    frame = frame.set_index(\"Time\")\n",
    "    return frame"
   ]
  },
  {
   "cell_type": "code",
   "execution_count": 3,
   "id": "5e4b3fec",
   "metadata": {
    "ExecuteTime": {
     "end_time": "2022-08-14T08:43:15.573159Z",
     "start_time": "2022-08-14T08:43:15.047156Z"
    }
   },
   "outputs": [],
   "source": [
    "ircel = load(\"Ircel_ref.csv\")\n",
    "bme280 = load(\"BME280_ref.csv\")"
   ]
  },
  {
   "cell_type": "code",
   "execution_count": 4,
   "id": "c84e161a",
   "metadata": {
    "ExecuteTime": {
     "end_time": "2022-08-14T08:43:15.617550Z",
     "start_time": "2022-08-14T08:43:15.581745Z"
    }
   },
   "outputs": [],
   "source": [
    "bme_1h = bme280.resample(\"1h\").mean()"
   ]
  },
  {
   "cell_type": "code",
   "execution_count": 5,
   "id": "64455392",
   "metadata": {
    "ExecuteTime": {
     "end_time": "2022-08-14T08:43:15.672766Z",
     "start_time": "2022-08-14T08:43:15.624765Z"
    }
   },
   "outputs": [
    {
     "data": {
      "text/html": [
       "<div>\n",
       "<style scoped>\n",
       "    .dataframe tbody tr th:only-of-type {\n",
       "        vertical-align: middle;\n",
       "    }\n",
       "\n",
       "    .dataframe tbody tr th {\n",
       "        vertical-align: top;\n",
       "    }\n",
       "\n",
       "    .dataframe thead th {\n",
       "        text-align: right;\n",
       "    }\n",
       "</style>\n",
       "<table border=\"1\" class=\"dataframe\">\n",
       "  <thead>\n",
       "    <tr style=\"text-align: right;\">\n",
       "      <th></th>\n",
       "      <th>41R001</th>\n",
       "      <th>BME280</th>\n",
       "    </tr>\n",
       "    <tr>\n",
       "      <th>Time</th>\n",
       "      <th></th>\n",
       "      <th></th>\n",
       "    </tr>\n",
       "  </thead>\n",
       "  <tbody>\n",
       "    <tr>\n",
       "      <th>2022-07-01 00:00:00</th>\n",
       "      <td>1014</td>\n",
       "      <td>1012.365556</td>\n",
       "    </tr>\n",
       "    <tr>\n",
       "      <th>2022-07-01 01:00:00</th>\n",
       "      <td>1014</td>\n",
       "      <td>1012.614804</td>\n",
       "    </tr>\n",
       "    <tr>\n",
       "      <th>2022-07-01 02:00:00</th>\n",
       "      <td>1013</td>\n",
       "      <td>1012.198607</td>\n",
       "    </tr>\n",
       "    <tr>\n",
       "      <th>2022-07-01 03:00:00</th>\n",
       "      <td>1014</td>\n",
       "      <td>1012.880501</td>\n",
       "    </tr>\n",
       "    <tr>\n",
       "      <th>2022-07-01 04:00:00</th>\n",
       "      <td>1014</td>\n",
       "      <td>1013.022563</td>\n",
       "    </tr>\n",
       "    <tr>\n",
       "      <th>...</th>\n",
       "      <td>...</td>\n",
       "      <td>...</td>\n",
       "    </tr>\n",
       "    <tr>\n",
       "      <th>2022-07-31 19:00:00</th>\n",
       "      <td>1015</td>\n",
       "      <td>1013.448889</td>\n",
       "    </tr>\n",
       "    <tr>\n",
       "      <th>2022-07-31 20:00:00</th>\n",
       "      <td>1015</td>\n",
       "      <td>1013.650418</td>\n",
       "    </tr>\n",
       "    <tr>\n",
       "      <th>2022-07-31 21:00:00</th>\n",
       "      <td>1015</td>\n",
       "      <td>1013.746369</td>\n",
       "    </tr>\n",
       "    <tr>\n",
       "      <th>2022-07-31 22:00:00</th>\n",
       "      <td>1015</td>\n",
       "      <td>1014.059444</td>\n",
       "    </tr>\n",
       "    <tr>\n",
       "      <th>2022-07-31 23:00:00</th>\n",
       "      <td>1015</td>\n",
       "      <td>1014.112535</td>\n",
       "    </tr>\n",
       "  </tbody>\n",
       "</table>\n",
       "<p>744 rows × 2 columns</p>\n",
       "</div>"
      ],
      "text/plain": [
       "                     41R001       BME280\n",
       "Time                                    \n",
       "2022-07-01 00:00:00    1014  1012.365556\n",
       "2022-07-01 01:00:00    1014  1012.614804\n",
       "2022-07-01 02:00:00    1013  1012.198607\n",
       "2022-07-01 03:00:00    1014  1012.880501\n",
       "2022-07-01 04:00:00    1014  1013.022563\n",
       "...                     ...          ...\n",
       "2022-07-31 19:00:00    1015  1013.448889\n",
       "2022-07-31 20:00:00    1015  1013.650418\n",
       "2022-07-31 21:00:00    1015  1013.746369\n",
       "2022-07-31 22:00:00    1015  1014.059444\n",
       "2022-07-31 23:00:00    1015  1014.112535\n",
       "\n",
       "[744 rows x 2 columns]"
      ]
     },
     "execution_count": 5,
     "metadata": {},
     "output_type": "execute_result"
    }
   ],
   "source": [
    "comp = pd.concat([ircel, bme_1h], axis=1)\n",
    "comp"
   ]
  },
  {
   "cell_type": "code",
   "execution_count": 6,
   "id": "d82caebe",
   "metadata": {
    "ExecuteTime": {
     "end_time": "2022-08-14T08:43:15.681528Z",
     "start_time": "2022-08-14T08:43:15.677141Z"
    }
   },
   "outputs": [],
   "source": [
    "credits = \"Sources: Irceline, BlueBox\\nCredits: J. Landercy\""
   ]
  },
  {
   "cell_type": "code",
   "execution_count": 15,
   "id": "a5c4e73b",
   "metadata": {
    "ExecuteTime": {
     "end_time": "2022-08-14T08:48:19.898689Z",
     "start_time": "2022-08-14T08:48:19.336809Z"
    }
   },
   "outputs": [
    {
     "data": {
      "image/png": "[encoded data removed]",
      "text/plain": [
       "<Figure size 432x288 with 1 Axes>"
      ]
     },
     "metadata": {
      "needs_background": "light"
     },
     "output_type": "display_data"
    }
   ],
   "source": [
    "axe = comp.plot()\n",
    "axe.set_title(\"Signal Comparison: Time Series\")\n",
    "axe.set_xlabel(\"Time, $t$ [CEST]\")\n",
    "axe.set_ylabel(\"Pressure, $p$ [hPa]\")\n",
    "axe.figure.text(0.92, 0.13, credits, rotation=90)\n",
    "axe.grid()"
   ]
  },
  {
   "cell_type": "code",
   "execution_count": 9,
   "id": "e63f139f",
   "metadata": {
    "ExecuteTime": {
     "end_time": "2022-08-14T08:46:51.973800Z",
     "start_time": "2022-08-14T08:46:51.957628Z"
    }
   },
   "outputs": [],
   "source": [
    "X = comp[\"41R001\"].values.reshape(-1, 1)\n",
    "y = comp[\"BME280\"].values"
   ]
  },
  {
   "cell_type": "code",
   "execution_count": 35,
   "id": "b1937302",
   "metadata": {
    "ExecuteTime": {
     "end_time": "2022-08-14T08:56:36.007325Z",
     "start_time": "2022-08-14T08:56:35.975687Z"
    }
   },
   "outputs": [
    {
     "data": {
      "text/plain": [
       "0.9954882071233692"
      ]
     },
     "execution_count": 35,
     "metadata": {},
     "output_type": "execute_result"
    }
   ],
   "source": [
    "reg = LinearRegression().fit(X, y)\n",
    "score = reg.score(X, y)\n",
    "score"
   ]
  },
  {
   "cell_type": "code",
   "execution_count": 19,
   "id": "0e23e8b0",
   "metadata": {
    "ExecuteTime": {
     "end_time": "2022-08-14T08:49:41.436672Z",
     "start_time": "2022-08-14T08:49:41.421248Z"
    }
   },
   "outputs": [
    {
     "data": {
      "text/plain": [
       "array([0.99102437])"
      ]
     },
     "execution_count": 19,
     "metadata": {},
     "output_type": "execute_result"
    }
   ],
   "source": [
    "reg.coef_"
   ]
  },
  {
   "cell_type": "code",
   "execution_count": 21,
   "id": "f125afed",
   "metadata": {
    "ExecuteTime": {
     "end_time": "2022-08-14T08:49:56.274441Z",
     "start_time": "2022-08-14T08:49:56.264392Z"
    }
   },
   "outputs": [
    {
     "data": {
      "text/plain": [
       "7.82684296227751"
      ]
     },
     "execution_count": 21,
     "metadata": {},
     "output_type": "execute_result"
    }
   ],
   "source": [
    "reg.intercept_"
   ]
  },
  {
   "cell_type": "code",
   "execution_count": null,
   "id": "45b080df",
   "metadata": {},
   "outputs": [],
   "source": []
  },
  {
   "cell_type": "markdown",
   "id": "b69bfdb3",
   "metadata": {},
   "source": [
    "$\\Delta p = \\rho g h$"
   ]
  },
  {
   "cell_type": "code",
   "execution_count": 23,
   "id": "7b03af59",
   "metadata": {
    "ExecuteTime": {
     "end_time": "2022-08-14T08:52:02.744267Z",
     "start_time": "2022-08-14T08:52:02.736629Z"
    }
   },
   "outputs": [
    {
     "data": {
      "text/plain": [
       "65.1300668811709"
      ]
     },
     "execution_count": 23,
     "metadata": {},
     "output_type": "execute_result"
    }
   ],
   "source": [
    "(reg.intercept_*100)/(1.225*9.81)"
   ]
  },
  {
   "cell_type": "code",
   "execution_count": 24,
   "id": "cee4185b",
   "metadata": {
    "ExecuteTime": {
     "end_time": "2022-08-14T08:53:26.173741Z",
     "start_time": "2022-08-14T08:53:26.137817Z"
    }
   },
   "outputs": [],
   "source": [
    "yhat = reg.predict(X)"
   ]
  },
  {
   "cell_type": "code",
   "execution_count": 39,
   "id": "73b951ab",
   "metadata": {
    "ExecuteTime": {
     "end_time": "2022-08-14T08:57:31.576048Z",
     "start_time": "2022-08-14T08:57:30.976848Z"
    }
   },
   "outputs": [
    {
     "data": {
      "image/png": "[encoded data removed]",
      "text/plain": [
       "<Figure size 432x288 with 1 Axes>"
      ]
     },
     "metadata": {
      "needs_background": "light"
     },
     "output_type": "display_data"
    }
   ],
   "source": [
    "fig, axe = plt.subplots()\n",
    "axe.plot(X, y, \".\", label=\"Experimental Data\")\n",
    "axe.plot(X, yhat, label=\"Linear Fit (score: %.3f)\\n$\\hat{p}_1 = %.4f\\cdot p_0 + %.3f$\" % (score, reg.coef_[0], reg.intercept_))\n",
    "axe.set_title(\"Signal Comparison: Linear Regression\")\n",
    "axe.set_xlabel(\"Pressure at 41R001, $p_1$ [hPa]\")\n",
    "axe.set_ylabel(\"Pressure at BME280, $p_0$ [hPa]\")\n",
    "axe.figure.text(0.92, 0.13, credits, rotation=90)\n",
    "axe.legend()\n",
    "axe.grid()"
   ]
  },
  {
   "cell_type": "code",
   "execution_count": null,
   "id": "8829118e",
   "metadata": {},
   "outputs": [],
   "source": []
  },
  {
   "cell_type": "code",
   "execution_count": null,
   "id": "fe851c53",
   "metadata": {},
   "outputs": [],
   "source": []
  }
 ],
 "metadata": {
  "hide_input": false,
  "kernelspec": {
   "display_name": "Python 3",
   "language": "python",
   "name": "python3"
  },
  "language_info": {
   "codemirror_mode": {
    "name": "ipython",
    "version": 3
   },
   "file_extension": ".py",
   "mimetype": "text/x-python",
   "name": "python",
   "nbconvert_exporter": "python",
   "pygments_lexer": "ipython3",
   "version": "3.6.9"
  },
  "toc": {
   "base_numbering": 1,
   "nav_menu": {},
   "number_sections": true,
   "sideBar": true,
   "skip_h1_title": false,
   "title_cell": "Table of Contents",
   "title_sidebar": "Contents",
   "toc_cell": false,
   "toc_position": {},
   "toc_section_display": true,
   "toc_window_display": false
  },
  "varInspector": {
   "cols": {
    "lenName": 16,
    "lenType": 16,
    "lenVar": 40
   },
   "kernels_config": {
    "python": {
     "delete_cmd_postfix": "",
     "delete_cmd_prefix": "del ",
     "library": "var_list.py",
     "varRefreshCmd": "print(var_dic_list())"
    },
    "r": {
     "delete_cmd_postfix": ") ",
     "delete_cmd_prefix": "rm(",
     "library": "var_list.r",
     "varRefreshCmd": "cat(var_dic_list()) "
    }
   },
   "types_to_exclude": [
    "module",
    "function",
    "builtin_function_or_method",
    "instance",
    "_Feature"
   ],
   "window_display": false
  }
 },
 "nbformat": 4,
 "nbformat_minor": 5
}
