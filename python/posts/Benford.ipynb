{
 "cells": [
  {
   "cell_type": "code",
   "execution_count": 1,
   "id": "dba9a0d5",
   "metadata": {
    "ExecuteTime": {
     "end_time": "2022-05-10T18:48:51.608139Z",
     "start_time": "2022-05-10T18:48:49.909249Z"
    }
   },
   "outputs": [],
   "source": [
    "import numpy as np\n",
    "import pandas as pd\n",
    "from scipy import stats"
   ]
  },
  {
   "cell_type": "code",
   "execution_count": 2,
   "id": "e9c1cf80",
   "metadata": {
    "ExecuteTime": {
     "end_time": "2022-05-10T18:48:51.625302Z",
     "start_time": "2022-05-10T18:48:51.614454Z"
    }
   },
   "outputs": [],
   "source": [
    "def digit(number, order):\n",
    "    if number >= 10**order:\n",
    "        return (number // 10**order) % 10\n",
    "    else:\n",
    "        raise ValueError"
   ]
  },
  {
   "cell_type": "code",
   "execution_count": 3,
   "id": "72e32f0f",
   "metadata": {
    "ExecuteTime": {
     "end_time": "2022-05-10T18:48:51.644521Z",
     "start_time": "2022-05-10T18:48:51.630520Z"
    }
   },
   "outputs": [],
   "source": [
    "def length(number):\n",
    "    return int(np.ceil(np.log10(number+1)))"
   ]
  },
  {
   "cell_type": "code",
   "execution_count": 4,
   "id": "2216ee8e",
   "metadata": {
    "ExecuteTime": {
     "end_time": "2022-05-10T18:48:51.664481Z",
     "start_time": "2022-05-10T18:48:51.649233Z"
    }
   },
   "outputs": [],
   "source": [
    "def first_digit(number):\n",
    "    return digit(number, length(number) - 1)"
   ]
  },
  {
   "cell_type": "code",
   "execution_count": 17,
   "id": "9f567728",
   "metadata": {
    "ExecuteTime": {
     "end_time": "2022-05-10T18:49:44.178157Z",
     "start_time": "2022-05-10T18:49:44.172225Z"
    }
   },
   "outputs": [],
   "source": [
    "X = stats.norm(loc=50000, scale=10000)"
   ]
  },
  {
   "cell_type": "code",
   "execution_count": 18,
   "id": "2b097132",
   "metadata": {
    "ExecuteTime": {
     "end_time": "2022-05-10T18:49:45.043545Z",
     "start_time": "2022-05-10T18:49:45.036560Z"
    }
   },
   "outputs": [],
   "source": [
    "df = pd.DataFrame({\"x\": X.rvs(size=8640)})"
   ]
  },
  {
   "cell_type": "code",
   "execution_count": 19,
   "id": "570a4d56",
   "metadata": {
    "ExecuteTime": {
     "end_time": "2022-05-10T18:49:45.688155Z",
     "start_time": "2022-05-10T18:49:45.681360Z"
    }
   },
   "outputs": [],
   "source": [
    "df[\"x\"] = df[\"x\"].round().astype(int)"
   ]
  },
  {
   "cell_type": "code",
   "execution_count": 20,
   "id": "b64e7baf",
   "metadata": {
    "ExecuteTime": {
     "end_time": "2022-05-10T18:49:46.451780Z",
     "start_time": "2022-05-10T18:49:46.436770Z"
    }
   },
   "outputs": [
    {
     "data": {
      "text/html": [
       "<div>\n",
       "<style scoped>\n",
       "    .dataframe tbody tr th:only-of-type {\n",
       "        vertical-align: middle;\n",
       "    }\n",
       "\n",
       "    .dataframe tbody tr th {\n",
       "        vertical-align: top;\n",
       "    }\n",
       "\n",
       "    .dataframe thead th {\n",
       "        text-align: right;\n",
       "    }\n",
       "</style>\n",
       "<table border=\"1\" class=\"dataframe\">\n",
       "  <thead>\n",
       "    <tr style=\"text-align: right;\">\n",
       "      <th></th>\n",
       "      <th>x</th>\n",
       "    </tr>\n",
       "  </thead>\n",
       "  <tbody>\n",
       "    <tr>\n",
       "      <th>0</th>\n",
       "      <td>53235</td>\n",
       "    </tr>\n",
       "    <tr>\n",
       "      <th>1</th>\n",
       "      <td>49328</td>\n",
       "    </tr>\n",
       "    <tr>\n",
       "      <th>2</th>\n",
       "      <td>60278</td>\n",
       "    </tr>\n",
       "    <tr>\n",
       "      <th>3</th>\n",
       "      <td>51630</td>\n",
       "    </tr>\n",
       "    <tr>\n",
       "      <th>4</th>\n",
       "      <td>37757</td>\n",
       "    </tr>\n",
       "    <tr>\n",
       "      <th>...</th>\n",
       "      <td>...</td>\n",
       "    </tr>\n",
       "    <tr>\n",
       "      <th>8635</th>\n",
       "      <td>60984</td>\n",
       "    </tr>\n",
       "    <tr>\n",
       "      <th>8636</th>\n",
       "      <td>53991</td>\n",
       "    </tr>\n",
       "    <tr>\n",
       "      <th>8637</th>\n",
       "      <td>41622</td>\n",
       "    </tr>\n",
       "    <tr>\n",
       "      <th>8638</th>\n",
       "      <td>57186</td>\n",
       "    </tr>\n",
       "    <tr>\n",
       "      <th>8639</th>\n",
       "      <td>50336</td>\n",
       "    </tr>\n",
       "  </tbody>\n",
       "</table>\n",
       "<p>8640 rows × 1 columns</p>\n",
       "</div>"
      ],
      "text/plain": [
       "          x\n",
       "0     53235\n",
       "1     49328\n",
       "2     60278\n",
       "3     51630\n",
       "4     37757\n",
       "...     ...\n",
       "8635  60984\n",
       "8636  53991\n",
       "8637  41622\n",
       "8638  57186\n",
       "8639  50336\n",
       "\n",
       "[8640 rows x 1 columns]"
      ]
     },
     "execution_count": 20,
     "metadata": {},
     "output_type": "execute_result"
    }
   ],
   "source": [
    "df"
   ]
  },
  {
   "cell_type": "code",
   "execution_count": 21,
   "id": "cdedf852",
   "metadata": {
    "ExecuteTime": {
     "end_time": "2022-05-10T18:49:47.258259Z",
     "start_time": "2022-05-10T18:49:47.014116Z"
    }
   },
   "outputs": [
    {
     "data": {
      "text/plain": [
       "<AxesSubplot:ylabel='Frequency'>"
      ]
     },
     "execution_count": 21,
     "metadata": {},
     "output_type": "execute_result"
    },
    {
     "data": {
      "image/png": "[encoded data removed]",
      "text/plain": [
       "<Figure size 432x288 with 1 Axes>"
      ]
     },
     "metadata": {
      "needs_background": "light"
     },
     "output_type": "display_data"
    }
   ],
   "source": [
    "df[\"x\"].plot(kind=\"hist\")"
   ]
  },
  {
   "cell_type": "code",
   "execution_count": 23,
   "id": "04e97077",
   "metadata": {
    "ExecuteTime": {
     "end_time": "2022-05-10T18:50:15.694982Z",
     "start_time": "2022-05-10T18:50:15.276701Z"
    }
   },
   "outputs": [
    {
     "data": {
      "text/plain": [
       "<AxesSubplot:ylabel='Frequency'>"
      ]
     },
     "execution_count": 23,
     "metadata": {},
     "output_type": "execute_result"
    },
    {
     "data": {
      "image/png": "[encoded data removed]",
      "text/plain": [
       "<Figure size 432x288 with 1 Axes>"
      ]
     },
     "metadata": {
      "needs_background": "light"
     },
     "output_type": "display_data"
    }
   ],
   "source": [
    "df[\"x\"].apply(first_digit).plot(kind=\"hist\", bins=range(10), density=1)"
   ]
  },
  {
   "cell_type": "code",
   "execution_count": null,
   "id": "8cf6ffe7",
   "metadata": {},
   "outputs": [],
   "source": []
  },
  {
   "cell_type": "code",
   "execution_count": null,
   "id": "ca00fb33",
   "metadata": {},
   "outputs": [],
   "source": []
  }
 ],
 "metadata": {
  "hide_input": false,
  "kernelspec": {
   "display_name": "Python 3",
   "language": "python",
   "name": "python3"
  },
  "language_info": {
   "codemirror_mode": {
    "name": "ipython",
    "version": 3
   },
   "file_extension": ".py",
   "mimetype": "text/x-python",
   "name": "python",
   "nbconvert_exporter": "python",
   "pygments_lexer": "ipython3",
   "version": "3.6.9"
  },
  "toc": {
   "base_numbering": 1,
   "nav_menu": {},
   "number_sections": true,
   "sideBar": true,
   "skip_h1_title": false,
   "title_cell": "Table of Contents",
   "title_sidebar": "Contents",
   "toc_cell": false,
   "toc_position": {},
   "toc_section_display": true,
   "toc_window_display": false
  },
  "varInspector": {
   "cols": {
    "lenName": 16,
    "lenType": 16,
    "lenVar": 40
   },
   "kernels_config": {
    "python": {
     "delete_cmd_postfix": "",
     "delete_cmd_prefix": "del ",
     "library": "var_list.py",
     "varRefreshCmd": "print(var_dic_list())"
    },
    "r": {
     "delete_cmd_postfix": ") ",
     "delete_cmd_prefix": "rm(",
     "library": "var_list.r",
     "varRefreshCmd": "cat(var_dic_list()) "
    }
   },
   "types_to_exclude": [
    "module",
    "function",
    "builtin_function_or_method",
    "instance",
    "_Feature"
   ],
   "window_display": false
  }
 },
 "nbformat": 4,
 "nbformat_minor": 5
}
