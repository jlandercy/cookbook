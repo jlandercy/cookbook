{
 "cells": [
  {
   "cell_type": "code",
   "execution_count": 1,
   "id": "108ba851",
   "metadata": {
    "ExecuteTime": {
     "end_time": "2022-02-12T11:05:49.147202Z",
     "start_time": "2022-02-12T11:05:46.982860Z"
    }
   },
   "outputs": [],
   "source": [
    "import numpy as np\n",
    "import pandas as pd\n",
    "import matplotlib.pyplot as plt\n",
    "\n",
    "from scipy import optimize, signal\n",
    "from sklearn import metrics\n",
    "from sklearn.linear_model import LinearRegression"
   ]
  },
  {
   "cell_type": "markdown",
   "id": "c59b3c9f",
   "metadata": {},
   "source": [
    "$$\\mathrm{A \\underset{Ni}{\\overset{k_1}{\\longrightarrow}} B + C}$$\n",
    "\n",
    "$$r = k_1 \\theta_A = k_1\\frac{aA}{1 + aA + bB + cC}$$\n",
    "\n",
    "$$r = \\frac{1}{V}\\frac{\\mathrm{d}\\xi}{\\mathrm{d}t} \\simeq k_1\\frac{aA}{aA + bB} = k\\frac{a(n_0 - \\xi)}{a(n_0 - \\xi) + b\\xi}$$\n",
    "\n",
    "$$\\int\\limits_0^\\xi\\left(1 + \\frac{b\\xi}{a(n_0-\\xi)}\\right)\\mathrm{d}\\xi = \\int\\limits_0^t k_1V\\mathrm{d}t$$\n",
    "\n",
    "$$\\left(1 - \\frac{b}{a}\\right)\\xi - n_0\\frac{b}{a}\\ln\\left|\\frac{n_0 - \\xi}{n_0}\\right| = k_1Vt$$\n",
    "\n",
    "$$ t(\\xi) = \\frac{1}{k_1}(1-k_2) \\frac{\\xi}{V} + \\frac{k_2}{k_1}\\left(-\\frac{n_0}{V}\\right)\\ln\\left|\\frac{n_0 - \\xi}{n_0}\\right| = c_1 x_1(\\xi) + c_2 x_2(\\xi)$$\n",
    "\n",
    "$$k_1 = \\frac{1}{c_1 + c_2} \\,,\\quad k_2 = \\frac{c_2}{c_1 + c_2}$$\n",
    "\n",
    "$$r = k_1\\frac{aA}{aA + bB} \\rightarrow \\frac{1}{r} = \\frac{1}{k_1}\\left(1 + k_2 \\frac{\\xi}{n_0 - \\xi}\\right) $$"
   ]
  },
  {
   "cell_type": "code",
   "execution_count": 2,
   "id": "c462a41f",
   "metadata": {
    "ExecuteTime": {
     "end_time": "2022-02-12T11:05:49.289189Z",
     "start_time": "2022-02-12T11:05:49.153988Z"
    }
   },
   "outputs": [],
   "source": [
    "df = pd.read_excel(\"cathet.xlsx\")"
   ]
  },
  {
   "cell_type": "code",
   "execution_count": 3,
   "id": "79267900",
   "metadata": {
    "ExecuteTime": {
     "end_time": "2022-02-12T11:05:49.300634Z",
     "start_time": "2022-02-12T11:05:49.294316Z"
    }
   },
   "outputs": [],
   "source": [
    "df = df.loc[2:]"
   ]
  },
  {
   "cell_type": "code",
   "execution_count": 4,
   "id": "b924a310",
   "metadata": {
    "ExecuteTime": {
     "end_time": "2022-02-12T11:05:49.318236Z",
     "start_time": "2022-02-12T11:05:49.305499Z"
    }
   },
   "outputs": [],
   "source": [
    "df[\"t\"] = df[\"t\"] - df.loc[2, \"t\"]\n",
    "df[\"V\"] = df[\"V\"] - df.loc[2, \"V\"]"
   ]
  },
  {
   "cell_type": "code",
   "execution_count": 5,
   "id": "ae572524",
   "metadata": {
    "ExecuteTime": {
     "end_time": "2022-02-12T11:05:49.342364Z",
     "start_time": "2022-02-12T11:05:49.322660Z"
    }
   },
   "outputs": [
    {
     "data": {
      "text/html": [
       "<div>\n",
       "<style scoped>\n",
       "    .dataframe tbody tr th:only-of-type {\n",
       "        vertical-align: middle;\n",
       "    }\n",
       "\n",
       "    .dataframe tbody tr th {\n",
       "        vertical-align: top;\n",
       "    }\n",
       "\n",
       "    .dataframe thead th {\n",
       "        text-align: right;\n",
       "    }\n",
       "</style>\n",
       "<table border=\"1\" class=\"dataframe\">\n",
       "  <thead>\n",
       "    <tr style=\"text-align: right;\">\n",
       "      <th></th>\n",
       "      <th>t</th>\n",
       "      <th>V</th>\n",
       "    </tr>\n",
       "  </thead>\n",
       "  <tbody>\n",
       "    <tr>\n",
       "      <th>2</th>\n",
       "      <td>0</td>\n",
       "      <td>0.000000</td>\n",
       "    </tr>\n",
       "    <tr>\n",
       "      <th>3</th>\n",
       "      <td>39</td>\n",
       "      <td>0.000008</td>\n",
       "    </tr>\n",
       "    <tr>\n",
       "      <th>4</th>\n",
       "      <td>131</td>\n",
       "      <td>0.000027</td>\n",
       "    </tr>\n",
       "    <tr>\n",
       "      <th>5</th>\n",
       "      <td>184</td>\n",
       "      <td>0.000038</td>\n",
       "    </tr>\n",
       "    <tr>\n",
       "      <th>6</th>\n",
       "      <td>214</td>\n",
       "      <td>0.000044</td>\n",
       "    </tr>\n",
       "  </tbody>\n",
       "</table>\n",
       "</div>"
      ],
      "text/plain": [
       "     t         V\n",
       "2    0  0.000000\n",
       "3   39  0.000008\n",
       "4  131  0.000027\n",
       "5  184  0.000038\n",
       "6  214  0.000044"
      ]
     },
     "execution_count": 5,
     "metadata": {},
     "output_type": "execute_result"
    }
   ],
   "source": [
    "df[:5]"
   ]
  },
  {
   "cell_type": "code",
   "execution_count": 6,
   "id": "49527343",
   "metadata": {
    "ExecuteTime": {
     "end_time": "2022-02-12T11:05:50.179522Z",
     "start_time": "2022-02-12T11:05:49.347504Z"
    }
   },
   "outputs": [
    {
     "data": {
      "image/png": "[encoded data removed]",
      "text/plain": [
       "<Figure size 432x288 with 1 Axes>"
      ]
     },
     "metadata": {
      "needs_background": "light"
     },
     "output_type": "display_data"
    }
   ],
   "source": [
    "fig, axe = plt.subplots()\n",
    "axe.plot(df[\"t\"], df[\"V\"])\n",
    "axe.set_title(\"Heterogeneous Catalysis Kinetic\")\n",
    "axe.set_xlabel(\"Time, $t$ $[\\mathrm{s}]$\")\n",
    "axe.set_ylabel(\"Volume, $V_\\mathrm{H_2}(t)$ $[\\mathrm{m^3}]$\")\n",
    "axe.grid()"
   ]
  },
  {
   "cell_type": "code",
   "execution_count": 7,
   "id": "f74776ea",
   "metadata": {
    "ExecuteTime": {
     "end_time": "2022-02-12T11:05:50.199686Z",
     "start_time": "2022-02-12T11:05:50.188211Z"
    }
   },
   "outputs": [],
   "source": [
    "R = 8.31446261815324  # J/mol.K\n",
    "T0 = 292.05           # K\n",
    "p0 = 101600           # Pa\n",
    "V = 190e-6            # m3 of isopropanol\n",
    "m = 2.7677            # g of Raney Nickel\n",
    "rho = 785             # kg/m³\n",
    "M = 60.1              # g/mol\n",
    "n0 = 1000*rho*V/M     # mol"
   ]
  },
  {
   "cell_type": "code",
   "execution_count": 8,
   "id": "975941d9",
   "metadata": {
    "ExecuteTime": {
     "end_time": "2022-02-12T11:05:50.223200Z",
     "start_time": "2022-02-12T11:05:50.209455Z"
    }
   },
   "outputs": [
    {
     "data": {
      "text/plain": [
       "2.4816971713810316"
      ]
     },
     "execution_count": 8,
     "metadata": {},
     "output_type": "execute_result"
    }
   ],
   "source": [
    "n0"
   ]
  },
  {
   "cell_type": "code",
   "execution_count": 9,
   "id": "f661d543",
   "metadata": {
    "ExecuteTime": {
     "end_time": "2022-02-12T11:05:50.265565Z",
     "start_time": "2022-02-12T11:05:50.231889Z"
    }
   },
   "outputs": [],
   "source": [
    "df[\"xi\"] = p0*df[\"V\"]/(R*T0)\n",
    "df[\"B/A\"] = df[\"xi\"]/(n0 - df[\"xi\"])\n",
    "df[\"x1\"] = df[\"xi\"]/V\n",
    "df[\"x2\"] = -(n0/V)*np.log(np.abs((n0 - df[\"xi\"])/n0))\n",
    "df[\"dxidt1\"] = df[\"xi\"].diff()/df[\"t\"].diff()\n",
    "df[\"1/r1\"] = V/df[\"dxidt1\"]"
   ]
  },
  {
   "cell_type": "code",
   "execution_count": null,
   "id": "3086d8e3",
   "metadata": {
    "ExecuteTime": {
     "end_time": "2022-02-10T08:41:50.252634Z",
     "start_time": "2022-02-10T08:41:50.228511Z"
    }
   },
   "outputs": [],
   "source": []
  },
  {
   "cell_type": "code",
   "execution_count": 10,
   "id": "dba3efdd",
   "metadata": {
    "ExecuteTime": {
     "end_time": "2022-02-12T11:05:50.307194Z",
     "start_time": "2022-02-12T11:05:50.273813Z"
    }
   },
   "outputs": [
    {
     "data": {
      "text/html": [
       "<div>\n",
       "<style scoped>\n",
       "    .dataframe tbody tr th:only-of-type {\n",
       "        vertical-align: middle;\n",
       "    }\n",
       "\n",
       "    .dataframe tbody tr th {\n",
       "        vertical-align: top;\n",
       "    }\n",
       "\n",
       "    .dataframe thead th {\n",
       "        text-align: right;\n",
       "    }\n",
       "</style>\n",
       "<table border=\"1\" class=\"dataframe\">\n",
       "  <thead>\n",
       "    <tr style=\"text-align: right;\">\n",
       "      <th></th>\n",
       "      <th>t</th>\n",
       "      <th>V</th>\n",
       "      <th>xi</th>\n",
       "      <th>B/A</th>\n",
       "      <th>x1</th>\n",
       "      <th>x2</th>\n",
       "      <th>dxidt1</th>\n",
       "      <th>1/r1</th>\n",
       "    </tr>\n",
       "  </thead>\n",
       "  <tbody>\n",
       "    <tr>\n",
       "      <th>83</th>\n",
       "      <td>4878</td>\n",
       "      <td>0.000716</td>\n",
       "      <td>0.029975</td>\n",
       "      <td>0.012226</td>\n",
       "      <td>157.762685</td>\n",
       "      <td>158.723187</td>\n",
       "      <td>0.000003</td>\n",
       "      <td>57.182935</td>\n",
       "    </tr>\n",
       "    <tr>\n",
       "      <th>60</th>\n",
       "      <td>3666</td>\n",
       "      <td>0.000578</td>\n",
       "      <td>0.024180</td>\n",
       "      <td>0.009839</td>\n",
       "      <td>127.262780</td>\n",
       "      <td>127.886817</td>\n",
       "      <td>0.000005</td>\n",
       "      <td>40.301355</td>\n",
       "    </tr>\n",
       "    <tr>\n",
       "      <th>63</th>\n",
       "      <td>3904</td>\n",
       "      <td>0.000607</td>\n",
       "      <td>0.025393</td>\n",
       "      <td>0.010338</td>\n",
       "      <td>133.649042</td>\n",
       "      <td>134.337506</td>\n",
       "      <td>0.000003</td>\n",
       "      <td>54.491973</td>\n",
       "    </tr>\n",
       "    <tr>\n",
       "      <th>10</th>\n",
       "      <td>322</td>\n",
       "      <td>0.000065</td>\n",
       "      <td>0.002741</td>\n",
       "      <td>0.001106</td>\n",
       "      <td>14.424143</td>\n",
       "      <td>14.432113</td>\n",
       "      <td>0.000011</td>\n",
       "      <td>16.578246</td>\n",
       "    </tr>\n",
       "    <tr>\n",
       "      <th>105</th>\n",
       "      <td>6124</td>\n",
       "      <td>0.000846</td>\n",
       "      <td>0.035385</td>\n",
       "      <td>0.014465</td>\n",
       "      <td>186.236603</td>\n",
       "      <td>187.577076</td>\n",
       "      <td>0.000004</td>\n",
       "      <td>46.318177</td>\n",
       "    </tr>\n",
       "  </tbody>\n",
       "</table>\n",
       "</div>"
      ],
      "text/plain": [
       "        t         V        xi       B/A          x1          x2    dxidt1  \\\n",
       "83   4878  0.000716  0.029975  0.012226  157.762685  158.723187  0.000003   \n",
       "60   3666  0.000578  0.024180  0.009839  127.262780  127.886817  0.000005   \n",
       "63   3904  0.000607  0.025393  0.010338  133.649042  134.337506  0.000003   \n",
       "10    322  0.000065  0.002741  0.001106   14.424143   14.432113  0.000011   \n",
       "105  6124  0.000846  0.035385  0.014465  186.236603  187.577076  0.000004   \n",
       "\n",
       "          1/r1  \n",
       "83   57.182935  \n",
       "60   40.301355  \n",
       "63   54.491973  \n",
       "10   16.578246  \n",
       "105  46.318177  "
      ]
     },
     "execution_count": 10,
     "metadata": {},
     "output_type": "execute_result"
    }
   ],
   "source": [
    "df.sample(5)"
   ]
  },
  {
   "cell_type": "code",
   "execution_count": 11,
   "id": "b9a1cef7",
   "metadata": {
    "ExecuteTime": {
     "end_time": "2022-02-12T11:05:50.333423Z",
     "start_time": "2022-02-12T11:05:50.312839Z"
    }
   },
   "outputs": [],
   "source": [
    "results = {}"
   ]
  },
  {
   "cell_type": "markdown",
   "id": "4320dc5f",
   "metadata": {},
   "source": [
    "## OLS"
   ]
  },
  {
   "cell_type": "code",
   "execution_count": 12,
   "id": "220492e3",
   "metadata": {
    "ExecuteTime": {
     "end_time": "2022-02-12T11:05:50.356851Z",
     "start_time": "2022-02-12T11:05:50.336685Z"
    }
   },
   "outputs": [],
   "source": [
    "XOLS = df[[\"x1\", \"x2\"]].values\n",
    "yOLS = df[\"t\"].values"
   ]
  },
  {
   "cell_type": "code",
   "execution_count": 13,
   "id": "52e0039c",
   "metadata": {
    "ExecuteTime": {
     "end_time": "2022-02-12T11:05:50.398559Z",
     "start_time": "2022-02-12T11:05:50.367204Z"
    }
   },
   "outputs": [
    {
     "data": {
      "text/plain": [
       "0.9999526276968934"
      ]
     },
     "execution_count": 13,
     "metadata": {},
     "output_type": "execute_result"
    }
   ],
   "source": [
    "OLS = LinearRegression(fit_intercept=False).fit(XOLS, yOLS)\n",
    "scoreOLS = OLS.score(XOLS, yOLS)\n",
    "scoreOLS"
   ]
  },
  {
   "cell_type": "code",
   "execution_count": 14,
   "id": "b858c167",
   "metadata": {
    "ExecuteTime": {
     "end_time": "2022-02-12T11:05:50.811290Z",
     "start_time": "2022-02-12T11:05:50.402485Z"
    }
   },
   "outputs": [
    {
     "data": {
      "text/plain": [
       "<mpl_toolkits.mplot3d.art3d.Path3DCollection at 0x7f907da2bfd0>"
      ]
     },
     "execution_count": 14,
     "metadata": {},
     "output_type": "execute_result"
    },
    {
     "data": {
      "image/png": "[encoded data removed]",
      "text/plain": [
       "<Figure size 432x288 with 1 Axes>"
      ]
     },
     "metadata": {
      "needs_background": "light"
     },
     "output_type": "display_data"
    }
   ],
   "source": [
    "fig = plt.figure()\n",
    "axe = fig.add_subplot(projection='3d')\n",
    "axe.scatter(XOLS[:,0], XOLS[:,1], yOLS)"
   ]
  },
  {
   "cell_type": "code",
   "execution_count": null,
   "id": "825defa0",
   "metadata": {},
   "outputs": [],
   "source": []
  },
  {
   "cell_type": "code",
   "execution_count": 15,
   "id": "7a7d4dd0",
   "metadata": {
    "ExecuteTime": {
     "end_time": "2022-02-12T11:05:50.831745Z",
     "start_time": "2022-02-12T11:05:50.817580Z"
    }
   },
   "outputs": [
    {
     "data": {
      "text/plain": [
       "array([-1619.94014191,  1640.97679807])"
      ]
     },
     "execution_count": 15,
     "metadata": {},
     "output_type": "execute_result"
    }
   ],
   "source": [
    "OLS.coef_"
   ]
  },
  {
   "cell_type": "code",
   "execution_count": 16,
   "id": "dddb7e6b",
   "metadata": {
    "ExecuteTime": {
     "end_time": "2022-02-12T11:05:50.854208Z",
     "start_time": "2022-02-12T11:05:50.840174Z"
    }
   },
   "outputs": [
    {
     "data": {
      "text/plain": [
       "0.0"
      ]
     },
     "execution_count": 16,
     "metadata": {},
     "output_type": "execute_result"
    }
   ],
   "source": [
    "OLS.intercept_"
   ]
  },
  {
   "cell_type": "code",
   "execution_count": 17,
   "id": "b4a31772",
   "metadata": {
    "ExecuteTime": {
     "end_time": "2022-02-12T11:05:50.869157Z",
     "start_time": "2022-02-12T11:05:50.858251Z"
    }
   },
   "outputs": [],
   "source": [
    "tOLS = OLS.predict(XOLS)"
   ]
  },
  {
   "cell_type": "code",
   "execution_count": 18,
   "id": "806e4271",
   "metadata": {
    "ExecuteTime": {
     "end_time": "2022-02-12T11:05:51.800529Z",
     "start_time": "2022-02-12T11:05:50.872960Z"
    }
   },
   "outputs": [
    {
     "data": {
      "image/png": "[encoded data removed]",
      "text/plain": [
       "<Figure size 432x288 with 1 Axes>"
      ]
     },
     "metadata": {
      "needs_background": "light"
     },
     "output_type": "display_data"
    }
   ],
   "source": [
    "fig, axe = plt.subplots()\n",
    "axe.plot(df[\"t\"], df[\"xi\"], \".\", label=\"Experimental Data\")\n",
    "axe.plot(tOLS, df[\"xi\"], \"-\", label=\"OLS Fit\")\n",
    "axe.set_title(\"Reformulated Ordinary Least Squares\")\n",
    "axe.set_xlabel(\"Time, $t$ $[\\mathrm{s}]$\")\n",
    "axe.set_ylabel(r\"Reaction Coordinate, $\\xi$ $[\\mathrm{mol}]$\")\n",
    "axe.legend()\n",
    "axe.grid()"
   ]
  },
  {
   "cell_type": "code",
   "execution_count": 19,
   "id": "04779edd",
   "metadata": {
    "ExecuteTime": {
     "end_time": "2022-02-12T11:05:51.809518Z",
     "start_time": "2022-02-12T11:05:51.804604Z"
    }
   },
   "outputs": [],
   "source": [
    "def solveOLS(c1, c2):\n",
    "    k1 = 1./(c1 + c2)\n",
    "    k2 = c2*k1\n",
    "    return k1, k2"
   ]
  },
  {
   "cell_type": "code",
   "execution_count": 20,
   "id": "af6ea63b",
   "metadata": {
    "ExecuteTime": {
     "end_time": "2022-02-12T11:05:51.819924Z",
     "start_time": "2022-02-12T11:05:51.813528Z"
    }
   },
   "outputs": [
    {
     "data": {
      "text/plain": [
       "(0.04753607191540943, 78.00559108463023)"
      ]
     },
     "execution_count": 20,
     "metadata": {},
     "output_type": "execute_result"
    }
   ],
   "source": [
    "k1OLS, k2OLS = solveOLS(*OLS.coef_)\n",
    "k1OLS, k2OLS"
   ]
  },
  {
   "cell_type": "code",
   "execution_count": 21,
   "id": "f9f41085",
   "metadata": {
    "ExecuteTime": {
     "end_time": "2022-02-12T11:05:51.829793Z",
     "start_time": "2022-02-12T11:05:51.823509Z"
    }
   },
   "outputs": [
    {
     "data": {
      "text/plain": [
       "3.2633065953419057e-06"
      ]
     },
     "execution_count": 21,
     "metadata": {},
     "output_type": "execute_result"
    }
   ],
   "source": [
    "k1OLS*V/m # mol/s"
   ]
  },
  {
   "cell_type": "code",
   "execution_count": 22,
   "id": "3e445728",
   "metadata": {
    "ExecuteTime": {
     "end_time": "2022-02-12T11:05:51.843365Z",
     "start_time": "2022-02-12T11:05:51.833863Z"
    }
   },
   "outputs": [
    {
     "data": {
      "text/plain": [
       "{'k1': 0.04753607191540943,\n",
       " 'k2': 78.00559108463023,\n",
       " 'MSE': 220.70733391613194,\n",
       " 'r2': 0.9999526276968934}"
      ]
     },
     "execution_count": 22,
     "metadata": {},
     "output_type": "execute_result"
    }
   ],
   "source": [
    "results[\"OLS\"] = {\n",
    "    \"k1\": k1OLS, \"k2\": k2OLS,\n",
    "    \"MSE\": metrics.mean_squared_error(yOLS, tOLS),\n",
    "    \"r2\": metrics.r2_score(yOLS, tOLS)\n",
    "}\n",
    "results[\"OLS\"]"
   ]
  },
  {
   "cell_type": "markdown",
   "id": "4dbb2291",
   "metadata": {},
   "source": [
    "## Lineweaver-Burk"
   ]
  },
  {
   "cell_type": "code",
   "execution_count": 23,
   "id": "41b36bda",
   "metadata": {
    "ExecuteTime": {
     "end_time": "2022-02-12T11:05:51.866158Z",
     "start_time": "2022-02-12T11:05:51.853505Z"
    }
   },
   "outputs": [
    {
     "data": {
      "text/plain": [
       "0.565121006848629"
      ]
     },
     "execution_count": 23,
     "metadata": {},
     "output_type": "execute_result"
    }
   ],
   "source": [
    "XLB = df[[\"B/A\"]].values[1:]\n",
    "yLB = df[\"1/r1\"].values[1:]\n",
    "LB = LinearRegression(fit_intercept=True).fit(XLB, yLB)\n",
    "LB.score(XLB, yLB)"
   ]
  },
  {
   "cell_type": "code",
   "execution_count": 24,
   "id": "f5f0f275",
   "metadata": {
    "ExecuteTime": {
     "end_time": "2022-02-12T11:05:51.878949Z",
     "start_time": "2022-02-12T11:05:51.872219Z"
    }
   },
   "outputs": [
    {
     "data": {
      "text/plain": [
       "(array([1664.13293139]), 21.268198300365704)"
      ]
     },
     "execution_count": 24,
     "metadata": {},
     "output_type": "execute_result"
    }
   ],
   "source": [
    "LB.coef_, LB.intercept_"
   ]
  },
  {
   "cell_type": "code",
   "execution_count": 25,
   "id": "f90cad56",
   "metadata": {
    "ExecuteTime": {
     "end_time": "2022-02-12T11:05:51.889453Z",
     "start_time": "2022-02-12T11:05:51.882897Z"
    }
   },
   "outputs": [],
   "source": [
    "XLBmax = np.linspace(df[\"B/A\"].min(), df[\"B/A\"].max(), 2).reshape(-1, 1)\n",
    "yLBhat = LB.predict(XLB)"
   ]
  },
  {
   "cell_type": "code",
   "execution_count": 26,
   "id": "656eb4cf",
   "metadata": {
    "ExecuteTime": {
     "end_time": "2022-02-12T11:05:52.523260Z",
     "start_time": "2022-02-12T11:05:51.893469Z"
    }
   },
   "outputs": [
    {
     "data": {
      "image/png": "[encoded data removed]",
      "text/plain": [
       "<Figure size 432x288 with 1 Axes>"
      ]
     },
     "metadata": {
      "needs_background": "light"
     },
     "output_type": "display_data"
    }
   ],
   "source": [
    "fig, axe = plt.subplots()\n",
    "axe.plot(df[\"B/A\"], df[\"1/r1\"], \".\", label=\"First Difference\")\n",
    "axe.plot(XLB, yLBhat, label=\"First Difference OLS Fit\")\n",
    "axe.set_title(\"Lineweaver Burk Least Squares\")\n",
    "axe.set_xlabel(r\"Concentration Ratio, $\\frac{\\xi}{n_0 - \\xi}$ $[-]$\")\n",
    "axe.set_ylabel(r\"Inverse Rate, $\\frac{1}{r}$ $[\\mathrm{m^3\\cdot s \\cdot mol^{-1}]}$\")\n",
    "axe.legend()\n",
    "axe.grid()"
   ]
  },
  {
   "cell_type": "code",
   "execution_count": 27,
   "id": "9f601017",
   "metadata": {
    "ExecuteTime": {
     "end_time": "2022-02-12T11:05:52.554888Z",
     "start_time": "2022-02-12T11:05:52.545726Z"
    }
   },
   "outputs": [
    {
     "data": {
      "text/plain": [
       "(0.04701855727867674, 78.2451295537145)"
      ]
     },
     "execution_count": 27,
     "metadata": {},
     "output_type": "execute_result"
    }
   ],
   "source": [
    "k1LB = 1/LB.intercept_\n",
    "k2LB = LB.coef_[0]*k1LB\n",
    "k1LB, k2LB"
   ]
  },
  {
   "cell_type": "code",
   "execution_count": 28,
   "id": "423d2544",
   "metadata": {
    "ExecuteTime": {
     "end_time": "2022-02-12T11:05:52.571559Z",
     "start_time": "2022-02-12T11:05:52.560558Z"
    }
   },
   "outputs": [
    {
     "data": {
      "text/plain": [
       "{'k1': 0.04701855727867674,\n",
       " 'k2': 78.2451295537145,\n",
       " 'MSE': 49.8171431042655,\n",
       " 'r2': 0.565121006848629}"
      ]
     },
     "execution_count": 28,
     "metadata": {},
     "output_type": "execute_result"
    }
   ],
   "source": [
    "results[\"LB\"] = {\n",
    "    \"k1\": k1LB, \"k2\": k2LB,\n",
    "    \"MSE\": metrics.mean_squared_error(yLB, yLBhat),\n",
    "    \"r2\": metrics.r2_score(yLB, yLBhat)\n",
    "}\n",
    "results[\"LB\"]"
   ]
  },
  {
   "cell_type": "code",
   "execution_count": null,
   "id": "6f5b9cdd",
   "metadata": {},
   "outputs": [],
   "source": []
  },
  {
   "cell_type": "code",
   "execution_count": null,
   "id": "024c51d0",
   "metadata": {},
   "outputs": [],
   "source": []
  },
  {
   "cell_type": "markdown",
   "id": "fd648950",
   "metadata": {},
   "source": [
    "### LMA"
   ]
  },
  {
   "cell_type": "code",
   "execution_count": 29,
   "id": "b6704e86",
   "metadata": {
    "ExecuteTime": {
     "end_time": "2022-02-12T11:05:52.583795Z",
     "start_time": "2022-02-12T11:05:52.576277Z"
    }
   },
   "outputs": [],
   "source": [
    "def factory(n0, V):\n",
    "    def wrapped(xi, k1, k2):\n",
    "        return (1-k2)/k1*(xi/V) - (k2/k1)*(n0/V)*np.log((n0 - xi)/n0)\n",
    "    return wrapped"
   ]
  },
  {
   "cell_type": "code",
   "execution_count": 30,
   "id": "9b148c96",
   "metadata": {
    "ExecuteTime": {
     "end_time": "2022-02-12T11:05:52.594091Z",
     "start_time": "2022-02-12T11:05:52.588569Z"
    }
   },
   "outputs": [],
   "source": [
    "objective = factory(n0, V)"
   ]
  },
  {
   "cell_type": "code",
   "execution_count": 31,
   "id": "46753a66",
   "metadata": {
    "ExecuteTime": {
     "end_time": "2022-02-12T11:05:52.745995Z",
     "start_time": "2022-02-12T11:05:52.598731Z"
    }
   },
   "outputs": [
    {
     "data": {
      "text/plain": [
       "(array([4.75360716e-02, 7.80055896e+01]),\n",
       " array([[1.21265292e-08, 5.87172563e-05],\n",
       "        [5.87172563e-05, 2.90824476e-01]]))"
      ]
     },
     "execution_count": 31,
     "metadata": {},
     "output_type": "execute_result"
    }
   ],
   "source": [
    "parameters, covariance = optimize.curve_fit(objective, df[\"xi\"], df[\"t\"])\n",
    "parameters, covariance"
   ]
  },
  {
   "cell_type": "code",
   "execution_count": 32,
   "id": "d6c4d0f8",
   "metadata": {
    "ExecuteTime": {
     "end_time": "2022-02-12T11:05:52.758154Z",
     "start_time": "2022-02-12T11:05:52.750580Z"
    }
   },
   "outputs": [],
   "source": [
    "that = objective(df[\"xi\"], *parameters)"
   ]
  },
  {
   "cell_type": "code",
   "execution_count": 33,
   "id": "8f44e6d6",
   "metadata": {
    "ExecuteTime": {
     "end_time": "2022-02-12T11:05:53.429001Z",
     "start_time": "2022-02-12T11:05:52.762839Z"
    }
   },
   "outputs": [
    {
     "data": {
      "image/png": "[encoded data removed]",
      "text/plain": [
       "<Figure size 432x288 with 1 Axes>"
      ]
     },
     "metadata": {
      "needs_background": "light"
     },
     "output_type": "display_data"
    }
   ],
   "source": [
    "fig, axe = plt.subplots()\n",
    "axe.plot(df[\"t\"], df[\"xi\"], \".\", label=\"Experimental Data\")\n",
    "axe.plot(that, df[\"xi\"], \"-\", label=\"NLS Fit\")\n",
    "axe.set_title(\"Non Linear Least Squares (LMA)\")\n",
    "axe.set_xlabel(\"Time, $t$ $[\\mathrm{s}]$\")\n",
    "axe.set_ylabel(r\"Reaction Coordinate, $\\xi$ $[\\mathrm{mol}]$\")\n",
    "axe.legend()\n",
    "axe.grid()"
   ]
  },
  {
   "cell_type": "code",
   "execution_count": 34,
   "id": "a93a9b46",
   "metadata": {
    "ExecuteTime": {
     "end_time": "2022-02-12T11:05:53.446172Z",
     "start_time": "2022-02-12T11:05:53.435290Z"
    }
   },
   "outputs": [
    {
     "data": {
      "text/plain": [
       "{'k1': 0.04753607161313695,\n",
       " 'k2': 78.00558959396061,\n",
       " 'MSE': 220.70733391605376,\n",
       " 'r2': 0.9999526276968934}"
      ]
     },
     "execution_count": 34,
     "metadata": {},
     "output_type": "execute_result"
    }
   ],
   "source": [
    "results[\"LMA\"] = {\n",
    "    \"k1\": parameters[0], \"k2\": parameters[1],\n",
    "    \"MSE\": metrics.mean_squared_error(df[\"t\"], that),\n",
    "    \"r2\": metrics.r2_score(df[\"t\"], that)\n",
    "}\n",
    "results[\"LMA\"]"
   ]
  },
  {
   "cell_type": "code",
   "execution_count": 35,
   "id": "419cafc7",
   "metadata": {
    "ExecuteTime": {
     "end_time": "2022-02-12T11:05:53.468378Z",
     "start_time": "2022-02-12T11:05:53.451021Z"
    }
   },
   "outputs": [
    {
     "data": {
      "text/html": [
       "<div>\n",
       "<style scoped>\n",
       "    .dataframe tbody tr th:only-of-type {\n",
       "        vertical-align: middle;\n",
       "    }\n",
       "\n",
       "    .dataframe tbody tr th {\n",
       "        vertical-align: top;\n",
       "    }\n",
       "\n",
       "    .dataframe thead th {\n",
       "        text-align: right;\n",
       "    }\n",
       "</style>\n",
       "<table border=\"1\" class=\"dataframe\">\n",
       "  <thead>\n",
       "    <tr style=\"text-align: right;\">\n",
       "      <th></th>\n",
       "      <th>OLS</th>\n",
       "      <th>LB</th>\n",
       "      <th>LMA</th>\n",
       "    </tr>\n",
       "  </thead>\n",
       "  <tbody>\n",
       "    <tr>\n",
       "      <th>k1</th>\n",
       "      <td>0.047536</td>\n",
       "      <td>0.047019</td>\n",
       "      <td>0.047536</td>\n",
       "    </tr>\n",
       "    <tr>\n",
       "      <th>k2</th>\n",
       "      <td>78.005591</td>\n",
       "      <td>78.245130</td>\n",
       "      <td>78.005590</td>\n",
       "    </tr>\n",
       "    <tr>\n",
       "      <th>MSE</th>\n",
       "      <td>220.707334</td>\n",
       "      <td>49.817143</td>\n",
       "      <td>220.707334</td>\n",
       "    </tr>\n",
       "    <tr>\n",
       "      <th>r2</th>\n",
       "      <td>0.999953</td>\n",
       "      <td>0.565121</td>\n",
       "      <td>0.999953</td>\n",
       "    </tr>\n",
       "  </tbody>\n",
       "</table>\n",
       "</div>"
      ],
      "text/plain": [
       "            OLS         LB         LMA\n",
       "k1     0.047536   0.047019    0.047536\n",
       "k2    78.005591  78.245130   78.005590\n",
       "MSE  220.707334  49.817143  220.707334\n",
       "r2     0.999953   0.565121    0.999953"
      ]
     },
     "execution_count": 35,
     "metadata": {},
     "output_type": "execute_result"
    }
   ],
   "source": [
    "pd.DataFrame(results)"
   ]
  },
  {
   "cell_type": "code",
   "execution_count": 36,
   "id": "5315997b",
   "metadata": {
    "ExecuteTime": {
     "end_time": "2022-02-12T11:05:53.492991Z",
     "start_time": "2022-02-12T11:05:53.472690Z"
    }
   },
   "outputs": [
    {
     "data": {
      "text/plain": [
       "EmpiricalCovariance()"
      ]
     },
     "execution_count": 36,
     "metadata": {},
     "output_type": "execute_result"
    }
   ],
   "source": [
    "from sklearn import covariance\n",
    "\n",
    "C = covariance.EmpiricalCovariance()\n",
    "C.fit(np.array([df[\"t\"], that]).T)"
   ]
  },
  {
   "cell_type": "code",
   "execution_count": 37,
   "id": "ef2412e5",
   "metadata": {
    "ExecuteTime": {
     "end_time": "2022-02-12T11:05:53.502873Z",
     "start_time": "2022-02-12T11:05:53.497338Z"
    }
   },
   "outputs": [
    {
     "data": {
      "text/plain": [
       "array([[4658995.22384067, 4663604.29464849],\n",
       "       [4663604.29464849, 4668432.03575752]])"
      ]
     },
     "execution_count": 37,
     "metadata": {},
     "output_type": "execute_result"
    }
   ],
   "source": [
    "C.covariance_"
   ]
  },
  {
   "cell_type": "markdown",
   "id": "39d62aad",
   "metadata": {},
   "source": [
    "## LBP3"
   ]
  },
  {
   "cell_type": "code",
   "execution_count": 38,
   "id": "ce3d7546",
   "metadata": {
    "ExecuteTime": {
     "end_time": "2022-02-12T11:05:53.515152Z",
     "start_time": "2022-02-12T11:05:53.506016Z"
    }
   },
   "outputs": [
    {
     "data": {
      "text/plain": [
       "0.9999757901850856"
      ]
     },
     "execution_count": 38,
     "metadata": {},
     "output_type": "execute_result"
    }
   ],
   "source": [
    "from sklearn import preprocessing\n",
    "\n",
    "XP3 = df[\"t\"].values.reshape(-1, 1)\n",
    "yP3 = df[\"xi\"].values\n",
    "XP3f = preprocessing.PolynomialFeatures(degree=3).fit_transform(XP3)\n",
    "P3 = LinearRegression(fit_intercept=False).fit(XP3f, yP3)\n",
    "P3.score(XP3f, yP3)"
   ]
  },
  {
   "cell_type": "code",
   "execution_count": 39,
   "id": "7480a631",
   "metadata": {
    "ExecuteTime": {
     "end_time": "2022-02-12T11:05:53.520775Z",
     "start_time": "2022-02-12T11:05:53.517642Z"
    }
   },
   "outputs": [],
   "source": [
    "yP3hat = P3.predict(XP3f)"
   ]
  },
  {
   "cell_type": "code",
   "execution_count": 40,
   "id": "d1652122",
   "metadata": {
    "ExecuteTime": {
     "end_time": "2022-02-12T11:05:53.874373Z",
     "start_time": "2022-02-12T11:05:53.523046Z"
    }
   },
   "outputs": [
    {
     "data": {
      "image/png": "[encoded data removed]",
      "text/plain": [
       "<Figure size 432x288 with 1 Axes>"
      ]
     },
     "metadata": {
      "needs_background": "light"
     },
     "output_type": "display_data"
    }
   ],
   "source": [
    "fig, axe = plt.subplots()\n",
    "axe.plot(df[\"t\"], df[\"xi\"], \".\", label=\"Experimental Data\")\n",
    "axe.plot(XP3, yP3hat, \"-\", label=\"OLS Fit\")\n",
    "axe.set_title(\"Polynomial Least Squares (cubic)\")\n",
    "axe.set_xlabel(\"Time, $t$ $[\\mathrm{s}]$\")\n",
    "axe.set_ylabel(r\"Reaction Coordinate, $\\xi$ $[\\mathrm{mol}]$\")\n",
    "axe.legend()\n",
    "axe.grid()"
   ]
  },
  {
   "cell_type": "code",
   "execution_count": 41,
   "id": "7b36fdd1",
   "metadata": {
    "ExecuteTime": {
     "end_time": "2022-02-12T11:05:53.883803Z",
     "start_time": "2022-02-12T11:05:53.878759Z"
    }
   },
   "outputs": [],
   "source": [
    "dCdt = np.diff(yP3hat)/df[\"t\"].diff().values[1:]/V"
   ]
  },
  {
   "cell_type": "code",
   "execution_count": 42,
   "id": "28572994",
   "metadata": {
    "ExecuteTime": {
     "end_time": "2022-02-12T11:05:53.898590Z",
     "start_time": "2022-02-12T11:05:53.887949Z"
    }
   },
   "outputs": [
    {
     "data": {
      "text/plain": [
       "0.9867652081793257"
      ]
     },
     "execution_count": 42,
     "metadata": {},
     "output_type": "execute_result"
    }
   ],
   "source": [
    "XLBP3 = df[\"B/A\"].values[1:].reshape(-1, 1)\n",
    "yLBP3 = 1/dCdt\n",
    "LBP3 = LinearRegression(fit_intercept=True).fit(XLBP3, yLBP3)\n",
    "LBP3.score(XLBP3, yLBP3)"
   ]
  },
  {
   "cell_type": "code",
   "execution_count": 43,
   "id": "40f4e270",
   "metadata": {
    "ExecuteTime": {
     "end_time": "2022-02-12T11:05:53.906626Z",
     "start_time": "2022-02-12T11:05:53.902181Z"
    }
   },
   "outputs": [],
   "source": [
    "yLBP3hat = LBP3.predict(XLBP3)"
   ]
  },
  {
   "cell_type": "code",
   "execution_count": 44,
   "id": "2c8d8322",
   "metadata": {
    "ExecuteTime": {
     "end_time": "2022-02-12T11:05:53.916937Z",
     "start_time": "2022-02-12T11:05:53.910399Z"
    }
   },
   "outputs": [
    {
     "data": {
      "text/plain": [
       "(0.04669577001727265, 74.17088195955405)"
      ]
     },
     "execution_count": 44,
     "metadata": {},
     "output_type": "execute_result"
    }
   ],
   "source": [
    "k1LBP3 = 1/LBP3.intercept_\n",
    "k2LBP3 = LBP3.coef_[0]*k1LBP3\n",
    "k1LBP3, k2LBP3"
   ]
  },
  {
   "cell_type": "code",
   "execution_count": null,
   "id": "31559269",
   "metadata": {},
   "outputs": [],
   "source": []
  },
  {
   "cell_type": "code",
   "execution_count": 45,
   "id": "93b23c68",
   "metadata": {
    "ExecuteTime": {
     "end_time": "2022-02-12T11:05:54.441102Z",
     "start_time": "2022-02-12T11:05:53.920757Z"
    }
   },
   "outputs": [
    {
     "data": {
      "image/png": "[encoded data removed]",
      "text/plain": [
       "<Figure size 432x288 with 1 Axes>"
      ]
     },
     "metadata": {
      "needs_background": "light"
     },
     "output_type": "display_data"
    }
   ],
   "source": [
    "fig, axe = plt.subplots()\n",
    "axe.plot(XLBP3, yLBP3, \".\", label=\"Polynomial Fit Difference\")\n",
    "axe.plot(XLBP3, yLBP3hat, label=\"Polynomial Fit Difference OLS Fit\")\n",
    "ylim = axe.get_ylim()\n",
    "#axe.plot(df[\"B/A\"], df[\"1/r1\"], \".\", color=\"lightgray\", label=\"First Difference\")\n",
    "#axe.plot(XLB, yLBhat, color=\"gray\", label=\"First Difference OLS Fit\")\n",
    "axe.set_ylim(ylim)\n",
    "axe.set_title(\"Lineweaver Burk Least Squares\")\n",
    "axe.set_xlabel(r\"Concentration Ratio, $\\frac{\\xi}{n_0 - \\xi}$ $[-]$\")\n",
    "axe.set_ylabel(r\"Inverse Rate, $\\frac{1}{r}$ $[\\mathrm{m^3\\cdot s \\cdot mol^{-1}]}$\")\n",
    "axe.legend()\n",
    "axe.grid()"
   ]
  },
  {
   "cell_type": "code",
   "execution_count": 46,
   "id": "2efc6458",
   "metadata": {
    "ExecuteTime": {
     "end_time": "2022-02-12T11:05:54.454905Z",
     "start_time": "2022-02-12T11:05:54.445358Z"
    }
   },
   "outputs": [
    {
     "data": {
      "text/plain": [
       "{'k1': 0.04669577001727265,\n",
       " 'k2': 74.17088195955405,\n",
       " 'MSE': 0.7910262572186871,\n",
       " 'r2': 0.9867652081793257}"
      ]
     },
     "execution_count": 46,
     "metadata": {},
     "output_type": "execute_result"
    }
   ],
   "source": [
    "results[\"LBP3\"] = {\n",
    "    \"k1\": k1LBP3, \"k2\": k2LBP3,\n",
    "    \"MSE\": metrics.mean_squared_error(yLBP3, yLBP3hat),\n",
    "    \"r2\": metrics.r2_score(yLBP3, yLBP3hat)\n",
    "}\n",
    "results[\"LBP3\"]"
   ]
  },
  {
   "cell_type": "code",
   "execution_count": null,
   "id": "8b4e76df",
   "metadata": {},
   "outputs": [],
   "source": []
  },
  {
   "cell_type": "markdown",
   "id": "1380dd71",
   "metadata": {},
   "source": [
    "# LBMan"
   ]
  },
  {
   "cell_type": "code",
   "execution_count": 47,
   "id": "d1a1cd38",
   "metadata": {
    "ExecuteTime": {
     "end_time": "2022-02-12T11:05:54.483025Z",
     "start_time": "2022-02-12T11:05:54.458984Z"
    }
   },
   "outputs": [],
   "source": [
    "df2 = pd.read_excel(\"cathet.xlsx\", sheet_name=\"Manual\")\n",
    "df2[\"keep\"] = True"
   ]
  },
  {
   "cell_type": "code",
   "execution_count": 48,
   "id": "cee41f04",
   "metadata": {
    "ExecuteTime": {
     "end_time": "2022-02-12T11:05:54.491931Z",
     "start_time": "2022-02-12T11:05:54.486916Z"
    }
   },
   "outputs": [],
   "source": [
    "df2[\"1/v\"] *= V"
   ]
  },
  {
   "cell_type": "code",
   "execution_count": 49,
   "id": "2d095d8e",
   "metadata": {
    "ExecuteTime": {
     "end_time": "2022-02-12T11:05:54.504930Z",
     "start_time": "2022-02-12T11:05:54.495949Z"
    }
   },
   "outputs": [],
   "source": [
    "df2.loc[0, \"1/v\"] = 22.45\n",
    "df2.loc[4, \"1/v\"] = 32.45"
   ]
  },
  {
   "cell_type": "code",
   "execution_count": 50,
   "id": "e29e52dd",
   "metadata": {
    "ExecuteTime": {
     "end_time": "2022-02-12T11:05:54.514988Z",
     "start_time": "2022-02-12T11:05:54.508880Z"
    }
   },
   "outputs": [],
   "source": [
    "df2.loc[0, \"keep\"] = False\n",
    "df2.loc[4, \"keep\"] = False"
   ]
  },
  {
   "cell_type": "code",
   "execution_count": 51,
   "id": "a38a8a91",
   "metadata": {
    "ExecuteTime": {
     "end_time": "2022-02-12T11:05:54.522407Z",
     "start_time": "2022-02-12T11:05:54.519131Z"
    }
   },
   "outputs": [],
   "source": [
    "#df2 = df2[df2[\"keep\"]]\n",
    "#df2"
   ]
  },
  {
   "cell_type": "code",
   "execution_count": 52,
   "id": "16809a49",
   "metadata": {
    "ExecuteTime": {
     "end_time": "2022-02-12T11:05:54.531346Z",
     "start_time": "2022-02-12T11:05:54.526244Z"
    }
   },
   "outputs": [],
   "source": [
    "df2[\"1/v\"] *= 1.1"
   ]
  },
  {
   "cell_type": "code",
   "execution_count": 53,
   "id": "165b7b57",
   "metadata": {
    "ExecuteTime": {
     "end_time": "2022-02-12T11:05:54.546442Z",
     "start_time": "2022-02-12T11:05:54.535208Z"
    }
   },
   "outputs": [
    {
     "data": {
      "text/plain": [
       "0.984458468896565"
      ]
     },
     "execution_count": 53,
     "metadata": {},
     "output_type": "execute_result"
    }
   ],
   "source": [
    "XLBM = df2[\"bP/bR\"].values[:-1].reshape(-1, 1)\n",
    "yLBM = df2[\"1/v\"].values[:-1]\n",
    "LBM = LinearRegression(fit_intercept=True).fit(XLBM, yLBM)\n",
    "LBM.score(XLBM, yLBM)"
   ]
  },
  {
   "cell_type": "code",
   "execution_count": 54,
   "id": "d42b934a",
   "metadata": {
    "ExecuteTime": {
     "end_time": "2022-02-12T11:05:54.554842Z",
     "start_time": "2022-02-12T11:05:54.550373Z"
    }
   },
   "outputs": [],
   "source": [
    "yLBMhat = LBM.predict(XLBM)"
   ]
  },
  {
   "cell_type": "code",
   "execution_count": 55,
   "id": "ca8dc20b",
   "metadata": {
    "ExecuteTime": {
     "end_time": "2022-02-12T11:05:54.565965Z",
     "start_time": "2022-02-12T11:05:54.559105Z"
    }
   },
   "outputs": [
    {
     "data": {
      "text/plain": [
       "(0.047296065060717624, 73.76063697071173)"
      ]
     },
     "execution_count": 55,
     "metadata": {},
     "output_type": "execute_result"
    }
   ],
   "source": [
    "k1LBM = 1/LBM.intercept_\n",
    "k2LBM = LBM.coef_[0]*k1LBM\n",
    "k1LBM, k2LBM"
   ]
  },
  {
   "cell_type": "code",
   "execution_count": 56,
   "id": "1306da61",
   "metadata": {
    "ExecuteTime": {
     "end_time": "2022-02-12T11:05:55.077859Z",
     "start_time": "2022-02-12T11:05:54.569566Z"
    }
   },
   "outputs": [
    {
     "data": {
      "image/png": "[encoded data removed]",
      "text/plain": [
       "<Figure size 432x288 with 1 Axes>"
      ]
     },
     "metadata": {
      "needs_background": "light"
     },
     "output_type": "display_data"
    }
   ],
   "source": [
    "fig, axe = plt.subplots()\n",
    "axe.plot(XLBM, yLBM, \".\", label=\"Manual Slope Estimation\")\n",
    "axe.plot(XLBM, yLBMhat, label=\"Manual Slope Estimation OLS Fit\")\n",
    "axe.set_title(\"Lineweaver Burk Least Squares\")\n",
    "axe.set_xlabel(r\"Concentration Ratio, $\\frac{\\xi}{n_0 - \\xi}$ $[-]$\")\n",
    "axe.set_ylabel(r\"Inverse Rate, $\\frac{1}{r}$ $[\\mathrm{m^3\\cdot s \\cdot mol^{-1}]}$\")\n",
    "axe.legend()\n",
    "axe.grid()"
   ]
  },
  {
   "cell_type": "code",
   "execution_count": 57,
   "id": "9204e916",
   "metadata": {
    "ExecuteTime": {
     "end_time": "2022-02-12T11:05:55.088063Z",
     "start_time": "2022-02-12T11:05:55.081316Z"
    }
   },
   "outputs": [
    {
     "data": {
      "text/plain": [
       "{'k1': 0.047296065060717624,\n",
       " 'k2': 73.76063697071173,\n",
       " 'MSE': 0.7926235236812226,\n",
       " 'r2': 0.984458468896565}"
      ]
     },
     "execution_count": 57,
     "metadata": {},
     "output_type": "execute_result"
    }
   ],
   "source": [
    "results[\"LBM\"] = {\n",
    "    \"k1\": k1LBM, \"k2\": k2LBM,\n",
    "    \"MSE\": metrics.mean_squared_error(yLBM, yLBMhat),\n",
    "    \"r2\": metrics.r2_score(yLBM, yLBMhat)\n",
    "}\n",
    "results[\"LBM\"]"
   ]
  },
  {
   "cell_type": "code",
   "execution_count": null,
   "id": "d1bfa539",
   "metadata": {},
   "outputs": [],
   "source": []
  },
  {
   "cell_type": "code",
   "execution_count": 58,
   "id": "4b9676f8",
   "metadata": {
    "ExecuteTime": {
     "end_time": "2022-02-12T11:05:55.589498Z",
     "start_time": "2022-02-12T11:05:55.090679Z"
    }
   },
   "outputs": [
    {
     "data": {
      "image/png": "[encoded data removed]",
      "text/plain": [
       "<Figure size 432x288 with 1 Axes>"
      ]
     },
     "metadata": {
      "needs_background": "light"
     },
     "output_type": "display_data"
    }
   ],
   "source": [
    "fig, axe = plt.subplots()\n",
    "axe.plot(df[\"B/A\"], df[\"1/r1\"], \".\", color=\"blue\", label=\"First Difference\")\n",
    "#axe.plot(XLB, yLBhat, color=\"blue\", label=\"First Difference OLS Fit\")\n",
    "axe.plot(XLBP3, yLBP3, \".\", color=\"orange\", label=\"Polynomial Fit Difference\")\n",
    "#axe.plot(XLBP3, yLBP3hat, color=\"darkorange\", label=\"Polynomial Fit Difference OLS Fit\")\n",
    "axe.plot(XLBM, yLBM, \".\", color=\"red\", label=\"Manual Slope Estimation\")\n",
    "#axe.plot(XLBM, yLBMhat, color=\"green\", label=\"Manual Slope Estimation OLS Fit\")\n",
    "#axe.set_ylim([20, 50])\n",
    "axe.set_title(\"Lineweaver Burk Least Squares\")\n",
    "axe.set_xlabel(r\"Concentration Ratio, $\\frac{\\xi}{n_0 - \\xi}$ $[-]$\")\n",
    "axe.set_ylabel(r\"Inverse Rate, $\\frac{1}{r}$ $[\\mathrm{m^3\\cdot s \\cdot mol^{-1}]}$\")\n",
    "axe.legend() # bbox_to_anchor=(1,1))\n",
    "axe.grid()"
   ]
  },
  {
   "cell_type": "code",
   "execution_count": null,
   "id": "890aaf41",
   "metadata": {},
   "outputs": [],
   "source": []
  },
  {
   "cell_type": "code",
   "execution_count": 59,
   "id": "4072df04",
   "metadata": {
    "ExecuteTime": {
     "end_time": "2022-02-12T11:05:55.617503Z",
     "start_time": "2022-02-12T11:05:55.594704Z"
    }
   },
   "outputs": [
    {
     "data": {
      "text/html": [
       "<div>\n",
       "<style scoped>\n",
       "    .dataframe tbody tr th:only-of-type {\n",
       "        vertical-align: middle;\n",
       "    }\n",
       "\n",
       "    .dataframe tbody tr th {\n",
       "        vertical-align: top;\n",
       "    }\n",
       "\n",
       "    .dataframe thead th {\n",
       "        text-align: right;\n",
       "    }\n",
       "</style>\n",
       "<table border=\"1\" class=\"dataframe\">\n",
       "  <thead>\n",
       "    <tr style=\"text-align: right;\">\n",
       "      <th></th>\n",
       "      <th>k1</th>\n",
       "      <th>k2</th>\n",
       "      <th>MSE</th>\n",
       "      <th>r2</th>\n",
       "    </tr>\n",
       "  </thead>\n",
       "  <tbody>\n",
       "    <tr>\n",
       "      <th>OLS</th>\n",
       "      <td>0.047536</td>\n",
       "      <td>78.005591</td>\n",
       "      <td>220.707334</td>\n",
       "      <td>0.999953</td>\n",
       "    </tr>\n",
       "    <tr>\n",
       "      <th>LB</th>\n",
       "      <td>0.047019</td>\n",
       "      <td>78.245130</td>\n",
       "      <td>49.817143</td>\n",
       "      <td>0.565121</td>\n",
       "    </tr>\n",
       "    <tr>\n",
       "      <th>LMA</th>\n",
       "      <td>0.047536</td>\n",
       "      <td>78.005590</td>\n",
       "      <td>220.707334</td>\n",
       "      <td>0.999953</td>\n",
       "    </tr>\n",
       "    <tr>\n",
       "      <th>LBP3</th>\n",
       "      <td>0.046696</td>\n",
       "      <td>74.170882</td>\n",
       "      <td>0.791026</td>\n",
       "      <td>0.986765</td>\n",
       "    </tr>\n",
       "    <tr>\n",
       "      <th>LBM</th>\n",
       "      <td>0.047296</td>\n",
       "      <td>73.760637</td>\n",
       "      <td>0.792624</td>\n",
       "      <td>0.984458</td>\n",
       "    </tr>\n",
       "  </tbody>\n",
       "</table>\n",
       "</div>"
      ],
      "text/plain": [
       "            k1         k2         MSE        r2\n",
       "OLS   0.047536  78.005591  220.707334  0.999953\n",
       "LB    0.047019  78.245130   49.817143  0.565121\n",
       "LMA   0.047536  78.005590  220.707334  0.999953\n",
       "LBP3  0.046696  74.170882    0.791026  0.986765\n",
       "LBM   0.047296  73.760637    0.792624  0.984458"
      ]
     },
     "execution_count": 59,
     "metadata": {},
     "output_type": "execute_result"
    }
   ],
   "source": [
    "final = pd.DataFrame(results).T\n",
    "final"
   ]
  },
  {
   "cell_type": "code",
   "execution_count": 60,
   "id": "48f17985",
   "metadata": {
    "ExecuteTime": {
     "end_time": "2022-02-12T11:05:55.629581Z",
     "start_time": "2022-02-12T11:05:55.622207Z"
    }
   },
   "outputs": [],
   "source": [
    "def regmse(x):\n",
    "    that = objective(df[\"xi\"], x[\"k1\"], x[\"k2\"])\n",
    "    mse = metrics.mean_squared_error(df[\"t\"], that)\n",
    "    score = metrics.r2_score(df[\"t\"], that)\n",
    "    return pd.Series({\"Fit MSE\": mse, \"Fit Score\": score})"
   ]
  },
  {
   "cell_type": "code",
   "execution_count": 61,
   "id": "3c43fba1",
   "metadata": {
    "ExecuteTime": {
     "end_time": "2022-02-12T11:05:55.678702Z",
     "start_time": "2022-02-12T11:05:55.634594Z"
    }
   },
   "outputs": [],
   "source": [
    "final = pd.concat([final, final.apply(regmse, axis=1)], axis=1)"
   ]
  },
  {
   "cell_type": "code",
   "execution_count": 62,
   "id": "240748e8",
   "metadata": {
    "ExecuteTime": {
     "end_time": "2022-02-12T11:05:55.705339Z",
     "start_time": "2022-02-12T11:05:55.683358Z"
    }
   },
   "outputs": [
    {
     "data": {
      "text/html": [
       "<div>\n",
       "<style scoped>\n",
       "    .dataframe tbody tr th:only-of-type {\n",
       "        vertical-align: middle;\n",
       "    }\n",
       "\n",
       "    .dataframe tbody tr th {\n",
       "        vertical-align: top;\n",
       "    }\n",
       "\n",
       "    .dataframe thead th {\n",
       "        text-align: right;\n",
       "    }\n",
       "</style>\n",
       "<table border=\"1\" class=\"dataframe\">\n",
       "  <thead>\n",
       "    <tr style=\"text-align: right;\">\n",
       "      <th></th>\n",
       "      <th>k1</th>\n",
       "      <th>k2</th>\n",
       "      <th>MSE</th>\n",
       "      <th>r2</th>\n",
       "      <th>Fit MSE</th>\n",
       "      <th>Fit Score</th>\n",
       "    </tr>\n",
       "  </thead>\n",
       "  <tbody>\n",
       "    <tr>\n",
       "      <th>OLS</th>\n",
       "      <td>0.047536</td>\n",
       "      <td>78.005591</td>\n",
       "      <td>220.707334</td>\n",
       "      <td>0.999953</td>\n",
       "      <td>220.707334</td>\n",
       "      <td>0.999953</td>\n",
       "    </tr>\n",
       "    <tr>\n",
       "      <th>LB</th>\n",
       "      <td>0.047019</td>\n",
       "      <td>78.245130</td>\n",
       "      <td>49.817143</td>\n",
       "      <td>0.565121</td>\n",
       "      <td>2554.580075</td>\n",
       "      <td>0.999452</td>\n",
       "    </tr>\n",
       "    <tr>\n",
       "      <th>LMA</th>\n",
       "      <td>0.047536</td>\n",
       "      <td>78.005590</td>\n",
       "      <td>220.707334</td>\n",
       "      <td>0.999953</td>\n",
       "      <td>220.707334</td>\n",
       "      <td>0.999953</td>\n",
       "    </tr>\n",
       "    <tr>\n",
       "      <th>LBP3</th>\n",
       "      <td>0.046696</td>\n",
       "      <td>74.170882</td>\n",
       "      <td>0.791026</td>\n",
       "      <td>0.986765</td>\n",
       "      <td>354.412567</td>\n",
       "      <td>0.999924</td>\n",
       "    </tr>\n",
       "    <tr>\n",
       "      <th>LBM</th>\n",
       "      <td>0.047296</td>\n",
       "      <td>73.760637</td>\n",
       "      <td>0.792624</td>\n",
       "      <td>0.984458</td>\n",
       "      <td>3083.989339</td>\n",
       "      <td>0.999338</td>\n",
       "    </tr>\n",
       "  </tbody>\n",
       "</table>\n",
       "</div>"
      ],
      "text/plain": [
       "            k1         k2         MSE        r2      Fit MSE  Fit Score\n",
       "OLS   0.047536  78.005591  220.707334  0.999953   220.707334   0.999953\n",
       "LB    0.047019  78.245130   49.817143  0.565121  2554.580075   0.999452\n",
       "LMA   0.047536  78.005590  220.707334  0.999953   220.707334   0.999953\n",
       "LBP3  0.046696  74.170882    0.791026  0.986765   354.412567   0.999924\n",
       "LBM   0.047296  73.760637    0.792624  0.984458  3083.989339   0.999338"
      ]
     },
     "execution_count": 62,
     "metadata": {},
     "output_type": "execute_result"
    }
   ],
   "source": [
    "final"
   ]
  },
  {
   "cell_type": "code",
   "execution_count": 71,
   "id": "b40aab99",
   "metadata": {
    "ExecuteTime": {
     "end_time": "2022-02-12T11:13:23.699694Z",
     "start_time": "2022-02-12T11:13:22.994483Z"
    }
   },
   "outputs": [
    {
     "data": {
      "image/png": "[encoded data removed]",
      "text/plain": [
       "<Figure size 432x288 with 1 Axes>"
      ]
     },
     "metadata": {
      "needs_background": "light"
     },
     "output_type": "display_data"
    }
   ],
   "source": [
    "fig, axe = plt.subplots()\n",
    "for x in final.reset_index().to_dict(orient=\"records\"):\n",
    "    that = objective(df[\"xi\"], x[\"k1\"], x[\"k2\"])\n",
    "    (that - df[\"t\"]).plot(kind=\"kde\", ax=axe, label=x[\"index\"])\n",
    "axe.set_title(\"Fit Error Distribution Estimate\")\n",
    "axe.set_xlabel(r\"Time Error, $e = t - \\hat{t}$ $[\\mathrm{s}]$\")\n",
    "axe.set_ylabel(r\"KDE, $\\tilde{f}(e)$ $[\\mathrm{s^{-1}}]$\")\n",
    "axe.legend()\n",
    "axe.grid()"
   ]
  },
  {
   "cell_type": "code",
   "execution_count": null,
   "id": "c21e6f37",
   "metadata": {},
   "outputs": [],
   "source": []
  }
 ],
 "metadata": {
  "hide_input": false,
  "kernelspec": {
   "display_name": "Python 3",
   "language": "python",
   "name": "python3"
  },
  "language_info": {
   "codemirror_mode": {
    "name": "ipython",
    "version": 3
   },
   "file_extension": ".py",
   "mimetype": "text/x-python",
   "name": "python",
   "nbconvert_exporter": "python",
   "pygments_lexer": "ipython3",
   "version": "3.6.9"
  },
  "toc": {
   "base_numbering": 1,
   "nav_menu": {},
   "number_sections": true,
   "sideBar": true,
   "skip_h1_title": false,
   "title_cell": "Table of Contents",
   "title_sidebar": "Contents",
   "toc_cell": false,
   "toc_position": {},
   "toc_section_display": true,
   "toc_window_display": false
  },
  "varInspector": {
   "cols": {
    "lenName": 16,
    "lenType": 16,
    "lenVar": 40
   },
   "kernels_config": {
    "python": {
     "delete_cmd_postfix": "",
     "delete_cmd_prefix": "del ",
     "library": "var_list.py",
     "varRefreshCmd": "print(var_dic_list())"
    },
    "r": {
     "delete_cmd_postfix": ") ",
     "delete_cmd_prefix": "rm(",
     "library": "var_list.r",
     "varRefreshCmd": "cat(var_dic_list()) "
    }
   },
   "types_to_exclude": [
    "module",
    "function",
    "builtin_function_or_method",
    "instance",
    "_Feature"
   ],
   "window_display": false
  }
 },
 "nbformat": 4,
 "nbformat_minor": 5
}
