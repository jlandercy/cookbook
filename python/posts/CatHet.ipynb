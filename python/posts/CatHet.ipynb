{
 "cells": [
  {
   "cell_type": "code",
   "execution_count": 46,
   "id": "108ba851",
   "metadata": {
    "ExecuteTime": {
     "end_time": "2022-02-10T10:36:47.258938Z",
     "start_time": "2022-02-10T10:36:47.251294Z"
    }
   },
   "outputs": [],
   "source": [
    "import numpy as np\n",
    "import pandas as pd\n",
    "import matplotlib.pyplot as plt\n",
    "\n",
    "from scipy import optimize, signal\n",
    "from sklearn.linear_model import LinearRegression"
   ]
  },
  {
   "cell_type": "markdown",
   "id": "c59b3c9f",
   "metadata": {},
   "source": [
    "$$\\mathrm{A \\underset{Ni}{\\overset{k_1}{\\longrightarrow}} B + C}$$\n",
    "\n",
    "$$r = k_1 \\theta_A = k_1\\frac{aA}{1 + aA + bB + cC}$$\n",
    "\n",
    "$$r = \\frac{1}{V}\\frac{\\mathrm{d}\\xi}{\\mathrm{d}t} \\simeq k_1\\frac{aA}{aA + bB} = k\\frac{a(n_0 - \\xi)}{a(n_0 - \\xi) + b\\xi}$$\n",
    "\n",
    "$$\\int\\limits_0^\\xi\\left(1 + \\frac{b\\xi}{a(n_0-\\xi)}\\right)\\mathrm{d}\\xi = \\int\\limits_0^t k_1V\\mathrm{d}t$$\n",
    "\n",
    "$$\\left(1 - \\frac{b}{a}\\right)\\xi - n_0\\frac{b}{a}\\ln\\left|\\frac{n_0 - \\xi}{n_0}\\right| = k_1Vt$$\n",
    "\n",
    "$$ t(\\xi) = \\frac{1}{k_1}(1-k_2) \\frac{\\xi}{V} + \\frac{k_2}{k_1}\\left(-\\frac{n_0}{V}\\right)\\ln\\left|\\frac{n_0 - \\xi}{n_0}\\right| = c_1 x_1(\\xi) + c_2 x_2(\\xi)$$\n",
    "\n",
    "$$k_1 = \\frac{1}{c_1 + c_2} \\,,\\quad k_2 = \\frac{c_2}{c_1 + c_2}$$\n",
    "\n",
    "$$r = k_1\\frac{aA}{aA + bB} \\rightarrow \\frac{1}{r} = \\frac{1}{k_1}\\left(1 + k_2 \\frac{\\xi}{n_0 - \\xi}\\right) $$"
   ]
  },
  {
   "cell_type": "code",
   "execution_count": 2,
   "id": "c462a41f",
   "metadata": {
    "ExecuteTime": {
     "end_time": "2022-02-10T10:24:00.277351Z",
     "start_time": "2022-02-10T10:24:00.149344Z"
    }
   },
   "outputs": [],
   "source": [
    "df = pd.read_excel(\"cathet.xlsx\")"
   ]
  },
  {
   "cell_type": "code",
   "execution_count": 3,
   "id": "79267900",
   "metadata": {
    "ExecuteTime": {
     "end_time": "2022-02-10T10:24:00.289349Z",
     "start_time": "2022-02-10T10:24:00.280323Z"
    }
   },
   "outputs": [],
   "source": [
    "df = df.loc[2:]"
   ]
  },
  {
   "cell_type": "code",
   "execution_count": 4,
   "id": "b924a310",
   "metadata": {
    "ExecuteTime": {
     "end_time": "2022-02-10T10:24:00.301949Z",
     "start_time": "2022-02-10T10:24:00.291997Z"
    }
   },
   "outputs": [],
   "source": [
    "df[\"t\"] = df[\"t\"] - df.loc[2, \"t\"]\n",
    "df[\"V\"] = df[\"V\"] - df.loc[2, \"V\"]"
   ]
  },
  {
   "cell_type": "code",
   "execution_count": 5,
   "id": "ae572524",
   "metadata": {
    "ExecuteTime": {
     "end_time": "2022-02-10T10:24:00.333380Z",
     "start_time": "2022-02-10T10:24:00.304557Z"
    }
   },
   "outputs": [
    {
     "data": {
      "text/html": [
       "<div>\n",
       "<style scoped>\n",
       "    .dataframe tbody tr th:only-of-type {\n",
       "        vertical-align: middle;\n",
       "    }\n",
       "\n",
       "    .dataframe tbody tr th {\n",
       "        vertical-align: top;\n",
       "    }\n",
       "\n",
       "    .dataframe thead th {\n",
       "        text-align: right;\n",
       "    }\n",
       "</style>\n",
       "<table border=\"1\" class=\"dataframe\">\n",
       "  <thead>\n",
       "    <tr style=\"text-align: right;\">\n",
       "      <th></th>\n",
       "      <th>t</th>\n",
       "      <th>V</th>\n",
       "    </tr>\n",
       "  </thead>\n",
       "  <tbody>\n",
       "    <tr>\n",
       "      <th>2</th>\n",
       "      <td>0</td>\n",
       "      <td>0.000000</td>\n",
       "    </tr>\n",
       "    <tr>\n",
       "      <th>3</th>\n",
       "      <td>39</td>\n",
       "      <td>0.000008</td>\n",
       "    </tr>\n",
       "    <tr>\n",
       "      <th>4</th>\n",
       "      <td>131</td>\n",
       "      <td>0.000027</td>\n",
       "    </tr>\n",
       "    <tr>\n",
       "      <th>5</th>\n",
       "      <td>184</td>\n",
       "      <td>0.000038</td>\n",
       "    </tr>\n",
       "    <tr>\n",
       "      <th>6</th>\n",
       "      <td>214</td>\n",
       "      <td>0.000044</td>\n",
       "    </tr>\n",
       "  </tbody>\n",
       "</table>\n",
       "</div>"
      ],
      "text/plain": [
       "     t         V\n",
       "2    0  0.000000\n",
       "3   39  0.000008\n",
       "4  131  0.000027\n",
       "5  184  0.000038\n",
       "6  214  0.000044"
      ]
     },
     "execution_count": 5,
     "metadata": {},
     "output_type": "execute_result"
    }
   ],
   "source": [
    "df[:5]"
   ]
  },
  {
   "cell_type": "code",
   "execution_count": 6,
   "id": "49527343",
   "metadata": {
    "ExecuteTime": {
     "end_time": "2022-02-10T10:24:01.164068Z",
     "start_time": "2022-02-10T10:24:00.336772Z"
    }
   },
   "outputs": [
    {
     "data": {
      "image/png": "[encoded data removed]",
      "text/plain": [
       "<Figure size 432x288 with 1 Axes>"
      ]
     },
     "metadata": {
      "needs_background": "light"
     },
     "output_type": "display_data"
    }
   ],
   "source": [
    "fig, axe = plt.subplots()\n",
    "axe.plot(df[\"t\"], df[\"V\"])\n",
    "axe.set_title(\"Heterogeneous Catalysis Kinetic\")\n",
    "axe.set_xlabel(\"Time, $t$ $[\\mathrm{s}]$\")\n",
    "axe.set_ylabel(\"Volume, $V_\\mathrm{H_2}(t)$ $[\\mathrm{m^3}]$\")\n",
    "axe.grid()"
   ]
  },
  {
   "cell_type": "code",
   "execution_count": 7,
   "id": "f74776ea",
   "metadata": {
    "ExecuteTime": {
     "end_time": "2022-02-10T10:24:01.192270Z",
     "start_time": "2022-02-10T10:24:01.177640Z"
    }
   },
   "outputs": [],
   "source": [
    "R = 8.31446261815324  # J/mol.K\n",
    "T0 = 292.05           # K\n",
    "p0 = 101600           # Pa\n",
    "V = 190e-6            # m3 of isopropanol\n",
    "m = 2.7677            # g of Raney Nickel\n",
    "rho = 785             # kg/m³\n",
    "M = 60.1              # g/mol\n",
    "n0 = 1000*rho*V/M     # mol"
   ]
  },
  {
   "cell_type": "code",
   "execution_count": 8,
   "id": "975941d9",
   "metadata": {
    "ExecuteTime": {
     "end_time": "2022-02-10T10:24:01.213405Z",
     "start_time": "2022-02-10T10:24:01.204976Z"
    }
   },
   "outputs": [
    {
     "data": {
      "text/plain": [
       "2.4816971713810316"
      ]
     },
     "execution_count": 8,
     "metadata": {},
     "output_type": "execute_result"
    }
   ],
   "source": [
    "n0"
   ]
  },
  {
   "cell_type": "code",
   "execution_count": 9,
   "id": "f661d543",
   "metadata": {
    "ExecuteTime": {
     "end_time": "2022-02-10T10:24:01.274962Z",
     "start_time": "2022-02-10T10:24:01.226961Z"
    }
   },
   "outputs": [],
   "source": [
    "df[\"xi\"] = p0*df[\"V\"]/(R*T0)\n",
    "df[\"B/A\"] = df[\"xi\"]/(n0 - df[\"xi\"])\n",
    "df[\"x1\"] = df[\"xi\"]/V\n",
    "df[\"x2\"] = -(n0/V)*np.log(np.abs((n0 - df[\"xi\"])/n0))\n",
    "df[\"dxidt1\"] = df[\"xi\"].diff()/df[\"t\"].diff()\n",
    "df[\"1/r1\"] = 1./df[\"dxidt1\"]"
   ]
  },
  {
   "cell_type": "code",
   "execution_count": null,
   "id": "3086d8e3",
   "metadata": {
    "ExecuteTime": {
     "end_time": "2022-02-10T08:41:50.252634Z",
     "start_time": "2022-02-10T08:41:50.228511Z"
    }
   },
   "outputs": [],
   "source": []
  },
  {
   "cell_type": "code",
   "execution_count": 10,
   "id": "dba3efdd",
   "metadata": {
    "ExecuteTime": {
     "end_time": "2022-02-10T10:24:01.349625Z",
     "start_time": "2022-02-10T10:24:01.279754Z"
    }
   },
   "outputs": [
    {
     "data": {
      "text/html": [
       "<div>\n",
       "<style scoped>\n",
       "    .dataframe tbody tr th:only-of-type {\n",
       "        vertical-align: middle;\n",
       "    }\n",
       "\n",
       "    .dataframe tbody tr th {\n",
       "        vertical-align: top;\n",
       "    }\n",
       "\n",
       "    .dataframe thead th {\n",
       "        text-align: right;\n",
       "    }\n",
       "</style>\n",
       "<table border=\"1\" class=\"dataframe\">\n",
       "  <thead>\n",
       "    <tr style=\"text-align: right;\">\n",
       "      <th></th>\n",
       "      <th>t</th>\n",
       "      <th>V</th>\n",
       "      <th>xi</th>\n",
       "      <th>B/A</th>\n",
       "      <th>x1</th>\n",
       "      <th>x2</th>\n",
       "      <th>dxidt1</th>\n",
       "      <th>1/r1</th>\n",
       "    </tr>\n",
       "  </thead>\n",
       "  <tbody>\n",
       "    <tr>\n",
       "      <th>2</th>\n",
       "      <td>0</td>\n",
       "      <td>0.000000</td>\n",
       "      <td>0.000000</td>\n",
       "      <td>0.000000</td>\n",
       "      <td>0.000000</td>\n",
       "      <td>-0.000000</td>\n",
       "      <td>NaN</td>\n",
       "      <td>NaN</td>\n",
       "    </tr>\n",
       "    <tr>\n",
       "      <th>3</th>\n",
       "      <td>39</td>\n",
       "      <td>0.000008</td>\n",
       "      <td>0.000339</td>\n",
       "      <td>0.000137</td>\n",
       "      <td>1.783749</td>\n",
       "      <td>1.783871</td>\n",
       "      <td>0.000009</td>\n",
       "      <td>115074.017568</td>\n",
       "    </tr>\n",
       "    <tr>\n",
       "      <th>4</th>\n",
       "      <td>131</td>\n",
       "      <td>0.000027</td>\n",
       "      <td>0.001126</td>\n",
       "      <td>0.000454</td>\n",
       "      <td>5.923808</td>\n",
       "      <td>5.925152</td>\n",
       "      <td>0.000009</td>\n",
       "      <td>116957.389377</td>\n",
       "    </tr>\n",
       "    <tr>\n",
       "      <th>5</th>\n",
       "      <td>184</td>\n",
       "      <td>0.000038</td>\n",
       "      <td>0.001603</td>\n",
       "      <td>0.000646</td>\n",
       "      <td>8.434270</td>\n",
       "      <td>8.436994</td>\n",
       "      <td>0.000009</td>\n",
       "      <td>111113.980526</td>\n",
       "    </tr>\n",
       "    <tr>\n",
       "      <th>6</th>\n",
       "      <td>214</td>\n",
       "      <td>0.000044</td>\n",
       "      <td>0.001845</td>\n",
       "      <td>0.000744</td>\n",
       "      <td>9.711522</td>\n",
       "      <td>9.715134</td>\n",
       "      <td>0.000008</td>\n",
       "      <td>123620.628952</td>\n",
       "    </tr>\n",
       "    <tr>\n",
       "      <th>...</th>\n",
       "      <td>...</td>\n",
       "      <td>...</td>\n",
       "      <td>...</td>\n",
       "      <td>...</td>\n",
       "      <td>...</td>\n",
       "      <td>...</td>\n",
       "      <td>...</td>\n",
       "      <td>...</td>\n",
       "    </tr>\n",
       "    <tr>\n",
       "      <th>113</th>\n",
       "      <td>6938</td>\n",
       "      <td>0.000927</td>\n",
       "      <td>0.038791</td>\n",
       "      <td>0.015879</td>\n",
       "      <td>204.162179</td>\n",
       "      <td>205.774609</td>\n",
       "      <td>0.000004</td>\n",
       "      <td>233441.745835</td>\n",
       "    </tr>\n",
       "    <tr>\n",
       "      <th>114</th>\n",
       "      <td>7088</td>\n",
       "      <td>0.000943</td>\n",
       "      <td>0.039439</td>\n",
       "      <td>0.016149</td>\n",
       "      <td>207.575526</td>\n",
       "      <td>209.242616</td>\n",
       "      <td>0.000004</td>\n",
       "      <td>231290.209007</td>\n",
       "    </tr>\n",
       "    <tr>\n",
       "      <th>115</th>\n",
       "      <td>7272</td>\n",
       "      <td>0.000960</td>\n",
       "      <td>0.040172</td>\n",
       "      <td>0.016453</td>\n",
       "      <td>211.429304</td>\n",
       "      <td>213.159215</td>\n",
       "      <td>0.000004</td>\n",
       "      <td>251291.305177</td>\n",
       "    </tr>\n",
       "    <tr>\n",
       "      <th>116</th>\n",
       "      <td>7300</td>\n",
       "      <td>0.000964</td>\n",
       "      <td>0.040314</td>\n",
       "      <td>0.016513</td>\n",
       "      <td>212.178039</td>\n",
       "      <td>213.920291</td>\n",
       "      <td>0.000005</td>\n",
       "      <td>196823.432763</td>\n",
       "    </tr>\n",
       "    <tr>\n",
       "      <th>117</th>\n",
       "      <td>7359</td>\n",
       "      <td>0.000968</td>\n",
       "      <td>0.040498</td>\n",
       "      <td>0.016589</td>\n",
       "      <td>213.146989</td>\n",
       "      <td>214.905278</td>\n",
       "      <td>0.000003</td>\n",
       "      <td>320477.115359</td>\n",
       "    </tr>\n",
       "  </tbody>\n",
       "</table>\n",
       "<p>116 rows × 8 columns</p>\n",
       "</div>"
      ],
      "text/plain": [
       "        t         V        xi       B/A          x1          x2    dxidt1  \\\n",
       "2       0  0.000000  0.000000  0.000000    0.000000   -0.000000       NaN   \n",
       "3      39  0.000008  0.000339  0.000137    1.783749    1.783871  0.000009   \n",
       "4     131  0.000027  0.001126  0.000454    5.923808    5.925152  0.000009   \n",
       "5     184  0.000038  0.001603  0.000646    8.434270    8.436994  0.000009   \n",
       "6     214  0.000044  0.001845  0.000744    9.711522    9.715134  0.000008   \n",
       "..    ...       ...       ...       ...         ...         ...       ...   \n",
       "113  6938  0.000927  0.038791  0.015879  204.162179  205.774609  0.000004   \n",
       "114  7088  0.000943  0.039439  0.016149  207.575526  209.242616  0.000004   \n",
       "115  7272  0.000960  0.040172  0.016453  211.429304  213.159215  0.000004   \n",
       "116  7300  0.000964  0.040314  0.016513  212.178039  213.920291  0.000005   \n",
       "117  7359  0.000968  0.040498  0.016589  213.146989  214.905278  0.000003   \n",
       "\n",
       "              1/r1  \n",
       "2              NaN  \n",
       "3    115074.017568  \n",
       "4    116957.389377  \n",
       "5    111113.980526  \n",
       "6    123620.628952  \n",
       "..             ...  \n",
       "113  233441.745835  \n",
       "114  231290.209007  \n",
       "115  251291.305177  \n",
       "116  196823.432763  \n",
       "117  320477.115359  \n",
       "\n",
       "[116 rows x 8 columns]"
      ]
     },
     "execution_count": 10,
     "metadata": {},
     "output_type": "execute_result"
    }
   ],
   "source": [
    "df"
   ]
  },
  {
   "cell_type": "code",
   "execution_count": null,
   "id": "b9a1cef7",
   "metadata": {
    "ExecuteTime": {
     "end_time": "2022-02-10T08:41:51.184703Z",
     "start_time": "2022-02-10T08:41:50.317519Z"
    }
   },
   "outputs": [],
   "source": []
  },
  {
   "cell_type": "code",
   "execution_count": null,
   "id": "b6b6865c",
   "metadata": {},
   "outputs": [],
   "source": []
  },
  {
   "cell_type": "code",
   "execution_count": 11,
   "id": "220492e3",
   "metadata": {
    "ExecuteTime": {
     "end_time": "2022-02-10T10:24:01.375262Z",
     "start_time": "2022-02-10T10:24:01.357639Z"
    }
   },
   "outputs": [],
   "source": [
    "X = df[[\"x1\", \"x2\"]].values\n",
    "y = df[\"t\"].values"
   ]
  },
  {
   "cell_type": "code",
   "execution_count": 12,
   "id": "52e0039c",
   "metadata": {
    "ExecuteTime": {
     "end_time": "2022-02-10T10:24:01.409609Z",
     "start_time": "2022-02-10T10:24:01.384230Z"
    }
   },
   "outputs": [
    {
     "data": {
      "text/plain": [
       "0.9999563894349557"
      ]
     },
     "execution_count": 12,
     "metadata": {},
     "output_type": "execute_result"
    }
   ],
   "source": [
    "regressor = LinearRegression().fit(X, y)\n",
    "regressor.score(X, y)"
   ]
  },
  {
   "cell_type": "code",
   "execution_count": 13,
   "id": "7a7d4dd0",
   "metadata": {
    "ExecuteTime": {
     "end_time": "2022-02-10T10:24:01.431633Z",
     "start_time": "2022-02-10T10:24:01.417764Z"
    }
   },
   "outputs": [
    {
     "data": {
      "text/plain": [
       "array([-1643.83116631,  1664.63643311])"
      ]
     },
     "execution_count": 13,
     "metadata": {},
     "output_type": "execute_result"
    }
   ],
   "source": [
    "regressor.coef_"
   ]
  },
  {
   "cell_type": "code",
   "execution_count": 14,
   "id": "b4a31772",
   "metadata": {
    "ExecuteTime": {
     "end_time": "2022-02-10T10:24:01.452301Z",
     "start_time": "2022-02-10T10:24:01.440166Z"
    }
   },
   "outputs": [],
   "source": [
    "yhat = regressor.predict(X)"
   ]
  },
  {
   "cell_type": "code",
   "execution_count": 15,
   "id": "806e4271",
   "metadata": {
    "ExecuteTime": {
     "end_time": "2022-02-10T10:24:02.173279Z",
     "start_time": "2022-02-10T10:24:01.459879Z"
    }
   },
   "outputs": [
    {
     "data": {
      "image/png": "[encoded data removed]",
      "text/plain": [
       "<Figure size 432x288 with 1 Axes>"
      ]
     },
     "metadata": {
      "needs_background": "light"
     },
     "output_type": "display_data"
    }
   ],
   "source": [
    "fig, axe = plt.subplots()\n",
    "axe.plot(df[\"t\"], df[\"xi\"], \".\", label=\"Experimental Data\")\n",
    "axe.plot(yhat, df[\"xi\"], \"-\", label=\"OLS Fit\")\n",
    "axe.set_title(\"Heterogeneous Catalysis Kinetic\")\n",
    "axe.set_xlabel(\"Time, $t$ $[\\mathrm{s}]$\")\n",
    "axe.set_ylabel(r\"Reaction Coordinate, $\\xi$ $[\\mathrm{mol}]$\")\n",
    "axe.legend()\n",
    "axe.grid()"
   ]
  },
  {
   "cell_type": "code",
   "execution_count": 16,
   "id": "04779edd",
   "metadata": {
    "ExecuteTime": {
     "end_time": "2022-02-10T10:24:02.249725Z",
     "start_time": "2022-02-10T10:24:02.217413Z"
    }
   },
   "outputs": [],
   "source": [
    "def solve(c1, c2):\n",
    "    k1 = 1./(c1 + c2)\n",
    "    k2 = c2*k1\n",
    "    return k1, k2"
   ]
  },
  {
   "cell_type": "code",
   "execution_count": 17,
   "id": "af6ea63b",
   "metadata": {
    "ExecuteTime": {
     "end_time": "2022-02-10T10:24:02.297313Z",
     "start_time": "2022-02-10T10:24:02.259608Z"
    }
   },
   "outputs": [
    {
     "data": {
      "text/plain": [
       "(0.048064752532104564, 80.01033821320921)"
      ]
     },
     "execution_count": 17,
     "metadata": {},
     "output_type": "execute_result"
    }
   ],
   "source": [
    "k1, k2 = solve(*regressor.coef_)\n",
    "k1, k2"
   ]
  },
  {
   "cell_type": "code",
   "execution_count": 18,
   "id": "f9f41085",
   "metadata": {
    "ExecuteTime": {
     "end_time": "2022-02-10T10:24:02.326664Z",
     "start_time": "2022-02-10T10:24:02.309371Z"
    }
   },
   "outputs": [
    {
     "data": {
      "text/plain": [
       "3.2996000220760445e-06"
      ]
     },
     "execution_count": 18,
     "metadata": {},
     "output_type": "execute_result"
    }
   ],
   "source": [
    "k1*V/m # mol/s"
   ]
  },
  {
   "cell_type": "code",
   "execution_count": 26,
   "id": "41b36bda",
   "metadata": {
    "ExecuteTime": {
     "end_time": "2022-02-10T10:26:21.125588Z",
     "start_time": "2022-02-10T10:26:21.064242Z"
    }
   },
   "outputs": [
    {
     "data": {
      "text/plain": [
       "0.5651210068486289"
      ]
     },
     "execution_count": 26,
     "metadata": {},
     "output_type": "execute_result"
    }
   ],
   "source": [
    "X = df[[\"B/A\"]].values[1:]\n",
    "y = df[\"1/r1\"].values[1:]\n",
    "regressor = LinearRegression().fit(X, y)\n",
    "regressor.score(X, y)"
   ]
  },
  {
   "cell_type": "code",
   "execution_count": 28,
   "id": "c596cc4c",
   "metadata": {
    "ExecuteTime": {
     "end_time": "2022-02-10T10:26:55.838605Z",
     "start_time": "2022-02-10T10:26:55.827868Z"
    }
   },
   "outputs": [
    {
     "data": {
      "text/plain": [
       "(array([8758594.37571687]), 111937.88579139842)"
      ]
     },
     "execution_count": 28,
     "metadata": {},
     "output_type": "execute_result"
    }
   ],
   "source": [
    "regressor.coef_, regressor.intercept_"
   ]
  },
  {
   "cell_type": "code",
   "execution_count": 36,
   "id": "23e51b83",
   "metadata": {
    "ExecuteTime": {
     "end_time": "2022-02-10T10:31:35.918133Z",
     "start_time": "2022-02-10T10:31:35.910977Z"
    }
   },
   "outputs": [],
   "source": [
    "Xmax = np.linspace(df[\"B/A\"].min(), df[\"B/A\"].max(), 2).reshape(-1, 1)\n",
    "yhat = regressor.predict(Xmax)"
   ]
  },
  {
   "cell_type": "code",
   "execution_count": 40,
   "id": "656eb4cf",
   "metadata": {
    "ExecuteTime": {
     "end_time": "2022-02-10T10:32:57.908571Z",
     "start_time": "2022-02-10T10:32:57.322356Z"
    }
   },
   "outputs": [
    {
     "data": {
      "image/png": "[encoded data removed]",
      "text/plain": [
       "<Figure size 432x288 with 1 Axes>"
      ]
     },
     "metadata": {
      "needs_background": "light"
     },
     "output_type": "display_data"
    }
   ],
   "source": [
    "fig, axe = plt.subplots()\n",
    "axe.plot(df[\"B/A\"], df[\"1/r1\"], \".\", label=\"First Difference\")\n",
    "axe.plot(Xmax, yhat, label=\"LB Fit\")\n",
    "axe.set_title(\"Lineweaver Burk Regression\")\n",
    "axe.set_xlabel(r\"Concentration Ratio, $\\frac{\\xi}{n_0 - \\xi}$ $[-]$\")\n",
    "axe.set_ylabel(r\"Inverse Rate, $\\frac{1}{r}$ $[\\mathrm{m^3\\cdot s \\cdot mol^{-1}]}$\")\n",
    "axe.legend()\n",
    "axe.grid()"
   ]
  },
  {
   "cell_type": "code",
   "execution_count": 106,
   "id": "9f601017",
   "metadata": {
    "ExecuteTime": {
     "end_time": "2022-02-10T11:07:46.134791Z",
     "start_time": "2022-02-10T11:07:46.123682Z"
    }
   },
   "outputs": [
    {
     "data": {
      "text/plain": [
       "(8.933525882948581e-06, 78.24512955371452)"
      ]
     },
     "execution_count": 106,
     "metadata": {},
     "output_type": "execute_result"
    }
   ],
   "source": [
    "k1 = 1/regressor.intercept_\n",
    "k2 = regressor.coef_[0]/regressor.intercept_\n",
    "k1, k2"
   ]
  },
  {
   "cell_type": "code",
   "execution_count": null,
   "id": "423d2544",
   "metadata": {
    "ExecuteTime": {
     "end_time": "2022-02-10T11:00:11.941959Z",
     "start_time": "2022-02-10T11:00:11.928158Z"
    }
   },
   "outputs": [],
   "source": []
  },
  {
   "cell_type": "code",
   "execution_count": 77,
   "id": "9a6e26be",
   "metadata": {
    "ExecuteTime": {
     "end_time": "2022-02-10T10:42:27.461007Z",
     "start_time": "2022-02-10T10:42:27.452786Z"
    }
   },
   "outputs": [],
   "source": [
    "df[\"xisg\"] = signal.savgol_filter(df[\"xi\"], 21, 5)\n",
    "df[\"dxisgdt\"] = df[\"xisg\"].diff()/df[\"t\"].diff()"
   ]
  },
  {
   "cell_type": "code",
   "execution_count": 79,
   "id": "0850cc4f",
   "metadata": {
    "ExecuteTime": {
     "end_time": "2022-02-10T10:42:28.313847Z",
     "start_time": "2022-02-10T10:42:28.025111Z"
    }
   },
   "outputs": [
    {
     "data": {
      "image/png": "[encoded data removed]",
      "text/plain": [
       "<Figure size 432x288 with 1 Axes>"
      ]
     },
     "metadata": {
      "needs_background": "light"
     },
     "output_type": "display_data"
    }
   ],
   "source": [
    "fig, axe = plt.subplots()\n",
    "axe.plot(df[\"B/A\"], 1/df[\"dxisgdt\"], \".\", label=\"Experimental Data\")\n",
    "axe.set_title(\"Heterogeneous Catalysis Kinetic\")\n",
    "axe.set_xlabel(\"Time, $t$ $[\\mathrm{s}]$\")\n",
    "axe.set_ylabel(r\"Reaction Coordinate, $\\xi$ $[\\mathrm{mol}]$\")\n",
    "axe.legend()\n",
    "axe.grid()"
   ]
  },
  {
   "cell_type": "code",
   "execution_count": 83,
   "id": "384d94a8",
   "metadata": {
    "ExecuteTime": {
     "end_time": "2022-02-10T10:44:07.505152Z",
     "start_time": "2022-02-10T10:44:07.496387Z"
    }
   },
   "outputs": [],
   "source": [
    "df[\"ximv\"] = df[\"xi\"].rolling(10).mean()\n",
    "df[\"dximvdt\"] = df[\"ximv\"].diff()/df[\"t\"].diff()"
   ]
  },
  {
   "cell_type": "code",
   "execution_count": 84,
   "id": "93c9d8ff",
   "metadata": {
    "ExecuteTime": {
     "end_time": "2022-02-10T10:44:18.660856Z",
     "start_time": "2022-02-10T10:44:18.227862Z"
    }
   },
   "outputs": [
    {
     "data": {
      "image/png": "[encoded data removed]",
      "text/plain": [
       "<Figure size 432x288 with 1 Axes>"
      ]
     },
     "metadata": {
      "needs_background": "light"
     },
     "output_type": "display_data"
    }
   ],
   "source": [
    "fig, axe = plt.subplots()\n",
    "axe.plot(df[\"B/A\"], 1/df[\"dximvdt\"], \".\", label=\"Experimental Data\")\n",
    "axe.set_title(\"Heterogeneous Catalysis Kinetic\")\n",
    "axe.set_xlabel(\"Time, $t$ $[\\mathrm{s}]$\")\n",
    "axe.set_ylabel(r\"Reaction Coordinate, $\\xi$ $[\\mathrm{mol}]$\")\n",
    "axe.legend()\n",
    "axe.grid()"
   ]
  },
  {
   "cell_type": "code",
   "execution_count": null,
   "id": "270562dc",
   "metadata": {},
   "outputs": [],
   "source": []
  },
  {
   "cell_type": "code",
   "execution_count": 86,
   "id": "230e4f5e",
   "metadata": {
    "ExecuteTime": {
     "end_time": "2022-02-10T10:49:24.168089Z",
     "start_time": "2022-02-10T10:49:24.161016Z"
    }
   },
   "outputs": [],
   "source": [
    "def factory(n0, V):\n",
    "    def wrapped(xi, k1, k2):\n",
    "        return (1-k2)/k1*(xi/V) - (k2/k1)*(n0/V)*np.log((n0 - xi)/n0)\n",
    "    return wrapped"
   ]
  },
  {
   "cell_type": "code",
   "execution_count": 87,
   "id": "f492f909",
   "metadata": {
    "ExecuteTime": {
     "end_time": "2022-02-10T10:49:36.551867Z",
     "start_time": "2022-02-10T10:49:36.547591Z"
    }
   },
   "outputs": [],
   "source": [
    "objective = factory(n0, V)"
   ]
  },
  {
   "cell_type": "code",
   "execution_count": 90,
   "id": "755ea50b",
   "metadata": {
    "ExecuteTime": {
     "end_time": "2022-02-10T10:50:58.763835Z",
     "start_time": "2022-02-10T10:50:58.638149Z"
    }
   },
   "outputs": [
    {
     "data": {
      "text/plain": [
       "(array([4.75360716e-02, 7.80055896e+01]),\n",
       " array([[1.21265292e-08, 5.87172563e-05],\n",
       "        [5.87172563e-05, 2.90824476e-01]]))"
      ]
     },
     "execution_count": 90,
     "metadata": {},
     "output_type": "execute_result"
    }
   ],
   "source": [
    "parameters, covariance = optimize.curve_fit(objective, df[\"xi\"], df[\"t\"])\n",
    "parameters, covariance"
   ]
  },
  {
   "cell_type": "code",
   "execution_count": 93,
   "id": "b71b4d36",
   "metadata": {
    "ExecuteTime": {
     "end_time": "2022-02-10T10:54:09.174680Z",
     "start_time": "2022-02-10T10:54:09.167690Z"
    }
   },
   "outputs": [],
   "source": [
    "that = objective(df[\"xi\"], *parameters)"
   ]
  },
  {
   "cell_type": "code",
   "execution_count": 94,
   "id": "44348f46",
   "metadata": {
    "ExecuteTime": {
     "end_time": "2022-02-10T10:54:10.183555Z",
     "start_time": "2022-02-10T10:54:09.495553Z"
    }
   },
   "outputs": [
    {
     "data": {
      "image/png": "[encoded data removed]",
      "text/plain": [
       "<Figure size 432x288 with 1 Axes>"
      ]
     },
     "metadata": {
      "needs_background": "light"
     },
     "output_type": "display_data"
    }
   ],
   "source": [
    "fig, axe = plt.subplots()\n",
    "axe.plot(df[\"t\"], df[\"xi\"], \".\", label=\"Experimental Data\")\n",
    "axe.plot(that, df[\"xi\"], \"-\", label=\"LMA Fit\")\n",
    "axe.set_title(\"Heterogeneous Catalysis Kinetic\")\n",
    "axe.set_xlabel(\"Time, $t$ $[\\mathrm{s}]$\")\n",
    "axe.set_ylabel(r\"Reaction Coordinate, $\\xi$ $[\\mathrm{mol}]$\")\n",
    "axe.legend()\n",
    "axe.grid()"
   ]
  },
  {
   "cell_type": "code",
   "execution_count": null,
   "id": "365e9f22",
   "metadata": {
    "ExecuteTime": {
     "end_time": "2022-02-10T10:56:42.306237Z",
     "start_time": "2022-02-10T10:56:42.297997Z"
    }
   },
   "outputs": [],
   "source": []
  },
  {
   "cell_type": "code",
   "execution_count": null,
   "id": "0e04f218",
   "metadata": {},
   "outputs": [],
   "source": []
  }
 ],
 "metadata": {
  "hide_input": false,
  "kernelspec": {
   "display_name": "Python 3",
   "language": "python",
   "name": "python3"
  },
  "language_info": {
   "codemirror_mode": {
    "name": "ipython",
    "version": 3
   },
   "file_extension": ".py",
   "mimetype": "text/x-python",
   "name": "python",
   "nbconvert_exporter": "python",
   "pygments_lexer": "ipython3",
   "version": "3.6.9"
  },
  "toc": {
   "base_numbering": 1,
   "nav_menu": {},
   "number_sections": true,
   "sideBar": true,
   "skip_h1_title": false,
   "title_cell": "Table of Contents",
   "title_sidebar": "Contents",
   "toc_cell": false,
   "toc_position": {},
   "toc_section_display": true,
   "toc_window_display": false
  },
  "varInspector": {
   "cols": {
    "lenName": 16,
    "lenType": 16,
    "lenVar": 40
   },
   "kernels_config": {
    "python": {
     "delete_cmd_postfix": "",
     "delete_cmd_prefix": "del ",
     "library": "var_list.py",
     "varRefreshCmd": "print(var_dic_list())"
    },
    "r": {
     "delete_cmd_postfix": ") ",
     "delete_cmd_prefix": "rm(",
     "library": "var_list.r",
     "varRefreshCmd": "cat(var_dic_list()) "
    }
   },
   "types_to_exclude": [
    "module",
    "function",
    "builtin_function_or_method",
    "instance",
    "_Feature"
   ],
   "window_display": false
  }
 },
 "nbformat": 4,
 "nbformat_minor": 5
}
