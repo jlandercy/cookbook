{
 "cells": [
  {
   "cell_type": "code",
   "execution_count": 1,
   "id": "108ba851",
   "metadata": {
    "ExecuteTime": {
     "end_time": "2022-02-26T08:33:07.485947Z",
     "start_time": "2022-02-26T08:33:05.058307Z"
    }
   },
   "outputs": [],
   "source": [
    "import numpy as np\n",
    "import pandas as pd\n",
    "import matplotlib.pyplot as plt\n",
    "\n",
    "from scipy import optimize, signal\n",
    "from sklearn import metrics\n",
    "from sklearn.linear_model import LinearRegression"
   ]
  },
  {
   "cell_type": "markdown",
   "id": "c59b3c9f",
   "metadata": {},
   "source": [
    "$$\\mathrm{A \\underset{Ni}{\\overset{k_1}{\\longrightarrow}} B + C}$$\n",
    "\n",
    "$$r = k_1 \\theta_A = k_1\\frac{aA}{1 + aA + bB + cC}$$\n",
    "\n",
    "$$r = \\frac{1}{V}\\frac{\\mathrm{d}\\xi}{\\mathrm{d}t} \\simeq k_1\\frac{aA}{aA + bB} = k\\frac{a(n_0 - \\xi)}{a(n_0 - \\xi) + b\\xi}$$\n",
    "\n",
    "$$\\int\\limits_0^\\xi\\left(1 + \\frac{b\\xi}{a(n_0-\\xi)}\\right)\\mathrm{d}\\xi = \\int\\limits_0^t k_1V\\mathrm{d}t$$\n",
    "\n",
    "$$\\left(1 - \\frac{b}{a}\\right)\\xi - n_0\\frac{b}{a}\\ln\\left|\\frac{n_0 - \\xi}{n_0}\\right| = k_1Vt$$\n",
    "\n",
    "$$ t(\\xi) = \\frac{1}{k_1}(1-k_2) \\frac{\\xi}{V} + \\frac{k_2}{k_1}\\left(-\\frac{n_0}{V}\\right)\\ln\\left|\\frac{n_0 - \\xi}{n_0}\\right| = c_1 x_1(\\xi) + c_2 x_2(\\xi)$$\n",
    "\n",
    "$$k_1 = \\frac{1}{c_1 + c_2} \\,,\\quad k_2 = \\frac{c_2}{c_1 + c_2}$$\n",
    "\n",
    "$$r = k_1\\frac{aA}{aA + bB} \\rightarrow \\frac{1}{r} = \\frac{1}{k_1}\\left(1 + k_2 \\frac{\\xi}{n_0 - \\xi}\\right) $$"
   ]
  },
  {
   "cell_type": "code",
   "execution_count": 2,
   "id": "c462a41f",
   "metadata": {
    "ExecuteTime": {
     "end_time": "2022-02-26T08:33:07.538249Z",
     "start_time": "2022-02-26T08:33:07.491644Z"
    }
   },
   "outputs": [],
   "source": [
    "df = pd.read_excel(\"cathet.xlsx\")"
   ]
  },
  {
   "cell_type": "code",
   "execution_count": 3,
   "id": "79267900",
   "metadata": {
    "ExecuteTime": {
     "end_time": "2022-02-26T08:33:07.545319Z",
     "start_time": "2022-02-26T08:33:07.541260Z"
    }
   },
   "outputs": [],
   "source": [
    "df = df.loc[2:]"
   ]
  },
  {
   "cell_type": "code",
   "execution_count": 4,
   "id": "b924a310",
   "metadata": {
    "ExecuteTime": {
     "end_time": "2022-02-26T08:33:07.560102Z",
     "start_time": "2022-02-26T08:33:07.548684Z"
    }
   },
   "outputs": [],
   "source": [
    "df[\"t\"] = df[\"t\"] - df.loc[2, \"t\"]\n",
    "df[\"V\"] = df[\"V\"] - df.loc[2, \"V\"]"
   ]
  },
  {
   "cell_type": "code",
   "execution_count": 5,
   "id": "ae572524",
   "metadata": {
    "ExecuteTime": {
     "end_time": "2022-02-26T08:33:07.578420Z",
     "start_time": "2022-02-26T08:33:07.562618Z"
    }
   },
   "outputs": [
    {
     "data": {
      "text/html": [
       "<div>\n",
       "<style scoped>\n",
       "    .dataframe tbody tr th:only-of-type {\n",
       "        vertical-align: middle;\n",
       "    }\n",
       "\n",
       "    .dataframe tbody tr th {\n",
       "        vertical-align: top;\n",
       "    }\n",
       "\n",
       "    .dataframe thead th {\n",
       "        text-align: right;\n",
       "    }\n",
       "</style>\n",
       "<table border=\"1\" class=\"dataframe\">\n",
       "  <thead>\n",
       "    <tr style=\"text-align: right;\">\n",
       "      <th></th>\n",
       "      <th>t</th>\n",
       "      <th>V</th>\n",
       "    </tr>\n",
       "  </thead>\n",
       "  <tbody>\n",
       "    <tr>\n",
       "      <th>2</th>\n",
       "      <td>0</td>\n",
       "      <td>0.000000</td>\n",
       "    </tr>\n",
       "    <tr>\n",
       "      <th>3</th>\n",
       "      <td>39</td>\n",
       "      <td>0.000008</td>\n",
       "    </tr>\n",
       "    <tr>\n",
       "      <th>4</th>\n",
       "      <td>131</td>\n",
       "      <td>0.000027</td>\n",
       "    </tr>\n",
       "    <tr>\n",
       "      <th>5</th>\n",
       "      <td>184</td>\n",
       "      <td>0.000038</td>\n",
       "    </tr>\n",
       "    <tr>\n",
       "      <th>6</th>\n",
       "      <td>214</td>\n",
       "      <td>0.000044</td>\n",
       "    </tr>\n",
       "  </tbody>\n",
       "</table>\n",
       "</div>"
      ],
      "text/plain": [
       "     t         V\n",
       "2    0  0.000000\n",
       "3   39  0.000008\n",
       "4  131  0.000027\n",
       "5  184  0.000038\n",
       "6  214  0.000044"
      ]
     },
     "execution_count": 5,
     "metadata": {},
     "output_type": "execute_result"
    }
   ],
   "source": [
    "df[:5]"
   ]
  },
  {
   "cell_type": "code",
   "execution_count": 6,
   "id": "14e9eb65",
   "metadata": {
    "ExecuteTime": {
     "end_time": "2022-02-26T08:33:07.590010Z",
     "start_time": "2022-02-26T08:33:07.581113Z"
    }
   },
   "outputs": [],
   "source": [
    "df.to_csv(\"cathet.csv\", index=False)"
   ]
  },
  {
   "cell_type": "code",
   "execution_count": 7,
   "id": "49527343",
   "metadata": {
    "ExecuteTime": {
     "end_time": "2022-02-26T08:33:08.144390Z",
     "start_time": "2022-02-26T08:33:07.592713Z"
    }
   },
   "outputs": [
    {
     "data": {
      "image/png": "[encoded data removed]",
      "text/plain": [
       "<Figure size 432x288 with 1 Axes>"
      ]
     },
     "metadata": {
      "needs_background": "light"
     },
     "output_type": "display_data"
    }
   ],
   "source": [
    "fig, axe = plt.subplots()\n",
    "axe.plot(df[\"t\"], df[\"V\"])\n",
    "axe.set_title(\"Heterogeneous Catalysis Kinetic\")\n",
    "axe.set_xlabel(\"Time, $t$ $[\\mathrm{s}]$\")\n",
    "axe.set_ylabel(\"Volume, $V_\\mathrm{H_2}(t)$ $[\\mathrm{m^3}]$\")\n",
    "axe.grid()"
   ]
  },
  {
   "cell_type": "code",
   "execution_count": 8,
   "id": "f74776ea",
   "metadata": {
    "ExecuteTime": {
     "end_time": "2022-02-26T08:33:08.156204Z",
     "start_time": "2022-02-26T08:33:08.150416Z"
    }
   },
   "outputs": [],
   "source": [
    "R = 8.31446261815324  # J/mol.K\n",
    "T0 = 292.05           # K\n",
    "p0 = 101600           # Pa\n",
    "V = 190e-6            # m3 of isopropanol\n",
    "m = 2.7677            # g of Raney Nickel\n",
    "rho = 785             # kg/m³\n",
    "M = 60.1              # g/mol\n",
    "n0 = 1000*rho*V/M     # mol"
   ]
  },
  {
   "cell_type": "code",
   "execution_count": 9,
   "id": "975941d9",
   "metadata": {
    "ExecuteTime": {
     "end_time": "2022-02-26T08:33:08.165925Z",
     "start_time": "2022-02-26T08:33:08.160716Z"
    }
   },
   "outputs": [
    {
     "data": {
      "text/plain": [
       "2.4816971713810316"
      ]
     },
     "execution_count": 9,
     "metadata": {},
     "output_type": "execute_result"
    }
   ],
   "source": [
    "n0"
   ]
  },
  {
   "cell_type": "code",
   "execution_count": 10,
   "id": "f661d543",
   "metadata": {
    "ExecuteTime": {
     "end_time": "2022-02-26T08:33:08.186932Z",
     "start_time": "2022-02-26T08:33:08.169408Z"
    }
   },
   "outputs": [],
   "source": [
    "df[\"xi\"] = p0*df[\"V\"]/(R*T0)\n",
    "df[\"B/A\"] = df[\"xi\"]/(n0 - df[\"xi\"])\n",
    "df[\"x1\"] = df[\"xi\"]/V\n",
    "df[\"x2\"] = -(n0/V)*np.log(np.abs((n0 - df[\"xi\"])/n0))\n",
    "df[\"dxidt1\"] = df[\"xi\"].diff()/df[\"t\"].diff()\n",
    "df[\"1/r1\"] = V/df[\"dxidt1\"]"
   ]
  },
  {
   "cell_type": "code",
   "execution_count": null,
   "id": "3086d8e3",
   "metadata": {
    "ExecuteTime": {
     "end_time": "2022-02-10T08:41:50.252634Z",
     "start_time": "2022-02-10T08:41:50.228511Z"
    }
   },
   "outputs": [],
   "source": []
  },
  {
   "cell_type": "code",
   "execution_count": 11,
   "id": "dba3efdd",
   "metadata": {
    "ExecuteTime": {
     "end_time": "2022-02-26T08:33:08.219363Z",
     "start_time": "2022-02-26T08:33:08.191401Z"
    }
   },
   "outputs": [
    {
     "data": {
      "text/html": [
       "<div>\n",
       "<style scoped>\n",
       "    .dataframe tbody tr th:only-of-type {\n",
       "        vertical-align: middle;\n",
       "    }\n",
       "\n",
       "    .dataframe tbody tr th {\n",
       "        vertical-align: top;\n",
       "    }\n",
       "\n",
       "    .dataframe thead th {\n",
       "        text-align: right;\n",
       "    }\n",
       "</style>\n",
       "<table border=\"1\" class=\"dataframe\">\n",
       "  <thead>\n",
       "    <tr style=\"text-align: right;\">\n",
       "      <th></th>\n",
       "      <th>t</th>\n",
       "      <th>V</th>\n",
       "      <th>xi</th>\n",
       "      <th>B/A</th>\n",
       "      <th>x1</th>\n",
       "      <th>x2</th>\n",
       "      <th>dxidt1</th>\n",
       "      <th>1/r1</th>\n",
       "    </tr>\n",
       "  </thead>\n",
       "  <tbody>\n",
       "    <tr>\n",
       "      <th>83</th>\n",
       "      <td>4878</td>\n",
       "      <td>0.000716</td>\n",
       "      <td>0.029975</td>\n",
       "      <td>0.012226</td>\n",
       "      <td>157.762685</td>\n",
       "      <td>158.723187</td>\n",
       "      <td>0.000003</td>\n",
       "      <td>57.182935</td>\n",
       "    </tr>\n",
       "    <tr>\n",
       "      <th>12</th>\n",
       "      <td>397</td>\n",
       "      <td>0.000080</td>\n",
       "      <td>0.003356</td>\n",
       "      <td>0.001354</td>\n",
       "      <td>17.661317</td>\n",
       "      <td>17.673268</td>\n",
       "      <td>0.000008</td>\n",
       "      <td>22.704989</td>\n",
       "    </tr>\n",
       "    <tr>\n",
       "      <th>45</th>\n",
       "      <td>2350</td>\n",
       "      <td>0.000402</td>\n",
       "      <td>0.016833</td>\n",
       "      <td>0.006829</td>\n",
       "      <td>88.592864</td>\n",
       "      <td>88.894680</td>\n",
       "      <td>0.000007</td>\n",
       "      <td>28.201986</td>\n",
       "    </tr>\n",
       "    <tr>\n",
       "      <th>9</th>\n",
       "      <td>299</td>\n",
       "      <td>0.000059</td>\n",
       "      <td>0.002477</td>\n",
       "      <td>0.000999</td>\n",
       "      <td>13.036782</td>\n",
       "      <td>13.043293</td>\n",
       "      <td>0.000007</td>\n",
       "      <td>27.470233</td>\n",
       "    </tr>\n",
       "    <tr>\n",
       "      <th>51</th>\n",
       "      <td>2741</td>\n",
       "      <td>0.000455</td>\n",
       "      <td>0.019054</td>\n",
       "      <td>0.007737</td>\n",
       "      <td>100.286330</td>\n",
       "      <td>100.673310</td>\n",
       "      <td>0.000006</td>\n",
       "      <td>33.459984</td>\n",
       "    </tr>\n",
       "  </tbody>\n",
       "</table>\n",
       "</div>"
      ],
      "text/plain": [
       "       t         V        xi       B/A          x1          x2    dxidt1  \\\n",
       "83  4878  0.000716  0.029975  0.012226  157.762685  158.723187  0.000003   \n",
       "12   397  0.000080  0.003356  0.001354   17.661317   17.673268  0.000008   \n",
       "45  2350  0.000402  0.016833  0.006829   88.592864   88.894680  0.000007   \n",
       "9    299  0.000059  0.002477  0.000999   13.036782   13.043293  0.000007   \n",
       "51  2741  0.000455  0.019054  0.007737  100.286330  100.673310  0.000006   \n",
       "\n",
       "         1/r1  \n",
       "83  57.182935  \n",
       "12  22.704989  \n",
       "45  28.201986  \n",
       "9   27.470233  \n",
       "51  33.459984  "
      ]
     },
     "execution_count": 11,
     "metadata": {},
     "output_type": "execute_result"
    }
   ],
   "source": [
    "df.sample(5)"
   ]
  },
  {
   "cell_type": "code",
   "execution_count": 12,
   "id": "b9a1cef7",
   "metadata": {
    "ExecuteTime": {
     "end_time": "2022-02-26T08:33:08.227971Z",
     "start_time": "2022-02-26T08:33:08.223533Z"
    }
   },
   "outputs": [],
   "source": [
    "results = {}"
   ]
  },
  {
   "cell_type": "markdown",
   "id": "4320dc5f",
   "metadata": {},
   "source": [
    "## OLS"
   ]
  },
  {
   "cell_type": "code",
   "execution_count": 13,
   "id": "220492e3",
   "metadata": {
    "ExecuteTime": {
     "end_time": "2022-02-26T08:33:08.240065Z",
     "start_time": "2022-02-26T08:33:08.232343Z"
    }
   },
   "outputs": [],
   "source": [
    "XOLS = df[[\"x1\", \"x2\"]].values\n",
    "yOLS = df[\"t\"].values"
   ]
  },
  {
   "cell_type": "code",
   "execution_count": 14,
   "id": "52e0039c",
   "metadata": {
    "ExecuteTime": {
     "end_time": "2022-02-26T08:33:08.261983Z",
     "start_time": "2022-02-26T08:33:08.244490Z"
    }
   },
   "outputs": [
    {
     "data": {
      "text/plain": [
       "0.9999526276968934"
      ]
     },
     "execution_count": 14,
     "metadata": {},
     "output_type": "execute_result"
    }
   ],
   "source": [
    "OLS = LinearRegression(fit_intercept=False).fit(XOLS, yOLS)\n",
    "scoreOLS = OLS.score(XOLS, yOLS)\n",
    "scoreOLS"
   ]
  },
  {
   "cell_type": "code",
   "execution_count": 15,
   "id": "b858c167",
   "metadata": {
    "ExecuteTime": {
     "end_time": "2022-02-26T08:33:08.595072Z",
     "start_time": "2022-02-26T08:33:08.265974Z"
    }
   },
   "outputs": [
    {
     "data": {
      "text/plain": [
       "<mpl_toolkits.mplot3d.art3d.Path3DCollection at 0x7fae074fc128>"
      ]
     },
     "execution_count": 15,
     "metadata": {},
     "output_type": "execute_result"
    },
    {
     "data": {
      "image/png": "[encoded data removed]",
      "text/plain": [
       "<Figure size 432x288 with 1 Axes>"
      ]
     },
     "metadata": {
      "needs_background": "light"
     },
     "output_type": "display_data"
    }
   ],
   "source": [
    "fig = plt.figure()\n",
    "axe = fig.add_subplot(projection='3d')\n",
    "axe.scatter(XOLS[:,0], XOLS[:,1], yOLS)"
   ]
  },
  {
   "cell_type": "code",
   "execution_count": null,
   "id": "825defa0",
   "metadata": {
    "ExecuteTime": {
     "end_time": "2022-02-12T14:28:29.736878Z",
     "start_time": "2022-02-12T14:28:29.724375Z"
    }
   },
   "outputs": [],
   "source": []
  },
  {
   "cell_type": "code",
   "execution_count": 16,
   "id": "7a7d4dd0",
   "metadata": {
    "ExecuteTime": {
     "end_time": "2022-02-26T08:33:08.606768Z",
     "start_time": "2022-02-26T08:33:08.599639Z"
    }
   },
   "outputs": [
    {
     "data": {
      "text/plain": [
       "array([-1619.94014191,  1640.97679807])"
      ]
     },
     "execution_count": 16,
     "metadata": {},
     "output_type": "execute_result"
    }
   ],
   "source": [
    "OLS.coef_"
   ]
  },
  {
   "cell_type": "code",
   "execution_count": 17,
   "id": "dddb7e6b",
   "metadata": {
    "ExecuteTime": {
     "end_time": "2022-02-26T08:33:08.617324Z",
     "start_time": "2022-02-26T08:33:08.610779Z"
    }
   },
   "outputs": [
    {
     "data": {
      "text/plain": [
       "0.0"
      ]
     },
     "execution_count": 17,
     "metadata": {},
     "output_type": "execute_result"
    }
   ],
   "source": [
    "OLS.intercept_"
   ]
  },
  {
   "cell_type": "code",
   "execution_count": 18,
   "id": "b4a31772",
   "metadata": {
    "ExecuteTime": {
     "end_time": "2022-02-26T08:33:08.626034Z",
     "start_time": "2022-02-26T08:33:08.621287Z"
    }
   },
   "outputs": [],
   "source": [
    "tOLS = OLS.predict(XOLS)"
   ]
  },
  {
   "cell_type": "code",
   "execution_count": 19,
   "id": "806e4271",
   "metadata": {
    "ExecuteTime": {
     "end_time": "2022-02-26T08:33:09.190504Z",
     "start_time": "2022-02-26T08:33:08.630605Z"
    }
   },
   "outputs": [
    {
     "data": {
      "image/png": "[encoded data removed]",
      "text/plain": [
       "<Figure size 432x288 with 1 Axes>"
      ]
     },
     "metadata": {
      "needs_background": "light"
     },
     "output_type": "display_data"
    }
   ],
   "source": [
    "fig, axe = plt.subplots()\n",
    "axe.plot(df[\"t\"], df[\"xi\"], \".\", label=\"Experimental Data\")\n",
    "axe.plot(tOLS, df[\"xi\"], \"-\", label=\"OLS Fit\")\n",
    "axe.set_title(\"Reformulated Ordinary Least Squares\")\n",
    "axe.set_xlabel(\"Time, $t$ $[\\mathrm{s}]$\")\n",
    "axe.set_ylabel(r\"Reaction Coordinate, $\\xi$ $[\\mathrm{mol}]$\")\n",
    "axe.legend()\n",
    "axe.grid()"
   ]
  },
  {
   "cell_type": "code",
   "execution_count": 20,
   "id": "04779edd",
   "metadata": {
    "ExecuteTime": {
     "end_time": "2022-02-26T08:33:09.199504Z",
     "start_time": "2022-02-26T08:33:09.194482Z"
    }
   },
   "outputs": [],
   "source": [
    "def solveOLS(c1, c2):\n",
    "    k1 = 1./(c1 + c2)\n",
    "    k2 = c2*k1\n",
    "    return k1, k2"
   ]
  },
  {
   "cell_type": "code",
   "execution_count": 21,
   "id": "af6ea63b",
   "metadata": {
    "ExecuteTime": {
     "end_time": "2022-02-26T08:33:09.210805Z",
     "start_time": "2022-02-26T08:33:09.203953Z"
    }
   },
   "outputs": [
    {
     "data": {
      "text/plain": [
       "(0.04753607191540943, 78.00559108463023)"
      ]
     },
     "execution_count": 21,
     "metadata": {},
     "output_type": "execute_result"
    }
   ],
   "source": [
    "k1OLS, k2OLS = solveOLS(*OLS.coef_)\n",
    "k1OLS, k2OLS"
   ]
  },
  {
   "cell_type": "code",
   "execution_count": 22,
   "id": "f9f41085",
   "metadata": {
    "ExecuteTime": {
     "end_time": "2022-02-26T08:33:09.221492Z",
     "start_time": "2022-02-26T08:33:09.214966Z"
    }
   },
   "outputs": [
    {
     "data": {
      "text/plain": [
       "3.2633065953419057e-06"
      ]
     },
     "execution_count": 22,
     "metadata": {},
     "output_type": "execute_result"
    }
   ],
   "source": [
    "k1OLS*V/m # mol/s"
   ]
  },
  {
   "cell_type": "code",
   "execution_count": 23,
   "id": "3e445728",
   "metadata": {
    "ExecuteTime": {
     "end_time": "2022-02-26T08:33:09.241388Z",
     "start_time": "2022-02-26T08:33:09.231502Z"
    }
   },
   "outputs": [
    {
     "data": {
      "text/plain": [
       "{'k1': 0.04753607191540943,\n",
       " 'k2': 78.00559108463023,\n",
       " 'MSE': 220.70733391613194,\n",
       " 'r2': 0.9999526276968934}"
      ]
     },
     "execution_count": 23,
     "metadata": {},
     "output_type": "execute_result"
    }
   ],
   "source": [
    "results[\"OLS\"] = {\n",
    "    \"k1\": k1OLS, \"k2\": k2OLS,\n",
    "    \"MSE\": metrics.mean_squared_error(yOLS, tOLS),\n",
    "    \"r2\": metrics.r2_score(yOLS, tOLS)\n",
    "}\n",
    "results[\"OLS\"]"
   ]
  },
  {
   "cell_type": "markdown",
   "id": "4dbb2291",
   "metadata": {},
   "source": [
    "## Lineweaver-Burk"
   ]
  },
  {
   "cell_type": "code",
   "execution_count": 24,
   "id": "41b36bda",
   "metadata": {
    "ExecuteTime": {
     "end_time": "2022-02-26T08:33:09.261191Z",
     "start_time": "2022-02-26T08:33:09.247676Z"
    }
   },
   "outputs": [
    {
     "data": {
      "text/plain": [
       "0.565121006848629"
      ]
     },
     "execution_count": 24,
     "metadata": {},
     "output_type": "execute_result"
    }
   ],
   "source": [
    "XLB = df[[\"B/A\"]].values[1:]\n",
    "yLB = df[\"1/r1\"].values[1:]\n",
    "LB = LinearRegression(fit_intercept=True).fit(XLB, yLB)\n",
    "LB.score(XLB, yLB)"
   ]
  },
  {
   "cell_type": "code",
   "execution_count": 25,
   "id": "f5f0f275",
   "metadata": {
    "ExecuteTime": {
     "end_time": "2022-02-26T08:33:09.272127Z",
     "start_time": "2022-02-26T08:33:09.265248Z"
    }
   },
   "outputs": [
    {
     "data": {
      "text/plain": [
       "(array([1664.13293139]), 21.268198300365704)"
      ]
     },
     "execution_count": 25,
     "metadata": {},
     "output_type": "execute_result"
    }
   ],
   "source": [
    "LB.coef_, LB.intercept_"
   ]
  },
  {
   "cell_type": "code",
   "execution_count": 26,
   "id": "f90cad56",
   "metadata": {
    "ExecuteTime": {
     "end_time": "2022-02-26T08:33:09.282990Z",
     "start_time": "2022-02-26T08:33:09.276131Z"
    }
   },
   "outputs": [],
   "source": [
    "XLBmax = np.linspace(df[\"B/A\"].min(), df[\"B/A\"].max(), 2).reshape(-1, 1)\n",
    "yLBhat = LB.predict(XLB)"
   ]
  },
  {
   "cell_type": "code",
   "execution_count": 27,
   "id": "656eb4cf",
   "metadata": {
    "ExecuteTime": {
     "end_time": "2022-02-26T08:33:09.878769Z",
     "start_time": "2022-02-26T08:33:09.287525Z"
    }
   },
   "outputs": [
    {
     "data": {
      "image/png": "[encoded data removed]",
      "text/plain": [
       "<Figure size 432x288 with 1 Axes>"
      ]
     },
     "metadata": {
      "needs_background": "light"
     },
     "output_type": "display_data"
    }
   ],
   "source": [
    "fig, axe = plt.subplots()\n",
    "axe.plot(df[\"B/A\"], df[\"1/r1\"], \".\", label=\"First Difference\")\n",
    "axe.plot(XLB, yLBhat, label=\"First Difference OLS Fit\")\n",
    "axe.set_title(\"Lineweaver Burk Least Squares\")\n",
    "axe.set_xlabel(r\"Concentration Ratio, $\\frac{\\xi}{n_0 - \\xi}$ $[-]$\")\n",
    "axe.set_ylabel(r\"Inverse Rate, $\\frac{1}{r}$ $[\\mathrm{m^3\\cdot s \\cdot mol^{-1}]}$\")\n",
    "axe.legend()\n",
    "axe.grid()"
   ]
  },
  {
   "cell_type": "code",
   "execution_count": 28,
   "id": "9f601017",
   "metadata": {
    "ExecuteTime": {
     "end_time": "2022-02-26T08:33:09.890555Z",
     "start_time": "2022-02-26T08:33:09.882946Z"
    }
   },
   "outputs": [
    {
     "data": {
      "text/plain": [
       "(0.04701855727867674, 78.2451295537145)"
      ]
     },
     "execution_count": 28,
     "metadata": {},
     "output_type": "execute_result"
    }
   ],
   "source": [
    "k1LB = 1/LB.intercept_\n",
    "k2LB = LB.coef_[0]*k1LB\n",
    "k1LB, k2LB"
   ]
  },
  {
   "cell_type": "code",
   "execution_count": 29,
   "id": "423d2544",
   "metadata": {
    "ExecuteTime": {
     "end_time": "2022-02-26T08:33:09.916798Z",
     "start_time": "2022-02-26T08:33:09.904291Z"
    }
   },
   "outputs": [
    {
     "data": {
      "text/plain": [
       "{'k1': 0.04701855727867674,\n",
       " 'k2': 78.2451295537145,\n",
       " 'MSE': 49.8171431042655,\n",
       " 'r2': 0.565121006848629}"
      ]
     },
     "execution_count": 29,
     "metadata": {},
     "output_type": "execute_result"
    }
   ],
   "source": [
    "results[\"LB\"] = {\n",
    "    \"k1\": k1LB, \"k2\": k2LB,\n",
    "    \"MSE\": metrics.mean_squared_error(yLB, yLBhat),\n",
    "    \"r2\": metrics.r2_score(yLB, yLBhat)\n",
    "}\n",
    "results[\"LB\"]"
   ]
  },
  {
   "cell_type": "code",
   "execution_count": null,
   "id": "6f5b9cdd",
   "metadata": {},
   "outputs": [],
   "source": []
  },
  {
   "cell_type": "code",
   "execution_count": null,
   "id": "024c51d0",
   "metadata": {},
   "outputs": [],
   "source": []
  },
  {
   "cell_type": "markdown",
   "id": "fd648950",
   "metadata": {},
   "source": [
    "### LMA"
   ]
  },
  {
   "cell_type": "code",
   "execution_count": 30,
   "id": "b6704e86",
   "metadata": {
    "ExecuteTime": {
     "end_time": "2022-02-26T08:33:09.934421Z",
     "start_time": "2022-02-26T08:33:09.922917Z"
    }
   },
   "outputs": [],
   "source": [
    "def factory(n0, V):\n",
    "    def wrapped(xi, k1, k2):\n",
    "        return (1-k2)/k1*(xi/V) - (k2/k1)*(n0/V)*np.log((n0 - xi)/n0)\n",
    "    return wrapped"
   ]
  },
  {
   "cell_type": "code",
   "execution_count": 31,
   "id": "9b148c96",
   "metadata": {
    "ExecuteTime": {
     "end_time": "2022-02-26T08:33:09.943235Z",
     "start_time": "2022-02-26T08:33:09.938287Z"
    }
   },
   "outputs": [],
   "source": [
    "objective = factory(n0, V)"
   ]
  },
  {
   "cell_type": "code",
   "execution_count": 32,
   "id": "46753a66",
   "metadata": {
    "ExecuteTime": {
     "end_time": "2022-02-26T08:33:10.213442Z",
     "start_time": "2022-02-26T08:33:09.947097Z"
    }
   },
   "outputs": [
    {
     "data": {
      "text/plain": [
       "(array([4.75360716e-02, 7.80055896e+01]),\n",
       " array([[1.21265292e-08, 5.87172563e-05],\n",
       "        [5.87172563e-05, 2.90824476e-01]]))"
      ]
     },
     "execution_count": 32,
     "metadata": {},
     "output_type": "execute_result"
    }
   ],
   "source": [
    "parameters, covariance = optimize.curve_fit(objective, df[\"xi\"], df[\"t\"])\n",
    "parameters, covariance"
   ]
  },
  {
   "cell_type": "code",
   "execution_count": 33,
   "id": "d6c4d0f8",
   "metadata": {
    "ExecuteTime": {
     "end_time": "2022-02-26T08:33:10.244390Z",
     "start_time": "2022-02-26T08:33:10.222644Z"
    }
   },
   "outputs": [],
   "source": [
    "that = objective(df[\"xi\"], *parameters)"
   ]
  },
  {
   "cell_type": "code",
   "execution_count": 34,
   "id": "8f44e6d6",
   "metadata": {
    "ExecuteTime": {
     "end_time": "2022-02-26T08:33:11.334202Z",
     "start_time": "2022-02-26T08:33:10.253490Z"
    }
   },
   "outputs": [
    {
     "data": {
      "image/png": "[encoded data removed]",
      "text/plain": [
       "<Figure size 432x288 with 1 Axes>"
      ]
     },
     "metadata": {
      "needs_background": "light"
     },
     "output_type": "display_data"
    }
   ],
   "source": [
    "fig, axe = plt.subplots()\n",
    "axe.plot(df[\"t\"], df[\"xi\"], \".\", label=\"Experimental Data\")\n",
    "axe.plot(that, df[\"xi\"], \"-\", label=\"NLS Fit\")\n",
    "axe.set_title(\"Non Linear Least Squares (LMA)\")\n",
    "axe.set_xlabel(\"Time, $t$ $[\\mathrm{s}]$\")\n",
    "axe.set_ylabel(r\"Reaction Coordinate, $\\xi$ $[\\mathrm{mol}]$\")\n",
    "axe.legend()\n",
    "axe.grid()"
   ]
  },
  {
   "cell_type": "code",
   "execution_count": 35,
   "id": "a93a9b46",
   "metadata": {
    "ExecuteTime": {
     "end_time": "2022-02-26T08:33:11.379950Z",
     "start_time": "2022-02-26T08:33:11.348657Z"
    }
   },
   "outputs": [
    {
     "data": {
      "text/plain": [
       "{'k1': 0.04753607161313695,\n",
       " 'k2': 78.00558959396061,\n",
       " 'MSE': 220.70733391605376,\n",
       " 'r2': 0.9999526276968934}"
      ]
     },
     "execution_count": 35,
     "metadata": {},
     "output_type": "execute_result"
    }
   ],
   "source": [
    "results[\"LMA\"] = {\n",
    "    \"k1\": parameters[0], \"k2\": parameters[1],\n",
    "    \"MSE\": metrics.mean_squared_error(df[\"t\"], that),\n",
    "    \"r2\": metrics.r2_score(df[\"t\"], that)\n",
    "}\n",
    "results[\"LMA\"]"
   ]
  },
  {
   "cell_type": "markdown",
   "id": "4fb8154f",
   "metadata": {},
   "source": [
    "## LBP3"
   ]
  },
  {
   "cell_type": "code",
   "execution_count": 36,
   "id": "9a8f5f77",
   "metadata": {
    "ExecuteTime": {
     "end_time": "2022-02-26T08:33:11.471039Z",
     "start_time": "2022-02-26T08:33:11.401279Z"
    }
   },
   "outputs": [
    {
     "name": "stdout",
     "output_type": "stream",
     "text": [
      "0.9999769561903573\n"
     ]
    }
   ],
   "source": [
    "from sklearn.preprocessing import MinMaxScaler, PolynomialFeatures, FunctionTransformer\n",
    "from sklearn.compose import TransformedTargetRegressor\n",
    "from sklearn.linear_model import LinearRegression\n",
    "from sklearn.pipeline import Pipeline\n",
    "\n",
    "XP3 = df[\"t\"].values.reshape(-1, 1)\n",
    "yP3 = df[\"xi\"].values\n",
    "\n",
    "#XP3f = preprocessing.PolynomialFeatures(degree=4).fit_transform(XP3)\n",
    "#P3 = LinearRegression(fit_intercept=True).fit(XP3f, yP3)\n",
    "#P3.score(XP3f, yP3)\n",
    "\n",
    "pipe = Pipeline([\n",
    "    ('scaler', MinMaxScaler()),\n",
    "    ('polynomial', PolynomialFeatures(5)),\n",
    "    ('ols', TransformedTargetRegressor(\n",
    "        LinearRegression(fit_intercept=False), transformer=MinMaxScaler()\n",
    "    ))\n",
    "])\n",
    "\n",
    "pipe.fit(XP3, yP3)\n",
    "print(pipe.score(XP3, yP3))"
   ]
  },
  {
   "cell_type": "code",
   "execution_count": 37,
   "id": "fcf74af8",
   "metadata": {
    "ExecuteTime": {
     "end_time": "2022-02-26T08:33:11.500963Z",
     "start_time": "2022-02-26T08:33:11.476423Z"
    }
   },
   "outputs": [],
   "source": [
    "#yP3hat = P3.predict(XP3f)\n",
    "yP3hat = pipe.predict(XP3)\n",
    "dCdt = np.diff(yP3hat)/df[\"t\"].diff().values[1:]/V"
   ]
  },
  {
   "cell_type": "code",
   "execution_count": 38,
   "id": "86b0c785",
   "metadata": {
    "ExecuteTime": {
     "end_time": "2022-02-26T08:33:11.994673Z",
     "start_time": "2022-02-26T08:33:11.503459Z"
    }
   },
   "outputs": [
    {
     "data": {
      "image/png": "[encoded data removed]",
      "text/plain": [
       "<Figure size 432x288 with 1 Axes>"
      ]
     },
     "metadata": {
      "needs_background": "light"
     },
     "output_type": "display_data"
    }
   ],
   "source": [
    "fig, axe = plt.subplots()\n",
    "axe.plot(df[\"t\"], df[\"xi\"], \".\", label=\"Experimental Data\")\n",
    "axe.plot(XP3, yP3hat, \"-\", label=\"Polynomial OLS Fit\")\n",
    "axe.set_title(\"Polynomial Least Squares (quartic)\")\n",
    "axe.set_xlabel(\"Time, $t$ $[\\mathrm{s}]$\")\n",
    "axe.set_ylabel(r\"Reaction Coordinate, $\\xi$ $[\\mathrm{mol}]$\")\n",
    "axe.legend()\n",
    "axe.grid()"
   ]
  },
  {
   "cell_type": "code",
   "execution_count": null,
   "id": "d2251dab",
   "metadata": {
    "ExecuteTime": {
     "end_time": "2022-02-12T13:43:56.707712Z",
     "start_time": "2022-02-12T13:43:56.701771Z"
    }
   },
   "outputs": [],
   "source": []
  },
  {
   "cell_type": "code",
   "execution_count": 39,
   "id": "515db452",
   "metadata": {
    "ExecuteTime": {
     "end_time": "2022-02-26T08:33:12.020041Z",
     "start_time": "2022-02-26T08:33:11.998161Z"
    }
   },
   "outputs": [
    {
     "data": {
      "text/plain": [
       "0.9930182093647485"
      ]
     },
     "execution_count": 39,
     "metadata": {},
     "output_type": "execute_result"
    }
   ],
   "source": [
    "XLBP3 = df[\"B/A\"].values[1:].reshape(-1, 1)\n",
    "yLBP3 = 1/dCdt\n",
    "LBP3 = LinearRegression(fit_intercept=True).fit(XLBP3, yLBP3)\n",
    "LBP3.score(XLBP3, yLBP3)"
   ]
  },
  {
   "cell_type": "code",
   "execution_count": 40,
   "id": "c2f2991c",
   "metadata": {
    "ExecuteTime": {
     "end_time": "2022-02-26T08:33:12.037926Z",
     "start_time": "2022-02-26T08:33:12.023315Z"
    }
   },
   "outputs": [],
   "source": [
    "yLBP3hat = LBP3.predict(XLBP3)"
   ]
  },
  {
   "cell_type": "code",
   "execution_count": 41,
   "id": "27d7e6c2",
   "metadata": {
    "ExecuteTime": {
     "end_time": "2022-02-26T08:33:12.061576Z",
     "start_time": "2022-02-26T08:33:12.041757Z"
    }
   },
   "outputs": [
    {
     "data": {
      "text/plain": [
       "(0.047014034713483824, 75.45718580738651)"
      ]
     },
     "execution_count": 41,
     "metadata": {},
     "output_type": "execute_result"
    }
   ],
   "source": [
    "k1LBP3 = 1/LBP3.intercept_\n",
    "k2LBP3 = LBP3.coef_[0]*k1LBP3\n",
    "k1LBP3, k2LBP3"
   ]
  },
  {
   "cell_type": "code",
   "execution_count": null,
   "id": "04cb2ef4",
   "metadata": {},
   "outputs": [],
   "source": []
  },
  {
   "cell_type": "code",
   "execution_count": 42,
   "id": "dbf9d781",
   "metadata": {
    "ExecuteTime": {
     "end_time": "2022-02-26T08:33:12.571105Z",
     "start_time": "2022-02-26T08:33:12.064458Z"
    }
   },
   "outputs": [
    {
     "data": {
      "image/png": "[encoded data removed]",
      "text/plain": [
       "<Figure size 432x288 with 1 Axes>"
      ]
     },
     "metadata": {
      "needs_background": "light"
     },
     "output_type": "display_data"
    }
   ],
   "source": [
    "fig, axe = plt.subplots()\n",
    "axe.plot(XLBP3, yLBP3, \".\", label=\"Polynomial Fit Difference\")\n",
    "axe.plot(XLBP3, yLBP3hat, label=\"Polynomial Fit Difference OLS Fit\")\n",
    "#ylim = axe.get_ylim()\n",
    "#axe.plot(df[\"B/A\"], df[\"1/r1\"], \".\", color=\"lightgray\", label=\"First Difference\")\n",
    "#axe.plot(XLB, yLBhat, color=\"gray\", label=\"First Difference OLS Fit\")\n",
    "#axe.set_ylim(ylim)\n",
    "axe.set_title(\"Lineweaver Burk Least Squares\")\n",
    "axe.set_xlabel(r\"Concentration Ratio, $\\frac{\\xi}{n_0 - \\xi}$ $[-]$\")\n",
    "axe.set_ylabel(r\"Inverse Rate, $\\frac{1}{r}$ $[\\mathrm{m^3\\cdot s \\cdot mol^{-1}]}$\")\n",
    "axe.legend()\n",
    "axe.grid()"
   ]
  },
  {
   "cell_type": "code",
   "execution_count": 43,
   "id": "179c8d81",
   "metadata": {
    "ExecuteTime": {
     "end_time": "2022-02-26T08:33:12.595729Z",
     "start_time": "2022-02-26T08:33:12.575308Z"
    }
   },
   "outputs": [
    {
     "data": {
      "text/plain": [
       "{'k1': 0.047014034713483824,\n",
       " 'k2': 75.45718580738651,\n",
       " 'MSE': 0.42338121012283664,\n",
       " 'r2': 0.9930182093647485}"
      ]
     },
     "execution_count": 43,
     "metadata": {},
     "output_type": "execute_result"
    }
   ],
   "source": [
    "results[\"LBP3\"] = {\n",
    "    \"k1\": k1LBP3, \"k2\": k2LBP3,\n",
    "    \"MSE\": metrics.mean_squared_error(yLBP3, yLBP3hat),\n",
    "    \"r2\": metrics.r2_score(yLBP3, yLBP3hat)\n",
    "}\n",
    "results[\"LBP3\"]"
   ]
  },
  {
   "cell_type": "code",
   "execution_count": null,
   "id": "1c397a4a",
   "metadata": {},
   "outputs": [],
   "source": []
  },
  {
   "cell_type": "markdown",
   "id": "2d837248",
   "metadata": {},
   "source": [
    "# Smooth"
   ]
  },
  {
   "cell_type": "code",
   "execution_count": 44,
   "id": "f74f0cc1",
   "metadata": {
    "ExecuteTime": {
     "end_time": "2022-02-26T08:33:12.636713Z",
     "start_time": "2022-02-26T08:33:12.601234Z"
    }
   },
   "outputs": [],
   "source": [
    "r = df[[\"t\", \"xi\"]].set_index('t')\n",
    "r = r.reindex(range(r.index.max() + 1)).interpolate()\n",
    "r[\"xis\"] = signal.savgol_filter(r[\"xi\"], 181, 5)\n",
    "df[\"xis\"] = r.loc[df[\"t\"],\"xis\"].values"
   ]
  },
  {
   "cell_type": "code",
   "execution_count": 45,
   "id": "e1c3ab71",
   "metadata": {
    "ExecuteTime": {
     "end_time": "2022-02-26T08:33:12.667000Z",
     "start_time": "2022-02-26T08:33:12.642604Z"
    }
   },
   "outputs": [
    {
     "data": {
      "text/plain": [
       "0.9920825315351115"
      ]
     },
     "execution_count": 45,
     "metadata": {},
     "output_type": "execute_result"
    }
   ],
   "source": [
    "XLBS = df[\"B/A\"].values[1:].reshape(-1, 1)\n",
    "yLBS = V*np.diff(df[\"t\"])/np.diff(df[\"xis\"])\n",
    "LBS = LinearRegression(fit_intercept=True).fit(XLBS, yLBS)\n",
    "LBS.score(XLBP3, yLBP3)"
   ]
  },
  {
   "cell_type": "code",
   "execution_count": 46,
   "id": "7eddbb4c",
   "metadata": {
    "ExecuteTime": {
     "end_time": "2022-02-26T08:33:12.683375Z",
     "start_time": "2022-02-26T08:33:12.673090Z"
    }
   },
   "outputs": [],
   "source": [
    "yLBShat = LBS.predict(XLBS)"
   ]
  },
  {
   "cell_type": "code",
   "execution_count": 47,
   "id": "06fb131f",
   "metadata": {
    "ExecuteTime": {
     "end_time": "2022-02-26T08:33:12.703737Z",
     "start_time": "2022-02-26T08:33:12.689039Z"
    }
   },
   "outputs": [
    {
     "data": {
      "text/plain": [
       "(0.04700848211986208, 75.45718580738651)"
      ]
     },
     "execution_count": 47,
     "metadata": {},
     "output_type": "execute_result"
    }
   ],
   "source": [
    "k1LBS= 1/LBS.intercept_\n",
    "k2LBS= LBS.coef_[0]*k1LBS\n",
    "k1LBS, k2LBP3"
   ]
  },
  {
   "cell_type": "code",
   "execution_count": 48,
   "id": "c0955c47",
   "metadata": {
    "ExecuteTime": {
     "end_time": "2022-02-26T08:33:13.152289Z",
     "start_time": "2022-02-26T08:33:12.710089Z"
    }
   },
   "outputs": [
    {
     "data": {
      "image/png": "[encoded data removed]",
      "text/plain": [
       "<Figure size 432x288 with 1 Axes>"
      ]
     },
     "metadata": {
      "needs_background": "light"
     },
     "output_type": "display_data"
    }
   ],
   "source": [
    "fig, axe = plt.subplots()\n",
    "axe.plot(XLBS, yLBS, \".\", label=\"SavGol Fit Difference\")\n",
    "axe.plot(XLBS, yLBShat, label=\"SavGol Fit Difference OLS Fit\")\n",
    "axe.set_title(\"Lineweaver Burk Least Squares\")\n",
    "axe.set_xlabel(r\"Concentration Ratio, $\\frac{\\xi}{n_0 - \\xi}$ $[-]$\")\n",
    "axe.set_ylabel(r\"Inverse Rate, $\\frac{1}{r}$ $[\\mathrm{m^3\\cdot s \\cdot mol^{-1}]}$\")\n",
    "axe.legend()\n",
    "axe.grid()"
   ]
  },
  {
   "cell_type": "code",
   "execution_count": 49,
   "id": "e881ab1e",
   "metadata": {
    "ExecuteTime": {
     "end_time": "2022-02-26T08:33:13.181474Z",
     "start_time": "2022-02-26T08:33:13.157748Z"
    }
   },
   "outputs": [
    {
     "data": {
      "text/plain": [
       "{'k1': 0.04700848211986208,\n",
       " 'k2': 76.56199969885009,\n",
       " 'MSE': 26.59213696672604,\n",
       " 'r2': 0.6998645254963121}"
      ]
     },
     "execution_count": 49,
     "metadata": {},
     "output_type": "execute_result"
    }
   ],
   "source": [
    "results[\"LBS\"] = {\n",
    "    \"k1\": k1LBS, \"k2\": k2LBS,\n",
    "    \"MSE\": metrics.mean_squared_error(yLBS, yLBShat),\n",
    "    \"r2\": metrics.r2_score(yLBS, yLBShat)\n",
    "}\n",
    "results[\"LBS\"]"
   ]
  },
  {
   "cell_type": "markdown",
   "id": "ff514b5f",
   "metadata": {},
   "source": [
    "# LBMan"
   ]
  },
  {
   "cell_type": "code",
   "execution_count": 50,
   "id": "9e57cc37",
   "metadata": {
    "ExecuteTime": {
     "end_time": "2022-02-26T08:33:13.235635Z",
     "start_time": "2022-02-26T08:33:13.195880Z"
    }
   },
   "outputs": [],
   "source": [
    "df2 = pd.read_excel(\"cathet.xlsx\", sheet_name=\"Manual\")\n",
    "df2[\"keep\"] = True"
   ]
  },
  {
   "cell_type": "code",
   "execution_count": 51,
   "id": "8796a434",
   "metadata": {
    "ExecuteTime": {
     "end_time": "2022-02-26T08:33:13.261451Z",
     "start_time": "2022-02-26T08:33:13.243858Z"
    }
   },
   "outputs": [],
   "source": [
    "df2[\"1/v\"] *= V"
   ]
  },
  {
   "cell_type": "code",
   "execution_count": 52,
   "id": "af7917e5",
   "metadata": {
    "ExecuteTime": {
     "end_time": "2022-02-26T08:33:13.285411Z",
     "start_time": "2022-02-26T08:33:13.269738Z"
    }
   },
   "outputs": [],
   "source": [
    "df2.loc[0, \"1/v\"] = 22.45\n",
    "df2.loc[4, \"1/v\"] = 32.45"
   ]
  },
  {
   "cell_type": "code",
   "execution_count": 53,
   "id": "9fa1bf8e",
   "metadata": {
    "ExecuteTime": {
     "end_time": "2022-02-26T08:33:13.312793Z",
     "start_time": "2022-02-26T08:33:13.293401Z"
    }
   },
   "outputs": [],
   "source": [
    "df2.loc[0, \"keep\"] = False\n",
    "df2.loc[4, \"keep\"] = False"
   ]
  },
  {
   "cell_type": "code",
   "execution_count": 54,
   "id": "1682179c",
   "metadata": {
    "ExecuteTime": {
     "end_time": "2022-02-26T08:33:13.336957Z",
     "start_time": "2022-02-26T08:33:13.320967Z"
    }
   },
   "outputs": [],
   "source": [
    "#df2 = df2[df2[\"keep\"]]\n",
    "#df2"
   ]
  },
  {
   "cell_type": "code",
   "execution_count": 55,
   "id": "3b6adca1",
   "metadata": {
    "ExecuteTime": {
     "end_time": "2022-02-26T08:33:13.357214Z",
     "start_time": "2022-02-26T08:33:13.341131Z"
    }
   },
   "outputs": [],
   "source": [
    "df2[\"1/v\"] *= 1.1"
   ]
  },
  {
   "cell_type": "code",
   "execution_count": 56,
   "id": "b237033a",
   "metadata": {
    "ExecuteTime": {
     "end_time": "2022-02-26T08:33:13.392115Z",
     "start_time": "2022-02-26T08:33:13.361320Z"
    }
   },
   "outputs": [
    {
     "data": {
      "text/plain": [
       "0.984458468896565"
      ]
     },
     "execution_count": 56,
     "metadata": {},
     "output_type": "execute_result"
    }
   ],
   "source": [
    "XLBM = df2[\"bP/bR\"].values[:-1].reshape(-1, 1)\n",
    "yLBM = df2[\"1/v\"].values[:-1]\n",
    "LBM = LinearRegression(fit_intercept=True).fit(XLBM, yLBM)\n",
    "LBM.score(XLBM, yLBM)"
   ]
  },
  {
   "cell_type": "code",
   "execution_count": 57,
   "id": "59ddb307",
   "metadata": {
    "ExecuteTime": {
     "end_time": "2022-02-26T08:33:13.410038Z",
     "start_time": "2022-02-26T08:33:13.396160Z"
    }
   },
   "outputs": [],
   "source": [
    "yLBMhat = LBM.predict(XLBM)"
   ]
  },
  {
   "cell_type": "code",
   "execution_count": 58,
   "id": "489c7e79",
   "metadata": {
    "ExecuteTime": {
     "end_time": "2022-02-26T08:33:13.432848Z",
     "start_time": "2022-02-26T08:33:13.414242Z"
    }
   },
   "outputs": [
    {
     "data": {
      "text/plain": [
       "(0.047296065060717624, 73.76063697071173)"
      ]
     },
     "execution_count": 58,
     "metadata": {},
     "output_type": "execute_result"
    }
   ],
   "source": [
    "k1LBM = 1/LBM.intercept_\n",
    "k2LBM = LBM.coef_[0]*k1LBM\n",
    "k1LBM, k2LBM"
   ]
  },
  {
   "cell_type": "code",
   "execution_count": 59,
   "id": "6144f755",
   "metadata": {
    "ExecuteTime": {
     "end_time": "2022-02-26T08:33:13.979575Z",
     "start_time": "2022-02-26T08:33:13.443817Z"
    }
   },
   "outputs": [
    {
     "data": {
      "image/png": "[encoded data removed]",
      "text/plain": [
       "<Figure size 432x288 with 1 Axes>"
      ]
     },
     "metadata": {
      "needs_background": "light"
     },
     "output_type": "display_data"
    }
   ],
   "source": [
    "fig, axe = plt.subplots()\n",
    "axe.plot(XLBM, yLBM, \".\", label=\"Manual Slope Estimation\")\n",
    "axe.plot(XLBM, yLBMhat, label=\"Manual Slope Estimation OLS Fit\")\n",
    "axe.set_title(\"Lineweaver Burk Least Squares\")\n",
    "axe.set_xlabel(r\"Concentration Ratio, $\\frac{\\xi}{n_0 - \\xi}$ $[-]$\")\n",
    "axe.set_ylabel(r\"Inverse Rate, $\\frac{1}{r}$ $[\\mathrm{m^3\\cdot s \\cdot mol^{-1}]}$\")\n",
    "axe.legend()\n",
    "axe.grid()"
   ]
  },
  {
   "cell_type": "code",
   "execution_count": 60,
   "id": "1de014db",
   "metadata": {
    "ExecuteTime": {
     "end_time": "2022-02-26T08:33:13.995388Z",
     "start_time": "2022-02-26T08:33:13.983724Z"
    }
   },
   "outputs": [
    {
     "data": {
      "text/plain": [
       "{'k1': 0.047296065060717624,\n",
       " 'k2': 73.76063697071173,\n",
       " 'MSE': 0.7926235236812226,\n",
       " 'r2': 0.984458468896565}"
      ]
     },
     "execution_count": 60,
     "metadata": {},
     "output_type": "execute_result"
    }
   ],
   "source": [
    "results[\"LBM\"] = {\n",
    "    \"k1\": k1LBM, \"k2\": k2LBM,\n",
    "    \"MSE\": metrics.mean_squared_error(yLBM, yLBMhat),\n",
    "    \"r2\": metrics.r2_score(yLBM, yLBMhat)\n",
    "}\n",
    "results[\"LBM\"]"
   ]
  },
  {
   "cell_type": "code",
   "execution_count": null,
   "id": "34ea0a64",
   "metadata": {},
   "outputs": [],
   "source": []
  },
  {
   "cell_type": "code",
   "execution_count": 61,
   "id": "77985fa8",
   "metadata": {
    "ExecuteTime": {
     "end_time": "2022-02-26T08:33:14.645036Z",
     "start_time": "2022-02-26T08:33:13.999491Z"
    }
   },
   "outputs": [
    {
     "data": {
      "image/png": "[encoded data removed]",
      "text/plain": [
       "<Figure size 432x288 with 1 Axes>"
      ]
     },
     "metadata": {
      "needs_background": "light"
     },
     "output_type": "display_data"
    }
   ],
   "source": [
    "fig, axe = plt.subplots()\n",
    "axe.plot(df[\"B/A\"], df[\"1/r1\"], \".\", color=\"blue\", label=\"First Difference\")\n",
    "#axe.plot(XLB, yLBhat, color=\"blue\", label=\"First Difference OLS Fit\")\n",
    "axe.plot(XLBP3, yLBP3, \".\", color=\"orange\", label=\"Polynomial Fit Difference\")\n",
    "#axe.plot(XLBP3, yLBP3hat, color=\"darkorange\", label=\"Polynomial Fit Difference OLS Fit\")\n",
    "axe.plot(XLBM, yLBM, \".\", color=\"red\", label=\"Manual Slope Estimation\")\n",
    "#axe.plot(XLBM, yLBMhat, color=\"green\", label=\"Manual Slope Estimation OLS Fit\")\n",
    "axe.plot(XLBS, yLBS, \".\", color=\"green\", label=\"SavGol Fit Difference\")\n",
    "#axe.set_ylim([20, 50])\n",
    "axe.set_title(\"Lineweaver Burk\")\n",
    "axe.set_xlabel(r\"Concentration Ratio, $\\frac{\\xi}{n_0 - \\xi}$ $[-]$\")\n",
    "axe.set_ylabel(r\"Inverse Rate, $\\frac{1}{r}$ $[\\mathrm{m^3\\cdot s \\cdot mol^{-1}]}$\")\n",
    "axe.legend() # bbox_to_anchor=(1,1))\n",
    "axe.grid()"
   ]
  },
  {
   "cell_type": "markdown",
   "id": "e4150882",
   "metadata": {},
   "source": [
    "## Analysis"
   ]
  },
  {
   "cell_type": "code",
   "execution_count": 62,
   "id": "027cbaa5",
   "metadata": {
    "ExecuteTime": {
     "end_time": "2022-02-26T08:33:14.672597Z",
     "start_time": "2022-02-26T08:33:14.649366Z"
    }
   },
   "outputs": [
    {
     "data": {
      "text/html": [
       "<div>\n",
       "<style scoped>\n",
       "    .dataframe tbody tr th:only-of-type {\n",
       "        vertical-align: middle;\n",
       "    }\n",
       "\n",
       "    .dataframe tbody tr th {\n",
       "        vertical-align: top;\n",
       "    }\n",
       "\n",
       "    .dataframe thead th {\n",
       "        text-align: right;\n",
       "    }\n",
       "</style>\n",
       "<table border=\"1\" class=\"dataframe\">\n",
       "  <thead>\n",
       "    <tr style=\"text-align: right;\">\n",
       "      <th></th>\n",
       "      <th>k1</th>\n",
       "      <th>k2</th>\n",
       "      <th>MSE</th>\n",
       "      <th>r2</th>\n",
       "    </tr>\n",
       "  </thead>\n",
       "  <tbody>\n",
       "    <tr>\n",
       "      <th>OLS</th>\n",
       "      <td>0.047536</td>\n",
       "      <td>78.005591</td>\n",
       "      <td>220.707334</td>\n",
       "      <td>0.999953</td>\n",
       "    </tr>\n",
       "    <tr>\n",
       "      <th>LB</th>\n",
       "      <td>0.047019</td>\n",
       "      <td>78.245130</td>\n",
       "      <td>49.817143</td>\n",
       "      <td>0.565121</td>\n",
       "    </tr>\n",
       "    <tr>\n",
       "      <th>LMA</th>\n",
       "      <td>0.047536</td>\n",
       "      <td>78.005590</td>\n",
       "      <td>220.707334</td>\n",
       "      <td>0.999953</td>\n",
       "    </tr>\n",
       "    <tr>\n",
       "      <th>LBP3</th>\n",
       "      <td>0.047014</td>\n",
       "      <td>75.457186</td>\n",
       "      <td>0.423381</td>\n",
       "      <td>0.993018</td>\n",
       "    </tr>\n",
       "    <tr>\n",
       "      <th>LBS</th>\n",
       "      <td>0.047008</td>\n",
       "      <td>76.562000</td>\n",
       "      <td>26.592137</td>\n",
       "      <td>0.699865</td>\n",
       "    </tr>\n",
       "    <tr>\n",
       "      <th>LBM</th>\n",
       "      <td>0.047296</td>\n",
       "      <td>73.760637</td>\n",
       "      <td>0.792624</td>\n",
       "      <td>0.984458</td>\n",
       "    </tr>\n",
       "  </tbody>\n",
       "</table>\n",
       "</div>"
      ],
      "text/plain": [
       "            k1         k2         MSE        r2\n",
       "OLS   0.047536  78.005591  220.707334  0.999953\n",
       "LB    0.047019  78.245130   49.817143  0.565121\n",
       "LMA   0.047536  78.005590  220.707334  0.999953\n",
       "LBP3  0.047014  75.457186    0.423381  0.993018\n",
       "LBS   0.047008  76.562000   26.592137  0.699865\n",
       "LBM   0.047296  73.760637    0.792624  0.984458"
      ]
     },
     "execution_count": 62,
     "metadata": {},
     "output_type": "execute_result"
    }
   ],
   "source": [
    "final = pd.DataFrame(results).T\n",
    "final"
   ]
  },
  {
   "cell_type": "code",
   "execution_count": 63,
   "id": "2122d175",
   "metadata": {
    "ExecuteTime": {
     "end_time": "2022-02-26T08:33:14.684182Z",
     "start_time": "2022-02-26T08:33:14.676897Z"
    }
   },
   "outputs": [],
   "source": [
    "def regmse(x):\n",
    "    that = objective(df[\"xi\"], x[\"k1\"], x[\"k2\"])\n",
    "    mse = metrics.mean_squared_error(df[\"t\"], that)\n",
    "    score = metrics.r2_score(df[\"t\"], that)\n",
    "    return pd.Series({\"Fit MSE\": mse, \"Fit Score\": score})"
   ]
  },
  {
   "cell_type": "code",
   "execution_count": 64,
   "id": "4cd041d9",
   "metadata": {
    "ExecuteTime": {
     "end_time": "2022-02-26T08:33:14.731828Z",
     "start_time": "2022-02-26T08:33:14.688645Z"
    }
   },
   "outputs": [],
   "source": [
    "final = pd.concat([final, final.apply(regmse, axis=1)], axis=1)"
   ]
  },
  {
   "cell_type": "code",
   "execution_count": 65,
   "id": "a73d5eeb",
   "metadata": {
    "ExecuteTime": {
     "end_time": "2022-02-26T08:33:14.748665Z",
     "start_time": "2022-02-26T08:33:14.734288Z"
    }
   },
   "outputs": [
    {
     "data": {
      "text/html": [
       "<div>\n",
       "<style scoped>\n",
       "    .dataframe tbody tr th:only-of-type {\n",
       "        vertical-align: middle;\n",
       "    }\n",
       "\n",
       "    .dataframe tbody tr th {\n",
       "        vertical-align: top;\n",
       "    }\n",
       "\n",
       "    .dataframe thead th {\n",
       "        text-align: right;\n",
       "    }\n",
       "</style>\n",
       "<table border=\"1\" class=\"dataframe\">\n",
       "  <thead>\n",
       "    <tr style=\"text-align: right;\">\n",
       "      <th></th>\n",
       "      <th>k1</th>\n",
       "      <th>k2</th>\n",
       "      <th>MSE</th>\n",
       "      <th>r2</th>\n",
       "      <th>Fit MSE</th>\n",
       "      <th>Fit Score</th>\n",
       "    </tr>\n",
       "  </thead>\n",
       "  <tbody>\n",
       "    <tr>\n",
       "      <th>OLS</th>\n",
       "      <td>0.047536</td>\n",
       "      <td>78.005591</td>\n",
       "      <td>220.707334</td>\n",
       "      <td>0.999953</td>\n",
       "      <td>220.707334</td>\n",
       "      <td>0.999953</td>\n",
       "    </tr>\n",
       "    <tr>\n",
       "      <th>LB</th>\n",
       "      <td>0.047019</td>\n",
       "      <td>78.245130</td>\n",
       "      <td>49.817143</td>\n",
       "      <td>0.565121</td>\n",
       "      <td>2554.580075</td>\n",
       "      <td>0.999452</td>\n",
       "    </tr>\n",
       "    <tr>\n",
       "      <th>LMA</th>\n",
       "      <td>0.047536</td>\n",
       "      <td>78.005590</td>\n",
       "      <td>220.707334</td>\n",
       "      <td>0.999953</td>\n",
       "      <td>220.707334</td>\n",
       "      <td>0.999953</td>\n",
       "    </tr>\n",
       "    <tr>\n",
       "      <th>LBP3</th>\n",
       "      <td>0.047014</td>\n",
       "      <td>75.457186</td>\n",
       "      <td>0.423381</td>\n",
       "      <td>0.993018</td>\n",
       "      <td>265.317843</td>\n",
       "      <td>0.999943</td>\n",
       "    </tr>\n",
       "    <tr>\n",
       "      <th>LBS</th>\n",
       "      <td>0.047008</td>\n",
       "      <td>76.562000</td>\n",
       "      <td>26.592137</td>\n",
       "      <td>0.699865</td>\n",
       "      <td>641.381454</td>\n",
       "      <td>0.999862</td>\n",
       "    </tr>\n",
       "    <tr>\n",
       "      <th>LBM</th>\n",
       "      <td>0.047296</td>\n",
       "      <td>73.760637</td>\n",
       "      <td>0.792624</td>\n",
       "      <td>0.984458</td>\n",
       "      <td>3083.989339</td>\n",
       "      <td>0.999338</td>\n",
       "    </tr>\n",
       "  </tbody>\n",
       "</table>\n",
       "</div>"
      ],
      "text/plain": [
       "            k1         k2         MSE        r2      Fit MSE  Fit Score\n",
       "OLS   0.047536  78.005591  220.707334  0.999953   220.707334   0.999953\n",
       "LB    0.047019  78.245130   49.817143  0.565121  2554.580075   0.999452\n",
       "LMA   0.047536  78.005590  220.707334  0.999953   220.707334   0.999953\n",
       "LBP3  0.047014  75.457186    0.423381  0.993018   265.317843   0.999943\n",
       "LBS   0.047008  76.562000   26.592137  0.699865   641.381454   0.999862\n",
       "LBM   0.047296  73.760637    0.792624  0.984458  3083.989339   0.999338"
      ]
     },
     "execution_count": 65,
     "metadata": {},
     "output_type": "execute_result"
    }
   ],
   "source": [
    "final"
   ]
  },
  {
   "cell_type": "code",
   "execution_count": 66,
   "id": "443a9da0",
   "metadata": {
    "ExecuteTime": {
     "end_time": "2022-02-26T08:33:14.754950Z",
     "start_time": "2022-02-26T08:33:14.751560Z"
    }
   },
   "outputs": [],
   "source": [
    "#print(final[[\"k1\", \"k2\", \"Fit MSE\", \"Fit Score\"]].to_html())"
   ]
  },
  {
   "cell_type": "code",
   "execution_count": 67,
   "id": "77fcdc1c",
   "metadata": {
    "ExecuteTime": {
     "end_time": "2022-02-26T08:33:15.494025Z",
     "start_time": "2022-02-26T08:33:14.760399Z"
    }
   },
   "outputs": [
    {
     "data": {
      "image/png": "[encoded data removed]",
      "text/plain": [
       "<Figure size 432x288 with 1 Axes>"
      ]
     },
     "metadata": {
      "needs_background": "light"
     },
     "output_type": "display_data"
    }
   ],
   "source": [
    "fig, axe = plt.subplots()\n",
    "for x in final.reset_index().to_dict(orient=\"records\"):\n",
    "    that = objective(df[\"xi\"], x[\"k1\"], x[\"k2\"])\n",
    "    (that - df[\"t\"]).plot(kind=\"kde\", ax=axe, label=x[\"index\"])\n",
    "    df[x[\"index\"]] = that\n",
    "axe.set_title(\"Fit Error Distribution Estimate\")\n",
    "axe.set_xlabel(r\"Time Error, $e = t - \\hat{t}$ $[\\mathrm{s}]$\")\n",
    "axe.set_ylabel(r\"KDE, $\\tilde{f}(e)$ $[\\mathrm{s^{-1}}]$\")\n",
    "axe.legend()\n",
    "axe.grid()"
   ]
  },
  {
   "cell_type": "code",
   "execution_count": 68,
   "id": "4c6f79d1",
   "metadata": {
    "ExecuteTime": {
     "end_time": "2022-02-26T08:33:15.514840Z",
     "start_time": "2022-02-26T08:33:15.508369Z"
    }
   },
   "outputs": [],
   "source": [
    "def factory(xs, ys):\n",
    "    @np.vectorize\n",
    "    def wrapper(k1, k2):\n",
    "        that = objective(xs, k1, k2)\n",
    "        mse = metrics.mean_squared_error(ys, that)\n",
    "        return mse\n",
    "    return wrapper"
   ]
  },
  {
   "cell_type": "code",
   "execution_count": 69,
   "id": "f4b82dc3",
   "metadata": {
    "ExecuteTime": {
     "end_time": "2022-02-26T08:33:15.526606Z",
     "start_time": "2022-02-26T08:33:15.521751Z"
    }
   },
   "outputs": [],
   "source": [
    "scoring = factory(df[\"xi\"], df[\"t\"])"
   ]
  },
  {
   "cell_type": "code",
   "execution_count": null,
   "id": "31063e6f",
   "metadata": {
    "ExecuteTime": {
     "end_time": "2022-02-12T13:50:30.366793Z",
     "start_time": "2022-02-12T13:50:30.351341Z"
    }
   },
   "outputs": [],
   "source": []
  },
  {
   "cell_type": "code",
   "execution_count": 70,
   "id": "2c6ccd31",
   "metadata": {
    "ExecuteTime": {
     "end_time": "2022-02-26T08:33:15.534316Z",
     "start_time": "2022-02-26T08:33:15.529231Z"
    }
   },
   "outputs": [],
   "source": [
    "k1l = np.linspace(4.0e-2, 5.5e-2, 10)\n",
    "k2l = np.linspace(70, 90, 10)"
   ]
  },
  {
   "cell_type": "code",
   "execution_count": 71,
   "id": "b9d14074",
   "metadata": {
    "ExecuteTime": {
     "end_time": "2022-02-26T08:33:15.542183Z",
     "start_time": "2022-02-26T08:33:15.536990Z"
    }
   },
   "outputs": [],
   "source": [
    "K1, K2 = np.meshgrid(k1l, k2l)"
   ]
  },
  {
   "cell_type": "code",
   "execution_count": 72,
   "id": "fa33227f",
   "metadata": {
    "ExecuteTime": {
     "end_time": "2022-02-26T08:33:15.729573Z",
     "start_time": "2022-02-26T08:33:15.546125Z"
    }
   },
   "outputs": [],
   "source": [
    "MSE = scoring(K1, K2)"
   ]
  },
  {
   "cell_type": "code",
   "execution_count": 73,
   "id": "692bcb3a",
   "metadata": {
    "ExecuteTime": {
     "end_time": "2022-02-26T08:33:16.396611Z",
     "start_time": "2022-02-26T08:33:15.732350Z"
    }
   },
   "outputs": [
    {
     "data": {
      "image/png": "[encoded data removed]",
      "text/plain": [
       "<Figure size 432x288 with 1 Axes>"
      ]
     },
     "metadata": {
      "needs_background": "light"
     },
     "output_type": "display_data"
    }
   ],
   "source": [
    "fig, axe = plt.subplots()\n",
    "axe.contour(K1, K2, np.log10(MSE), np.arange(1, 8, 0.33), cmap=\"jet\")\n",
    "for exp in final.reset_index().to_dict(orient=\"records\"):\n",
    "    axe.plot(exp[\"k1\"], exp[\"k2\"], \".\", markersize=12, label=exp[\"index\"])\n",
    "#axe.set_xscale(\"log\")\n",
    "#axe.set_yscale(\"log\")\n",
    "axe.set_title(\"Mean Squared Error\")\n",
    "axe.set_xlabel(r\"Kinetic Constant, $k_1$ $[\\mathrm{m^3\\cdot s \\cdot mol^{-1}]}$\")\n",
    "axe.set_ylabel(r\"Partition Constant, $k_2$ $[-]$\")\n",
    "axe.legend(bbox_to_anchor=(1, 1))\n",
    "axe.grid()"
   ]
  },
  {
   "cell_type": "code",
   "execution_count": null,
   "id": "65b37922",
   "metadata": {},
   "outputs": [],
   "source": []
  },
  {
   "cell_type": "code",
   "execution_count": 74,
   "id": "eeea0134",
   "metadata": {
    "ExecuteTime": {
     "end_time": "2022-02-26T08:33:16.457310Z",
     "start_time": "2022-02-26T08:33:16.401782Z"
    }
   },
   "outputs": [
    {
     "data": {
      "text/html": [
       "<div>\n",
       "<style scoped>\n",
       "    .dataframe tbody tr th:only-of-type {\n",
       "        vertical-align: middle;\n",
       "    }\n",
       "\n",
       "    .dataframe tbody tr th {\n",
       "        vertical-align: top;\n",
       "    }\n",
       "\n",
       "    .dataframe thead th {\n",
       "        text-align: right;\n",
       "    }\n",
       "</style>\n",
       "<table border=\"1\" class=\"dataframe\">\n",
       "  <thead>\n",
       "    <tr style=\"text-align: right;\">\n",
       "      <th></th>\n",
       "      <th>t</th>\n",
       "      <th>V</th>\n",
       "      <th>xi</th>\n",
       "      <th>B/A</th>\n",
       "      <th>x1</th>\n",
       "      <th>x2</th>\n",
       "      <th>dxidt1</th>\n",
       "      <th>1/r1</th>\n",
       "      <th>xis</th>\n",
       "      <th>OLS</th>\n",
       "      <th>LB</th>\n",
       "      <th>LMA</th>\n",
       "      <th>LBP3</th>\n",
       "      <th>LBS</th>\n",
       "      <th>LBM</th>\n",
       "    </tr>\n",
       "  </thead>\n",
       "  <tbody>\n",
       "    <tr>\n",
       "      <th>2</th>\n",
       "      <td>0</td>\n",
       "      <td>0.000000</td>\n",
       "      <td>0.000000</td>\n",
       "      <td>0.000000</td>\n",
       "      <td>0.000000</td>\n",
       "      <td>-0.000000</td>\n",
       "      <td>NaN</td>\n",
       "      <td>NaN</td>\n",
       "      <td>5.091380e-07</td>\n",
       "      <td>-0.000000</td>\n",
       "      <td>-0.000000</td>\n",
       "      <td>-0.000000</td>\n",
       "      <td>-0.000000</td>\n",
       "      <td>-0.000000</td>\n",
       "      <td>-0.000000</td>\n",
       "    </tr>\n",
       "    <tr>\n",
       "      <th>3</th>\n",
       "      <td>39</td>\n",
       "      <td>0.000008</td>\n",
       "      <td>0.000339</td>\n",
       "      <td>0.000137</td>\n",
       "      <td>1.783749</td>\n",
       "      <td>1.783871</td>\n",
       "      <td>0.000009</td>\n",
       "      <td>21.864063</td>\n",
       "      <td>3.384943e-04</td>\n",
       "      <td>37.724000</td>\n",
       "      <td>38.139834</td>\n",
       "      <td>37.724000</td>\n",
       "      <td>38.136279</td>\n",
       "      <td>38.143647</td>\n",
       "      <td>37.904500</td>\n",
       "    </tr>\n",
       "    <tr>\n",
       "      <th>4</th>\n",
       "      <td>131</td>\n",
       "      <td>0.000027</td>\n",
       "      <td>0.001126</td>\n",
       "      <td>0.000454</td>\n",
       "      <td>5.923808</td>\n",
       "      <td>5.925152</td>\n",
       "      <td>0.000009</td>\n",
       "      <td>22.221904</td>\n",
       "      <td>1.128021e-03</td>\n",
       "      <td>126.822127</td>\n",
       "      <td>128.224854</td>\n",
       "      <td>126.822128</td>\n",
       "      <td>128.157506</td>\n",
       "      <td>128.204224</td>\n",
       "      <td>127.345092</td>\n",
       "    </tr>\n",
       "    <tr>\n",
       "      <th>5</th>\n",
       "      <td>184</td>\n",
       "      <td>0.000038</td>\n",
       "      <td>0.001603</td>\n",
       "      <td>0.000646</td>\n",
       "      <td>8.434270</td>\n",
       "      <td>8.436994</td>\n",
       "      <td>0.000009</td>\n",
       "      <td>21.111656</td>\n",
       "      <td>1.596956e-03</td>\n",
       "      <td>181.899364</td>\n",
       "      <td>183.915338</td>\n",
       "      <td>181.899365</td>\n",
       "      <td>183.771477</td>\n",
       "      <td>183.857212</td>\n",
       "      <td>182.577910</td>\n",
       "    </tr>\n",
       "    <tr>\n",
       "      <th>6</th>\n",
       "      <td>214</td>\n",
       "      <td>0.000044</td>\n",
       "      <td>0.001845</td>\n",
       "      <td>0.000744</td>\n",
       "      <td>9.711522</td>\n",
       "      <td>9.715134</td>\n",
       "      <td>0.000008</td>\n",
       "      <td>23.487920</td>\n",
       "      <td>1.844197e-03</td>\n",
       "      <td>210.225391</td>\n",
       "      <td>212.557661</td>\n",
       "      <td>210.225392</td>\n",
       "      <td>212.363907</td>\n",
       "      <td>212.473885</td>\n",
       "      <td>210.967993</td>\n",
       "    </tr>\n",
       "    <tr>\n",
       "      <th>...</th>\n",
       "      <td>...</td>\n",
       "      <td>...</td>\n",
       "      <td>...</td>\n",
       "      <td>...</td>\n",
       "      <td>...</td>\n",
       "      <td>...</td>\n",
       "      <td>...</td>\n",
       "      <td>...</td>\n",
       "      <td>...</td>\n",
       "      <td>...</td>\n",
       "      <td>...</td>\n",
       "      <td>...</td>\n",
       "      <td>...</td>\n",
       "      <td>...</td>\n",
       "      <td>...</td>\n",
       "    </tr>\n",
       "    <tr>\n",
       "      <th>113</th>\n",
       "      <td>6938</td>\n",
       "      <td>0.000927</td>\n",
       "      <td>0.038791</td>\n",
       "      <td>0.015879</td>\n",
       "      <td>204.162179</td>\n",
       "      <td>205.774609</td>\n",
       "      <td>0.000004</td>\n",
       "      <td>44.353932</td>\n",
       "      <td>3.879075e-02</td>\n",
       "      <td>6940.848897</td>\n",
       "      <td>7025.458676</td>\n",
       "      <td>6940.848890</td>\n",
       "      <td>6930.517037</td>\n",
       "      <td>6969.231684</td>\n",
       "      <td>6831.350617</td>\n",
       "    </tr>\n",
       "    <tr>\n",
       "      <th>114</th>\n",
       "      <td>7088</td>\n",
       "      <td>0.000943</td>\n",
       "      <td>0.039439</td>\n",
       "      <td>0.016149</td>\n",
       "      <td>207.575526</td>\n",
       "      <td>209.242616</td>\n",
       "      <td>0.000004</td>\n",
       "      <td>43.945140</td>\n",
       "      <td>3.943753e-02</td>\n",
       "      <td>7102.351334</td>\n",
       "      <td>7189.017179</td>\n",
       "      <td>7102.351327</td>\n",
       "      <td>7090.849877</td>\n",
       "      <td>7130.868124</td>\n",
       "      <td>6988.766652</td>\n",
       "    </tr>\n",
       "    <tr>\n",
       "      <th>115</th>\n",
       "      <td>7272</td>\n",
       "      <td>0.000960</td>\n",
       "      <td>0.040172</td>\n",
       "      <td>0.016453</td>\n",
       "      <td>211.429304</td>\n",
       "      <td>213.159215</td>\n",
       "      <td>0.000004</td>\n",
       "      <td>47.745348</td>\n",
       "      <td>4.018077e-02</td>\n",
       "      <td>7286.509361</td>\n",
       "      <td>7375.522204</td>\n",
       "      <td>7286.509353</td>\n",
       "      <td>7273.647557</td>\n",
       "      <td>7315.163837</td>\n",
       "      <td>7168.220862</td>\n",
       "    </tr>\n",
       "    <tr>\n",
       "      <th>116</th>\n",
       "      <td>7300</td>\n",
       "      <td>0.000964</td>\n",
       "      <td>0.040314</td>\n",
       "      <td>0.016513</td>\n",
       "      <td>212.178039</td>\n",
       "      <td>213.920291</td>\n",
       "      <td>0.000005</td>\n",
       "      <td>37.396452</td>\n",
       "      <td>4.030296e-02</td>\n",
       "      <td>7322.512252</td>\n",
       "      <td>7411.984239</td>\n",
       "      <td>7322.512244</td>\n",
       "      <td>7309.381248</td>\n",
       "      <td>7351.191803</td>\n",
       "      <td>7203.298773</td>\n",
       "    </tr>\n",
       "    <tr>\n",
       "      <th>117</th>\n",
       "      <td>7359</td>\n",
       "      <td>0.000968</td>\n",
       "      <td>0.040498</td>\n",
       "      <td>0.016589</td>\n",
       "      <td>213.146989</td>\n",
       "      <td>214.905278</td>\n",
       "      <td>0.000003</td>\n",
       "      <td>60.890652</td>\n",
       "      <td>4.049587e-02</td>\n",
       "      <td>7369.212261</td>\n",
       "      <td>7459.279958</td>\n",
       "      <td>7369.212252</td>\n",
       "      <td>7355.730512</td>\n",
       "      <td>7397.923452</td>\n",
       "      <td>7248.796387</td>\n",
       "    </tr>\n",
       "  </tbody>\n",
       "</table>\n",
       "<p>116 rows × 15 columns</p>\n",
       "</div>"
      ],
      "text/plain": [
       "        t         V        xi       B/A          x1          x2    dxidt1  \\\n",
       "2       0  0.000000  0.000000  0.000000    0.000000   -0.000000       NaN   \n",
       "3      39  0.000008  0.000339  0.000137    1.783749    1.783871  0.000009   \n",
       "4     131  0.000027  0.001126  0.000454    5.923808    5.925152  0.000009   \n",
       "5     184  0.000038  0.001603  0.000646    8.434270    8.436994  0.000009   \n",
       "6     214  0.000044  0.001845  0.000744    9.711522    9.715134  0.000008   \n",
       "..    ...       ...       ...       ...         ...         ...       ...   \n",
       "113  6938  0.000927  0.038791  0.015879  204.162179  205.774609  0.000004   \n",
       "114  7088  0.000943  0.039439  0.016149  207.575526  209.242616  0.000004   \n",
       "115  7272  0.000960  0.040172  0.016453  211.429304  213.159215  0.000004   \n",
       "116  7300  0.000964  0.040314  0.016513  212.178039  213.920291  0.000005   \n",
       "117  7359  0.000968  0.040498  0.016589  213.146989  214.905278  0.000003   \n",
       "\n",
       "          1/r1           xis          OLS           LB          LMA  \\\n",
       "2          NaN  5.091380e-07    -0.000000    -0.000000    -0.000000   \n",
       "3    21.864063  3.384943e-04    37.724000    38.139834    37.724000   \n",
       "4    22.221904  1.128021e-03   126.822127   128.224854   126.822128   \n",
       "5    21.111656  1.596956e-03   181.899364   183.915338   181.899365   \n",
       "6    23.487920  1.844197e-03   210.225391   212.557661   210.225392   \n",
       "..         ...           ...          ...          ...          ...   \n",
       "113  44.353932  3.879075e-02  6940.848897  7025.458676  6940.848890   \n",
       "114  43.945140  3.943753e-02  7102.351334  7189.017179  7102.351327   \n",
       "115  47.745348  4.018077e-02  7286.509361  7375.522204  7286.509353   \n",
       "116  37.396452  4.030296e-02  7322.512252  7411.984239  7322.512244   \n",
       "117  60.890652  4.049587e-02  7369.212261  7459.279958  7369.212252   \n",
       "\n",
       "            LBP3          LBS          LBM  \n",
       "2      -0.000000    -0.000000    -0.000000  \n",
       "3      38.136279    38.143647    37.904500  \n",
       "4     128.157506   128.204224   127.345092  \n",
       "5     183.771477   183.857212   182.577910  \n",
       "6     212.363907   212.473885   210.967993  \n",
       "..           ...          ...          ...  \n",
       "113  6930.517037  6969.231684  6831.350617  \n",
       "114  7090.849877  7130.868124  6988.766652  \n",
       "115  7273.647557  7315.163837  7168.220862  \n",
       "116  7309.381248  7351.191803  7203.298773  \n",
       "117  7355.730512  7397.923452  7248.796387  \n",
       "\n",
       "[116 rows x 15 columns]"
      ]
     },
     "execution_count": 74,
     "metadata": {},
     "output_type": "execute_result"
    }
   ],
   "source": [
    "df"
   ]
  },
  {
   "cell_type": "code",
   "execution_count": 75,
   "id": "a4aadb88",
   "metadata": {
    "ExecuteTime": {
     "end_time": "2022-02-26T08:33:16.814549Z",
     "start_time": "2022-02-26T08:33:16.462731Z"
    }
   },
   "outputs": [
    {
     "data": {
      "text/plain": [
       "<AxesSubplot:ylabel='Density'>"
      ]
     },
     "execution_count": 75,
     "metadata": {},
     "output_type": "execute_result"
    },
    {
     "data": {
      "image/png": "[encoded data removed]",
      "text/plain": [
       "<Figure size 432x288 with 1 Axes>"
      ]
     },
     "metadata": {
      "needs_background": "light"
     },
     "output_type": "display_data"
    }
   ],
   "source": [
    "sample = df[df[\"t\"]<1500]\n",
    "(sample[\"t\"] - sample[\"LMA\"]).plot(kind=\"kde\")"
   ]
  },
  {
   "cell_type": "code",
   "execution_count": null,
   "id": "02974996",
   "metadata": {},
   "outputs": [],
   "source": []
  },
  {
   "cell_type": "code",
   "execution_count": null,
   "id": "a11dfac6",
   "metadata": {},
   "outputs": [],
   "source": []
  }
 ],
 "metadata": {
  "hide_input": false,
  "kernelspec": {
   "display_name": "Python 3",
   "language": "python",
   "name": "python3"
  },
  "language_info": {
   "codemirror_mode": {
    "name": "ipython",
    "version": 3
   },
   "file_extension": ".py",
   "mimetype": "text/x-python",
   "name": "python",
   "nbconvert_exporter": "python",
   "pygments_lexer": "ipython3",
   "version": "3.6.9"
  },
  "toc": {
   "base_numbering": 1,
   "nav_menu": {},
   "number_sections": true,
   "sideBar": true,
   "skip_h1_title": false,
   "title_cell": "Table of Contents",
   "title_sidebar": "Contents",
   "toc_cell": false,
   "toc_position": {},
   "toc_section_display": true,
   "toc_window_display": false
  },
  "varInspector": {
   "cols": {
    "lenName": 16,
    "lenType": 16,
    "lenVar": 40
   },
   "kernels_config": {
    "python": {
     "delete_cmd_postfix": "",
     "delete_cmd_prefix": "del ",
     "library": "var_list.py",
     "varRefreshCmd": "print(var_dic_list())"
    },
    "r": {
     "delete_cmd_postfix": ") ",
     "delete_cmd_prefix": "rm(",
     "library": "var_list.r",
     "varRefreshCmd": "cat(var_dic_list()) "
    }
   },
   "types_to_exclude": [
    "module",
    "function",
    "builtin_function_or_method",
    "instance",
    "_Feature"
   ],
   "window_display": false
  }
 },
 "nbformat": 4,
 "nbformat_minor": 5
}
