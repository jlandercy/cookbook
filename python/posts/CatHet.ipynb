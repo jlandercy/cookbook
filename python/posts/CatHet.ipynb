{
 "cells": [
  {
   "cell_type": "code",
   "execution_count": 1,
   "id": "108ba851",
   "metadata": {
    "ExecuteTime": {
     "end_time": "2022-02-14T07:59:07.564287Z",
     "start_time": "2022-02-14T07:59:05.631530Z"
    }
   },
   "outputs": [],
   "source": [
    "import numpy as np\n",
    "import pandas as pd\n",
    "import matplotlib.pyplot as plt\n",
    "\n",
    "from scipy import optimize, signal\n",
    "from sklearn import metrics\n",
    "from sklearn.linear_model import LinearRegression"
   ]
  },
  {
   "cell_type": "markdown",
   "id": "c59b3c9f",
   "metadata": {},
   "source": [
    "$$\\mathrm{A \\underset{Ni}{\\overset{k_1}{\\longrightarrow}} B + C}$$\n",
    "\n",
    "$$r = k_1 \\theta_A = k_1\\frac{aA}{1 + aA + bB + cC}$$\n",
    "\n",
    "$$r = \\frac{1}{V}\\frac{\\mathrm{d}\\xi}{\\mathrm{d}t} \\simeq k_1\\frac{aA}{aA + bB} = k\\frac{a(n_0 - \\xi)}{a(n_0 - \\xi) + b\\xi}$$\n",
    "\n",
    "$$\\int\\limits_0^\\xi\\left(1 + \\frac{b\\xi}{a(n_0-\\xi)}\\right)\\mathrm{d}\\xi = \\int\\limits_0^t k_1V\\mathrm{d}t$$\n",
    "\n",
    "$$\\left(1 - \\frac{b}{a}\\right)\\xi - n_0\\frac{b}{a}\\ln\\left|\\frac{n_0 - \\xi}{n_0}\\right| = k_1Vt$$\n",
    "\n",
    "$$ t(\\xi) = \\frac{1}{k_1}(1-k_2) \\frac{\\xi}{V} + \\frac{k_2}{k_1}\\left(-\\frac{n_0}{V}\\right)\\ln\\left|\\frac{n_0 - \\xi}{n_0}\\right| = c_1 x_1(\\xi) + c_2 x_2(\\xi)$$\n",
    "\n",
    "$$k_1 = \\frac{1}{c_1 + c_2} \\,,\\quad k_2 = \\frac{c_2}{c_1 + c_2}$$\n",
    "\n",
    "$$r = k_1\\frac{aA}{aA + bB} \\rightarrow \\frac{1}{r} = \\frac{1}{k_1}\\left(1 + k_2 \\frac{\\xi}{n_0 - \\xi}\\right) $$"
   ]
  },
  {
   "cell_type": "code",
   "execution_count": 2,
   "id": "c462a41f",
   "metadata": {
    "ExecuteTime": {
     "end_time": "2022-02-14T07:59:07.714310Z",
     "start_time": "2022-02-14T07:59:07.569848Z"
    }
   },
   "outputs": [],
   "source": [
    "df = pd.read_excel(\"cathet.xlsx\")"
   ]
  },
  {
   "cell_type": "code",
   "execution_count": 3,
   "id": "79267900",
   "metadata": {
    "ExecuteTime": {
     "end_time": "2022-02-14T07:59:07.726453Z",
     "start_time": "2022-02-14T07:59:07.719727Z"
    }
   },
   "outputs": [],
   "source": [
    "df = df.loc[2:]"
   ]
  },
  {
   "cell_type": "code",
   "execution_count": 4,
   "id": "b924a310",
   "metadata": {
    "ExecuteTime": {
     "end_time": "2022-02-14T07:59:07.743686Z",
     "start_time": "2022-02-14T07:59:07.731393Z"
    }
   },
   "outputs": [],
   "source": [
    "df[\"t\"] = df[\"t\"] - df.loc[2, \"t\"]\n",
    "df[\"V\"] = df[\"V\"] - df.loc[2, \"V\"]"
   ]
  },
  {
   "cell_type": "code",
   "execution_count": 5,
   "id": "ae572524",
   "metadata": {
    "ExecuteTime": {
     "end_time": "2022-02-14T07:59:07.775854Z",
     "start_time": "2022-02-14T07:59:07.747996Z"
    }
   },
   "outputs": [
    {
     "data": {
      "text/html": [
       "<div>\n",
       "<style scoped>\n",
       "    .dataframe tbody tr th:only-of-type {\n",
       "        vertical-align: middle;\n",
       "    }\n",
       "\n",
       "    .dataframe tbody tr th {\n",
       "        vertical-align: top;\n",
       "    }\n",
       "\n",
       "    .dataframe thead th {\n",
       "        text-align: right;\n",
       "    }\n",
       "</style>\n",
       "<table border=\"1\" class=\"dataframe\">\n",
       "  <thead>\n",
       "    <tr style=\"text-align: right;\">\n",
       "      <th></th>\n",
       "      <th>t</th>\n",
       "      <th>V</th>\n",
       "    </tr>\n",
       "  </thead>\n",
       "  <tbody>\n",
       "    <tr>\n",
       "      <th>2</th>\n",
       "      <td>0</td>\n",
       "      <td>0.000000</td>\n",
       "    </tr>\n",
       "    <tr>\n",
       "      <th>3</th>\n",
       "      <td>39</td>\n",
       "      <td>0.000008</td>\n",
       "    </tr>\n",
       "    <tr>\n",
       "      <th>4</th>\n",
       "      <td>131</td>\n",
       "      <td>0.000027</td>\n",
       "    </tr>\n",
       "    <tr>\n",
       "      <th>5</th>\n",
       "      <td>184</td>\n",
       "      <td>0.000038</td>\n",
       "    </tr>\n",
       "    <tr>\n",
       "      <th>6</th>\n",
       "      <td>214</td>\n",
       "      <td>0.000044</td>\n",
       "    </tr>\n",
       "  </tbody>\n",
       "</table>\n",
       "</div>"
      ],
      "text/plain": [
       "     t         V\n",
       "2    0  0.000000\n",
       "3   39  0.000008\n",
       "4  131  0.000027\n",
       "5  184  0.000038\n",
       "6  214  0.000044"
      ]
     },
     "execution_count": 5,
     "metadata": {},
     "output_type": "execute_result"
    }
   ],
   "source": [
    "df[:5]"
   ]
  },
  {
   "cell_type": "code",
   "execution_count": 6,
   "id": "49527343",
   "metadata": {
    "ExecuteTime": {
     "end_time": "2022-02-14T07:59:08.495700Z",
     "start_time": "2022-02-14T07:59:07.781466Z"
    }
   },
   "outputs": [
    {
     "data": {
      "image/png": "[encoded data removed]",
      "text/plain": [
       "<Figure size 432x288 with 1 Axes>"
      ]
     },
     "metadata": {
      "needs_background": "light"
     },
     "output_type": "display_data"
    }
   ],
   "source": [
    "fig, axe = plt.subplots()\n",
    "axe.plot(df[\"t\"], df[\"V\"])\n",
    "axe.set_title(\"Heterogeneous Catalysis Kinetic\")\n",
    "axe.set_xlabel(\"Time, $t$ $[\\mathrm{s}]$\")\n",
    "axe.set_ylabel(\"Volume, $V_\\mathrm{H_2}(t)$ $[\\mathrm{m^3}]$\")\n",
    "axe.grid()"
   ]
  },
  {
   "cell_type": "code",
   "execution_count": 7,
   "id": "f74776ea",
   "metadata": {
    "ExecuteTime": {
     "end_time": "2022-02-14T07:59:08.504299Z",
     "start_time": "2022-02-14T07:59:08.500128Z"
    }
   },
   "outputs": [],
   "source": [
    "R = 8.31446261815324  # J/mol.K\n",
    "T0 = 292.05           # K\n",
    "p0 = 101600           # Pa\n",
    "V = 190e-6            # m3 of isopropanol\n",
    "m = 2.7677            # g of Raney Nickel\n",
    "rho = 785             # kg/m³\n",
    "M = 60.1              # g/mol\n",
    "n0 = 1000*rho*V/M     # mol"
   ]
  },
  {
   "cell_type": "code",
   "execution_count": 8,
   "id": "975941d9",
   "metadata": {
    "ExecuteTime": {
     "end_time": "2022-02-14T07:59:08.511331Z",
     "start_time": "2022-02-14T07:59:08.507140Z"
    }
   },
   "outputs": [
    {
     "data": {
      "text/plain": [
       "2.4816971713810316"
      ]
     },
     "execution_count": 8,
     "metadata": {},
     "output_type": "execute_result"
    }
   ],
   "source": [
    "n0"
   ]
  },
  {
   "cell_type": "code",
   "execution_count": 9,
   "id": "f661d543",
   "metadata": {
    "ExecuteTime": {
     "end_time": "2022-02-14T07:59:08.528366Z",
     "start_time": "2022-02-14T07:59:08.515341Z"
    }
   },
   "outputs": [],
   "source": [
    "df[\"xi\"] = p0*df[\"V\"]/(R*T0)\n",
    "df[\"B/A\"] = df[\"xi\"]/(n0 - df[\"xi\"])\n",
    "df[\"x1\"] = df[\"xi\"]/V\n",
    "df[\"x2\"] = -(n0/V)*np.log(np.abs((n0 - df[\"xi\"])/n0))\n",
    "df[\"dxidt1\"] = df[\"xi\"].diff()/df[\"t\"].diff()\n",
    "df[\"1/r1\"] = V/df[\"dxidt1\"]"
   ]
  },
  {
   "cell_type": "code",
   "execution_count": null,
   "id": "3086d8e3",
   "metadata": {
    "ExecuteTime": {
     "end_time": "2022-02-10T08:41:50.252634Z",
     "start_time": "2022-02-10T08:41:50.228511Z"
    }
   },
   "outputs": [],
   "source": []
  },
  {
   "cell_type": "code",
   "execution_count": 10,
   "id": "dba3efdd",
   "metadata": {
    "ExecuteTime": {
     "end_time": "2022-02-14T07:59:08.561126Z",
     "start_time": "2022-02-14T07:59:08.534484Z"
    }
   },
   "outputs": [
    {
     "data": {
      "text/html": [
       "<div>\n",
       "<style scoped>\n",
       "    .dataframe tbody tr th:only-of-type {\n",
       "        vertical-align: middle;\n",
       "    }\n",
       "\n",
       "    .dataframe tbody tr th {\n",
       "        vertical-align: top;\n",
       "    }\n",
       "\n",
       "    .dataframe thead th {\n",
       "        text-align: right;\n",
       "    }\n",
       "</style>\n",
       "<table border=\"1\" class=\"dataframe\">\n",
       "  <thead>\n",
       "    <tr style=\"text-align: right;\">\n",
       "      <th></th>\n",
       "      <th>t</th>\n",
       "      <th>V</th>\n",
       "      <th>xi</th>\n",
       "      <th>B/A</th>\n",
       "      <th>x1</th>\n",
       "      <th>x2</th>\n",
       "      <th>dxidt1</th>\n",
       "      <th>1/r1</th>\n",
       "    </tr>\n",
       "  </thead>\n",
       "  <tbody>\n",
       "    <tr>\n",
       "      <th>114</th>\n",
       "      <td>7088</td>\n",
       "      <td>0.000943</td>\n",
       "      <td>0.039439</td>\n",
       "      <td>0.016149</td>\n",
       "      <td>207.575526</td>\n",
       "      <td>209.242616</td>\n",
       "      <td>0.000004</td>\n",
       "      <td>43.945140</td>\n",
       "    </tr>\n",
       "    <tr>\n",
       "      <th>51</th>\n",
       "      <td>2741</td>\n",
       "      <td>0.000455</td>\n",
       "      <td>0.019054</td>\n",
       "      <td>0.007737</td>\n",
       "      <td>100.286330</td>\n",
       "      <td>100.673310</td>\n",
       "      <td>0.000006</td>\n",
       "      <td>33.459984</td>\n",
       "    </tr>\n",
       "    <tr>\n",
       "      <th>47</th>\n",
       "      <td>2460</td>\n",
       "      <td>0.000416</td>\n",
       "      <td>0.017423</td>\n",
       "      <td>0.007070</td>\n",
       "      <td>91.697909</td>\n",
       "      <td>92.021303</td>\n",
       "      <td>0.000006</td>\n",
       "      <td>34.057483</td>\n",
       "    </tr>\n",
       "    <tr>\n",
       "      <th>33</th>\n",
       "      <td>1468</td>\n",
       "      <td>0.000267</td>\n",
       "      <td>0.011192</td>\n",
       "      <td>0.004530</td>\n",
       "      <td>58.907759</td>\n",
       "      <td>59.040996</td>\n",
       "      <td>0.000007</td>\n",
       "      <td>28.867772</td>\n",
       "    </tr>\n",
       "    <tr>\n",
       "      <th>59</th>\n",
       "      <td>3595</td>\n",
       "      <td>0.000570</td>\n",
       "      <td>0.023845</td>\n",
       "      <td>0.009702</td>\n",
       "      <td>125.501053</td>\n",
       "      <td>126.107877</td>\n",
       "      <td>0.000006</td>\n",
       "      <td>33.733126</td>\n",
       "    </tr>\n",
       "  </tbody>\n",
       "</table>\n",
       "</div>"
      ],
      "text/plain": [
       "        t         V        xi       B/A          x1          x2    dxidt1  \\\n",
       "114  7088  0.000943  0.039439  0.016149  207.575526  209.242616  0.000004   \n",
       "51   2741  0.000455  0.019054  0.007737  100.286330  100.673310  0.000006   \n",
       "47   2460  0.000416  0.017423  0.007070   91.697909   92.021303  0.000006   \n",
       "33   1468  0.000267  0.011192  0.004530   58.907759   59.040996  0.000007   \n",
       "59   3595  0.000570  0.023845  0.009702  125.501053  126.107877  0.000006   \n",
       "\n",
       "          1/r1  \n",
       "114  43.945140  \n",
       "51   33.459984  \n",
       "47   34.057483  \n",
       "33   28.867772  \n",
       "59   33.733126  "
      ]
     },
     "execution_count": 10,
     "metadata": {},
     "output_type": "execute_result"
    }
   ],
   "source": [
    "df.sample(5)"
   ]
  },
  {
   "cell_type": "code",
   "execution_count": 11,
   "id": "b9a1cef7",
   "metadata": {
    "ExecuteTime": {
     "end_time": "2022-02-14T07:59:08.569462Z",
     "start_time": "2022-02-14T07:59:08.565320Z"
    }
   },
   "outputs": [],
   "source": [
    "results = {}"
   ]
  },
  {
   "cell_type": "markdown",
   "id": "4320dc5f",
   "metadata": {},
   "source": [
    "## OLS"
   ]
  },
  {
   "cell_type": "code",
   "execution_count": 12,
   "id": "220492e3",
   "metadata": {
    "ExecuteTime": {
     "end_time": "2022-02-14T07:59:08.581543Z",
     "start_time": "2022-02-14T07:59:08.573635Z"
    }
   },
   "outputs": [],
   "source": [
    "XOLS = df[[\"x1\", \"x2\"]].values\n",
    "yOLS = df[\"t\"].values"
   ]
  },
  {
   "cell_type": "code",
   "execution_count": 13,
   "id": "52e0039c",
   "metadata": {
    "ExecuteTime": {
     "end_time": "2022-02-14T07:59:08.603781Z",
     "start_time": "2022-02-14T07:59:08.585930Z"
    }
   },
   "outputs": [
    {
     "data": {
      "text/plain": [
       "0.9999526276968934"
      ]
     },
     "execution_count": 13,
     "metadata": {},
     "output_type": "execute_result"
    }
   ],
   "source": [
    "OLS = LinearRegression(fit_intercept=False).fit(XOLS, yOLS)\n",
    "scoreOLS = OLS.score(XOLS, yOLS)\n",
    "scoreOLS"
   ]
  },
  {
   "cell_type": "code",
   "execution_count": 14,
   "id": "b858c167",
   "metadata": {
    "ExecuteTime": {
     "end_time": "2022-02-14T07:59:08.790777Z",
     "start_time": "2022-02-14T07:59:08.608044Z"
    }
   },
   "outputs": [
    {
     "data": {
      "text/plain": [
       "<mpl_toolkits.mplot3d.art3d.Path3DCollection at 0x7f1b3b77ef98>"
      ]
     },
     "execution_count": 14,
     "metadata": {},
     "output_type": "execute_result"
    },
    {
     "data": {
      "image/png": "[encoded data removed]",
      "text/plain": [
       "<Figure size 432x288 with 1 Axes>"
      ]
     },
     "metadata": {
      "needs_background": "light"
     },
     "output_type": "display_data"
    }
   ],
   "source": [
    "fig = plt.figure()\n",
    "axe = fig.add_subplot(projection='3d')\n",
    "axe.scatter(XOLS[:,0], XOLS[:,1], yOLS)"
   ]
  },
  {
   "cell_type": "code",
   "execution_count": null,
   "id": "825defa0",
   "metadata": {
    "ExecuteTime": {
     "end_time": "2022-02-12T14:28:29.736878Z",
     "start_time": "2022-02-12T14:28:29.724375Z"
    }
   },
   "outputs": [],
   "source": []
  },
  {
   "cell_type": "code",
   "execution_count": 15,
   "id": "7a7d4dd0",
   "metadata": {
    "ExecuteTime": {
     "end_time": "2022-02-14T07:59:08.798884Z",
     "start_time": "2022-02-14T07:59:08.793680Z"
    }
   },
   "outputs": [
    {
     "data": {
      "text/plain": [
       "array([-1619.94014191,  1640.97679807])"
      ]
     },
     "execution_count": 15,
     "metadata": {},
     "output_type": "execute_result"
    }
   ],
   "source": [
    "OLS.coef_"
   ]
  },
  {
   "cell_type": "code",
   "execution_count": 16,
   "id": "dddb7e6b",
   "metadata": {
    "ExecuteTime": {
     "end_time": "2022-02-14T07:59:08.806267Z",
     "start_time": "2022-02-14T07:59:08.801668Z"
    }
   },
   "outputs": [
    {
     "data": {
      "text/plain": [
       "0.0"
      ]
     },
     "execution_count": 16,
     "metadata": {},
     "output_type": "execute_result"
    }
   ],
   "source": [
    "OLS.intercept_"
   ]
  },
  {
   "cell_type": "code",
   "execution_count": 17,
   "id": "b4a31772",
   "metadata": {
    "ExecuteTime": {
     "end_time": "2022-02-14T07:59:08.812479Z",
     "start_time": "2022-02-14T07:59:08.809178Z"
    }
   },
   "outputs": [],
   "source": [
    "tOLS = OLS.predict(XOLS)"
   ]
  },
  {
   "cell_type": "code",
   "execution_count": 18,
   "id": "806e4271",
   "metadata": {
    "ExecuteTime": {
     "end_time": "2022-02-14T07:59:09.155835Z",
     "start_time": "2022-02-14T07:59:08.815983Z"
    }
   },
   "outputs": [
    {
     "data": {
      "image/png": "[encoded data removed]",
      "text/plain": [
       "<Figure size 432x288 with 1 Axes>"
      ]
     },
     "metadata": {
      "needs_background": "light"
     },
     "output_type": "display_data"
    }
   ],
   "source": [
    "fig, axe = plt.subplots()\n",
    "axe.plot(df[\"t\"], df[\"xi\"], \".\", label=\"Experimental Data\")\n",
    "axe.plot(tOLS, df[\"xi\"], \"-\", label=\"OLS Fit\")\n",
    "axe.set_title(\"Reformulated Ordinary Least Squares\")\n",
    "axe.set_xlabel(\"Time, $t$ $[\\mathrm{s}]$\")\n",
    "axe.set_ylabel(r\"Reaction Coordinate, $\\xi$ $[\\mathrm{mol}]$\")\n",
    "axe.legend()\n",
    "axe.grid()"
   ]
  },
  {
   "cell_type": "code",
   "execution_count": 19,
   "id": "04779edd",
   "metadata": {
    "ExecuteTime": {
     "end_time": "2022-02-14T07:59:09.163267Z",
     "start_time": "2022-02-14T07:59:09.158147Z"
    }
   },
   "outputs": [],
   "source": [
    "def solveOLS(c1, c2):\n",
    "    k1 = 1./(c1 + c2)\n",
    "    k2 = c2*k1\n",
    "    return k1, k2"
   ]
  },
  {
   "cell_type": "code",
   "execution_count": 20,
   "id": "af6ea63b",
   "metadata": {
    "ExecuteTime": {
     "end_time": "2022-02-14T07:59:09.170656Z",
     "start_time": "2022-02-14T07:59:09.165905Z"
    }
   },
   "outputs": [
    {
     "data": {
      "text/plain": [
       "(0.04753607191540943, 78.00559108463023)"
      ]
     },
     "execution_count": 20,
     "metadata": {},
     "output_type": "execute_result"
    }
   ],
   "source": [
    "k1OLS, k2OLS = solveOLS(*OLS.coef_)\n",
    "k1OLS, k2OLS"
   ]
  },
  {
   "cell_type": "code",
   "execution_count": 21,
   "id": "f9f41085",
   "metadata": {
    "ExecuteTime": {
     "end_time": "2022-02-14T07:59:09.177381Z",
     "start_time": "2022-02-14T07:59:09.173227Z"
    }
   },
   "outputs": [
    {
     "data": {
      "text/plain": [
       "3.2633065953419057e-06"
      ]
     },
     "execution_count": 21,
     "metadata": {},
     "output_type": "execute_result"
    }
   ],
   "source": [
    "k1OLS*V/m # mol/s"
   ]
  },
  {
   "cell_type": "code",
   "execution_count": 22,
   "id": "3e445728",
   "metadata": {
    "ExecuteTime": {
     "end_time": "2022-02-14T07:59:09.187878Z",
     "start_time": "2022-02-14T07:59:09.179882Z"
    }
   },
   "outputs": [
    {
     "data": {
      "text/plain": [
       "{'k1': 0.04753607191540943,\n",
       " 'k2': 78.00559108463023,\n",
       " 'MSE': 220.70733391613194,\n",
       " 'r2': 0.9999526276968934}"
      ]
     },
     "execution_count": 22,
     "metadata": {},
     "output_type": "execute_result"
    }
   ],
   "source": [
    "results[\"OLS\"] = {\n",
    "    \"k1\": k1OLS, \"k2\": k2OLS,\n",
    "    \"MSE\": metrics.mean_squared_error(yOLS, tOLS),\n",
    "    \"r2\": metrics.r2_score(yOLS, tOLS)\n",
    "}\n",
    "results[\"OLS\"]"
   ]
  },
  {
   "cell_type": "markdown",
   "id": "4dbb2291",
   "metadata": {},
   "source": [
    "## Lineweaver-Burk"
   ]
  },
  {
   "cell_type": "code",
   "execution_count": 23,
   "id": "41b36bda",
   "metadata": {
    "ExecuteTime": {
     "end_time": "2022-02-14T07:59:09.200364Z",
     "start_time": "2022-02-14T07:59:09.190824Z"
    }
   },
   "outputs": [
    {
     "data": {
      "text/plain": [
       "0.565121006848629"
      ]
     },
     "execution_count": 23,
     "metadata": {},
     "output_type": "execute_result"
    }
   ],
   "source": [
    "XLB = df[[\"B/A\"]].values[1:]\n",
    "yLB = df[\"1/r1\"].values[1:]\n",
    "LB = LinearRegression(fit_intercept=True).fit(XLB, yLB)\n",
    "LB.score(XLB, yLB)"
   ]
  },
  {
   "cell_type": "code",
   "execution_count": 24,
   "id": "f5f0f275",
   "metadata": {
    "ExecuteTime": {
     "end_time": "2022-02-14T07:59:09.208587Z",
     "start_time": "2022-02-14T07:59:09.203426Z"
    }
   },
   "outputs": [
    {
     "data": {
      "text/plain": [
       "(array([1664.13293139]), 21.268198300365704)"
      ]
     },
     "execution_count": 24,
     "metadata": {},
     "output_type": "execute_result"
    }
   ],
   "source": [
    "LB.coef_, LB.intercept_"
   ]
  },
  {
   "cell_type": "code",
   "execution_count": 25,
   "id": "f90cad56",
   "metadata": {
    "ExecuteTime": {
     "end_time": "2022-02-14T07:59:09.215780Z",
     "start_time": "2022-02-14T07:59:09.210968Z"
    }
   },
   "outputs": [],
   "source": [
    "XLBmax = np.linspace(df[\"B/A\"].min(), df[\"B/A\"].max(), 2).reshape(-1, 1)\n",
    "yLBhat = LB.predict(XLB)"
   ]
  },
  {
   "cell_type": "code",
   "execution_count": 26,
   "id": "656eb4cf",
   "metadata": {
    "ExecuteTime": {
     "end_time": "2022-02-14T07:59:09.645878Z",
     "start_time": "2022-02-14T07:59:09.219379Z"
    }
   },
   "outputs": [
    {
     "data": {
      "image/png": "[encoded data removed]",
      "text/plain": [
       "<Figure size 432x288 with 1 Axes>"
      ]
     },
     "metadata": {
      "needs_background": "light"
     },
     "output_type": "display_data"
    }
   ],
   "source": [
    "fig, axe = plt.subplots()\n",
    "axe.plot(df[\"B/A\"], df[\"1/r1\"], \".\", label=\"First Difference\")\n",
    "axe.plot(XLB, yLBhat, label=\"First Difference OLS Fit\")\n",
    "axe.set_title(\"Lineweaver Burk Least Squares\")\n",
    "axe.set_xlabel(r\"Concentration Ratio, $\\frac{\\xi}{n_0 - \\xi}$ $[-]$\")\n",
    "axe.set_ylabel(r\"Inverse Rate, $\\frac{1}{r}$ $[\\mathrm{m^3\\cdot s \\cdot mol^{-1}]}$\")\n",
    "axe.legend()\n",
    "axe.grid()"
   ]
  },
  {
   "cell_type": "code",
   "execution_count": 27,
   "id": "9f601017",
   "metadata": {
    "ExecuteTime": {
     "end_time": "2022-02-14T07:59:09.665970Z",
     "start_time": "2022-02-14T07:59:09.658083Z"
    }
   },
   "outputs": [
    {
     "data": {
      "text/plain": [
       "(0.04701855727867674, 78.2451295537145)"
      ]
     },
     "execution_count": 27,
     "metadata": {},
     "output_type": "execute_result"
    }
   ],
   "source": [
    "k1LB = 1/LB.intercept_\n",
    "k2LB = LB.coef_[0]*k1LB\n",
    "k1LB, k2LB"
   ]
  },
  {
   "cell_type": "code",
   "execution_count": 28,
   "id": "423d2544",
   "metadata": {
    "ExecuteTime": {
     "end_time": "2022-02-14T07:59:09.679001Z",
     "start_time": "2022-02-14T07:59:09.670736Z"
    }
   },
   "outputs": [
    {
     "data": {
      "text/plain": [
       "{'k1': 0.04701855727867674,\n",
       " 'k2': 78.2451295537145,\n",
       " 'MSE': 49.8171431042655,\n",
       " 'r2': 0.565121006848629}"
      ]
     },
     "execution_count": 28,
     "metadata": {},
     "output_type": "execute_result"
    }
   ],
   "source": [
    "results[\"LB\"] = {\n",
    "    \"k1\": k1LB, \"k2\": k2LB,\n",
    "    \"MSE\": metrics.mean_squared_error(yLB, yLBhat),\n",
    "    \"r2\": metrics.r2_score(yLB, yLBhat)\n",
    "}\n",
    "results[\"LB\"]"
   ]
  },
  {
   "cell_type": "code",
   "execution_count": null,
   "id": "6f5b9cdd",
   "metadata": {},
   "outputs": [],
   "source": []
  },
  {
   "cell_type": "code",
   "execution_count": null,
   "id": "024c51d0",
   "metadata": {},
   "outputs": [],
   "source": []
  },
  {
   "cell_type": "markdown",
   "id": "fd648950",
   "metadata": {},
   "source": [
    "### LMA"
   ]
  },
  {
   "cell_type": "code",
   "execution_count": 29,
   "id": "b6704e86",
   "metadata": {
    "ExecuteTime": {
     "end_time": "2022-02-14T07:59:09.686488Z",
     "start_time": "2022-02-14T07:59:09.681850Z"
    }
   },
   "outputs": [],
   "source": [
    "def factory(n0, V):\n",
    "    def wrapped(xi, k1, k2):\n",
    "        return (1-k2)/k1*(xi/V) - (k2/k1)*(n0/V)*np.log((n0 - xi)/n0)\n",
    "    return wrapped"
   ]
  },
  {
   "cell_type": "code",
   "execution_count": 30,
   "id": "9b148c96",
   "metadata": {
    "ExecuteTime": {
     "end_time": "2022-02-14T07:59:09.693040Z",
     "start_time": "2022-02-14T07:59:09.689490Z"
    }
   },
   "outputs": [],
   "source": [
    "objective = factory(n0, V)"
   ]
  },
  {
   "cell_type": "code",
   "execution_count": 31,
   "id": "46753a66",
   "metadata": {
    "ExecuteTime": {
     "end_time": "2022-02-14T07:59:09.774129Z",
     "start_time": "2022-02-14T07:59:09.697074Z"
    }
   },
   "outputs": [
    {
     "data": {
      "text/plain": [
       "(array([4.75360716e-02, 7.80055896e+01]),\n",
       " array([[1.21265292e-08, 5.87172563e-05],\n",
       "        [5.87172563e-05, 2.90824476e-01]]))"
      ]
     },
     "execution_count": 31,
     "metadata": {},
     "output_type": "execute_result"
    }
   ],
   "source": [
    "parameters, covariance = optimize.curve_fit(objective, df[\"xi\"], df[\"t\"])\n",
    "parameters, covariance"
   ]
  },
  {
   "cell_type": "code",
   "execution_count": 32,
   "id": "d6c4d0f8",
   "metadata": {
    "ExecuteTime": {
     "end_time": "2022-02-14T07:59:09.782300Z",
     "start_time": "2022-02-14T07:59:09.776645Z"
    }
   },
   "outputs": [],
   "source": [
    "that = objective(df[\"xi\"], *parameters)"
   ]
  },
  {
   "cell_type": "code",
   "execution_count": 33,
   "id": "8f44e6d6",
   "metadata": {
    "ExecuteTime": {
     "end_time": "2022-02-14T07:59:10.517936Z",
     "start_time": "2022-02-14T07:59:09.785014Z"
    }
   },
   "outputs": [
    {
     "data": {
      "image/png": "[encoded data removed]",
      "text/plain": [
       "<Figure size 432x288 with 1 Axes>"
      ]
     },
     "metadata": {
      "needs_background": "light"
     },
     "output_type": "display_data"
    }
   ],
   "source": [
    "fig, axe = plt.subplots()\n",
    "axe.plot(df[\"t\"], df[\"xi\"], \".\", label=\"Experimental Data\")\n",
    "axe.plot(that, df[\"xi\"], \"-\", label=\"NLS Fit\")\n",
    "axe.set_title(\"Non Linear Least Squares (LMA)\")\n",
    "axe.set_xlabel(\"Time, $t$ $[\\mathrm{s}]$\")\n",
    "axe.set_ylabel(r\"Reaction Coordinate, $\\xi$ $[\\mathrm{mol}]$\")\n",
    "axe.legend()\n",
    "axe.grid()"
   ]
  },
  {
   "cell_type": "code",
   "execution_count": 34,
   "id": "a93a9b46",
   "metadata": {
    "ExecuteTime": {
     "end_time": "2022-02-14T07:59:10.548520Z",
     "start_time": "2022-02-14T07:59:10.526902Z"
    }
   },
   "outputs": [
    {
     "data": {
      "text/plain": [
       "{'k1': 0.04753607161313695,\n",
       " 'k2': 78.00558959396061,\n",
       " 'MSE': 220.70733391605376,\n",
       " 'r2': 0.9999526276968934}"
      ]
     },
     "execution_count": 34,
     "metadata": {},
     "output_type": "execute_result"
    }
   ],
   "source": [
    "results[\"LMA\"] = {\n",
    "    \"k1\": parameters[0], \"k2\": parameters[1],\n",
    "    \"MSE\": metrics.mean_squared_error(df[\"t\"], that),\n",
    "    \"r2\": metrics.r2_score(df[\"t\"], that)\n",
    "}\n",
    "results[\"LMA\"]"
   ]
  },
  {
   "cell_type": "markdown",
   "id": "4fb8154f",
   "metadata": {},
   "source": [
    "## LBP3"
   ]
  },
  {
   "cell_type": "code",
   "execution_count": 35,
   "id": "9a8f5f77",
   "metadata": {
    "ExecuteTime": {
     "end_time": "2022-02-14T07:59:10.580195Z",
     "start_time": "2022-02-14T07:59:10.556703Z"
    }
   },
   "outputs": [
    {
     "data": {
      "text/plain": [
       "0.9999768914232472"
      ]
     },
     "execution_count": 35,
     "metadata": {},
     "output_type": "execute_result"
    }
   ],
   "source": [
    "from sklearn import preprocessing\n",
    "\n",
    "XP3 = df[\"t\"].values.reshape(-1, 1)\n",
    "yP3 = df[\"xi\"].values\n",
    "XP3f = preprocessing.PolynomialFeatures(degree=4).fit_transform(XP3)\n",
    "P3 = LinearRegression(fit_intercept=True).fit(XP3f, yP3)\n",
    "P3.score(XP3f, yP3)"
   ]
  },
  {
   "cell_type": "code",
   "execution_count": 36,
   "id": "fcf74af8",
   "metadata": {
    "ExecuteTime": {
     "end_time": "2022-02-14T07:59:10.599718Z",
     "start_time": "2022-02-14T07:59:10.585594Z"
    }
   },
   "outputs": [],
   "source": [
    "yP3hat = P3.predict(XP3f)\n",
    "dCdt = np.diff(yP3hat)/df[\"t\"].diff().values[1:]/V"
   ]
  },
  {
   "cell_type": "code",
   "execution_count": 37,
   "id": "86b0c785",
   "metadata": {
    "ExecuteTime": {
     "end_time": "2022-02-14T07:59:11.054728Z",
     "start_time": "2022-02-14T07:59:10.603804Z"
    }
   },
   "outputs": [
    {
     "data": {
      "image/png": "[encoded data removed]",
      "text/plain": [
       "<Figure size 432x288 with 1 Axes>"
      ]
     },
     "metadata": {
      "needs_background": "light"
     },
     "output_type": "display_data"
    }
   ],
   "source": [
    "fig, axe = plt.subplots()\n",
    "axe.plot(df[\"t\"], df[\"xi\"], \".\", label=\"Experimental Data\")\n",
    "axe.plot(XP3, yP3hat, \"-\", label=\"Polynomial OLS Fit\")\n",
    "axe.set_title(\"Polynomial Least Squares (quartic)\")\n",
    "axe.set_xlabel(\"Time, $t$ $[\\mathrm{s}]$\")\n",
    "axe.set_ylabel(r\"Reaction Coordinate, $\\xi$ $[\\mathrm{mol}]$\")\n",
    "axe.legend()\n",
    "axe.grid()"
   ]
  },
  {
   "cell_type": "code",
   "execution_count": null,
   "id": "d2251dab",
   "metadata": {
    "ExecuteTime": {
     "end_time": "2022-02-12T13:43:56.707712Z",
     "start_time": "2022-02-12T13:43:56.701771Z"
    }
   },
   "outputs": [],
   "source": []
  },
  {
   "cell_type": "code",
   "execution_count": 38,
   "id": "515db452",
   "metadata": {
    "ExecuteTime": {
     "end_time": "2022-02-14T07:59:11.119865Z",
     "start_time": "2022-02-14T07:59:11.069860Z"
    }
   },
   "outputs": [
    {
     "data": {
      "text/plain": [
       "0.9923843181481455"
      ]
     },
     "execution_count": 38,
     "metadata": {},
     "output_type": "execute_result"
    }
   ],
   "source": [
    "\n",
    "XLBP3 = df[\"B/A\"].values[1:].reshape(-1, 1)\n",
    "yLBP3 = 1/dCdt\n",
    "LBP3 = LinearRegression(fit_intercept=True).fit(XLBP3, yLBP3)\n",
    "LBP3.score(XLBP3, yLBP3)"
   ]
  },
  {
   "cell_type": "code",
   "execution_count": 39,
   "id": "c2f2991c",
   "metadata": {
    "ExecuteTime": {
     "end_time": "2022-02-14T07:59:11.161792Z",
     "start_time": "2022-02-14T07:59:11.146805Z"
    }
   },
   "outputs": [],
   "source": [
    "yLBP3hat = LBP3.predict(XLBP3)"
   ]
  },
  {
   "cell_type": "code",
   "execution_count": 40,
   "id": "27d7e6c2",
   "metadata": {
    "ExecuteTime": {
     "end_time": "2022-02-14T07:59:11.194435Z",
     "start_time": "2022-02-14T07:59:11.170933Z"
    }
   },
   "outputs": [
    {
     "data": {
      "text/plain": [
       "(0.047031932852957946, 75.50493003737787)"
      ]
     },
     "execution_count": 40,
     "metadata": {},
     "output_type": "execute_result"
    }
   ],
   "source": [
    "k1LBP3 = 1/LBP3.intercept_\n",
    "k2LBP3 = LBP3.coef_[0]*k1LBP3\n",
    "k1LBP3, k2LBP3"
   ]
  },
  {
   "cell_type": "code",
   "execution_count": null,
   "id": "04cb2ef4",
   "metadata": {},
   "outputs": [],
   "source": []
  },
  {
   "cell_type": "code",
   "execution_count": 41,
   "id": "dbf9d781",
   "metadata": {
    "ExecuteTime": {
     "end_time": "2022-02-14T07:59:11.785445Z",
     "start_time": "2022-02-14T07:59:11.205784Z"
    }
   },
   "outputs": [
    {
     "data": {
      "image/png": "[encoded data removed]",
      "text/plain": [
       "<Figure size 432x288 with 1 Axes>"
      ]
     },
     "metadata": {
      "needs_background": "light"
     },
     "output_type": "display_data"
    }
   ],
   "source": [
    "fig, axe = plt.subplots()\n",
    "axe.plot(XLBP3, yLBP3, \".\", label=\"Polynomial Fit Difference\")\n",
    "axe.plot(XLBP3, yLBP3hat, label=\"Polynomial Fit Difference OLS Fit\")\n",
    "#ylim = axe.get_ylim()\n",
    "#axe.plot(df[\"B/A\"], df[\"1/r1\"], \".\", color=\"lightgray\", label=\"First Difference\")\n",
    "#axe.plot(XLB, yLBhat, color=\"gray\", label=\"First Difference OLS Fit\")\n",
    "#axe.set_ylim(ylim)\n",
    "axe.set_title(\"Lineweaver Burk Least Squares\")\n",
    "axe.set_xlabel(r\"Concentration Ratio, $\\frac{\\xi}{n_0 - \\xi}$ $[-]$\")\n",
    "axe.set_ylabel(r\"Inverse Rate, $\\frac{1}{r}$ $[\\mathrm{m^3\\cdot s \\cdot mol^{-1}]}$\")\n",
    "axe.legend()\n",
    "axe.grid()"
   ]
  },
  {
   "cell_type": "code",
   "execution_count": 42,
   "id": "179c8d81",
   "metadata": {
    "ExecuteTime": {
     "end_time": "2022-02-14T07:59:11.813229Z",
     "start_time": "2022-02-14T07:59:11.791433Z"
    }
   },
   "outputs": [
    {
     "data": {
      "text/plain": [
       "{'k1': 0.047031932852957946,\n",
       " 'k2': 75.50493003737787,\n",
       " 'MSE': 0.46234873623135125,\n",
       " 'r2': 0.9923843181481455}"
      ]
     },
     "execution_count": 42,
     "metadata": {},
     "output_type": "execute_result"
    }
   ],
   "source": [
    "results[\"LBP3\"] = {\n",
    "    \"k1\": k1LBP3, \"k2\": k2LBP3,\n",
    "    \"MSE\": metrics.mean_squared_error(yLBP3, yLBP3hat),\n",
    "    \"r2\": metrics.r2_score(yLBP3, yLBP3hat)\n",
    "}\n",
    "results[\"LBP3\"]"
   ]
  },
  {
   "cell_type": "code",
   "execution_count": null,
   "id": "1c397a4a",
   "metadata": {},
   "outputs": [],
   "source": []
  },
  {
   "cell_type": "markdown",
   "id": "ff514b5f",
   "metadata": {},
   "source": [
    "# LBMan"
   ]
  },
  {
   "cell_type": "code",
   "execution_count": 43,
   "id": "9e57cc37",
   "metadata": {
    "ExecuteTime": {
     "end_time": "2022-02-14T07:59:11.854364Z",
     "start_time": "2022-02-14T07:59:11.819526Z"
    }
   },
   "outputs": [],
   "source": [
    "df2 = pd.read_excel(\"cathet.xlsx\", sheet_name=\"Manual\")\n",
    "df2[\"keep\"] = True"
   ]
  },
  {
   "cell_type": "code",
   "execution_count": 44,
   "id": "8796a434",
   "metadata": {
    "ExecuteTime": {
     "end_time": "2022-02-14T07:59:11.873728Z",
     "start_time": "2022-02-14T07:59:11.866379Z"
    }
   },
   "outputs": [],
   "source": [
    "df2[\"1/v\"] *= V"
   ]
  },
  {
   "cell_type": "code",
   "execution_count": 45,
   "id": "af7917e5",
   "metadata": {
    "ExecuteTime": {
     "end_time": "2022-02-14T07:59:11.893376Z",
     "start_time": "2022-02-14T07:59:11.876192Z"
    }
   },
   "outputs": [],
   "source": [
    "df2.loc[0, \"1/v\"] = 22.45\n",
    "df2.loc[4, \"1/v\"] = 32.45"
   ]
  },
  {
   "cell_type": "code",
   "execution_count": 46,
   "id": "9fa1bf8e",
   "metadata": {
    "ExecuteTime": {
     "end_time": "2022-02-14T07:59:11.905470Z",
     "start_time": "2022-02-14T07:59:11.897570Z"
    }
   },
   "outputs": [],
   "source": [
    "df2.loc[0, \"keep\"] = False\n",
    "df2.loc[4, \"keep\"] = False"
   ]
  },
  {
   "cell_type": "code",
   "execution_count": 47,
   "id": "1682179c",
   "metadata": {
    "ExecuteTime": {
     "end_time": "2022-02-14T07:59:11.915395Z",
     "start_time": "2022-02-14T07:59:11.911406Z"
    }
   },
   "outputs": [],
   "source": [
    "#df2 = df2[df2[\"keep\"]]\n",
    "#df2"
   ]
  },
  {
   "cell_type": "code",
   "execution_count": 48,
   "id": "3b6adca1",
   "metadata": {
    "ExecuteTime": {
     "end_time": "2022-02-14T07:59:11.932882Z",
     "start_time": "2022-02-14T07:59:11.923619Z"
    }
   },
   "outputs": [],
   "source": [
    "df2[\"1/v\"] *= 1.1"
   ]
  },
  {
   "cell_type": "code",
   "execution_count": 49,
   "id": "b237033a",
   "metadata": {
    "ExecuteTime": {
     "end_time": "2022-02-14T07:59:11.958410Z",
     "start_time": "2022-02-14T07:59:11.935928Z"
    }
   },
   "outputs": [
    {
     "data": {
      "text/plain": [
       "0.984458468896565"
      ]
     },
     "execution_count": 49,
     "metadata": {},
     "output_type": "execute_result"
    }
   ],
   "source": [
    "XLBM = df2[\"bP/bR\"].values[:-1].reshape(-1, 1)\n",
    "yLBM = df2[\"1/v\"].values[:-1]\n",
    "LBM = LinearRegression(fit_intercept=True).fit(XLBM, yLBM)\n",
    "LBM.score(XLBM, yLBM)"
   ]
  },
  {
   "cell_type": "code",
   "execution_count": 50,
   "id": "59ddb307",
   "metadata": {
    "ExecuteTime": {
     "end_time": "2022-02-14T07:59:11.985407Z",
     "start_time": "2022-02-14T07:59:11.962974Z"
    }
   },
   "outputs": [],
   "source": [
    "yLBMhat = LBM.predict(XLBM)"
   ]
  },
  {
   "cell_type": "code",
   "execution_count": 51,
   "id": "489c7e79",
   "metadata": {
    "ExecuteTime": {
     "end_time": "2022-02-14T07:59:12.001354Z",
     "start_time": "2022-02-14T07:59:11.988970Z"
    }
   },
   "outputs": [
    {
     "data": {
      "text/plain": [
       "(0.047296065060717624, 73.76063697071173)"
      ]
     },
     "execution_count": 51,
     "metadata": {},
     "output_type": "execute_result"
    }
   ],
   "source": [
    "k1LBM = 1/LBM.intercept_\n",
    "k2LBM = LBM.coef_[0]*k1LBM\n",
    "k1LBM, k2LBM"
   ]
  },
  {
   "cell_type": "code",
   "execution_count": 52,
   "id": "6144f755",
   "metadata": {
    "ExecuteTime": {
     "end_time": "2022-02-14T07:59:12.738219Z",
     "start_time": "2022-02-14T07:59:12.004807Z"
    }
   },
   "outputs": [
    {
     "data": {
      "image/png": "[encoded data removed]",
      "text/plain": [
       "<Figure size 432x288 with 1 Axes>"
      ]
     },
     "metadata": {
      "needs_background": "light"
     },
     "output_type": "display_data"
    }
   ],
   "source": [
    "fig, axe = plt.subplots()\n",
    "axe.plot(XLBM, yLBM, \".\", label=\"Manual Slope Estimation\")\n",
    "axe.plot(XLBM, yLBMhat, label=\"Manual Slope Estimation OLS Fit\")\n",
    "axe.set_title(\"Lineweaver Burk Least Squares\")\n",
    "axe.set_xlabel(r\"Concentration Ratio, $\\frac{\\xi}{n_0 - \\xi}$ $[-]$\")\n",
    "axe.set_ylabel(r\"Inverse Rate, $\\frac{1}{r}$ $[\\mathrm{m^3\\cdot s \\cdot mol^{-1}]}$\")\n",
    "axe.legend()\n",
    "axe.grid()"
   ]
  },
  {
   "cell_type": "code",
   "execution_count": 53,
   "id": "1de014db",
   "metadata": {
    "ExecuteTime": {
     "end_time": "2022-02-14T07:59:12.751336Z",
     "start_time": "2022-02-14T07:59:12.742911Z"
    }
   },
   "outputs": [
    {
     "data": {
      "text/plain": [
       "{'k1': 0.047296065060717624,\n",
       " 'k2': 73.76063697071173,\n",
       " 'MSE': 0.7926235236812226,\n",
       " 'r2': 0.984458468896565}"
      ]
     },
     "execution_count": 53,
     "metadata": {},
     "output_type": "execute_result"
    }
   ],
   "source": [
    "results[\"LBM\"] = {\n",
    "    \"k1\": k1LBM, \"k2\": k2LBM,\n",
    "    \"MSE\": metrics.mean_squared_error(yLBM, yLBMhat),\n",
    "    \"r2\": metrics.r2_score(yLBM, yLBMhat)\n",
    "}\n",
    "results[\"LBM\"]"
   ]
  },
  {
   "cell_type": "code",
   "execution_count": null,
   "id": "34ea0a64",
   "metadata": {},
   "outputs": [],
   "source": []
  },
  {
   "cell_type": "code",
   "execution_count": 54,
   "id": "77985fa8",
   "metadata": {
    "ExecuteTime": {
     "end_time": "2022-02-14T07:59:13.151370Z",
     "start_time": "2022-02-14T07:59:12.754199Z"
    }
   },
   "outputs": [
    {
     "data": {
      "image/png": "[encoded data removed]",
      "text/plain": [
       "<Figure size 432x288 with 1 Axes>"
      ]
     },
     "metadata": {
      "needs_background": "light"
     },
     "output_type": "display_data"
    }
   ],
   "source": [
    "fig, axe = plt.subplots()\n",
    "axe.plot(df[\"B/A\"], df[\"1/r1\"], \".\", color=\"blue\", label=\"First Difference\")\n",
    "#axe.plot(XLB, yLBhat, color=\"blue\", label=\"First Difference OLS Fit\")\n",
    "axe.plot(XLBP3, yLBP3, \".\", color=\"orange\", label=\"Polynomial Fit Difference\")\n",
    "#axe.plot(XLBP3, yLBP3hat, color=\"darkorange\", label=\"Polynomial Fit Difference OLS Fit\")\n",
    "axe.plot(XLBM, yLBM, \".\", color=\"red\", label=\"Manual Slope Estimation\")\n",
    "#axe.plot(XLBM, yLBMhat, color=\"green\", label=\"Manual Slope Estimation OLS Fit\")\n",
    "#axe.set_ylim([20, 50])\n",
    "axe.set_title(\"Lineweaver Burk\")\n",
    "axe.set_xlabel(r\"Concentration Ratio, $\\frac{\\xi}{n_0 - \\xi}$ $[-]$\")\n",
    "axe.set_ylabel(r\"Inverse Rate, $\\frac{1}{r}$ $[\\mathrm{m^3\\cdot s \\cdot mol^{-1}]}$\")\n",
    "axe.legend() # bbox_to_anchor=(1,1))\n",
    "axe.grid()"
   ]
  },
  {
   "cell_type": "markdown",
   "id": "e4150882",
   "metadata": {},
   "source": [
    "## Analysis"
   ]
  },
  {
   "cell_type": "code",
   "execution_count": 55,
   "id": "027cbaa5",
   "metadata": {
    "ExecuteTime": {
     "end_time": "2022-02-14T07:59:13.170443Z",
     "start_time": "2022-02-14T07:59:13.155504Z"
    }
   },
   "outputs": [
    {
     "data": {
      "text/html": [
       "<div>\n",
       "<style scoped>\n",
       "    .dataframe tbody tr th:only-of-type {\n",
       "        vertical-align: middle;\n",
       "    }\n",
       "\n",
       "    .dataframe tbody tr th {\n",
       "        vertical-align: top;\n",
       "    }\n",
       "\n",
       "    .dataframe thead th {\n",
       "        text-align: right;\n",
       "    }\n",
       "</style>\n",
       "<table border=\"1\" class=\"dataframe\">\n",
       "  <thead>\n",
       "    <tr style=\"text-align: right;\">\n",
       "      <th></th>\n",
       "      <th>k1</th>\n",
       "      <th>k2</th>\n",
       "      <th>MSE</th>\n",
       "      <th>r2</th>\n",
       "    </tr>\n",
       "  </thead>\n",
       "  <tbody>\n",
       "    <tr>\n",
       "      <th>OLS</th>\n",
       "      <td>0.047536</td>\n",
       "      <td>78.005591</td>\n",
       "      <td>220.707334</td>\n",
       "      <td>0.999953</td>\n",
       "    </tr>\n",
       "    <tr>\n",
       "      <th>LB</th>\n",
       "      <td>0.047019</td>\n",
       "      <td>78.245130</td>\n",
       "      <td>49.817143</td>\n",
       "      <td>0.565121</td>\n",
       "    </tr>\n",
       "    <tr>\n",
       "      <th>LMA</th>\n",
       "      <td>0.047536</td>\n",
       "      <td>78.005590</td>\n",
       "      <td>220.707334</td>\n",
       "      <td>0.999953</td>\n",
       "    </tr>\n",
       "    <tr>\n",
       "      <th>LBP3</th>\n",
       "      <td>0.047032</td>\n",
       "      <td>75.504930</td>\n",
       "      <td>0.462349</td>\n",
       "      <td>0.992384</td>\n",
       "    </tr>\n",
       "    <tr>\n",
       "      <th>LBM</th>\n",
       "      <td>0.047296</td>\n",
       "      <td>73.760637</td>\n",
       "      <td>0.792624</td>\n",
       "      <td>0.984458</td>\n",
       "    </tr>\n",
       "  </tbody>\n",
       "</table>\n",
       "</div>"
      ],
      "text/plain": [
       "            k1         k2         MSE        r2\n",
       "OLS   0.047536  78.005591  220.707334  0.999953\n",
       "LB    0.047019  78.245130   49.817143  0.565121\n",
       "LMA   0.047536  78.005590  220.707334  0.999953\n",
       "LBP3  0.047032  75.504930    0.462349  0.992384\n",
       "LBM   0.047296  73.760637    0.792624  0.984458"
      ]
     },
     "execution_count": 55,
     "metadata": {},
     "output_type": "execute_result"
    }
   ],
   "source": [
    "final = pd.DataFrame(results).T\n",
    "final"
   ]
  },
  {
   "cell_type": "code",
   "execution_count": 56,
   "id": "2122d175",
   "metadata": {
    "ExecuteTime": {
     "end_time": "2022-02-14T07:59:13.179927Z",
     "start_time": "2022-02-14T07:59:13.173460Z"
    }
   },
   "outputs": [],
   "source": [
    "def regmse(x):\n",
    "    that = objective(df[\"xi\"], x[\"k1\"], x[\"k2\"])\n",
    "    mse = metrics.mean_squared_error(df[\"t\"], that)\n",
    "    score = metrics.r2_score(df[\"t\"], that)\n",
    "    return pd.Series({\"Fit MSE\": mse, \"Fit Score\": score})"
   ]
  },
  {
   "cell_type": "code",
   "execution_count": 57,
   "id": "4cd041d9",
   "metadata": {
    "ExecuteTime": {
     "end_time": "2022-02-14T07:59:13.231911Z",
     "start_time": "2022-02-14T07:59:13.184106Z"
    }
   },
   "outputs": [],
   "source": [
    "final = pd.concat([final, final.apply(regmse, axis=1)], axis=1)"
   ]
  },
  {
   "cell_type": "code",
   "execution_count": 58,
   "id": "a73d5eeb",
   "metadata": {
    "ExecuteTime": {
     "end_time": "2022-02-14T07:59:13.258056Z",
     "start_time": "2022-02-14T07:59:13.236297Z"
    }
   },
   "outputs": [
    {
     "data": {
      "text/html": [
       "<div>\n",
       "<style scoped>\n",
       "    .dataframe tbody tr th:only-of-type {\n",
       "        vertical-align: middle;\n",
       "    }\n",
       "\n",
       "    .dataframe tbody tr th {\n",
       "        vertical-align: top;\n",
       "    }\n",
       "\n",
       "    .dataframe thead th {\n",
       "        text-align: right;\n",
       "    }\n",
       "</style>\n",
       "<table border=\"1\" class=\"dataframe\">\n",
       "  <thead>\n",
       "    <tr style=\"text-align: right;\">\n",
       "      <th></th>\n",
       "      <th>k1</th>\n",
       "      <th>k2</th>\n",
       "      <th>MSE</th>\n",
       "      <th>r2</th>\n",
       "      <th>Fit MSE</th>\n",
       "      <th>Fit Score</th>\n",
       "    </tr>\n",
       "  </thead>\n",
       "  <tbody>\n",
       "    <tr>\n",
       "      <th>OLS</th>\n",
       "      <td>0.047536</td>\n",
       "      <td>78.005591</td>\n",
       "      <td>220.707334</td>\n",
       "      <td>0.999953</td>\n",
       "      <td>220.707334</td>\n",
       "      <td>0.999953</td>\n",
       "    </tr>\n",
       "    <tr>\n",
       "      <th>LB</th>\n",
       "      <td>0.047019</td>\n",
       "      <td>78.245130</td>\n",
       "      <td>49.817143</td>\n",
       "      <td>0.565121</td>\n",
       "      <td>2554.580075</td>\n",
       "      <td>0.999452</td>\n",
       "    </tr>\n",
       "    <tr>\n",
       "      <th>LMA</th>\n",
       "      <td>0.047536</td>\n",
       "      <td>78.005590</td>\n",
       "      <td>220.707334</td>\n",
       "      <td>0.999953</td>\n",
       "      <td>220.707334</td>\n",
       "      <td>0.999953</td>\n",
       "    </tr>\n",
       "    <tr>\n",
       "      <th>LBP3</th>\n",
       "      <td>0.047032</td>\n",
       "      <td>75.504930</td>\n",
       "      <td>0.462349</td>\n",
       "      <td>0.992384</td>\n",
       "      <td>263.237119</td>\n",
       "      <td>0.999943</td>\n",
       "    </tr>\n",
       "    <tr>\n",
       "      <th>LBM</th>\n",
       "      <td>0.047296</td>\n",
       "      <td>73.760637</td>\n",
       "      <td>0.792624</td>\n",
       "      <td>0.984458</td>\n",
       "      <td>3083.989339</td>\n",
       "      <td>0.999338</td>\n",
       "    </tr>\n",
       "  </tbody>\n",
       "</table>\n",
       "</div>"
      ],
      "text/plain": [
       "            k1         k2         MSE        r2      Fit MSE  Fit Score\n",
       "OLS   0.047536  78.005591  220.707334  0.999953   220.707334   0.999953\n",
       "LB    0.047019  78.245130   49.817143  0.565121  2554.580075   0.999452\n",
       "LMA   0.047536  78.005590  220.707334  0.999953   220.707334   0.999953\n",
       "LBP3  0.047032  75.504930    0.462349  0.992384   263.237119   0.999943\n",
       "LBM   0.047296  73.760637    0.792624  0.984458  3083.989339   0.999338"
      ]
     },
     "execution_count": 58,
     "metadata": {},
     "output_type": "execute_result"
    }
   ],
   "source": [
    "final"
   ]
  },
  {
   "cell_type": "code",
   "execution_count": 59,
   "id": "443a9da0",
   "metadata": {
    "ExecuteTime": {
     "end_time": "2022-02-14T07:59:13.265904Z",
     "start_time": "2022-02-14T07:59:13.261943Z"
    }
   },
   "outputs": [],
   "source": [
    "#print(final[[\"k1\", \"k2\", \"Fit MSE\", \"Fit Score\"]].to_html())"
   ]
  },
  {
   "cell_type": "code",
   "execution_count": 67,
   "id": "77fcdc1c",
   "metadata": {
    "ExecuteTime": {
     "end_time": "2022-02-14T08:00:06.984686Z",
     "start_time": "2022-02-14T08:00:06.140780Z"
    }
   },
   "outputs": [
    {
     "data": {
      "image/png": "[encoded data removed]",
      "text/plain": [
       "<Figure size 432x288 with 1 Axes>"
      ]
     },
     "metadata": {
      "needs_background": "light"
     },
     "output_type": "display_data"
    }
   ],
   "source": [
    "fig, axe = plt.subplots()\n",
    "for x in final.reset_index().to_dict(orient=\"records\"):\n",
    "    that = objective(df[\"xi\"], x[\"k1\"], x[\"k2\"])\n",
    "    (that - df[\"t\"]).plot(kind=\"kde\", ax=axe, label=x[\"index\"])\n",
    "    df[x[\"index\"]] = that\n",
    "axe.set_title(\"Fit Error Distribution Estimate\")\n",
    "axe.set_xlabel(r\"Time Error, $e = t - \\hat{t}$ $[\\mathrm{s}]$\")\n",
    "axe.set_ylabel(r\"KDE, $\\tilde{f}(e)$ $[\\mathrm{s^{-1}}]$\")\n",
    "axe.legend()\n",
    "axe.grid()"
   ]
  },
  {
   "cell_type": "code",
   "execution_count": 61,
   "id": "4c6f79d1",
   "metadata": {
    "ExecuteTime": {
     "end_time": "2022-02-14T07:59:14.084909Z",
     "start_time": "2022-02-14T07:59:14.078604Z"
    }
   },
   "outputs": [],
   "source": [
    "def factory(xs, ys):\n",
    "    @np.vectorize\n",
    "    def wrapper(k1, k2):\n",
    "        that = objective(xs, k1, k2)\n",
    "        mse = metrics.mean_squared_error(ys, that)\n",
    "        return mse\n",
    "    return wrapper"
   ]
  },
  {
   "cell_type": "code",
   "execution_count": 62,
   "id": "f4b82dc3",
   "metadata": {
    "ExecuteTime": {
     "end_time": "2022-02-14T07:59:14.094144Z",
     "start_time": "2022-02-14T07:59:14.089253Z"
    }
   },
   "outputs": [],
   "source": [
    "scoring = factory(df[\"xi\"], df[\"t\"])"
   ]
  },
  {
   "cell_type": "code",
   "execution_count": null,
   "id": "31063e6f",
   "metadata": {
    "ExecuteTime": {
     "end_time": "2022-02-12T13:50:30.366793Z",
     "start_time": "2022-02-12T13:50:30.351341Z"
    }
   },
   "outputs": [],
   "source": []
  },
  {
   "cell_type": "code",
   "execution_count": 63,
   "id": "2c6ccd31",
   "metadata": {
    "ExecuteTime": {
     "end_time": "2022-02-14T07:59:14.104013Z",
     "start_time": "2022-02-14T07:59:14.098515Z"
    }
   },
   "outputs": [],
   "source": [
    "k1l = np.linspace(4.0e-2, 5.5e-2, 10)\n",
    "k2l = np.linspace(70, 90, 10)"
   ]
  },
  {
   "cell_type": "code",
   "execution_count": 64,
   "id": "b9d14074",
   "metadata": {
    "ExecuteTime": {
     "end_time": "2022-02-14T07:59:14.114493Z",
     "start_time": "2022-02-14T07:59:14.108418Z"
    }
   },
   "outputs": [],
   "source": [
    "K1, K2 = np.meshgrid(k1l, k2l)"
   ]
  },
  {
   "cell_type": "code",
   "execution_count": 65,
   "id": "fa33227f",
   "metadata": {
    "ExecuteTime": {
     "end_time": "2022-02-14T07:59:14.427262Z",
     "start_time": "2022-02-14T07:59:14.118954Z"
    }
   },
   "outputs": [],
   "source": [
    "MSE = scoring(K1, K2)"
   ]
  },
  {
   "cell_type": "code",
   "execution_count": 66,
   "id": "692bcb3a",
   "metadata": {
    "ExecuteTime": {
     "end_time": "2022-02-14T07:59:15.070020Z",
     "start_time": "2022-02-14T07:59:14.435412Z"
    }
   },
   "outputs": [
    {
     "data": {
      "image/png": "[encoded data removed]",
      "text/plain": [
       "<Figure size 432x288 with 1 Axes>"
      ]
     },
     "metadata": {
      "needs_background": "light"
     },
     "output_type": "display_data"
    }
   ],
   "source": [
    "fig, axe = plt.subplots()\n",
    "axe.contour(K1, K2, np.log10(MSE), np.arange(1, 8, 0.33), cmap=\"jet\")\n",
    "for exp in final.reset_index().to_dict(orient=\"records\"):\n",
    "    axe.plot(exp[\"k1\"], exp[\"k2\"], \".\", markersize=12, label=exp[\"index\"])\n",
    "#axe.set_xscale(\"log\")\n",
    "#axe.set_yscale(\"log\")\n",
    "axe.set_title(\"Mean Squared Error\")\n",
    "axe.set_xlabel(r\"Kinetic Constant, $k_1$ $[\\mathrm{m^3\\cdot s \\cdot mol^{-1}]}$\")\n",
    "axe.set_ylabel(r\"Partition Constant, $k_2$ $[-]$\")\n",
    "axe.legend(bbox_to_anchor=(1, 1))\n",
    "axe.grid()"
   ]
  },
  {
   "cell_type": "code",
   "execution_count": null,
   "id": "65b37922",
   "metadata": {},
   "outputs": [],
   "source": []
  },
  {
   "cell_type": "code",
   "execution_count": 68,
   "id": "eeea0134",
   "metadata": {
    "ExecuteTime": {
     "end_time": "2022-02-14T08:00:10.995967Z",
     "start_time": "2022-02-14T08:00:10.931286Z"
    }
   },
   "outputs": [
    {
     "data": {
      "text/html": [
       "<div>\n",
       "<style scoped>\n",
       "    .dataframe tbody tr th:only-of-type {\n",
       "        vertical-align: middle;\n",
       "    }\n",
       "\n",
       "    .dataframe tbody tr th {\n",
       "        vertical-align: top;\n",
       "    }\n",
       "\n",
       "    .dataframe thead th {\n",
       "        text-align: right;\n",
       "    }\n",
       "</style>\n",
       "<table border=\"1\" class=\"dataframe\">\n",
       "  <thead>\n",
       "    <tr style=\"text-align: right;\">\n",
       "      <th></th>\n",
       "      <th>t</th>\n",
       "      <th>V</th>\n",
       "      <th>xi</th>\n",
       "      <th>B/A</th>\n",
       "      <th>x1</th>\n",
       "      <th>x2</th>\n",
       "      <th>dxidt1</th>\n",
       "      <th>1/r1</th>\n",
       "      <th>OLS</th>\n",
       "      <th>LB</th>\n",
       "      <th>LMA</th>\n",
       "      <th>LBP3</th>\n",
       "      <th>LBM</th>\n",
       "    </tr>\n",
       "  </thead>\n",
       "  <tbody>\n",
       "    <tr>\n",
       "      <th>2</th>\n",
       "      <td>0</td>\n",
       "      <td>0.000000</td>\n",
       "      <td>0.000000</td>\n",
       "      <td>0.000000</td>\n",
       "      <td>0.000000</td>\n",
       "      <td>-0.000000</td>\n",
       "      <td>NaN</td>\n",
       "      <td>NaN</td>\n",
       "      <td>-0.000000</td>\n",
       "      <td>-0.000000</td>\n",
       "      <td>-0.000000</td>\n",
       "      <td>-0.000000</td>\n",
       "      <td>-0.000000</td>\n",
       "    </tr>\n",
       "    <tr>\n",
       "      <th>3</th>\n",
       "      <td>39</td>\n",
       "      <td>0.000008</td>\n",
       "      <td>0.000339</td>\n",
       "      <td>0.000137</td>\n",
       "      <td>1.783749</td>\n",
       "      <td>1.783871</td>\n",
       "      <td>0.000009</td>\n",
       "      <td>21.864063</td>\n",
       "      <td>37.724000</td>\n",
       "      <td>38.139834</td>\n",
       "      <td>37.724000</td>\n",
       "      <td>38.121890</td>\n",
       "      <td>37.904500</td>\n",
       "    </tr>\n",
       "    <tr>\n",
       "      <th>4</th>\n",
       "      <td>131</td>\n",
       "      <td>0.000027</td>\n",
       "      <td>0.001126</td>\n",
       "      <td>0.000454</td>\n",
       "      <td>5.923808</td>\n",
       "      <td>5.925152</td>\n",
       "      <td>0.000009</td>\n",
       "      <td>22.221904</td>\n",
       "      <td>126.822127</td>\n",
       "      <td>128.224854</td>\n",
       "      <td>126.822128</td>\n",
       "      <td>128.110099</td>\n",
       "      <td>127.345092</td>\n",
       "    </tr>\n",
       "    <tr>\n",
       "      <th>5</th>\n",
       "      <td>184</td>\n",
       "      <td>0.000038</td>\n",
       "      <td>0.001603</td>\n",
       "      <td>0.000646</td>\n",
       "      <td>8.434270</td>\n",
       "      <td>8.436994</td>\n",
       "      <td>0.000009</td>\n",
       "      <td>21.111656</td>\n",
       "      <td>181.899364</td>\n",
       "      <td>183.915338</td>\n",
       "      <td>181.899365</td>\n",
       "      <td>183.704308</td>\n",
       "      <td>182.577910</td>\n",
       "    </tr>\n",
       "    <tr>\n",
       "      <th>6</th>\n",
       "      <td>214</td>\n",
       "      <td>0.000044</td>\n",
       "      <td>0.001845</td>\n",
       "      <td>0.000744</td>\n",
       "      <td>9.711522</td>\n",
       "      <td>9.715134</td>\n",
       "      <td>0.000008</td>\n",
       "      <td>23.487920</td>\n",
       "      <td>210.225391</td>\n",
       "      <td>212.557661</td>\n",
       "      <td>210.225392</td>\n",
       "      <td>212.286758</td>\n",
       "      <td>210.967993</td>\n",
       "    </tr>\n",
       "    <tr>\n",
       "      <th>...</th>\n",
       "      <td>...</td>\n",
       "      <td>...</td>\n",
       "      <td>...</td>\n",
       "      <td>...</td>\n",
       "      <td>...</td>\n",
       "      <td>...</td>\n",
       "      <td>...</td>\n",
       "      <td>...</td>\n",
       "      <td>...</td>\n",
       "      <td>...</td>\n",
       "      <td>...</td>\n",
       "      <td>...</td>\n",
       "      <td>...</td>\n",
       "    </tr>\n",
       "    <tr>\n",
       "      <th>113</th>\n",
       "      <td>6938</td>\n",
       "      <td>0.000927</td>\n",
       "      <td>0.038791</td>\n",
       "      <td>0.015879</td>\n",
       "      <td>204.162179</td>\n",
       "      <td>205.774609</td>\n",
       "      <td>0.000004</td>\n",
       "      <td>44.353932</td>\n",
       "      <td>6940.848897</td>\n",
       "      <td>7025.458676</td>\n",
       "      <td>6940.848890</td>\n",
       "      <td>6929.516458</td>\n",
       "      <td>6831.350617</td>\n",
       "    </tr>\n",
       "    <tr>\n",
       "      <th>114</th>\n",
       "      <td>7088</td>\n",
       "      <td>0.000943</td>\n",
       "      <td>0.039439</td>\n",
       "      <td>0.016149</td>\n",
       "      <td>207.575526</td>\n",
       "      <td>209.242616</td>\n",
       "      <td>0.000004</td>\n",
       "      <td>43.945140</td>\n",
       "      <td>7102.351334</td>\n",
       "      <td>7189.017179</td>\n",
       "      <td>7102.351327</td>\n",
       "      <td>7089.843772</td>\n",
       "      <td>6988.766652</td>\n",
       "    </tr>\n",
       "    <tr>\n",
       "      <th>115</th>\n",
       "      <td>7272</td>\n",
       "      <td>0.000960</td>\n",
       "      <td>0.040172</td>\n",
       "      <td>0.016453</td>\n",
       "      <td>211.429304</td>\n",
       "      <td>213.159215</td>\n",
       "      <td>0.000004</td>\n",
       "      <td>47.745348</td>\n",
       "      <td>7286.509361</td>\n",
       "      <td>7375.522204</td>\n",
       "      <td>7286.509353</td>\n",
       "      <td>7272.635659</td>\n",
       "      <td>7168.220862</td>\n",
       "    </tr>\n",
       "    <tr>\n",
       "      <th>116</th>\n",
       "      <td>7300</td>\n",
       "      <td>0.000964</td>\n",
       "      <td>0.040314</td>\n",
       "      <td>0.016513</td>\n",
       "      <td>212.178039</td>\n",
       "      <td>213.920291</td>\n",
       "      <td>0.000005</td>\n",
       "      <td>37.396452</td>\n",
       "      <td>7322.512252</td>\n",
       "      <td>7411.984239</td>\n",
       "      <td>7322.512244</td>\n",
       "      <td>7308.368281</td>\n",
       "      <td>7203.298773</td>\n",
       "    </tr>\n",
       "    <tr>\n",
       "      <th>117</th>\n",
       "      <td>7359</td>\n",
       "      <td>0.000968</td>\n",
       "      <td>0.040498</td>\n",
       "      <td>0.016589</td>\n",
       "      <td>213.146989</td>\n",
       "      <td>214.905278</td>\n",
       "      <td>0.000003</td>\n",
       "      <td>60.890652</td>\n",
       "      <td>7369.212261</td>\n",
       "      <td>7459.279958</td>\n",
       "      <td>7369.212252</td>\n",
       "      <td>7354.716186</td>\n",
       "      <td>7248.796387</td>\n",
       "    </tr>\n",
       "  </tbody>\n",
       "</table>\n",
       "<p>116 rows × 13 columns</p>\n",
       "</div>"
      ],
      "text/plain": [
       "        t         V        xi       B/A          x1          x2    dxidt1  \\\n",
       "2       0  0.000000  0.000000  0.000000    0.000000   -0.000000       NaN   \n",
       "3      39  0.000008  0.000339  0.000137    1.783749    1.783871  0.000009   \n",
       "4     131  0.000027  0.001126  0.000454    5.923808    5.925152  0.000009   \n",
       "5     184  0.000038  0.001603  0.000646    8.434270    8.436994  0.000009   \n",
       "6     214  0.000044  0.001845  0.000744    9.711522    9.715134  0.000008   \n",
       "..    ...       ...       ...       ...         ...         ...       ...   \n",
       "113  6938  0.000927  0.038791  0.015879  204.162179  205.774609  0.000004   \n",
       "114  7088  0.000943  0.039439  0.016149  207.575526  209.242616  0.000004   \n",
       "115  7272  0.000960  0.040172  0.016453  211.429304  213.159215  0.000004   \n",
       "116  7300  0.000964  0.040314  0.016513  212.178039  213.920291  0.000005   \n",
       "117  7359  0.000968  0.040498  0.016589  213.146989  214.905278  0.000003   \n",
       "\n",
       "          1/r1          OLS           LB          LMA         LBP3  \\\n",
       "2          NaN    -0.000000    -0.000000    -0.000000    -0.000000   \n",
       "3    21.864063    37.724000    38.139834    37.724000    38.121890   \n",
       "4    22.221904   126.822127   128.224854   126.822128   128.110099   \n",
       "5    21.111656   181.899364   183.915338   181.899365   183.704308   \n",
       "6    23.487920   210.225391   212.557661   210.225392   212.286758   \n",
       "..         ...          ...          ...          ...          ...   \n",
       "113  44.353932  6940.848897  7025.458676  6940.848890  6929.516458   \n",
       "114  43.945140  7102.351334  7189.017179  7102.351327  7089.843772   \n",
       "115  47.745348  7286.509361  7375.522204  7286.509353  7272.635659   \n",
       "116  37.396452  7322.512252  7411.984239  7322.512244  7308.368281   \n",
       "117  60.890652  7369.212261  7459.279958  7369.212252  7354.716186   \n",
       "\n",
       "             LBM  \n",
       "2      -0.000000  \n",
       "3      37.904500  \n",
       "4     127.345092  \n",
       "5     182.577910  \n",
       "6     210.967993  \n",
       "..           ...  \n",
       "113  6831.350617  \n",
       "114  6988.766652  \n",
       "115  7168.220862  \n",
       "116  7203.298773  \n",
       "117  7248.796387  \n",
       "\n",
       "[116 rows x 13 columns]"
      ]
     },
     "execution_count": 68,
     "metadata": {},
     "output_type": "execute_result"
    }
   ],
   "source": [
    "df"
   ]
  },
  {
   "cell_type": "code",
   "execution_count": 82,
   "id": "a4aadb88",
   "metadata": {
    "ExecuteTime": {
     "end_time": "2022-02-14T08:03:10.994110Z",
     "start_time": "2022-02-14T08:03:10.619579Z"
    }
   },
   "outputs": [
    {
     "data": {
      "text/plain": [
       "<AxesSubplot:ylabel='Density'>"
      ]
     },
     "execution_count": 82,
     "metadata": {},
     "output_type": "execute_result"
    },
    {
     "data": {
      "image/png": "[encoded data removed]",
      "text/plain": [
       "<Figure size 432x288 with 1 Axes>"
      ]
     },
     "metadata": {
      "needs_background": "light"
     },
     "output_type": "display_data"
    }
   ],
   "source": [
    "sample = df[df[\"t\"]<1500]\n",
    "(sample[\"t\"] - sample[\"LMA\"]).plot(kind=\"kde\")"
   ]
  },
  {
   "cell_type": "code",
   "execution_count": null,
   "id": "02974996",
   "metadata": {},
   "outputs": [],
   "source": []
  }
 ],
 "metadata": {
  "hide_input": false,
  "kernelspec": {
   "display_name": "Python 3",
   "language": "python",
   "name": "python3"
  },
  "language_info": {
   "codemirror_mode": {
    "name": "ipython",
    "version": 3
   },
   "file_extension": ".py",
   "mimetype": "text/x-python",
   "name": "python",
   "nbconvert_exporter": "python",
   "pygments_lexer": "ipython3",
   "version": "3.6.9"
  },
  "toc": {
   "base_numbering": 1,
   "nav_menu": {},
   "number_sections": true,
   "sideBar": true,
   "skip_h1_title": false,
   "title_cell": "Table of Contents",
   "title_sidebar": "Contents",
   "toc_cell": false,
   "toc_position": {},
   "toc_section_display": true,
   "toc_window_display": false
  },
  "varInspector": {
   "cols": {
    "lenName": 16,
    "lenType": 16,
    "lenVar": 40
   },
   "kernels_config": {
    "python": {
     "delete_cmd_postfix": "",
     "delete_cmd_prefix": "del ",
     "library": "var_list.py",
     "varRefreshCmd": "print(var_dic_list())"
    },
    "r": {
     "delete_cmd_postfix": ") ",
     "delete_cmd_prefix": "rm(",
     "library": "var_list.r",
     "varRefreshCmd": "cat(var_dic_list()) "
    }
   },
   "types_to_exclude": [
    "module",
    "function",
    "builtin_function_or_method",
    "instance",
    "_Feature"
   ],
   "window_display": false
  }
 },
 "nbformat": 4,
 "nbformat_minor": 5
}
