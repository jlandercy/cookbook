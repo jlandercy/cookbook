{
 "cells": [
  {
   "cell_type": "code",
   "execution_count": 1,
   "id": "c96027d8",
   "metadata": {
    "ExecuteTime": {
     "end_time": "2022-03-02T11:21:56.977472Z",
     "start_time": "2022-03-02T11:21:54.453331Z"
    }
   },
   "outputs": [],
   "source": [
    "from collections.abc import Iterable\n",
    "import numpy as np\n",
    "import pandas as pd\n",
    "from scipy import integrate, optimize, stats, signal\n",
    "import matplotlib.pyplot as plt"
   ]
  },
  {
   "cell_type": "markdown",
   "id": "a111ce0a",
   "metadata": {},
   "source": [
    " - https://www.wolframalpha.com/input?i=diff%5Br*C%5Ep%281-%28C%2FK%29%5Ea%29%2C+r%5D\n",
    " - https://www.wolframalpha.com/input?i=diff%5Br*C%5Ep%281-%28C%2FK%29%5Ea%29%2C+p%5D\n",
    " - https://www.wolframalpha.com/input?i=diff%5Br*C%5Ep%281-%28C%2FK%29%5Ea%29%2C+K%5D\n",
    " - https://www.wolframalpha.com/input?i=diff%5Br*C%5Ep%281-%28C%2FK%29%5Ea%29%2C+a%5D\n",
    " - https://www.wolframalpha.com/input?i=C%27%28t%29+%3D+r*C%5Ep%281-%28C%28t%29%2FK%29%5Ea%29"
   ]
  },
  {
   "cell_type": "code",
   "execution_count": 2,
   "id": "83ba2c5a",
   "metadata": {
    "ExecuteTime": {
     "end_time": "2022-03-02T11:21:57.008048Z",
     "start_time": "2022-03-02T11:21:56.986834Z"
    }
   },
   "outputs": [],
   "source": [
    "class GRMOld:\n",
    "    \n",
    "    def __init__(self, scale=None):\n",
    "        self.scale = np.array(scale or [1e5, 1, 1, 1e5, 1])\n",
    "    \n",
    "    def ode(self, t, C, r, p, K, a):\n",
    "        return r*(np.power(C, p))*(1 - np.power((C/K), a))\n",
    "\n",
    "    def objective(self, t, C0, r, p, K, a, rtol=1e-9):\n",
    "        #print(C, r, p, K, a)\n",
    "        return integrate.solve_ivp(\n",
    "            self.ode, (t[0], t[-1]), [C0], t_eval=t, args=(r, p, K, a), rtol=rtol\n",
    "        ).y[0]\n",
    "    \n",
    "    def scaler(self, method):\n",
    "        def wrapped(*args, **kwargs):\n",
    "            return method(*args, **kwargs)/self.scale[0]\n",
    "        return wrapped\n",
    "    \n",
    "    def solve(self, t, Ct, sigma=None, p0=None, bounds=None, gtol=1e-9, max_nfev=25000):\n",
    "            \n",
    "        # Initializing:\n",
    "        if p0 is None:\n",
    "            p0 = (1e4, 5e-1, 5e-1, 1e6, 5e-1)\n",
    "            p0 = (17629.907849, 2.071898, 0.763188, 1.491130e+06, 2.133465)\n",
    "        \n",
    "        if bounds is None:\n",
    "            bounds = ((1e0, 1e-1, 1e-3, 1e0, 1e-2), (1e6, 5e0, 1e0, 1e10, 1e1))\n",
    "       \n",
    "        # Scaling:\n",
    "        p0 /= self.scale\n",
    "        bounds = tuple([bound/self.scale for bound in bounds])\n",
    "        \n",
    "        # Solving:\n",
    "        popt, pcov = optimize.curve_fit(\n",
    "            self.scaler(self.objective),\n",
    "            np.array(t), np.array(Ct)/self.scale[0], sigma=sigma,\n",
    "            p0=p0, bounds=bounds, method=\"trf\",\n",
    "            gtol=gtol, max_nfev=max_nfev\n",
    "        )\n",
    "        \n",
    "        # Unscaling:\n",
    "        popt *= self.scale\n",
    "        pcov *= np.outer(solver.scale, solver.scale)\n",
    "        \n",
    "        return popt, pcov"
   ]
  },
  {
   "cell_type": "code",
   "execution_count": 3,
   "id": "b634a1f0",
   "metadata": {
    "ExecuteTime": {
     "end_time": "2022-03-02T11:21:57.034210Z",
     "start_time": "2022-03-02T11:21:57.013195Z"
    }
   },
   "outputs": [],
   "source": [
    "class GRM:\n",
    "    \n",
    "    def __init__(self, scale=None):\n",
    "        self.scale = np.array(scale or [1, 1, 1, 1, 1])\n",
    "    \n",
    "    def ode(self, t, u, r, p, K, a, k=1e5):\n",
    "        # C = k*u  => dC = k*du\n",
    "        return (r/k)*(np.power(u*k, p))*(1 - np.power((u*k/K), a))\n",
    "    \n",
    "    def objective(self, t, C0, r, p, K, a, k=1e5, rtol=1e-9):\n",
    "        #print(C, r, p, K, a)\n",
    "        return integrate.solve_ivp(\n",
    "            self.ode, (t[0], t[-1]), [C0], t_eval=t, args=(r, p, K, a), rtol=rtol\n",
    "        ).y[0]*k\n",
    "    \n",
    "    def scaler(self, method):\n",
    "        def wrapped(t, C, r, p, K, a, **kwargs):\n",
    "            return method(t, C, r, p, K, a, **kwargs)\n",
    "        return wrapped\n",
    "    \n",
    "    def solve(self, t, Ct, sigma=None, p0=None, bounds=None, gtol=1e-9, max_nfev=25000):\n",
    "            \n",
    "        # Initializing:\n",
    "        if p0 is None:\n",
    "            p0 = (1e4, 8e-1, 8e-1, 1e6, 2e0)\n",
    "            #p0 = (17629.907849, 2.071898, 0.763188, 1.491130e+06, 2.133465)\n",
    "        \n",
    "        if bounds is None:\n",
    "            bounds = ((1e0, 1e-1, 1e-3, 1e0, 1e-2), (1e6, 5e0, 1e0, 1e10, 1e1))\n",
    "       \n",
    "        # Scaling:\n",
    "        p0 /= self.scale\n",
    "        bounds = tuple([bound/self.scale for bound in bounds])\n",
    "        \n",
    "        # Solving:\n",
    "        popt, pcov = optimize.curve_fit(\n",
    "            self.objective,\n",
    "            np.array(t), np.array(Ct)/1e5, sigma=sigma,\n",
    "            p0=p0, bounds=bounds, method=\"trf\",\n",
    "            gtol=gtol, max_nfev=max_nfev\n",
    "        )\n",
    "        \n",
    "        # Unscaling:\n",
    "        popt *= self.scale\n",
    "        pcov *= np.outer(solver.scale, solver.scale)\n",
    "        \n",
    "        return popt, pcov"
   ]
  },
  {
   "cell_type": "code",
   "execution_count": null,
   "id": "ccedf15c",
   "metadata": {},
   "outputs": [],
   "source": []
  },
  {
   "cell_type": "code",
   "execution_count": null,
   "id": "32d24f40",
   "metadata": {
    "ExecuteTime": {
     "end_time": "2022-03-02T10:26:23.127111Z",
     "start_time": "2022-03-02T10:26:23.112738Z"
    }
   },
   "outputs": [],
   "source": []
  },
  {
   "cell_type": "code",
   "execution_count": null,
   "id": "4d985e79",
   "metadata": {},
   "outputs": [],
   "source": []
  },
  {
   "cell_type": "code",
   "execution_count": 4,
   "id": "327c2723",
   "metadata": {
    "ExecuteTime": {
     "end_time": "2022-03-02T11:21:57.058512Z",
     "start_time": "2022-03-02T11:21:57.038948Z"
    }
   },
   "outputs": [],
   "source": [
    "data = pd.read_csv(\"peak.csv\")"
   ]
  },
  {
   "cell_type": "code",
   "execution_count": null,
   "id": "79edaaeb",
   "metadata": {},
   "outputs": [],
   "source": []
  },
  {
   "cell_type": "code",
   "execution_count": null,
   "id": "41cc6047",
   "metadata": {},
   "outputs": [],
   "source": []
  },
  {
   "cell_type": "code",
   "execution_count": null,
   "id": "c5dc2822",
   "metadata": {},
   "outputs": [],
   "source": []
  },
  {
   "cell_type": "code",
   "execution_count": null,
   "id": "2c9d24eb",
   "metadata": {},
   "outputs": [],
   "source": []
  },
  {
   "cell_type": "code",
   "execution_count": null,
   "id": "c08ecd87",
   "metadata": {},
   "outputs": [],
   "source": []
  },
  {
   "cell_type": "code",
   "execution_count": 5,
   "id": "fcbfafba",
   "metadata": {
    "ExecuteTime": {
     "end_time": "2022-03-02T11:21:57.066761Z",
     "start_time": "2022-03-02T11:21:57.062424Z"
    }
   },
   "outputs": [],
   "source": [
    "solver = GRM()"
   ]
  },
  {
   "cell_type": "code",
   "execution_count": null,
   "id": "20407984",
   "metadata": {},
   "outputs": [],
   "source": []
  },
  {
   "cell_type": "code",
   "execution_count": null,
   "id": "11406aa7",
   "metadata": {},
   "outputs": [],
   "source": []
  },
  {
   "cell_type": "code",
   "execution_count": null,
   "id": "b5d44994",
   "metadata": {
    "ExecuteTime": {
     "start_time": "2022-03-02T11:21:54.354Z"
    }
   },
   "outputs": [
    {
     "name": "stderr",
     "output_type": "stream",
     "text": [
      "/usr/local/lib/python3.6/dist-packages/ipykernel_launcher.py:8: RuntimeWarning: invalid value encountered in power\n",
      "  \n"
     ]
    }
   ],
   "source": [
    "p, cov = solver.solve(data[\"index_origin\"], data[\"cs_savgol_origin\"])\n",
    "p, cov"
   ]
  },
  {
   "cell_type": "code",
   "execution_count": null,
   "id": "94c4c14e",
   "metadata": {
    "ExecuteTime": {
     "start_time": "2022-03-02T11:21:54.355Z"
    }
   },
   "outputs": [],
   "source": [
    "#p[1] = 2.3"
   ]
  },
  {
   "cell_type": "code",
   "execution_count": null,
   "id": "67d75899",
   "metadata": {
    "ExecuteTime": {
     "start_time": "2022-03-02T11:21:54.356Z"
    }
   },
   "outputs": [],
   "source": [
    "t = data[\"index_origin\"].values\n",
    "C = solver.objective(t, *p)#*solver.scale[0]"
   ]
  },
  {
   "cell_type": "code",
   "execution_count": null,
   "id": "e14e25da",
   "metadata": {},
   "outputs": [],
   "source": []
  },
  {
   "cell_type": "code",
   "execution_count": null,
   "id": "73330c40",
   "metadata": {},
   "outputs": [],
   "source": []
  },
  {
   "cell_type": "code",
   "execution_count": null,
   "id": "960bb458",
   "metadata": {
    "ExecuteTime": {
     "start_time": "2022-03-02T11:21:54.358Z"
    }
   },
   "outputs": [],
   "source": [
    "plt.plot(t, C)"
   ]
  },
  {
   "cell_type": "code",
   "execution_count": null,
   "id": "74269d13",
   "metadata": {},
   "outputs": [],
   "source": []
  },
  {
   "cell_type": "code",
   "execution_count": null,
   "id": "5a021dec",
   "metadata": {
    "ExecuteTime": {
     "start_time": "2022-03-02T11:21:54.360Z"
    }
   },
   "outputs": [],
   "source": [
    "axe = data.set_index(\"index_origin\")[[\"cumsum_origin\", \"cs_savgol_origin\"]].plot()\n",
    "axe.plot(t, C, label=\"x\")\n",
    "axe.legend()"
   ]
  },
  {
   "cell_type": "code",
   "execution_count": null,
   "id": "f28f2059",
   "metadata": {
    "ExecuteTime": {
     "start_time": "2022-03-02T11:21:54.361Z"
    }
   },
   "outputs": [],
   "source": [
    "axe = data.set_index(\"index_origin\")[[\"cumsum_origin\", \"cs_savgol_origin\"]].diff().plot()\n",
    "axe.plot(t[:-1], np.diff(C))"
   ]
  },
  {
   "cell_type": "code",
   "execution_count": null,
   "id": "b199a6ac",
   "metadata": {},
   "outputs": [],
   "source": []
  },
  {
   "cell_type": "code",
   "execution_count": null,
   "id": "58b17929",
   "metadata": {},
   "outputs": [],
   "source": []
  },
  {
   "cell_type": "code",
   "execution_count": null,
   "id": "3394106c",
   "metadata": {},
   "outputs": [],
   "source": []
  }
 ],
 "metadata": {
  "hide_input": false,
  "kernelspec": {
   "display_name": "Python 3",
   "language": "python",
   "name": "python3"
  },
  "language_info": {
   "codemirror_mode": {
    "name": "ipython",
    "version": 3
   },
   "file_extension": ".py",
   "mimetype": "text/x-python",
   "name": "python",
   "nbconvert_exporter": "python",
   "pygments_lexer": "ipython3",
   "version": "3.6.9"
  },
  "toc": {
   "base_numbering": 1,
   "nav_menu": {},
   "number_sections": true,
   "sideBar": true,
   "skip_h1_title": false,
   "title_cell": "Table of Contents",
   "title_sidebar": "Contents",
   "toc_cell": false,
   "toc_position": {},
   "toc_section_display": true,
   "toc_window_display": false
  },
  "varInspector": {
   "cols": {
    "lenName": 16,
    "lenType": 16,
    "lenVar": 40
   },
   "kernels_config": {
    "python": {
     "delete_cmd_postfix": "",
     "delete_cmd_prefix": "del ",
     "library": "var_list.py",
     "varRefreshCmd": "print(var_dic_list())"
    },
    "r": {
     "delete_cmd_postfix": ") ",
     "delete_cmd_prefix": "rm(",
     "library": "var_list.r",
     "varRefreshCmd": "cat(var_dic_list()) "
    }
   },
   "types_to_exclude": [
    "module",
    "function",
    "builtin_function_or_method",
    "instance",
    "_Feature"
   ],
   "window_display": false
  }
 },
 "nbformat": 4,
 "nbformat_minor": 5
}
