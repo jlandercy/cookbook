{
 "cells": [
  {
   "cell_type": "code",
   "execution_count": 1,
   "id": "a08fcbf1",
   "metadata": {
    "ExecuteTime": {
     "end_time": "2022-02-25T08:30:03.334718Z",
     "start_time": "2022-02-25T08:30:00.345972Z"
    }
   },
   "outputs": [],
   "source": [
    "import numpy as np\n",
    "import pandas as pd\n",
    "from scipy import stats\n",
    "import copy\n",
    "import itertools\n",
    "import matplotlib.pyplot as plt"
   ]
  },
  {
   "cell_type": "code",
   "execution_count": 2,
   "id": "b066b204",
   "metadata": {
    "ExecuteTime": {
     "end_time": "2022-02-25T08:30:03.355937Z",
     "start_time": "2022-02-25T08:30:03.338522Z"
    }
   },
   "outputs": [],
   "source": [
    "def sample(law=stats.norm, params=tuple(), size=10, seed=1):\n",
    "    np.random.seed(seed)\n",
    "    dist = law(*params)\n",
    "    sample = np.array(dist.rvs(size=size))\n",
    "    kss = stats.ks_1samp(sample, dist.cdf)\n",
    "    fit = law.fit(sample)\n",
    "    dist2 = law(*fit)\n",
    "    sample2 = dist2.rvs(size=size)\n",
    "    ks20 = stats.ks_1samp(sample2, dist.cdf)\n",
    "    ks21 = stats.ks_1samp(sample, dist2.cdf)\n",
    "    ks22 = stats.ks_1samp(sample2, dist2.cdf)\n",
    "    ks23 = stats.ks_2samp(sample, sample2)\n",
    "    return {\n",
    "        \"law\": law,\n",
    "        \"dist\": dist,\n",
    "        \"name\": law.name, #__class__.__name__,\n",
    "        \"label\": \"{}{}\".format(law.name, params),\n",
    "        \"hash\": id(dist),\n",
    "        \"params\": params,\n",
    "        \"seed\": seed,\n",
    "        \"size\": size,\n",
    "        \"sample\": sample,\n",
    "        \"kss_p\": kss.pvalue,\n",
    "        \"kss_s\": kss.statistic,\n",
    "        \"fit\": fit,\n",
    "        \"ks20\": ks20.pvalue,\n",
    "        \"ks21\": ks21.pvalue,\n",
    "        \"ks22\": ks22.pvalue,\n",
    "        \"ks23\": ks23.pvalue,\n",
    "    }"
   ]
  },
  {
   "cell_type": "code",
   "execution_count": 3,
   "id": "eee9eebe",
   "metadata": {
    "ExecuteTime": {
     "end_time": "2022-02-25T08:30:03.402732Z",
     "start_time": "2022-02-25T08:30:03.369412Z"
    }
   },
   "outputs": [],
   "source": [
    "tests = [\n",
    "    {\n",
    "        \"law\": stats.norm,\n",
    "        \"params\": [(0.1,), (1.0,), (10.0,)]\n",
    "    },\n",
    "    {\n",
    "        \"law\": stats.lognorm,\n",
    "        \"params\": [(0.1,), (1.0,), (10.0,)]\n",
    "    }\n",
    "]"
   ]
  },
  {
   "cell_type": "code",
   "execution_count": 4,
   "id": "61b9777d",
   "metadata": {
    "ExecuteTime": {
     "end_time": "2022-02-25T08:30:03.444966Z",
     "start_time": "2022-02-25T08:30:03.415259Z"
    }
   },
   "outputs": [],
   "source": [
    "def combine(tests, sizes, seeds):\n",
    "    for test in copy.deepcopy(tests):\n",
    "        for params in test.pop(\"params\"):\n",
    "            for size, seed in itertools.product(sizes, seeds):\n",
    "                yield sample(params=params, size=size, seed=seed, **test)"
   ]
  },
  {
   "cell_type": "code",
   "execution_count": 5,
   "id": "e985d124",
   "metadata": {
    "ExecuteTime": {
     "end_time": "2022-02-25T08:30:03.518493Z",
     "start_time": "2022-02-25T08:30:03.462726Z"
    }
   },
   "outputs": [
    {
     "data": {
      "text/plain": [
       "array([      0,   40002,   80004,  120006,  160008,  200010,  240012,\n",
       "        280014,  320016,  360018,  400020,  440022,  480024,  520026,\n",
       "        560028,  600030,  640032,  680034,  720036,  760038,  800040,\n",
       "        840042,  880044,  920046,  960048, 1000050, 1040052, 1080054,\n",
       "       1120056, 1160058])"
      ]
     },
     "execution_count": 5,
     "metadata": {},
     "output_type": "execute_result"
    }
   ],
   "source": [
    "N = np.array([1, 5, 10, 15, 20, 30, 50, 100, 200, 1000, 5000, 10000, 20000])\n",
    "S = np.arange(30)*(np.max(N) + 1)*2\n",
    "S"
   ]
  },
  {
   "cell_type": "code",
   "execution_count": 6,
   "id": "11aaf96b",
   "metadata": {
    "ExecuteTime": {
     "end_time": "2022-02-25T08:36:28.661888Z",
     "start_time": "2022-02-25T08:30:03.526014Z"
    }
   },
   "outputs": [
    {
     "name": "stderr",
     "output_type": "stream",
     "text": [
      "/usr/local/lib/python3.6/dist-packages/scipy/stats/_distn_infrastructure.py:1844: RuntimeWarning: invalid value encountered in true_divide\n",
      "  x = np.asarray((x - loc)/scale, dtype=dtyp)\n"
     ]
    },
    {
     "data": {
      "text/html": [
       "<div>\n",
       "<style scoped>\n",
       "    .dataframe tbody tr th:only-of-type {\n",
       "        vertical-align: middle;\n",
       "    }\n",
       "\n",
       "    .dataframe tbody tr th {\n",
       "        vertical-align: top;\n",
       "    }\n",
       "\n",
       "    .dataframe thead th {\n",
       "        text-align: right;\n",
       "    }\n",
       "</style>\n",
       "<table border=\"1\" class=\"dataframe\">\n",
       "  <thead>\n",
       "    <tr style=\"text-align: right;\">\n",
       "      <th></th>\n",
       "      <th>law</th>\n",
       "      <th>dist</th>\n",
       "      <th>name</th>\n",
       "      <th>label</th>\n",
       "      <th>hash</th>\n",
       "      <th>params</th>\n",
       "      <th>seed</th>\n",
       "      <th>size</th>\n",
       "      <th>sample</th>\n",
       "      <th>kss_p</th>\n",
       "      <th>kss_s</th>\n",
       "      <th>fit</th>\n",
       "      <th>ks20</th>\n",
       "      <th>ks21</th>\n",
       "      <th>ks22</th>\n",
       "      <th>ks23</th>\n",
       "    </tr>\n",
       "  </thead>\n",
       "  <tbody>\n",
       "    <tr>\n",
       "      <th>467</th>\n",
       "      <td>&lt;scipy.stats._continuous_distns.norm_gen objec...</td>\n",
       "      <td>&lt;scipy.stats._distn_infrastructure.rv_frozen o...</td>\n",
       "      <td>norm</td>\n",
       "      <td>norm(1.0,)</td>\n",
       "      <td>140571271492160</td>\n",
       "      <td>(1.0,)</td>\n",
       "      <td>680034</td>\n",
       "      <td>10</td>\n",
       "      <td>[-0.208982003697314, 0.05529644175322401, 1.44...</td>\n",
       "      <td>0.657498</td>\n",
       "      <td>0.217231</td>\n",
       "      <td>(0.8899115265274429, 1.0973313040118713)</td>\n",
       "      <td>0.089437</td>\n",
       "      <td>0.912410</td>\n",
       "      <td>0.200731</td>\n",
       "      <td>0.786930</td>\n",
       "    </tr>\n",
       "    <tr>\n",
       "      <th>1238</th>\n",
       "      <td>&lt;scipy.stats._continuous_distns.lognorm_gen ob...</td>\n",
       "      <td>&lt;scipy.stats._distn_infrastructure.rv_frozen o...</td>\n",
       "      <td>lognorm</td>\n",
       "      <td>lognorm(0.1,)</td>\n",
       "      <td>140571265436864</td>\n",
       "      <td>(0.1,)</td>\n",
       "      <td>320016</td>\n",
       "      <td>10</td>\n",
       "      <td>[0.8466216603691359, 1.0312520471322095, 1.146...</td>\n",
       "      <td>0.393149</td>\n",
       "      <td>0.269083</td>\n",
       "      <td>(0.01013536324781257, -9.861079127358824, 10.8...</td>\n",
       "      <td>0.819190</td>\n",
       "      <td>0.603816</td>\n",
       "      <td>0.586912</td>\n",
       "      <td>0.417524</td>\n",
       "    </tr>\n",
       "    <tr>\n",
       "      <th>108</th>\n",
       "      <td>&lt;scipy.stats._continuous_distns.norm_gen objec...</td>\n",
       "      <td>&lt;scipy.stats._distn_infrastructure.rv_frozen o...</td>\n",
       "      <td>norm</td>\n",
       "      <td>norm(0.1,)</td>\n",
       "      <td>140571409488080</td>\n",
       "      <td>(0.1,)</td>\n",
       "      <td>720036</td>\n",
       "      <td>15</td>\n",
       "      <td>[-1.5327682763633341, 0.7799571328024278, 0.53...</td>\n",
       "      <td>0.149223</td>\n",
       "      <td>0.282616</td>\n",
       "      <td>(-0.2015506295785969, 1.4853508032718903)</td>\n",
       "      <td>0.457909</td>\n",
       "      <td>0.950931</td>\n",
       "      <td>0.777725</td>\n",
       "      <td>0.678138</td>\n",
       "    </tr>\n",
       "    <tr>\n",
       "      <th>2253</th>\n",
       "      <td>&lt;scipy.stats._continuous_distns.lognorm_gen ob...</td>\n",
       "      <td>&lt;scipy.stats._distn_infrastructure.rv_frozen o...</td>\n",
       "      <td>lognorm</td>\n",
       "      <td>lognorm(10.0,)</td>\n",
       "      <td>140571257017848</td>\n",
       "      <td>(10.0,)</td>\n",
       "      <td>120006</td>\n",
       "      <td>5000</td>\n",
       "      <td>[5.319504308590214e-08, 0.0016565508058890607,...</td>\n",
       "      <td>0.320225</td>\n",
       "      <td>0.013486</td>\n",
       "      <td>(3.3543780090656465, -5153.279585735174, 42047...</td>\n",
       "      <td>0.000000</td>\n",
       "      <td>0.000000</td>\n",
       "      <td>0.838948</td>\n",
       "      <td>0.000000</td>\n",
       "    </tr>\n",
       "    <tr>\n",
       "      <th>929</th>\n",
       "      <td>&lt;scipy.stats._continuous_distns.norm_gen objec...</td>\n",
       "      <td>&lt;scipy.stats._distn_infrastructure.rv_frozen o...</td>\n",
       "      <td>norm</td>\n",
       "      <td>norm(10.0,)</td>\n",
       "      <td>140571267990304</td>\n",
       "      <td>(10.0,)</td>\n",
       "      <td>1160058</td>\n",
       "      <td>20</td>\n",
       "      <td>[8.91708422595156, 10.644078380646084, 8.63120...</td>\n",
       "      <td>0.056831</td>\n",
       "      <td>0.288890</td>\n",
       "      <td>(9.479548449228478, 0.9567076662171046)</td>\n",
       "      <td>0.250520</td>\n",
       "      <td>0.894196</td>\n",
       "      <td>0.383307</td>\n",
       "      <td>0.831970</td>\n",
       "    </tr>\n",
       "  </tbody>\n",
       "</table>\n",
       "</div>"
      ],
      "text/plain": [
       "                                                    law  \\\n",
       "467   <scipy.stats._continuous_distns.norm_gen objec...   \n",
       "1238  <scipy.stats._continuous_distns.lognorm_gen ob...   \n",
       "108   <scipy.stats._continuous_distns.norm_gen objec...   \n",
       "2253  <scipy.stats._continuous_distns.lognorm_gen ob...   \n",
       "929   <scipy.stats._continuous_distns.norm_gen objec...   \n",
       "\n",
       "                                                   dist     name  \\\n",
       "467   <scipy.stats._distn_infrastructure.rv_frozen o...     norm   \n",
       "1238  <scipy.stats._distn_infrastructure.rv_frozen o...  lognorm   \n",
       "108   <scipy.stats._distn_infrastructure.rv_frozen o...     norm   \n",
       "2253  <scipy.stats._distn_infrastructure.rv_frozen o...  lognorm   \n",
       "929   <scipy.stats._distn_infrastructure.rv_frozen o...     norm   \n",
       "\n",
       "               label             hash   params     seed  size  \\\n",
       "467       norm(1.0,)  140571271492160   (1.0,)   680034    10   \n",
       "1238   lognorm(0.1,)  140571265436864   (0.1,)   320016    10   \n",
       "108       norm(0.1,)  140571409488080   (0.1,)   720036    15   \n",
       "2253  lognorm(10.0,)  140571257017848  (10.0,)   120006  5000   \n",
       "929      norm(10.0,)  140571267990304  (10.0,)  1160058    20   \n",
       "\n",
       "                                                 sample     kss_p     kss_s  \\\n",
       "467   [-0.208982003697314, 0.05529644175322401, 1.44...  0.657498  0.217231   \n",
       "1238  [0.8466216603691359, 1.0312520471322095, 1.146...  0.393149  0.269083   \n",
       "108   [-1.5327682763633341, 0.7799571328024278, 0.53...  0.149223  0.282616   \n",
       "2253  [5.319504308590214e-08, 0.0016565508058890607,...  0.320225  0.013486   \n",
       "929   [8.91708422595156, 10.644078380646084, 8.63120...  0.056831  0.288890   \n",
       "\n",
       "                                                    fit      ks20      ks21  \\\n",
       "467            (0.8899115265274429, 1.0973313040118713)  0.089437  0.912410   \n",
       "1238  (0.01013536324781257, -9.861079127358824, 10.8...  0.819190  0.603816   \n",
       "108           (-0.2015506295785969, 1.4853508032718903)  0.457909  0.950931   \n",
       "2253  (3.3543780090656465, -5153.279585735174, 42047...  0.000000  0.000000   \n",
       "929             (9.479548449228478, 0.9567076662171046)  0.250520  0.894196   \n",
       "\n",
       "          ks22      ks23  \n",
       "467   0.200731  0.786930  \n",
       "1238  0.586912  0.417524  \n",
       "108   0.777725  0.678138  \n",
       "2253  0.838948  0.000000  \n",
       "929   0.383307  0.831970  "
      ]
     },
     "execution_count": 6,
     "metadata": {},
     "output_type": "execute_result"
    }
   ],
   "source": [
    "df = pd.DataFrame(combine(tests, N, S))\n",
    "df.sample(5)"
   ]
  },
  {
   "cell_type": "code",
   "execution_count": 7,
   "id": "b209db6f",
   "metadata": {
    "ExecuteTime": {
     "end_time": "2022-02-25T08:36:28.879565Z",
     "start_time": "2022-02-25T08:36:28.667982Z"
    }
   },
   "outputs": [],
   "source": [
    "df.to_pickle(\"law_sample.pickle\")"
   ]
  },
  {
   "cell_type": "code",
   "execution_count": 8,
   "id": "2e4b7bc5",
   "metadata": {
    "ExecuteTime": {
     "end_time": "2022-02-25T08:36:36.919057Z",
     "start_time": "2022-02-25T08:36:28.885830Z"
    }
   },
   "outputs": [
    {
     "data": {
      "image/png": "[encoded data removed]",
      "text/plain": [
       "<Figure size 432x288 with 1 Axes>"
      ]
     },
     "metadata": {
      "needs_background": "light"
     },
     "output_type": "display_data"
    }
   ],
   "source": [
    "fig, axe = plt.subplots()\n",
    "for row in df.itertuples():\n",
    "    axe.plot(row.sample)"
   ]
  },
  {
   "cell_type": "code",
   "execution_count": 9,
   "id": "0d851f79",
   "metadata": {
    "ExecuteTime": {
     "end_time": "2022-02-25T08:36:40.379756Z",
     "start_time": "2022-02-25T08:36:36.924622Z"
    }
   },
   "outputs": [
    {
     "data": {
      "image/png": "[encoded data removed]",
      "text/plain": [
       "<Figure size 432x288 with 1 Axes>"
      ]
     },
     "metadata": {
      "needs_background": "light"
     },
     "output_type": "display_data"
    },
    {
     "data": {
      "image/png": "[encoded data removed]",
      "text/plain": [
       "<Figure size 432x288 with 1 Axes>"
      ]
     },
     "metadata": {
      "needs_background": "light"
     },
     "output_type": "display_data"
    },
    {
     "data": {
      "image/png": "[encoded data removed]",
      "text/plain": [
       "<Figure size 432x288 with 1 Axes>"
      ]
     },
     "metadata": {
      "needs_background": "light"
     },
     "output_type": "display_data"
    },
    {
     "data": {
      "image/png": "[encoded data removed]",
      "text/plain": [
       "<Figure size 432x288 with 1 Axes>"
      ]
     },
     "metadata": {
      "needs_background": "light"
     },
     "output_type": "display_data"
    },
    {
     "data": {
      "image/png": "[encoded data removed]",
      "text/plain": [
       "<Figure size 432x288 with 1 Axes>"
      ]
     },
     "metadata": {
      "needs_background": "light"
     },
     "output_type": "display_data"
    },
    {
     "data": {
      "image/png": "[encoded data removed]",
      "text/plain": [
       "<Figure size 432x288 with 1 Axes>"
      ]
     },
     "metadata": {
      "needs_background": "light"
     },
     "output_type": "display_data"
    }
   ],
   "source": [
    "g1s = df.groupby([\"label\"])\n",
    "for g1k in g1s.groups:\n",
    "    key = g1s.groups[g1k]\n",
    "    axe = df.loc[key,:].boxplot(\"ks23\", by=\"size\")\n",
    "    axe.figure.suptitle(g1k)"
   ]
  },
  {
   "cell_type": "code",
   "execution_count": null,
   "id": "f5f81c54",
   "metadata": {},
   "outputs": [],
   "source": []
  },
  {
   "cell_type": "code",
   "execution_count": null,
   "id": "92394fbc",
   "metadata": {},
   "outputs": [],
   "source": []
  }
 ],
 "metadata": {
  "hide_input": false,
  "kernelspec": {
   "display_name": "Python 3",
   "language": "python",
   "name": "python3"
  },
  "language_info": {
   "codemirror_mode": {
    "name": "ipython",
    "version": 3
   },
   "file_extension": ".py",
   "mimetype": "text/x-python",
   "name": "python",
   "nbconvert_exporter": "python",
   "pygments_lexer": "ipython3",
   "version": "3.6.9"
  },
  "toc": {
   "base_numbering": 1,
   "nav_menu": {},
   "number_sections": true,
   "sideBar": true,
   "skip_h1_title": false,
   "title_cell": "Table of Contents",
   "title_sidebar": "Contents",
   "toc_cell": false,
   "toc_position": {},
   "toc_section_display": true,
   "toc_window_display": false
  },
  "varInspector": {
   "cols": {
    "lenName": 16,
    "lenType": 16,
    "lenVar": 40
   },
   "kernels_config": {
    "python": {
     "delete_cmd_postfix": "",
     "delete_cmd_prefix": "del ",
     "library": "var_list.py",
     "varRefreshCmd": "print(var_dic_list())"
    },
    "r": {
     "delete_cmd_postfix": ") ",
     "delete_cmd_prefix": "rm(",
     "library": "var_list.r",
     "varRefreshCmd": "cat(var_dic_list()) "
    }
   },
   "types_to_exclude": [
    "module",
    "function",
    "builtin_function_or_method",
    "instance",
    "_Feature"
   ],
   "window_display": false
  }
 },
 "nbformat": 4,
 "nbformat_minor": 5
}
