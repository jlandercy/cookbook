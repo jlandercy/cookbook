{
 "cells": [
  {
   "cell_type": "code",
   "execution_count": 1,
   "id": "a08fcbf1",
   "metadata": {
    "ExecuteTime": {
     "end_time": "2022-02-23T19:24:15.162332Z",
     "start_time": "2022-02-23T19:24:13.445473Z"
    }
   },
   "outputs": [],
   "source": [
    "import numpy as np\n",
    "import pandas as pd\n",
    "from scipy import stats\n",
    "import copy\n",
    "import itertools\n",
    "import matplotlib.pyplot as plt"
   ]
  },
  {
   "cell_type": "code",
   "execution_count": 2,
   "id": "b066b204",
   "metadata": {
    "ExecuteTime": {
     "end_time": "2022-02-23T19:24:15.175847Z",
     "start_time": "2022-02-23T19:24:15.166092Z"
    }
   },
   "outputs": [],
   "source": [
    "def sample(law=stats.norm, params=tuple(), size=10, seed=1):\n",
    "    np.random.seed(seed)\n",
    "    dist = law(*params)\n",
    "    sample = np.array(dist.rvs(size=size))\n",
    "    kss = stats.ks_1samp(sample, dist.cdf)\n",
    "    fit = law.fit(sample)\n",
    "    dist2 = law(*fit)\n",
    "    sample2 = dist2.rvs(size=size)\n",
    "    ks20 = stats.ks_1samp(sample2, dist.cdf)\n",
    "    ks21 = stats.ks_1samp(sample, dist2.cdf)\n",
    "    ks22 = stats.ks_1samp(sample2, dist2.cdf)\n",
    "    ks23 = stats.ks_2samp(sample, sample2)\n",
    "    return {\n",
    "        \"law\": law,\n",
    "        \"dist\": dist,\n",
    "        \"name\": law.__class__.__name__,\n",
    "        \"params\": params,\n",
    "        \"seed\": seed,\n",
    "        \"size\": size,\n",
    "        \"sample\": sample,\n",
    "        \"kss_p\": kss.pvalue,\n",
    "        \"kss_s\": kss.statistic,\n",
    "        \"fit\": fit,\n",
    "        \"ks20\": ks20.pvalue,\n",
    "        \"ks21\": ks21.pvalue,\n",
    "        \"ks22\": ks22.pvalue,\n",
    "        \"ks23\": ks23.pvalue,\n",
    "    }"
   ]
  },
  {
   "cell_type": "code",
   "execution_count": 3,
   "id": "eee9eebe",
   "metadata": {
    "ExecuteTime": {
     "end_time": "2022-02-23T19:24:15.185086Z",
     "start_time": "2022-02-23T19:24:15.179788Z"
    }
   },
   "outputs": [],
   "source": [
    "tests = [\n",
    "    {\n",
    "        \"law\": stats.norm,\n",
    "        \"params\": [(0.1,), (1.0,), (10.0,)]\n",
    "    },\n",
    "    {\n",
    "        \"law\": stats.lognorm,\n",
    "        \"params\": [(0.1,), (1.0,), (10.0,)]\n",
    "    }\n",
    "]"
   ]
  },
  {
   "cell_type": "code",
   "execution_count": 4,
   "id": "61b9777d",
   "metadata": {
    "ExecuteTime": {
     "end_time": "2022-02-23T19:24:15.193864Z",
     "start_time": "2022-02-23T19:24:15.188851Z"
    }
   },
   "outputs": [],
   "source": [
    "def combine(tests, sizes, seeds):\n",
    "    for test in copy.deepcopy(tests):\n",
    "        for params in test.pop(\"params\"):\n",
    "            for size, seed in itertools.product(sizes, seeds):\n",
    "                yield sample(params=params, size=size, seed=seed, **test)"
   ]
  },
  {
   "cell_type": "code",
   "execution_count": 5,
   "id": "e985d124",
   "metadata": {
    "ExecuteTime": {
     "end_time": "2022-02-23T19:25:58.302164Z",
     "start_time": "2022-02-23T19:24:15.197307Z"
    }
   },
   "outputs": [
    {
     "name": "stderr",
     "output_type": "stream",
     "text": [
      "/usr/local/lib/python3.6/dist-packages/scipy/stats/_distn_infrastructure.py:1844: RuntimeWarning: invalid value encountered in true_divide\n",
      "  x = np.asarray((x - loc)/scale, dtype=dtyp)\n"
     ]
    },
    {
     "data": {
      "text/html": [
       "<div>\n",
       "<style scoped>\n",
       "    .dataframe tbody tr th:only-of-type {\n",
       "        vertical-align: middle;\n",
       "    }\n",
       "\n",
       "    .dataframe tbody tr th {\n",
       "        vertical-align: top;\n",
       "    }\n",
       "\n",
       "    .dataframe thead th {\n",
       "        text-align: right;\n",
       "    }\n",
       "</style>\n",
       "<table border=\"1\" class=\"dataframe\">\n",
       "  <thead>\n",
       "    <tr style=\"text-align: right;\">\n",
       "      <th></th>\n",
       "      <th>law</th>\n",
       "      <th>dist</th>\n",
       "      <th>name</th>\n",
       "      <th>params</th>\n",
       "      <th>seed</th>\n",
       "      <th>size</th>\n",
       "      <th>sample</th>\n",
       "      <th>kss_p</th>\n",
       "      <th>kss_s</th>\n",
       "      <th>fit</th>\n",
       "      <th>ks20</th>\n",
       "      <th>ks21</th>\n",
       "      <th>ks22</th>\n",
       "      <th>ks23</th>\n",
       "    </tr>\n",
       "  </thead>\n",
       "  <tbody>\n",
       "    <tr>\n",
       "      <th>0</th>\n",
       "      <td>&lt;scipy.stats._continuous_distns.norm_gen objec...</td>\n",
       "      <td>&lt;scipy.stats._distn_infrastructure.rv_frozen o...</td>\n",
       "      <td>norm_gen</td>\n",
       "      <td>(0.1,)</td>\n",
       "      <td>123</td>\n",
       "      <td>1</td>\n",
       "      <td>[-0.9856306033005612]</td>\n",
       "      <td>0.277642</td>\n",
       "      <td>0.861179</td>\n",
       "      <td>(-0.9856306033005612, 0.0)</td>\n",
       "      <td>0.277642</td>\n",
       "      <td>NaN</td>\n",
       "      <td>NaN</td>\n",
       "      <td>1.0</td>\n",
       "    </tr>\n",
       "    <tr>\n",
       "      <th>1</th>\n",
       "      <td>&lt;scipy.stats._continuous_distns.norm_gen objec...</td>\n",
       "      <td>&lt;scipy.stats._distn_infrastructure.rv_frozen o...</td>\n",
       "      <td>norm_gen</td>\n",
       "      <td>(0.1,)</td>\n",
       "      <td>456</td>\n",
       "      <td>1</td>\n",
       "      <td>[-0.5681285004779676]</td>\n",
       "      <td>0.504052</td>\n",
       "      <td>0.747974</td>\n",
       "      <td>(-0.5681285004779676, 0.0)</td>\n",
       "      <td>0.504052</td>\n",
       "      <td>NaN</td>\n",
       "      <td>NaN</td>\n",
       "      <td>1.0</td>\n",
       "    </tr>\n",
       "    <tr>\n",
       "      <th>2</th>\n",
       "      <td>&lt;scipy.stats._continuous_distns.norm_gen objec...</td>\n",
       "      <td>&lt;scipy.stats._distn_infrastructure.rv_frozen o...</td>\n",
       "      <td>norm_gen</td>\n",
       "      <td>(0.1,)</td>\n",
       "      <td>789</td>\n",
       "      <td>1</td>\n",
       "      <td>[-1.0081114026139446]</td>\n",
       "      <td>0.267814</td>\n",
       "      <td>0.866093</td>\n",
       "      <td>(-1.0081114026139446, 0.0)</td>\n",
       "      <td>0.267814</td>\n",
       "      <td>NaN</td>\n",
       "      <td>NaN</td>\n",
       "      <td>1.0</td>\n",
       "    </tr>\n",
       "    <tr>\n",
       "      <th>3</th>\n",
       "      <td>&lt;scipy.stats._continuous_distns.norm_gen objec...</td>\n",
       "      <td>&lt;scipy.stats._distn_infrastructure.rv_frozen o...</td>\n",
       "      <td>norm_gen</td>\n",
       "      <td>(0.1,)</td>\n",
       "      <td>987</td>\n",
       "      <td>1</td>\n",
       "      <td>[-1.585927063376456]</td>\n",
       "      <td>0.091810</td>\n",
       "      <td>0.954095</td>\n",
       "      <td>(-1.585927063376456, 0.0)</td>\n",
       "      <td>0.091810</td>\n",
       "      <td>NaN</td>\n",
       "      <td>NaN</td>\n",
       "      <td>1.0</td>\n",
       "    </tr>\n",
       "    <tr>\n",
       "      <th>4</th>\n",
       "      <td>&lt;scipy.stats._continuous_distns.norm_gen objec...</td>\n",
       "      <td>&lt;scipy.stats._distn_infrastructure.rv_frozen o...</td>\n",
       "      <td>norm_gen</td>\n",
       "      <td>(0.1,)</td>\n",
       "      <td>654</td>\n",
       "      <td>1</td>\n",
       "      <td>[1.7620155475651473]</td>\n",
       "      <td>0.096510</td>\n",
       "      <td>0.951745</td>\n",
       "      <td>(1.7620155475651473, 0.0)</td>\n",
       "      <td>0.096510</td>\n",
       "      <td>NaN</td>\n",
       "      <td>NaN</td>\n",
       "      <td>1.0</td>\n",
       "    </tr>\n",
       "    <tr>\n",
       "      <th>...</th>\n",
       "      <td>...</td>\n",
       "      <td>...</td>\n",
       "      <td>...</td>\n",
       "      <td>...</td>\n",
       "      <td>...</td>\n",
       "      <td>...</td>\n",
       "      <td>...</td>\n",
       "      <td>...</td>\n",
       "      <td>...</td>\n",
       "      <td>...</td>\n",
       "      <td>...</td>\n",
       "      <td>...</td>\n",
       "      <td>...</td>\n",
       "      <td>...</td>\n",
       "    </tr>\n",
       "    <tr>\n",
       "      <th>715</th>\n",
       "      <td>&lt;scipy.stats._continuous_distns.lognorm_gen ob...</td>\n",
       "      <td>&lt;scipy.stats._distn_infrastructure.rv_frozen o...</td>\n",
       "      <td>lognorm_gen</td>\n",
       "      <td>(10.0,)</td>\n",
       "      <td>321</td>\n",
       "      <td>10000</td>\n",
       "      <td>[5.613613834434349, 12670985.382741762, 1.4526...</td>\n",
       "      <td>0.590866</td>\n",
       "      <td>0.007700</td>\n",
       "      <td>(1.8840261916953285, -2.0193935101050826, 79.7...</td>\n",
       "      <td>0.000000</td>\n",
       "      <td>0.0</td>\n",
       "      <td>0.978334</td>\n",
       "      <td>0.0</td>\n",
       "    </tr>\n",
       "    <tr>\n",
       "      <th>716</th>\n",
       "      <td>&lt;scipy.stats._continuous_distns.lognorm_gen ob...</td>\n",
       "      <td>&lt;scipy.stats._distn_infrastructure.rv_frozen o...</td>\n",
       "      <td>lognorm_gen</td>\n",
       "      <td>(10.0,)</td>\n",
       "      <td>1234</td>\n",
       "      <td>10000</td>\n",
       "      <td>[111.53647163999504, 6.72447335501612e-06, 166...</td>\n",
       "      <td>0.274171</td>\n",
       "      <td>0.009945</td>\n",
       "      <td>(2.925164991337646, -0.030675527784720547, 145...</td>\n",
       "      <td>0.000000</td>\n",
       "      <td>0.0</td>\n",
       "      <td>0.956610</td>\n",
       "      <td>0.0</td>\n",
       "    </tr>\n",
       "    <tr>\n",
       "      <th>717</th>\n",
       "      <td>&lt;scipy.stats._continuous_distns.lognorm_gen ob...</td>\n",
       "      <td>&lt;scipy.stats._distn_infrastructure.rv_frozen o...</td>\n",
       "      <td>lognorm_gen</td>\n",
       "      <td>(10.0,)</td>\n",
       "      <td>5678</td>\n",
       "      <td>10000</td>\n",
       "      <td>[0.0008268446083125329, 0.8420534214369612, 24...</td>\n",
       "      <td>0.787367</td>\n",
       "      <td>0.006513</td>\n",
       "      <td>(0.9221696289889536, -16850.41549176337, 41324...</td>\n",
       "      <td>0.000000</td>\n",
       "      <td>0.0</td>\n",
       "      <td>0.970961</td>\n",
       "      <td>0.0</td>\n",
       "    </tr>\n",
       "    <tr>\n",
       "      <th>718</th>\n",
       "      <td>&lt;scipy.stats._continuous_distns.lognorm_gen ob...</td>\n",
       "      <td>&lt;scipy.stats._distn_infrastructure.rv_frozen o...</td>\n",
       "      <td>lognorm_gen</td>\n",
       "      <td>(10.0,)</td>\n",
       "      <td>9876</td>\n",
       "      <td>10000</td>\n",
       "      <td>[50.00106120236051, 1.827230824196739e-05, 8.5...</td>\n",
       "      <td>0.853715</td>\n",
       "      <td>0.006062</td>\n",
       "      <td>(1.3142346517159833, -74669.51605360152, 29019...</td>\n",
       "      <td>0.000000</td>\n",
       "      <td>0.0</td>\n",
       "      <td>0.539077</td>\n",
       "      <td>0.0</td>\n",
       "    </tr>\n",
       "    <tr>\n",
       "      <th>719</th>\n",
       "      <td>&lt;scipy.stats._continuous_distns.lognorm_gen ob...</td>\n",
       "      <td>&lt;scipy.stats._distn_infrastructure.rv_frozen o...</td>\n",
       "      <td>lognorm_gen</td>\n",
       "      <td>(10.0,)</td>\n",
       "      <td>5432</td>\n",
       "      <td>10000</td>\n",
       "      <td>[6.776292374369905e-13, 0.0028889091845142848,...</td>\n",
       "      <td>0.478154</td>\n",
       "      <td>0.008399</td>\n",
       "      <td>(8.720174194801299, -0.3406428655521596, 21460...</td>\n",
       "      <td>0.000000</td>\n",
       "      <td>0.0</td>\n",
       "      <td>0.292992</td>\n",
       "      <td>0.0</td>\n",
       "    </tr>\n",
       "  </tbody>\n",
       "</table>\n",
       "<p>720 rows × 14 columns</p>\n",
       "</div>"
      ],
      "text/plain": [
       "                                                   law  \\\n",
       "0    <scipy.stats._continuous_distns.norm_gen objec...   \n",
       "1    <scipy.stats._continuous_distns.norm_gen objec...   \n",
       "2    <scipy.stats._continuous_distns.norm_gen objec...   \n",
       "3    <scipy.stats._continuous_distns.norm_gen objec...   \n",
       "4    <scipy.stats._continuous_distns.norm_gen objec...   \n",
       "..                                                 ...   \n",
       "715  <scipy.stats._continuous_distns.lognorm_gen ob...   \n",
       "716  <scipy.stats._continuous_distns.lognorm_gen ob...   \n",
       "717  <scipy.stats._continuous_distns.lognorm_gen ob...   \n",
       "718  <scipy.stats._continuous_distns.lognorm_gen ob...   \n",
       "719  <scipy.stats._continuous_distns.lognorm_gen ob...   \n",
       "\n",
       "                                                  dist         name   params  \\\n",
       "0    <scipy.stats._distn_infrastructure.rv_frozen o...     norm_gen   (0.1,)   \n",
       "1    <scipy.stats._distn_infrastructure.rv_frozen o...     norm_gen   (0.1,)   \n",
       "2    <scipy.stats._distn_infrastructure.rv_frozen o...     norm_gen   (0.1,)   \n",
       "3    <scipy.stats._distn_infrastructure.rv_frozen o...     norm_gen   (0.1,)   \n",
       "4    <scipy.stats._distn_infrastructure.rv_frozen o...     norm_gen   (0.1,)   \n",
       "..                                                 ...          ...      ...   \n",
       "715  <scipy.stats._distn_infrastructure.rv_frozen o...  lognorm_gen  (10.0,)   \n",
       "716  <scipy.stats._distn_infrastructure.rv_frozen o...  lognorm_gen  (10.0,)   \n",
       "717  <scipy.stats._distn_infrastructure.rv_frozen o...  lognorm_gen  (10.0,)   \n",
       "718  <scipy.stats._distn_infrastructure.rv_frozen o...  lognorm_gen  (10.0,)   \n",
       "719  <scipy.stats._distn_infrastructure.rv_frozen o...  lognorm_gen  (10.0,)   \n",
       "\n",
       "     seed   size                                             sample     kss_p  \\\n",
       "0     123      1                              [-0.9856306033005612]  0.277642   \n",
       "1     456      1                              [-0.5681285004779676]  0.504052   \n",
       "2     789      1                              [-1.0081114026139446]  0.267814   \n",
       "3     987      1                               [-1.585927063376456]  0.091810   \n",
       "4     654      1                               [1.7620155475651473]  0.096510   \n",
       "..    ...    ...                                                ...       ...   \n",
       "715   321  10000  [5.613613834434349, 12670985.382741762, 1.4526...  0.590866   \n",
       "716  1234  10000  [111.53647163999504, 6.72447335501612e-06, 166...  0.274171   \n",
       "717  5678  10000  [0.0008268446083125329, 0.8420534214369612, 24...  0.787367   \n",
       "718  9876  10000  [50.00106120236051, 1.827230824196739e-05, 8.5...  0.853715   \n",
       "719  5432  10000  [6.776292374369905e-13, 0.0028889091845142848,...  0.478154   \n",
       "\n",
       "        kss_s                                                fit      ks20  \\\n",
       "0    0.861179                         (-0.9856306033005612, 0.0)  0.277642   \n",
       "1    0.747974                         (-0.5681285004779676, 0.0)  0.504052   \n",
       "2    0.866093                         (-1.0081114026139446, 0.0)  0.267814   \n",
       "3    0.954095                          (-1.585927063376456, 0.0)  0.091810   \n",
       "4    0.951745                          (1.7620155475651473, 0.0)  0.096510   \n",
       "..        ...                                                ...       ...   \n",
       "715  0.007700  (1.8840261916953285, -2.0193935101050826, 79.7...  0.000000   \n",
       "716  0.009945  (2.925164991337646, -0.030675527784720547, 145...  0.000000   \n",
       "717  0.006513  (0.9221696289889536, -16850.41549176337, 41324...  0.000000   \n",
       "718  0.006062  (1.3142346517159833, -74669.51605360152, 29019...  0.000000   \n",
       "719  0.008399  (8.720174194801299, -0.3406428655521596, 21460...  0.000000   \n",
       "\n",
       "     ks21      ks22  ks23  \n",
       "0     NaN       NaN   1.0  \n",
       "1     NaN       NaN   1.0  \n",
       "2     NaN       NaN   1.0  \n",
       "3     NaN       NaN   1.0  \n",
       "4     NaN       NaN   1.0  \n",
       "..    ...       ...   ...  \n",
       "715   0.0  0.978334   0.0  \n",
       "716   0.0  0.956610   0.0  \n",
       "717   0.0  0.970961   0.0  \n",
       "718   0.0  0.539077   0.0  \n",
       "719   0.0  0.292992   0.0  \n",
       "\n",
       "[720 rows x 14 columns]"
      ]
     },
     "execution_count": 5,
     "metadata": {},
     "output_type": "execute_result"
    }
   ],
   "source": [
    "df = pd.DataFrame(\n",
    "    combine(\n",
    "        tests,\n",
    "        [1, 5, 10, 15, 20, 30, 50, 100, 200, 1000, 5000, 10000],\n",
    "        [123, 456, 789, 987, 654, 321, 1234, 5678, 9876, 5432]\n",
    "    )\n",
    ")\n",
    "df"
   ]
  },
  {
   "cell_type": "code",
   "execution_count": 6,
   "id": "2e4b7bc5",
   "metadata": {
    "ExecuteTime": {
     "end_time": "2022-02-23T19:26:00.764780Z",
     "start_time": "2022-02-23T19:25:58.305516Z"
    }
   },
   "outputs": [
    {
     "data": {
      "image/png": "[encoded data removed]",
      "text/plain": [
       "<Figure size 432x288 with 1 Axes>"
      ]
     },
     "metadata": {
      "needs_background": "light"
     },
     "output_type": "display_data"
    }
   ],
   "source": [
    "fig, axe = plt.subplots()\n",
    "for row in df.itertuples():\n",
    "    axe.plot(row.sample)"
   ]
  },
  {
   "cell_type": "code",
   "execution_count": 13,
   "id": "0d851f79",
   "metadata": {
    "ExecuteTime": {
     "end_time": "2022-02-23T19:32:42.299772Z",
     "start_time": "2022-02-23T19:32:42.245084Z"
    }
   },
   "outputs": [
    {
     "ename": "KeyError",
     "evalue": "('lognorm_gen', (0.1,), 1)",
     "output_type": "error",
     "traceback": [
      "\u001b[0;31m---------------------------------------------------------------------------\u001b[0m",
      "\u001b[0;31mKeyError\u001b[0m                                  Traceback (most recent call last)",
      "\u001b[0;32m~/.local/lib/python3.6/site-packages/pandas/core/indexes/base.py\u001b[0m in \u001b[0;36mget_loc\u001b[0;34m(self, key, method, tolerance)\u001b[0m\n\u001b[1;32m   2890\u001b[0m             \u001b[0;32mtry\u001b[0m\u001b[0;34m:\u001b[0m\u001b[0;34m\u001b[0m\u001b[0;34m\u001b[0m\u001b[0m\n\u001b[0;32m-> 2891\u001b[0;31m                 \u001b[0;32mreturn\u001b[0m \u001b[0mself\u001b[0m\u001b[0;34m.\u001b[0m\u001b[0m_engine\u001b[0m\u001b[0;34m.\u001b[0m\u001b[0mget_loc\u001b[0m\u001b[0;34m(\u001b[0m\u001b[0mcasted_key\u001b[0m\u001b[0;34m)\u001b[0m\u001b[0;34m\u001b[0m\u001b[0;34m\u001b[0m\u001b[0m\n\u001b[0m\u001b[1;32m   2892\u001b[0m             \u001b[0;32mexcept\u001b[0m \u001b[0mKeyError\u001b[0m \u001b[0;32mas\u001b[0m \u001b[0merr\u001b[0m\u001b[0;34m:\u001b[0m\u001b[0;34m\u001b[0m\u001b[0;34m\u001b[0m\u001b[0m\n",
      "\u001b[0;32mpandas/_libs/index.pyx\u001b[0m in \u001b[0;36mpandas._libs.index.IndexEngine.get_loc\u001b[0;34m()\u001b[0m\n",
      "\u001b[0;32mpandas/_libs/index.pyx\u001b[0m in \u001b[0;36mpandas._libs.index.IndexEngine.get_loc\u001b[0;34m()\u001b[0m\n",
      "\u001b[0;32mpandas/_libs/hashtable_class_helper.pxi\u001b[0m in \u001b[0;36mpandas._libs.hashtable.PyObjectHashTable.get_item\u001b[0;34m()\u001b[0m\n",
      "\u001b[0;32mpandas/_libs/hashtable_class_helper.pxi\u001b[0m in \u001b[0;36mpandas._libs.hashtable.PyObjectHashTable.get_item\u001b[0;34m()\u001b[0m\n",
      "\u001b[0;31mKeyError\u001b[0m: ('lognorm_gen', (0.1,), 1)",
      "\nThe above exception was the direct cause of the following exception:\n",
      "\u001b[0;31mKeyError\u001b[0m                                  Traceback (most recent call last)",
      "\u001b[0;32m<ipython-input-13-64e291208f3d>\u001b[0m in \u001b[0;36m<module>\u001b[0;34m\u001b[0m\n\u001b[1;32m      1\u001b[0m \u001b[0mg1s\u001b[0m \u001b[0;34m=\u001b[0m \u001b[0mdf\u001b[0m\u001b[0;34m.\u001b[0m\u001b[0mgroupby\u001b[0m\u001b[0;34m(\u001b[0m\u001b[0;34m[\u001b[0m\u001b[0;34m\"name\"\u001b[0m\u001b[0;34m,\u001b[0m \u001b[0;34m\"params\"\u001b[0m\u001b[0;34m,\u001b[0m \u001b[0;34m\"size\"\u001b[0m\u001b[0;34m]\u001b[0m\u001b[0;34m)\u001b[0m\u001b[0;34m\u001b[0m\u001b[0;34m\u001b[0m\u001b[0m\n\u001b[1;32m      2\u001b[0m \u001b[0;32mfor\u001b[0m \u001b[0mg1\u001b[0m \u001b[0;32min\u001b[0m \u001b[0mg1s\u001b[0m\u001b[0;34m.\u001b[0m\u001b[0mgroups\u001b[0m\u001b[0;34m:\u001b[0m\u001b[0;34m\u001b[0m\u001b[0;34m\u001b[0m\u001b[0m\n\u001b[0;32m----> 3\u001b[0;31m     \u001b[0mprint\u001b[0m\u001b[0;34m(\u001b[0m\u001b[0mdf\u001b[0m\u001b[0;34m[\u001b[0m\u001b[0mg1\u001b[0m\u001b[0;34m]\u001b[0m\u001b[0;34m)\u001b[0m\u001b[0;34m\u001b[0m\u001b[0;34m\u001b[0m\u001b[0m\n\u001b[0m",
      "\u001b[0;32m~/.local/lib/python3.6/site-packages/pandas/core/frame.py\u001b[0m in \u001b[0;36m__getitem__\u001b[0;34m(self, key)\u001b[0m\n\u001b[1;32m   2900\u001b[0m             \u001b[0;32mif\u001b[0m \u001b[0mself\u001b[0m\u001b[0;34m.\u001b[0m\u001b[0mcolumns\u001b[0m\u001b[0;34m.\u001b[0m\u001b[0mnlevels\u001b[0m \u001b[0;34m>\u001b[0m \u001b[0;36m1\u001b[0m\u001b[0;34m:\u001b[0m\u001b[0;34m\u001b[0m\u001b[0;34m\u001b[0m\u001b[0m\n\u001b[1;32m   2901\u001b[0m                 \u001b[0;32mreturn\u001b[0m \u001b[0mself\u001b[0m\u001b[0;34m.\u001b[0m\u001b[0m_getitem_multilevel\u001b[0m\u001b[0;34m(\u001b[0m\u001b[0mkey\u001b[0m\u001b[0;34m)\u001b[0m\u001b[0;34m\u001b[0m\u001b[0;34m\u001b[0m\u001b[0m\n\u001b[0;32m-> 2902\u001b[0;31m             \u001b[0mindexer\u001b[0m \u001b[0;34m=\u001b[0m \u001b[0mself\u001b[0m\u001b[0;34m.\u001b[0m\u001b[0mcolumns\u001b[0m\u001b[0;34m.\u001b[0m\u001b[0mget_loc\u001b[0m\u001b[0;34m(\u001b[0m\u001b[0mkey\u001b[0m\u001b[0;34m)\u001b[0m\u001b[0;34m\u001b[0m\u001b[0;34m\u001b[0m\u001b[0m\n\u001b[0m\u001b[1;32m   2903\u001b[0m             \u001b[0;32mif\u001b[0m \u001b[0mis_integer\u001b[0m\u001b[0;34m(\u001b[0m\u001b[0mindexer\u001b[0m\u001b[0;34m)\u001b[0m\u001b[0;34m:\u001b[0m\u001b[0;34m\u001b[0m\u001b[0;34m\u001b[0m\u001b[0m\n\u001b[1;32m   2904\u001b[0m                 \u001b[0mindexer\u001b[0m \u001b[0;34m=\u001b[0m \u001b[0;34m[\u001b[0m\u001b[0mindexer\u001b[0m\u001b[0;34m]\u001b[0m\u001b[0;34m\u001b[0m\u001b[0;34m\u001b[0m\u001b[0m\n",
      "\u001b[0;32m~/.local/lib/python3.6/site-packages/pandas/core/indexes/base.py\u001b[0m in \u001b[0;36mget_loc\u001b[0;34m(self, key, method, tolerance)\u001b[0m\n\u001b[1;32m   2891\u001b[0m                 \u001b[0;32mreturn\u001b[0m \u001b[0mself\u001b[0m\u001b[0;34m.\u001b[0m\u001b[0m_engine\u001b[0m\u001b[0;34m.\u001b[0m\u001b[0mget_loc\u001b[0m\u001b[0;34m(\u001b[0m\u001b[0mcasted_key\u001b[0m\u001b[0;34m)\u001b[0m\u001b[0;34m\u001b[0m\u001b[0;34m\u001b[0m\u001b[0m\n\u001b[1;32m   2892\u001b[0m             \u001b[0;32mexcept\u001b[0m \u001b[0mKeyError\u001b[0m \u001b[0;32mas\u001b[0m \u001b[0merr\u001b[0m\u001b[0;34m:\u001b[0m\u001b[0;34m\u001b[0m\u001b[0;34m\u001b[0m\u001b[0m\n\u001b[0;32m-> 2893\u001b[0;31m                 \u001b[0;32mraise\u001b[0m \u001b[0mKeyError\u001b[0m\u001b[0;34m(\u001b[0m\u001b[0mkey\u001b[0m\u001b[0;34m)\u001b[0m \u001b[0;32mfrom\u001b[0m \u001b[0merr\u001b[0m\u001b[0;34m\u001b[0m\u001b[0;34m\u001b[0m\u001b[0m\n\u001b[0m\u001b[1;32m   2894\u001b[0m \u001b[0;34m\u001b[0m\u001b[0m\n\u001b[1;32m   2895\u001b[0m         \u001b[0;32mif\u001b[0m \u001b[0mtolerance\u001b[0m \u001b[0;32mis\u001b[0m \u001b[0;32mnot\u001b[0m \u001b[0;32mNone\u001b[0m\u001b[0;34m:\u001b[0m\u001b[0;34m\u001b[0m\u001b[0;34m\u001b[0m\u001b[0m\n",
      "\u001b[0;31mKeyError\u001b[0m: ('lognorm_gen', (0.1,), 1)"
     ]
    }
   ],
   "source": [
    "g1s = df.groupby([\"name\", \"params\", \"size\"])\n",
    "for g1 in g1s.groups:\n",
    "    print(df[g1])"
   ]
  },
  {
   "cell_type": "code",
   "execution_count": 12,
   "id": "c84c6923",
   "metadata": {
    "ExecuteTime": {
     "end_time": "2022-02-23T19:32:30.241560Z",
     "start_time": "2022-02-23T19:32:30.188670Z"
    }
   },
   "outputs": [
    {
     "data": {
      "text/plain": [
       "{('lognorm_gen', (0.1,), 1): [360, 361, 362, 363, 364, 365, 366, 367, 368, 369], ('lognorm_gen', (0.1,), 5): [370, 371, 372, 373, 374, 375, 376, 377, 378, 379], ('lognorm_gen', (0.1,), 10): [380, 381, 382, 383, 384, 385, 386, 387, 388, 389], ('lognorm_gen', (0.1,), 15): [390, 391, 392, 393, 394, 395, 396, 397, 398, 399], ('lognorm_gen', (0.1,), 20): [400, 401, 402, 403, 404, 405, 406, 407, 408, 409], ('lognorm_gen', (0.1,), 30): [410, 411, 412, 413, 414, 415, 416, 417, 418, 419], ('lognorm_gen', (0.1,), 50): [420, 421, 422, 423, 424, 425, 426, 427, 428, 429], ('lognorm_gen', (0.1,), 100): [430, 431, 432, 433, 434, 435, 436, 437, 438, 439], ('lognorm_gen', (0.1,), 200): [440, 441, 442, 443, 444, 445, 446, 447, 448, 449], ('lognorm_gen', (0.1,), 1000): [450, 451, 452, 453, 454, 455, 456, 457, 458, 459], ('lognorm_gen', (0.1,), 5000): [460, 461, 462, 463, 464, 465, 466, 467, 468, 469], ('lognorm_gen', (0.1,), 10000): [470, 471, 472, 473, 474, 475, 476, 477, 478, 479], ('lognorm_gen', (1.0,), 1): [480, 481, 482, 483, 484, 485, 486, 487, 488, 489], ('lognorm_gen', (1.0,), 5): [490, 491, 492, 493, 494, 495, 496, 497, 498, 499], ('lognorm_gen', (1.0,), 10): [500, 501, 502, 503, 504, 505, 506, 507, 508, 509], ('lognorm_gen', (1.0,), 15): [510, 511, 512, 513, 514, 515, 516, 517, 518, 519], ('lognorm_gen', (1.0,), 20): [520, 521, 522, 523, 524, 525, 526, 527, 528, 529], ('lognorm_gen', (1.0,), 30): [530, 531, 532, 533, 534, 535, 536, 537, 538, 539], ('lognorm_gen', (1.0,), 50): [540, 541, 542, 543, 544, 545, 546, 547, 548, 549], ('lognorm_gen', (1.0,), 100): [550, 551, 552, 553, 554, 555, 556, 557, 558, 559], ('lognorm_gen', (1.0,), 200): [560, 561, 562, 563, 564, 565, 566, 567, 568, 569], ('lognorm_gen', (1.0,), 1000): [570, 571, 572, 573, 574, 575, 576, 577, 578, 579], ('lognorm_gen', (1.0,), 5000): [580, 581, 582, 583, 584, 585, 586, 587, 588, 589], ('lognorm_gen', (1.0,), 10000): [590, 591, 592, 593, 594, 595, 596, 597, 598, 599], ('lognorm_gen', (10.0,), 1): [600, 601, 602, 603, 604, 605, 606, 607, 608, 609], ('lognorm_gen', (10.0,), 5): [610, 611, 612, 613, 614, 615, 616, 617, 618, 619], ('lognorm_gen', (10.0,), 10): [620, 621, 622, 623, 624, 625, 626, 627, 628, 629], ('lognorm_gen', (10.0,), 15): [630, 631, 632, 633, 634, 635, 636, 637, 638, 639], ('lognorm_gen', (10.0,), 20): [640, 641, 642, 643, 644, 645, 646, 647, 648, 649], ('lognorm_gen', (10.0,), 30): [650, 651, 652, 653, 654, 655, 656, 657, 658, 659], ('lognorm_gen', (10.0,), 50): [660, 661, 662, 663, 664, 665, 666, 667, 668, 669], ('lognorm_gen', (10.0,), 100): [670, 671, 672, 673, 674, 675, 676, 677, 678, 679], ('lognorm_gen', (10.0,), 200): [680, 681, 682, 683, 684, 685, 686, 687, 688, 689], ('lognorm_gen', (10.0,), 1000): [690, 691, 692, 693, 694, 695, 696, 697, 698, 699], ('lognorm_gen', (10.0,), 5000): [700, 701, 702, 703, 704, 705, 706, 707, 708, 709], ('lognorm_gen', (10.0,), 10000): [710, 711, 712, 713, 714, 715, 716, 717, 718, 719], ('norm_gen', (0.1,), 1): [0, 1, 2, 3, 4, 5, 6, 7, 8, 9], ('norm_gen', (0.1,), 5): [10, 11, 12, 13, 14, 15, 16, 17, 18, 19], ('norm_gen', (0.1,), 10): [20, 21, 22, 23, 24, 25, 26, 27, 28, 29], ('norm_gen', (0.1,), 15): [30, 31, 32, 33, 34, 35, 36, 37, 38, 39], ('norm_gen', (0.1,), 20): [40, 41, 42, 43, 44, 45, 46, 47, 48, 49], ('norm_gen', (0.1,), 30): [50, 51, 52, 53, 54, 55, 56, 57, 58, 59], ('norm_gen', (0.1,), 50): [60, 61, 62, 63, 64, 65, 66, 67, 68, 69], ('norm_gen', (0.1,), 100): [70, 71, 72, 73, 74, 75, 76, 77, 78, 79], ('norm_gen', (0.1,), 200): [80, 81, 82, 83, 84, 85, 86, 87, 88, 89], ('norm_gen', (0.1,), 1000): [90, 91, 92, 93, 94, 95, 96, 97, 98, 99], ('norm_gen', (0.1,), 5000): [100, 101, 102, 103, 104, 105, 106, 107, 108, 109], ('norm_gen', (0.1,), 10000): [110, 111, 112, 113, 114, 115, 116, 117, 118, 119], ('norm_gen', (1.0,), 1): [120, 121, 122, 123, 124, 125, 126, 127, 128, 129], ('norm_gen', (1.0,), 5): [130, 131, 132, 133, 134, 135, 136, 137, 138, 139], ('norm_gen', (1.0,), 10): [140, 141, 142, 143, 144, 145, 146, 147, 148, 149], ('norm_gen', (1.0,), 15): [150, 151, 152, 153, 154, 155, 156, 157, 158, 159], ('norm_gen', (1.0,), 20): [160, 161, 162, 163, 164, 165, 166, 167, 168, 169], ('norm_gen', (1.0,), 30): [170, 171, 172, 173, 174, 175, 176, 177, 178, 179], ('norm_gen', (1.0,), 50): [180, 181, 182, 183, 184, 185, 186, 187, 188, 189], ('norm_gen', (1.0,), 100): [190, 191, 192, 193, 194, 195, 196, 197, 198, 199], ('norm_gen', (1.0,), 200): [200, 201, 202, 203, 204, 205, 206, 207, 208, 209], ('norm_gen', (1.0,), 1000): [210, 211, 212, 213, 214, 215, 216, 217, 218, 219], ('norm_gen', (1.0,), 5000): [220, 221, 222, 223, 224, 225, 226, 227, 228, 229], ('norm_gen', (1.0,), 10000): [230, 231, 232, 233, 234, 235, 236, 237, 238, 239], ('norm_gen', (10.0,), 1): [240, 241, 242, 243, 244, 245, 246, 247, 248, 249], ('norm_gen', (10.0,), 5): [250, 251, 252, 253, 254, 255, 256, 257, 258, 259], ('norm_gen', (10.0,), 10): [260, 261, 262, 263, 264, 265, 266, 267, 268, 269], ('norm_gen', (10.0,), 15): [270, 271, 272, 273, 274, 275, 276, 277, 278, 279], ('norm_gen', (10.0,), 20): [280, 281, 282, 283, 284, 285, 286, 287, 288, 289], ('norm_gen', (10.0,), 30): [290, 291, 292, 293, 294, 295, 296, 297, 298, 299], ('norm_gen', (10.0,), 50): [300, 301, 302, 303, 304, 305, 306, 307, 308, 309], ('norm_gen', (10.0,), 100): [310, 311, 312, 313, 314, 315, 316, 317, 318, 319], ('norm_gen', (10.0,), 200): [320, 321, 322, 323, 324, 325, 326, 327, 328, 329], ('norm_gen', (10.0,), 1000): [330, 331, 332, 333, 334, 335, 336, 337, 338, 339], ('norm_gen', (10.0,), 5000): [340, 341, 342, 343, 344, 345, 346, 347, 348, 349], ('norm_gen', (10.0,), 10000): [350, 351, 352, 353, 354, 355, 356, 357, 358, 359]}"
      ]
     },
     "execution_count": 12,
     "metadata": {},
     "output_type": "execute_result"
    }
   ],
   "source": [
    "g1s.groups"
   ]
  },
  {
   "cell_type": "code",
   "execution_count": null,
   "id": "f5f81c54",
   "metadata": {},
   "outputs": [],
   "source": []
  }
 ],
 "metadata": {
  "hide_input": false,
  "kernelspec": {
   "display_name": "Python 3",
   "language": "python",
   "name": "python3"
  },
  "language_info": {
   "codemirror_mode": {
    "name": "ipython",
    "version": 3
   },
   "file_extension": ".py",
   "mimetype": "text/x-python",
   "name": "python",
   "nbconvert_exporter": "python",
   "pygments_lexer": "ipython3",
   "version": "3.6.9"
  },
  "toc": {
   "base_numbering": 1,
   "nav_menu": {},
   "number_sections": true,
   "sideBar": true,
   "skip_h1_title": false,
   "title_cell": "Table of Contents",
   "title_sidebar": "Contents",
   "toc_cell": false,
   "toc_position": {},
   "toc_section_display": true,
   "toc_window_display": false
  },
  "varInspector": {
   "cols": {
    "lenName": 16,
    "lenType": 16,
    "lenVar": 40
   },
   "kernels_config": {
    "python": {
     "delete_cmd_postfix": "",
     "delete_cmd_prefix": "del ",
     "library": "var_list.py",
     "varRefreshCmd": "print(var_dic_list())"
    },
    "r": {
     "delete_cmd_postfix": ") ",
     "delete_cmd_prefix": "rm(",
     "library": "var_list.r",
     "varRefreshCmd": "cat(var_dic_list()) "
    }
   },
   "types_to_exclude": [
    "module",
    "function",
    "builtin_function_or_method",
    "instance",
    "_Feature"
   ],
   "window_display": false
  }
 },
 "nbformat": 4,
 "nbformat_minor": 5
}
