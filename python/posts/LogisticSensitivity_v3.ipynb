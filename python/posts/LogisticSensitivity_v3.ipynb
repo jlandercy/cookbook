{
 "cells": [
  {
   "cell_type": "code",
   "execution_count": 1,
   "id": "c43f0985",
   "metadata": {
    "ExecuteTime": {
     "end_time": "2022-09-24T07:16:12.223794Z",
     "start_time": "2022-09-24T07:16:08.863055Z"
    }
   },
   "outputs": [],
   "source": [
    "import numpy as np\n",
    "import pandas as pd\n",
    "from scipy import stats, optimize, interpolate, integrate\n",
    "import matplotlib.pyplot as plt"
   ]
  },
  {
   "cell_type": "markdown",
   "id": "0b7a8a1e",
   "metadata": {},
   "source": [
    " - https://www.wolframalpha.com/input?i=int%28%28k%2F%281%2B%28%28k-n%29%2Fn%29*exp%28-r*t%29%29%29%2C+r%29"
   ]
  },
  {
   "cell_type": "code",
   "execution_count": null,
   "id": "341da925",
   "metadata": {},
   "outputs": [],
   "source": []
  },
  {
   "cell_type": "code",
   "execution_count": 2,
   "id": "7434b6b9",
   "metadata": {
    "ExecuteTime": {
     "end_time": "2022-07-18T09:44:09.646808Z",
     "start_time": "2022-07-18T09:44:09.638087Z"
    }
   },
   "outputs": [],
   "source": [
    "def logistic(t, r=1.0, N0=1e3, K=1e7):\n",
    "    term = np.exp(r*t)\n",
    "    return K*N0*term/(K + N0*(term - 1))"
   ]
  },
  {
   "cell_type": "code",
   "execution_count": 3,
   "id": "9ee3780b",
   "metadata": {
    "ExecuteTime": {
     "end_time": "2022-07-18T09:44:09.657456Z",
     "start_time": "2022-07-18T09:44:09.652782Z"
    }
   },
   "outputs": [],
   "source": [
    "normal = stats.norm(scale=0.3, loc=1.0)"
   ]
  },
  {
   "cell_type": "code",
   "execution_count": 4,
   "id": "5f4e2c5e",
   "metadata": {
    "ExecuteTime": {
     "end_time": "2022-07-18T09:44:09.668302Z",
     "start_time": "2022-07-18T09:44:09.662537Z"
    }
   },
   "outputs": [],
   "source": [
    "def _moment(r, t, k, law=normal):\n",
    "    return np.power(logistic(t, r=r), k)*law.pdf(r)"
   ]
  },
  {
   "cell_type": "code",
   "execution_count": 5,
   "id": "2adb7a00",
   "metadata": {
    "ExecuteTime": {
     "end_time": "2022-07-18T09:44:09.679208Z",
     "start_time": "2022-07-18T09:44:09.672802Z"
    }
   },
   "outputs": [],
   "source": [
    "@np.vectorize\n",
    "def moment(k, t, rmin=0, rmax=5):\n",
    "    return integrate.quad(_moment, rmin, rmax, args=(t, k), epsrel=1e-10)[0]"
   ]
  },
  {
   "cell_type": "code",
   "execution_count": 6,
   "id": "e2d5f8d4",
   "metadata": {
    "ExecuteTime": {
     "end_time": "2022-07-18T09:44:09.691622Z",
     "start_time": "2022-07-18T09:44:09.683251Z"
    }
   },
   "outputs": [],
   "source": [
    "def skewness(t):\n",
    "    mu = moment(1, t)\n",
    "    sigma = np.sqrt(moment(2, t) - mu**2)\n",
    "    skew = (moment(3, t) - 3*mu*sigma**2 - mu**3)/sigma**3\n",
    "    return skew"
   ]
  },
  {
   "cell_type": "code",
   "execution_count": 7,
   "id": "4fb98dda",
   "metadata": {
    "ExecuteTime": {
     "end_time": "2022-07-18T09:45:03.900011Z",
     "start_time": "2022-07-18T09:44:09.696065Z"
    }
   },
   "outputs": [],
   "source": [
    "t = np.linspace(0, 20, 300)\n",
    "s = skewness(t)"
   ]
  },
  {
   "cell_type": "code",
   "execution_count": 10,
   "id": "c58b23d4",
   "metadata": {
    "ExecuteTime": {
     "end_time": "2022-07-18T09:46:48.575490Z",
     "start_time": "2022-07-18T09:46:48.184700Z"
    }
   },
   "outputs": [
    {
     "data": {
      "image/png": "[encoded data removed]",
      "text/plain": [
       "<Figure size 432x288 with 1 Axes>"
      ]
     },
     "metadata": {
      "needs_background": "light"
     },
     "output_type": "display_data"
    }
   ],
   "source": [
    "fix, axe = plt.subplots()\n",
    "axe.plot(t, s)\n",
    "axe.set_ylim([-10, 10])\n",
    "axe.grid()"
   ]
  },
  {
   "cell_type": "code",
   "execution_count": null,
   "id": "456ddffa",
   "metadata": {},
   "outputs": [],
   "source": []
  }
 ],
 "metadata": {
  "hide_input": false,
  "kernelspec": {
   "display_name": "Python 3",
   "language": "python",
   "name": "python3"
  },
  "language_info": {
   "codemirror_mode": {
    "name": "ipython",
    "version": 3
   },
   "file_extension": ".py",
   "mimetype": "text/x-python",
   "name": "python",
   "nbconvert_exporter": "python",
   "pygments_lexer": "ipython3",
   "version": "3.6.9"
  },
  "toc": {
   "base_numbering": 1,
   "nav_menu": {},
   "number_sections": true,
   "sideBar": true,
   "skip_h1_title": false,
   "title_cell": "Table of Contents",
   "title_sidebar": "Contents",
   "toc_cell": false,
   "toc_position": {},
   "toc_section_display": true,
   "toc_window_display": false
  },
  "varInspector": {
   "cols": {
    "lenName": 16,
    "lenType": 16,
    "lenVar": 40
   },
   "kernels_config": {
    "python": {
     "delete_cmd_postfix": "",
     "delete_cmd_prefix": "del ",
     "library": "var_list.py",
     "varRefreshCmd": "print(var_dic_list())"
    },
    "r": {
     "delete_cmd_postfix": ") ",
     "delete_cmd_prefix": "rm(",
     "library": "var_list.r",
     "varRefreshCmd": "cat(var_dic_list()) "
    }
   },
   "types_to_exclude": [
    "module",
    "function",
    "builtin_function_or_method",
    "instance",
    "_Feature"
   ],
   "window_display": false
  }
 },
 "nbformat": 4,
 "nbformat_minor": 5
}
