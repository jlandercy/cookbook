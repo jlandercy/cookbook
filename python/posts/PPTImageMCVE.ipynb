{
 "cells": [
  {
   "cell_type": "code",
   "execution_count": 1,
   "id": "76eeec20",
   "metadata": {
    "ExecuteTime": {
     "end_time": "2022-03-19T11:31:12.363818Z",
     "start_time": "2022-03-19T11:31:10.185264Z"
    }
   },
   "outputs": [],
   "source": [
    "import io\n",
    "import numpy as np\n",
    "import pandas as pd\n",
    "import matplotlib.pyplot as plt\n",
    "\n",
    "from pptx import Presentation\n",
    "from pptx.util import Inches, Emu\n",
    "from pptx.parts.image import Image\n",
    "from pptx.shapes.picture import Picture"
   ]
  },
  {
   "cell_type": "code",
   "execution_count": 2,
   "id": "7d3914ab",
   "metadata": {
    "ExecuteTime": {
     "end_time": "2022-03-19T11:31:12.383091Z",
     "start_time": "2022-03-19T11:31:12.372011Z"
    }
   },
   "outputs": [],
   "source": [
    "data = pd.DataFrame({\"Data\": np.random.randn(1000)})"
   ]
  },
  {
   "cell_type": "code",
   "execution_count": null,
   "id": "05f4cc85",
   "metadata": {
    "ExecuteTime": {
     "end_time": "2022-03-19T11:05:49.776920Z",
     "start_time": "2022-03-19T11:05:49.755268Z"
    }
   },
   "outputs": [],
   "source": []
  },
  {
   "cell_type": "code",
   "execution_count": 3,
   "id": "76810fce",
   "metadata": {
    "ExecuteTime": {
     "end_time": "2022-03-19T11:31:12.424858Z",
     "start_time": "2022-03-19T11:31:12.389041Z"
    }
   },
   "outputs": [],
   "source": [
    "presentation = Presentation()\n",
    "index = [layout.name for layout in presentation.slide_layouts].index(\"Blank\")\n",
    "layout = presentation.slide_layouts[index]\n",
    "slide = presentation.slides.add_slide(layout)"
   ]
  },
  {
   "cell_type": "code",
   "execution_count": 4,
   "id": "2e3d5cb5",
   "metadata": {
    "ExecuteTime": {
     "end_time": "2022-03-19T11:31:13.486171Z",
     "start_time": "2022-03-19T11:31:12.430547Z"
    }
   },
   "outputs": [
    {
     "data": {
      "text/plain": [
       "<AxesSubplot:ylabel='Density'>"
      ]
     },
     "execution_count": 4,
     "metadata": {},
     "output_type": "execute_result"
    },
    {
     "data": {
      "image/png": "[encoded data removed]",
      "text/plain": [
       "<Figure size 432x288 with 1 Axes>"
      ]
     },
     "metadata": {
      "needs_background": "light"
     },
     "output_type": "display_data"
    }
   ],
   "source": [
    "fig, axe = plt.subplots()\n",
    "data.plot(kind=\"kde\", ax=axe)\n",
    "# ..."
   ]
  },
  {
   "cell_type": "code",
   "execution_count": 5,
   "id": "e124e733",
   "metadata": {
    "ExecuteTime": {
     "end_time": "2022-03-19T11:31:13.628820Z",
     "start_time": "2022-03-19T11:31:13.493941Z"
    }
   },
   "outputs": [],
   "source": [
    "stream = io.BytesIO()\n",
    "fig.savefig(stream, format=\"png\", dpi=120)\n",
    "#image = Image(blob=stream, filename=\"dummy.png\")"
   ]
  },
  {
   "cell_type": "code",
   "execution_count": 6,
   "id": "8ff41eca",
   "metadata": {
    "ExecuteTime": {
     "end_time": "2022-03-19T11:31:13.639440Z",
     "start_time": "2022-03-19T11:31:13.633383Z"
    }
   },
   "outputs": [],
   "source": [
    "W = presentation.slide_width\n",
    "H = presentation.slide_height"
   ]
  },
  {
   "cell_type": "code",
   "execution_count": 7,
   "id": "80ac8701",
   "metadata": {
    "ExecuteTime": {
     "end_time": "2022-03-19T11:31:13.649443Z",
     "start_time": "2022-03-19T11:31:13.644619Z"
    }
   },
   "outputs": [],
   "source": [
    "h = Inches(3)"
   ]
  },
  {
   "cell_type": "code",
   "execution_count": 8,
   "id": "606cb60c",
   "metadata": {
    "ExecuteTime": {
     "end_time": "2022-03-19T11:31:13.660434Z",
     "start_time": "2022-03-19T11:31:13.653578Z"
    }
   },
   "outputs": [],
   "source": [
    "picture = slide.shapes.add_picture(stream, left=0, top=0, height=h)"
   ]
  },
  {
   "cell_type": "code",
   "execution_count": 9,
   "id": "ce5dc91c",
   "metadata": {
    "ExecuteTime": {
     "end_time": "2022-03-19T11:31:13.673267Z",
     "start_time": "2022-03-19T11:31:13.665340Z"
    }
   },
   "outputs": [],
   "source": [
    "picture = slide.shapes.add_picture(stream, left=0, top=0, height=h)\n",
    "picture.top = H - picture.height"
   ]
  },
  {
   "cell_type": "code",
   "execution_count": 10,
   "id": "1c1abc18",
   "metadata": {
    "ExecuteTime": {
     "end_time": "2022-03-19T11:31:13.684793Z",
     "start_time": "2022-03-19T11:31:13.677258Z"
    }
   },
   "outputs": [],
   "source": [
    "picture = slide.shapes.add_picture(stream, left=0, top=0, height=h)\n",
    "picture.left = W - picture.width"
   ]
  },
  {
   "cell_type": "code",
   "execution_count": 11,
   "id": "85df6126",
   "metadata": {
    "ExecuteTime": {
     "end_time": "2022-03-19T11:31:13.696997Z",
     "start_time": "2022-03-19T11:31:13.688573Z"
    }
   },
   "outputs": [],
   "source": [
    "picture = slide.shapes.add_picture(stream, left=0, top=0, height=h)\n",
    "picture.top = H - picture.height\n",
    "picture.left = W - picture.width"
   ]
  },
  {
   "cell_type": "code",
   "execution_count": 12,
   "id": "d299a45a",
   "metadata": {
    "ExecuteTime": {
     "end_time": "2022-03-19T11:31:13.729578Z",
     "start_time": "2022-03-19T11:31:13.701005Z"
    }
   },
   "outputs": [],
   "source": [
    "presentation.save('test.pptx')"
   ]
  },
  {
   "cell_type": "code",
   "execution_count": null,
   "id": "98984a64",
   "metadata": {},
   "outputs": [],
   "source": []
  },
  {
   "cell_type": "code",
   "execution_count": null,
   "id": "740ed8b8",
   "metadata": {},
   "outputs": [],
   "source": []
  },
  {
   "cell_type": "code",
   "execution_count": null,
   "id": "4fc16e3a",
   "metadata": {
    "ExecuteTime": {
     "end_time": "2022-03-19T11:14:49.309911Z",
     "start_time": "2022-03-19T11:14:49.292494Z"
    }
   },
   "outputs": [],
   "source": []
  },
  {
   "cell_type": "code",
   "execution_count": null,
   "id": "8c8521b6",
   "metadata": {
    "ExecuteTime": {
     "end_time": "2022-03-19T11:15:15.341804Z",
     "start_time": "2022-03-19T11:15:15.336639Z"
    }
   },
   "outputs": [],
   "source": []
  },
  {
   "cell_type": "code",
   "execution_count": null,
   "id": "266036f5",
   "metadata": {},
   "outputs": [],
   "source": []
  }
 ],
 "metadata": {
  "hide_input": false,
  "kernelspec": {
   "display_name": "Python 3",
   "language": "python",
   "name": "python3"
  },
  "language_info": {
   "codemirror_mode": {
    "name": "ipython",
    "version": 3
   },
   "file_extension": ".py",
   "mimetype": "text/x-python",
   "name": "python",
   "nbconvert_exporter": "python",
   "pygments_lexer": "ipython3",
   "version": "3.6.9"
  },
  "toc": {
   "base_numbering": 1,
   "nav_menu": {},
   "number_sections": true,
   "sideBar": true,
   "skip_h1_title": false,
   "title_cell": "Table of Contents",
   "title_sidebar": "Contents",
   "toc_cell": false,
   "toc_position": {},
   "toc_section_display": true,
   "toc_window_display": false
  },
  "varInspector": {
   "cols": {
    "lenName": 16,
    "lenType": 16,
    "lenVar": 40
   },
   "kernels_config": {
    "python": {
     "delete_cmd_postfix": "",
     "delete_cmd_prefix": "del ",
     "library": "var_list.py",
     "varRefreshCmd": "print(var_dic_list())"
    },
    "r": {
     "delete_cmd_postfix": ") ",
     "delete_cmd_prefix": "rm(",
     "library": "var_list.r",
     "varRefreshCmd": "cat(var_dic_list()) "
    }
   },
   "types_to_exclude": [
    "module",
    "function",
    "builtin_function_or_method",
    "instance",
    "_Feature"
   ],
   "window_display": false
  }
 },
 "nbformat": 4,
 "nbformat_minor": 5
}
