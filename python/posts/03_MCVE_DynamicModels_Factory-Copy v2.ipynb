{
 "cells": [
  {
   "cell_type": "code",
   "execution_count": 1,
   "metadata": {
    "ExecuteTime": {
     "end_time": "2022-03-07T09:25:34.196687Z",
     "start_time": "2022-03-07T09:25:31.808666Z"
    }
   },
   "outputs": [],
   "source": [
    "from functools import wraps\n",
    "import numpy as np\n",
    "import pandas as pd\n",
    "from scipy import integrate, optimize, stats\n",
    "import matplotlib.pyplot as plt"
   ]
  },
  {
   "cell_type": "markdown",
   "metadata": {},
   "source": [
    "## References\n",
    "\n",
    " - Gerardo Chowell, *Fitting dynamic models to epidemic outbreaks withquantified uncertainty: A primer for parameter uncertainty,identifiability, and forecasts*, KeAi Infectious Disease Modelling (2017) 379-398\n",
    " - Cécile Viboud, *A generalized-growth model to characterize the early ascendingphase of infectious disease outbreaks*, Elsevier Epidemics (2016) 27-37\n",
    "\n",
    "### Useful Links\n",
    "\n",
    " \n",
    " - https://www.sciencedirect.com/science/article/pii/S2468042717300234\n",
    " - https://www.sciencedirect.com/science/article/pii/S1755436516000037\n",
    " - https://docs.scipy.org/doc/scipy/reference/generated/scipy.integrate.solve_ivp.html#scipy.integrate.solve_ivp\n",
    " - https://docs.scipy.org/doc/scipy/reference/generated/scipy.optimize.curve_fit.html\n",
    " - https://stackoverflow.com/questions/60791453/how-can-i-fix-this-typeerror-when-fitting-ode-with-scipy\n",
    " \n",
    " "
   ]
  },
  {
   "cell_type": "code",
   "execution_count": 2,
   "metadata": {
    "ExecuteTime": {
     "end_time": "2022-03-07T09:25:34.206987Z",
     "start_time": "2022-03-07T09:25:34.202064Z"
    }
   },
   "outputs": [],
   "source": [
    "t = np.arange(0, 60)"
   ]
  },
  {
   "cell_type": "markdown",
   "metadata": {},
   "source": [
    "## GRM\n",
    "\n",
    "\n",
    "The Generalized Richards Model:\n",
    "\n",
    "$$\n",
    "\\dot{C}(t) = \\frac{\\mathrm{d}C}{\\mathrm{d}t} = r C^p\\left[1-\\left(\\frac{C}{K}\\right)^a\\right]\n",
    "$$\n",
    "\n",
    "Where $C(t)$ is the cumulative number of case, $r \\in \\mathbb{R}^+$ is the **growth rate** and $p \\in (0,1)$ is the **deceleration of growth**, $K \\in \\mathbb{R}^+$ is the **size of the epidemic** and $a$ is the deviation from the S-shaped dynamic."
   ]
  },
  {
   "cell_type": "code",
   "execution_count": 3,
   "metadata": {
    "ExecuteTime": {
     "end_time": "2022-03-07T09:25:34.218119Z",
     "start_time": "2022-03-07T09:25:34.212169Z"
    }
   },
   "outputs": [],
   "source": [
    "def GRM_ODE(t, C, r, p, K, a):\n",
    "    return r*np.power(C, p)*(1-np.power((C/K), a))"
   ]
  },
  {
   "cell_type": "code",
   "execution_count": 4,
   "metadata": {
    "ExecuteTime": {
     "end_time": "2022-03-07T09:25:34.229708Z",
     "start_time": "2022-03-07T09:25:34.222906Z"
    }
   },
   "outputs": [],
   "source": [
    "def GRM(t, C0, r, p, K, a, rtol=1e-6):\n",
    "    return integrate.solve_ivp(GRM_ODE, (t[0], t[-1]), [C0], t_eval=t, args=(r, p, K, a), rtol=rtol).y[0]"
   ]
  },
  {
   "cell_type": "code",
   "execution_count": 5,
   "metadata": {
    "ExecuteTime": {
     "end_time": "2022-03-07T09:25:34.240248Z",
     "start_time": "2022-03-07T09:25:34.233933Z"
    }
   },
   "outputs": [],
   "source": [
    "def factory(C0, rtol=1e-6):\n",
    "    def wrapper(t, r, p, K, a):\n",
    "        return GRM(t, C0, r, p, K, a, rtol=1e-6)\n",
    "    return wrapper"
   ]
  },
  {
   "cell_type": "code",
   "execution_count": 19,
   "metadata": {
    "ExecuteTime": {
     "end_time": "2022-03-07T09:29:25.764970Z",
     "start_time": "2022-03-07T09:29:25.740018Z"
    }
   },
   "outputs": [],
   "source": [
    "#y2 = GRM(t, 2321, 1.19, 0.83, 1.76e5, 1.72)\n",
    "y2 = GRM(t, 1.7e4, 2.1, 0.76, 1.4e6, 2.1)"
   ]
  },
  {
   "cell_type": "code",
   "execution_count": 21,
   "metadata": {
    "ExecuteTime": {
     "end_time": "2022-03-07T09:29:50.446027Z",
     "start_time": "2022-03-07T09:29:44.746405Z"
    }
   },
   "outputs": [
    {
     "data": {
      "text/plain": [
       "(array([1.7e+04, 2.1e+00, 7.6e-01, 1.4e+06, 2.1e+00]),\n",
       " array([[ 1.00144111e-18, -3.69543403e-22,  1.43140758e-23,\n",
       "          8.93033409e-19, -7.42766848e-23],\n",
       "        [-3.69543403e-22,  1.60238694e-25, -6.28416198e-27,\n",
       "         -5.55041154e-22,  3.73089838e-26],\n",
       "        [ 1.43140758e-23, -6.28416198e-27,  2.46677661e-28,\n",
       "          2.23801853e-23, -1.47965383e-27],\n",
       "        [ 8.93033409e-19, -5.55041154e-22,  2.23801853e-23,\n",
       "          7.32555847e-18, -1.96747554e-22],\n",
       "        [-7.42766848e-23,  3.73089838e-26, -1.47965383e-27,\n",
       "         -1.96747554e-22,  1.00905319e-26]]))"
      ]
     },
     "execution_count": 21,
     "metadata": {},
     "output_type": "execute_result"
    }
   ],
   "source": [
    "popt2, pcov2 = optimize.curve_fit(\n",
    "    GRM, t, y2, p0=(1e4, 1, 1, 1e6, 1), bounds=([1, 0.1, 0.01, 50, 0.1], [1e5, 10, 10, 1e7, 10]),\n",
    "    gtol=1e-6, max_nfev=10000)\n",
    "(popt2, pcov2)"
   ]
  },
  {
   "cell_type": "code",
   "execution_count": 22,
   "metadata": {
    "ExecuteTime": {
     "end_time": "2022-03-07T09:29:52.367789Z",
     "start_time": "2022-03-07T09:29:52.360143Z"
    }
   },
   "outputs": [
    {
     "name": "stdout",
     "output_type": "stream",
     "text": [
      "[1.7e+04 2.1e+00 7.6e-01 1.4e+06 2.1e+00]\n"
     ]
    }
   ],
   "source": [
    "print(popt2)"
   ]
  },
  {
   "cell_type": "code",
   "execution_count": 23,
   "metadata": {
    "ExecuteTime": {
     "end_time": "2022-03-07T09:29:54.632571Z",
     "start_time": "2022-03-07T09:29:54.620041Z"
    }
   },
   "outputs": [
    {
     "name": "stdout",
     "output_type": "stream",
     "text": [
      "              0             1             2             3             4\n",
      "0  1.001441e-18 -3.695434e-22  1.431408e-23  8.930334e-19 -7.427668e-23\n",
      "1 -3.695434e-22  1.602387e-25 -6.284162e-27 -5.550412e-22  3.730898e-26\n",
      "2  1.431408e-23 -6.284162e-27  2.466777e-28  2.238019e-23 -1.479654e-27\n",
      "3  8.930334e-19 -5.550412e-22  2.238019e-23  7.325558e-18 -1.967476e-22\n",
      "4 -7.427668e-23  3.730898e-26 -1.479654e-27 -1.967476e-22  1.009053e-26\n"
     ]
    }
   ],
   "source": [
    "print(pd.DataFrame(pcov2))"
   ]
  },
  {
   "cell_type": "code",
   "execution_count": 24,
   "metadata": {
    "ExecuteTime": {
     "end_time": "2022-03-07T09:29:54.770011Z",
     "start_time": "2022-03-07T09:29:54.750810Z"
    }
   },
   "outputs": [],
   "source": [
    "y2f = GRM(t, *popt2)"
   ]
  },
  {
   "cell_type": "code",
   "execution_count": 25,
   "metadata": {
    "ExecuteTime": {
     "end_time": "2022-03-07T09:29:55.354842Z",
     "start_time": "2022-03-07T09:29:54.863685Z"
    }
   },
   "outputs": [
    {
     "data": {
      "image/png": "[encoded data removed]",
      "text/plain": [
       "<Figure size 432x288 with 1 Axes>"
      ]
     },
     "metadata": {
      "needs_background": "light"
     },
     "output_type": "display_data"
    }
   ],
   "source": [
    "fig, axe = plt.subplots()\n",
    "axe.plot(t, y2, '.', label='Synthetic')\n",
    "axe.plot(t, y2f, label='LM Fit')\n",
    "axe.set_title(\"GRM Synthetic Data\")\n",
    "axe.set_xlabel(r\"Time Index, $t$ [day]\")\n",
    "axe.set_ylabel(r\"Cumulative Cases, $C(t)$ [-]\")\n",
    "axe.legend()\n",
    "axe.grid(which='both', color='lightgray')"
   ]
  },
  {
   "cell_type": "code",
   "execution_count": 26,
   "metadata": {
    "ExecuteTime": {
     "end_time": "2022-03-07T09:29:55.889762Z",
     "start_time": "2022-03-07T09:29:55.466543Z"
    }
   },
   "outputs": [
    {
     "data": {
      "image/png": "[encoded data removed]",
      "text/plain": [
       "<Figure size 432x288 with 1 Axes>"
      ]
     },
     "metadata": {
      "needs_background": "light"
     },
     "output_type": "display_data"
    }
   ],
   "source": [
    "fig, axe = plt.subplots()\n",
    "axe.plot(t[:-1], np.diff(y2)/np.diff(t), '.', label='Synthetic')\n",
    "axe.plot(t[:-1], np.diff(y2f)/np.diff(t), '-', label='LM Fit')\n",
    "#axe.semilogy(t, y2f, label='LM Fit')\n",
    "axe.set_title(\"GRM Synthetic Data\")\n",
    "axe.set_xlabel(r\"Time Index, $t$ [day]\")\n",
    "axe.set_ylabel(r\"Daily Cases, $\\dot{C}(t)$ [1/day]\")\n",
    "axe.legend()\n",
    "axe.grid(which='both', color='lightgray')"
   ]
  },
  {
   "cell_type": "code",
   "execution_count": null,
   "metadata": {},
   "outputs": [],
   "source": []
  },
  {
   "cell_type": "code",
   "execution_count": null,
   "metadata": {},
   "outputs": [],
   "source": []
  },
  {
   "cell_type": "markdown",
   "metadata": {},
   "source": [
    "## Refactoring\n",
    "\n",
    "### Factory for ODE\n",
    "\n",
    "We create a factory for ODE adjustment"
   ]
  },
  {
   "cell_type": "code",
   "execution_count": null,
   "metadata": {
    "ExecuteTime": {
     "end_time": "2022-03-07T09:25:34.828872Z",
     "start_time": "2022-03-07T09:25:28.043Z"
    }
   },
   "outputs": [],
   "source": [
    "def ODEFitFactory(f):\n",
    "    \"\"\"\n",
    "    Factory to adjust signature function of the Integrated ODE solved by scipy.integrate.solve_ivp\n",
    "    to the optimizer provided by scipy.optimize.curve_fit\n",
    "    The first argument args[0] is the initial condition of the IVP\n",
    "    The rest of arguments args[1:] are parameters of the Fit\n",
    "    \"\"\"\n",
    "    @wraps(f)\n",
    "    def inner(t, *args):\n",
    "        return integrate.solve_ivp(f, (t[0], t[-1]), args[0:], t_eval=t, args=args[1:]).y[0]\n",
    "    return inner"
   ]
  },
  {
   "cell_type": "code",
   "execution_count": null,
   "metadata": {
    "ExecuteTime": {
     "end_time": "2022-03-07T09:25:34.831729Z",
     "start_time": "2022-03-07T09:25:28.045Z"
    }
   },
   "outputs": [],
   "source": [
    "def ODEFit(ode, x, y, p0=None, bounds=(-np.inf, np.inf)):\n",
    "    \"\"\"\n",
    "    Fit ODE parameters using optimizer provided by scipy.optimize.curve_fit\n",
    "    \"\"\"\n",
    "    odef = ODEFitFactory(ode)\n",
    "    popt, pcov = optimize.curve_fit(odef, x, y, p0=p0, bounds=bounds)\n",
    "    return popt, pcov"
   ]
  },
  {
   "cell_type": "code",
   "execution_count": null,
   "metadata": {},
   "outputs": [],
   "source": []
  },
  {
   "cell_type": "code",
   "execution_count": null,
   "metadata": {
    "ExecuteTime": {
     "end_time": "2022-03-07T09:25:34.834458Z",
     "start_time": "2022-03-07T09:25:28.047Z"
    }
   },
   "outputs": [],
   "source": [
    "data = pd.read_json(\"https://epistat.sciensano.be/Data/COVID19BE_CASES_AGESEX.json\")"
   ]
  },
  {
   "cell_type": "code",
   "execution_count": null,
   "metadata": {
    "ExecuteTime": {
     "end_time": "2022-03-07T09:25:34.837352Z",
     "start_time": "2022-03-07T09:25:28.048Z"
    }
   },
   "outputs": [],
   "source": [
    "data.columns"
   ]
  },
  {
   "cell_type": "code",
   "execution_count": null,
   "metadata": {
    "ExecuteTime": {
     "end_time": "2022-03-07T09:25:34.840243Z",
     "start_time": "2022-03-07T09:25:28.053Z"
    }
   },
   "outputs": [],
   "source": [
    "data[\"DATE\"] = pd.to_datetime(data[\"DATE\"])"
   ]
  },
  {
   "cell_type": "code",
   "execution_count": null,
   "metadata": {
    "ExecuteTime": {
     "end_time": "2022-03-07T09:25:34.842934Z",
     "start_time": "2022-03-07T09:25:28.054Z"
    }
   },
   "outputs": [],
   "source": [
    "tso = data.groupby(\"DATE\")[\"CASES\"].sum().to_frame()"
   ]
  },
  {
   "cell_type": "code",
   "execution_count": null,
   "metadata": {
    "ExecuteTime": {
     "end_time": "2022-03-07T09:25:34.846109Z",
     "start_time": "2022-03-07T09:25:28.056Z"
    }
   },
   "outputs": [],
   "source": [
    "from scipy import signal"
   ]
  },
  {
   "cell_type": "code",
   "execution_count": null,
   "metadata": {
    "ExecuteTime": {
     "end_time": "2022-03-07T09:25:34.848847Z",
     "start_time": "2022-03-07T09:25:28.057Z"
    }
   },
   "outputs": [],
   "source": [
    "axe = tso.plot()\n",
    "axe.legend([\"Sciensano\"])\n",
    "axe.set_title(\"Sciensano Dataset\")\n",
    "axe.set_xlabel(r\"Timestamp, $t$\")\n",
    "axe.set_ylabel(r\"Daily Cases, $\\dot{C}(t)$ [1/day]\")\n",
    "axe.grid()"
   ]
  },
  {
   "cell_type": "code",
   "execution_count": null,
   "metadata": {},
   "outputs": [],
   "source": []
  },
  {
   "cell_type": "code",
   "execution_count": null,
   "metadata": {
    "ExecuteTime": {
     "end_time": "2022-03-07T09:25:34.851553Z",
     "start_time": "2022-03-07T09:25:28.059Z"
    }
   },
   "outputs": [],
   "source": [
    "ts = tso.rolling(14).mean()\n",
    "#ts = signal.savgol_filter(tso[\"CASES\"].values, 9, 3)"
   ]
  },
  {
   "cell_type": "code",
   "execution_count": null,
   "metadata": {
    "ExecuteTime": {
     "end_time": "2022-03-07T09:25:34.854513Z",
     "start_time": "2022-03-07T09:25:28.061Z"
    }
   },
   "outputs": [],
   "source": [
    "tk = \"2021-12-21\""
   ]
  },
  {
   "cell_type": "code",
   "execution_count": null,
   "metadata": {
    "ExecuteTime": {
     "end_time": "2022-03-07T09:25:34.857791Z",
     "start_time": "2022-03-07T09:25:28.062Z"
    }
   },
   "outputs": [],
   "source": [
    "axe = tso.loc[tso.index >= tk].plot()\n",
    "axe.legend([\"Sciensano\"])\n",
    "axe.set_title(\"Sciensano Dataset\")\n",
    "axe.set_xlabel(r\"Timestamp, $t$\")\n",
    "axe.set_ylabel(r\"Daily Cases, $\\dot{C}(t)$ [1/day]\")\n",
    "axe.grid()"
   ]
  },
  {
   "cell_type": "code",
   "execution_count": null,
   "metadata": {
    "ExecuteTime": {
     "end_time": "2022-03-07T09:25:34.861254Z",
     "start_time": "2022-03-07T09:25:28.063Z"
    }
   },
   "outputs": [],
   "source": [
    "#axe = \n",
    "axe = tso[ts.index >= tk].plot()\n",
    "ts[ts.index >= tk].shift(-7).plot(ax=axe)\n",
    "axe.legend([\"Sciensano\", \"14 days rolling mean\"])\n",
    "axe.set_title(\"Sciensano Dataset\")\n",
    "axe.set_xlabel(r\"Timestamp, $t$\")\n",
    "axe.set_ylabel(r\"Daily Cases, $\\dot{C}(t)$ [1/day]\")\n",
    "axe.grid()"
   ]
  },
  {
   "cell_type": "code",
   "execution_count": null,
   "metadata": {
    "ExecuteTime": {
     "end_time": "2022-03-07T09:25:34.864094Z",
     "start_time": "2022-03-07T09:25:28.065Z"
    }
   },
   "outputs": [],
   "source": [
    "cts = tso[tso.index >= tk].cumsum()\n",
    "tp = (cts.index - pd.Timestamp(tk)) // pd.Timedelta('1d')\n",
    "cts.index = tp\n",
    "C = cts[\"CASES\"].values"
   ]
  },
  {
   "cell_type": "code",
   "execution_count": null,
   "metadata": {
    "ExecuteTime": {
     "end_time": "2022-03-07T09:25:34.866835Z",
     "start_time": "2022-03-07T09:25:28.071Z"
    }
   },
   "outputs": [],
   "source": [
    "popt2, pcov2 = optimize.curve_fit(GRM, tp, C, p0=(2e4, 1.1, 0.8, 1.5e6, 1),\n",
    "                                  bounds=([1, 0.1, 0.1, 50, 0.1], [1e7, 10, 1, 1e7, 10]),\n",
    "                                  gtol=1e-9, max_nfev=10000)\n",
    "(popt2, pcov2)"
   ]
  },
  {
   "cell_type": "code",
   "execution_count": null,
   "metadata": {
    "ExecuteTime": {
     "end_time": "2022-03-07T09:25:34.869627Z",
     "start_time": "2022-03-07T09:25:28.073Z"
    }
   },
   "outputs": [],
   "source": [
    "n = np.arange(100)\n",
    "c = GRM(tp, *popt2)\n",
    "cex = GRM(n, *popt2)"
   ]
  },
  {
   "cell_type": "code",
   "execution_count": null,
   "metadata": {
    "ExecuteTime": {
     "end_time": "2022-03-07T09:25:34.872297Z",
     "start_time": "2022-03-07T09:25:28.074Z"
    }
   },
   "outputs": [],
   "source": [
    "fig, axe = plt.subplots()\n",
    "axe.plot(tp, C, \".\", label=\"Data\")\n",
    "axe.plot(tp, c, label=\"LM Fit\")\n",
    "#axe.plot(n, cex, label=\"LM Fit\")\n",
    "axe.legend()\n",
    "axe.set_title(\"GRM Model for Covid omicron wave\")\n",
    "axe.set_xlabel(\"Time index, $t_i$ [day]\")\n",
    "axe.set_ylabel(\"Cumulative cases, $C(t_i)$ [-]\")\n",
    "axe.grid()"
   ]
  },
  {
   "cell_type": "code",
   "execution_count": null,
   "metadata": {
    "ExecuteTime": {
     "end_time": "2022-03-07T09:25:34.875159Z",
     "start_time": "2022-03-07T09:25:28.075Z"
    }
   },
   "outputs": [],
   "source": [
    "fig, axe = plt.subplots()\n",
    "axe.plot(tp[:-1], np.diff(C), \".-\", label=\"Data\")\n",
    "axe.plot(tp[:-1], np.diff(c), label=\"LM Fit\")\n",
    "#axe.plot(n[:-1], np.diff(cex), label=\"LM Fit\")\n",
    "axe.legend()\n",
    "axe.set_title(\"GRM Model for Covid omicron wave\")\n",
    "axe.set_xlabel(\"Time index, $t_i$ [day]\")\n",
    "axe.set_ylabel(\"Daily cases, $\\dot{C}(t_i)$ [1/day]\")\n",
    "axe.grid()"
   ]
  },
  {
   "cell_type": "code",
   "execution_count": null,
   "metadata": {
    "ExecuteTime": {
     "end_time": "2022-03-07T09:25:34.878036Z",
     "start_time": "2022-03-07T09:25:28.077Z"
    }
   },
   "outputs": [],
   "source": [
    "df = ts[ts.index >= tk].cumsum()\n",
    "df[\"index\"] = (df.index - pd.Timestamp(df.index[0])) // pd.Timedelta('1d')\n",
    "df.sample(5)"
   ]
  },
  {
   "cell_type": "code",
   "execution_count": null,
   "metadata": {
    "ExecuteTime": {
     "end_time": "2022-03-07T09:25:34.880743Z",
     "start_time": "2022-03-07T09:25:28.078Z"
    }
   },
   "outputs": [],
   "source": [
    "def solve(frame):\n",
    "    t = frame[\"index\"].values\n",
    "    C = frame[\"CASES\"].values\n",
    "    popt, pcov = optimize.curve_fit(GRM, t, C, p0=(2e4, 1.1, 0.8, 1.5e6, 1),\n",
    "                                  bounds=([1, 0.1, 0.1, 50, 0.1], [1e7, 10, 1, 1e7, 10]),\n",
    "                                  gtol=1e-9, max_nfev=10000)\n",
    "    return popt"
   ]
  },
  {
   "cell_type": "code",
   "execution_count": null,
   "metadata": {
    "ExecuteTime": {
     "end_time": "2022-03-07T09:25:34.883412Z",
     "start_time": "2022-03-07T09:25:28.080Z"
    }
   },
   "outputs": [],
   "source": [
    "solve(df)"
   ]
  },
  {
   "cell_type": "code",
   "execution_count": null,
   "metadata": {
    "ExecuteTime": {
     "end_time": "2022-03-07T09:25:34.886688Z",
     "start_time": "2022-03-07T09:25:28.084Z"
    },
    "scrolled": true
   },
   "outputs": [],
   "source": [
    "params = []\n",
    "for k in range(200):\n",
    "    x = df.sample(frac=0.9).sort_index()\n",
    "    p = solve(x)\n",
    "    params.append(p)\n",
    "    print(p)"
   ]
  },
  {
   "cell_type": "code",
   "execution_count": null,
   "metadata": {
    "ExecuteTime": {
     "end_time": "2022-03-07T09:25:34.889688Z",
     "start_time": "2022-03-07T09:25:28.087Z"
    }
   },
   "outputs": [],
   "source": [
    "df = pd.DataFrame(params, columns=[\"C\", \"r\", \"p\", \"K\", \"a\"])\n",
    "df.to_csv(\"bootstrap_smooth.csv\", index=False)\n",
    "df.sample(5)"
   ]
  },
  {
   "cell_type": "code",
   "execution_count": null,
   "metadata": {
    "ExecuteTime": {
     "end_time": "2022-03-07T09:25:34.892659Z",
     "start_time": "2022-03-07T09:25:28.089Z"
    }
   },
   "outputs": [],
   "source": [
    "df.describe()"
   ]
  },
  {
   "cell_type": "code",
   "execution_count": null,
   "metadata": {
    "ExecuteTime": {
     "end_time": "2022-03-07T09:25:34.895482Z",
     "start_time": "2022-03-07T09:25:28.090Z"
    }
   },
   "outputs": [],
   "source": [
    "for k in df:\n",
    "    fig, axe = plt.subplots()\n",
    "    df[k].plot(kind=\"kde\", ax=axe)\n",
    "    axe.set_title(k)"
   ]
  },
  {
   "cell_type": "code",
   "execution_count": null,
   "metadata": {},
   "outputs": [],
   "source": []
  },
  {
   "cell_type": "code",
   "execution_count": null,
   "metadata": {
    "ExecuteTime": {
     "end_time": "2022-03-07T09:25:34.898665Z",
     "start_time": "2022-03-07T09:25:28.092Z"
    }
   },
   "outputs": [],
   "source": [
    "fig, axe = plt.subplots()\n",
    "for row in df.itertuples():\n",
    "    #print(*row)\n",
    "    c = GRM(tp, *row[1:])\n",
    "    axe.plot(tp, c, color=\"lightgrey\")\n",
    "    #axe.plot(df[\"index\"], df[])"
   ]
  },
  {
   "cell_type": "code",
   "execution_count": null,
   "metadata": {},
   "outputs": [],
   "source": []
  }
 ],
 "metadata": {
  "hide_input": false,
  "kernelspec": {
   "display_name": "Python 3",
   "language": "python",
   "name": "python3"
  },
  "language_info": {
   "codemirror_mode": {
    "name": "ipython",
    "version": 3
   },
   "file_extension": ".py",
   "mimetype": "text/x-python",
   "name": "python",
   "nbconvert_exporter": "python",
   "pygments_lexer": "ipython3",
   "version": "3.6.9"
  },
  "toc": {
   "base_numbering": 1,
   "nav_menu": {},
   "number_sections": true,
   "sideBar": true,
   "skip_h1_title": false,
   "title_cell": "Table of Contents",
   "title_sidebar": "Contents",
   "toc_cell": false,
   "toc_position": {},
   "toc_section_display": true,
   "toc_window_display": false
  },
  "varInspector": {
   "cols": {
    "lenName": 16,
    "lenType": 16,
    "lenVar": 40
   },
   "kernels_config": {
    "python": {
     "delete_cmd_postfix": "",
     "delete_cmd_prefix": "del ",
     "library": "var_list.py",
     "varRefreshCmd": "print(var_dic_list())"
    },
    "r": {
     "delete_cmd_postfix": ") ",
     "delete_cmd_prefix": "rm(",
     "library": "var_list.r",
     "varRefreshCmd": "cat(var_dic_list()) "
    }
   },
   "types_to_exclude": [
    "module",
    "function",
    "builtin_function_or_method",
    "instance",
    "_Feature"
   ],
   "window_display": false
  }
 },
 "nbformat": 4,
 "nbformat_minor": 2
}
