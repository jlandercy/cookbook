{
 "cells": [
  {
   "cell_type": "code",
   "execution_count": 10,
   "id": "e44e3104",
   "metadata": {
    "ExecuteTime": {
     "end_time": "2022-02-26T08:10:08.801630Z",
     "start_time": "2022-02-26T08:10:08.754980Z"
    }
   },
   "outputs": [],
   "source": [
    "import numpy as np\n",
    "import pandas as pd\n",
    "import matplotlib.pyplot as plt\n",
    "\n",
    "from scipy import signal\n",
    "\n",
    "from sklearn.preprocessing import MinMaxScaler, PolynomialFeatures, FunctionTransformer\n",
    "from sklearn.compose import TransformedTargetRegressor\n",
    "from sklearn.linear_model import LinearRegression\n",
    "from sklearn.pipeline import Pipeline"
   ]
  },
  {
   "cell_type": "code",
   "execution_count": 2,
   "id": "bede54e1",
   "metadata": {
    "ExecuteTime": {
     "end_time": "2022-02-26T07:58:46.794389Z",
     "start_time": "2022-02-26T07:58:46.663027Z"
    }
   },
   "outputs": [
    {
     "data": {
      "text/html": [
       "<div>\n",
       "<style scoped>\n",
       "    .dataframe tbody tr th:only-of-type {\n",
       "        vertical-align: middle;\n",
       "    }\n",
       "\n",
       "    .dataframe tbody tr th {\n",
       "        vertical-align: top;\n",
       "    }\n",
       "\n",
       "    .dataframe thead th {\n",
       "        text-align: right;\n",
       "    }\n",
       "</style>\n",
       "<table border=\"1\" class=\"dataframe\">\n",
       "  <thead>\n",
       "    <tr style=\"text-align: right;\">\n",
       "      <th></th>\n",
       "      <th>t</th>\n",
       "      <th>V</th>\n",
       "    </tr>\n",
       "  </thead>\n",
       "  <tbody>\n",
       "    <tr>\n",
       "      <th>0</th>\n",
       "      <td>0</td>\n",
       "      <td>0.000000</td>\n",
       "    </tr>\n",
       "    <tr>\n",
       "      <th>1</th>\n",
       "      <td>39</td>\n",
       "      <td>0.000008</td>\n",
       "    </tr>\n",
       "    <tr>\n",
       "      <th>2</th>\n",
       "      <td>131</td>\n",
       "      <td>0.000027</td>\n",
       "    </tr>\n",
       "    <tr>\n",
       "      <th>3</th>\n",
       "      <td>184</td>\n",
       "      <td>0.000038</td>\n",
       "    </tr>\n",
       "    <tr>\n",
       "      <th>4</th>\n",
       "      <td>214</td>\n",
       "      <td>0.000044</td>\n",
       "    </tr>\n",
       "  </tbody>\n",
       "</table>\n",
       "</div>"
      ],
      "text/plain": [
       "     t         V\n",
       "0    0  0.000000\n",
       "1   39  0.000008\n",
       "2  131  0.000027\n",
       "3  184  0.000038\n",
       "4  214  0.000044"
      ]
     },
     "execution_count": 2,
     "metadata": {},
     "output_type": "execute_result"
    }
   ],
   "source": [
    "df = pd.read_csv(\"cathet.csv\")\n",
    "df.head()"
   ]
  },
  {
   "cell_type": "code",
   "execution_count": null,
   "id": "4723987d",
   "metadata": {},
   "outputs": [],
   "source": []
  },
  {
   "cell_type": "code",
   "execution_count": 3,
   "id": "a3bcf242",
   "metadata": {
    "ExecuteTime": {
     "end_time": "2022-02-26T07:58:46.809579Z",
     "start_time": "2022-02-26T07:58:46.803614Z"
    }
   },
   "outputs": [],
   "source": [
    "pipe = Pipeline([\n",
    "    ('scaler', MinMaxScaler()),\n",
    "    ('polynomial', PolynomialFeatures(5)),\n",
    "    ('ols', TransformedTargetRegressor(\n",
    "        LinearRegression(fit_intercept=False), transformer=MinMaxScaler()\n",
    "    ))\n",
    "])"
   ]
  },
  {
   "cell_type": "code",
   "execution_count": 4,
   "id": "310e7773",
   "metadata": {
    "ExecuteTime": {
     "end_time": "2022-02-26T07:58:46.825449Z",
     "start_time": "2022-02-26T07:58:46.817378Z"
    }
   },
   "outputs": [],
   "source": [
    "X = df[['t']].values\n",
    "y = df['V'].values"
   ]
  },
  {
   "cell_type": "code",
   "execution_count": 5,
   "id": "72b70573",
   "metadata": {
    "ExecuteTime": {
     "end_time": "2022-02-26T07:58:46.864509Z",
     "start_time": "2022-02-26T07:58:46.829764Z"
    }
   },
   "outputs": [
    {
     "data": {
      "text/plain": [
       "Pipeline(steps=[('scaler', MinMaxScaler()),\n",
       "                ('polynomial', PolynomialFeatures(degree=5)),\n",
       "                ('ols',\n",
       "                 TransformedTargetRegressor(regressor=LinearRegression(fit_intercept=False),\n",
       "                                            transformer=MinMaxScaler()))])"
      ]
     },
     "execution_count": 5,
     "metadata": {},
     "output_type": "execute_result"
    }
   ],
   "source": [
    "pipe.fit(X, y)"
   ]
  },
  {
   "cell_type": "code",
   "execution_count": 6,
   "id": "dbfda26e",
   "metadata": {
    "ExecuteTime": {
     "end_time": "2022-02-26T07:58:46.879008Z",
     "start_time": "2022-02-26T07:58:46.868837Z"
    }
   },
   "outputs": [
    {
     "data": {
      "text/plain": [
       "0.9999769561903573"
      ]
     },
     "execution_count": 6,
     "metadata": {},
     "output_type": "execute_result"
    }
   ],
   "source": [
    "pipe.score(X, y)"
   ]
  },
  {
   "cell_type": "code",
   "execution_count": 7,
   "id": "1eb59984",
   "metadata": {
    "ExecuteTime": {
     "end_time": "2022-02-26T07:58:46.889384Z",
     "start_time": "2022-02-26T07:58:46.882970Z"
    }
   },
   "outputs": [],
   "source": [
    "yhat = pipe.predict(X)"
   ]
  },
  {
   "cell_type": "code",
   "execution_count": 8,
   "id": "7aac8de6",
   "metadata": {
    "ExecuteTime": {
     "end_time": "2022-02-26T07:58:47.256727Z",
     "start_time": "2022-02-26T07:58:46.895732Z"
    }
   },
   "outputs": [
    {
     "data": {
      "text/plain": [
       "[<matplotlib.lines.Line2D at 0x7feba3fae2b0>]"
      ]
     },
     "execution_count": 8,
     "metadata": {},
     "output_type": "execute_result"
    },
    {
     "data": {
      "image/png": "[encoded data removed]",
      "text/plain": [
       "<Figure size 432x288 with 1 Axes>"
      ]
     },
     "metadata": {
      "needs_background": "light"
     },
     "output_type": "display_data"
    }
   ],
   "source": [
    "fig, axe = plt.subplots()\n",
    "axe.plot(X, y, '.')\n",
    "axe.plot(X, yhat)"
   ]
  },
  {
   "cell_type": "code",
   "execution_count": 9,
   "id": "9c235836",
   "metadata": {
    "ExecuteTime": {
     "end_time": "2022-02-26T07:58:47.271541Z",
     "start_time": "2022-02-26T07:58:47.262666Z"
    }
   },
   "outputs": [
    {
     "name": "stdout",
     "output_type": "stream",
     "text": [
      "[ 1.40217412e-03  1.54164355e+00 -8.74877355e-01  3.19321578e-01\n",
      "  6.63796996e-02 -5.27764575e-02] 0.0\n"
     ]
    }
   ],
   "source": [
    "x = pipe.steps[-1][1]\n",
    "print(x.regressor_.coef_, x.regressor_.intercept_)\n",
    "#print(dir(x))"
   ]
  },
  {
   "cell_type": "code",
   "execution_count": 39,
   "id": "18991dce",
   "metadata": {
    "ExecuteTime": {
     "end_time": "2022-02-26T08:16:42.297237Z",
     "start_time": "2022-02-26T08:16:42.291129Z"
    }
   },
   "outputs": [],
   "source": [
    "x = df.set_index('t')"
   ]
  },
  {
   "cell_type": "code",
   "execution_count": 40,
   "id": "cf04ecb0",
   "metadata": {
    "ExecuteTime": {
     "end_time": "2022-02-26T08:16:43.223552Z",
     "start_time": "2022-02-26T08:16:43.214880Z"
    }
   },
   "outputs": [],
   "source": [
    "x = x.reindex(range(x.index.max())).interpolate()"
   ]
  },
  {
   "cell_type": "code",
   "execution_count": 59,
   "id": "1ca258a1",
   "metadata": {
    "ExecuteTime": {
     "end_time": "2022-02-26T08:18:13.546310Z",
     "start_time": "2022-02-26T08:18:13.537535Z"
    }
   },
   "outputs": [],
   "source": [
    "x[\"Vs\"] = signal.savgol_filter(x[\"V\"], 101, 3)"
   ]
  },
  {
   "cell_type": "code",
   "execution_count": null,
   "id": "896e808c",
   "metadata": {},
   "outputs": [],
   "source": []
  },
  {
   "cell_type": "code",
   "execution_count": 60,
   "id": "17e083ac",
   "metadata": {
    "ExecuteTime": {
     "end_time": "2022-02-26T08:18:14.447113Z",
     "start_time": "2022-02-26T08:18:14.166679Z"
    }
   },
   "outputs": [
    {
     "data": {
      "text/plain": [
       "<AxesSubplot:xlabel='t'>"
      ]
     },
     "execution_count": 60,
     "metadata": {},
     "output_type": "execute_result"
    },
    {
     "data": {
      "image/png": "[encoded data removed]",
      "text/plain": [
       "<Figure size 432x288 with 1 Axes>"
      ]
     },
     "metadata": {
      "needs_background": "light"
     },
     "output_type": "display_data"
    }
   ],
   "source": [
    "x.plot()"
   ]
  },
  {
   "cell_type": "code",
   "execution_count": 61,
   "id": "07e2a205",
   "metadata": {
    "ExecuteTime": {
     "end_time": "2022-02-26T08:18:15.518231Z",
     "start_time": "2022-02-26T08:18:15.306763Z"
    }
   },
   "outputs": [
    {
     "data": {
      "text/plain": [
       "[<matplotlib.lines.Line2D at 0x7feb9a5fdd68>]"
      ]
     },
     "execution_count": 61,
     "metadata": {},
     "output_type": "execute_result"
    },
    {
     "data": {
      "image/png": "[encoded data removed]",
      "text/plain": [
       "<Figure size 432x288 with 1 Axes>"
      ]
     },
     "metadata": {
      "needs_background": "light"
     },
     "output_type": "display_data"
    }
   ],
   "source": [
    "plt.plot(np.diff(x))"
   ]
  },
  {
   "cell_type": "code",
   "execution_count": null,
   "id": "aba63895",
   "metadata": {},
   "outputs": [],
   "source": []
  },
  {
   "cell_type": "code",
   "execution_count": null,
   "id": "9755245e",
   "metadata": {},
   "outputs": [],
   "source": []
  }
 ],
 "metadata": {
  "hide_input": false,
  "kernelspec": {
   "display_name": "Python 3",
   "language": "python",
   "name": "python3"
  },
  "language_info": {
   "codemirror_mode": {
    "name": "ipython",
    "version": 3
   },
   "file_extension": ".py",
   "mimetype": "text/x-python",
   "name": "python",
   "nbconvert_exporter": "python",
   "pygments_lexer": "ipython3",
   "version": "3.6.9"
  },
  "toc": {
   "base_numbering": 1,
   "nav_menu": {},
   "number_sections": true,
   "sideBar": true,
   "skip_h1_title": false,
   "title_cell": "Table of Contents",
   "title_sidebar": "Contents",
   "toc_cell": false,
   "toc_position": {},
   "toc_section_display": true,
   "toc_window_display": false
  },
  "varInspector": {
   "cols": {
    "lenName": 16,
    "lenType": 16,
    "lenVar": 40
   },
   "kernels_config": {
    "python": {
     "delete_cmd_postfix": "",
     "delete_cmd_prefix": "del ",
     "library": "var_list.py",
     "varRefreshCmd": "print(var_dic_list())"
    },
    "r": {
     "delete_cmd_postfix": ") ",
     "delete_cmd_prefix": "rm(",
     "library": "var_list.r",
     "varRefreshCmd": "cat(var_dic_list()) "
    }
   },
   "types_to_exclude": [
    "module",
    "function",
    "builtin_function_or_method",
    "instance",
    "_Feature"
   ],
   "window_display": false
  }
 },
 "nbformat": 4,
 "nbformat_minor": 5
}
