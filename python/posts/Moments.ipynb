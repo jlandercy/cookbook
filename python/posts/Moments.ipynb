{
 "cells": [
  {
   "cell_type": "code",
   "execution_count": 1,
   "id": "3ca920b8",
   "metadata": {
    "ExecuteTime": {
     "end_time": "2022-07-19T13:55:23.863894Z",
     "start_time": "2022-07-19T13:55:22.460202Z"
    }
   },
   "outputs": [],
   "source": [
    "import numpy as np\n",
    "from scipy import stats"
   ]
  },
  {
   "cell_type": "code",
   "execution_count": 2,
   "id": "5c8d7191",
   "metadata": {
    "ExecuteTime": {
     "end_time": "2022-07-19T13:55:23.878293Z",
     "start_time": "2022-07-19T13:55:23.869605Z"
    }
   },
   "outputs": [],
   "source": [
    "n = stats.norm()"
   ]
  },
  {
   "cell_type": "code",
   "execution_count": 45,
   "id": "9b33aee0",
   "metadata": {
    "ExecuteTime": {
     "end_time": "2022-07-19T13:59:41.914651Z",
     "start_time": "2022-07-19T13:59:41.898593Z"
    }
   },
   "outputs": [],
   "source": [
    "class spec_gen(stats.rv_continuous):\n",
    "    \n",
    "    \"Specific Distribution\"\n",
    "    \n",
    "    def _pdf(self, x):\n",
    "        return 0.5\n",
    "\n",
    "spec = spec_gen(a=0.0, b=2.0, name='spec', longname=\"Specific Distribution\")"
   ]
  },
  {
   "cell_type": "code",
   "execution_count": 46,
   "id": "f295e806",
   "metadata": {
    "ExecuteTime": {
     "end_time": "2022-07-19T13:59:42.193203Z",
     "start_time": "2022-07-19T13:59:42.178465Z"
    }
   },
   "outputs": [],
   "source": [
    "X = spec()"
   ]
  },
  {
   "cell_type": "code",
   "execution_count": 47,
   "id": "7916015e",
   "metadata": {
    "ExecuteTime": {
     "end_time": "2022-07-19T13:59:42.450601Z",
     "start_time": "2022-07-19T13:59:42.334098Z"
    }
   },
   "outputs": [
    {
     "data": {
      "text/plain": [
       "array([1.26413625, 1.70480998, 0.60166263, 1.07420047, 1.40072916,\n",
       "       0.49370502, 0.16928236, 0.54711223, 0.56181439, 0.18874754,\n",
       "       0.16494527, 0.02605375, 1.67493347, 1.37946688, 0.11179815,\n",
       "       0.45865017, 0.36018186, 1.31367534, 0.81736315, 0.73009735,\n",
       "       1.0162416 , 0.35364098, 0.56733366, 1.08350239, 0.99952591,\n",
       "       1.54153476, 0.63931422, 1.95080891, 0.49322612, 0.18674605,\n",
       "       0.87967816, 1.29175929, 1.41562159, 1.39375808, 0.09716934,\n",
       "       0.87912914, 1.08081576, 1.29977185, 1.29553738, 1.56612327,\n",
       "       1.56708288, 1.2635919 , 1.64117065, 1.47432317, 1.55216205,\n",
       "       0.18164364, 0.59855635, 1.12074326, 1.00421516, 0.52686932,\n",
       "       0.8639226 , 0.22881289, 0.93066715, 0.79796798, 1.5645809 ,\n",
       "       0.10220805, 0.61969769, 0.89348181, 0.36891522, 0.50744171,\n",
       "       1.01488538, 1.13467303, 1.23415305, 1.51612124, 0.53732315,\n",
       "       0.57026959, 1.08784353, 0.4795383 , 1.51060709, 0.14631584,\n",
       "       0.73991677, 1.66756428, 1.8045349 , 0.47188882, 0.64928272,\n",
       "       0.32425439, 0.30400611, 0.44862963, 1.98533821, 1.09880751,\n",
       "       0.41090397, 1.88763252, 1.76780425, 1.54944239, 0.28578955,\n",
       "       0.78519598, 1.41480559, 0.7292662 , 1.85440793, 1.013756  ,\n",
       "       1.33991405, 0.85605201, 1.67637234, 0.75290342, 0.89832102,\n",
       "       1.93821928, 0.80513845, 1.74991135, 0.71911745, 1.33515043])"
      ]
     },
     "execution_count": 47,
     "metadata": {},
     "output_type": "execute_result"
    }
   ],
   "source": [
    "X.rvs(size=100)"
   ]
  },
  {
   "cell_type": "code",
   "execution_count": 48,
   "id": "dbfd96fc",
   "metadata": {
    "ExecuteTime": {
     "end_time": "2022-07-19T13:59:42.543980Z",
     "start_time": "2022-07-19T13:59:42.526798Z"
    }
   },
   "outputs": [
    {
     "data": {
      "text/plain": [
       "(0.0, 2.0)"
      ]
     },
     "execution_count": 48,
     "metadata": {},
     "output_type": "execute_result"
    }
   ],
   "source": [
    "X.support()"
   ]
  },
  {
   "cell_type": "code",
   "execution_count": null,
   "id": "22753e2a",
   "metadata": {
    "ExecuteTime": {
     "end_time": "2022-07-19T13:58:38.780750Z",
     "start_time": "2022-07-19T13:58:38.758532Z"
    }
   },
   "outputs": [],
   "source": []
  },
  {
   "cell_type": "code",
   "execution_count": null,
   "id": "81744393",
   "metadata": {},
   "outputs": [],
   "source": []
  }
 ],
 "metadata": {
  "hide_input": false,
  "kernelspec": {
   "display_name": "Python 3",
   "language": "python",
   "name": "python3"
  },
  "language_info": {
   "codemirror_mode": {
    "name": "ipython",
    "version": 3
   },
   "file_extension": ".py",
   "mimetype": "text/x-python",
   "name": "python",
   "nbconvert_exporter": "python",
   "pygments_lexer": "ipython3",
   "version": "3.6.9"
  },
  "toc": {
   "base_numbering": 1,
   "nav_menu": {},
   "number_sections": true,
   "sideBar": true,
   "skip_h1_title": false,
   "title_cell": "Table of Contents",
   "title_sidebar": "Contents",
   "toc_cell": false,
   "toc_position": {},
   "toc_section_display": true,
   "toc_window_display": false
  },
  "varInspector": {
   "cols": {
    "lenName": 16,
    "lenType": 16,
    "lenVar": 40
   },
   "kernels_config": {
    "python": {
     "delete_cmd_postfix": "",
     "delete_cmd_prefix": "del ",
     "library": "var_list.py",
     "varRefreshCmd": "print(var_dic_list())"
    },
    "r": {
     "delete_cmd_postfix": ") ",
     "delete_cmd_prefix": "rm(",
     "library": "var_list.r",
     "varRefreshCmd": "cat(var_dic_list()) "
    }
   },
   "types_to_exclude": [
    "module",
    "function",
    "builtin_function_or_method",
    "instance",
    "_Feature"
   ],
   "window_display": false
  }
 },
 "nbformat": 4,
 "nbformat_minor": 5
}
