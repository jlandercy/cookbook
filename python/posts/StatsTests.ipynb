{
 "cells": [
  {
   "cell_type": "code",
   "execution_count": 1,
   "id": "82c081af",
   "metadata": {
    "ExecuteTime": {
     "end_time": "2022-02-22T10:09:17.523572Z",
     "start_time": "2022-02-22T10:09:16.807105Z"
    }
   },
   "outputs": [],
   "source": [
    "import numpy as np\n",
    "from scipy import stats"
   ]
  },
  {
   "cell_type": "code",
   "execution_count": 2,
   "id": "e74bf76f",
   "metadata": {
    "ExecuteTime": {
     "end_time": "2022-02-22T10:09:17.537884Z",
     "start_time": "2022-02-22T10:09:17.531557Z"
    }
   },
   "outputs": [],
   "source": [
    "np.random.seed(1234567)"
   ]
  },
  {
   "cell_type": "code",
   "execution_count": 9,
   "id": "7d678027",
   "metadata": {
    "ExecuteTime": {
     "end_time": "2022-02-22T10:14:33.757207Z",
     "start_time": "2022-02-22T10:14:33.752075Z"
    }
   },
   "outputs": [],
   "source": [
    "law = stats.exponweib(1, 1)"
   ]
  },
  {
   "cell_type": "code",
   "execution_count": 4,
   "id": "c3778f0b",
   "metadata": {
    "ExecuteTime": {
     "end_time": "2022-02-22T10:09:17.573102Z",
     "start_time": "2022-02-22T10:09:17.555639Z"
    }
   },
   "outputs": [],
   "source": [
    "x = law.rvs(size=100000)"
   ]
  },
  {
   "cell_type": "code",
   "execution_count": 5,
   "id": "8c6aa989",
   "metadata": {
    "ExecuteTime": {
     "end_time": "2022-02-22T10:09:26.097262Z",
     "start_time": "2022-02-22T10:09:17.576388Z"
    }
   },
   "outputs": [],
   "source": [
    "p = stats.exponweib.fit(x)\n",
    "f = stats.exponweib(*p)"
   ]
  },
  {
   "cell_type": "code",
   "execution_count": 6,
   "id": "ebed746a",
   "metadata": {
    "ExecuteTime": {
     "end_time": "2022-02-22T10:09:26.204652Z",
     "start_time": "2022-02-22T10:09:26.104865Z"
    }
   },
   "outputs": [
    {
     "data": {
      "text/plain": [
       "KstestResult(statistic=0.001734462849179108, pvalue=0.9238064290162963)"
      ]
     },
     "execution_count": 6,
     "metadata": {},
     "output_type": "execute_result"
    }
   ],
   "source": [
    "stats.ks_1samp(x, f.cdf)"
   ]
  },
  {
   "cell_type": "code",
   "execution_count": 7,
   "id": "eb49a047",
   "metadata": {
    "ExecuteTime": {
     "end_time": "2022-02-22T10:09:44.528834Z",
     "start_time": "2022-02-22T10:09:44.480980Z"
    }
   },
   "outputs": [
    {
     "data": {
      "text/plain": [
       "KstestResult(statistic=0.0, pvalue=1.0)"
      ]
     },
     "execution_count": 7,
     "metadata": {},
     "output_type": "execute_result"
    }
   ],
   "source": [
    "stats.ks_2samp(x, x)"
   ]
  },
  {
   "cell_type": "code",
   "execution_count": null,
   "id": "477c48c2",
   "metadata": {},
   "outputs": [],
   "source": []
  }
 ],
 "metadata": {
  "hide_input": false,
  "kernelspec": {
   "display_name": "Python 3",
   "language": "python",
   "name": "python3"
  },
  "language_info": {
   "codemirror_mode": {
    "name": "ipython",
    "version": 3
   },
   "file_extension": ".py",
   "mimetype": "text/x-python",
   "name": "python",
   "nbconvert_exporter": "python",
   "pygments_lexer": "ipython3",
   "version": "3.6.9"
  },
  "toc": {
   "base_numbering": 1,
   "nav_menu": {},
   "number_sections": true,
   "sideBar": true,
   "skip_h1_title": false,
   "title_cell": "Table of Contents",
   "title_sidebar": "Contents",
   "toc_cell": false,
   "toc_position": {},
   "toc_section_display": true,
   "toc_window_display": false
  },
  "varInspector": {
   "cols": {
    "lenName": 16,
    "lenType": 16,
    "lenVar": 40
   },
   "kernels_config": {
    "python": {
     "delete_cmd_postfix": "",
     "delete_cmd_prefix": "del ",
     "library": "var_list.py",
     "varRefreshCmd": "print(var_dic_list())"
    },
    "r": {
     "delete_cmd_postfix": ") ",
     "delete_cmd_prefix": "rm(",
     "library": "var_list.r",
     "varRefreshCmd": "cat(var_dic_list()) "
    }
   },
   "types_to_exclude": [
    "module",
    "function",
    "builtin_function_or_method",
    "instance",
    "_Feature"
   ],
   "window_display": false
  }
 },
 "nbformat": 4,
 "nbformat_minor": 5
}
