{
 "cells": [
  {
   "cell_type": "code",
   "execution_count": 12,
   "id": "108ba851",
   "metadata": {
    "ExecuteTime": {
     "end_time": "2023-11-06T10:02:20.067585Z",
     "start_time": "2023-11-06T10:02:20.062149Z"
    }
   },
   "outputs": [],
   "source": [
    "import numpy as np\n",
    "import pandas as pd\n",
    "import matplotlib.pyplot as plt\n",
    "\n",
    "from scipy import optimize, signal, interpolate\n",
    "from sklearn import metrics\n",
    "from sklearn.linear_model import LinearRegression"
   ]
  },
  {
   "cell_type": "code",
   "execution_count": null,
   "id": "a9adb9b8",
   "metadata": {},
   "outputs": [],
   "source": []
  },
  {
   "cell_type": "code",
   "execution_count": 2,
   "id": "c462a41f",
   "metadata": {
    "ExecuteTime": {
     "end_time": "2023-11-06T10:01:16.642552Z",
     "start_time": "2023-11-06T10:01:16.331090Z"
    }
   },
   "outputs": [],
   "source": [
    "df = pd.read_excel(\"cathet.xlsx\")"
   ]
  },
  {
   "cell_type": "code",
   "execution_count": 3,
   "id": "79267900",
   "metadata": {
    "ExecuteTime": {
     "end_time": "2023-11-06T10:01:16.648825Z",
     "start_time": "2023-11-06T10:01:16.644866Z"
    }
   },
   "outputs": [],
   "source": [
    "df = df.loc[2:]"
   ]
  },
  {
   "cell_type": "code",
   "execution_count": 4,
   "id": "b924a310",
   "metadata": {
    "ExecuteTime": {
     "end_time": "2023-11-06T10:01:16.670585Z",
     "start_time": "2023-11-06T10:01:16.659855Z"
    }
   },
   "outputs": [],
   "source": [
    "df[\"t\"] = df[\"t\"] - df.loc[2, \"t\"]\n",
    "df[\"V\"] = df[\"V\"] - df.loc[2, \"V\"]"
   ]
  },
  {
   "cell_type": "code",
   "execution_count": 5,
   "id": "ae572524",
   "metadata": {
    "ExecuteTime": {
     "end_time": "2023-11-06T10:01:16.700461Z",
     "start_time": "2023-11-06T10:01:16.676232Z"
    }
   },
   "outputs": [
    {
     "data": {
      "text/html": [
       "<div>\n",
       "<style scoped>\n",
       "    .dataframe tbody tr th:only-of-type {\n",
       "        vertical-align: middle;\n",
       "    }\n",
       "\n",
       "    .dataframe tbody tr th {\n",
       "        vertical-align: top;\n",
       "    }\n",
       "\n",
       "    .dataframe thead th {\n",
       "        text-align: right;\n",
       "    }\n",
       "</style>\n",
       "<table border=\"1\" class=\"dataframe\">\n",
       "  <thead>\n",
       "    <tr style=\"text-align: right;\">\n",
       "      <th></th>\n",
       "      <th>t</th>\n",
       "      <th>V</th>\n",
       "    </tr>\n",
       "  </thead>\n",
       "  <tbody>\n",
       "    <tr>\n",
       "      <th>2</th>\n",
       "      <td>0</td>\n",
       "      <td>0.000000</td>\n",
       "    </tr>\n",
       "    <tr>\n",
       "      <th>3</th>\n",
       "      <td>39</td>\n",
       "      <td>0.000008</td>\n",
       "    </tr>\n",
       "    <tr>\n",
       "      <th>4</th>\n",
       "      <td>131</td>\n",
       "      <td>0.000027</td>\n",
       "    </tr>\n",
       "    <tr>\n",
       "      <th>5</th>\n",
       "      <td>184</td>\n",
       "      <td>0.000038</td>\n",
       "    </tr>\n",
       "    <tr>\n",
       "      <th>6</th>\n",
       "      <td>214</td>\n",
       "      <td>0.000044</td>\n",
       "    </tr>\n",
       "  </tbody>\n",
       "</table>\n",
       "</div>"
      ],
      "text/plain": [
       "     t         V\n",
       "2    0  0.000000\n",
       "3   39  0.000008\n",
       "4  131  0.000027\n",
       "5  184  0.000038\n",
       "6  214  0.000044"
      ]
     },
     "execution_count": 5,
     "metadata": {},
     "output_type": "execute_result"
    }
   ],
   "source": [
    "df[:5]"
   ]
  },
  {
   "cell_type": "code",
   "execution_count": 6,
   "id": "14e9eb65",
   "metadata": {
    "ExecuteTime": {
     "end_time": "2023-11-06T10:01:16.717876Z",
     "start_time": "2023-11-06T10:01:16.708376Z"
    }
   },
   "outputs": [],
   "source": [
    "df.to_csv(\"cathet.csv\", index=False)"
   ]
  },
  {
   "cell_type": "code",
   "execution_count": null,
   "id": "49527343",
   "metadata": {
    "ExecuteTime": {
     "end_time": "2023-11-06T10:01:17.223444Z",
     "start_time": "2023-11-06T10:01:16.723431Z"
    }
   },
   "outputs": [],
   "source": []
  },
  {
   "cell_type": "code",
   "execution_count": 8,
   "id": "f74776ea",
   "metadata": {
    "ExecuteTime": {
     "end_time": "2023-11-06T10:01:17.232310Z",
     "start_time": "2023-11-06T10:01:17.227907Z"
    }
   },
   "outputs": [],
   "source": [
    "R = 8.31446261815324  # J/mol.K\n",
    "T0 = 292.05           # K\n",
    "p0 = 101600           # Pa\n",
    "V = 190e-6            # m3 of isopropanol\n",
    "m = 2.7677            # g of Raney Nickel\n",
    "rho = 785             # kg/m³\n",
    "M = 60.1              # g/mol\n",
    "n0 = 1000*rho*V/M     # mol"
   ]
  },
  {
   "cell_type": "code",
   "execution_count": 9,
   "id": "698799b6",
   "metadata": {
    "ExecuteTime": {
     "end_time": "2023-11-06T10:01:17.240313Z",
     "start_time": "2023-11-06T10:01:17.235109Z"
    }
   },
   "outputs": [
    {
     "data": {
      "text/plain": [
       "2.4816971713810316"
      ]
     },
     "execution_count": 9,
     "metadata": {},
     "output_type": "execute_result"
    }
   ],
   "source": [
    "n0"
   ]
  },
  {
   "cell_type": "code",
   "execution_count": 10,
   "id": "f661d543",
   "metadata": {
    "ExecuteTime": {
     "end_time": "2023-11-06T10:01:17.252030Z",
     "start_time": "2023-11-06T10:01:17.245762Z"
    }
   },
   "outputs": [],
   "source": [
    "df[\"xi\"] = p0*df[\"V\"]/(R*T0)\n",
    "df[\"A\"] = (n0 - df[\"xi\"])/V\n",
    "df[\"B\"] = (df[\"xi\"])/V"
   ]
  },
  {
   "cell_type": "code",
   "execution_count": null,
   "id": "2a74aa80",
   "metadata": {},
   "outputs": [],
   "source": []
  },
  {
   "cell_type": "code",
   "execution_count": 15,
   "id": "d739b310",
   "metadata": {
    "ExecuteTime": {
     "end_time": "2023-11-06T10:04:08.321478Z",
     "start_time": "2023-11-06T10:04:08.315297Z"
    }
   },
   "outputs": [],
   "source": [
    "t = df[\"t\"].values\n",
    "xi = df[\"xi\"].values"
   ]
  },
  {
   "cell_type": "code",
   "execution_count": 16,
   "id": "5016e0c8",
   "metadata": {
    "ExecuteTime": {
     "end_time": "2023-11-06T10:04:13.031478Z",
     "start_time": "2023-11-06T10:04:13.025135Z"
    }
   },
   "outputs": [],
   "source": [
    "interpolator = interpolate.interp1d(t, xi)"
   ]
  },
  {
   "cell_type": "code",
   "execution_count": 19,
   "id": "c9455ad9",
   "metadata": {
    "ExecuteTime": {
     "end_time": "2023-11-06T10:04:40.330626Z",
     "start_time": "2023-11-06T10:04:40.326653Z"
    }
   },
   "outputs": [],
   "source": [
    "tlin = np.arange(t.min(), t.max(), 1)"
   ]
  },
  {
   "cell_type": "code",
   "execution_count": 22,
   "id": "fa62db9f",
   "metadata": {
    "ExecuteTime": {
     "end_time": "2023-11-06T10:04:58.212978Z",
     "start_time": "2023-11-06T10:04:58.208611Z"
    }
   },
   "outputs": [],
   "source": [
    "xilin = interpolator(tlin)"
   ]
  },
  {
   "cell_type": "code",
   "execution_count": 40,
   "id": "546f453f",
   "metadata": {
    "ExecuteTime": {
     "end_time": "2023-11-06T10:07:52.957214Z",
     "start_time": "2023-11-06T10:07:52.945310Z"
    }
   },
   "outputs": [],
   "source": [
    "xs = signal.savgol_filter(xilin, 501, 3)"
   ]
  },
  {
   "cell_type": "code",
   "execution_count": 41,
   "id": "6353b3b2",
   "metadata": {
    "ExecuteTime": {
     "end_time": "2023-11-06T10:07:53.427246Z",
     "start_time": "2023-11-06T10:07:53.416810Z"
    }
   },
   "outputs": [],
   "source": [
    "dxs = signal.savgol_filter(xilin, 501, 3, deriv=1)"
   ]
  },
  {
   "cell_type": "code",
   "execution_count": 42,
   "id": "e5619ac6",
   "metadata": {
    "ExecuteTime": {
     "end_time": "2023-11-06T10:07:54.324179Z",
     "start_time": "2023-11-06T10:07:54.084593Z"
    }
   },
   "outputs": [
    {
     "data": {
      "text/plain": [
       "[<matplotlib.lines.Line2D at 0x7f2154dae4a0>]"
      ]
     },
     "execution_count": 42,
     "metadata": {},
     "output_type": "execute_result"
    },
    {
     "data": {
      "image/png": "[encoded data removed]",
      "text/plain": [
       "<Figure size 640x480 with 1 Axes>"
      ]
     },
     "metadata": {},
     "output_type": "display_data"
    }
   ],
   "source": [
    "fig, axe = plt.subplots()\n",
    "axe.plot(tlin, dxs)"
   ]
  },
  {
   "cell_type": "code",
   "execution_count": null,
   "id": "d81a26a1",
   "metadata": {},
   "outputs": [],
   "source": []
  },
  {
   "cell_type": "code",
   "execution_count": 43,
   "id": "b70711ce",
   "metadata": {
    "ExecuteTime": {
     "end_time": "2023-11-06T10:07:58.575571Z",
     "start_time": "2023-11-06T10:07:58.307079Z"
    }
   },
   "outputs": [
    {
     "data": {
      "image/png": "[encoded data removed]",
      "text/plain": [
       "<Figure size 640x480 with 1 Axes>"
      ]
     },
     "metadata": {},
     "output_type": "display_data"
    }
   ],
   "source": [
    "fig, axe = plt.subplots()\n",
    "axe.plot(df[\"t\"], df[\"xi\"])\n",
    "axe.plot(tlin, xilin)\n",
    "axe.plot(tlin, xs)\n",
    "axe.set_title(\"Heterogeneous Catalysis Kinetic\")\n",
    "axe.set_xlabel(\"Time, $t$ $[\\mathrm{s}]$\")\n",
    "axe.set_ylabel(\"Volume, $V_\\mathrm{H_2}(t)$ $[\\mathrm{m^3}]$\")\n",
    "axe.grid()"
   ]
  },
  {
   "cell_type": "code",
   "execution_count": 45,
   "id": "287da7c5",
   "metadata": {
    "ExecuteTime": {
     "end_time": "2023-11-06T10:08:33.371681Z",
     "start_time": "2023-11-06T10:08:33.368289Z"
    }
   },
   "outputs": [],
   "source": [
    "A = (n0 - xs)/V\n",
    "B = xs/V"
   ]
  },
  {
   "cell_type": "code",
   "execution_count": 48,
   "id": "58484575",
   "metadata": {
    "ExecuteTime": {
     "end_time": "2023-11-06T10:08:54.744999Z",
     "start_time": "2023-11-06T10:08:54.741534Z"
    }
   },
   "outputs": [],
   "source": [
    "C = np.stack([A, B])"
   ]
  },
  {
   "cell_type": "code",
   "execution_count": 61,
   "id": "94ed6f5f",
   "metadata": {
    "ExecuteTime": {
     "end_time": "2023-11-06T10:11:36.045297Z",
     "start_time": "2023-11-06T10:11:36.040173Z"
    }
   },
   "outputs": [],
   "source": [
    "r = model(C, 1e-2, 1e5, 1e7)"
   ]
  },
  {
   "cell_type": "code",
   "execution_count": null,
   "id": "0b147af8",
   "metadata": {},
   "outputs": [],
   "source": []
  },
  {
   "cell_type": "code",
   "execution_count": 62,
   "id": "f5e01dc2",
   "metadata": {
    "ExecuteTime": {
     "end_time": "2023-11-06T10:11:36.465208Z",
     "start_time": "2023-11-06T10:11:36.450709Z"
    }
   },
   "outputs": [],
   "source": [
    "def model(x, k1, a, b):\n",
    "    return k1*(a*x[0])/(a*x[0] + b*x[1])"
   ]
  },
  {
   "cell_type": "code",
   "execution_count": 72,
   "id": "39c7f44b",
   "metadata": {
    "ExecuteTime": {
     "end_time": "2023-11-06T10:12:20.812938Z",
     "start_time": "2023-11-06T10:12:20.788383Z"
    }
   },
   "outputs": [],
   "source": [
    "popt, pcov = optimize.curve_fit(model, C, r, p0=[1e-2, 1e5, 1e5])"
   ]
  },
  {
   "cell_type": "code",
   "execution_count": 73,
   "id": "98dffa66",
   "metadata": {
    "ExecuteTime": {
     "end_time": "2023-11-06T10:12:21.156217Z",
     "start_time": "2023-11-06T10:12:21.150154Z"
    }
   },
   "outputs": [
    {
     "data": {
      "text/plain": [
       "(array([1.00000000e-02, 2.13597912e+07, 2.13597912e+09]),\n",
       " array([[1.10057822e-39, 6.52471237e-24, 6.52471764e-22],\n",
       "        [6.52471183e-24, 5.29329795e-06, 5.29329797e-04],\n",
       "        [6.52471703e-22, 5.29329797e-04, 5.29329799e-02]]))"
      ]
     },
     "execution_count": 73,
     "metadata": {},
     "output_type": "execute_result"
    }
   ],
   "source": [
    "popt, pcov"
   ]
  },
  {
   "cell_type": "code",
   "execution_count": 74,
   "id": "cb813eac",
   "metadata": {
    "ExecuteTime": {
     "end_time": "2023-11-06T10:12:21.580404Z",
     "start_time": "2023-11-06T10:12:21.572529Z"
    }
   },
   "outputs": [
    {
     "data": {
      "text/plain": [
       "100.0"
      ]
     },
     "execution_count": 74,
     "metadata": {},
     "output_type": "execute_result"
    }
   ],
   "source": [
    "popt[2]/popt[1]"
   ]
  },
  {
   "cell_type": "code",
   "execution_count": null,
   "id": "663ecd66",
   "metadata": {},
   "outputs": [],
   "source": []
  },
  {
   "cell_type": "code",
   "execution_count": null,
   "id": "e78bcc51",
   "metadata": {},
   "outputs": [],
   "source": []
  },
  {
   "cell_type": "code",
   "execution_count": null,
   "id": "ff597c87",
   "metadata": {},
   "outputs": [],
   "source": []
  }
 ],
 "metadata": {
  "hide_input": false,
  "kernelspec": {
   "display_name": "Python 3",
   "language": "python",
   "name": "python3"
  },
  "language_info": {
   "codemirror_mode": {
    "name": "ipython",
    "version": 3
   },
   "file_extension": ".py",
   "mimetype": "text/x-python",
   "name": "python",
   "nbconvert_exporter": "python",
   "pygments_lexer": "ipython3",
   "version": "3.10.6"
  },
  "toc": {
   "base_numbering": 1,
   "nav_menu": {},
   "number_sections": true,
   "sideBar": true,
   "skip_h1_title": false,
   "title_cell": "Table of Contents",
   "title_sidebar": "Contents",
   "toc_cell": false,
   "toc_position": {},
   "toc_section_display": true,
   "toc_window_display": false
  },
  "varInspector": {
   "cols": {
    "lenName": 16,
    "lenType": 16,
    "lenVar": 40
   },
   "kernels_config": {
    "python": {
     "delete_cmd_postfix": "",
     "delete_cmd_prefix": "del ",
     "library": "var_list.py",
     "varRefreshCmd": "print(var_dic_list())"
    },
    "r": {
     "delete_cmd_postfix": ") ",
     "delete_cmd_prefix": "rm(",
     "library": "var_list.r",
     "varRefreshCmd": "cat(var_dic_list()) "
    }
   },
   "types_to_exclude": [
    "module",
    "function",
    "builtin_function_or_method",
    "instance",
    "_Feature"
   ],
   "window_display": false
  }
 },
 "nbformat": 4,
 "nbformat_minor": 5
}
