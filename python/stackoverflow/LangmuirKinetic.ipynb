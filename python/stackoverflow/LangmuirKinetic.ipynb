{
 "cells": [
  {
   "cell_type": "markdown",
   "id": "6f57cb15",
   "metadata": {},
   "source": [
    "```python\n",
    "def two_site(partial_pressures, K1, K2, k4, K5, k0, T):\n",
    "    pA, pB, pC = partial_pressures\n",
    "\n",
    "    k3 = k0 * np.exp(-37000 / (8.314 * T))\n",
    "    S = (k3 / k4) * K1 * K2 * pA * pB\n",
    "\n",
    "    # theta_prime and theta_star\n",
    "    num = 50\n",
    "    theta_prime = 0.05\n",
    "    theta_star = 0.05\n",
    "    \n",
    "    for _ in range(num):\n",
    "        theta_star_new = 1 / (1 + K2 * pB + np.sqrt(S * theta_prime / theta_star))\n",
    "        theta_prime_new = 1 / (1 + K1 * pA + pC / K5 + np.sqrt(S * theta_star / theta_prime))\n",
    "        theta_star = np.maximum(0, np.minimum(1, theta_star_new))  \n",
    "        theta_prime = np.maximum(0, np.minimum(1, theta_prime_new))\n",
    "        \n",
    "#     print(\"theta_star:\", theta_star)\n",
    "#     print(\"theta_prime:\", theta_prime)  \n",
    "\n",
    "\n",
    "    rate = k3 * K1 * K2 * pB * pA * theta_star * theta_prime\n",
    "    return rate\n",
    "\n",
    "\n",
    "\n",
    "\n",
    "# Step 3: Objective Function\n",
    "def objective(params):\n",
    "    K1, K2, k4, K5, k0 = params\n",
    "    model_rates = two_site(partial_pressures.T, K1, K2, k4, K5, k0, Temp)\n",
    "    return np.abs((model_rates - experimental_rates)/experimental_rates) * 100\n",
    "\n",
    "\n",
    "# Step 4: least_squares optimization\n",
    "\n",
    "initial_params = [4.6, 100000, 50, 10, 100]  # K1, K2, k3(not included - should be small), k4(fast step), K5, k0\n",
    "lb = [0, 1, 0, 0, 0]                 # K1, K2, k4, K5, k0\n",
    "ub = [np.inf, np.inf, np.inf, np.inf, np.inf]\n",
    "bounds1 = (lb,ub)\n",
    "\n",
    "result = least_squares(objective, initial_params, bounds=bounds1)\n",
    "K1n_fit, K2n_fit, k4n_fit, K5n_fit, k0n_fit = result.x\n",
    "\n",
    "model_rates2 = two_site(partial_pressures.T, K1n_fit, K2n_fit, k4n_fit, K5n_fit, k0n_fit, Temp)\n",
    "percentage_error2 = np.abs((model_rates2 - experimental_rates) / experimental_rates) * 100\n",
    "\n",
    "\n",
    "print(\"\\n Model rates 2\",model_rates2)\n",
    "print(\"\\n\")\n",
    "print(K1n_fit)\n",
    "print(K2n_fit)\n",
    "print(k4n_fit)\n",
    "print(K5n_fit)\n",
    "print(\"k0: \", k0n_fit)\n",
    "print(\"\\n\")\n",
    "\n",
    "print(\"\\nPercentage error least squares are :\",percentage_error2)\n",
    "```\n",
    "https://stackoverflow.com/questions/76603587/non-linear-data-fitting-for-kinetic-data\n",
    "\n",
    "```\n",
    "solve {x = 1/(1+A+sqrt(s*y/x)), y = 1/(1+A+B +sqrt(s*x/y))} for x and y\n",
    "```\n",
    "\n",
    "https://www.wolframalpha.com/input?i=solve+%7Bx+%3D+1%2F%281%2BA%2Bsqrt%28s*y%2Fx%29%29%2C+y+%3D+1%2F%281%2BA%2BB+%2Bsqrt%28s*x%2Fy%29%29%7D+for+x+and+y\n",
    "\n",
    "```\n",
    "jacobian {1/(1+B+sqrt(s*y/x)), 1/(1+A+C +sqrt(s*x/y))} wrt x and y\n",
    "```\n",
    "\n",
    "https://www.wolframalpha.com/input?i=jacobian+%7B1%2F%281%2BB%2Bsqrt%28s*y%2Fx%29%29%2C+1%2F%281%2BA%2BC+%2Bsqrt%28s*x%2Fy%29%29%7D+wrt+x+and+y"
   ]
  },
  {
   "cell_type": "code",
   "execution_count": 1,
   "id": "e24fbeaa",
   "metadata": {
    "ExecuteTime": {
     "end_time": "2023-07-16T10:24:34.080896Z",
     "start_time": "2023-07-16T10:24:31.711060Z"
    }
   },
   "outputs": [],
   "source": [
    "import numpy as np\n",
    "import pandas as pd\n",
    "import matplotlib.pyplot as plt\n",
    "from scipy import optimize \n",
    "import logging"
   ]
  },
  {
   "cell_type": "code",
   "execution_count": 2,
   "id": "ca544d77",
   "metadata": {
    "ExecuteTime": {
     "end_time": "2023-07-16T10:24:34.112776Z",
     "start_time": "2023-07-16T10:24:34.105334Z"
    }
   },
   "outputs": [],
   "source": [
    "logger = logging.getLogger(__name__)\n",
    "logger.setLevel(logging.INFO)"
   ]
  },
  {
   "cell_type": "code",
   "execution_count": 39,
   "id": "4b4dc546",
   "metadata": {
    "ExecuteTime": {
     "end_time": "2023-07-16T10:26:49.230560Z",
     "start_time": "2023-07-16T10:26:49.176064Z"
    }
   },
   "outputs": [],
   "source": [
    "class Kinetic:\n",
    "    \n",
    "    \"\"\"Langmuir-Hinshelwood Two-Site Kinetic Model Solver\"\"\"\n",
    "    \n",
    "    R = 8.314              # J/mol.K\n",
    "    Ea = 37000             # J/mol\n",
    "    T = 473.15             # K\n",
    "    theta_ = [0.9, 0.9]    # 1\n",
    "    \n",
    "    @staticmethod\n",
    "    def k3(p, k1, k2, k4, k5, k0):\n",
    "        \"\"\"Arrhenius estimation for k3\"\"\"\n",
    "        return k0*np.exp(-Kinetic.Ea/(Kinetic.R*Kinetic.T))\n",
    "\n",
    "    @staticmethod\n",
    "    def s(p, k1, k2, k4, k5, k0):\n",
    "        \"\"\"Partial kinetic rate\"\"\"\n",
    "        pA, pB, pC = p\n",
    "        k3 = Kinetic.k3(p, k1, k2, k4, k5, k0)\n",
    "        return (k1*k2*k3/k4)*pA*pB\n",
    "    \n",
    "    @staticmethod\n",
    "    def equation(x, y, C, s):\n",
    "        return 1/(1 + C + np.sqrt(s*y/x)) - x\n",
    "    \n",
    "    @staticmethod\n",
    "    def isopleth(x, y, s):\n",
    "        return (x + np.sqrt(s*x*y) - 1)/x\n",
    "    \n",
    "    @staticmethod\n",
    "    def system(theta, p, k1, k2, k4, k5, k0):\n",
    "        \"\"\"Isothermal coverages system\"\"\"\n",
    "        pA, pB, pC = p\n",
    "        t0, t1 = theta\n",
    "        s = Kinetic.s(p, k1, k2, k4, k5, k0)\n",
    "        C0 = k2*pB\n",
    "        C1 = k1*pA + pC/k5\n",
    "        return np.array([\n",
    "            Kinetic.equation(t0, t1, C0, s),\n",
    "            Kinetic.equation(t1, t0, C1, s),\n",
    "        ])\n",
    "    \n",
    "    @staticmethod\n",
    "    def _theta(p, k1, k2, k4, k5, k0):\n",
    "        \"\"\"Single Isothermal coverages\"\"\"\n",
    "        return optimize.fsolve(\n",
    "            Kinetic.system,\n",
    "            Kinetic.theta_,\n",
    "            args=(p, k1, k2, k4, k5, k0),\n",
    "            full_output=False\n",
    "        )\n",
    "    \n",
    "    @staticmethod\n",
    "    def theta(p, k1, k2, k4, k5, k0):\n",
    "        \"\"\"Isothermal coverages\"\"\"\n",
    "        return np.apply_along_axis(Kinetic._theta, 0, p, k1, k2, k4, k5, k0)\n",
    "    \n",
    "    @staticmethod\n",
    "    def r(p, k1, k2, k4, k5, k0):\n",
    "        \"\"\"Global kinetic rate\"\"\"\n",
    "        pA, pB, pC = p\n",
    "        k3 = Kinetic.k3(p, k1, k2, k4, k5, k0)\n",
    "        t0, t1 = Kinetic.theta(p, k1, k2, k4, k5, k0)\n",
    "        return (k1*k2*k3)*pA*pB*t0*t1\n",
    "    \n",
    "    @staticmethod\n",
    "    def solve(p, r, *k):\n",
    "        \"\"\"Global kinetic constants adjustment\"\"\"\n",
    "        return optimize.curve_fit(\n",
    "            Kinetic.r, p.T, r, p0=k,\n",
    "            bounds=((0, 0, 0, 0, 0), (np.inf, np.inf, np.inf, np.inf, np.inf)),\n",
    "            method=\"trf\",\n",
    "            gtol=1e-10,\n",
    "            full_output=True\n",
    "        )\n",
    "    \n",
    "    @staticmethod\n",
    "    def eval(p, k1, k2, k4, k5, k0):\n",
    "        return np.vectorize(Kinetic.r, excluded=[\"p\"])(p, k1, k2, k4, k5, k0)\n",
    "    \n",
    "    @staticmethod\n",
    "    def mse(k1, k2, k4, k5, k0, p, r):\n",
    "        pass\n",
    "    \n",
    "    @staticmethod\n",
    "    def abaque(s, C=None):\n",
    "        \n",
    "        lin = np.linspace(0.0001, 1.1, 200)\n",
    "        X, Y = np.meshgrid(lin, lin)\n",
    "        if C is None:\n",
    "            C = np.arange(0, 26, 1)\n",
    "        \n",
    "        Cx = Kinetic.isopleth(X, Y, s)\n",
    "        Cy = Kinetic.isopleth(Y, X, s)\n",
    "      \n",
    "        fig, axe = plt.subplots()\n",
    "        xlabels = axe.contour(X, Y, Cx, C, cmap=\"jet\")\n",
    "        axe.clabel(xlabels, xlabels.levels, inline=True, fontsize=7)\n",
    "        ylabels = axe.contour(X, Y, Cy, C, cmap=\"jet\")\n",
    "        axe.clabel(ylabels, ylabels.levels, inline=True, fontsize=7)\n",
    "        axe.set_title(\"Isothemal Coverages System\\nConstant Isopleths ($s={}$)\".format(s))\n",
    "        axe.set_xlabel(r\"Partial Coverage, $\\theta_0$ [-]\")\n",
    "        axe.set_ylabel(r\"Partial Coverage, $\\theta_1$ [-]\")\n",
    "        axe.set_aspect(\"equal\")\n",
    "        axe.set_xlim([0, 1.1])\n",
    "        axe.set_ylim([0, 1.1])\n",
    "        axe.grid()\n",
    "        \n",
    "        return axe"
   ]
  },
  {
   "cell_type": "code",
   "execution_count": 40,
   "id": "69eee9ca",
   "metadata": {
    "ExecuteTime": {
     "end_time": "2023-07-16T10:26:50.852870Z",
     "start_time": "2023-07-16T10:26:50.646570Z"
    }
   },
   "outputs": [
    {
     "data": {
      "text/html": [
       "<div>\n",
       "<style scoped>\n",
       "    .dataframe tbody tr th:only-of-type {\n",
       "        vertical-align: middle;\n",
       "    }\n",
       "\n",
       "    .dataframe tbody tr th {\n",
       "        vertical-align: top;\n",
       "    }\n",
       "\n",
       "    .dataframe thead th {\n",
       "        text-align: right;\n",
       "    }\n",
       "</style>\n",
       "<table border=\"1\" class=\"dataframe\">\n",
       "  <thead>\n",
       "    <tr style=\"text-align: right;\">\n",
       "      <th></th>\n",
       "      <th>pa</th>\n",
       "      <th>pb</th>\n",
       "      <th>pc</th>\n",
       "      <th>T</th>\n",
       "      <th>rate</th>\n",
       "    </tr>\n",
       "  </thead>\n",
       "  <tbody>\n",
       "    <tr>\n",
       "      <th>0</th>\n",
       "      <td>0.10</td>\n",
       "      <td>0.11</td>\n",
       "      <td>0.0114</td>\n",
       "      <td>473.15</td>\n",
       "      <td>0.000001</td>\n",
       "    </tr>\n",
       "    <tr>\n",
       "      <th>1</th>\n",
       "      <td>0.13</td>\n",
       "      <td>0.11</td>\n",
       "      <td>0.0121</td>\n",
       "      <td>473.15</td>\n",
       "      <td>0.000002</td>\n",
       "    </tr>\n",
       "    <tr>\n",
       "      <th>2</th>\n",
       "      <td>0.20</td>\n",
       "      <td>0.11</td>\n",
       "      <td>0.0170</td>\n",
       "      <td>473.15</td>\n",
       "      <td>0.000004</td>\n",
       "    </tr>\n",
       "    <tr>\n",
       "      <th>3</th>\n",
       "      <td>0.25</td>\n",
       "      <td>0.11</td>\n",
       "      <td>0.0172</td>\n",
       "      <td>473.15</td>\n",
       "      <td>0.000004</td>\n",
       "    </tr>\n",
       "    <tr>\n",
       "      <th>4</th>\n",
       "      <td>0.30</td>\n",
       "      <td>0.11</td>\n",
       "      <td>0.0252</td>\n",
       "      <td>473.15</td>\n",
       "      <td>0.000005</td>\n",
       "    </tr>\n",
       "    <tr>\n",
       "      <th>5</th>\n",
       "      <td>0.35</td>\n",
       "      <td>0.11</td>\n",
       "      <td>0.0261</td>\n",
       "      <td>473.15</td>\n",
       "      <td>0.000006</td>\n",
       "    </tr>\n",
       "    <tr>\n",
       "      <th>6</th>\n",
       "      <td>0.10</td>\n",
       "      <td>0.16</td>\n",
       "      <td>0.0123</td>\n",
       "      <td>473.15</td>\n",
       "      <td>0.000003</td>\n",
       "    </tr>\n",
       "    <tr>\n",
       "      <th>7</th>\n",
       "      <td>0.10</td>\n",
       "      <td>0.20</td>\n",
       "      <td>0.0172</td>\n",
       "      <td>473.15</td>\n",
       "      <td>0.000004</td>\n",
       "    </tr>\n",
       "    <tr>\n",
       "      <th>8</th>\n",
       "      <td>0.10</td>\n",
       "      <td>0.22</td>\n",
       "      <td>0.0181</td>\n",
       "      <td>473.15</td>\n",
       "      <td>0.000003</td>\n",
       "    </tr>\n",
       "    <tr>\n",
       "      <th>9</th>\n",
       "      <td>0.10</td>\n",
       "      <td>0.33</td>\n",
       "      <td>0.0221</td>\n",
       "      <td>473.15</td>\n",
       "      <td>0.000005</td>\n",
       "    </tr>\n",
       "    <tr>\n",
       "      <th>10</th>\n",
       "      <td>0.10</td>\n",
       "      <td>0.44</td>\n",
       "      <td>0.0247</td>\n",
       "      <td>473.15</td>\n",
       "      <td>0.000007</td>\n",
       "    </tr>\n",
       "  </tbody>\n",
       "</table>\n",
       "</div>"
      ],
      "text/plain": [
       "      pa    pb      pc       T      rate\n",
       "0   0.10  0.11  0.0114  473.15  0.000001\n",
       "1   0.13  0.11  0.0121  473.15  0.000002\n",
       "2   0.20  0.11  0.0170  473.15  0.000004\n",
       "3   0.25  0.11  0.0172  473.15  0.000004\n",
       "4   0.30  0.11  0.0252  473.15  0.000005\n",
       "5   0.35  0.11  0.0261  473.15  0.000006\n",
       "6   0.10  0.16  0.0123  473.15  0.000003\n",
       "7   0.10  0.20  0.0172  473.15  0.000004\n",
       "8   0.10  0.22  0.0181  473.15  0.000003\n",
       "9   0.10  0.33  0.0221  473.15  0.000005\n",
       "10  0.10  0.44  0.0247  473.15  0.000007"
      ]
     },
     "execution_count": 40,
     "metadata": {},
     "output_type": "execute_result"
    }
   ],
   "source": [
    "df = pd.read_excel(\"LangmuirData.xlsx\")\n",
    "df"
   ]
  },
  {
   "cell_type": "code",
   "execution_count": 41,
   "id": "84ecd8d3",
   "metadata": {
    "ExecuteTime": {
     "end_time": "2023-07-16T10:26:51.978345Z",
     "start_time": "2023-07-16T10:26:51.967678Z"
    }
   },
   "outputs": [],
   "source": [
    "p = df.filter(regex=\"p\").values\n",
    "r = df[\"rate\"].values"
   ]
  },
  {
   "cell_type": "code",
   "execution_count": 42,
   "id": "c95faf33",
   "metadata": {
    "ExecuteTime": {
     "end_time": "2023-07-16T10:26:53.794624Z",
     "start_time": "2023-07-16T10:26:53.785515Z"
    }
   },
   "outputs": [],
   "source": [
    "#Kinetic.solve(p, r, 5, 1e5, 50, 10, 100)"
   ]
  },
  {
   "cell_type": "code",
   "execution_count": 43,
   "id": "648e28e9",
   "metadata": {
    "ExecuteTime": {
     "end_time": "2023-07-16T10:26:54.958387Z",
     "start_time": "2023-07-16T10:26:54.953760Z"
    }
   },
   "outputs": [],
   "source": [
    "#Kinetic.solve(p, r, 1, 1, 1, 1, 1)"
   ]
  },
  {
   "cell_type": "code",
   "execution_count": 44,
   "id": "797a41c8",
   "metadata": {
    "ExecuteTime": {
     "end_time": "2023-07-16T10:26:55.985936Z",
     "start_time": "2023-07-16T10:26:55.982033Z"
    }
   },
   "outputs": [],
   "source": [
    "#Kinetic.solve(p, r, 1e2, 1e2, 1e2, 1e2, 1e2)"
   ]
  },
  {
   "cell_type": "code",
   "execution_count": null,
   "id": "6ef55e56",
   "metadata": {},
   "outputs": [],
   "source": []
  },
  {
   "cell_type": "code",
   "execution_count": null,
   "id": "de37ad28",
   "metadata": {},
   "outputs": [],
   "source": []
  },
  {
   "cell_type": "code",
   "execution_count": 45,
   "id": "19fe2957",
   "metadata": {
    "ExecuteTime": {
     "end_time": "2023-07-16T10:26:56.971967Z",
     "start_time": "2023-07-16T10:26:56.966062Z"
    }
   },
   "outputs": [],
   "source": [
    "plin = np.linspace(0.1, 0.3, 5)\n",
    "PA, PB, PC = np.meshgrid(plin, plin, plin)"
   ]
  },
  {
   "cell_type": "code",
   "execution_count": 46,
   "id": "ddd34469",
   "metadata": {
    "ExecuteTime": {
     "end_time": "2023-07-16T10:26:59.058723Z",
     "start_time": "2023-07-16T10:26:59.055661Z"
    }
   },
   "outputs": [],
   "source": [
    "P = np.vstack([\n",
    "    PA.flatten(), PB.flatten(), PC.flatten()\n",
    "]).T"
   ]
  },
  {
   "cell_type": "code",
   "execution_count": null,
   "id": "0d5afe43",
   "metadata": {
    "ExecuteTime": {
     "end_time": "2023-07-16T09:27:43.063162Z",
     "start_time": "2023-07-16T09:27:43.050912Z"
    }
   },
   "outputs": [],
   "source": []
  },
  {
   "cell_type": "code",
   "execution_count": 47,
   "id": "d979baa8",
   "metadata": {
    "ExecuteTime": {
     "end_time": "2023-07-16T10:27:00.038771Z",
     "start_time": "2023-07-16T10:26:59.974773Z"
    }
   },
   "outputs": [],
   "source": [
    "R = Kinetic.r(P.T, 5, 1e5, 50, 10, 100)"
   ]
  },
  {
   "cell_type": "code",
   "execution_count": 48,
   "id": "c2ef40e4",
   "metadata": {
    "ExecuteTime": {
     "end_time": "2023-07-16T10:27:02.008439Z",
     "start_time": "2023-07-16T10:27:01.992948Z"
    }
   },
   "outputs": [
    {
     "data": {
      "text/plain": [
       "(125,)"
      ]
     },
     "execution_count": 48,
     "metadata": {},
     "output_type": "execute_result"
    }
   ],
   "source": [
    "R.shape"
   ]
  },
  {
   "cell_type": "code",
   "execution_count": 49,
   "id": "fe9adda3",
   "metadata": {
    "ExecuteTime": {
     "end_time": "2023-07-16T10:27:03.361712Z",
     "start_time": "2023-07-16T10:27:03.357123Z"
    }
   },
   "outputs": [],
   "source": [
    "#Kinetic.solve(P, R, 1e2, 1e2, 1e2, 1e2, 1e2)"
   ]
  },
  {
   "cell_type": "code",
   "execution_count": 50,
   "id": "532a0512",
   "metadata": {
    "ExecuteTime": {
     "end_time": "2023-07-16T10:27:04.578207Z",
     "start_time": "2023-07-16T10:27:04.573016Z"
    }
   },
   "outputs": [],
   "source": [
    "#Kinetic.solve(P, R, 1e4, 1e4, 1e4, 1e4, 1e4)"
   ]
  },
  {
   "cell_type": "code",
   "execution_count": 51,
   "id": "174f90ef",
   "metadata": {
    "ExecuteTime": {
     "end_time": "2023-07-16T10:27:05.886327Z",
     "start_time": "2023-07-16T10:27:05.883304Z"
    }
   },
   "outputs": [],
   "source": [
    "#Kinetic.solve(P, R, 1, 1, 1, 1, 1)"
   ]
  },
  {
   "cell_type": "code",
   "execution_count": null,
   "id": "56feee1b",
   "metadata": {
    "ExecuteTime": {
     "end_time": "2023-07-16T10:25:54.652451Z",
     "start_time": "2023-07-16T10:25:54.643802Z"
    }
   },
   "outputs": [],
   "source": []
  },
  {
   "cell_type": "code",
   "execution_count": 53,
   "id": "e6c0b3bb",
   "metadata": {
    "ExecuteTime": {
     "end_time": "2023-07-16T10:28:41.457179Z",
     "start_time": "2023-07-16T10:28:41.427544Z"
    }
   },
   "outputs": [],
   "source": [
    "#Kinetic.solve(p, r, 5, 1e5, 50, 10, 100)\n",
    "k1l = np.logspace(-2, 2, 5, base=10)\n",
    "k2l = np.logspace(3, 7, 5, base=10)\n",
    "k4l = np.logspace(0, 4, 5, base=10)\n",
    "k5l = np.logspace(-1, 3, 5, base=10)\n",
    "k0l = np.logspace(0, 4, 5, base=10)"
   ]
  },
  {
   "cell_type": "code",
   "execution_count": 55,
   "id": "30331d2c",
   "metadata": {
    "ExecuteTime": {
     "end_time": "2023-07-16T10:29:16.570397Z",
     "start_time": "2023-07-16T10:29:16.494399Z"
    }
   },
   "outputs": [],
   "source": [
    "K1, K2, K4, K5, K0 = np.meshgrid(k1l, k2l, k4l, k5l, k0l)"
   ]
  },
  {
   "cell_type": "code",
   "execution_count": 59,
   "id": "6ba52197",
   "metadata": {
    "ExecuteTime": {
     "end_time": "2023-07-16T10:30:39.004618Z",
     "start_time": "2023-07-16T10:30:38.999354Z"
    }
   },
   "outputs": [],
   "source": [
    "import functools"
   ]
  },
  {
   "cell_type": "code",
   "execution_count": 65,
   "id": "0e4c9044",
   "metadata": {
    "ExecuteTime": {
     "end_time": "2023-07-16T10:31:35.443238Z",
     "start_time": "2023-07-16T10:31:35.439417Z"
    }
   },
   "outputs": [],
   "source": [
    "f = np.vectorize(functools.partial(Kinetic.r, P.T))"
   ]
  },
  {
   "cell_type": "code",
   "execution_count": 67,
   "id": "ddaf6d1b",
   "metadata": {
    "ExecuteTime": {
     "end_time": "2023-07-16T10:35:58.339748Z",
     "start_time": "2023-07-16T10:34:13.601830Z"
    }
   },
   "outputs": [
    {
     "name": "stderr",
     "output_type": "stream",
     "text": [
      "/tmp/ipykernel_903/2803671937.py:24: RuntimeWarning: invalid value encountered in sqrt\n",
      "  return 1/(1 + C + np.sqrt(s*y/x)) - x\n"
     ]
    },
    {
     "ename": "ValueError",
     "evalue": "setting an array element with a sequence.",
     "output_type": "error",
     "traceback": [
      "\u001b[0;31m---------------------------------------------------------------------------\u001b[0m",
      "\u001b[0;31mTypeError\u001b[0m                                 Traceback (most recent call last)",
      "\u001b[0;31mTypeError\u001b[0m: only size-1 arrays can be converted to Python scalars",
      "\nThe above exception was the direct cause of the following exception:\n",
      "\u001b[0;31mValueError\u001b[0m                                Traceback (most recent call last)",
      "Cell \u001b[0;32mIn [67], line 1\u001b[0m\n\u001b[0;32m----> 1\u001b[0m \u001b[43mf\u001b[49m\u001b[43m(\u001b[49m\u001b[43mK1\u001b[49m\u001b[43m,\u001b[49m\u001b[43m \u001b[49m\u001b[43mK2\u001b[49m\u001b[43m,\u001b[49m\u001b[43m \u001b[49m\u001b[43mK4\u001b[49m\u001b[43m,\u001b[49m\u001b[43m \u001b[49m\u001b[43mK5\u001b[49m\u001b[43m,\u001b[49m\u001b[43m \u001b[49m\u001b[43mK0\u001b[49m\u001b[43m)\u001b[49m\n",
      "File \u001b[0;32m~/.local/lib/python3.10/site-packages/numpy/lib/function_base.py:2328\u001b[0m, in \u001b[0;36mvectorize.__call__\u001b[0;34m(self, *args, **kwargs)\u001b[0m\n\u001b[1;32m   2325\u001b[0m     vargs \u001b[38;5;241m=\u001b[39m [args[_i] \u001b[38;5;28;01mfor\u001b[39;00m _i \u001b[38;5;129;01min\u001b[39;00m inds]\n\u001b[1;32m   2326\u001b[0m     vargs\u001b[38;5;241m.\u001b[39mextend([kwargs[_n] \u001b[38;5;28;01mfor\u001b[39;00m _n \u001b[38;5;129;01min\u001b[39;00m names])\n\u001b[0;32m-> 2328\u001b[0m \u001b[38;5;28;01mreturn\u001b[39;00m \u001b[38;5;28;43mself\u001b[39;49m\u001b[38;5;241;43m.\u001b[39;49m\u001b[43m_vectorize_call\u001b[49m\u001b[43m(\u001b[49m\u001b[43mfunc\u001b[49m\u001b[38;5;241;43m=\u001b[39;49m\u001b[43mfunc\u001b[49m\u001b[43m,\u001b[49m\u001b[43m \u001b[49m\u001b[43margs\u001b[49m\u001b[38;5;241;43m=\u001b[39;49m\u001b[43mvargs\u001b[49m\u001b[43m)\u001b[49m\n",
      "File \u001b[0;32m~/.local/lib/python3.10/site-packages/numpy/lib/function_base.py:2414\u001b[0m, in \u001b[0;36mvectorize._vectorize_call\u001b[0;34m(self, func, args)\u001b[0m\n\u001b[1;32m   2411\u001b[0m outputs \u001b[38;5;241m=\u001b[39m ufunc(\u001b[38;5;241m*\u001b[39minputs)\n\u001b[1;32m   2413\u001b[0m \u001b[38;5;28;01mif\u001b[39;00m ufunc\u001b[38;5;241m.\u001b[39mnout \u001b[38;5;241m==\u001b[39m \u001b[38;5;241m1\u001b[39m:\n\u001b[0;32m-> 2414\u001b[0m     res \u001b[38;5;241m=\u001b[39m \u001b[43masanyarray\u001b[49m\u001b[43m(\u001b[49m\u001b[43moutputs\u001b[49m\u001b[43m,\u001b[49m\u001b[43m \u001b[49m\u001b[43mdtype\u001b[49m\u001b[38;5;241;43m=\u001b[39;49m\u001b[43motypes\u001b[49m\u001b[43m[\u001b[49m\u001b[38;5;241;43m0\u001b[39;49m\u001b[43m]\u001b[49m\u001b[43m)\u001b[49m\n\u001b[1;32m   2415\u001b[0m \u001b[38;5;28;01melse\u001b[39;00m:\n\u001b[1;32m   2416\u001b[0m     res \u001b[38;5;241m=\u001b[39m \u001b[38;5;28mtuple\u001b[39m([asanyarray(x, dtype\u001b[38;5;241m=\u001b[39mt)\n\u001b[1;32m   2417\u001b[0m                  \u001b[38;5;28;01mfor\u001b[39;00m x, t \u001b[38;5;129;01min\u001b[39;00m \u001b[38;5;28mzip\u001b[39m(outputs, otypes)])\n",
      "\u001b[0;31mValueError\u001b[0m: setting an array element with a sequence."
     ]
    }
   ],
   "source": [
    "f(K1, K2, K4, K5, K0)"
   ]
  },
  {
   "cell_type": "code",
   "execution_count": null,
   "id": "8425dcee",
   "metadata": {},
   "outputs": [],
   "source": []
  },
  {
   "cell_type": "code",
   "execution_count": null,
   "id": "d5a72a78",
   "metadata": {},
   "outputs": [],
   "source": []
  },
  {
   "cell_type": "code",
   "execution_count": 52,
   "id": "8d5cf40b",
   "metadata": {
    "ExecuteTime": {
     "end_time": "2023-07-16T10:27:06.886136Z",
     "start_time": "2023-07-16T10:27:06.769621Z"
    }
   },
   "outputs": [
    {
     "ename": "TypeError",
     "evalue": "cannot unpack non-iterable numpy.float64 object",
     "output_type": "error",
     "traceback": [
      "\u001b[0;31m---------------------------------------------------------------------------\u001b[0m",
      "\u001b[0;31mTypeError\u001b[0m                                 Traceback (most recent call last)",
      "Cell \u001b[0;32mIn [52], line 1\u001b[0m\n\u001b[0;32m----> 1\u001b[0m \u001b[43mKinetic\u001b[49m\u001b[38;5;241;43m.\u001b[39;49m\u001b[43meval\u001b[49m\u001b[43m(\u001b[49m\u001b[43mP\u001b[49m\u001b[43m,\u001b[49m\u001b[43m \u001b[49m\u001b[38;5;241;43m1e2\u001b[39;49m\u001b[43m,\u001b[49m\u001b[43m \u001b[49m\u001b[38;5;241;43m1e2\u001b[39;49m\u001b[43m,\u001b[49m\u001b[43m \u001b[49m\u001b[38;5;241;43m1e2\u001b[39;49m\u001b[43m,\u001b[49m\u001b[43m \u001b[49m\u001b[38;5;241;43m1e2\u001b[39;49m\u001b[43m,\u001b[49m\u001b[43m \u001b[49m\u001b[38;5;241;43m1e2\u001b[39;49m\u001b[43m)\u001b[49m\n",
      "Cell \u001b[0;32mIn [39], line 79\u001b[0m, in \u001b[0;36mKinetic.eval\u001b[0;34m(p, k1, k2, k4, k5, k0)\u001b[0m\n\u001b[1;32m     77\u001b[0m \u001b[38;5;129m@staticmethod\u001b[39m\n\u001b[1;32m     78\u001b[0m \u001b[38;5;28;01mdef\u001b[39;00m \u001b[38;5;21meval\u001b[39m(p, k1, k2, k4, k5, k0):\n\u001b[0;32m---> 79\u001b[0m     \u001b[38;5;28;01mreturn\u001b[39;00m \u001b[43mnp\u001b[49m\u001b[38;5;241;43m.\u001b[39;49m\u001b[43mvectorize\u001b[49m\u001b[43m(\u001b[49m\u001b[43mKinetic\u001b[49m\u001b[38;5;241;43m.\u001b[39;49m\u001b[43mr\u001b[49m\u001b[43m,\u001b[49m\u001b[43m \u001b[49m\u001b[43mexcluded\u001b[49m\u001b[38;5;241;43m=\u001b[39;49m\u001b[43m[\u001b[49m\u001b[38;5;124;43m\"\u001b[39;49m\u001b[38;5;124;43mp\u001b[39;49m\u001b[38;5;124;43m\"\u001b[39;49m\u001b[43m]\u001b[49m\u001b[43m)\u001b[49m\u001b[43m(\u001b[49m\u001b[43mp\u001b[49m\u001b[43m,\u001b[49m\u001b[43m \u001b[49m\u001b[43mk1\u001b[49m\u001b[43m,\u001b[49m\u001b[43m \u001b[49m\u001b[43mk2\u001b[49m\u001b[43m,\u001b[49m\u001b[43m \u001b[49m\u001b[43mk4\u001b[49m\u001b[43m,\u001b[49m\u001b[43m \u001b[49m\u001b[43mk5\u001b[49m\u001b[43m,\u001b[49m\u001b[43m \u001b[49m\u001b[43mk0\u001b[49m\u001b[43m)\u001b[49m\n",
      "File \u001b[0;32m~/.local/lib/python3.10/site-packages/numpy/lib/function_base.py:2328\u001b[0m, in \u001b[0;36mvectorize.__call__\u001b[0;34m(self, *args, **kwargs)\u001b[0m\n\u001b[1;32m   2325\u001b[0m     vargs \u001b[38;5;241m=\u001b[39m [args[_i] \u001b[38;5;28;01mfor\u001b[39;00m _i \u001b[38;5;129;01min\u001b[39;00m inds]\n\u001b[1;32m   2326\u001b[0m     vargs\u001b[38;5;241m.\u001b[39mextend([kwargs[_n] \u001b[38;5;28;01mfor\u001b[39;00m _n \u001b[38;5;129;01min\u001b[39;00m names])\n\u001b[0;32m-> 2328\u001b[0m \u001b[38;5;28;01mreturn\u001b[39;00m \u001b[38;5;28;43mself\u001b[39;49m\u001b[38;5;241;43m.\u001b[39;49m\u001b[43m_vectorize_call\u001b[49m\u001b[43m(\u001b[49m\u001b[43mfunc\u001b[49m\u001b[38;5;241;43m=\u001b[39;49m\u001b[43mfunc\u001b[49m\u001b[43m,\u001b[49m\u001b[43m \u001b[49m\u001b[43margs\u001b[49m\u001b[38;5;241;43m=\u001b[39;49m\u001b[43mvargs\u001b[49m\u001b[43m)\u001b[49m\n",
      "File \u001b[0;32m~/.local/lib/python3.10/site-packages/numpy/lib/function_base.py:2406\u001b[0m, in \u001b[0;36mvectorize._vectorize_call\u001b[0;34m(self, func, args)\u001b[0m\n\u001b[1;32m   2404\u001b[0m     res \u001b[38;5;241m=\u001b[39m func()\n\u001b[1;32m   2405\u001b[0m \u001b[38;5;28;01melse\u001b[39;00m:\n\u001b[0;32m-> 2406\u001b[0m     ufunc, otypes \u001b[38;5;241m=\u001b[39m \u001b[38;5;28;43mself\u001b[39;49m\u001b[38;5;241;43m.\u001b[39;49m\u001b[43m_get_ufunc_and_otypes\u001b[49m\u001b[43m(\u001b[49m\u001b[43mfunc\u001b[49m\u001b[38;5;241;43m=\u001b[39;49m\u001b[43mfunc\u001b[49m\u001b[43m,\u001b[49m\u001b[43m \u001b[49m\u001b[43margs\u001b[49m\u001b[38;5;241;43m=\u001b[39;49m\u001b[43margs\u001b[49m\u001b[43m)\u001b[49m\n\u001b[1;32m   2408\u001b[0m     \u001b[38;5;66;03m# Convert args to object arrays first\u001b[39;00m\n\u001b[1;32m   2409\u001b[0m     inputs \u001b[38;5;241m=\u001b[39m [asanyarray(a, dtype\u001b[38;5;241m=\u001b[39m\u001b[38;5;28mobject\u001b[39m) \u001b[38;5;28;01mfor\u001b[39;00m a \u001b[38;5;129;01min\u001b[39;00m args]\n",
      "File \u001b[0;32m~/.local/lib/python3.10/site-packages/numpy/lib/function_base.py:2366\u001b[0m, in \u001b[0;36mvectorize._get_ufunc_and_otypes\u001b[0;34m(self, func, args)\u001b[0m\n\u001b[1;32m   2362\u001b[0m     \u001b[38;5;28;01mraise\u001b[39;00m \u001b[38;5;167;01mValueError\u001b[39;00m(\u001b[38;5;124m'\u001b[39m\u001b[38;5;124mcannot call `vectorize` on size 0 inputs \u001b[39m\u001b[38;5;124m'\u001b[39m\n\u001b[1;32m   2363\u001b[0m                      \u001b[38;5;124m'\u001b[39m\u001b[38;5;124munless `otypes` is set\u001b[39m\u001b[38;5;124m'\u001b[39m)\n\u001b[1;32m   2365\u001b[0m inputs \u001b[38;5;241m=\u001b[39m [arg\u001b[38;5;241m.\u001b[39mflat[\u001b[38;5;241m0\u001b[39m] \u001b[38;5;28;01mfor\u001b[39;00m arg \u001b[38;5;129;01min\u001b[39;00m args]\n\u001b[0;32m-> 2366\u001b[0m outputs \u001b[38;5;241m=\u001b[39m \u001b[43mfunc\u001b[49m\u001b[43m(\u001b[49m\u001b[38;5;241;43m*\u001b[39;49m\u001b[43minputs\u001b[49m\u001b[43m)\u001b[49m\n\u001b[1;32m   2368\u001b[0m \u001b[38;5;66;03m# Performance note: profiling indicates that -- for simple\u001b[39;00m\n\u001b[1;32m   2369\u001b[0m \u001b[38;5;66;03m# functions at least -- this wrapping can almost double the\u001b[39;00m\n\u001b[1;32m   2370\u001b[0m \u001b[38;5;66;03m# execution time.\u001b[39;00m\n\u001b[1;32m   2371\u001b[0m \u001b[38;5;66;03m# Hence we make it optional.\u001b[39;00m\n\u001b[1;32m   2372\u001b[0m \u001b[38;5;28;01mif\u001b[39;00m \u001b[38;5;28mself\u001b[39m\u001b[38;5;241m.\u001b[39mcache:\n",
      "File \u001b[0;32m~/.local/lib/python3.10/site-packages/numpy/lib/function_base.py:2323\u001b[0m, in \u001b[0;36mvectorize.__call__.<locals>.func\u001b[0;34m(*vargs)\u001b[0m\n\u001b[1;32m   2321\u001b[0m     the_args[_i] \u001b[38;5;241m=\u001b[39m vargs[_n]\n\u001b[1;32m   2322\u001b[0m kwargs\u001b[38;5;241m.\u001b[39mupdate(\u001b[38;5;28mzip\u001b[39m(names, vargs[\u001b[38;5;28mlen\u001b[39m(inds):]))\n\u001b[0;32m-> 2323\u001b[0m \u001b[38;5;28;01mreturn\u001b[39;00m \u001b[38;5;28;43mself\u001b[39;49m\u001b[38;5;241;43m.\u001b[39;49m\u001b[43mpyfunc\u001b[49m\u001b[43m(\u001b[49m\u001b[38;5;241;43m*\u001b[39;49m\u001b[43mthe_args\u001b[49m\u001b[43m,\u001b[49m\u001b[43m \u001b[49m\u001b[38;5;241;43m*\u001b[39;49m\u001b[38;5;241;43m*\u001b[39;49m\u001b[43mkwargs\u001b[49m\u001b[43m)\u001b[49m\n",
      "Cell \u001b[0;32mIn [39], line 61\u001b[0m, in \u001b[0;36mKinetic.r\u001b[0;34m(p, k1, k2, k4, k5, k0)\u001b[0m\n\u001b[1;32m     58\u001b[0m \u001b[38;5;129m@staticmethod\u001b[39m\n\u001b[1;32m     59\u001b[0m \u001b[38;5;28;01mdef\u001b[39;00m \u001b[38;5;21mr\u001b[39m(p, k1, k2, k4, k5, k0):\n\u001b[1;32m     60\u001b[0m     \u001b[38;5;124;03m\"\"\"Global kinetic rate\"\"\"\u001b[39;00m\n\u001b[0;32m---> 61\u001b[0m     pA, pB, pC \u001b[38;5;241m=\u001b[39m p\n\u001b[1;32m     62\u001b[0m     k3 \u001b[38;5;241m=\u001b[39m Kinetic\u001b[38;5;241m.\u001b[39mk3(p, k1, k2, k4, k5, k0)\n\u001b[1;32m     63\u001b[0m     t0, t1 \u001b[38;5;241m=\u001b[39m Kinetic\u001b[38;5;241m.\u001b[39mtheta(p, k1, k2, k4, k5, k0)\n",
      "\u001b[0;31mTypeError\u001b[0m: cannot unpack non-iterable numpy.float64 object"
     ]
    }
   ],
   "source": [
    "Kinetic.eval(P, 1e2, 1e2, 1e2, 1e2, 1e2)"
   ]
  },
  {
   "cell_type": "code",
   "execution_count": null,
   "id": "060a6d3f",
   "metadata": {
    "ExecuteTime": {
     "start_time": "2023-07-16T10:25:14.404Z"
    }
   },
   "outputs": [],
   "source": []
  },
  {
   "cell_type": "code",
   "execution_count": null,
   "id": "efc527b8",
   "metadata": {},
   "outputs": [],
   "source": []
  },
  {
   "cell_type": "code",
   "execution_count": null,
   "id": "79a801fe",
   "metadata": {},
   "outputs": [],
   "source": []
  },
  {
   "cell_type": "code",
   "execution_count": null,
   "id": "7b2d214e",
   "metadata": {},
   "outputs": [],
   "source": []
  },
  {
   "cell_type": "code",
   "execution_count": null,
   "id": "22e18f2a",
   "metadata": {
    "ExecuteTime": {
     "end_time": "2023-07-16T10:24:35.754031Z",
     "start_time": "2023-07-16T10:24:35.753995Z"
    },
    "scrolled": false
   },
   "outputs": [],
   "source": [
    "Kinetic.abaque(100)"
   ]
  },
  {
   "cell_type": "code",
   "execution_count": null,
   "id": "20448260",
   "metadata": {
    "ExecuteTime": {
     "end_time": "2023-07-16T10:24:35.756582Z",
     "start_time": "2023-07-16T10:24:35.756549Z"
    }
   },
   "outputs": [],
   "source": [
    "Kinetic.abaque(10)"
   ]
  },
  {
   "cell_type": "code",
   "execution_count": null,
   "id": "96fb5817",
   "metadata": {},
   "outputs": [],
   "source": []
  },
  {
   "cell_type": "code",
   "execution_count": null,
   "id": "3e14e4ad",
   "metadata": {
    "ExecuteTime": {
     "end_time": "2023-07-12T15:04:48.019060Z",
     "start_time": "2023-07-12T15:04:48.013164Z"
    }
   },
   "outputs": [],
   "source": []
  },
  {
   "cell_type": "code",
   "execution_count": null,
   "id": "d333d494",
   "metadata": {},
   "outputs": [],
   "source": []
  }
 ],
 "metadata": {
  "hide_input": false,
  "kernelspec": {
   "display_name": "Python 3",
   "language": "python",
   "name": "python3"
  },
  "language_info": {
   "codemirror_mode": {
    "name": "ipython",
    "version": 3
   },
   "file_extension": ".py",
   "mimetype": "text/x-python",
   "name": "python",
   "nbconvert_exporter": "python",
   "pygments_lexer": "ipython3",
   "version": "3.10.6"
  },
  "toc": {
   "base_numbering": 1,
   "nav_menu": {},
   "number_sections": true,
   "sideBar": true,
   "skip_h1_title": false,
   "title_cell": "Table of Contents",
   "title_sidebar": "Contents",
   "toc_cell": false,
   "toc_position": {},
   "toc_section_display": true,
   "toc_window_display": false
  },
  "varInspector": {
   "cols": {
    "lenName": 16,
    "lenType": 16,
    "lenVar": 40
   },
   "kernels_config": {
    "python": {
     "delete_cmd_postfix": "",
     "delete_cmd_prefix": "del ",
     "library": "var_list.py",
     "varRefreshCmd": "print(var_dic_list())"
    },
    "r": {
     "delete_cmd_postfix": ") ",
     "delete_cmd_prefix": "rm(",
     "library": "var_list.r",
     "varRefreshCmd": "cat(var_dic_list()) "
    }
   },
   "types_to_exclude": [
    "module",
    "function",
    "builtin_function_or_method",
    "instance",
    "_Feature"
   ],
   "window_display": false
  }
 },
 "nbformat": 4,
 "nbformat_minor": 5
}
