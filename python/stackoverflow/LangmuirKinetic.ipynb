{
 "cells": [
  {
   "cell_type": "markdown",
   "id": "6f57cb15",
   "metadata": {},
   "source": [
    "```python\n",
    "def two_site(partial_pressures, K1, K2, k4, K5, k0, T):\n",
    "    pA, pB, pC = partial_pressures\n",
    "\n",
    "    k3 = k0 * np.exp(-37000 / (8.314 * T))\n",
    "    S = (k3 / k4) * K1 * K2 * pA * pB\n",
    "\n",
    "    # theta_prime and theta_star\n",
    "    num = 50\n",
    "    theta_prime = 0.05\n",
    "    theta_star = 0.05\n",
    "    \n",
    "    for _ in range(num):\n",
    "        theta_star_new = 1 / (1 + K2 * pB + np.sqrt(S * theta_prime / theta_star))\n",
    "        theta_prime_new = 1 / (1 + K1 * pA + pC / K5 + np.sqrt(S * theta_star / theta_prime))\n",
    "        theta_star = np.maximum(0, np.minimum(1, theta_star_new))  \n",
    "        theta_prime = np.maximum(0, np.minimum(1, theta_prime_new))\n",
    "        \n",
    "#     print(\"theta_star:\", theta_star)\n",
    "#     print(\"theta_prime:\", theta_prime)  \n",
    "\n",
    "\n",
    "    rate = k3 * K1 * K2 * pB * pA * theta_star * theta_prime\n",
    "    return rate\n",
    "\n",
    "\n",
    "\n",
    "\n",
    "# Step 3: Objective Function\n",
    "def objective(params):\n",
    "    K1, K2, k4, K5, k0 = params\n",
    "    model_rates = two_site(partial_pressures.T, K1, K2, k4, K5, k0, Temp)\n",
    "    return np.abs((model_rates - experimental_rates)/experimental_rates) * 100\n",
    "\n",
    "\n",
    "# Step 4: least_squares optimization\n",
    "\n",
    "initial_params = [4.6, 100000, 50, 10, 100]  # K1, K2, k3(not included - should be small), k4(fast step), K5, k0\n",
    "lb = [0, 1, 0, 0, 0]                 # K1, K2, k4, K5, k0\n",
    "ub = [np.inf, np.inf, np.inf, np.inf, np.inf]\n",
    "bounds1 = (lb,ub)\n",
    "\n",
    "result = least_squares(objective, initial_params, bounds=bounds1)\n",
    "K1n_fit, K2n_fit, k4n_fit, K5n_fit, k0n_fit = result.x\n",
    "\n",
    "model_rates2 = two_site(partial_pressures.T, K1n_fit, K2n_fit, k4n_fit, K5n_fit, k0n_fit, Temp)\n",
    "percentage_error2 = np.abs((model_rates2 - experimental_rates) / experimental_rates) * 100\n",
    "\n",
    "\n",
    "print(\"\\n Model rates 2\",model_rates2)\n",
    "print(\"\\n\")\n",
    "print(K1n_fit)\n",
    "print(K2n_fit)\n",
    "print(k4n_fit)\n",
    "print(K5n_fit)\n",
    "print(\"k0: \", k0n_fit)\n",
    "print(\"\\n\")\n",
    "\n",
    "print(\"\\nPercentage error least squares are :\",percentage_error2)\n",
    "```\n",
    "https://stackoverflow.com/questions/76603587/non-linear-data-fitting-for-kinetic-data\n",
    "\n",
    "```\n",
    "solve {x = 1/(1+A+sqrt(s*y/x)), y = 1/(1+A+B +sqrt(s*x/y))} for x and y\n",
    "```\n",
    "\n",
    "https://www.wolframalpha.com/input?i=solve+%7Bx+%3D+1%2F%281%2BA%2Bsqrt%28s*y%2Fx%29%29%2C+y+%3D+1%2F%281%2BA%2BB+%2Bsqrt%28s*x%2Fy%29%29%7D+for+x+and+y\n",
    "\n",
    "```\n",
    "jacobian {1/(1+B+sqrt(s*y/x)), 1/(1+A+C +sqrt(s*x/y))} wrt x and y\n",
    "```\n",
    "\n",
    "https://www.wolframalpha.com/input?i=jacobian+%7B1%2F%281%2BB%2Bsqrt%28s*y%2Fx%29%29%2C+1%2F%281%2BA%2BC+%2Bsqrt%28s*x%2Fy%29%29%7D+wrt+x+and+y"
   ]
  },
  {
   "cell_type": "code",
   "execution_count": 14,
   "id": "e24fbeaa",
   "metadata": {
    "ExecuteTime": {
     "end_time": "2023-07-11T10:13:44.362455Z",
     "start_time": "2023-07-11T10:13:43.723684Z"
    }
   },
   "outputs": [],
   "source": [
    "import numpy as np\n",
    "import pandas as pd\n",
    "import matplotlib.pyplot as plt\n",
    "from scipy import optimize "
   ]
  },
  {
   "cell_type": "markdown",
   "id": "c8bd3fc6",
   "metadata": {
    "ExecuteTime": {
     "end_time": "2023-07-09T07:53:11.690014Z",
     "start_time": "2023-07-09T07:53:11.641244Z"
    }
   },
   "source": [
    "$$\n",
    "((s y)/(2 x^2 sqrt((s y)/x) (B + sqrt((s y)/x) + 1)^2) | -s/(2 x sqrt((s y)/x) (B + sqrt((s y)/x) + 1)^2)\n",
    "-s/(2 y sqrt((s x)/y) (A + C + sqrt((s x)/y) + 1)^2) | (s x)/(2 y^2 sqrt((s x)/y) (A + C + sqrt((s x)/y) + 1)^2))\n",
    "$$"
   ]
  },
  {
   "cell_type": "code",
   "execution_count": 79,
   "id": "423429f3",
   "metadata": {
    "ExecuteTime": {
     "end_time": "2023-07-11T10:31:13.333673Z",
     "start_time": "2023-07-11T10:31:13.314951Z"
    }
   },
   "outputs": [],
   "source": [
    "class Kinetic:\n",
    "    \n",
    "    \"\"\"Langmuir-Hinshelwood Two-Site Kinetic Model Solver\"\"\"\n",
    "    \n",
    "    R = 8.314              # J/mol.K\n",
    "    Ea = 37000             # J/mol\n",
    "    k1_ = 4.6              # 1 \n",
    "    k2_ = 100000           # 1\n",
    "    k4_ = 50               # 1\n",
    "    k5_ = 10               # 1\n",
    "    k0_ = 100              # 1\n",
    "    T = 473.15             # K\n",
    "    theta_ = [0.9, 0.9]    # 1\n",
    "    \n",
    "    @staticmethod\n",
    "    def k3(k0):\n",
    "        \"\"\"Arrhenius estimation for k3\"\"\"\n",
    "        return k0*np.exp(-Kinetic.Ea/(Kinetic.R*Kinetic.T))\n",
    "\n",
    "    @staticmethod\n",
    "    def s(p, k1, k2, k4, k5, k0):\n",
    "        \"\"\"Partial kinetic rate\"\"\"\n",
    "        k3 = Kinetic.k3(k0)\n",
    "        return (k1*k2*k3/k4)*p[0]*p[1]\n",
    "    \n",
    "    \n",
    "    @staticmethod\n",
    "    def system(theta, p, k1, k2, k4, k5, k0):\n",
    "        \"\"\"Isothermal coverages system\"\"\"\n",
    "        print(theta)\n",
    "        print(p)\n",
    "        s = Kinetic.s(p, k1, k2, k4, k5, k0)\n",
    "        return np.array([\n",
    "            1/(1 + k2*p[1] + np.sqrt(s*theta[1]/theta[0])) - theta[0],\n",
    "            1/(1 + k1*p[0] + p[2]/k5 + np.sqrt(s*theta[0]/theta[1])) - theta[1],\n",
    "        ])\n",
    "    \n",
    "    @staticmethod\n",
    "    #@np.vectorize\n",
    "    def thetas(p, k1, k2, k4, k5, k0):\n",
    "        \"\"\"Isothermal coverages\"\"\"\n",
    "        print(p)\n",
    "        return optimize.fsolve(\n",
    "            Kinetic.system,\n",
    "            Kinetic.theta_,\n",
    "            args=(p, k1, k2, k4, k5, k0),\n",
    "            full_output=False\n",
    "        )\n",
    "    \n",
    "    #thetas = np.vectorize(_thetas, excluded=(\"k1\", \"k2\", \"k4\", \"k5\", \"k0\"))\n",
    "    \n",
    "    @staticmethod\n",
    "    def r(p, k1, k2, k4, k5, k0):\n",
    "        \"\"\"Global kinetic rate\"\"\"\n",
    "        k3 = Kinetic.k3(k0)\n",
    "        theta = Kinetic.thetas(p, k1, k2, k4, k5, k0)\n",
    "        return (k1*k2*k3)*p[0]*p[1]*theta[0]*theta[1]\n",
    "    \n",
    "    @staticmethod\n",
    "    def solve(p, r, *k_):\n",
    "        \"\"\"Global kinetic constants adjustment\"\"\"\n",
    "        return optimize.curve_fit(Kinetic.r, p, r, p0=k_)\n",
    "    "
   ]
  },
  {
   "cell_type": "code",
   "execution_count": 80,
   "id": "5fbebc81",
   "metadata": {
    "ExecuteTime": {
     "end_time": "2023-07-11T10:31:13.478606Z",
     "start_time": "2023-07-11T10:31:13.469005Z"
    }
   },
   "outputs": [
    {
     "name": "stdout",
     "output_type": "stream",
     "text": [
      "[0.1, 0.1, 0.1]\n",
      "[0.9 0.9]\n",
      "[0.1, 0.1, 0.1]\n",
      "[0.9 0.9]\n",
      "[0.1, 0.1, 0.1]\n",
      "[0.9 0.9]\n",
      "[0.1, 0.1, 0.1]\n",
      "[0.90000001 0.9       ]\n",
      "[0.1, 0.1, 0.1]\n",
      "[0.9        0.90000001]\n",
      "[0.1, 0.1, 0.1]\n",
      "[9.99756949e-05 4.52795525e-01]\n",
      "[0.1, 0.1, 0.1]\n",
      "[9.94279995e-05 6.58222741e-01]\n",
      "[0.1, 0.1, 0.1]\n",
      "[9.92581513e-05 6.57394879e-01]\n",
      "[0.1, 0.1, 0.1]\n",
      "[9.92574813e-05 6.57399963e-01]\n",
      "[0.1, 0.1, 0.1]\n",
      "[9.92574750e-05 6.57400005e-01]\n",
      "[0.1, 0.1, 0.1]\n",
      "[9.92574750e-05 6.57400005e-01]\n",
      "[0.1, 0.1, 0.1]\n"
     ]
    },
    {
     "data": {
      "text/plain": [
       "array([9.92574750e-05, 6.57400005e-01])"
      ]
     },
     "execution_count": 80,
     "metadata": {},
     "output_type": "execute_result"
    }
   ],
   "source": [
    "Kinetic.thetas([0.1, 0.1, 0.1], 5, 1e5, 50, 10, 100)"
   ]
  },
  {
   "cell_type": "code",
   "execution_count": 81,
   "id": "f71fb967",
   "metadata": {
    "ExecuteTime": {
     "end_time": "2023-07-11T10:31:13.643591Z",
     "start_time": "2023-07-11T10:31:13.611869Z"
    }
   },
   "outputs": [
    {
     "data": {
      "text/html": [
       "<div>\n",
       "<style scoped>\n",
       "    .dataframe tbody tr th:only-of-type {\n",
       "        vertical-align: middle;\n",
       "    }\n",
       "\n",
       "    .dataframe tbody tr th {\n",
       "        vertical-align: top;\n",
       "    }\n",
       "\n",
       "    .dataframe thead th {\n",
       "        text-align: right;\n",
       "    }\n",
       "</style>\n",
       "<table border=\"1\" class=\"dataframe\">\n",
       "  <thead>\n",
       "    <tr style=\"text-align: right;\">\n",
       "      <th></th>\n",
       "      <th>pa</th>\n",
       "      <th>pb</th>\n",
       "      <th>pc</th>\n",
       "      <th>T</th>\n",
       "      <th>rate</th>\n",
       "    </tr>\n",
       "  </thead>\n",
       "  <tbody>\n",
       "    <tr>\n",
       "      <th>0</th>\n",
       "      <td>0.10</td>\n",
       "      <td>0.11</td>\n",
       "      <td>0.0114</td>\n",
       "      <td>473.15</td>\n",
       "      <td>0.000001</td>\n",
       "    </tr>\n",
       "    <tr>\n",
       "      <th>1</th>\n",
       "      <td>0.13</td>\n",
       "      <td>0.11</td>\n",
       "      <td>0.0121</td>\n",
       "      <td>473.15</td>\n",
       "      <td>0.000002</td>\n",
       "    </tr>\n",
       "    <tr>\n",
       "      <th>2</th>\n",
       "      <td>0.20</td>\n",
       "      <td>0.11</td>\n",
       "      <td>0.0170</td>\n",
       "      <td>473.15</td>\n",
       "      <td>0.000004</td>\n",
       "    </tr>\n",
       "    <tr>\n",
       "      <th>3</th>\n",
       "      <td>0.25</td>\n",
       "      <td>0.11</td>\n",
       "      <td>0.0172</td>\n",
       "      <td>473.15</td>\n",
       "      <td>0.000004</td>\n",
       "    </tr>\n",
       "    <tr>\n",
       "      <th>4</th>\n",
       "      <td>0.30</td>\n",
       "      <td>0.11</td>\n",
       "      <td>0.0252</td>\n",
       "      <td>473.15</td>\n",
       "      <td>0.000005</td>\n",
       "    </tr>\n",
       "    <tr>\n",
       "      <th>5</th>\n",
       "      <td>0.35</td>\n",
       "      <td>0.11</td>\n",
       "      <td>0.0261</td>\n",
       "      <td>473.15</td>\n",
       "      <td>0.000006</td>\n",
       "    </tr>\n",
       "    <tr>\n",
       "      <th>6</th>\n",
       "      <td>0.10</td>\n",
       "      <td>0.16</td>\n",
       "      <td>0.0123</td>\n",
       "      <td>473.15</td>\n",
       "      <td>0.000003</td>\n",
       "    </tr>\n",
       "    <tr>\n",
       "      <th>7</th>\n",
       "      <td>0.10</td>\n",
       "      <td>0.20</td>\n",
       "      <td>0.0172</td>\n",
       "      <td>473.15</td>\n",
       "      <td>0.000004</td>\n",
       "    </tr>\n",
       "    <tr>\n",
       "      <th>8</th>\n",
       "      <td>0.10</td>\n",
       "      <td>0.22</td>\n",
       "      <td>0.0181</td>\n",
       "      <td>473.15</td>\n",
       "      <td>0.000003</td>\n",
       "    </tr>\n",
       "    <tr>\n",
       "      <th>9</th>\n",
       "      <td>0.10</td>\n",
       "      <td>0.33</td>\n",
       "      <td>0.0221</td>\n",
       "      <td>473.15</td>\n",
       "      <td>0.000005</td>\n",
       "    </tr>\n",
       "    <tr>\n",
       "      <th>10</th>\n",
       "      <td>0.10</td>\n",
       "      <td>0.44</td>\n",
       "      <td>0.0247</td>\n",
       "      <td>473.15</td>\n",
       "      <td>0.000007</td>\n",
       "    </tr>\n",
       "  </tbody>\n",
       "</table>\n",
       "</div>"
      ],
      "text/plain": [
       "      pa    pb      pc       T      rate\n",
       "0   0.10  0.11  0.0114  473.15  0.000001\n",
       "1   0.13  0.11  0.0121  473.15  0.000002\n",
       "2   0.20  0.11  0.0170  473.15  0.000004\n",
       "3   0.25  0.11  0.0172  473.15  0.000004\n",
       "4   0.30  0.11  0.0252  473.15  0.000005\n",
       "5   0.35  0.11  0.0261  473.15  0.000006\n",
       "6   0.10  0.16  0.0123  473.15  0.000003\n",
       "7   0.10  0.20  0.0172  473.15  0.000004\n",
       "8   0.10  0.22  0.0181  473.15  0.000003\n",
       "9   0.10  0.33  0.0221  473.15  0.000005\n",
       "10  0.10  0.44  0.0247  473.15  0.000007"
      ]
     },
     "execution_count": 81,
     "metadata": {},
     "output_type": "execute_result"
    }
   ],
   "source": [
    "df = pd.read_excel(\"LangmuirData.xlsx\")\n",
    "df"
   ]
  },
  {
   "cell_type": "code",
   "execution_count": 82,
   "id": "16304ce2",
   "metadata": {
    "ExecuteTime": {
     "end_time": "2023-07-11T10:31:13.764786Z",
     "start_time": "2023-07-11T10:31:13.760311Z"
    }
   },
   "outputs": [],
   "source": [
    "p = df.filter(regex=\"p\").values\n",
    "r = df[\"rate\"].values"
   ]
  },
  {
   "cell_type": "code",
   "execution_count": 83,
   "id": "5cb974a5",
   "metadata": {
    "ExecuteTime": {
     "end_time": "2023-07-11T10:31:23.384722Z",
     "start_time": "2023-07-11T10:31:23.378104Z"
    }
   },
   "outputs": [
    {
     "data": {
      "text/plain": [
       "(11, 3)"
      ]
     },
     "execution_count": 83,
     "metadata": {},
     "output_type": "execute_result"
    }
   ],
   "source": [
    "p.shape"
   ]
  },
  {
   "cell_type": "code",
   "execution_count": 84,
   "id": "5651dca1",
   "metadata": {
    "ExecuteTime": {
     "end_time": "2023-07-11T10:31:23.550959Z",
     "start_time": "2023-07-11T10:31:23.545338Z"
    }
   },
   "outputs": [
    {
     "data": {
      "text/plain": [
       "(11,)"
      ]
     },
     "execution_count": 84,
     "metadata": {},
     "output_type": "execute_result"
    }
   ],
   "source": [
    "r.shape"
   ]
  },
  {
   "cell_type": "code",
   "execution_count": 85,
   "id": "790a2576",
   "metadata": {
    "ExecuteTime": {
     "end_time": "2023-07-11T10:31:23.947113Z",
     "start_time": "2023-07-11T10:31:23.746762Z"
    }
   },
   "outputs": [
    {
     "name": "stdout",
     "output_type": "stream",
     "text": [
      "[[0.1    0.11   0.0114]\n",
      " [0.13   0.11   0.0121]\n",
      " [0.2    0.11   0.017 ]\n",
      " [0.25   0.11   0.0172]\n",
      " [0.3    0.11   0.0252]\n",
      " [0.35   0.11   0.0261]\n",
      " [0.1    0.16   0.0123]\n",
      " [0.1    0.2    0.0172]\n",
      " [0.1    0.22   0.0181]\n",
      " [0.1    0.33   0.0221]\n",
      " [0.1    0.44   0.0247]]\n",
      "[0.9 0.9]\n",
      "[[0.1    0.11   0.0114]\n",
      " [0.13   0.11   0.0121]\n",
      " [0.2    0.11   0.017 ]\n",
      " [0.25   0.11   0.0172]\n",
      " [0.3    0.11   0.0252]\n",
      " [0.35   0.11   0.0261]\n",
      " [0.1    0.16   0.0123]\n",
      " [0.1    0.2    0.0172]\n",
      " [0.1    0.22   0.0181]\n",
      " [0.1    0.33   0.0221]\n",
      " [0.1    0.44   0.0247]]\n"
     ]
    },
    {
     "ename": "TypeError",
     "evalue": "fsolve: there is a mismatch between the input and output shape of the 'func' argument 'system'.Shape should be (2,) but it is (2, 3).",
     "output_type": "error",
     "traceback": [
      "\u001b[0;31m---------------------------------------------------------------------------\u001b[0m",
      "\u001b[0;31mTypeError\u001b[0m                                 Traceback (most recent call last)",
      "Cell \u001b[0;32mIn [85], line 1\u001b[0m\n\u001b[0;32m----> 1\u001b[0m \u001b[43mKinetic\u001b[49m\u001b[38;5;241;43m.\u001b[39;49m\u001b[43msolve\u001b[49m\u001b[43m(\u001b[49m\u001b[43mp\u001b[49m\u001b[43m,\u001b[49m\u001b[43m \u001b[49m\u001b[43mr\u001b[49m\u001b[43m,\u001b[49m\u001b[43m \u001b[49m\u001b[43m(\u001b[49m\u001b[38;5;241;43m5\u001b[39;49m\u001b[43m,\u001b[49m\u001b[43m \u001b[49m\u001b[38;5;241;43m1e5\u001b[39;49m\u001b[43m,\u001b[49m\u001b[43m \u001b[49m\u001b[38;5;241;43m50\u001b[39;49m\u001b[43m,\u001b[49m\u001b[43m \u001b[49m\u001b[38;5;241;43m10\u001b[39;49m\u001b[43m,\u001b[49m\u001b[43m \u001b[49m\u001b[38;5;241;43m100\u001b[39;49m\u001b[43m)\u001b[49m\u001b[43m)\u001b[49m\n",
      "Cell \u001b[0;32mIn [79], line 62\u001b[0m, in \u001b[0;36mKinetic.solve\u001b[0;34m(p, r, *k_)\u001b[0m\n\u001b[1;32m     59\u001b[0m \u001b[38;5;129m@staticmethod\u001b[39m\n\u001b[1;32m     60\u001b[0m \u001b[38;5;28;01mdef\u001b[39;00m \u001b[38;5;21msolve\u001b[39m(p, r, \u001b[38;5;241m*\u001b[39mk_):\n\u001b[1;32m     61\u001b[0m     \u001b[38;5;124;03m\"\"\"Global kinetic constants adjustment\"\"\"\u001b[39;00m\n\u001b[0;32m---> 62\u001b[0m     \u001b[38;5;28;01mreturn\u001b[39;00m \u001b[43moptimize\u001b[49m\u001b[38;5;241;43m.\u001b[39;49m\u001b[43mcurve_fit\u001b[49m\u001b[43m(\u001b[49m\u001b[43mKinetic\u001b[49m\u001b[38;5;241;43m.\u001b[39;49m\u001b[43mr\u001b[49m\u001b[43m,\u001b[49m\u001b[43m \u001b[49m\u001b[43mp\u001b[49m\u001b[43m,\u001b[49m\u001b[43m \u001b[49m\u001b[43mr\u001b[49m\u001b[43m,\u001b[49m\u001b[43m \u001b[49m\u001b[43mp0\u001b[49m\u001b[38;5;241;43m=\u001b[39;49m\u001b[43mk_\u001b[49m\u001b[43m)\u001b[49m\n",
      "File \u001b[0;32m/usr/local/lib/python3.10/dist-packages/scipy/optimize/_minpack_py.py:834\u001b[0m, in \u001b[0;36mcurve_fit\u001b[0;34m(f, xdata, ydata, p0, sigma, absolute_sigma, check_finite, bounds, method, jac, full_output, **kwargs)\u001b[0m\n\u001b[1;32m    831\u001b[0m \u001b[38;5;28;01mif\u001b[39;00m ydata\u001b[38;5;241m.\u001b[39msize \u001b[38;5;241m!=\u001b[39m \u001b[38;5;241m1\u001b[39m \u001b[38;5;129;01mand\u001b[39;00m n \u001b[38;5;241m>\u001b[39m ydata\u001b[38;5;241m.\u001b[39msize:\n\u001b[1;32m    832\u001b[0m     \u001b[38;5;28;01mraise\u001b[39;00m \u001b[38;5;167;01mTypeError\u001b[39;00m(\u001b[38;5;124mf\u001b[39m\u001b[38;5;124m\"\u001b[39m\u001b[38;5;124mThe number of func parameters=\u001b[39m\u001b[38;5;132;01m{\u001b[39;00mn\u001b[38;5;132;01m}\u001b[39;00m\u001b[38;5;124m must not\u001b[39m\u001b[38;5;124m\"\u001b[39m\n\u001b[1;32m    833\u001b[0m                     \u001b[38;5;124mf\u001b[39m\u001b[38;5;124m\"\u001b[39m\u001b[38;5;124m exceed the number of data points=\u001b[39m\u001b[38;5;132;01m{\u001b[39;00mydata\u001b[38;5;241m.\u001b[39msize\u001b[38;5;132;01m}\u001b[39;00m\u001b[38;5;124m\"\u001b[39m)\n\u001b[0;32m--> 834\u001b[0m res \u001b[38;5;241m=\u001b[39m \u001b[43mleastsq\u001b[49m\u001b[43m(\u001b[49m\u001b[43mfunc\u001b[49m\u001b[43m,\u001b[49m\u001b[43m \u001b[49m\u001b[43mp0\u001b[49m\u001b[43m,\u001b[49m\u001b[43m \u001b[49m\u001b[43mDfun\u001b[49m\u001b[38;5;241;43m=\u001b[39;49m\u001b[43mjac\u001b[49m\u001b[43m,\u001b[49m\u001b[43m \u001b[49m\u001b[43mfull_output\u001b[49m\u001b[38;5;241;43m=\u001b[39;49m\u001b[38;5;241;43m1\u001b[39;49m\u001b[43m,\u001b[49m\u001b[43m \u001b[49m\u001b[38;5;241;43m*\u001b[39;49m\u001b[38;5;241;43m*\u001b[39;49m\u001b[43mkwargs\u001b[49m\u001b[43m)\u001b[49m\n\u001b[1;32m    835\u001b[0m popt, pcov, infodict, errmsg, ier \u001b[38;5;241m=\u001b[39m res\n\u001b[1;32m    836\u001b[0m ysize \u001b[38;5;241m=\u001b[39m \u001b[38;5;28mlen\u001b[39m(infodict[\u001b[38;5;124m'\u001b[39m\u001b[38;5;124mfvec\u001b[39m\u001b[38;5;124m'\u001b[39m])\n",
      "File \u001b[0;32m/usr/local/lib/python3.10/dist-packages/scipy/optimize/_minpack_py.py:410\u001b[0m, in \u001b[0;36mleastsq\u001b[0;34m(func, x0, args, Dfun, full_output, col_deriv, ftol, xtol, gtol, maxfev, epsfcn, factor, diag)\u001b[0m\n\u001b[1;32m    408\u001b[0m \u001b[38;5;28;01mif\u001b[39;00m \u001b[38;5;129;01mnot\u001b[39;00m \u001b[38;5;28misinstance\u001b[39m(args, \u001b[38;5;28mtuple\u001b[39m):\n\u001b[1;32m    409\u001b[0m     args \u001b[38;5;241m=\u001b[39m (args,)\n\u001b[0;32m--> 410\u001b[0m shape, dtype \u001b[38;5;241m=\u001b[39m \u001b[43m_check_func\u001b[49m\u001b[43m(\u001b[49m\u001b[38;5;124;43m'\u001b[39;49m\u001b[38;5;124;43mleastsq\u001b[39;49m\u001b[38;5;124;43m'\u001b[39;49m\u001b[43m,\u001b[49m\u001b[43m \u001b[49m\u001b[38;5;124;43m'\u001b[39;49m\u001b[38;5;124;43mfunc\u001b[39;49m\u001b[38;5;124;43m'\u001b[39;49m\u001b[43m,\u001b[49m\u001b[43m \u001b[49m\u001b[43mfunc\u001b[49m\u001b[43m,\u001b[49m\u001b[43m \u001b[49m\u001b[43mx0\u001b[49m\u001b[43m,\u001b[49m\u001b[43m \u001b[49m\u001b[43margs\u001b[49m\u001b[43m,\u001b[49m\u001b[43m \u001b[49m\u001b[43mn\u001b[49m\u001b[43m)\u001b[49m\n\u001b[1;32m    411\u001b[0m m \u001b[38;5;241m=\u001b[39m shape[\u001b[38;5;241m0\u001b[39m]\n\u001b[1;32m    413\u001b[0m \u001b[38;5;28;01mif\u001b[39;00m n \u001b[38;5;241m>\u001b[39m m:\n",
      "File \u001b[0;32m/usr/local/lib/python3.10/dist-packages/scipy/optimize/_minpack_py.py:24\u001b[0m, in \u001b[0;36m_check_func\u001b[0;34m(checker, argname, thefunc, x0, args, numinputs, output_shape)\u001b[0m\n\u001b[1;32m     22\u001b[0m \u001b[38;5;28;01mdef\u001b[39;00m \u001b[38;5;21m_check_func\u001b[39m(checker, argname, thefunc, x0, args, numinputs,\n\u001b[1;32m     23\u001b[0m                 output_shape\u001b[38;5;241m=\u001b[39m\u001b[38;5;28;01mNone\u001b[39;00m):\n\u001b[0;32m---> 24\u001b[0m     res \u001b[38;5;241m=\u001b[39m atleast_1d(\u001b[43mthefunc\u001b[49m\u001b[43m(\u001b[49m\u001b[38;5;241;43m*\u001b[39;49m\u001b[43m(\u001b[49m\u001b[43m(\u001b[49m\u001b[43mx0\u001b[49m\u001b[43m[\u001b[49m\u001b[43m:\u001b[49m\u001b[43mnuminputs\u001b[49m\u001b[43m]\u001b[49m\u001b[43m,\u001b[49m\u001b[43m)\u001b[49m\u001b[43m \u001b[49m\u001b[38;5;241;43m+\u001b[39;49m\u001b[43m \u001b[49m\u001b[43margs\u001b[49m\u001b[43m)\u001b[49m\u001b[43m)\u001b[49m)\n\u001b[1;32m     25\u001b[0m     \u001b[38;5;28;01mif\u001b[39;00m (output_shape \u001b[38;5;129;01mis\u001b[39;00m \u001b[38;5;129;01mnot\u001b[39;00m \u001b[38;5;28;01mNone\u001b[39;00m) \u001b[38;5;129;01mand\u001b[39;00m (shape(res) \u001b[38;5;241m!=\u001b[39m output_shape):\n\u001b[1;32m     26\u001b[0m         \u001b[38;5;28;01mif\u001b[39;00m (output_shape[\u001b[38;5;241m0\u001b[39m] \u001b[38;5;241m!=\u001b[39m \u001b[38;5;241m1\u001b[39m):\n",
      "File \u001b[0;32m/usr/local/lib/python3.10/dist-packages/scipy/optimize/_minpack_py.py:485\u001b[0m, in \u001b[0;36m_wrap_func.<locals>.func_wrapped\u001b[0;34m(params)\u001b[0m\n\u001b[1;32m    484\u001b[0m \u001b[38;5;28;01mdef\u001b[39;00m \u001b[38;5;21mfunc_wrapped\u001b[39m(params):\n\u001b[0;32m--> 485\u001b[0m     \u001b[38;5;28;01mreturn\u001b[39;00m \u001b[43mfunc\u001b[49m\u001b[43m(\u001b[49m\u001b[43mxdata\u001b[49m\u001b[43m,\u001b[49m\u001b[43m \u001b[49m\u001b[38;5;241;43m*\u001b[39;49m\u001b[43mparams\u001b[49m\u001b[43m)\u001b[49m \u001b[38;5;241m-\u001b[39m ydata\n",
      "Cell \u001b[0;32mIn [79], line 56\u001b[0m, in \u001b[0;36mKinetic.r\u001b[0;34m(p, k1, k2, k4, k5, k0)\u001b[0m\n\u001b[1;32m     54\u001b[0m \u001b[38;5;124;03m\"\"\"Global kinetic rate\"\"\"\u001b[39;00m\n\u001b[1;32m     55\u001b[0m k3 \u001b[38;5;241m=\u001b[39m Kinetic\u001b[38;5;241m.\u001b[39mk3(k0)\n\u001b[0;32m---> 56\u001b[0m theta \u001b[38;5;241m=\u001b[39m \u001b[43mKinetic\u001b[49m\u001b[38;5;241;43m.\u001b[39;49m\u001b[43mthetas\u001b[49m\u001b[43m(\u001b[49m\u001b[43mp\u001b[49m\u001b[43m,\u001b[49m\u001b[43m \u001b[49m\u001b[43mk1\u001b[49m\u001b[43m,\u001b[49m\u001b[43m \u001b[49m\u001b[43mk2\u001b[49m\u001b[43m,\u001b[49m\u001b[43m \u001b[49m\u001b[43mk4\u001b[49m\u001b[43m,\u001b[49m\u001b[43m \u001b[49m\u001b[43mk5\u001b[49m\u001b[43m,\u001b[49m\u001b[43m \u001b[49m\u001b[43mk0\u001b[49m\u001b[43m)\u001b[49m\n\u001b[1;32m     57\u001b[0m \u001b[38;5;28;01mreturn\u001b[39;00m (k1\u001b[38;5;241m*\u001b[39mk2\u001b[38;5;241m*\u001b[39mk3)\u001b[38;5;241m*\u001b[39mp[\u001b[38;5;241m0\u001b[39m]\u001b[38;5;241m*\u001b[39mp[\u001b[38;5;241m1\u001b[39m]\u001b[38;5;241m*\u001b[39mtheta[\u001b[38;5;241m0\u001b[39m]\u001b[38;5;241m*\u001b[39mtheta[\u001b[38;5;241m1\u001b[39m]\n",
      "Cell \u001b[0;32mIn [79], line 43\u001b[0m, in \u001b[0;36mKinetic.thetas\u001b[0;34m(p, k1, k2, k4, k5, k0)\u001b[0m\n\u001b[1;32m     41\u001b[0m \u001b[38;5;124;03m\"\"\"Isothermal coverages\"\"\"\u001b[39;00m\n\u001b[1;32m     42\u001b[0m \u001b[38;5;28mprint\u001b[39m(p)\n\u001b[0;32m---> 43\u001b[0m \u001b[38;5;28;01mreturn\u001b[39;00m \u001b[43moptimize\u001b[49m\u001b[38;5;241;43m.\u001b[39;49m\u001b[43mfsolve\u001b[49m\u001b[43m(\u001b[49m\n\u001b[1;32m     44\u001b[0m \u001b[43m    \u001b[49m\u001b[43mKinetic\u001b[49m\u001b[38;5;241;43m.\u001b[39;49m\u001b[43msystem\u001b[49m\u001b[43m,\u001b[49m\n\u001b[1;32m     45\u001b[0m \u001b[43m    \u001b[49m\u001b[43mKinetic\u001b[49m\u001b[38;5;241;43m.\u001b[39;49m\u001b[43mtheta_\u001b[49m\u001b[43m,\u001b[49m\n\u001b[1;32m     46\u001b[0m \u001b[43m    \u001b[49m\u001b[43margs\u001b[49m\u001b[38;5;241;43m=\u001b[39;49m\u001b[43m(\u001b[49m\u001b[43mp\u001b[49m\u001b[43m,\u001b[49m\u001b[43m \u001b[49m\u001b[43mk1\u001b[49m\u001b[43m,\u001b[49m\u001b[43m \u001b[49m\u001b[43mk2\u001b[49m\u001b[43m,\u001b[49m\u001b[43m \u001b[49m\u001b[43mk4\u001b[49m\u001b[43m,\u001b[49m\u001b[43m \u001b[49m\u001b[43mk5\u001b[49m\u001b[43m,\u001b[49m\u001b[43m \u001b[49m\u001b[43mk0\u001b[49m\u001b[43m)\u001b[49m\u001b[43m,\u001b[49m\n\u001b[1;32m     47\u001b[0m \u001b[43m    \u001b[49m\u001b[43mfull_output\u001b[49m\u001b[38;5;241;43m=\u001b[39;49m\u001b[38;5;28;43;01mFalse\u001b[39;49;00m\n\u001b[1;32m     48\u001b[0m \u001b[43m\u001b[49m\u001b[43m)\u001b[49m\n",
      "File \u001b[0;32m/usr/local/lib/python3.10/dist-packages/scipy/optimize/_minpack_py.py:160\u001b[0m, in \u001b[0;36mfsolve\u001b[0;34m(func, x0, args, fprime, full_output, col_deriv, xtol, maxfev, band, epsfcn, factor, diag)\u001b[0m\n\u001b[1;32m     49\u001b[0m \u001b[38;5;124;03m\"\"\"\u001b[39;00m\n\u001b[1;32m     50\u001b[0m \u001b[38;5;124;03mFind the roots of a function.\u001b[39;00m\n\u001b[1;32m     51\u001b[0m \n\u001b[0;32m   (...)\u001b[0m\n\u001b[1;32m    150\u001b[0m \n\u001b[1;32m    151\u001b[0m \u001b[38;5;124;03m\"\"\"\u001b[39;00m\n\u001b[1;32m    152\u001b[0m options \u001b[38;5;241m=\u001b[39m {\u001b[38;5;124m'\u001b[39m\u001b[38;5;124mcol_deriv\u001b[39m\u001b[38;5;124m'\u001b[39m: col_deriv,\n\u001b[1;32m    153\u001b[0m            \u001b[38;5;124m'\u001b[39m\u001b[38;5;124mxtol\u001b[39m\u001b[38;5;124m'\u001b[39m: xtol,\n\u001b[1;32m    154\u001b[0m            \u001b[38;5;124m'\u001b[39m\u001b[38;5;124mmaxfev\u001b[39m\u001b[38;5;124m'\u001b[39m: maxfev,\n\u001b[0;32m   (...)\u001b[0m\n\u001b[1;32m    157\u001b[0m            \u001b[38;5;124m'\u001b[39m\u001b[38;5;124mfactor\u001b[39m\u001b[38;5;124m'\u001b[39m: factor,\n\u001b[1;32m    158\u001b[0m            \u001b[38;5;124m'\u001b[39m\u001b[38;5;124mdiag\u001b[39m\u001b[38;5;124m'\u001b[39m: diag}\n\u001b[0;32m--> 160\u001b[0m res \u001b[38;5;241m=\u001b[39m \u001b[43m_root_hybr\u001b[49m\u001b[43m(\u001b[49m\u001b[43mfunc\u001b[49m\u001b[43m,\u001b[49m\u001b[43m \u001b[49m\u001b[43mx0\u001b[49m\u001b[43m,\u001b[49m\u001b[43m \u001b[49m\u001b[43margs\u001b[49m\u001b[43m,\u001b[49m\u001b[43m \u001b[49m\u001b[43mjac\u001b[49m\u001b[38;5;241;43m=\u001b[39;49m\u001b[43mfprime\u001b[49m\u001b[43m,\u001b[49m\u001b[43m \u001b[49m\u001b[38;5;241;43m*\u001b[39;49m\u001b[38;5;241;43m*\u001b[39;49m\u001b[43moptions\u001b[49m\u001b[43m)\u001b[49m\n\u001b[1;32m    161\u001b[0m \u001b[38;5;28;01mif\u001b[39;00m full_output:\n\u001b[1;32m    162\u001b[0m     x \u001b[38;5;241m=\u001b[39m res[\u001b[38;5;124m'\u001b[39m\u001b[38;5;124mx\u001b[39m\u001b[38;5;124m'\u001b[39m]\n",
      "File \u001b[0;32m/usr/local/lib/python3.10/dist-packages/scipy/optimize/_minpack_py.py:226\u001b[0m, in \u001b[0;36m_root_hybr\u001b[0;34m(func, x0, args, jac, col_deriv, xtol, maxfev, band, eps, factor, diag, **unknown_options)\u001b[0m\n\u001b[1;32m    224\u001b[0m \u001b[38;5;28;01mif\u001b[39;00m \u001b[38;5;129;01mnot\u001b[39;00m \u001b[38;5;28misinstance\u001b[39m(args, \u001b[38;5;28mtuple\u001b[39m):\n\u001b[1;32m    225\u001b[0m     args \u001b[38;5;241m=\u001b[39m (args,)\n\u001b[0;32m--> 226\u001b[0m shape, dtype \u001b[38;5;241m=\u001b[39m \u001b[43m_check_func\u001b[49m\u001b[43m(\u001b[49m\u001b[38;5;124;43m'\u001b[39;49m\u001b[38;5;124;43mfsolve\u001b[39;49m\u001b[38;5;124;43m'\u001b[39;49m\u001b[43m,\u001b[49m\u001b[43m \u001b[49m\u001b[38;5;124;43m'\u001b[39;49m\u001b[38;5;124;43mfunc\u001b[39;49m\u001b[38;5;124;43m'\u001b[39;49m\u001b[43m,\u001b[49m\u001b[43m \u001b[49m\u001b[43mfunc\u001b[49m\u001b[43m,\u001b[49m\u001b[43m \u001b[49m\u001b[43mx0\u001b[49m\u001b[43m,\u001b[49m\u001b[43m \u001b[49m\u001b[43margs\u001b[49m\u001b[43m,\u001b[49m\u001b[43m \u001b[49m\u001b[43mn\u001b[49m\u001b[43m,\u001b[49m\u001b[43m \u001b[49m\u001b[43m(\u001b[49m\u001b[43mn\u001b[49m\u001b[43m,\u001b[49m\u001b[43m)\u001b[49m\u001b[43m)\u001b[49m\n\u001b[1;32m    227\u001b[0m \u001b[38;5;28;01mif\u001b[39;00m epsfcn \u001b[38;5;129;01mis\u001b[39;00m \u001b[38;5;28;01mNone\u001b[39;00m:\n\u001b[1;32m    228\u001b[0m     epsfcn \u001b[38;5;241m=\u001b[39m finfo(dtype)\u001b[38;5;241m.\u001b[39meps\n",
      "File \u001b[0;32m/usr/local/lib/python3.10/dist-packages/scipy/optimize/_minpack_py.py:38\u001b[0m, in \u001b[0;36m_check_func\u001b[0;34m(checker, argname, thefunc, x0, args, numinputs, output_shape)\u001b[0m\n\u001b[1;32m     36\u001b[0m             msg \u001b[38;5;241m+\u001b[39m\u001b[38;5;241m=\u001b[39m \u001b[38;5;124m\"\u001b[39m\u001b[38;5;124m.\u001b[39m\u001b[38;5;124m\"\u001b[39m\n\u001b[1;32m     37\u001b[0m         msg \u001b[38;5;241m+\u001b[39m\u001b[38;5;241m=\u001b[39m \u001b[38;5;124m'\u001b[39m\u001b[38;5;124mShape should be \u001b[39m\u001b[38;5;132;01m%s\u001b[39;00m\u001b[38;5;124m but it is \u001b[39m\u001b[38;5;132;01m%s\u001b[39;00m\u001b[38;5;124m.\u001b[39m\u001b[38;5;124m'\u001b[39m \u001b[38;5;241m%\u001b[39m (output_shape, shape(res))\n\u001b[0;32m---> 38\u001b[0m         \u001b[38;5;28;01mraise\u001b[39;00m \u001b[38;5;167;01mTypeError\u001b[39;00m(msg)\n\u001b[1;32m     39\u001b[0m \u001b[38;5;28;01mif\u001b[39;00m issubdtype(res\u001b[38;5;241m.\u001b[39mdtype, inexact):\n\u001b[1;32m     40\u001b[0m     dt \u001b[38;5;241m=\u001b[39m res\u001b[38;5;241m.\u001b[39mdtype\n",
      "\u001b[0;31mTypeError\u001b[0m: fsolve: there is a mismatch between the input and output shape of the 'func' argument 'system'.Shape should be (2,) but it is (2, 3)."
     ]
    }
   ],
   "source": [
    "Kinetic.solve(p, r, (5, 1e5, 50, 10, 100))"
   ]
  },
  {
   "cell_type": "code",
   "execution_count": null,
   "id": "224b769e",
   "metadata": {},
   "outputs": [],
   "source": []
  },
  {
   "cell_type": "code",
   "execution_count": null,
   "id": "f7850164",
   "metadata": {},
   "outputs": [],
   "source": []
  },
  {
   "cell_type": "code",
   "execution_count": null,
   "id": "7e3c291b",
   "metadata": {},
   "outputs": [],
   "source": []
  },
  {
   "cell_type": "code",
   "execution_count": 4,
   "id": "0437495a",
   "metadata": {
    "ExecuteTime": {
     "end_time": "2023-07-11T10:11:01.724626Z",
     "start_time": "2023-07-11T10:11:01.701226Z"
    }
   },
   "outputs": [],
   "source": [
    "def system(t, A, B, C, s):\n",
    "    return np.array([\n",
    "        1/(1 + B + np.sqrt(s*t[1]/t[0])) - t[0],\n",
    "        1/(1 + A + C + np.sqrt(s*t[0]/t[1])) - t[1],\n",
    "    ])"
   ]
  },
  {
   "cell_type": "code",
   "execution_count": 5,
   "id": "9259e83f",
   "metadata": {
    "ExecuteTime": {
     "end_time": "2023-07-11T10:11:01.763272Z",
     "start_time": "2023-07-11T10:11:01.730706Z"
    }
   },
   "outputs": [
    {
     "data": {
      "text/plain": [
       "array([0.04649852, 0.02381632])"
      ]
     },
     "execution_count": 5,
     "metadata": {},
     "output_type": "execute_result"
    }
   ],
   "source": [
    "optimize.fsolve(system, [0.05, 0.05], args=(10, 20, 30, 0.5), full_output=False)"
   ]
  },
  {
   "cell_type": "code",
   "execution_count": null,
   "id": "05c1f2e2",
   "metadata": {},
   "outputs": [],
   "source": []
  },
  {
   "cell_type": "code",
   "execution_count": null,
   "id": "7fed46cb",
   "metadata": {},
   "outputs": [],
   "source": []
  },
  {
   "cell_type": "code",
   "execution_count": 6,
   "id": "13a430e9",
   "metadata": {
    "ExecuteTime": {
     "end_time": "2023-07-11T10:11:01.794408Z",
     "start_time": "2023-07-11T10:11:01.777622Z"
    }
   },
   "outputs": [],
   "source": [
    "xlin = np.linspace(0.0001, 1, 200)\n",
    "ylin = np.linspace(0.0001, 1, 200)"
   ]
  },
  {
   "cell_type": "code",
   "execution_count": 7,
   "id": "e009cab9",
   "metadata": {
    "ExecuteTime": {
     "end_time": "2023-07-11T10:11:01.824144Z",
     "start_time": "2023-07-11T10:11:01.801154Z"
    }
   },
   "outputs": [],
   "source": [
    "X, Y = np.meshgrid(xlin, ylin)"
   ]
  },
  {
   "cell_type": "code",
   "execution_count": 8,
   "id": "b971ea07",
   "metadata": {
    "ExecuteTime": {
     "end_time": "2023-07-11T10:11:01.863622Z",
     "start_time": "2023-07-11T10:11:01.845152Z"
    }
   },
   "outputs": [],
   "source": [
    "A = 1\n",
    "B = 0.2\n",
    "C = 5\n",
    "s = 10"
   ]
  },
  {
   "cell_type": "code",
   "execution_count": 9,
   "id": "7cc5fa30",
   "metadata": {
    "ExecuteTime": {
     "end_time": "2023-07-11T10:11:01.905965Z",
     "start_time": "2023-07-11T10:11:01.877686Z"
    }
   },
   "outputs": [],
   "source": [
    "Z0 = 1/(1 + B + np.sqrt(s*Y/X)) - X\n",
    "Z1 = 1/(1 + A + C + np.sqrt(s*X/Y)) - Y"
   ]
  },
  {
   "cell_type": "code",
   "execution_count": 10,
   "id": "9dd6cfec",
   "metadata": {
    "ExecuteTime": {
     "end_time": "2023-07-11T10:11:02.368166Z",
     "start_time": "2023-07-11T10:11:01.934610Z"
    }
   },
   "outputs": [
    {
     "data": {
      "image/png": "[encoded data removed]",
      "text/plain": [
       "<Figure size 640x480 with 1 Axes>"
      ]
     },
     "metadata": {},
     "output_type": "display_data"
    }
   ],
   "source": [
    "fig, axe = plt.subplots()\n",
    "axe.contour(X, Y, Z0, [0])\n",
    "axe.contour(X, Y, Z1, [0])\n",
    "axe.set_xlim([0, 1])\n",
    "axe.set_ylim([0, 1])\n",
    "axe.grid()"
   ]
  },
  {
   "cell_type": "code",
   "execution_count": null,
   "id": "2911662d",
   "metadata": {},
   "outputs": [],
   "source": []
  },
  {
   "cell_type": "code",
   "execution_count": null,
   "id": "13408c32",
   "metadata": {},
   "outputs": [],
   "source": []
  },
  {
   "cell_type": "code",
   "execution_count": null,
   "id": "c36d546b",
   "metadata": {},
   "outputs": [],
   "source": []
  },
  {
   "cell_type": "code",
   "execution_count": null,
   "id": "14958d6f",
   "metadata": {},
   "outputs": [],
   "source": []
  }
 ],
 "metadata": {
  "hide_input": false,
  "kernelspec": {
   "display_name": "Python 3",
   "language": "python",
   "name": "python3"
  },
  "language_info": {
   "codemirror_mode": {
    "name": "ipython",
    "version": 3
   },
   "file_extension": ".py",
   "mimetype": "text/x-python",
   "name": "python",
   "nbconvert_exporter": "python",
   "pygments_lexer": "ipython3",
   "version": "3.10.6"
  },
  "toc": {
   "base_numbering": 1,
   "nav_menu": {},
   "number_sections": true,
   "sideBar": true,
   "skip_h1_title": false,
   "title_cell": "Table of Contents",
   "title_sidebar": "Contents",
   "toc_cell": false,
   "toc_position": {},
   "toc_section_display": true,
   "toc_window_display": false
  },
  "varInspector": {
   "cols": {
    "lenName": 16,
    "lenType": 16,
    "lenVar": 40
   },
   "kernels_config": {
    "python": {
     "delete_cmd_postfix": "",
     "delete_cmd_prefix": "del ",
     "library": "var_list.py",
     "varRefreshCmd": "print(var_dic_list())"
    },
    "r": {
     "delete_cmd_postfix": ") ",
     "delete_cmd_prefix": "rm(",
     "library": "var_list.r",
     "varRefreshCmd": "cat(var_dic_list()) "
    }
   },
   "types_to_exclude": [
    "module",
    "function",
    "builtin_function_or_method",
    "instance",
    "_Feature"
   ],
   "window_display": false
  }
 },
 "nbformat": 4,
 "nbformat_minor": 5
}
