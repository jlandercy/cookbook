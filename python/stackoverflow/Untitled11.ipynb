{
 "cells": [
  {
   "cell_type": "code",
   "execution_count": 1,
   "id": "98fc5ae3",
   "metadata": {
    "ExecuteTime": {
     "end_time": "2024-01-09T12:28:18.547127Z",
     "start_time": "2024-01-09T12:28:17.583222Z"
    }
   },
   "outputs": [
    {
     "name": "stderr",
     "output_type": "stream",
     "text": [
      "/home/jlandercy/.local/lib/python3.10/site-packages/numpy/lib/function_base.py:1239: RuntimeWarning: divide by zero encountered in divide\n",
      "  a = -(dx2)/(dx1 * (dx1 + dx2))\n",
      "/home/jlandercy/.local/lib/python3.10/site-packages/numpy/lib/function_base.py:1239: RuntimeWarning: invalid value encountered in divide\n",
      "  a = -(dx2)/(dx1 * (dx1 + dx2))\n",
      "/home/jlandercy/.local/lib/python3.10/site-packages/numpy/lib/function_base.py:1240: RuntimeWarning: divide by zero encountered in divide\n",
      "  b = (dx2 - dx1) / (dx1 * dx2)\n",
      "/home/jlandercy/.local/lib/python3.10/site-packages/numpy/lib/function_base.py:1240: RuntimeWarning: invalid value encountered in divide\n",
      "  b = (dx2 - dx1) / (dx1 * dx2)\n",
      "/home/jlandercy/.local/lib/python3.10/site-packages/numpy/lib/function_base.py:1241: RuntimeWarning: invalid value encountered in divide\n",
      "  c = dx1 / (dx2 * (dx1 + dx2))\n",
      "/home/jlandercy/.local/lib/python3.10/site-packages/numpy/lib/function_base.py:1247: RuntimeWarning: invalid value encountered in add\n",
      "  out[tuple(slice1)] = a * f[tuple(slice2)] + b * f[tuple(slice3)] + c * f[tuple(slice4)]\n",
      "/home/jlandercy/.local/lib/python3.10/site-packages/numpy/lib/function_base.py:1256: RuntimeWarning: divide by zero encountered in double_scalars\n",
      "  out[tuple(slice1)] = (f[tuple(slice2)] - f[tuple(slice3)]) / dx_0\n"
     ]
    }
   ],
   "source": [
    "import numpy as np\n",
    "import matplotlib.pyplot as plt\n",
    "\n",
    "x = np.array([0.0, 0.0, 0.0, 0.0, 2.0, 3.0, 4.0, 5.0])\n",
    "y = np.array([0.0, 2.0, 4.0, 6.0, 9.0, 15.0, 20.0, 30.0])\n",
    "dy_dx = np.gradient(y, x)"
   ]
  },
  {
   "cell_type": "markdown",
   "id": "32c2e54a",
   "metadata": {},
   "source": [
    "https://stackoverflow.com/questions/77784607/handling-infinity-gradients-while-using-numpy-gradient"
   ]
  },
  {
   "cell_type": "code",
   "execution_count": null,
   "id": "7845c4e1",
   "metadata": {},
   "outputs": [],
   "source": []
  },
  {
   "cell_type": "code",
   "execution_count": 3,
   "id": "8f36a9af",
   "metadata": {
    "ExecuteTime": {
     "end_time": "2024-01-09T12:28:28.716755Z",
     "start_time": "2024-01-09T12:28:28.703183Z"
    }
   },
   "outputs": [
    {
     "data": {
      "text/plain": [
       "array([ inf,  nan,  nan,  nan,  4.5,  5.5,  7.5, 10. ])"
      ]
     },
     "execution_count": 3,
     "metadata": {},
     "output_type": "execute_result"
    }
   ],
   "source": [
    "dy_dx"
   ]
  },
  {
   "cell_type": "code",
   "execution_count": null,
   "id": "812f3461",
   "metadata": {},
   "outputs": [],
   "source": []
  }
 ],
 "metadata": {
  "hide_input": false,
  "kernelspec": {
   "display_name": "Python 3",
   "language": "python",
   "name": "python3"
  },
  "language_info": {
   "codemirror_mode": {
    "name": "ipython",
    "version": 3
   },
   "file_extension": ".py",
   "mimetype": "text/x-python",
   "name": "python",
   "nbconvert_exporter": "python",
   "pygments_lexer": "ipython3",
   "version": "3.10.6"
  },
  "toc": {
   "base_numbering": 1,
   "nav_menu": {},
   "number_sections": true,
   "sideBar": true,
   "skip_h1_title": false,
   "title_cell": "Table of Contents",
   "title_sidebar": "Contents",
   "toc_cell": false,
   "toc_position": {},
   "toc_section_display": true,
   "toc_window_display": false
  },
  "varInspector": {
   "cols": {
    "lenName": 16,
    "lenType": 16,
    "lenVar": 40
   },
   "kernels_config": {
    "python": {
     "delete_cmd_postfix": "",
     "delete_cmd_prefix": "del ",
     "library": "var_list.py",
     "varRefreshCmd": "print(var_dic_list())"
    },
    "r": {
     "delete_cmd_postfix": ") ",
     "delete_cmd_prefix": "rm(",
     "library": "var_list.r",
     "varRefreshCmd": "cat(var_dic_list()) "
    }
   },
   "types_to_exclude": [
    "module",
    "function",
    "builtin_function_or_method",
    "instance",
    "_Feature"
   ],
   "window_display": false
  }
 },
 "nbformat": 4,
 "nbformat_minor": 5
}
