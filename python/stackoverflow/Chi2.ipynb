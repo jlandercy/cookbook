{
 "cells": [
  {
   "cell_type": "markdown",
   "id": "33b75475",
   "metadata": {},
   "source": [
    "https://stackoverflow.com/questions/77624974/calculate-smin-in-a-chinquared-linear-regression"
   ]
  },
  {
   "cell_type": "code",
   "execution_count": 39,
   "id": "0b77a24c",
   "metadata": {
    "ExecuteTime": {
     "end_time": "2023-12-08T08:05:02.551562Z",
     "start_time": "2023-12-08T08:05:01.094810Z"
    }
   },
   "outputs": [],
   "source": [
    "import numpy as np\n",
    "import matplotlib.pyplot as plt\n",
    "from scipy import optimize, stats"
   ]
  },
  {
   "cell_type": "code",
   "execution_count": 2,
   "id": "89067178",
   "metadata": {
    "ExecuteTime": {
     "end_time": "2023-12-08T07:46:23.155732Z",
     "start_time": "2023-12-08T07:46:23.149728Z"
    }
   },
   "outputs": [],
   "source": [
    "x = np.array([0. , 1. , 2. , 3. , 4. , 5.])\n",
    "y = np.array([ 3.4 , 8.5 , 11.7 , 19.3 , 22.9 , 32.4])\n",
    "sy = np.array([0.3 , 0.8 , 1.2 , 1.9 , 2.3 , 3.2])"
   ]
  },
  {
   "cell_type": "code",
   "execution_count": 3,
   "id": "dd3a735e",
   "metadata": {
    "ExecuteTime": {
     "end_time": "2023-12-08T07:46:46.902171Z",
     "start_time": "2023-12-08T07:46:46.897904Z"
    }
   },
   "outputs": [],
   "source": [
    "def model(x, a, b):\n",
    "    return a * x + b"
   ]
  },
  {
   "cell_type": "code",
   "execution_count": 14,
   "id": "ce1e21c8",
   "metadata": {
    "ExecuteTime": {
     "end_time": "2023-12-08T07:52:04.789343Z",
     "start_time": "2023-12-08T07:52:04.755414Z"
    }
   },
   "outputs": [],
   "source": [
    "popt, pcov = optimize.curve_fit(model, x, y, sigma=sy, absolute_sigma=True)"
   ]
  },
  {
   "cell_type": "code",
   "execution_count": 29,
   "id": "13e3ed4e",
   "metadata": {
    "ExecuteTime": {
     "end_time": "2023-12-08T07:58:11.563664Z",
     "start_time": "2023-12-08T07:58:11.551234Z"
    }
   },
   "outputs": [
    {
     "data": {
      "text/plain": [
       "(array([5.02774364, 3.35561552]), array([0.30881918, 0.29016306]))"
      ]
     },
     "execution_count": 29,
     "metadata": {},
     "output_type": "execute_result"
    }
   ],
   "source": [
    "popt, np.sqrt(np.diag(pcov))"
   ]
  },
  {
   "cell_type": "code",
   "execution_count": 52,
   "id": "ff34d4ff",
   "metadata": {
    "ExecuteTime": {
     "end_time": "2023-12-08T08:08:45.146842Z",
     "start_time": "2023-12-08T08:08:45.129911Z"
    }
   },
   "outputs": [
    {
     "data": {
      "text/plain": [
       "(3.832172899902373, 0.9580432249755932)"
      ]
     },
     "execution_count": 52,
     "metadata": {},
     "output_type": "execute_result"
    }
   ],
   "source": [
    "nu = x.size - 2\n",
    "chi2 = np.sum(np.power((y - model(x, *popt))/sy, 2))\n",
    "chi2n = chi2/nu\n",
    "chi2, chi2n"
   ]
  },
  {
   "cell_type": "code",
   "execution_count": 45,
   "id": "92aef8cd",
   "metadata": {
    "ExecuteTime": {
     "end_time": "2023-12-08T08:06:40.187078Z",
     "start_time": "2023-12-08T08:06:40.182438Z"
    }
   },
   "outputs": [],
   "source": [
    "law = stats.chi2(df=nu)"
   ]
  },
  {
   "cell_type": "code",
   "execution_count": 50,
   "id": "c0dfc49f",
   "metadata": {
    "ExecuteTime": {
     "end_time": "2023-12-08T08:07:38.638202Z",
     "start_time": "2023-12-08T08:07:38.631630Z"
    }
   },
   "outputs": [
    {
     "data": {
      "text/plain": [
       "0.4291949692651329"
      ]
     },
     "execution_count": 50,
     "metadata": {},
     "output_type": "execute_result"
    }
   ],
   "source": [
    "law.sf(chi2)"
   ]
  },
  {
   "cell_type": "code",
   "execution_count": null,
   "id": "065dfaee",
   "metadata": {},
   "outputs": [],
   "source": []
  },
  {
   "cell_type": "code",
   "execution_count": null,
   "id": "4d42de36",
   "metadata": {},
   "outputs": [],
   "source": []
  },
  {
   "cell_type": "code",
   "execution_count": 28,
   "id": "e41e9e69",
   "metadata": {
    "ExecuteTime": {
     "end_time": "2023-12-08T07:57:48.855933Z",
     "start_time": "2023-12-08T07:57:48.643236Z"
    }
   },
   "outputs": [
    {
     "data": {
      "image/png": "[encoded data removed]",
      "text/plain": [
       "<Figure size 640x480 with 1 Axes>"
      ]
     },
     "metadata": {},
     "output_type": "display_data"
    }
   ],
   "source": [
    "fig, axe = plt.subplots()\n",
    "axe.errorbar(x, y, yerr=sy, linestyle=\"none\", marker=\".\")\n",
    "axe.plot(x, model(x, *popt))\n",
    "axe.grid()"
   ]
  },
  {
   "cell_type": "code",
   "execution_count": null,
   "id": "5efb39f1",
   "metadata": {},
   "outputs": [],
   "source": []
  },
  {
   "cell_type": "code",
   "execution_count": 23,
   "id": "6fff1197",
   "metadata": {
    "ExecuteTime": {
     "end_time": "2023-12-08T07:56:23.219863Z",
     "start_time": "2023-12-08T07:56:23.206283Z"
    }
   },
   "outputs": [
    {
     "name": "stdout",
     "output_type": "stream",
     "text": [
      "Regression line parameters:\n",
      "A = 5.03, B = 3.36\n",
      "Uncertainties:\n",
      "sigma_A = 0.31, sigma_B = 0.29\n",
      "sigma_min = 2.19\n"
     ]
    }
   ],
   "source": [
    "def getA(x, y, sigma_y):\n",
    "    sigma_y_sq = sigma_y ** 2\n",
    "    denominator = np.sum(1 / sigma_y_sq) * np.sum(x ** 2 / sigma_y_sq) - (np.sum(x / sigma_y_sq)) ** 2\n",
    "    A = (np.sum(x * y / sigma_y_sq) * np.sum(1 / sigma_y_sq) - np.sum(y / sigma_y_sq) * np.sum(x / sigma_y_sq)) / denominator\n",
    "    return A\n",
    "\n",
    "def getB(x, y, sigma_y):\n",
    "    sigma_y_sq = sigma_y ** 2\n",
    "    denominator = np.sum(1 / sigma_y_sq) * np.sum(x ** 2 / sigma_y_sq) - (np.sum(x / sigma_y_sq)) ** 2\n",
    "    B = (np.sum(y / sigma_y_sq) * np.sum(x ** 2 / sigma_y_sq) - np.sum(x / sigma_y_sq) * np.sum(x * y / sigma_y_sq)) / denominator\n",
    "    return B\n",
    "\n",
    "def getSigmaA(x, y, sigma_y):\n",
    "    sigma_y_sq = sigma_y ** 2\n",
    "    denominator = np.sum(1 / sigma_y_sq) * np.sum(x ** 2 / sigma_y_sq) - (np.sum(x / sigma_y_sq)) ** 2\n",
    "    sigma_A = np.sqrt(np.sum(1 / sigma_y_sq) / denominator)\n",
    "    return sigma_A\n",
    "\n",
    "def getSigmaB(x, y, sigma_y):\n",
    "    sigma_y_sq = sigma_y ** 2\n",
    "    denominator = np.sum(1 / sigma_y_sq) * np.sum(x ** 2 / sigma_y_sq) - (np.sum(x / sigma_y_sq)) ** 2\n",
    "    sigma_B = np.sqrt(np.sum(x ** 2 / sigma_y_sq) / denominator)\n",
    "    return sigma_B\n",
    "\n",
    "def get_sigma_min(x, f, sigma_f, a, b):\n",
    "    residuals = f - (a * x + b)\n",
    "    sigma_min = np.sqrt(np.sum(residuals ** 2) / (len(x) - 2))\n",
    "    return sigma_min\n",
    "\n",
    "# Input data\n",
    "x = np.array([0., 1., 2., 3., 4., 5.])\n",
    "f = np.array([3.4, 8.5, 11.7, 19.3, 22.9, 32.4])\n",
    "sigma_f = np.array([0.3, 0.8, 1.2, 1.9, 2.3, 3.2])\n",
    "\n",
    "# Calculate parameters A and B\n",
    "A = getA(x, y, sy)\n",
    "B = getB(x, y, sy)\n",
    "\n",
    "# Calculate uncertainties for A and B \n",
    "sigma_A = getSigmaA(x, y, sy)\n",
    "sigma_B = getSigmaB(x, y, sy)\n",
    "\n",
    "# Calculate sigma_min\n",
    "sigma_min = get_sigma_min(x, y, sy, A, B)\n",
    "\n",
    "# Print results\n",
    "print(f\"Regression line parameters:\")\n",
    "print(f\"A = {A:.2f}, B = {B:.2f}\")\n",
    "print(f\"Uncertainties:\")\n",
    "print(f\"sigma_A = {sigma_A:.2f}, sigma_B = {sigma_B:.2f}\")\n",
    "print(f\"sigma_min = {sigma_min:.2f}\")"
   ]
  },
  {
   "cell_type": "code",
   "execution_count": null,
   "id": "233521a7",
   "metadata": {},
   "outputs": [],
   "source": []
  }
 ],
 "metadata": {
  "hide_input": false,
  "kernelspec": {
   "display_name": "Python 3",
   "language": "python",
   "name": "python3"
  },
  "language_info": {
   "codemirror_mode": {
    "name": "ipython",
    "version": 3
   },
   "file_extension": ".py",
   "mimetype": "text/x-python",
   "name": "python",
   "nbconvert_exporter": "python",
   "pygments_lexer": "ipython3",
   "version": "3.10.6"
  },
  "toc": {
   "base_numbering": 1,
   "nav_menu": {},
   "number_sections": true,
   "sideBar": true,
   "skip_h1_title": false,
   "title_cell": "Table of Contents",
   "title_sidebar": "Contents",
   "toc_cell": false,
   "toc_position": {},
   "toc_section_display": true,
   "toc_window_display": false
  },
  "varInspector": {
   "cols": {
    "lenName": 16,
    "lenType": 16,
    "lenVar": 40
   },
   "kernels_config": {
    "python": {
     "delete_cmd_postfix": "",
     "delete_cmd_prefix": "del ",
     "library": "var_list.py",
     "varRefreshCmd": "print(var_dic_list())"
    },
    "r": {
     "delete_cmd_postfix": ") ",
     "delete_cmd_prefix": "rm(",
     "library": "var_list.r",
     "varRefreshCmd": "cat(var_dic_list()) "
    }
   },
   "types_to_exclude": [
    "module",
    "function",
    "builtin_function_or_method",
    "instance",
    "_Feature"
   ],
   "window_display": false
  }
 },
 "nbformat": 4,
 "nbformat_minor": 5
}
