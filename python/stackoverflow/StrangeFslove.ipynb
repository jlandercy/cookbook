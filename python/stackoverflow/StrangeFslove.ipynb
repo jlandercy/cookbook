{
 "cells": [
  {
   "cell_type": "code",
   "execution_count": 8,
   "id": "79dd9814",
   "metadata": {
    "ExecuteTime": {
     "end_time": "2024-06-16T10:49:45.810002Z",
     "start_time": "2024-06-16T10:49:42.375876Z"
    }
   },
   "outputs": [],
   "source": [
    "import numpy as np\n",
    "import matplotlib.pyplot as plt\n",
    "from scipy import optimize"
   ]
  },
  {
   "cell_type": "markdown",
   "id": "63cb530d",
   "metadata": {},
   "source": [
    "https://stackoverflow.com/questions/78626950/optimizing-system-of-two-non-linear-equations\n",
    "\n",
    "![Formula](https://i.sstatic.net/WiaOY0Qw.png)"
   ]
  },
  {
   "cell_type": "code",
   "execution_count": null,
   "id": "f008eadc",
   "metadata": {},
   "outputs": [],
   "source": []
  },
  {
   "cell_type": "code",
   "execution_count": 4,
   "id": "888d5c7c",
   "metadata": {
    "ExecuteTime": {
     "end_time": "2024-06-16T10:48:03.623742Z",
     "start_time": "2024-06-16T10:48:03.617654Z"
    }
   },
   "outputs": [],
   "source": [
    "C_p = 10\n",
    "P_0 = 110\n",
    "C_op = 2.7\n",
    "gamma = 0.03\n",
    "delta = 0.1\n",
    "C_h = 0.25\n",
    "C_d = 17\n",
    "theta = 0.1\n",
    "a = 100\n",
    "p = 15\n",
    "b = 0.5\n",
    "c = 0.25\n",
    "C_s = 50"
   ]
  },
  {
   "cell_type": "code",
   "execution_count": 5,
   "id": "1b43a8db",
   "metadata": {
    "ExecuteTime": {
     "end_time": "2024-06-16T10:48:09.881400Z",
     "start_time": "2024-06-16T10:48:09.871027Z"
    }
   },
   "outputs": [],
   "source": [
    "l = theta + gamma - c * (delta - 1)\n",
    "mu = P_0 + a * pow(p,-b) * (delta - 1)\n",
    "K_1 = (a * pow(p,-b) * delta) + ((mu/l) * ((c * delta) - gamma))\n",
    "K_2 = (mu/(l*l)) * (gamma - c * delta)"
   ]
  },
  {
   "cell_type": "code",
   "execution_count": 6,
   "id": "04a0d678",
   "metadata": {
    "ExecuteTime": {
     "end_time": "2024-06-16T10:48:16.140660Z",
     "start_time": "2024-06-16T10:48:16.127703Z"
    }
   },
   "outputs": [],
   "source": [
    "def aux_1(x):\n",
    "    return (C_h + C_d * theta) * (((mu/l) * (1 - np.exp(-l * x[0]))) - ((a*pow(p,-b)/(theta + c)) * (np.exp((theta + c)*(x[1]-x[0])) - 1)))\n",
    "\n",
    "def aux_2(x):\n",
    "    return ((a*np.power(p,-b)/(theta + c)) * ((x[1] - 1/(theta + c))*(np.exp((theta + c) * (x[1] - x[0]))-1) + (x[1] - x[0]))) - ((mu/l) * (x[0] + ((np.exp(-l*x[0])-1)/l)))"
   ]
  },
  {
   "cell_type": "code",
   "execution_count": 7,
   "id": "6511f449",
   "metadata": {
    "ExecuteTime": {
     "end_time": "2024-06-16T10:48:28.711629Z",
     "start_time": "2024-06-16T10:48:28.705913Z"
    }
   },
   "outputs": [],
   "source": [
    "def func(x):\n",
    "    return [C_p * P_0 + C_op * (x[0] + l * K_2 * np.exp(-l * x[0])) + aux_1(x),\n",
    "          ((C_h + C_d * theta) * aux_2(x)) - C_s - (C_p * P_0 * x[0]) - (C_op * ((K_1 * x[0]) - (K_2 * (np.exp(-l*x[0])-1))))]"
   ]
  },
  {
   "cell_type": "code",
   "execution_count": null,
   "id": "16802efe",
   "metadata": {
    "ExecuteTime": {
     "end_time": "2024-06-16T10:49:49.881799Z",
     "start_time": "2024-06-16T10:49:49.874641Z"
    }
   },
   "outputs": [],
   "source": []
  },
  {
   "cell_type": "code",
   "execution_count": null,
   "id": "9565ae38",
   "metadata": {},
   "outputs": [],
   "source": []
  },
  {
   "cell_type": "code",
   "execution_count": 31,
   "id": "410d25d2",
   "metadata": {
    "ExecuteTime": {
     "end_time": "2024-06-16T10:56:44.805042Z",
     "start_time": "2024-06-16T10:56:44.789494Z"
    }
   },
   "outputs": [],
   "source": [
    "xlin = np.linspace(0, 200, 300)\n",
    "ylin = np.linspace(0, 200, 300)\n",
    "X, Y = np.meshgrid(xlin, ylin)\n",
    "U, V = func([X, Y])"
   ]
  },
  {
   "cell_type": "code",
   "execution_count": 32,
   "id": "c8637a14",
   "metadata": {
    "ExecuteTime": {
     "end_time": "2024-06-16T10:56:45.614258Z",
     "start_time": "2024-06-16T10:56:45.242641Z"
    }
   },
   "outputs": [
    {
     "data": {
      "text/plain": [
       "<matplotlib.contour.QuadContourSet at 0x7fd14754d720>"
      ]
     },
     "execution_count": 32,
     "metadata": {},
     "output_type": "execute_result"
    },
    {
     "data": {
      "image/png": "[encoded data removed]",
      "text/plain": [
       "<Figure size 640x480 with 1 Axes>"
      ]
     },
     "metadata": {},
     "output_type": "display_data"
    }
   ],
   "source": [
    "fig, axe = plt.subplots()\n",
    "axe.contour(X, Y, U, [0])\n",
    "axe.contour(X, Y, V, [0])"
   ]
  },
  {
   "cell_type": "code",
   "execution_count": 33,
   "id": "be14d1ca",
   "metadata": {
    "ExecuteTime": {
     "end_time": "2024-06-16T10:56:55.660463Z",
     "start_time": "2024-06-16T10:56:55.642838Z"
    }
   },
   "outputs": [
    {
     "name": "stderr",
     "output_type": "stream",
     "text": [
      "/tmp/ipykernel_5325/4085204316.py:1: RuntimeWarning: The iteration is not making good progress, as measured by the \n",
      "  improvement from the last ten iterations.\n",
      "  optimize.fsolve(func, x0=[100., 100.])\n"
     ]
    },
    {
     "data": {
      "text/plain": [
       "array([ 99.99927472, 100.00144465])"
      ]
     },
     "execution_count": 33,
     "metadata": {},
     "output_type": "execute_result"
    }
   ],
   "source": [
    "optimize.fsolve(func, x0=[100., 100.])"
   ]
  },
  {
   "cell_type": "code",
   "execution_count": null,
   "id": "4a8e3d64",
   "metadata": {},
   "outputs": [],
   "source": []
  }
 ],
 "metadata": {
  "hide_input": false,
  "kernelspec": {
   "display_name": "Python 3",
   "language": "python",
   "name": "python3"
  },
  "language_info": {
   "codemirror_mode": {
    "name": "ipython",
    "version": 3
   },
   "file_extension": ".py",
   "mimetype": "text/x-python",
   "name": "python",
   "nbconvert_exporter": "python",
   "pygments_lexer": "ipython3",
   "version": "3.10.6"
  },
  "toc": {
   "base_numbering": 1,
   "nav_menu": {},
   "number_sections": true,
   "sideBar": true,
   "skip_h1_title": false,
   "title_cell": "Table of Contents",
   "title_sidebar": "Contents",
   "toc_cell": false,
   "toc_position": {},
   "toc_section_display": true,
   "toc_window_display": false
  },
  "varInspector": {
   "cols": {
    "lenName": 16,
    "lenType": 16,
    "lenVar": 40
   },
   "kernels_config": {
    "python": {
     "delete_cmd_postfix": "",
     "delete_cmd_prefix": "del ",
     "library": "var_list.py",
     "varRefreshCmd": "print(var_dic_list())"
    },
    "r": {
     "delete_cmd_postfix": ") ",
     "delete_cmd_prefix": "rm(",
     "library": "var_list.r",
     "varRefreshCmd": "cat(var_dic_list()) "
    }
   },
   "types_to_exclude": [
    "module",
    "function",
    "builtin_function_or_method",
    "instance",
    "_Feature"
   ],
   "window_display": false
  }
 },
 "nbformat": 4,
 "nbformat_minor": 5
}
