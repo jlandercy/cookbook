{
 "cells": [
  {
   "cell_type": "code",
   "execution_count": 1,
   "metadata": {
    "ExecuteTime": {
     "end_time": "2020-09-02T20:12:08.711644Z",
     "start_time": "2020-09-02T20:12:07.560158Z"
    }
   },
   "outputs": [],
   "source": [
    "import numpy as np\n",
    "from scipy import stats\n",
    "import matplotlib.pyplot as plt"
   ]
  },
  {
   "cell_type": "markdown",
   "metadata": {},
   "source": [
    " - https://stackoverflow.com/questions/63637144/python-rayleigh-fit-histogram?noredirect=1#comment112546840_63637144\n",
    " - https://docs.scipy.org/doc/scipy/reference/generated/scipy.stats.rayleigh.html"
   ]
  },
  {
   "cell_type": "code",
   "execution_count": 2,
   "metadata": {
    "ExecuteTime": {
     "end_time": "2020-09-02T20:12:08.737701Z",
     "start_time": "2020-09-02T20:12:08.725347Z"
    }
   },
   "outputs": [],
   "source": [
    "X = stats.rayleigh(loc=10, scale=5)"
   ]
  },
  {
   "cell_type": "code",
   "execution_count": 3,
   "metadata": {
    "ExecuteTime": {
     "end_time": "2020-09-02T20:12:08.751092Z",
     "start_time": "2020-09-02T20:12:08.744006Z"
    }
   },
   "outputs": [],
   "source": [
    "x0 = X.rvs(size=10000, random_state=123)"
   ]
  },
  {
   "cell_type": "code",
   "execution_count": 4,
   "metadata": {
    "ExecuteTime": {
     "end_time": "2020-09-02T20:12:08.764606Z",
     "start_time": "2020-09-02T20:12:08.758870Z"
    }
   },
   "outputs": [],
   "source": [
    "xl = np.linspace(x0.min(), x0.max(), 100)"
   ]
  },
  {
   "cell_type": "code",
   "execution_count": 5,
   "metadata": {
    "ExecuteTime": {
     "end_time": "2020-09-02T20:12:08.824953Z",
     "start_time": "2020-09-02T20:12:08.770074Z"
    }
   },
   "outputs": [
    {
     "data": {
      "text/plain": [
       "(9.990726961181025, 4.9743913760956335)"
      ]
     },
     "execution_count": 5,
     "metadata": {},
     "output_type": "execute_result"
    }
   ],
   "source": [
    "loc, scale = stats.rayleigh.fit(x0)\n",
    "loc, scale"
   ]
  },
  {
   "cell_type": "code",
   "execution_count": 6,
   "metadata": {
    "ExecuteTime": {
     "end_time": "2020-09-02T20:12:09.462750Z",
     "start_time": "2020-09-02T20:12:08.832019Z"
    }
   },
   "outputs": [
    {
     "data": {
      "image/png": "[encoded data removed]",
      "text/plain": [
       "<Figure size 432x288 with 1 Axes>"
      ]
     },
     "metadata": {
      "needs_background": "light"
     },
     "output_type": "display_data"
    }
   ],
   "source": [
    "fig, axe = plt.subplots()\n",
    "axe.hist(x0, density=1, label=\"Sample\")\n",
    "axe.plot(xl, X.pdf(xl), label=\"Exact Distribution\")\n",
    "axe.plot(xl, stats.rayleigh(scale=scale, loc=loc).pdf(xl), label=\"Adjusted Distribution\")\n",
    "axe.set_title(\"Distribution Fit\")\n",
    "axe.set_xlabel(\"Variable, $x$ $[\\mathrm{AU}]$\")\n",
    "axe.set_ylabel(\"Density, $f(x)$ $[\\mathrm{AU}^{-1}]$\")\n",
    "axe.legend()\n",
    "axe.grid()"
   ]
  },
  {
   "cell_type": "code",
   "execution_count": 7,
   "metadata": {
    "ExecuteTime": {
     "end_time": "2020-09-02T20:12:09.481890Z",
     "start_time": "2020-09-02T20:12:09.469463Z"
    }
   },
   "outputs": [
    {
     "data": {
      "text/plain": [
       "KstestResult(statistic=0.0097140857969642, pvalue=0.3019167138216704)"
      ]
     },
     "execution_count": 7,
     "metadata": {},
     "output_type": "execute_result"
    }
   ],
   "source": [
    "X = stats.rayleigh(scale=scale, loc=loc)\n",
    "kst = stats.kstest(x0, X.cdf)\n",
    "kst"
   ]
  },
  {
   "cell_type": "code",
   "execution_count": 8,
   "metadata": {
    "ExecuteTime": {
     "end_time": "2020-09-02T20:12:09.495830Z",
     "start_time": "2020-09-02T20:12:09.489386Z"
    }
   },
   "outputs": [],
   "source": [
    "c, b = np.histogram(x0)\n",
    "ct = np.diff(X.cdf(b))*np.sum(c)"
   ]
  },
  {
   "cell_type": "code",
   "execution_count": 9,
   "metadata": {
    "ExecuteTime": {
     "end_time": "2020-09-02T20:12:09.511977Z",
     "start_time": "2020-09-02T20:12:09.502939Z"
    }
   },
   "outputs": [
    {
     "data": {
      "text/plain": [
       "Power_divergenceResult(statistic=11.170065854104491, pvalue=0.13137094282775724)"
      ]
     },
     "execution_count": 9,
     "metadata": {},
     "output_type": "execute_result"
    }
   ],
   "source": [
    "c2t = stats.chisquare(c, ct, ddof=2)\n",
    "c2t"
   ]
  },
  {
   "cell_type": "code",
   "execution_count": null,
   "metadata": {},
   "outputs": [],
   "source": []
  },
  {
   "cell_type": "code",
   "execution_count": 10,
   "metadata": {
    "ExecuteTime": {
     "end_time": "2020-09-02T20:12:09.549868Z",
     "start_time": "2020-09-02T20:12:09.517705Z"
    }
   },
   "outputs": [],
   "source": [
    "x0 = np.array([13, 15, 13, 14, 12, 13, 12, 14, 15, 12, 11, 10, 11, 15, 18, 11, 11, 11, 13,\n",
    "               15, 15, 15, 11, 12, 13, 12, 15, 15, 15, 12, 12, 11, 14, 16, 11, 13, 14, 16,\n",
    "               17, 24, 21, 16, 20, 18, 18, 19, 21, 22, 19, 15, 16, 15, 13, 14, 16, 18, 21,\n",
    "               19, 22, 14, 13, 14, 15, 14, 17, 19, 17, 16, 18, 12, 15, 17, 17, 16, 17, 16,\n",
    "               19, 17, 14, 13, 16, 16, 13, 15, 17, 17, 20, 18, 17, 12, 19, 14, 15, 15, 14,\n",
    "               13, 17, 16, 14, 12, 11, 12, 20, 19, 16, 24, 19, 20, 19, 17, 16, 17, 16, 19,\n",
    "               22, 17, 16, 20, 22, 21, 22, 20, 14, 18, 16, 19, 20, 17, 20, 22, 20, 22, 19,\n",
    "               17, 13, 16, 18, 14, 16, 20, 20, 18, 19, 19, 16, 19, 12, 12, 14, 14, 13, 15,\n",
    "               16, 16, 19, 16, 17, 12, 11, 11, 10, 12, 11, 11, 13, 14, 13, 17, 8, 8, 8, 10,\n",
    "               10, 10, 14, 16, 11, 9, 9, 11, 10, 17, 13, 15, 19, 15, 13, 16, 17, 14, 12, 13,\n",
    "               14, 11, 10, 15, 13, 12, 12, 11, 10, 9, 9, 9, 9, 8, 15, 16, 12, 9, 11, 9, 10,\n",
    "               10, 7, 7, 7, 21, 19, 13, 10, 15, 12, 10, 10, 9, 8, 10, 20, 14, 13, 11, 13, 15,\n",
    "               14, 10, 11, 12, 16, 17, 15, 12, 13, 16, 15, 13, 14, 17, 14, 13, 15, 13, 11, 14,\n",
    "               15, 17, 18, 22, 21, 16, 17, 22, 17, 17, 18, 26, 17, 19, 21, 16, 15, 19, 19, 22,\n",
    "               19, 18, 17, 18, 18, 12, 17, 17, 17, 18, 14, 16, 20, 17, 16, 16, 18, 16, 19, 18,\n",
    "               18, 20, 18])\n",
    "p = stats.rayleigh.fit(x0)\n",
    "X = stats.rayleigh(*p)"
   ]
  },
  {
   "cell_type": "code",
   "execution_count": 11,
   "metadata": {
    "ExecuteTime": {
     "end_time": "2020-09-02T20:12:09.568346Z",
     "start_time": "2020-09-02T20:12:09.557502Z"
    }
   },
   "outputs": [
    {
     "data": {
      "text/plain": [
       "KstestResult(statistic=0.12701044409231593, pvalue=0.0001232197856051324)"
      ]
     },
     "execution_count": 11,
     "metadata": {},
     "output_type": "execute_result"
    }
   ],
   "source": [
    "kst = stats.kstest(x0, X.cdf)\n",
    "kst"
   ]
  },
  {
   "cell_type": "code",
   "execution_count": 12,
   "metadata": {
    "ExecuteTime": {
     "end_time": "2020-09-02T20:12:09.959569Z",
     "start_time": "2020-09-02T20:12:09.574035Z"
    }
   },
   "outputs": [
    {
     "data": {
      "image/png": "[encoded data removed]",
      "text/plain": [
       "<Figure size 432x288 with 1 Axes>"
      ]
     },
     "metadata": {
      "needs_background": "light"
     },
     "output_type": "display_data"
    }
   ],
   "source": [
    "xl = np.linspace(x0.min(), x0.max(), 100)\n",
    "fig, axe = plt.subplots()\n",
    "f, b, _ = axe.hist(x0, density=1, label=\"Sample\")\n",
    "axe.plot(xl, X.pdf(xl), label=\"Adjusted Distribution\")\n",
    "axe.set_title(\"Distribution Fit\")\n",
    "axe.set_xlabel(\"Variable, $x$ $[\\mathrm{AU}]$\")\n",
    "axe.set_ylabel(\"Density, $f(x)$ $[\\mathrm{AU}^{-1}]$\")\n",
    "axe.legend()\n",
    "axe.grid()"
   ]
  },
  {
   "cell_type": "code",
   "execution_count": null,
   "metadata": {},
   "outputs": [],
   "source": []
  },
  {
   "cell_type": "code",
   "execution_count": 13,
   "metadata": {
    "ExecuteTime": {
     "end_time": "2020-09-02T20:12:09.973386Z",
     "start_time": "2020-09-02T20:12:09.966465Z"
    }
   },
   "outputs": [],
   "source": [
    "c, b = np.histogram(x0)\n",
    "ct = np.diff(X.cdf(b))*np.sum(c)"
   ]
  },
  {
   "cell_type": "code",
   "execution_count": 14,
   "metadata": {
    "ExecuteTime": {
     "end_time": "2020-09-02T20:12:09.990818Z",
     "start_time": "2020-09-02T20:12:09.980510Z"
    }
   },
   "outputs": [
    {
     "data": {
      "text/plain": [
       "Power_divergenceResult(statistic=31.874916914227434, pvalue=4.284273564311872e-05)"
      ]
     },
     "execution_count": 14,
     "metadata": {},
     "output_type": "execute_result"
    }
   ],
   "source": [
    "c2t = stats.chisquare(c, ct, ddof=2)\n",
    "c2t"
   ]
  },
  {
   "cell_type": "code",
   "execution_count": null,
   "metadata": {},
   "outputs": [],
   "source": []
  },
  {
   "cell_type": "code",
   "execution_count": null,
   "metadata": {},
   "outputs": [],
   "source": []
  }
 ],
 "metadata": {
  "hide_input": false,
  "kernelspec": {
   "display_name": "Python 3",
   "language": "python",
   "name": "python3"
  },
  "language_info": {
   "codemirror_mode": {
    "name": "ipython",
    "version": 3
   },
   "file_extension": ".py",
   "mimetype": "text/x-python",
   "name": "python",
   "nbconvert_exporter": "python",
   "pygments_lexer": "ipython3",
   "version": "3.6.9"
  },
  "toc": {
   "base_numbering": 1,
   "nav_menu": {},
   "number_sections": true,
   "sideBar": true,
   "skip_h1_title": false,
   "title_cell": "Table of Contents",
   "title_sidebar": "Contents",
   "toc_cell": false,
   "toc_position": {},
   "toc_section_display": true,
   "toc_window_display": false
  },
  "varInspector": {
   "cols": {
    "lenName": 16,
    "lenType": 16,
    "lenVar": 40
   },
   "kernels_config": {
    "python": {
     "delete_cmd_postfix": "",
     "delete_cmd_prefix": "del ",
     "library": "var_list.py",
     "varRefreshCmd": "print(var_dic_list())"
    },
    "r": {
     "delete_cmd_postfix": ") ",
     "delete_cmd_prefix": "rm(",
     "library": "var_list.r",
     "varRefreshCmd": "cat(var_dic_list()) "
    }
   },
   "types_to_exclude": [
    "module",
    "function",
    "builtin_function_or_method",
    "instance",
    "_Feature"
   ],
   "window_display": false
  }
 },
 "nbformat": 4,
 "nbformat_minor": 4
}
