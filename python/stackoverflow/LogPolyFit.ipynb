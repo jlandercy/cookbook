{
 "cells": [
  {
   "cell_type": "code",
   "execution_count": 1,
   "id": "24da97d9",
   "metadata": {
    "ExecuteTime": {
     "end_time": "2023-12-24T08:50:50.242709Z",
     "start_time": "2023-12-24T08:50:47.976421Z"
    }
   },
   "outputs": [],
   "source": [
    "import numpy as np\n",
    "import matplotlib.pyplot as plt\n",
    "\n",
    "from sklearn.preprocessing import MinMaxScaler, FunctionTransformer, PolynomialFeatures\n",
    "from sklearn.compose import TransformedTargetRegressor\n",
    "from sklearn.linear_model import Ridge, LinearRegression\n",
    "from sklearn.gaussian_process import GaussianProcessRegressor\n",
    "from sklearn.gaussian_process.kernels import RBF\n",
    "from sklearn.pipeline import Pipeline"
   ]
  },
  {
   "cell_type": "markdown",
   "id": "6159b77c",
   "metadata": {},
   "source": [
    "https://stackoverflow.com/questions/77708524/python-fitting-polynomial-to-natural-log-then-reversing-the-transformation-back"
   ]
  },
  {
   "cell_type": "code",
   "execution_count": 2,
   "id": "2cb33fdd",
   "metadata": {
    "ExecuteTime": {
     "end_time": "2023-12-24T08:50:50.255525Z",
     "start_time": "2023-12-24T08:50:50.248181Z"
    }
   },
   "outputs": [],
   "source": [
    "np.random.seed(12345)\n",
    "x = np.linspace(-1, 1, 50).reshape(-1, 1)\n",
    "P = np.poly1d([6, 5, 4, 3, 2, 10])\n",
    "y = P(x[:, 0])\n",
    "n = 0.5 * np.random.randn(y.size)\n",
    "yn = y + n"
   ]
  },
  {
   "cell_type": "code",
   "execution_count": null,
   "id": "a1129034",
   "metadata": {
    "ExecuteTime": {
     "end_time": "2023-12-24T05:19:19.082666Z",
     "start_time": "2023-12-24T05:19:19.073963Z"
    }
   },
   "outputs": [],
   "source": []
  },
  {
   "cell_type": "code",
   "execution_count": 3,
   "id": "cbf6bd40",
   "metadata": {
    "ExecuteTime": {
     "end_time": "2023-12-24T08:50:50.276591Z",
     "start_time": "2023-12-24T08:50:50.270154Z"
    }
   },
   "outputs": [],
   "source": [
    "pipeline_lin = Pipeline([\n",
    "    (\"transformer\", PolynomialFeatures(5)),\n",
    "    (\"model\", LinearRegression(fit_intercept=False))\n",
    "])"
   ]
  },
  {
   "cell_type": "code",
   "execution_count": 4,
   "id": "f3878afa",
   "metadata": {
    "ExecuteTime": {
     "end_time": "2023-12-24T08:50:50.333458Z",
     "start_time": "2023-12-24T08:50:50.280663Z"
    }
   },
   "outputs": [
    {
     "data": {
      "text/html": [
       "<style>#sk-container-id-1 {color: black;}#sk-container-id-1 pre{padding: 0;}#sk-container-id-1 div.sk-toggleable {background-color: white;}#sk-container-id-1 label.sk-toggleable__label {cursor: pointer;display: block;width: 100%;margin-bottom: 0;padding: 0.3em;box-sizing: border-box;text-align: center;}#sk-container-id-1 label.sk-toggleable__label-arrow:before {content: \"▸\";float: left;margin-right: 0.25em;color: #696969;}#sk-container-id-1 label.sk-toggleable__label-arrow:hover:before {color: black;}#sk-container-id-1 div.sk-estimator:hover label.sk-toggleable__label-arrow:before {color: black;}#sk-container-id-1 div.sk-toggleable__content {max-height: 0;max-width: 0;overflow: hidden;text-align: left;background-color: #f0f8ff;}#sk-container-id-1 div.sk-toggleable__content pre {margin: 0.2em;color: black;border-radius: 0.25em;background-color: #f0f8ff;}#sk-container-id-1 input.sk-toggleable__control:checked~div.sk-toggleable__content {max-height: 200px;max-width: 100%;overflow: auto;}#sk-container-id-1 input.sk-toggleable__control:checked~label.sk-toggleable__label-arrow:before {content: \"▾\";}#sk-container-id-1 div.sk-estimator input.sk-toggleable__control:checked~label.sk-toggleable__label {background-color: #d4ebff;}#sk-container-id-1 div.sk-label input.sk-toggleable__control:checked~label.sk-toggleable__label {background-color: #d4ebff;}#sk-container-id-1 input.sk-hidden--visually {border: 0;clip: rect(1px 1px 1px 1px);clip: rect(1px, 1px, 1px, 1px);height: 1px;margin: -1px;overflow: hidden;padding: 0;position: absolute;width: 1px;}#sk-container-id-1 div.sk-estimator {font-family: monospace;background-color: #f0f8ff;border: 1px dotted black;border-radius: 0.25em;box-sizing: border-box;margin-bottom: 0.5em;}#sk-container-id-1 div.sk-estimator:hover {background-color: #d4ebff;}#sk-container-id-1 div.sk-parallel-item::after {content: \"\";width: 100%;border-bottom: 1px solid gray;flex-grow: 1;}#sk-container-id-1 div.sk-label:hover label.sk-toggleable__label {background-color: #d4ebff;}#sk-container-id-1 div.sk-serial::before {content: \"\";position: absolute;border-left: 1px solid gray;box-sizing: border-box;top: 0;bottom: 0;left: 50%;z-index: 0;}#sk-container-id-1 div.sk-serial {display: flex;flex-direction: column;align-items: center;background-color: white;padding-right: 0.2em;padding-left: 0.2em;position: relative;}#sk-container-id-1 div.sk-item {position: relative;z-index: 1;}#sk-container-id-1 div.sk-parallel {display: flex;align-items: stretch;justify-content: center;background-color: white;position: relative;}#sk-container-id-1 div.sk-item::before, #sk-container-id-1 div.sk-parallel-item::before {content: \"\";position: absolute;border-left: 1px solid gray;box-sizing: border-box;top: 0;bottom: 0;left: 50%;z-index: -1;}#sk-container-id-1 div.sk-parallel-item {display: flex;flex-direction: column;z-index: 1;position: relative;background-color: white;}#sk-container-id-1 div.sk-parallel-item:first-child::after {align-self: flex-end;width: 50%;}#sk-container-id-1 div.sk-parallel-item:last-child::after {align-self: flex-start;width: 50%;}#sk-container-id-1 div.sk-parallel-item:only-child::after {width: 0;}#sk-container-id-1 div.sk-dashed-wrapped {border: 1px dashed gray;margin: 0 0.4em 0.5em 0.4em;box-sizing: border-box;padding-bottom: 0.4em;background-color: white;}#sk-container-id-1 div.sk-label label {font-family: monospace;font-weight: bold;display: inline-block;line-height: 1.2em;}#sk-container-id-1 div.sk-label-container {text-align: center;}#sk-container-id-1 div.sk-container {/* jupyter's `normalize.less` sets `[hidden] { display: none; }` but bootstrap.min.css set `[hidden] { display: none !important; }` so we also need the `!important` here to be able to override the default hidden behavior on the sphinx rendered scikit-learn.org. See: https://github.com/scikit-learn/scikit-learn/issues/21755 */display: inline-block !important;position: relative;}#sk-container-id-1 div.sk-text-repr-fallback {display: none;}</style><div id=\"sk-container-id-1\" class=\"sk-top-container\"><div class=\"sk-text-repr-fallback\"><pre>Pipeline(steps=[(&#x27;transformer&#x27;, PolynomialFeatures(degree=5)),\n",
       "                (&#x27;model&#x27;, LinearRegression(fit_intercept=False))])</pre><b>In a Jupyter environment, please rerun this cell to show the HTML representation or trust the notebook. <br />On GitHub, the HTML representation is unable to render, please try loading this page with nbviewer.org.</b></div><div class=\"sk-container\" hidden><div class=\"sk-item sk-dashed-wrapped\"><div class=\"sk-label-container\"><div class=\"sk-label sk-toggleable\"><input class=\"sk-toggleable__control sk-hidden--visually\" id=\"sk-estimator-id-1\" type=\"checkbox\" ><label for=\"sk-estimator-id-1\" class=\"sk-toggleable__label sk-toggleable__label-arrow\">Pipeline</label><div class=\"sk-toggleable__content\"><pre>Pipeline(steps=[(&#x27;transformer&#x27;, PolynomialFeatures(degree=5)),\n",
       "                (&#x27;model&#x27;, LinearRegression(fit_intercept=False))])</pre></div></div></div><div class=\"sk-serial\"><div class=\"sk-item\"><div class=\"sk-estimator sk-toggleable\"><input class=\"sk-toggleable__control sk-hidden--visually\" id=\"sk-estimator-id-2\" type=\"checkbox\" ><label for=\"sk-estimator-id-2\" class=\"sk-toggleable__label sk-toggleable__label-arrow\">PolynomialFeatures</label><div class=\"sk-toggleable__content\"><pre>PolynomialFeatures(degree=5)</pre></div></div></div><div class=\"sk-item\"><div class=\"sk-estimator sk-toggleable\"><input class=\"sk-toggleable__control sk-hidden--visually\" id=\"sk-estimator-id-3\" type=\"checkbox\" ><label for=\"sk-estimator-id-3\" class=\"sk-toggleable__label sk-toggleable__label-arrow\">LinearRegression</label><div class=\"sk-toggleable__content\"><pre>LinearRegression(fit_intercept=False)</pre></div></div></div></div></div></div></div>"
      ],
      "text/plain": [
       "Pipeline(steps=[('transformer', PolynomialFeatures(degree=5)),\n",
       "                ('model', LinearRegression(fit_intercept=False))])"
      ]
     },
     "execution_count": 4,
     "metadata": {},
     "output_type": "execute_result"
    }
   ],
   "source": [
    "pipeline_lin.fit(x, yn)"
   ]
  },
  {
   "cell_type": "code",
   "execution_count": 5,
   "id": "440c9cf0",
   "metadata": {
    "ExecuteTime": {
     "end_time": "2023-12-24T08:50:50.352819Z",
     "start_time": "2023-12-24T08:50:50.339947Z"
    }
   },
   "outputs": [
    {
     "data": {
      "text/plain": [
       "array([10.0226118 ,  1.51830909,  2.23638955,  2.91665499,  5.99904944,\n",
       "        7.88614861])"
      ]
     },
     "execution_count": 5,
     "metadata": {},
     "output_type": "execute_result"
    }
   ],
   "source": [
    "pipeline_lin[\"model\"].coef_"
   ]
  },
  {
   "cell_type": "code",
   "execution_count": null,
   "id": "d1996204",
   "metadata": {},
   "outputs": [],
   "source": []
  },
  {
   "cell_type": "code",
   "execution_count": 6,
   "id": "5619d79d",
   "metadata": {
    "ExecuteTime": {
     "end_time": "2023-12-24T08:50:50.365885Z",
     "start_time": "2023-12-24T08:50:50.358157Z"
    }
   },
   "outputs": [],
   "source": [
    "pipeline_log = Pipeline([\n",
    "    (\"transformer\", PolynomialFeatures(5)),\n",
    "    (\"model\",\n",
    "         TransformedTargetRegressor(\n",
    "             regressor=LinearRegression(fit_intercept=False),\n",
    "             func=np.log,\n",
    "             inverse_func=np.exp\n",
    "         )\n",
    "    )\n",
    "])"
   ]
  },
  {
   "cell_type": "code",
   "execution_count": 7,
   "id": "8f957b97",
   "metadata": {
    "ExecuteTime": {
     "end_time": "2023-12-24T08:50:50.398469Z",
     "start_time": "2023-12-24T08:50:50.370752Z"
    }
   },
   "outputs": [
    {
     "data": {
      "text/html": [
       "<style>#sk-container-id-2 {color: black;}#sk-container-id-2 pre{padding: 0;}#sk-container-id-2 div.sk-toggleable {background-color: white;}#sk-container-id-2 label.sk-toggleable__label {cursor: pointer;display: block;width: 100%;margin-bottom: 0;padding: 0.3em;box-sizing: border-box;text-align: center;}#sk-container-id-2 label.sk-toggleable__label-arrow:before {content: \"▸\";float: left;margin-right: 0.25em;color: #696969;}#sk-container-id-2 label.sk-toggleable__label-arrow:hover:before {color: black;}#sk-container-id-2 div.sk-estimator:hover label.sk-toggleable__label-arrow:before {color: black;}#sk-container-id-2 div.sk-toggleable__content {max-height: 0;max-width: 0;overflow: hidden;text-align: left;background-color: #f0f8ff;}#sk-container-id-2 div.sk-toggleable__content pre {margin: 0.2em;color: black;border-radius: 0.25em;background-color: #f0f8ff;}#sk-container-id-2 input.sk-toggleable__control:checked~div.sk-toggleable__content {max-height: 200px;max-width: 100%;overflow: auto;}#sk-container-id-2 input.sk-toggleable__control:checked~label.sk-toggleable__label-arrow:before {content: \"▾\";}#sk-container-id-2 div.sk-estimator input.sk-toggleable__control:checked~label.sk-toggleable__label {background-color: #d4ebff;}#sk-container-id-2 div.sk-label input.sk-toggleable__control:checked~label.sk-toggleable__label {background-color: #d4ebff;}#sk-container-id-2 input.sk-hidden--visually {border: 0;clip: rect(1px 1px 1px 1px);clip: rect(1px, 1px, 1px, 1px);height: 1px;margin: -1px;overflow: hidden;padding: 0;position: absolute;width: 1px;}#sk-container-id-2 div.sk-estimator {font-family: monospace;background-color: #f0f8ff;border: 1px dotted black;border-radius: 0.25em;box-sizing: border-box;margin-bottom: 0.5em;}#sk-container-id-2 div.sk-estimator:hover {background-color: #d4ebff;}#sk-container-id-2 div.sk-parallel-item::after {content: \"\";width: 100%;border-bottom: 1px solid gray;flex-grow: 1;}#sk-container-id-2 div.sk-label:hover label.sk-toggleable__label {background-color: #d4ebff;}#sk-container-id-2 div.sk-serial::before {content: \"\";position: absolute;border-left: 1px solid gray;box-sizing: border-box;top: 0;bottom: 0;left: 50%;z-index: 0;}#sk-container-id-2 div.sk-serial {display: flex;flex-direction: column;align-items: center;background-color: white;padding-right: 0.2em;padding-left: 0.2em;position: relative;}#sk-container-id-2 div.sk-item {position: relative;z-index: 1;}#sk-container-id-2 div.sk-parallel {display: flex;align-items: stretch;justify-content: center;background-color: white;position: relative;}#sk-container-id-2 div.sk-item::before, #sk-container-id-2 div.sk-parallel-item::before {content: \"\";position: absolute;border-left: 1px solid gray;box-sizing: border-box;top: 0;bottom: 0;left: 50%;z-index: -1;}#sk-container-id-2 div.sk-parallel-item {display: flex;flex-direction: column;z-index: 1;position: relative;background-color: white;}#sk-container-id-2 div.sk-parallel-item:first-child::after {align-self: flex-end;width: 50%;}#sk-container-id-2 div.sk-parallel-item:last-child::after {align-self: flex-start;width: 50%;}#sk-container-id-2 div.sk-parallel-item:only-child::after {width: 0;}#sk-container-id-2 div.sk-dashed-wrapped {border: 1px dashed gray;margin: 0 0.4em 0.5em 0.4em;box-sizing: border-box;padding-bottom: 0.4em;background-color: white;}#sk-container-id-2 div.sk-label label {font-family: monospace;font-weight: bold;display: inline-block;line-height: 1.2em;}#sk-container-id-2 div.sk-label-container {text-align: center;}#sk-container-id-2 div.sk-container {/* jupyter's `normalize.less` sets `[hidden] { display: none; }` but bootstrap.min.css set `[hidden] { display: none !important; }` so we also need the `!important` here to be able to override the default hidden behavior on the sphinx rendered scikit-learn.org. See: https://github.com/scikit-learn/scikit-learn/issues/21755 */display: inline-block !important;position: relative;}#sk-container-id-2 div.sk-text-repr-fallback {display: none;}</style><div id=\"sk-container-id-2\" class=\"sk-top-container\"><div class=\"sk-text-repr-fallback\"><pre>Pipeline(steps=[(&#x27;transformer&#x27;, PolynomialFeatures(degree=5)),\n",
       "                (&#x27;model&#x27;,\n",
       "                 TransformedTargetRegressor(func=&lt;ufunc &#x27;log&#x27;&gt;,\n",
       "                                            inverse_func=&lt;ufunc &#x27;exp&#x27;&gt;,\n",
       "                                            regressor=LinearRegression(fit_intercept=False)))])</pre><b>In a Jupyter environment, please rerun this cell to show the HTML representation or trust the notebook. <br />On GitHub, the HTML representation is unable to render, please try loading this page with nbviewer.org.</b></div><div class=\"sk-container\" hidden><div class=\"sk-item sk-dashed-wrapped\"><div class=\"sk-label-container\"><div class=\"sk-label sk-toggleable\"><input class=\"sk-toggleable__control sk-hidden--visually\" id=\"sk-estimator-id-4\" type=\"checkbox\" ><label for=\"sk-estimator-id-4\" class=\"sk-toggleable__label sk-toggleable__label-arrow\">Pipeline</label><div class=\"sk-toggleable__content\"><pre>Pipeline(steps=[(&#x27;transformer&#x27;, PolynomialFeatures(degree=5)),\n",
       "                (&#x27;model&#x27;,\n",
       "                 TransformedTargetRegressor(func=&lt;ufunc &#x27;log&#x27;&gt;,\n",
       "                                            inverse_func=&lt;ufunc &#x27;exp&#x27;&gt;,\n",
       "                                            regressor=LinearRegression(fit_intercept=False)))])</pre></div></div></div><div class=\"sk-serial\"><div class=\"sk-item\"><div class=\"sk-estimator sk-toggleable\"><input class=\"sk-toggleable__control sk-hidden--visually\" id=\"sk-estimator-id-5\" type=\"checkbox\" ><label for=\"sk-estimator-id-5\" class=\"sk-toggleable__label sk-toggleable__label-arrow\">PolynomialFeatures</label><div class=\"sk-toggleable__content\"><pre>PolynomialFeatures(degree=5)</pre></div></div></div><div class=\"sk-item sk-dashed-wrapped\"><div class=\"sk-label-container\"><div class=\"sk-label sk-toggleable\"><input class=\"sk-toggleable__control sk-hidden--visually\" id=\"sk-estimator-id-6\" type=\"checkbox\" ><label for=\"sk-estimator-id-6\" class=\"sk-toggleable__label sk-toggleable__label-arrow\">model: TransformedTargetRegressor</label><div class=\"sk-toggleable__content\"><pre>TransformedTargetRegressor(func=&lt;ufunc &#x27;log&#x27;&gt;, inverse_func=&lt;ufunc &#x27;exp&#x27;&gt;,\n",
       "                           regressor=LinearRegression(fit_intercept=False))</pre></div></div></div><div class=\"sk-parallel\"><div class=\"sk-parallel-item\"><div class=\"sk-item\"><div class=\"sk-label-container\"><div class=\"sk-label sk-toggleable\"><input class=\"sk-toggleable__control sk-hidden--visually\" id=\"sk-estimator-id-7\" type=\"checkbox\" ><label for=\"sk-estimator-id-7\" class=\"sk-toggleable__label sk-toggleable__label-arrow\">regressor: LinearRegression</label><div class=\"sk-toggleable__content\"><pre>LinearRegression(fit_intercept=False)</pre></div></div></div><div class=\"sk-serial\"><div class=\"sk-item\"><div class=\"sk-estimator sk-toggleable\"><input class=\"sk-toggleable__control sk-hidden--visually\" id=\"sk-estimator-id-8\" type=\"checkbox\" ><label for=\"sk-estimator-id-8\" class=\"sk-toggleable__label sk-toggleable__label-arrow\">LinearRegression</label><div class=\"sk-toggleable__content\"><pre>LinearRegression(fit_intercept=False)</pre></div></div></div></div></div></div></div></div></div></div></div></div>"
      ],
      "text/plain": [
       "Pipeline(steps=[('transformer', PolynomialFeatures(degree=5)),\n",
       "                ('model',\n",
       "                 TransformedTargetRegressor(func=<ufunc 'log'>,\n",
       "                                            inverse_func=<ufunc 'exp'>,\n",
       "                                            regressor=LinearRegression(fit_intercept=False)))])"
      ]
     },
     "execution_count": 7,
     "metadata": {},
     "output_type": "execute_result"
    }
   ],
   "source": [
    "pipeline_log.fit(x, yn)"
   ]
  },
  {
   "cell_type": "code",
   "execution_count": 8,
   "id": "ff9cb411",
   "metadata": {
    "ExecuteTime": {
     "end_time": "2023-12-24T08:50:50.413951Z",
     "start_time": "2023-12-24T08:50:50.403738Z"
    }
   },
   "outputs": [
    {
     "data": {
      "text/plain": [
       "array([ 2.2901081 ,  0.15049063,  0.46685674,  0.32678866, -0.12522207,\n",
       "        0.34130133])"
      ]
     },
     "execution_count": 8,
     "metadata": {},
     "output_type": "execute_result"
    }
   ],
   "source": [
    "pipeline_log[\"model\"].regressor_.coef_"
   ]
  },
  {
   "cell_type": "code",
   "execution_count": null,
   "id": "bb9e80dc",
   "metadata": {},
   "outputs": [],
   "source": []
  },
  {
   "cell_type": "code",
   "execution_count": 9,
   "id": "25b67739",
   "metadata": {
    "ExecuteTime": {
     "end_time": "2023-12-24T08:50:50.428037Z",
     "start_time": "2023-12-24T08:50:50.421424Z"
    }
   },
   "outputs": [],
   "source": [
    "pipeline_gpr = Pipeline([\n",
    "    (\"model\",\n",
    "         TransformedTargetRegressor(\n",
    "             regressor=GaussianProcessRegressor(\n",
    "                 kernel=1.0*RBF(),\n",
    "                 alpha=0.01\n",
    "             ),\n",
    "             func=np.log,\n",
    "             inverse_func=np.exp\n",
    "         )\n",
    "    )\n",
    "])"
   ]
  },
  {
   "cell_type": "code",
   "execution_count": 10,
   "id": "583ddfb2",
   "metadata": {
    "ExecuteTime": {
     "end_time": "2023-12-24T08:50:50.502628Z",
     "start_time": "2023-12-24T08:50:50.433108Z"
    }
   },
   "outputs": [
    {
     "data": {
      "text/html": [
       "<style>#sk-container-id-3 {color: black;}#sk-container-id-3 pre{padding: 0;}#sk-container-id-3 div.sk-toggleable {background-color: white;}#sk-container-id-3 label.sk-toggleable__label {cursor: pointer;display: block;width: 100%;margin-bottom: 0;padding: 0.3em;box-sizing: border-box;text-align: center;}#sk-container-id-3 label.sk-toggleable__label-arrow:before {content: \"▸\";float: left;margin-right: 0.25em;color: #696969;}#sk-container-id-3 label.sk-toggleable__label-arrow:hover:before {color: black;}#sk-container-id-3 div.sk-estimator:hover label.sk-toggleable__label-arrow:before {color: black;}#sk-container-id-3 div.sk-toggleable__content {max-height: 0;max-width: 0;overflow: hidden;text-align: left;background-color: #f0f8ff;}#sk-container-id-3 div.sk-toggleable__content pre {margin: 0.2em;color: black;border-radius: 0.25em;background-color: #f0f8ff;}#sk-container-id-3 input.sk-toggleable__control:checked~div.sk-toggleable__content {max-height: 200px;max-width: 100%;overflow: auto;}#sk-container-id-3 input.sk-toggleable__control:checked~label.sk-toggleable__label-arrow:before {content: \"▾\";}#sk-container-id-3 div.sk-estimator input.sk-toggleable__control:checked~label.sk-toggleable__label {background-color: #d4ebff;}#sk-container-id-3 div.sk-label input.sk-toggleable__control:checked~label.sk-toggleable__label {background-color: #d4ebff;}#sk-container-id-3 input.sk-hidden--visually {border: 0;clip: rect(1px 1px 1px 1px);clip: rect(1px, 1px, 1px, 1px);height: 1px;margin: -1px;overflow: hidden;padding: 0;position: absolute;width: 1px;}#sk-container-id-3 div.sk-estimator {font-family: monospace;background-color: #f0f8ff;border: 1px dotted black;border-radius: 0.25em;box-sizing: border-box;margin-bottom: 0.5em;}#sk-container-id-3 div.sk-estimator:hover {background-color: #d4ebff;}#sk-container-id-3 div.sk-parallel-item::after {content: \"\";width: 100%;border-bottom: 1px solid gray;flex-grow: 1;}#sk-container-id-3 div.sk-label:hover label.sk-toggleable__label {background-color: #d4ebff;}#sk-container-id-3 div.sk-serial::before {content: \"\";position: absolute;border-left: 1px solid gray;box-sizing: border-box;top: 0;bottom: 0;left: 50%;z-index: 0;}#sk-container-id-3 div.sk-serial {display: flex;flex-direction: column;align-items: center;background-color: white;padding-right: 0.2em;padding-left: 0.2em;position: relative;}#sk-container-id-3 div.sk-item {position: relative;z-index: 1;}#sk-container-id-3 div.sk-parallel {display: flex;align-items: stretch;justify-content: center;background-color: white;position: relative;}#sk-container-id-3 div.sk-item::before, #sk-container-id-3 div.sk-parallel-item::before {content: \"\";position: absolute;border-left: 1px solid gray;box-sizing: border-box;top: 0;bottom: 0;left: 50%;z-index: -1;}#sk-container-id-3 div.sk-parallel-item {display: flex;flex-direction: column;z-index: 1;position: relative;background-color: white;}#sk-container-id-3 div.sk-parallel-item:first-child::after {align-self: flex-end;width: 50%;}#sk-container-id-3 div.sk-parallel-item:last-child::after {align-self: flex-start;width: 50%;}#sk-container-id-3 div.sk-parallel-item:only-child::after {width: 0;}#sk-container-id-3 div.sk-dashed-wrapped {border: 1px dashed gray;margin: 0 0.4em 0.5em 0.4em;box-sizing: border-box;padding-bottom: 0.4em;background-color: white;}#sk-container-id-3 div.sk-label label {font-family: monospace;font-weight: bold;display: inline-block;line-height: 1.2em;}#sk-container-id-3 div.sk-label-container {text-align: center;}#sk-container-id-3 div.sk-container {/* jupyter's `normalize.less` sets `[hidden] { display: none; }` but bootstrap.min.css set `[hidden] { display: none !important; }` so we also need the `!important` here to be able to override the default hidden behavior on the sphinx rendered scikit-learn.org. See: https://github.com/scikit-learn/scikit-learn/issues/21755 */display: inline-block !important;position: relative;}#sk-container-id-3 div.sk-text-repr-fallback {display: none;}</style><div id=\"sk-container-id-3\" class=\"sk-top-container\"><div class=\"sk-text-repr-fallback\"><pre>Pipeline(steps=[(&#x27;model&#x27;,\n",
       "                 TransformedTargetRegressor(func=&lt;ufunc &#x27;log&#x27;&gt;,\n",
       "                                            inverse_func=&lt;ufunc &#x27;exp&#x27;&gt;,\n",
       "                                            regressor=GaussianProcessRegressor(alpha=0.01,\n",
       "                                                                               kernel=1**2 * RBF(length_scale=1))))])</pre><b>In a Jupyter environment, please rerun this cell to show the HTML representation or trust the notebook. <br />On GitHub, the HTML representation is unable to render, please try loading this page with nbviewer.org.</b></div><div class=\"sk-container\" hidden><div class=\"sk-item sk-dashed-wrapped\"><div class=\"sk-label-container\"><div class=\"sk-label sk-toggleable\"><input class=\"sk-toggleable__control sk-hidden--visually\" id=\"sk-estimator-id-9\" type=\"checkbox\" ><label for=\"sk-estimator-id-9\" class=\"sk-toggleable__label sk-toggleable__label-arrow\">Pipeline</label><div class=\"sk-toggleable__content\"><pre>Pipeline(steps=[(&#x27;model&#x27;,\n",
       "                 TransformedTargetRegressor(func=&lt;ufunc &#x27;log&#x27;&gt;,\n",
       "                                            inverse_func=&lt;ufunc &#x27;exp&#x27;&gt;,\n",
       "                                            regressor=GaussianProcessRegressor(alpha=0.01,\n",
       "                                                                               kernel=1**2 * RBF(length_scale=1))))])</pre></div></div></div><div class=\"sk-serial\"><div class=\"sk-item sk-dashed-wrapped\"><div class=\"sk-label-container\"><div class=\"sk-label sk-toggleable\"><input class=\"sk-toggleable__control sk-hidden--visually\" id=\"sk-estimator-id-10\" type=\"checkbox\" ><label for=\"sk-estimator-id-10\" class=\"sk-toggleable__label sk-toggleable__label-arrow\">model: TransformedTargetRegressor</label><div class=\"sk-toggleable__content\"><pre>TransformedTargetRegressor(func=&lt;ufunc &#x27;log&#x27;&gt;, inverse_func=&lt;ufunc &#x27;exp&#x27;&gt;,\n",
       "                           regressor=GaussianProcessRegressor(alpha=0.01,\n",
       "                                                              kernel=1**2 * RBF(length_scale=1)))</pre></div></div></div><div class=\"sk-parallel\"><div class=\"sk-parallel-item\"><div class=\"sk-item\"><div class=\"sk-label-container\"><div class=\"sk-label sk-toggleable\"><input class=\"sk-toggleable__control sk-hidden--visually\" id=\"sk-estimator-id-11\" type=\"checkbox\" ><label for=\"sk-estimator-id-11\" class=\"sk-toggleable__label sk-toggleable__label-arrow\">regressor: GaussianProcessRegressor</label><div class=\"sk-toggleable__content\"><pre>GaussianProcessRegressor(alpha=0.01, kernel=1**2 * RBF(length_scale=1))</pre></div></div></div><div class=\"sk-serial\"><div class=\"sk-item\"><div class=\"sk-estimator sk-toggleable\"><input class=\"sk-toggleable__control sk-hidden--visually\" id=\"sk-estimator-id-12\" type=\"checkbox\" ><label for=\"sk-estimator-id-12\" class=\"sk-toggleable__label sk-toggleable__label-arrow\">GaussianProcessRegressor</label><div class=\"sk-toggleable__content\"><pre>GaussianProcessRegressor(alpha=0.01, kernel=1**2 * RBF(length_scale=1))</pre></div></div></div></div></div></div></div></div></div></div></div></div>"
      ],
      "text/plain": [
       "Pipeline(steps=[('model',\n",
       "                 TransformedTargetRegressor(func=<ufunc 'log'>,\n",
       "                                            inverse_func=<ufunc 'exp'>,\n",
       "                                            regressor=GaussianProcessRegressor(alpha=0.01,\n",
       "                                                                               kernel=1**2 * RBF(length_scale=1))))])"
      ]
     },
     "execution_count": 10,
     "metadata": {},
     "output_type": "execute_result"
    }
   ],
   "source": [
    "pipeline_gpr.fit(x, yn)"
   ]
  },
  {
   "cell_type": "code",
   "execution_count": null,
   "id": "7e279e38",
   "metadata": {},
   "outputs": [],
   "source": []
  },
  {
   "cell_type": "code",
   "execution_count": 11,
   "id": "aa21dea9",
   "metadata": {
    "ExecuteTime": {
     "end_time": "2023-12-24T08:50:50.530327Z",
     "start_time": "2023-12-24T08:50:50.510274Z"
    }
   },
   "outputs": [],
   "source": [
    "xlin = np.linspace(-1, 1, 200).reshape(-1, 1)\n",
    "yh_lin = pipeline_lin.predict(xlin)\n",
    "yh_log = pipeline_log.predict(xlin)\n",
    "yh_gpr = pipeline_log.predict(xlin)"
   ]
  },
  {
   "cell_type": "code",
   "execution_count": 12,
   "id": "94919a41",
   "metadata": {
    "ExecuteTime": {
     "end_time": "2023-12-24T08:50:50.923224Z",
     "start_time": "2023-12-24T08:50:50.535788Z"
    }
   },
   "outputs": [
    {
     "data": {
      "image/png": "[encoded data removed]",
      "text/plain": [
       "<Figure size 640x480 with 1 Axes>"
      ]
     },
     "metadata": {},
     "output_type": "display_data"
    }
   ],
   "source": [
    "fig, axe = plt.subplots()\n",
    "axe.scatter(x, yn, marker=\".\", label=\"Data\")\n",
    "axe.plot(xlin, yh_lin, label=\"Linear\")\n",
    "axe.plot(xlin, yh_log, label=\"Log Linear\")\n",
    "axe.plot(xlin, yh_gpr, label=\"Log GPR\")\n",
    "axe.legend()\n",
    "axe.grid()"
   ]
  },
  {
   "cell_type": "code",
   "execution_count": 13,
   "id": "e615d229",
   "metadata": {
    "ExecuteTime": {
     "end_time": "2023-12-24T08:50:50.939532Z",
     "start_time": "2023-12-24T08:50:50.925951Z"
    }
   },
   "outputs": [
    {
     "data": {
      "text/plain": [
       "array([ 6.1298002 ,  6.27679911,  6.42141645,  6.56349365,  6.70288339,\n",
       "        6.83944982,  6.97306864,  7.1036271 ,  7.23102403,  7.35516966,\n",
       "        7.47598559,  7.5934045 ,  7.70736999,  7.81783627,  7.92476789,\n",
       "        8.02813934,  8.12793476,  8.22414749,  8.31677969,  8.40584193,\n",
       "        8.49135273,  8.57333811,  8.65183118,  8.72687164,  8.79850537,\n",
       "        8.86678394,  8.93176419,  8.9935078 ,  9.05208083,  9.10755331,\n",
       "        9.15999885,  9.20949424,  9.25611902,  9.29995519,  9.34108681,\n",
       "        9.37959966,  9.41558095,  9.449119  ,  9.48030295,  9.5092225 ,\n",
       "        9.53596764,  9.56062846,  9.58329488,  9.60405645,  9.62300221,\n",
       "        9.64022047,  9.65579866,  9.66982321,  9.68237941,  9.69355127,\n",
       "        9.70342146,  9.71207118,  9.71958012,  9.72602634,  9.73148626,\n",
       "        9.73603459,  9.73974429,  9.74268656,  9.74493077,  9.74654451,\n",
       "        9.74759353,  9.74814175,  9.7482513 ,  9.74798248,  9.74739381,\n",
       "        9.74654203,  9.74548214,  9.74426742,  9.74294947,  9.74157821,\n",
       "        9.74020199,  9.73886755,  9.73762013,  9.73650345,  9.73555983,\n",
       "        9.73483016,  9.73435403,  9.7341697 ,  9.73431423,  9.73482346,\n",
       "        9.73573213,  9.73707388,  9.73888133,  9.74118614,  9.74401906,\n",
       "        9.74740997,  9.75138797,  9.7559814 ,  9.76121791,  9.76712453,\n",
       "        9.77372772,  9.7810534 ,  9.78912706,  9.79797376,  9.80761822,\n",
       "        9.81808488,  9.82939795,  9.84158145,  9.85465931,  9.86865538,\n",
       "        9.88359353,  9.89949767,  9.91639187,  9.93430034,  9.95324758,\n",
       "        9.97325835,  9.99435783, 10.0165716 , 10.03992576, 10.06444697,\n",
       "       10.09016252, 10.11710043, 10.14528949, 10.17475933, 10.20554051,\n",
       "       10.23766463, 10.27116433, 10.30607344, 10.34242707, 10.38026163,\n",
       "       10.41961501, 10.46052661, 10.50303745, 10.54719032, 10.59302984,\n",
       "       10.64060258, 10.68995718, 10.74114451, 10.79421774, 10.8492325 ,\n",
       "       10.90624706, 10.96532241, 11.02652247, 11.08991424, 11.15556795,\n",
       "       11.2235573 , 11.2939596 , 11.366856  , 11.44233172, 11.52047622,\n",
       "       11.60138354, 11.68515248, 11.77188688, 11.86169597, 11.95469461,\n",
       "       12.05100366, 12.15075032, 12.25406847, 12.36109915, 12.47199089,\n",
       "       12.58690021, 12.70599211, 12.82944056, 12.95742907, 13.09015128,\n",
       "       13.22781156, 13.37062576, 13.51882185, 13.67264078, 13.83233726,\n",
       "       13.99818069, 14.17045613, 14.34946532, 14.53552784, 14.72898227,\n",
       "       14.93018756, 15.13952437, 15.35739664, 15.58423322, 15.82048963,\n",
       "       16.06665001, 16.32322919, 16.59077496, 16.86987047, 17.16113697,\n",
       "       17.46523664, 17.78287573, 18.11480799, 18.4618384 , 18.82482718,\n",
       "       19.20469424, 19.60242399, 20.01907062, 20.45576381, 20.91371508,\n",
       "       21.39422464, 21.89868901, 22.42860921, 22.98559997, 23.57139965,\n",
       "       24.18788127, 24.83706464, 25.52112967, 26.24243111, 27.0035148 ,\n",
       "       27.80713565, 28.6562775 , 29.55417511, 30.50433861, 31.51058056])"
      ]
     },
     "execution_count": 13,
     "metadata": {},
     "output_type": "execute_result"
    }
   ],
   "source": [
    "pipeline_log.fit(x, yn).predict(xlin)"
   ]
  },
  {
   "cell_type": "code",
   "execution_count": null,
   "id": "1d3093a5",
   "metadata": {},
   "outputs": [],
   "source": []
  }
 ],
 "metadata": {
  "hide_input": false,
  "kernelspec": {
   "display_name": "Python 3",
   "language": "python",
   "name": "python3"
  },
  "language_info": {
   "codemirror_mode": {
    "name": "ipython",
    "version": 3
   },
   "file_extension": ".py",
   "mimetype": "text/x-python",
   "name": "python",
   "nbconvert_exporter": "python",
   "pygments_lexer": "ipython3",
   "version": "3.10.6"
  },
  "toc": {
   "base_numbering": 1,
   "nav_menu": {},
   "number_sections": true,
   "sideBar": true,
   "skip_h1_title": false,
   "title_cell": "Table of Contents",
   "title_sidebar": "Contents",
   "toc_cell": false,
   "toc_position": {},
   "toc_section_display": true,
   "toc_window_display": false
  },
  "varInspector": {
   "cols": {
    "lenName": 16,
    "lenType": 16,
    "lenVar": 40
   },
   "kernels_config": {
    "python": {
     "delete_cmd_postfix": "",
     "delete_cmd_prefix": "del ",
     "library": "var_list.py",
     "varRefreshCmd": "print(var_dic_list())"
    },
    "r": {
     "delete_cmd_postfix": ") ",
     "delete_cmd_prefix": "rm(",
     "library": "var_list.r",
     "varRefreshCmd": "cat(var_dic_list()) "
    }
   },
   "types_to_exclude": [
    "module",
    "function",
    "builtin_function_or_method",
    "instance",
    "_Feature"
   ],
   "window_display": false
  }
 },
 "nbformat": 4,
 "nbformat_minor": 5
}
