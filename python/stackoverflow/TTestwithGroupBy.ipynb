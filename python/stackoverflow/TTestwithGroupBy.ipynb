{
 "cells": [
  {
   "cell_type": "code",
   "execution_count": 1,
   "metadata": {
    "ExecuteTime": {
     "end_time": "2021-04-10T06:54:25.760162Z",
     "start_time": "2021-04-10T06:54:24.575725Z"
    }
   },
   "outputs": [],
   "source": [
    "import io\n",
    "from scipy import stats\n",
    "import pandas as pd"
   ]
  },
  {
   "cell_type": "code",
   "execution_count": 2,
   "metadata": {
    "ExecuteTime": {
     "end_time": "2021-04-10T06:54:25.778114Z",
     "start_time": "2021-04-10T06:54:25.762461Z"
    }
   },
   "outputs": [],
   "source": [
    "s = \"\"\"id|usage_day|dow|tow|daily_avg\n",
    "c96|01/09/2020|Tuesday|week|393.07\n",
    "c96|02/09/2020|Wednesday|week|10.38\n",
    "c96|03/09/2020|Thursday|week|429.35\n",
    "c96|04/09/2020|Friday|week|156.20\n",
    "c96|05/09/2020|Saturday|weekend|346.22\n",
    "c96|06/09/2020|Sunday|weekend|106.53\n",
    "c96|08/09/2020|Tuesday|week|194.74\n",
    "c96|10/09/2020|Thursday|week|66.30\n",
    "c96|17/09/2020|Thursday|week|163.84\n",
    "c96|18/09/2020|Friday|week|261.81\n",
    "c96|19/09/2020|Saturday|weekend|410.30\n",
    "c96|20/09/2020|Sunday|weekend|266.28\n",
    "c96|23/09/2020|Wednesday|week|346.18\n",
    "c96|24/09/2020|Thursday|week|20.67\n",
    "c96|25/09/2020|Friday|week|222.23\n",
    "c96|26/09/2020|Saturday|weekend|449.84\n",
    "c96|27/09/2020|Sunday|weekend|438.47\n",
    "c96|28/09/2020|Monday|week|10.44\n",
    "c96|29/09/2020|Tuesday|week|293.59\n",
    "c96|30/09/2020|Wednesday|week|194.49\"\"\"\n",
    "df = pd.read_csv(io.StringIO(s), sep='|')"
   ]
  },
  {
   "cell_type": "code",
   "execution_count": 3,
   "metadata": {
    "ExecuteTime": {
     "end_time": "2021-04-10T06:54:25.788506Z",
     "start_time": "2021-04-10T06:54:25.780682Z"
    }
   },
   "outputs": [],
   "source": [
    "df2 = df.copy()\n",
    "df2['id'] = 'c97'\n",
    "df = pd.concat([df, df2])"
   ]
  },
  {
   "cell_type": "code",
   "execution_count": null,
   "metadata": {
    "ExecuteTime": {
     "end_time": "2020-10-12T11:29:21.937219Z",
     "start_time": "2020-10-12T11:29:21.919070Z"
    }
   },
   "outputs": [],
   "source": []
  },
  {
   "cell_type": "code",
   "execution_count": 4,
   "metadata": {
    "ExecuteTime": {
     "end_time": "2021-04-10T06:54:25.797850Z",
     "start_time": "2021-04-10T06:54:25.791339Z"
    }
   },
   "outputs": [],
   "source": [
    "def ttest(x):\n",
    "    g = x.groupby('tow').agg({'daily_avg': list})\n",
    "    r = stats.ttest_ind(g.loc['week', 'daily_avg'], g.loc['weekend', 'daily_avg'], equal_var=False)\n",
    "    s = {k: getattr(r, k) for k in r._fields}\n",
    "    return pd.Series(s)"
   ]
  },
  {
   "cell_type": "code",
   "execution_count": 5,
   "metadata": {
    "ExecuteTime": {
     "end_time": "2021-04-10T06:54:25.838951Z",
     "start_time": "2021-04-10T06:54:25.800284Z"
    }
   },
   "outputs": [
    {
     "name": "stdout",
     "output_type": "stream",
     "text": [
      "     statistic    pvalue\n",
      "id                      \n",
      "c96  -2.128753  0.059126\n",
      "c97  -2.128753  0.059126\n"
     ]
    }
   ],
   "source": [
    "T = df.groupby('id').apply(ttest)\n",
    "print(T)"
   ]
  },
  {
   "cell_type": "code",
   "execution_count": 6,
   "metadata": {
    "ExecuteTime": {
     "end_time": "2021-04-10T06:54:25.846176Z",
     "start_time": "2021-04-10T06:54:25.842261Z"
    }
   },
   "outputs": [],
   "source": [
    "def ttest(x, y):\n",
    "    return stats.ttest_ind(x, y, equal_var=False)"
   ]
  },
  {
   "cell_type": "code",
   "execution_count": 7,
   "metadata": {
    "ExecuteTime": {
     "end_time": "2021-04-10T06:54:25.857452Z",
     "start_time": "2021-04-10T06:54:25.850073Z"
    }
   },
   "outputs": [],
   "source": [
    "def apply_test(x, subgroup='tow', value='daily_avg', key1='week', key2='weekend', test=ttest):\n",
    "    g = x.groupby(subgroup).agg({value: list})\n",
    "    r = test(g.loc[key1, value], g.loc[key2, value])\n",
    "    return pd.Series({k: getattr(r, k) for k in r._fields})"
   ]
  },
  {
   "cell_type": "code",
   "execution_count": 8,
   "metadata": {
    "ExecuteTime": {
     "end_time": "2021-04-10T06:54:25.891163Z",
     "start_time": "2021-04-10T06:54:25.862600Z"
    }
   },
   "outputs": [],
   "source": [
    "T = df.groupby('id').apply(apply_test, subgroup='tow')"
   ]
  },
  {
   "cell_type": "code",
   "execution_count": 9,
   "metadata": {
    "ExecuteTime": {
     "end_time": "2021-04-10T06:54:44.343652Z",
     "start_time": "2021-04-10T06:54:44.312756Z"
    }
   },
   "outputs": [
    {
     "data": {
      "text/html": [
       "<div>\n",
       "<style scoped>\n",
       "    .dataframe tbody tr th:only-of-type {\n",
       "        vertical-align: middle;\n",
       "    }\n",
       "\n",
       "    .dataframe tbody tr th {\n",
       "        vertical-align: top;\n",
       "    }\n",
       "\n",
       "    .dataframe thead th {\n",
       "        text-align: right;\n",
       "    }\n",
       "</style>\n",
       "<table border=\"1\" class=\"dataframe\">\n",
       "  <thead>\n",
       "    <tr style=\"text-align: right;\">\n",
       "      <th></th>\n",
       "      <th>statistic</th>\n",
       "      <th>pvalue</th>\n",
       "    </tr>\n",
       "    <tr>\n",
       "      <th>id</th>\n",
       "      <th></th>\n",
       "      <th></th>\n",
       "    </tr>\n",
       "  </thead>\n",
       "  <tbody>\n",
       "    <tr>\n",
       "      <th>c96</th>\n",
       "      <td>-2.128753</td>\n",
       "      <td>0.059126</td>\n",
       "    </tr>\n",
       "    <tr>\n",
       "      <th>c97</th>\n",
       "      <td>-2.128753</td>\n",
       "      <td>0.059126</td>\n",
       "    </tr>\n",
       "  </tbody>\n",
       "</table>\n",
       "</div>"
      ],
      "text/plain": [
       "     statistic    pvalue\n",
       "id                      \n",
       "c96  -2.128753  0.059126\n",
       "c97  -2.128753  0.059126"
      ]
     },
     "execution_count": 9,
     "metadata": {},
     "output_type": "execute_result"
    }
   ],
   "source": [
    "T"
   ]
  },
  {
   "cell_type": "code",
   "execution_count": null,
   "metadata": {},
   "outputs": [],
   "source": []
  }
 ],
 "metadata": {
  "hide_input": false,
  "kernelspec": {
   "display_name": "Python 3",
   "language": "python",
   "name": "python3"
  },
  "language_info": {
   "codemirror_mode": {
    "name": "ipython",
    "version": 3
   },
   "file_extension": ".py",
   "mimetype": "text/x-python",
   "name": "python",
   "nbconvert_exporter": "python",
   "pygments_lexer": "ipython3",
   "version": "3.6.9"
  },
  "toc": {
   "base_numbering": 1,
   "nav_menu": {},
   "number_sections": true,
   "sideBar": true,
   "skip_h1_title": false,
   "title_cell": "Table of Contents",
   "title_sidebar": "Contents",
   "toc_cell": false,
   "toc_position": {},
   "toc_section_display": true,
   "toc_window_display": false
  },
  "varInspector": {
   "cols": {
    "lenName": 16,
    "lenType": 16,
    "lenVar": 40
   },
   "kernels_config": {
    "python": {
     "delete_cmd_postfix": "",
     "delete_cmd_prefix": "del ",
     "library": "var_list.py",
     "varRefreshCmd": "print(var_dic_list())"
    },
    "r": {
     "delete_cmd_postfix": ") ",
     "delete_cmd_prefix": "rm(",
     "library": "var_list.r",
     "varRefreshCmd": "cat(var_dic_list()) "
    }
   },
   "types_to_exclude": [
    "module",
    "function",
    "builtin_function_or_method",
    "instance",
    "_Feature"
   ],
   "window_display": false
  }
 },
 "nbformat": 4,
 "nbformat_minor": 4
}
