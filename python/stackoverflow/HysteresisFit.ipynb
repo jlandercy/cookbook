{
 "cells": [
  {
   "cell_type": "markdown",
   "id": "11de8d76",
   "metadata": {},
   "source": [
    "https://stackoverflow.com/questions/77684365/scipy-optimze-curve-fit-gives-a-high-standard-error-even-though-fit-seems-good"
   ]
  },
  {
   "cell_type": "code",
   "execution_count": 1,
   "id": "59a21c03",
   "metadata": {
    "ExecuteTime": {
     "end_time": "2023-12-19T18:01:29.621940Z",
     "start_time": "2023-12-19T18:01:27.774668Z"
    }
   },
   "outputs": [],
   "source": [
    "import numpy as np\n",
    "import pandas as pd\n",
    "import matplotlib.pyplot as plt\n",
    "from scipy import optimize"
   ]
  },
  {
   "cell_type": "code",
   "execution_count": 3,
   "id": "f35f2c37",
   "metadata": {
    "ExecuteTime": {
     "end_time": "2023-12-19T12:39:35.236451Z",
     "start_time": "2023-12-19T12:39:35.232875Z"
    }
   },
   "outputs": [],
   "source": [
    "def model(x, a, b):\n",
    "    return a * x + b"
   ]
  },
  {
   "cell_type": "code",
   "execution_count": 9,
   "id": "9be59ee0",
   "metadata": {
    "ExecuteTime": {
     "end_time": "2023-12-19T12:42:49.459670Z",
     "start_time": "2023-12-19T12:42:49.451581Z"
    }
   },
   "outputs": [],
   "source": [
    "np.random.seed(12345)\n",
    "x = np.linspace(-400, 400, 50)\n",
    "y = model(x, 1e-7, 2e-4)\n",
    "s = 1e-6 * np.ones_like(y)\n",
    "n = s * np.random.normal(size=y.size)\n",
    "yn = y + n"
   ]
  },
  {
   "cell_type": "code",
   "execution_count": 15,
   "id": "b0a97e92",
   "metadata": {
    "ExecuteTime": {
     "end_time": "2023-12-19T12:46:09.785167Z",
     "start_time": "2023-12-19T12:46:09.778277Z"
    }
   },
   "outputs": [
    {
     "data": {
      "text/plain": [
       "array([9.85820752e-08, 1.99948048e-04])"
      ]
     },
     "execution_count": 15,
     "metadata": {},
     "output_type": "execute_result"
    }
   ],
   "source": [
    "popt, pcov = optimize.curve_fit(model, x, yn, sigma=s, absolute_sigma=True)\n",
    "popt"
   ]
  },
  {
   "cell_type": "code",
   "execution_count": 16,
   "id": "91e13833",
   "metadata": {
    "ExecuteTime": {
     "end_time": "2023-12-19T12:46:18.285524Z",
     "start_time": "2023-12-19T12:46:18.279331Z"
    }
   },
   "outputs": [
    {
     "data": {
      "text/plain": [
       "array([6.00245055e-10, 1.41421356e-07])"
      ]
     },
     "execution_count": 16,
     "metadata": {},
     "output_type": "execute_result"
    }
   ],
   "source": [
    "np.sqrt(np.diag(pcov))"
   ]
  },
  {
   "cell_type": "code",
   "execution_count": null,
   "id": "bfe87e13",
   "metadata": {},
   "outputs": [],
   "source": []
  },
  {
   "cell_type": "code",
   "execution_count": null,
   "id": "b9e24cac",
   "metadata": {},
   "outputs": [],
   "source": []
  },
  {
   "cell_type": "code",
   "execution_count": 11,
   "id": "0df17438",
   "metadata": {
    "ExecuteTime": {
     "end_time": "2023-12-19T12:44:13.080305Z",
     "start_time": "2023-12-19T12:44:12.281364Z"
    }
   },
   "outputs": [
    {
     "data": {
      "text/plain": [
       "<matplotlib.collections.PathCollection at 0x7f80bf2af250>"
      ]
     },
     "execution_count": 11,
     "metadata": {},
     "output_type": "execute_result"
    },
    {
     "data": {
      "image/png": "[encoded data removed]",
      "text/plain": [
       "<Figure size 640x480 with 1 Axes>"
      ]
     },
     "metadata": {},
     "output_type": "display_data"
    }
   ],
   "source": [
    "fig, axe = plt.subplots()\n",
    "axe.scatter(x, yn)"
   ]
  },
  {
   "cell_type": "code",
   "execution_count": null,
   "id": "ac85d718",
   "metadata": {},
   "outputs": [],
   "source": []
  },
  {
   "cell_type": "code",
   "execution_count": 26,
   "id": "55465523",
   "metadata": {
    "ExecuteTime": {
     "end_time": "2023-12-19T18:18:09.960322Z",
     "start_time": "2023-12-19T18:18:09.953814Z"
    }
   },
   "outputs": [],
   "source": [
    "from sklearn.cluster import DBSCAN, HDBSCAN\n",
    "from sklearn.mixture import GaussianMixture"
   ]
  },
  {
   "cell_type": "code",
   "execution_count": null,
   "id": "f9363b32",
   "metadata": {},
   "outputs": [],
   "source": []
  },
  {
   "cell_type": "code",
   "execution_count": 6,
   "id": "2d9549fa",
   "metadata": {
    "ExecuteTime": {
     "end_time": "2023-12-19T18:04:07.751779Z",
     "start_time": "2023-12-19T18:04:07.738321Z"
    }
   },
   "outputs": [],
   "source": [
    "data = pd.read_csv(\"Hysteresis.txt\", sep=\"\\t\", header=None, names=[\"x\", \"y\", \"z\"])"
   ]
  },
  {
   "cell_type": "code",
   "execution_count": 7,
   "id": "d7cc774e",
   "metadata": {
    "ExecuteTime": {
     "end_time": "2023-12-19T18:04:34.653138Z",
     "start_time": "2023-12-19T18:04:34.624209Z"
    }
   },
   "outputs": [],
   "source": [
    "data[\"u\"] = data[\"z\"] / (2. * data[\"y\"])"
   ]
  },
  {
   "cell_type": "code",
   "execution_count": null,
   "id": "536e68ae",
   "metadata": {},
   "outputs": [],
   "source": []
  },
  {
   "cell_type": "code",
   "execution_count": 50,
   "id": "d9aec6ec",
   "metadata": {
    "ExecuteTime": {
     "end_time": "2023-12-19T18:21:17.926505Z",
     "start_time": "2023-12-19T18:21:17.921085Z"
    }
   },
   "outputs": [],
   "source": [
    "cluster = HDBSCAN(min_cluster_size=200, min_samples=30)"
   ]
  },
  {
   "cell_type": "code",
   "execution_count": 51,
   "id": "685a7ede",
   "metadata": {
    "ExecuteTime": {
     "end_time": "2023-12-19T18:21:18.388783Z",
     "start_time": "2023-12-19T18:21:18.341512Z"
    }
   },
   "outputs": [
    {
     "data": {
      "text/html": [
       "<style>#sk-container-id-7 {color: black;}#sk-container-id-7 pre{padding: 0;}#sk-container-id-7 div.sk-toggleable {background-color: white;}#sk-container-id-7 label.sk-toggleable__label {cursor: pointer;display: block;width: 100%;margin-bottom: 0;padding: 0.3em;box-sizing: border-box;text-align: center;}#sk-container-id-7 label.sk-toggleable__label-arrow:before {content: \"▸\";float: left;margin-right: 0.25em;color: #696969;}#sk-container-id-7 label.sk-toggleable__label-arrow:hover:before {color: black;}#sk-container-id-7 div.sk-estimator:hover label.sk-toggleable__label-arrow:before {color: black;}#sk-container-id-7 div.sk-toggleable__content {max-height: 0;max-width: 0;overflow: hidden;text-align: left;background-color: #f0f8ff;}#sk-container-id-7 div.sk-toggleable__content pre {margin: 0.2em;color: black;border-radius: 0.25em;background-color: #f0f8ff;}#sk-container-id-7 input.sk-toggleable__control:checked~div.sk-toggleable__content {max-height: 200px;max-width: 100%;overflow: auto;}#sk-container-id-7 input.sk-toggleable__control:checked~label.sk-toggleable__label-arrow:before {content: \"▾\";}#sk-container-id-7 div.sk-estimator input.sk-toggleable__control:checked~label.sk-toggleable__label {background-color: #d4ebff;}#sk-container-id-7 div.sk-label input.sk-toggleable__control:checked~label.sk-toggleable__label {background-color: #d4ebff;}#sk-container-id-7 input.sk-hidden--visually {border: 0;clip: rect(1px 1px 1px 1px);clip: rect(1px, 1px, 1px, 1px);height: 1px;margin: -1px;overflow: hidden;padding: 0;position: absolute;width: 1px;}#sk-container-id-7 div.sk-estimator {font-family: monospace;background-color: #f0f8ff;border: 1px dotted black;border-radius: 0.25em;box-sizing: border-box;margin-bottom: 0.5em;}#sk-container-id-7 div.sk-estimator:hover {background-color: #d4ebff;}#sk-container-id-7 div.sk-parallel-item::after {content: \"\";width: 100%;border-bottom: 1px solid gray;flex-grow: 1;}#sk-container-id-7 div.sk-label:hover label.sk-toggleable__label {background-color: #d4ebff;}#sk-container-id-7 div.sk-serial::before {content: \"\";position: absolute;border-left: 1px solid gray;box-sizing: border-box;top: 0;bottom: 0;left: 50%;z-index: 0;}#sk-container-id-7 div.sk-serial {display: flex;flex-direction: column;align-items: center;background-color: white;padding-right: 0.2em;padding-left: 0.2em;position: relative;}#sk-container-id-7 div.sk-item {position: relative;z-index: 1;}#sk-container-id-7 div.sk-parallel {display: flex;align-items: stretch;justify-content: center;background-color: white;position: relative;}#sk-container-id-7 div.sk-item::before, #sk-container-id-7 div.sk-parallel-item::before {content: \"\";position: absolute;border-left: 1px solid gray;box-sizing: border-box;top: 0;bottom: 0;left: 50%;z-index: -1;}#sk-container-id-7 div.sk-parallel-item {display: flex;flex-direction: column;z-index: 1;position: relative;background-color: white;}#sk-container-id-7 div.sk-parallel-item:first-child::after {align-self: flex-end;width: 50%;}#sk-container-id-7 div.sk-parallel-item:last-child::after {align-self: flex-start;width: 50%;}#sk-container-id-7 div.sk-parallel-item:only-child::after {width: 0;}#sk-container-id-7 div.sk-dashed-wrapped {border: 1px dashed gray;margin: 0 0.4em 0.5em 0.4em;box-sizing: border-box;padding-bottom: 0.4em;background-color: white;}#sk-container-id-7 div.sk-label label {font-family: monospace;font-weight: bold;display: inline-block;line-height: 1.2em;}#sk-container-id-7 div.sk-label-container {text-align: center;}#sk-container-id-7 div.sk-container {/* jupyter's `normalize.less` sets `[hidden] { display: none; }` but bootstrap.min.css set `[hidden] { display: none !important; }` so we also need the `!important` here to be able to override the default hidden behavior on the sphinx rendered scikit-learn.org. See: https://github.com/scikit-learn/scikit-learn/issues/21755 */display: inline-block !important;position: relative;}#sk-container-id-7 div.sk-text-repr-fallback {display: none;}</style><div id=\"sk-container-id-7\" class=\"sk-top-container\"><div class=\"sk-text-repr-fallback\"><pre>HDBSCAN(min_cluster_size=200, min_samples=30)</pre><b>In a Jupyter environment, please rerun this cell to show the HTML representation or trust the notebook. <br />On GitHub, the HTML representation is unable to render, please try loading this page with nbviewer.org.</b></div><div class=\"sk-container\" hidden><div class=\"sk-item\"><div class=\"sk-estimator sk-toggleable\"><input class=\"sk-toggleable__control sk-hidden--visually\" id=\"sk-estimator-id-7\" type=\"checkbox\" checked><label for=\"sk-estimator-id-7\" class=\"sk-toggleable__label sk-toggleable__label-arrow\">HDBSCAN</label><div class=\"sk-toggleable__content\"><pre>HDBSCAN(min_cluster_size=200, min_samples=30)</pre></div></div></div></div></div>"
      ],
      "text/plain": [
       "HDBSCAN(min_cluster_size=200, min_samples=30)"
      ]
     },
     "execution_count": 51,
     "metadata": {},
     "output_type": "execute_result"
    }
   ],
   "source": [
    "cluster.fit(data[[\"x\", \"u\"]])"
   ]
  },
  {
   "cell_type": "code",
   "execution_count": 52,
   "id": "4391b1b0",
   "metadata": {
    "ExecuteTime": {
     "end_time": "2023-12-19T18:21:18.460997Z",
     "start_time": "2023-12-19T18:21:18.457124Z"
    }
   },
   "outputs": [],
   "source": [
    "#labels = cluster.predict(data[[\"x\", \"u\"]])"
   ]
  },
  {
   "cell_type": "code",
   "execution_count": null,
   "id": "40ddedd1",
   "metadata": {
    "ExecuteTime": {
     "end_time": "2023-12-19T18:11:54.130067Z",
     "start_time": "2023-12-19T18:11:54.093813Z"
    }
   },
   "outputs": [],
   "source": []
  },
  {
   "cell_type": "code",
   "execution_count": null,
   "id": "358999e7",
   "metadata": {},
   "outputs": [],
   "source": []
  },
  {
   "cell_type": "code",
   "execution_count": null,
   "id": "19b2745f",
   "metadata": {},
   "outputs": [],
   "source": []
  },
  {
   "cell_type": "code",
   "execution_count": null,
   "id": "25751a00",
   "metadata": {},
   "outputs": [],
   "source": []
  },
  {
   "cell_type": "code",
   "execution_count": 53,
   "id": "a82e70ea",
   "metadata": {
    "ExecuteTime": {
     "end_time": "2023-12-19T18:21:19.813511Z",
     "start_time": "2023-12-19T18:21:19.055688Z"
    }
   },
   "outputs": [
    {
     "data": {
      "image/png": "[encoded data removed]",
      "text/plain": [
       "<Figure size 640x480 with 1 Axes>"
      ]
     },
     "metadata": {},
     "output_type": "display_data"
    }
   ],
   "source": [
    "fig, axe = plt.subplots()\n",
    "for i in range(28):\n",
    "    q = cluster.labels_ == i\n",
    "    axe.scatter(data.loc[q, \"x\"], data.loc[q, \"u\"], marker=\".\")"
   ]
  },
  {
   "cell_type": "code",
   "execution_count": null,
   "id": "a9d447fd",
   "metadata": {},
   "outputs": [],
   "source": []
  },
  {
   "cell_type": "code",
   "execution_count": null,
   "id": "153acfdf",
   "metadata": {},
   "outputs": [],
   "source": []
  }
 ],
 "metadata": {
  "hide_input": false,
  "kernelspec": {
   "display_name": "Python 3",
   "language": "python",
   "name": "python3"
  },
  "language_info": {
   "codemirror_mode": {
    "name": "ipython",
    "version": 3
   },
   "file_extension": ".py",
   "mimetype": "text/x-python",
   "name": "python",
   "nbconvert_exporter": "python",
   "pygments_lexer": "ipython3",
   "version": "3.10.6"
  },
  "toc": {
   "base_numbering": 1,
   "nav_menu": {},
   "number_sections": true,
   "sideBar": true,
   "skip_h1_title": false,
   "title_cell": "Table of Contents",
   "title_sidebar": "Contents",
   "toc_cell": false,
   "toc_position": {},
   "toc_section_display": true,
   "toc_window_display": false
  },
  "varInspector": {
   "cols": {
    "lenName": 16,
    "lenType": 16,
    "lenVar": 40
   },
   "kernels_config": {
    "python": {
     "delete_cmd_postfix": "",
     "delete_cmd_prefix": "del ",
     "library": "var_list.py",
     "varRefreshCmd": "print(var_dic_list())"
    },
    "r": {
     "delete_cmd_postfix": ") ",
     "delete_cmd_prefix": "rm(",
     "library": "var_list.r",
     "varRefreshCmd": "cat(var_dic_list()) "
    }
   },
   "types_to_exclude": [
    "module",
    "function",
    "builtin_function_or_method",
    "instance",
    "_Feature"
   ],
   "window_display": false
  }
 },
 "nbformat": 4,
 "nbformat_minor": 5
}
