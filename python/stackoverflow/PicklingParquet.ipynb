{
 "cells": [
  {
   "cell_type": "code",
   "execution_count": 1,
   "id": "73e5f40a",
   "metadata": {},
   "outputs": [],
   "source": [
    "import io\n",
    "from dataclasses import dataclass\n",
    "import pickle\n",
    "import numpy as np\n",
    "import pandas as pd"
   ]
  },
  {
   "cell_type": "code",
   "execution_count": null,
   "id": "ea6b3082",
   "metadata": {},
   "outputs": [],
   "source": []
  },
  {
   "cell_type": "markdown",
   "id": "15e161d6",
   "metadata": {},
   "source": [
    "https://stackoverflow.com/questions/79034526/performance-optimal-way-to-serialise-python-objects-containing-large-pandas-data"
   ]
  },
  {
   "cell_type": "code",
   "execution_count": 2,
   "id": "d17e5595",
   "metadata": {},
   "outputs": [],
   "source": [
    "@dataclass\n",
    "class MyWorld:\n",
    "    \n",
    "    array: np.ndarray\n",
    "    series: pd.Series\n",
    "    frame: pd.DataFrame"
   ]
  },
  {
   "cell_type": "code",
   "execution_count": 3,
   "id": "394354e7",
   "metadata": {},
   "outputs": [],
   "source": [
    "@dataclass\n",
    "class MyWorldParquet:\n",
    "    \n",
    "    array: np.ndarray\n",
    "    series: pd.Series\n",
    "    frame: pd.DataFrame\n",
    "        \n",
    "    def __getstate__(self):\n",
    "\n",
    "        for key, value in self.__annotations__.items():\n",
    "            \n",
    "            if value is np.ndarray:\n",
    "                self.__dict__[key] = pd.DataFrame({\"_\": self.__dict__[key]})\n",
    "            \n",
    "            if value is pd.Series:\n",
    "                self.__dict__[key] = self.__dict__[key].to_frame()\n",
    "        \n",
    "            stream = io.BytesIO()\n",
    "            self.__dict__[key].to_parquet(stream)\n",
    "            \n",
    "            self.__dict__[key] = stream\n",
    "        \n",
    "        return self.__dict__\n",
    "\n",
    "    def __setstate__(self, data):\n",
    "        \n",
    "        self.__dict__.update(data)\n",
    "        \n",
    "        for key, value in self.__annotations__.items():\n",
    "        \n",
    "            self.__dict__[key] = pd.read_parquet(self.__dict__[key])\n",
    "            \n",
    "            if value is np.ndarray:\n",
    "                self.__dict__[key] = self.__dict__[key][\"_\"].values\n",
    "            \n",
    "            if value is pd.Series:\n",
    "                self.__dict__[key] = self.__dict__[key][self.__dict__[key].columns[0]]\n",
    "        "
   ]
  },
  {
   "cell_type": "code",
   "execution_count": null,
   "id": "5601b60c",
   "metadata": {},
   "outputs": [],
   "source": []
  },
  {
   "cell_type": "code",
   "execution_count": 4,
   "id": "8be60913",
   "metadata": {},
   "outputs": [],
   "source": [
    "N = 5_000_000\n",
    "data = {\n",
    "    \"array\": np.random.normal(size=N),\n",
    "    \"series\": pd.Series(np.random.uniform(size=N), name=\"w\"),\n",
    "    \"frame\": pd.DataFrame({\n",
    "        \"c\": np.random.choice([\"label-1\", \"label-2\", \"label-3\"], size=N),\n",
    "        \"x\": np.random.uniform(size=N),\n",
    "        \"y\": np.random.normal(size=N)\n",
    "    })\n",
    "}"
   ]
  },
  {
   "cell_type": "code",
   "execution_count": null,
   "id": "686300dd",
   "metadata": {},
   "outputs": [],
   "source": []
  },
  {
   "cell_type": "code",
   "execution_count": 5,
   "id": "6dc751fc",
   "metadata": {},
   "outputs": [
    {
     "name": "stdout",
     "output_type": "stream",
     "text": [
      "1.57 s ± 162 ms per loop (mean ± std. dev. of 10 runs, 1 loop each)\n"
     ]
    }
   ],
   "source": [
    "%timeit -r 10 -n 1 pickle.dumps(MyWorld(**data))"
   ]
  },
  {
   "cell_type": "code",
   "execution_count": 6,
   "id": "a723a643",
   "metadata": {},
   "outputs": [
    {
     "name": "stdout",
     "output_type": "stream",
     "text": [
      "1.9 s ± 71.3 ms per loop (mean ± std. dev. of 10 runs, 1 loop each)\n"
     ]
    }
   ],
   "source": [
    "%timeit -r 10 -n 1 pickle.dumps(MyWorldParquet(**data))"
   ]
  },
  {
   "cell_type": "code",
   "execution_count": null,
   "id": "56ccebd1",
   "metadata": {},
   "outputs": [],
   "source": []
  },
  {
   "cell_type": "code",
   "execution_count": 7,
   "id": "dd908534",
   "metadata": {},
   "outputs": [
    {
     "data": {
      "text/plain": [
       "200.28876972198486"
      ]
     },
     "execution_count": 7,
     "metadata": {},
     "output_type": "execute_result"
    }
   ],
   "source": [
    "len(pickle.dumps(MyWorld(**data))) / 2 ** 20"
   ]
  },
  {
   "cell_type": "code",
   "execution_count": 8,
   "id": "55b759a6",
   "metadata": {},
   "outputs": [
    {
     "data": {
      "text/plain": [
       "159.13739013671875"
      ]
     },
     "execution_count": 8,
     "metadata": {},
     "output_type": "execute_result"
    }
   ],
   "source": [
    "len(pickle.dumps(MyWorldParquet(**data))) / 2 ** 20"
   ]
  },
  {
   "cell_type": "code",
   "execution_count": null,
   "id": "b45e6775",
   "metadata": {},
   "outputs": [],
   "source": []
  }
 ],
 "metadata": {
  "kernelspec": {
   "display_name": "Python 3 (ipykernel)",
   "language": "python",
   "name": "python3"
  },
  "language_info": {
   "codemirror_mode": {
    "name": "ipython",
    "version": 3
   },
   "file_extension": ".py",
   "mimetype": "text/x-python",
   "name": "python",
   "nbconvert_exporter": "python",
   "pygments_lexer": "ipython3",
   "version": "3.9.7"
  }
 },
 "nbformat": 4,
 "nbformat_minor": 5
}
