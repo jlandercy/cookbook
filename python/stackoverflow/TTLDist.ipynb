{
 "cells": [
  {
   "cell_type": "markdown",
   "id": "0973e040",
   "metadata": {},
   "source": [
    "https://stackoverflow.com/questions/73835742/finding-the-ideal-ttl-using-a-histogram"
   ]
  },
  {
   "cell_type": "code",
   "execution_count": 1,
   "id": "31354d82",
   "metadata": {
    "ExecuteTime": {
     "end_time": "2022-09-24T11:16:26.847023Z",
     "start_time": "2022-09-24T11:16:25.533012Z"
    }
   },
   "outputs": [],
   "source": [
    "import numpy as np\n",
    "from scipy import stats\n",
    "import matplotlib.pyplot as plt"
   ]
  },
  {
   "cell_type": "code",
   "execution_count": 2,
   "id": "88479e23",
   "metadata": {
    "ExecuteTime": {
     "end_time": "2022-09-24T11:16:26.856085Z",
     "start_time": "2022-09-24T11:16:26.850974Z"
    }
   },
   "outputs": [],
   "source": [
    "np.random.seed(123)"
   ]
  },
  {
   "cell_type": "code",
   "execution_count": 3,
   "id": "16abbc5a",
   "metadata": {
    "ExecuteTime": {
     "end_time": "2022-09-24T11:16:26.862993Z",
     "start_time": "2022-09-24T11:16:26.858995Z"
    }
   },
   "outputs": [],
   "source": [
    "X = stats.exponweib(a=3.05, c=0.95)"
   ]
  },
  {
   "cell_type": "code",
   "execution_count": 4,
   "id": "36b85dac",
   "metadata": {
    "ExecuteTime": {
     "end_time": "2022-09-24T11:16:26.871940Z",
     "start_time": "2022-09-24T11:16:26.866988Z"
    }
   },
   "outputs": [],
   "source": [
    "xcut = X.ppf(0.95)  # 4.408962640288286"
   ]
  },
  {
   "cell_type": "code",
   "execution_count": 5,
   "id": "b2623ffd",
   "metadata": {
    "ExecuteTime": {
     "end_time": "2022-09-24T11:16:26.880202Z",
     "start_time": "2022-09-24T11:16:26.874059Z"
    }
   },
   "outputs": [
    {
     "data": {
      "text/plain": [
       "0.95"
      ]
     },
     "execution_count": 5,
     "metadata": {},
     "output_type": "execute_result"
    }
   ],
   "source": [
    "X.cdf(xcut)"
   ]
  },
  {
   "cell_type": "code",
   "execution_count": 6,
   "id": "db44bf09",
   "metadata": {
    "ExecuteTime": {
     "end_time": "2022-09-24T11:16:26.885625Z",
     "start_time": "2022-09-24T11:16:26.882041Z"
    }
   },
   "outputs": [],
   "source": [
    "xlin = np.linspace(0, 10, 200)\n",
    "xclin = np.linspace(0, xcut, 200)"
   ]
  },
  {
   "cell_type": "code",
   "execution_count": 7,
   "id": "c3208de9",
   "metadata": {
    "ExecuteTime": {
     "end_time": "2022-09-24T11:16:27.159694Z",
     "start_time": "2022-09-24T11:16:26.887642Z"
    }
   },
   "outputs": [
    {
     "name": "stderr",
     "output_type": "stream",
     "text": [
      "/usr/local/lib/python3.6/dist-packages/scipy/stats/_continuous_distns.py:1678: RuntimeWarning: invalid value encountered in add\n",
      "  negxc + sc.xlogy(c - 1.0, x))\n",
      "/usr/local/lib/python3.6/dist-packages/scipy/stats/_continuous_distns.py:1678: RuntimeWarning: invalid value encountered in add\n",
      "  negxc + sc.xlogy(c - 1.0, x))\n"
     ]
    },
    {
     "data": {
      "image/png": "[encoded data removed]",
      "text/plain": [
       "<Figure size 432x288 with 1 Axes>"
      ]
     },
     "metadata": {
      "needs_background": "light"
     },
     "output_type": "display_data"
    }
   ],
   "source": [
    "fig, axe = plt.subplots()\n",
    "#axe.hist(x, bins=100, density=1.0, alpha=0.4, label=\"Dataset\")\n",
    "axe.plot(xlin, X.pdf(xlin), label=\"PDF\")\n",
    "axe.axvline(xcut, color=\"red\", label=\"Threshold\")\n",
    "axe.fill_between(xclin, 0, X.pdf(xclin), color=\"yellow\", alpha=0.5, label=\"95% Population\")\n",
    "axe.set_title(\"Frequency\")\n",
    "axe.set_xlabel(\"Variable [AU]\")\n",
    "axe.set_ylabel(\"Frequency [1/AU]\")\n",
    "axe.legend()\n",
    "axe.grid()"
   ]
  },
  {
   "cell_type": "code",
   "execution_count": 8,
   "id": "e75dccfe",
   "metadata": {
    "ExecuteTime": {
     "end_time": "2022-09-24T11:16:27.172224Z",
     "start_time": "2022-09-24T11:16:27.162170Z"
    }
   },
   "outputs": [],
   "source": [
    "X = stats.exponweib(a=3.05, c=0.95, loc=10, scale=2)\n",
    "x = X.rvs(size=10000).round()\n",
    "bins = np.arange(x.min(), x.max()+1)\n",
    "hist = np.histogram(x, bins=bins)"
   ]
  },
  {
   "cell_type": "code",
   "execution_count": 9,
   "id": "a355b72f",
   "metadata": {
    "ExecuteTime": {
     "end_time": "2022-09-24T11:16:27.181218Z",
     "start_time": "2022-09-24T11:16:27.176267Z"
    }
   },
   "outputs": [
    {
     "data": {
      "text/plain": [
       "array([ 128, 1368, 2045, 1840, 1507, 1089,  738,  437,  286,  197,  142,\n",
       "         77,   63,   36,   19,    8,    5,    2,    8,    3,    1,    0,\n",
       "          1])"
      ]
     },
     "execution_count": 9,
     "metadata": {},
     "output_type": "execute_result"
    }
   ],
   "source": [
    "hist[0]"
   ]
  },
  {
   "cell_type": "code",
   "execution_count": 10,
   "id": "cefcf656",
   "metadata": {
    "ExecuteTime": {
     "end_time": "2022-09-24T11:16:27.188927Z",
     "start_time": "2022-09-24T11:16:27.183643Z"
    }
   },
   "outputs": [
    {
     "data": {
      "text/plain": [
       "array([10., 11., 12., 13., 14., 15., 16., 17., 18., 19., 20., 21., 22.,\n",
       "       23., 24., 25., 26., 27., 28., 29., 30., 31., 32., 33.])"
      ]
     },
     "execution_count": 10,
     "metadata": {},
     "output_type": "execute_result"
    }
   ],
   "source": [
    "hist[1]"
   ]
  },
  {
   "cell_type": "code",
   "execution_count": null,
   "id": "8696099b",
   "metadata": {
    "ExecuteTime": {
     "end_time": "2022-09-24T10:03:12.753100Z",
     "start_time": "2022-09-24T10:03:12.746567Z"
    }
   },
   "outputs": [],
   "source": []
  },
  {
   "cell_type": "code",
   "execution_count": 11,
   "id": "27ba6b9e",
   "metadata": {
    "ExecuteTime": {
     "end_time": "2022-09-24T11:16:27.197840Z",
     "start_time": "2022-09-24T11:16:27.191031Z"
    }
   },
   "outputs": [
    {
     "data": {
      "text/plain": [
       "19.31472081218274"
      ]
     },
     "execution_count": 11,
     "metadata": {},
     "output_type": "execute_result"
    }
   ],
   "source": [
    "dist = stats.rv_histogram(hist)\n",
    "xcut = dist.ppf(0.95)            # 19.132978723404246\n",
    "xcut"
   ]
  },
  {
   "cell_type": "code",
   "execution_count": 12,
   "id": "d4e3f0bc",
   "metadata": {
    "ExecuteTime": {
     "end_time": "2022-09-24T11:16:27.205894Z",
     "start_time": "2022-09-24T11:16:27.199952Z"
    }
   },
   "outputs": [
    {
     "data": {
      "text/plain": [
       "0.9635"
      ]
     },
     "execution_count": 12,
     "metadata": {},
     "output_type": "execute_result"
    }
   ],
   "source": [
    "dist.cdf(19)  # 0.9475000000000001\n",
    "dist.cdf(20)  # 0.9663000000000002"
   ]
  },
  {
   "cell_type": "code",
   "execution_count": null,
   "id": "58b6488a",
   "metadata": {},
   "outputs": [],
   "source": []
  },
  {
   "cell_type": "code",
   "execution_count": 13,
   "id": "b7b2873b",
   "metadata": {
    "ExecuteTime": {
     "end_time": "2022-09-24T11:16:27.213167Z",
     "start_time": "2022-09-24T11:16:27.208277Z"
    }
   },
   "outputs": [
    {
     "data": {
      "text/plain": [
       "19.31472081218274"
      ]
     },
     "execution_count": 13,
     "metadata": {},
     "output_type": "execute_result"
    }
   ],
   "source": [
    "xcut"
   ]
  },
  {
   "cell_type": "code",
   "execution_count": 16,
   "id": "6d5958be",
   "metadata": {
    "ExecuteTime": {
     "end_time": "2022-09-24T11:16:35.136397Z",
     "start_time": "2022-09-24T11:16:35.131651Z"
    }
   },
   "outputs": [],
   "source": [
    "xlin = np.linspace(x.min(), x.max(), 200)\n",
    "xclin = np.linspace(x.min(), xcut, 200)"
   ]
  },
  {
   "cell_type": "code",
   "execution_count": 17,
   "id": "2f144f8d",
   "metadata": {
    "ExecuteTime": {
     "end_time": "2022-09-24T11:16:36.007039Z",
     "start_time": "2022-09-24T11:16:35.609871Z"
    }
   },
   "outputs": [
    {
     "data": {
      "image/png": "[encoded data removed]",
      "text/plain": [
       "<Figure size 432x288 with 1 Axes>"
      ]
     },
     "metadata": {
      "needs_background": "light"
     },
     "output_type": "display_data"
    }
   ],
   "source": [
    "fig, axe = plt.subplots()\n",
    "axe.hist(x, bins=bins, density=1.0, alpha=0.4, label=\"Dataset\")\n",
    "axe.axvline(xcut, color=\"red\", label=\"TTL Cut\")\n",
    "axe.fill_between(xclin, 0, dist.pdf(xclin), color=\"yellow\", alpha=0.5, label=\"95% Population\")\n",
    "axe.set_title(\"TTL Frequency\")\n",
    "axe.set_xlabel(\"Router Hop [-]\")\n",
    "axe.set_ylabel(\"Frequency [-]\")\n",
    "axe.legend()\n",
    "axe.grid()"
   ]
  },
  {
   "cell_type": "code",
   "execution_count": null,
   "id": "06546fa0",
   "metadata": {},
   "outputs": [],
   "source": []
  },
  {
   "cell_type": "code",
   "execution_count": null,
   "id": "8a9c003e",
   "metadata": {},
   "outputs": [],
   "source": []
  },
  {
   "cell_type": "code",
   "execution_count": null,
   "id": "47de762a",
   "metadata": {},
   "outputs": [],
   "source": []
  },
  {
   "cell_type": "code",
   "execution_count": null,
   "id": "f0f6dc50",
   "metadata": {},
   "outputs": [],
   "source": []
  }
 ],
 "metadata": {
  "hide_input": false,
  "kernelspec": {
   "display_name": "Python 3",
   "language": "python",
   "name": "python3"
  },
  "language_info": {
   "codemirror_mode": {
    "name": "ipython",
    "version": 3
   },
   "file_extension": ".py",
   "mimetype": "text/x-python",
   "name": "python",
   "nbconvert_exporter": "python",
   "pygments_lexer": "ipython3",
   "version": "3.6.9"
  },
  "toc": {
   "base_numbering": 1,
   "nav_menu": {},
   "number_sections": true,
   "sideBar": true,
   "skip_h1_title": false,
   "title_cell": "Table of Contents",
   "title_sidebar": "Contents",
   "toc_cell": false,
   "toc_position": {},
   "toc_section_display": true,
   "toc_window_display": false
  },
  "varInspector": {
   "cols": {
    "lenName": 16,
    "lenType": 16,
    "lenVar": 40
   },
   "kernels_config": {
    "python": {
     "delete_cmd_postfix": "",
     "delete_cmd_prefix": "del ",
     "library": "var_list.py",
     "varRefreshCmd": "print(var_dic_list())"
    },
    "r": {
     "delete_cmd_postfix": ") ",
     "delete_cmd_prefix": "rm(",
     "library": "var_list.r",
     "varRefreshCmd": "cat(var_dic_list()) "
    }
   },
   "types_to_exclude": [
    "module",
    "function",
    "builtin_function_or_method",
    "instance",
    "_Feature"
   ],
   "window_display": false
  }
 },
 "nbformat": 4,
 "nbformat_minor": 5
}
