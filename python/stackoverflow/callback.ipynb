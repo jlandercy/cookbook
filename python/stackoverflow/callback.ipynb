{
 "cells": [
  {
   "cell_type": "code",
   "execution_count": 1,
   "id": "ea33a756",
   "metadata": {
    "ExecuteTime": {
     "end_time": "2024-03-15T13:04:09.833546Z",
     "start_time": "2024-03-15T13:04:09.233302Z"
    }
   },
   "outputs": [],
   "source": [
    "import numpy as np\n",
    "import scipy\n",
    "from scipy import optimize"
   ]
  },
  {
   "cell_type": "code",
   "execution_count": 2,
   "id": "9245c475",
   "metadata": {
    "ExecuteTime": {
     "end_time": "2024-03-15T13:04:09.856443Z",
     "start_time": "2024-03-15T13:04:09.837786Z"
    }
   },
   "outputs": [
    {
     "data": {
      "text/plain": [
       "'1.12.0'"
      ]
     },
     "execution_count": 2,
     "metadata": {},
     "output_type": "execute_result"
    }
   ],
   "source": [
    "scipy.__version__"
   ]
  },
  {
   "cell_type": "code",
   "execution_count": null,
   "id": "40efb64f",
   "metadata": {},
   "outputs": [],
   "source": []
  },
  {
   "cell_type": "code",
   "execution_count": null,
   "id": "cbfb0fe3",
   "metadata": {},
   "outputs": [],
   "source": []
  },
  {
   "cell_type": "code",
   "execution_count": null,
   "id": "5ed8cb5d",
   "metadata": {},
   "outputs": [],
   "source": []
  },
  {
   "cell_type": "code",
   "execution_count": null,
   "id": "df6f0f9f",
   "metadata": {},
   "outputs": [],
   "source": []
  },
  {
   "cell_type": "code",
   "execution_count": 3,
   "id": "7c055823",
   "metadata": {
    "ExecuteTime": {
     "end_time": "2024-03-15T13:04:09.863097Z",
     "start_time": "2024-03-15T13:04:09.859640Z"
    }
   },
   "outputs": [],
   "source": [
    "def callback(intermediate_result):\n",
    "    if intermediate_result.fun < 0.5:\n",
    "        raise StopIteration\n"
   ]
  },
  {
   "cell_type": "code",
   "execution_count": 4,
   "id": "8ff1b62b",
   "metadata": {
    "ExecuteTime": {
     "end_time": "2024-03-15T13:04:09.888468Z",
     "start_time": "2024-03-15T13:04:09.866957Z"
    }
   },
   "outputs": [
    {
     "data": {
      "text/plain": [
       "       message: `callback` raised `StopIteration`.\n",
       "       success: False\n",
       "        status: 99\n",
       "           fun: 0.4281196937835328\n",
       "             x: [ 8.286e-01  6.800e-01  4.751e-01  2.273e-01]\n",
       "           nit: 123\n",
       "          nfev: 206\n",
       " final_simplex: (array([[ 8.286e-01,  6.800e-01,  4.751e-01,  2.273e-01],\n",
       "                       [ 8.553e-01,  7.215e-01,  4.846e-01,  2.213e-01],\n",
       "                       ...,\n",
       "                       [ 8.225e-01,  6.929e-01,  4.793e-01,  1.920e-01],\n",
       "                       [ 7.642e-01,  5.868e-01,  3.534e-01,  1.347e-01]]), array([ 4.281e-01,  5.220e-01,  5.584e-01,  5.659e-01,\n",
       "                        6.631e-01]))"
      ]
     },
     "execution_count": 4,
     "metadata": {},
     "output_type": "execute_result"
    }
   ],
   "source": [
    "optimize.minimize(optimize.rosen, x0=[0, 0, 0, 0], method='Nelder-Mead', tol=1e-6, callback=callback)"
   ]
  },
  {
   "cell_type": "code",
   "execution_count": null,
   "id": "268b74cf",
   "metadata": {},
   "outputs": [],
   "source": []
  }
 ],
 "metadata": {
  "hide_input": false,
  "kernelspec": {
   "display_name": "Python 3",
   "language": "python",
   "name": "python3"
  },
  "language_info": {
   "codemirror_mode": {
    "name": "ipython",
    "version": 3
   },
   "file_extension": ".py",
   "mimetype": "text/x-python",
   "name": "python",
   "nbconvert_exporter": "python",
   "pygments_lexer": "ipython3",
   "version": "3.10.6"
  },
  "toc": {
   "base_numbering": 1,
   "nav_menu": {},
   "number_sections": true,
   "sideBar": true,
   "skip_h1_title": false,
   "title_cell": "Table of Contents",
   "title_sidebar": "Contents",
   "toc_cell": false,
   "toc_position": {},
   "toc_section_display": true,
   "toc_window_display": false
  },
  "varInspector": {
   "cols": {
    "lenName": 16,
    "lenType": 16,
    "lenVar": 40
   },
   "kernels_config": {
    "python": {
     "delete_cmd_postfix": "",
     "delete_cmd_prefix": "del ",
     "library": "var_list.py",
     "varRefreshCmd": "print(var_dic_list())"
    },
    "r": {
     "delete_cmd_postfix": ") ",
     "delete_cmd_prefix": "rm(",
     "library": "var_list.r",
     "varRefreshCmd": "cat(var_dic_list()) "
    }
   },
   "types_to_exclude": [
    "module",
    "function",
    "builtin_function_or_method",
    "instance",
    "_Feature"
   ],
   "window_display": false
  }
 },
 "nbformat": 4,
 "nbformat_minor": 5
}
