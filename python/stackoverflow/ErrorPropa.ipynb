{
 "cells": [
  {
   "cell_type": "code",
   "execution_count": 1,
   "id": "c1327532",
   "metadata": {
    "ExecuteTime": {
     "end_time": "2024-04-07T08:43:15.566993Z",
     "start_time": "2024-04-07T08:43:13.598987Z"
    }
   },
   "outputs": [],
   "source": [
    "import numpy as np\n",
    "import numdifftools as nd\n",
    "import matplotlib.pyplot as plt\n",
    "from scipy import optimize, stats"
   ]
  },
  {
   "cell_type": "markdown",
   "id": "57a5884a",
   "metadata": {},
   "source": [
    "https://stackoverflow.com/questions/78284568/how-do-i-find-the-standard-deviation-of-the-original-data-with-my-optimal-curve"
   ]
  },
  {
   "cell_type": "code",
   "execution_count": 2,
   "id": "9d248531",
   "metadata": {
    "ExecuteTime": {
     "end_time": "2024-04-07T08:43:15.581665Z",
     "start_time": "2024-04-07T08:43:15.575027Z"
    }
   },
   "outputs": [],
   "source": [
    "def model(x, a, b):\n",
    "    return a * x + b"
   ]
  },
  {
   "cell_type": "code",
   "execution_count": 3,
   "id": "e86c6c3e",
   "metadata": {
    "ExecuteTime": {
     "end_time": "2024-04-07T08:43:15.602513Z",
     "start_time": "2024-04-07T08:43:15.586930Z"
    }
   },
   "outputs": [],
   "source": [
    "np.random.seed(12345)\n",
    "x = np.linspace(-1, 1, 30)\n",
    "p = (2., 3.)\n",
    "y = model(x, *p)\n",
    "s = 0.25 * np.ones_like(y)\n",
    "n = s * np.random.normal(size=y.size)\n",
    "yn = y + n"
   ]
  },
  {
   "cell_type": "code",
   "execution_count": 4,
   "id": "da52cf88",
   "metadata": {
    "ExecuteTime": {
     "end_time": "2024-04-07T08:43:15.648515Z",
     "start_time": "2024-04-07T08:43:15.608695Z"
    }
   },
   "outputs": [
    {
     "data": {
      "text/plain": [
       "(array([2.00095541, 3.08452241]),\n",
       " array([[5.84677424e-03, 1.04805847e-11],\n",
       "        [1.04805847e-11, 2.08333335e-03]]))"
      ]
     },
     "execution_count": 4,
     "metadata": {},
     "output_type": "execute_result"
    }
   ],
   "source": [
    "popt, pcov = optimize.curve_fit(model, x, yn, sigma=s, absolute_sigma=True)\n",
    "popt, pcov"
   ]
  },
  {
   "cell_type": "code",
   "execution_count": 5,
   "id": "e8aacb3c",
   "metadata": {
    "ExecuteTime": {
     "end_time": "2024-04-07T08:43:15.669954Z",
     "start_time": "2024-04-07T08:43:15.653943Z"
    }
   },
   "outputs": [],
   "source": [
    "yhat = model(x, *popt)"
   ]
  },
  {
   "cell_type": "code",
   "execution_count": 15,
   "id": "31e683b5",
   "metadata": {
    "ExecuteTime": {
     "end_time": "2024-04-07T08:46:52.305796Z",
     "start_time": "2024-04-07T08:46:52.295280Z"
    }
   },
   "outputs": [],
   "source": [
    "def error(x, p, Cp):\n",
    "    \n",
    "    def proxy(r):\n",
    "        return model(x, *r)\n",
    "    \n",
    "    gradient = nd.Gradient(proxy)\n",
    "    \n",
    "    def propagation(J):\n",
    "        return J @ Cp @ J.T\n",
    "    \n",
    "    Cy = np.apply_along_axis(propagation, 1, gradient(p))\n",
    "    sy = np.sqrt(Cy)\n",
    "    \n",
    "    return sy"
   ]
  },
  {
   "cell_type": "code",
   "execution_count": null,
   "id": "12a5f19c",
   "metadata": {},
   "outputs": [],
   "source": []
  },
  {
   "cell_type": "code",
   "execution_count": 6,
   "id": "cb69c56f",
   "metadata": {
    "ExecuteTime": {
     "end_time": "2024-04-07T08:43:15.696418Z",
     "start_time": "2024-04-07T08:43:15.677841Z"
    }
   },
   "outputs": [],
   "source": [
    "def proxy(x):\n",
    "    def wrapped(p):\n",
    "        return model(x, *p)\n",
    "    return wrapped"
   ]
  },
  {
   "cell_type": "code",
   "execution_count": 7,
   "id": "e296fcdb",
   "metadata": {
    "ExecuteTime": {
     "end_time": "2024-04-07T08:43:15.712182Z",
     "start_time": "2024-04-07T08:43:15.701735Z"
    }
   },
   "outputs": [],
   "source": [
    "grad = nd.Gradient(proxy(x))"
   ]
  },
  {
   "cell_type": "code",
   "execution_count": 8,
   "id": "41efed8c",
   "metadata": {
    "ExecuteTime": {
     "end_time": "2024-04-07T08:43:15.723300Z",
     "start_time": "2024-04-07T08:43:15.714598Z"
    }
   },
   "outputs": [],
   "source": [
    "def error(J, C=pcov):\n",
    "    return J @ C @ J.T"
   ]
  },
  {
   "cell_type": "code",
   "execution_count": 9,
   "id": "679c8978",
   "metadata": {
    "ExecuteTime": {
     "end_time": "2024-04-07T08:43:15.753266Z",
     "start_time": "2024-04-07T08:43:15.726079Z"
    }
   },
   "outputs": [],
   "source": [
    "Cy = np.apply_along_axis(error, 1, grad(popt))"
   ]
  },
  {
   "cell_type": "code",
   "execution_count": 10,
   "id": "8276c968",
   "metadata": {
    "ExecuteTime": {
     "end_time": "2024-04-07T08:43:15.769402Z",
     "start_time": "2024-04-07T08:43:15.764953Z"
    }
   },
   "outputs": [],
   "source": [
    "sy = np.sqrt(Cy)"
   ]
  },
  {
   "cell_type": "code",
   "execution_count": null,
   "id": "9e64a7ae",
   "metadata": {
    "ExecuteTime": {
     "end_time": "2024-04-07T08:47:10.358180Z",
     "start_time": "2024-04-07T08:47:10.346292Z"
    }
   },
   "outputs": [],
   "source": []
  },
  {
   "cell_type": "code",
   "execution_count": 22,
   "id": "35e65d21",
   "metadata": {
    "ExecuteTime": {
     "end_time": "2024-04-07T08:53:02.086324Z",
     "start_time": "2024-04-07T08:53:01.664580Z"
    }
   },
   "outputs": [
    {
     "data": {
      "text/plain": [
       "array([0.08905115, 0.08456633, 0.08017755, 0.07590145, 0.0717582 ,\n",
       "       0.06777217, 0.06397273, 0.06039513, 0.05708108, 0.05407907,\n",
       "       0.05144375, 0.04923403, 0.04750934, 0.04632389, 0.04571964,\n",
       "       0.04571964, 0.04632389, 0.04750934, 0.04923403, 0.05144375,\n",
       "       0.05407907, 0.05708108, 0.06039513, 0.06397273, 0.06777217,\n",
       "       0.0717582 , 0.07590145, 0.08017755, 0.08456633, 0.08905115])"
      ]
     },
     "execution_count": 22,
     "metadata": {},
     "output_type": "execute_result"
    }
   ],
   "source": [
    "sy = error(x, popt, pcov)\n",
    "sy"
   ]
  },
  {
   "cell_type": "code",
   "execution_count": null,
   "id": "d2e40a9d",
   "metadata": {},
   "outputs": [],
   "source": []
  },
  {
   "cell_type": "code",
   "execution_count": null,
   "id": "030e60c5",
   "metadata": {
    "ExecuteTime": {
     "end_time": "2024-04-07T08:43:15.783935Z",
     "start_time": "2024-04-07T08:43:15.776820Z"
    }
   },
   "outputs": [],
   "source": []
  },
  {
   "cell_type": "code",
   "execution_count": null,
   "id": "0b4fe54b",
   "metadata": {
    "ExecuteTime": {
     "end_time": "2024-04-07T08:43:22.669534Z",
     "start_time": "2024-04-07T08:43:22.661526Z"
    }
   },
   "outputs": [],
   "source": []
  },
  {
   "cell_type": "code",
   "execution_count": null,
   "id": "4a7cbc28",
   "metadata": {},
   "outputs": [],
   "source": []
  },
  {
   "cell_type": "code",
   "execution_count": 21,
   "id": "4c3fcd77",
   "metadata": {
    "ExecuteTime": {
     "end_time": "2024-04-07T08:47:54.350642Z",
     "start_time": "2024-04-07T08:47:51.456240Z"
    }
   },
   "outputs": [
    {
     "data": {
      "image/png": "[encoded data removed]",
      "text/plain": [
       "<Figure size 640x480 with 1 Axes>"
      ]
     },
     "metadata": {},
     "output_type": "display_data"
    }
   ],
   "source": [
    "fig, axe = plt.subplots()\n",
    "axe.scatter(x, yn)\n",
    "axe.plot(x, yhat)\n",
    "axe.plot(x, yhat + 3 * sy, \"--\", color=\"k\")\n",
    "axe.plot(x, yhat - 3 * sy, \"--\", color=\"k\")\n",
    "axe.grid()"
   ]
  },
  {
   "cell_type": "code",
   "execution_count": null,
   "id": "db265379",
   "metadata": {},
   "outputs": [],
   "source": []
  },
  {
   "cell_type": "code",
   "execution_count": null,
   "id": "e4194bbc",
   "metadata": {},
   "outputs": [],
   "source": []
  }
 ],
 "metadata": {
  "hide_input": false,
  "kernelspec": {
   "display_name": "Python 3",
   "language": "python",
   "name": "python3"
  },
  "language_info": {
   "codemirror_mode": {
    "name": "ipython",
    "version": 3
   },
   "file_extension": ".py",
   "mimetype": "text/x-python",
   "name": "python",
   "nbconvert_exporter": "python",
   "pygments_lexer": "ipython3",
   "version": "3.10.6"
  },
  "toc": {
   "base_numbering": 1,
   "nav_menu": {},
   "number_sections": true,
   "sideBar": true,
   "skip_h1_title": false,
   "title_cell": "Table of Contents",
   "title_sidebar": "Contents",
   "toc_cell": false,
   "toc_position": {},
   "toc_section_display": true,
   "toc_window_display": false
  },
  "varInspector": {
   "cols": {
    "lenName": 16,
    "lenType": 16,
    "lenVar": 40
   },
   "kernels_config": {
    "python": {
     "delete_cmd_postfix": "",
     "delete_cmd_prefix": "del ",
     "library": "var_list.py",
     "varRefreshCmd": "print(var_dic_list())"
    },
    "r": {
     "delete_cmd_postfix": ") ",
     "delete_cmd_prefix": "rm(",
     "library": "var_list.r",
     "varRefreshCmd": "cat(var_dic_list()) "
    }
   },
   "types_to_exclude": [
    "module",
    "function",
    "builtin_function_or_method",
    "instance",
    "_Feature"
   ],
   "window_display": false
  }
 },
 "nbformat": 4,
 "nbformat_minor": 5
}
