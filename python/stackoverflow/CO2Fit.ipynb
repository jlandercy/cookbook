{
 "cells": [
  {
   "cell_type": "code",
   "execution_count": 1,
   "id": "848292f3",
   "metadata": {},
   "outputs": [],
   "source": [
    "import numpy as np\n",
    "import pandas as pd\n",
    "import matplotlib.pyplot as plt\n",
    "from scipy import optimize"
   ]
  },
  {
   "cell_type": "markdown",
   "id": "2834a77c",
   "metadata": {},
   "source": [
    " - https://stackoverflow.com/questions/79447135/trying-to-create-predicted-curves-of-co2-using-observed-data-and-using-a-non-lin\n",
    " - https://gml.noaa.gov/ccgg/trends/data.html"
   ]
  },
  {
   "cell_type": "code",
   "execution_count": null,
   "id": "6a5d39b7",
   "metadata": {},
   "outputs": [],
   "source": []
  },
  {
   "cell_type": "code",
   "execution_count": 48,
   "id": "55640133",
   "metadata": {},
   "outputs": [],
   "source": [
    "data = pd.read_csv(\"https://gml.noaa.gov/webdata/ccgg/trends/co2/co2_weekly_mlo.csv\", header=35)\n",
    "data = data.replace({-999.99: None}).dropna(subset=\"average\")\n",
    "data = data.astype(float)"
   ]
  },
  {
   "cell_type": "code",
   "execution_count": null,
   "id": "e30ab262",
   "metadata": {},
   "outputs": [],
   "source": []
  },
  {
   "cell_type": "code",
   "execution_count": 49,
   "id": "a2eb8bd5",
   "metadata": {},
   "outputs": [],
   "source": [
    "def model(t, a, b, c, A, omega, phi):\n",
    "    return a * t ** 2 + b * t + c + A * np.sin(2 * np.pi * omega * t + phi)"
   ]
  },
  {
   "cell_type": "code",
   "execution_count": null,
   "id": "a0f08cd3",
   "metadata": {},
   "outputs": [],
   "source": []
  },
  {
   "cell_type": "code",
   "execution_count": 63,
   "id": "d1e52df7",
   "metadata": {},
   "outputs": [],
   "source": [
    "q = data[\"decimal\"] < 2004"
   ]
  },
  {
   "cell_type": "code",
   "execution_count": null,
   "id": "a7a6b231",
   "metadata": {},
   "outputs": [],
   "source": []
  },
  {
   "cell_type": "code",
   "execution_count": null,
   "id": "f3e44da6",
   "metadata": {},
   "outputs": [],
   "source": []
  },
  {
   "cell_type": "code",
   "execution_count": 64,
   "id": "7651295e",
   "metadata": {},
   "outputs": [
    {
     "data": {
      "text/plain": [
       "(array([ 4.35410258e-03, -1.57667965e+01,  1.44862240e+04,  2.90641015e+00,\n",
       "         1.00077387e+00, -9.97356798e+00]),\n",
       " array([[ 1.32689840e-07, -5.27897638e-04,  5.25041669e-01,\n",
       "          1.76208522e-07, -2.17138313e-09,  2.72345791e-05],\n",
       "        [-5.27897638e-04,  2.10021315e+00, -2.08885855e+03,\n",
       "         -7.00206474e-04,  8.65758201e-06, -1.08587330e-01],\n",
       "        [ 5.25041669e-01, -2.08885855e+03,  2.07757303e+06,\n",
       "          6.95606171e-01, -8.62958843e-03,  1.08235809e+02],\n",
       "        [ 1.76208522e-07, -7.00206474e-04,  6.95606171e-01,\n",
       "          1.13709331e-03,  1.78627833e-07, -2.23094255e-03],\n",
       "        [-2.17138313e-09,  8.65758201e-06, -8.62958843e-03,\n",
       "          1.78627833e-07,  4.65238199e-08, -5.81482796e-04],\n",
       "        [ 2.72345791e-05, -1.08587330e-01,  1.08235809e+02,\n",
       "         -2.23094255e-03, -5.81482796e-04,  7.26785681e+00]]))"
      ]
     },
     "execution_count": 64,
     "metadata": {},
     "output_type": "execute_result"
    }
   ],
   "source": [
    "popt, pcov = optimize.curve_fit(model, data.loc[q, \"decimal\"], data.loc[q, \"average\"])\n",
    "popt, pcov"
   ]
  },
  {
   "cell_type": "code",
   "execution_count": null,
   "id": "e9fd81ba",
   "metadata": {},
   "outputs": [],
   "source": []
  },
  {
   "cell_type": "code",
   "execution_count": null,
   "id": "7b0f3093",
   "metadata": {},
   "outputs": [],
   "source": []
  },
  {
   "cell_type": "code",
   "execution_count": null,
   "id": "aabc85be",
   "metadata": {},
   "outputs": [],
   "source": []
  },
  {
   "cell_type": "code",
   "execution_count": null,
   "id": "63082d9d",
   "metadata": {},
   "outputs": [],
   "source": []
  },
  {
   "cell_type": "code",
   "execution_count": 65,
   "id": "dc01f5a0",
   "metadata": {},
   "outputs": [],
   "source": [
    "yhat = model(data[\"decimal\"], *popt)"
   ]
  },
  {
   "cell_type": "code",
   "execution_count": null,
   "id": "cfa71b70",
   "metadata": {},
   "outputs": [],
   "source": []
  },
  {
   "cell_type": "code",
   "execution_count": 68,
   "id": "677591b1",
   "metadata": {},
   "outputs": [
    {
     "data": {
      "text/plain": [
       "[<matplotlib.lines.Line2D at 0x1e36a7d62b0>]"
      ]
     },
     "execution_count": 68,
     "metadata": {},
     "output_type": "execute_result"
    },
    {
     "data": {
      "image/png": "[encoded data removed]",
      "text/plain": [
       "<Figure size 432x288 with 1 Axes>"
      ]
     },
     "metadata": {
      "needs_background": "light"
     },
     "output_type": "display_data"
    }
   ],
   "source": [
    "fig, axe = plt.subplots()\n",
    "axe.plot(data[\"decimal\"], data[\"average\"])\n",
    "axe.plot(data.loc[q, \"decimal\"], yhat[q])\n",
    "axe.plot(data.loc[~q, \"decimal\"], yhat[~q])"
   ]
  },
  {
   "cell_type": "code",
   "execution_count": null,
   "id": "fb607f53",
   "metadata": {},
   "outputs": [],
   "source": []
  },
  {
   "cell_type": "code",
   "execution_count": 70,
   "id": "cf0136e8",
   "metadata": {},
   "outputs": [],
   "source": [
    "popt2, pcov2 = optimize.curve_fit(model, data[\"decimal\"], data[\"average\"])"
   ]
  },
  {
   "cell_type": "code",
   "execution_count": 71,
   "id": "4644623c",
   "metadata": {},
   "outputs": [],
   "source": [
    "yhat2 = model(data[\"decimal\"], *popt2)"
   ]
  },
  {
   "cell_type": "code",
   "execution_count": 72,
   "id": "8f52b570",
   "metadata": {},
   "outputs": [
    {
     "data": {
      "text/plain": [
       "[<matplotlib.lines.Line2D at 0x1e36a781eb0>]"
      ]
     },
     "execution_count": 72,
     "metadata": {},
     "output_type": "execute_result"
    },
    {
     "data": {
      "image/png": "[encoded data removed]",
      "text/plain": [
       "<Figure size 432x288 with 1 Axes>"
      ]
     },
     "metadata": {
      "needs_background": "light"
     },
     "output_type": "display_data"
    }
   ],
   "source": [
    "fig, axe = plt.subplots()\n",
    "axe.plot(data[\"decimal\"], data[\"average\"])\n",
    "axe.plot(data[\"decimal\"], yhat2)"
   ]
  },
  {
   "cell_type": "code",
   "execution_count": null,
   "id": "d16e09cc",
   "metadata": {},
   "outputs": [],
   "source": []
  }
 ],
 "metadata": {
  "kernelspec": {
   "display_name": "Python 3 (ipykernel)",
   "language": "python",
   "name": "python3"
  },
  "language_info": {
   "codemirror_mode": {
    "name": "ipython",
    "version": 3
   },
   "file_extension": ".py",
   "mimetype": "text/x-python",
   "name": "python",
   "nbconvert_exporter": "python",
   "pygments_lexer": "ipython3",
   "version": "3.9.7"
  }
 },
 "nbformat": 4,
 "nbformat_minor": 5
}
