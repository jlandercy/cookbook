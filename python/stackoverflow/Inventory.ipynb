{
 "cells": [
  {
   "cell_type": "code",
   "execution_count": 1,
   "id": "a420c6c3",
   "metadata": {
    "ExecuteTime": {
     "end_time": "2022-07-31T06:50:29.803471Z",
     "start_time": "2022-07-31T06:50:29.087613Z"
    }
   },
   "outputs": [],
   "source": [
    "import pandas as pd"
   ]
  },
  {
   "cell_type": "markdown",
   "id": "ee6a9663",
   "metadata": {},
   "source": [
    "https://stackoverflow.com/questions/73180827/python-program-to-store-and-update-inventory"
   ]
  },
  {
   "cell_type": "code",
   "execution_count": 2,
   "id": "428d13ff",
   "metadata": {
    "ExecuteTime": {
     "end_time": "2022-07-31T06:50:29.817309Z",
     "start_time": "2022-07-31T06:50:29.806911Z"
    }
   },
   "outputs": [],
   "source": [
    "data = [\n",
    "    {'item': 'book', 'price': 2, 'quantity': 20, 'store': 'a'}, \n",
    "    {'item': 'pen', 'price': 1, 'quantity': 100, 'store': 'a'}, \n",
    "    {'item': 'eraser', 'price': 3, 'quantity': 30, 'store': 'a'},\n",
    "    {'item': 'book', 'price': 3, 'quantity': 30, 'store': 'b'}, \n",
    "    {'item': 'pen', 'price': 2, 'quantity': 20, 'store': 'b'}, \n",
    "    {'item': 'eraser', 'price': 1, 'quantity': 100, 'store': 'b'}, \n",
    "    {'item': 'book', 'price': 1, 'quantity': 100, 'store': 'c'},\n",
    "    {'item': 'pen', 'price': 3, 'quantity': 30, 'store': 'c'}, \n",
    "    {'item': 'eraser', 'price': 2, 'quantity': 20, 'store': 'c'}\n",
    "]"
   ]
  },
  {
   "cell_type": "code",
   "execution_count": 3,
   "id": "dc10f44d",
   "metadata": {
    "ExecuteTime": {
     "end_time": "2022-07-31T06:50:29.853432Z",
     "start_time": "2022-07-31T06:50:29.820342Z"
    }
   },
   "outputs": [
    {
     "data": {
      "text/html": [
       "<div>\n",
       "<style scoped>\n",
       "    .dataframe tbody tr th:only-of-type {\n",
       "        vertical-align: middle;\n",
       "    }\n",
       "\n",
       "    .dataframe tbody tr th {\n",
       "        vertical-align: top;\n",
       "    }\n",
       "\n",
       "    .dataframe thead th {\n",
       "        text-align: right;\n",
       "    }\n",
       "</style>\n",
       "<table border=\"1\" class=\"dataframe\">\n",
       "  <thead>\n",
       "    <tr style=\"text-align: right;\">\n",
       "      <th></th>\n",
       "      <th>item</th>\n",
       "      <th>price</th>\n",
       "      <th>quantity</th>\n",
       "      <th>store</th>\n",
       "    </tr>\n",
       "  </thead>\n",
       "  <tbody>\n",
       "    <tr>\n",
       "      <th>0</th>\n",
       "      <td>book</td>\n",
       "      <td>2</td>\n",
       "      <td>20</td>\n",
       "      <td>a</td>\n",
       "    </tr>\n",
       "    <tr>\n",
       "      <th>1</th>\n",
       "      <td>pen</td>\n",
       "      <td>1</td>\n",
       "      <td>100</td>\n",
       "      <td>a</td>\n",
       "    </tr>\n",
       "    <tr>\n",
       "      <th>2</th>\n",
       "      <td>eraser</td>\n",
       "      <td>3</td>\n",
       "      <td>30</td>\n",
       "      <td>a</td>\n",
       "    </tr>\n",
       "    <tr>\n",
       "      <th>3</th>\n",
       "      <td>book</td>\n",
       "      <td>3</td>\n",
       "      <td>30</td>\n",
       "      <td>b</td>\n",
       "    </tr>\n",
       "    <tr>\n",
       "      <th>4</th>\n",
       "      <td>pen</td>\n",
       "      <td>2</td>\n",
       "      <td>20</td>\n",
       "      <td>b</td>\n",
       "    </tr>\n",
       "    <tr>\n",
       "      <th>5</th>\n",
       "      <td>eraser</td>\n",
       "      <td>1</td>\n",
       "      <td>100</td>\n",
       "      <td>b</td>\n",
       "    </tr>\n",
       "    <tr>\n",
       "      <th>6</th>\n",
       "      <td>book</td>\n",
       "      <td>1</td>\n",
       "      <td>100</td>\n",
       "      <td>c</td>\n",
       "    </tr>\n",
       "    <tr>\n",
       "      <th>7</th>\n",
       "      <td>pen</td>\n",
       "      <td>3</td>\n",
       "      <td>30</td>\n",
       "      <td>c</td>\n",
       "    </tr>\n",
       "    <tr>\n",
       "      <th>8</th>\n",
       "      <td>eraser</td>\n",
       "      <td>2</td>\n",
       "      <td>20</td>\n",
       "      <td>c</td>\n",
       "    </tr>\n",
       "  </tbody>\n",
       "</table>\n",
       "</div>"
      ],
      "text/plain": [
       "     item  price  quantity store\n",
       "0    book      2        20     a\n",
       "1     pen      1       100     a\n",
       "2  eraser      3        30     a\n",
       "3    book      3        30     b\n",
       "4     pen      2        20     b\n",
       "5  eraser      1       100     b\n",
       "6    book      1       100     c\n",
       "7     pen      3        30     c\n",
       "8  eraser      2        20     c"
      ]
     },
     "execution_count": 3,
     "metadata": {},
     "output_type": "execute_result"
    }
   ],
   "source": [
    "frame = pd.json_normalize(data)\n",
    "frame"
   ]
  },
  {
   "cell_type": "code",
   "execution_count": 4,
   "id": "e0c25391",
   "metadata": {
    "ExecuteTime": {
     "end_time": "2022-07-31T06:50:29.865152Z",
     "start_time": "2022-07-31T06:50:29.856674Z"
    }
   },
   "outputs": [],
   "source": [
    "def operate(frame, item, quantity):\n",
    "    # Filter item and sort by price:\n",
    "    data = frame[frame[\"item\"] == item].sort_values(\"price\", ascending=True)\n",
    "    # Compute cumulative quantity:\n",
    "    data[\"cumsum\"] = data[\"quantity\"].cumsum()\n",
    "    # Select store stocks to exhaust:\n",
    "    taken = data[data[\"cumsum\"] < quantity]\n",
    "    # Select remaining stores:\n",
    "    left = data.loc[data.index.difference(taken.index),:]\n",
    "    # Quantity available on stock to exhaust\n",
    "    amount = taken[\"quantity\"].sum()\n",
    "    # Exhaust stocks:\n",
    "    taken[\"quantity\"] = 0\n",
    "    # Quantity to get from the remaining store:\n",
    "    left.loc[left.index[0], \"quantity\"] -= quantity - amount\n",
    "    # Assemble new stock state:\n",
    "    order = pd.concat([taken, left])\n",
    "    # Compute order quantity as well:\n",
    "    order[\"order\"] = data[\"quantity\"] - order[\"quantity\"]\n",
    "    order[\"subtotal\"] = order[\"order\"]*order[\"price\"]\n",
    "    order = order[order[\"order\"]>0]\n",
    "    # Update data source:\n",
    "    frame.loc[order.index, \"quantity\"] = order[\"quantity\"]\n",
    "    return order"
   ]
  },
  {
   "cell_type": "code",
   "execution_count": 5,
   "id": "a0b5514f",
   "metadata": {
    "ExecuteTime": {
     "end_time": "2022-07-31T06:50:29.896486Z",
     "start_time": "2022-07-31T06:50:29.868282Z"
    }
   },
   "outputs": [
    {
     "name": "stdout",
     "output_type": "stream",
     "text": [
      "  item  price  quantity store  cumsum  order  subtotal\n",
      "1  pen      1        95     a     100      5         5\n"
     ]
    }
   ],
   "source": [
    "order = operate(frame, \"pen\", 5)\n",
    "print(order)"
   ]
  },
  {
   "cell_type": "code",
   "execution_count": 6,
   "id": "7a3644ed",
   "metadata": {
    "ExecuteTime": {
     "end_time": "2022-07-31T06:50:29.911408Z",
     "start_time": "2022-07-31T06:50:29.900445Z"
    }
   },
   "outputs": [
    {
     "name": "stdout",
     "output_type": "stream",
     "text": [
      "     item  price  quantity store\n",
      "0    book      2        20     a\n",
      "1     pen      1        95     a\n",
      "2  eraser      3        30     a\n",
      "3    book      3        30     b\n",
      "4     pen      2        20     b\n",
      "5  eraser      1       100     b\n",
      "6    book      1       100     c\n",
      "7     pen      3        30     c\n",
      "8  eraser      2        20     c\n"
     ]
    }
   ],
   "source": [
    "print(frame)"
   ]
  },
  {
   "cell_type": "code",
   "execution_count": 7,
   "id": "ff793ea2",
   "metadata": {
    "ExecuteTime": {
     "end_time": "2022-07-31T06:50:29.947995Z",
     "start_time": "2022-07-31T06:50:29.915810Z"
    }
   },
   "outputs": [
    {
     "name": "stdout",
     "output_type": "stream",
     "text": [
      "  item  price  quantity store  cumsum  order  subtotal\n",
      "1  pen      1         0     a      95     95        95\n",
      "4  pen      2         0     b     115     20        40\n",
      "7  pen      3        25     c     145      5        15\n"
     ]
    },
    {
     "name": "stderr",
     "output_type": "stream",
     "text": [
      "/usr/local/lib/python3.6/dist-packages/ipykernel_launcher.py:13: SettingWithCopyWarning: \n",
      "A value is trying to be set on a copy of a slice from a DataFrame.\n",
      "Try using .loc[row_indexer,col_indexer] = value instead\n",
      "\n",
      "See the caveats in the documentation: https://pandas.pydata.org/pandas-docs/stable/user_guide/indexing.html#returning-a-view-versus-a-copy\n",
      "  del sys.path[0]\n"
     ]
    }
   ],
   "source": [
    "order = operate(frame, \"pen\", 120)\n",
    "print(order)"
   ]
  },
  {
   "cell_type": "code",
   "execution_count": 8,
   "id": "b143feb4",
   "metadata": {
    "ExecuteTime": {
     "end_time": "2022-07-31T06:50:29.964127Z",
     "start_time": "2022-07-31T06:50:29.953981Z"
    }
   },
   "outputs": [
    {
     "name": "stdout",
     "output_type": "stream",
     "text": [
      "     item  price  quantity store\n",
      "0    book      2        20     a\n",
      "1     pen      1         0     a\n",
      "2  eraser      3        30     a\n",
      "3    book      3        30     b\n",
      "4     pen      2         0     b\n",
      "5  eraser      1       100     b\n",
      "6    book      1       100     c\n",
      "7     pen      3        25     c\n",
      "8  eraser      2        20     c\n"
     ]
    }
   ],
   "source": [
    "print(frame)"
   ]
  },
  {
   "cell_type": "code",
   "execution_count": null,
   "id": "a24b71aa",
   "metadata": {},
   "outputs": [],
   "source": []
  }
 ],
 "metadata": {
  "hide_input": false,
  "kernelspec": {
   "display_name": "Python 3",
   "language": "python",
   "name": "python3"
  },
  "language_info": {
   "codemirror_mode": {
    "name": "ipython",
    "version": 3
   },
   "file_extension": ".py",
   "mimetype": "text/x-python",
   "name": "python",
   "nbconvert_exporter": "python",
   "pygments_lexer": "ipython3",
   "version": "3.6.9"
  },
  "toc": {
   "base_numbering": 1,
   "nav_menu": {},
   "number_sections": true,
   "sideBar": true,
   "skip_h1_title": false,
   "title_cell": "Table of Contents",
   "title_sidebar": "Contents",
   "toc_cell": false,
   "toc_position": {},
   "toc_section_display": true,
   "toc_window_display": false
  },
  "varInspector": {
   "cols": {
    "lenName": 16,
    "lenType": 16,
    "lenVar": 40
   },
   "kernels_config": {
    "python": {
     "delete_cmd_postfix": "",
     "delete_cmd_prefix": "del ",
     "library": "var_list.py",
     "varRefreshCmd": "print(var_dic_list())"
    },
    "r": {
     "delete_cmd_postfix": ") ",
     "delete_cmd_prefix": "rm(",
     "library": "var_list.r",
     "varRefreshCmd": "cat(var_dic_list()) "
    }
   },
   "types_to_exclude": [
    "module",
    "function",
    "builtin_function_or_method",
    "instance",
    "_Feature"
   ],
   "window_display": false
  }
 },
 "nbformat": 4,
 "nbformat_minor": 5
}
