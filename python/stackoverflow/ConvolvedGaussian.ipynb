{
 "cells": [
  {
   "cell_type": "code",
   "execution_count": 1,
   "id": "05a748c5",
   "metadata": {
    "ExecuteTime": {
     "end_time": "2024-04-26T12:16:52.998118Z",
     "start_time": "2024-04-26T12:16:50.393576Z"
    }
   },
   "outputs": [],
   "source": [
    "import itertools\n",
    "import re\n",
    "import numpy as np\n",
    "import pandas as pd\n",
    "import matplotlib.pyplot as plt\n",
    "from scipy import signal, stats, optimize"
   ]
  },
  {
   "cell_type": "markdown",
   "id": "3802db16",
   "metadata": {},
   "source": [
    "https://stackoverflow.com/questions/78386497/fixed-params-in-convolved-gaussian-fit"
   ]
  },
  {
   "cell_type": "code",
   "execution_count": 2,
   "id": "69d559a0",
   "metadata": {
    "ExecuteTime": {
     "end_time": "2024-04-26T12:16:53.030001Z",
     "start_time": "2024-04-26T12:16:53.001832Z"
    }
   },
   "outputs": [],
   "source": [
    "data = pd.read_csv(\"20240402_In.mca\", encoding=\"latin-1\", names=[\"y\"]).loc[12:2058]\n",
    "data[\"y\"] = pd.to_numeric(data[\"y\"])\n",
    "data[\"y\"] /= data[\"y\"].max()\n",
    "data[\"x\"] = -0.0188026396003431 + 0.039549044037714 * data.index"
   ]
  },
  {
   "cell_type": "code",
   "execution_count": 3,
   "id": "97404861",
   "metadata": {
    "ExecuteTime": {
     "end_time": "2024-04-26T12:16:53.039154Z",
     "start_time": "2024-04-26T12:16:53.032505Z"
    }
   },
   "outputs": [],
   "source": [
    "data = data.loc[(23.5 <= data[\"x\"]) & (data[\"x\"] <= 29.), :]"
   ]
  },
  {
   "cell_type": "code",
   "execution_count": null,
   "id": "b10057de",
   "metadata": {
    "ExecuteTime": {
     "end_time": "2024-04-26T09:02:46.314294Z",
     "start_time": "2024-04-26T09:02:46.230945Z"
    }
   },
   "outputs": [],
   "source": []
  },
  {
   "cell_type": "code",
   "execution_count": 4,
   "id": "46eeb7db",
   "metadata": {
    "ExecuteTime": {
     "end_time": "2024-04-26T12:16:53.045773Z",
     "start_time": "2024-04-26T12:16:53.042442Z"
    }
   },
   "outputs": [],
   "source": [
    "def peak(x, A, s, x0):\n",
    "    law = stats.norm(loc=x0, scale=s)\n",
    "    return A * law.pdf(x) / law.pdf(x0)"
   ]
  },
  {
   "cell_type": "code",
   "execution_count": 5,
   "id": "87e5bdb3",
   "metadata": {
    "ExecuteTime": {
     "end_time": "2024-04-26T12:16:53.052098Z",
     "start_time": "2024-04-26T12:16:53.048387Z"
    }
   },
   "outputs": [],
   "source": [
    "def model(x, *parameters):\n",
    "    n = len(parameters) // 3\n",
    "    y = np.zeros_like(x)\n",
    "    for i in range(n):\n",
    "        y += peak(x, *parameters[(i * 3):((i + 1) * 3)])\n",
    "    return y"
   ]
  },
  {
   "cell_type": "code",
   "execution_count": null,
   "id": "858dea3b",
   "metadata": {},
   "outputs": [],
   "source": []
  },
  {
   "cell_type": "code",
   "execution_count": 6,
   "id": "2bfb85e2",
   "metadata": {
    "ExecuteTime": {
     "end_time": "2024-04-26T12:16:53.068218Z",
     "start_time": "2024-04-26T12:16:53.054615Z"
    }
   },
   "outputs": [
    {
     "data": {
      "text/plain": [
       "(array([ 30, 107, 122]),\n",
       " {'prominences': array([0.99761526, 0.18918919, 0.03338633]),\n",
       "  'left_bases': array([  5,  91, 117]),\n",
       "  'right_bases': array([ 72, 131, 131])})"
      ]
     },
     "execution_count": 6,
     "metadata": {},
     "output_type": "execute_result"
    }
   ],
   "source": [
    "indices, bases = signal.find_peaks(data.y, prominence=0.0125)\n",
    "indices, bases"
   ]
  },
  {
   "cell_type": "code",
   "execution_count": 7,
   "id": "33f47491",
   "metadata": {
    "ExecuteTime": {
     "end_time": "2024-04-26T12:16:53.075021Z",
     "start_time": "2024-04-26T12:16:53.071020Z"
    }
   },
   "outputs": [],
   "source": [
    "x0s = data.x.values[indices]\n",
    "As = bases[\"prominences\"]\n",
    "ss = (data.x.values[bases[\"right_bases\"]] - data.x.values[bases[\"left_bases\"]]) / 8."
   ]
  },
  {
   "cell_type": "code",
   "execution_count": 8,
   "id": "3ee22393",
   "metadata": {
    "ExecuteTime": {
     "end_time": "2024-04-26T12:16:53.081360Z",
     "start_time": "2024-04-26T12:16:53.078024Z"
    }
   },
   "outputs": [],
   "source": [
    "p0 = list(itertools.chain(*zip(As, ss, x0s)))"
   ]
  },
  {
   "cell_type": "code",
   "execution_count": 9,
   "id": "b891a071",
   "metadata": {
    "ExecuteTime": {
     "end_time": "2024-04-26T12:16:53.088403Z",
     "start_time": "2024-04-26T12:16:53.084018Z"
    }
   },
   "outputs": [
    {
     "data": {
      "text/plain": [
       "[0.9976152623211447,\n",
       " 0.33122324381585466,\n",
       " 24.699349883970907,\n",
       " 0.1891891891891892,\n",
       " 0.19774522018856988,\n",
       " 27.744626274874886,\n",
       " 0.033386327503974564,\n",
       " 0.06921082706599968,\n",
       " 28.337861935440593]"
      ]
     },
     "execution_count": 9,
     "metadata": {},
     "output_type": "execute_result"
    }
   ],
   "source": [
    "p0"
   ]
  },
  {
   "cell_type": "code",
   "execution_count": 10,
   "id": "be4a3e93",
   "metadata": {
    "ExecuteTime": {
     "end_time": "2024-04-26T12:16:53.413967Z",
     "start_time": "2024-04-26T12:16:53.093603Z"
    }
   },
   "outputs": [
    {
     "data": {
      "text/plain": [
       "array([ 0.99391974,  0.16021049, 24.65586218,  0.18533265,  0.12188248,\n",
       "       27.78078373,  0.03678059,  0.12189041, 28.35838493])"
      ]
     },
     "execution_count": 10,
     "metadata": {},
     "output_type": "execute_result"
    }
   ],
   "source": [
    "popt, pcov = optimize.curve_fit(model, data.x, data.y, p0=p0)\n",
    "popt"
   ]
  },
  {
   "cell_type": "code",
   "execution_count": 13,
   "id": "e2e70cdb",
   "metadata": {
    "ExecuteTime": {
     "end_time": "2024-04-26T12:17:31.516235Z",
     "start_time": "2024-04-26T12:17:31.496541Z"
    }
   },
   "outputs": [],
   "source": [
    "xlin = np.linspace(data.x.min(), data.x.max(), 400)"
   ]
  },
  {
   "cell_type": "code",
   "execution_count": 14,
   "id": "34004794",
   "metadata": {
    "ExecuteTime": {
     "end_time": "2024-04-26T12:17:35.337894Z",
     "start_time": "2024-04-26T12:17:35.322194Z"
    }
   },
   "outputs": [],
   "source": [
    "yhat = model(xlin, *popt)"
   ]
  },
  {
   "cell_type": "code",
   "execution_count": 21,
   "id": "5df3d47f",
   "metadata": {
    "ExecuteTime": {
     "end_time": "2024-04-26T12:21:26.148414Z",
     "start_time": "2024-04-26T12:21:25.994037Z"
    }
   },
   "outputs": [],
   "source": [
    "As = [1, 0.5538, 0.1673, 0.1673 * 0.5185]\n",
    "x0s = [24.210, 24.002, 27.276, 27.238] "
   ]
  },
  {
   "cell_type": "code",
   "execution_count": null,
   "id": "519804ea",
   "metadata": {},
   "outputs": [],
   "source": []
  },
  {
   "cell_type": "code",
   "execution_count": 25,
   "id": "dc331e45",
   "metadata": {
    "ExecuteTime": {
     "end_time": "2024-04-26T12:22:34.559537Z",
     "start_time": "2024-04-26T12:22:34.306909Z"
    }
   },
   "outputs": [
    {
     "data": {
      "image/png": "[encoded data removed]",
      "text/plain": [
       "<Figure size 640x480 with 1 Axes>"
      ]
     },
     "metadata": {},
     "output_type": "display_data"
    }
   ],
   "source": [
    "fig, axe = plt.subplots()\n",
    "axe.plot(data.x, data.y)\n",
    "axe.scatter(data.x.values[indices], data.y.values[indices])\n",
    "axe.plot(xlin, yhat)\n",
    "for A in As:\n",
    "    axe.axhline(A)\n",
    "for x0 in x0s:\n",
    "    axe.axvline(x0)\n",
    "axe.grid()"
   ]
  },
  {
   "cell_type": "code",
   "execution_count": null,
   "id": "e5b9445a",
   "metadata": {},
   "outputs": [],
   "source": []
  },
  {
   "cell_type": "code",
   "execution_count": null,
   "id": "85e23513",
   "metadata": {},
   "outputs": [],
   "source": []
  },
  {
   "cell_type": "code",
   "execution_count": null,
   "id": "f5c34404",
   "metadata": {},
   "outputs": [],
   "source": []
  }
 ],
 "metadata": {
  "hide_input": false,
  "kernelspec": {
   "display_name": "Python 3",
   "language": "python",
   "name": "python3"
  },
  "language_info": {
   "codemirror_mode": {
    "name": "ipython",
    "version": 3
   },
   "file_extension": ".py",
   "mimetype": "text/x-python",
   "name": "python",
   "nbconvert_exporter": "python",
   "pygments_lexer": "ipython3",
   "version": "3.10.6"
  },
  "toc": {
   "base_numbering": 1,
   "nav_menu": {},
   "number_sections": true,
   "sideBar": true,
   "skip_h1_title": false,
   "title_cell": "Table of Contents",
   "title_sidebar": "Contents",
   "toc_cell": false,
   "toc_position": {},
   "toc_section_display": true,
   "toc_window_display": false
  },
  "varInspector": {
   "cols": {
    "lenName": 16,
    "lenType": 16,
    "lenVar": 40
   },
   "kernels_config": {
    "python": {
     "delete_cmd_postfix": "",
     "delete_cmd_prefix": "del ",
     "library": "var_list.py",
     "varRefreshCmd": "print(var_dic_list())"
    },
    "r": {
     "delete_cmd_postfix": ") ",
     "delete_cmd_prefix": "rm(",
     "library": "var_list.r",
     "varRefreshCmd": "cat(var_dic_list()) "
    }
   },
   "types_to_exclude": [
    "module",
    "function",
    "builtin_function_or_method",
    "instance",
    "_Feature"
   ],
   "window_display": false
  }
 },
 "nbformat": 4,
 "nbformat_minor": 5
}
