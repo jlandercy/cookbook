{
 "cells": [
  {
   "cell_type": "code",
   "execution_count": 1,
   "id": "16e86aa8",
   "metadata": {
    "ExecuteTime": {
     "end_time": "2024-07-10T11:37:26.752273Z",
     "start_time": "2024-07-10T11:37:25.693614Z"
    }
   },
   "outputs": [],
   "source": [
    "import numpy as np\n",
    "from scipy import integrate, stats"
   ]
  },
  {
   "cell_type": "markdown",
   "id": "e07e7ae7",
   "metadata": {},
   "source": [
    " - https://stackoverflow.com/questions/78719729/multivariate-normal-distribution-using-python-scipy-stats-and-integrate-nquad\n",
    " - https://docs.scipy.org/doc/scipy/reference/generated/scipy.integrate.nquad.html\n",
    " - \n",
    " \n",
    "$$\n",
    "P(X_1 < X_2 < \\cdots < X_n) = \\int_{-\\infty}^{\\infty}\\phi(x_1-\\theta_1)\\int_{x_1}^{\\infty}\\phi(x_2-\\theta_2)\\cdots \\int_{x_{n-1}}^{\\infty}\\phi (x_n-\\theta_n),dx_n,dx_{n-1}\\cdots,dx_1\n",
    "$$\n",
    "\n",
    "$$\n",
    "I = \\int_{-\\infty}^{x_1}\\phi(x_1-\\theta_1)\\mathrm{d}x_1\\int_{x_1}^{x_2}\\phi(x_2-\\theta_2)\\mathrm{d}x_2\\cdots \\int_{x_{n-1}}^{\\infty}\\phi (x_n-\\theta_n)\\mathrm{d}x_n\n",
    "$$"
   ]
  },
  {
   "cell_type": "code",
   "execution_count": 88,
   "id": "5b965657",
   "metadata": {
    "ExecuteTime": {
     "end_time": "2024-07-10T12:18:50.428673Z",
     "start_time": "2024-07-10T12:18:50.420292Z"
    }
   },
   "outputs": [],
   "source": [
    "mu0s = [-1, 0, 1, 2]\n",
    "x0s = [-2, 1, 3]"
   ]
  },
  {
   "cell_type": "code",
   "execution_count": 89,
   "id": "56567482",
   "metadata": {
    "ExecuteTime": {
     "end_time": "2024-07-10T12:18:51.236104Z",
     "start_time": "2024-07-10T12:18:51.226798Z"
    }
   },
   "outputs": [
    {
     "data": {
      "text/plain": [
       "[(-inf, -2), (-2, 1), (1, 3), (3, inf)]"
      ]
     },
     "execution_count": 89,
     "metadata": {},
     "output_type": "execute_result"
    }
   ],
   "source": [
    "lims = [(-np.inf, x0s[0])] + [p for p in zip(x0s[:-1], x0s[1:])] + [(x0s[-1], np.inf)]\n",
    "lims"
   ]
  },
  {
   "cell_type": "code",
   "execution_count": 90,
   "id": "50edbb49",
   "metadata": {
    "ExecuteTime": {
     "end_time": "2024-07-10T12:18:52.549076Z",
     "start_time": "2024-07-10T12:18:52.278131Z"
    }
   },
   "outputs": [],
   "source": [
    "p = 1.\n",
    "for (x0, x1), mu in zip(lims, mu0s):\n",
    "    p *= integrate.quad(lambda x: stats.norm(loc=mu).pdf(x), x0, x1)[0]"
   ]
  },
  {
   "cell_type": "code",
   "execution_count": 91,
   "id": "716732a2",
   "metadata": {
    "ExecuteTime": {
     "end_time": "2024-07-10T12:18:53.100217Z",
     "start_time": "2024-07-10T12:18:53.092931Z"
    }
   },
   "outputs": [
    {
     "data": {
      "text/plain": [
       "0.009833850846857454"
      ]
     },
     "execution_count": 91,
     "metadata": {},
     "output_type": "execute_result"
    }
   ],
   "source": [
    "p"
   ]
  },
  {
   "cell_type": "code",
   "execution_count": null,
   "id": "f6def1bd",
   "metadata": {},
   "outputs": [],
   "source": []
  },
  {
   "cell_type": "code",
   "execution_count": null,
   "id": "d9431491",
   "metadata": {},
   "outputs": [],
   "source": []
  },
  {
   "cell_type": "code",
   "execution_count": null,
   "id": "db703df7",
   "metadata": {},
   "outputs": [],
   "source": []
  }
 ],
 "metadata": {
  "hide_input": false,
  "kernelspec": {
   "display_name": "Python 3",
   "language": "python",
   "name": "python3"
  },
  "language_info": {
   "codemirror_mode": {
    "name": "ipython",
    "version": 3
   },
   "file_extension": ".py",
   "mimetype": "text/x-python",
   "name": "python",
   "nbconvert_exporter": "python",
   "pygments_lexer": "ipython3",
   "version": "3.10.6"
  },
  "toc": {
   "base_numbering": 1,
   "nav_menu": {},
   "number_sections": true,
   "sideBar": true,
   "skip_h1_title": false,
   "title_cell": "Table of Contents",
   "title_sidebar": "Contents",
   "toc_cell": false,
   "toc_position": {},
   "toc_section_display": true,
   "toc_window_display": false
  },
  "varInspector": {
   "cols": {
    "lenName": 16,
    "lenType": 16,
    "lenVar": 40
   },
   "kernels_config": {
    "python": {
     "delete_cmd_postfix": "",
     "delete_cmd_prefix": "del ",
     "library": "var_list.py",
     "varRefreshCmd": "print(var_dic_list())"
    },
    "r": {
     "delete_cmd_postfix": ") ",
     "delete_cmd_prefix": "rm(",
     "library": "var_list.r",
     "varRefreshCmd": "cat(var_dic_list()) "
    }
   },
   "types_to_exclude": [
    "module",
    "function",
    "builtin_function_or_method",
    "instance",
    "_Feature"
   ],
   "window_display": false
  }
 },
 "nbformat": 4,
 "nbformat_minor": 5
}
