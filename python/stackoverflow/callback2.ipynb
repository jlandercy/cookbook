{
 "cells": [
  {
   "cell_type": "code",
   "execution_count": 1,
   "id": "ea33a756",
   "metadata": {
    "ExecuteTime": {
     "end_time": "2024-03-14T10:12:14.958335Z",
     "start_time": "2024-03-14T10:12:13.542759Z"
    }
   },
   "outputs": [],
   "source": [
    "import numpy as np\n",
    "import matplotlib.pyplot as plt\n",
    "from scipy import optimize"
   ]
  },
  {
   "cell_type": "code",
   "execution_count": 2,
   "id": "b36d6979",
   "metadata": {
    "ExecuteTime": {
     "end_time": "2024-03-14T10:12:14.965299Z",
     "start_time": "2024-03-14T10:12:14.961766Z"
    }
   },
   "outputs": [],
   "source": [
    "xs = []\n",
    "fs = []"
   ]
  },
  {
   "cell_type": "code",
   "execution_count": 3,
   "id": "7c055823",
   "metadata": {
    "ExecuteTime": {
     "end_time": "2024-03-14T10:12:14.974508Z",
     "start_time": "2024-03-14T10:12:14.968307Z"
    }
   },
   "outputs": [],
   "source": [
    "def callback(intermediate_result):\n",
    "    xs.append(intermediate_result.x)\n",
    "    fs.append(intermediate_result.fun)"
   ]
  },
  {
   "cell_type": "code",
   "execution_count": 4,
   "id": "8ff1b62b",
   "metadata": {
    "ExecuteTime": {
     "end_time": "2024-03-14T10:12:15.055888Z",
     "start_time": "2024-03-14T10:12:14.979842Z"
    }
   },
   "outputs": [
    {
     "data": {
      "text/plain": [
       "  message: Optimization terminated successfully.\n",
       "  success: True\n",
       "   status: 0\n",
       "      fun: 4.674874965166655e-11\n",
       "        x: [ 1.000e+00  1.000e+00  1.000e+00  1.000e+00]\n",
       "      nit: 33\n",
       "      jac: [ 4.555e-07  1.083e-07 -5.486e-07  1.943e-07]\n",
       " hess_inv: [[ 2.614e-02  4.976e-02  9.831e-02  1.964e-01]\n",
       "            [ 4.976e-02  9.952e-02  1.968e-01  3.930e-01]\n",
       "            [ 9.831e-02  1.968e-01  3.941e-01  7.869e-01]\n",
       "            [ 1.964e-01  3.930e-01  7.869e-01  1.577e+00]]\n",
       "     nfev: 225\n",
       "     njev: 45"
      ]
     },
     "execution_count": 4,
     "metadata": {},
     "output_type": "execute_result"
    }
   ],
   "source": [
    "optimize.minimize(optimize.rosen, x0=[0, 0, 0, 0], tol=1e-6, callback=callback)"
   ]
  },
  {
   "cell_type": "code",
   "execution_count": 5,
   "id": "268b74cf",
   "metadata": {
    "ExecuteTime": {
     "end_time": "2024-03-14T10:12:15.067858Z",
     "start_time": "2024-03-14T10:12:15.063177Z"
    }
   },
   "outputs": [],
   "source": [
    "xs = np.array(xs)\n",
    "fs = np.array(fs)"
   ]
  },
  {
   "cell_type": "code",
   "execution_count": null,
   "id": "47a893e8",
   "metadata": {},
   "outputs": [],
   "source": []
  },
  {
   "cell_type": "code",
   "execution_count": 14,
   "id": "bfefae62",
   "metadata": {
    "ExecuteTime": {
     "end_time": "2024-03-14T10:15:50.419888Z",
     "start_time": "2024-03-14T10:15:50.413541Z"
    }
   },
   "outputs": [],
   "source": [
    "ds = np.array([0.] + list(np.cumsum(np.sqrt(np.sum((xs[:-1] - xs[1:])**2, axis=1)))))"
   ]
  },
  {
   "cell_type": "code",
   "execution_count": 15,
   "id": "0373d9c1",
   "metadata": {
    "ExecuteTime": {
     "end_time": "2024-03-14T10:15:50.756954Z",
     "start_time": "2024-03-14T10:15:50.737102Z"
    }
   },
   "outputs": [
    {
     "data": {
      "text/plain": [
       "(33,)"
      ]
     },
     "execution_count": 15,
     "metadata": {},
     "output_type": "execute_result"
    }
   ],
   "source": [
    "ds.shape"
   ]
  },
  {
   "cell_type": "code",
   "execution_count": 16,
   "id": "7f5843b2",
   "metadata": {
    "ExecuteTime": {
     "end_time": "2024-03-14T10:15:52.743905Z",
     "start_time": "2024-03-14T10:15:52.546451Z"
    }
   },
   "outputs": [
    {
     "data": {
      "image/png": "[encoded data removed]",
      "text/plain": [
       "<Figure size 640x480 with 1 Axes>"
      ]
     },
     "metadata": {},
     "output_type": "display_data"
    }
   ],
   "source": [
    "fig, axe = plt.subplots()\n",
    "axe.plot(ds, fs, marker=\".\")\n",
    "axe.grid()"
   ]
  },
  {
   "cell_type": "code",
   "execution_count": null,
   "id": "b853ab8c",
   "metadata": {},
   "outputs": [],
   "source": []
  }
 ],
 "metadata": {
  "hide_input": false,
  "kernelspec": {
   "display_name": "Python 3",
   "language": "python",
   "name": "python3"
  },
  "language_info": {
   "codemirror_mode": {
    "name": "ipython",
    "version": 3
   },
   "file_extension": ".py",
   "mimetype": "text/x-python",
   "name": "python",
   "nbconvert_exporter": "python",
   "pygments_lexer": "ipython3",
   "version": "3.10.6"
  },
  "toc": {
   "base_numbering": 1,
   "nav_menu": {},
   "number_sections": true,
   "sideBar": true,
   "skip_h1_title": false,
   "title_cell": "Table of Contents",
   "title_sidebar": "Contents",
   "toc_cell": false,
   "toc_position": {},
   "toc_section_display": true,
   "toc_window_display": false
  },
  "varInspector": {
   "cols": {
    "lenName": 16,
    "lenType": 16,
    "lenVar": 40
   },
   "kernels_config": {
    "python": {
     "delete_cmd_postfix": "",
     "delete_cmd_prefix": "del ",
     "library": "var_list.py",
     "varRefreshCmd": "print(var_dic_list())"
    },
    "r": {
     "delete_cmd_postfix": ") ",
     "delete_cmd_prefix": "rm(",
     "library": "var_list.r",
     "varRefreshCmd": "cat(var_dic_list()) "
    }
   },
   "types_to_exclude": [
    "module",
    "function",
    "builtin_function_or_method",
    "instance",
    "_Feature"
   ],
   "window_display": false
  }
 },
 "nbformat": 4,
 "nbformat_minor": 5
}
