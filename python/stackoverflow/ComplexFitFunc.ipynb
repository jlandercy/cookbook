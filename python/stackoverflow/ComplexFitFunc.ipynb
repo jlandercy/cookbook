{
 "cells": [
  {
   "cell_type": "code",
   "execution_count": 19,
   "id": "7eb9b9e8",
   "metadata": {
    "ExecuteTime": {
     "end_time": "2024-06-20T13:13:12.864852Z",
     "start_time": "2024-06-20T13:13:12.407049Z"
    }
   },
   "outputs": [],
   "source": [
    "import numpy as np\n",
    "import math\n",
    "import matplotlib.pyplot as plt\n",
    "from scipy.ndimage import gaussian_filter1d\n",
    "from scipy import optimize"
   ]
  },
  {
   "cell_type": "markdown",
   "id": "e34e0ca9",
   "metadata": {},
   "source": [
    "https://stackoverflow.com/questions/78637026/how-to-choose-the-best-fitting-method"
   ]
  },
  {
   "cell_type": "code",
   "execution_count": 18,
   "id": "d59f6b1b",
   "metadata": {
    "ExecuteTime": {
     "end_time": "2024-06-20T13:12:37.970338Z",
     "start_time": "2024-06-20T13:12:37.935116Z"
    }
   },
   "outputs": [],
   "source": [
    "def fitfunction(list, maxiter, error_threshold):\n",
    "    \n",
    "    v = 1.4\n",
    "    st = 5\n",
    "    exp_v = np.exp(-1/v)\n",
    "    x00 = np.array([(np.pi/(4*v))*i**(-2) for i in list])\n",
    "    lm = 1000\n",
    "    \n",
    "    def mse(y_true, y_pred):\n",
    "        mse_value = sum((yt - yp) ** 2 for yt, yp in zip(y_true, y_pred)) / len(y_true)\n",
    "        return mse_value\n",
    "    \n",
    "    def fast_roll_add(dst, src, shift):\n",
    "        dst[shift:] += src[:-shift]\n",
    "        dst[:shift] += src[-shift:]\n",
    "    \n",
    "    # Main function\n",
    "    def fp(x, L, v):\n",
    "        n = len(x)\n",
    "        y = np.zeros(n)\n",
    "        last_exp_2_raw = np.zeros(n)\n",
    "        last_exp_2 = np.ones(n)\n",
    "        unitary = x.copy()\n",
    "        for k in range(L+1):\n",
    "            if k != 0:\n",
    "                fast_roll_add(unitary, x, k)\n",
    "                fast_roll_add(unitary, x, -k)\n",
    "            exp_1_raw = last_exp_2_raw\n",
    "            exp_1 = last_exp_2\n",
    "            exp_2_raw = exp_1_raw + unitary / v\n",
    "            exp_2 = np.exp(-exp_2_raw)\n",
    "            y += (exp_1 - exp_2) / unitary\n",
    "            last_exp_2_raw = exp_2_raw\n",
    "            last_exp_2 = exp_2\n",
    "        return y\n",
    "\n",
    "    # Fitting functions\n",
    "    def fitf(time, lst, x0, j):\n",
    "        return x0[j] * (lst[j] / time[j])**2\n",
    "    \n",
    "    def cfit(time, lst, x0):\n",
    "        result = np.empty_like(x0)\n",
    "        for j in range(len(x0)):\n",
    "            if fitf(time, lst, x0, j) < 10**(-20):\n",
    "                result[j] = 10**(-20)\n",
    "            elif abs(time[j] - lst[j]) < .5:\n",
    "                result[j] = x0[j]\n",
    "            else:\n",
    "                result[j] = fitf(time, lst, x0, j)\n",
    "        return result\n",
    "    \n",
    "    xs = x00\n",
    "    ys = fp(xs, len(xs)//st, v)\n",
    "    err = 10**10\n",
    "    \n",
    "    def objective(x):\n",
    "        xs = cfit(x, ys, xs) # Fitting\n",
    "        ys = fp(xs, len(xs)//st, v) # Update function values\n",
    "        err = mse(x[lm:-lm], ys[lm:-lm])\n",
    "        return err\n",
    "    \n",
    "    for j in range(maxiter):\n",
    "        if err > error_threshold:\n",
    "            xs = cfit(list, ys, xs) # Fitting\n",
    "            ys = fp(xs, len(xs)//st, v) # Update function values\n",
    "            err = mse(list[lm:-lm], ys[lm:-lm])\n",
    "            print(str(j+1) + '/' + str(maxiter) + ' err: ' + str('{:.20f}'.format(err)), end=\"\\r\")            \n",
    "        else:\n",
    "            break\n",
    "\n",
    "    fire_rates = ['{:.20f}'.format(i) for i in xs]\n",
    "    time_sim = ys\n",
    "    \n",
    "    return [fire_rates, time_sim]"
   ]
  },
  {
   "cell_type": "code",
   "execution_count": null,
   "id": "55757039",
   "metadata": {
    "ExecuteTime": {
     "end_time": "2024-06-20T12:49:23.137111Z",
     "start_time": "2024-06-20T12:49:22.837810Z"
    }
   },
   "outputs": [],
   "source": []
  },
  {
   "cell_type": "code",
   "execution_count": 17,
   "id": "995a031e",
   "metadata": {
    "ExecuteTime": {
     "end_time": "2024-06-20T13:09:04.005362Z",
     "start_time": "2024-06-20T13:09:03.963260Z"
    }
   },
   "outputs": [],
   "source": [
    "# Data generation\n",
    "np.random.seed(18)\n",
    "data = np.random.normal(loc=0, scale=10, size=10000).cumsum()\n",
    "data = (data - data.min()) / (data.max() - data.min()) * 500\n",
    "\n",
    "# Gaussian smoothing\n",
    "data = gaussian_filter1d(data, sigma=100)"
   ]
  },
  {
   "cell_type": "code",
   "execution_count": 4,
   "id": "e7b58125",
   "metadata": {
    "ExecuteTime": {
     "end_time": "2024-06-20T12:50:12.458803Z",
     "start_time": "2024-06-20T12:49:44.119701Z"
    }
   },
   "outputs": [
    {
     "name": "stdout",
     "output_type": "stream",
     "text": [
      "56/100 err: 1.989164958114105541402\r"
     ]
    }
   ],
   "source": [
    "data_fit = fitfunction(data, 100, 2)"
   ]
  },
  {
   "cell_type": "code",
   "execution_count": null,
   "id": "4847f0fd",
   "metadata": {
    "ExecuteTime": {
     "end_time": "2024-06-20T13:13:47.919524Z",
     "start_time": "2024-06-20T13:13:47.822902Z"
    }
   },
   "outputs": [],
   "source": []
  },
  {
   "cell_type": "code",
   "execution_count": 16,
   "id": "58636943",
   "metadata": {
    "ExecuteTime": {
     "end_time": "2024-06-20T13:08:41.612811Z",
     "start_time": "2024-06-20T13:08:40.495256Z"
    }
   },
   "outputs": [
    {
     "data": {
      "text/plain": [
       "[<matplotlib.lines.Line2D at 0x7f47e664c940>]"
      ]
     },
     "execution_count": 16,
     "metadata": {},
     "output_type": "execute_result"
    },
    {
     "data": {
      "image/png": "[encoded data removed]",
      "text/plain": [
       "<Figure size 640x480 with 1 Axes>"
      ]
     },
     "metadata": {},
     "output_type": "display_data"
    }
   ],
   "source": [
    "fig, axe = plt.subplots()\n",
    "axe.plot(data)\n",
    "axe.plot(data_fit[1])"
   ]
  },
  {
   "cell_type": "code",
   "execution_count": null,
   "id": "870c91b1",
   "metadata": {},
   "outputs": [],
   "source": []
  },
  {
   "cell_type": "code",
   "execution_count": null,
   "id": "9357b7d0",
   "metadata": {},
   "outputs": [],
   "source": []
  },
  {
   "cell_type": "code",
   "execution_count": 44,
   "id": "b6c009c8",
   "metadata": {
    "ExecuteTime": {
     "end_time": "2024-06-20T13:31:22.357956Z",
     "start_time": "2024-06-20T13:31:22.309524Z"
    }
   },
   "outputs": [],
   "source": [
    "class Solver:\n",
    "    \n",
    "    def __init__(self, x):\n",
    "        self.x = x\n",
    "        self.v = 1.4\n",
    "        self.st = 5\n",
    "        self.exp_v = np.exp(-1. / self.v)\n",
    "        self.x00 = np.array([( np.pi / ( 4 * self.v)) * np.power(i, -2.) for i in self.x])\n",
    "        self.lm = 1000\n",
    "\n",
    "    @staticmethod\n",
    "    def fast_roll_add(dst, src, shift):\n",
    "        dst[shift:] += src[:-shift]\n",
    "        dst[:shift] += src[-shift:]\n",
    "\n",
    "    @staticmethod\n",
    "    def fp(x, L, v):\n",
    "        n = len(x)\n",
    "        y = np.zeros(n)\n",
    "        last_exp_2_raw = np.zeros(n)\n",
    "        last_exp_2 = np.ones(n)\n",
    "        unitary = x.copy()\n",
    "        for k in range(L + 1):\n",
    "            if k != 0:\n",
    "                Solver.fast_roll_add(unitary, x, k)\n",
    "                Solver.fast_roll_add(unitary, x, -k)\n",
    "            exp_1_raw = last_exp_2_raw\n",
    "            exp_1 = last_exp_2\n",
    "            exp_2_raw = exp_1_raw + unitary / v\n",
    "            exp_2 = np.exp(-exp_2_raw)\n",
    "            y += (exp_1 - exp_2) / unitary\n",
    "            last_exp_2_raw = exp_2_raw\n",
    "            last_exp_2 = exp_2\n",
    "        return y\n",
    "\n",
    "    @staticmethod\n",
    "    def fitf(time, lst, x0, j):\n",
    "        return x0[j] * (lst[j] / time[j])**2\n",
    "    \n",
    "    @staticmethod\n",
    "    def cfit(time, lst, x0):\n",
    "        result = np.empty_like(x0)\n",
    "        for j in range(len(x0)):\n",
    "            if fitf(time, lst, x0, j) < 10**(-20):\n",
    "                result[j] = 10**(-20)\n",
    "            elif abs(time[j] - lst[j]) < .5:\n",
    "                result[j] = x0[j]\n",
    "            else:\n",
    "                result[j] = fitf(time, lst, x0, j)\n",
    "        return result\n",
    "    \n",
    "    @staticmethod\n",
    "    def mse(y_true, y_pred):\n",
    "        mse_value = sum((yt - yp) ** 2 for yt, yp in zip(y_true, y_pred)) / len(y_true)\n",
    "        return mse_value     \n",
    "        \n",
    "    def factory(self):\n",
    "        \n",
    "        xs = self.x00\n",
    "        ys = fp(xs, len(xs) // self.st, self.v)\n",
    "        \n",
    "        def wrapper(p):\n",
    "        \n",
    "            xs = self.cfit(p, ys, xs)\n",
    "            ys = self.fp(xs, len(xs) // self.st, self.v)\n",
    "            err = self.mse(self.x[self.lm:-self.lm], ys[self.lm:-self.lm])\n",
    "            return err\n",
    "        \n",
    "        return wrapper\n",
    "        "
   ]
  },
  {
   "cell_type": "code",
   "execution_count": 45,
   "id": "f51d8b15",
   "metadata": {
    "ExecuteTime": {
     "end_time": "2024-06-20T13:31:22.986801Z",
     "start_time": "2024-06-20T13:31:22.954530Z"
    }
   },
   "outputs": [],
   "source": [
    "solver = Solver(data)"
   ]
  },
  {
   "cell_type": "code",
   "execution_count": 46,
   "id": "fe4ce4b0",
   "metadata": {
    "ExecuteTime": {
     "end_time": "2024-06-20T13:31:23.895157Z",
     "start_time": "2024-06-20T13:31:23.309053Z"
    }
   },
   "outputs": [
    {
     "ename": "UnboundLocalError",
     "evalue": "local variable 'ys' referenced before assignment",
     "output_type": "error",
     "traceback": [
      "\u001b[0;31m---------------------------------------------------------------------------\u001b[0m",
      "\u001b[0;31mUnboundLocalError\u001b[0m                         Traceback (most recent call last)",
      "Cell \u001b[0;32mIn [46], line 1\u001b[0m\n\u001b[0;32m----> 1\u001b[0m \u001b[43moptimize\u001b[49m\u001b[38;5;241;43m.\u001b[39;49m\u001b[43mminimize\u001b[49m\u001b[43m(\u001b[49m\u001b[43msolver\u001b[49m\u001b[38;5;241;43m.\u001b[39;49m\u001b[43mfactory\u001b[49m\u001b[43m(\u001b[49m\u001b[43m)\u001b[49m\u001b[43m,\u001b[49m\u001b[43m \u001b[49m\u001b[43mx0\u001b[49m\u001b[38;5;241;43m=\u001b[39;49m\u001b[43mdata\u001b[49m\u001b[43m)\u001b[49m\n",
      "File \u001b[0;32m~/.local/lib/python3.10/site-packages/scipy/optimize/_minimize.py:708\u001b[0m, in \u001b[0;36mminimize\u001b[0;34m(fun, x0, args, method, jac, hess, hessp, bounds, constraints, tol, callback, options)\u001b[0m\n\u001b[1;32m    706\u001b[0m     res \u001b[38;5;241m=\u001b[39m _minimize_cg(fun, x0, args, jac, callback, \u001b[38;5;241m*\u001b[39m\u001b[38;5;241m*\u001b[39moptions)\n\u001b[1;32m    707\u001b[0m \u001b[38;5;28;01melif\u001b[39;00m meth \u001b[38;5;241m==\u001b[39m \u001b[38;5;124m'\u001b[39m\u001b[38;5;124mbfgs\u001b[39m\u001b[38;5;124m'\u001b[39m:\n\u001b[0;32m--> 708\u001b[0m     res \u001b[38;5;241m=\u001b[39m \u001b[43m_minimize_bfgs\u001b[49m\u001b[43m(\u001b[49m\u001b[43mfun\u001b[49m\u001b[43m,\u001b[49m\u001b[43m \u001b[49m\u001b[43mx0\u001b[49m\u001b[43m,\u001b[49m\u001b[43m \u001b[49m\u001b[43margs\u001b[49m\u001b[43m,\u001b[49m\u001b[43m \u001b[49m\u001b[43mjac\u001b[49m\u001b[43m,\u001b[49m\u001b[43m \u001b[49m\u001b[43mcallback\u001b[49m\u001b[43m,\u001b[49m\u001b[43m \u001b[49m\u001b[38;5;241;43m*\u001b[39;49m\u001b[38;5;241;43m*\u001b[39;49m\u001b[43moptions\u001b[49m\u001b[43m)\u001b[49m\n\u001b[1;32m    709\u001b[0m \u001b[38;5;28;01melif\u001b[39;00m meth \u001b[38;5;241m==\u001b[39m \u001b[38;5;124m'\u001b[39m\u001b[38;5;124mnewton-cg\u001b[39m\u001b[38;5;124m'\u001b[39m:\n\u001b[1;32m    710\u001b[0m     res \u001b[38;5;241m=\u001b[39m _minimize_newtoncg(fun, x0, args, jac, hess, hessp, callback,\n\u001b[1;32m    711\u001b[0m                              \u001b[38;5;241m*\u001b[39m\u001b[38;5;241m*\u001b[39moptions)\n",
      "File \u001b[0;32m~/.local/lib/python3.10/site-packages/scipy/optimize/_optimize.py:1372\u001b[0m, in \u001b[0;36m_minimize_bfgs\u001b[0;34m(fun, x0, args, jac, callback, gtol, norm, eps, maxiter, disp, return_all, finite_diff_rel_step, xrtol, c1, c2, hess_inv0, **unknown_options)\u001b[0m\n\u001b[1;32m   1369\u001b[0m \u001b[38;5;28;01mif\u001b[39;00m maxiter \u001b[38;5;129;01mis\u001b[39;00m \u001b[38;5;28;01mNone\u001b[39;00m:\n\u001b[1;32m   1370\u001b[0m     maxiter \u001b[38;5;241m=\u001b[39m \u001b[38;5;28mlen\u001b[39m(x0) \u001b[38;5;241m*\u001b[39m \u001b[38;5;241m200\u001b[39m\n\u001b[0;32m-> 1372\u001b[0m sf \u001b[38;5;241m=\u001b[39m \u001b[43m_prepare_scalar_function\u001b[49m\u001b[43m(\u001b[49m\u001b[43mfun\u001b[49m\u001b[43m,\u001b[49m\u001b[43m \u001b[49m\u001b[43mx0\u001b[49m\u001b[43m,\u001b[49m\u001b[43m \u001b[49m\u001b[43mjac\u001b[49m\u001b[43m,\u001b[49m\u001b[43m \u001b[49m\u001b[43margs\u001b[49m\u001b[38;5;241;43m=\u001b[39;49m\u001b[43margs\u001b[49m\u001b[43m,\u001b[49m\u001b[43m \u001b[49m\u001b[43mepsilon\u001b[49m\u001b[38;5;241;43m=\u001b[39;49m\u001b[43meps\u001b[49m\u001b[43m,\u001b[49m\n\u001b[1;32m   1373\u001b[0m \u001b[43m                              \u001b[49m\u001b[43mfinite_diff_rel_step\u001b[49m\u001b[38;5;241;43m=\u001b[39;49m\u001b[43mfinite_diff_rel_step\u001b[49m\u001b[43m)\u001b[49m\n\u001b[1;32m   1375\u001b[0m f \u001b[38;5;241m=\u001b[39m sf\u001b[38;5;241m.\u001b[39mfun\n\u001b[1;32m   1376\u001b[0m myfprime \u001b[38;5;241m=\u001b[39m sf\u001b[38;5;241m.\u001b[39mgrad\n",
      "File \u001b[0;32m~/.local/lib/python3.10/site-packages/scipy/optimize/_optimize.py:288\u001b[0m, in \u001b[0;36m_prepare_scalar_function\u001b[0;34m(fun, x0, jac, args, bounds, epsilon, finite_diff_rel_step, hess)\u001b[0m\n\u001b[1;32m    284\u001b[0m     bounds \u001b[38;5;241m=\u001b[39m (\u001b[38;5;241m-\u001b[39mnp\u001b[38;5;241m.\u001b[39minf, np\u001b[38;5;241m.\u001b[39minf)\n\u001b[1;32m    286\u001b[0m \u001b[38;5;66;03m# ScalarFunction caches. Reuse of fun(x) during grad\u001b[39;00m\n\u001b[1;32m    287\u001b[0m \u001b[38;5;66;03m# calculation reduces overall function evaluations.\u001b[39;00m\n\u001b[0;32m--> 288\u001b[0m sf \u001b[38;5;241m=\u001b[39m \u001b[43mScalarFunction\u001b[49m\u001b[43m(\u001b[49m\u001b[43mfun\u001b[49m\u001b[43m,\u001b[49m\u001b[43m \u001b[49m\u001b[43mx0\u001b[49m\u001b[43m,\u001b[49m\u001b[43m \u001b[49m\u001b[43margs\u001b[49m\u001b[43m,\u001b[49m\u001b[43m \u001b[49m\u001b[43mgrad\u001b[49m\u001b[43m,\u001b[49m\u001b[43m \u001b[49m\u001b[43mhess\u001b[49m\u001b[43m,\u001b[49m\n\u001b[1;32m    289\u001b[0m \u001b[43m                    \u001b[49m\u001b[43mfinite_diff_rel_step\u001b[49m\u001b[43m,\u001b[49m\u001b[43m \u001b[49m\u001b[43mbounds\u001b[49m\u001b[43m,\u001b[49m\u001b[43m \u001b[49m\u001b[43mepsilon\u001b[49m\u001b[38;5;241;43m=\u001b[39;49m\u001b[43mepsilon\u001b[49m\u001b[43m)\u001b[49m\n\u001b[1;32m    291\u001b[0m \u001b[38;5;28;01mreturn\u001b[39;00m sf\n",
      "File \u001b[0;32m~/.local/lib/python3.10/site-packages/scipy/optimize/_differentiable_functions.py:166\u001b[0m, in \u001b[0;36mScalarFunction.__init__\u001b[0;34m(self, fun, x0, args, grad, hess, finite_diff_rel_step, finite_diff_bounds, epsilon)\u001b[0m\n\u001b[1;32m    163\u001b[0m     \u001b[38;5;28mself\u001b[39m\u001b[38;5;241m.\u001b[39mf \u001b[38;5;241m=\u001b[39m fun_wrapped(\u001b[38;5;28mself\u001b[39m\u001b[38;5;241m.\u001b[39mx)\n\u001b[1;32m    165\u001b[0m \u001b[38;5;28mself\u001b[39m\u001b[38;5;241m.\u001b[39m_update_fun_impl \u001b[38;5;241m=\u001b[39m update_fun\n\u001b[0;32m--> 166\u001b[0m \u001b[38;5;28;43mself\u001b[39;49m\u001b[38;5;241;43m.\u001b[39;49m\u001b[43m_update_fun\u001b[49m\u001b[43m(\u001b[49m\u001b[43m)\u001b[49m\n\u001b[1;32m    168\u001b[0m \u001b[38;5;66;03m# Gradient evaluation\u001b[39;00m\n\u001b[1;32m    169\u001b[0m \u001b[38;5;28;01mif\u001b[39;00m callable(grad):\n",
      "File \u001b[0;32m~/.local/lib/python3.10/site-packages/scipy/optimize/_differentiable_functions.py:262\u001b[0m, in \u001b[0;36mScalarFunction._update_fun\u001b[0;34m(self)\u001b[0m\n\u001b[1;32m    260\u001b[0m \u001b[38;5;28;01mdef\u001b[39;00m \u001b[38;5;21m_update_fun\u001b[39m(\u001b[38;5;28mself\u001b[39m):\n\u001b[1;32m    261\u001b[0m     \u001b[38;5;28;01mif\u001b[39;00m \u001b[38;5;129;01mnot\u001b[39;00m \u001b[38;5;28mself\u001b[39m\u001b[38;5;241m.\u001b[39mf_updated:\n\u001b[0;32m--> 262\u001b[0m         \u001b[38;5;28;43mself\u001b[39;49m\u001b[38;5;241;43m.\u001b[39;49m\u001b[43m_update_fun_impl\u001b[49m\u001b[43m(\u001b[49m\u001b[43m)\u001b[49m\n\u001b[1;32m    263\u001b[0m         \u001b[38;5;28mself\u001b[39m\u001b[38;5;241m.\u001b[39mf_updated \u001b[38;5;241m=\u001b[39m \u001b[38;5;28;01mTrue\u001b[39;00m\n",
      "File \u001b[0;32m~/.local/lib/python3.10/site-packages/scipy/optimize/_differentiable_functions.py:163\u001b[0m, in \u001b[0;36mScalarFunction.__init__.<locals>.update_fun\u001b[0;34m()\u001b[0m\n\u001b[1;32m    162\u001b[0m \u001b[38;5;28;01mdef\u001b[39;00m \u001b[38;5;21mupdate_fun\u001b[39m():\n\u001b[0;32m--> 163\u001b[0m     \u001b[38;5;28mself\u001b[39m\u001b[38;5;241m.\u001b[39mf \u001b[38;5;241m=\u001b[39m \u001b[43mfun_wrapped\u001b[49m\u001b[43m(\u001b[49m\u001b[38;5;28;43mself\u001b[39;49m\u001b[38;5;241;43m.\u001b[39;49m\u001b[43mx\u001b[49m\u001b[43m)\u001b[49m\n",
      "File \u001b[0;32m~/.local/lib/python3.10/site-packages/scipy/optimize/_differentiable_functions.py:145\u001b[0m, in \u001b[0;36mScalarFunction.__init__.<locals>.fun_wrapped\u001b[0;34m(x)\u001b[0m\n\u001b[1;32m    141\u001b[0m \u001b[38;5;28mself\u001b[39m\u001b[38;5;241m.\u001b[39mnfev \u001b[38;5;241m+\u001b[39m\u001b[38;5;241m=\u001b[39m \u001b[38;5;241m1\u001b[39m\n\u001b[1;32m    142\u001b[0m \u001b[38;5;66;03m# Send a copy because the user may overwrite it.\u001b[39;00m\n\u001b[1;32m    143\u001b[0m \u001b[38;5;66;03m# Overwriting results in undefined behaviour because\u001b[39;00m\n\u001b[1;32m    144\u001b[0m \u001b[38;5;66;03m# fun(self.x) will change self.x, with the two no longer linked.\u001b[39;00m\n\u001b[0;32m--> 145\u001b[0m fx \u001b[38;5;241m=\u001b[39m \u001b[43mfun\u001b[49m\u001b[43m(\u001b[49m\u001b[43mnp\u001b[49m\u001b[38;5;241;43m.\u001b[39;49m\u001b[43mcopy\u001b[49m\u001b[43m(\u001b[49m\u001b[43mx\u001b[49m\u001b[43m)\u001b[49m\u001b[43m,\u001b[49m\u001b[43m \u001b[49m\u001b[38;5;241;43m*\u001b[39;49m\u001b[43margs\u001b[49m\u001b[43m)\u001b[49m\n\u001b[1;32m    146\u001b[0m \u001b[38;5;66;03m# Make sure the function returns a true scalar\u001b[39;00m\n\u001b[1;32m    147\u001b[0m \u001b[38;5;28;01mif\u001b[39;00m \u001b[38;5;129;01mnot\u001b[39;00m np\u001b[38;5;241m.\u001b[39misscalar(fx):\n",
      "Cell \u001b[0;32mIn [44], line 64\u001b[0m, in \u001b[0;36mSolver.factory.<locals>.wrapper\u001b[0;34m(p)\u001b[0m\n\u001b[1;32m     62\u001b[0m \u001b[38;5;28;01mdef\u001b[39;00m \u001b[38;5;21mwrapper\u001b[39m(p):\n\u001b[0;32m---> 64\u001b[0m     xs \u001b[38;5;241m=\u001b[39m \u001b[38;5;28mself\u001b[39m\u001b[38;5;241m.\u001b[39mcfit(p, \u001b[43mys\u001b[49m, xs)\n\u001b[1;32m     65\u001b[0m     ys \u001b[38;5;241m=\u001b[39m \u001b[38;5;28mself\u001b[39m\u001b[38;5;241m.\u001b[39mfp(xs, \u001b[38;5;28mlen\u001b[39m(xs) \u001b[38;5;241m/\u001b[39m\u001b[38;5;241m/\u001b[39m \u001b[38;5;28mself\u001b[39m\u001b[38;5;241m.\u001b[39mst, \u001b[38;5;28mself\u001b[39m\u001b[38;5;241m.\u001b[39mv)\n\u001b[1;32m     66\u001b[0m     err \u001b[38;5;241m=\u001b[39m \u001b[38;5;28mself\u001b[39m\u001b[38;5;241m.\u001b[39mmse(\u001b[38;5;28mself\u001b[39m\u001b[38;5;241m.\u001b[39mx[\u001b[38;5;28mself\u001b[39m\u001b[38;5;241m.\u001b[39mlm:\u001b[38;5;241m-\u001b[39m\u001b[38;5;28mself\u001b[39m\u001b[38;5;241m.\u001b[39mlm], ys[\u001b[38;5;28mself\u001b[39m\u001b[38;5;241m.\u001b[39mlm:\u001b[38;5;241m-\u001b[39m\u001b[38;5;28mself\u001b[39m\u001b[38;5;241m.\u001b[39mlm])\n",
      "\u001b[0;31mUnboundLocalError\u001b[0m: local variable 'ys' referenced before assignment"
     ]
    }
   ],
   "source": [
    "optimize.minimize(solver.factory(), x0=data)"
   ]
  },
  {
   "cell_type": "code",
   "execution_count": null,
   "id": "9bdfea2c",
   "metadata": {},
   "outputs": [],
   "source": []
  },
  {
   "cell_type": "code",
   "execution_count": null,
   "id": "976c7876",
   "metadata": {},
   "outputs": [],
   "source": []
  }
 ],
 "metadata": {
  "hide_input": false,
  "kernelspec": {
   "display_name": "Python 3",
   "language": "python",
   "name": "python3"
  },
  "language_info": {
   "codemirror_mode": {
    "name": "ipython",
    "version": 3
   },
   "file_extension": ".py",
   "mimetype": "text/x-python",
   "name": "python",
   "nbconvert_exporter": "python",
   "pygments_lexer": "ipython3",
   "version": "3.10.6"
  },
  "toc": {
   "base_numbering": 1,
   "nav_menu": {},
   "number_sections": true,
   "sideBar": true,
   "skip_h1_title": false,
   "title_cell": "Table of Contents",
   "title_sidebar": "Contents",
   "toc_cell": false,
   "toc_position": {},
   "toc_section_display": true,
   "toc_window_display": false
  },
  "varInspector": {
   "cols": {
    "lenName": 16,
    "lenType": 16,
    "lenVar": 40
   },
   "kernels_config": {
    "python": {
     "delete_cmd_postfix": "",
     "delete_cmd_prefix": "del ",
     "library": "var_list.py",
     "varRefreshCmd": "print(var_dic_list())"
    },
    "r": {
     "delete_cmd_postfix": ") ",
     "delete_cmd_prefix": "rm(",
     "library": "var_list.r",
     "varRefreshCmd": "cat(var_dic_list()) "
    }
   },
   "types_to_exclude": [
    "module",
    "function",
    "builtin_function_or_method",
    "instance",
    "_Feature"
   ],
   "window_display": false
  }
 },
 "nbformat": 4,
 "nbformat_minor": 5
}
