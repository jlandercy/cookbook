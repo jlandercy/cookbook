{
 "cells": [
  {
   "cell_type": "code",
   "execution_count": null,
   "id": "a3d3a07f",
   "metadata": {},
   "outputs": [],
   "source": []
  },
  {
   "cell_type": "code",
   "execution_count": null,
   "id": "c9e6f525",
   "metadata": {},
   "outputs": [],
   "source": []
  },
  {
   "cell_type": "code",
   "execution_count": 8,
   "id": "b0455627",
   "metadata": {
    "ExecuteTime": {
     "end_time": "2024-06-13T19:44:16.127233Z",
     "start_time": "2024-06-13T19:44:16.100005Z"
    }
   },
   "outputs": [
    {
     "data": {
      "text/plain": [
       "(0.12556464889996616, 1.585413063883688e-09)"
      ]
     },
     "execution_count": 8,
     "metadata": {},
     "output_type": "execute_result"
    }
   ],
   "source": [
    "import numpy as np\n",
    "import matplotlib.pyplot as plt\n",
    "from scipy import integrate\n",
    "\n",
    "s = 1\n",
    "Mu = 0.5\n",
    "lamb = 0.6\n",
    "\n",
    "def b(r):\n",
    "    return ((r - s) * lamb + (s ** 2) * r) / (s * r)\n",
    "\n",
    "def f(r):\n",
    "    return (1 - lamb / (s * r)) ** ((s ** 2 + lamb) / lamb)\n",
    "\n",
    "def integrand(r): \n",
    "    return 1. / (r * np.sqrt((1 - b(r) / r) * ((r ** 2) / (Mu ** 2) * (1. / f(r)) - 1.)))\n",
    "\n",
    "I, sI = integrate.quad(integrand, 4., np.inf)\n",
    "I, sI"
   ]
  },
  {
   "cell_type": "code",
   "execution_count": 9,
   "id": "090afa32",
   "metadata": {
    "ExecuteTime": {
     "end_time": "2024-06-13T19:44:17.226900Z",
     "start_time": "2024-06-13T19:44:17.223464Z"
    }
   },
   "outputs": [],
   "source": [
    "@np.vectorize\n",
    "def solve(a):\n",
    "    return integrate.quad(integrand, a, np.inf)[0]"
   ]
  },
  {
   "cell_type": "code",
   "execution_count": 12,
   "id": "2dc09409",
   "metadata": {
    "ExecuteTime": {
     "end_time": "2024-06-13T19:44:22.916617Z",
     "start_time": "2024-06-13T19:44:22.854499Z"
    }
   },
   "outputs": [],
   "source": [
    "a = np.linspace(1, 20., 200)\n",
    "I = solve(a)"
   ]
  },
  {
   "cell_type": "code",
   "execution_count": 13,
   "id": "cd048ad3",
   "metadata": {
    "ExecuteTime": {
     "end_time": "2024-06-13T19:44:23.581572Z",
     "start_time": "2024-06-13T19:44:23.396948Z"
    }
   },
   "outputs": [
    {
     "data": {
      "image/png": "[encoded data removed]",
      "text/plain": [
       "<Figure size 640x480 with 1 Axes>"
      ]
     },
     "metadata": {},
     "output_type": "display_data"
    }
   ],
   "source": [
    "fig, axe = plt.subplots()\n",
    "axe.plot(a, I)\n",
    "axe.grid()"
   ]
  },
  {
   "cell_type": "code",
   "execution_count": null,
   "id": "530f8861",
   "metadata": {},
   "outputs": [],
   "source": []
  },
  {
   "cell_type": "code",
   "execution_count": null,
   "id": "c04d3a57",
   "metadata": {},
   "outputs": [],
   "source": []
  }
 ],
 "metadata": {
  "hide_input": false,
  "kernelspec": {
   "display_name": "Python 3",
   "language": "python",
   "name": "python3"
  },
  "language_info": {
   "codemirror_mode": {
    "name": "ipython",
    "version": 3
   },
   "file_extension": ".py",
   "mimetype": "text/x-python",
   "name": "python",
   "nbconvert_exporter": "python",
   "pygments_lexer": "ipython3",
   "version": "3.10.6"
  },
  "toc": {
   "base_numbering": 1,
   "nav_menu": {},
   "number_sections": true,
   "sideBar": true,
   "skip_h1_title": false,
   "title_cell": "Table of Contents",
   "title_sidebar": "Contents",
   "toc_cell": false,
   "toc_position": {},
   "toc_section_display": true,
   "toc_window_display": false
  },
  "varInspector": {
   "cols": {
    "lenName": 16,
    "lenType": 16,
    "lenVar": 40
   },
   "kernels_config": {
    "python": {
     "delete_cmd_postfix": "",
     "delete_cmd_prefix": "del ",
     "library": "var_list.py",
     "varRefreshCmd": "print(var_dic_list())"
    },
    "r": {
     "delete_cmd_postfix": ") ",
     "delete_cmd_prefix": "rm(",
     "library": "var_list.r",
     "varRefreshCmd": "cat(var_dic_list()) "
    }
   },
   "types_to_exclude": [
    "module",
    "function",
    "builtin_function_or_method",
    "instance",
    "_Feature"
   ],
   "window_display": false
  }
 },
 "nbformat": 4,
 "nbformat_minor": 5
}
