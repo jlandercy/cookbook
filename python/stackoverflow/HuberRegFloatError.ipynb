{
 "cells": [
  {
   "cell_type": "code",
   "execution_count": 1,
   "metadata": {
    "ExecuteTime": {
     "end_time": "2020-10-23T07:07:16.514323Z",
     "start_time": "2020-10-23T07:07:15.898585Z"
    }
   },
   "outputs": [],
   "source": [
    "import numpy as np\n",
    "from sklearn import linear_model "
   ]
  },
  {
   "cell_type": "markdown",
   "metadata": {},
   "source": [
    "https://stackoverflow.com/questions/64485539/huber-regressor-returns-inconsistent-sign-of-coefficient"
   ]
  },
  {
   "cell_type": "code",
   "execution_count": 37,
   "metadata": {
    "ExecuteTime": {
     "end_time": "2020-10-23T07:13:28.650592Z",
     "start_time": "2020-10-23T07:13:28.622730Z"
    }
   },
   "outputs": [],
   "source": [
    "u = 1\n",
    "c = []\n",
    "x = np.arange(12).reshape(-1,1)\n",
    "for k in [0, 1, 2, 5, 25, 100, 200, 500, 1000]:\n",
    "    y = np.array([u]*(len(x)-1)+[k])\n",
    "    m = linear_model.HuberRegressor(tol=200).fit(X=x, y=y)\n",
    "    c.append(m.coef_[0])"
   ]
  },
  {
   "cell_type": "code",
   "execution_count": 38,
   "metadata": {
    "ExecuteTime": {
     "end_time": "2020-10-23T07:13:29.015499Z",
     "start_time": "2020-10-23T07:13:28.985286Z"
    }
   },
   "outputs": [
    {
     "data": {
      "text/plain": [
       "[0.0, 0.0, 0.0, 0.0, 0.0, 0.0, 0.0, 0.0, 0.0]"
      ]
     },
     "execution_count": 38,
     "metadata": {},
     "output_type": "execute_result"
    }
   ],
   "source": [
    "c"
   ]
  },
  {
   "cell_type": "code",
   "execution_count": 4,
   "metadata": {
    "ExecuteTime": {
     "end_time": "2020-10-23T07:07:16.829513Z",
     "start_time": "2020-10-23T07:07:16.819968Z"
    }
   },
   "outputs": [
    {
     "data": {
      "text/plain": [
       "True"
      ]
     },
     "execution_count": 4,
     "metadata": {},
     "output_type": "execute_result"
    }
   ],
   "source": [
    "np.allclose(c[:3], 0)"
   ]
  },
  {
   "cell_type": "code",
   "execution_count": 5,
   "metadata": {
    "ExecuteTime": {
     "end_time": "2020-10-23T07:07:17.069806Z",
     "start_time": "2020-10-23T07:07:16.834298Z"
    }
   },
   "outputs": [],
   "source": [
    "c = []\n",
    "x = np.arange(12).reshape(-1,1)\n",
    "for k in [0, 1, 2, 5, 25, 100, 200, 500, 1000]:\n",
    "    y = np.array(list(x[:-1])+[k])\n",
    "    m = linear_model.HuberRegressor(tol=1e-10).fit(X=x, y=y)\n",
    "    c.append(m.coef_[0])"
   ]
  },
  {
   "cell_type": "code",
   "execution_count": 6,
   "metadata": {
    "ExecuteTime": {
     "end_time": "2020-10-23T07:07:17.085811Z",
     "start_time": "2020-10-23T07:07:17.076805Z"
    }
   },
   "outputs": [
    {
     "data": {
      "text/plain": [
       "[0.9999999423436053,\n",
       " 0.9999991468916037,\n",
       " 0.9999999916835522,\n",
       " 0.9999999916837012,\n",
       " 1.0000000059171992,\n",
       " 1.000000006233575,\n",
       " 1.000000006237059,\n",
       " 1.000002303772441,\n",
       " 1.0000023037721706]"
      ]
     },
     "execution_count": 6,
     "metadata": {},
     "output_type": "execute_result"
    }
   ],
   "source": [
    "c"
   ]
  },
  {
   "cell_type": "code",
   "execution_count": null,
   "metadata": {},
   "outputs": [],
   "source": []
  }
 ],
 "metadata": {
  "hide_input": false,
  "kernelspec": {
   "display_name": "Python 3",
   "language": "python",
   "name": "python3"
  },
  "language_info": {
   "codemirror_mode": {
    "name": "ipython",
    "version": 3
   },
   "file_extension": ".py",
   "mimetype": "text/x-python",
   "name": "python",
   "nbconvert_exporter": "python",
   "pygments_lexer": "ipython3",
   "version": "3.6.9"
  },
  "toc": {
   "base_numbering": 1,
   "nav_menu": {},
   "number_sections": true,
   "sideBar": true,
   "skip_h1_title": false,
   "title_cell": "Table of Contents",
   "title_sidebar": "Contents",
   "toc_cell": false,
   "toc_position": {},
   "toc_section_display": true,
   "toc_window_display": false
  },
  "varInspector": {
   "cols": {
    "lenName": 16,
    "lenType": 16,
    "lenVar": 40
   },
   "kernels_config": {
    "python": {
     "delete_cmd_postfix": "",
     "delete_cmd_prefix": "del ",
     "library": "var_list.py",
     "varRefreshCmd": "print(var_dic_list())"
    },
    "r": {
     "delete_cmd_postfix": ") ",
     "delete_cmd_prefix": "rm(",
     "library": "var_list.r",
     "varRefreshCmd": "cat(var_dic_list()) "
    }
   },
   "types_to_exclude": [
    "module",
    "function",
    "builtin_function_or_method",
    "instance",
    "_Feature"
   ],
   "window_display": false
  }
 },
 "nbformat": 4,
 "nbformat_minor": 4
}
