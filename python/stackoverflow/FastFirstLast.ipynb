{
 "cells": [
  {
   "cell_type": "code",
   "execution_count": 1,
   "id": "a88b34a1",
   "metadata": {
    "ExecuteTime": {
     "end_time": "2022-09-21T21:17:42.404610Z",
     "start_time": "2022-09-21T21:17:40.652988Z"
    }
   },
   "outputs": [],
   "source": [
    "import io\n",
    "import pandas as pd"
   ]
  },
  {
   "cell_type": "markdown",
   "id": "784fafeb",
   "metadata": {},
   "source": [
    "https://stackoverflow.com/questions/73806546/panda-dataframe-how-to-make-it-faster"
   ]
  },
  {
   "cell_type": "code",
   "execution_count": 2,
   "id": "643ea30e",
   "metadata": {
    "ExecuteTime": {
     "end_time": "2022-09-21T21:17:42.454222Z",
     "start_time": "2022-09-21T21:17:42.414114Z"
    }
   },
   "outputs": [],
   "source": [
    "bdata = pd.read_fwf(io.StringIO(\"\"\"      Time     A     B     C     D\n",
    "2018-01-01   NaN   NaN   NaN   NaN\n",
    "2018-01-02   NaN   NaN   NaN   NaN\n",
    "2018-01-03   NaN   NaN   NaN   NaN\n",
    "2018-01-04   NaN   NaN   NaN   NaN\n",
    "2018-01-05   NaN   NaN  97.0   NaN\n",
    "2018-01-06  92.0  69.0  20.0  75.0\n",
    "2018-01-07  49.0  60.0  56.0   NaN\n",
    "2018-01-08  56.0   NaN  95.0  15.0\n",
    "2018-01-09  72.0   NaN   NaN  84.0\n",
    "2018-01-10   NaN   NaN  74.0   NaN\n",
    "\"\"\"))\n",
    "\n",
    "sdata = pd.read_fwf(io.StringIO(\"\"\"      Time    A    B   C    D\n",
    "2018-01-01  NaN  NaN NaN  NaN\n",
    "2018-01-02  NaN  NaN NaN  NaN\n",
    "2018-01-03  NaN  NaN NaN  NaN\n",
    "2018-01-04  NaN  NaN NaN  NaN\n",
    "2018-01-05  7.0  NaN NaN  NaN\n",
    "2018-01-06  NaN  NaN NaN  NaN\n",
    "2018-01-07  NaN  NaN NaN  3.0\n",
    "2018-01-08  NaN  NaN NaN  NaN\n",
    "2018-01-09  NaN  NaN NaN  NaN\n",
    "2018-01-10  NaN  5.0 NaN  0.0\n",
    "\"\"\"))"
   ]
  },
  {
   "cell_type": "code",
   "execution_count": 3,
   "id": "753d833f",
   "metadata": {
    "ExecuteTime": {
     "end_time": "2022-09-21T21:17:42.478959Z",
     "start_time": "2022-09-21T21:17:42.461131Z"
    }
   },
   "outputs": [],
   "source": [
    "bdata[\"Time\"] = pd.to_datetime(bdata[\"Time\"])\n",
    "sdata[\"Time\"] = pd.to_datetime(sdata[\"Time\"])"
   ]
  },
  {
   "cell_type": "code",
   "execution_count": 4,
   "id": "83a53b66",
   "metadata": {
    "ExecuteTime": {
     "end_time": "2022-09-21T21:17:42.506503Z",
     "start_time": "2022-09-21T21:17:42.484171Z"
    }
   },
   "outputs": [
    {
     "data": {
      "text/plain": [
       "4"
      ]
     },
     "execution_count": 4,
     "metadata": {},
     "output_type": "execute_result"
    }
   ],
   "source": [
    "bdata[\"C\"].first_valid_index()"
   ]
  },
  {
   "cell_type": "code",
   "execution_count": 5,
   "id": "0a253e43",
   "metadata": {
    "ExecuteTime": {
     "end_time": "2022-09-21T21:17:42.539674Z",
     "start_time": "2022-09-21T21:17:42.514984Z"
    }
   },
   "outputs": [],
   "source": [
    "bdata = bdata.set_index(\"Time\").ffill().bfill()\n",
    "sdata = sdata.set_index(\"Time\").shift(-1).bfill()"
   ]
  },
  {
   "cell_type": "code",
   "execution_count": 6,
   "id": "7ea44476",
   "metadata": {
    "ExecuteTime": {
     "end_time": "2022-09-21T21:17:42.573321Z",
     "start_time": "2022-09-21T21:17:42.543789Z"
    }
   },
   "outputs": [
    {
     "data": {
      "text/html": [
       "<div>\n",
       "<style scoped>\n",
       "    .dataframe tbody tr th:only-of-type {\n",
       "        vertical-align: middle;\n",
       "    }\n",
       "\n",
       "    .dataframe tbody tr th {\n",
       "        vertical-align: top;\n",
       "    }\n",
       "\n",
       "    .dataframe thead th {\n",
       "        text-align: right;\n",
       "    }\n",
       "</style>\n",
       "<table border=\"1\" class=\"dataframe\">\n",
       "  <thead>\n",
       "    <tr style=\"text-align: right;\">\n",
       "      <th></th>\n",
       "      <th>A</th>\n",
       "      <th>B</th>\n",
       "      <th>C</th>\n",
       "      <th>D</th>\n",
       "    </tr>\n",
       "    <tr>\n",
       "      <th>Time</th>\n",
       "      <th></th>\n",
       "      <th></th>\n",
       "      <th></th>\n",
       "      <th></th>\n",
       "    </tr>\n",
       "  </thead>\n",
       "  <tbody>\n",
       "    <tr>\n",
       "      <th>2018-01-01</th>\n",
       "      <td>92.0</td>\n",
       "      <td>69.0</td>\n",
       "      <td>97.0</td>\n",
       "      <td>75.0</td>\n",
       "    </tr>\n",
       "    <tr>\n",
       "      <th>2018-01-02</th>\n",
       "      <td>92.0</td>\n",
       "      <td>69.0</td>\n",
       "      <td>97.0</td>\n",
       "      <td>75.0</td>\n",
       "    </tr>\n",
       "    <tr>\n",
       "      <th>2018-01-03</th>\n",
       "      <td>92.0</td>\n",
       "      <td>69.0</td>\n",
       "      <td>97.0</td>\n",
       "      <td>75.0</td>\n",
       "    </tr>\n",
       "    <tr>\n",
       "      <th>2018-01-04</th>\n",
       "      <td>92.0</td>\n",
       "      <td>69.0</td>\n",
       "      <td>97.0</td>\n",
       "      <td>75.0</td>\n",
       "    </tr>\n",
       "    <tr>\n",
       "      <th>2018-01-05</th>\n",
       "      <td>92.0</td>\n",
       "      <td>69.0</td>\n",
       "      <td>97.0</td>\n",
       "      <td>75.0</td>\n",
       "    </tr>\n",
       "    <tr>\n",
       "      <th>2018-01-06</th>\n",
       "      <td>92.0</td>\n",
       "      <td>69.0</td>\n",
       "      <td>20.0</td>\n",
       "      <td>75.0</td>\n",
       "    </tr>\n",
       "    <tr>\n",
       "      <th>2018-01-07</th>\n",
       "      <td>49.0</td>\n",
       "      <td>60.0</td>\n",
       "      <td>56.0</td>\n",
       "      <td>75.0</td>\n",
       "    </tr>\n",
       "    <tr>\n",
       "      <th>2018-01-08</th>\n",
       "      <td>56.0</td>\n",
       "      <td>60.0</td>\n",
       "      <td>95.0</td>\n",
       "      <td>15.0</td>\n",
       "    </tr>\n",
       "    <tr>\n",
       "      <th>2018-01-09</th>\n",
       "      <td>72.0</td>\n",
       "      <td>60.0</td>\n",
       "      <td>95.0</td>\n",
       "      <td>84.0</td>\n",
       "    </tr>\n",
       "    <tr>\n",
       "      <th>2018-01-10</th>\n",
       "      <td>72.0</td>\n",
       "      <td>60.0</td>\n",
       "      <td>74.0</td>\n",
       "      <td>84.0</td>\n",
       "    </tr>\n",
       "  </tbody>\n",
       "</table>\n",
       "</div>"
      ],
      "text/plain": [
       "               A     B     C     D\n",
       "Time                              \n",
       "2018-01-01  92.0  69.0  97.0  75.0\n",
       "2018-01-02  92.0  69.0  97.0  75.0\n",
       "2018-01-03  92.0  69.0  97.0  75.0\n",
       "2018-01-04  92.0  69.0  97.0  75.0\n",
       "2018-01-05  92.0  69.0  97.0  75.0\n",
       "2018-01-06  92.0  69.0  20.0  75.0\n",
       "2018-01-07  49.0  60.0  56.0  75.0\n",
       "2018-01-08  56.0  60.0  95.0  15.0\n",
       "2018-01-09  72.0  60.0  95.0  84.0\n",
       "2018-01-10  72.0  60.0  74.0  84.0"
      ]
     },
     "execution_count": 6,
     "metadata": {},
     "output_type": "execute_result"
    }
   ],
   "source": [
    "bdata"
   ]
  },
  {
   "cell_type": "code",
   "execution_count": 7,
   "id": "5333a4fa",
   "metadata": {
    "ExecuteTime": {
     "end_time": "2022-09-21T21:17:42.598310Z",
     "start_time": "2022-09-21T21:17:42.577287Z"
    }
   },
   "outputs": [
    {
     "data": {
      "text/html": [
       "<div>\n",
       "<style scoped>\n",
       "    .dataframe tbody tr th:only-of-type {\n",
       "        vertical-align: middle;\n",
       "    }\n",
       "\n",
       "    .dataframe tbody tr th {\n",
       "        vertical-align: top;\n",
       "    }\n",
       "\n",
       "    .dataframe thead th {\n",
       "        text-align: right;\n",
       "    }\n",
       "</style>\n",
       "<table border=\"1\" class=\"dataframe\">\n",
       "  <thead>\n",
       "    <tr style=\"text-align: right;\">\n",
       "      <th></th>\n",
       "      <th>A</th>\n",
       "      <th>B</th>\n",
       "      <th>C</th>\n",
       "      <th>D</th>\n",
       "    </tr>\n",
       "    <tr>\n",
       "      <th>Time</th>\n",
       "      <th></th>\n",
       "      <th></th>\n",
       "      <th></th>\n",
       "      <th></th>\n",
       "    </tr>\n",
       "  </thead>\n",
       "  <tbody>\n",
       "    <tr>\n",
       "      <th>2018-01-01</th>\n",
       "      <td>7.0</td>\n",
       "      <td>5.0</td>\n",
       "      <td>NaN</td>\n",
       "      <td>3.0</td>\n",
       "    </tr>\n",
       "    <tr>\n",
       "      <th>2018-01-02</th>\n",
       "      <td>7.0</td>\n",
       "      <td>5.0</td>\n",
       "      <td>NaN</td>\n",
       "      <td>3.0</td>\n",
       "    </tr>\n",
       "    <tr>\n",
       "      <th>2018-01-03</th>\n",
       "      <td>7.0</td>\n",
       "      <td>5.0</td>\n",
       "      <td>NaN</td>\n",
       "      <td>3.0</td>\n",
       "    </tr>\n",
       "    <tr>\n",
       "      <th>2018-01-04</th>\n",
       "      <td>7.0</td>\n",
       "      <td>5.0</td>\n",
       "      <td>NaN</td>\n",
       "      <td>3.0</td>\n",
       "    </tr>\n",
       "    <tr>\n",
       "      <th>2018-01-05</th>\n",
       "      <td>NaN</td>\n",
       "      <td>5.0</td>\n",
       "      <td>NaN</td>\n",
       "      <td>3.0</td>\n",
       "    </tr>\n",
       "    <tr>\n",
       "      <th>2018-01-06</th>\n",
       "      <td>NaN</td>\n",
       "      <td>5.0</td>\n",
       "      <td>NaN</td>\n",
       "      <td>3.0</td>\n",
       "    </tr>\n",
       "    <tr>\n",
       "      <th>2018-01-07</th>\n",
       "      <td>NaN</td>\n",
       "      <td>5.0</td>\n",
       "      <td>NaN</td>\n",
       "      <td>0.0</td>\n",
       "    </tr>\n",
       "    <tr>\n",
       "      <th>2018-01-08</th>\n",
       "      <td>NaN</td>\n",
       "      <td>5.0</td>\n",
       "      <td>NaN</td>\n",
       "      <td>0.0</td>\n",
       "    </tr>\n",
       "    <tr>\n",
       "      <th>2018-01-09</th>\n",
       "      <td>NaN</td>\n",
       "      <td>5.0</td>\n",
       "      <td>NaN</td>\n",
       "      <td>0.0</td>\n",
       "    </tr>\n",
       "    <tr>\n",
       "      <th>2018-01-10</th>\n",
       "      <td>NaN</td>\n",
       "      <td>NaN</td>\n",
       "      <td>NaN</td>\n",
       "      <td>NaN</td>\n",
       "    </tr>\n",
       "  </tbody>\n",
       "</table>\n",
       "</div>"
      ],
      "text/plain": [
       "              A    B   C    D\n",
       "Time                         \n",
       "2018-01-01  7.0  5.0 NaN  3.0\n",
       "2018-01-02  7.0  5.0 NaN  3.0\n",
       "2018-01-03  7.0  5.0 NaN  3.0\n",
       "2018-01-04  7.0  5.0 NaN  3.0\n",
       "2018-01-05  NaN  5.0 NaN  3.0\n",
       "2018-01-06  NaN  5.0 NaN  3.0\n",
       "2018-01-07  NaN  5.0 NaN  0.0\n",
       "2018-01-08  NaN  5.0 NaN  0.0\n",
       "2018-01-09  NaN  5.0 NaN  0.0\n",
       "2018-01-10  NaN  NaN NaN  NaN"
      ]
     },
     "execution_count": 7,
     "metadata": {},
     "output_type": "execute_result"
    }
   ],
   "source": [
    "sdata"
   ]
  },
  {
   "cell_type": "code",
   "execution_count": null,
   "id": "20a1cac8",
   "metadata": {
    "ExecuteTime": {
     "end_time": "2022-09-21T21:16:07.757235Z",
     "start_time": "2022-09-21T21:16:07.748866Z"
    }
   },
   "outputs": [],
   "source": []
  },
  {
   "cell_type": "code",
   "execution_count": 10,
   "id": "dc5553b9",
   "metadata": {
    "ExecuteTime": {
     "end_time": "2022-09-21T21:23:48.385821Z",
     "start_time": "2022-09-21T21:23:48.381034Z"
    }
   },
   "outputs": [],
   "source": [
    "ratios = sdata.div(bdata)"
   ]
  },
  {
   "cell_type": "code",
   "execution_count": 11,
   "id": "1fdd90e7",
   "metadata": {
    "ExecuteTime": {
     "end_time": "2022-09-21T21:23:52.422955Z",
     "start_time": "2022-09-21T21:23:52.414307Z"
    }
   },
   "outputs": [
    {
     "name": "stdout",
     "output_type": "stream",
     "text": [
      "                   A         B   C     D\n",
      "Time                                    \n",
      "2018-01-01  0.076087  0.072464 NaN  0.04\n",
      "2018-01-02  0.076087  0.072464 NaN  0.04\n",
      "2018-01-03  0.076087  0.072464 NaN  0.04\n",
      "2018-01-04  0.076087  0.072464 NaN  0.04\n",
      "2018-01-05       NaN  0.072464 NaN  0.04\n",
      "2018-01-06       NaN  0.072464 NaN  0.04\n",
      "2018-01-07       NaN  0.083333 NaN  0.00\n",
      "2018-01-08       NaN  0.083333 NaN  0.00\n",
      "2018-01-09       NaN  0.083333 NaN  0.00\n",
      "2018-01-10       NaN       NaN NaN   NaN\n"
     ]
    }
   ],
   "source": [
    "print(ratios)"
   ]
  },
  {
   "cell_type": "code",
   "execution_count": 13,
   "id": "b3b64641",
   "metadata": {
    "ExecuteTime": {
     "end_time": "2022-09-21T21:25:07.033913Z",
     "start_time": "2022-09-21T21:25:07.023621Z"
    }
   },
   "outputs": [
    {
     "data": {
      "text/plain": [
       "Time\n",
       "2018-01-01    0.188551\n",
       "2018-01-02    0.188551\n",
       "2018-01-03    0.188551\n",
       "2018-01-04    0.188551\n",
       "2018-01-05    0.112464\n",
       "2018-01-06    0.112464\n",
       "2018-01-07    0.083333\n",
       "2018-01-08    0.083333\n",
       "2018-01-09    0.083333\n",
       "2018-01-10    0.000000\n",
       "dtype: float64"
      ]
     },
     "execution_count": 13,
     "metadata": {},
     "output_type": "execute_result"
    }
   ],
   "source": [
    "sums = ratios.sum(axis=1)\n",
    "sums"
   ]
  },
  {
   "cell_type": "code",
   "execution_count": null,
   "id": "87c52a66",
   "metadata": {},
   "outputs": [],
   "source": []
  }
 ],
 "metadata": {
  "hide_input": false,
  "kernelspec": {
   "display_name": "Python 3",
   "language": "python",
   "name": "python3"
  },
  "language_info": {
   "codemirror_mode": {
    "name": "ipython",
    "version": 3
   },
   "file_extension": ".py",
   "mimetype": "text/x-python",
   "name": "python",
   "nbconvert_exporter": "python",
   "pygments_lexer": "ipython3",
   "version": "3.6.9"
  },
  "toc": {
   "base_numbering": 1,
   "nav_menu": {},
   "number_sections": true,
   "sideBar": true,
   "skip_h1_title": false,
   "title_cell": "Table of Contents",
   "title_sidebar": "Contents",
   "toc_cell": false,
   "toc_position": {},
   "toc_section_display": true,
   "toc_window_display": false
  },
  "varInspector": {
   "cols": {
    "lenName": 16,
    "lenType": 16,
    "lenVar": 40
   },
   "kernels_config": {
    "python": {
     "delete_cmd_postfix": "",
     "delete_cmd_prefix": "del ",
     "library": "var_list.py",
     "varRefreshCmd": "print(var_dic_list())"
    },
    "r": {
     "delete_cmd_postfix": ") ",
     "delete_cmd_prefix": "rm(",
     "library": "var_list.r",
     "varRefreshCmd": "cat(var_dic_list()) "
    }
   },
   "types_to_exclude": [
    "module",
    "function",
    "builtin_function_or_method",
    "instance",
    "_Feature"
   ],
   "window_display": false
  }
 },
 "nbformat": 4,
 "nbformat_minor": 5
}
