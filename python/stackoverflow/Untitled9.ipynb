{
 "cells": [
  {
   "cell_type": "code",
   "execution_count": 1,
   "id": "281f7725",
   "metadata": {
    "ExecuteTime": {
     "end_time": "2023-12-13T14:30:50.623913Z",
     "start_time": "2023-12-13T14:30:49.971384Z"
    }
   },
   "outputs": [],
   "source": [
    "import numpy as np\n",
    "from scipy import optimize"
   ]
  },
  {
   "cell_type": "markdown",
   "id": "302b5f6b",
   "metadata": {},
   "source": [
    "https://stackoverflow.com/questions/77579069/how-to-minimize-two-functions-at-the-same-time-with-common-variables"
   ]
  },
  {
   "cell_type": "code",
   "execution_count": 14,
   "id": "9c11b855",
   "metadata": {
    "ExecuteTime": {
     "end_time": "2023-12-13T14:32:50.329847Z",
     "start_time": "2023-12-13T14:32:50.321827Z"
    }
   },
   "outputs": [],
   "source": [
    "def get_attraction(b1, b2, b3):\n",
    "    c1 = 20 * b1 + 12 * b2 + 6 * b3\n",
    "    c2 = 12 * b1 + 24 * b2 + 18 * b3\n",
    "    c3 = 0 * b1 + 14 * b2 + 30 * b3\n",
    "    return c1, c2, c3\n",
    "\n",
    "def get_prob(x, s1, s2, s3, a, lamda, t1, t2, t3):\n",
    "    \n",
    "    p1, p2 = x[0], x[1]\n",
    "    p3 = 1 - p1 - p2\n",
    "\n",
    "    b1 = s1 * (1-a) + p1 * a\n",
    "    b2 = s2 * (1-a) + p2 * a\n",
    "    b3 = s3 * (1-a) + p3 * a\n",
    "\n",
    "    c1, c2, c3 = get_attraction(b1, b2, b3)\n",
    "\n",
    "    a1 = c1 + t1\n",
    "    a2 = c2 + t2\n",
    "    a3 = c3 + t3\n",
    "\n",
    "    nom1 = np.exp(lamda * a1)\n",
    "    nom2 = np.exp(lamda * a2)\n",
    "    nom3 = np.exp(lamda * a3)\n",
    "    dem = nom1 + nom2 + nom3\n",
    "\n",
    "    p1_t = nom1 / dem\n",
    "    p2_t = nom2 / dem\n",
    "    p3_t = nom3 / dem\n",
    "\n",
    "    return (p1_t - p1)**2 + (p2_t - p2)**2 + (p3_t - p3)**2"
   ]
  },
  {
   "cell_type": "code",
   "execution_count": 38,
   "id": "1f19f54b",
   "metadata": {
    "ExecuteTime": {
     "end_time": "2023-12-13T14:40:44.342900Z",
     "start_time": "2023-12-13T14:40:44.100035Z"
    }
   },
   "outputs": [],
   "source": [
    "s1 = 1.0\n",
    "s2 = 0.0\n",
    "s3 = 0.0\n",
    "a = 1.0\n",
    "lamda = -10\n",
    "t1 = 30.0\n",
    "t2 = 30.0\n",
    "t3 = 30.0\n",
    "\n",
    "result = optimize.basinhopping(\n",
    "    get_prob,\n",
    "    x0=[0.1, 0.1],\n",
    "    niter=50,\n",
    "    #seed=np.random.seed(1),\n",
    "    #interval=10,\n",
    "    minimizer_kwargs={\n",
    "        'args': (s1, s2, s3, a, lamda, t1, t2, t3),\n",
    "        'method': \"SLSQP\",\n",
    "        'tol': 1.0e-5,\n",
    "        'bounds': [(0.0, 1.0), (0.0, 1.0)],\n",
    "        'constraints': [{\n",
    "            'type': 'ineq',\n",
    "            'fun': lambda x: 1 - x[0] - x[1],\n",
    "            'jac': lambda x: np.full_like(x, -1)\n",
    "        }]\n",
    "    }\n",
    ")\n"
   ]
  },
  {
   "cell_type": "code",
   "execution_count": 39,
   "id": "86c08bb3",
   "metadata": {
    "ExecuteTime": {
     "end_time": "2023-12-13T14:40:44.837667Z",
     "start_time": "2023-12-13T14:40:44.829323Z"
    }
   },
   "outputs": [
    {
     "data": {
      "text/plain": [
       "                        fun: 1.224937595129569e-10\n",
       " lowest_optimization_result:      fun: 1.224937595129569e-10\n",
       "     jac: array([0.54520172, 0.27248266])\n",
       " message: 'Optimization terminated successfully'\n",
       "    nfev: 25\n",
       "     nit: 5\n",
       "    njev: 5\n",
       "  status: 0\n",
       " success: True\n",
       "       x: array([5.45043794e-01, 2.65388499e-07])\n",
       "                    message: ['requested number of basinhopping iterations completed successfully']\n",
       "      minimization_failures: 0\n",
       "                       nfev: 1563\n",
       "                        nit: 50\n",
       "                       njev: 348\n",
       "                    success: True\n",
       "                          x: array([5.45043794e-01, 2.65388499e-07])"
      ]
     },
     "execution_count": 39,
     "metadata": {},
     "output_type": "execute_result"
    }
   ],
   "source": [
    "result"
   ]
  },
  {
   "cell_type": "code",
   "execution_count": null,
   "id": "f4869f8c",
   "metadata": {},
   "outputs": [],
   "source": []
  },
  {
   "cell_type": "code",
   "execution_count": null,
   "id": "92aa7aec",
   "metadata": {},
   "outputs": [],
   "source": []
  },
  {
   "cell_type": "code",
   "execution_count": null,
   "id": "3206bd2c",
   "metadata": {},
   "outputs": [],
   "source": []
  }
 ],
 "metadata": {
  "hide_input": false,
  "kernelspec": {
   "display_name": "Python 3",
   "language": "python",
   "name": "python3"
  },
  "language_info": {
   "codemirror_mode": {
    "name": "ipython",
    "version": 3
   },
   "file_extension": ".py",
   "mimetype": "text/x-python",
   "name": "python",
   "nbconvert_exporter": "python",
   "pygments_lexer": "ipython3",
   "version": "3.10.6"
  },
  "toc": {
   "base_numbering": 1,
   "nav_menu": {},
   "number_sections": true,
   "sideBar": true,
   "skip_h1_title": false,
   "title_cell": "Table of Contents",
   "title_sidebar": "Contents",
   "toc_cell": false,
   "toc_position": {},
   "toc_section_display": true,
   "toc_window_display": false
  },
  "varInspector": {
   "cols": {
    "lenName": 16,
    "lenType": 16,
    "lenVar": 40
   },
   "kernels_config": {
    "python": {
     "delete_cmd_postfix": "",
     "delete_cmd_prefix": "del ",
     "library": "var_list.py",
     "varRefreshCmd": "print(var_dic_list())"
    },
    "r": {
     "delete_cmd_postfix": ") ",
     "delete_cmd_prefix": "rm(",
     "library": "var_list.r",
     "varRefreshCmd": "cat(var_dic_list()) "
    }
   },
   "types_to_exclude": [
    "module",
    "function",
    "builtin_function_or_method",
    "instance",
    "_Feature"
   ],
   "window_display": false
  }
 },
 "nbformat": 4,
 "nbformat_minor": 5
}
