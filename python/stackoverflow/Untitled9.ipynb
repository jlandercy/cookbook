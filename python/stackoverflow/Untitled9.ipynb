{
 "cells": [
  {
   "cell_type": "code",
   "execution_count": 2,
   "id": "3c384ab5",
   "metadata": {
    "ExecuteTime": {
     "end_time": "2023-12-08T08:21:27.444932Z",
     "start_time": "2023-12-08T08:21:27.369194Z"
    }
   },
   "outputs": [],
   "source": [
    "import matplotlib.pyplot as plt\n",
    "import networkx as nx\n",
    "from shapely.geometry import LineString, Point"
   ]
  },
  {
   "cell_type": "markdown",
   "id": "281390fd",
   "metadata": {},
   "source": [
    "https://stackoverflow.com/questions/77605270/find-the-closest-distance-between-points-following-a-set-of-linestrings/77625191#77625191"
   ]
  },
  {
   "cell_type": "code",
   "execution_count": null,
   "id": "3bfe072c",
   "metadata": {},
   "outputs": [],
   "source": [
    "reds = [Point(0, 1), Point(3, 3)]\n",
    "greens = [Point(1, 0), Point(4, 4)]"
   ]
  },
  {
   "cell_type": "code",
   "execution_count": null,
   "id": "d3826d86",
   "metadata": {},
   "outputs": [],
   "source": []
  }
 ],
 "metadata": {
  "hide_input": false,
  "kernelspec": {
   "display_name": "Python 3",
   "language": "python",
   "name": "python3"
  },
  "language_info": {
   "codemirror_mode": {
    "name": "ipython",
    "version": 3
   },
   "file_extension": ".py",
   "mimetype": "text/x-python",
   "name": "python",
   "nbconvert_exporter": "python",
   "pygments_lexer": "ipython3",
   "version": "3.10.6"
  },
  "toc": {
   "base_numbering": 1,
   "nav_menu": {},
   "number_sections": true,
   "sideBar": true,
   "skip_h1_title": false,
   "title_cell": "Table of Contents",
   "title_sidebar": "Contents",
   "toc_cell": false,
   "toc_position": {},
   "toc_section_display": true,
   "toc_window_display": false
  },
  "varInspector": {
   "cols": {
    "lenName": 16,
    "lenType": 16,
    "lenVar": 40
   },
   "kernels_config": {
    "python": {
     "delete_cmd_postfix": "",
     "delete_cmd_prefix": "del ",
     "library": "var_list.py",
     "varRefreshCmd": "print(var_dic_list())"
    },
    "r": {
     "delete_cmd_postfix": ") ",
     "delete_cmd_prefix": "rm(",
     "library": "var_list.r",
     "varRefreshCmd": "cat(var_dic_list()) "
    }
   },
   "types_to_exclude": [
    "module",
    "function",
    "builtin_function_or_method",
    "instance",
    "_Feature"
   ],
   "window_display": false
  }
 },
 "nbformat": 4,
 "nbformat_minor": 5
}
