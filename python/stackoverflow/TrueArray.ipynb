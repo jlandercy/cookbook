{
 "cells": [
  {
   "cell_type": "markdown",
   "id": "bf360b3d",
   "metadata": {},
   "source": [
    "https://stackoverflow.com/questions/79059427/is-np-zeros-is-the-fastest-way-to-initiate-a-1d-numpy-boolean-array-of-trues"
   ]
  },
  {
   "cell_type": "code",
   "execution_count": 1,
   "id": "bb127a83",
   "metadata": {
    "ExecuteTime": {
     "end_time": "2024-10-06T15:25:32.435555Z",
     "start_time": "2024-10-06T15:25:32.429776Z"
    }
   },
   "outputs": [],
   "source": [
    "import numpy as np"
   ]
  },
  {
   "cell_type": "code",
   "execution_count": 2,
   "id": "31790067",
   "metadata": {
    "ExecuteTime": {
     "end_time": "2024-10-06T15:25:55.036109Z",
     "start_time": "2024-10-06T15:25:55.029579Z"
    }
   },
   "outputs": [],
   "source": [
    "N = 10_000"
   ]
  },
  {
   "cell_type": "code",
   "execution_count": 5,
   "id": "4cd67333",
   "metadata": {
    "ExecuteTime": {
     "end_time": "2024-10-06T15:26:24.978435Z",
     "start_time": "2024-10-06T15:26:23.888182Z"
    }
   },
   "outputs": [
    {
     "name": "stdout",
     "output_type": "stream",
     "text": [
      "3.59 µs ± 896 ns per loop (mean ± std. dev. of 30 runs, 10,000 loops each)\n"
     ]
    }
   ],
   "source": [
    "%timeit -n 10000 -r 30 np.ones(N, dtype=bool)"
   ]
  },
  {
   "cell_type": "code",
   "execution_count": 6,
   "id": "689d9301",
   "metadata": {
    "ExecuteTime": {
     "end_time": "2024-10-06T15:26:40.634342Z",
     "start_time": "2024-10-06T15:26:39.691451Z"
    }
   },
   "outputs": [
    {
     "name": "stdout",
     "output_type": "stream",
     "text": [
      "3.08 µs ± 833 ns per loop (mean ± std. dev. of 30 runs, 10,000 loops each)\n"
     ]
    }
   ],
   "source": [
    "%timeit -n 10000 -r 30 ~np.zeros(N, dtype=bool)"
   ]
  },
  {
   "cell_type": "code",
   "execution_count": 10,
   "id": "1e653597",
   "metadata": {
    "ExecuteTime": {
     "end_time": "2024-10-06T15:27:32.815162Z",
     "start_time": "2024-10-06T15:27:32.029182Z"
    }
   },
   "outputs": [
    {
     "name": "stdout",
     "output_type": "stream",
     "text": [
      "2.59 µs ± 496 ns per loop (mean ± std. dev. of 30 runs, 10,000 loops each)\n"
     ]
    }
   ],
   "source": [
    "%timeit -n 10000 -r 30 np.full(N, True)"
   ]
  },
  {
   "cell_type": "code",
   "execution_count": 9,
   "id": "2b61e18d",
   "metadata": {
    "ExecuteTime": {
     "end_time": "2024-10-06T15:27:23.263663Z",
     "start_time": "2024-10-06T15:27:23.239234Z"
    }
   },
   "outputs": [
    {
     "data": {
      "text/plain": [
       "array([ True,  True,  True, ...,  True,  True,  True])"
      ]
     },
     "execution_count": 9,
     "metadata": {},
     "output_type": "execute_result"
    }
   ],
   "source": []
  },
  {
   "cell_type": "code",
   "execution_count": null,
   "id": "1802dab2",
   "metadata": {},
   "outputs": [],
   "source": []
  }
 ],
 "metadata": {
  "hide_input": false,
  "kernelspec": {
   "display_name": "Python 3",
   "language": "python",
   "name": "python3"
  },
  "language_info": {
   "codemirror_mode": {
    "name": "ipython",
    "version": 3
   },
   "file_extension": ".py",
   "mimetype": "text/x-python",
   "name": "python",
   "nbconvert_exporter": "python",
   "pygments_lexer": "ipython3",
   "version": "3.10.6"
  },
  "toc": {
   "base_numbering": 1,
   "nav_menu": {},
   "number_sections": true,
   "sideBar": true,
   "skip_h1_title": false,
   "title_cell": "Table of Contents",
   "title_sidebar": "Contents",
   "toc_cell": false,
   "toc_position": {},
   "toc_section_display": true,
   "toc_window_display": false
  },
  "varInspector": {
   "cols": {
    "lenName": 16,
    "lenType": 16,
    "lenVar": 40
   },
   "kernels_config": {
    "python": {
     "delete_cmd_postfix": "",
     "delete_cmd_prefix": "del ",
     "library": "var_list.py",
     "varRefreshCmd": "print(var_dic_list())"
    },
    "r": {
     "delete_cmd_postfix": ") ",
     "delete_cmd_prefix": "rm(",
     "library": "var_list.r",
     "varRefreshCmd": "cat(var_dic_list()) "
    }
   },
   "types_to_exclude": [
    "module",
    "function",
    "builtin_function_or_method",
    "instance",
    "_Feature"
   ],
   "window_display": false
  }
 },
 "nbformat": 4,
 "nbformat_minor": 5
}
