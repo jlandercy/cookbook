{
 "cells": [
  {
   "cell_type": "code",
   "execution_count": 1,
   "metadata": {
    "ExecuteTime": {
     "end_time": "2020-10-10T16:55:58.590406Z",
     "start_time": "2020-10-10T16:55:58.580740Z"
    }
   },
   "outputs": [],
   "source": [
    "s = \"105 156 143 157 162 145 040 164 157 165 164 145 163 040 155 145 163 040 146 303 251 154 151 143 151 164 141 164 151 157 156 163 040 072 055 051\""
   ]
  },
  {
   "cell_type": "code",
   "execution_count": 7,
   "metadata": {
    "ExecuteTime": {
     "end_time": "2020-10-10T16:58:30.447442Z",
     "start_time": "2020-10-10T16:58:30.403755Z"
    }
   },
   "outputs": [
    {
     "data": {
      "text/plain": [
       "'Encore toutes mes fÃ©licitations :-)'"
      ]
     },
     "execution_count": 7,
     "metadata": {},
     "output_type": "execute_result"
    }
   ],
   "source": [
    "\"\".join([chr(int('0o' + x, base=8)) for x in s.split(\" \")])"
   ]
  },
  {
   "cell_type": "code",
   "execution_count": 8,
   "metadata": {
    "ExecuteTime": {
     "end_time": "2020-10-10T17:00:57.824419Z",
     "start_time": "2020-10-10T17:00:57.811676Z"
    }
   },
   "outputs": [],
   "source": [
    "BS=\"0123456789ABCDEFGHIJKLMNOPQRSTUVWXYZ\"\n",
    "def to_base(s, b):\n",
    "    res = \"\"\n",
    "    while s:\n",
    "        res+=BS[s%b]\n",
    "        s//= b\n",
    "    return res[::-1] or \"0\""
   ]
  },
  {
   "cell_type": "code",
   "execution_count": 10,
   "metadata": {
    "ExecuteTime": {
     "end_time": "2020-10-10T17:01:17.368906Z",
     "start_time": "2020-10-10T17:01:17.360734Z"
    }
   },
   "outputs": [],
   "source": [
    "r = \"Merci Bastien\""
   ]
  },
  {
   "cell_type": "code",
   "execution_count": 15,
   "metadata": {
    "ExecuteTime": {
     "end_time": "2020-10-10T17:03:11.274247Z",
     "start_time": "2020-10-10T17:03:11.243628Z"
    }
   },
   "outputs": [
    {
     "data": {
      "text/plain": [
       "'140 203 222 201 210 044 123 166 223 224 210 203 215'"
      ]
     },
     "execution_count": 15,
     "metadata": {},
     "output_type": "execute_result"
    }
   ],
   "source": [
    "\" \".join([\"{:0>3s}\".format(to_base(ord(x), 7)) for x in r])"
   ]
  },
  {
   "cell_type": "code",
   "execution_count": null,
   "metadata": {},
   "outputs": [],
   "source": []
  }
 ],
 "metadata": {
  "hide_input": false,
  "kernelspec": {
   "display_name": "Python 3",
   "language": "python",
   "name": "python3"
  },
  "language_info": {
   "codemirror_mode": {
    "name": "ipython",
    "version": 3
   },
   "file_extension": ".py",
   "mimetype": "text/x-python",
   "name": "python",
   "nbconvert_exporter": "python",
   "pygments_lexer": "ipython3",
   "version": "3.6.9"
  },
  "toc": {
   "base_numbering": 1,
   "nav_menu": {},
   "number_sections": true,
   "sideBar": true,
   "skip_h1_title": false,
   "title_cell": "Table of Contents",
   "title_sidebar": "Contents",
   "toc_cell": false,
   "toc_position": {},
   "toc_section_display": true,
   "toc_window_display": false
  },
  "varInspector": {
   "cols": {
    "lenName": 16,
    "lenType": 16,
    "lenVar": 40
   },
   "kernels_config": {
    "python": {
     "delete_cmd_postfix": "",
     "delete_cmd_prefix": "del ",
     "library": "var_list.py",
     "varRefreshCmd": "print(var_dic_list())"
    },
    "r": {
     "delete_cmd_postfix": ") ",
     "delete_cmd_prefix": "rm(",
     "library": "var_list.r",
     "varRefreshCmd": "cat(var_dic_list()) "
    }
   },
   "types_to_exclude": [
    "module",
    "function",
    "builtin_function_or_method",
    "instance",
    "_Feature"
   ],
   "window_display": false
  }
 },
 "nbformat": 4,
 "nbformat_minor": 4
}
