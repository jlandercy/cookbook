{
 "cells": [
  {
   "cell_type": "code",
   "execution_count": 1,
   "id": "08213732",
   "metadata": {
    "ExecuteTime": {
     "end_time": "2022-09-17T07:28:25.312731Z",
     "start_time": "2022-09-17T07:28:24.754084Z"
    }
   },
   "outputs": [],
   "source": [
    "import pandas as pd"
   ]
  },
  {
   "cell_type": "markdown",
   "id": "6bafad3f",
   "metadata": {},
   "source": [
    "https://stackoverflow.com/questions/73693154/pandas-to-extract-directory-data-into-tabular-form"
   ]
  },
  {
   "cell_type": "code",
   "execution_count": 2,
   "id": "83d0eb3f",
   "metadata": {
    "ExecuteTime": {
     "end_time": "2022-09-17T07:28:25.323660Z",
     "start_time": "2022-09-17T07:28:25.316559Z"
    }
   },
   "outputs": [],
   "source": [
    "data = \"\"\"dn: cn=teja_rafoo,ou=Projects,ou=People,ou=LLDI,o=LLC\n",
    "costCenter: KR000001\n",
    "LLCResponsible: cn=llcq05075,ou=Personal,ou=People,ou=LLDI,o=LLC\n",
    "fullName: Entertainment account\n",
    "LLCAutoSudoRole: cn=teja_rafoo,ou=Auto,ou=Sudoers,ou=Global,o=Services\n",
    "LLCSecurityLevel: 0\n",
    "LLCSecDom: cn=LLC,ou=SecurityDomains,ou=LLDI,o=LLC\n",
    "LLCEndDate: 20000000\n",
    "mail: jhaboo.udalt@LLC.com\n",
    "LLCObjectType: ProjectAccount\n",
    "LLCHomeDirectory: nisMapName=auto.home,ou=LLC_EMEA_NL-LDC01,ou=Locations,ou=LLDI,o=LLC#0#Quality=ScratchHP,NisMap=LLC4008:/proj/LLC4008_teja_rafoo_cache/q,Quota=20,Id=cache\n",
    "LLCHomeDirectory: nisMapName=auto.home,ou=LLC_EMEA_NL-LDC01,ou=Locations,ou=LLDI,o=LLC#0#Quality=BusinessCriticalHP,Quota=50,NisMap=LLC3008:/proj/LLC3008_teja_rafoo/q\n",
    "LLCSecurityDomain: cn=LLC,ou=SecurityDomains,ou=Global,o=Services\n",
    "loginShell: /bin/bash\n",
    "sn: teja_rafoo\n",
    "cn: teja_rafoo\n",
    "LLCStartDate: 20200510\n",
    "objectClass: Top\n",
    "objectClass: inetOrgPerson\n",
    "objectClass: LLCUserAuxClass\n",
    "objectClass: organizationalPerson\n",
    "objectClass: Person\n",
    "LLCPrimaryGroup: cn=teja_rafoo,ou=Generic,ou=Group,ou=LLDI,o=LLC\n",
    "homeDirectory: /home/teja_rafoo\n",
    "LLCRequestorGroup: cn=Default,ou=Requestors,ou=Master,o=Services\n",
    "gecos: Entertainment account\n",
    "gidNumber: 2365\n",
    "LLCAutoSudoEntitledUser: cn=llcmgr,ou=Functional,ou=People,ou=LLDI,o=LLC\n",
    "uidNumber: 9678\n",
    "LLCLocalStatus: Active\n",
    "uid: teja_rafoo\n",
    "\n",
    "dn: cn=chourya_rafoo,ou=Projects,ou=People,ou=LLDI,o=LLC\n",
    "costCenter: KR000002\n",
    "LLCResponsible: cn=llcq05075,ou=Personal,ou=People,ou=LLDI,o=LLC\n",
    "fullName: Entertainment account\n",
    "LLCAutoSudoRole: cn=chourya_rafoo,ou=Auto,ou=Sudoers,ou=Global,o=Services\n",
    "LLCSecurityLevel: 0\n",
    "LLCSecDom: cn=LLC,ou=SecurityDomains,ou=LLDI,o=LLC\n",
    "LLCEndDate: 20000000\n",
    "mail: jhaboo.udalt@LLC.com\n",
    "LLCObjectType: ProjectAccount\n",
    "LLCHomeDirectory: nisMapName=auto.home,ou=LLC_EMEA_NL-LDC02,ou=Locations,ou=LLDI,o=LLC#0#Quality=ScratchHP,NisMap=LLC4008:/proj/LLC4008_chourya_rafoo_cache/q,Quota=20,Id=cache\n",
    "LLCHomeDirectory: nisMapName=auto.home,ou=LLC_EMEA_NL-LDC02,ou=Locations,ou=LLDI,o=LLC#0#Quality=BusinessCriticalHP,Quota=50,NisMap=LLC3008:/proj/LLC3008_chourya_rafoo/q\n",
    "LLCSecurityDomain: cn=LLC,ou=SecurityDomains,ou=Global,o=Services\n",
    "loginShell: /bin/bash\n",
    "sn: chourya_rafoo\n",
    "cn: chourya_rafoo\n",
    "LLCStartDate: 20200510\n",
    "objectClass: Top\n",
    "objectClass: inetOrgPerson\n",
    "objectClass: LLCUserAuxClass\n",
    "objectClass: organizationalPerson\n",
    "objectClass: Person\n",
    "LLCPrimaryGroup: cn=chourya_rafoo,ou=Generic,ou=Group,ou=LLDI,o=LLC\n",
    "homeDirectory: /home/chourya_rafoo\n",
    "LLCRequestorGroup: cn=Default,ou=Requestors,ou=Master,o=Services\n",
    "gecos: Entertainment account\n",
    "gidNumber: 2365\n",
    "LLCAutoSudoEntitledUser: cn=llcmgr,ou=Functional,ou=People,ou=LLDI,o=LLC\n",
    "uidNumber: 9678\n",
    "LLCLocalStatus: Active\n",
    "uid: chourya_rafoo\"\"\""
   ]
  },
  {
   "cell_type": "code",
   "execution_count": 3,
   "id": "65dd7081",
   "metadata": {
    "ExecuteTime": {
     "end_time": "2022-09-17T07:28:25.335947Z",
     "start_time": "2022-09-17T07:28:25.327133Z"
    }
   },
   "outputs": [],
   "source": [
    "def generate(file):\n",
    "\n",
    "    with open(file, \"r\") as handler:\n",
    "        text = handler.read()\n",
    "\n",
    "    records = text.split(\"\\n\\n\")\n",
    "    for record in records:\n",
    "        \n",
    "        result = {}\n",
    "        for line in record.split(\"\\n\"):\n",
    "            \n",
    "            key, value = line.split(\": \")\n",
    "            if key in result:\n",
    "                result[key] += \";\" + value\n",
    "            else:\n",
    "                result[key] = value\n",
    "                \n",
    "        yield result"
   ]
  },
  {
   "cell_type": "code",
   "execution_count": 4,
   "id": "5225b753",
   "metadata": {
    "ExecuteTime": {
     "end_time": "2022-09-17T07:28:25.393662Z",
     "start_time": "2022-09-17T07:28:25.339402Z"
    }
   },
   "outputs": [
    {
     "data": {
      "text/html": [
       "<div>\n",
       "<style scoped>\n",
       "    .dataframe tbody tr th:only-of-type {\n",
       "        vertical-align: middle;\n",
       "    }\n",
       "\n",
       "    .dataframe tbody tr th {\n",
       "        vertical-align: top;\n",
       "    }\n",
       "\n",
       "    .dataframe thead th {\n",
       "        text-align: right;\n",
       "    }\n",
       "</style>\n",
       "<table border=\"1\" class=\"dataframe\">\n",
       "  <thead>\n",
       "    <tr style=\"text-align: right;\">\n",
       "      <th></th>\n",
       "      <th>dn</th>\n",
       "      <th>costCenter</th>\n",
       "      <th>LLCResponsible</th>\n",
       "      <th>fullName</th>\n",
       "      <th>LLCAutoSudoRole</th>\n",
       "      <th>LLCSecurityLevel</th>\n",
       "      <th>LLCSecDom</th>\n",
       "      <th>LLCEndDate</th>\n",
       "      <th>mail</th>\n",
       "      <th>LLCObjectType</th>\n",
       "      <th>...</th>\n",
       "      <th>objectClass</th>\n",
       "      <th>LLCPrimaryGroup</th>\n",
       "      <th>homeDirectory</th>\n",
       "      <th>LLCRequestorGroup</th>\n",
       "      <th>gecos</th>\n",
       "      <th>gidNumber</th>\n",
       "      <th>LLCAutoSudoEntitledUser</th>\n",
       "      <th>uidNumber</th>\n",
       "      <th>LLCLocalStatus</th>\n",
       "      <th>uid</th>\n",
       "    </tr>\n",
       "  </thead>\n",
       "  <tbody>\n",
       "    <tr>\n",
       "      <th>0</th>\n",
       "      <td>cn=teja_rafoo,ou=Projects,ou=People,ou=LLDI,o=LLC</td>\n",
       "      <td>KR000001</td>\n",
       "      <td>cn=llcq05075,ou=Personal,ou=People,ou=LLDI,o=LLC</td>\n",
       "      <td>Entertainment account</td>\n",
       "      <td>cn=teja_rafoo,ou=Auto,ou=Sudoers,ou=Global,o=S...</td>\n",
       "      <td>0</td>\n",
       "      <td>cn=LLC,ou=SecurityDomains,ou=LLDI,o=LLC</td>\n",
       "      <td>20000000</td>\n",
       "      <td>jhaboo.udalt@LLC.com</td>\n",
       "      <td>ProjectAccount</td>\n",
       "      <td>...</td>\n",
       "      <td>Top;inetOrgPerson;LLCUserAuxClass;organization...</td>\n",
       "      <td>cn=teja_rafoo,ou=Generic,ou=Group,ou=LLDI,o=LLC</td>\n",
       "      <td>/home/teja_rafoo</td>\n",
       "      <td>cn=Default,ou=Requestors,ou=Master,o=Services</td>\n",
       "      <td>Entertainment account</td>\n",
       "      <td>2365</td>\n",
       "      <td>cn=llcmgr,ou=Functional,ou=People,ou=LLDI,o=LLC</td>\n",
       "      <td>9678</td>\n",
       "      <td>Active</td>\n",
       "      <td>teja_rafoo</td>\n",
       "    </tr>\n",
       "    <tr>\n",
       "      <th>1</th>\n",
       "      <td>cn=chourya_rafoo,ou=Projects,ou=People,ou=LLDI...</td>\n",
       "      <td>KR000002</td>\n",
       "      <td>cn=llcq05075,ou=Personal,ou=People,ou=LLDI,o=LLC</td>\n",
       "      <td>Entertainment account</td>\n",
       "      <td>cn=chourya_rafoo,ou=Auto,ou=Sudoers,ou=Global,...</td>\n",
       "      <td>0</td>\n",
       "      <td>cn=LLC,ou=SecurityDomains,ou=LLDI,o=LLC</td>\n",
       "      <td>20000000</td>\n",
       "      <td>jhaboo.udalt@LLC.com</td>\n",
       "      <td>ProjectAccount</td>\n",
       "      <td>...</td>\n",
       "      <td>Top;inetOrgPerson;LLCUserAuxClass;organization...</td>\n",
       "      <td>cn=chourya_rafoo,ou=Generic,ou=Group,ou=LLDI,o...</td>\n",
       "      <td>/home/chourya_rafoo</td>\n",
       "      <td>cn=Default,ou=Requestors,ou=Master,o=Services</td>\n",
       "      <td>Entertainment account</td>\n",
       "      <td>2365</td>\n",
       "      <td>cn=llcmgr,ou=Functional,ou=People,ou=LLDI,o=LLC</td>\n",
       "      <td>9678</td>\n",
       "      <td>Active</td>\n",
       "      <td>chourya_rafoo</td>\n",
       "    </tr>\n",
       "  </tbody>\n",
       "</table>\n",
       "<p>2 rows × 26 columns</p>\n",
       "</div>"
      ],
      "text/plain": [
       "                                                  dn costCenter  \\\n",
       "0  cn=teja_rafoo,ou=Projects,ou=People,ou=LLDI,o=LLC   KR000001   \n",
       "1  cn=chourya_rafoo,ou=Projects,ou=People,ou=LLDI...   KR000002   \n",
       "\n",
       "                                     LLCResponsible               fullName  \\\n",
       "0  cn=llcq05075,ou=Personal,ou=People,ou=LLDI,o=LLC  Entertainment account   \n",
       "1  cn=llcq05075,ou=Personal,ou=People,ou=LLDI,o=LLC  Entertainment account   \n",
       "\n",
       "                                     LLCAutoSudoRole LLCSecurityLevel  \\\n",
       "0  cn=teja_rafoo,ou=Auto,ou=Sudoers,ou=Global,o=S...                0   \n",
       "1  cn=chourya_rafoo,ou=Auto,ou=Sudoers,ou=Global,...                0   \n",
       "\n",
       "                                 LLCSecDom LLCEndDate                  mail  \\\n",
       "0  cn=LLC,ou=SecurityDomains,ou=LLDI,o=LLC   20000000  jhaboo.udalt@LLC.com   \n",
       "1  cn=LLC,ou=SecurityDomains,ou=LLDI,o=LLC   20000000  jhaboo.udalt@LLC.com   \n",
       "\n",
       "    LLCObjectType  ...                                        objectClass  \\\n",
       "0  ProjectAccount  ...  Top;inetOrgPerson;LLCUserAuxClass;organization...   \n",
       "1  ProjectAccount  ...  Top;inetOrgPerson;LLCUserAuxClass;organization...   \n",
       "\n",
       "                                     LLCPrimaryGroup        homeDirectory  \\\n",
       "0    cn=teja_rafoo,ou=Generic,ou=Group,ou=LLDI,o=LLC     /home/teja_rafoo   \n",
       "1  cn=chourya_rafoo,ou=Generic,ou=Group,ou=LLDI,o...  /home/chourya_rafoo   \n",
       "\n",
       "                               LLCRequestorGroup                  gecos  \\\n",
       "0  cn=Default,ou=Requestors,ou=Master,o=Services  Entertainment account   \n",
       "1  cn=Default,ou=Requestors,ou=Master,o=Services  Entertainment account   \n",
       "\n",
       "  gidNumber                          LLCAutoSudoEntitledUser uidNumber  \\\n",
       "0      2365  cn=llcmgr,ou=Functional,ou=People,ou=LLDI,o=LLC      9678   \n",
       "1      2365  cn=llcmgr,ou=Functional,ou=People,ou=LLDI,o=LLC      9678   \n",
       "\n",
       "  LLCLocalStatus            uid  \n",
       "0         Active     teja_rafoo  \n",
       "1         Active  chourya_rafoo  \n",
       "\n",
       "[2 rows x 26 columns]"
      ]
     },
     "execution_count": 4,
     "metadata": {},
     "output_type": "execute_result"
    }
   ],
   "source": [
    "frame = pd.DataFrame(generate(\"llc-data.txt\"))\n",
    "frame"
   ]
  },
  {
   "cell_type": "code",
   "execution_count": 9,
   "id": "dd42ad3e",
   "metadata": {
    "ExecuteTime": {
     "end_time": "2022-09-17T07:29:30.942425Z",
     "start_time": "2022-09-17T07:29:30.935505Z"
    }
   },
   "outputs": [],
   "source": [
    "\n",
    "frame[\"responsible\"] = frame[\"LLCResponsible\"].str.extract(\"cn=([\\w]*)\")\n",
    "frame[\"location\"] = frame[\"LLCHomeDirectory\"].str.extract(\"ou=([\\w_\\-]*)\")\n",
    "frame[\"directory\"] = frame[\"LLCHomeDirectory\"].str.findall(\"NisMap=\\w+:([\\w_\\-/]*)\")"
   ]
  },
  {
   "cell_type": "code",
   "execution_count": 10,
   "id": "826fab84",
   "metadata": {
    "ExecuteTime": {
     "end_time": "2022-09-17T07:29:31.742742Z",
     "start_time": "2022-09-17T07:29:31.736303Z"
    }
   },
   "outputs": [
    {
     "data": {
      "text/plain": [
       "array(['nisMapName=auto.home,ou=LLC_EMEA_NL-LDC01,ou=Locations,ou=LLDI,o=LLC#0#Quality=ScratchHP,NisMap=LLC4008:/proj/LLC4008_teja_rafoo_cache/q,Quota=20,Id=cache;nisMapName=auto.home,ou=LLC_EMEA_NL-LDC01,ou=Locations,ou=LLDI,o=LLC#0#Quality=BusinessCriticalHP,Quota=50,NisMap=LLC3008:/proj/LLC3008_teja_rafoo/q'],\n",
       "      dtype=object)"
      ]
     },
     "execution_count": 10,
     "metadata": {},
     "output_type": "execute_result"
    }
   ],
   "source": [
    "frame.loc[0,[\"LLCHomeDirectory\"]].values"
   ]
  },
  {
   "cell_type": "raw",
   "id": "7889bd59",
   "metadata": {},
   "source": [
    "costCenter      LLCResponsible          fullName                mail                    LLCHomeDirectory                        Location\n",
    "\n",
    "KR000001        llcq05075               Entertainment account   jhaboo.udalt@LLC.com    /proj/LLC4008_teja_rafoo_cache/q        LLC_EMEA_NL-LDC01\n",
    "                                                                                        /proj/LLC3008_teja_rafoo/q\n",
    "KR000002        llcq05076               Entertainment account   jhaboo.udalt@LLC.com    /proj/LLC4008_chourya_rafoo_cache/q     LLC_EMEA_NL-LDC02\n",
    "                                                                                        /proj/LLC3008_chourya_rafoo/q\n",
    "                                                    \n"
   ]
  },
  {
   "cell_type": "code",
   "execution_count": 11,
   "id": "ad7539df",
   "metadata": {
    "ExecuteTime": {
     "end_time": "2022-09-17T07:29:34.987915Z",
     "start_time": "2022-09-17T07:29:34.977734Z"
    }
   },
   "outputs": [
    {
     "name": "stdout",
     "output_type": "stream",
     "text": [
      "  costCenter responsible           location  \\\n",
      "0   KR000001   llcq05075  LLC_EMEA_NL-LDC01   \n",
      "1   KR000002   llcq05075  LLC_EMEA_NL-LDC02   \n",
      "\n",
      "                                           directory               fullName  \\\n",
      "0  [/proj/LLC4008_teja_rafoo_cache/q, /proj/LLC30...  Entertainment account   \n",
      "1  [/proj/LLC4008_chourya_rafoo_cache/q, /proj/LL...  Entertainment account   \n",
      "\n",
      "                   mail  \n",
      "0  jhaboo.udalt@LLC.com  \n",
      "1  jhaboo.udalt@LLC.com  \n"
     ]
    }
   ],
   "source": [
    "print(frame[[\"costCenter\", \"responsible\", \"location\", \"directory\", \"fullName\", \"mail\"]])"
   ]
  },
  {
   "cell_type": "code",
   "execution_count": 12,
   "id": "75823183",
   "metadata": {
    "ExecuteTime": {
     "end_time": "2022-09-17T07:29:37.088887Z",
     "start_time": "2022-09-17T07:29:37.076368Z"
    }
   },
   "outputs": [
    {
     "name": "stdout",
     "output_type": "stream",
     "text": [
      "  costCenter responsible                            directory\n",
      "0   KR000001   llcq05075     /proj/LLC4008_teja_rafoo_cache/q\n",
      "0   KR000001   llcq05075           /proj/LLC3008_teja_rafoo/q\n",
      "1   KR000002   llcq05075  /proj/LLC4008_chourya_rafoo_cache/q\n",
      "1   KR000002   llcq05075        /proj/LLC3008_chourya_rafoo/q\n"
     ]
    }
   ],
   "source": [
    "print(frame.explode(\"directory\")[[\"costCenter\", \"responsible\", \"directory\"]])"
   ]
  },
  {
   "cell_type": "code",
   "execution_count": null,
   "id": "c751fe14",
   "metadata": {},
   "outputs": [],
   "source": []
  },
  {
   "cell_type": "code",
   "execution_count": null,
   "id": "af3eb287",
   "metadata": {},
   "outputs": [],
   "source": []
  },
  {
   "cell_type": "code",
   "execution_count": null,
   "id": "e0a7199b",
   "metadata": {},
   "outputs": [],
   "source": []
  }
 ],
 "metadata": {
  "hide_input": false,
  "kernelspec": {
   "display_name": "Python 3",
   "language": "python",
   "name": "python3"
  },
  "language_info": {
   "codemirror_mode": {
    "name": "ipython",
    "version": 3
   },
   "file_extension": ".py",
   "mimetype": "text/x-python",
   "name": "python",
   "nbconvert_exporter": "python",
   "pygments_lexer": "ipython3",
   "version": "3.6.9"
  },
  "toc": {
   "base_numbering": 1,
   "nav_menu": {},
   "number_sections": true,
   "sideBar": true,
   "skip_h1_title": false,
   "title_cell": "Table of Contents",
   "title_sidebar": "Contents",
   "toc_cell": false,
   "toc_position": {},
   "toc_section_display": true,
   "toc_window_display": false
  },
  "varInspector": {
   "cols": {
    "lenName": 16,
    "lenType": 16,
    "lenVar": 40
   },
   "kernels_config": {
    "python": {
     "delete_cmd_postfix": "",
     "delete_cmd_prefix": "del ",
     "library": "var_list.py",
     "varRefreshCmd": "print(var_dic_list())"
    },
    "r": {
     "delete_cmd_postfix": ") ",
     "delete_cmd_prefix": "rm(",
     "library": "var_list.r",
     "varRefreshCmd": "cat(var_dic_list()) "
    }
   },
   "types_to_exclude": [
    "module",
    "function",
    "builtin_function_or_method",
    "instance",
    "_Feature"
   ],
   "window_display": false
  }
 },
 "nbformat": 4,
 "nbformat_minor": 5
}
