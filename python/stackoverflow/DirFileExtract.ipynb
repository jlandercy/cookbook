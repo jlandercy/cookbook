{
 "cells": [
  {
   "cell_type": "code",
   "execution_count": 1,
   "id": "08213732",
   "metadata": {
    "ExecuteTime": {
     "end_time": "2022-09-17T09:10:54.942573Z",
     "start_time": "2022-09-17T09:10:54.183298Z"
    }
   },
   "outputs": [],
   "source": [
    "import pandas as pd"
   ]
  },
  {
   "cell_type": "markdown",
   "id": "6bafad3f",
   "metadata": {},
   "source": [
    "https://stackoverflow.com/questions/73693154/pandas-to-extract-directory-data-into-tabular-form"
   ]
  },
  {
   "cell_type": "code",
   "execution_count": 2,
   "id": "65dd7081",
   "metadata": {
    "ExecuteTime": {
     "end_time": "2022-09-17T09:10:54.951691Z",
     "start_time": "2022-09-17T09:10:54.945526Z"
    }
   },
   "outputs": [],
   "source": [
    "def generate(file):\n",
    "    with open(file) as handler:\n",
    "        for record in handler.read().split(\"\\n\\n\"):\n",
    "            result = {}\n",
    "            for line in record.split(\"\\n\"):\n",
    "                key, value, *_ = line.split(\": \")\n",
    "                if key in result:\n",
    "                    result[key] += \";\" + value\n",
    "                else:\n",
    "                    result[key] = value\n",
    "            yield result"
   ]
  },
  {
   "cell_type": "code",
   "execution_count": 3,
   "id": "5225b753",
   "metadata": {
    "ExecuteTime": {
     "end_time": "2022-09-17T09:10:55.014676Z",
     "start_time": "2022-09-17T09:10:54.955083Z"
    }
   },
   "outputs": [
    {
     "data": {
      "text/html": [
       "<div>\n",
       "<style scoped>\n",
       "    .dataframe tbody tr th:only-of-type {\n",
       "        vertical-align: middle;\n",
       "    }\n",
       "\n",
       "    .dataframe tbody tr th {\n",
       "        vertical-align: top;\n",
       "    }\n",
       "\n",
       "    .dataframe thead th {\n",
       "        text-align: right;\n",
       "    }\n",
       "</style>\n",
       "<table border=\"1\" class=\"dataframe\">\n",
       "  <thead>\n",
       "    <tr style=\"text-align: right;\">\n",
       "      <th></th>\n",
       "      <th>dn</th>\n",
       "      <th>costCenter</th>\n",
       "      <th>LLCResponsible</th>\n",
       "      <th>fullName</th>\n",
       "      <th>LLCAutoSudoRole</th>\n",
       "      <th>LLCSecurityLevel</th>\n",
       "      <th>LLCSecDom</th>\n",
       "      <th>LLCEndDate</th>\n",
       "      <th>mail</th>\n",
       "      <th>LLCObjectType</th>\n",
       "      <th>...</th>\n",
       "      <th>objectClass</th>\n",
       "      <th>LLCPrimaryGroup</th>\n",
       "      <th>homeDirectory</th>\n",
       "      <th>LLCRequestorGroup</th>\n",
       "      <th>gecos</th>\n",
       "      <th>gidNumber</th>\n",
       "      <th>LLCAutoSudoEntitledUser</th>\n",
       "      <th>uidNumber</th>\n",
       "      <th>LLCLocalStatus</th>\n",
       "      <th>uid</th>\n",
       "    </tr>\n",
       "  </thead>\n",
       "  <tbody>\n",
       "    <tr>\n",
       "      <th>0</th>\n",
       "      <td>cn=teja_rafoo,ou=Projects,ou=People,ou=LLDI,o=LLC</td>\n",
       "      <td>KR000001</td>\n",
       "      <td>cn=llcq05075,ou=Personal,ou=People,ou=LLDI,o=LLC</td>\n",
       "      <td>Entertainment account</td>\n",
       "      <td>cn=teja_rafoo,ou=Auto,ou=Sudoers,ou=Global,o=S...</td>\n",
       "      <td>0</td>\n",
       "      <td>cn=LLC,ou=SecurityDomains,ou=LLDI,o=LLC</td>\n",
       "      <td>20000000</td>\n",
       "      <td>jhaboo.udalt@LLC.com</td>\n",
       "      <td>ProjectAccount</td>\n",
       "      <td>...</td>\n",
       "      <td>Top;inetOrgPerson;LLCUserAuxClass;organization...</td>\n",
       "      <td>cn=teja_rafoo,ou=Generic,ou=Group,ou=LLDI,o=LLC</td>\n",
       "      <td>/home/teja_rafoo</td>\n",
       "      <td>cn=Default,ou=Requestors,ou=Master,o=Services</td>\n",
       "      <td>Entertainment account</td>\n",
       "      <td>2365</td>\n",
       "      <td>cn=llcmgr,ou=Functional,ou=People,ou=LLDI,o=LLC</td>\n",
       "      <td>9678</td>\n",
       "      <td>Active</td>\n",
       "      <td>teja_rafoo</td>\n",
       "    </tr>\n",
       "    <tr>\n",
       "      <th>1</th>\n",
       "      <td>cn=chourya_rafoo,ou=Projects,ou=People,ou=LLDI...</td>\n",
       "      <td>KR000002</td>\n",
       "      <td>cn=llcq05075,ou=Personal,ou=People,ou=LLDI,o=LLC</td>\n",
       "      <td>Entertainment account</td>\n",
       "      <td>cn=chourya_rafoo,ou=Auto,ou=Sudoers,ou=Global,...</td>\n",
       "      <td>0</td>\n",
       "      <td>cn=LLC,ou=SecurityDomains,ou=LLDI,o=LLC</td>\n",
       "      <td>20000000</td>\n",
       "      <td>jhaboo.udalt@LLC.com</td>\n",
       "      <td>ProjectAccount</td>\n",
       "      <td>...</td>\n",
       "      <td>Top;inetOrgPerson;LLCUserAuxClass;organization...</td>\n",
       "      <td>cn=chourya_rafoo,ou=Generic,ou=Group,ou=LLDI,o...</td>\n",
       "      <td>/home/chourya_rafoo</td>\n",
       "      <td>cn=Default,ou=Requestors,ou=Master,o=Services</td>\n",
       "      <td>Entertainment account</td>\n",
       "      <td>2365</td>\n",
       "      <td>cn=llcmgr,ou=Functional,ou=People,ou=LLDI,o=LLC</td>\n",
       "      <td>9678</td>\n",
       "      <td>Active</td>\n",
       "      <td>chourya_rafoo</td>\n",
       "    </tr>\n",
       "    <tr>\n",
       "      <th>2</th>\n",
       "      <td>cn=chourya_rafoo,ou=Projects,ou=People,ou=LLDI...</td>\n",
       "      <td>KR000002</td>\n",
       "      <td>cn=llcq05075,ou=Personal,ou=People,ou=LLDI,o=LLC</td>\n",
       "      <td>Entertainment account</td>\n",
       "      <td>cn=chourya_rafoo,ou=Auto,ou=Sudoers,ou=Global,...</td>\n",
       "      <td>0</td>\n",
       "      <td>cn=LLC,ou=SecurityDomains,ou=LLDI,o=LLC</td>\n",
       "      <td>20000000LLCEndDate</td>\n",
       "      <td>jhaboo.udalt@LLC.com</td>\n",
       "      <td>ProjectAccount</td>\n",
       "      <td>...</td>\n",
       "      <td>Top;inetOrgPerson;LLCUserAuxClass;organization...</td>\n",
       "      <td>cn=chourya_rafoo,ou=Generic,ou=Group,ou=LLDI,o...</td>\n",
       "      <td>/home/chourya_rafoo</td>\n",
       "      <td>cn=Default,ou=Requestors,ou=Master,o=Services</td>\n",
       "      <td>Entertainment account</td>\n",
       "      <td>2365</td>\n",
       "      <td>cn=llcmgr,ou=Functional,ou=People,ou=LLDI,o=LLC</td>\n",
       "      <td>9678</td>\n",
       "      <td>Active</td>\n",
       "      <td>chourya_rafoo</td>\n",
       "    </tr>\n",
       "  </tbody>\n",
       "</table>\n",
       "<p>3 rows × 26 columns</p>\n",
       "</div>"
      ],
      "text/plain": [
       "                                                  dn costCenter  \\\n",
       "0  cn=teja_rafoo,ou=Projects,ou=People,ou=LLDI,o=LLC   KR000001   \n",
       "1  cn=chourya_rafoo,ou=Projects,ou=People,ou=LLDI...   KR000002   \n",
       "2  cn=chourya_rafoo,ou=Projects,ou=People,ou=LLDI...   KR000002   \n",
       "\n",
       "                                     LLCResponsible               fullName  \\\n",
       "0  cn=llcq05075,ou=Personal,ou=People,ou=LLDI,o=LLC  Entertainment account   \n",
       "1  cn=llcq05075,ou=Personal,ou=People,ou=LLDI,o=LLC  Entertainment account   \n",
       "2  cn=llcq05075,ou=Personal,ou=People,ou=LLDI,o=LLC  Entertainment account   \n",
       "\n",
       "                                     LLCAutoSudoRole LLCSecurityLevel  \\\n",
       "0  cn=teja_rafoo,ou=Auto,ou=Sudoers,ou=Global,o=S...                0   \n",
       "1  cn=chourya_rafoo,ou=Auto,ou=Sudoers,ou=Global,...                0   \n",
       "2  cn=chourya_rafoo,ou=Auto,ou=Sudoers,ou=Global,...                0   \n",
       "\n",
       "                                 LLCSecDom          LLCEndDate  \\\n",
       "0  cn=LLC,ou=SecurityDomains,ou=LLDI,o=LLC            20000000   \n",
       "1  cn=LLC,ou=SecurityDomains,ou=LLDI,o=LLC            20000000   \n",
       "2  cn=LLC,ou=SecurityDomains,ou=LLDI,o=LLC  20000000LLCEndDate   \n",
       "\n",
       "                   mail   LLCObjectType  ...  \\\n",
       "0  jhaboo.udalt@LLC.com  ProjectAccount  ...   \n",
       "1  jhaboo.udalt@LLC.com  ProjectAccount  ...   \n",
       "2  jhaboo.udalt@LLC.com  ProjectAccount  ...   \n",
       "\n",
       "                                         objectClass  \\\n",
       "0  Top;inetOrgPerson;LLCUserAuxClass;organization...   \n",
       "1  Top;inetOrgPerson;LLCUserAuxClass;organization...   \n",
       "2  Top;inetOrgPerson;LLCUserAuxClass;organization...   \n",
       "\n",
       "                                     LLCPrimaryGroup        homeDirectory  \\\n",
       "0    cn=teja_rafoo,ou=Generic,ou=Group,ou=LLDI,o=LLC     /home/teja_rafoo   \n",
       "1  cn=chourya_rafoo,ou=Generic,ou=Group,ou=LLDI,o...  /home/chourya_rafoo   \n",
       "2  cn=chourya_rafoo,ou=Generic,ou=Group,ou=LLDI,o...  /home/chourya_rafoo   \n",
       "\n",
       "                               LLCRequestorGroup                  gecos  \\\n",
       "0  cn=Default,ou=Requestors,ou=Master,o=Services  Entertainment account   \n",
       "1  cn=Default,ou=Requestors,ou=Master,o=Services  Entertainment account   \n",
       "2  cn=Default,ou=Requestors,ou=Master,o=Services  Entertainment account   \n",
       "\n",
       "  gidNumber                          LLCAutoSudoEntitledUser uidNumber  \\\n",
       "0      2365  cn=llcmgr,ou=Functional,ou=People,ou=LLDI,o=LLC      9678   \n",
       "1      2365  cn=llcmgr,ou=Functional,ou=People,ou=LLDI,o=LLC      9678   \n",
       "2      2365  cn=llcmgr,ou=Functional,ou=People,ou=LLDI,o=LLC      9678   \n",
       "\n",
       "  LLCLocalStatus            uid  \n",
       "0         Active     teja_rafoo  \n",
       "1         Active  chourya_rafoo  \n",
       "2         Active  chourya_rafoo  \n",
       "\n",
       "[3 rows x 26 columns]"
      ]
     },
     "execution_count": 3,
     "metadata": {},
     "output_type": "execute_result"
    }
   ],
   "source": [
    "frame = pd.DataFrame(generate(\"llc-data.txt\"))\n",
    "frame"
   ]
  },
  {
   "cell_type": "code",
   "execution_count": 4,
   "id": "dd42ad3e",
   "metadata": {
    "ExecuteTime": {
     "end_time": "2022-09-17T09:10:55.027364Z",
     "start_time": "2022-09-17T09:10:55.017491Z"
    }
   },
   "outputs": [],
   "source": [
    "\n",
    "frame[\"responsible\"] = frame[\"LLCResponsible\"].str.extract(\"cn=([\\w]*)\")\n",
    "frame[\"location\"] = frame[\"LLCHomeDirectory\"].str.extract(\"ou=([\\w_\\-]*)\")\n",
    "frame[\"directory\"] = frame[\"LLCHomeDirectory\"].str.findall(\"NisMap=\\w+:([\\w_\\-/]*)\")"
   ]
  },
  {
   "cell_type": "code",
   "execution_count": 5,
   "id": "826fab84",
   "metadata": {
    "ExecuteTime": {
     "end_time": "2022-09-17T09:10:55.036414Z",
     "start_time": "2022-09-17T09:10:55.030209Z"
    }
   },
   "outputs": [
    {
     "data": {
      "text/plain": [
       "array(['nisMapName=auto.home,ou=LLC_EMEA_NL-LDC01,ou=Locations,ou=LLDI,o=LLC#0#Quality=ScratchHP,NisMap=LLC4008:/proj/LLC4008_teja_rafoo_cache/q,Quota=20,Id=cache;nisMapName=auto.home,ou=LLC_EMEA_NL-LDC01,ou=Locations,ou=LLDI,o=LLC#0#Quality=BusinessCriticalHP,Quota=50,NisMap=LLC3008:/proj/LLC3008_teja_rafoo/q'],\n",
       "      dtype=object)"
      ]
     },
     "execution_count": 5,
     "metadata": {},
     "output_type": "execute_result"
    }
   ],
   "source": [
    "frame.loc[0,[\"LLCHomeDirectory\"]].values"
   ]
  },
  {
   "cell_type": "raw",
   "id": "7889bd59",
   "metadata": {},
   "source": [
    "costCenter      LLCResponsible          fullName                mail                    LLCHomeDirectory                        Location\n",
    "\n",
    "KR000001        llcq05075               Entertainment account   jhaboo.udalt@LLC.com    /proj/LLC4008_teja_rafoo_cache/q        LLC_EMEA_NL-LDC01\n",
    "                                                                                        /proj/LLC3008_teja_rafoo/q\n",
    "KR000002        llcq05076               Entertainment account   jhaboo.udalt@LLC.com    /proj/LLC4008_chourya_rafoo_cache/q     LLC_EMEA_NL-LDC02\n",
    "                                                                                        /proj/LLC3008_chourya_rafoo/q\n",
    "                                                    \n"
   ]
  },
  {
   "cell_type": "code",
   "execution_count": 6,
   "id": "ad7539df",
   "metadata": {
    "ExecuteTime": {
     "end_time": "2022-09-17T09:10:55.048812Z",
     "start_time": "2022-09-17T09:10:55.038562Z"
    }
   },
   "outputs": [
    {
     "name": "stdout",
     "output_type": "stream",
     "text": [
      "  costCenter responsible           location  \\\n",
      "0   KR000001   llcq05075  LLC_EMEA_NL-LDC01   \n",
      "1   KR000002   llcq05075  LLC_EMEA_NL-LDC02   \n",
      "2   KR000002   llcq05075  LLC_EMEA_NL-LDC02   \n",
      "\n",
      "                                           directory               fullName  \\\n",
      "0  [/proj/LLC4008_teja_rafoo_cache/q, /proj/LLC30...  Entertainment account   \n",
      "1  [/proj/LLC4008_chourya_rafoo_cache/q, /proj/LL...  Entertainment account   \n",
      "2  [/proj/LLC4008_chourya_rafoo_cache/q, /proj/LL...  Entertainment account   \n",
      "\n",
      "                   mail  \n",
      "0  jhaboo.udalt@LLC.com  \n",
      "1  jhaboo.udalt@LLC.com  \n",
      "2  jhaboo.udalt@LLC.com  \n"
     ]
    }
   ],
   "source": [
    "print(frame[[\"costCenter\", \"responsible\", \"location\", \"directory\", \"fullName\", \"mail\"]])"
   ]
  },
  {
   "cell_type": "code",
   "execution_count": 7,
   "id": "75823183",
   "metadata": {
    "ExecuteTime": {
     "end_time": "2022-09-17T09:10:55.065940Z",
     "start_time": "2022-09-17T09:10:55.051212Z"
    }
   },
   "outputs": [
    {
     "name": "stdout",
     "output_type": "stream",
     "text": [
      "  costCenter responsible                            directory\n",
      "0   KR000001   llcq05075     /proj/LLC4008_teja_rafoo_cache/q\n",
      "0   KR000001   llcq05075           /proj/LLC3008_teja_rafoo/q\n",
      "1   KR000002   llcq05075  /proj/LLC4008_chourya_rafoo_cache/q\n",
      "1   KR000002   llcq05075        /proj/LLC3008_chourya_rafoo/q\n",
      "2   KR000002   llcq05075  /proj/LLC4008_chourya_rafoo_cache/q\n",
      "2   KR000002   llcq05075        /proj/LLC3008_chourya_rafoo/q\n"
     ]
    }
   ],
   "source": [
    "print(frame.explode(\"directory\")[[\"costCenter\", \"responsible\", \"directory\"]])"
   ]
  },
  {
   "cell_type": "code",
   "execution_count": null,
   "id": "c751fe14",
   "metadata": {},
   "outputs": [],
   "source": []
  },
  {
   "cell_type": "code",
   "execution_count": 8,
   "id": "af3eb287",
   "metadata": {
    "ExecuteTime": {
     "end_time": "2022-09-17T09:10:55.075601Z",
     "start_time": "2022-09-17T09:10:55.070365Z"
    }
   },
   "outputs": [],
   "source": [
    "frame[\"username\"] = frame[\"LLCAutoSudoRole\"].str.extract(\"cn=([\\w]*)\")"
   ]
  },
  {
   "cell_type": "code",
   "execution_count": 9,
   "id": "e0a7199b",
   "metadata": {
    "ExecuteTime": {
     "end_time": "2022-09-17T09:10:55.107024Z",
     "start_time": "2022-09-17T09:10:55.078630Z"
    }
   },
   "outputs": [
    {
     "data": {
      "text/html": [
       "<div>\n",
       "<style scoped>\n",
       "    .dataframe tbody tr th:only-of-type {\n",
       "        vertical-align: middle;\n",
       "    }\n",
       "\n",
       "    .dataframe tbody tr th {\n",
       "        vertical-align: top;\n",
       "    }\n",
       "\n",
       "    .dataframe thead th {\n",
       "        text-align: right;\n",
       "    }\n",
       "</style>\n",
       "<table border=\"1\" class=\"dataframe\">\n",
       "  <thead>\n",
       "    <tr style=\"text-align: right;\">\n",
       "      <th></th>\n",
       "      <th>dn</th>\n",
       "      <th>costCenter</th>\n",
       "      <th>LLCResponsible</th>\n",
       "      <th>fullName</th>\n",
       "      <th>LLCAutoSudoRole</th>\n",
       "      <th>LLCSecurityLevel</th>\n",
       "      <th>LLCSecDom</th>\n",
       "      <th>LLCEndDate</th>\n",
       "      <th>mail</th>\n",
       "      <th>LLCObjectType</th>\n",
       "      <th>...</th>\n",
       "      <th>gecos</th>\n",
       "      <th>gidNumber</th>\n",
       "      <th>LLCAutoSudoEntitledUser</th>\n",
       "      <th>uidNumber</th>\n",
       "      <th>LLCLocalStatus</th>\n",
       "      <th>uid</th>\n",
       "      <th>responsible</th>\n",
       "      <th>location</th>\n",
       "      <th>directory</th>\n",
       "      <th>username</th>\n",
       "    </tr>\n",
       "  </thead>\n",
       "  <tbody>\n",
       "    <tr>\n",
       "      <th>0</th>\n",
       "      <td>cn=teja_rafoo,ou=Projects,ou=People,ou=LLDI,o=LLC</td>\n",
       "      <td>KR000001</td>\n",
       "      <td>cn=llcq05075,ou=Personal,ou=People,ou=LLDI,o=LLC</td>\n",
       "      <td>Entertainment account</td>\n",
       "      <td>cn=teja_rafoo,ou=Auto,ou=Sudoers,ou=Global,o=S...</td>\n",
       "      <td>0</td>\n",
       "      <td>cn=LLC,ou=SecurityDomains,ou=LLDI,o=LLC</td>\n",
       "      <td>20000000</td>\n",
       "      <td>jhaboo.udalt@LLC.com</td>\n",
       "      <td>ProjectAccount</td>\n",
       "      <td>...</td>\n",
       "      <td>Entertainment account</td>\n",
       "      <td>2365</td>\n",
       "      <td>cn=llcmgr,ou=Functional,ou=People,ou=LLDI,o=LLC</td>\n",
       "      <td>9678</td>\n",
       "      <td>Active</td>\n",
       "      <td>teja_rafoo</td>\n",
       "      <td>llcq05075</td>\n",
       "      <td>LLC_EMEA_NL-LDC01</td>\n",
       "      <td>[/proj/LLC4008_teja_rafoo_cache/q, /proj/LLC30...</td>\n",
       "      <td>teja_rafoo</td>\n",
       "    </tr>\n",
       "    <tr>\n",
       "      <th>1</th>\n",
       "      <td>cn=chourya_rafoo,ou=Projects,ou=People,ou=LLDI...</td>\n",
       "      <td>KR000002</td>\n",
       "      <td>cn=llcq05075,ou=Personal,ou=People,ou=LLDI,o=LLC</td>\n",
       "      <td>Entertainment account</td>\n",
       "      <td>cn=chourya_rafoo,ou=Auto,ou=Sudoers,ou=Global,...</td>\n",
       "      <td>0</td>\n",
       "      <td>cn=LLC,ou=SecurityDomains,ou=LLDI,o=LLC</td>\n",
       "      <td>20000000</td>\n",
       "      <td>jhaboo.udalt@LLC.com</td>\n",
       "      <td>ProjectAccount</td>\n",
       "      <td>...</td>\n",
       "      <td>Entertainment account</td>\n",
       "      <td>2365</td>\n",
       "      <td>cn=llcmgr,ou=Functional,ou=People,ou=LLDI,o=LLC</td>\n",
       "      <td>9678</td>\n",
       "      <td>Active</td>\n",
       "      <td>chourya_rafoo</td>\n",
       "      <td>llcq05075</td>\n",
       "      <td>LLC_EMEA_NL-LDC02</td>\n",
       "      <td>[/proj/LLC4008_chourya_rafoo_cache/q, /proj/LL...</td>\n",
       "      <td>chourya_rafoo</td>\n",
       "    </tr>\n",
       "    <tr>\n",
       "      <th>2</th>\n",
       "      <td>cn=chourya_rafoo,ou=Projects,ou=People,ou=LLDI...</td>\n",
       "      <td>KR000002</td>\n",
       "      <td>cn=llcq05075,ou=Personal,ou=People,ou=LLDI,o=LLC</td>\n",
       "      <td>Entertainment account</td>\n",
       "      <td>cn=chourya_rafoo,ou=Auto,ou=Sudoers,ou=Global,...</td>\n",
       "      <td>0</td>\n",
       "      <td>cn=LLC,ou=SecurityDomains,ou=LLDI,o=LLC</td>\n",
       "      <td>20000000LLCEndDate</td>\n",
       "      <td>jhaboo.udalt@LLC.com</td>\n",
       "      <td>ProjectAccount</td>\n",
       "      <td>...</td>\n",
       "      <td>Entertainment account</td>\n",
       "      <td>2365</td>\n",
       "      <td>cn=llcmgr,ou=Functional,ou=People,ou=LLDI,o=LLC</td>\n",
       "      <td>9678</td>\n",
       "      <td>Active</td>\n",
       "      <td>chourya_rafoo</td>\n",
       "      <td>llcq05075</td>\n",
       "      <td>LLC_EMEA_NL-LDC02</td>\n",
       "      <td>[/proj/LLC4008_chourya_rafoo_cache/q, /proj/LL...</td>\n",
       "      <td>chourya_rafoo</td>\n",
       "    </tr>\n",
       "  </tbody>\n",
       "</table>\n",
       "<p>3 rows × 30 columns</p>\n",
       "</div>"
      ],
      "text/plain": [
       "                                                  dn costCenter  \\\n",
       "0  cn=teja_rafoo,ou=Projects,ou=People,ou=LLDI,o=LLC   KR000001   \n",
       "1  cn=chourya_rafoo,ou=Projects,ou=People,ou=LLDI...   KR000002   \n",
       "2  cn=chourya_rafoo,ou=Projects,ou=People,ou=LLDI...   KR000002   \n",
       "\n",
       "                                     LLCResponsible               fullName  \\\n",
       "0  cn=llcq05075,ou=Personal,ou=People,ou=LLDI,o=LLC  Entertainment account   \n",
       "1  cn=llcq05075,ou=Personal,ou=People,ou=LLDI,o=LLC  Entertainment account   \n",
       "2  cn=llcq05075,ou=Personal,ou=People,ou=LLDI,o=LLC  Entertainment account   \n",
       "\n",
       "                                     LLCAutoSudoRole LLCSecurityLevel  \\\n",
       "0  cn=teja_rafoo,ou=Auto,ou=Sudoers,ou=Global,o=S...                0   \n",
       "1  cn=chourya_rafoo,ou=Auto,ou=Sudoers,ou=Global,...                0   \n",
       "2  cn=chourya_rafoo,ou=Auto,ou=Sudoers,ou=Global,...                0   \n",
       "\n",
       "                                 LLCSecDom          LLCEndDate  \\\n",
       "0  cn=LLC,ou=SecurityDomains,ou=LLDI,o=LLC            20000000   \n",
       "1  cn=LLC,ou=SecurityDomains,ou=LLDI,o=LLC            20000000   \n",
       "2  cn=LLC,ou=SecurityDomains,ou=LLDI,o=LLC  20000000LLCEndDate   \n",
       "\n",
       "                   mail   LLCObjectType  ...                  gecos gidNumber  \\\n",
       "0  jhaboo.udalt@LLC.com  ProjectAccount  ...  Entertainment account      2365   \n",
       "1  jhaboo.udalt@LLC.com  ProjectAccount  ...  Entertainment account      2365   \n",
       "2  jhaboo.udalt@LLC.com  ProjectAccount  ...  Entertainment account      2365   \n",
       "\n",
       "                           LLCAutoSudoEntitledUser uidNumber LLCLocalStatus  \\\n",
       "0  cn=llcmgr,ou=Functional,ou=People,ou=LLDI,o=LLC      9678         Active   \n",
       "1  cn=llcmgr,ou=Functional,ou=People,ou=LLDI,o=LLC      9678         Active   \n",
       "2  cn=llcmgr,ou=Functional,ou=People,ou=LLDI,o=LLC      9678         Active   \n",
       "\n",
       "             uid responsible           location  \\\n",
       "0     teja_rafoo   llcq05075  LLC_EMEA_NL-LDC01   \n",
       "1  chourya_rafoo   llcq05075  LLC_EMEA_NL-LDC02   \n",
       "2  chourya_rafoo   llcq05075  LLC_EMEA_NL-LDC02   \n",
       "\n",
       "                                           directory       username  \n",
       "0  [/proj/LLC4008_teja_rafoo_cache/q, /proj/LLC30...     teja_rafoo  \n",
       "1  [/proj/LLC4008_chourya_rafoo_cache/q, /proj/LL...  chourya_rafoo  \n",
       "2  [/proj/LLC4008_chourya_rafoo_cache/q, /proj/LL...  chourya_rafoo  \n",
       "\n",
       "[3 rows x 30 columns]"
      ]
     },
     "execution_count": 9,
     "metadata": {},
     "output_type": "execute_result"
    }
   ],
   "source": [
    "frame"
   ]
  },
  {
   "cell_type": "code",
   "execution_count": null,
   "id": "05b8d7d4",
   "metadata": {},
   "outputs": [],
   "source": []
  }
 ],
 "metadata": {
  "hide_input": false,
  "kernelspec": {
   "display_name": "Python 3",
   "language": "python",
   "name": "python3"
  },
  "language_info": {
   "codemirror_mode": {
    "name": "ipython",
    "version": 3
   },
   "file_extension": ".py",
   "mimetype": "text/x-python",
   "name": "python",
   "nbconvert_exporter": "python",
   "pygments_lexer": "ipython3",
   "version": "3.6.9"
  },
  "toc": {
   "base_numbering": 1,
   "nav_menu": {},
   "number_sections": true,
   "sideBar": true,
   "skip_h1_title": false,
   "title_cell": "Table of Contents",
   "title_sidebar": "Contents",
   "toc_cell": false,
   "toc_position": {},
   "toc_section_display": true,
   "toc_window_display": false
  },
  "varInspector": {
   "cols": {
    "lenName": 16,
    "lenType": 16,
    "lenVar": 40
   },
   "kernels_config": {
    "python": {
     "delete_cmd_postfix": "",
     "delete_cmd_prefix": "del ",
     "library": "var_list.py",
     "varRefreshCmd": "print(var_dic_list())"
    },
    "r": {
     "delete_cmd_postfix": ") ",
     "delete_cmd_prefix": "rm(",
     "library": "var_list.r",
     "varRefreshCmd": "cat(var_dic_list()) "
    }
   },
   "types_to_exclude": [
    "module",
    "function",
    "builtin_function_or_method",
    "instance",
    "_Feature"
   ],
   "window_display": false
  }
 },
 "nbformat": 4,
 "nbformat_minor": 5
}
