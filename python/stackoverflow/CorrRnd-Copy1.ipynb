{
 "cells": [
  {
   "cell_type": "code",
   "execution_count": 1,
   "id": "d12af260",
   "metadata": {
    "ExecuteTime": {
     "end_time": "2023-12-26T13:24:23.437485Z",
     "start_time": "2023-12-26T13:24:21.552556Z"
    }
   },
   "outputs": [],
   "source": [
    "import numpy as np\n",
    "from scipy import linalg, stats, optimize\n",
    "import matplotlib.pyplot as plt"
   ]
  },
  {
   "cell_type": "code",
   "execution_count": null,
   "id": "f071dec0",
   "metadata": {},
   "outputs": [],
   "source": []
  },
  {
   "cell_type": "code",
   "execution_count": 2,
   "id": "2b043a84",
   "metadata": {
    "ExecuteTime": {
     "end_time": "2023-12-26T13:24:23.447643Z",
     "start_time": "2023-12-26T13:24:23.441219Z"
    }
   },
   "outputs": [],
   "source": [
    "np.random.seed(12345)"
   ]
  },
  {
   "cell_type": "code",
   "execution_count": 3,
   "id": "b98b77eb",
   "metadata": {
    "ExecuteTime": {
     "end_time": "2023-12-26T13:24:23.456290Z",
     "start_time": "2023-12-26T13:24:23.450919Z"
    }
   },
   "outputs": [],
   "source": [
    "C = np.array([\n",
    "    [1.0, 0.6],\n",
    "    [0.6, 1.0]\n",
    "])"
   ]
  },
  {
   "cell_type": "code",
   "execution_count": 4,
   "id": "5ed3645e",
   "metadata": {
    "ExecuteTime": {
     "end_time": "2023-12-26T13:24:23.476483Z",
     "start_time": "2023-12-26T13:24:23.461837Z"
    }
   },
   "outputs": [
    {
     "data": {
      "text/plain": [
       "array([[1. , 0.6],\n",
       "       [0. , 0.8]])"
      ]
     },
     "execution_count": 4,
     "metadata": {},
     "output_type": "execute_result"
    }
   ],
   "source": [
    "U = linalg.cholesky(C)\n",
    "U"
   ]
  },
  {
   "cell_type": "code",
   "execution_count": 5,
   "id": "4b32987f",
   "metadata": {
    "ExecuteTime": {
     "end_time": "2023-12-26T13:24:23.488762Z",
     "start_time": "2023-12-26T13:24:23.479889Z"
    }
   },
   "outputs": [
    {
     "data": {
      "text/plain": [
       "array([[1. , 0.6],\n",
       "       [0.6, 1. ]])"
      ]
     },
     "execution_count": 5,
     "metadata": {},
     "output_type": "execute_result"
    }
   ],
   "source": [
    "U.T @ U"
   ]
  },
  {
   "cell_type": "code",
   "execution_count": 6,
   "id": "6df18099",
   "metadata": {
    "ExecuteTime": {
     "end_time": "2023-12-26T13:24:23.501076Z",
     "start_time": "2023-12-26T13:24:23.492056Z"
    }
   },
   "outputs": [],
   "source": [
    "A = np.random.poisson(size=(30000, 2))"
   ]
  },
  {
   "cell_type": "code",
   "execution_count": 7,
   "id": "5e6eb49e",
   "metadata": {
    "ExecuteTime": {
     "end_time": "2023-12-26T13:24:23.509428Z",
     "start_time": "2023-12-26T13:24:23.504201Z"
    }
   },
   "outputs": [],
   "source": [
    "B = np.round(A @ U)"
   ]
  },
  {
   "cell_type": "code",
   "execution_count": null,
   "id": "fabee9a1",
   "metadata": {
    "ExecuteTime": {
     "end_time": "2023-12-26T13:16:07.188807Z",
     "start_time": "2023-12-26T13:16:07.173914Z"
    },
    "scrolled": true
   },
   "outputs": [],
   "source": []
  },
  {
   "cell_type": "code",
   "execution_count": 8,
   "id": "d551a136",
   "metadata": {
    "ExecuteTime": {
     "end_time": "2023-12-26T13:24:23.521964Z",
     "start_time": "2023-12-26T13:24:23.512541Z"
    }
   },
   "outputs": [
    {
     "data": {
      "text/plain": [
       "PearsonRResult(statistic=-0.0017291732343174566, pvalue=0.7645667090135223)"
      ]
     },
     "execution_count": 8,
     "metadata": {},
     "output_type": "execute_result"
    }
   ],
   "source": [
    "stats.pearsonr(A[:,0], A[:,1])"
   ]
  },
  {
   "cell_type": "code",
   "execution_count": 9,
   "id": "c909edde",
   "metadata": {
    "ExecuteTime": {
     "end_time": "2023-12-26T13:24:23.539344Z",
     "start_time": "2023-12-26T13:24:23.527354Z"
    }
   },
   "outputs": [
    {
     "data": {
      "text/plain": [
       "PearsonRResult(statistic=0.5666379367559297, pvalue=0.0)"
      ]
     },
     "execution_count": 9,
     "metadata": {},
     "output_type": "execute_result"
    }
   ],
   "source": [
    "stats.pearsonr(B[:,0], B[:,1])"
   ]
  },
  {
   "cell_type": "code",
   "execution_count": null,
   "id": "3d4e8df5",
   "metadata": {},
   "outputs": [],
   "source": []
  },
  {
   "cell_type": "code",
   "execution_count": 10,
   "id": "e5b4acec",
   "metadata": {
    "ExecuteTime": {
     "end_time": "2023-12-26T13:24:23.554520Z",
     "start_time": "2023-12-26T13:24:23.547064Z"
    }
   },
   "outputs": [],
   "source": [
    "def likelihood(beta, data):\n",
    "    return - stats.poisson.logpmf(data, beta[0]).sum()"
   ]
  },
  {
   "cell_type": "code",
   "execution_count": 11,
   "id": "b79a90e4",
   "metadata": {
    "ExecuteTime": {
     "end_time": "2023-12-26T13:24:23.596186Z",
     "start_time": "2023-12-26T13:24:23.559054Z"
    }
   },
   "outputs": [
    {
     "data": {
      "text/plain": [
       "   direc: array([[1.]])\n",
       "     fun: 39086.95586323236\n",
       " message: 'Optimization terminated successfully.'\n",
       "    nfev: 13\n",
       "     nit: 1\n",
       "  status: 0\n",
       " success: True\n",
       "       x: array([0.99724405])"
      ]
     },
     "execution_count": 11,
     "metadata": {},
     "output_type": "execute_result"
    }
   ],
   "source": [
    "result1 = optimize.minimize(likelihood, x0=[1], args=(B[:,0],), method='Powell')\n",
    "result1"
   ]
  },
  {
   "cell_type": "code",
   "execution_count": 12,
   "id": "d6ec0307",
   "metadata": {
    "ExecuteTime": {
     "end_time": "2023-12-26T13:24:23.678063Z",
     "start_time": "2023-12-26T13:24:23.603075Z"
    }
   },
   "outputs": [
    {
     "data": {
      "text/plain": [
       "   direc: array([[-0.0017405]])\n",
       "     fun: 41924.38852596059\n",
       " message: 'Optimization terminated successfully.'\n",
       "    nfev: 34\n",
       "     nit: 2\n",
       "  status: 0\n",
       " success: True\n",
       "       x: array([1.43313333])"
      ]
     },
     "execution_count": 12,
     "metadata": {},
     "output_type": "execute_result"
    }
   ],
   "source": [
    "result2 = optimize.minimize(likelihood, x0=[1], args=(B[:,1],), method='Powell')\n",
    "result2"
   ]
  },
  {
   "cell_type": "code",
   "execution_count": null,
   "id": "db1f3184",
   "metadata": {
    "ExecuteTime": {
     "end_time": "2023-12-26T13:16:07.478114Z",
     "start_time": "2023-12-26T13:16:07.221876Z"
    }
   },
   "outputs": [],
   "source": []
  },
  {
   "cell_type": "code",
   "execution_count": null,
   "id": "59ad37ca",
   "metadata": {},
   "outputs": [],
   "source": []
  }
 ],
 "metadata": {
  "hide_input": false,
  "kernelspec": {
   "display_name": "Python 3",
   "language": "python",
   "name": "python3"
  },
  "language_info": {
   "codemirror_mode": {
    "name": "ipython",
    "version": 3
   },
   "file_extension": ".py",
   "mimetype": "text/x-python",
   "name": "python",
   "nbconvert_exporter": "python",
   "pygments_lexer": "ipython3",
   "version": "3.10.6"
  },
  "toc": {
   "base_numbering": 1,
   "nav_menu": {},
   "number_sections": true,
   "sideBar": true,
   "skip_h1_title": false,
   "title_cell": "Table of Contents",
   "title_sidebar": "Contents",
   "toc_cell": false,
   "toc_position": {},
   "toc_section_display": true,
   "toc_window_display": false
  },
  "varInspector": {
   "cols": {
    "lenName": 16,
    "lenType": 16,
    "lenVar": 40
   },
   "kernels_config": {
    "python": {
     "delete_cmd_postfix": "",
     "delete_cmd_prefix": "del ",
     "library": "var_list.py",
     "varRefreshCmd": "print(var_dic_list())"
    },
    "r": {
     "delete_cmd_postfix": ") ",
     "delete_cmd_prefix": "rm(",
     "library": "var_list.r",
     "varRefreshCmd": "cat(var_dic_list()) "
    }
   },
   "types_to_exclude": [
    "module",
    "function",
    "builtin_function_or_method",
    "instance",
    "_Feature"
   ],
   "window_display": false
  }
 },
 "nbformat": 4,
 "nbformat_minor": 5
}
