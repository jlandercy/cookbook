{
 "cells": [
  {
   "cell_type": "code",
   "execution_count": 1,
   "metadata": {
    "ExecuteTime": {
     "end_time": "2020-09-04T06:49:55.355306Z",
     "start_time": "2020-09-04T06:49:55.129555Z"
    }
   },
   "outputs": [],
   "source": [
    "import sys\n",
    "import itertools\n",
    "import numpy as np"
   ]
  },
  {
   "cell_type": "code",
   "execution_count": 2,
   "metadata": {
    "ExecuteTime": {
     "end_time": "2020-09-04T06:49:55.410382Z",
     "start_time": "2020-09-04T06:49:55.365260Z"
    }
   },
   "outputs": [],
   "source": [
    "centers = np.random.uniform(-1, 1, (64, 40, 42)).astype(dtype=np.float32)\n",
    "data = np.random.uniform(-1, 1, (600, 40, 42)).astype(dtype=np.float32)"
   ]
  },
  {
   "cell_type": "code",
   "execution_count": 3,
   "metadata": {
    "ExecuteTime": {
     "end_time": "2020-09-04T06:49:55.439616Z",
     "start_time": "2020-09-04T06:49:55.421217Z"
    }
   },
   "outputs": [
    {
     "data": {
      "text/plain": [
       "0.4102783203125"
      ]
     },
     "execution_count": 3,
     "metadata": {},
     "output_type": "execute_result"
    }
   ],
   "source": [
    "sys.getsizeof(centers)/1024**2"
   ]
  },
  {
   "cell_type": "code",
   "execution_count": 4,
   "metadata": {
    "ExecuteTime": {
     "end_time": "2020-09-04T06:49:55.458014Z",
     "start_time": "2020-09-04T06:49:55.447190Z"
    }
   },
   "outputs": [
    {
     "data": {
      "text/plain": [
       "3.8453369140625"
      ]
     },
     "execution_count": 4,
     "metadata": {},
     "output_type": "execute_result"
    }
   ],
   "source": [
    "sys.getsizeof(data)/1024**2"
   ]
  },
  {
   "cell_type": "code",
   "execution_count": 5,
   "metadata": {
    "ExecuteTime": {
     "end_time": "2020-09-04T06:49:56.153040Z",
     "start_time": "2020-09-04T06:49:55.462199Z"
    }
   },
   "outputs": [],
   "source": [
    "diff = [np.abs(data - c) for c in centers]"
   ]
  },
  {
   "cell_type": "code",
   "execution_count": 6,
   "metadata": {
    "ExecuteTime": {
     "end_time": "2020-09-04T06:49:56.175289Z",
     "start_time": "2020-09-04T06:49:56.162066Z"
    }
   },
   "outputs": [
    {
     "data": {
      "text/plain": [
       "64"
      ]
     },
     "execution_count": 6,
     "metadata": {},
     "output_type": "execute_result"
    }
   ],
   "source": [
    "len(diff)"
   ]
  },
  {
   "cell_type": "code",
   "execution_count": 7,
   "metadata": {
    "ExecuteTime": {
     "end_time": "2020-09-04T06:49:56.188940Z",
     "start_time": "2020-09-04T06:49:56.179309Z"
    }
   },
   "outputs": [
    {
     "data": {
      "text/plain": [
       "(600, 40, 42)"
      ]
     },
     "execution_count": 7,
     "metadata": {},
     "output_type": "execute_result"
    }
   ],
   "source": [
    "diff[0].shape"
   ]
  },
  {
   "cell_type": "code",
   "execution_count": 8,
   "metadata": {
    "ExecuteTime": {
     "end_time": "2020-09-04T06:49:56.208190Z",
     "start_time": "2020-09-04T06:49:56.192394Z"
    }
   },
   "outputs": [],
   "source": [
    "a = np.random.uniform(-1, 1, (64, 40, 42))\n",
    "b = np.random.uniform(-1, 1, (64, 40, 42)).astype(dtype=np.float32)"
   ]
  },
  {
   "cell_type": "code",
   "execution_count": 17,
   "metadata": {
    "ExecuteTime": {
     "end_time": "2020-09-04T06:50:38.545697Z",
     "start_time": "2020-09-04T06:50:38.533615Z"
    }
   },
   "outputs": [
    {
     "data": {
      "text/plain": [
       "0.4102783203125"
      ]
     },
     "execution_count": 17,
     "metadata": {},
     "output_type": "execute_result"
    }
   ],
   "source": [
    "sys.getsizeof(centers)/1024**2"
   ]
  },
  {
   "cell_type": "code",
   "execution_count": 18,
   "metadata": {
    "ExecuteTime": {
     "end_time": "2020-09-04T06:50:41.674496Z",
     "start_time": "2020-09-04T06:50:41.662383Z"
    }
   },
   "outputs": [
    {
     "data": {
      "text/plain": [
       "3.8453369140625"
      ]
     },
     "execution_count": 18,
     "metadata": {},
     "output_type": "execute_result"
    }
   ],
   "source": [
    "sys.getsizeof(data)/1024**2"
   ]
  },
  {
   "cell_type": "code",
   "execution_count": 11,
   "metadata": {
    "ExecuteTime": {
     "end_time": "2020-09-04T06:49:56.248365Z",
     "start_time": "2020-09-04T06:49:56.239804Z"
    }
   },
   "outputs": [],
   "source": [
    "def generate_distance(a, b):\n",
    "    for i, j in itertools.product(range(a.shape[0]), range(b.shape[0])):\n",
    "        yield np.abs(a[i,:,:] - b[j,:,:])"
   ]
  },
  {
   "cell_type": "code",
   "execution_count": 12,
   "metadata": {
    "ExecuteTime": {
     "end_time": "2020-09-04T06:49:57.284725Z",
     "start_time": "2020-09-04T06:49:56.250824Z"
    }
   },
   "outputs": [],
   "source": [
    "x = np.array(list(generate_distance(data, centers)))"
   ]
  },
  {
   "cell_type": "code",
   "execution_count": 13,
   "metadata": {
    "ExecuteTime": {
     "end_time": "2020-09-04T06:49:57.303862Z",
     "start_time": "2020-09-04T06:49:57.293712Z"
    }
   },
   "outputs": [
    {
     "data": {
      "text/plain": [
       "246.0938720703125"
      ]
     },
     "execution_count": 13,
     "metadata": {},
     "output_type": "execute_result"
    }
   ],
   "source": [
    "sys.getsizeof(x)/1024**2"
   ]
  },
  {
   "cell_type": "code",
   "execution_count": 14,
   "metadata": {
    "ExecuteTime": {
     "end_time": "2020-09-04T06:50:09.217168Z",
     "start_time": "2020-09-04T06:50:09.201016Z"
    }
   },
   "outputs": [
    {
     "data": {
      "text/plain": [
       "(38400, 40, 42)"
      ]
     },
     "execution_count": 14,
     "metadata": {},
     "output_type": "execute_result"
    }
   ],
   "source": [
    "x.shape"
   ]
  },
  {
   "cell_type": "code",
   "execution_count": 15,
   "metadata": {
    "ExecuteTime": {
     "end_time": "2020-09-04T06:50:15.011503Z",
     "start_time": "2020-09-04T06:50:14.998978Z"
    }
   },
   "outputs": [
    {
     "data": {
      "text/plain": [
       "dtype('float32')"
      ]
     },
     "execution_count": 15,
     "metadata": {},
     "output_type": "execute_result"
    }
   ],
   "source": [
    "x.dtype"
   ]
  },
  {
   "cell_type": "code",
   "execution_count": 19,
   "metadata": {
    "ExecuteTime": {
     "end_time": "2020-09-04T06:50:54.062097Z",
     "start_time": "2020-09-04T06:50:54.049444Z"
    }
   },
   "outputs": [
    {
     "data": {
      "text/plain": [
       "(64, 40, 42)"
      ]
     },
     "execution_count": 19,
     "metadata": {},
     "output_type": "execute_result"
    }
   ],
   "source": [
    "centers.shape"
   ]
  },
  {
   "cell_type": "code",
   "execution_count": 20,
   "metadata": {
    "ExecuteTime": {
     "end_time": "2020-09-04T06:50:57.149868Z",
     "start_time": "2020-09-04T06:50:57.135756Z"
    }
   },
   "outputs": [
    {
     "data": {
      "text/plain": [
       "(600, 40, 42)"
      ]
     },
     "execution_count": 20,
     "metadata": {},
     "output_type": "execute_result"
    }
   ],
   "source": [
    "data.shape"
   ]
  },
  {
   "cell_type": "code",
   "execution_count": 27,
   "metadata": {
    "ExecuteTime": {
     "end_time": "2020-09-04T06:51:51.108265Z",
     "start_time": "2020-09-04T06:51:51.088873Z"
    }
   },
   "outputs": [
    {
     "data": {
      "text/plain": [
       "4.0000019841269845"
      ]
     },
     "execution_count": 27,
     "metadata": {},
     "output_type": "execute_result"
    }
   ],
   "source": [
    "258048128/(64*600*40*42)"
   ]
  },
  {
   "cell_type": "code",
   "execution_count": 25,
   "metadata": {
    "ExecuteTime": {
     "end_time": "2020-09-04T06:51:38.906406Z",
     "start_time": "2020-09-04T06:51:38.890805Z"
    }
   },
   "outputs": [
    {
     "data": {
      "text/plain": [
       "258048128"
      ]
     },
     "execution_count": 25,
     "metadata": {},
     "output_type": "execute_result"
    }
   ],
   "source": [
    "sys.getsizeof(x)"
   ]
  },
  {
   "cell_type": "code",
   "execution_count": null,
   "metadata": {},
   "outputs": [],
   "source": []
  }
 ],
 "metadata": {
  "hide_input": false,
  "kernelspec": {
   "display_name": "Python 3",
   "language": "python",
   "name": "python3"
  },
  "language_info": {
   "codemirror_mode": {
    "name": "ipython",
    "version": 3
   },
   "file_extension": ".py",
   "mimetype": "text/x-python",
   "name": "python",
   "nbconvert_exporter": "python",
   "pygments_lexer": "ipython3",
   "version": "3.6.9"
  },
  "toc": {
   "base_numbering": 1,
   "nav_menu": {},
   "number_sections": true,
   "sideBar": true,
   "skip_h1_title": false,
   "title_cell": "Table of Contents",
   "title_sidebar": "Contents",
   "toc_cell": false,
   "toc_position": {},
   "toc_section_display": true,
   "toc_window_display": false
  },
  "varInspector": {
   "cols": {
    "lenName": 16,
    "lenType": 16,
    "lenVar": 40
   },
   "kernels_config": {
    "python": {
     "delete_cmd_postfix": "",
     "delete_cmd_prefix": "del ",
     "library": "var_list.py",
     "varRefreshCmd": "print(var_dic_list())"
    },
    "r": {
     "delete_cmd_postfix": ") ",
     "delete_cmd_prefix": "rm(",
     "library": "var_list.r",
     "varRefreshCmd": "cat(var_dic_list()) "
    }
   },
   "types_to_exclude": [
    "module",
    "function",
    "builtin_function_or_method",
    "instance",
    "_Feature"
   ],
   "window_display": false
  }
 },
 "nbformat": 4,
 "nbformat_minor": 4
}
