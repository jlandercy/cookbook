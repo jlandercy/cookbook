{
 "cells": [
  {
   "cell_type": "code",
   "execution_count": 2,
   "id": "2b8a72dd",
   "metadata": {
    "ExecuteTime": {
     "end_time": "2022-07-12T08:22:54.576835Z",
     "start_time": "2022-07-12T08:22:54.570651Z"
    }
   },
   "outputs": [],
   "source": [
    "import io\n",
    "import pandas as pd"
   ]
  },
  {
   "cell_type": "markdown",
   "id": "73d7a67b",
   "metadata": {},
   "source": [
    "https://stackoverflow.com/questions/72949020/simplify-pivot-in-pandas"
   ]
  },
  {
   "cell_type": "code",
   "execution_count": 7,
   "id": "c9529185",
   "metadata": {
    "ExecuteTime": {
     "end_time": "2022-07-12T08:23:57.046127Z",
     "start_time": "2022-07-12T08:23:57.040821Z"
    }
   },
   "outputs": [],
   "source": [
    "stream = io.StringIO(\"\"\"CST_ID;PROD_CODE\n",
    "11111;1234\n",
    "11111;2345\n",
    "11111;5425\n",
    "11111;9875\n",
    "22222;2345\n",
    "22222;9251\n",
    "22222;1234\n",
    "33333;6542\n",
    "33333;7498\"\"\")"
   ]
  },
  {
   "cell_type": "code",
   "execution_count": 8,
   "id": "58038e78",
   "metadata": {
    "ExecuteTime": {
     "end_time": "2022-07-12T08:23:57.214687Z",
     "start_time": "2022-07-12T08:23:57.206799Z"
    }
   },
   "outputs": [],
   "source": [
    "df_init = pd.read_csv(stream, sep=\";\")"
   ]
  },
  {
   "cell_type": "code",
   "execution_count": 9,
   "id": "64f8005e",
   "metadata": {
    "ExecuteTime": {
     "end_time": "2022-07-12T08:24:00.147658Z",
     "start_time": "2022-07-12T08:24:00.134438Z"
    }
   },
   "outputs": [
    {
     "data": {
      "text/html": [
       "<div>\n",
       "<style scoped>\n",
       "    .dataframe tbody tr th:only-of-type {\n",
       "        vertical-align: middle;\n",
       "    }\n",
       "\n",
       "    .dataframe tbody tr th {\n",
       "        vertical-align: top;\n",
       "    }\n",
       "\n",
       "    .dataframe thead th {\n",
       "        text-align: right;\n",
       "    }\n",
       "</style>\n",
       "<table border=\"1\" class=\"dataframe\">\n",
       "  <thead>\n",
       "    <tr style=\"text-align: right;\">\n",
       "      <th></th>\n",
       "      <th>CST_ID</th>\n",
       "      <th>PROD_CODE</th>\n",
       "    </tr>\n",
       "  </thead>\n",
       "  <tbody>\n",
       "    <tr>\n",
       "      <th>0</th>\n",
       "      <td>11111</td>\n",
       "      <td>1234</td>\n",
       "    </tr>\n",
       "    <tr>\n",
       "      <th>1</th>\n",
       "      <td>11111</td>\n",
       "      <td>2345</td>\n",
       "    </tr>\n",
       "    <tr>\n",
       "      <th>2</th>\n",
       "      <td>11111</td>\n",
       "      <td>5425</td>\n",
       "    </tr>\n",
       "    <tr>\n",
       "      <th>3</th>\n",
       "      <td>11111</td>\n",
       "      <td>9875</td>\n",
       "    </tr>\n",
       "    <tr>\n",
       "      <th>4</th>\n",
       "      <td>22222</td>\n",
       "      <td>2345</td>\n",
       "    </tr>\n",
       "    <tr>\n",
       "      <th>5</th>\n",
       "      <td>22222</td>\n",
       "      <td>9251</td>\n",
       "    </tr>\n",
       "    <tr>\n",
       "      <th>6</th>\n",
       "      <td>22222</td>\n",
       "      <td>1234</td>\n",
       "    </tr>\n",
       "    <tr>\n",
       "      <th>7</th>\n",
       "      <td>33333</td>\n",
       "      <td>6542</td>\n",
       "    </tr>\n",
       "    <tr>\n",
       "      <th>8</th>\n",
       "      <td>33333</td>\n",
       "      <td>7498</td>\n",
       "    </tr>\n",
       "  </tbody>\n",
       "</table>\n",
       "</div>"
      ],
      "text/plain": [
       "   CST_ID  PROD_CODE\n",
       "0   11111       1234\n",
       "1   11111       2345\n",
       "2   11111       5425\n",
       "3   11111       9875\n",
       "4   22222       2345\n",
       "5   22222       9251\n",
       "6   22222       1234\n",
       "7   33333       6542\n",
       "8   33333       7498"
      ]
     },
     "execution_count": 9,
     "metadata": {},
     "output_type": "execute_result"
    }
   ],
   "source": [
    "df_init"
   ]
  },
  {
   "cell_type": "code",
   "execution_count": 10,
   "id": "a1ace92f",
   "metadata": {
    "ExecuteTime": {
     "end_time": "2022-07-12T08:24:03.990021Z",
     "start_time": "2022-07-12T08:24:03.965933Z"
    }
   },
   "outputs": [],
   "source": [
    "to_append = []\n",
    "for index in range(len(df_init)):\n",
    "    temp = df_init.iloc[:index+1]['CST_ID'] == df_init.iloc[index]['CST_ID'] # ['CST_ID']== df_init.iloc[index]['CST_ID']]\n",
    "    counter = sum(list(temp))\n",
    "    to_append.append(counter)\n",
    "\n",
    "df_init['Product_number'] = to_append"
   ]
  },
  {
   "cell_type": "code",
   "execution_count": 11,
   "id": "64a44b2d",
   "metadata": {
    "ExecuteTime": {
     "end_time": "2022-07-12T08:24:07.492687Z",
     "start_time": "2022-07-12T08:24:07.471582Z"
    }
   },
   "outputs": [
    {
     "data": {
      "text/html": [
       "<div>\n",
       "<style scoped>\n",
       "    .dataframe tbody tr th:only-of-type {\n",
       "        vertical-align: middle;\n",
       "    }\n",
       "\n",
       "    .dataframe tbody tr th {\n",
       "        vertical-align: top;\n",
       "    }\n",
       "\n",
       "    .dataframe thead th {\n",
       "        text-align: right;\n",
       "    }\n",
       "</style>\n",
       "<table border=\"1\" class=\"dataframe\">\n",
       "  <thead>\n",
       "    <tr style=\"text-align: right;\">\n",
       "      <th></th>\n",
       "      <th>CST_ID</th>\n",
       "      <th>PROD_CODE</th>\n",
       "      <th>Product_number</th>\n",
       "    </tr>\n",
       "  </thead>\n",
       "  <tbody>\n",
       "    <tr>\n",
       "      <th>0</th>\n",
       "      <td>11111</td>\n",
       "      <td>1234</td>\n",
       "      <td>1</td>\n",
       "    </tr>\n",
       "    <tr>\n",
       "      <th>1</th>\n",
       "      <td>11111</td>\n",
       "      <td>2345</td>\n",
       "      <td>2</td>\n",
       "    </tr>\n",
       "    <tr>\n",
       "      <th>2</th>\n",
       "      <td>11111</td>\n",
       "      <td>5425</td>\n",
       "      <td>3</td>\n",
       "    </tr>\n",
       "    <tr>\n",
       "      <th>3</th>\n",
       "      <td>11111</td>\n",
       "      <td>9875</td>\n",
       "      <td>4</td>\n",
       "    </tr>\n",
       "    <tr>\n",
       "      <th>4</th>\n",
       "      <td>22222</td>\n",
       "      <td>2345</td>\n",
       "      <td>1</td>\n",
       "    </tr>\n",
       "    <tr>\n",
       "      <th>5</th>\n",
       "      <td>22222</td>\n",
       "      <td>9251</td>\n",
       "      <td>2</td>\n",
       "    </tr>\n",
       "    <tr>\n",
       "      <th>6</th>\n",
       "      <td>22222</td>\n",
       "      <td>1234</td>\n",
       "      <td>3</td>\n",
       "    </tr>\n",
       "    <tr>\n",
       "      <th>7</th>\n",
       "      <td>33333</td>\n",
       "      <td>6542</td>\n",
       "      <td>1</td>\n",
       "    </tr>\n",
       "    <tr>\n",
       "      <th>8</th>\n",
       "      <td>33333</td>\n",
       "      <td>7498</td>\n",
       "      <td>2</td>\n",
       "    </tr>\n",
       "  </tbody>\n",
       "</table>\n",
       "</div>"
      ],
      "text/plain": [
       "   CST_ID  PROD_CODE  Product_number\n",
       "0   11111       1234               1\n",
       "1   11111       2345               2\n",
       "2   11111       5425               3\n",
       "3   11111       9875               4\n",
       "4   22222       2345               1\n",
       "5   22222       9251               2\n",
       "6   22222       1234               3\n",
       "7   33333       6542               1\n",
       "8   33333       7498               2"
      ]
     },
     "execution_count": 11,
     "metadata": {},
     "output_type": "execute_result"
    }
   ],
   "source": [
    "df_init"
   ]
  },
  {
   "cell_type": "code",
   "execution_count": 12,
   "id": "21591405",
   "metadata": {
    "ExecuteTime": {
     "end_time": "2022-07-12T08:25:35.181345Z",
     "start_time": "2022-07-12T08:25:35.135669Z"
    }
   },
   "outputs": [],
   "source": [
    "df_fin = df_init.assign(key=\"PROD_\" + (df_init.groupby(\"CST_ID\").cumcount()+1).astype(str))\n",
    "df_fin = df_fin.pivot(index=\"CST_ID\", columns=\"key\", values=\"PROD_CODE\")"
   ]
  },
  {
   "cell_type": "code",
   "execution_count": 13,
   "id": "cdb8a9b4",
   "metadata": {
    "ExecuteTime": {
     "end_time": "2022-07-12T08:25:38.222732Z",
     "start_time": "2022-07-12T08:25:38.202419Z"
    }
   },
   "outputs": [
    {
     "data": {
      "text/html": [
       "<div>\n",
       "<style scoped>\n",
       "    .dataframe tbody tr th:only-of-type {\n",
       "        vertical-align: middle;\n",
       "    }\n",
       "\n",
       "    .dataframe tbody tr th {\n",
       "        vertical-align: top;\n",
       "    }\n",
       "\n",
       "    .dataframe thead th {\n",
       "        text-align: right;\n",
       "    }\n",
       "</style>\n",
       "<table border=\"1\" class=\"dataframe\">\n",
       "  <thead>\n",
       "    <tr style=\"text-align: right;\">\n",
       "      <th>key</th>\n",
       "      <th>PROD_1</th>\n",
       "      <th>PROD_2</th>\n",
       "      <th>PROD_3</th>\n",
       "      <th>PROD_4</th>\n",
       "    </tr>\n",
       "    <tr>\n",
       "      <th>CST_ID</th>\n",
       "      <th></th>\n",
       "      <th></th>\n",
       "      <th></th>\n",
       "      <th></th>\n",
       "    </tr>\n",
       "  </thead>\n",
       "  <tbody>\n",
       "    <tr>\n",
       "      <th>11111</th>\n",
       "      <td>1234.0</td>\n",
       "      <td>2345.0</td>\n",
       "      <td>5425.0</td>\n",
       "      <td>9875.0</td>\n",
       "    </tr>\n",
       "    <tr>\n",
       "      <th>22222</th>\n",
       "      <td>2345.0</td>\n",
       "      <td>9251.0</td>\n",
       "      <td>1234.0</td>\n",
       "      <td>NaN</td>\n",
       "    </tr>\n",
       "    <tr>\n",
       "      <th>33333</th>\n",
       "      <td>6542.0</td>\n",
       "      <td>7498.0</td>\n",
       "      <td>NaN</td>\n",
       "      <td>NaN</td>\n",
       "    </tr>\n",
       "  </tbody>\n",
       "</table>\n",
       "</div>"
      ],
      "text/plain": [
       "key     PROD_1  PROD_2  PROD_3  PROD_4\n",
       "CST_ID                                \n",
       "11111   1234.0  2345.0  5425.0  9875.0\n",
       "22222   2345.0  9251.0  1234.0     NaN\n",
       "33333   6542.0  7498.0     NaN     NaN"
      ]
     },
     "execution_count": 13,
     "metadata": {},
     "output_type": "execute_result"
    }
   ],
   "source": [
    "df_fin"
   ]
  },
  {
   "cell_type": "code",
   "execution_count": null,
   "id": "48d990f5",
   "metadata": {},
   "outputs": [],
   "source": []
  }
 ],
 "metadata": {
  "hide_input": false,
  "kernelspec": {
   "display_name": "Python 3",
   "language": "python",
   "name": "python3"
  },
  "language_info": {
   "codemirror_mode": {
    "name": "ipython",
    "version": 3
   },
   "file_extension": ".py",
   "mimetype": "text/x-python",
   "name": "python",
   "nbconvert_exporter": "python",
   "pygments_lexer": "ipython3",
   "version": "3.6.9"
  },
  "toc": {
   "base_numbering": 1,
   "nav_menu": {},
   "number_sections": true,
   "sideBar": true,
   "skip_h1_title": false,
   "title_cell": "Table of Contents",
   "title_sidebar": "Contents",
   "toc_cell": false,
   "toc_position": {},
   "toc_section_display": true,
   "toc_window_display": false
  },
  "varInspector": {
   "cols": {
    "lenName": 16,
    "lenType": 16,
    "lenVar": 40
   },
   "kernels_config": {
    "python": {
     "delete_cmd_postfix": "",
     "delete_cmd_prefix": "del ",
     "library": "var_list.py",
     "varRefreshCmd": "print(var_dic_list())"
    },
    "r": {
     "delete_cmd_postfix": ") ",
     "delete_cmd_prefix": "rm(",
     "library": "var_list.r",
     "varRefreshCmd": "cat(var_dic_list()) "
    }
   },
   "types_to_exclude": [
    "module",
    "function",
    "builtin_function_or_method",
    "instance",
    "_Feature"
   ],
   "window_display": false
  }
 },
 "nbformat": 4,
 "nbformat_minor": 5
}
