{
 "cells": [
  {
   "cell_type": "code",
   "execution_count": 3,
   "id": "70b0bb9d",
   "metadata": {
    "ExecuteTime": {
     "end_time": "2024-06-03T07:27:06.423768Z",
     "start_time": "2024-06-03T07:27:06.419959Z"
    }
   },
   "outputs": [],
   "source": [
    "from scipy import optimize\n",
    "import numpy as np"
   ]
  },
  {
   "cell_type": "code",
   "execution_count": 4,
   "id": "3ce3100e",
   "metadata": {
    "ExecuteTime": {
     "end_time": "2024-06-03T07:27:06.902634Z",
     "start_time": "2024-06-03T07:27:06.898576Z"
    }
   },
   "outputs": [],
   "source": [
    "profit = np.array([1000.,  1000., 500.])\n",
    "total = 150."
   ]
  },
  {
   "cell_type": "code",
   "execution_count": 29,
   "id": "f14e1e56",
   "metadata": {
    "ExecuteTime": {
     "end_time": "2024-06-03T07:35:48.870861Z",
     "start_time": "2024-06-03T07:35:48.865559Z"
    }
   },
   "outputs": [],
   "source": [
    "def objective(x, p):\n",
    "    return - np.sum(profit * x)\n",
    "\n",
    "def constraint(x, S):\n",
    "    return total - np.sum(x)"
   ]
  },
  {
   "cell_type": "code",
   "execution_count": 34,
   "id": "26bbcdf0",
   "metadata": {
    "ExecuteTime": {
     "end_time": "2024-06-03T07:36:23.281149Z",
     "start_time": "2024-06-03T07:36:23.270049Z"
    }
   },
   "outputs": [],
   "source": [
    "result = optimize.minimize(\n",
    "    objective,\n",
    "    x0=[0., 0., 0.],\n",
    "    method ='SLSQP',\n",
    "    args=(profit,),\n",
    "    constraints={\"type\": \"ineq\", \"fun\": constraint, \"args\": (total,)},\n",
    "    bounds=[(0., None)] * len(profit)\n",
    ")\n"
   ]
  },
  {
   "cell_type": "code",
   "execution_count": 35,
   "id": "ae19f422",
   "metadata": {
    "ExecuteTime": {
     "end_time": "2024-06-03T07:36:24.778352Z",
     "start_time": "2024-06-03T07:36:24.772005Z"
    }
   },
   "outputs": [
    {
     "data": {
      "text/plain": [
       " message: Optimization terminated successfully\n",
       " success: True\n",
       "  status: 0\n",
       "     fun: -149999.99978128108\n",
       "       x: [ 7.500e+01  7.500e+01  0.000e+00]\n",
       "     nit: 3\n",
       "     jac: [-1.000e+03 -1.000e+03 -5.000e+02]\n",
       "    nfev: 9\n",
       "    njev: 2"
      ]
     },
     "execution_count": 35,
     "metadata": {},
     "output_type": "execute_result"
    }
   ],
   "source": [
    "result"
   ]
  },
  {
   "cell_type": "code",
   "execution_count": null,
   "id": "d3dfa1d5",
   "metadata": {},
   "outputs": [],
   "source": []
  },
  {
   "cell_type": "code",
   "execution_count": null,
   "id": "11951dc2",
   "metadata": {},
   "outputs": [],
   "source": []
  },
  {
   "cell_type": "code",
   "execution_count": 37,
   "id": "4c9dc05a",
   "metadata": {
    "ExecuteTime": {
     "end_time": "2024-06-03T07:44:42.458534Z",
     "start_time": "2024-06-03T07:44:42.446229Z"
    }
   },
   "outputs": [],
   "source": [
    "c = -profit"
   ]
  },
  {
   "cell_type": "code",
   "execution_count": 47,
   "id": "17270daf",
   "metadata": {
    "ExecuteTime": {
     "end_time": "2024-06-03T07:49:03.991677Z",
     "start_time": "2024-06-03T07:49:03.981184Z"
    }
   },
   "outputs": [],
   "source": [
    "A = np.eye(3)"
   ]
  },
  {
   "cell_type": "code",
   "execution_count": 48,
   "id": "5cec3791",
   "metadata": {
    "ExecuteTime": {
     "end_time": "2024-06-03T07:49:04.824407Z",
     "start_time": "2024-06-03T07:49:04.820115Z"
    }
   },
   "outputs": [],
   "source": [
    "ub = np.array([200, 200, 200])"
   ]
  },
  {
   "cell_type": "code",
   "execution_count": 49,
   "id": "2a111e2a",
   "metadata": {
    "ExecuteTime": {
     "end_time": "2024-06-03T07:49:05.736455Z",
     "start_time": "2024-06-03T07:49:05.725116Z"
    }
   },
   "outputs": [
    {
     "data": {
      "text/plain": [
       "        message: Optimization terminated successfully. (HiGHS Status 7: Optimal)\n",
       "        success: True\n",
       "         status: 0\n",
       "            fun: -500000.0\n",
       "              x: [ 2.000e+02  2.000e+02  2.000e+02]\n",
       "            nit: -1\n",
       "          lower:  residual: [ 2.000e+02  2.000e+02  2.000e+02]\n",
       "                 marginals: [ 0.000e+00  0.000e+00  0.000e+00]\n",
       "          upper:  residual: [       inf        inf        inf]\n",
       "                 marginals: [ 0.000e+00  0.000e+00  0.000e+00]\n",
       "          eqlin:  residual: []\n",
       "                 marginals: []\n",
       "        ineqlin:  residual: [ 0.000e+00  0.000e+00  0.000e+00]\n",
       "                 marginals: [ 0.000e+00  0.000e+00  0.000e+00]\n",
       " mip_node_count: 0\n",
       " mip_dual_bound: -500000.0\n",
       "        mip_gap: 0.0"
      ]
     },
     "execution_count": 49,
     "metadata": {},
     "output_type": "execute_result"
    }
   ],
   "source": [
    "optimize.linprog(c, A, ub, integrality=1)"
   ]
  },
  {
   "cell_type": "code",
   "execution_count": null,
   "id": "d3cbc39c",
   "metadata": {},
   "outputs": [],
   "source": []
  }
 ],
 "metadata": {
  "hide_input": false,
  "kernelspec": {
   "display_name": "Python 3",
   "language": "python",
   "name": "python3"
  },
  "language_info": {
   "codemirror_mode": {
    "name": "ipython",
    "version": 3
   },
   "file_extension": ".py",
   "mimetype": "text/x-python",
   "name": "python",
   "nbconvert_exporter": "python",
   "pygments_lexer": "ipython3",
   "version": "3.10.6"
  },
  "toc": {
   "base_numbering": 1,
   "nav_menu": {},
   "number_sections": true,
   "sideBar": true,
   "skip_h1_title": false,
   "title_cell": "Table of Contents",
   "title_sidebar": "Contents",
   "toc_cell": false,
   "toc_position": {},
   "toc_section_display": true,
   "toc_window_display": false
  },
  "varInspector": {
   "cols": {
    "lenName": 16,
    "lenType": 16,
    "lenVar": 40
   },
   "kernels_config": {
    "python": {
     "delete_cmd_postfix": "",
     "delete_cmd_prefix": "del ",
     "library": "var_list.py",
     "varRefreshCmd": "print(var_dic_list())"
    },
    "r": {
     "delete_cmd_postfix": ") ",
     "delete_cmd_prefix": "rm(",
     "library": "var_list.r",
     "varRefreshCmd": "cat(var_dic_list()) "
    }
   },
   "types_to_exclude": [
    "module",
    "function",
    "builtin_function_or_method",
    "instance",
    "_Feature"
   ],
   "window_display": false
  }
 },
 "nbformat": 4,
 "nbformat_minor": 5
}
