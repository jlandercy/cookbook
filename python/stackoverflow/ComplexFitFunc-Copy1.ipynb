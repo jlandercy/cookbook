{
 "cells": [
  {
   "cell_type": "code",
   "execution_count": 1,
   "id": "7eb9b9e8",
   "metadata": {
    "ExecuteTime": {
     "end_time": "2024-06-20T13:35:04.718969Z",
     "start_time": "2024-06-20T13:35:02.875297Z"
    }
   },
   "outputs": [],
   "source": [
    "import numpy as np\n",
    "import math\n",
    "import matplotlib.pyplot as plt\n",
    "from scipy.ndimage import gaussian_filter1d\n",
    "from scipy import optimize"
   ]
  },
  {
   "cell_type": "markdown",
   "id": "e34e0ca9",
   "metadata": {},
   "source": [
    "https://stackoverflow.com/questions/78637026/how-to-choose-the-best-fitting-method"
   ]
  },
  {
   "cell_type": "code",
   "execution_count": 3,
   "id": "995a031e",
   "metadata": {
    "ExecuteTime": {
     "end_time": "2024-06-20T13:35:12.188726Z",
     "start_time": "2024-06-20T13:35:12.177691Z"
    }
   },
   "outputs": [],
   "source": [
    "np.random.seed(18)\n",
    "data = np.random.normal(loc=0, scale=10, size=10000).cumsum()\n",
    "data = (data - data.min()) / (data.max() - data.min()) * 500\n",
    "data = gaussian_filter1d(data, sigma=100)"
   ]
  },
  {
   "cell_type": "code",
   "execution_count": null,
   "id": "e7b58125",
   "metadata": {
    "ExecuteTime": {
     "end_time": "2024-06-20T12:50:12.458803Z",
     "start_time": "2024-06-20T12:49:44.119701Z"
    }
   },
   "outputs": [],
   "source": []
  },
  {
   "cell_type": "code",
   "execution_count": 4,
   "id": "4847f0fd",
   "metadata": {
    "ExecuteTime": {
     "end_time": "2024-06-20T13:39:49.643815Z",
     "start_time": "2024-06-20T13:39:49.542594Z"
    }
   },
   "outputs": [],
   "source": [
    "class Solver:\n",
    "    \n",
    "    v = 1.4\n",
    "    \n",
    "    def x(self, data, j, k=0):\n",
    "        data = np.array(data)\n",
    "        if k == 0:\n",
    "            return (np.pi / (4 * self.v)) * np.power(data, -2.)\n",
    "        else:\n",
    "            return self.x(data, j, k=k-1) * (np.power(data, 2.) / data)\n",
    "            "
   ]
  },
  {
   "cell_type": "code",
   "execution_count": 6,
   "id": "976c7876",
   "metadata": {
    "ExecuteTime": {
     "end_time": "2024-06-20T13:40:27.600216Z",
     "start_time": "2024-06-20T13:40:27.535981Z"
    }
   },
   "outputs": [
    {
     "data": {
      "text/plain": [
       "array([0.56099869, 0.56099869, 0.56099869, ..., 0.56099869, 0.56099869,\n",
       "       0.56099869])"
      ]
     },
     "execution_count": 6,
     "metadata": {},
     "output_type": "execute_result"
    }
   ],
   "source": [
    "solver = Solver()\n",
    "solver.x(data, 1, 2)"
   ]
  },
  {
   "cell_type": "code",
   "execution_count": null,
   "id": "b395c2db",
   "metadata": {},
   "outputs": [],
   "source": []
  }
 ],
 "metadata": {
  "hide_input": false,
  "kernelspec": {
   "display_name": "Python 3",
   "language": "python",
   "name": "python3"
  },
  "language_info": {
   "codemirror_mode": {
    "name": "ipython",
    "version": 3
   },
   "file_extension": ".py",
   "mimetype": "text/x-python",
   "name": "python",
   "nbconvert_exporter": "python",
   "pygments_lexer": "ipython3",
   "version": "3.10.6"
  },
  "toc": {
   "base_numbering": 1,
   "nav_menu": {},
   "number_sections": true,
   "sideBar": true,
   "skip_h1_title": false,
   "title_cell": "Table of Contents",
   "title_sidebar": "Contents",
   "toc_cell": false,
   "toc_position": {},
   "toc_section_display": true,
   "toc_window_display": false
  },
  "varInspector": {
   "cols": {
    "lenName": 16,
    "lenType": 16,
    "lenVar": 40
   },
   "kernels_config": {
    "python": {
     "delete_cmd_postfix": "",
     "delete_cmd_prefix": "del ",
     "library": "var_list.py",
     "varRefreshCmd": "print(var_dic_list())"
    },
    "r": {
     "delete_cmd_postfix": ") ",
     "delete_cmd_prefix": "rm(",
     "library": "var_list.r",
     "varRefreshCmd": "cat(var_dic_list()) "
    }
   },
   "types_to_exclude": [
    "module",
    "function",
    "builtin_function_or_method",
    "instance",
    "_Feature"
   ],
   "window_display": false
  }
 },
 "nbformat": 4,
 "nbformat_minor": 5
}
