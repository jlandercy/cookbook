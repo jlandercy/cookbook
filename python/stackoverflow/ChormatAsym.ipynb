{
 "cells": [
  {
   "cell_type": "code",
   "execution_count": 1,
   "id": "df814d91",
   "metadata": {
    "ExecuteTime": {
     "end_time": "2024-07-17T06:08:40.519063Z",
     "start_time": "2024-07-17T06:08:38.767259Z"
    }
   },
   "outputs": [],
   "source": [
    "import numpy as np\n",
    "import matplotlib.pyplot as plt\n",
    "from scipy import stats, optimize"
   ]
  },
  {
   "cell_type": "markdown",
   "id": "6ec36644",
   "metadata": {
    "ExecuteTime": {
     "end_time": "2024-07-17T06:07:56.996759Z",
     "start_time": "2024-07-17T06:07:56.993281Z"
    }
   },
   "source": [
    "https://stackoverflow.com/questions/78757088/how-can-i-model-the-curve-of-asymmetric-peaks-using-scipy-stats-beta"
   ]
  },
  {
   "cell_type": "code",
   "execution_count": 2,
   "id": "afab06bc",
   "metadata": {
    "ExecuteTime": {
     "end_time": "2024-07-17T06:08:40.539410Z",
     "start_time": "2024-07-17T06:08:40.531265Z"
    }
   },
   "outputs": [],
   "source": [
    "def model(x, A, sigma, x0, xG):\n",
    "    z = (x - xG) / sigma - sigma / x0\n",
    "    return A / x0 * np.exp(-0.5 * np.power(sigma / x0, 2) - (x - xG) / x0) * stats.norm.cdf(z)"
   ]
  },
  {
   "cell_type": "code",
   "execution_count": null,
   "id": "296773dc",
   "metadata": {},
   "outputs": [],
   "source": []
  },
  {
   "cell_type": "code",
   "execution_count": null,
   "id": "2f83a455",
   "metadata": {},
   "outputs": [],
   "source": []
  },
  {
   "cell_type": "code",
   "execution_count": 3,
   "id": "bb89945f",
   "metadata": {
    "ExecuteTime": {
     "end_time": "2024-07-17T06:08:40.561717Z",
     "start_time": "2024-07-17T06:08:40.543798Z"
    }
   },
   "outputs": [],
   "source": [
    "y = np.array([128459, 1822448, 10216680, 24042041, 30715114, 29537797, 25022446, 18416199, 14138783, 12116635, 9596337, 7201602, 5668133, 4671416, 3920953, 3259980, 2756295, 2326780, 2095209, 1858894, 1646824, 1375129, 1300799, 1253879, 1086045, 968363, 932041, 793707, 741462, 741593])\n",
    "x = np.arange(y.size)"
   ]
  },
  {
   "cell_type": "code",
   "execution_count": 4,
   "id": "e15300d7",
   "metadata": {
    "ExecuteTime": {
     "end_time": "2024-07-17T06:08:40.655398Z",
     "start_time": "2024-07-17T06:08:40.571582Z"
    }
   },
   "outputs": [
    {
     "data": {
      "text/plain": [
       "(array([2.26960267e+08, 1.04834713e+00, 4.41865938e+00, 2.74000400e+00]),\n",
       " array([[ 8.26171748e+12,  5.83045638e+04,  6.88774877e+04,\n",
       "         -1.29393911e+04],\n",
       "        [ 5.83045638e+04,  1.84154068e-03, -2.32977989e-03,\n",
       "          4.36979802e-04],\n",
       "        [ 6.88774877e+04, -2.32977989e-03,  1.31526241e-02,\n",
       "         -2.46845918e-03],\n",
       "        [-1.29393911e+04,  4.36979802e-04, -2.46845918e-03,\n",
       "          1.28128365e-03]]))"
      ]
     },
     "execution_count": 4,
     "metadata": {},
     "output_type": "execute_result"
    }
   ],
   "source": [
    "popt, pcov = optimize.curve_fit(model, x, y, p0=[1e9, 1, 5, 1], bounds=(0., np.inf))\n",
    "popt, pcov"
   ]
  },
  {
   "cell_type": "code",
   "execution_count": 5,
   "id": "3da6d959",
   "metadata": {
    "ExecuteTime": {
     "end_time": "2024-07-17T06:08:40.671678Z",
     "start_time": "2024-07-17T06:08:40.660410Z"
    }
   },
   "outputs": [
    {
     "data": {
      "text/plain": [
       "array([2.87432035e+06, 4.29131760e-02, 1.14684890e-01, 3.57950227e-02])"
      ]
     },
     "execution_count": 5,
     "metadata": {},
     "output_type": "execute_result"
    }
   ],
   "source": [
    "np.sqrt(np.diag(pcov))"
   ]
  },
  {
   "cell_type": "code",
   "execution_count": 6,
   "id": "c956a1d2",
   "metadata": {
    "ExecuteTime": {
     "end_time": "2024-07-17T06:08:40.685053Z",
     "start_time": "2024-07-17T06:08:40.677204Z"
    }
   },
   "outputs": [],
   "source": [
    "xlin = np.linspace(x.min(), x.max(), 200)\n",
    "ylin = model(xlin, *popt)"
   ]
  },
  {
   "cell_type": "code",
   "execution_count": null,
   "id": "15949e11",
   "metadata": {
    "ExecuteTime": {
     "end_time": "2024-07-17T06:03:00.433580Z",
     "start_time": "2024-07-17T06:03:00.422854Z"
    }
   },
   "outputs": [],
   "source": []
  },
  {
   "cell_type": "code",
   "execution_count": 7,
   "id": "1e15892e",
   "metadata": {
    "ExecuteTime": {
     "end_time": "2024-07-17T06:08:40.961468Z",
     "start_time": "2024-07-17T06:08:40.689988Z"
    }
   },
   "outputs": [
    {
     "data": {
      "image/png": "[encoded data removed]",
      "text/plain": [
       "<Figure size 640x480 with 1 Axes>"
      ]
     },
     "metadata": {},
     "output_type": "display_data"
    }
   ],
   "source": [
    "fig, axe = plt.subplots()\n",
    "axe.scatter(x, y)\n",
    "axe.plot(xlin, ylin)\n",
    "axe.grid()"
   ]
  },
  {
   "cell_type": "code",
   "execution_count": null,
   "id": "fb250cdb",
   "metadata": {},
   "outputs": [],
   "source": []
  },
  {
   "cell_type": "code",
   "execution_count": null,
   "id": "ff0b2f79",
   "metadata": {},
   "outputs": [],
   "source": []
  },
  {
   "cell_type": "code",
   "execution_count": null,
   "id": "a60340f1",
   "metadata": {},
   "outputs": [],
   "source": []
  },
  {
   "cell_type": "code",
   "execution_count": null,
   "id": "a25950a3",
   "metadata": {},
   "outputs": [],
   "source": []
  }
 ],
 "metadata": {
  "hide_input": false,
  "kernelspec": {
   "display_name": "Python 3",
   "language": "python",
   "name": "python3"
  },
  "language_info": {
   "codemirror_mode": {
    "name": "ipython",
    "version": 3
   },
   "file_extension": ".py",
   "mimetype": "text/x-python",
   "name": "python",
   "nbconvert_exporter": "python",
   "pygments_lexer": "ipython3",
   "version": "3.10.6"
  },
  "toc": {
   "base_numbering": 1,
   "nav_menu": {},
   "number_sections": true,
   "sideBar": true,
   "skip_h1_title": false,
   "title_cell": "Table of Contents",
   "title_sidebar": "Contents",
   "toc_cell": false,
   "toc_position": {},
   "toc_section_display": true,
   "toc_window_display": false
  },
  "varInspector": {
   "cols": {
    "lenName": 16,
    "lenType": 16,
    "lenVar": 40
   },
   "kernels_config": {
    "python": {
     "delete_cmd_postfix": "",
     "delete_cmd_prefix": "del ",
     "library": "var_list.py",
     "varRefreshCmd": "print(var_dic_list())"
    },
    "r": {
     "delete_cmd_postfix": ") ",
     "delete_cmd_prefix": "rm(",
     "library": "var_list.r",
     "varRefreshCmd": "cat(var_dic_list()) "
    }
   },
   "types_to_exclude": [
    "module",
    "function",
    "builtin_function_or_method",
    "instance",
    "_Feature"
   ],
   "window_display": false
  }
 },
 "nbformat": 4,
 "nbformat_minor": 5
}
