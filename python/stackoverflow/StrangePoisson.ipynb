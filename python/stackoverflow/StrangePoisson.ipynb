{
 "cells": [
  {
   "cell_type": "code",
   "execution_count": 25,
   "id": "8287197b",
   "metadata": {
    "ExecuteTime": {
     "end_time": "2023-11-25T20:30:06.190940Z",
     "start_time": "2023-11-25T20:30:04.179413Z"
    }
   },
   "outputs": [],
   "source": [
    "import numpy as np\n",
    "import matplotlib.pyplot as plt\n",
    "from scipy import stats, optimize"
   ]
  },
  {
   "cell_type": "markdown",
   "id": "1976dc6d",
   "metadata": {},
   "source": [
    "https://stackoverflow.com/questions/77547490/use-a-nonlinear-poisson-regression-with-two-independent-variables?noredirect=1#comment136714652_77547490"
   ]
  },
  {
   "cell_type": "code",
   "execution_count": 9,
   "id": "501b79b7",
   "metadata": {
    "ExecuteTime": {
     "end_time": "2023-11-25T20:26:00.189905Z",
     "start_time": "2023-11-25T20:26:00.182302Z"
    }
   },
   "outputs": [],
   "source": [
    "data = np.array([1, 3, 1, 2, 2])"
   ]
  },
  {
   "cell_type": "code",
   "execution_count": null,
   "id": "ac7dc03f",
   "metadata": {
    "ExecuteTime": {
     "end_time": "2023-11-25T20:23:24.701472Z",
     "start_time": "2023-11-25T20:23:24.678590Z"
    }
   },
   "outputs": [],
   "source": []
  },
  {
   "cell_type": "code",
   "execution_count": 40,
   "id": "61174abc",
   "metadata": {
    "ExecuteTime": {
     "end_time": "2023-11-25T20:40:44.517689Z",
     "start_time": "2023-11-25T20:40:44.510617Z"
    }
   },
   "outputs": [],
   "source": [
    "bins = np.arange(0.5, 4., 1)\n",
    "centers = (bins[1:] + bins[:-1])/2"
   ]
  },
  {
   "cell_type": "code",
   "execution_count": 41,
   "id": "23e775db",
   "metadata": {
    "ExecuteTime": {
     "end_time": "2023-11-25T20:40:45.389585Z",
     "start_time": "2023-11-25T20:40:45.380024Z"
    }
   },
   "outputs": [],
   "source": [
    "density, _ = np.histogram(data, bins=bins, density=1.)"
   ]
  },
  {
   "cell_type": "code",
   "execution_count": 62,
   "id": "cd851de4",
   "metadata": {
    "ExecuteTime": {
     "end_time": "2023-11-25T20:43:15.941626Z",
     "start_time": "2023-11-25T20:43:15.933610Z"
    }
   },
   "outputs": [
    {
     "data": {
      "text/plain": [
       "(array([1., 2., 3.]), array([0.4, 0.4, 0.2]))"
      ]
     },
     "execution_count": 62,
     "metadata": {},
     "output_type": "execute_result"
    }
   ],
   "source": [
    "centers, density"
   ]
  },
  {
   "cell_type": "code",
   "execution_count": 42,
   "id": "4ab7ee33",
   "metadata": {
    "ExecuteTime": {
     "end_time": "2023-11-25T20:40:46.032256Z",
     "start_time": "2023-11-25T20:40:46.027016Z"
    }
   },
   "outputs": [],
   "source": [
    "def model(k, mu):\n",
    "    return stats.poisson.pmf(k, mu)"
   ]
  },
  {
   "cell_type": "code",
   "execution_count": 61,
   "id": "458f422a",
   "metadata": {
    "ExecuteTime": {
     "end_time": "2023-11-25T20:42:58.518409Z",
     "start_time": "2023-11-25T20:42:58.490637Z"
    }
   },
   "outputs": [
    {
     "data": {
      "text/plain": [
       "array([1.71050156])"
      ]
     },
     "execution_count": 61,
     "metadata": {},
     "output_type": "execute_result"
    }
   ],
   "source": [
    "popt, pcov = optimize.curve_fit(model, centers, density)\n",
    "popt"
   ]
  },
  {
   "cell_type": "code",
   "execution_count": 44,
   "id": "20f4bbf9",
   "metadata": {
    "ExecuteTime": {
     "end_time": "2023-11-25T20:40:48.737545Z",
     "start_time": "2023-11-25T20:40:48.731939Z"
    }
   },
   "outputs": [],
   "source": [
    "X = stats.poisson(1.8)"
   ]
  },
  {
   "cell_type": "code",
   "execution_count": 45,
   "id": "91597d1e",
   "metadata": {
    "ExecuteTime": {
     "end_time": "2023-11-25T20:40:49.623389Z",
     "start_time": "2023-11-25T20:40:49.370959Z"
    }
   },
   "outputs": [
    {
     "data": {
      "image/png": "[encoded data removed]",
      "text/plain": [
       "<Figure size 640x480 with 1 Axes>"
      ]
     },
     "metadata": {},
     "output_type": "display_data"
    }
   ],
   "source": [
    "fig, axe = plt.subplots()\n",
    "axe.hist(data, bins=bins, density=1., alpha=0.5)\n",
    "axe.scatter(centers, X.pmf(centers))\n",
    "axe.grid()"
   ]
  },
  {
   "cell_type": "code",
   "execution_count": null,
   "id": "6a95695a",
   "metadata": {
    "ExecuteTime": {
     "end_time": "2023-11-25T20:38:17.905936Z",
     "start_time": "2023-11-25T20:38:17.790239Z"
    }
   },
   "outputs": [],
   "source": []
  },
  {
   "cell_type": "code",
   "execution_count": 57,
   "id": "f4758844",
   "metadata": {
    "ExecuteTime": {
     "end_time": "2023-11-25T20:41:55.544691Z",
     "start_time": "2023-11-25T20:41:55.540772Z"
    }
   },
   "outputs": [],
   "source": [
    "def negative_log_likelihood(params, data):\n",
    "    return - stats.poisson.logpmf(data, params[0]).sum()"
   ]
  },
  {
   "cell_type": "code",
   "execution_count": 58,
   "id": "526f0733",
   "metadata": {
    "ExecuteTime": {
     "end_time": "2023-11-25T20:41:56.148534Z",
     "start_time": "2023-11-25T20:41:56.138459Z"
    }
   },
   "outputs": [],
   "source": [
    "result = optimize.minimize(\n",
    "    negative_log_likelihood,\n",
    "    x0=[2],\n",
    "    args=(data,),\n",
    "    #method='Powell',\n",
    ")"
   ]
  },
  {
   "cell_type": "code",
   "execution_count": 59,
   "id": "e203103a",
   "metadata": {
    "ExecuteTime": {
     "end_time": "2023-11-25T20:41:56.738454Z",
     "start_time": "2023-11-25T20:41:56.730912Z"
    }
   },
   "outputs": [
    {
     "data": {
      "text/plain": [
       "      fun: 6.8879738462437246\n",
       " hess_inv: array([[0.36129333]])\n",
       "      jac: array([9.05990601e-06])\n",
       "  message: 'Optimization terminated successfully.'\n",
       "     nfev: 10\n",
       "      nit: 3\n",
       "     njev: 5\n",
       "   status: 0\n",
       "  success: True\n",
       "        x: array([1.80000327])"
      ]
     },
     "execution_count": 59,
     "metadata": {},
     "output_type": "execute_result"
    }
   ],
   "source": [
    "result"
   ]
  },
  {
   "cell_type": "code",
   "execution_count": null,
   "id": "8b6660ba",
   "metadata": {},
   "outputs": [],
   "source": []
  }
 ],
 "metadata": {
  "hide_input": false,
  "kernelspec": {
   "display_name": "Python 3",
   "language": "python",
   "name": "python3"
  },
  "language_info": {
   "codemirror_mode": {
    "name": "ipython",
    "version": 3
   },
   "file_extension": ".py",
   "mimetype": "text/x-python",
   "name": "python",
   "nbconvert_exporter": "python",
   "pygments_lexer": "ipython3",
   "version": "3.10.6"
  },
  "toc": {
   "base_numbering": 1,
   "nav_menu": {},
   "number_sections": true,
   "sideBar": true,
   "skip_h1_title": false,
   "title_cell": "Table of Contents",
   "title_sidebar": "Contents",
   "toc_cell": false,
   "toc_position": {},
   "toc_section_display": true,
   "toc_window_display": false
  },
  "varInspector": {
   "cols": {
    "lenName": 16,
    "lenType": 16,
    "lenVar": 40
   },
   "kernels_config": {
    "python": {
     "delete_cmd_postfix": "",
     "delete_cmd_prefix": "del ",
     "library": "var_list.py",
     "varRefreshCmd": "print(var_dic_list())"
    },
    "r": {
     "delete_cmd_postfix": ") ",
     "delete_cmd_prefix": "rm(",
     "library": "var_list.r",
     "varRefreshCmd": "cat(var_dic_list()) "
    }
   },
   "types_to_exclude": [
    "module",
    "function",
    "builtin_function_or_method",
    "instance",
    "_Feature"
   ],
   "window_display": false
  }
 },
 "nbformat": 4,
 "nbformat_minor": 5
}
