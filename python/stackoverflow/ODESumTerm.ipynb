{
 "cells": [
  {
   "cell_type": "code",
   "execution_count": 2,
   "id": "1d20d5ae",
   "metadata": {
    "ExecuteTime": {
     "end_time": "2023-12-12T18:01:15.591587Z",
     "start_time": "2023-12-12T18:01:15.586454Z"
    }
   },
   "outputs": [],
   "source": [
    "import numpy as np \n",
    "import matplotlib.pyplot as plt \n",
    "from scipy import integrate"
   ]
  },
  {
   "cell_type": "markdown",
   "id": "43f1340b",
   "metadata": {},
   "source": [
    "https://stackoverflow.com/questions/77645217/solving-a-second-order-ode-that-has-a-summation-term"
   ]
  },
  {
   "cell_type": "code",
   "execution_count": 34,
   "id": "29cbf7bc",
   "metadata": {
    "ExecuteTime": {
     "end_time": "2023-12-12T18:19:01.867318Z",
     "start_time": "2023-12-12T18:19:01.858118Z"
    }
   },
   "outputs": [],
   "source": [
    "def model(t, x, a, b, c, As, Bs, omegas):\n",
    "    rhs = np.sum([\n",
    "        A * np.cos(omega * t) + B * np.sin(omega * t)\n",
    "        for A, B, omega in zip(As, Bs, omegas)\n",
    "    ])\n",
    "    return np.array([\n",
    "        x[1],\n",
    "        (rhs - b * x[1] - c * x[0]) / a \n",
    "    ])"
   ]
  },
  {
   "cell_type": "code",
   "execution_count": 44,
   "id": "8d2728a8",
   "metadata": {
    "ExecuteTime": {
     "end_time": "2023-12-12T18:19:40.680538Z",
     "start_time": "2023-12-12T18:19:40.675565Z"
    }
   },
   "outputs": [],
   "source": []
  },
  {
   "cell_type": "code",
   "execution_count": 45,
   "id": "b5d492c2",
   "metadata": {
    "ExecuteTime": {
     "end_time": "2023-12-12T18:19:41.063956Z",
     "start_time": "2023-12-12T18:19:41.057544Z"
    }
   },
   "outputs": [],
   "source": [
    "a = 2\n",
    "b = -3\n",
    "c = 2\n",
    "As = [2, 8, 14] \n",
    "Bs = [3, 11, -2]\n",
    "omegas = [20, 40, 60]\n",
    "t = np.linspace(0, 100, 1000) "
   ]
  },
  {
   "cell_type": "code",
   "execution_count": 46,
   "id": "c00af843",
   "metadata": {
    "ExecuteTime": {
     "end_time": "2023-12-12T18:19:41.315143Z",
     "start_time": "2023-12-12T18:19:41.223680Z"
    }
   },
   "outputs": [],
   "source": [
    "solution = integrate.solve_ivp(\n",
    "    model, [t.min(), t.max()], [0, 0],\n",
    "    t_eval=t, args=(a, b, c, As, Bs, omegas)\n",
    ")"
   ]
  },
  {
   "cell_type": "code",
   "execution_count": 55,
   "id": "3eea9ffd",
   "metadata": {
    "ExecuteTime": {
     "end_time": "2023-12-12T18:21:40.232766Z",
     "start_time": "2023-12-12T18:21:39.969990Z"
    }
   },
   "outputs": [
    {
     "data": {
      "text/plain": [
       "[<matplotlib.lines.Line2D at 0x7f491bc9d0f0>]"
      ]
     },
     "execution_count": 55,
     "metadata": {},
     "output_type": "execute_result"
    },
    {
     "data": {
      "image/png": "[encoded data removed]",
      "text/plain": [
       "<Figure size 640x480 with 1 Axes>"
      ]
     },
     "metadata": {},
     "output_type": "display_data"
    }
   ],
   "source": [
    "fig, axe = plt.subplots()\n",
    "axe.plot(t, solution.y.T[:,0])"
   ]
  },
  {
   "cell_type": "code",
   "execution_count": null,
   "id": "d62282d0",
   "metadata": {},
   "outputs": [],
   "source": []
  },
  {
   "cell_type": "code",
   "execution_count": null,
   "id": "b3fb385d",
   "metadata": {},
   "outputs": [],
   "source": []
  }
 ],
 "metadata": {
  "hide_input": false,
  "kernelspec": {
   "display_name": "Python 3",
   "language": "python",
   "name": "python3"
  },
  "language_info": {
   "codemirror_mode": {
    "name": "ipython",
    "version": 3
   },
   "file_extension": ".py",
   "mimetype": "text/x-python",
   "name": "python",
   "nbconvert_exporter": "python",
   "pygments_lexer": "ipython3",
   "version": "3.10.6"
  },
  "toc": {
   "base_numbering": 1,
   "nav_menu": {},
   "number_sections": true,
   "sideBar": true,
   "skip_h1_title": false,
   "title_cell": "Table of Contents",
   "title_sidebar": "Contents",
   "toc_cell": false,
   "toc_position": {},
   "toc_section_display": true,
   "toc_window_display": false
  },
  "varInspector": {
   "cols": {
    "lenName": 16,
    "lenType": 16,
    "lenVar": 40
   },
   "kernels_config": {
    "python": {
     "delete_cmd_postfix": "",
     "delete_cmd_prefix": "del ",
     "library": "var_list.py",
     "varRefreshCmd": "print(var_dic_list())"
    },
    "r": {
     "delete_cmd_postfix": ") ",
     "delete_cmd_prefix": "rm(",
     "library": "var_list.r",
     "varRefreshCmd": "cat(var_dic_list()) "
    }
   },
   "types_to_exclude": [
    "module",
    "function",
    "builtin_function_or_method",
    "instance",
    "_Feature"
   ],
   "window_display": false
  }
 },
 "nbformat": 4,
 "nbformat_minor": 5
}
