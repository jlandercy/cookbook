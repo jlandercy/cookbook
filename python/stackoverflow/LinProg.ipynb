{
 "cells": [
  {
   "cell_type": "markdown",
   "id": "248895f0",
   "metadata": {},
   "source": [
    "https://stackoverflow.com/questions/77703474/how-to-solve-linear-programming-problem-using-python-and-scipy"
   ]
  },
  {
   "cell_type": "code",
   "execution_count": 1,
   "id": "fdaa616b",
   "metadata": {
    "ExecuteTime": {
     "end_time": "2023-12-22T15:01:55.005676Z",
     "start_time": "2023-12-22T15:01:54.522281Z"
    }
   },
   "outputs": [],
   "source": [
    "from scipy import optimize"
   ]
  },
  {
   "cell_type": "code",
   "execution_count": 2,
   "id": "13886fbf",
   "metadata": {
    "ExecuteTime": {
     "end_time": "2023-12-22T15:01:55.018238Z",
     "start_time": "2023-12-22T15:01:55.010504Z"
    }
   },
   "outputs": [],
   "source": [
    "c = [1000, 1500, 1700]\n",
    "\n",
    "A_ub = [\n",
    "    [0.02,  0.033,  0.05],\n",
    "    [0.3,   0.2,    0.35],\n",
    "    [-0.02,  -0.033, -0.05],\n",
    "    [-0.3,   -0.2,   -0.35],\n",
    "]\n",
    "\n",
    "b_ub = [1.2, 1.9, 0.0, -1.2]\n",
    "\n",
    "A_eq = [\n",
    "    [0.005, 0., 0.]\n",
    "]\n",
    "b_eq = [0.]"
   ]
  },
  {
   "cell_type": "code",
   "execution_count": 3,
   "id": "99655966",
   "metadata": {
    "ExecuteTime": {
     "end_time": "2023-12-22T15:01:55.037406Z",
     "start_time": "2023-12-22T15:01:55.023243Z"
    }
   },
   "outputs": [],
   "source": [
    "result = optimize.linprog(\n",
    "    c,\n",
    "    A_ub=A_ub, b_ub=b_ub,\n",
    "    A_eq=A_eq, b_eq=b_eq,\n",
    "    bounds=[(0., None)] * 3,\n",
    "    method='highs'\n",
    ")"
   ]
  },
  {
   "cell_type": "code",
   "execution_count": 4,
   "id": "5f2a0aea",
   "metadata": {
    "ExecuteTime": {
     "end_time": "2023-12-22T15:01:55.057171Z",
     "start_time": "2023-12-22T15:01:55.040698Z"
    }
   },
   "outputs": [
    {
     "data": {
      "text/plain": [
       "           con: array([0.])\n",
       " crossover_nit: 0\n",
       "         eqlin:  marginals: array([-91428.57142857])\n",
       "  residual: array([0.])\n",
       "           fun: 5828.571428571429\n",
       "       ineqlin:  marginals: array([   -0.        ,    -0.        ,    -0.        , -4857.14285714])\n",
       "  residual: array([1.02857143, 0.7       , 0.17142857, 0.        ])\n",
       "         lower:  marginals: array([  0.        , 528.57142857,   0.        ])\n",
       "  residual: array([-0.        ,  0.        ,  3.42857143])\n",
       "       message: 'Optimization terminated successfully. (HiGHS Status 7: Optimal)'\n",
       "           nit: 0\n",
       "         slack: array([1.02857143, 0.7       , 0.17142857, 0.        ])\n",
       "        status: 0\n",
       "       success: True\n",
       "         upper:  marginals: array([0., 0., 0.])\n",
       "  residual: array([inf, inf, inf])\n",
       "             x: array([-0.        ,  0.        ,  3.42857143])"
      ]
     },
     "execution_count": 4,
     "metadata": {},
     "output_type": "execute_result"
    }
   ],
   "source": [
    "result"
   ]
  },
  {
   "cell_type": "code",
   "execution_count": null,
   "id": "ea33c3a7",
   "metadata": {},
   "outputs": [],
   "source": []
  },
  {
   "cell_type": "code",
   "execution_count": null,
   "id": "2d397b66",
   "metadata": {},
   "outputs": [],
   "source": []
  },
  {
   "cell_type": "code",
   "execution_count": 5,
   "id": "f16b7bca",
   "metadata": {
    "ExecuteTime": {
     "end_time": "2023-12-22T15:51:50.172418Z",
     "start_time": "2023-12-22T15:51:50.150685Z"
    }
   },
   "outputs": [],
   "source": [
    "c = [1000, 1500, 1700]\n",
    "\n",
    "A = [\n",
    "    [0.02,  0.033,  0.05],\n",
    "    [0.3,   0.2,    0.35],\n",
    "    [0.005, 0.,     0.],\n",
    "]\n",
    "\n",
    "b_lb = [0.0, 1.2, 0.0]\n",
    "b_ub = [1.2, 1.9, 0.0]"
   ]
  },
  {
   "cell_type": "code",
   "execution_count": 10,
   "id": "d18de46a",
   "metadata": {
    "ExecuteTime": {
     "end_time": "2023-12-22T16:05:32.632747Z",
     "start_time": "2023-12-22T16:05:32.323533Z"
    }
   },
   "outputs": [
    {
     "data": {
      "text/plain": [
       "            fun: 5828.571428571429\n",
       "        message: 'Optimization terminated successfully. (HiGHS Status 7: Optimal)'\n",
       " mip_dual_bound: None\n",
       "        mip_gap: None\n",
       " mip_node_count: None\n",
       "         status: 0\n",
       "        success: True\n",
       "              x: array([-0.        ,  0.        ,  3.42857143])"
      ]
     },
     "execution_count": 10,
     "metadata": {},
     "output_type": "execute_result"
    }
   ],
   "source": [
    "optimize.milp(c=c, constraints=[optimize.LinearConstraint(A, b_lb, b_ub)])"
   ]
  },
  {
   "cell_type": "code",
   "execution_count": 11,
   "id": "a7fd0688",
   "metadata": {
    "ExecuteTime": {
     "end_time": "2023-12-22T16:05:33.070840Z",
     "start_time": "2023-12-22T16:05:33.037656Z"
    }
   },
   "outputs": [
    {
     "data": {
      "text/plain": [
       "            fun: 6600.0\n",
       "        message: 'Optimization terminated successfully. (HiGHS Status 7: Optimal)'\n",
       " mip_dual_bound: 6600.0\n",
       "        mip_gap: 0.0\n",
       " mip_node_count: 1\n",
       "         status: 0\n",
       "        success: True\n",
       "              x: array([0., 1., 3.])"
      ]
     },
     "execution_count": 11,
     "metadata": {},
     "output_type": "execute_result"
    }
   ],
   "source": [
    "optimize.milp(c=c, constraints=[optimize.LinearConstraint(A, b_lb, b_ub)], integrality=[1, 1, 1])"
   ]
  },
  {
   "cell_type": "code",
   "execution_count": null,
   "id": "6d6f7762",
   "metadata": {},
   "outputs": [],
   "source": []
  }
 ],
 "metadata": {
  "hide_input": false,
  "kernelspec": {
   "display_name": "Python 3",
   "language": "python",
   "name": "python3"
  },
  "language_info": {
   "codemirror_mode": {
    "name": "ipython",
    "version": 3
   },
   "file_extension": ".py",
   "mimetype": "text/x-python",
   "name": "python",
   "nbconvert_exporter": "python",
   "pygments_lexer": "ipython3",
   "version": "3.10.6"
  },
  "toc": {
   "base_numbering": 1,
   "nav_menu": {},
   "number_sections": true,
   "sideBar": true,
   "skip_h1_title": false,
   "title_cell": "Table of Contents",
   "title_sidebar": "Contents",
   "toc_cell": false,
   "toc_position": {},
   "toc_section_display": true,
   "toc_window_display": false
  },
  "varInspector": {
   "cols": {
    "lenName": 16,
    "lenType": 16,
    "lenVar": 40
   },
   "kernels_config": {
    "python": {
     "delete_cmd_postfix": "",
     "delete_cmd_prefix": "del ",
     "library": "var_list.py",
     "varRefreshCmd": "print(var_dic_list())"
    },
    "r": {
     "delete_cmd_postfix": ") ",
     "delete_cmd_prefix": "rm(",
     "library": "var_list.r",
     "varRefreshCmd": "cat(var_dic_list()) "
    }
   },
   "types_to_exclude": [
    "module",
    "function",
    "builtin_function_or_method",
    "instance",
    "_Feature"
   ],
   "window_display": false
  }
 },
 "nbformat": 4,
 "nbformat_minor": 5
}
