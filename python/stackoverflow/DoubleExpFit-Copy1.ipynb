{
 "cells": [
  {
   "cell_type": "markdown",
   "id": "f6a84667",
   "metadata": {},
   "source": [
    "https://stackoverflow.com/questions/77669310/double-exponential-fit-in-python"
   ]
  },
  {
   "cell_type": "code",
   "execution_count": 1,
   "id": "ef0533f6",
   "metadata": {
    "ExecuteTime": {
     "end_time": "2023-12-18T07:58:26.300050Z",
     "start_time": "2023-12-18T07:58:24.172212Z"
    }
   },
   "outputs": [],
   "source": [
    "import numpy as np\n",
    "import matplotlib.pyplot as plt\n",
    "from scipy import optimize\n",
    "from sklearn.metrics import r2_score"
   ]
  },
  {
   "cell_type": "code",
   "execution_count": 2,
   "id": "82b6a089",
   "metadata": {
    "ExecuteTime": {
     "end_time": "2023-12-18T07:58:26.314626Z",
     "start_time": "2023-12-18T07:58:26.303511Z"
    }
   },
   "outputs": [],
   "source": [
    "t0 = np.array([-0.5, -0.4, -0.3, -0.2, -0.1, 0., 0.06, 0.07, 0.08, 0.09, 0.1, 0.11, 0.12, 0.13, 0.14, 0.15, 0.16, 0.17, 0.18, 0.19, 0.2, 0.21, 0.22, 0.23, 0.24, 0.25, 0.27, 0.3, 0.33, 0.36, 0.39, 0.42, 0.45, 0.48, 0.51, 0.54, 0.57, 0.6, 0.63, 0.66, 0.69, 0.72, 0.75, 0.78, 0.81, 0.84, 0.87, 0.9, 0.93, 0.96, 0.99, 1.02, 1.05, 1.08, 1.1, 1.2, 1.3, 1.4, 1.5, 1.6, 1.7, 1.8, 1.9, 2.])\n",
    "x1 = np.array([0., 0.08362, 0.05064, 0.0498, 0.03706667, 0.27215333, 1.47517, 1.62150333, 1.72074667, 1.85051667, 1.81913, 1.89994, 1.96591667, 1.98604667, 2.08784333, 2.07969333, 2.09007, 2.06054333, 2.1477, 2.08343, 2.08434, 2.02111, 1.96873, 1.96056333, 1.89549667, 1.82184333, 1.70469, 1.47502667, 1.30257667, 1.09063333, 0.95496333, 0.87091333, 0.73064667, 0.59721333, 0.53186333, 0.47225, 0.41566667, 0.36025, 0.31752, 0.30499667, 0.26868, 0.21355667, 0.19169, 0.17645, 0.14872667, 0.10706667, 0.12724667, 0.1013, 0.08720333, 0.09477333, 0.09134, 0.10958, 0.08022667, 0.09363, 0.08076667, 0.09006, 0.09902, 0.07093333, 0.09918, 0.10192, 0.09432333, 0.09079333, 0.10425, 0.09839667])\n",
    "x2 = np.array([0., -0.12552667, -0.15764, -0.19444, -0.26223, -0.35566333, -1.2022, -1.30988667, -1.44820667, -1.49741333, -1.66169333, -1.72277667, -1.81840667, -1.92772333, -1.97253333, -2.10094667, -2.21817667, -2.24875333, -2.43420667, -2.47216, -2.50555667, -2.62232333, -2.65796667, -2.68747333, -2.69612667, -2.71442, -2.59840333, -2.56071667, -2.44539333, -2.28093667, -2.23737, -2.09984333, -2.07465667, -2.04232667, -1.95166667, -1.93045333, -1.89963333, -1.92825667, -1.98861667, -1.93057667, -2.00662333, -1.91338667, -1.92764, -2.03428, -2.04880667, -1.98233667, -1.90731333, -2.00939667, -1.92832, -1.93799, -1.89133, -1.90807, -1.97912, -1.99034667, -1.95203333, -1.85398667, -1.86426667, -1.85729667, -1.86018667, -1.92405, -1.88595667, -1.88160667, -1.82243333, -1.87084667])"
   ]
  },
  {
   "cell_type": "code",
   "execution_count": 3,
   "id": "1fc88e22",
   "metadata": {
    "ExecuteTime": {
     "end_time": "2023-12-18T07:58:26.322368Z",
     "start_time": "2023-12-18T07:58:26.318171Z"
    }
   },
   "outputs": [],
   "source": [
    "q = (t0 >= 0.)\n",
    "t0 = t0[q]\n",
    "x1 = x1[q]\n",
    "x2 = x2[q]"
   ]
  },
  {
   "cell_type": "code",
   "execution_count": null,
   "id": "a6b72c0f",
   "metadata": {
    "ExecuteTime": {
     "end_time": "2023-12-17T09:24:36.290009Z",
     "start_time": "2023-12-17T09:24:35.040692Z"
    }
   },
   "outputs": [],
   "source": []
  },
  {
   "cell_type": "code",
   "execution_count": null,
   "id": "4bb75d0a",
   "metadata": {},
   "outputs": [],
   "source": []
  },
  {
   "cell_type": "code",
   "execution_count": 4,
   "id": "47d4d97e",
   "metadata": {
    "ExecuteTime": {
     "end_time": "2023-12-18T07:58:26.330146Z",
     "start_time": "2023-12-18T07:58:26.326493Z"
    }
   },
   "outputs": [],
   "source": [
    "def model2(x, a, b, c, d, e):\n",
    "    return a * np.exp(-b * x) + c * np.exp(-d * x) + e"
   ]
  },
  {
   "cell_type": "code",
   "execution_count": 5,
   "id": "8b0987c4",
   "metadata": {
    "ExecuteTime": {
     "end_time": "2023-12-18T07:58:26.336446Z",
     "start_time": "2023-12-18T07:58:26.333126Z"
    }
   },
   "outputs": [],
   "source": [
    "def model2(x, a, b, c, d):\n",
    "    return a * x * np.exp(-b * x) - c *(1 - np.exp(-d * x))"
   ]
  },
  {
   "cell_type": "code",
   "execution_count": null,
   "id": "48a9c21c",
   "metadata": {
    "ExecuteTime": {
     "end_time": "2023-12-17T09:57:03.824792Z",
     "start_time": "2023-12-17T09:57:03.817095Z"
    }
   },
   "outputs": [],
   "source": []
  },
  {
   "cell_type": "code",
   "execution_count": null,
   "id": "991f99f0",
   "metadata": {},
   "outputs": [],
   "source": []
  },
  {
   "cell_type": "code",
   "execution_count": 6,
   "id": "160104ba",
   "metadata": {
    "ExecuteTime": {
     "end_time": "2023-12-18T07:58:26.364183Z",
     "start_time": "2023-12-18T07:58:26.340380Z"
    }
   },
   "outputs": [
    {
     "data": {
      "text/plain": [
       "(array([ 3.85903575e+01,  6.84925174e+00,  2.42361762e-02, -9.12847012e-01]),\n",
       " array([[0.44760132, 0.05386743, 0.01048778, 0.19496296],\n",
       "        [0.05386743, 0.00822338, 0.00224154, 0.04191002],\n",
       "        [0.01048778, 0.00224154, 0.00249973, 0.04831067],\n",
       "        [0.19496296, 0.04191002, 0.04831067, 0.9471787 ]]))"
      ]
     },
     "execution_count": 6,
     "metadata": {},
     "output_type": "execute_result"
    }
   ],
   "source": [
    "popt1, pcov1 = optimize.curve_fit(model2, t0, x1)"
   ]
  },
  {
   "cell_type": "raw",
   "id": "3ede1b1e",
   "metadata": {
    "ExecuteTime": {
     "end_time": "2023-12-17T09:48:41.273892Z",
     "start_time": "2023-12-17T09:48:41.265876Z"
    }
   },
   "source": [
    "popt1, pcov1 = optimize.curve_fit(model1, t0, x1, p0=[-1, 1, 1, 1])\n",
    "popt1, pcov1"
   ]
  },
  {
   "cell_type": "code",
   "execution_count": 12,
   "id": "81965823",
   "metadata": {
    "ExecuteTime": {
     "end_time": "2023-12-18T08:14:44.402283Z",
     "start_time": "2023-12-18T08:14:44.370617Z"
    }
   },
   "outputs": [],
   "source": []
  },
  {
   "cell_type": "code",
   "execution_count": 14,
   "id": "d1cc402c",
   "metadata": {
    "ExecuteTime": {
     "end_time": "2023-12-18T08:15:05.617503Z",
     "start_time": "2023-12-18T08:15:05.591005Z"
    }
   },
   "outputs": [
    {
     "data": {
      "text/plain": [
       "0.9932075193845648"
      ]
     },
     "execution_count": 14,
     "metadata": {},
     "output_type": "execute_result"
    }
   ],
   "source": [
    "x1hat = model2(t0, *popt1)\n",
    "score1 = r2_score(x1, x1hat)\n",
    "score1"
   ]
  },
  {
   "cell_type": "code",
   "execution_count": null,
   "id": "e2727dd9",
   "metadata": {},
   "outputs": [],
   "source": []
  },
  {
   "cell_type": "code",
   "execution_count": 7,
   "id": "3153a349",
   "metadata": {
    "ExecuteTime": {
     "end_time": "2023-12-18T07:58:26.376630Z",
     "start_time": "2023-12-18T07:58:26.366985Z"
    }
   },
   "outputs": [
    {
     "data": {
      "text/plain": [
       "(array([-23.77125047,   5.21925912,   1.95317437,   2.20996689]),\n",
       " array([[ 0.90925921,  0.00741302, -0.04303857,  0.25044186],\n",
       "        [ 0.00741302,  0.14738189, -0.02429899,  0.22796133],\n",
       "        [-0.04303857, -0.02429899,  0.00861674, -0.05510877],\n",
       "        [ 0.25044186,  0.22796133, -0.05510877,  0.43753774]]))"
      ]
     },
     "execution_count": 7,
     "metadata": {},
     "output_type": "execute_result"
    }
   ],
   "source": [
    "popt2, pcov2 = optimize.curve_fit(model2, t0, x2) #, p0 = [-1, 1, -1, 1, 1])\n",
    "popt2, pcov2"
   ]
  },
  {
   "cell_type": "code",
   "execution_count": 15,
   "id": "4ea39394",
   "metadata": {
    "ExecuteTime": {
     "end_time": "2023-12-18T08:15:29.383886Z",
     "start_time": "2023-12-18T08:15:29.375224Z"
    }
   },
   "outputs": [
    {
     "data": {
      "text/plain": [
       "0.8745479038673547"
      ]
     },
     "execution_count": 15,
     "metadata": {},
     "output_type": "execute_result"
    }
   ],
   "source": [
    "x2hat = model2(t0, *popt2)\n",
    "score2 = r2_score(x2, x2hat)\n",
    "score2"
   ]
  },
  {
   "cell_type": "code",
   "execution_count": null,
   "id": "3cb23d00",
   "metadata": {},
   "outputs": [],
   "source": []
  },
  {
   "cell_type": "code",
   "execution_count": 8,
   "id": "6f33cce9",
   "metadata": {
    "ExecuteTime": {
     "end_time": "2023-12-18T07:58:26.382992Z",
     "start_time": "2023-12-18T07:58:26.379304Z"
    }
   },
   "outputs": [],
   "source": [
    "tlin = np.linspace(t0.min(), t0.max(), 200)\n",
    "x1hat = model2(tlin, *popt1)\n",
    "x2hat = model2(tlin, *popt2)"
   ]
  },
  {
   "cell_type": "code",
   "execution_count": 9,
   "id": "15fe1e8a",
   "metadata": {
    "ExecuteTime": {
     "end_time": "2023-12-18T07:58:26.651546Z",
     "start_time": "2023-12-18T07:58:26.385393Z"
    }
   },
   "outputs": [
    {
     "data": {
      "image/png": "[encoded data removed]",
      "text/plain": [
       "<Figure size 640x480 with 1 Axes>"
      ]
     },
     "metadata": {},
     "output_type": "display_data"
    }
   ],
   "source": [
    "fig, axe = plt.subplots()\n",
    "axe.scatter(t0, x1, marker=\".\")\n",
    "axe.scatter(t0, x2, marker=\".\")\n",
    "axe.plot(tlin, x1hat)\n",
    "axe.plot(tlin, x2hat)\n",
    "axe.grid()"
   ]
  },
  {
   "cell_type": "code",
   "execution_count": null,
   "id": "c5f1c273",
   "metadata": {},
   "outputs": [],
   "source": []
  },
  {
   "cell_type": "code",
   "execution_count": null,
   "id": "cca2e9b9",
   "metadata": {},
   "outputs": [],
   "source": []
  },
  {
   "cell_type": "code",
   "execution_count": null,
   "id": "aa4a302c",
   "metadata": {},
   "outputs": [],
   "source": []
  },
  {
   "cell_type": "code",
   "execution_count": null,
   "id": "d7a6d81e",
   "metadata": {},
   "outputs": [],
   "source": []
  },
  {
   "cell_type": "code",
   "execution_count": null,
   "id": "e0b3900b",
   "metadata": {},
   "outputs": [],
   "source": []
  }
 ],
 "metadata": {
  "hide_input": false,
  "kernelspec": {
   "display_name": "Python 3",
   "language": "python",
   "name": "python3"
  },
  "language_info": {
   "codemirror_mode": {
    "name": "ipython",
    "version": 3
   },
   "file_extension": ".py",
   "mimetype": "text/x-python",
   "name": "python",
   "nbconvert_exporter": "python",
   "pygments_lexer": "ipython3",
   "version": "3.10.6"
  },
  "toc": {
   "base_numbering": 1,
   "nav_menu": {},
   "number_sections": true,
   "sideBar": true,
   "skip_h1_title": false,
   "title_cell": "Table of Contents",
   "title_sidebar": "Contents",
   "toc_cell": false,
   "toc_position": {},
   "toc_section_display": true,
   "toc_window_display": false
  },
  "varInspector": {
   "cols": {
    "lenName": 16,
    "lenType": 16,
    "lenVar": 40
   },
   "kernels_config": {
    "python": {
     "delete_cmd_postfix": "",
     "delete_cmd_prefix": "del ",
     "library": "var_list.py",
     "varRefreshCmd": "print(var_dic_list())"
    },
    "r": {
     "delete_cmd_postfix": ") ",
     "delete_cmd_prefix": "rm(",
     "library": "var_list.r",
     "varRefreshCmd": "cat(var_dic_list()) "
    }
   },
   "types_to_exclude": [
    "module",
    "function",
    "builtin_function_or_method",
    "instance",
    "_Feature"
   ],
   "window_display": false
  }
 },
 "nbformat": 4,
 "nbformat_minor": 5
}
