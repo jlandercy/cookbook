{
 "cells": [
  {
   "cell_type": "code",
   "execution_count": 1,
   "id": "cabc479b",
   "metadata": {
    "ExecuteTime": {
     "end_time": "2023-11-17T15:14:23.770469Z",
     "start_time": "2023-11-17T15:14:21.790785Z"
    }
   },
   "outputs": [],
   "source": [
    "import numpy as np\n",
    "import matplotlib.pyplot as plt\n",
    "from scipy import stats, optimize, special"
   ]
  },
  {
   "cell_type": "markdown",
   "id": "3080e9f3",
   "metadata": {},
   "source": [
    "https://stackoverflow.com/questions/77487776/fittig-a-rice-distribution-using-scipy"
   ]
  },
  {
   "cell_type": "code",
   "execution_count": 2,
   "id": "597913d7",
   "metadata": {
    "ExecuteTime": {
     "end_time": "2023-11-17T15:14:23.802418Z",
     "start_time": "2023-11-17T15:14:23.779050Z"
    }
   },
   "outputs": [],
   "source": [
    "nu = 8.5\n",
    "sigma = 10.5\n",
    "n = 30000\n",
    "b = nu / sigma\n",
    "\n",
    "np.random.seed(12345)\n",
    "\n",
    "X = stats.rice(b=b, scale=sigma)\n",
    "data = X.rvs(size=n)"
   ]
  },
  {
   "cell_type": "code",
   "execution_count": null,
   "id": "e81aab50",
   "metadata": {},
   "outputs": [],
   "source": []
  },
  {
   "cell_type": "code",
   "execution_count": 3,
   "id": "f79b17bb",
   "metadata": {
    "ExecuteTime": {
     "end_time": "2023-11-17T15:14:23.809535Z",
     "start_time": "2023-11-17T15:14:23.805063Z"
    }
   },
   "outputs": [],
   "source": [
    "xlin = np.linspace(0, 50, 200)"
   ]
  },
  {
   "cell_type": "code",
   "execution_count": 4,
   "id": "f29722b2",
   "metadata": {
    "ExecuteTime": {
     "end_time": "2023-11-17T15:14:23.819906Z",
     "start_time": "2023-11-17T15:14:23.813769Z"
    }
   },
   "outputs": [],
   "source": [
    "density, bins = np.histogram(data, 100, density=1.)\n",
    "centers = (bins[:-1] + bins[1:]) / 2"
   ]
  },
  {
   "cell_type": "code",
   "execution_count": null,
   "id": "40f2f0bb",
   "metadata": {
    "ExecuteTime": {
     "end_time": "2023-11-15T16:26:50.441302Z",
     "start_time": "2023-11-15T16:26:50.427871Z"
    }
   },
   "outputs": [],
   "source": []
  },
  {
   "cell_type": "code",
   "execution_count": null,
   "id": "ab230e75",
   "metadata": {
    "ExecuteTime": {
     "end_time": "2023-11-15T16:26:50.447796Z",
     "start_time": "2023-11-15T16:26:50.444270Z"
    }
   },
   "outputs": [],
   "source": []
  },
  {
   "cell_type": "code",
   "execution_count": 5,
   "id": "ca7acc56",
   "metadata": {
    "ExecuteTime": {
     "end_time": "2023-11-17T15:14:23.836263Z",
     "start_time": "2023-11-17T15:14:23.822408Z"
    }
   },
   "outputs": [
    {
     "data": {
      "text/plain": [
       "array([ 0.31279045,  0.8273872 ,  1.34198395,  1.85658069,  2.37117744,\n",
       "        2.88577419,  3.40037094,  3.91496769,  4.42956443,  4.94416118,\n",
       "        5.45875793,  5.97335468,  6.48795142,  7.00254817,  7.51714492,\n",
       "        8.03174167,  8.54633842,  9.06093516,  9.57553191, 10.09012866,\n",
       "       10.60472541, 11.11932215, 11.6339189 , 12.14851565, 12.6631124 ,\n",
       "       13.17770915, 13.69230589, 14.20690264, 14.72149939, 15.23609614,\n",
       "       15.75069289, 16.26528963, 16.77988638, 17.29448313, 17.80907988,\n",
       "       18.32367662, 18.83827337, 19.35287012, 19.86746687, 20.38206362,\n",
       "       20.89666036, 21.41125711, 21.92585386, 22.44045061, 22.95504735,\n",
       "       23.4696441 , 23.98424085, 24.4988376 , 25.01343435, 25.52803109,\n",
       "       26.04262784, 26.55722459, 27.07182134, 27.58641808, 28.10101483,\n",
       "       28.61561158, 29.13020833, 29.64480508, 30.15940182, 30.67399857,\n",
       "       31.18859532, 31.70319207, 32.21778882, 32.73238556, 33.24698231,\n",
       "       33.76157906, 34.27617581, 34.79077255, 35.3053693 , 35.81996605,\n",
       "       36.3345628 , 36.84915955, 37.36375629, 37.87835304, 38.39294979,\n",
       "       38.90754654, 39.42214328, 39.93674003, 40.45133678, 40.96593353,\n",
       "       41.48053028, 41.99512702, 42.50972377, 43.02432052, 43.53891727,\n",
       "       44.05351401, 44.56811076, 45.08270751, 45.59730426, 46.11190101,\n",
       "       46.62649775, 47.1410945 , 47.65569125, 48.170288  , 48.68488474,\n",
       "       49.19948149, 49.71407824, 50.22867499, 50.74327174, 51.25786848])"
      ]
     },
     "execution_count": 5,
     "metadata": {},
     "output_type": "execute_result"
    }
   ],
   "source": [
    "centers"
   ]
  },
  {
   "cell_type": "code",
   "execution_count": 6,
   "id": "9356bb82",
   "metadata": {
    "ExecuteTime": {
     "end_time": "2023-11-17T15:14:23.851227Z",
     "start_time": "2023-11-17T15:14:23.847562Z"
    }
   },
   "outputs": [],
   "source": [
    "def model(x, b, loc, scale):\n",
    "    return stats.rice.pdf(x, b=b, loc=loc, scale=scale)"
   ]
  },
  {
   "cell_type": "code",
   "execution_count": 7,
   "id": "8cbc2912",
   "metadata": {
    "ExecuteTime": {
     "end_time": "2023-11-17T15:14:23.882587Z",
     "start_time": "2023-11-17T15:14:23.853832Z"
    }
   },
   "outputs": [],
   "source": [
    "popt, pcov = optimize.curve_fit(model, centers, density)"
   ]
  },
  {
   "cell_type": "code",
   "execution_count": null,
   "id": "d4846e63",
   "metadata": {},
   "outputs": [],
   "source": []
  },
  {
   "cell_type": "code",
   "execution_count": null,
   "id": "9deb8d35",
   "metadata": {},
   "outputs": [],
   "source": []
  },
  {
   "cell_type": "code",
   "execution_count": 8,
   "id": "eb63d28d",
   "metadata": {
    "ExecuteTime": {
     "end_time": "2023-11-17T15:14:23.888983Z",
     "start_time": "2023-11-17T15:14:23.885588Z"
    }
   },
   "outputs": [],
   "source": [
    "def rice(x, nu, sigma):\n",
    "    return (x/sigma**2)*np.exp(-0.5*(x**2 + nu**2)/sigma**2)*special.i0(x*nu/sigma**2)"
   ]
  },
  {
   "cell_type": "code",
   "execution_count": 15,
   "id": "8cb469b2",
   "metadata": {
    "ExecuteTime": {
     "end_time": "2023-11-17T15:15:14.651176Z",
     "start_time": "2023-11-17T15:15:14.622009Z"
    }
   },
   "outputs": [],
   "source": [
    "popt2, pcov2 = optimize.curve_fit(rice, centers, density, p0=[10, 10])"
   ]
  },
  {
   "cell_type": "code",
   "execution_count": 18,
   "id": "f19afa3c",
   "metadata": {
    "ExecuteTime": {
     "end_time": "2023-11-17T15:16:16.364918Z",
     "start_time": "2023-11-17T15:16:16.345528Z"
    }
   },
   "outputs": [
    {
     "data": {
      "text/plain": [
       "(array([ 8.86411171, 10.34217091]),\n",
       " array([[ 0.12896075, -0.06411305],\n",
       "        [-0.06411305,  0.03441797]]))"
      ]
     },
     "execution_count": 18,
     "metadata": {},
     "output_type": "execute_result"
    }
   ],
   "source": [
    "popt2, pcov2"
   ]
  },
  {
   "cell_type": "code",
   "execution_count": 17,
   "id": "d9ab8628",
   "metadata": {
    "ExecuteTime": {
     "end_time": "2023-11-17T15:15:15.165248Z",
     "start_time": "2023-11-17T15:15:15.158475Z"
    }
   },
   "outputs": [
    {
     "data": {
      "text/plain": [
       "array([[ 0.12896075, -0.06411305],\n",
       "       [-0.06411305,  0.03441797]])"
      ]
     },
     "execution_count": 17,
     "metadata": {},
     "output_type": "execute_result"
    }
   ],
   "source": [
    "pcov2"
   ]
  },
  {
   "cell_type": "code",
   "execution_count": null,
   "id": "e059dfbb",
   "metadata": {},
   "outputs": [],
   "source": []
  },
  {
   "cell_type": "code",
   "execution_count": 12,
   "id": "9df2d3e4",
   "metadata": {
    "ExecuteTime": {
     "end_time": "2023-11-17T15:14:24.234622Z",
     "start_time": "2023-11-17T15:14:23.923133Z"
    }
   },
   "outputs": [
    {
     "data": {
      "image/png": "[encoded data removed]",
      "text/plain": [
       "<Figure size 640x480 with 1 Axes>"
      ]
     },
     "metadata": {},
     "output_type": "display_data"
    }
   ],
   "source": [
    "fig, axe = plt.subplots()\n",
    "axe.hist(data, alpha=0.5, density=1.0, label=\"Data\")\n",
    "axe.plot(xlin, X.pdf(xlin), label=\"Model\")\n",
    "axe.plot(xlin, model(xlin, *popt), label=\"Fit\")\n",
    "axe.plot(xlin, rice(xlin, *popt2), label=\"Fit 2\")\n",
    "axe.legend()\n",
    "axe.grid()"
   ]
  },
  {
   "cell_type": "code",
   "execution_count": null,
   "id": "4f760c06",
   "metadata": {
    "ExecuteTime": {
     "end_time": "2023-11-15T16:24:41.725564Z",
     "start_time": "2023-11-15T16:24:41.691529Z"
    }
   },
   "outputs": [],
   "source": []
  },
  {
   "cell_type": "code",
   "execution_count": null,
   "id": "eb3c3a15",
   "metadata": {},
   "outputs": [],
   "source": []
  },
  {
   "cell_type": "code",
   "execution_count": null,
   "id": "13ef9ab8",
   "metadata": {},
   "outputs": [],
   "source": []
  },
  {
   "cell_type": "code",
   "execution_count": null,
   "id": "c7e115b7",
   "metadata": {},
   "outputs": [],
   "source": []
  }
 ],
 "metadata": {
  "hide_input": false,
  "kernelspec": {
   "display_name": "Python 3",
   "language": "python",
   "name": "python3"
  },
  "language_info": {
   "codemirror_mode": {
    "name": "ipython",
    "version": 3
   },
   "file_extension": ".py",
   "mimetype": "text/x-python",
   "name": "python",
   "nbconvert_exporter": "python",
   "pygments_lexer": "ipython3",
   "version": "3.10.6"
  },
  "toc": {
   "base_numbering": 1,
   "nav_menu": {},
   "number_sections": true,
   "sideBar": true,
   "skip_h1_title": false,
   "title_cell": "Table of Contents",
   "title_sidebar": "Contents",
   "toc_cell": false,
   "toc_position": {},
   "toc_section_display": true,
   "toc_window_display": false
  },
  "varInspector": {
   "cols": {
    "lenName": 16,
    "lenType": 16,
    "lenVar": 40
   },
   "kernels_config": {
    "python": {
     "delete_cmd_postfix": "",
     "delete_cmd_prefix": "del ",
     "library": "var_list.py",
     "varRefreshCmd": "print(var_dic_list())"
    },
    "r": {
     "delete_cmd_postfix": ") ",
     "delete_cmd_prefix": "rm(",
     "library": "var_list.r",
     "varRefreshCmd": "cat(var_dic_list()) "
    }
   },
   "types_to_exclude": [
    "module",
    "function",
    "builtin_function_or_method",
    "instance",
    "_Feature"
   ],
   "window_display": false
  }
 },
 "nbformat": 4,
 "nbformat_minor": 5
}
