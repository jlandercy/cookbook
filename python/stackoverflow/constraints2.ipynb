{
 "cells": [
  {
   "cell_type": "code",
   "execution_count": 1,
   "id": "6046def1",
   "metadata": {
    "ExecuteTime": {
     "end_time": "2024-03-15T06:26:07.171191Z",
     "start_time": "2024-03-15T06:26:06.251435Z"
    }
   },
   "outputs": [
    {
     "ename": "RuntimeError",
     "evalue": "An array returned from a Constraint has the wrong shape. If `vectorized is False` the Constraint should return an array of shape (M,). If `vectorized is True` then the Constraint must return an array of shape (M, S), where S is the number of solution vectors and M is the number of constraint components in a given Constraint object.",
     "output_type": "error",
     "traceback": [
      "\u001b[0;31m---------------------------------------------------------------------------\u001b[0m",
      "\u001b[0;31mValueError\u001b[0m                                Traceback (most recent call last)",
      "File \u001b[0;32m~/.local/lib/python3.10/site-packages/scipy/optimize/_differentialevolution.py:1865\u001b[0m, in \u001b[0;36m_ConstraintWrapper.violation\u001b[0;34m(self, x)\u001b[0m\n\u001b[1;32m   1864\u001b[0m \u001b[38;5;28;01mtry\u001b[39;00m:\n\u001b[0;32m-> 1865\u001b[0m     excess_lb \u001b[38;5;241m=\u001b[39m np\u001b[38;5;241m.\u001b[39mmaximum(\u001b[38;5;28;43mself\u001b[39;49m\u001b[38;5;241;43m.\u001b[39;49m\u001b[43mbounds\u001b[49m\u001b[43m[\u001b[49m\u001b[38;5;241;43m0\u001b[39;49m\u001b[43m]\u001b[49m\u001b[43m \u001b[49m\u001b[38;5;241;43m-\u001b[39;49m\u001b[43m \u001b[49m\u001b[43mev\u001b[49m\u001b[38;5;241;43m.\u001b[39;49m\u001b[43mT\u001b[49m, \u001b[38;5;241m0\u001b[39m)\n\u001b[1;32m   1866\u001b[0m     excess_ub \u001b[38;5;241m=\u001b[39m np\u001b[38;5;241m.\u001b[39mmaximum(ev\u001b[38;5;241m.\u001b[39mT \u001b[38;5;241m-\u001b[39m \u001b[38;5;28mself\u001b[39m\u001b[38;5;241m.\u001b[39mbounds[\u001b[38;5;241m1\u001b[39m], \u001b[38;5;241m0\u001b[39m)\n",
      "\u001b[0;31mValueError\u001b[0m: operands could not be broadcast together with shapes (12,) (4,) ",
      "\nThe above exception was the direct cause of the following exception:\n",
      "\u001b[0;31mRuntimeError\u001b[0m                              Traceback (most recent call last)",
      "Cell \u001b[0;32mIn [1], line 46\u001b[0m\n\u001b[1;32m     42\u001b[0m nlc3 \u001b[38;5;241m=\u001b[39m NonlinearConstraint(c, lb3, ub3)\n\u001b[1;32m     45\u001b[0m \u001b[38;5;66;03m# Run Differential Evolution Algorithm\u001b[39;00m\n\u001b[0;32m---> 46\u001b[0m result \u001b[38;5;241m=\u001b[39m \u001b[43mdiff_evol\u001b[49m\u001b[43m(\u001b[49m\u001b[43mobjFunction\u001b[49m\u001b[43m,\u001b[49m\u001b[43m \u001b[49m\u001b[43mbounds\u001b[49m\u001b[43m,\u001b[49m\u001b[43m \u001b[49m\u001b[43mconstraints\u001b[49m\u001b[38;5;241;43m=\u001b[39;49m\u001b[43m(\u001b[49m\u001b[43mnlc1\u001b[49m\u001b[43m,\u001b[49m\u001b[43m \u001b[49m\u001b[43mnlc2\u001b[49m\u001b[43m,\u001b[49m\u001b[43m \u001b[49m\u001b[43mnlc3\u001b[49m\u001b[43m)\u001b[49m\u001b[43m)\u001b[49m\n",
      "File \u001b[0;32m~/.local/lib/python3.10/site-packages/scipy/optimize/_differentialevolution.py:502\u001b[0m, in \u001b[0;36mdifferential_evolution\u001b[0;34m(func, bounds, args, strategy, maxiter, popsize, tol, mutation, recombination, seed, callback, disp, polish, init, atol, updating, workers, constraints, x0, integrality, vectorized)\u001b[0m\n\u001b[1;32m    485\u001b[0m \u001b[38;5;66;03m# using a context manager means that any created Pool objects are\u001b[39;00m\n\u001b[1;32m    486\u001b[0m \u001b[38;5;66;03m# cleared up.\u001b[39;00m\n\u001b[1;32m    487\u001b[0m \u001b[38;5;28;01mwith\u001b[39;00m DifferentialEvolutionSolver(func, bounds, args\u001b[38;5;241m=\u001b[39margs,\n\u001b[1;32m    488\u001b[0m                                  strategy\u001b[38;5;241m=\u001b[39mstrategy,\n\u001b[1;32m    489\u001b[0m                                  maxiter\u001b[38;5;241m=\u001b[39mmaxiter,\n\u001b[0;32m   (...)\u001b[0m\n\u001b[1;32m    500\u001b[0m                                  integrality\u001b[38;5;241m=\u001b[39mintegrality,\n\u001b[1;32m    501\u001b[0m                                  vectorized\u001b[38;5;241m=\u001b[39mvectorized) \u001b[38;5;28;01mas\u001b[39;00m solver:\n\u001b[0;32m--> 502\u001b[0m     ret \u001b[38;5;241m=\u001b[39m \u001b[43msolver\u001b[49m\u001b[38;5;241;43m.\u001b[39;49m\u001b[43msolve\u001b[49m\u001b[43m(\u001b[49m\u001b[43m)\u001b[49m\n\u001b[1;32m    504\u001b[0m \u001b[38;5;28;01mreturn\u001b[39;00m ret\n",
      "File \u001b[0;32m~/.local/lib/python3.10/site-packages/scipy/optimize/_differentialevolution.py:1151\u001b[0m, in \u001b[0;36mDifferentialEvolutionSolver.solve\u001b[0;34m(self)\u001b[0m\n\u001b[1;32m   1144\u001b[0m \u001b[38;5;66;03m# The population may have just been initialized (all entries are\u001b[39;00m\n\u001b[1;32m   1145\u001b[0m \u001b[38;5;66;03m# np.inf). If it has you have to calculate the initial energies.\u001b[39;00m\n\u001b[1;32m   1146\u001b[0m \u001b[38;5;66;03m# Although this is also done in the evolve generator it's possible\u001b[39;00m\n\u001b[1;32m   1147\u001b[0m \u001b[38;5;66;03m# that someone can set maxiter=0, at which point we still want the\u001b[39;00m\n\u001b[1;32m   1148\u001b[0m \u001b[38;5;66;03m# initial energies to be calculated (the following loop isn't run).\u001b[39;00m\n\u001b[1;32m   1149\u001b[0m \u001b[38;5;28;01mif\u001b[39;00m np\u001b[38;5;241m.\u001b[39mall(np\u001b[38;5;241m.\u001b[39misinf(\u001b[38;5;28mself\u001b[39m\u001b[38;5;241m.\u001b[39mpopulation_energies)):\n\u001b[1;32m   1150\u001b[0m     \u001b[38;5;28mself\u001b[39m\u001b[38;5;241m.\u001b[39mfeasible, \u001b[38;5;28mself\u001b[39m\u001b[38;5;241m.\u001b[39mconstraint_violation \u001b[38;5;241m=\u001b[39m (\n\u001b[0;32m-> 1151\u001b[0m         \u001b[38;5;28;43mself\u001b[39;49m\u001b[38;5;241;43m.\u001b[39;49m\u001b[43m_calculate_population_feasibilities\u001b[49m\u001b[43m(\u001b[49m\u001b[38;5;28;43mself\u001b[39;49m\u001b[38;5;241;43m.\u001b[39;49m\u001b[43mpopulation\u001b[49m\u001b[43m)\u001b[49m)\n\u001b[1;32m   1153\u001b[0m     \u001b[38;5;66;03m# only work out population energies for feasible solutions\u001b[39;00m\n\u001b[1;32m   1154\u001b[0m     \u001b[38;5;28mself\u001b[39m\u001b[38;5;241m.\u001b[39mpopulation_energies[\u001b[38;5;28mself\u001b[39m\u001b[38;5;241m.\u001b[39mfeasible] \u001b[38;5;241m=\u001b[39m (\n\u001b[1;32m   1155\u001b[0m         \u001b[38;5;28mself\u001b[39m\u001b[38;5;241m.\u001b[39m_calculate_population_energies(\n\u001b[1;32m   1156\u001b[0m             \u001b[38;5;28mself\u001b[39m\u001b[38;5;241m.\u001b[39mpopulation[\u001b[38;5;28mself\u001b[39m\u001b[38;5;241m.\u001b[39mfeasible]))\n",
      "File \u001b[0;32m~/.local/lib/python3.10/site-packages/scipy/optimize/_differentialevolution.py:1455\u001b[0m, in \u001b[0;36mDifferentialEvolutionSolver._calculate_population_feasibilities\u001b[0;34m(self, population)\u001b[0m\n\u001b[1;32m   1450\u001b[0m     constraint_violation \u001b[38;5;241m=\u001b[39m np\u001b[38;5;241m.\u001b[39marray(\n\u001b[1;32m   1451\u001b[0m         \u001b[38;5;28mself\u001b[39m\u001b[38;5;241m.\u001b[39m_constraint_violation_fn(parameters_pop)\n\u001b[1;32m   1452\u001b[0m     )\n\u001b[1;32m   1453\u001b[0m \u001b[38;5;28;01melse\u001b[39;00m:\n\u001b[1;32m   1454\u001b[0m     \u001b[38;5;66;03m# (S, 1, M)\u001b[39;00m\n\u001b[0;32m-> 1455\u001b[0m     constraint_violation \u001b[38;5;241m=\u001b[39m np\u001b[38;5;241m.\u001b[39marray([\u001b[38;5;28mself\u001b[39m\u001b[38;5;241m.\u001b[39m_constraint_violation_fn(x)\n\u001b[1;32m   1456\u001b[0m                                      \u001b[38;5;28;01mfor\u001b[39;00m x \u001b[38;5;129;01min\u001b[39;00m parameters_pop])\n\u001b[1;32m   1457\u001b[0m     \u001b[38;5;66;03m# if you use the list comprehension in the line above it will\u001b[39;00m\n\u001b[1;32m   1458\u001b[0m     \u001b[38;5;66;03m# create an array of shape (S, 1, M), because each iteration\u001b[39;00m\n\u001b[1;32m   1459\u001b[0m     \u001b[38;5;66;03m# generates an array of (1, M). In comparison the vectorized\u001b[39;00m\n\u001b[1;32m   1460\u001b[0m     \u001b[38;5;66;03m# version returns (S, M). It's therefore necessary to remove axis 1\u001b[39;00m\n\u001b[1;32m   1461\u001b[0m     constraint_violation \u001b[38;5;241m=\u001b[39m constraint_violation[:, \u001b[38;5;241m0\u001b[39m]\n",
      "File \u001b[0;32m~/.local/lib/python3.10/site-packages/scipy/optimize/_differentialevolution.py:1455\u001b[0m, in \u001b[0;36m<listcomp>\u001b[0;34m(.0)\u001b[0m\n\u001b[1;32m   1450\u001b[0m     constraint_violation \u001b[38;5;241m=\u001b[39m np\u001b[38;5;241m.\u001b[39marray(\n\u001b[1;32m   1451\u001b[0m         \u001b[38;5;28mself\u001b[39m\u001b[38;5;241m.\u001b[39m_constraint_violation_fn(parameters_pop)\n\u001b[1;32m   1452\u001b[0m     )\n\u001b[1;32m   1453\u001b[0m \u001b[38;5;28;01melse\u001b[39;00m:\n\u001b[1;32m   1454\u001b[0m     \u001b[38;5;66;03m# (S, 1, M)\u001b[39;00m\n\u001b[0;32m-> 1455\u001b[0m     constraint_violation \u001b[38;5;241m=\u001b[39m np\u001b[38;5;241m.\u001b[39marray([\u001b[38;5;28;43mself\u001b[39;49m\u001b[38;5;241;43m.\u001b[39;49m\u001b[43m_constraint_violation_fn\u001b[49m\u001b[43m(\u001b[49m\u001b[43mx\u001b[49m\u001b[43m)\u001b[49m\n\u001b[1;32m   1456\u001b[0m                                      \u001b[38;5;28;01mfor\u001b[39;00m x \u001b[38;5;129;01min\u001b[39;00m parameters_pop])\n\u001b[1;32m   1457\u001b[0m     \u001b[38;5;66;03m# if you use the list comprehension in the line above it will\u001b[39;00m\n\u001b[1;32m   1458\u001b[0m     \u001b[38;5;66;03m# create an array of shape (S, 1, M), because each iteration\u001b[39;00m\n\u001b[1;32m   1459\u001b[0m     \u001b[38;5;66;03m# generates an array of (1, M). In comparison the vectorized\u001b[39;00m\n\u001b[1;32m   1460\u001b[0m     \u001b[38;5;66;03m# version returns (S, M). It's therefore necessary to remove axis 1\u001b[39;00m\n\u001b[1;32m   1461\u001b[0m     constraint_violation \u001b[38;5;241m=\u001b[39m constraint_violation[:, \u001b[38;5;241m0\u001b[39m]\n",
      "File \u001b[0;32m~/.local/lib/python3.10/site-packages/scipy/optimize/_differentialevolution.py:1393\u001b[0m, in \u001b[0;36mDifferentialEvolutionSolver._constraint_violation_fn\u001b[0;34m(self, x)\u001b[0m\n\u001b[1;32m   1386\u001b[0m offset \u001b[38;5;241m=\u001b[39m \u001b[38;5;241m0\u001b[39m\n\u001b[1;32m   1387\u001b[0m \u001b[38;5;28;01mfor\u001b[39;00m con \u001b[38;5;129;01min\u001b[39;00m \u001b[38;5;28mself\u001b[39m\u001b[38;5;241m.\u001b[39m_wrapped_constraints:\n\u001b[1;32m   1388\u001b[0m     \u001b[38;5;66;03m# the input/output of the (vectorized) constraint function is\u001b[39;00m\n\u001b[1;32m   1389\u001b[0m     \u001b[38;5;66;03m# {(N, S), (N,)} --> (M, S)\u001b[39;00m\n\u001b[1;32m   1390\u001b[0m     \u001b[38;5;66;03m# The input to _constraint_violation_fn is (S, N) or (N,), so\u001b[39;00m\n\u001b[1;32m   1391\u001b[0m     \u001b[38;5;66;03m# transpose to pass it to the constraint. The output is transposed\u001b[39;00m\n\u001b[1;32m   1392\u001b[0m     \u001b[38;5;66;03m# from (M, S) to (S, M) for further use.\u001b[39;00m\n\u001b[0;32m-> 1393\u001b[0m     c \u001b[38;5;241m=\u001b[39m \u001b[43mcon\u001b[49m\u001b[38;5;241;43m.\u001b[39;49m\u001b[43mviolation\u001b[49m\u001b[43m(\u001b[49m\u001b[43mx\u001b[49m\u001b[38;5;241;43m.\u001b[39;49m\u001b[43mT\u001b[49m\u001b[43m)\u001b[49m\u001b[38;5;241m.\u001b[39mT\n\u001b[1;32m   1395\u001b[0m     \u001b[38;5;66;03m# The shape of c should be (M,), (1, M), or (S, M). Check for\u001b[39;00m\n\u001b[1;32m   1396\u001b[0m     \u001b[38;5;66;03m# those shapes, as an incorrect shape indicates that the\u001b[39;00m\n\u001b[1;32m   1397\u001b[0m     \u001b[38;5;66;03m# user constraint function didn't return the right thing, and\u001b[39;00m\n\u001b[1;32m   1398\u001b[0m     \u001b[38;5;66;03m# the reshape operation will fail. Intercept the wrong shape\u001b[39;00m\n\u001b[1;32m   1399\u001b[0m     \u001b[38;5;66;03m# to give a reasonable error message. I'm not sure what failure\u001b[39;00m\n\u001b[1;32m   1400\u001b[0m     \u001b[38;5;66;03m# modes an inventive user will come up with.\u001b[39;00m\n\u001b[1;32m   1401\u001b[0m     \u001b[38;5;28;01mif\u001b[39;00m c\u001b[38;5;241m.\u001b[39mshape[\u001b[38;5;241m-\u001b[39m\u001b[38;5;241m1\u001b[39m] \u001b[38;5;241m!=\u001b[39m con\u001b[38;5;241m.\u001b[39mnum_constr \u001b[38;5;129;01mor\u001b[39;00m (S \u001b[38;5;241m>\u001b[39m \u001b[38;5;241m1\u001b[39m \u001b[38;5;129;01mand\u001b[39;00m c\u001b[38;5;241m.\u001b[39mshape[\u001b[38;5;241m0\u001b[39m] \u001b[38;5;241m!=\u001b[39m S):\n",
      "File \u001b[0;32m~/.local/lib/python3.10/site-packages/scipy/optimize/_differentialevolution.py:1868\u001b[0m, in \u001b[0;36m_ConstraintWrapper.violation\u001b[0;34m(self, x)\u001b[0m\n\u001b[1;32m   1866\u001b[0m     excess_ub \u001b[38;5;241m=\u001b[39m np\u001b[38;5;241m.\u001b[39mmaximum(ev\u001b[38;5;241m.\u001b[39mT \u001b[38;5;241m-\u001b[39m \u001b[38;5;28mself\u001b[39m\u001b[38;5;241m.\u001b[39mbounds[\u001b[38;5;241m1\u001b[39m], \u001b[38;5;241m0\u001b[39m)\n\u001b[1;32m   1867\u001b[0m \u001b[38;5;28;01mexcept\u001b[39;00m \u001b[38;5;167;01mValueError\u001b[39;00m \u001b[38;5;28;01mas\u001b[39;00m e:\n\u001b[0;32m-> 1868\u001b[0m     \u001b[38;5;28;01mraise\u001b[39;00m \u001b[38;5;167;01mRuntimeError\u001b[39;00m(\u001b[38;5;124m\"\u001b[39m\u001b[38;5;124mAn array returned from a Constraint has\u001b[39m\u001b[38;5;124m\"\u001b[39m\n\u001b[1;32m   1869\u001b[0m                        \u001b[38;5;124m\"\u001b[39m\u001b[38;5;124m the wrong shape. If `vectorized is False`\u001b[39m\u001b[38;5;124m\"\u001b[39m\n\u001b[1;32m   1870\u001b[0m                        \u001b[38;5;124m\"\u001b[39m\u001b[38;5;124m the Constraint should return an array of\u001b[39m\u001b[38;5;124m\"\u001b[39m\n\u001b[1;32m   1871\u001b[0m                        \u001b[38;5;124m\"\u001b[39m\u001b[38;5;124m shape (M,). If `vectorized is True` then\u001b[39m\u001b[38;5;124m\"\u001b[39m\n\u001b[1;32m   1872\u001b[0m                        \u001b[38;5;124m\"\u001b[39m\u001b[38;5;124m the Constraint must return an array of\u001b[39m\u001b[38;5;124m\"\u001b[39m\n\u001b[1;32m   1873\u001b[0m                        \u001b[38;5;124m\"\u001b[39m\u001b[38;5;124m shape (M, S), where S is the number of\u001b[39m\u001b[38;5;124m\"\u001b[39m\n\u001b[1;32m   1874\u001b[0m                        \u001b[38;5;124m\"\u001b[39m\u001b[38;5;124m solution vectors and M is the number of\u001b[39m\u001b[38;5;124m\"\u001b[39m\n\u001b[1;32m   1875\u001b[0m                        \u001b[38;5;124m\"\u001b[39m\u001b[38;5;124m constraint components in a given\u001b[39m\u001b[38;5;124m\"\u001b[39m\n\u001b[1;32m   1876\u001b[0m                        \u001b[38;5;124m\"\u001b[39m\u001b[38;5;124m Constraint object.\u001b[39m\u001b[38;5;124m\"\u001b[39m) \u001b[38;5;28;01mfrom\u001b[39;00m \u001b[38;5;21;01me\u001b[39;00m\n\u001b[1;32m   1878\u001b[0m v \u001b[38;5;241m=\u001b[39m (excess_lb \u001b[38;5;241m+\u001b[39m excess_ub)\u001b[38;5;241m.\u001b[39mT\n\u001b[1;32m   1879\u001b[0m \u001b[38;5;28;01mreturn\u001b[39;00m v\n",
      "\u001b[0;31mRuntimeError\u001b[0m: An array returned from a Constraint has the wrong shape. If `vectorized is False` the Constraint should return an array of shape (M,). If `vectorized is True` then the Constraint must return an array of shape (M, S), where S is the number of solution vectors and M is the number of constraint components in a given Constraint object."
     ]
    }
   ],
   "source": [
    "import numpy as np\n",
    "from scipy.optimize import differential_evolution as diff_evol\n",
    "from scipy.optimize import NonlinearConstraint\n",
    "\n",
    "\n",
    "\n",
    "# Function Inputs (in1, in2)\n",
    "in1, in2 = np.array([2, 4, 6, 8]), np.array([0, 2, 4])\n",
    "\n",
    "# Function to minimise: y(in1, in2) = a*sin(c*sin(b))\n",
    "def objFunction(x):\n",
    "    a = in1 * (in1 * x[1] + x[2])\n",
    "    b = in2 * x[2]\n",
    "    c = x[0]\n",
    "\n",
    "    return a*np.sin(c*np.sin(b))\n",
    "\n",
    "# Bounds for function coefficients (x0, x1, x2)\n",
    "bounds = [(1.00, 3.00),     # x0\n",
    "          (-50, 0.0),       # x1\n",
    "          (0, 2500)]        # x2\n",
    "\n",
    "\n",
    "\n",
    "# Define Non Linear Constraints for parameters a, b, c\n",
    "a = lambda x: in1 * (in1*x[1] + x[2])\n",
    "b = lambda x: in2 * x[2]\n",
    "c = lambda x: x[0]\n",
    "\n",
    "# Lower limit on constr_fun\n",
    "lb1 = [0, 0, 0, 0, 0, 0, 0, 0, 0, 0, 0, 0]\n",
    "lb2 = [-5, -5, -5, -5, -5, -5, -5, -5, -5, -5, -5, -5]\n",
    "lb3 = [0, 0, 0, 0, 0, 0, 0, 0, 0, 0, 0, 0]\n",
    "\n",
    "# Upper limit on constr_fun\n",
    "ub1 = [np.inf, np.inf, np.inf, np.inf, np.inf, np.inf, np.inf, np.inf, np.inf, np.inf, np.inf, np.inf]\n",
    "ub2 = [1, 1, 1, 1, 1, 1, 1, 1, 1, 1, 1, 1]\n",
    "ub3 = [5, 5, 5, 5, 5, 5, 5, 5, 5, 5, 5, 5]\n",
    "\n",
    "nlc1 = NonlinearConstraint(a, lb1, ub1)\n",
    "nlc2 = NonlinearConstraint(b, lb2, ub2)\n",
    "nlc3 = NonlinearConstraint(c, lb3, ub3)\n",
    "\n",
    "\n",
    "# Run Differential Evolution Algorithm\n",
    "result = diff_evol(objFunction, bounds, constraints=(nlc1, nlc2, nlc3))"
   ]
  },
  {
   "cell_type": "code",
   "execution_count": null,
   "id": "6b2a6693",
   "metadata": {},
   "outputs": [],
   "source": []
  }
 ],
 "metadata": {
  "hide_input": false,
  "kernelspec": {
   "display_name": "Python 3",
   "language": "python",
   "name": "python3"
  },
  "language_info": {
   "codemirror_mode": {
    "name": "ipython",
    "version": 3
   },
   "file_extension": ".py",
   "mimetype": "text/x-python",
   "name": "python",
   "nbconvert_exporter": "python",
   "pygments_lexer": "ipython3",
   "version": "3.10.6"
  },
  "toc": {
   "base_numbering": 1,
   "nav_menu": {},
   "number_sections": true,
   "sideBar": true,
   "skip_h1_title": false,
   "title_cell": "Table of Contents",
   "title_sidebar": "Contents",
   "toc_cell": false,
   "toc_position": {},
   "toc_section_display": true,
   "toc_window_display": false
  },
  "varInspector": {
   "cols": {
    "lenName": 16,
    "lenType": 16,
    "lenVar": 40
   },
   "kernels_config": {
    "python": {
     "delete_cmd_postfix": "",
     "delete_cmd_prefix": "del ",
     "library": "var_list.py",
     "varRefreshCmd": "print(var_dic_list())"
    },
    "r": {
     "delete_cmd_postfix": ") ",
     "delete_cmd_prefix": "rm(",
     "library": "var_list.r",
     "varRefreshCmd": "cat(var_dic_list()) "
    }
   },
   "types_to_exclude": [
    "module",
    "function",
    "builtin_function_or_method",
    "instance",
    "_Feature"
   ],
   "window_display": false
  }
 },
 "nbformat": 4,
 "nbformat_minor": 5
}
