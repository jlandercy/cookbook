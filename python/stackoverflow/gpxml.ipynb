{
 "cells": [
  {
   "cell_type": "code",
   "execution_count": 1,
   "id": "311b7ce6",
   "metadata": {},
   "outputs": [],
   "source": [
    "import pandas as pd"
   ]
  },
  {
   "cell_type": "code",
   "execution_count": 2,
   "id": "b086dad2",
   "metadata": {},
   "outputs": [],
   "source": [
    "data = pd.read_xml(\n",
    "    \"sample.gpx\", \n",
    "    xpath=\".//doc:trkseg/doc:trkpt\",\n",
    "    namespaces={\"doc\": \"http://www.topografix.com/GPX/1/1\"}\n",
    ")"
   ]
  },
  {
   "cell_type": "code",
   "execution_count": 3,
   "id": "a0e7c98d",
   "metadata": {},
   "outputs": [],
   "source": [
    "data[\"time\"] = pd.to_datetime(data[\"time\"])"
   ]
  },
  {
   "cell_type": "code",
   "execution_count": 4,
   "id": "48f755ab",
   "metadata": {},
   "outputs": [],
   "source": [
    "data = data.set_index(\"time\")"
   ]
  },
  {
   "cell_type": "code",
   "execution_count": 5,
   "id": "016c27a7",
   "metadata": {},
   "outputs": [
    {
     "data": {
      "text/html": [
       "<div>\n",
       "<style scoped>\n",
       "    .dataframe tbody tr th:only-of-type {\n",
       "        vertical-align: middle;\n",
       "    }\n",
       "\n",
       "    .dataframe tbody tr th {\n",
       "        vertical-align: top;\n",
       "    }\n",
       "\n",
       "    .dataframe thead th {\n",
       "        text-align: right;\n",
       "    }\n",
       "</style>\n",
       "<table border=\"1\" class=\"dataframe\">\n",
       "  <thead>\n",
       "    <tr style=\"text-align: right;\">\n",
       "      <th></th>\n",
       "      <th>lat</th>\n",
       "      <th>lon</th>\n",
       "      <th>ele</th>\n",
       "    </tr>\n",
       "    <tr>\n",
       "      <th>time</th>\n",
       "      <th></th>\n",
       "      <th></th>\n",
       "      <th></th>\n",
       "    </tr>\n",
       "  </thead>\n",
       "  <tbody>\n",
       "    <tr>\n",
       "      <th>2023-06-17 10:03:18+00:00</th>\n",
       "      <td>50.810636</td>\n",
       "      <td>4.318812</td>\n",
       "      <td>28.67</td>\n",
       "    </tr>\n",
       "    <tr>\n",
       "      <th>2023-06-17 10:03:19+00:00</th>\n",
       "      <td>50.810632</td>\n",
       "      <td>4.318809</td>\n",
       "      <td>28.67</td>\n",
       "    </tr>\n",
       "    <tr>\n",
       "      <th>2023-06-17 10:03:35+00:00</th>\n",
       "      <td>50.810624</td>\n",
       "      <td>4.318873</td>\n",
       "      <td>28.02</td>\n",
       "    </tr>\n",
       "    <tr>\n",
       "      <th>2023-06-17 10:03:39+00:00</th>\n",
       "      <td>50.810658</td>\n",
       "      <td>4.318920</td>\n",
       "      <td>28.08</td>\n",
       "    </tr>\n",
       "    <tr>\n",
       "      <th>2023-06-17 10:03:41+00:00</th>\n",
       "      <td>50.810682</td>\n",
       "      <td>4.318952</td>\n",
       "      <td>28.07</td>\n",
       "    </tr>\n",
       "    <tr>\n",
       "      <th>...</th>\n",
       "      <td>...</td>\n",
       "      <td>...</td>\n",
       "      <td>...</td>\n",
       "    </tr>\n",
       "    <tr>\n",
       "      <th>2023-06-18 11:00:07+00:00</th>\n",
       "      <td>50.810589</td>\n",
       "      <td>4.319041</td>\n",
       "      <td>53.46</td>\n",
       "    </tr>\n",
       "    <tr>\n",
       "      <th>2023-06-18 11:00:19+00:00</th>\n",
       "      <td>50.810618</td>\n",
       "      <td>4.319173</td>\n",
       "      <td>53.00</td>\n",
       "    </tr>\n",
       "    <tr>\n",
       "      <th>2023-06-18 11:00:24+00:00</th>\n",
       "      <td>50.810654</td>\n",
       "      <td>4.319238</td>\n",
       "      <td>52.45</td>\n",
       "    </tr>\n",
       "    <tr>\n",
       "      <th>2023-06-18 11:00:58+00:00</th>\n",
       "      <td>50.810678</td>\n",
       "      <td>4.319280</td>\n",
       "      <td>52.40</td>\n",
       "    </tr>\n",
       "    <tr>\n",
       "      <th>2023-06-18 11:01:10+00:00</th>\n",
       "      <td>50.810678</td>\n",
       "      <td>4.319280</td>\n",
       "      <td>72.68</td>\n",
       "    </tr>\n",
       "  </tbody>\n",
       "</table>\n",
       "<p>2755 rows × 3 columns</p>\n",
       "</div>"
      ],
      "text/plain": [
       "                                 lat       lon    ele\n",
       "time                                                 \n",
       "2023-06-17 10:03:18+00:00  50.810636  4.318812  28.67\n",
       "2023-06-17 10:03:19+00:00  50.810632  4.318809  28.67\n",
       "2023-06-17 10:03:35+00:00  50.810624  4.318873  28.02\n",
       "2023-06-17 10:03:39+00:00  50.810658  4.318920  28.08\n",
       "2023-06-17 10:03:41+00:00  50.810682  4.318952  28.07\n",
       "...                              ...       ...    ...\n",
       "2023-06-18 11:00:07+00:00  50.810589  4.319041  53.46\n",
       "2023-06-18 11:00:19+00:00  50.810618  4.319173  53.00\n",
       "2023-06-18 11:00:24+00:00  50.810654  4.319238  52.45\n",
       "2023-06-18 11:00:58+00:00  50.810678  4.319280  52.40\n",
       "2023-06-18 11:01:10+00:00  50.810678  4.319280  72.68\n",
       "\n",
       "[2755 rows x 3 columns]"
      ]
     },
     "execution_count": 5,
     "metadata": {},
     "output_type": "execute_result"
    }
   ],
   "source": [
    "data"
   ]
  },
  {
   "cell_type": "code",
   "execution_count": null,
   "id": "f35125da",
   "metadata": {},
   "outputs": [],
   "source": []
  }
 ],
 "metadata": {
  "kernelspec": {
   "display_name": "Python 3 (ipykernel)",
   "language": "python",
   "name": "python3"
  },
  "language_info": {
   "codemirror_mode": {
    "name": "ipython",
    "version": 3
   },
   "file_extension": ".py",
   "mimetype": "text/x-python",
   "name": "python",
   "nbconvert_exporter": "python",
   "pygments_lexer": "ipython3",
   "version": "3.9.7"
  }
 },
 "nbformat": 4,
 "nbformat_minor": 5
}
