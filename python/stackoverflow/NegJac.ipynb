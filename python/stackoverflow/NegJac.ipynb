{
 "cells": [
  {
   "cell_type": "code",
   "execution_count": 6,
   "id": "8ec10053",
   "metadata": {
    "ExecuteTime": {
     "end_time": "2024-06-19T06:08:48.480854Z",
     "start_time": "2024-06-19T06:08:48.359802Z"
    }
   },
   "outputs": [
    {
     "data": {
      "text/plain": [
       "     message: `xtol` termination condition is satisfied.\n",
       "     success: True\n",
       "      status: 3\n",
       "         fun: [ 1.143e-01 -2.571e-01  8.571e-02  1.429e-01 -8.571e-02]\n",
       "           x: [ 1.143e+00 -1.057e+00  1.800e+00]\n",
       "        cost: 0.0571428571428573\n",
       "         jac: [[-1.000e+00 -1.000e+00 -1.000e+00]\n",
       "               [-4.000e+00 -2.000e+00 -1.000e+00]\n",
       "               ...\n",
       "               [-1.600e+01 -4.000e+00 -1.000e+00]\n",
       "               [-2.500e+01 -5.000e+00 -1.000e+00]]\n",
       "        grad: [ 8.941e-09  1.611e-09  1.608e-08]\n",
       "  optimality: 1.6083786736995895e-08\n",
       " active_mask: [ 0.000e+00  0.000e+00  0.000e+00]\n",
       "        nfev: 5\n",
       "        njev: 4"
      ]
     },
     "execution_count": 6,
     "metadata": {},
     "output_type": "execute_result"
    }
   ],
   "source": [
    "import numpy as np\n",
    "from scipy.optimize import least_squares\n",
    "import matplotlib.pyplot as plt\n",
    "\n",
    "def func(x, para):\n",
    "    return ((para[0] ** 2) * x) + (para[1] / x) + (para[2] * x)\n",
    "\n",
    "def func(x, p):\n",
    "    return p[0]  * x **2 + p[1] * x + p[2]\n",
    "\n",
    "def res(para, x_d, y_d):\n",
    "    return y_d - func(x_d, para)\n",
    "    \n",
    "x_d = np.array([1, 2, 3, 4, 5])\n",
    "y_d = np.array([2, 4, 9, 16, 25])\n",
    "\n",
    "initial_paras = [1, 1, 1]\n",
    "\n",
    "result = least_squares(res, initial_paras, args=(x_d, y_d))\n",
    "result"
   ]
  },
  {
   "cell_type": "code",
   "execution_count": null,
   "id": "74aa8fb7",
   "metadata": {},
   "outputs": [],
   "source": []
  },
  {
   "cell_type": "code",
   "execution_count": null,
   "id": "b53cafa7",
   "metadata": {},
   "outputs": [],
   "source": []
  },
  {
   "cell_type": "code",
   "execution_count": null,
   "id": "1b88e615",
   "metadata": {},
   "outputs": [],
   "source": []
  }
 ],
 "metadata": {
  "hide_input": false,
  "kernelspec": {
   "display_name": "Python 3",
   "language": "python",
   "name": "python3"
  },
  "language_info": {
   "codemirror_mode": {
    "name": "ipython",
    "version": 3
   },
   "file_extension": ".py",
   "mimetype": "text/x-python",
   "name": "python",
   "nbconvert_exporter": "python",
   "pygments_lexer": "ipython3",
   "version": "3.10.6"
  },
  "toc": {
   "base_numbering": 1,
   "nav_menu": {},
   "number_sections": true,
   "sideBar": true,
   "skip_h1_title": false,
   "title_cell": "Table of Contents",
   "title_sidebar": "Contents",
   "toc_cell": false,
   "toc_position": {},
   "toc_section_display": true,
   "toc_window_display": false
  },
  "varInspector": {
   "cols": {
    "lenName": 16,
    "lenType": 16,
    "lenVar": 40
   },
   "kernels_config": {
    "python": {
     "delete_cmd_postfix": "",
     "delete_cmd_prefix": "del ",
     "library": "var_list.py",
     "varRefreshCmd": "print(var_dic_list())"
    },
    "r": {
     "delete_cmd_postfix": ") ",
     "delete_cmd_prefix": "rm(",
     "library": "var_list.r",
     "varRefreshCmd": "cat(var_dic_list()) "
    }
   },
   "types_to_exclude": [
    "module",
    "function",
    "builtin_function_or_method",
    "instance",
    "_Feature"
   ],
   "window_display": false
  }
 },
 "nbformat": 4,
 "nbformat_minor": 5
}
