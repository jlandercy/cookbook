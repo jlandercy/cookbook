{
 "cells": [
  {
   "cell_type": "code",
   "execution_count": 1,
   "id": "188280d1",
   "metadata": {
    "ExecuteTime": {
     "end_time": "2024-02-11T11:02:33.322059Z",
     "start_time": "2024-02-11T11:02:31.859152Z"
    }
   },
   "outputs": [],
   "source": [
    "import numpy as np\n",
    "import matplotlib.pyplot as plt\n",
    "from scipy import optimize"
   ]
  },
  {
   "cell_type": "code",
   "execution_count": null,
   "id": "2320f3d3",
   "metadata": {},
   "outputs": [],
   "source": []
  },
  {
   "cell_type": "code",
   "execution_count": 2,
   "id": "d9698cbc",
   "metadata": {
    "ExecuteTime": {
     "end_time": "2024-02-11T11:03:21.113880Z",
     "start_time": "2024-02-11T11:03:21.090057Z"
    }
   },
   "outputs": [],
   "source": [
    "x = np.array([0.03751155, 0.05001541, 0.06251926, 0.07502311, 0.08752696,\n",
    "        0.10003081, 0.11253466, 0.12503851, 0.13754236, 0.15004622,\n",
    "       0.16255007, 0.17505392, 0.18755777, 0.20006162, 0.21256547,\n",
    "       0.22506932, 0.23757318, 0.25007703, 0.26258088, 0.27508473,\n",
    "       0.28758858, 0.30009243])\n",
    "y = np.array([0.17091544, 0.2196002 , 0.24884891, 0.22784447, 0.365201,\n",
    "       0.37375478, 0.39257039, 0.37231073, 0.41550739, 0.43636989,\n",
    "       0.45111672, 0.46662792, 0.48854647, 0.49640163, 0.51887196,\n",
    "       0.52827061, 0.54437941, 0.54929705, 0.56552202, 0.57508514,\n",
    "      0.58477563, 0.59755615])"
   ]
  },
  {
   "cell_type": "code",
   "execution_count": null,
   "id": "16ad0b8f",
   "metadata": {},
   "outputs": [],
   "source": []
  },
  {
   "cell_type": "code",
   "execution_count": 28,
   "id": "dd639276",
   "metadata": {
    "ExecuteTime": {
     "end_time": "2024-02-11T11:06:46.038265Z",
     "start_time": "2024-02-11T11:06:46.033181Z"
    }
   },
   "outputs": [],
   "source": [
    "def model(x, a, b):\n",
    "    return a * np.sqrt(x) + b"
   ]
  },
  {
   "cell_type": "code",
   "execution_count": 34,
   "id": "b5c91bd2",
   "metadata": {
    "ExecuteTime": {
     "end_time": "2024-02-11T11:08:20.454031Z",
     "start_time": "2024-02-11T11:08:20.448749Z"
    }
   },
   "outputs": [],
   "source": [
    "def residuals_factory(model, x, y):\n",
    "    def wrapped(p):\n",
    "        return y - model(x, *p)\n",
    "    return wrapped"
   ]
  },
  {
   "cell_type": "code",
   "execution_count": 35,
   "id": "644aa14b",
   "metadata": {
    "ExecuteTime": {
     "end_time": "2024-02-11T11:08:37.830046Z",
     "start_time": "2024-02-11T11:08:37.824815Z"
    }
   },
   "outputs": [],
   "source": [
    "residuals = residuals_factory(model, x, y)"
   ]
  },
  {
   "cell_type": "code",
   "execution_count": null,
   "id": "2c79d0f8",
   "metadata": {},
   "outputs": [],
   "source": []
  },
  {
   "cell_type": "code",
   "execution_count": null,
   "id": "33c0bc25",
   "metadata": {},
   "outputs": [],
   "source": []
  },
  {
   "cell_type": "code",
   "execution_count": 36,
   "id": "3b25c936",
   "metadata": {
    "ExecuteTime": {
     "end_time": "2024-02-11T11:08:53.921714Z",
     "start_time": "2024-02-11T11:08:53.871292Z"
    }
   },
   "outputs": [
    {
     "data": {
      "text/plain": [
       "array([ 1.18540589, -0.0354023 ])"
      ]
     },
     "execution_count": 36,
     "metadata": {},
     "output_type": "execute_result"
    }
   ],
   "source": [
    "popt, pcov = optimize.curve_fit(model, x, y)\n",
    "popt"
   ]
  },
  {
   "cell_type": "code",
   "execution_count": null,
   "id": "bee0796f",
   "metadata": {},
   "outputs": [],
   "source": []
  },
  {
   "cell_type": "code",
   "execution_count": 39,
   "id": "8c6a8461",
   "metadata": {
    "ExecuteTime": {
     "end_time": "2024-02-11T11:10:05.553138Z",
     "start_time": "2024-02-11T11:10:05.534297Z"
    }
   },
   "outputs": [
    {
     "data": {
      "text/plain": [
       " active_mask: array([0., 0.])\n",
       "        cost: 0.005294195739168844\n",
       "         fun: array([-0.02328416, -0.01011524, -0.01215659, -0.06144941,  0.04989328,\n",
       "        0.03423396,  0.03030813, -0.01146092,  0.01127752,  0.01259242,\n",
       "        0.00859055,  0.00606132,  0.01057303,  0.00159254,  0.00774561,\n",
       "        0.00130026,  0.00199939, -0.00809218, -0.00650564, -0.01123638,\n",
       "       -0.01551841, -0.01640983])\n",
       "        grad: array([-1.16582188e-10, -6.38378239e-16])\n",
       "         jac: array([[-0.19352156, -0.99918718],\n",
       "       [-0.22360693, -0.99984654],\n",
       "       [-0.2499831 , -0.99977836],\n",
       "       [-0.27235741, -0.99435548],\n",
       "       [-0.29474737, -0.99627449],\n",
       "       [-0.31572108, -0.99824394],\n",
       "       [-0.33500003, -0.99862328],\n",
       "       [-0.35353819, -0.99980299],\n",
       "       [-0.37079629, -0.99980925],\n",
       "       [-0.38726587, -0.99976218],\n",
       "       [-0.40313036, -0.99988931],\n",
       "       [-0.4183714 , -0.99994489],\n",
       "       [-0.43300679, -0.99983233],\n",
       "       [-0.44728078, -0.9999962 ],\n",
       "       [-0.46100674, -0.99991001],\n",
       "       [-0.47441351, -0.99999746],\n",
       "       [-0.48741187, -0.999994  ],\n",
       "       [-0.50002791, -0.99990178],\n",
       "       [-0.51239393, -0.99993652],\n",
       "       [-0.52438589, -0.99981064],\n",
       "       [-0.53607919, -0.99963885],\n",
       "       [-0.54758571, -0.99959618]])\n",
       "     message: '`gtol` termination condition is satisfied.'\n",
       "        nfev: 7\n",
       "        njev: 7\n",
       "  optimality: 1.1658218834753598e-10\n",
       "      status: 1\n",
       "     success: True\n",
       "           x: array([ 1.18535232, -0.03537824])"
      ]
     },
     "execution_count": 39,
     "metadata": {},
     "output_type": "execute_result"
    }
   ],
   "source": [
    "optimize.least_squares(residuals, x0=[1, 1], loss=\"cauchy\")"
   ]
  },
  {
   "cell_type": "code",
   "execution_count": null,
   "id": "ac58a2f3",
   "metadata": {},
   "outputs": [],
   "source": []
  },
  {
   "cell_type": "code",
   "execution_count": null,
   "id": "636d7460",
   "metadata": {},
   "outputs": [],
   "source": []
  },
  {
   "cell_type": "code",
   "execution_count": 30,
   "id": "ffad3420",
   "metadata": {
    "ExecuteTime": {
     "end_time": "2024-02-11T11:06:46.410322Z",
     "start_time": "2024-02-11T11:06:46.404802Z"
    }
   },
   "outputs": [],
   "source": [
    "xlin = np.linspace(0, x.max(), 200)"
   ]
  },
  {
   "cell_type": "code",
   "execution_count": 31,
   "id": "d9aa8c1f",
   "metadata": {
    "ExecuteTime": {
     "end_time": "2024-02-11T11:06:46.527102Z",
     "start_time": "2024-02-11T11:06:46.523517Z"
    }
   },
   "outputs": [],
   "source": [
    "yhat = model(xlin, *popt)"
   ]
  },
  {
   "cell_type": "code",
   "execution_count": null,
   "id": "0c516ecf",
   "metadata": {},
   "outputs": [],
   "source": []
  },
  {
   "cell_type": "code",
   "execution_count": 32,
   "id": "23837505",
   "metadata": {
    "ExecuteTime": {
     "end_time": "2024-02-11T11:06:46.944425Z",
     "start_time": "2024-02-11T11:06:46.751354Z"
    }
   },
   "outputs": [
    {
     "data": {
      "text/plain": [
       "[<matplotlib.lines.Line2D at 0x7f7db5f80a30>]"
      ]
     },
     "execution_count": 32,
     "metadata": {},
     "output_type": "execute_result"
    },
    {
     "data": {
      "image/png": "[encoded data removed]",
      "text/plain": [
       "<Figure size 640x480 with 1 Axes>"
      ]
     },
     "metadata": {},
     "output_type": "display_data"
    }
   ],
   "source": [
    "fig, axe = plt.subplots()\n",
    "axe.scatter(x, y)\n",
    "axe.plot(xlin, yhat)"
   ]
  },
  {
   "cell_type": "code",
   "execution_count": null,
   "id": "dd4a77c1",
   "metadata": {},
   "outputs": [],
   "source": []
  },
  {
   "cell_type": "code",
   "execution_count": null,
   "id": "92074c82",
   "metadata": {},
   "outputs": [],
   "source": []
  },
  {
   "cell_type": "code",
   "execution_count": null,
   "id": "b23aa655",
   "metadata": {},
   "outputs": [],
   "source": []
  },
  {
   "cell_type": "code",
   "execution_count": null,
   "id": "511e20f0",
   "metadata": {},
   "outputs": [],
   "source": []
  }
 ],
 "metadata": {
  "hide_input": false,
  "kernelspec": {
   "display_name": "Python 3",
   "language": "python",
   "name": "python3"
  },
  "language_info": {
   "codemirror_mode": {
    "name": "ipython",
    "version": 3
   },
   "file_extension": ".py",
   "mimetype": "text/x-python",
   "name": "python",
   "nbconvert_exporter": "python",
   "pygments_lexer": "ipython3",
   "version": "3.10.6"
  },
  "toc": {
   "base_numbering": 1,
   "nav_menu": {},
   "number_sections": true,
   "sideBar": true,
   "skip_h1_title": false,
   "title_cell": "Table of Contents",
   "title_sidebar": "Contents",
   "toc_cell": false,
   "toc_position": {},
   "toc_section_display": true,
   "toc_window_display": false
  },
  "varInspector": {
   "cols": {
    "lenName": 16,
    "lenType": 16,
    "lenVar": 40
   },
   "kernels_config": {
    "python": {
     "delete_cmd_postfix": "",
     "delete_cmd_prefix": "del ",
     "library": "var_list.py",
     "varRefreshCmd": "print(var_dic_list())"
    },
    "r": {
     "delete_cmd_postfix": ") ",
     "delete_cmd_prefix": "rm(",
     "library": "var_list.r",
     "varRefreshCmd": "cat(var_dic_list()) "
    }
   },
   "types_to_exclude": [
    "module",
    "function",
    "builtin_function_or_method",
    "instance",
    "_Feature"
   ],
   "window_display": false
  }
 },
 "nbformat": 4,
 "nbformat_minor": 5
}
