{
 "cells": [
  {
   "cell_type": "code",
   "execution_count": 2,
   "metadata": {
    "ExecuteTime": {
     "end_time": "2020-10-17T09:15:32.935150Z",
     "start_time": "2020-10-17T09:15:32.368971Z"
    }
   },
   "outputs": [],
   "source": [
    "import numpy as np\n",
    "from scipy import optimize\n",
    "import matplotlib.pyplot as plt"
   ]
  },
  {
   "cell_type": "markdown",
   "metadata": {},
   "source": [
    " - https://stackoverflow.com/questions/64400639/solve-an-implicit-equation-python?noredirect=1#64400775\n",
    " - https://www.wolframalpha.com/input/?i=%28y*%282%2B1*y%29%29%5E%285%2F3%29%2F%28%282%2B2*y*sqrt%281%2B1**2%29%29%5E%282%2F3%29%29*0.002%2F0.015+%3D+21"
   ]
  },
  {
   "cell_type": "code",
   "execution_count": 29,
   "metadata": {
    "ExecuteTime": {
     "end_time": "2020-10-17T09:23:31.266161Z",
     "start_time": "2020-10-17T09:23:31.212762Z"
    }
   },
   "outputs": [],
   "source": [
    "def Q(y, x, b, S0, n):\n",
    "    return np.power((y*(b+x*y)), 5/3)/np.power((b+2*y*np.sqrt(1+x**2)), 2/3)*S0/n"
   ]
  },
  {
   "cell_type": "code",
   "execution_count": 30,
   "metadata": {
    "ExecuteTime": {
     "end_time": "2020-10-17T09:23:31.539776Z",
     "start_time": "2020-10-17T09:23:31.524175Z"
    }
   },
   "outputs": [],
   "source": [
    "def equation(y, x, b, S0, n, Q0):\n",
    "    return np.power((y*(b+x*y)), 5/3)/np.power((b+2*y*np.sqrt(1+x**2)), 2/3)*S0/n - Q0"
   ]
  },
  {
   "cell_type": "code",
   "execution_count": 44,
   "metadata": {
    "ExecuteTime": {
     "end_time": "2020-10-17T09:28:51.327963Z",
     "start_time": "2020-10-17T09:28:51.312238Z"
    }
   },
   "outputs": [
    {
     "data": {
      "text/plain": [
       "[1, 2, 0.002, 0.015, 21]"
      ]
     },
     "execution_count": 44,
     "metadata": {},
     "output_type": "execute_result"
    }
   ],
   "source": [
    "p0 = [1, 2, 0.002, 0.015]\n",
    "p1 = p0 + [21]\n",
    "p1"
   ]
  },
  {
   "cell_type": "code",
   "execution_count": 45,
   "metadata": {
    "ExecuteTime": {
     "end_time": "2020-10-17T09:28:51.482770Z",
     "start_time": "2020-10-17T09:28:51.467033Z"
    }
   },
   "outputs": [
    {
     "data": {
      "text/plain": [
       "7.817684675516871"
      ]
     },
     "execution_count": 45,
     "metadata": {},
     "output_type": "execute_result"
    }
   ],
   "source": [
    "Q(5, *p0)"
   ]
  },
  {
   "cell_type": "code",
   "execution_count": 48,
   "metadata": {
    "ExecuteTime": {
     "end_time": "2020-10-17T09:29:03.619206Z",
     "start_time": "2020-10-17T09:29:03.603560Z"
    }
   },
   "outputs": [
    {
     "data": {
      "text/plain": [
       "array([7.64530883])"
      ]
     },
     "execution_count": 48,
     "metadata": {},
     "output_type": "execute_result"
    }
   ],
   "source": [
    "y = np.linspace(0., 10, 1001)\n",
    "e = equation(y, *p1)\n",
    "ysol = optimize.fsolve(equation, 0.1, args=tuple(p1))\n",
    "ysol"
   ]
  },
  {
   "cell_type": "code",
   "execution_count": null,
   "metadata": {},
   "outputs": [],
   "source": []
  },
  {
   "cell_type": "code",
   "execution_count": 51,
   "metadata": {
    "ExecuteTime": {
     "end_time": "2020-10-17T09:29:28.859687Z",
     "start_time": "2020-10-17T09:29:28.639175Z"
    }
   },
   "outputs": [
    {
     "data": {
      "image/png": "[encoded data removed]",
      "text/plain": [
       "<Figure size 432x288 with 1 Axes>"
      ]
     },
     "metadata": {
      "needs_background": "light"
     },
     "output_type": "display_data"
    }
   ],
   "source": [
    "fig, axe = plt.subplots()\n",
    "axe.plot(y, e)\n",
    "axe.plot(ysol, equation(ysol, *p1), '.')\n",
    "axe.plot()\n",
    "axe.grid()"
   ]
  },
  {
   "cell_type": "code",
   "execution_count": null,
   "metadata": {},
   "outputs": [],
   "source": []
  },
  {
   "cell_type": "code",
   "execution_count": null,
   "metadata": {
    "ExecuteTime": {
     "end_time": "2020-10-17T09:23:32.235455Z",
     "start_time": "2020-10-17T09:23:32.222703Z"
    }
   },
   "outputs": [],
   "source": []
  },
  {
   "cell_type": "code",
   "execution_count": null,
   "metadata": {},
   "outputs": [],
   "source": []
  }
 ],
 "metadata": {
  "hide_input": false,
  "kernelspec": {
   "display_name": "Python 3",
   "language": "python",
   "name": "python3"
  },
  "language_info": {
   "codemirror_mode": {
    "name": "ipython",
    "version": 3
   },
   "file_extension": ".py",
   "mimetype": "text/x-python",
   "name": "python",
   "nbconvert_exporter": "python",
   "pygments_lexer": "ipython3",
   "version": "3.6.9"
  },
  "toc": {
   "base_numbering": 1,
   "nav_menu": {},
   "number_sections": true,
   "sideBar": true,
   "skip_h1_title": false,
   "title_cell": "Table of Contents",
   "title_sidebar": "Contents",
   "toc_cell": false,
   "toc_position": {},
   "toc_section_display": true,
   "toc_window_display": false
  },
  "varInspector": {
   "cols": {
    "lenName": 16,
    "lenType": 16,
    "lenVar": 40
   },
   "kernels_config": {
    "python": {
     "delete_cmd_postfix": "",
     "delete_cmd_prefix": "del ",
     "library": "var_list.py",
     "varRefreshCmd": "print(var_dic_list())"
    },
    "r": {
     "delete_cmd_postfix": ") ",
     "delete_cmd_prefix": "rm(",
     "library": "var_list.r",
     "varRefreshCmd": "cat(var_dic_list()) "
    }
   },
   "types_to_exclude": [
    "module",
    "function",
    "builtin_function_or_method",
    "instance",
    "_Feature"
   ],
   "window_display": false
  }
 },
 "nbformat": 4,
 "nbformat_minor": 4
}
