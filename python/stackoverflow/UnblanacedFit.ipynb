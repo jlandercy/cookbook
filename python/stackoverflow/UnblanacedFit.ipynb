{
 "cells": [
  {
   "cell_type": "markdown",
   "id": "00a6c95a",
   "metadata": {},
   "source": [
    "https://stackoverflow.com/questions/73365651/instability-in-fitting-data-using-scipy-optimize-library\n",
    "\n",
    "x(t) = - B + sqrt(AB(t-t0) + (x0 + B)^2)"
   ]
  },
  {
   "cell_type": "code",
   "execution_count": 1,
   "id": "23d7a493",
   "metadata": {
    "ExecuteTime": {
     "end_time": "2022-08-17T01:54:49.089410Z",
     "start_time": "2022-08-17T01:54:47.232139Z"
    }
   },
   "outputs": [],
   "source": [
    "import io\n",
    "import numpy as np\n",
    "import pandas as pd\n",
    "from scipy import optimize\n",
    "import matplotlib.pyplot as plt"
   ]
  },
  {
   "cell_type": "code",
   "execution_count": 27,
   "id": "47b5ade1",
   "metadata": {
    "ExecuteTime": {
     "end_time": "2022-08-17T02:00:01.753910Z",
     "start_time": "2022-08-17T02:00:01.694530Z"
    }
   },
   "outputs": [],
   "source": [
    "stream = io.StringIO(\"\"\"Time,x\n",
    "201,2.67662\n",
    "204,3.28159\n",
    "206,3.44378\n",
    "208,3.72537\n",
    "210,3.94826\n",
    "212,4.36716\n",
    "214,4.65373\n",
    "216,5.26766\n",
    "219,5.59502\n",
    "221,6\n",
    "223,6.22189\n",
    "225,6.49652\n",
    "227,6.799\n",
    "229,7.30846\n",
    "231,7.54229\n",
    "232,7.76517\n",
    "233,7.6209\n",
    "234,7.89552\n",
    "235,7.94826\n",
    "236,8.17015\n",
    "237,8.66965\n",
    "238,8.66965\n",
    "239,8.8398\n",
    "240,8.88856\n",
    "241,9.00697\n",
    "242,9.45075\n",
    "243,9.51642\n",
    "244,9.63483\n",
    "245,9.63483\n",
    "246,10.07861\n",
    "247,10.02687\n",
    "248,10.24876\n",
    "249,10.31443\n",
    "250,10.47164\n",
    "251,10.99502\n",
    "252,10.92935\n",
    "253,11.0995\n",
    "254,11.28358\n",
    "255,11.58209\n",
    "256,11.53035\n",
    "257,11.62388\n",
    "258,11.93632\n",
    "259,11.98806\n",
    "260,12.26269\n",
    "261,12.43284\n",
    "262,12.60299\n",
    "263,12.801\n",
    "264,12.99502\n",
    "265,13.08557\n",
    "266,13.25572\n",
    "267,13.32139\n",
    "268,13.57114\n",
    "269,13.76617\n",
    "270,13.88358\n",
    "271,13.83184\n",
    "272,14.10647\n",
    "273,14.27662\n",
    "274,14.40796\"\"\")\n",
    "data = pd.read_csv(stream)"
   ]
  },
  {
   "cell_type": "code",
   "execution_count": 28,
   "id": "d1ed332b",
   "metadata": {
    "ExecuteTime": {
     "end_time": "2022-08-17T02:00:03.445053Z",
     "start_time": "2022-08-17T02:00:03.438076Z"
    }
   },
   "outputs": [],
   "source": [
    "def model(t, A, B):\n",
    "    return -B + np.sqrt(A*B*t + np.power(B, 2))"
   ]
  },
  {
   "cell_type": "code",
   "execution_count": 29,
   "id": "c8e53f2f",
   "metadata": {
    "ExecuteTime": {
     "end_time": "2022-08-17T02:00:04.384251Z",
     "start_time": "2022-08-17T02:00:04.364627Z"
    }
   },
   "outputs": [
    {
     "data": {
      "text/html": [
       "<div>\n",
       "<style scoped>\n",
       "    .dataframe tbody tr th:only-of-type {\n",
       "        vertical-align: middle;\n",
       "    }\n",
       "\n",
       "    .dataframe tbody tr th {\n",
       "        vertical-align: top;\n",
       "    }\n",
       "\n",
       "    .dataframe thead th {\n",
       "        text-align: right;\n",
       "    }\n",
       "</style>\n",
       "<table border=\"1\" class=\"dataframe\">\n",
       "  <thead>\n",
       "    <tr style=\"text-align: right;\">\n",
       "      <th></th>\n",
       "      <th>x</th>\n",
       "    </tr>\n",
       "    <tr>\n",
       "      <th>Time</th>\n",
       "      <th></th>\n",
       "    </tr>\n",
       "  </thead>\n",
       "  <tbody>\n",
       "    <tr>\n",
       "      <th>0.0</th>\n",
       "      <td>0.00000</td>\n",
       "    </tr>\n",
       "    <tr>\n",
       "      <th>3.0</th>\n",
       "      <td>0.60497</td>\n",
       "    </tr>\n",
       "    <tr>\n",
       "      <th>5.0</th>\n",
       "      <td>0.76716</td>\n",
       "    </tr>\n",
       "    <tr>\n",
       "      <th>7.0</th>\n",
       "      <td>1.04875</td>\n",
       "    </tr>\n",
       "    <tr>\n",
       "      <th>9.0</th>\n",
       "      <td>1.27164</td>\n",
       "    </tr>\n",
       "    <tr>\n",
       "      <th>11.0</th>\n",
       "      <td>1.69054</td>\n",
       "    </tr>\n",
       "    <tr>\n",
       "      <th>13.0</th>\n",
       "      <td>1.97711</td>\n",
       "    </tr>\n",
       "    <tr>\n",
       "      <th>15.0</th>\n",
       "      <td>2.59104</td>\n",
       "    </tr>\n",
       "    <tr>\n",
       "      <th>18.0</th>\n",
       "      <td>2.91840</td>\n",
       "    </tr>\n",
       "    <tr>\n",
       "      <th>20.0</th>\n",
       "      <td>3.32338</td>\n",
       "    </tr>\n",
       "    <tr>\n",
       "      <th>22.0</th>\n",
       "      <td>3.54527</td>\n",
       "    </tr>\n",
       "    <tr>\n",
       "      <th>24.0</th>\n",
       "      <td>3.81990</td>\n",
       "    </tr>\n",
       "    <tr>\n",
       "      <th>26.0</th>\n",
       "      <td>4.12238</td>\n",
       "    </tr>\n",
       "    <tr>\n",
       "      <th>28.0</th>\n",
       "      <td>4.63184</td>\n",
       "    </tr>\n",
       "    <tr>\n",
       "      <th>30.0</th>\n",
       "      <td>4.86567</td>\n",
       "    </tr>\n",
       "    <tr>\n",
       "      <th>31.0</th>\n",
       "      <td>5.08855</td>\n",
       "    </tr>\n",
       "    <tr>\n",
       "      <th>32.0</th>\n",
       "      <td>4.94428</td>\n",
       "    </tr>\n",
       "    <tr>\n",
       "      <th>33.0</th>\n",
       "      <td>5.21890</td>\n",
       "    </tr>\n",
       "    <tr>\n",
       "      <th>34.0</th>\n",
       "      <td>5.27164</td>\n",
       "    </tr>\n",
       "    <tr>\n",
       "      <th>35.0</th>\n",
       "      <td>5.49353</td>\n",
       "    </tr>\n",
       "    <tr>\n",
       "      <th>36.0</th>\n",
       "      <td>5.99303</td>\n",
       "    </tr>\n",
       "    <tr>\n",
       "      <th>37.0</th>\n",
       "      <td>5.99303</td>\n",
       "    </tr>\n",
       "    <tr>\n",
       "      <th>38.0</th>\n",
       "      <td>6.16318</td>\n",
       "    </tr>\n",
       "    <tr>\n",
       "      <th>39.0</th>\n",
       "      <td>6.21194</td>\n",
       "    </tr>\n",
       "    <tr>\n",
       "      <th>40.0</th>\n",
       "      <td>6.33035</td>\n",
       "    </tr>\n",
       "    <tr>\n",
       "      <th>41.0</th>\n",
       "      <td>6.77413</td>\n",
       "    </tr>\n",
       "    <tr>\n",
       "      <th>42.0</th>\n",
       "      <td>6.83980</td>\n",
       "    </tr>\n",
       "    <tr>\n",
       "      <th>43.0</th>\n",
       "      <td>6.95821</td>\n",
       "    </tr>\n",
       "    <tr>\n",
       "      <th>44.0</th>\n",
       "      <td>6.95821</td>\n",
       "    </tr>\n",
       "    <tr>\n",
       "      <th>45.0</th>\n",
       "      <td>7.40199</td>\n",
       "    </tr>\n",
       "    <tr>\n",
       "      <th>46.0</th>\n",
       "      <td>7.35025</td>\n",
       "    </tr>\n",
       "    <tr>\n",
       "      <th>47.0</th>\n",
       "      <td>7.57214</td>\n",
       "    </tr>\n",
       "    <tr>\n",
       "      <th>48.0</th>\n",
       "      <td>7.63781</td>\n",
       "    </tr>\n",
       "    <tr>\n",
       "      <th>49.0</th>\n",
       "      <td>7.79502</td>\n",
       "    </tr>\n",
       "    <tr>\n",
       "      <th>50.0</th>\n",
       "      <td>8.31840</td>\n",
       "    </tr>\n",
       "    <tr>\n",
       "      <th>51.0</th>\n",
       "      <td>8.25273</td>\n",
       "    </tr>\n",
       "    <tr>\n",
       "      <th>52.0</th>\n",
       "      <td>8.42288</td>\n",
       "    </tr>\n",
       "    <tr>\n",
       "      <th>53.0</th>\n",
       "      <td>8.60696</td>\n",
       "    </tr>\n",
       "    <tr>\n",
       "      <th>54.0</th>\n",
       "      <td>8.90547</td>\n",
       "    </tr>\n",
       "    <tr>\n",
       "      <th>55.0</th>\n",
       "      <td>8.85373</td>\n",
       "    </tr>\n",
       "    <tr>\n",
       "      <th>56.0</th>\n",
       "      <td>8.94726</td>\n",
       "    </tr>\n",
       "    <tr>\n",
       "      <th>57.0</th>\n",
       "      <td>9.25970</td>\n",
       "    </tr>\n",
       "    <tr>\n",
       "      <th>58.0</th>\n",
       "      <td>9.31144</td>\n",
       "    </tr>\n",
       "    <tr>\n",
       "      <th>59.0</th>\n",
       "      <td>9.58607</td>\n",
       "    </tr>\n",
       "    <tr>\n",
       "      <th>60.0</th>\n",
       "      <td>9.75622</td>\n",
       "    </tr>\n",
       "    <tr>\n",
       "      <th>61.0</th>\n",
       "      <td>9.92637</td>\n",
       "    </tr>\n",
       "    <tr>\n",
       "      <th>62.0</th>\n",
       "      <td>10.12438</td>\n",
       "    </tr>\n",
       "    <tr>\n",
       "      <th>63.0</th>\n",
       "      <td>10.31840</td>\n",
       "    </tr>\n",
       "    <tr>\n",
       "      <th>64.0</th>\n",
       "      <td>10.40895</td>\n",
       "    </tr>\n",
       "    <tr>\n",
       "      <th>65.0</th>\n",
       "      <td>10.57910</td>\n",
       "    </tr>\n",
       "    <tr>\n",
       "      <th>66.0</th>\n",
       "      <td>10.64477</td>\n",
       "    </tr>\n",
       "    <tr>\n",
       "      <th>67.0</th>\n",
       "      <td>10.89452</td>\n",
       "    </tr>\n",
       "    <tr>\n",
       "      <th>68.0</th>\n",
       "      <td>11.08955</td>\n",
       "    </tr>\n",
       "    <tr>\n",
       "      <th>69.0</th>\n",
       "      <td>11.20696</td>\n",
       "    </tr>\n",
       "    <tr>\n",
       "      <th>70.0</th>\n",
       "      <td>11.15522</td>\n",
       "    </tr>\n",
       "    <tr>\n",
       "      <th>71.0</th>\n",
       "      <td>11.42985</td>\n",
       "    </tr>\n",
       "    <tr>\n",
       "      <th>72.0</th>\n",
       "      <td>11.60000</td>\n",
       "    </tr>\n",
       "    <tr>\n",
       "      <th>73.0</th>\n",
       "      <td>11.73134</td>\n",
       "    </tr>\n",
       "  </tbody>\n",
       "</table>\n",
       "</div>"
      ],
      "text/plain": [
       "             x\n",
       "Time          \n",
       "0.0    0.00000\n",
       "3.0    0.60497\n",
       "5.0    0.76716\n",
       "7.0    1.04875\n",
       "9.0    1.27164\n",
       "11.0   1.69054\n",
       "13.0   1.97711\n",
       "15.0   2.59104\n",
       "18.0   2.91840\n",
       "20.0   3.32338\n",
       "22.0   3.54527\n",
       "24.0   3.81990\n",
       "26.0   4.12238\n",
       "28.0   4.63184\n",
       "30.0   4.86567\n",
       "31.0   5.08855\n",
       "32.0   4.94428\n",
       "33.0   5.21890\n",
       "34.0   5.27164\n",
       "35.0   5.49353\n",
       "36.0   5.99303\n",
       "37.0   5.99303\n",
       "38.0   6.16318\n",
       "39.0   6.21194\n",
       "40.0   6.33035\n",
       "41.0   6.77413\n",
       "42.0   6.83980\n",
       "43.0   6.95821\n",
       "44.0   6.95821\n",
       "45.0   7.40199\n",
       "46.0   7.35025\n",
       "47.0   7.57214\n",
       "48.0   7.63781\n",
       "49.0   7.79502\n",
       "50.0   8.31840\n",
       "51.0   8.25273\n",
       "52.0   8.42288\n",
       "53.0   8.60696\n",
       "54.0   8.90547\n",
       "55.0   8.85373\n",
       "56.0   8.94726\n",
       "57.0   9.25970\n",
       "58.0   9.31144\n",
       "59.0   9.58607\n",
       "60.0   9.75622\n",
       "61.0   9.92637\n",
       "62.0  10.12438\n",
       "63.0  10.31840\n",
       "64.0  10.40895\n",
       "65.0  10.57910\n",
       "66.0  10.64477\n",
       "67.0  10.89452\n",
       "68.0  11.08955\n",
       "69.0  11.20696\n",
       "70.0  11.15522\n",
       "71.0  11.42985\n",
       "72.0  11.60000\n",
       "73.0  11.73134"
      ]
     },
     "execution_count": 29,
     "metadata": {},
     "output_type": "execute_result"
    }
   ],
   "source": [
    "data = data.sub(data.iloc[0,:])\n",
    "#data = data.div(data.max(axis=0), axis=1)\n",
    "data = data.set_index(\"Time\")\n",
    "data"
   ]
  },
  {
   "cell_type": "code",
   "execution_count": 5,
   "id": "626c1710",
   "metadata": {
    "ExecuteTime": {
     "end_time": "2022-08-17T01:54:49.195455Z",
     "start_time": "2022-08-17T01:54:49.189804Z"
    }
   },
   "outputs": [],
   "source": []
  },
  {
   "cell_type": "code",
   "execution_count": 58,
   "id": "cd0eac49",
   "metadata": {
    "ExecuteTime": {
     "end_time": "2022-08-17T02:21:03.740940Z",
     "start_time": "2022-08-17T02:21:03.710927Z"
    }
   },
   "outputs": [
    {
     "data": {
      "text/html": [
       "<div>\n",
       "<style scoped>\n",
       "    .dataframe tbody tr th:only-of-type {\n",
       "        vertical-align: middle;\n",
       "    }\n",
       "\n",
       "    .dataframe tbody tr th {\n",
       "        vertical-align: top;\n",
       "    }\n",
       "\n",
       "    .dataframe thead th {\n",
       "        text-align: right;\n",
       "    }\n",
       "</style>\n",
       "<table border=\"1\" class=\"dataframe\">\n",
       "  <thead>\n",
       "    <tr style=\"text-align: right;\">\n",
       "      <th></th>\n",
       "      <th>x</th>\n",
       "    </tr>\n",
       "  </thead>\n",
       "  <tbody>\n",
       "    <tr>\n",
       "      <th>0.00000</th>\n",
       "      <td>0.000000</td>\n",
       "    </tr>\n",
       "    <tr>\n",
       "      <th>10.10101</th>\n",
       "      <td>1.695785</td>\n",
       "    </tr>\n",
       "    <tr>\n",
       "      <th>20.20202</th>\n",
       "      <td>3.268308</td>\n",
       "    </tr>\n",
       "    <tr>\n",
       "      <th>30.30303</th>\n",
       "      <td>4.741083</td>\n",
       "    </tr>\n",
       "    <tr>\n",
       "      <th>40.40404</th>\n",
       "      <td>6.130983</td>\n",
       "    </tr>\n",
       "    <tr>\n",
       "      <th>...</th>\n",
       "      <td>...</td>\n",
       "    </tr>\n",
       "    <tr>\n",
       "      <th>959.59596</th>\n",
       "      <td>64.363332</td>\n",
       "    </tr>\n",
       "    <tr>\n",
       "      <th>969.69697</th>\n",
       "      <td>64.781359</td>\n",
       "    </tr>\n",
       "    <tr>\n",
       "      <th>979.79798</th>\n",
       "      <td>65.197335</td>\n",
       "    </tr>\n",
       "    <tr>\n",
       "      <th>989.89899</th>\n",
       "      <td>65.611290</td>\n",
       "    </tr>\n",
       "    <tr>\n",
       "      <th>1000.00000</th>\n",
       "      <td>66.023253</td>\n",
       "    </tr>\n",
       "  </tbody>\n",
       "</table>\n",
       "<p>100 rows × 1 columns</p>\n",
       "</div>"
      ],
      "text/plain": [
       "                    x\n",
       "0.00000      0.000000\n",
       "10.10101     1.695785\n",
       "20.20202     3.268308\n",
       "30.30303     4.741083\n",
       "40.40404     6.130983\n",
       "...               ...\n",
       "959.59596   64.363332\n",
       "969.69697   64.781359\n",
       "979.79798   65.197335\n",
       "989.89899   65.611290\n",
       "1000.00000  66.023253\n",
       "\n",
       "[100 rows x 1 columns]"
      ]
     },
     "execution_count": 58,
     "metadata": {},
     "output_type": "execute_result"
    }
   ],
   "source": [
    "t = np.linspace(0, 1000, 100)\n",
    "x = model(t, 0.35, 20)\n",
    "data = pd.DataFrame(x, index=t, columns=[\"x\"])\n",
    "data"
   ]
  },
  {
   "cell_type": "code",
   "execution_count": 31,
   "id": "fe60dc45",
   "metadata": {
    "ExecuteTime": {
     "end_time": "2022-08-17T02:00:13.633239Z",
     "start_time": "2022-08-17T02:00:12.769393Z"
    }
   },
   "outputs": [
    {
     "data": {
      "text/plain": [
       "<AxesSubplot:xlabel='Time'>"
      ]
     },
     "execution_count": 31,
     "metadata": {},
     "output_type": "execute_result"
    },
    {
     "data": {
      "image/png": "[encoded data removed]",
      "text/plain": [
       "<Figure size 432x288 with 1 Axes>"
      ]
     },
     "metadata": {
      "needs_background": "light"
     },
     "output_type": "display_data"
    }
   ],
   "source": [
    "data.plot()"
   ]
  },
  {
   "cell_type": "code",
   "execution_count": null,
   "id": "c816ede9",
   "metadata": {
    "ExecuteTime": {
     "end_time": "2022-08-17T01:46:14.241672Z",
     "start_time": "2022-08-17T01:46:12.739Z"
    }
   },
   "outputs": [],
   "source": []
  },
  {
   "cell_type": "code",
   "execution_count": 32,
   "id": "b4f0f699",
   "metadata": {
    "ExecuteTime": {
     "end_time": "2022-08-17T02:00:15.941160Z",
     "start_time": "2022-08-17T02:00:15.934211Z"
    }
   },
   "outputs": [],
   "source": [
    "def taylor(t, A, B):\n",
    "    return (A/2*t - A**2/B*t**2/8) "
   ]
  },
  {
   "cell_type": "code",
   "execution_count": 33,
   "id": "7f0ea4d7",
   "metadata": {
    "ExecuteTime": {
     "end_time": "2022-08-17T02:00:17.072623Z",
     "start_time": "2022-08-17T02:00:17.058789Z"
    }
   },
   "outputs": [],
   "source": [
    "tlin = np.linspace(data.index.min(), data.index.max(), 1000)"
   ]
  },
  {
   "cell_type": "code",
   "execution_count": 34,
   "id": "ae1cd4f7",
   "metadata": {
    "ExecuteTime": {
     "end_time": "2022-08-17T02:00:18.358838Z",
     "start_time": "2022-08-17T02:00:18.158185Z"
    }
   },
   "outputs": [],
   "source": [
    "parameters, covariance = optimize.curve_fit(model, data.index, data[\"x\"].values, p0=(1, 100), ftol=1e-8)"
   ]
  },
  {
   "cell_type": "code",
   "execution_count": 35,
   "id": "44a58753",
   "metadata": {
    "ExecuteTime": {
     "end_time": "2022-08-17T02:00:19.579109Z",
     "start_time": "2022-08-17T02:00:19.570585Z"
    }
   },
   "outputs": [
    {
     "data": {
      "text/plain": [
       "array([3.23411047e-01, 1.02552846e+05])"
      ]
     },
     "execution_count": 35,
     "metadata": {},
     "output_type": "execute_result"
    }
   ],
   "source": [
    "parameters"
   ]
  },
  {
   "cell_type": "code",
   "execution_count": 37,
   "id": "74e15bd0",
   "metadata": {
    "ExecuteTime": {
     "end_time": "2022-08-17T02:00:58.562023Z",
     "start_time": "2022-08-17T02:00:58.154870Z"
    }
   },
   "outputs": [
    {
     "data": {
      "text/plain": [
       "array([3.23396685e-01, 1.05237134e+09])"
      ]
     },
     "execution_count": 37,
     "metadata": {},
     "output_type": "execute_result"
    }
   ],
   "source": [
    "parameters, covariance = optimize.curve_fit(taylor, data.index, data[\"x\"].values, p0=(1, 100), ftol=1e-8)\n",
    "parameters"
   ]
  },
  {
   "cell_type": "code",
   "execution_count": 14,
   "id": "03489ade",
   "metadata": {
    "ExecuteTime": {
     "end_time": "2022-08-17T01:54:49.663844Z",
     "start_time": "2022-08-17T01:54:49.658918Z"
    }
   },
   "outputs": [
    {
     "name": "stdout",
     "output_type": "stream",
     "text": [
      "[[ 3.27522601e-33 -3.34028606e-31]\n",
      " [-3.34028606e-31  3.46780164e-29]]\n"
     ]
    }
   ],
   "source": [
    "print(covariance)"
   ]
  },
  {
   "cell_type": "code",
   "execution_count": 15,
   "id": "0a089b1c",
   "metadata": {
    "ExecuteTime": {
     "end_time": "2022-08-17T01:54:49.673605Z",
     "start_time": "2022-08-17T01:54:49.666367Z"
    }
   },
   "outputs": [
    {
     "name": "stderr",
     "output_type": "stream",
     "text": [
      "/usr/local/lib/python3.6/dist-packages/ipykernel_launcher.py:1: RuntimeWarning: invalid value encountered in sqrt\n",
      "  \"\"\"Entry point for launching an IPython kernel.\n"
     ]
    },
    {
     "data": {
      "text/plain": [
       "array([[5.72295904e-17,            nan],\n",
       "       [           nan, 5.88880433e-15]])"
      ]
     },
     "execution_count": 15,
     "metadata": {},
     "output_type": "execute_result"
    }
   ],
   "source": [
    "np.sqrt(covariance)"
   ]
  },
  {
   "cell_type": "code",
   "execution_count": null,
   "id": "fb1ae5db",
   "metadata": {},
   "outputs": [],
   "source": []
  },
  {
   "cell_type": "code",
   "execution_count": 16,
   "id": "07065921",
   "metadata": {
    "ExecuteTime": {
     "end_time": "2022-08-17T01:54:49.681605Z",
     "start_time": "2022-08-17T01:54:49.676879Z"
    }
   },
   "outputs": [],
   "source": [
    "y = data.iloc[:,0].values\n",
    "y_fit = model(data.index.values, *parameters)"
   ]
  },
  {
   "cell_type": "code",
   "execution_count": 17,
   "id": "44b8f598",
   "metadata": {
    "ExecuteTime": {
     "end_time": "2022-08-17T01:54:49.689035Z",
     "start_time": "2022-08-17T01:54:49.684577Z"
    }
   },
   "outputs": [],
   "source": [
    "ss_res = np.sum((y - y_fit) ** 2)\n",
    "ss_tot = np.sum((y - np.mean(y)) ** 2)\n",
    "r2 = 1 - (ss_res / ss_tot)"
   ]
  },
  {
   "cell_type": "code",
   "execution_count": 18,
   "id": "07098bca",
   "metadata": {
    "ExecuteTime": {
     "end_time": "2022-08-17T01:54:49.698081Z",
     "start_time": "2022-08-17T01:54:49.692385Z"
    }
   },
   "outputs": [
    {
     "data": {
      "text/plain": [
       "1.0"
      ]
     },
     "execution_count": 18,
     "metadata": {},
     "output_type": "execute_result"
    }
   ],
   "source": [
    "r2"
   ]
  },
  {
   "cell_type": "code",
   "execution_count": 19,
   "id": "1f314ede",
   "metadata": {
    "ExecuteTime": {
     "end_time": "2022-08-17T01:54:49.996866Z",
     "start_time": "2022-08-17T01:54:49.701514Z"
    }
   },
   "outputs": [
    {
     "data": {
      "image/png": "[encoded data removed]",
      "text/plain": [
       "<Figure size 432x288 with 1 Axes>"
      ]
     },
     "metadata": {
      "needs_background": "light"
     },
     "output_type": "display_data"
    }
   ],
   "source": [
    "axe = data.plot(linestyle=\"none\", marker=\".\")\n",
    "axe.plot(tlin, model(tlin, *parameters))\n",
    "#axe.plot(tlin, model(tlin, *(parameters[0], 1e7)))\n",
    "axe.set_title(\"Adjustment\")\n",
    "axe.set_xlabel(\"Time\")\n",
    "axe.set_ylabel(\"Measure\")\n",
    "axe.legend([\"Exp. Data\", \"NLLS Fit\"])\n",
    "axe.grid()"
   ]
  },
  {
   "cell_type": "code",
   "execution_count": null,
   "id": "06b885e4",
   "metadata": {},
   "outputs": [],
   "source": []
  },
  {
   "cell_type": "code",
   "execution_count": 59,
   "id": "8338008f",
   "metadata": {
    "ExecuteTime": {
     "end_time": "2022-08-17T02:21:14.074273Z",
     "start_time": "2022-08-17T02:21:14.066683Z"
    }
   },
   "outputs": [],
   "source": [
    "def objective(beta, t, x):\n",
    "    return np.sum(np.power(model(t, beta[0], beta[1]) - x, 2))"
   ]
  },
  {
   "cell_type": "code",
   "execution_count": 55,
   "id": "aefed023",
   "metadata": {
    "ExecuteTime": {
     "end_time": "2022-08-17T02:19:00.111149Z",
     "start_time": "2022-08-17T02:19:00.096128Z"
    }
   },
   "outputs": [],
   "source": [
    "a = np.linspace(0.25, 0.40, 200)\n",
    "b = np.logspace(1, 4, 200, base=10)\n",
    "b = np.linspace(10, 30, 200)\n",
    "A, B = np.meshgrid(a, b)"
   ]
  },
  {
   "cell_type": "code",
   "execution_count": null,
   "id": "0cdf3fb6",
   "metadata": {
    "ExecuteTime": {
     "end_time": "2022-08-17T02:07:08.746716Z",
     "start_time": "2022-08-17T02:07:08.730282Z"
    }
   },
   "outputs": [],
   "source": []
  },
  {
   "cell_type": "code",
   "execution_count": 70,
   "id": "afba6cb9",
   "metadata": {
    "ExecuteTime": {
     "end_time": "2022-08-17T02:26:50.827547Z",
     "start_time": "2022-08-17T02:26:49.616302Z"
    }
   },
   "outputs": [],
   "source": [
    "result = optimize.minimize(objective, (1, 0), args=(data.index, data[\"x\"].values), tol=1e-8)"
   ]
  },
  {
   "cell_type": "code",
   "execution_count": 71,
   "id": "38639da4",
   "metadata": {
    "ExecuteTime": {
     "end_time": "2022-08-17T02:26:52.604673Z",
     "start_time": "2022-08-17T02:26:52.582963Z"
    }
   },
   "outputs": [
    {
     "data": {
      "text/plain": [
       "      fun: 1.9284246829733202e-10\n",
       " hess_inv: array([[ 4.34760333e-05, -4.42855253e-03],\n",
       "       [-4.42855253e-03,  4.59219063e-01]])\n",
       "      jac: array([ 4.35726463e-03, -2.19158602e-05])\n",
       "  message: 'Desired error not necessarily achieved due to precision loss.'\n",
       "     nfev: 402\n",
       "      nit: 94\n",
       "     njev: 130\n",
       "   status: 2\n",
       "  success: False\n",
       "        x: array([ 0.34999987, 20.000013  ])"
      ]
     },
     "execution_count": 71,
     "metadata": {},
     "output_type": "execute_result"
    }
   ],
   "source": [
    "result"
   ]
  },
  {
   "cell_type": "code",
   "execution_count": 62,
   "id": "df1c2cfe",
   "metadata": {
    "ExecuteTime": {
     "end_time": "2022-08-17T02:21:25.400638Z",
     "start_time": "2022-08-17T02:21:25.394218Z"
    }
   },
   "outputs": [],
   "source": [
    "Z = np.full(A.shape, np.nan)"
   ]
  },
  {
   "cell_type": "code",
   "execution_count": 63,
   "id": "f1e2f6a3",
   "metadata": {
    "ExecuteTime": {
     "end_time": "2022-08-17T02:23:03.479750Z",
     "start_time": "2022-08-17T02:21:27.300546Z"
    }
   },
   "outputs": [],
   "source": [
    "for i, a_ in enumerate(a):\n",
    "    for j, b_ in enumerate(b):\n",
    "        Z[j,i] = objective((a_, b_), data.index, data[\"x\"].values)"
   ]
  },
  {
   "cell_type": "code",
   "execution_count": 64,
   "id": "f26bd814",
   "metadata": {
    "ExecuteTime": {
     "end_time": "2022-08-17T02:23:05.305760Z",
     "start_time": "2022-08-17T02:23:04.849030Z"
    }
   },
   "outputs": [
    {
     "data": {
      "image/png": "[encoded data removed]",
      "text/plain": [
       "<Figure size 432x288 with 1 Axes>"
      ]
     },
     "metadata": {
      "needs_background": "light"
     },
     "output_type": "display_data"
    }
   ],
   "source": [
    "fig, axe = plt.subplots()\n",
    "axe.contour(A, B, np.log10(Z), cmap=\"jet\")\n",
    "axe.set_title(\"MSE Surface\")\n",
    "axe.set_xlabel(\"Parameter $A$\")\n",
    "axe.set_ylabel(\"Parameter $B$\")\n",
    "#axe.set_ylim([10, 30])\n",
    "#axe.set_yscale(\"log\")\n",
    "axe.grid()"
   ]
  },
  {
   "cell_type": "code",
   "execution_count": null,
   "id": "a5931c4e",
   "metadata": {},
   "outputs": [],
   "source": []
  },
  {
   "cell_type": "code",
   "execution_count": null,
   "id": "d3e2409c",
   "metadata": {},
   "outputs": [],
   "source": []
  }
 ],
 "metadata": {
  "hide_input": false,
  "kernelspec": {
   "display_name": "Python 3",
   "language": "python",
   "name": "python3"
  },
  "language_info": {
   "codemirror_mode": {
    "name": "ipython",
    "version": 3
   },
   "file_extension": ".py",
   "mimetype": "text/x-python",
   "name": "python",
   "nbconvert_exporter": "python",
   "pygments_lexer": "ipython3",
   "version": "3.6.9"
  },
  "toc": {
   "base_numbering": 1,
   "nav_menu": {},
   "number_sections": true,
   "sideBar": true,
   "skip_h1_title": false,
   "title_cell": "Table of Contents",
   "title_sidebar": "Contents",
   "toc_cell": false,
   "toc_position": {},
   "toc_section_display": true,
   "toc_window_display": false
  },
  "varInspector": {
   "cols": {
    "lenName": 16,
    "lenType": 16,
    "lenVar": 40
   },
   "kernels_config": {
    "python": {
     "delete_cmd_postfix": "",
     "delete_cmd_prefix": "del ",
     "library": "var_list.py",
     "varRefreshCmd": "print(var_dic_list())"
    },
    "r": {
     "delete_cmd_postfix": ") ",
     "delete_cmd_prefix": "rm(",
     "library": "var_list.r",
     "varRefreshCmd": "cat(var_dic_list()) "
    }
   },
   "types_to_exclude": [
    "module",
    "function",
    "builtin_function_or_method",
    "instance",
    "_Feature"
   ],
   "window_display": false
  }
 },
 "nbformat": 4,
 "nbformat_minor": 5
}
