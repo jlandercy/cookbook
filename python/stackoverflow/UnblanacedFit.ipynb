{
 "cells": [
  {
   "cell_type": "markdown",
   "id": "00a6c95a",
   "metadata": {},
   "source": [
    "https://stackoverflow.com/questions/73365651/instability-in-fitting-data-using-scipy-optimize-library\n",
    "\n",
    "x(t) = - B + sqrt(AB(t-t0) + (x0 + B)^2)"
   ]
  },
  {
   "cell_type": "code",
   "execution_count": 1,
   "id": "23d7a493",
   "metadata": {
    "ExecuteTime": {
     "end_time": "2022-08-18T06:07:05.769303Z",
     "start_time": "2022-08-18T06:07:04.674076Z"
    }
   },
   "outputs": [],
   "source": [
    "import io\n",
    "import numpy as np\n",
    "import pandas as pd\n",
    "from scipy import optimize\n",
    "import matplotlib.pyplot as plt"
   ]
  },
  {
   "cell_type": "code",
   "execution_count": 153,
   "id": "47b5ade1",
   "metadata": {
    "ExecuteTime": {
     "end_time": "2022-08-18T06:26:08.988263Z",
     "start_time": "2022-08-18T06:26:08.977297Z"
    }
   },
   "outputs": [],
   "source": [
    "stream = io.StringIO(\"\"\"Time,x\n",
    "201,2.67662\n",
    "204,3.28159\n",
    "206,3.44378\n",
    "208,3.72537\n",
    "210,3.94826\n",
    "212,4.36716\n",
    "214,4.65373\n",
    "216,5.26766\n",
    "219,5.59502\n",
    "221,6\n",
    "223,6.22189\n",
    "225,6.49652\n",
    "227,6.799\n",
    "229,7.30846\n",
    "231,7.54229\n",
    "232,7.76517\n",
    "233,7.6209\n",
    "234,7.89552\n",
    "235,7.94826\n",
    "236,8.17015\n",
    "237,8.66965\n",
    "238,8.66965\n",
    "239,8.8398\n",
    "240,8.88856\n",
    "241,9.00697\n",
    "242,9.45075\n",
    "243,9.51642\n",
    "244,9.63483\n",
    "245,9.63483\n",
    "246,10.07861\n",
    "247,10.02687\n",
    "248,10.24876\n",
    "249,10.31443\n",
    "250,10.47164\n",
    "251,10.99502\n",
    "252,10.92935\n",
    "253,11.0995\n",
    "254,11.28358\n",
    "255,11.58209\n",
    "256,11.53035\n",
    "257,11.62388\n",
    "258,11.93632\n",
    "259,11.98806\n",
    "260,12.26269\n",
    "261,12.43284\n",
    "262,12.60299\n",
    "263,12.801\n",
    "264,12.99502\n",
    "265,13.08557\n",
    "266,13.25572\n",
    "267,13.32139\n",
    "268,13.57114\n",
    "269,13.76617\n",
    "270,13.88358\n",
    "271,13.83184\n",
    "272,14.10647\n",
    "273,14.27662\n",
    "274,14.40796\"\"\")\n",
    "data = pd.read_csv(stream)"
   ]
  },
  {
   "cell_type": "code",
   "execution_count": 154,
   "id": "ef7a0714",
   "metadata": {
    "ExecuteTime": {
     "end_time": "2022-08-18T06:26:09.560960Z",
     "start_time": "2022-08-18T06:26:09.543196Z"
    }
   },
   "outputs": [
    {
     "data": {
      "text/html": [
       "<div>\n",
       "<style scoped>\n",
       "    .dataframe tbody tr th:only-of-type {\n",
       "        vertical-align: middle;\n",
       "    }\n",
       "\n",
       "    .dataframe tbody tr th {\n",
       "        vertical-align: top;\n",
       "    }\n",
       "\n",
       "    .dataframe thead th {\n",
       "        text-align: right;\n",
       "    }\n",
       "</style>\n",
       "<table border=\"1\" class=\"dataframe\">\n",
       "  <thead>\n",
       "    <tr style=\"text-align: right;\">\n",
       "      <th></th>\n",
       "      <th>x</th>\n",
       "    </tr>\n",
       "    <tr>\n",
       "      <th>Time</th>\n",
       "      <th></th>\n",
       "    </tr>\n",
       "  </thead>\n",
       "  <tbody>\n",
       "    <tr>\n",
       "      <th>22.0</th>\n",
       "      <td>3.54527</td>\n",
       "    </tr>\n",
       "    <tr>\n",
       "      <th>33.0</th>\n",
       "      <td>5.21890</td>\n",
       "    </tr>\n",
       "    <tr>\n",
       "      <th>60.0</th>\n",
       "      <td>9.75622</td>\n",
       "    </tr>\n",
       "    <tr>\n",
       "      <th>49.0</th>\n",
       "      <td>7.79502</td>\n",
       "    </tr>\n",
       "    <tr>\n",
       "      <th>47.0</th>\n",
       "      <td>7.57214</td>\n",
       "    </tr>\n",
       "  </tbody>\n",
       "</table>\n",
       "</div>"
      ],
      "text/plain": [
       "            x\n",
       "Time         \n",
       "22.0  3.54527\n",
       "33.0  5.21890\n",
       "60.0  9.75622\n",
       "49.0  7.79502\n",
       "47.0  7.57214"
      ]
     },
     "execution_count": 154,
     "metadata": {},
     "output_type": "execute_result"
    }
   ],
   "source": [
    "data = data.sub(data.iloc[0,:])\n",
    "#data = data.div(data.max(axis=0), axis=1)\n",
    "data = data.set_index(\"Time\")\n",
    "data.sample(5)"
   ]
  },
  {
   "cell_type": "code",
   "execution_count": 97,
   "id": "d1ed332b",
   "metadata": {
    "ExecuteTime": {
     "end_time": "2022-08-18T06:19:26.397741Z",
     "start_time": "2022-08-18T06:19:26.391472Z"
    }
   },
   "outputs": [],
   "source": [
    "def model(t, A, B):\n",
    "    return -B + np.sqrt(A*B*t + np.power(B, 2))"
   ]
  },
  {
   "cell_type": "code",
   "execution_count": 151,
   "id": "4a4e9050",
   "metadata": {
    "ExecuteTime": {
     "end_time": "2022-08-18T06:25:59.287757Z",
     "start_time": "2022-08-18T06:25:59.282458Z"
    }
   },
   "outputs": [],
   "source": [
    "def model(t, C, B, scale=1):\n",
    "    return -B*scale + np.sqrt(C*t + np.power(B*scale, 2))"
   ]
  },
  {
   "cell_type": "code",
   "execution_count": null,
   "id": "c8e53f2f",
   "metadata": {
    "ExecuteTime": {
     "end_time": "2022-08-18T06:19:16.168726Z",
     "start_time": "2022-08-18T06:19:16.147854Z"
    }
   },
   "outputs": [],
   "source": []
  },
  {
   "cell_type": "code",
   "execution_count": null,
   "id": "626c1710",
   "metadata": {
    "ExecuteTime": {
     "end_time": "2022-08-17T01:54:49.195455Z",
     "start_time": "2022-08-17T01:54:49.189804Z"
    }
   },
   "outputs": [],
   "source": []
  },
  {
   "cell_type": "code",
   "execution_count": 152,
   "id": "cd0eac49",
   "metadata": {
    "ExecuteTime": {
     "end_time": "2022-08-18T06:26:04.462535Z",
     "start_time": "2022-08-18T06:26:04.444889Z"
    }
   },
   "outputs": [
    {
     "data": {
      "text/html": [
       "<div>\n",
       "<style scoped>\n",
       "    .dataframe tbody tr th:only-of-type {\n",
       "        vertical-align: middle;\n",
       "    }\n",
       "\n",
       "    .dataframe tbody tr th {\n",
       "        vertical-align: top;\n",
       "    }\n",
       "\n",
       "    .dataframe thead th {\n",
       "        text-align: right;\n",
       "    }\n",
       "</style>\n",
       "<table border=\"1\" class=\"dataframe\">\n",
       "  <thead>\n",
       "    <tr style=\"text-align: right;\">\n",
       "      <th></th>\n",
       "      <th>x</th>\n",
       "    </tr>\n",
       "  </thead>\n",
       "  <tbody>\n",
       "    <tr>\n",
       "      <th>676.767677</th>\n",
       "      <td>66.857634</td>\n",
       "    </tr>\n",
       "    <tr>\n",
       "      <th>545.454545</th>\n",
       "      <td>59.823797</td>\n",
       "    </tr>\n",
       "    <tr>\n",
       "      <th>888.888889</th>\n",
       "      <td>76.906414</td>\n",
       "    </tr>\n",
       "    <tr>\n",
       "      <th>585.858586</th>\n",
       "      <td>62.070353</td>\n",
       "    </tr>\n",
       "    <tr>\n",
       "      <th>969.696970</th>\n",
       "      <td>80.412856</td>\n",
       "    </tr>\n",
       "  </tbody>\n",
       "</table>\n",
       "</div>"
      ],
      "text/plain": [
       "                    x\n",
       "676.767677  66.857634\n",
       "545.454545  59.823797\n",
       "888.888889  76.906414\n",
       "585.858586  62.070353\n",
       "969.696970  80.412856"
      ]
     },
     "execution_count": 152,
     "metadata": {},
     "output_type": "execute_result"
    }
   ],
   "source": [
    "t = np.linspace(0, 1000, 100)\n",
    "x = model(t, 0.35*20, 20*0.1)\n",
    "data = pd.DataFrame(x, index=t, columns=[\"x\"])\n",
    "data.sample(5)"
   ]
  },
  {
   "cell_type": "code",
   "execution_count": 155,
   "id": "fe60dc45",
   "metadata": {
    "ExecuteTime": {
     "end_time": "2022-08-18T06:26:14.143863Z",
     "start_time": "2022-08-18T06:26:13.783416Z"
    }
   },
   "outputs": [
    {
     "data": {
      "text/plain": [
       "<AxesSubplot:xlabel='Time'>"
      ]
     },
     "execution_count": 155,
     "metadata": {},
     "output_type": "execute_result"
    },
    {
     "data": {
      "image/png": "[encoded data removed]",
      "text/plain": [
       "<Figure size 432x288 with 1 Axes>"
      ]
     },
     "metadata": {
      "needs_background": "light"
     },
     "output_type": "display_data"
    }
   ],
   "source": [
    "data.plot()"
   ]
  },
  {
   "cell_type": "code",
   "execution_count": null,
   "id": "c816ede9",
   "metadata": {
    "ExecuteTime": {
     "end_time": "2022-08-17T01:46:14.241672Z",
     "start_time": "2022-08-17T01:46:12.739Z"
    }
   },
   "outputs": [],
   "source": []
  },
  {
   "cell_type": "code",
   "execution_count": 127,
   "id": "b4f0f699",
   "metadata": {
    "ExecuteTime": {
     "end_time": "2022-08-18T06:21:41.610762Z",
     "start_time": "2022-08-18T06:21:41.602600Z"
    }
   },
   "outputs": [],
   "source": []
  },
  {
   "cell_type": "code",
   "execution_count": 156,
   "id": "7f0ea4d7",
   "metadata": {
    "ExecuteTime": {
     "end_time": "2022-08-18T06:26:17.074208Z",
     "start_time": "2022-08-18T06:26:17.062330Z"
    }
   },
   "outputs": [],
   "source": [
    "tlin = np.linspace(data.index.min(), data.index.max(), 1000)"
   ]
  },
  {
   "cell_type": "code",
   "execution_count": 157,
   "id": "ae1cd4f7",
   "metadata": {
    "ExecuteTime": {
     "end_time": "2022-08-18T06:26:18.010851Z",
     "start_time": "2022-08-18T06:26:17.793026Z"
    }
   },
   "outputs": [],
   "source": [
    "parameters, covariance = optimize.curve_fit(model, data.index, data[\"x\"].values, p0=(1, 100), ftol=1e-8)"
   ]
  },
  {
   "cell_type": "code",
   "execution_count": 159,
   "id": "44a58753",
   "metadata": {
    "ExecuteTime": {
     "end_time": "2022-08-18T06:26:27.118865Z",
     "start_time": "2022-08-18T06:26:27.105023Z"
    }
   },
   "outputs": [
    {
     "data": {
      "text/plain": [
       "array([22303.70911882, 68962.46009323])"
      ]
     },
     "execution_count": 159,
     "metadata": {},
     "output_type": "execute_result"
    }
   ],
   "source": [
    "parameters"
   ]
  },
  {
   "cell_type": "code",
   "execution_count": 161,
   "id": "406ce2d3",
   "metadata": {
    "ExecuteTime": {
     "end_time": "2022-08-18T06:26:44.032951Z",
     "start_time": "2022-08-18T06:26:44.025087Z"
    }
   },
   "outputs": [
    {
     "data": {
      "text/plain": [
       "0.3234181189109134"
      ]
     },
     "execution_count": 161,
     "metadata": {},
     "output_type": "execute_result"
    }
   ],
   "source": [
    "parameters[0]/parameters[1]"
   ]
  },
  {
   "cell_type": "code",
   "execution_count": 160,
   "id": "05d249f9",
   "metadata": {
    "ExecuteTime": {
     "end_time": "2022-08-18T06:26:27.810708Z",
     "start_time": "2022-08-18T06:26:27.797871Z"
    }
   },
   "outputs": [
    {
     "name": "stdout",
     "output_type": "stream",
     "text": [
      "[[2.12476053e+11 6.57012287e+11]\n",
      " [6.57012287e+11 2.03159435e+12]]\n"
     ]
    }
   ],
   "source": [
    "print(covariance)"
   ]
  },
  {
   "cell_type": "code",
   "execution_count": 162,
   "id": "c6b785a7",
   "metadata": {
    "ExecuteTime": {
     "end_time": "2022-08-18T06:26:57.391546Z",
     "start_time": "2022-08-18T06:26:57.376697Z"
    }
   },
   "outputs": [
    {
     "data": {
      "text/plain": [
       "array([[ 460951.24756324,  810562.94443004],\n",
       "       [ 810562.94443004, 1425340.08323072]])"
      ]
     },
     "execution_count": 162,
     "metadata": {},
     "output_type": "execute_result"
    }
   ],
   "source": [
    "np.sqrt(covariance)"
   ]
  },
  {
   "cell_type": "code",
   "execution_count": 132,
   "id": "47162ed7",
   "metadata": {
    "ExecuteTime": {
     "end_time": "2022-08-18T06:21:58.973168Z",
     "start_time": "2022-08-18T06:21:58.968142Z"
    }
   },
   "outputs": [],
   "source": [
    "def taylor(t, A, B):\n",
    "    return (A/2*t - A**2/B*t**2/8) "
   ]
  },
  {
   "cell_type": "code",
   "execution_count": 131,
   "id": "74e15bd0",
   "metadata": {
    "ExecuteTime": {
     "end_time": "2022-08-18T06:21:51.081151Z",
     "start_time": "2022-08-18T06:21:51.056293Z"
    }
   },
   "outputs": [],
   "source": [
    "#parameters, covariance = optimize.curve_fit(taylor, data.index, data[\"x\"].values, p0=(1, 100), ftol=1e-8)\n",
    "#parameters"
   ]
  },
  {
   "cell_type": "code",
   "execution_count": null,
   "id": "03489ade",
   "metadata": {
    "ExecuteTime": {
     "end_time": "2022-08-18T06:08:51.293518Z",
     "start_time": "2022-08-18T06:08:51.268529Z"
    }
   },
   "outputs": [],
   "source": []
  },
  {
   "cell_type": "code",
   "execution_count": null,
   "id": "0a089b1c",
   "metadata": {
    "ExecuteTime": {
     "end_time": "2022-08-18T06:08:58.387870Z",
     "start_time": "2022-08-18T06:08:58.355347Z"
    }
   },
   "outputs": [],
   "source": []
  },
  {
   "cell_type": "code",
   "execution_count": null,
   "id": "fb1ae5db",
   "metadata": {},
   "outputs": [],
   "source": []
  },
  {
   "cell_type": "code",
   "execution_count": 137,
   "id": "07065921",
   "metadata": {
    "ExecuteTime": {
     "end_time": "2022-08-18T06:22:29.542875Z",
     "start_time": "2022-08-18T06:22:29.536256Z"
    }
   },
   "outputs": [],
   "source": [
    "y = data.iloc[:,0].values\n",
    "y_fit = model(data.index.values, *parameters)"
   ]
  },
  {
   "cell_type": "code",
   "execution_count": 138,
   "id": "44b8f598",
   "metadata": {
    "ExecuteTime": {
     "end_time": "2022-08-18T06:22:29.950304Z",
     "start_time": "2022-08-18T06:22:29.945773Z"
    }
   },
   "outputs": [],
   "source": [
    "ss_res = np.sum((y - y_fit) ** 2)\n",
    "ss_tot = np.sum((y - np.mean(y)) ** 2)\n",
    "r2 = 1 - (ss_res / ss_tot)"
   ]
  },
  {
   "cell_type": "code",
   "execution_count": 139,
   "id": "07098bca",
   "metadata": {
    "ExecuteTime": {
     "end_time": "2022-08-18T06:22:30.482541Z",
     "start_time": "2022-08-18T06:22:30.462919Z"
    }
   },
   "outputs": [
    {
     "data": {
      "text/plain": [
       "1.0"
      ]
     },
     "execution_count": 139,
     "metadata": {},
     "output_type": "execute_result"
    }
   ],
   "source": [
    "r2"
   ]
  },
  {
   "cell_type": "code",
   "execution_count": 140,
   "id": "1f314ede",
   "metadata": {
    "ExecuteTime": {
     "end_time": "2022-08-18T06:22:31.838066Z",
     "start_time": "2022-08-18T06:22:31.540156Z"
    }
   },
   "outputs": [
    {
     "data": {
      "image/png": "[encoded data removed]",
      "text/plain": [
       "<Figure size 432x288 with 1 Axes>"
      ]
     },
     "metadata": {
      "needs_background": "light"
     },
     "output_type": "display_data"
    }
   ],
   "source": [
    "axe = data.plot(linestyle=\"none\", marker=\".\")\n",
    "axe.plot(tlin, model(tlin, *parameters))\n",
    "#axe.plot(tlin, model(tlin, *(parameters[0], 1e7)))\n",
    "axe.set_title(\"Adjustment\")\n",
    "axe.set_xlabel(\"Time\")\n",
    "axe.set_ylabel(\"Measure\")\n",
    "axe.legend([\"Exp. Data\", \"NLLS Fit\"])\n",
    "axe.grid()"
   ]
  },
  {
   "cell_type": "code",
   "execution_count": null,
   "id": "06b885e4",
   "metadata": {},
   "outputs": [],
   "source": []
  },
  {
   "cell_type": "code",
   "execution_count": 163,
   "id": "8338008f",
   "metadata": {
    "ExecuteTime": {
     "end_time": "2022-08-18T06:27:17.152605Z",
     "start_time": "2022-08-18T06:27:17.144845Z"
    }
   },
   "outputs": [],
   "source": [
    "def objective(beta, t, x):\n",
    "    return np.sum(np.power(model(t, beta[0], beta[1]) - x, 2))"
   ]
  },
  {
   "cell_type": "code",
   "execution_count": null,
   "id": "aefed023",
   "metadata": {
    "ExecuteTime": {
     "end_time": "2022-08-18T06:09:02.158738Z",
     "start_time": "2022-08-18T06:09:02.116324Z"
    }
   },
   "outputs": [],
   "source": []
  },
  {
   "cell_type": "code",
   "execution_count": null,
   "id": "0cdf3fb6",
   "metadata": {
    "ExecuteTime": {
     "end_time": "2022-08-17T02:07:08.746716Z",
     "start_time": "2022-08-17T02:07:08.730282Z"
    }
   },
   "outputs": [],
   "source": []
  },
  {
   "cell_type": "code",
   "execution_count": 164,
   "id": "afba6cb9",
   "metadata": {
    "ExecuteTime": {
     "end_time": "2022-08-18T06:27:18.115729Z",
     "start_time": "2022-08-18T06:27:17.707792Z"
    }
   },
   "outputs": [],
   "source": [
    "result = optimize.minimize(objective, (1, 0), args=(data.index, data[\"x\"].values), tol=1e-8)"
   ]
  },
  {
   "cell_type": "code",
   "execution_count": 165,
   "id": "38639da4",
   "metadata": {
    "ExecuteTime": {
     "end_time": "2022-08-18T06:27:18.440600Z",
     "start_time": "2022-08-18T06:27:18.433768Z"
    }
   },
   "outputs": [
    {
     "data": {
      "text/plain": [
       "      fun: 1.3621054440846505\n",
       " hess_inv: array([[ 0.00229279, -0.00140919],\n",
       "       [-0.00140919,  0.00149551]])\n",
       "      jac: array([ 0.1506872 , -0.04942749])\n",
       "  message: 'Desired error not necessarily achieved due to precision loss.'\n",
       "     nfev: 183\n",
       "      nit: 27\n",
       "     njev: 60\n",
       "   status: 2\n",
       "  success: False\n",
       "        x: array([ 650.44073292, 1977.91892548])"
      ]
     },
     "execution_count": 165,
     "metadata": {},
     "output_type": "execute_result"
    }
   ],
   "source": [
    "result"
   ]
  },
  {
   "cell_type": "code",
   "execution_count": 166,
   "id": "fad2c541",
   "metadata": {
    "ExecuteTime": {
     "end_time": "2022-08-18T06:28:08.362823Z",
     "start_time": "2022-08-18T06:28:08.351878Z"
    }
   },
   "outputs": [],
   "source": [
    "a = np.linspace(0.25, 0.40, 200)\n",
    "a = np.linspace(5, 10, 200)\n",
    "#a = np.linspace(0.5, 1.0, 200)\n",
    "a = np.linspace(100, 2000, 200)\n",
    "b = np.logspace(1, 4, 200, base=10)\n",
    "b = np.linspace(10, 30, 200)\n",
    "b = np.linspace(1.0, 3.0, 200)\n",
    "b = np.linspace(1500, 2500, 200)\n",
    "A, B = np.meshgrid(a, b)"
   ]
  },
  {
   "cell_type": "code",
   "execution_count": 167,
   "id": "df1c2cfe",
   "metadata": {
    "ExecuteTime": {
     "end_time": "2022-08-18T06:28:08.908872Z",
     "start_time": "2022-08-18T06:28:08.902898Z"
    }
   },
   "outputs": [],
   "source": [
    "Z = np.full(A.shape, np.nan)"
   ]
  },
  {
   "cell_type": "code",
   "execution_count": 168,
   "id": "e70dc47f",
   "metadata": {
    "ExecuteTime": {
     "end_time": "2022-08-18T06:29:53.477820Z",
     "start_time": "2022-08-18T06:28:09.430974Z"
    }
   },
   "outputs": [],
   "source": [
    "for i, a_ in enumerate(a):\n",
    "    for j, b_ in enumerate(b):\n",
    "        Z[j,i] = objective((a_, b_), data.index, data[\"x\"].values)"
   ]
  },
  {
   "cell_type": "code",
   "execution_count": 169,
   "id": "18eb35d6",
   "metadata": {
    "ExecuteTime": {
     "end_time": "2022-08-18T06:29:54.351280Z",
     "start_time": "2022-08-18T06:29:53.874629Z"
    }
   },
   "outputs": [
    {
     "data": {
      "image/png": "[encoded data removed]",
      "text/plain": [
       "<Figure size 432x288 with 1 Axes>"
      ]
     },
     "metadata": {
      "needs_background": "light"
     },
     "output_type": "display_data"
    }
   ],
   "source": [
    "fig, axe = plt.subplots()\n",
    "axe.contour(A, B, np.log10(Z), cmap=\"jet\")\n",
    "axe.set_title(\"MSE Surface\")\n",
    "axe.set_xlabel(\"Parameter $A$\")\n",
    "axe.set_ylabel(\"Parameter $B$\")\n",
    "#axe.set_ylim([10, 30])\n",
    "#axe.set_yscale(\"log\")\n",
    "axe.grid()"
   ]
  },
  {
   "cell_type": "code",
   "execution_count": null,
   "id": "a5931c4e",
   "metadata": {},
   "outputs": [],
   "source": []
  },
  {
   "cell_type": "code",
   "execution_count": null,
   "id": "d3e2409c",
   "metadata": {},
   "outputs": [],
   "source": []
  },
  {
   "cell_type": "code",
   "execution_count": null,
   "id": "55cc469c",
   "metadata": {},
   "outputs": [],
   "source": []
  }
 ],
 "metadata": {
  "hide_input": false,
  "kernelspec": {
   "display_name": "Python 3",
   "language": "python",
   "name": "python3"
  },
  "language_info": {
   "codemirror_mode": {
    "name": "ipython",
    "version": 3
   },
   "file_extension": ".py",
   "mimetype": "text/x-python",
   "name": "python",
   "nbconvert_exporter": "python",
   "pygments_lexer": "ipython3",
   "version": "3.6.9"
  },
  "toc": {
   "base_numbering": 1,
   "nav_menu": {},
   "number_sections": true,
   "sideBar": true,
   "skip_h1_title": false,
   "title_cell": "Table of Contents",
   "title_sidebar": "Contents",
   "toc_cell": false,
   "toc_position": {},
   "toc_section_display": true,
   "toc_window_display": false
  },
  "varInspector": {
   "cols": {
    "lenName": 16,
    "lenType": 16,
    "lenVar": 40
   },
   "kernels_config": {
    "python": {
     "delete_cmd_postfix": "",
     "delete_cmd_prefix": "del ",
     "library": "var_list.py",
     "varRefreshCmd": "print(var_dic_list())"
    },
    "r": {
     "delete_cmd_postfix": ") ",
     "delete_cmd_prefix": "rm(",
     "library": "var_list.r",
     "varRefreshCmd": "cat(var_dic_list()) "
    }
   },
   "types_to_exclude": [
    "module",
    "function",
    "builtin_function_or_method",
    "instance",
    "_Feature"
   ],
   "window_display": false
  }
 },
 "nbformat": 4,
 "nbformat_minor": 5
}
