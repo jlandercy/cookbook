{
 "cells": [
  {
   "cell_type": "code",
   "execution_count": 1,
   "metadata": {
    "ExecuteTime": {
     "end_time": "2020-10-11T23:13:41.726301Z",
     "start_time": "2020-10-11T23:13:40.358475Z"
    }
   },
   "outputs": [],
   "source": [
    "import numpy as np\n",
    "from scipy.integrate import solve_ivp\n",
    "import matplotlib.pyplot as plt"
   ]
  },
  {
   "cell_type": "code",
   "execution_count": 2,
   "metadata": {
    "ExecuteTime": {
     "end_time": "2020-10-11T23:13:41.740397Z",
     "start_time": "2020-10-11T23:13:41.734912Z"
    }
   },
   "outputs": [],
   "source": [
    "def tide_spl(t):\n",
    "    return 1.0*t + 1"
   ]
  },
  {
   "cell_type": "code",
   "execution_count": 3,
   "metadata": {
    "ExecuteTime": {
     "end_time": "2020-10-11T23:13:41.751813Z",
     "start_time": "2020-10-11T23:13:41.746829Z"
    }
   },
   "outputs": [],
   "source": [
    "def dhdt_spl(t):\n",
    "    return 1.0"
   ]
  },
  {
   "cell_type": "code",
   "execution_count": 4,
   "metadata": {
    "ExecuteTime": {
     "end_time": "2020-10-11T23:13:41.768852Z",
     "start_time": "2020-10-11T23:13:41.757046Z"
    }
   },
   "outputs": [],
   "source": [
    "def system(t, y, *args):\n",
    "        \n",
    "        # set initial values for concentration and elevation\n",
    "        init_conc = y[0]\n",
    "        init_elev = y[1]\n",
    "        \n",
    "        # use spline function for tide height to set current water_height\n",
    "        water_height = tide_spl(t)\n",
    "        depth = water_height - init_elev #calculate current depth\n",
    "\n",
    "        # use derivative of tide spline to get current gradient and set H\n",
    "        dhdt = dhdt_spl(t)\n",
    "\n",
    "        if dhdt > 0:\n",
    "            H = 1\n",
    "        else:\n",
    "            H = 0\n",
    "        \n",
    "        # Eq 1 - Concentration change\n",
    "        delta_conc = - (settle_rate * init_conc) / depth - H / depth * (init_conc - bound_conc) * dhdt\n",
    "\n",
    "        # Eq 2 - Elevation change (i.e. sediment accumulation)\n",
    "        # step_size below is undefined. I only included it to show where I need it.\n",
    "        delta_elev = settle_rate * (init_conc + delta_conc) / bulk_dens\n",
    "\n",
    "        return [delta_conc, delta_elev]"
   ]
  },
  {
   "cell_type": "code",
   "execution_count": 5,
   "metadata": {
    "ExecuteTime": {
     "end_time": "2020-10-11T23:13:41.786849Z",
     "start_time": "2020-10-11T23:13:41.773396Z"
    }
   },
   "outputs": [],
   "source": [
    "# model parameters\n",
    "bound_conc = 0.8\n",
    "settle_rate = 0.0011\n",
    "bulk_dens = 1100\n",
    "\n",
    "# initial values for solver\n",
    "elev = 0\n",
    "conc = 1\n",
    "t = np.linspace(0, 10, 1001)\n",
    "\n",
    "# solve equations\n",
    "sol = solve_ivp(system, [t[0], t[-1]], y0=[conc, elev], t_eval=t, args=(bound_conc, settle_rate, bulk_dens))"
   ]
  },
  {
   "cell_type": "code",
   "execution_count": 6,
   "metadata": {
    "ExecuteTime": {
     "end_time": "2020-10-11T23:13:41.807590Z",
     "start_time": "2020-10-11T23:13:41.794184Z"
    }
   },
   "outputs": [
    {
     "data": {
      "text/plain": [
       "  message: 'The solver successfully reached the end of the integration interval.'\n",
       "     nfev: 26\n",
       "     njev: 0\n",
       "      nlu: 0\n",
       "      sol: None\n",
       "   status: 0\n",
       "  success: True\n",
       "        t: array([ 0.  ,  0.01,  0.02, ...,  9.98,  9.99, 10.  ])\n",
       " t_events: None\n",
       "        y: array([[1.00000000e+00, 9.98008909e-01, 9.96056871e-01, ...,\n",
       "        8.17367847e-01, 8.17351207e-01, 8.17334610e-01],\n",
       "       [0.00000000e+00, 7.99892322e-09, 1.60171860e-08, ...,\n",
       "        8.27287414e-06, 8.28103112e-06, 8.28918796e-06]])\n",
       " y_events: None"
      ]
     },
     "execution_count": 6,
     "metadata": {},
     "output_type": "execute_result"
    }
   ],
   "source": [
    "sol"
   ]
  },
  {
   "cell_type": "code",
   "execution_count": 7,
   "metadata": {
    "ExecuteTime": {
     "end_time": "2020-10-11T23:13:42.027980Z",
     "start_time": "2020-10-11T23:13:41.813860Z"
    }
   },
   "outputs": [
    {
     "data": {
      "text/plain": [
       "[<matplotlib.lines.Line2D at 0x7fd9eb07f048>,\n",
       " <matplotlib.lines.Line2D at 0x7fd9e8fe6198>]"
      ]
     },
     "execution_count": 7,
     "metadata": {},
     "output_type": "execute_result"
    },
    {
     "data": {
      "image/png": "[encoded data removed]",
      "text/plain": [
       "<Figure size 432x288 with 1 Axes>"
      ]
     },
     "metadata": {
      "needs_background": "light"
     },
     "output_type": "display_data"
    }
   ],
   "source": [
    "fig, axe = plt.subplots()\n",
    "axe.plot(t, sol.y.T)"
   ]
  },
  {
   "cell_type": "code",
   "execution_count": null,
   "metadata": {},
   "outputs": [],
   "source": []
  }
 ],
 "metadata": {
  "hide_input": false,
  "kernelspec": {
   "display_name": "Python 3",
   "language": "python",
   "name": "python3"
  },
  "language_info": {
   "codemirror_mode": {
    "name": "ipython",
    "version": 3
   },
   "file_extension": ".py",
   "mimetype": "text/x-python",
   "name": "python",
   "nbconvert_exporter": "python",
   "pygments_lexer": "ipython3",
   "version": "3.6.9"
  },
  "toc": {
   "base_numbering": 1,
   "nav_menu": {},
   "number_sections": true,
   "sideBar": true,
   "skip_h1_title": false,
   "title_cell": "Table of Contents",
   "title_sidebar": "Contents",
   "toc_cell": false,
   "toc_position": {},
   "toc_section_display": true,
   "toc_window_display": false
  },
  "varInspector": {
   "cols": {
    "lenName": 16,
    "lenType": 16,
    "lenVar": 40
   },
   "kernels_config": {
    "python": {
     "delete_cmd_postfix": "",
     "delete_cmd_prefix": "del ",
     "library": "var_list.py",
     "varRefreshCmd": "print(var_dic_list())"
    },
    "r": {
     "delete_cmd_postfix": ") ",
     "delete_cmd_prefix": "rm(",
     "library": "var_list.r",
     "varRefreshCmd": "cat(var_dic_list()) "
    }
   },
   "types_to_exclude": [
    "module",
    "function",
    "builtin_function_or_method",
    "instance",
    "_Feature"
   ],
   "window_display": false
  }
 },
 "nbformat": 4,
 "nbformat_minor": 4
}
