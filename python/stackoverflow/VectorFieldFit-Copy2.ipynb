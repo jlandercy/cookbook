{
 "cells": [
  {
   "cell_type": "code",
   "execution_count": 1,
   "id": "9292fea0",
   "metadata": {
    "ExecuteTime": {
     "end_time": "2024-05-07T08:50:55.289324Z",
     "start_time": "2024-05-07T08:50:53.693657Z"
    }
   },
   "outputs": [],
   "source": [
    "import numpy as np\n",
    "import matplotlib.pyplot as plt\n",
    "from scipy import optimize, odr"
   ]
  },
  {
   "cell_type": "markdown",
   "id": "d0496d0d",
   "metadata": {},
   "source": [
    "https://stackoverflow.com/questions/78432247/fit-a-model-with-multiple-inputs-multiple-outputs-multiple-parameters-and-cov"
   ]
  },
  {
   "cell_type": "code",
   "execution_count": 2,
   "id": "efb74ef9",
   "metadata": {
    "ExecuteTime": {
     "end_time": "2024-05-07T08:50:55.305768Z",
     "start_time": "2024-05-07T08:50:55.297252Z"
    }
   },
   "outputs": [],
   "source": [
    "def model(XY, a, b, c):\n",
    "    x, y = XY\n",
    "    u = a * x + b * y\n",
    "    v = a * x * y - c\n",
    "    return u, v"
   ]
  },
  {
   "cell_type": "code",
   "execution_count": 3,
   "id": "6d0c8269",
   "metadata": {
    "ExecuteTime": {
     "end_time": "2024-05-07T08:50:55.319401Z",
     "start_time": "2024-05-07T08:50:55.312184Z"
    }
   },
   "outputs": [],
   "source": [
    "# TRUE MODEL FIELD\n",
    "a, b, c = -1, 7, 11 # True model parameters\n",
    "x, y = np.meshgrid(np.linspace(-5, 5, 10), np.linspace(-5, 5, 10))\n",
    "u, v = model((x, y), a, b, c)"
   ]
  },
  {
   "cell_type": "code",
   "execution_count": null,
   "id": "6af947a2",
   "metadata": {
    "ExecuteTime": {
     "end_time": "2024-05-06T16:16:35.971475Z",
     "start_time": "2024-05-06T16:16:35.957756Z"
    }
   },
   "outputs": [],
   "source": []
  },
  {
   "cell_type": "code",
   "execution_count": 4,
   "id": "3f871a0a",
   "metadata": {
    "ExecuteTime": {
     "end_time": "2024-05-07T08:50:55.328557Z",
     "start_time": "2024-05-07T08:50:55.324137Z"
    }
   },
   "outputs": [],
   "source": [
    "target = np.hstack([np.ravel(u), np.ravel(v)])"
   ]
  },
  {
   "cell_type": "code",
   "execution_count": null,
   "id": "ac903d05",
   "metadata": {},
   "outputs": [],
   "source": []
  },
  {
   "cell_type": "code",
   "execution_count": null,
   "id": "e6956303",
   "metadata": {},
   "outputs": [],
   "source": []
  },
  {
   "cell_type": "code",
   "execution_count": 5,
   "id": "f394e9bc",
   "metadata": {
    "ExecuteTime": {
     "end_time": "2024-05-07T08:50:55.341348Z",
     "start_time": "2024-05-07T08:50:55.332341Z"
    }
   },
   "outputs": [],
   "source": [
    "\n",
    "# CREATE DATA\n",
    "data_size = 100\n",
    "np.random.seed(0)\n",
    "x_data, y_data = np.random.uniform(-5, 5, data_size), np.random.uniform(-5, 5, data_size)\n",
    "u_data_expected, v_data_expected = model((x_data, y_data), a, b, c)\n",
    "noise_field = [np.random.normal(0, 5, data_size), np.random.normal(0, 5, data_size)]\n",
    "u_data_real, v_data_real = u_data_expected + noise_field[0], v_data_expected + noise_field[1]"
   ]
  },
  {
   "cell_type": "code",
   "execution_count": 23,
   "id": "22355123",
   "metadata": {
    "ExecuteTime": {
     "end_time": "2024-05-07T08:54:12.477887Z",
     "start_time": "2024-05-07T08:54:12.412091Z"
    }
   },
   "outputs": [],
   "source": [
    "# CREATE DATA UNCERTAINTIES AND CORRELATIONS\n",
    "# Input data (positions) uncertainties and correlations:\n",
    "x_err, y_err = np.random.normal(0, 0.1, data_size), np.random.normal(0, 0.1, data_size)\n",
    "x_y_corr = np.random.uniform(-1, 1, data_size)\n",
    "cov_matrices_xy = np.array([[[x_err[i]**2, x_err[i]*y_err[i]*x_y_corr[i]],\n",
    "                             [x_err[i]*y_err[i]*x_y_corr[i], y_err[i]**2]] for i in range(data_size)])\n",
    "\n",
    "# Output data (vectors) uncertainties and correlations:\n",
    "u_err, v_err = np.random.normal(0, 0.1, data_size), np.random.normal(0, 0.1, data_size)\n",
    "u_v_corr = np.random.uniform(-1, 1, data_size)\n",
    "cov_matrices_uv = np.array([[[u_err[i]**2, u_err[i]*v_err[i]*u_v_corr[i]],\n",
    "                             [u_err[i]*v_err[i]*u_v_corr[i], v_err[i]**2]] for i in range(data_size)])"
   ]
  },
  {
   "cell_type": "code",
   "execution_count": 55,
   "id": "641602ef",
   "metadata": {
    "ExecuteTime": {
     "end_time": "2024-05-07T08:59:12.375839Z",
     "start_time": "2024-05-07T08:59:12.178952Z"
    }
   },
   "outputs": [],
   "source": [
    "Cx = (X.T - X.mean(axis=1)).T @ (X.T - X.mean(axis=1))\n",
    "Cu = (U.T - U.mean(axis=1)).T @ (U.T - U.mean(axis=1))"
   ]
  },
  {
   "cell_type": "code",
   "execution_count": null,
   "id": "a7bd053e",
   "metadata": {
    "ExecuteTime": {
     "end_time": "2024-05-07T08:59:14.429494Z",
     "start_time": "2024-05-07T08:59:14.404478Z"
    }
   },
   "outputs": [],
   "source": []
  },
  {
   "cell_type": "code",
   "execution_count": 6,
   "id": "7dd43d7b",
   "metadata": {
    "ExecuteTime": {
     "end_time": "2024-05-07T08:50:55.347866Z",
     "start_time": "2024-05-07T08:50:55.344620Z"
    }
   },
   "outputs": [],
   "source": [
    "target = np.hstack([np.ravel(u_data_real), np.ravel(v_data_real)])"
   ]
  },
  {
   "cell_type": "code",
   "execution_count": null,
   "id": "cbc8e44a",
   "metadata": {},
   "outputs": [],
   "source": []
  },
  {
   "cell_type": "code",
   "execution_count": 7,
   "id": "63d0a7f7",
   "metadata": {
    "ExecuteTime": {
     "end_time": "2024-05-07T08:50:55.355085Z",
     "start_time": "2024-05-07T08:50:55.351204Z"
    }
   },
   "outputs": [],
   "source": [
    "def fitter(p, x):\n",
    "    u = p[0] * x[0] + p[1] * x[1]\n",
    "    v = p[0] * x[0] * x[1] - p[2]\n",
    "    return np.array([u, v])"
   ]
  },
  {
   "cell_type": "code",
   "execution_count": 8,
   "id": "154c6252",
   "metadata": {
    "ExecuteTime": {
     "end_time": "2024-05-07T08:50:55.361432Z",
     "start_time": "2024-05-07T08:50:55.358000Z"
    }
   },
   "outputs": [],
   "source": [
    "X = np.array([x_data.ravel(), y_data.ravel()])"
   ]
  },
  {
   "cell_type": "code",
   "execution_count": 9,
   "id": "6513ae45",
   "metadata": {
    "ExecuteTime": {
     "end_time": "2024-05-07T08:50:55.368026Z",
     "start_time": "2024-05-07T08:50:55.364796Z"
    }
   },
   "outputs": [],
   "source": [
    "U = np.array([u_data_real.ravel(), v_data_real.ravel()])"
   ]
  },
  {
   "cell_type": "code",
   "execution_count": 10,
   "id": "0ab39969",
   "metadata": {
    "ExecuteTime": {
     "end_time": "2024-05-07T08:50:55.386070Z",
     "start_time": "2024-05-07T08:50:55.373377Z"
    }
   },
   "outputs": [
    {
     "data": {
      "text/plain": [
       "(2, 100)"
      ]
     },
     "execution_count": 10,
     "metadata": {},
     "output_type": "execute_result"
    }
   ],
   "source": [
    "X.shape"
   ]
  },
  {
   "cell_type": "code",
   "execution_count": 11,
   "id": "2ee89e5b",
   "metadata": {
    "ExecuteTime": {
     "end_time": "2024-05-07T08:50:55.398457Z",
     "start_time": "2024-05-07T08:50:55.391456Z"
    }
   },
   "outputs": [
    {
     "data": {
      "text/plain": [
       "(2, 100)"
      ]
     },
     "execution_count": 11,
     "metadata": {},
     "output_type": "execute_result"
    }
   ],
   "source": [
    "U.shape"
   ]
  },
  {
   "cell_type": "code",
   "execution_count": 12,
   "id": "94ce4328",
   "metadata": {
    "ExecuteTime": {
     "end_time": "2024-05-07T08:50:55.404546Z",
     "start_time": "2024-05-07T08:50:55.401574Z"
    }
   },
   "outputs": [],
   "source": [
    "model = odr.Model(fitter)"
   ]
  },
  {
   "cell_type": "code",
   "execution_count": 57,
   "id": "1aaf6c60",
   "metadata": {
    "ExecuteTime": {
     "end_time": "2024-05-07T08:59:30.708861Z",
     "start_time": "2024-05-07T08:59:30.700084Z"
    }
   },
   "outputs": [],
   "source": [
    "data = odr.RealData(X, U, covx=Cx, covy=Cu)"
   ]
  },
  {
   "cell_type": "code",
   "execution_count": null,
   "id": "ef25c117",
   "metadata": {
    "ExecuteTime": {
     "end_time": "2024-05-07T08:39:08.634422Z",
     "start_time": "2024-05-07T08:39:08.630637Z"
    }
   },
   "outputs": [],
   "source": []
  },
  {
   "cell_type": "code",
   "execution_count": 58,
   "id": "da127cb6",
   "metadata": {
    "ExecuteTime": {
     "end_time": "2024-05-07T08:59:31.412781Z",
     "start_time": "2024-05-07T08:59:31.404851Z"
    }
   },
   "outputs": [],
   "source": [
    "fit = odr.ODR(data, model, beta0=[1., 1., 1.])"
   ]
  },
  {
   "cell_type": "code",
   "execution_count": 59,
   "id": "fe34d930",
   "metadata": {
    "ExecuteTime": {
     "end_time": "2024-05-07T08:59:32.076142Z",
     "start_time": "2024-05-07T08:59:32.008616Z"
    }
   },
   "outputs": [],
   "source": [
    "result = fit.run()"
   ]
  },
  {
   "cell_type": "code",
   "execution_count": 60,
   "id": "b97d4532",
   "metadata": {
    "ExecuteTime": {
     "end_time": "2024-05-07T08:59:32.844862Z",
     "start_time": "2024-05-07T08:59:32.824743Z"
    }
   },
   "outputs": [
    {
     "name": "stdout",
     "output_type": "stream",
     "text": [
      "Beta: [-1.2483959   7.10308325 11.59454377]\n",
      "Beta Std Error: [0.10658793 0.42941014 0.58865156]\n",
      "Beta Covariance: [[  6.49905209  -8.76721063   3.66030481]\n",
      " [ -8.76721063 105.48205575 -17.93062359]\n",
      " [  3.66030481 -17.93062359 198.22141981]]\n",
      "Residual Variance: 0.001748098943636363\n",
      "Inverse Condition #: 0.18760356570269432\n",
      "Reason(s) for Halting:\n",
      "  Sum of squares convergence\n"
     ]
    }
   ],
   "source": [
    "result.pprint()"
   ]
  },
  {
   "cell_type": "code",
   "execution_count": null,
   "id": "ccb750d9",
   "metadata": {},
   "outputs": [],
   "source": []
  },
  {
   "cell_type": "code",
   "execution_count": null,
   "id": "fcc0976f",
   "metadata": {},
   "outputs": [],
   "source": []
  }
 ],
 "metadata": {
  "hide_input": false,
  "kernelspec": {
   "display_name": "Python 3",
   "language": "python",
   "name": "python3"
  },
  "language_info": {
   "codemirror_mode": {
    "name": "ipython",
    "version": 3
   },
   "file_extension": ".py",
   "mimetype": "text/x-python",
   "name": "python",
   "nbconvert_exporter": "python",
   "pygments_lexer": "ipython3",
   "version": "3.10.6"
  },
  "toc": {
   "base_numbering": 1,
   "nav_menu": {},
   "number_sections": true,
   "sideBar": true,
   "skip_h1_title": false,
   "title_cell": "Table of Contents",
   "title_sidebar": "Contents",
   "toc_cell": false,
   "toc_position": {},
   "toc_section_display": true,
   "toc_window_display": false
  },
  "varInspector": {
   "cols": {
    "lenName": 16,
    "lenType": 16,
    "lenVar": 40
   },
   "kernels_config": {
    "python": {
     "delete_cmd_postfix": "",
     "delete_cmd_prefix": "del ",
     "library": "var_list.py",
     "varRefreshCmd": "print(var_dic_list())"
    },
    "r": {
     "delete_cmd_postfix": ") ",
     "delete_cmd_prefix": "rm(",
     "library": "var_list.r",
     "varRefreshCmd": "cat(var_dic_list()) "
    }
   },
   "types_to_exclude": [
    "module",
    "function",
    "builtin_function_or_method",
    "instance",
    "_Feature"
   ],
   "window_display": false
  }
 },
 "nbformat": 4,
 "nbformat_minor": 5
}
