{
 "cells": [
  {
   "cell_type": "code",
   "execution_count": 1,
   "id": "96707d77",
   "metadata": {
    "ExecuteTime": {
     "end_time": "2024-04-11T08:14:45.533377Z",
     "start_time": "2024-04-11T08:14:44.880509Z"
    }
   },
   "outputs": [],
   "source": [
    "from dataclasses import dataclass\n",
    "import pandas as pd"
   ]
  },
  {
   "cell_type": "markdown",
   "id": "2a6cc7eb",
   "metadata": {},
   "source": [
    "https://stackoverflow.com/questions/78308150/entering-attributes-of-a-class-into-a-pandas-dataframe"
   ]
  },
  {
   "cell_type": "code",
   "execution_count": 3,
   "id": "f44f1e2b",
   "metadata": {
    "ExecuteTime": {
     "end_time": "2024-04-11T08:16:30.472696Z",
     "start_time": "2024-04-11T08:16:30.467581Z"
    }
   },
   "outputs": [],
   "source": [
    "@dataclass\n",
    "class Entry:\n",
    "    column: str\n",
    "    task: str = \"task\"\n",
    "    desc: str = \"description\"\n",
    "    member: str = \"member\"\n",
    "    timeline: str = \"timeline\""
   ]
  },
  {
   "cell_type": "code",
   "execution_count": 6,
   "id": "3c8aa6c4",
   "metadata": {
    "ExecuteTime": {
     "end_time": "2024-04-11T08:17:13.585868Z",
     "start_time": "2024-04-11T08:17:13.450331Z"
    }
   },
   "outputs": [],
   "source": [
    "entries = [Entry(\"Col-1\"), Entry(\"Col-2\"), Entry(\"Col-3\"), Entry(\"Col-4\")]"
   ]
  },
  {
   "cell_type": "code",
   "execution_count": 11,
   "id": "b80e4cfd",
   "metadata": {
    "ExecuteTime": {
     "end_time": "2024-04-11T08:20:42.674760Z",
     "start_time": "2024-04-11T08:20:42.668622Z"
    }
   },
   "outputs": [],
   "source": [
    "def append_entries(entries, frame=None):\n",
    "    frame = frame or pd.DataFrame()\n",
    "    for entry in entries:\n",
    "        col = entry.column\n",
    "        for key in entry.__dict__:\n",
    "            if key != \"column\":\n",
    "                frame.loc[key, col] = entry.__dict__[key]\n",
    "    return frame"
   ]
  },
  {
   "cell_type": "code",
   "execution_count": 17,
   "id": "65d11d17",
   "metadata": {
    "ExecuteTime": {
     "end_time": "2024-04-11T08:25:23.373163Z",
     "start_time": "2024-04-11T08:25:23.367759Z"
    }
   },
   "outputs": [],
   "source": [
    "def append_entries(entries, frame=None):\n",
    "    frame = frame or pd.DataFrame()\n",
    "    for entry in entries:\n",
    "        series = pd.Series(entry.__dict__)\n",
    "        frame[entry.column] = series\n",
    "    frame = frame.drop(\"column\", axis=0)\n",
    "    return frame"
   ]
  },
  {
   "cell_type": "code",
   "execution_count": null,
   "id": "8d345b0d",
   "metadata": {},
   "outputs": [],
   "source": []
  },
  {
   "cell_type": "code",
   "execution_count": null,
   "id": "63938aa6",
   "metadata": {},
   "outputs": [],
   "source": []
  },
  {
   "cell_type": "code",
   "execution_count": 18,
   "id": "35d59bfa",
   "metadata": {
    "ExecuteTime": {
     "end_time": "2024-04-11T08:25:24.169319Z",
     "start_time": "2024-04-11T08:25:24.147838Z"
    }
   },
   "outputs": [
    {
     "data": {
      "text/html": [
       "<div>\n",
       "<style scoped>\n",
       "    .dataframe tbody tr th:only-of-type {\n",
       "        vertical-align: middle;\n",
       "    }\n",
       "\n",
       "    .dataframe tbody tr th {\n",
       "        vertical-align: top;\n",
       "    }\n",
       "\n",
       "    .dataframe thead th {\n",
       "        text-align: right;\n",
       "    }\n",
       "</style>\n",
       "<table border=\"1\" class=\"dataframe\">\n",
       "  <thead>\n",
       "    <tr style=\"text-align: right;\">\n",
       "      <th></th>\n",
       "      <th>Col-1</th>\n",
       "      <th>Col-2</th>\n",
       "      <th>Col-3</th>\n",
       "      <th>Col-4</th>\n",
       "    </tr>\n",
       "  </thead>\n",
       "  <tbody>\n",
       "    <tr>\n",
       "      <th>task</th>\n",
       "      <td>task</td>\n",
       "      <td>task</td>\n",
       "      <td>task</td>\n",
       "      <td>task</td>\n",
       "    </tr>\n",
       "    <tr>\n",
       "      <th>desc</th>\n",
       "      <td>description</td>\n",
       "      <td>description</td>\n",
       "      <td>description</td>\n",
       "      <td>description</td>\n",
       "    </tr>\n",
       "    <tr>\n",
       "      <th>member</th>\n",
       "      <td>member</td>\n",
       "      <td>member</td>\n",
       "      <td>member</td>\n",
       "      <td>member</td>\n",
       "    </tr>\n",
       "    <tr>\n",
       "      <th>timeline</th>\n",
       "      <td>timeline</td>\n",
       "      <td>timeline</td>\n",
       "      <td>timeline</td>\n",
       "      <td>timeline</td>\n",
       "    </tr>\n",
       "  </tbody>\n",
       "</table>\n",
       "</div>"
      ],
      "text/plain": [
       "                Col-1        Col-2        Col-3        Col-4\n",
       "task             task         task         task         task\n",
       "desc      description  description  description  description\n",
       "member         member       member       member       member\n",
       "timeline     timeline     timeline     timeline     timeline"
      ]
     },
     "execution_count": 18,
     "metadata": {},
     "output_type": "execute_result"
    }
   ],
   "source": [
    "append_entries(entries)"
   ]
  },
  {
   "cell_type": "code",
   "execution_count": null,
   "id": "9f53c194",
   "metadata": {},
   "outputs": [],
   "source": []
  },
  {
   "cell_type": "code",
   "execution_count": null,
   "id": "3d2c114d",
   "metadata": {},
   "outputs": [],
   "source": []
  }
 ],
 "metadata": {
  "hide_input": false,
  "kernelspec": {
   "display_name": "Python 3",
   "language": "python",
   "name": "python3"
  },
  "language_info": {
   "codemirror_mode": {
    "name": "ipython",
    "version": 3
   },
   "file_extension": ".py",
   "mimetype": "text/x-python",
   "name": "python",
   "nbconvert_exporter": "python",
   "pygments_lexer": "ipython3",
   "version": "3.10.6"
  },
  "toc": {
   "base_numbering": 1,
   "nav_menu": {},
   "number_sections": true,
   "sideBar": true,
   "skip_h1_title": false,
   "title_cell": "Table of Contents",
   "title_sidebar": "Contents",
   "toc_cell": false,
   "toc_position": {},
   "toc_section_display": true,
   "toc_window_display": false
  },
  "varInspector": {
   "cols": {
    "lenName": 16,
    "lenType": 16,
    "lenVar": 40
   },
   "kernels_config": {
    "python": {
     "delete_cmd_postfix": "",
     "delete_cmd_prefix": "del ",
     "library": "var_list.py",
     "varRefreshCmd": "print(var_dic_list())"
    },
    "r": {
     "delete_cmd_postfix": ") ",
     "delete_cmd_prefix": "rm(",
     "library": "var_list.r",
     "varRefreshCmd": "cat(var_dic_list()) "
    }
   },
   "types_to_exclude": [
    "module",
    "function",
    "builtin_function_or_method",
    "instance",
    "_Feature"
   ],
   "window_display": false
  }
 },
 "nbformat": 4,
 "nbformat_minor": 5
}
