{
 "cells": [
  {
   "cell_type": "code",
   "execution_count": 1,
   "id": "a068d216",
   "metadata": {
    "ExecuteTime": {
     "end_time": "2023-12-18T12:25:43.270544Z",
     "start_time": "2023-12-18T12:25:41.840512Z"
    }
   },
   "outputs": [],
   "source": [
    "import numpy as np\n",
    "import matplotlib.pyplot as plt\n",
    "from scipy import optimize, integrate"
   ]
  },
  {
   "cell_type": "markdown",
   "id": "b150bfeb",
   "metadata": {},
   "source": [
    "https://stackoverflow.com/questions/73121255/is-there-a-method-in-python-to-numerically-integrate-data-within-curve-fit"
   ]
  },
  {
   "cell_type": "code",
   "execution_count": 2,
   "id": "8186b61a",
   "metadata": {
    "ExecuteTime": {
     "end_time": "2023-12-18T12:25:43.286781Z",
     "start_time": "2023-12-18T12:25:43.275433Z"
    }
   },
   "outputs": [],
   "source": [
    "X = np.array([[1.00000e+00, 1.00000e+00, 0.00000e+00, 1.00000e-02],\n",
    "[2.00000e+00, 9.91700e-01, 3.99900e+01, 2.40000e+00],\n",
    "[3.00000e+00, 9.88400e-01, 5.24800e+01, 4.11000e+00],\n",
    "[4.00000e+00, 9.86100e-01, 6.08100e+01, 3.08000e+00],\n",
    "[5.00000e+00, 9.84300e-01, 6.76100e+01, 5.92000e+00],\n",
    "[6.00000e+00, 9.84100e-01, 7.14500e+01, 3.95000e+00],\n",
    "[7.00000e+00, 9.82200e-01, 8.79000e+01, 6.48000e+00],\n",
    "[8.00000e+00, 9.80300e-01, 9.41900e+01, 4.77000e+00],\n",
    "[9.00000e+00, 9.78400e-01, 1.07150e+02, 7.90000e+00],\n",
    "[1.00000e+01, 9.76500e-01, 1.19670e+02, 9.93000e+00],\n",
    "[1.10000e+01, 9.75800e-01, 1.09650e+02, 1.31600e+01],\n",
    "[1.20000e+01, 9.74700e-01, 1.18580e+02, 1.25800e+01],\n",
    "[1.30000e+01, 9.74400e-01, 1.41910e+02, 8.50000e+00],\n",
    "[1.40000e+01, 9.72800e-01, 1.57040e+02, 1.44800e+01],\n",
    "[1.50000e+01, 9.65900e-01, 1.78650e+02, 1.73000e+01],\n",
    "[1.60000e+01, 9.65500e-01, 1.72980e+02, 1.67500e+01],\n",
    "[1.70000e+01, 9.58700e-01, 1.78650e+02, 1.23500e+01],\n",
    "[1.80000e+01, 9.56900e-01, 2.40990e+02, 1.88900e+01],\n",
    "[1.90000e+01, 9.53400e-01, 2.34420e+02, 1.40400e+01],\n",
    "[2.00000e+01, 9.52300e-01, 2.29090e+02, 1.79500e+01],\n",
    "[2.10000e+01, 9.52100e-01, 2.02300e+02, 1.39900e+01],\n",
    "[2.20000e+01, 9.51000e-01, 2.54680e+02, 1.40800e+01],\n",
    "[2.30000e+01, 9.39800e-01, 3.32660e+02, 2.14600e+01],\n",
    "[2.40000e+01, 9.30500e-01, 3.63080e+02, 2.84500e+01],\n",
    "[2.50000e+01, 9.26100e-01, 3.38840e+02, 2.03000e+01],\n",
    "[2.60000e+01, 9.19700e-01, 4.38530e+02, 3.84200e+01],\n",
    "[2.70000e+01, 9.08300e-01, 4.80840e+02, 3.32400e+01],\n",
    "[2.80000e+01, 8.89300e-01, 6.33870e+02, 3.79700e+01],\n",
    "[2.90000e+01, 7.69200e-01, 1.88799e+03, 2.09090e+02],\n",
    "[3.00000e+01, 7.24600e-01, 2.11836e+03, 1.95380e+02],\n",
    "[3.10000e+01, 6.99300e-01, 2.22844e+03, 2.88140e+02],\n",
    "[3.20000e+01, 6.99300e-01, 3.23594e+03, 3.73370e+02],\n",
    "[3.30000e+01, 6.94400e-01, 2.45471e+03, 1.92370e+02],\n",
    "[3.40000e+01, 6.75700e-01, 3.09030e+03, 2.42180e+02],\n",
    "[3.50000e+01, 6.66700e-01, 3.01995e+03, 2.36670e+02],\n",
    "[3.60000e+01, 6.36900e-01, 3.56451e+03, 3.12290e+02],\n",
    "[3.70000e+01, 6.17300e-01, 3.94457e+03, 3.09130e+02],\n",
    "[3.80000e+01, 5.07600e-01, 7.55092e+03, 1.04652e+03]])"
   ]
  },
  {
   "cell_type": "code",
   "execution_count": 23,
   "id": "24a80f54",
   "metadata": {
    "ExecuteTime": {
     "end_time": "2023-12-18T12:27:30.081253Z",
     "start_time": "2023-12-18T12:27:30.075715Z"
    }
   },
   "outputs": [],
   "source": [
    "x = X[:,1]\n",
    "y = X[:,2]/8000\n",
    "s = X[:,3]"
   ]
  },
  {
   "cell_type": "code",
   "execution_count": null,
   "id": "77aaa81f",
   "metadata": {
    "ExecuteTime": {
     "end_time": "2023-12-18T11:50:18.253195Z",
     "start_time": "2023-12-18T11:50:18.246919Z"
    }
   },
   "outputs": [],
   "source": []
  },
  {
   "cell_type": "code",
   "execution_count": 24,
   "id": "6db5d212",
   "metadata": {
    "ExecuteTime": {
     "end_time": "2023-12-18T12:27:30.505766Z",
     "start_time": "2023-12-18T12:27:30.473655Z"
    }
   },
   "outputs": [],
   "source": [
    "def integral(x, x0, k):\n",
    "    def integrand(x, x0):\n",
    "        return 1. / (x * np.sqrt((x0 / x) + (1 - x0)))\n",
    "    return integrate.quad(integrand, 0.5076, 1., args=(k,))[0]"
   ]
  },
  {
   "cell_type": "code",
   "execution_count": 25,
   "id": "3bb40bd9",
   "metadata": {
    "ExecuteTime": {
     "end_time": "2023-12-18T12:27:30.670821Z",
     "start_time": "2023-12-18T12:27:30.655219Z"
    }
   },
   "outputs": [],
   "source": [
    "def submodel(x, x0, k):\n",
    "    return integral(x, x0, k) * np.sqrt(np.abs(1. - x0)) "
   ]
  },
  {
   "cell_type": "code",
   "execution_count": 26,
   "id": "fb6270aa",
   "metadata": {
    "ExecuteTime": {
     "end_time": "2023-12-18T12:27:30.759629Z",
     "start_time": "2023-12-18T12:27:30.750244Z"
    }
   },
   "outputs": [],
   "source": [
    "def model(x, x0, k, c):\n",
    "    return (c / (x * k * np.sqrt(np.abs(1. - x0)))) * np.sqrt(np.abs(1. - x0)) * np.sinh(submodel(x, x0, k))"
   ]
  },
  {
   "cell_type": "code",
   "execution_count": null,
   "id": "3bd2f8d8",
   "metadata": {
    "ExecuteTime": {
     "end_time": "2023-12-18T11:59:29.059646Z",
     "start_time": "2023-12-18T11:59:29.052716Z"
    }
   },
   "outputs": [],
   "source": []
  },
  {
   "cell_type": "code",
   "execution_count": 34,
   "id": "fa50f7ac",
   "metadata": {
    "ExecuteTime": {
     "end_time": "2023-12-18T12:28:31.069695Z",
     "start_time": "2023-12-18T12:28:30.976389Z"
    }
   },
   "outputs": [
    {
     "data": {
      "text/plain": [
       "(array([5.00000000e+01, 1.00000000e+00, 3.19485602e-07]),\n",
       " array([[ 4.95540209e+16, -2.97442141e+18, -1.44851892e+12],\n",
       "        [-2.97442141e+18,  1.78536122e+20,  8.69456326e+13],\n",
       "        [-1.44851892e+12,  8.69456326e+13,  4.23418127e+07]]))"
      ]
     },
     "execution_count": 34,
     "metadata": {},
     "output_type": "execute_result"
    }
   ],
   "source": [
    "popt, pcov = optimize.curve_fit(model, x, y, sigma=s, p0=[65, 0.01, 20000], bounds=([50, 0.001, 0],[80, 1.0, 1e6]), absolute_sigma=True)\n",
    "popt, pcov"
   ]
  },
  {
   "cell_type": "code",
   "execution_count": null,
   "id": "3a84ccc6",
   "metadata": {},
   "outputs": [],
   "source": []
  },
  {
   "cell_type": "code",
   "execution_count": null,
   "id": "e9d74e2b",
   "metadata": {},
   "outputs": [],
   "source": []
  },
  {
   "cell_type": "code",
   "execution_count": 35,
   "id": "33028d0b",
   "metadata": {
    "ExecuteTime": {
     "end_time": "2023-12-18T12:28:33.462733Z",
     "start_time": "2023-12-18T12:28:33.259242Z"
    }
   },
   "outputs": [
    {
     "data": {
      "image/png": "[encoded data removed]",
      "text/plain": [
       "<Figure size 640x480 with 1 Axes>"
      ]
     },
     "metadata": {},
     "output_type": "display_data"
    }
   ],
   "source": [
    "fig, axe = plt.subplots()\n",
    "#axe.errorbar(x, y, yerr=s, linestyle=\"none\", marker=\".\")\n",
    "axe.scatter(x, y)\n",
    "axe.plot(x, model(x, *popt))\n",
    "axe.grid()"
   ]
  },
  {
   "cell_type": "code",
   "execution_count": null,
   "id": "62797e5c",
   "metadata": {},
   "outputs": [],
   "source": []
  },
  {
   "cell_type": "code",
   "execution_count": null,
   "id": "0f0e113a",
   "metadata": {},
   "outputs": [],
   "source": []
  },
  {
   "cell_type": "code",
   "execution_count": null,
   "id": "40862b1e",
   "metadata": {},
   "outputs": [],
   "source": []
  }
 ],
 "metadata": {
  "hide_input": false,
  "kernelspec": {
   "display_name": "Python 3",
   "language": "python",
   "name": "python3"
  },
  "language_info": {
   "codemirror_mode": {
    "name": "ipython",
    "version": 3
   },
   "file_extension": ".py",
   "mimetype": "text/x-python",
   "name": "python",
   "nbconvert_exporter": "python",
   "pygments_lexer": "ipython3",
   "version": "3.10.6"
  },
  "toc": {
   "base_numbering": 1,
   "nav_menu": {},
   "number_sections": true,
   "sideBar": true,
   "skip_h1_title": false,
   "title_cell": "Table of Contents",
   "title_sidebar": "Contents",
   "toc_cell": false,
   "toc_position": {},
   "toc_section_display": true,
   "toc_window_display": false
  },
  "varInspector": {
   "cols": {
    "lenName": 16,
    "lenType": 16,
    "lenVar": 40
   },
   "kernels_config": {
    "python": {
     "delete_cmd_postfix": "",
     "delete_cmd_prefix": "del ",
     "library": "var_list.py",
     "varRefreshCmd": "print(var_dic_list())"
    },
    "r": {
     "delete_cmd_postfix": ") ",
     "delete_cmd_prefix": "rm(",
     "library": "var_list.r",
     "varRefreshCmd": "cat(var_dic_list()) "
    }
   },
   "types_to_exclude": [
    "module",
    "function",
    "builtin_function_or_method",
    "instance",
    "_Feature"
   ],
   "window_display": false
  }
 },
 "nbformat": 4,
 "nbformat_minor": 5
}
