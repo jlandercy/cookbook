{
 "cells": [
  {
   "cell_type": "markdown",
   "id": "d66ed6ee",
   "metadata": {},
   "source": [
    "https://stackoverflow.com/questions/77587951/how-to-fit-a-system-of-odes-with-interpolation"
   ]
  },
  {
   "cell_type": "code",
   "execution_count": 1,
   "id": "b944284e",
   "metadata": {
    "ExecuteTime": {
     "end_time": "2023-12-04T08:41:12.701167Z",
     "start_time": "2023-12-04T08:41:11.178330Z"
    }
   },
   "outputs": [],
   "source": [
    "import numpy as np\n",
    "import matplotlib.pyplot as plt\n",
    "from scipy import integrate, optimize"
   ]
  },
  {
   "cell_type": "code",
   "execution_count": null,
   "id": "d95d8399",
   "metadata": {
    "ExecuteTime": {
     "end_time": "2023-12-03T16:46:00.762672Z",
     "start_time": "2023-12-03T16:46:00.745945Z"
    }
   },
   "outputs": [],
   "source": []
  },
  {
   "cell_type": "code",
   "execution_count": null,
   "id": "5a3698e3",
   "metadata": {
    "ExecuteTime": {
     "end_time": "2023-12-03T16:46:00.770562Z",
     "start_time": "2023-12-03T16:46:00.765607Z"
    }
   },
   "outputs": [],
   "source": []
  },
  {
   "cell_type": "code",
   "execution_count": 2,
   "id": "add06644",
   "metadata": {
    "ExecuteTime": {
     "end_time": "2023-12-04T08:41:12.710454Z",
     "start_time": "2023-12-04T08:41:12.705286Z"
    }
   },
   "outputs": [],
   "source": [
    "def system(t, x, k0, k1, k2, p0, p1, p2):\n",
    "    return np.array([\n",
    "        p0 * x[2] - k0 * x[0],\n",
    "        p1 * x[0] - k1 * x[1],\n",
    "        p2 * x[1] - k2 * x[2]\n",
    "    ])"
   ]
  },
  {
   "cell_type": "code",
   "execution_count": null,
   "id": "1eaa6299",
   "metadata": {
    "ExecuteTime": {
     "end_time": "2023-12-03T16:39:53.661292Z",
     "start_time": "2023-12-03T16:39:53.640337Z"
    }
   },
   "outputs": [],
   "source": []
  },
  {
   "cell_type": "code",
   "execution_count": 3,
   "id": "7c9d8d2f",
   "metadata": {
    "ExecuteTime": {
     "end_time": "2023-12-04T08:41:12.718926Z",
     "start_time": "2023-12-04T08:41:12.713833Z"
    }
   },
   "outputs": [],
   "source": [
    "def solver(parameters, t=np.linspace(0, 1, 10)):\n",
    "    x0 = parameters[-3:]\n",
    "    parameters = parameters[:-3]\n",
    "    solution = integrate.solve_ivp(system, [t.min(), t.max()], x0, args=parameters, t_eval=t)\n",
    "    return solution.y"
   ]
  },
  {
   "cell_type": "code",
   "execution_count": 4,
   "id": "df7ede20",
   "metadata": {
    "ExecuteTime": {
     "end_time": "2023-12-04T08:41:12.725951Z",
     "start_time": "2023-12-04T08:41:12.722164Z"
    }
   },
   "outputs": [],
   "source": [
    "texp = np.linspace(0, 35, 15)\n",
    "#p0 = np.array([ 0.03693555,  0.38054633, -0.06252069,  1.41453107, -0.11159681])\n",
    "p0 = np.array([ 0.1, 0.3, 1., 0.01, 1.2, 0.9, 0.5, 1., 0.8])"
   ]
  },
  {
   "cell_type": "code",
   "execution_count": 5,
   "id": "693a732e",
   "metadata": {
    "ExecuteTime": {
     "end_time": "2023-12-04T08:41:12.741780Z",
     "start_time": "2023-12-04T08:41:12.728310Z"
    }
   },
   "outputs": [],
   "source": [
    "xexp = solver(p0, t=texp)\n",
    "xexp += 0.025 * np.random.normal(size=xexp.shape)"
   ]
  },
  {
   "cell_type": "code",
   "execution_count": null,
   "id": "9cc71774",
   "metadata": {
    "ExecuteTime": {
     "end_time": "2023-12-04T08:22:28.797736Z",
     "start_time": "2023-12-04T08:22:28.784961Z"
    }
   },
   "outputs": [],
   "source": []
  },
  {
   "cell_type": "code",
   "execution_count": 6,
   "id": "dc13a18a",
   "metadata": {
    "ExecuteTime": {
     "end_time": "2023-12-04T08:41:12.748861Z",
     "start_time": "2023-12-04T08:41:12.744262Z"
    }
   },
   "outputs": [],
   "source": [
    "def residuals_factory(t, x):\n",
    "    def wrapped(parameters):\n",
    "        return 0.5 * np.sum(np.power(x - solver(parameters, t=t), 2))\n",
    "    return wrapped"
   ]
  },
  {
   "cell_type": "code",
   "execution_count": null,
   "id": "835173fe",
   "metadata": {
    "ExecuteTime": {
     "end_time": "2023-12-03T16:47:11.806728Z",
     "start_time": "2023-12-03T16:47:11.802589Z"
    }
   },
   "outputs": [],
   "source": []
  },
  {
   "cell_type": "code",
   "execution_count": 7,
   "id": "a3e24133",
   "metadata": {
    "ExecuteTime": {
     "end_time": "2023-12-04T08:41:12.755589Z",
     "start_time": "2023-12-04T08:41:12.751303Z"
    }
   },
   "outputs": [],
   "source": [
    "texp = np.array([0, 5, 9, 18, 28, 38])\n",
    "xexp = np.array([\n",
    "    [0.24, 0.71, 0.95, 0.26, 0.05, 0.22],\n",
    "    [0.2, 0.62, 0.95, 0.51, 0.13, 0.05], \n",
    "    [0.89, 0.66, 0.95, 0.49, 0.28, 0.05]\n",
    "])"
   ]
  },
  {
   "cell_type": "code",
   "execution_count": null,
   "id": "d30e948b",
   "metadata": {},
   "outputs": [],
   "source": []
  },
  {
   "cell_type": "code",
   "execution_count": 8,
   "id": "1dc474d2",
   "metadata": {
    "ExecuteTime": {
     "end_time": "2023-12-04T08:41:19.059340Z",
     "start_time": "2023-12-04T08:41:12.757993Z"
    }
   },
   "outputs": [],
   "source": [
    "residuals = residuals_factory(texp, xexp)\n",
    "solution = optimize.minimize(\n",
    "    residuals, x0=[1, 1, 1, 1, 1, 1, 1, 1, 1],\n",
    "    bounds=[(0, np.inf)]*9\n",
    ")"
   ]
  },
  {
   "cell_type": "code",
   "execution_count": 9,
   "id": "57a073f6",
   "metadata": {
    "ExecuteTime": {
     "end_time": "2023-12-04T08:41:19.075673Z",
     "start_time": "2023-12-04T08:41:19.062610Z"
    }
   },
   "outputs": [
    {
     "data": {
      "text/plain": [
       "      fun: 0.19555816423659902\n",
       " hess_inv: <9x9 LbfgsInvHessProduct with dtype=float64>\n",
       "      jac: array([-9.53959134e-06,  2.76528800e-05, -1.27006738e-04,  1.16656684e-05,\n",
       "       -1.88987714e-05,  9.59453239e-01,  8.44602166e-06, -1.02973186e-05,\n",
       "        1.71140880e-05])\n",
       "  message: 'CONVERGENCE: REL_REDUCTION_OF_F_<=_FACTR*EPSMCH'\n",
       "     nfev: 1360\n",
       "      nit: 87\n",
       "     njev: 136\n",
       "   status: 0\n",
       "  success: True\n",
       "        x: array([0.4296699 , 0.45798361, 0.05734775, 0.43298256, 0.48438383,\n",
       "       0.        , 0.22499598, 0.19353352, 1.04244737])"
      ]
     },
     "execution_count": 9,
     "metadata": {},
     "output_type": "execute_result"
    }
   ],
   "source": [
    "solution"
   ]
  },
  {
   "cell_type": "code",
   "execution_count": 10,
   "id": "fd6f52db",
   "metadata": {
    "ExecuteTime": {
     "end_time": "2023-12-04T08:41:19.142402Z",
     "start_time": "2023-12-04T08:41:19.080135Z"
    }
   },
   "outputs": [
    {
     "data": {
      "text/plain": [
       "array([0.1 , 0.3 , 1.  , 0.01, 1.2 , 0.9 , 0.5 , 1.  , 0.8 ])"
      ]
     },
     "execution_count": 10,
     "metadata": {},
     "output_type": "execute_result"
    }
   ],
   "source": [
    "p0"
   ]
  },
  {
   "cell_type": "code",
   "execution_count": null,
   "id": "63b735ba",
   "metadata": {},
   "outputs": [],
   "source": []
  },
  {
   "cell_type": "code",
   "execution_count": 11,
   "id": "bd1bdc34",
   "metadata": {
    "ExecuteTime": {
     "end_time": "2023-12-04T08:41:19.154129Z",
     "start_time": "2023-12-04T08:41:19.144637Z"
    }
   },
   "outputs": [],
   "source": [
    "tlin = np.linspace(texp.min(), texp.max(), 200)\n",
    "xhat = solver(solution.x, t=tlin)"
   ]
  },
  {
   "cell_type": "code",
   "execution_count": null,
   "id": "b64b8ddd",
   "metadata": {
    "ExecuteTime": {
     "end_time": "2023-12-03T16:47:14.565687Z",
     "start_time": "2023-12-03T16:47:14.558004Z"
    }
   },
   "outputs": [],
   "source": []
  },
  {
   "cell_type": "code",
   "execution_count": null,
   "id": "07aa5351",
   "metadata": {
    "ExecuteTime": {
     "end_time": "2023-12-03T16:22:36.546247Z",
     "start_time": "2023-12-03T16:22:36.535265Z"
    },
    "scrolled": true
   },
   "outputs": [],
   "source": []
  },
  {
   "cell_type": "code",
   "execution_count": 12,
   "id": "333a6fa7",
   "metadata": {
    "ExecuteTime": {
     "end_time": "2023-12-04T08:41:19.430277Z",
     "start_time": "2023-12-04T08:41:19.156592Z"
    }
   },
   "outputs": [
    {
     "data": {
      "image/png": "[encoded data removed]",
      "text/plain": [
       "<Figure size 640x480 with 1 Axes>"
      ]
     },
     "metadata": {},
     "output_type": "display_data"
    }
   ],
   "source": [
    "fig, axe = plt.subplots()\n",
    "for i in range(xexp.shape[0]):\n",
    "    axe.scatter(texp, xexp[i, :])\n",
    "    axe.plot(tlin, xhat[i, :])\n",
    "axe.grid()"
   ]
  },
  {
   "cell_type": "code",
   "execution_count": null,
   "id": "fadbaedd",
   "metadata": {},
   "outputs": [],
   "source": []
  },
  {
   "cell_type": "code",
   "execution_count": null,
   "id": "725ac9e6",
   "metadata": {},
   "outputs": [],
   "source": []
  },
  {
   "cell_type": "code",
   "execution_count": null,
   "id": "e5457bbf",
   "metadata": {},
   "outputs": [],
   "source": []
  },
  {
   "cell_type": "code",
   "execution_count": null,
   "id": "12165d08",
   "metadata": {},
   "outputs": [],
   "source": []
  }
 ],
 "metadata": {
  "hide_input": false,
  "kernelspec": {
   "display_name": "Python 3",
   "language": "python",
   "name": "python3"
  },
  "language_info": {
   "codemirror_mode": {
    "name": "ipython",
    "version": 3
   },
   "file_extension": ".py",
   "mimetype": "text/x-python",
   "name": "python",
   "nbconvert_exporter": "python",
   "pygments_lexer": "ipython3",
   "version": "3.10.6"
  },
  "toc": {
   "base_numbering": 1,
   "nav_menu": {},
   "number_sections": true,
   "sideBar": true,
   "skip_h1_title": false,
   "title_cell": "Table of Contents",
   "title_sidebar": "Contents",
   "toc_cell": false,
   "toc_position": {},
   "toc_section_display": true,
   "toc_window_display": false
  },
  "varInspector": {
   "cols": {
    "lenName": 16,
    "lenType": 16,
    "lenVar": 40
   },
   "kernels_config": {
    "python": {
     "delete_cmd_postfix": "",
     "delete_cmd_prefix": "del ",
     "library": "var_list.py",
     "varRefreshCmd": "print(var_dic_list())"
    },
    "r": {
     "delete_cmd_postfix": ") ",
     "delete_cmd_prefix": "rm(",
     "library": "var_list.r",
     "varRefreshCmd": "cat(var_dic_list()) "
    }
   },
   "types_to_exclude": [
    "module",
    "function",
    "builtin_function_or_method",
    "instance",
    "_Feature"
   ],
   "window_display": false
  }
 },
 "nbformat": 4,
 "nbformat_minor": 5
}
