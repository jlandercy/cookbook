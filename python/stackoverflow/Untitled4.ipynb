{
 "cells": [
  {
   "cell_type": "markdown",
   "id": "4399d06a",
   "metadata": {},
   "source": [
    "https://stackoverflow.com/questions/73836929/not-getting-a-proper-curve-fit-for-logistic-function"
   ]
  },
  {
   "cell_type": "code",
   "execution_count": 1,
   "id": "74dfb169",
   "metadata": {
    "ExecuteTime": {
     "end_time": "2022-09-24T12:04:42.501876Z",
     "start_time": "2022-09-24T12:04:41.454449Z"
    }
   },
   "outputs": [],
   "source": [
    "import numpy as np\n",
    "from scipy.optimize import curve_fit\n",
    "import matplotlib.pyplot as plt"
   ]
  },
  {
   "cell_type": "code",
   "execution_count": 2,
   "id": "ba611a5e",
   "metadata": {
    "ExecuteTime": {
     "end_time": "2022-09-24T12:04:42.511837Z",
     "start_time": "2022-09-24T12:04:42.504882Z"
    }
   },
   "outputs": [],
   "source": [
    "distance = np.array([\n",
    "    1000, 2000, 3000, 4000,5000,6000,7000,8000,\n",
    "    9000, 11000, 12000, 13000, 14000, 15000, 16000,\n",
    "    17000, 18000, 19000, 21000, 22000, 23000, 24000, 25000, 26000,\n",
    "    27000, 28000, 29000, 30000, 31000, 32000, 33000,\n",
    "    34000, 35000\n",
    "])*0.001\n",
    "\n",
    "amplitude = np.array([\n",
    "    26, 31, 29, 26, 27, 24, 24, 28, 24, 24, 28, 31, 24, 26, 55, 30, 73,\n",
    "    101, 168, 219, 448, 833, 1280, 1397, 1181, 1311,\n",
    "    1715, 1975, 2003, 2034, 2178, 2180, 2182\n",
    "])"
   ]
  },
  {
   "cell_type": "code",
   "execution_count": null,
   "id": "2db06f31",
   "metadata": {},
   "outputs": [],
   "source": []
  },
  {
   "cell_type": "code",
   "execution_count": 3,
   "id": "10bcbd53",
   "metadata": {
    "ExecuteTime": {
     "end_time": "2022-09-24T12:04:42.518224Z",
     "start_time": "2022-09-24T12:04:42.515032Z"
    }
   },
   "outputs": [],
   "source": [
    "def cauchy(x, l, k, x1):\n",
    "    return l/(1 + np.exp(-k*(x-x1)))"
   ]
  },
  {
   "cell_type": "code",
   "execution_count": 4,
   "id": "28a2549a",
   "metadata": {
    "ExecuteTime": {
     "end_time": "2022-09-24T12:04:42.543896Z",
     "start_time": "2022-09-24T12:04:42.520747Z"
    }
   },
   "outputs": [],
   "source": [
    "popt, pcov = curve_fit(cauchy, distance, amplitude, maxfev=100, bounds=((100, 0.1, 0), (1e6, 2, 1e3)), p0=[2500, 1, 0])"
   ]
  },
  {
   "cell_type": "code",
   "execution_count": 5,
   "id": "e269d086",
   "metadata": {
    "ExecuteTime": {
     "end_time": "2022-09-24T12:04:42.552672Z",
     "start_time": "2022-09-24T12:04:42.546361Z"
    }
   },
   "outputs": [
    {
     "data": {
      "text/plain": [
       "array([2.22741416e+03, 4.06253160e-01, 2.57502178e+01])"
      ]
     },
     "execution_count": 5,
     "metadata": {},
     "output_type": "execute_result"
    }
   ],
   "source": [
    "popt"
   ]
  },
  {
   "cell_type": "code",
   "execution_count": 6,
   "id": "d0aeadcf",
   "metadata": {
    "ExecuteTime": {
     "end_time": "2022-09-24T12:04:42.559505Z",
     "start_time": "2022-09-24T12:04:42.554942Z"
    }
   },
   "outputs": [
    {
     "data": {
      "text/plain": [
       "array([[ 6.44969848e+03, -2.38406117e+00,  2.03470488e+01],\n",
       "       [-2.38406117e+00,  1.73892065e-03, -7.35023469e-03],\n",
       "       [ 2.03470488e+01, -7.35023469e-03,  1.02073483e-01]])"
      ]
     },
     "execution_count": 6,
     "metadata": {},
     "output_type": "execute_result"
    }
   ],
   "source": [
    "pcov"
   ]
  },
  {
   "cell_type": "code",
   "execution_count": 7,
   "id": "31f04a78",
   "metadata": {
    "ExecuteTime": {
     "end_time": "2022-09-24T12:04:42.753963Z",
     "start_time": "2022-09-24T12:04:42.562160Z"
    }
   },
   "outputs": [
    {
     "data": {
      "image/png": "[encoded data removed]",
      "text/plain": [
       "<Figure size 432x288 with 1 Axes>"
      ]
     },
     "metadata": {
      "needs_background": "light"
     },
     "output_type": "display_data"
    }
   ],
   "source": [
    "plt.plot(distance,amplitude, 'o')\n",
    "plt.plot(distance, cauchy(distance, *popt), 'r', label='cauchy fit')\n",
    "plt.show()"
   ]
  },
  {
   "cell_type": "code",
   "execution_count": null,
   "id": "07556954",
   "metadata": {},
   "outputs": [],
   "source": []
  },
  {
   "cell_type": "code",
   "execution_count": null,
   "id": "a6a26b8e",
   "metadata": {},
   "outputs": [],
   "source": []
  },
  {
   "cell_type": "code",
   "execution_count": null,
   "id": "81f8b116",
   "metadata": {},
   "outputs": [],
   "source": []
  }
 ],
 "metadata": {
  "hide_input": false,
  "kernelspec": {
   "display_name": "Python 3",
   "language": "python",
   "name": "python3"
  },
  "language_info": {
   "codemirror_mode": {
    "name": "ipython",
    "version": 3
   },
   "file_extension": ".py",
   "mimetype": "text/x-python",
   "name": "python",
   "nbconvert_exporter": "python",
   "pygments_lexer": "ipython3",
   "version": "3.6.9"
  },
  "toc": {
   "base_numbering": 1,
   "nav_menu": {},
   "number_sections": true,
   "sideBar": true,
   "skip_h1_title": false,
   "title_cell": "Table of Contents",
   "title_sidebar": "Contents",
   "toc_cell": false,
   "toc_position": {},
   "toc_section_display": true,
   "toc_window_display": false
  },
  "varInspector": {
   "cols": {
    "lenName": 16,
    "lenType": 16,
    "lenVar": 40
   },
   "kernels_config": {
    "python": {
     "delete_cmd_postfix": "",
     "delete_cmd_prefix": "del ",
     "library": "var_list.py",
     "varRefreshCmd": "print(var_dic_list())"
    },
    "r": {
     "delete_cmd_postfix": ") ",
     "delete_cmd_prefix": "rm(",
     "library": "var_list.r",
     "varRefreshCmd": "cat(var_dic_list()) "
    }
   },
   "types_to_exclude": [
    "module",
    "function",
    "builtin_function_or_method",
    "instance",
    "_Feature"
   ],
   "window_display": false
  }
 },
 "nbformat": 4,
 "nbformat_minor": 5
}
