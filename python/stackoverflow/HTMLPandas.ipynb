{
 "cells": [
  {
   "cell_type": "code",
   "execution_count": 13,
   "id": "77d09e6b",
   "metadata": {
    "ExecuteTime": {
     "end_time": "2024-06-14T14:59:16.225963Z",
     "start_time": "2024-06-14T14:59:16.221715Z"
    }
   },
   "outputs": [],
   "source": [
    "import io\n",
    "import pandas as pd\n",
    "import requests\n",
    "from bs4 import BeautifulSoup"
   ]
  },
  {
   "cell_type": "code",
   "execution_count": null,
   "id": "ebb02a01",
   "metadata": {},
   "outputs": [],
   "source": []
  },
  {
   "cell_type": "code",
   "execution_count": 4,
   "id": "390d838b",
   "metadata": {
    "ExecuteTime": {
     "end_time": "2024-06-14T14:56:16.267465Z",
     "start_time": "2024-06-14T14:56:16.263374Z"
    }
   },
   "outputs": [],
   "source": [
    "url = \"https://web.archive.org/web/20230908091635/https://en.wikipedia.org/wiki/List_of_largest_banks\""
   ]
  },
  {
   "cell_type": "code",
   "execution_count": 5,
   "id": "8b9302f3",
   "metadata": {
    "ExecuteTime": {
     "end_time": "2024-06-14T14:56:26.692209Z",
     "start_time": "2024-06-14T14:56:24.954356Z"
    }
   },
   "outputs": [],
   "source": [
    "response = requests.get(url)"
   ]
  },
  {
   "cell_type": "code",
   "execution_count": 6,
   "id": "e5bb9003",
   "metadata": {
    "ExecuteTime": {
     "end_time": "2024-06-14T14:56:57.962048Z",
     "start_time": "2024-06-14T14:56:57.837945Z"
    }
   },
   "outputs": [],
   "source": [
    "html = BeautifulSoup(response.text, 'html.parser')"
   ]
  },
  {
   "cell_type": "code",
   "execution_count": null,
   "id": "3c383b0d",
   "metadata": {
    "ExecuteTime": {
     "end_time": "2024-06-14T15:01:10.812798Z",
     "start_time": "2024-06-14T15:01:10.805889Z"
    }
   },
   "outputs": [],
   "source": []
  },
  {
   "cell_type": "code",
   "execution_count": 35,
   "id": "780198a8",
   "metadata": {
    "ExecuteTime": {
     "end_time": "2024-06-14T15:06:29.472206Z",
     "start_time": "2024-06-14T15:06:29.360199Z"
    }
   },
   "outputs": [
    {
     "name": "stdout",
     "output_type": "stream",
     "text": [
      "   Rank                                Bank name  Market cap (US$ billion)\n",
      "0     1                           JPMorgan Chase                    432.92\n",
      "1     2                          Bank of America                    231.52\n",
      "2     3  Industrial and Commercial Bank of China                    194.56\n",
      "3     4               Agricultural Bank of China                    160.68\n",
      "4     5                                HDFC Bank                    157.91\n",
      "5     6                              Wells Fargo                    155.87\n",
      "6     7                        HSBC Holdings PLC                    148.90\n",
      "7     8                           Morgan Stanley                    140.83\n",
      "8     9                  China Construction Bank                    139.82\n",
      "9    10                            Bank of China                    136.81\n"
     ]
    }
   ],
   "source": [
    "frame = pd.read_html(io.StringIO(str(html)))[0]\n",
    "print(frame)"
   ]
  },
  {
   "cell_type": "code",
   "execution_count": 38,
   "id": "eb78ad9c",
   "metadata": {
    "ExecuteTime": {
     "end_time": "2024-06-14T15:10:53.989874Z",
     "start_time": "2024-06-14T15:10:52.633088Z"
    }
   },
   "outputs": [
    {
     "name": "stdout",
     "output_type": "stream",
     "text": [
      "   Rank                                Bank name  Market cap (US$ billion)\n",
      "0     1                           JPMorgan Chase                    432.92\n",
      "1     2                          Bank of America                    231.52\n",
      "2     3  Industrial and Commercial Bank of China                    194.56\n",
      "3     4               Agricultural Bank of China                    160.68\n",
      "4     5                                HDFC Bank                    157.91\n",
      "5     6                              Wells Fargo                    155.87\n",
      "6     7                        HSBC Holdings PLC                    148.90\n",
      "7     8                           Morgan Stanley                    140.83\n",
      "8     9                  China Construction Bank                    139.82\n",
      "9    10                            Bank of China                    136.81\n"
     ]
    }
   ],
   "source": [
    "print(pd.read_html(url)[1])"
   ]
  },
  {
   "cell_type": "code",
   "execution_count": null,
   "id": "8325f38a",
   "metadata": {},
   "outputs": [],
   "source": []
  }
 ],
 "metadata": {
  "hide_input": false,
  "kernelspec": {
   "display_name": "Python 3",
   "language": "python",
   "name": "python3"
  },
  "language_info": {
   "codemirror_mode": {
    "name": "ipython",
    "version": 3
   },
   "file_extension": ".py",
   "mimetype": "text/x-python",
   "name": "python",
   "nbconvert_exporter": "python",
   "pygments_lexer": "ipython3",
   "version": "3.10.6"
  },
  "toc": {
   "base_numbering": 1,
   "nav_menu": {},
   "number_sections": true,
   "sideBar": true,
   "skip_h1_title": false,
   "title_cell": "Table of Contents",
   "title_sidebar": "Contents",
   "toc_cell": false,
   "toc_position": {},
   "toc_section_display": true,
   "toc_window_display": false
  },
  "varInspector": {
   "cols": {
    "lenName": 16,
    "lenType": 16,
    "lenVar": 40
   },
   "kernels_config": {
    "python": {
     "delete_cmd_postfix": "",
     "delete_cmd_prefix": "del ",
     "library": "var_list.py",
     "varRefreshCmd": "print(var_dic_list())"
    },
    "r": {
     "delete_cmd_postfix": ") ",
     "delete_cmd_prefix": "rm(",
     "library": "var_list.r",
     "varRefreshCmd": "cat(var_dic_list()) "
    }
   },
   "types_to_exclude": [
    "module",
    "function",
    "builtin_function_or_method",
    "instance",
    "_Feature"
   ],
   "window_display": false
  }
 },
 "nbformat": 4,
 "nbformat_minor": 5
}
