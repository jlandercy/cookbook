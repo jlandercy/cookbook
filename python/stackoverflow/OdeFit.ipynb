{
 "cells": [
  {
   "cell_type": "markdown",
   "id": "a6f1334e",
   "metadata": {},
   "source": [
    "https://stackoverflow.com/questions/77587951/how-to-fit-a-system-of-odes-with-interpolation"
   ]
  },
  {
   "cell_type": "code",
   "execution_count": 1,
   "id": "1431fbaa",
   "metadata": {
    "ExecuteTime": {
     "end_time": "2023-12-03T16:47:43.721358Z",
     "start_time": "2023-12-03T16:47:42.269359Z"
    }
   },
   "outputs": [],
   "source": [
    "import numpy as np\n",
    "import matplotlib.pyplot as plt\n",
    "from scipy import integrate, optimize"
   ]
  },
  {
   "cell_type": "code",
   "execution_count": null,
   "id": "1b82642e",
   "metadata": {},
   "outputs": [],
   "source": []
  },
  {
   "cell_type": "raw",
   "id": "e4b1e7dc",
   "metadata": {
    "ExecuteTime": {
     "end_time": "2023-12-03T16:28:28.184709Z",
     "start_time": "2023-12-03T16:28:28.180544Z"
    }
   },
   "source": [
    "t = np.array([0, 5, 9, 18, 28, 38])\n",
    "x = np.array([\n",
    "    [0.24, 0.71, 0.95, 0.26, 0.05, 0.22],\n",
    "    [0.2, 0.62, 0.95, 0.51, 0.13, 0.05], \n",
    "    [0.89, 0.66, 0.95, 0.49, 0.28, 0.05]\n",
    "])"
   ]
  },
  {
   "cell_type": "code",
   "execution_count": null,
   "id": "f2ea0119",
   "metadata": {
    "ExecuteTime": {
     "end_time": "2023-12-03T16:46:00.762672Z",
     "start_time": "2023-12-03T16:46:00.745945Z"
    }
   },
   "outputs": [],
   "source": []
  },
  {
   "cell_type": "code",
   "execution_count": null,
   "id": "e06c7232",
   "metadata": {
    "ExecuteTime": {
     "end_time": "2023-12-03T16:46:00.770562Z",
     "start_time": "2023-12-03T16:46:00.765607Z"
    }
   },
   "outputs": [],
   "source": []
  },
  {
   "cell_type": "code",
   "execution_count": 2,
   "id": "9edb2547",
   "metadata": {
    "ExecuteTime": {
     "end_time": "2023-12-03T16:47:43.732563Z",
     "start_time": "2023-12-03T16:47:43.727714Z"
    }
   },
   "outputs": [],
   "source": [
    "def system(t, x, k0, k1, k2, p1, p2):\n",
    "    return np.array([\n",
    "        -k0 * x[0],\n",
    "        p1 * x[0] - k1 * x[1],\n",
    "        p2 * x[1] - k2 * x[2]\n",
    "    ])"
   ]
  },
  {
   "cell_type": "code",
   "execution_count": null,
   "id": "991b9bb3",
   "metadata": {
    "ExecuteTime": {
     "end_time": "2023-12-03T16:39:53.661292Z",
     "start_time": "2023-12-03T16:39:53.640337Z"
    }
   },
   "outputs": [],
   "source": []
  },
  {
   "cell_type": "code",
   "execution_count": 3,
   "id": "8b7237a4",
   "metadata": {
    "ExecuteTime": {
     "end_time": "2023-12-03T16:47:43.740077Z",
     "start_time": "2023-12-03T16:47:43.735642Z"
    }
   },
   "outputs": [],
   "source": [
    "def solver(parameters, t=np.linspace(0, 1, 10), x0=np.ones(3)):\n",
    "    solution = integrate.solve_ivp(system, [t.min(), t.max()], x0, args=parameters, t_eval=t)\n",
    "    return solution.y"
   ]
  },
  {
   "cell_type": "code",
   "execution_count": 4,
   "id": "b3c0188c",
   "metadata": {
    "ExecuteTime": {
     "end_time": "2023-12-03T16:47:43.746371Z",
     "start_time": "2023-12-03T16:47:43.742951Z"
    }
   },
   "outputs": [],
   "source": [
    "texp = np.linspace(0, 35, 15)\n",
    "p0 = np.array([ 0.03693555,  0.38054633, -0.06252069,  1.41453107, -0.11159681])\n",
    "x0 = np.array([0.24, 0.20, 0.89])"
   ]
  },
  {
   "cell_type": "code",
   "execution_count": 5,
   "id": "77a4d41d",
   "metadata": {
    "ExecuteTime": {
     "end_time": "2023-12-03T16:47:43.754726Z",
     "start_time": "2023-12-03T16:47:43.748484Z"
    }
   },
   "outputs": [],
   "source": [
    "xexp = solver(p0, t=texp, x0=x0)"
   ]
  },
  {
   "cell_type": "code",
   "execution_count": null,
   "id": "14f519bb",
   "metadata": {
    "ExecuteTime": {
     "end_time": "2023-12-03T16:40:41.571315Z",
     "start_time": "2023-12-03T16:40:41.566387Z"
    }
   },
   "outputs": [],
   "source": []
  },
  {
   "cell_type": "code",
   "execution_count": 6,
   "id": "09131df9",
   "metadata": {
    "ExecuteTime": {
     "end_time": "2023-12-03T16:47:43.760506Z",
     "start_time": "2023-12-03T16:47:43.757152Z"
    }
   },
   "outputs": [],
   "source": [
    "def residuals_factory(t, x):\n",
    "    def wrapped(parameters):\n",
    "        return 0.5 * np.sum(np.power(x - solver(parameters, t=t, x0=x[:, 0]), 2))\n",
    "    return wrapped"
   ]
  },
  {
   "cell_type": "code",
   "execution_count": null,
   "id": "0402b366",
   "metadata": {
    "ExecuteTime": {
     "end_time": "2023-12-03T16:47:11.806728Z",
     "start_time": "2023-12-03T16:47:11.802589Z"
    }
   },
   "outputs": [],
   "source": []
  },
  {
   "cell_type": "code",
   "execution_count": 7,
   "id": "17e48224",
   "metadata": {
    "ExecuteTime": {
     "end_time": "2023-12-03T16:47:46.666226Z",
     "start_time": "2023-12-03T16:47:43.762878Z"
    }
   },
   "outputs": [],
   "source": [
    "residuals = residuals_factory(texp, xexp)\n",
    "solution = optimize.minimize(residuals, x0=[1, 1, 1, 1, 1])"
   ]
  },
  {
   "cell_type": "code",
   "execution_count": 8,
   "id": "3e566644",
   "metadata": {
    "ExecuteTime": {
     "end_time": "2023-12-03T16:47:46.698433Z",
     "start_time": "2023-12-03T16:47:46.668758Z"
    }
   },
   "outputs": [
    {
     "data": {
      "text/plain": [
       "      fun: 5.247366817507152e-09\n",
       " hess_inv: array([[ 6.03532397e-03, -8.04936083e-02, -2.32008871e-03,\n",
       "        -1.97854768e-01, -2.80108715e-03],\n",
       "       [-8.04936083e-02,  2.58074143e+00, -2.31316533e-01,\n",
       "         8.10861536e+00, -2.54455733e-01],\n",
       "       [-2.32008871e-03, -2.31316533e-01,  1.04349010e-01,\n",
       "        -8.70018627e-01,  1.24470742e-01],\n",
       "       [-1.97854768e-01,  8.10861536e+00, -8.70018627e-01,\n",
       "         2.69328260e+01, -9.15934684e-01],\n",
       "       [-2.80108715e-03, -2.54455733e-01,  1.24470742e-01,\n",
       "        -9.15934684e-01,  1.52329340e-01]])\n",
       "      jac: array([ 1.07748615e-04,  3.76131919e-05, -1.52174203e-04, -1.06723711e-05,\n",
       "        1.25500074e-04])\n",
       "  message: 'Desired error not necessarily achieved due to precision loss.'\n",
       "     nfev: 900\n",
       "      nit: 67\n",
       "     njev: 148\n",
       "   status: 2\n",
       "  success: False\n",
       "        x: array([ 0.03693634,  0.38060469, -0.06255412,  1.41474641, -0.11163762])"
      ]
     },
     "execution_count": 8,
     "metadata": {},
     "output_type": "execute_result"
    }
   ],
   "source": [
    "solution"
   ]
  },
  {
   "cell_type": "code",
   "execution_count": 9,
   "id": "0b327eb6",
   "metadata": {
    "ExecuteTime": {
     "end_time": "2023-12-03T16:47:46.711565Z",
     "start_time": "2023-12-03T16:47:46.702863Z"
    }
   },
   "outputs": [
    {
     "data": {
      "text/plain": [
       "array([ 0.03693555,  0.38054633, -0.06252069,  1.41453107, -0.11159681])"
      ]
     },
     "execution_count": 9,
     "metadata": {},
     "output_type": "execute_result"
    }
   ],
   "source": [
    "p0"
   ]
  },
  {
   "cell_type": "code",
   "execution_count": null,
   "id": "4717b6cd",
   "metadata": {},
   "outputs": [],
   "source": []
  },
  {
   "cell_type": "code",
   "execution_count": 10,
   "id": "3e5a6112",
   "metadata": {
    "ExecuteTime": {
     "end_time": "2023-12-03T16:47:46.727205Z",
     "start_time": "2023-12-03T16:47:46.719093Z"
    }
   },
   "outputs": [],
   "source": [
    "tlin = np.linspace(texp.min(), texp.max(), 200)\n",
    "xhat = solver(solution.x, t=tlin, x0=x0)"
   ]
  },
  {
   "cell_type": "code",
   "execution_count": null,
   "id": "c9bca0b4",
   "metadata": {
    "ExecuteTime": {
     "end_time": "2023-12-03T16:47:14.565687Z",
     "start_time": "2023-12-03T16:47:14.558004Z"
    }
   },
   "outputs": [],
   "source": []
  },
  {
   "cell_type": "code",
   "execution_count": null,
   "id": "7fcbdb04",
   "metadata": {
    "ExecuteTime": {
     "end_time": "2023-12-03T16:22:36.546247Z",
     "start_time": "2023-12-03T16:22:36.535265Z"
    },
    "scrolled": true
   },
   "outputs": [],
   "source": []
  },
  {
   "cell_type": "code",
   "execution_count": 11,
   "id": "d90e1410",
   "metadata": {
    "ExecuteTime": {
     "end_time": "2023-12-03T16:47:47.128899Z",
     "start_time": "2023-12-03T16:47:46.730098Z"
    }
   },
   "outputs": [
    {
     "data": {
      "image/png": "[encoded data removed]",
      "text/plain": [
       "<Figure size 640x480 with 1 Axes>"
      ]
     },
     "metadata": {},
     "output_type": "display_data"
    }
   ],
   "source": [
    "fig, axe = plt.subplots()\n",
    "for i in range(xexp.shape[0]):\n",
    "    axe.scatter(texp, xexp[i, :])\n",
    "    axe.plot(tlin, xhat[i, :])\n",
    "axe.grid()"
   ]
  },
  {
   "cell_type": "code",
   "execution_count": null,
   "id": "6fed7912",
   "metadata": {},
   "outputs": [],
   "source": []
  },
  {
   "cell_type": "code",
   "execution_count": null,
   "id": "14d72d9e",
   "metadata": {},
   "outputs": [],
   "source": []
  },
  {
   "cell_type": "code",
   "execution_count": null,
   "id": "4b24eeae",
   "metadata": {},
   "outputs": [],
   "source": []
  },
  {
   "cell_type": "code",
   "execution_count": null,
   "id": "6b329278",
   "metadata": {},
   "outputs": [],
   "source": []
  }
 ],
 "metadata": {
  "hide_input": false,
  "kernelspec": {
   "display_name": "Python 3",
   "language": "python",
   "name": "python3"
  },
  "language_info": {
   "codemirror_mode": {
    "name": "ipython",
    "version": 3
   },
   "file_extension": ".py",
   "mimetype": "text/x-python",
   "name": "python",
   "nbconvert_exporter": "python",
   "pygments_lexer": "ipython3",
   "version": "3.10.6"
  },
  "toc": {
   "base_numbering": 1,
   "nav_menu": {},
   "number_sections": true,
   "sideBar": true,
   "skip_h1_title": false,
   "title_cell": "Table of Contents",
   "title_sidebar": "Contents",
   "toc_cell": false,
   "toc_position": {},
   "toc_section_display": true,
   "toc_window_display": false
  },
  "varInspector": {
   "cols": {
    "lenName": 16,
    "lenType": 16,
    "lenVar": 40
   },
   "kernels_config": {
    "python": {
     "delete_cmd_postfix": "",
     "delete_cmd_prefix": "del ",
     "library": "var_list.py",
     "varRefreshCmd": "print(var_dic_list())"
    },
    "r": {
     "delete_cmd_postfix": ") ",
     "delete_cmd_prefix": "rm(",
     "library": "var_list.r",
     "varRefreshCmd": "cat(var_dic_list()) "
    }
   },
   "types_to_exclude": [
    "module",
    "function",
    "builtin_function_or_method",
    "instance",
    "_Feature"
   ],
   "window_display": false
  }
 },
 "nbformat": 4,
 "nbformat_minor": 5
}
