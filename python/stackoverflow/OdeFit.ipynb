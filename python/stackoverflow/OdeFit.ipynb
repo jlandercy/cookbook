{
 "cells": [
  {
   "cell_type": "markdown",
   "id": "d66ed6ee",
   "metadata": {},
   "source": [
    "https://stackoverflow.com/questions/77587951/how-to-fit-a-system-of-odes-with-interpolation"
   ]
  },
  {
   "cell_type": "code",
   "execution_count": 1,
   "id": "b944284e",
   "metadata": {
    "ExecuteTime": {
     "end_time": "2023-12-04T08:28:43.639771Z",
     "start_time": "2023-12-04T08:28:42.164699Z"
    }
   },
   "outputs": [],
   "source": [
    "import numpy as np\n",
    "import matplotlib.pyplot as plt\n",
    "from scipy import integrate, optimize"
   ]
  },
  {
   "cell_type": "code",
   "execution_count": null,
   "id": "d95d8399",
   "metadata": {
    "ExecuteTime": {
     "end_time": "2023-12-03T16:46:00.762672Z",
     "start_time": "2023-12-03T16:46:00.745945Z"
    }
   },
   "outputs": [],
   "source": []
  },
  {
   "cell_type": "code",
   "execution_count": null,
   "id": "5a3698e3",
   "metadata": {
    "ExecuteTime": {
     "end_time": "2023-12-03T16:46:00.770562Z",
     "start_time": "2023-12-03T16:46:00.765607Z"
    }
   },
   "outputs": [],
   "source": []
  },
  {
   "cell_type": "code",
   "execution_count": 2,
   "id": "add06644",
   "metadata": {
    "ExecuteTime": {
     "end_time": "2023-12-04T08:28:43.649413Z",
     "start_time": "2023-12-04T08:28:43.643501Z"
    }
   },
   "outputs": [],
   "source": [
    "def system(t, x, k0, k1, k2, p1, p2):\n",
    "    return np.array([\n",
    "        -k0 * x[0],\n",
    "        p1 * x[0] - k1 * x[1],\n",
    "        p2 * x[1] - k2 * x[2]\n",
    "    ])"
   ]
  },
  {
   "cell_type": "code",
   "execution_count": null,
   "id": "1eaa6299",
   "metadata": {
    "ExecuteTime": {
     "end_time": "2023-12-03T16:39:53.661292Z",
     "start_time": "2023-12-03T16:39:53.640337Z"
    }
   },
   "outputs": [],
   "source": []
  },
  {
   "cell_type": "code",
   "execution_count": 3,
   "id": "7c9d8d2f",
   "metadata": {
    "ExecuteTime": {
     "end_time": "2023-12-04T08:28:43.657697Z",
     "start_time": "2023-12-04T08:28:43.653489Z"
    }
   },
   "outputs": [],
   "source": [
    "def solver(parameters, t=np.linspace(0, 1, 10), x0=np.ones(3)):\n",
    "    solution = integrate.solve_ivp(system, [t.min(), t.max()], x0, args=parameters, t_eval=t)\n",
    "    return solution.y"
   ]
  },
  {
   "cell_type": "code",
   "execution_count": 4,
   "id": "df7ede20",
   "metadata": {
    "ExecuteTime": {
     "end_time": "2023-12-04T08:28:43.665033Z",
     "start_time": "2023-12-04T08:28:43.660825Z"
    }
   },
   "outputs": [],
   "source": [
    "texp = np.linspace(0, 35, 15)\n",
    "#p0 = np.array([ 0.03693555,  0.38054633, -0.06252069,  1.41453107, -0.11159681])\n",
    "p0 = np.array([ 1, 1, 1, 1, 1])\n",
    "\n",
    "x0 = np.array([1., 1., 1.])"
   ]
  },
  {
   "cell_type": "code",
   "execution_count": 5,
   "id": "693a732e",
   "metadata": {
    "ExecuteTime": {
     "end_time": "2023-12-04T08:28:43.680886Z",
     "start_time": "2023-12-04T08:28:43.667334Z"
    }
   },
   "outputs": [],
   "source": [
    "xexp = solver(p0, t=texp, x0=x0)"
   ]
  },
  {
   "cell_type": "code",
   "execution_count": null,
   "id": "9cc71774",
   "metadata": {
    "ExecuteTime": {
     "end_time": "2023-12-03T16:40:41.571315Z",
     "start_time": "2023-12-03T16:40:41.566387Z"
    }
   },
   "outputs": [],
   "source": []
  },
  {
   "cell_type": "code",
   "execution_count": 6,
   "id": "dc13a18a",
   "metadata": {
    "ExecuteTime": {
     "end_time": "2023-12-04T08:28:43.687599Z",
     "start_time": "2023-12-04T08:28:43.683405Z"
    }
   },
   "outputs": [],
   "source": [
    "def residuals_factory(t, x):\n",
    "    def wrapped(parameters):\n",
    "        return 0.5 * np.sum(np.power(x - solver(parameters, t=t, x0=x[:, 0]), 2))\n",
    "    return wrapped"
   ]
  },
  {
   "cell_type": "code",
   "execution_count": null,
   "id": "835173fe",
   "metadata": {
    "ExecuteTime": {
     "end_time": "2023-12-03T16:47:11.806728Z",
     "start_time": "2023-12-03T16:47:11.802589Z"
    }
   },
   "outputs": [],
   "source": []
  },
  {
   "cell_type": "raw",
   "id": "defc3d5d",
   "metadata": {
    "ExecuteTime": {
     "end_time": "2023-12-04T08:19:32.101451Z",
     "start_time": "2023-12-04T08:19:32.088007Z"
    }
   },
   "source": [
    "texp = np.array([0, 5, 9, 18, 28, 38])\n",
    "xexp = np.array([\n",
    "    [0.24, 0.71, 0.95, 0.26, 0.05, 0.22],\n",
    "    [0.2, 0.62, 0.95, 0.51, 0.13, 0.05], \n",
    "    [0.89, 0.66, 0.95, 0.49, 0.28, 0.05]\n",
    "])"
   ]
  },
  {
   "cell_type": "code",
   "execution_count": null,
   "id": "d30e948b",
   "metadata": {},
   "outputs": [],
   "source": []
  },
  {
   "cell_type": "code",
   "execution_count": 7,
   "id": "1dc474d2",
   "metadata": {
    "ExecuteTime": {
     "end_time": "2023-12-04T08:28:43.733408Z",
     "start_time": "2023-12-04T08:28:43.689601Z"
    }
   },
   "outputs": [],
   "source": [
    "residuals = residuals_factory(texp, xexp)\n",
    "solution = optimize.minimize(\n",
    "    residuals, x0=[1, 1, 1, 1, 1],\n",
    "    bounds=[(0, np.inf), (0, np.inf), (0, np.inf), (0, np.inf), (0, np.inf)]\n",
    ")"
   ]
  },
  {
   "cell_type": "code",
   "execution_count": 8,
   "id": "57a073f6",
   "metadata": {
    "ExecuteTime": {
     "end_time": "2023-12-04T08:28:43.748388Z",
     "start_time": "2023-12-04T08:28:43.735650Z"
    }
   },
   "outputs": [
    {
     "data": {
      "text/plain": [
       "      fun: 0.0\n",
       " hess_inv: <5x5 LbfgsInvHessProduct with dtype=float64>\n",
       "      jac: array([9.16935649e-10, 2.51138896e-09, 2.63350102e-09, 5.82291302e-10,\n",
       "       1.13747477e-09])\n",
       "  message: 'CONVERGENCE: NORM_OF_PROJECTED_GRADIENT_<=_PGTOL'\n",
       "     nfev: 6\n",
       "      nit: 0\n",
       "     njev: 1\n",
       "   status: 0\n",
       "  success: True\n",
       "        x: array([1., 1., 1., 1., 1.])"
      ]
     },
     "execution_count": 8,
     "metadata": {},
     "output_type": "execute_result"
    }
   ],
   "source": [
    "solution"
   ]
  },
  {
   "cell_type": "code",
   "execution_count": 9,
   "id": "fd6f52db",
   "metadata": {
    "ExecuteTime": {
     "end_time": "2023-12-04T08:28:43.755103Z",
     "start_time": "2023-12-04T08:28:43.750659Z"
    }
   },
   "outputs": [
    {
     "data": {
      "text/plain": [
       "array([1, 1, 1, 1, 1])"
      ]
     },
     "execution_count": 9,
     "metadata": {},
     "output_type": "execute_result"
    }
   ],
   "source": [
    "p0"
   ]
  },
  {
   "cell_type": "code",
   "execution_count": null,
   "id": "63b735ba",
   "metadata": {},
   "outputs": [],
   "source": []
  },
  {
   "cell_type": "code",
   "execution_count": 10,
   "id": "bd1bdc34",
   "metadata": {
    "ExecuteTime": {
     "end_time": "2023-12-04T08:28:43.771335Z",
     "start_time": "2023-12-04T08:28:43.759716Z"
    }
   },
   "outputs": [],
   "source": [
    "tlin = np.linspace(texp.min(), texp.max(), 200)\n",
    "xhat = solver(solution.x, t=tlin, x0=xexp[:, 0])"
   ]
  },
  {
   "cell_type": "code",
   "execution_count": null,
   "id": "b64b8ddd",
   "metadata": {
    "ExecuteTime": {
     "end_time": "2023-12-03T16:47:14.565687Z",
     "start_time": "2023-12-03T16:47:14.558004Z"
    }
   },
   "outputs": [],
   "source": []
  },
  {
   "cell_type": "code",
   "execution_count": null,
   "id": "07aa5351",
   "metadata": {
    "ExecuteTime": {
     "end_time": "2023-12-03T16:22:36.546247Z",
     "start_time": "2023-12-03T16:22:36.535265Z"
    },
    "scrolled": true
   },
   "outputs": [],
   "source": []
  },
  {
   "cell_type": "code",
   "execution_count": 11,
   "id": "333a6fa7",
   "metadata": {
    "ExecuteTime": {
     "end_time": "2023-12-04T08:28:44.125745Z",
     "start_time": "2023-12-04T08:28:43.773660Z"
    }
   },
   "outputs": [
    {
     "data": {
      "image/png": "[encoded data removed]",
      "text/plain": [
       "<Figure size 640x480 with 1 Axes>"
      ]
     },
     "metadata": {},
     "output_type": "display_data"
    }
   ],
   "source": [
    "fig, axe = plt.subplots()\n",
    "for i in range(xexp.shape[0]):\n",
    "    axe.scatter(texp, xexp[i, :])\n",
    "    axe.plot(tlin, xhat[i, :])\n",
    "axe.grid()"
   ]
  },
  {
   "cell_type": "code",
   "execution_count": null,
   "id": "fadbaedd",
   "metadata": {},
   "outputs": [],
   "source": []
  },
  {
   "cell_type": "code",
   "execution_count": null,
   "id": "725ac9e6",
   "metadata": {},
   "outputs": [],
   "source": []
  },
  {
   "cell_type": "code",
   "execution_count": null,
   "id": "e5457bbf",
   "metadata": {},
   "outputs": [],
   "source": []
  },
  {
   "cell_type": "code",
   "execution_count": null,
   "id": "12165d08",
   "metadata": {},
   "outputs": [],
   "source": []
  }
 ],
 "metadata": {
  "hide_input": false,
  "kernelspec": {
   "display_name": "Python 3",
   "language": "python",
   "name": "python3"
  },
  "language_info": {
   "codemirror_mode": {
    "name": "ipython",
    "version": 3
   },
   "file_extension": ".py",
   "mimetype": "text/x-python",
   "name": "python",
   "nbconvert_exporter": "python",
   "pygments_lexer": "ipython3",
   "version": "3.10.6"
  },
  "toc": {
   "base_numbering": 1,
   "nav_menu": {},
   "number_sections": true,
   "sideBar": true,
   "skip_h1_title": false,
   "title_cell": "Table of Contents",
   "title_sidebar": "Contents",
   "toc_cell": false,
   "toc_position": {},
   "toc_section_display": true,
   "toc_window_display": false
  },
  "varInspector": {
   "cols": {
    "lenName": 16,
    "lenType": 16,
    "lenVar": 40
   },
   "kernels_config": {
    "python": {
     "delete_cmd_postfix": "",
     "delete_cmd_prefix": "del ",
     "library": "var_list.py",
     "varRefreshCmd": "print(var_dic_list())"
    },
    "r": {
     "delete_cmd_postfix": ") ",
     "delete_cmd_prefix": "rm(",
     "library": "var_list.r",
     "varRefreshCmd": "cat(var_dic_list()) "
    }
   },
   "types_to_exclude": [
    "module",
    "function",
    "builtin_function_or_method",
    "instance",
    "_Feature"
   ],
   "window_display": false
  }
 },
 "nbformat": 4,
 "nbformat_minor": 5
}
