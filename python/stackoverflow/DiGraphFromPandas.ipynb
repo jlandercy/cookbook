{
 "cells": [
  {
   "cell_type": "code",
   "execution_count": 1,
   "metadata": {
    "ExecuteTime": {
     "end_time": "2020-10-10T13:05:42.838620Z",
     "start_time": "2020-10-10T13:05:40.964321Z"
    }
   },
   "outputs": [],
   "source": [
    "import io\n",
    "import re\n",
    "import pandas as pd\n",
    "import networkx as nx"
   ]
  },
  {
   "cell_type": "markdown",
   "metadata": {},
   "source": [
    "https://stackoverflow.com/questions/63793230/how-to-create-a-directed-graph"
   ]
  },
  {
   "cell_type": "code",
   "execution_count": 2,
   "metadata": {
    "ExecuteTime": {
     "end_time": "2020-10-10T13:05:42.885670Z",
     "start_time": "2020-10-10T13:05:42.858227Z"
    }
   },
   "outputs": [],
   "source": [
    "s = \"\"\"index    ID  Link_to Label   Date    Size\n",
    "0   mary    NaN 0       2020-01-23 1\n",
    "1   Julie Mirk  1       2020-02-27 12\n",
    "1   Julie Mark  1       2020-02-27 12\n",
    "1   Julie Sarah 1       2020-02-27 12\n",
    "1   Sarah Julie 1       2020-02-27 12\n",
    "1   Chris Mirk  1       2020-01-26 12\n",
    "50  Mirk    Chris   0   2020-04-29 4\n",
    "51  Mark    NaN 0       2020-04-29 3\n",
    "52  Greg    NaN 0       2020-04-27 2\n",
    "53  Luke    Matt    0       2020-04-08 1\n",
    "54  Sarah   James   0       2020-04-01 1\"\"\"\n",
    "df = pd.read_csv(io.StringIO(re.sub(\"[ ]+\", \",\", s)), parse_dates=['Date'])\n",
    "df = df.dropna().drop([\"index\", \"Label\", \"Size\"], axis=1)"
   ]
  },
  {
   "cell_type": "code",
   "execution_count": 3,
   "metadata": {
    "ExecuteTime": {
     "end_time": "2020-10-10T13:05:42.912919Z",
     "start_time": "2020-10-10T13:05:42.893786Z"
    }
   },
   "outputs": [
    {
     "data": {
      "text/plain": [
       "ID                 object\n",
       "Link_to            object\n",
       "Date       datetime64[ns]\n",
       "dtype: object"
      ]
     },
     "execution_count": 3,
     "metadata": {},
     "output_type": "execute_result"
    }
   ],
   "source": [
    "df.dtypes"
   ]
  },
  {
   "cell_type": "code",
   "execution_count": 4,
   "metadata": {
    "ExecuteTime": {
     "end_time": "2020-10-10T13:05:42.937136Z",
     "start_time": "2020-10-10T13:05:42.920837Z"
    }
   },
   "outputs": [
    {
     "name": "stdout",
     "output_type": "stream",
     "text": [
      "       ID Link_to       Date\n",
      "1   Julie    Mirk 2020-02-27\n",
      "2   Julie    Mark 2020-02-27\n",
      "3   Julie   Sarah 2020-02-27\n",
      "4   Sarah   Julie 2020-02-27\n",
      "5   Chris    Mirk 2020-01-26\n",
      "6    Mirk   Chris 2020-04-29\n",
      "9    Luke    Matt 2020-04-08\n",
      "10  Sarah   James 2020-04-01\n"
     ]
    }
   ],
   "source": [
    "print(df)"
   ]
  },
  {
   "cell_type": "code",
   "execution_count": 5,
   "metadata": {
    "ExecuteTime": {
     "end_time": "2020-10-10T13:05:42.971492Z",
     "start_time": "2020-10-10T13:05:42.943444Z"
    }
   },
   "outputs": [
    {
     "data": {
      "text/html": [
       "<div>\n",
       "<style scoped>\n",
       "    .dataframe tbody tr th:only-of-type {\n",
       "        vertical-align: middle;\n",
       "    }\n",
       "\n",
       "    .dataframe tbody tr th {\n",
       "        vertical-align: top;\n",
       "    }\n",
       "\n",
       "    .dataframe thead th {\n",
       "        text-align: right;\n",
       "    }\n",
       "</style>\n",
       "<table border=\"1\" class=\"dataframe\">\n",
       "  <thead>\n",
       "    <tr style=\"text-align: right;\">\n",
       "      <th></th>\n",
       "      <th>ID</th>\n",
       "      <th>Link_to</th>\n",
       "      <th>Date</th>\n",
       "      <th>ID_r</th>\n",
       "      <th>Link_to_r</th>\n",
       "      <th>Date_r</th>\n",
       "    </tr>\n",
       "  </thead>\n",
       "  <tbody>\n",
       "    <tr>\n",
       "      <th>0</th>\n",
       "      <td>Julie</td>\n",
       "      <td>Mirk</td>\n",
       "      <td>2020-02-27</td>\n",
       "      <td>NaN</td>\n",
       "      <td>NaN</td>\n",
       "      <td>2020-02-27</td>\n",
       "    </tr>\n",
       "    <tr>\n",
       "      <th>1</th>\n",
       "      <td>Julie</td>\n",
       "      <td>Mark</td>\n",
       "      <td>2020-02-27</td>\n",
       "      <td>NaN</td>\n",
       "      <td>NaN</td>\n",
       "      <td>2020-02-27</td>\n",
       "    </tr>\n",
       "    <tr>\n",
       "      <th>2</th>\n",
       "      <td>Julie</td>\n",
       "      <td>Sarah</td>\n",
       "      <td>2020-02-27</td>\n",
       "      <td>Sarah</td>\n",
       "      <td>Julie</td>\n",
       "      <td>2020-02-27</td>\n",
       "    </tr>\n",
       "    <tr>\n",
       "      <th>3</th>\n",
       "      <td>Sarah</td>\n",
       "      <td>Julie</td>\n",
       "      <td>2020-02-27</td>\n",
       "      <td>Julie</td>\n",
       "      <td>Sarah</td>\n",
       "      <td>2020-02-27</td>\n",
       "    </tr>\n",
       "    <tr>\n",
       "      <th>4</th>\n",
       "      <td>Chris</td>\n",
       "      <td>Mirk</td>\n",
       "      <td>2020-01-26</td>\n",
       "      <td>Mirk</td>\n",
       "      <td>Chris</td>\n",
       "      <td>2020-04-29</td>\n",
       "    </tr>\n",
       "    <tr>\n",
       "      <th>5</th>\n",
       "      <td>Mirk</td>\n",
       "      <td>Chris</td>\n",
       "      <td>2020-04-29</td>\n",
       "      <td>Chris</td>\n",
       "      <td>Mirk</td>\n",
       "      <td>2020-01-26</td>\n",
       "    </tr>\n",
       "    <tr>\n",
       "      <th>6</th>\n",
       "      <td>Luke</td>\n",
       "      <td>Matt</td>\n",
       "      <td>2020-04-08</td>\n",
       "      <td>NaN</td>\n",
       "      <td>NaN</td>\n",
       "      <td>2020-04-08</td>\n",
       "    </tr>\n",
       "    <tr>\n",
       "      <th>7</th>\n",
       "      <td>Sarah</td>\n",
       "      <td>James</td>\n",
       "      <td>2020-04-01</td>\n",
       "      <td>NaN</td>\n",
       "      <td>NaN</td>\n",
       "      <td>2020-04-01</td>\n",
       "    </tr>\n",
       "  </tbody>\n",
       "</table>\n",
       "</div>"
      ],
      "text/plain": [
       "      ID Link_to       Date   ID_r Link_to_r     Date_r\n",
       "0  Julie    Mirk 2020-02-27    NaN       NaN 2020-02-27\n",
       "1  Julie    Mark 2020-02-27    NaN       NaN 2020-02-27\n",
       "2  Julie   Sarah 2020-02-27  Sarah     Julie 2020-02-27\n",
       "3  Sarah   Julie 2020-02-27  Julie     Sarah 2020-02-27\n",
       "4  Chris    Mirk 2020-01-26   Mirk     Chris 2020-04-29\n",
       "5   Mirk   Chris 2020-04-29  Chris      Mirk 2020-01-26\n",
       "6   Luke    Matt 2020-04-08    NaN       NaN 2020-04-08\n",
       "7  Sarah   James 2020-04-01    NaN       NaN 2020-04-01"
      ]
     },
     "execution_count": 5,
     "metadata": {},
     "output_type": "execute_result"
    }
   ],
   "source": [
    "c = df.merge(df, how='left', left_on=['ID', 'Link_to'], right_on=['Link_to', 'ID'], suffixes=('', '_r'))\n",
    "c['Date_r'] = c['Date_r'].fillna(c['Date'])\n",
    "c"
   ]
  },
  {
   "cell_type": "code",
   "execution_count": 6,
   "metadata": {
    "ExecuteTime": {
     "end_time": "2020-10-10T13:05:42.992128Z",
     "start_time": "2020-10-10T13:05:42.977587Z"
    }
   },
   "outputs": [
    {
     "name": "stdout",
     "output_type": "stream",
     "text": [
      "      ID Link_to       Date   ID_r Link_to_r     Date_r   keep\n",
      "0  Julie    Mirk 2020-02-27    NaN       NaN 2020-02-27   True\n",
      "1  Julie    Mark 2020-02-27    NaN       NaN 2020-02-27   True\n",
      "2  Julie   Sarah 2020-02-27  Sarah     Julie 2020-02-27   True\n",
      "3  Sarah   Julie 2020-02-27  Julie     Sarah 2020-02-27   True\n",
      "4  Chris    Mirk 2020-01-26   Mirk     Chris 2020-04-29   True\n",
      "5   Mirk   Chris 2020-04-29  Chris      Mirk 2020-01-26  False\n",
      "6   Luke    Matt 2020-04-08    NaN       NaN 2020-04-08   True\n",
      "7  Sarah   James 2020-04-01    NaN       NaN 2020-04-01   True\n"
     ]
    }
   ],
   "source": [
    "c['keep'] = c['Date'] <= c['Date_r']\n",
    "print(c)"
   ]
  },
  {
   "cell_type": "code",
   "execution_count": 7,
   "metadata": {
    "ExecuteTime": {
     "end_time": "2020-10-10T13:05:43.020060Z",
     "start_time": "2020-10-10T13:05:42.998292Z"
    }
   },
   "outputs": [
    {
     "data": {
      "text/html": [
       "<div>\n",
       "<style scoped>\n",
       "    .dataframe tbody tr th:only-of-type {\n",
       "        vertical-align: middle;\n",
       "    }\n",
       "\n",
       "    .dataframe tbody tr th {\n",
       "        vertical-align: top;\n",
       "    }\n",
       "\n",
       "    .dataframe thead th {\n",
       "        text-align: right;\n",
       "    }\n",
       "</style>\n",
       "<table border=\"1\" class=\"dataframe\">\n",
       "  <thead>\n",
       "    <tr style=\"text-align: right;\">\n",
       "      <th></th>\n",
       "      <th>ID</th>\n",
       "      <th>Link_to</th>\n",
       "      <th>Date</th>\n",
       "      <th>ID_r</th>\n",
       "      <th>Link_to_r</th>\n",
       "      <th>Date_r</th>\n",
       "      <th>keep</th>\n",
       "    </tr>\n",
       "  </thead>\n",
       "  <tbody>\n",
       "    <tr>\n",
       "      <th>0</th>\n",
       "      <td>Julie</td>\n",
       "      <td>Mirk</td>\n",
       "      <td>2020-02-27</td>\n",
       "      <td>NaN</td>\n",
       "      <td>NaN</td>\n",
       "      <td>2020-02-27</td>\n",
       "      <td>True</td>\n",
       "    </tr>\n",
       "    <tr>\n",
       "      <th>1</th>\n",
       "      <td>Julie</td>\n",
       "      <td>Mark</td>\n",
       "      <td>2020-02-27</td>\n",
       "      <td>NaN</td>\n",
       "      <td>NaN</td>\n",
       "      <td>2020-02-27</td>\n",
       "      <td>True</td>\n",
       "    </tr>\n",
       "    <tr>\n",
       "      <th>2</th>\n",
       "      <td>Julie</td>\n",
       "      <td>Sarah</td>\n",
       "      <td>2020-02-27</td>\n",
       "      <td>Sarah</td>\n",
       "      <td>Julie</td>\n",
       "      <td>2020-02-27</td>\n",
       "      <td>True</td>\n",
       "    </tr>\n",
       "    <tr>\n",
       "      <th>3</th>\n",
       "      <td>Sarah</td>\n",
       "      <td>Julie</td>\n",
       "      <td>2020-02-27</td>\n",
       "      <td>Julie</td>\n",
       "      <td>Sarah</td>\n",
       "      <td>2020-02-27</td>\n",
       "      <td>True</td>\n",
       "    </tr>\n",
       "    <tr>\n",
       "      <th>4</th>\n",
       "      <td>Chris</td>\n",
       "      <td>Mirk</td>\n",
       "      <td>2020-01-26</td>\n",
       "      <td>Mirk</td>\n",
       "      <td>Chris</td>\n",
       "      <td>2020-04-29</td>\n",
       "      <td>True</td>\n",
       "    </tr>\n",
       "    <tr>\n",
       "      <th>6</th>\n",
       "      <td>Luke</td>\n",
       "      <td>Matt</td>\n",
       "      <td>2020-04-08</td>\n",
       "      <td>NaN</td>\n",
       "      <td>NaN</td>\n",
       "      <td>2020-04-08</td>\n",
       "      <td>True</td>\n",
       "    </tr>\n",
       "    <tr>\n",
       "      <th>7</th>\n",
       "      <td>Sarah</td>\n",
       "      <td>James</td>\n",
       "      <td>2020-04-01</td>\n",
       "      <td>NaN</td>\n",
       "      <td>NaN</td>\n",
       "      <td>2020-04-01</td>\n",
       "      <td>True</td>\n",
       "    </tr>\n",
       "  </tbody>\n",
       "</table>\n",
       "</div>"
      ],
      "text/plain": [
       "      ID Link_to       Date   ID_r Link_to_r     Date_r  keep\n",
       "0  Julie    Mirk 2020-02-27    NaN       NaN 2020-02-27  True\n",
       "1  Julie    Mark 2020-02-27    NaN       NaN 2020-02-27  True\n",
       "2  Julie   Sarah 2020-02-27  Sarah     Julie 2020-02-27  True\n",
       "3  Sarah   Julie 2020-02-27  Julie     Sarah 2020-02-27  True\n",
       "4  Chris    Mirk 2020-01-26   Mirk     Chris 2020-04-29  True\n",
       "6   Luke    Matt 2020-04-08    NaN       NaN 2020-04-08  True\n",
       "7  Sarah   James 2020-04-01    NaN       NaN 2020-04-01  True"
      ]
     },
     "execution_count": 7,
     "metadata": {},
     "output_type": "execute_result"
    }
   ],
   "source": [
    "c = c.loc[c['keep'], :]\n",
    "c"
   ]
  },
  {
   "cell_type": "code",
   "execution_count": 9,
   "metadata": {
    "ExecuteTime": {
     "end_time": "2020-10-10T13:05:50.929867Z",
     "start_time": "2020-10-10T13:05:50.148104Z"
    }
   },
   "outputs": [
    {
     "data": {
      "image/png": "[encoded data removed]",
      "text/plain": [
       "<Figure size 432x288 with 1 Axes>"
      ]
     },
     "metadata": {},
     "output_type": "display_data"
    }
   ],
   "source": [
    "G = nx.from_pandas_edgelist(c, 'ID', 'Link_to', create_using=nx.DiGraph)\n",
    "nx.draw_networkx(G)"
   ]
  },
  {
   "cell_type": "code",
   "execution_count": null,
   "metadata": {},
   "outputs": [],
   "source": []
  }
 ],
 "metadata": {
  "hide_input": false,
  "kernelspec": {
   "display_name": "Python 3",
   "language": "python",
   "name": "python3"
  },
  "language_info": {
   "codemirror_mode": {
    "name": "ipython",
    "version": 3
   },
   "file_extension": ".py",
   "mimetype": "text/x-python",
   "name": "python",
   "nbconvert_exporter": "python",
   "pygments_lexer": "ipython3",
   "version": "3.6.9"
  },
  "toc": {
   "base_numbering": 1,
   "nav_menu": {},
   "number_sections": true,
   "sideBar": true,
   "skip_h1_title": false,
   "title_cell": "Table of Contents",
   "title_sidebar": "Contents",
   "toc_cell": false,
   "toc_position": {},
   "toc_section_display": true,
   "toc_window_display": false
  },
  "varInspector": {
   "cols": {
    "lenName": 16,
    "lenType": 16,
    "lenVar": 40
   },
   "kernels_config": {
    "python": {
     "delete_cmd_postfix": "",
     "delete_cmd_prefix": "del ",
     "library": "var_list.py",
     "varRefreshCmd": "print(var_dic_list())"
    },
    "r": {
     "delete_cmd_postfix": ") ",
     "delete_cmd_prefix": "rm(",
     "library": "var_list.r",
     "varRefreshCmd": "cat(var_dic_list()) "
    }
   },
   "types_to_exclude": [
    "module",
    "function",
    "builtin_function_or_method",
    "instance",
    "_Feature"
   ],
   "window_display": false
  }
 },
 "nbformat": 4,
 "nbformat_minor": 4
}
