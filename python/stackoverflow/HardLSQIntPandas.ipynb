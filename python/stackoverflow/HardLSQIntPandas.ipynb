{
 "cells": [
  {
   "cell_type": "code",
   "execution_count": 1,
   "id": "df1abcee",
   "metadata": {
    "ExecuteTime": {
     "end_time": "2024-08-05T07:52:03.596862Z",
     "start_time": "2024-08-05T07:52:01.687526Z"
    }
   },
   "outputs": [],
   "source": [
    "import io\n",
    "import numpy as np\n",
    "import pandas as pd\n",
    "from scipy import integrate, stats, optimize"
   ]
  },
  {
   "cell_type": "markdown",
   "id": "4e8e2917",
   "metadata": {},
   "source": [
    "https://stackoverflow.com/questions/78831434/new-column-in-pandas-dataframe-using-least-squares-from-scipy-optimize"
   ]
  },
  {
   "cell_type": "code",
   "execution_count": 2,
   "id": "38bc3bd0",
   "metadata": {
    "ExecuteTime": {
     "end_time": "2024-08-05T07:52:03.621291Z",
     "start_time": "2024-08-05T07:52:03.603530Z"
    }
   },
   "outputs": [],
   "source": [
    "data = pd.read_fwf(io.StringIO(\"\"\"Race_ID   Date           Student_ID      feature1  \n",
    "1         1/1/2023       3               0.02167131     \n",
    "1         1/1/2023       4               0.17349148     \n",
    "1         1/1/2023       6               0.08438952     \n",
    "1         1/1/2023       8               0.04143787     \n",
    "1         1/1/2023       9               0.02589056\n",
    "1         1/1/2023       1               0.03866752     \n",
    "1         1/1/2023       10              0.0461553     \n",
    "1         1/1/2023       45              0.09212758\n",
    "1         1/1/2023       23              0.10879326      \n",
    "1         1/1/2023       102             0.186921      \n",
    "1         1/1/2023       75              0.02990676      \n",
    "1         1/1/2023       27              0.02731904      \n",
    "1         1/1/2023       15              0.06020158      \n",
    "1         1/1/2023       29              0.06302721                         \n",
    "3         17/4/2022      5               0.2     \n",
    "3         17/4/2022      2               0.1     \n",
    "3         17/4/2022      3               0.55     \n",
    "3         17/4/2022      4               0.15   \"\"\"))"
   ]
  },
  {
   "cell_type": "code",
   "execution_count": null,
   "id": "66a0763d",
   "metadata": {},
   "outputs": [],
   "source": []
  },
  {
   "cell_type": "code",
   "execution_count": 3,
   "id": "91b08516",
   "metadata": {
    "ExecuteTime": {
     "end_time": "2024-08-05T07:52:03.628541Z",
     "start_time": "2024-08-05T07:52:03.624311Z"
    }
   },
   "outputs": [],
   "source": [
    "def integrand(x, ti, *theta):\n",
    "    product = 1.\n",
    "    for t in theta:\n",
    "        product = product * (1 - stats.norm.cdf(x - t))\n",
    "    return product * stats.norm.pdf(x - ti)\n",
    "\n",
    "def integral(ti, *theta):\n",
    "    return integrate.quad(integrand, -np.inf, np.inf, args=(ti, *theta))[0]"
   ]
  },
  {
   "cell_type": "code",
   "execution_count": null,
   "id": "fee82e78",
   "metadata": {},
   "outputs": [],
   "source": []
  },
  {
   "cell_type": "code",
   "execution_count": 4,
   "id": "67924c91",
   "metadata": {
    "ExecuteTime": {
     "end_time": "2024-08-05T07:52:03.635416Z",
     "start_time": "2024-08-05T07:52:03.631872Z"
    }
   },
   "outputs": [],
   "source": [
    "def change_order(parameters, i):\n",
    "    return [parameters[i]] + parameters[0:i] + parameters[i+1:]"
   ]
  },
  {
   "cell_type": "code",
   "execution_count": null,
   "id": "62b2925a",
   "metadata": {
    "ExecuteTime": {
     "end_time": "2024-08-05T07:49:47.235656Z",
     "start_time": "2024-08-05T07:49:47.212559Z"
    }
   },
   "outputs": [],
   "source": []
  },
  {
   "cell_type": "code",
   "execution_count": 5,
   "id": "ab9652cf",
   "metadata": {
    "ExecuteTime": {
     "end_time": "2024-08-05T07:52:03.645055Z",
     "start_time": "2024-08-05T07:52:03.640232Z"
    }
   },
   "outputs": [],
   "source": [
    "def system(parameters, t):\n",
    "    parameters = parameters.tolist()\n",
    "    values = np.full(len(t), np.nan)\n",
    "    for i in range(len(parameters)):\n",
    "        parameters = change_order(parameters, i)\n",
    "        values[i] = integral(*parameters) - t[i]\n",
    "    return values"
   ]
  },
  {
   "cell_type": "code",
   "execution_count": null,
   "id": "6c304627",
   "metadata": {},
   "outputs": [],
   "source": []
  },
  {
   "cell_type": "code",
   "execution_count": 6,
   "id": "d31379d7",
   "metadata": {
    "ExecuteTime": {
     "end_time": "2024-08-05T07:52:03.655330Z",
     "start_time": "2024-08-05T07:52:03.648160Z"
    }
   },
   "outputs": [],
   "source": [
    "def solver(x):\n",
    "    t = x[\"feature1\"].values\n",
    "    u = np.ones_like(t)\n",
    "    solution = optimize.least_squares(system, u, bounds=[-2*u, 2*u], args=(t,))\n",
    "    return solution.x"
   ]
  },
  {
   "cell_type": "code",
   "execution_count": null,
   "id": "c838790e",
   "metadata": {},
   "outputs": [],
   "source": []
  },
  {
   "cell_type": "code",
   "execution_count": null,
   "id": "daed5ecd",
   "metadata": {
    "ExecuteTime": {
     "end_time": "2024-08-05T07:40:57.999800Z",
     "start_time": "2024-08-05T07:40:39.225686Z"
    }
   },
   "outputs": [],
   "source": []
  },
  {
   "cell_type": "code",
   "execution_count": null,
   "id": "0c1b02bb",
   "metadata": {
    "ExecuteTime": {
     "end_time": "2024-08-05T07:41:01.339540Z",
     "start_time": "2024-08-05T07:41:01.321511Z"
    }
   },
   "outputs": [],
   "source": []
  },
  {
   "cell_type": "code",
   "execution_count": null,
   "id": "a557eb17",
   "metadata": {},
   "outputs": [],
   "source": []
  },
  {
   "cell_type": "code",
   "execution_count": null,
   "id": "10504094",
   "metadata": {},
   "outputs": [],
   "source": []
  },
  {
   "cell_type": "code",
   "execution_count": 7,
   "id": "1f3172ce",
   "metadata": {
    "ExecuteTime": {
     "end_time": "2024-08-05T08:01:56.811762Z",
     "start_time": "2024-08-05T07:52:03.658046Z"
    }
   },
   "outputs": [],
   "source": [
    "data[\"new_column\"] = data.groupby(\"Race_ID\").apply(solver, include_groups=False).explode().values"
   ]
  },
  {
   "cell_type": "code",
   "execution_count": 9,
   "id": "4f0788a3",
   "metadata": {
    "ExecuteTime": {
     "end_time": "2024-08-05T08:02:38.965638Z",
     "start_time": "2024-08-05T08:02:38.956531Z"
    }
   },
   "outputs": [
    {
     "name": "stdout",
     "output_type": "stream",
     "text": [
      "    Race_ID       Date  Student_ID  feature1 new_column\n",
      "0         1   1/1/2023           3  0.021671   1.383615\n",
      "1         1   1/1/2023           4  0.173491    0.25823\n",
      "2         1   1/1/2023           6  0.084390   0.695116\n",
      "3         1   1/1/2023           8  0.041438   1.073675\n",
      "4         1   1/1/2023           9  0.025891   1.301445\n",
      "5         1   1/1/2023           1  0.038668   1.108209\n",
      "6         1   1/1/2023          10  0.046155   1.019114\n",
      "7         1   1/1/2023          45  0.092128   0.645103\n",
      "8         1   1/1/2023          23  0.108793   0.548053\n",
      "9         1   1/1/2023         102  0.186921   0.209302\n",
      "10        1   1/1/2023          75  0.029907    1.23329\n",
      "11        1   1/1/2023          27  0.027319   1.276228\n",
      "12        1   1/1/2023          15  0.060202   0.880537\n",
      "13        1   1/1/2023          29  0.063027   0.855987\n",
      "14        3  17/4/2022           5  0.200000   0.920987\n",
      "15        3  17/4/2022           2  0.100000   1.376155\n",
      "16        3  17/4/2022           3  0.550000   0.122939\n",
      "17        3  17/4/2022           4  0.150000   1.117358\n"
     ]
    }
   ],
   "source": [
    "print(data)"
   ]
  },
  {
   "cell_type": "code",
   "execution_count": null,
   "id": "2f831212",
   "metadata": {
    "ExecuteTime": {
     "end_time": "2024-08-05T07:12:56.172169Z",
     "start_time": "2024-08-05T07:12:56.161918Z"
    }
   },
   "outputs": [],
   "source": []
  },
  {
   "cell_type": "code",
   "execution_count": null,
   "id": "edb6bce2",
   "metadata": {
    "ExecuteTime": {
     "end_time": "2024-08-05T07:12:58.535137Z",
     "start_time": "2024-08-05T07:12:58.529978Z"
    }
   },
   "outputs": [],
   "source": []
  },
  {
   "cell_type": "code",
   "execution_count": null,
   "id": "5f62ba80",
   "metadata": {
    "ExecuteTime": {
     "end_time": "2024-08-05T07:13:31.112363Z",
     "start_time": "2024-08-05T07:12:59.525563Z"
    }
   },
   "outputs": [],
   "source": []
  },
  {
   "cell_type": "code",
   "execution_count": null,
   "id": "d48619ce",
   "metadata": {},
   "outputs": [],
   "source": []
  },
  {
   "cell_type": "code",
   "execution_count": null,
   "id": "d1de00f7",
   "metadata": {},
   "outputs": [],
   "source": []
  },
  {
   "cell_type": "code",
   "execution_count": null,
   "id": "e2356724",
   "metadata": {},
   "outputs": [],
   "source": []
  }
 ],
 "metadata": {
  "hide_input": false,
  "kernelspec": {
   "display_name": "Python 3",
   "language": "python",
   "name": "python3"
  },
  "language_info": {
   "codemirror_mode": {
    "name": "ipython",
    "version": 3
   },
   "file_extension": ".py",
   "mimetype": "text/x-python",
   "name": "python",
   "nbconvert_exporter": "python",
   "pygments_lexer": "ipython3",
   "version": "3.10.6"
  },
  "toc": {
   "base_numbering": 1,
   "nav_menu": {},
   "number_sections": true,
   "sideBar": true,
   "skip_h1_title": false,
   "title_cell": "Table of Contents",
   "title_sidebar": "Contents",
   "toc_cell": false,
   "toc_position": {},
   "toc_section_display": true,
   "toc_window_display": false
  },
  "varInspector": {
   "cols": {
    "lenName": 16,
    "lenType": 16,
    "lenVar": 40
   },
   "kernels_config": {
    "python": {
     "delete_cmd_postfix": "",
     "delete_cmd_prefix": "del ",
     "library": "var_list.py",
     "varRefreshCmd": "print(var_dic_list())"
    },
    "r": {
     "delete_cmd_postfix": ") ",
     "delete_cmd_prefix": "rm(",
     "library": "var_list.r",
     "varRefreshCmd": "cat(var_dic_list()) "
    }
   },
   "types_to_exclude": [
    "module",
    "function",
    "builtin_function_or_method",
    "instance",
    "_Feature"
   ],
   "window_display": false
  }
 },
 "nbformat": 4,
 "nbformat_minor": 5
}
