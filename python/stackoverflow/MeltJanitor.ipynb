{
 "cells": [
  {
   "cell_type": "markdown",
   "id": "f34517c8",
   "metadata": {},
   "source": [
    "https://stackoverflow.com/questions/73882573/how-to-melt-a-dataframe-based-on-a-pattern-of-the-column-name/73882757#73882757"
   ]
  },
  {
   "cell_type": "code",
   "execution_count": 1,
   "id": "6d9de000",
   "metadata": {
    "ExecuteTime": {
     "end_time": "2022-09-28T20:29:32.514982Z",
     "start_time": "2022-09-28T20:29:31.863865Z"
    }
   },
   "outputs": [
    {
     "data": {
      "text/html": [
       "<div>\n",
       "<style scoped>\n",
       "    .dataframe tbody tr th:only-of-type {\n",
       "        vertical-align: middle;\n",
       "    }\n",
       "\n",
       "    .dataframe tbody tr th {\n",
       "        vertical-align: top;\n",
       "    }\n",
       "\n",
       "    .dataframe thead th {\n",
       "        text-align: right;\n",
       "    }\n",
       "</style>\n",
       "<table border=\"1\" class=\"dataframe\">\n",
       "  <thead>\n",
       "    <tr style=\"text-align: right;\">\n",
       "      <th></th>\n",
       "      <th>Year</th>\n",
       "      <th>Baseline_low</th>\n",
       "      <th>Baseline_high</th>\n",
       "      <th>Overall_low</th>\n",
       "      <th>Overall_high</th>\n",
       "    </tr>\n",
       "  </thead>\n",
       "  <tbody>\n",
       "    <tr>\n",
       "      <th>0</th>\n",
       "      <td>2022</td>\n",
       "      <td>1</td>\n",
       "      <td>2</td>\n",
       "      <td>3</td>\n",
       "      <td>4</td>\n",
       "    </tr>\n",
       "    <tr>\n",
       "      <th>1</th>\n",
       "      <td>2023</td>\n",
       "      <td>5</td>\n",
       "      <td>6</td>\n",
       "      <td>7</td>\n",
       "      <td>8</td>\n",
       "    </tr>\n",
       "  </tbody>\n",
       "</table>\n",
       "</div>"
      ],
      "text/plain": [
       "   Year  Baseline_low  Baseline_high  Overall_low  Overall_high\n",
       "0  2022             1              2            3             4\n",
       "1  2023             5              6            7             8"
      ]
     },
     "execution_count": 1,
     "metadata": {},
     "output_type": "execute_result"
    }
   ],
   "source": [
    "import io\n",
    "import pandas as pd\n",
    "\n",
    "df = pd.read_csv(io.StringIO(\"\"\"Year | Baseline_low | Baseline_high | Overall_low | Overall_high  \n",
    "2022 |            1 |             2 |           3 |            4\n",
    "2023 |            5 |             6 |           7 |            8\"\"\"), sep=\"|\")\n",
    "df.columns = [column.strip() for column in df.columns]\n",
    "\n",
    "df"
   ]
  },
  {
   "cell_type": "code",
   "execution_count": 4,
   "id": "e408c586",
   "metadata": {
    "ExecuteTime": {
     "end_time": "2022-09-28T20:30:08.419357Z",
     "start_time": "2022-09-28T20:30:08.407441Z"
    }
   },
   "outputs": [],
   "source": [
    "final = df.melt(id_vars=[\"Year\"])\n",
    "final[[\"Type\", \"State\"]] = final[\"variable\"].str.split(\"_\", expand=True)"
   ]
  },
  {
   "cell_type": "code",
   "execution_count": 5,
   "id": "1dce20b5",
   "metadata": {
    "ExecuteTime": {
     "end_time": "2022-09-28T20:30:09.026725Z",
     "start_time": "2022-09-28T20:30:09.012935Z"
    }
   },
   "outputs": [
    {
     "data": {
      "text/html": [
       "<div>\n",
       "<style scoped>\n",
       "    .dataframe tbody tr th:only-of-type {\n",
       "        vertical-align: middle;\n",
       "    }\n",
       "\n",
       "    .dataframe tbody tr th {\n",
       "        vertical-align: top;\n",
       "    }\n",
       "\n",
       "    .dataframe thead th {\n",
       "        text-align: right;\n",
       "    }\n",
       "</style>\n",
       "<table border=\"1\" class=\"dataframe\">\n",
       "  <thead>\n",
       "    <tr style=\"text-align: right;\">\n",
       "      <th></th>\n",
       "      <th>Year</th>\n",
       "      <th>variable</th>\n",
       "      <th>value</th>\n",
       "      <th>Type</th>\n",
       "      <th>State</th>\n",
       "    </tr>\n",
       "  </thead>\n",
       "  <tbody>\n",
       "    <tr>\n",
       "      <th>0</th>\n",
       "      <td>2022</td>\n",
       "      <td>Baseline_low</td>\n",
       "      <td>1</td>\n",
       "      <td>Baseline</td>\n",
       "      <td>low</td>\n",
       "    </tr>\n",
       "    <tr>\n",
       "      <th>1</th>\n",
       "      <td>2023</td>\n",
       "      <td>Baseline_low</td>\n",
       "      <td>5</td>\n",
       "      <td>Baseline</td>\n",
       "      <td>low</td>\n",
       "    </tr>\n",
       "    <tr>\n",
       "      <th>2</th>\n",
       "      <td>2022</td>\n",
       "      <td>Baseline_high</td>\n",
       "      <td>2</td>\n",
       "      <td>Baseline</td>\n",
       "      <td>high</td>\n",
       "    </tr>\n",
       "    <tr>\n",
       "      <th>3</th>\n",
       "      <td>2023</td>\n",
       "      <td>Baseline_high</td>\n",
       "      <td>6</td>\n",
       "      <td>Baseline</td>\n",
       "      <td>high</td>\n",
       "    </tr>\n",
       "    <tr>\n",
       "      <th>4</th>\n",
       "      <td>2022</td>\n",
       "      <td>Overall_low</td>\n",
       "      <td>3</td>\n",
       "      <td>Overall</td>\n",
       "      <td>low</td>\n",
       "    </tr>\n",
       "    <tr>\n",
       "      <th>5</th>\n",
       "      <td>2023</td>\n",
       "      <td>Overall_low</td>\n",
       "      <td>7</td>\n",
       "      <td>Overall</td>\n",
       "      <td>low</td>\n",
       "    </tr>\n",
       "    <tr>\n",
       "      <th>6</th>\n",
       "      <td>2022</td>\n",
       "      <td>Overall_high</td>\n",
       "      <td>4</td>\n",
       "      <td>Overall</td>\n",
       "      <td>high</td>\n",
       "    </tr>\n",
       "    <tr>\n",
       "      <th>7</th>\n",
       "      <td>2023</td>\n",
       "      <td>Overall_high</td>\n",
       "      <td>8</td>\n",
       "      <td>Overall</td>\n",
       "      <td>high</td>\n",
       "    </tr>\n",
       "  </tbody>\n",
       "</table>\n",
       "</div>"
      ],
      "text/plain": [
       "   Year       variable  value      Type State\n",
       "0  2022   Baseline_low      1  Baseline   low\n",
       "1  2023   Baseline_low      5  Baseline   low\n",
       "2  2022  Baseline_high      2  Baseline  high\n",
       "3  2023  Baseline_high      6  Baseline  high\n",
       "4  2022    Overall_low      3   Overall   low\n",
       "5  2023    Overall_low      7   Overall   low\n",
       "6  2022   Overall_high      4   Overall  high\n",
       "7  2023   Overall_high      8   Overall  high"
      ]
     },
     "execution_count": 5,
     "metadata": {},
     "output_type": "execute_result"
    }
   ],
   "source": [
    "final"
   ]
  },
  {
   "cell_type": "code",
   "execution_count": null,
   "id": "8b0dcfa6",
   "metadata": {},
   "outputs": [],
   "source": []
  }
 ],
 "metadata": {
  "hide_input": false,
  "kernelspec": {
   "display_name": "Python 3",
   "language": "python",
   "name": "python3"
  },
  "language_info": {
   "codemirror_mode": {
    "name": "ipython",
    "version": 3
   },
   "file_extension": ".py",
   "mimetype": "text/x-python",
   "name": "python",
   "nbconvert_exporter": "python",
   "pygments_lexer": "ipython3",
   "version": "3.10.6"
  },
  "toc": {
   "base_numbering": 1,
   "nav_menu": {},
   "number_sections": true,
   "sideBar": true,
   "skip_h1_title": false,
   "title_cell": "Table of Contents",
   "title_sidebar": "Contents",
   "toc_cell": false,
   "toc_position": {},
   "toc_section_display": true,
   "toc_window_display": false
  },
  "varInspector": {
   "cols": {
    "lenName": 16,
    "lenType": 16,
    "lenVar": 40
   },
   "kernels_config": {
    "python": {
     "delete_cmd_postfix": "",
     "delete_cmd_prefix": "del ",
     "library": "var_list.py",
     "varRefreshCmd": "print(var_dic_list())"
    },
    "r": {
     "delete_cmd_postfix": ") ",
     "delete_cmd_prefix": "rm(",
     "library": "var_list.r",
     "varRefreshCmd": "cat(var_dic_list()) "
    }
   },
   "types_to_exclude": [
    "module",
    "function",
    "builtin_function_or_method",
    "instance",
    "_Feature"
   ],
   "window_display": false
  }
 },
 "nbformat": 4,
 "nbformat_minor": 5
}
