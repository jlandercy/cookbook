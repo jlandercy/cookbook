{
 "cells": [
  {
   "cell_type": "markdown",
   "id": "94feec5a",
   "metadata": {},
   "source": [
    "https://stackoverflow.com/questions/79071108/fit-a-3d-gaussian-using-sliced-2d-gaussian-distributions"
   ]
  },
  {
   "cell_type": "code",
   "execution_count": null,
   "id": "986a8cde",
   "metadata": {},
   "outputs": [],
   "source": []
  },
  {
   "cell_type": "code",
   "execution_count": 1,
   "id": "7450727b",
   "metadata": {
    "ExecuteTime": {
     "end_time": "2024-10-09T17:53:28.748423Z",
     "start_time": "2024-10-09T17:53:27.285855Z"
    }
   },
   "outputs": [],
   "source": [
    "import numpy as np\n",
    "from scipy import stats, linalg"
   ]
  },
  {
   "cell_type": "code",
   "execution_count": 2,
   "id": "fe62e8be",
   "metadata": {
    "ExecuteTime": {
     "end_time": "2024-10-09T17:53:28.759859Z",
     "start_time": "2024-10-09T17:53:28.754272Z"
    }
   },
   "outputs": [],
   "source": [
    "mu = np.array([1., 2., 3.])\n",
    "sigma = np.array([\n",
    "    [3., 0.5, -0.3],\n",
    "    [0.5, 2., 0.8],\n",
    "    [-0.3, 0.8, 1.]\n",
    "])"
   ]
  },
  {
   "cell_type": "code",
   "execution_count": 3,
   "id": "4b8e46a2",
   "metadata": {
    "ExecuteTime": {
     "end_time": "2024-10-09T17:53:28.778070Z",
     "start_time": "2024-10-09T17:53:28.763662Z"
    }
   },
   "outputs": [],
   "source": [
    "law = stats.multivariate_normal(mean=mu, cov=sigma)"
   ]
  },
  {
   "cell_type": "code",
   "execution_count": 4,
   "id": "56197933",
   "metadata": {
    "ExecuteTime": {
     "end_time": "2024-10-09T17:53:28.806838Z",
     "start_time": "2024-10-09T17:53:28.783584Z"
    }
   },
   "outputs": [],
   "source": [
    "data = law.rvs(30_000)"
   ]
  },
  {
   "cell_type": "code",
   "execution_count": 5,
   "id": "741389a3",
   "metadata": {
    "ExecuteTime": {
     "end_time": "2024-10-09T17:53:28.828283Z",
     "start_time": "2024-10-09T17:53:28.810396Z"
    }
   },
   "outputs": [
    {
     "data": {
      "text/plain": [
       "(array([0.97837063, 1.99128015, 2.99077697]),\n",
       " array([[ 2.99414584,  0.5167368 , -0.28805028],\n",
       "        [ 0.5167368 ,  2.02233671,  0.81191272],\n",
       "        [-0.28805028,  0.81191272,  1.01141398]]))"
      ]
     },
     "execution_count": 5,
     "metadata": {},
     "output_type": "execute_result"
    }
   ],
   "source": [
    "stats.multivariate_normal.fit(data)"
   ]
  },
  {
   "cell_type": "code",
   "execution_count": null,
   "id": "87dcc0c3",
   "metadata": {},
   "outputs": [],
   "source": []
  },
  {
   "cell_type": "code",
   "execution_count": 13,
   "id": "6d39ee6a",
   "metadata": {
    "ExecuteTime": {
     "end_time": "2024-10-09T17:55:15.317276Z",
     "start_time": "2024-10-09T17:55:15.094593Z"
    }
   },
   "outputs": [],
   "source": [
    "xm = data.mean(axis=0)"
   ]
  },
  {
   "cell_type": "code",
   "execution_count": 14,
   "id": "bfd33d25",
   "metadata": {
    "ExecuteTime": {
     "end_time": "2024-10-09T17:55:23.676772Z",
     "start_time": "2024-10-09T17:55:23.660168Z"
    }
   },
   "outputs": [],
   "source": [
    "z = data - xm"
   ]
  },
  {
   "cell_type": "code",
   "execution_count": 15,
   "id": "219afe67",
   "metadata": {
    "ExecuteTime": {
     "end_time": "2024-10-09T17:55:34.649137Z",
     "start_time": "2024-10-09T17:55:34.636842Z"
    }
   },
   "outputs": [],
   "source": [
    "C = z.T @ z"
   ]
  },
  {
   "cell_type": "code",
   "execution_count": 17,
   "id": "42c1c323",
   "metadata": {
    "ExecuteTime": {
     "end_time": "2024-10-09T17:55:46.621001Z",
     "start_time": "2024-10-09T17:55:46.610439Z"
    }
   },
   "outputs": [
    {
     "data": {
      "text/plain": [
       "array([[ 2.99414584,  0.5167368 , -0.28805028],\n",
       "       [ 0.5167368 ,  2.02233671,  0.81191272],\n",
       "       [-0.28805028,  0.81191272,  1.01141398]])"
      ]
     },
     "execution_count": 17,
     "metadata": {},
     "output_type": "execute_result"
    }
   ],
   "source": [
    "C / 30_000"
   ]
  },
  {
   "cell_type": "code",
   "execution_count": null,
   "id": "e2976fa9",
   "metadata": {},
   "outputs": [],
   "source": []
  }
 ],
 "metadata": {
  "hide_input": false,
  "kernelspec": {
   "display_name": "Python 3",
   "language": "python",
   "name": "python3"
  },
  "language_info": {
   "codemirror_mode": {
    "name": "ipython",
    "version": 3
   },
   "file_extension": ".py",
   "mimetype": "text/x-python",
   "name": "python",
   "nbconvert_exporter": "python",
   "pygments_lexer": "ipython3",
   "version": "3.10.6"
  },
  "toc": {
   "base_numbering": 1,
   "nav_menu": {},
   "number_sections": true,
   "sideBar": true,
   "skip_h1_title": false,
   "title_cell": "Table of Contents",
   "title_sidebar": "Contents",
   "toc_cell": false,
   "toc_position": {},
   "toc_section_display": true,
   "toc_window_display": false
  },
  "varInspector": {
   "cols": {
    "lenName": 16,
    "lenType": 16,
    "lenVar": 40
   },
   "kernels_config": {
    "python": {
     "delete_cmd_postfix": "",
     "delete_cmd_prefix": "del ",
     "library": "var_list.py",
     "varRefreshCmd": "print(var_dic_list())"
    },
    "r": {
     "delete_cmd_postfix": ") ",
     "delete_cmd_prefix": "rm(",
     "library": "var_list.r",
     "varRefreshCmd": "cat(var_dic_list()) "
    }
   },
   "types_to_exclude": [
    "module",
    "function",
    "builtin_function_or_method",
    "instance",
    "_Feature"
   ],
   "window_display": false
  }
 },
 "nbformat": 4,
 "nbformat_minor": 5
}
