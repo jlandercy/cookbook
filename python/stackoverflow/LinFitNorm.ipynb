{
 "cells": [
  {
   "cell_type": "markdown",
   "id": "6e8d3638",
   "metadata": {},
   "source": [
    "https://stackoverflow.com/questions/73814378/scipy-curve-fit-incorrect-for-large-x-values"
   ]
  },
  {
   "cell_type": "code",
   "execution_count": 1,
   "id": "4a4e34f4",
   "metadata": {
    "ExecuteTime": {
     "end_time": "2022-09-22T15:30:12.543985Z",
     "start_time": "2022-09-22T15:30:11.987427Z"
    }
   },
   "outputs": [],
   "source": [
    "import numpy as np\n",
    "import scipy.optimize\n",
    "\n",
    "y = np.arange(5)\n",
    "x = 1e9 + y"
   ]
  },
  {
   "cell_type": "code",
   "execution_count": 2,
   "id": "8603fa9d",
   "metadata": {
    "ExecuteTime": {
     "end_time": "2022-09-22T15:30:12.571424Z",
     "start_time": "2022-09-22T15:30:12.550261Z"
    }
   },
   "outputs": [
    {
     "name": "stderr",
     "output_type": "stream",
     "text": [
      "/usr/local/lib/python3.6/dist-packages/scipy/optimize/minpack.py:829: OptimizeWarning: Covariance of the parameters could not be estimated\n",
      "  category=OptimizeWarning)\n"
     ]
    },
    {
     "data": {
      "text/plain": [
       "(array([-4.53788811e+08,  4.53788812e-01]),\n",
       " array([[inf, inf],\n",
       "        [inf, inf]]))"
      ]
     },
     "execution_count": 2,
     "metadata": {},
     "output_type": "execute_result"
    }
   ],
   "source": [
    "def fit_func(x, a, b):\n",
    "    return a + b * x\n",
    "\n",
    "\n",
    "result = scipy.optimize.curve_fit(fit_func, x, y, p0=[-x[0], 0.0])\n",
    "result"
   ]
  },
  {
   "cell_type": "code",
   "execution_count": 3,
   "id": "8ce30196",
   "metadata": {
    "ExecuteTime": {
     "end_time": "2022-09-22T15:30:12.579245Z",
     "start_time": "2022-09-22T15:30:12.574610Z"
    }
   },
   "outputs": [
    {
     "data": {
      "text/plain": [
       "array([1., 1., 1., 1., 1.])"
      ]
     },
     "execution_count": 3,
     "metadata": {},
     "output_type": "execute_result"
    }
   ],
   "source": [
    "x/1e9"
   ]
  },
  {
   "cell_type": "code",
   "execution_count": null,
   "id": "b95b5f77",
   "metadata": {},
   "outputs": [],
   "source": []
  },
  {
   "cell_type": "code",
   "execution_count": 4,
   "id": "57debeab",
   "metadata": {
    "ExecuteTime": {
     "end_time": "2022-09-22T15:30:12.586138Z",
     "start_time": "2022-09-22T15:30:12.582088Z"
    }
   },
   "outputs": [],
   "source": [
    "xm = np.mean(x)\n",
    "xs = np.std(x)"
   ]
  },
  {
   "cell_type": "code",
   "execution_count": 5,
   "id": "98adef34",
   "metadata": {
    "ExecuteTime": {
     "end_time": "2022-09-22T15:30:12.592980Z",
     "start_time": "2022-09-22T15:30:12.588758Z"
    }
   },
   "outputs": [
    {
     "data": {
      "text/plain": [
       "1000000002.0"
      ]
     },
     "execution_count": 5,
     "metadata": {},
     "output_type": "execute_result"
    }
   ],
   "source": [
    "xm"
   ]
  },
  {
   "cell_type": "code",
   "execution_count": 6,
   "id": "c58dd771",
   "metadata": {
    "ExecuteTime": {
     "end_time": "2022-09-22T15:30:12.599611Z",
     "start_time": "2022-09-22T15:30:12.595472Z"
    }
   },
   "outputs": [
    {
     "data": {
      "text/plain": [
       "1.4142135623730951"
      ]
     },
     "execution_count": 6,
     "metadata": {},
     "output_type": "execute_result"
    }
   ],
   "source": [
    "xs"
   ]
  },
  {
   "cell_type": "code",
   "execution_count": 7,
   "id": "dbedd696",
   "metadata": {
    "ExecuteTime": {
     "end_time": "2022-09-22T15:30:12.612869Z",
     "start_time": "2022-09-22T15:30:12.601780Z"
    }
   },
   "outputs": [
    {
     "data": {
      "text/plain": [
       "(array([2.        , 1.41421356]),\n",
       " array([[0., 0.],\n",
       "        [0., 0.]]))"
      ]
     },
     "execution_count": 7,
     "metadata": {},
     "output_type": "execute_result"
    }
   ],
   "source": [
    "result = scipy.optimize.curve_fit(fit_func, (x - xm)/xs, y)\n",
    "result"
   ]
  },
  {
   "cell_type": "code",
   "execution_count": null,
   "id": "4b1de7cf",
   "metadata": {},
   "outputs": [],
   "source": []
  },
  {
   "cell_type": "code",
   "execution_count": null,
   "id": "59e99c08",
   "metadata": {},
   "outputs": [],
   "source": []
  },
  {
   "cell_type": "code",
   "execution_count": null,
   "id": "d40b78b5",
   "metadata": {},
   "outputs": [],
   "source": []
  },
  {
   "cell_type": "code",
   "execution_count": 8,
   "id": "b8193f72",
   "metadata": {
    "ExecuteTime": {
     "end_time": "2022-09-22T15:30:12.628193Z",
     "start_time": "2022-09-22T15:30:12.618199Z"
    }
   },
   "outputs": [
    {
     "data": {
      "text/plain": [
       "(array([7.14978086e-24, 1.00000000e+00]),\n",
       " array([[ 1.19293406e-23, -0.00000000e+00],\n",
       "        [ 0.00000000e+00,  3.97644687e-25]]))"
      ]
     },
     "execution_count": 8,
     "metadata": {},
     "output_type": "execute_result"
    }
   ],
   "source": [
    "scipy.optimize.curve_fit(fit_func, x-1e9, y, p0=[-x[0], 0.0])"
   ]
  },
  {
   "cell_type": "code",
   "execution_count": 9,
   "id": "0e34c2ed",
   "metadata": {
    "ExecuteTime": {
     "end_time": "2022-09-22T15:30:13.061796Z",
     "start_time": "2022-09-22T15:30:12.632249Z"
    }
   },
   "outputs": [],
   "source": [
    "from sklearn.pipeline import Pipeline\n",
    "from sklearn.preprocessing import StandardScaler, MinMaxScaler\n",
    "from sklearn.linear_model import LinearRegression"
   ]
  },
  {
   "cell_type": "code",
   "execution_count": 10,
   "id": "4980c523",
   "metadata": {
    "ExecuteTime": {
     "end_time": "2022-09-22T15:30:13.067625Z",
     "start_time": "2022-09-22T15:30:13.064177Z"
    }
   },
   "outputs": [],
   "source": [
    "pipe = Pipeline([\n",
    "    (\"scaler\", StandardScaler()),\n",
    "    (\"regressor\", LinearRegression())\n",
    "])"
   ]
  },
  {
   "cell_type": "code",
   "execution_count": 11,
   "id": "fb32787c",
   "metadata": {
    "ExecuteTime": {
     "end_time": "2022-09-22T15:30:13.082282Z",
     "start_time": "2022-09-22T15:30:13.069800Z"
    }
   },
   "outputs": [
    {
     "data": {
      "text/plain": [
       "Pipeline(steps=[('scaler', StandardScaler()),\n",
       "                ('regressor', LinearRegression())])"
      ]
     },
     "execution_count": 11,
     "metadata": {},
     "output_type": "execute_result"
    }
   ],
   "source": [
    "pipe.fit(x.reshape(-1, 1), y)"
   ]
  },
  {
   "cell_type": "code",
   "execution_count": 12,
   "id": "bd2ee791",
   "metadata": {
    "ExecuteTime": {
     "end_time": "2022-09-22T15:30:13.088602Z",
     "start_time": "2022-09-22T15:30:13.084469Z"
    }
   },
   "outputs": [
    {
     "data": {
      "text/plain": [
       "array([1.41421356])"
      ]
     },
     "execution_count": 12,
     "metadata": {},
     "output_type": "execute_result"
    }
   ],
   "source": [
    "pipe.named_steps[\"regressor\"].coef_"
   ]
  },
  {
   "cell_type": "code",
   "execution_count": 13,
   "id": "aa2ed819",
   "metadata": {
    "ExecuteTime": {
     "end_time": "2022-09-22T15:30:13.094908Z",
     "start_time": "2022-09-22T15:30:13.090993Z"
    }
   },
   "outputs": [
    {
     "data": {
      "text/plain": [
       "2.0"
      ]
     },
     "execution_count": 13,
     "metadata": {},
     "output_type": "execute_result"
    }
   ],
   "source": [
    "pipe.named_steps[\"regressor\"].coef_\n",
    "pipe.named_steps[\"regressor\"].intercept_"
   ]
  },
  {
   "cell_type": "code",
   "execution_count": 14,
   "id": "3a33d6e0",
   "metadata": {
    "ExecuteTime": {
     "end_time": "2022-09-22T15:30:13.101139Z",
     "start_time": "2022-09-22T15:30:13.096916Z"
    }
   },
   "outputs": [
    {
     "data": {
      "text/plain": [
       "array([1.e+09])"
      ]
     },
     "execution_count": 14,
     "metadata": {},
     "output_type": "execute_result"
    }
   ],
   "source": [
    "pipe.named_steps[\"scaler\"].mean_"
   ]
  },
  {
   "cell_type": "code",
   "execution_count": 15,
   "id": "28cd90f2",
   "metadata": {
    "ExecuteTime": {
     "end_time": "2022-09-22T15:30:13.107098Z",
     "start_time": "2022-09-22T15:30:13.103110Z"
    }
   },
   "outputs": [
    {
     "data": {
      "text/plain": [
       "array([1.41421356])"
      ]
     },
     "execution_count": 15,
     "metadata": {},
     "output_type": "execute_result"
    }
   ],
   "source": [
    "pipe.named_steps[\"scaler\"].scale_"
   ]
  },
  {
   "cell_type": "code",
   "execution_count": 16,
   "id": "551e72c3",
   "metadata": {
    "ExecuteTime": {
     "end_time": "2022-09-22T15:30:13.113641Z",
     "start_time": "2022-09-22T15:30:13.108981Z"
    }
   },
   "outputs": [
    {
     "data": {
      "text/plain": [
       "['__class__',\n",
       " '__delattr__',\n",
       " '__dict__',\n",
       " '__dir__',\n",
       " '__doc__',\n",
       " '__eq__',\n",
       " '__format__',\n",
       " '__ge__',\n",
       " '__getattribute__',\n",
       " '__getstate__',\n",
       " '__gt__',\n",
       " '__hash__',\n",
       " '__init__',\n",
       " '__init_subclass__',\n",
       " '__le__',\n",
       " '__lt__',\n",
       " '__module__',\n",
       " '__ne__',\n",
       " '__new__',\n",
       " '__reduce__',\n",
       " '__reduce_ex__',\n",
       " '__repr__',\n",
       " '__setattr__',\n",
       " '__setstate__',\n",
       " '__sizeof__',\n",
       " '__str__',\n",
       " '__subclasshook__',\n",
       " '__weakref__',\n",
       " '_check_n_features',\n",
       " '_get_param_names',\n",
       " '_get_tags',\n",
       " '_more_tags',\n",
       " '_repr_html_',\n",
       " '_repr_html_inner',\n",
       " '_repr_mimebundle_',\n",
       " '_reset',\n",
       " '_validate_data',\n",
       " 'copy',\n",
       " 'fit',\n",
       " 'fit_transform',\n",
       " 'get_params',\n",
       " 'inverse_transform',\n",
       " 'mean_',\n",
       " 'n_features_in_',\n",
       " 'n_samples_seen_',\n",
       " 'partial_fit',\n",
       " 'scale_',\n",
       " 'set_params',\n",
       " 'transform',\n",
       " 'var_',\n",
       " 'with_mean',\n",
       " 'with_std']"
      ]
     },
     "execution_count": 16,
     "metadata": {},
     "output_type": "execute_result"
    }
   ],
   "source": [
    "dir(pipe.named_steps[\"scaler\"])"
   ]
  },
  {
   "cell_type": "code",
   "execution_count": 17,
   "id": "e59ea930",
   "metadata": {
    "ExecuteTime": {
     "end_time": "2022-09-22T15:31:34.691940Z",
     "start_time": "2022-09-22T15:31:34.687801Z"
    }
   },
   "outputs": [
    {
     "data": {
      "text/plain": [
       "1.9999999932878738"
      ]
     },
     "execution_count": 17,
     "metadata": {},
     "output_type": "execute_result"
    }
   ],
   "source": [
    "1.41421356*1.41421356"
   ]
  },
  {
   "cell_type": "raw",
   "id": "26ad77b0",
   "metadata": {},
   "source": [
    " y = x'*a' + b'\n",
    "x' = (x - m)/s\n",
    " y = x*a + b"
   ]
  },
  {
   "cell_type": "raw",
   "id": "98365b27",
   "metadata": {},
   "source": [
    "(x - m)/s * a' + b' = x * a + b"
   ]
  },
  {
   "cell_type": "raw",
   "id": "71755cc2",
   "metadata": {},
   "source": [
    "a = a'/s\n",
    "b = b' - m/s*a'"
   ]
  },
  {
   "cell_type": "code",
   "execution_count": 22,
   "id": "3409430b",
   "metadata": {
    "ExecuteTime": {
     "end_time": "2022-09-22T15:48:27.003211Z",
     "start_time": "2022-09-22T15:48:26.997567Z"
    }
   },
   "outputs": [
    {
     "data": {
      "text/plain": [
       "1.0"
      ]
     },
     "execution_count": 22,
     "metadata": {},
     "output_type": "execute_result"
    }
   ],
   "source": [
    "a = result[0][1]/xs   # 1.0\n",
    "a"
   ]
  },
  {
   "cell_type": "code",
   "execution_count": 25,
   "id": "c446db21",
   "metadata": {
    "ExecuteTime": {
     "end_time": "2022-09-22T15:49:22.029373Z",
     "start_time": "2022-09-22T15:49:22.022755Z"
    }
   },
   "outputs": [
    {
     "data": {
      "text/plain": [
       "-1000000000.0"
      ]
     },
     "execution_count": 25,
     "metadata": {},
     "output_type": "execute_result"
    }
   ],
   "source": [
    "b = result[0][0] - xm*result[0][1]/xs  # -1000000000.0\n",
    "b"
   ]
  },
  {
   "cell_type": "code",
   "execution_count": null,
   "id": "a394e7d6",
   "metadata": {},
   "outputs": [],
   "source": []
  }
 ],
 "metadata": {
  "hide_input": false,
  "kernelspec": {
   "display_name": "Python 3",
   "language": "python",
   "name": "python3"
  },
  "language_info": {
   "codemirror_mode": {
    "name": "ipython",
    "version": 3
   },
   "file_extension": ".py",
   "mimetype": "text/x-python",
   "name": "python",
   "nbconvert_exporter": "python",
   "pygments_lexer": "ipython3",
   "version": "3.6.9"
  },
  "toc": {
   "base_numbering": 1,
   "nav_menu": {},
   "number_sections": true,
   "sideBar": true,
   "skip_h1_title": false,
   "title_cell": "Table of Contents",
   "title_sidebar": "Contents",
   "toc_cell": false,
   "toc_position": {},
   "toc_section_display": true,
   "toc_window_display": false
  },
  "varInspector": {
   "cols": {
    "lenName": 16,
    "lenType": 16,
    "lenVar": 40
   },
   "kernels_config": {
    "python": {
     "delete_cmd_postfix": "",
     "delete_cmd_prefix": "del ",
     "library": "var_list.py",
     "varRefreshCmd": "print(var_dic_list())"
    },
    "r": {
     "delete_cmd_postfix": ") ",
     "delete_cmd_prefix": "rm(",
     "library": "var_list.r",
     "varRefreshCmd": "cat(var_dic_list()) "
    }
   },
   "types_to_exclude": [
    "module",
    "function",
    "builtin_function_or_method",
    "instance",
    "_Feature"
   ],
   "window_display": false
  }
 },
 "nbformat": 4,
 "nbformat_minor": 5
}
