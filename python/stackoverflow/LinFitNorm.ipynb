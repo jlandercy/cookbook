{
 "cells": [
  {
   "cell_type": "markdown",
   "id": "6e8d3638",
   "metadata": {},
   "source": [
    "https://stackoverflow.com/questions/73814378/scipy-curve-fit-incorrect-for-large-x-values"
   ]
  },
  {
   "cell_type": "code",
   "execution_count": 1,
   "id": "4a4e34f4",
   "metadata": {
    "ExecuteTime": {
     "end_time": "2022-09-23T11:41:14.455596Z",
     "start_time": "2022-09-23T11:41:13.913207Z"
    }
   },
   "outputs": [],
   "source": [
    "import numpy as np\n",
    "import scipy.optimize\n",
    "\n",
    "y = np.arange(5)\n",
    "x = 1e10 + y"
   ]
  },
  {
   "cell_type": "code",
   "execution_count": null,
   "id": "7d0561c8",
   "metadata": {
    "ExecuteTime": {
     "end_time": "2022-09-23T10:49:02.430147Z",
     "start_time": "2022-09-23T10:49:02.421823Z"
    }
   },
   "outputs": [],
   "source": []
  },
  {
   "cell_type": "code",
   "execution_count": 2,
   "id": "d3f5df69",
   "metadata": {
    "ExecuteTime": {
     "end_time": "2022-09-23T11:41:14.477568Z",
     "start_time": "2022-09-23T11:41:14.460348Z"
    }
   },
   "outputs": [
    {
     "data": {
      "text/plain": [
       "dtype('float64')"
      ]
     },
     "execution_count": 2,
     "metadata": {},
     "output_type": "execute_result"
    }
   ],
   "source": [
    "x.dtype"
   ]
  },
  {
   "cell_type": "code",
   "execution_count": 3,
   "id": "4677f153",
   "metadata": {
    "ExecuteTime": {
     "end_time": "2022-09-23T11:41:14.486988Z",
     "start_time": "2022-09-23T11:41:14.480848Z"
    }
   },
   "outputs": [
    {
     "data": {
      "text/plain": [
       "15"
      ]
     },
     "execution_count": 3,
     "metadata": {},
     "output_type": "execute_result"
    }
   ],
   "source": [
    "np.finfo(np.float64).precision"
   ]
  },
  {
   "cell_type": "code",
   "execution_count": null,
   "id": "cfb5e8a3",
   "metadata": {},
   "outputs": [],
   "source": []
  },
  {
   "cell_type": "code",
   "execution_count": 4,
   "id": "8603fa9d",
   "metadata": {
    "ExecuteTime": {
     "end_time": "2022-09-23T11:41:14.509504Z",
     "start_time": "2022-09-23T11:41:14.492093Z"
    }
   },
   "outputs": [
    {
     "name": "stderr",
     "output_type": "stream",
     "text": [
      "/usr/local/lib/python3.6/dist-packages/scipy/optimize/minpack.py:829: OptimizeWarning: Covariance of the parameters could not be estimated\n",
      "  category=OptimizeWarning)\n"
     ]
    },
    {
     "data": {
      "text/plain": [
       "(array([-1.e+10,  1.e+00]),\n",
       " array([[inf, inf],\n",
       "        [inf, inf]]))"
      ]
     },
     "execution_count": 4,
     "metadata": {},
     "output_type": "execute_result"
    }
   ],
   "source": [
    "def fit_func(x, a, b):\n",
    "    return a + b * x\n",
    "\n",
    "\n",
    "result = scipy.optimize.curve_fit(fit_func, x, y, p0=[-x[0], 0.0])\n",
    "result"
   ]
  },
  {
   "cell_type": "code",
   "execution_count": 5,
   "id": "8ce30196",
   "metadata": {
    "ExecuteTime": {
     "end_time": "2022-09-23T11:41:14.518967Z",
     "start_time": "2022-09-23T11:41:14.512429Z"
    }
   },
   "outputs": [
    {
     "data": {
      "text/plain": [
       "array([10., 10., 10., 10., 10.])"
      ]
     },
     "execution_count": 5,
     "metadata": {},
     "output_type": "execute_result"
    }
   ],
   "source": [
    "x/1e9"
   ]
  },
  {
   "cell_type": "code",
   "execution_count": null,
   "id": "b95b5f77",
   "metadata": {},
   "outputs": [],
   "source": []
  },
  {
   "cell_type": "code",
   "execution_count": 6,
   "id": "57debeab",
   "metadata": {
    "ExecuteTime": {
     "end_time": "2022-09-23T11:41:14.528003Z",
     "start_time": "2022-09-23T11:41:14.522189Z"
    }
   },
   "outputs": [],
   "source": [
    "xm = np.mean(x)\n",
    "xs = np.std(x)"
   ]
  },
  {
   "cell_type": "code",
   "execution_count": 7,
   "id": "98adef34",
   "metadata": {
    "ExecuteTime": {
     "end_time": "2022-09-23T11:41:14.536378Z",
     "start_time": "2022-09-23T11:41:14.530809Z"
    }
   },
   "outputs": [
    {
     "data": {
      "text/plain": [
       "10000000002.0"
      ]
     },
     "execution_count": 7,
     "metadata": {},
     "output_type": "execute_result"
    }
   ],
   "source": [
    "xm"
   ]
  },
  {
   "cell_type": "code",
   "execution_count": 8,
   "id": "c58dd771",
   "metadata": {
    "ExecuteTime": {
     "end_time": "2022-09-23T11:41:14.548421Z",
     "start_time": "2022-09-23T11:41:14.541778Z"
    }
   },
   "outputs": [
    {
     "data": {
      "text/plain": [
       "1.4142135623730951"
      ]
     },
     "execution_count": 8,
     "metadata": {},
     "output_type": "execute_result"
    }
   ],
   "source": [
    "xs"
   ]
  },
  {
   "cell_type": "code",
   "execution_count": 9,
   "id": "dbedd696",
   "metadata": {
    "ExecuteTime": {
     "end_time": "2022-09-23T11:41:14.564539Z",
     "start_time": "2022-09-23T11:41:14.552588Z"
    }
   },
   "outputs": [
    {
     "data": {
      "text/plain": [
       "(array([2.        , 1.41421356]),\n",
       " array([[0., 0.],\n",
       "        [0., 0.]]))"
      ]
     },
     "execution_count": 9,
     "metadata": {},
     "output_type": "execute_result"
    }
   ],
   "source": [
    "result = scipy.optimize.curve_fit(fit_func, (x - xm)/xs, y)\n",
    "result"
   ]
  },
  {
   "cell_type": "code",
   "execution_count": null,
   "id": "4b1de7cf",
   "metadata": {},
   "outputs": [],
   "source": []
  },
  {
   "cell_type": "code",
   "execution_count": 10,
   "id": "0e34c2ed",
   "metadata": {
    "ExecuteTime": {
     "end_time": "2022-09-23T11:41:15.023547Z",
     "start_time": "2022-09-23T11:41:14.569172Z"
    }
   },
   "outputs": [],
   "source": [
    "from sklearn.pipeline import Pipeline\n",
    "from sklearn.preprocessing import StandardScaler, MinMaxScaler\n",
    "from sklearn.linear_model import LinearRegression"
   ]
  },
  {
   "cell_type": "code",
   "execution_count": 11,
   "id": "4980c523",
   "metadata": {
    "ExecuteTime": {
     "end_time": "2022-09-23T11:41:15.030147Z",
     "start_time": "2022-09-23T11:41:15.026206Z"
    }
   },
   "outputs": [],
   "source": [
    "pipe = Pipeline([\n",
    "    (\"scaler\", StandardScaler()),\n",
    "    (\"regressor\", LinearRegression())\n",
    "])"
   ]
  },
  {
   "cell_type": "code",
   "execution_count": 12,
   "id": "fb32787c",
   "metadata": {
    "ExecuteTime": {
     "end_time": "2022-09-23T11:41:15.045919Z",
     "start_time": "2022-09-23T11:41:15.032810Z"
    }
   },
   "outputs": [
    {
     "data": {
      "text/plain": [
       "Pipeline(steps=[('scaler', StandardScaler()),\n",
       "                ('regressor', LinearRegression())])"
      ]
     },
     "execution_count": 12,
     "metadata": {},
     "output_type": "execute_result"
    }
   ],
   "source": [
    "pipe.fit(x.reshape(-1, 1), y)"
   ]
  },
  {
   "cell_type": "code",
   "execution_count": 13,
   "id": "bd2ee791",
   "metadata": {
    "ExecuteTime": {
     "end_time": "2022-09-23T11:41:15.054320Z",
     "start_time": "2022-09-23T11:41:15.048859Z"
    }
   },
   "outputs": [
    {
     "data": {
      "text/plain": [
       "array([1.41421356])"
      ]
     },
     "execution_count": 13,
     "metadata": {},
     "output_type": "execute_result"
    }
   ],
   "source": [
    "pipe.named_steps[\"regressor\"].coef_"
   ]
  },
  {
   "cell_type": "code",
   "execution_count": 14,
   "id": "aa2ed819",
   "metadata": {
    "ExecuteTime": {
     "end_time": "2022-09-23T11:41:15.062611Z",
     "start_time": "2022-09-23T11:41:15.057062Z"
    }
   },
   "outputs": [
    {
     "data": {
      "text/plain": [
       "2.0"
      ]
     },
     "execution_count": 14,
     "metadata": {},
     "output_type": "execute_result"
    }
   ],
   "source": [
    "pipe.named_steps[\"regressor\"].coef_\n",
    "pipe.named_steps[\"regressor\"].intercept_"
   ]
  },
  {
   "cell_type": "code",
   "execution_count": 15,
   "id": "3a33d6e0",
   "metadata": {
    "ExecuteTime": {
     "end_time": "2022-09-23T11:41:15.070124Z",
     "start_time": "2022-09-23T11:41:15.065152Z"
    }
   },
   "outputs": [
    {
     "data": {
      "text/plain": [
       "array([1.e+10])"
      ]
     },
     "execution_count": 15,
     "metadata": {},
     "output_type": "execute_result"
    }
   ],
   "source": [
    "pipe.named_steps[\"scaler\"].mean_"
   ]
  },
  {
   "cell_type": "code",
   "execution_count": 16,
   "id": "28cd90f2",
   "metadata": {
    "ExecuteTime": {
     "end_time": "2022-09-23T11:41:15.078674Z",
     "start_time": "2022-09-23T11:41:15.072804Z"
    }
   },
   "outputs": [
    {
     "data": {
      "text/plain": [
       "array([1.41421356])"
      ]
     },
     "execution_count": 16,
     "metadata": {},
     "output_type": "execute_result"
    }
   ],
   "source": [
    "pipe.named_steps[\"scaler\"].scale_"
   ]
  },
  {
   "cell_type": "code",
   "execution_count": 17,
   "id": "e59ea930",
   "metadata": {
    "ExecuteTime": {
     "end_time": "2022-09-23T11:41:15.087458Z",
     "start_time": "2022-09-23T11:41:15.081784Z"
    }
   },
   "outputs": [
    {
     "data": {
      "text/plain": [
       "1.9999999932878738"
      ]
     },
     "execution_count": 17,
     "metadata": {},
     "output_type": "execute_result"
    }
   ],
   "source": [
    "1.41421356*1.41421356"
   ]
  },
  {
   "cell_type": "raw",
   "id": "26ad77b0",
   "metadata": {},
   "source": [
    " y = x'*a' + b'\n",
    "x' = (x - m)/s\n",
    " y = x*a + b"
   ]
  },
  {
   "cell_type": "raw",
   "id": "98365b27",
   "metadata": {},
   "source": [
    "(x - m)/s * a' + b' = x * a + b"
   ]
  },
  {
   "cell_type": "raw",
   "id": "71755cc2",
   "metadata": {},
   "source": [
    "a = a'/s\n",
    "b = b' - m/s*a'"
   ]
  },
  {
   "cell_type": "code",
   "execution_count": 18,
   "id": "3409430b",
   "metadata": {
    "ExecuteTime": {
     "end_time": "2022-09-23T11:41:15.094703Z",
     "start_time": "2022-09-23T11:41:15.089787Z"
    }
   },
   "outputs": [
    {
     "data": {
      "text/plain": [
       "1.0"
      ]
     },
     "execution_count": 18,
     "metadata": {},
     "output_type": "execute_result"
    }
   ],
   "source": [
    "a = result[0][1]/xs   # 1.0\n",
    "a"
   ]
  },
  {
   "cell_type": "code",
   "execution_count": 19,
   "id": "c446db21",
   "metadata": {
    "ExecuteTime": {
     "end_time": "2022-09-23T11:41:15.102427Z",
     "start_time": "2022-09-23T11:41:15.097019Z"
    }
   },
   "outputs": [
    {
     "data": {
      "text/plain": [
       "-10000000000.0"
      ]
     },
     "execution_count": 19,
     "metadata": {},
     "output_type": "execute_result"
    }
   ],
   "source": [
    "b = result[0][0] - xm*result[0][1]/xs  # -1000000000.0\n",
    "b"
   ]
  },
  {
   "cell_type": "code",
   "execution_count": 20,
   "id": "a394e7d6",
   "metadata": {
    "ExecuteTime": {
     "end_time": "2022-09-23T11:41:15.108237Z",
     "start_time": "2022-09-23T11:41:15.104768Z"
    }
   },
   "outputs": [],
   "source": [
    "from scipy import stats"
   ]
  },
  {
   "cell_type": "code",
   "execution_count": 21,
   "id": "14f28574",
   "metadata": {
    "ExecuteTime": {
     "end_time": "2022-09-23T11:41:15.116922Z",
     "start_time": "2022-09-23T11:41:15.110575Z"
    }
   },
   "outputs": [
    {
     "data": {
      "text/plain": [
       "LinregressResult(slope=1.0, intercept=-10000000000.0, rvalue=1.0, pvalue=1.2004217548761408e-30, stderr=0.0)"
      ]
     },
     "execution_count": 21,
     "metadata": {},
     "output_type": "execute_result"
    }
   ],
   "source": [
    "stats.linregress(x, y)"
   ]
  },
  {
   "cell_type": "code",
   "execution_count": null,
   "id": "5dd70c52",
   "metadata": {},
   "outputs": [],
   "source": []
  }
 ],
 "metadata": {
  "hide_input": false,
  "kernelspec": {
   "display_name": "Python 3",
   "language": "python",
   "name": "python3"
  },
  "language_info": {
   "codemirror_mode": {
    "name": "ipython",
    "version": 3
   },
   "file_extension": ".py",
   "mimetype": "text/x-python",
   "name": "python",
   "nbconvert_exporter": "python",
   "pygments_lexer": "ipython3",
   "version": "3.6.9"
  },
  "toc": {
   "base_numbering": 1,
   "nav_menu": {},
   "number_sections": true,
   "sideBar": true,
   "skip_h1_title": false,
   "title_cell": "Table of Contents",
   "title_sidebar": "Contents",
   "toc_cell": false,
   "toc_position": {},
   "toc_section_display": true,
   "toc_window_display": false
  },
  "varInspector": {
   "cols": {
    "lenName": 16,
    "lenType": 16,
    "lenVar": 40
   },
   "kernels_config": {
    "python": {
     "delete_cmd_postfix": "",
     "delete_cmd_prefix": "del ",
     "library": "var_list.py",
     "varRefreshCmd": "print(var_dic_list())"
    },
    "r": {
     "delete_cmd_postfix": ") ",
     "delete_cmd_prefix": "rm(",
     "library": "var_list.r",
     "varRefreshCmd": "cat(var_dic_list()) "
    }
   },
   "types_to_exclude": [
    "module",
    "function",
    "builtin_function_or_method",
    "instance",
    "_Feature"
   ],
   "window_display": false
  }
 },
 "nbformat": 4,
 "nbformat_minor": 5
}
