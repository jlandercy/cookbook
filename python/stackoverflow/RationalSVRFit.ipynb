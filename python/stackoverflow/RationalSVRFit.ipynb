{
 "cells": [
  {
   "cell_type": "code",
   "execution_count": 1,
   "metadata": {
    "ExecuteTime": {
     "end_time": "2020-09-06T08:53:35.267367Z",
     "start_time": "2020-09-06T08:53:33.987011Z"
    }
   },
   "outputs": [],
   "source": [
    "import numpy as np\n",
    "import pandas as pd\n",
    "import matplotlib.pyplot as plt\n",
    "\n",
    "from sklearn.svm import SVR\n",
    "from sklearn.pipeline import make_pipeline\n",
    "from sklearn.preprocessing import StandardScaler\n",
    "\n",
    "from sklearn.model_selection import validation_curve"
   ]
  },
  {
   "cell_type": "code",
   "execution_count": 2,
   "metadata": {
    "ExecuteTime": {
     "end_time": "2020-09-06T08:53:35.290491Z",
     "start_time": "2020-09-06T08:53:35.277079Z"
    }
   },
   "outputs": [],
   "source": [
    "x = np.arange(14)\n",
    "df = pd.DataFrame({'x': x, 'p': 15-x})\n",
    "df['y'] = 1e4/df['p']"
   ]
  },
  {
   "cell_type": "code",
   "execution_count": 3,
   "metadata": {
    "ExecuteTime": {
     "end_time": "2020-09-06T08:53:35.314597Z",
     "start_time": "2020-09-06T08:53:35.297243Z"
    }
   },
   "outputs": [],
   "source": [
    "ysc = StandardScaler()\n",
    "ysc.fit(df[['y']])\n",
    "df['yn'] = ysc.transform(df[['y']])"
   ]
  },
  {
   "cell_type": "code",
   "execution_count": 4,
   "metadata": {
    "ExecuteTime": {
     "end_time": "2020-09-06T08:53:35.390758Z",
     "start_time": "2020-09-06T08:53:35.322599Z"
    }
   },
   "outputs": [
    {
     "data": {
      "text/plain": [
       "Pipeline(steps=[('standardscaler', StandardScaler()),\n",
       "                ('svr', SVR(C=1000.0, epsilon=0.001))])"
      ]
     },
     "execution_count": 4,
     "metadata": {},
     "output_type": "execute_result"
    }
   ],
   "source": [
    "reg = make_pipeline(StandardScaler(), SVR(kernel='rbf', C=1e3, epsilon=1e-3))\n",
    "reg.fit(df[['p']], df['yn'])"
   ]
  },
  {
   "cell_type": "code",
   "execution_count": 5,
   "metadata": {
    "ExecuteTime": {
     "end_time": "2020-09-06T08:53:35.952928Z",
     "start_time": "2020-09-06T08:53:35.397626Z"
    }
   },
   "outputs": [],
   "source": [
    "train_scores, valid_scores = validation_curve(reg, df[['p']], df['yn'],\n",
    "                                              param_name=\"svr__epsilon\",\n",
    "                                              param_range=np.logspace(-5, -2, 3, base=10), cv=5)"
   ]
  },
  {
   "cell_type": "code",
   "execution_count": 6,
   "metadata": {
    "ExecuteTime": {
     "end_time": "2020-09-06T08:53:36.213995Z",
     "start_time": "2020-09-06T08:53:35.961761Z"
    }
   },
   "outputs": [
    {
     "data": {
      "text/plain": [
       "[<matplotlib.lines.Line2D at 0x7fd90ceabda0>,\n",
       " <matplotlib.lines.Line2D at 0x7fd90cebcac8>,\n",
       " <matplotlib.lines.Line2D at 0x7fd90cebcb70>,\n",
       " <matplotlib.lines.Line2D at 0x7fd90cebcc18>,\n",
       " <matplotlib.lines.Line2D at 0x7fd90cebccc0>]"
      ]
     },
     "execution_count": 6,
     "metadata": {},
     "output_type": "execute_result"
    },
    {
     "data": {
      "image/png": "[encoded data removed]",
      "text/plain": [
       "<Figure size 432x288 with 1 Axes>"
      ]
     },
     "metadata": {
      "needs_background": "light"
     },
     "output_type": "display_data"
    }
   ],
   "source": [
    "fig, axe = plt.subplots()\n",
    "axe.plot(train_scores)\n",
    "axe.plot(valid_scores)"
   ]
  },
  {
   "cell_type": "code",
   "execution_count": 7,
   "metadata": {
    "ExecuteTime": {
     "end_time": "2020-09-06T08:53:36.231395Z",
     "start_time": "2020-09-06T08:53:36.221085Z"
    }
   },
   "outputs": [
    {
     "data": {
      "text/plain": [
       "dict_keys(['memory', 'steps', 'verbose', 'standardscaler', 'svr', 'standardscaler__copy', 'standardscaler__with_mean', 'standardscaler__with_std', 'svr__C', 'svr__cache_size', 'svr__coef0', 'svr__degree', 'svr__epsilon', 'svr__gamma', 'svr__kernel', 'svr__max_iter', 'svr__shrinking', 'svr__tol', 'svr__verbose'])"
      ]
     },
     "execution_count": 7,
     "metadata": {},
     "output_type": "execute_result"
    }
   ],
   "source": [
    "reg.get_params().keys()"
   ]
  },
  {
   "cell_type": "code",
   "execution_count": null,
   "metadata": {},
   "outputs": [],
   "source": []
  },
  {
   "cell_type": "code",
   "execution_count": 8,
   "metadata": {
    "ExecuteTime": {
     "end_time": "2020-09-06T08:53:36.300877Z",
     "start_time": "2020-09-06T08:53:36.244105Z"
    }
   },
   "outputs": [],
   "source": [
    "df['ynhat'] = reg.predict(df[['p']])\n",
    "df['yhat'] = ysc.inverse_transform(df[['ynhat']])"
   ]
  },
  {
   "cell_type": "code",
   "execution_count": 9,
   "metadata": {
    "ExecuteTime": {
     "end_time": "2020-09-06T08:53:36.339150Z",
     "start_time": "2020-09-06T08:53:36.319015Z"
    }
   },
   "outputs": [],
   "source": [
    "df['yaerr'] = df['yhat'] - df['y']\n",
    "df['yrerr'] = df['yaerr']/df['y']"
   ]
  },
  {
   "cell_type": "code",
   "execution_count": 10,
   "metadata": {
    "ExecuteTime": {
     "end_time": "2020-09-06T08:53:36.379612Z",
     "start_time": "2020-09-06T08:53:36.352819Z"
    }
   },
   "outputs": [
    {
     "data": {
      "text/plain": [
       "0.9999646718755011"
      ]
     },
     "execution_count": 10,
     "metadata": {},
     "output_type": "execute_result"
    }
   ],
   "source": [
    "reg.score(df[['p']], df['yn'])"
   ]
  },
  {
   "cell_type": "code",
   "execution_count": null,
   "metadata": {},
   "outputs": [],
   "source": []
  },
  {
   "cell_type": "code",
   "execution_count": 11,
   "metadata": {
    "ExecuteTime": {
     "end_time": "2020-09-06T08:53:36.432450Z",
     "start_time": "2020-09-06T08:53:36.394083Z"
    }
   },
   "outputs": [
    {
     "name": "stdout",
     "output_type": "stream",
     "text": [
      "     x   p            y        yn     ynhat         yhat      yaerr     yrerr\n",
      "0    0  15   666.666667 -0.834823 -0.833633   668.077018   1.410352  0.002116\n",
      "1    1  14   714.285714 -0.794636 -0.795247   713.562403  -0.723312 -0.001013\n",
      "2    2  13   769.230769 -0.748267 -0.749627   767.619013  -1.611756 -0.002095\n",
      "3    3  12   833.333333 -0.694169 -0.693498   834.128425   0.795091  0.000954\n",
      "4    4  11   909.090909 -0.630235 -0.629048   910.497550   1.406641  0.001547\n",
      "5    5  10  1000.000000 -0.553514 -0.555029   998.204445  -1.795555 -0.001796\n",
      "6    6   9  1111.111111 -0.459744 -0.460002  1110.805275  -0.305836 -0.000275\n",
      "7    7   8  1250.000000 -0.342532 -0.341099  1251.697707   1.697707  0.001358\n",
      "8    8   7  1428.571429 -0.191830 -0.193295  1426.835676  -1.735753 -0.001215\n",
      "9    9   6  1666.666667  0.009105  0.010458  1668.269984   1.603317  0.000962\n",
      "10  10   5  2000.000000  0.290414  0.291060  2000.764717   0.764717  0.000382\n",
      "11  11   4  2500.000000  0.712379  0.690511  2474.088446 -25.911554 -0.010365\n",
      "12  12   3  3333.333333  1.415652  1.416874  3334.780642   1.447309  0.000434\n",
      "13  13   2  5000.000000  2.822199  2.821420  4999.076799  -0.923201 -0.000185\n"
     ]
    }
   ],
   "source": [
    "print(df)"
   ]
  },
  {
   "cell_type": "code",
   "execution_count": 12,
   "metadata": {
    "ExecuteTime": {
     "end_time": "2020-09-06T08:53:37.022464Z",
     "start_time": "2020-09-06T08:53:36.442722Z"
    }
   },
   "outputs": [
    {
     "data": {
      "image/png": "[encoded data removed]",
      "text/plain": [
       "<Figure size 432x288 with 1 Axes>"
      ]
     },
     "metadata": {
      "needs_background": "light"
     },
     "output_type": "display_data"
    }
   ],
   "source": [
    "fig, axe = plt.subplots()\n",
    "axe.plot(df['p'], df['y'], label='$y(p)$')\n",
    "axe.plot(df['p'], df['yhat'], 'o', label='$\\hat{y}(p)$')\n",
    "axe.set_title(r\"SVR Fit for $y(x) = \\frac{k}{x-a}$\")\n",
    "axe.set_xlabel('$p = x-a$')\n",
    "axe.set_ylabel('$y, \\hat{y}$')\n",
    "axe.legend()\n",
    "axe.grid()"
   ]
  },
  {
   "cell_type": "code",
   "execution_count": null,
   "metadata": {},
   "outputs": [],
   "source": []
  },
  {
   "cell_type": "code",
   "execution_count": null,
   "metadata": {
    "ExecuteTime": {
     "end_time": "2020-09-06T08:46:10.091805Z",
     "start_time": "2020-09-06T08:46:10.035067Z"
    }
   },
   "outputs": [],
   "source": []
  },
  {
   "cell_type": "code",
   "execution_count": null,
   "metadata": {},
   "outputs": [],
   "source": []
  },
  {
   "cell_type": "code",
   "execution_count": null,
   "metadata": {},
   "outputs": [],
   "source": []
  },
  {
   "cell_type": "code",
   "execution_count": null,
   "metadata": {},
   "outputs": [],
   "source": []
  }
 ],
 "metadata": {
  "hide_input": false,
  "kernelspec": {
   "display_name": "Python 3",
   "language": "python",
   "name": "python3"
  },
  "language_info": {
   "codemirror_mode": {
    "name": "ipython",
    "version": 3
   },
   "file_extension": ".py",
   "mimetype": "text/x-python",
   "name": "python",
   "nbconvert_exporter": "python",
   "pygments_lexer": "ipython3",
   "version": "3.6.9"
  },
  "toc": {
   "base_numbering": 1,
   "nav_menu": {},
   "number_sections": true,
   "sideBar": true,
   "skip_h1_title": false,
   "title_cell": "Table of Contents",
   "title_sidebar": "Contents",
   "toc_cell": false,
   "toc_position": {},
   "toc_section_display": true,
   "toc_window_display": false
  },
  "varInspector": {
   "cols": {
    "lenName": 16,
    "lenType": 16,
    "lenVar": 40
   },
   "kernels_config": {
    "python": {
     "delete_cmd_postfix": "",
     "delete_cmd_prefix": "del ",
     "library": "var_list.py",
     "varRefreshCmd": "print(var_dic_list())"
    },
    "r": {
     "delete_cmd_postfix": ") ",
     "delete_cmd_prefix": "rm(",
     "library": "var_list.r",
     "varRefreshCmd": "cat(var_dic_list()) "
    }
   },
   "types_to_exclude": [
    "module",
    "function",
    "builtin_function_or_method",
    "instance",
    "_Feature"
   ],
   "window_display": false
  }
 },
 "nbformat": 4,
 "nbformat_minor": 4
}
