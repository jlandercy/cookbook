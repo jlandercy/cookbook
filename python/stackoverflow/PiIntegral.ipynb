{
 "cells": [
  {
   "cell_type": "code",
   "execution_count": 5,
   "id": "0e12c863",
   "metadata": {
    "ExecuteTime": {
     "end_time": "2024-09-04T13:13:25.705441Z",
     "start_time": "2024-09-04T13:13:25.701358Z"
    }
   },
   "outputs": [],
   "source": [
    "import numpy as np\n",
    "from scipy import integrate\n",
    "import matplotlib.pyplot as plt"
   ]
  },
  {
   "cell_type": "markdown",
   "id": "91d64ef0",
   "metadata": {},
   "source": [
    "https://www.wolframalpha.com/input?i=integrate+1%2F%28%281+%2B+x%29*sqrt%28x%29%29+from+0+to+infinity\n",
    "https://stackoverflow.com/questions/78946584/substitution-method-of-integration-in-python-without-use-of-external-packages"
   ]
  },
  {
   "cell_type": "code",
   "execution_count": 6,
   "id": "ae0be55f",
   "metadata": {
    "ExecuteTime": {
     "end_time": "2024-09-04T13:13:25.946819Z",
     "start_time": "2024-09-04T13:13:25.943329Z"
    }
   },
   "outputs": [],
   "source": [
    "def integrand(x):\n",
    "    return 1. / ((1. + x) * np.sqrt(x))"
   ]
  },
  {
   "cell_type": "code",
   "execution_count": 7,
   "id": "eb46317b",
   "metadata": {
    "ExecuteTime": {
     "end_time": "2024-09-04T13:13:26.079766Z",
     "start_time": "2024-09-04T13:13:26.067168Z"
    }
   },
   "outputs": [
    {
     "data": {
      "text/plain": [
       "(3.141592653591123, 3.770408874004261e-09)"
      ]
     },
     "execution_count": 7,
     "metadata": {},
     "output_type": "execute_result"
    }
   ],
   "source": [
    "I, Ierr = integrate.quad(integrand, a=0., b=np.inf)\n",
    "I, Ierr"
   ]
  },
  {
   "cell_type": "code",
   "execution_count": 8,
   "id": "cf9a69a2",
   "metadata": {
    "ExecuteTime": {
     "end_time": "2024-09-04T13:13:26.197900Z",
     "start_time": "2024-09-04T13:13:26.189544Z"
    }
   },
   "outputs": [
    {
     "data": {
      "text/plain": [
       "-1.3300471835009375e-12"
      ]
     },
     "execution_count": 8,
     "metadata": {},
     "output_type": "execute_result"
    }
   ],
   "source": [
    "np.pi - I"
   ]
  },
  {
   "cell_type": "code",
   "execution_count": 18,
   "id": "91c07252",
   "metadata": {
    "ExecuteTime": {
     "end_time": "2024-09-04T13:14:27.913183Z",
     "start_time": "2024-09-04T13:14:27.908795Z"
    }
   },
   "outputs": [],
   "source": [
    "xlin = np.linspace(0., 10, 200)"
   ]
  },
  {
   "cell_type": "code",
   "execution_count": 19,
   "id": "37071c9e",
   "metadata": {
    "ExecuteTime": {
     "end_time": "2024-09-04T13:14:30.854476Z",
     "start_time": "2024-09-04T13:14:28.270611Z"
    }
   },
   "outputs": [
    {
     "name": "stderr",
     "output_type": "stream",
     "text": [
      "/tmp/ipykernel_145/560546997.py:2: RuntimeWarning: divide by zero encountered in divide\n",
      "  return 1. / ((1. + x) * np.sqrt(x))\n"
     ]
    },
    {
     "data": {
      "text/plain": [
       "[<matplotlib.lines.Line2D at 0x7f0c50366650>]"
      ]
     },
     "execution_count": 19,
     "metadata": {},
     "output_type": "execute_result"
    },
    {
     "data": {
      "image/png": "[encoded data removed]",
      "text/plain": [
       "<Figure size 640x480 with 1 Axes>"
      ]
     },
     "metadata": {},
     "output_type": "display_data"
    }
   ],
   "source": [
    "fig, axe = plt.subplots()\n",
    "axe.plot(xlin, integrand(xlin))"
   ]
  },
  {
   "cell_type": "code",
   "execution_count": null,
   "id": "9f113989",
   "metadata": {},
   "outputs": [],
   "source": []
  },
  {
   "cell_type": "code",
   "execution_count": null,
   "id": "e5b56c02",
   "metadata": {},
   "outputs": [],
   "source": []
  },
  {
   "cell_type": "code",
   "execution_count": null,
   "id": "f2c178f4",
   "metadata": {},
   "outputs": [],
   "source": []
  }
 ],
 "metadata": {
  "hide_input": false,
  "kernelspec": {
   "display_name": "Python 3",
   "language": "python",
   "name": "python3"
  },
  "language_info": {
   "codemirror_mode": {
    "name": "ipython",
    "version": 3
   },
   "file_extension": ".py",
   "mimetype": "text/x-python",
   "name": "python",
   "nbconvert_exporter": "python",
   "pygments_lexer": "ipython3",
   "version": "3.10.6"
  },
  "toc": {
   "base_numbering": 1,
   "nav_menu": {},
   "number_sections": true,
   "sideBar": true,
   "skip_h1_title": false,
   "title_cell": "Table of Contents",
   "title_sidebar": "Contents",
   "toc_cell": false,
   "toc_position": {},
   "toc_section_display": true,
   "toc_window_display": false
  },
  "varInspector": {
   "cols": {
    "lenName": 16,
    "lenType": 16,
    "lenVar": 40
   },
   "kernels_config": {
    "python": {
     "delete_cmd_postfix": "",
     "delete_cmd_prefix": "del ",
     "library": "var_list.py",
     "varRefreshCmd": "print(var_dic_list())"
    },
    "r": {
     "delete_cmd_postfix": ") ",
     "delete_cmd_prefix": "rm(",
     "library": "var_list.r",
     "varRefreshCmd": "cat(var_dic_list()) "
    }
   },
   "types_to_exclude": [
    "module",
    "function",
    "builtin_function_or_method",
    "instance",
    "_Feature"
   ],
   "window_display": false
  }
 },
 "nbformat": 4,
 "nbformat_minor": 5
}
