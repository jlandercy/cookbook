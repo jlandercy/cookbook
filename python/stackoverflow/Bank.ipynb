{
 "cells": [
  {
   "cell_type": "markdown",
   "id": "06229c57",
   "metadata": {},
   "source": [
    "https://stackoverflow.com/questions/75191215/how-can-i-generate-an-unique-account-number-for-bank-using-python/75191296?noredirect=1#comment132685744_75191296"
   ]
  },
  {
   "cell_type": "code",
   "execution_count": 1,
   "id": "c711ec92",
   "metadata": {
    "ExecuteTime": {
     "end_time": "2023-01-21T06:58:06.460744Z",
     "start_time": "2023-01-21T06:58:06.447721Z"
    }
   },
   "outputs": [],
   "source": [
    "import random\n",
    "import uuid"
   ]
  },
  {
   "cell_type": "code",
   "execution_count": null,
   "id": "1effc59a",
   "metadata": {
    "ExecuteTime": {
     "end_time": "2023-01-21T06:33:03.556672Z",
     "start_time": "2023-01-21T06:33:03.553234Z"
    }
   },
   "outputs": [],
   "source": []
  },
  {
   "cell_type": "code",
   "execution_count": 2,
   "id": "6e312c55",
   "metadata": {
    "ExecuteTime": {
     "end_time": "2023-01-21T06:58:06.472448Z",
     "start_time": "2023-01-21T06:58:06.463751Z"
    }
   },
   "outputs": [],
   "source": [
    "class Bank:\n",
    "    \n",
    "    def __init__(self):\n",
    "        self.accounts = set()\n",
    "    \n",
    "    @staticmethod\n",
    "    def get_random_account():\n",
    "        prefix = random.randint(10, 99)\n",
    "        number = random.randint(1e9, 1e10 - 1)\n",
    "        check = int((prefix * 1e10) + number) % 97\n",
    "        return f\"{prefix:0>2d}-{number:0>10d}-{check:0>2d}\"\n",
    "    \n",
    "    def create_account(self):\n",
    "        while True:\n",
    "            account = self.get_random_account()\n",
    "            if account not in self.accounts:\n",
    "                self.accounts.add(account)\n",
    "                return account"
   ]
  },
  {
   "cell_type": "code",
   "execution_count": 3,
   "id": "fcc80ab5",
   "metadata": {
    "ExecuteTime": {
     "end_time": "2023-01-21T06:58:06.479123Z",
     "start_time": "2023-01-21T06:58:06.475586Z"
    }
   },
   "outputs": [],
   "source": [
    "random.seed(123)\n",
    "my_bank = Bank()"
   ]
  },
  {
   "cell_type": "code",
   "execution_count": 4,
   "id": "399c0d48",
   "metadata": {
    "ExecuteTime": {
     "end_time": "2023-01-21T06:58:06.500760Z",
     "start_time": "2023-01-21T06:58:06.482535Z"
    }
   },
   "outputs": [
    {
     "data": {
      "text/plain": [
       "'16-2149664691-72'"
      ]
     },
     "execution_count": 4,
     "metadata": {},
     "output_type": "execute_result"
    }
   ],
   "source": [
    "my_bank.get_random_account()"
   ]
  },
  {
   "cell_type": "code",
   "execution_count": 5,
   "id": "e95fc963",
   "metadata": {
    "ExecuteTime": {
     "end_time": "2023-01-21T06:58:06.511398Z",
     "start_time": "2023-01-21T06:58:06.504184Z"
    }
   },
   "outputs": [
    {
     "name": "stdout",
     "output_type": "stream",
     "text": [
      "62-2144839923-10\n",
      "14-7710107789-37\n",
      "53-4659684175-93\n",
      "30-5875034668-84\n",
      "81-2052968588-52\n",
      "10-9185802068-43\n",
      "21-2621757232-66\n",
      "10-2925527091-15\n",
      "15-9988355352-16\n",
      "28-4893851635-83\n"
     ]
    }
   ],
   "source": [
    "for _ in range(10):\n",
    "    account = my_bank.create_account()\n",
    "    print(account)"
   ]
  },
  {
   "cell_type": "code",
   "execution_count": 6,
   "id": "f2df169c",
   "metadata": {
    "ExecuteTime": {
     "end_time": "2023-01-21T06:58:06.525339Z",
     "start_time": "2023-01-21T06:58:06.517742Z"
    }
   },
   "outputs": [
    {
     "data": {
      "text/plain": [
       "{'10-2925527091-15',\n",
       " '10-9185802068-43',\n",
       " '14-7710107789-37',\n",
       " '15-9988355352-16',\n",
       " '21-2621757232-66',\n",
       " '28-4893851635-83',\n",
       " '30-5875034668-84',\n",
       " '53-4659684175-93',\n",
       " '62-2144839923-10',\n",
       " '81-2052968588-52'}"
      ]
     },
     "execution_count": 6,
     "metadata": {},
     "output_type": "execute_result"
    }
   ],
   "source": [
    "my_bank.accounts"
   ]
  },
  {
   "cell_type": "code",
   "execution_count": 7,
   "id": "817a3206",
   "metadata": {
    "ExecuteTime": {
     "end_time": "2023-01-21T06:58:06.544497Z",
     "start_time": "2023-01-21T06:58:06.528666Z"
    }
   },
   "outputs": [
    {
     "data": {
      "text/plain": [
       "10000000000.0"
      ]
     },
     "execution_count": 7,
     "metadata": {},
     "output_type": "execute_result"
    }
   ],
   "source": [
    "1*1e10"
   ]
  },
  {
   "cell_type": "code",
   "execution_count": 8,
   "id": "482ecef5",
   "metadata": {
    "ExecuteTime": {
     "end_time": "2023-01-21T06:58:06.567277Z",
     "start_time": "2023-01-21T06:58:06.556897Z"
    }
   },
   "outputs": [
    {
     "name": "stdout",
     "output_type": "stream",
     "text": [
      "a\n",
      "b\n",
      "c\n",
      "Not found\n"
     ]
    }
   ],
   "source": [
    "sequence = [\"a\", \"b\", \"c\"]\n",
    "for item in sequence:\n",
    "    print(item)\n",
    "    if item == \"d\":\n",
    "        break\n",
    "else:\n",
    "    print(\"Not found\")"
   ]
  },
  {
   "cell_type": "code",
   "execution_count": 9,
   "id": "4d1a65e4",
   "metadata": {
    "ExecuteTime": {
     "end_time": "2023-01-21T06:58:06.591956Z",
     "start_time": "2023-01-21T06:58:06.569894Z"
    }
   },
   "outputs": [],
   "source": [
    "class Bank2:\n",
    "    \n",
    "    def __init__(self):\n",
    "        self.accounts = dict()\n",
    "    \n",
    "    @staticmethod\n",
    "    def get_random_account():\n",
    "        prefix = random.randint(10, 99)\n",
    "        number = random.randint(1e9, 1e10 - 1)\n",
    "        check = int((prefix * 1e10) + number) % 97\n",
    "        return f\"{prefix:0>2d}-{number:0>10d}-{check:0>2d}\"\n",
    "    \n",
    "    def create_account(self):\n",
    "        while True:\n",
    "            account = self.get_random_account()\n",
    "            if account not in self.accounts:\n",
    "                self.accounts[account] = {\"pin\": \"{:0>4}\".format(random.randint(0, 9999))}\n",
    "                return account"
   ]
  },
  {
   "cell_type": "code",
   "execution_count": 10,
   "id": "38d622d3",
   "metadata": {
    "ExecuteTime": {
     "end_time": "2023-01-21T06:58:06.617011Z",
     "start_time": "2023-01-21T06:58:06.600636Z"
    }
   },
   "outputs": [
    {
     "name": "stdout",
     "output_type": "stream",
     "text": [
      "47-9208329109-65\n",
      "71-6434515333-47\n",
      "49-8737368931-11\n",
      "87-9420556109-09\n",
      "60-8874868811-20\n",
      "95-7096689979-34\n",
      "14-3772192454-07\n",
      "72-8121374291-51\n",
      "52-9904716087-38\n",
      "59-2443564729-74\n",
      "{'47-9208329109-65': {'pin': '9394'}, '71-6434515333-47': {'pin': '0602'}, '49-8737368931-11': {'pin': '3389'}, '87-9420556109-09': {'pin': '0205'}, '60-8874868811-20': {'pin': '8529'}, '95-7096689979-34': {'pin': '8356'}, '14-3772192454-07': {'pin': '1353'}, '72-8121374291-51': {'pin': '2787'}, '52-9904716087-38': {'pin': '7483'}, '59-2443564729-74': {'pin': '3097'}}\n"
     ]
    }
   ],
   "source": [
    "my_bank2 = Bank2()\n",
    "for _ in range(10):\n",
    "    account = my_bank2.create_account()\n",
    "    print(account)\n",
    "print(my_bank2.accounts)"
   ]
  },
  {
   "cell_type": "code",
   "execution_count": null,
   "id": "d1bd93b4",
   "metadata": {},
   "outputs": [],
   "source": []
  }
 ],
 "metadata": {
  "hide_input": false,
  "kernelspec": {
   "display_name": "Python 3",
   "language": "python",
   "name": "python3"
  },
  "language_info": {
   "codemirror_mode": {
    "name": "ipython",
    "version": 3
   },
   "file_extension": ".py",
   "mimetype": "text/x-python",
   "name": "python",
   "nbconvert_exporter": "python",
   "pygments_lexer": "ipython3",
   "version": "3.10.6"
  },
  "toc": {
   "base_numbering": 1,
   "nav_menu": {},
   "number_sections": true,
   "sideBar": true,
   "skip_h1_title": false,
   "title_cell": "Table of Contents",
   "title_sidebar": "Contents",
   "toc_cell": false,
   "toc_position": {},
   "toc_section_display": true,
   "toc_window_display": false
  },
  "varInspector": {
   "cols": {
    "lenName": 16,
    "lenType": 16,
    "lenVar": 40
   },
   "kernels_config": {
    "python": {
     "delete_cmd_postfix": "",
     "delete_cmd_prefix": "del ",
     "library": "var_list.py",
     "varRefreshCmd": "print(var_dic_list())"
    },
    "r": {
     "delete_cmd_postfix": ") ",
     "delete_cmd_prefix": "rm(",
     "library": "var_list.r",
     "varRefreshCmd": "cat(var_dic_list()) "
    }
   },
   "types_to_exclude": [
    "module",
    "function",
    "builtin_function_or_method",
    "instance",
    "_Feature"
   ],
   "window_display": false
  }
 },
 "nbformat": 4,
 "nbformat_minor": 5
}
