{
 "cells": [
  {
   "cell_type": "markdown",
   "id": "f1f07995",
   "metadata": {},
   "source": [
    "https://stackoverflow.com/questions/77967527/using-script-optimise-minimize-to-fit-the-sum-of-functions-to-allow-individual-d"
   ]
  },
  {
   "cell_type": "code",
   "execution_count": 1,
   "id": "4ec3c8ae",
   "metadata": {
    "ExecuteTime": {
     "end_time": "2024-02-11T10:59:37.191679Z",
     "start_time": "2024-02-11T10:59:35.549814Z"
    }
   },
   "outputs": [],
   "source": [
    "import numpy as np\n",
    "import matplotlib.pyplot as plt\n",
    "from scipy import optimize"
   ]
  },
  {
   "cell_type": "code",
   "execution_count": null,
   "id": "7890eb46",
   "metadata": {
    "ExecuteTime": {
     "end_time": "2024-02-10T10:09:02.179145Z",
     "start_time": "2024-02-10T10:09:02.173568Z"
    }
   },
   "outputs": [],
   "source": []
  },
  {
   "cell_type": "code",
   "execution_count": 2,
   "id": "76b699a7",
   "metadata": {
    "ExecuteTime": {
     "end_time": "2024-02-11T10:59:37.205156Z",
     "start_time": "2024-02-11T10:59:37.198967Z"
    }
   },
   "outputs": [],
   "source": [
    "def func1(x, n, xe, ye):\n",
    "    b = 1.9992 * n - 0.3271\n",
    "    return ye * np.exp(-b * np.power(x / xe, 1. / n) - 1.)"
   ]
  },
  {
   "cell_type": "code",
   "execution_count": 3,
   "id": "074108b1",
   "metadata": {
    "ExecuteTime": {
     "end_time": "2024-02-11T10:59:37.211530Z",
     "start_time": "2024-02-11T10:59:37.208356Z"
    }
   },
   "outputs": [],
   "source": [
    "def func2(x, y0, h):\n",
    "    return y0 * np.exp(-x / h)"
   ]
  },
  {
   "cell_type": "code",
   "execution_count": 4,
   "id": "6d3442a8",
   "metadata": {
    "ExecuteTime": {
     "end_time": "2024-02-11T10:59:37.226066Z",
     "start_time": "2024-02-11T10:59:37.219223Z"
    }
   },
   "outputs": [],
   "source": [
    "def model(x, n, xe, ye, y0, h):\n",
    "    return func1(x, n, xe, ye) + func2(x, y0, h)"
   ]
  },
  {
   "cell_type": "code",
   "execution_count": 5,
   "id": "8054df6c",
   "metadata": {
    "ExecuteTime": {
     "end_time": "2024-02-11T10:59:37.237394Z",
     "start_time": "2024-02-11T10:59:37.230626Z"
    }
   },
   "outputs": [],
   "source": [
    "scale = 1e-11"
   ]
  },
  {
   "cell_type": "code",
   "execution_count": 6,
   "id": "7050db23",
   "metadata": {
    "ExecuteTime": {
     "end_time": "2024-02-11T10:59:37.244192Z",
     "start_time": "2024-02-11T10:59:37.240081Z"
    }
   },
   "outputs": [],
   "source": [
    "p = (4.2, 11.2, 56 * scale, 0.52 * scale, 12.1)"
   ]
  },
  {
   "cell_type": "code",
   "execution_count": 7,
   "id": "269cb545",
   "metadata": {
    "ExecuteTime": {
     "end_time": "2024-02-11T10:59:37.254420Z",
     "start_time": "2024-02-11T10:59:37.246600Z"
    }
   },
   "outputs": [],
   "source": [
    "np.random.seed(12345)\n",
    "xexp = np.logspace(-2, np.log10(40), 50, base=10)\n",
    "sigma = 1e-13\n",
    "sexp = np.full(xexp.shape, sigma)\n",
    "noise = sexp * np.random.normal(size=xexp.size)\n",
    "yth = model(xexp, *p) \n",
    "yexp = yth + noise"
   ]
  },
  {
   "cell_type": "code",
   "execution_count": null,
   "id": "e9c8cfe8",
   "metadata": {
    "ExecuteTime": {
     "end_time": "2024-02-11T09:37:26.854215Z",
     "start_time": "2024-02-11T09:37:26.847515Z"
    }
   },
   "outputs": [],
   "source": []
  },
  {
   "cell_type": "code",
   "execution_count": 8,
   "id": "159ba527",
   "metadata": {
    "ExecuteTime": {
     "end_time": "2024-02-11T10:59:37.310269Z",
     "start_time": "2024-02-11T10:59:37.256939Z"
    }
   },
   "outputs": [
    {
     "data": {
      "text/plain": [
       "array([ 4.23360076, 12.04598413, 56.49733429,  0.51167423, 11.79847404])"
      ]
     },
     "execution_count": 8,
     "metadata": {},
     "output_type": "execute_result"
    }
   ],
   "source": [
    "popt, pcov = optimize.curve_fit(\n",
    "    model, xexp, yexp / scale, sigma=sexp / scale, absolute_sigma=True,\n",
    "    p0=(10, 10, 50, 1, 10),\n",
    "    bounds=[\n",
    "        (1e+0, 1e-1, 1e-1, 1e-2, 1e-1),\n",
    "        (2e+1, 2e+1, 1e+2, 2e+1, 2e+1)\n",
    "    ],\n",
    ")\n",
    "popt"
   ]
  },
  {
   "cell_type": "code",
   "execution_count": null,
   "id": "09c3c8c6",
   "metadata": {},
   "outputs": [],
   "source": []
  },
  {
   "cell_type": "code",
   "execution_count": null,
   "id": "c2750837",
   "metadata": {},
   "outputs": [],
   "source": []
  },
  {
   "cell_type": "code",
   "execution_count": 9,
   "id": "9e4e7014",
   "metadata": {
    "ExecuteTime": {
     "end_time": "2024-02-11T10:59:37.316985Z",
     "start_time": "2024-02-11T10:59:37.312665Z"
    }
   },
   "outputs": [],
   "source": [
    "xlin = np.linspace(xexp.min(), xexp.max(), 200)\n",
    "xlin = np.logspace(np.log10(xexp.min()), np.log10(xexp.max()), 200, base=10)"
   ]
  },
  {
   "cell_type": "code",
   "execution_count": 10,
   "id": "c823b1a5",
   "metadata": {
    "ExecuteTime": {
     "end_time": "2024-02-11T10:59:37.327159Z",
     "start_time": "2024-02-11T10:59:37.323169Z"
    }
   },
   "outputs": [],
   "source": [
    "yhat = model(xlin, *popt) * scale\n",
    "f1hat = func1(xlin, *popt[:3]) * scale\n",
    "f2hat = func2(xlin, *popt[3:]) * scale"
   ]
  },
  {
   "cell_type": "code",
   "execution_count": null,
   "id": "c250df6b",
   "metadata": {
    "ExecuteTime": {
     "end_time": "2024-02-10T09:32:26.847770Z",
     "start_time": "2024-02-10T09:32:26.833439Z"
    }
   },
   "outputs": [],
   "source": []
  },
  {
   "cell_type": "code",
   "execution_count": 11,
   "id": "dde2a909",
   "metadata": {
    "ExecuteTime": {
     "end_time": "2024-02-11T10:59:38.571866Z",
     "start_time": "2024-02-11T10:59:37.330054Z"
    }
   },
   "outputs": [
    {
     "data": {
      "image/png": "[encoded data removed]",
      "text/plain": [
       "<Figure size 640x480 with 1 Axes>"
      ]
     },
     "metadata": {},
     "output_type": "display_data"
    }
   ],
   "source": [
    "fig, axe = plt.subplots()\n",
    "axe.scatter(xexp, yexp, marker='.')\n",
    "axe.loglog(xlin, yhat)\n",
    "axe.plot(xlin, f1hat, \"--\")\n",
    "axe.plot(xlin, f2hat, \"--\")\n",
    "axe.grid()"
   ]
  },
  {
   "cell_type": "code",
   "execution_count": null,
   "id": "7090b7c0",
   "metadata": {},
   "outputs": [],
   "source": []
  },
  {
   "cell_type": "code",
   "execution_count": 12,
   "id": "58e0e22c",
   "metadata": {
    "ExecuteTime": {
     "end_time": "2024-02-11T10:59:38.580501Z",
     "start_time": "2024-02-11T10:59:38.575647Z"
    }
   },
   "outputs": [],
   "source": [
    "def loss_factory(x, y, s):\n",
    "    def wrapped(p):\n",
    "        return 0.5 * np.sum(\n",
    "            np.power((y - model(x, *p)) / s, 2.)\n",
    "        )\n",
    "    return wrapped"
   ]
  },
  {
   "cell_type": "code",
   "execution_count": 13,
   "id": "778a273a",
   "metadata": {
    "ExecuteTime": {
     "end_time": "2024-02-11T10:59:38.587233Z",
     "start_time": "2024-02-11T10:59:38.582824Z"
    }
   },
   "outputs": [],
   "source": [
    "loss = loss_factory(xexp, yexp / scale, sexp / scale)"
   ]
  },
  {
   "cell_type": "code",
   "execution_count": 14,
   "id": "9471e6e8",
   "metadata": {
    "ExecuteTime": {
     "end_time": "2024-02-11T10:59:38.672901Z",
     "start_time": "2024-02-11T10:59:38.589866Z"
    }
   },
   "outputs": [],
   "source": [
    "sol = optimize.minimize(\n",
    "    loss,\n",
    "    x0=(10, 10, 50, 1, 10),\n",
    "    bounds=[\n",
    "        (1e+0, 2e1),\n",
    "        (1e-1, 2e1),\n",
    "        (1e-1, 1e2),\n",
    "        (1e-1, 2e1),\n",
    "        (1e-1, 2e1),\n",
    "    ],\n",
    ")"
   ]
  },
  {
   "cell_type": "code",
   "execution_count": 15,
   "id": "e43673c0",
   "metadata": {
    "ExecuteTime": {
     "end_time": "2024-02-11T10:59:38.681695Z",
     "start_time": "2024-02-11T10:59:38.675786Z"
    }
   },
   "outputs": [
    {
     "data": {
      "text/plain": [
       "array([ 4.23351444, 12.04435958, 56.49516374,  0.51168294, 11.79830589])"
      ]
     },
     "execution_count": 15,
     "metadata": {},
     "output_type": "execute_result"
    }
   ],
   "source": [
    "sol.x"
   ]
  },
  {
   "cell_type": "code",
   "execution_count": 16,
   "id": "9b60281e",
   "metadata": {
    "ExecuteTime": {
     "end_time": "2024-02-11T10:59:38.687935Z",
     "start_time": "2024-02-11T10:59:38.684079Z"
    }
   },
   "outputs": [],
   "source": [
    "yhat = model(xlin, *sol.x) * scale\n",
    "f1hat = func1(xlin, *sol.x[:3]) * scale\n",
    "f2hat = func2(xlin, *sol.x[3:]) * scale"
   ]
  },
  {
   "cell_type": "code",
   "execution_count": 17,
   "id": "c2e3241a",
   "metadata": {
    "ExecuteTime": {
     "end_time": "2024-02-11T10:59:38.696347Z",
     "start_time": "2024-02-11T10:59:38.690679Z"
    }
   },
   "outputs": [
    {
     "data": {
      "text/plain": [
       "      fun: 26.234799581905154\n",
       " hess_inv: <5x5 LbfgsInvHessProduct with dtype=float64>\n",
       "      jac: array([ 0.01446452, -0.00025722, -0.0002693 ,  0.035147  ,  0.00058797])\n",
       "  message: 'CONVERGENCE: REL_REDUCTION_OF_F_<=_FACTR*EPSMCH'\n",
       "     nfev: 606\n",
       "      nit: 62\n",
       "     njev: 101\n",
       "   status: 0\n",
       "  success: True\n",
       "        x: array([ 4.23351444, 12.04435958, 56.49516374,  0.51168294, 11.79830589])"
      ]
     },
     "execution_count": 17,
     "metadata": {},
     "output_type": "execute_result"
    }
   ],
   "source": [
    "sol"
   ]
  },
  {
   "cell_type": "code",
   "execution_count": 20,
   "id": "a858d298",
   "metadata": {
    "ExecuteTime": {
     "end_time": "2024-02-11T10:59:54.831331Z",
     "start_time": "2024-02-11T10:59:54.124492Z"
    }
   },
   "outputs": [
    {
     "data": {
      "image/png": "[encoded data removed]",
      "text/plain": [
       "<Figure size 640x480 with 1 Axes>"
      ]
     },
     "metadata": {},
     "output_type": "display_data"
    }
   ],
   "source": [
    "fig, axe = plt.subplots()\n",
    "axe.scatter(xexp, yexp, marker='.')\n",
    "axe.semilogx(xlin, yhat)\n",
    "axe.plot(xlin, f1hat, \"--\")\n",
    "axe.plot(xlin, f2hat, \"--\")\n",
    "axe.grid()"
   ]
  },
  {
   "cell_type": "code",
   "execution_count": null,
   "id": "e89c36a8",
   "metadata": {
    "ExecuteTime": {
     "end_time": "2024-02-10T11:32:51.103693Z",
     "start_time": "2024-02-10T11:32:51.055580Z"
    }
   },
   "outputs": [],
   "source": []
  },
  {
   "cell_type": "code",
   "execution_count": null,
   "id": "7badd960",
   "metadata": {},
   "outputs": [],
   "source": []
  },
  {
   "cell_type": "code",
   "execution_count": null,
   "id": "f6f2d32a",
   "metadata": {},
   "outputs": [],
   "source": []
  },
  {
   "cell_type": "code",
   "execution_count": null,
   "id": "ab3ee9fd",
   "metadata": {},
   "outputs": [],
   "source": []
  },
  {
   "cell_type": "code",
   "execution_count": null,
   "id": "9c617dd5",
   "metadata": {},
   "outputs": [],
   "source": []
  }
 ],
 "metadata": {
  "hide_input": false,
  "kernelspec": {
   "display_name": "Python 3",
   "language": "python",
   "name": "python3"
  },
  "language_info": {
   "codemirror_mode": {
    "name": "ipython",
    "version": 3
   },
   "file_extension": ".py",
   "mimetype": "text/x-python",
   "name": "python",
   "nbconvert_exporter": "python",
   "pygments_lexer": "ipython3",
   "version": "3.10.6"
  },
  "toc": {
   "base_numbering": 1,
   "nav_menu": {},
   "number_sections": true,
   "sideBar": true,
   "skip_h1_title": false,
   "title_cell": "Table of Contents",
   "title_sidebar": "Contents",
   "toc_cell": false,
   "toc_position": {},
   "toc_section_display": true,
   "toc_window_display": false
  },
  "varInspector": {
   "cols": {
    "lenName": 16,
    "lenType": 16,
    "lenVar": 40
   },
   "kernels_config": {
    "python": {
     "delete_cmd_postfix": "",
     "delete_cmd_prefix": "del ",
     "library": "var_list.py",
     "varRefreshCmd": "print(var_dic_list())"
    },
    "r": {
     "delete_cmd_postfix": ") ",
     "delete_cmd_prefix": "rm(",
     "library": "var_list.r",
     "varRefreshCmd": "cat(var_dic_list()) "
    }
   },
   "types_to_exclude": [
    "module",
    "function",
    "builtin_function_or_method",
    "instance",
    "_Feature"
   ],
   "window_display": false
  }
 },
 "nbformat": 4,
 "nbformat_minor": 5
}
