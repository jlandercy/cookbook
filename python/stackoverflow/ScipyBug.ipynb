{
 "cells": [
  {
   "cell_type": "code",
   "execution_count": 1,
   "id": "aec908e0",
   "metadata": {
    "ExecuteTime": {
     "end_time": "2024-08-15T06:37:02.758763Z",
     "start_time": "2024-08-15T06:37:01.321142Z"
    }
   },
   "outputs": [],
   "source": [
    "# Imports\n",
    "import numpy as np\n",
    "import scipy as sp\n",
    "from scipy import optimize\n",
    "import matplotlib.pyplot as plt"
   ]
  },
  {
   "cell_type": "code",
   "execution_count": 2,
   "id": "b953ffdf",
   "metadata": {
    "ExecuteTime": {
     "end_time": "2024-08-15T06:37:02.783181Z",
     "start_time": "2024-08-15T06:37:02.764543Z"
    }
   },
   "outputs": [
    {
     "data": {
      "text/plain": [
       "'2.0.1'"
      ]
     },
     "execution_count": 2,
     "metadata": {},
     "output_type": "execute_result"
    }
   ],
   "source": [
    "np.__version__"
   ]
  },
  {
   "cell_type": "code",
   "execution_count": 3,
   "id": "9fae367d",
   "metadata": {
    "ExecuteTime": {
     "end_time": "2024-08-15T06:37:02.792832Z",
     "start_time": "2024-08-15T06:37:02.786644Z"
    }
   },
   "outputs": [
    {
     "data": {
      "text/plain": [
       "'1.14.0'"
      ]
     },
     "execution_count": 3,
     "metadata": {},
     "output_type": "execute_result"
    }
   ],
   "source": [
    "sp.__version__"
   ]
  },
  {
   "cell_type": "code",
   "execution_count": null,
   "id": "5314de53",
   "metadata": {},
   "outputs": [],
   "source": []
  },
  {
   "cell_type": "markdown",
   "id": "9d3b9e40",
   "metadata": {},
   "source": [
    "https://stackoverflow.com/questions/78872637/why-does-using-scipy-optimize-curvefit-with-numpy-piecewise-throw-attribute-and?noredirect=1#comment139061972_78872637"
   ]
  },
  {
   "cell_type": "code",
   "execution_count": 5,
   "id": "ccea224b",
   "metadata": {
    "ExecuteTime": {
     "end_time": "2024-08-15T06:38:54.128058Z",
     "start_time": "2024-08-15T06:38:53.875759Z"
    }
   },
   "outputs": [
    {
     "data": {
      "image/png": "[encoded data removed]",
      "text/plain": [
       "<Figure size 640x480 with 1 Axes>"
      ]
     },
     "metadata": {},
     "output_type": "display_data"
    },
    {
     "data": {
      "text/plain": [
       "array([0.006 , 0.0065, 0.006 , 0.0065])"
      ]
     },
     "execution_count": 5,
     "metadata": {},
     "output_type": "execute_result"
    }
   ],
   "source": [
    "\n",
    "# Piecewise function\n",
    "def my_piecewise(\n",
    "    x: float,\n",
    "    a: float,\n",
    "    b: float,\n",
    "    c: float,\n",
    "    d: float,\n",
    "    precision: float = 64,\n",
    "):\n",
    "    domain_length = 512\n",
    "    if precision == 32:\n",
    "        domain_length = 1024\n",
    "\n",
    "    if precision not in (32, 64):\n",
    "        raise ValueError(\"Precision must be either 64 or 32\")\n",
    "\n",
    "    y = np.piecewise(\n",
    "        x,\n",
    "        [\n",
    "            x <= 0,\n",
    "            x < domain_length,\n",
    "            (x >= domain_length) & (x < 2 * domain_length),\n",
    "            x >= 2 * domain_length,\n",
    "        ],\n",
    "        [\n",
    "            lambda x: 0,\n",
    "            lambda x: a + ((b - a) / (domain_length - 8)) * x,\n",
    "            lambda x: c + ((d - c) / domain_length) * (x - domain_length),\n",
    "            lambda x: d,\n",
    "        ],\n",
    "    )\n",
    "\n",
    "    return y\n",
    "\n",
    "\n",
    "# p0 parameters for curve_fit\n",
    "init_guess = [\n",
    "    0.006,\n",
    "    0.0065,\n",
    "    0.006,\n",
    "    0.0065,\n",
    "]\n",
    "\n",
    "# x and y data\n",
    "x_space = np.linspace(8, 4096, 512, endpoint=True)\n",
    "y_space = my_piecewise(x_space, *init_guess)\n",
    "\n",
    "# plotting with matplotlib works fine\n",
    "plt.plot(x_space, y_space)\n",
    "for i in [512, 1024, 2048]:\n",
    "    plt.vlines(i, 0.004, 0.008, color=\"white\", linewidth=0.75)\n",
    "plt.show()\n",
    "\n",
    "# curve_fit\n",
    "param, param_cov = optimize.curve_fit(\n",
    "    f=my_piecewise,\n",
    "    xdata=x_space,\n",
    "    ydata=y_space,\n",
    "    p0=init_guess,\n",
    ")\n",
    "param"
   ]
  },
  {
   "cell_type": "code",
   "execution_count": null,
   "id": "a40b5794",
   "metadata": {},
   "outputs": [],
   "source": []
  }
 ],
 "metadata": {
  "hide_input": false,
  "kernelspec": {
   "display_name": "Python 3",
   "language": "python",
   "name": "python3"
  },
  "language_info": {
   "codemirror_mode": {
    "name": "ipython",
    "version": 3
   },
   "file_extension": ".py",
   "mimetype": "text/x-python",
   "name": "python",
   "nbconvert_exporter": "python",
   "pygments_lexer": "ipython3",
   "version": "3.10.6"
  },
  "toc": {
   "base_numbering": 1,
   "nav_menu": {},
   "number_sections": true,
   "sideBar": true,
   "skip_h1_title": false,
   "title_cell": "Table of Contents",
   "title_sidebar": "Contents",
   "toc_cell": false,
   "toc_position": {},
   "toc_section_display": true,
   "toc_window_display": false
  },
  "varInspector": {
   "cols": {
    "lenName": 16,
    "lenType": 16,
    "lenVar": 40
   },
   "kernels_config": {
    "python": {
     "delete_cmd_postfix": "",
     "delete_cmd_prefix": "del ",
     "library": "var_list.py",
     "varRefreshCmd": "print(var_dic_list())"
    },
    "r": {
     "delete_cmd_postfix": ") ",
     "delete_cmd_prefix": "rm(",
     "library": "var_list.r",
     "varRefreshCmd": "cat(var_dic_list()) "
    }
   },
   "types_to_exclude": [
    "module",
    "function",
    "builtin_function_or_method",
    "instance",
    "_Feature"
   ],
   "window_display": false
  }
 },
 "nbformat": 4,
 "nbformat_minor": 5
}
