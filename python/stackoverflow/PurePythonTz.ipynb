{
 "cells": [
  {
   "cell_type": "code",
   "execution_count": 15,
   "id": "e57789de",
   "metadata": {
    "ExecuteTime": {
     "end_time": "2022-01-31T15:31:47.256419Z",
     "start_time": "2022-01-31T15:31:47.246037Z"
    }
   },
   "outputs": [],
   "source": [
    "from datetime import datetime\n",
    "from time import timezone\n"
   ]
  },
  {
   "cell_type": "markdown",
   "id": "cb6d79d4",
   "metadata": {},
   "source": [
    " - https://stackoverflow.com/questions/70927542/convert-timezone-naive-datetime-string-to-utc-datetime-but-not-using-pytz\n",
    " - https://docs.python.org/3/library/datetime.html#datetime.datetime.tzinfo"
   ]
  },
  {
   "cell_type": "code",
   "execution_count": 4,
   "id": "4a367750",
   "metadata": {
    "ExecuteTime": {
     "end_time": "2022-01-31T15:26:48.484631Z",
     "start_time": "2022-01-31T15:26:48.480350Z"
    }
   },
   "outputs": [],
   "source": [
    "datetime_str = '01/28/2022 12:00 AM'"
   ]
  },
  {
   "cell_type": "code",
   "execution_count": 13,
   "id": "a80f40d2",
   "metadata": {
    "ExecuteTime": {
     "end_time": "2022-01-31T15:30:29.397694Z",
     "start_time": "2022-01-31T15:30:29.393082Z"
    }
   },
   "outputs": [],
   "source": [
    "UTC_TIME_FORMAT = '%Y-%m-%dT%H:%M:%SZ'\n",
    "PROVIDER_DATETIME_FORMAT = '%m/%d/%Y %I:%M %p'\n",
    "PROVIDER_TIMEZONE = 'America/Los_Angeles'"
   ]
  },
  {
   "cell_type": "code",
   "execution_count": 7,
   "id": "0f01c0b7",
   "metadata": {
    "ExecuteTime": {
     "end_time": "2022-01-31T15:26:56.345200Z",
     "start_time": "2022-01-31T15:26:56.338705Z"
    }
   },
   "outputs": [
    {
     "name": "stdout",
     "output_type": "stream",
     "text": [
      "2022-01-28 00:00:00\n"
     ]
    }
   ],
   "source": [
    "naive_date = datetime.strptime(datetime_str, PROVIDER_DATETIME_FORMAT)\n",
    "print(naive_date)"
   ]
  },
  {
   "cell_type": "code",
   "execution_count": 8,
   "id": "5cfaadcf",
   "metadata": {
    "ExecuteTime": {
     "end_time": "2022-01-31T15:27:54.223800Z",
     "start_time": "2022-01-31T15:27:54.209082Z"
    }
   },
   "outputs": [
    {
     "ename": "TypeError",
     "evalue": "descriptor 'astimezone' of 'datetime.datetime' object needs an argument",
     "output_type": "error",
     "traceback": [
      "\u001b[0;31m---------------------------------------------------------------------------\u001b[0m",
      "\u001b[0;31mTypeError\u001b[0m                                 Traceback (most recent call last)",
      "\u001b[0;32m<ipython-input-8-db2c36383cfb>\u001b[0m in \u001b[0;36m<module>\u001b[0;34m\u001b[0m\n\u001b[0;32m----> 1\u001b[0;31m \u001b[0mdatetime\u001b[0m\u001b[0;34m.\u001b[0m\u001b[0mastimezone\u001b[0m\u001b[0;34m(\u001b[0m\u001b[0mtz\u001b[0m\u001b[0;34m=\u001b[0m\u001b[0mPROVIDER_TIMEZONE\u001b[0m\u001b[0;34m)\u001b[0m\u001b[0;34m\u001b[0m\u001b[0;34m\u001b[0m\u001b[0m\n\u001b[0m",
      "\u001b[0;31mTypeError\u001b[0m: descriptor 'astimezone' of 'datetime.datetime' object needs an argument"
     ]
    }
   ],
   "source": [
    "datetime.astimezone(tz=PROVIDER_TIMEZONE)"
   ]
  },
  {
   "cell_type": "code",
   "execution_count": 14,
   "id": "7953840c",
   "metadata": {
    "ExecuteTime": {
     "end_time": "2022-01-31T15:30:35.825291Z",
     "start_time": "2022-01-31T15:30:35.818093Z"
    }
   },
   "outputs": [
    {
     "data": {
      "text/plain": [
       "['__class__',\n",
       " '__delattr__',\n",
       " '__dir__',\n",
       " '__doc__',\n",
       " '__eq__',\n",
       " '__format__',\n",
       " '__ge__',\n",
       " '__getattribute__',\n",
       " '__getinitargs__',\n",
       " '__gt__',\n",
       " '__hash__',\n",
       " '__init__',\n",
       " '__init_subclass__',\n",
       " '__le__',\n",
       " '__lt__',\n",
       " '__ne__',\n",
       " '__new__',\n",
       " '__reduce__',\n",
       " '__reduce_ex__',\n",
       " '__repr__',\n",
       " '__setattr__',\n",
       " '__sizeof__',\n",
       " '__str__',\n",
       " '__subclasshook__',\n",
       " 'dst',\n",
       " 'fromutc',\n",
       " 'max',\n",
       " 'min',\n",
       " 'tzname',\n",
       " 'utc',\n",
       " 'utcoffset']"
      ]
     },
     "execution_count": 14,
     "metadata": {},
     "output_type": "execute_result"
    }
   ],
   "source": [
    "dir(timezone)"
   ]
  },
  {
   "cell_type": "code",
   "execution_count": null,
   "id": "4bbafe88",
   "metadata": {
    "ExecuteTime": {
     "end_time": "2022-01-31T15:31:56.789567Z",
     "start_time": "2022-01-31T15:31:56.768624Z"
    }
   },
   "outputs": [],
   "source": []
  },
  {
   "cell_type": "code",
   "execution_count": null,
   "id": "46e2c2ea",
   "metadata": {},
   "outputs": [],
   "source": []
  }
 ],
 "metadata": {
  "hide_input": false,
  "kernelspec": {
   "display_name": "Python 3",
   "language": "python",
   "name": "python3"
  },
  "language_info": {
   "codemirror_mode": {
    "name": "ipython",
    "version": 3
   },
   "file_extension": ".py",
   "mimetype": "text/x-python",
   "name": "python",
   "nbconvert_exporter": "python",
   "pygments_lexer": "ipython3",
   "version": "3.6.9"
  },
  "toc": {
   "base_numbering": 1,
   "nav_menu": {},
   "number_sections": true,
   "sideBar": true,
   "skip_h1_title": false,
   "title_cell": "Table of Contents",
   "title_sidebar": "Contents",
   "toc_cell": false,
   "toc_position": {},
   "toc_section_display": true,
   "toc_window_display": false
  },
  "varInspector": {
   "cols": {
    "lenName": 16,
    "lenType": 16,
    "lenVar": 40
   },
   "kernels_config": {
    "python": {
     "delete_cmd_postfix": "",
     "delete_cmd_prefix": "del ",
     "library": "var_list.py",
     "varRefreshCmd": "print(var_dic_list())"
    },
    "r": {
     "delete_cmd_postfix": ") ",
     "delete_cmd_prefix": "rm(",
     "library": "var_list.r",
     "varRefreshCmd": "cat(var_dic_list()) "
    }
   },
   "types_to_exclude": [
    "module",
    "function",
    "builtin_function_or_method",
    "instance",
    "_Feature"
   ],
   "window_display": false
  }
 },
 "nbformat": 4,
 "nbformat_minor": 5
}
