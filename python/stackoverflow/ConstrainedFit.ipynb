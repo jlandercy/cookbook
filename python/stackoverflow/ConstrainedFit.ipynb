{
 "cells": [
  {
   "cell_type": "code",
   "execution_count": 13,
   "id": "60aabf58",
   "metadata": {
    "ExecuteTime": {
     "end_time": "2024-05-24T08:43:35.754890Z",
     "start_time": "2024-05-24T08:43:34.902599Z"
    }
   },
   "outputs": [],
   "source": [
    "import numpy as np\n",
    "import matplotlib.pyplot as plt\n",
    "from scipy import optimize\n",
    "from sklearn.metrics import r2_score"
   ]
  },
  {
   "cell_type": "markdown",
   "id": "b177d3e6",
   "metadata": {},
   "source": [
    "https://stackoverflow.com/questions/78520390/how-do-i-constrain-several-fit-parameters-to-sum-together-to-1-while-fitting-a-b"
   ]
  },
  {
   "cell_type": "code",
   "execution_count": 2,
   "id": "6a946300",
   "metadata": {
    "ExecuteTime": {
     "end_time": "2024-05-24T08:39:29.745934Z",
     "start_time": "2024-05-24T08:39:29.737301Z"
    }
   },
   "outputs": [],
   "source": [
    "x = np.array([\n",
    " 1.22212386e+00, 3.29623401e+01, 6.47035556e+01, 9.64437723e+01,\n",
    " 1.28183988e+02, 1.59925204e+02, 1.91665421e+02, 2.23405636e+02,\n",
    " 2.55145451e+02, 2.86886261e+02, 3.18627075e+02, 3.50366878e+02,\n",
    " 3.82106686e+02, 4.13846500e+02, 4.45586303e+02, 4.77327118e+02,\n",
    " 5.09067921e+02, 5.40807729e+02, 5.72547538e+02, 6.04287346e+02,\n",
    " 6.36027155e+02, 6.67767964e+02, 6.99507773e+02, 7.31248581e+02,\n",
    " 7.62988390e+02, 7.94728199e+02, 8.26468997e+02, 8.58208596e+02,\n",
    " 8.89948201e+02, 9.21687811e+02, 9.53428532e+02, 9.85169347e+02,\n",
    " 1.01690915e+03, 1.04864896e+03, 1.08038877e+03, 1.11212858e+03,\n",
    " 1.14386839e+03, 1.17561019e+03, 1.20735000e+03, 1.23908982e+03,\n",
    " 1.27082962e+03, 1.30256943e+03, 1.33431024e+03, 1.36605004e+03,\n",
    " 1.39779085e+03, 1.42953066e+03, 1.46127048e+03, 1.49301128e+03,\n",
    " 1.52475109e+03, 1.55649076e+03, 1.58823037e+03, 1.61997097e+03,\n",
    " 1.65171057e+03, 1.68345118e+03, 1.71519078e+03, 1.74693039e+03,\n",
    " 1.77866999e+03, 1.81040960e+03])\n",
    "    \n",
    "y = np.array([ \n",
    " 1.,         0.92072946, 0.93392534, 0.92599632, 0.84650909,     0.89966649,\n",
    " 0.85375192, 0.8359797,  0.81487989, 0.83947038, 0.78711305, 0.77231505,\n",
    " 0.74861849, 0.67860406, 0.73989558, 0.78446446, 0.72500833, 0.72903779,\n",
    " 0.69205116, 0.73345758, 0.71143277, 0.71248356, 0.67470885, 0.67626045,\n",
    " 0.63480034, 0.68824323, 0.69961798, 0.68302773, 0.64354886, 0.64451215,\n",
    " 0.63644302, 0.63616151, 0.63049777, 0.62942254, 0.67511705, 0.62839769,\n",
    " 0.61536734, 0.58931514, 0.60952486, 0.59674224, 0.55770579, 0.58915328,\n",
    " 0.5567563 , 0.58849712, 0.50377624, 0.50890445, 0.5446239,  0.51436443,\n",
    " 0.52945348, 0.55326716, 0.51701847, 0.5240366,  0.54487462, 0.50567212,\n",
    " 0.49233296, 0.5107218,  0.56567484, 0.48162376])"
   ]
  },
  {
   "cell_type": "code",
   "execution_count": null,
   "id": "f36f8a39",
   "metadata": {
    "ExecuteTime": {
     "end_time": "2024-05-24T08:18:23.387700Z",
     "start_time": "2024-05-24T08:18:23.374868Z"
    }
   },
   "outputs": [],
   "source": []
  },
  {
   "cell_type": "code",
   "execution_count": 3,
   "id": "d516ecf0",
   "metadata": {
    "ExecuteTime": {
     "end_time": "2024-05-24T08:39:29.752472Z",
     "start_time": "2024-05-24T08:39:29.748708Z"
    }
   },
   "outputs": [],
   "source": [
    "def model(x, y0, a1, k1, a2, k2):\n",
    "    return y0 + a1 * np.exp(-k1 * x) + a2 * np.exp(-k2 * x)"
   ]
  },
  {
   "cell_type": "code",
   "execution_count": 4,
   "id": "b8438415",
   "metadata": {
    "ExecuteTime": {
     "end_time": "2024-05-24T08:39:29.760711Z",
     "start_time": "2024-05-24T08:39:29.756948Z"
    }
   },
   "outputs": [],
   "source": [
    "def constraint(p):\n",
    "    return p[0] + p[1] + p[3] - 1"
   ]
  },
  {
   "cell_type": "code",
   "execution_count": 5,
   "id": "8831d706",
   "metadata": {
    "ExecuteTime": {
     "end_time": "2024-05-24T08:39:29.767236Z",
     "start_time": "2024-05-24T08:39:29.763824Z"
    }
   },
   "outputs": [],
   "source": [
    "def factory(x, y, model):\n",
    "    def wrapped(p):\n",
    "        return 0.5 * np.sum(np.power((y - model(x, *p)), 2))\n",
    "    return wrapped"
   ]
  },
  {
   "cell_type": "code",
   "execution_count": 6,
   "id": "bab0d562",
   "metadata": {
    "ExecuteTime": {
     "end_time": "2024-05-24T08:39:29.773408Z",
     "start_time": "2024-05-24T08:39:29.770424Z"
    }
   },
   "outputs": [],
   "source": [
    "objective = factory(x, y, model)"
   ]
  },
  {
   "cell_type": "code",
   "execution_count": 10,
   "id": "b1cd1da6",
   "metadata": {
    "ExecuteTime": {
     "end_time": "2024-05-24T08:41:14.523293Z",
     "start_time": "2024-05-24T08:41:14.417114Z"
    }
   },
   "outputs": [
    {
     "data": {
      "text/plain": [
       " message: Optimization terminated successfully\n",
       " success: True\n",
       "  status: 0\n",
       "     fun: 0.019907739276457715\n",
       "       x: [ 9.223e-02  1.463e-01  6.761e-03  7.615e-01  3.479e-04]\n",
       "     nit: 53\n",
       "     jac: [ 1.569e-02  1.867e-02 -1.349e-02  1.672e-02  2.817e+00]\n",
       "    nfev: 332\n",
       "    njev: 53"
      ]
     },
     "execution_count": 10,
     "metadata": {},
     "output_type": "execute_result"
    }
   ],
   "source": [
    "sol = optimize.minimize(\n",
    "    objective,\n",
    "    x0=[0, 0, 0, 0, 0],\n",
    "    bounds=[(0., np.inf)]*5,\n",
    "    constraints=[{\"type\": \"eq\", \"fun\": constraint}]\n",
    ")\n",
    "sol"
   ]
  },
  {
   "cell_type": "code",
   "execution_count": 11,
   "id": "aeeade82",
   "metadata": {
    "ExecuteTime": {
     "end_time": "2024-05-24T08:42:30.246053Z",
     "start_time": "2024-05-24T08:42:30.238639Z"
    }
   },
   "outputs": [
    {
     "data": {
      "text/plain": [
       "0.0"
      ]
     },
     "execution_count": 11,
     "metadata": {},
     "output_type": "execute_result"
    }
   ],
   "source": [
    "constraint(sol.x)"
   ]
  },
  {
   "cell_type": "code",
   "execution_count": 19,
   "id": "d8776cd1",
   "metadata": {
    "ExecuteTime": {
     "end_time": "2024-05-24T08:46:45.768532Z",
     "start_time": "2024-05-24T08:46:45.760519Z"
    }
   },
   "outputs": [
    {
     "data": {
      "text/plain": [
       "0.9581254317380687"
      ]
     },
     "execution_count": 19,
     "metadata": {},
     "output_type": "execute_result"
    }
   ],
   "source": [
    "yhat = model(x, *sol.x)\n",
    "score = r2_score(y, yhat)\n",
    "score"
   ]
  },
  {
   "cell_type": "code",
   "execution_count": null,
   "id": "47eca44b",
   "metadata": {},
   "outputs": [],
   "source": []
  },
  {
   "cell_type": "code",
   "execution_count": 15,
   "id": "f0282800",
   "metadata": {
    "ExecuteTime": {
     "end_time": "2024-05-24T08:46:15.875223Z",
     "start_time": "2024-05-24T08:46:15.868791Z"
    }
   },
   "outputs": [],
   "source": [
    "xlin = np.linspace(x.min(), x.max(), 200)\n",
    "ylin = model(xlin, *sol.x)"
   ]
  },
  {
   "cell_type": "code",
   "execution_count": 16,
   "id": "2df7ed7d",
   "metadata": {
    "ExecuteTime": {
     "end_time": "2024-05-24T08:46:16.224698Z",
     "start_time": "2024-05-24T08:46:15.987229Z"
    }
   },
   "outputs": [
    {
     "data": {
      "image/png": "[encoded data removed]",
      "text/plain": [
       "<Figure size 640x480 with 1 Axes>"
      ]
     },
     "metadata": {},
     "output_type": "display_data"
    }
   ],
   "source": [
    "fig, axe = plt.subplots()\n",
    "axe.scatter(x, y)\n",
    "axe.plot(xlin, ylin)\n",
    "axe.grid()"
   ]
  },
  {
   "cell_type": "code",
   "execution_count": null,
   "id": "aea5710c",
   "metadata": {
    "ExecuteTime": {
     "end_time": "2024-05-24T08:55:31.976778Z",
     "start_time": "2024-05-24T08:55:31.844718Z"
    }
   },
   "outputs": [],
   "source": []
  },
  {
   "cell_type": "code",
   "execution_count": null,
   "id": "8370df42",
   "metadata": {},
   "outputs": [],
   "source": []
  }
 ],
 "metadata": {
  "hide_input": false,
  "kernelspec": {
   "display_name": "Python 3",
   "language": "python",
   "name": "python3"
  },
  "language_info": {
   "codemirror_mode": {
    "name": "ipython",
    "version": 3
   },
   "file_extension": ".py",
   "mimetype": "text/x-python",
   "name": "python",
   "nbconvert_exporter": "python",
   "pygments_lexer": "ipython3",
   "version": "3.10.6"
  },
  "toc": {
   "base_numbering": 1,
   "nav_menu": {},
   "number_sections": true,
   "sideBar": true,
   "skip_h1_title": false,
   "title_cell": "Table of Contents",
   "title_sidebar": "Contents",
   "toc_cell": false,
   "toc_position": {},
   "toc_section_display": true,
   "toc_window_display": false
  },
  "varInspector": {
   "cols": {
    "lenName": 16,
    "lenType": 16,
    "lenVar": 40
   },
   "kernels_config": {
    "python": {
     "delete_cmd_postfix": "",
     "delete_cmd_prefix": "del ",
     "library": "var_list.py",
     "varRefreshCmd": "print(var_dic_list())"
    },
    "r": {
     "delete_cmd_postfix": ") ",
     "delete_cmd_prefix": "rm(",
     "library": "var_list.r",
     "varRefreshCmd": "cat(var_dic_list()) "
    }
   },
   "types_to_exclude": [
    "module",
    "function",
    "builtin_function_or_method",
    "instance",
    "_Feature"
   ],
   "window_display": false
  }
 },
 "nbformat": 4,
 "nbformat_minor": 5
}
