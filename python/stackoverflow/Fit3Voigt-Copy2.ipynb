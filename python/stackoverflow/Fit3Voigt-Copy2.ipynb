{
 "cells": [
  {
   "cell_type": "code",
   "execution_count": 1,
   "id": "fcf4cd5a",
   "metadata": {
    "ExecuteTime": {
     "end_time": "2024-01-13T10:40:44.715500Z",
     "start_time": "2024-01-13T10:40:42.480623Z"
    }
   },
   "outputs": [],
   "source": [
    "import numpy as np\n",
    "import matplotlib.pyplot as plt\n",
    "from scipy import optimize\n",
    "from sklearn.metrics import r2_score"
   ]
  },
  {
   "cell_type": "code",
   "execution_count": 2,
   "id": "8649d46b",
   "metadata": {
    "ExecuteTime": {
     "end_time": "2024-01-13T10:40:44.733040Z",
     "start_time": "2024-01-13T10:40:44.722095Z"
    }
   },
   "outputs": [],
   "source": [
    "x = np.arange(58.1, 71.96, 0.05)\n",
    "y = np.array([12, 10, 16, 18, 13, 14, 15, 21, 26, 16, 16, 16, 15, 15, 31, 22, 23, 22, 23, 31, 31, 36, 29, 30, 44, 43, 45, 39, 67, 67, 62, 83, 79, 92, 93, 128, 177, 187, 251, 289, 334, 414, 509, 549, 623, 680, 751, 769, 816, 742, 701, 721, 599, 540, 498, 425, 339, 293, 212, 172, 157, 142, 115, 95, 84, 86, 81, 78, 58, 47, 52, 62, 47, 44, 39, 44, 50, 34, 28, 36, 36, 28, 34, 24, 28, 28, 37, 40, 33, 45, 44, 32, 32, 47, 41, 46, 41, 56, 46, 50, 59, 71, 72, 63, 62, 77, 89, 62, 93, 96, 114, 97, 123, 140, 137, 146, 138, 187, 213, 219, 239, 255, 287, 314, 336, 386, 401, 434, 467, 499, 534, 635, 597, 588, 597, 671, 725, 693, 751, 759, 727, 758, 763, 720, 706, 655, 650, 595, 608, 565, 522, 511, 433, 499, 448, 387, 371, 365, 324, 312, 326, 306, 292, 266, 282, 238, 265, 278, 242, 209, 226, 254, 236, 233, 232, 225, 220, 205, 209, 234, 214, 234, 234, 205, 194, 223, 201, 226, 214, 234, 241, 226, 269, 272, 303, 261, 272, 277, 284, 308, 324, 286, 307, 329, 281, 280, 257, 227, 239, 234, 221, 181, 195, 190, 164, 158, 131, 118, 118, 106, 108, 70, 104, 74, 76, 70, 52, 57, 56, 36, 44, 40, 48, 40, 33, 23, 28, 25, 24, 20, 20, 24, 31, 19, 23, 24, 15, 18, 12, 14, 11, 14, 14, 21, 20, 14, 12, 10, 11, 13, 5, 14, 11, 10, 11, 8, 8, 6, 10, 5, 11, 13, 8, 14, 6, 8, 3, 7])"
   ]
  },
  {
   "cell_type": "markdown",
   "id": "deb4016f",
   "metadata": {
    "ExecuteTime": {
     "end_time": "2024-01-12T19:09:22.381696Z",
     "start_time": "2024-01-12T19:09:22.376298Z"
    }
   },
   "source": [
    "https://stackoverflow.com/questions/77807226/scipy-optimize-curve-fit-does-not-fit-properly"
   ]
  },
  {
   "cell_type": "code",
   "execution_count": 3,
   "id": "da856655",
   "metadata": {
    "ExecuteTime": {
     "end_time": "2024-01-13T10:40:44.742232Z",
     "start_time": "2024-01-13T10:40:44.735962Z"
    }
   },
   "outputs": [],
   "source": [
    "def peak(x, alpha, A, x0, s, b):\n",
    "    return A * (\n",
    "        (1 - alpha)*(1 / (s * (np.sqrt(2 * np.pi)))) * np.exp(-0.5 * np.power((x - x0) / s, 2)) + \\\n",
    "        alpha / np.pi * (s / (np.power((x - x0), 2) + np.power(s, 2)))\n",
    "    ) + b\n",
    "\n",
    "def model(x, alpha1, A1, x01, s1, alpha2, A2, x02, s2, alpha3, A3, x03, s3, b):\n",
    "    return (\n",
    "          peak(x, alpha1, A1, x01, s1, b)\n",
    "        + peak(x, alpha2, A2, x02, s2, b)\n",
    "        + peak(x, alpha3, A3, x03, s3, b)\n",
    "    )"
   ]
  },
  {
   "cell_type": "code",
   "execution_count": 4,
   "id": "a21e6c76",
   "metadata": {
    "ExecuteTime": {
     "end_time": "2024-01-13T10:40:44.751975Z",
     "start_time": "2024-01-13T10:40:44.746345Z"
    }
   },
   "outputs": [],
   "source": [
    "bounds_min = [\n",
    "    0, 0, 60, 0,\n",
    "    0, 0, 64, 0,\n",
    "    0, 0, 67, 0,\n",
    "    -10,\n",
    "]\n",
    "bounds_max = [\n",
    "    1, np.inf, 62, 2,\n",
    "    1, np.inf, 66, 2,\n",
    "    1, np.inf, 70, 2,\n",
    "    10.,\n",
    "]\n",
    "\n",
    "alpha1, A1, x01, s1 = 0.5, 600, 60.4, 1\n",
    "alpha2, A2, x02, s2 = 0.5, 1000, 64.9, 1\n",
    "alpha3, A3, x03, s3 = 0.5, 350, 68.3, 0.7\n",
    "\n",
    "p0 = [\n",
    "    alpha1, A1, x01, s1,\n",
    "    alpha2, A2, x02, s2,\n",
    "    alpha3, A3, x03, s3,  \n",
    "]\n",
    "\n",
    "p0 = [\n",
    "    5.10442033e-01, 7.00127080e+02, 6.04952879e+01, 3.21730995e-01,\n",
    "    6.72779986e-01, 1.54345195e+03, 6.51267584e+01, 7.25269574e-01,\n",
    "    2.02872332e-01, 5.77649099e+02, 6.80000000e+01, 8.64038336e-01,\n",
    "]"
   ]
  },
  {
   "cell_type": "code",
   "execution_count": null,
   "id": "45479ac1",
   "metadata": {
    "ExecuteTime": {
     "end_time": "2024-01-13T10:17:14.781531Z",
     "start_time": "2024-01-13T10:17:14.773981Z"
    }
   },
   "outputs": [],
   "source": []
  },
  {
   "cell_type": "code",
   "execution_count": null,
   "id": "22cbeceb",
   "metadata": {},
   "outputs": [],
   "source": []
  },
  {
   "cell_type": "code",
   "execution_count": 5,
   "id": "ed4c8098",
   "metadata": {
    "ExecuteTime": {
     "end_time": "2024-01-13T10:40:44.855345Z",
     "start_time": "2024-01-13T10:40:44.754704Z"
    }
   },
   "outputs": [],
   "source": [
    "popt, pcov = optimize.curve_fit(\n",
    "    model, x, y,\n",
    "    bounds=(bounds_min, bounds_max)\n",
    ")"
   ]
  },
  {
   "cell_type": "code",
   "execution_count": 6,
   "id": "f1a0a995",
   "metadata": {
    "ExecuteTime": {
     "end_time": "2024-01-13T10:40:44.869822Z",
     "start_time": "2024-01-13T10:40:44.857903Z"
    }
   },
   "outputs": [
    {
     "data": {
      "text/plain": [
       "array([5.47454610e-01, 7.11445399e+02, 6.04956408e+01, 3.22783279e-01,\n",
       "       6.07553375e-01, 1.48345124e+03, 6.51134457e+01, 7.05897429e-01,\n",
       "       2.90916120e-02, 5.87380342e+02, 6.78878208e+01, 9.19652025e-01,\n",
       "       1.40132572e-01])"
      ]
     },
     "execution_count": 6,
     "metadata": {},
     "output_type": "execute_result"
    }
   ],
   "source": [
    "popt"
   ]
  },
  {
   "cell_type": "code",
   "execution_count": 7,
   "id": "318130b9",
   "metadata": {
    "ExecuteTime": {
     "end_time": "2024-01-13T10:40:44.876867Z",
     "start_time": "2024-01-13T10:40:44.872171Z"
    }
   },
   "outputs": [
    {
     "data": {
      "text/plain": [
       "array([6.05066501e-02, 1.85176731e+01, 3.53344668e-03, 4.63401020e-03,\n",
       "       5.19141134e-02, 3.55510240e+01, 6.92554480e-03, 9.06962755e-03,\n",
       "       2.10375861e-01, 4.68867800e+01, 2.27484940e-02, 2.59674755e-02,\n",
       "       1.40291058e+00])"
      ]
     },
     "execution_count": 7,
     "metadata": {},
     "output_type": "execute_result"
    }
   ],
   "source": [
    "spopt = np.sqrt(np.diag(pcov))\n",
    "spopt"
   ]
  },
  {
   "cell_type": "code",
   "execution_count": 8,
   "id": "a6ffd494",
   "metadata": {
    "ExecuteTime": {
     "end_time": "2024-01-13T10:40:44.883468Z",
     "start_time": "2024-01-13T10:40:44.879224Z"
    }
   },
   "outputs": [
    {
     "data": {
      "text/plain": [
       "array([1.10523592e-01, 2.60282421e-02, 5.84082859e-05, 1.43564134e-02,\n",
       "       8.54478232e-02, 2.39650775e-02, 1.06361209e-04, 1.28483646e-02,\n",
       "       7.23149551e+00, 7.98235431e-02, 3.35089472e-04, 2.82361968e-02,\n",
       "       1.00113097e+01])"
      ]
     },
     "execution_count": 8,
     "metadata": {},
     "output_type": "execute_result"
    }
   ],
   "source": [
    "rsd = spopt / popt\n",
    "rsd"
   ]
  },
  {
   "cell_type": "code",
   "execution_count": null,
   "id": "a14da401",
   "metadata": {},
   "outputs": [],
   "source": []
  },
  {
   "cell_type": "code",
   "execution_count": 9,
   "id": "05669cd8",
   "metadata": {
    "ExecuteTime": {
     "end_time": "2024-01-13T10:40:44.889284Z",
     "start_time": "2024-01-13T10:40:44.885935Z"
    }
   },
   "outputs": [],
   "source": [
    "xlin = np.linspace(x.min(), x.max(), 500)\n",
    "yhat = model(xlin, *popt)"
   ]
  },
  {
   "cell_type": "code",
   "execution_count": 10,
   "id": "d9d51355",
   "metadata": {
    "ExecuteTime": {
     "end_time": "2024-01-13T10:40:44.900506Z",
     "start_time": "2024-01-13T10:40:44.894056Z"
    }
   },
   "outputs": [
    {
     "data": {
      "text/plain": [
       "0.9918069181541809"
      ]
     },
     "execution_count": 10,
     "metadata": {},
     "output_type": "execute_result"
    }
   ],
   "source": [
    "score = r2_score(y, model(x, *popt))\n",
    "score"
   ]
  },
  {
   "cell_type": "code",
   "execution_count": null,
   "id": "c4d21359",
   "metadata": {},
   "outputs": [],
   "source": []
  },
  {
   "cell_type": "code",
   "execution_count": null,
   "id": "7485440d",
   "metadata": {},
   "outputs": [],
   "source": []
  },
  {
   "cell_type": "code",
   "execution_count": 11,
   "id": "82f249c3",
   "metadata": {
    "ExecuteTime": {
     "end_time": "2024-01-13T10:40:45.295018Z",
     "start_time": "2024-01-13T10:40:44.903652Z"
    }
   },
   "outputs": [
    {
     "data": {
      "image/png": "[encoded data removed]",
      "text/plain": [
       "<Figure size 640x480 with 1 Axes>"
      ]
     },
     "metadata": {},
     "output_type": "display_data"
    }
   ],
   "source": [
    "fig, axe = plt.subplots()\n",
    "axe.scatter(x, y, marker=\".\")\n",
    "#axe.plot(xlin, peak(xlin, *popt[0:4]), \"--\", color=\"gray\")\n",
    "#axe.plot(xlin, peak(xlin, *popt[4:8]), \"--\", color=\"gray\")\n",
    "#axe.plot(xlin, peak(xlin, *popt[8:12]), \"--\", color=\"gray\")\n",
    "axe.plot(xlin, yhat, color=\"orange\")\n",
    "axe.grid()"
   ]
  },
  {
   "cell_type": "code",
   "execution_count": null,
   "id": "4d97792d",
   "metadata": {},
   "outputs": [],
   "source": []
  },
  {
   "cell_type": "code",
   "execution_count": null,
   "id": "51cd03a8",
   "metadata": {},
   "outputs": [],
   "source": []
  },
  {
   "cell_type": "code",
   "execution_count": null,
   "id": "0aa8329a",
   "metadata": {},
   "outputs": [],
   "source": []
  },
  {
   "cell_type": "code",
   "execution_count": null,
   "id": "8f8ea407",
   "metadata": {},
   "outputs": [],
   "source": []
  }
 ],
 "metadata": {
  "hide_input": false,
  "kernelspec": {
   "display_name": "Python 3",
   "language": "python",
   "name": "python3"
  },
  "language_info": {
   "codemirror_mode": {
    "name": "ipython",
    "version": 3
   },
   "file_extension": ".py",
   "mimetype": "text/x-python",
   "name": "python",
   "nbconvert_exporter": "python",
   "pygments_lexer": "ipython3",
   "version": "3.10.6"
  },
  "toc": {
   "base_numbering": 1,
   "nav_menu": {},
   "number_sections": true,
   "sideBar": true,
   "skip_h1_title": false,
   "title_cell": "Table of Contents",
   "title_sidebar": "Contents",
   "toc_cell": false,
   "toc_position": {},
   "toc_section_display": true,
   "toc_window_display": false
  },
  "varInspector": {
   "cols": {
    "lenName": 16,
    "lenType": 16,
    "lenVar": 40
   },
   "kernels_config": {
    "python": {
     "delete_cmd_postfix": "",
     "delete_cmd_prefix": "del ",
     "library": "var_list.py",
     "varRefreshCmd": "print(var_dic_list())"
    },
    "r": {
     "delete_cmd_postfix": ") ",
     "delete_cmd_prefix": "rm(",
     "library": "var_list.r",
     "varRefreshCmd": "cat(var_dic_list()) "
    }
   },
   "types_to_exclude": [
    "module",
    "function",
    "builtin_function_or_method",
    "instance",
    "_Feature"
   ],
   "window_display": false
  }
 },
 "nbformat": 4,
 "nbformat_minor": 5
}
