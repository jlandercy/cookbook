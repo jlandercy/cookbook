{
 "cells": [
  {
   "cell_type": "code",
   "execution_count": 1,
   "id": "b449e2ef",
   "metadata": {
    "ExecuteTime": {
     "end_time": "2022-08-28T09:20:36.980530Z",
     "start_time": "2022-08-28T09:20:36.969320Z"
    }
   },
   "outputs": [],
   "source": [
    "import re"
   ]
  },
  {
   "cell_type": "code",
   "execution_count": 2,
   "id": "e907e6cb",
   "metadata": {
    "ExecuteTime": {
     "end_time": "2022-08-28T09:20:36.988080Z",
     "start_time": "2022-08-28T09:20:36.984012Z"
    }
   },
   "outputs": [],
   "source": [
    "text = \"\"\"\n",
    "<VCA \"MOD: SNY DRE2000\" \"198810602{C351DA01309347FC9035AD08829527F2}\"\n",
    "        \n",
    "6pvZC+5e7f4IAAAAAQAAAAAAAAACAAAAAAAAAAQAAAAAAAAACAAAAAAAAAAQAAAAAAAAACAAAAAAAAAAQAAAAAAAAACAAAAAAAAAAAQAAAABAAAAAAAAAAIAAAAAAAAA==\n",
    "7S4BAAEAAADpLgEAPD94bWwgdmVyc2lvbj0iMS4wIiBlbmNvZGluZz0iVVRGLTgiPz48UHJlc2V0IHZlcnNpb249IjQiIHByb2dOYW1lPSJEZWZhdWx0IiBjdXJyZW50\n",
    "        \n",
    "      >\n",
    "      ALFATDAT 0 0 0 0\n",
    "      NXII {48A0E253-5988-4F15-8331-26B2B860EC0C}\n",
    "      CAB 0 0\n",
    "    >\n",
    "<VCA \"MOD: SNY DRE2000\" \"198810602{C351DA01309347FC9035AD08829527F2}\"\n",
    "        \n",
    "6pvZC+5e7f4IAAAAAQAAAAAAAAACAAAAAAAAAAQAAAAAAAAACAAAAAAAAAAQAAAAAAAAACAAAAAAAAAAQAAAAAAAAACAAAAAAAAAAAQAAAABAAAAAAAAAAIAAAAAAAAA==\n",
    "7S4BAAEAAADpLgEAPD94bWwgdmVyc2lvbj0iMS4wIiBlbmNvZGluZz0iVVRGLTgiPz48UHJlc2V0IHZlcnNpb249IjQiIHByb2dOYW1lPSJEZWZhdWx0IiBjdXJyZW50\n",
    "        \n",
    "      >\n",
    "      ALFATDAT 0 0 0 0\n",
    "      NXII {48A0E253-5988-4F15-8331-26B2B860EC0C}\n",
    "      CAB 0 0\n",
    "    >\n",
    "<VCA \"MOD: SNY DRE2000\" \"198810602{C351DA01309347FC9035AD08829527F2}\"\n",
    "        \n",
    "6pvZC+5e7f4IAAAAAQAAAAAAAAACAAAAAAAAAAQAAAAAAAAACAAAAAAAAAAQAAAAAAAAACAAAAAAAAAAQAAAAAAAAACAAAAAAAAAAAQAAAABAAAAAAAAAAIAAAAAAAAA==\n",
    "7S4BAAEAAADpLgEAPD94bWwgdmVyc2lvbj0iMS4wIiBlbmNvZGluZz0iVVRGLTgiPz48UHJlc2V0IHZlcnNpb249IjQiIHByb2dOYW1lPSJEZWZhdWx0IiBjdXJyZW50\n",
    "        \n",
    "      >\n",
    "      ALFATDAT 0 0 0 0\n",
    "      NXII {48A0E253-5988-4F15-8331-26B2B860EC0C}\n",
    "      CAB 0 0\n",
    "    >\n",
    "\"\"\""
   ]
  },
  {
   "cell_type": "code",
   "execution_count": null,
   "id": "a47b8935",
   "metadata": {
    "ExecuteTime": {
     "end_time": "2022-08-28T09:06:52.598824Z",
     "start_time": "2022-08-28T09:06:52.594111Z"
    }
   },
   "outputs": [],
   "source": []
  },
  {
   "cell_type": "code",
   "execution_count": 21,
   "id": "e66c9157",
   "metadata": {
    "ExecuteTime": {
     "end_time": "2022-08-28T09:22:25.355623Z",
     "start_time": "2022-08-28T09:22:25.349297Z"
    }
   },
   "outputs": [],
   "source": [
    "rows = re.compile('<VCA \"MOD: (?P<test>.*)\"(.*)>\\n<VCA', re.DOTALL)"
   ]
  },
  {
   "cell_type": "code",
   "execution_count": 22,
   "id": "b4b1fba3",
   "metadata": {
    "ExecuteTime": {
     "end_time": "2022-08-28T09:22:25.757339Z",
     "start_time": "2022-08-28T09:22:25.752324Z"
    }
   },
   "outputs": [
    {
     "data": {
      "text/plain": [
       "[('SNY DRE2000\" \"198810602{C351DA01309347FC9035AD08829527F2}\"\\n        \\n6pvZC+5e7f4IAAAAAQAAAAAAAAACAAAAAAAAAAQAAAAAAAAACAAAAAAAAAAQAAAAAAAAACAAAAAAAAAAQAAAAAAAAACAAAAAAAAAAAQAAAABAAAAAAAAAAIAAAAAAAAA==\\n7S4BAAEAAADpLgEAPD94bWwgdmVyc2lvbj0iMS4wIiBlbmNvZGluZz0iVVRGLTgiPz48UHJlc2V0IHZlcnNpb249IjQiIHByb2dOYW1lPSJEZWZhdWx0IiBjdXJyZW50\\n        \\n      >\\n      ALFATDAT 0 0 0 0\\n      NXII {48A0E253-5988-4F15-8331-26B2B860EC0C}\\n      CAB 0 0\\n    >\\n<VCA \"MOD: SNY DRE2000\" \"198810602{C351DA01309347FC9035AD08829527F2}',\n",
       "  '\\n        \\n6pvZC+5e7f4IAAAAAQAAAAAAAAACAAAAAAAAAAQAAAAAAAAACAAAAAAAAAAQAAAAAAAAACAAAAAAAAAAQAAAAAAAAACAAAAAAAAAAAQAAAABAAAAAAAAAAIAAAAAAAAA==\\n7S4BAAEAAADpLgEAPD94bWwgdmVyc2lvbj0iMS4wIiBlbmNvZGluZz0iVVRGLTgiPz48UHJlc2V0IHZlcnNpb249IjQiIHByb2dOYW1lPSJEZWZhdWx0IiBjdXJyZW50\\n        \\n      >\\n      ALFATDAT 0 0 0 0\\n      NXII {48A0E253-5988-4F15-8331-26B2B860EC0C}\\n      CAB 0 0\\n    ')]"
      ]
     },
     "execution_count": 22,
     "metadata": {},
     "output_type": "execute_result"
    }
   ],
   "source": [
    "results = rows.findall(text)\n",
    "results"
   ]
  },
  {
   "cell_type": "code",
   "execution_count": 27,
   "id": "137296a8",
   "metadata": {
    "ExecuteTime": {
     "end_time": "2022-08-28T09:22:50.656406Z",
     "start_time": "2022-08-28T09:22:50.651513Z"
    }
   },
   "outputs": [
    {
     "data": {
      "text/plain": [
       "'\\n        \\n6pvZC+5e7f4IAAAAAQAAAAAAAAACAAAAAAAAAAQAAAAAAAAACAAAAAAAAAAQAAAAAAAAACAAAAAAAAAAQAAAAAAAAACAAAAAAAAAAAQAAAABAAAAAAAAAAIAAAAAAAAA==\\n7S4BAAEAAADpLgEAPD94bWwgdmVyc2lvbj0iMS4wIiBlbmNvZGluZz0iVVRGLTgiPz48UHJlc2V0IHZlcnNpb249IjQiIHByb2dOYW1lPSJEZWZhdWx0IiBjdXJyZW50\\n        \\n      >\\n      ALFATDAT 0 0 0 0\\n      NXII {48A0E253-5988-4F15-8331-26B2B860EC0C}\\n      CAB 0 0\\n    '"
      ]
     },
     "execution_count": 27,
     "metadata": {},
     "output_type": "execute_result"
    }
   ],
   "source": [
    "results[0][1]"
   ]
  },
  {
   "cell_type": "code",
   "execution_count": 6,
   "id": "1a88b3c2",
   "metadata": {
    "ExecuteTime": {
     "end_time": "2022-08-28T09:20:37.025147Z",
     "start_time": "2022-08-28T09:20:37.022221Z"
    }
   },
   "outputs": [],
   "source": [
    "import base64"
   ]
  },
  {
   "cell_type": "code",
   "execution_count": 7,
   "id": "740fb232",
   "metadata": {
    "ExecuteTime": {
     "end_time": "2022-08-28T09:20:37.031662Z",
     "start_time": "2022-08-28T09:20:37.027773Z"
    }
   },
   "outputs": [],
   "source": [
    "b = \"6pvZC+5e7f4IAAAAAQAAAAAAAAACAAAAAAAAAAQAAAAAAAAACAAAAAAAAAAQAAAAAAAAACAAAAAAAAAAQAAAAAAAAACAAAAAAAAAAAQAAAABAAAAAAAAAAIAAAAAAAAA==\""
   ]
  },
  {
   "cell_type": "code",
   "execution_count": 8,
   "id": "c31e60cd",
   "metadata": {
    "ExecuteTime": {
     "end_time": "2022-08-28T09:20:37.041495Z",
     "start_time": "2022-08-28T09:20:37.034988Z"
    }
   },
   "outputs": [
    {
     "data": {
      "text/plain": [
       "b'6pvZC+5e7f4IAAAAAQAAAAAAAAACAAAAAAAAAAQAAAAAAAAACAAAAAAAAAAQAAAAAAAAACAAAAAAAAAAQAAAAAAAAACAAAAAAAAAAAQAAAABAAAAAAAAAAIAAAAAAAAA'"
      ]
     },
     "execution_count": 8,
     "metadata": {},
     "output_type": "execute_result"
    }
   ],
   "source": [
    "base64.b64encode(base64.b64decode(b))"
   ]
  },
  {
   "cell_type": "code",
   "execution_count": null,
   "id": "467f46ce",
   "metadata": {},
   "outputs": [],
   "source": []
  }
 ],
 "metadata": {
  "hide_input": false,
  "kernelspec": {
   "display_name": "Python 3",
   "language": "python",
   "name": "python3"
  },
  "language_info": {
   "codemirror_mode": {
    "name": "ipython",
    "version": 3
   },
   "file_extension": ".py",
   "mimetype": "text/x-python",
   "name": "python",
   "nbconvert_exporter": "python",
   "pygments_lexer": "ipython3",
   "version": "3.6.9"
  },
  "toc": {
   "base_numbering": 1,
   "nav_menu": {},
   "number_sections": true,
   "sideBar": true,
   "skip_h1_title": false,
   "title_cell": "Table of Contents",
   "title_sidebar": "Contents",
   "toc_cell": false,
   "toc_position": {},
   "toc_section_display": true,
   "toc_window_display": false
  },
  "varInspector": {
   "cols": {
    "lenName": 16,
    "lenType": 16,
    "lenVar": 40
   },
   "kernels_config": {
    "python": {
     "delete_cmd_postfix": "",
     "delete_cmd_prefix": "del ",
     "library": "var_list.py",
     "varRefreshCmd": "print(var_dic_list())"
    },
    "r": {
     "delete_cmd_postfix": ") ",
     "delete_cmd_prefix": "rm(",
     "library": "var_list.r",
     "varRefreshCmd": "cat(var_dic_list()) "
    }
   },
   "types_to_exclude": [
    "module",
    "function",
    "builtin_function_or_method",
    "instance",
    "_Feature"
   ],
   "window_display": false
  }
 },
 "nbformat": 4,
 "nbformat_minor": 5
}
