{
 "cells": [
  {
   "cell_type": "markdown",
   "metadata": {
    "ExecuteTime": {
     "end_time": "2020-10-10T15:29:46.394934Z",
     "start_time": "2020-10-10T15:29:46.389161Z"
    }
   },
   "source": [
    "$$\n",
    "\\sin(x^2) = \\sum\\limits_{k=0}^\\infty \\frac{(-1)^k (x^2)^{1 + 2 k}}{(1 + 2 k)!}\n",
    "$$"
   ]
  },
  {
   "cell_type": "code",
   "execution_count": 9,
   "metadata": {
    "ExecuteTime": {
     "end_time": "2020-10-10T15:38:29.817991Z",
     "start_time": "2020-10-10T15:38:29.810845Z"
    }
   },
   "outputs": [],
   "source": [
    "import numpy as np"
   ]
  },
  {
   "cell_type": "code",
   "execution_count": 41,
   "metadata": {
    "ExecuteTime": {
     "end_time": "2020-10-10T15:46:10.149000Z",
     "start_time": "2020-10-10T15:46:10.080528Z"
    }
   },
   "outputs": [],
   "source": [
    "def dev(x, eps=1e-6):\n",
    "    f = 1\n",
    "    x = x**2\n",
    "    e = 1\n",
    "    d = 1\n",
    "    s0 = 0\n",
    "    while True:\n",
    "        s = s0\n",
    "        s0 += f*x**e/d\n",
    "        print(f, x, e, d)\n",
    "        if abs(s-s0) < eps:\n",
    "            break\n",
    "        f *= -1\n",
    "        x *= x**4\n",
    "        e += 2\n",
    "        d *= e\n",
    "        \n",
    "    return s0"
   ]
  },
  {
   "cell_type": "code",
   "execution_count": 42,
   "metadata": {
    "ExecuteTime": {
     "end_time": "2020-10-10T15:46:10.300273Z",
     "start_time": "2020-10-10T15:46:10.259065Z"
    }
   },
   "outputs": [
    {
     "name": "stdout",
     "output_type": "stream",
     "text": [
      "1 0.25 1 1\n",
      "-1 0.0009765625 3 3\n"
     ]
    },
    {
     "data": {
      "text/plain": [
       "0.24999999968955913"
      ]
     },
     "execution_count": 42,
     "metadata": {},
     "output_type": "execute_result"
    }
   ],
   "source": [
    "dev(0.5)"
   ]
  },
  {
   "cell_type": "code",
   "execution_count": 43,
   "metadata": {
    "ExecuteTime": {
     "end_time": "2020-10-10T15:46:10.399535Z",
     "start_time": "2020-10-10T15:46:10.376723Z"
    }
   },
   "outputs": [
    {
     "data": {
      "text/plain": [
       "0.24740395925452294"
      ]
     },
     "execution_count": 43,
     "metadata": {},
     "output_type": "execute_result"
    }
   ],
   "source": [
    "np.sin(0.5**2)"
   ]
  },
  {
   "cell_type": "code",
   "execution_count": null,
   "metadata": {},
   "outputs": [],
   "source": []
  },
  {
   "cell_type": "code",
   "execution_count": 15,
   "metadata": {
    "ExecuteTime": {
     "end_time": "2020-10-10T15:41:19.706054Z",
     "start_time": "2020-10-10T15:41:19.700199Z"
    }
   },
   "outputs": [],
   "source": [
    "x= 2"
   ]
  },
  {
   "cell_type": "code",
   "execution_count": 16,
   "metadata": {
    "ExecuteTime": {
     "end_time": "2020-10-10T15:41:24.428735Z",
     "start_time": "2020-10-10T15:41:24.422763Z"
    }
   },
   "outputs": [],
   "source": [
    "x **=6"
   ]
  },
  {
   "cell_type": "code",
   "execution_count": 17,
   "metadata": {
    "ExecuteTime": {
     "end_time": "2020-10-10T15:41:26.320495Z",
     "start_time": "2020-10-10T15:41:26.310720Z"
    }
   },
   "outputs": [
    {
     "data": {
      "text/plain": [
       "64"
      ]
     },
     "execution_count": 17,
     "metadata": {},
     "output_type": "execute_result"
    }
   ],
   "source": [
    "x"
   ]
  },
  {
   "cell_type": "code",
   "execution_count": null,
   "metadata": {},
   "outputs": [],
   "source": []
  }
 ],
 "metadata": {
  "hide_input": false,
  "kernelspec": {
   "display_name": "Python 3",
   "language": "python",
   "name": "python3"
  },
  "language_info": {
   "codemirror_mode": {
    "name": "ipython",
    "version": 3
   },
   "file_extension": ".py",
   "mimetype": "text/x-python",
   "name": "python",
   "nbconvert_exporter": "python",
   "pygments_lexer": "ipython3",
   "version": "3.6.9"
  },
  "toc": {
   "base_numbering": 1,
   "nav_menu": {},
   "number_sections": true,
   "sideBar": true,
   "skip_h1_title": false,
   "title_cell": "Table of Contents",
   "title_sidebar": "Contents",
   "toc_cell": false,
   "toc_position": {},
   "toc_section_display": true,
   "toc_window_display": false
  },
  "varInspector": {
   "cols": {
    "lenName": 16,
    "lenType": 16,
    "lenVar": 40
   },
   "kernels_config": {
    "python": {
     "delete_cmd_postfix": "",
     "delete_cmd_prefix": "del ",
     "library": "var_list.py",
     "varRefreshCmd": "print(var_dic_list())"
    },
    "r": {
     "delete_cmd_postfix": ") ",
     "delete_cmd_prefix": "rm(",
     "library": "var_list.r",
     "varRefreshCmd": "cat(var_dic_list()) "
    }
   },
   "types_to_exclude": [
    "module",
    "function",
    "builtin_function_or_method",
    "instance",
    "_Feature"
   ],
   "window_display": false
  }
 },
 "nbformat": 4,
 "nbformat_minor": 4
}
