{
 "cells": [
  {
   "cell_type": "code",
   "execution_count": 1,
   "id": "2d83b4b7",
   "metadata": {
    "ExecuteTime": {
     "end_time": "2023-12-16T14:52:16.383058Z",
     "start_time": "2023-12-16T14:52:14.868001Z"
    }
   },
   "outputs": [],
   "source": [
    "import numpy as np\n",
    "import matplotlib.pyplot as plt\n",
    "from scipy import optimize"
   ]
  },
  {
   "cell_type": "code",
   "execution_count": null,
   "id": "8ee73958",
   "metadata": {},
   "outputs": [],
   "source": []
  },
  {
   "cell_type": "code",
   "execution_count": 2,
   "id": "490d9d6c",
   "metadata": {
    "ExecuteTime": {
     "end_time": "2023-12-16T14:53:07.572795Z",
     "start_time": "2023-12-16T14:53:07.566154Z"
    }
   },
   "outputs": [],
   "source": [
    "def model(x, a, b):\n",
    "    return a * b * x/(a* x + b)"
   ]
  },
  {
   "cell_type": "code",
   "execution_count": null,
   "id": "5fec7b52",
   "metadata": {},
   "outputs": [],
   "source": []
  },
  {
   "cell_type": "code",
   "execution_count": 10,
   "id": "e3832a89",
   "metadata": {
    "ExecuteTime": {
     "end_time": "2023-12-16T14:55:58.700602Z",
     "start_time": "2023-12-16T14:55:58.688342Z"
    }
   },
   "outputs": [],
   "source": [
    "np.random.seed(12345)\n",
    "x = np.linspace(0, 1, 30)\n",
    "y = model(x, 3, 2)\n",
    "s = 0.01 * np.ones_like(y)\n",
    "n = s * np.random.normal(size=y.size)\n",
    "yexp = y + n"
   ]
  },
  {
   "cell_type": "code",
   "execution_count": null,
   "id": "8ab6d9ea",
   "metadata": {},
   "outputs": [],
   "source": []
  },
  {
   "cell_type": "code",
   "execution_count": 12,
   "id": "26df3547",
   "metadata": {
    "ExecuteTime": {
     "end_time": "2023-12-16T14:56:35.206558Z",
     "start_time": "2023-12-16T14:56:34.820439Z"
    }
   },
   "outputs": [
    {
     "data": {
      "text/plain": [
       "(array([3.03793017, 1.98939507]),\n",
       " array([[ 0.00132468, -0.00080892],\n",
       "        [-0.00080892,  0.00057664]]))"
      ]
     },
     "execution_count": 12,
     "metadata": {},
     "output_type": "execute_result"
    }
   ],
   "source": [
    "optimize.curve_fit(model, x, yexp)"
   ]
  },
  {
   "cell_type": "code",
   "execution_count": null,
   "id": "68bb91eb",
   "metadata": {},
   "outputs": [],
   "source": []
  },
  {
   "cell_type": "code",
   "execution_count": 11,
   "id": "137ec3a4",
   "metadata": {
    "ExecuteTime": {
     "end_time": "2023-12-16T14:56:11.109925Z",
     "start_time": "2023-12-16T14:56:10.638977Z"
    }
   },
   "outputs": [
    {
     "data": {
      "text/plain": [
       "<matplotlib.collections.PathCollection at 0x7fbda7135ff0>"
      ]
     },
     "execution_count": 11,
     "metadata": {},
     "output_type": "execute_result"
    },
    {
     "data": {
      "image/png": "[encoded data removed]",
      "text/plain": [
       "<Figure size 640x480 with 1 Axes>"
      ]
     },
     "metadata": {},
     "output_type": "display_data"
    }
   ],
   "source": [
    "fig, axe = plt.subplots()\n",
    "axe.scatter(x, yexp)"
   ]
  },
  {
   "cell_type": "code",
   "execution_count": null,
   "id": "553ecfb8",
   "metadata": {},
   "outputs": [],
   "source": []
  },
  {
   "cell_type": "code",
   "execution_count": null,
   "id": "9bfc4d6b",
   "metadata": {},
   "outputs": [],
   "source": []
  }
 ],
 "metadata": {
  "hide_input": false,
  "kernelspec": {
   "display_name": "Python 3",
   "language": "python",
   "name": "python3"
  },
  "language_info": {
   "codemirror_mode": {
    "name": "ipython",
    "version": 3
   },
   "file_extension": ".py",
   "mimetype": "text/x-python",
   "name": "python",
   "nbconvert_exporter": "python",
   "pygments_lexer": "ipython3",
   "version": "3.10.6"
  },
  "toc": {
   "base_numbering": 1,
   "nav_menu": {},
   "number_sections": true,
   "sideBar": true,
   "skip_h1_title": false,
   "title_cell": "Table of Contents",
   "title_sidebar": "Contents",
   "toc_cell": false,
   "toc_position": {},
   "toc_section_display": true,
   "toc_window_display": false
  },
  "varInspector": {
   "cols": {
    "lenName": 16,
    "lenType": 16,
    "lenVar": 40
   },
   "kernels_config": {
    "python": {
     "delete_cmd_postfix": "",
     "delete_cmd_prefix": "del ",
     "library": "var_list.py",
     "varRefreshCmd": "print(var_dic_list())"
    },
    "r": {
     "delete_cmd_postfix": ") ",
     "delete_cmd_prefix": "rm(",
     "library": "var_list.r",
     "varRefreshCmd": "cat(var_dic_list()) "
    }
   },
   "types_to_exclude": [
    "module",
    "function",
    "builtin_function_or_method",
    "instance",
    "_Feature"
   ],
   "window_display": false
  }
 },
 "nbformat": 4,
 "nbformat_minor": 5
}
