{
 "cells": [
  {
   "cell_type": "markdown",
   "id": "f6a84667",
   "metadata": {},
   "source": [
    "https://stackoverflow.com/questions/77669310/double-exponential-fit-in-python"
   ]
  },
  {
   "cell_type": "code",
   "execution_count": 2,
   "id": "ef0533f6",
   "metadata": {
    "ExecuteTime": {
     "end_time": "2023-12-19T07:21:14.554772Z",
     "start_time": "2023-12-19T07:21:12.605088Z"
    }
   },
   "outputs": [],
   "source": [
    "import numpy as np\n",
    "import numdifftools as nd\n",
    "import matplotlib.pyplot as plt\n",
    "from scipy import optimize, integrate\n",
    "from sklearn.metrics import r2_score"
   ]
  },
  {
   "cell_type": "code",
   "execution_count": 3,
   "id": "a6b72c0f",
   "metadata": {
    "ExecuteTime": {
     "end_time": "2023-12-19T07:21:14.572360Z",
     "start_time": "2023-12-19T07:21:14.568332Z"
    }
   },
   "outputs": [],
   "source": [
    "def logistic(x, a, b):\n",
    "    return 1. / (1. + np.exp(a * (x - b)))"
   ]
  },
  {
   "cell_type": "code",
   "execution_count": 8,
   "id": "99d60928",
   "metadata": {
    "ExecuteTime": {
     "end_time": "2023-12-19T07:24:27.550882Z",
     "start_time": "2023-12-19T07:24:27.458719Z"
    }
   },
   "outputs": [],
   "source": [
    "def model(x, a, b):\n",
    "    return nd.Derivative(logistic)(x, a, b)"
   ]
  },
  {
   "cell_type": "code",
   "execution_count": null,
   "id": "c67f858b",
   "metadata": {
    "ExecuteTime": {
     "end_time": "2023-12-19T07:21:14.585419Z",
     "start_time": "2023-12-19T07:21:14.582015Z"
    }
   },
   "outputs": [],
   "source": []
  },
  {
   "cell_type": "code",
   "execution_count": 9,
   "id": "48a9c21c",
   "metadata": {
    "ExecuteTime": {
     "end_time": "2023-12-19T07:24:29.571476Z",
     "start_time": "2023-12-19T07:24:29.566253Z"
    }
   },
   "outputs": [],
   "source": [
    "p0 = [1, 10]"
   ]
  },
  {
   "cell_type": "code",
   "execution_count": 21,
   "id": "991f99f0",
   "metadata": {
    "ExecuteTime": {
     "end_time": "2023-12-19T07:26:46.915529Z",
     "start_time": "2023-12-19T07:26:46.906059Z"
    }
   },
   "outputs": [],
   "source": [
    "np.random.seed(12345)\n",
    "t = np.linspace(0, 20, 50)\n",
    "x = model(t, *p0)\n",
    "s = 0.00001 * np.ones_like(x)\n",
    "n = s * np.random.normal(size=x.size)\n",
    "x += n"
   ]
  },
  {
   "cell_type": "code",
   "execution_count": 22,
   "id": "160104ba",
   "metadata": {
    "ExecuteTime": {
     "end_time": "2023-12-19T07:26:47.648314Z",
     "start_time": "2023-12-19T07:26:47.490308Z"
    }
   },
   "outputs": [
    {
     "data": {
      "text/plain": [
       "(array([ 0.99997865, 10.0000394 ]),\n",
       " array([[3.72189482e-10, 1.22753026e-15],\n",
       "        [1.22753026e-15, 1.22456936e-09]]))"
      ]
     },
     "execution_count": 22,
     "metadata": {},
     "output_type": "execute_result"
    }
   ],
   "source": [
    "popt, pcov = optimize.curve_fit(model, t, x, sigma=s, p0=[1, 5], absolute_sigma=True)\n",
    "popt, pcov"
   ]
  },
  {
   "cell_type": "code",
   "execution_count": 23,
   "id": "e2727dd9",
   "metadata": {
    "ExecuteTime": {
     "end_time": "2023-12-19T07:26:49.623097Z",
     "start_time": "2023-12-19T07:26:49.612796Z"
    }
   },
   "outputs": [
    {
     "data": {
      "text/plain": [
       "0.9999999787890769"
      ]
     },
     "execution_count": 23,
     "metadata": {},
     "output_type": "execute_result"
    }
   ],
   "source": [
    "xhat = model(t, *popt)\n",
    "score = r2_score(x, xhat)\n",
    "score"
   ]
  },
  {
   "cell_type": "code",
   "execution_count": null,
   "id": "3cb23d00",
   "metadata": {},
   "outputs": [],
   "source": []
  },
  {
   "cell_type": "code",
   "execution_count": 24,
   "id": "6f33cce9",
   "metadata": {
    "ExecuteTime": {
     "end_time": "2023-12-19T07:26:50.416976Z",
     "start_time": "2023-12-19T07:26:50.403117Z"
    }
   },
   "outputs": [],
   "source": [
    "tlin = np.linspace(t.min(), t.max(), 200)\n",
    "xlin = model(tlin, *popt)"
   ]
  },
  {
   "cell_type": "code",
   "execution_count": 25,
   "id": "15fe1e8a",
   "metadata": {
    "ExecuteTime": {
     "end_time": "2023-12-19T07:26:50.865491Z",
     "start_time": "2023-12-19T07:26:50.563120Z"
    }
   },
   "outputs": [
    {
     "data": {
      "image/png": "[encoded data removed]",
      "text/plain": [
       "<Figure size 640x480 with 1 Axes>"
      ]
     },
     "metadata": {},
     "output_type": "display_data"
    }
   ],
   "source": [
    "fig, axe = plt.subplots()\n",
    "axe.scatter(t, x, marker=\".\")\n",
    "axe.plot(tlin, xlin)\n",
    "axe.grid()"
   ]
  },
  {
   "cell_type": "code",
   "execution_count": null,
   "id": "c5f1c273",
   "metadata": {},
   "outputs": [],
   "source": []
  },
  {
   "cell_type": "code",
   "execution_count": null,
   "id": "cca2e9b9",
   "metadata": {},
   "outputs": [],
   "source": []
  },
  {
   "cell_type": "code",
   "execution_count": null,
   "id": "aa4a302c",
   "metadata": {},
   "outputs": [],
   "source": []
  },
  {
   "cell_type": "code",
   "execution_count": null,
   "id": "d7a6d81e",
   "metadata": {},
   "outputs": [],
   "source": []
  },
  {
   "cell_type": "code",
   "execution_count": null,
   "id": "e0b3900b",
   "metadata": {},
   "outputs": [],
   "source": []
  }
 ],
 "metadata": {
  "hide_input": false,
  "kernelspec": {
   "display_name": "Python 3",
   "language": "python",
   "name": "python3"
  },
  "language_info": {
   "codemirror_mode": {
    "name": "ipython",
    "version": 3
   },
   "file_extension": ".py",
   "mimetype": "text/x-python",
   "name": "python",
   "nbconvert_exporter": "python",
   "pygments_lexer": "ipython3",
   "version": "3.10.6"
  },
  "toc": {
   "base_numbering": 1,
   "nav_menu": {},
   "number_sections": true,
   "sideBar": true,
   "skip_h1_title": false,
   "title_cell": "Table of Contents",
   "title_sidebar": "Contents",
   "toc_cell": false,
   "toc_position": {},
   "toc_section_display": true,
   "toc_window_display": false
  },
  "varInspector": {
   "cols": {
    "lenName": 16,
    "lenType": 16,
    "lenVar": 40
   },
   "kernels_config": {
    "python": {
     "delete_cmd_postfix": "",
     "delete_cmd_prefix": "del ",
     "library": "var_list.py",
     "varRefreshCmd": "print(var_dic_list())"
    },
    "r": {
     "delete_cmd_postfix": ") ",
     "delete_cmd_prefix": "rm(",
     "library": "var_list.r",
     "varRefreshCmd": "cat(var_dic_list()) "
    }
   },
   "types_to_exclude": [
    "module",
    "function",
    "builtin_function_or_method",
    "instance",
    "_Feature"
   ],
   "window_display": false
  }
 },
 "nbformat": 4,
 "nbformat_minor": 5
}
