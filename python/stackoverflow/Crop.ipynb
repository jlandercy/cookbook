{
 "cells": [
  {
   "cell_type": "raw",
   "metadata": {},
   "source": [
    "# https://stackoverflow.com/questions/69535905/how-to-dynamically-fit-sigmoid-growth-curve-for-crop-plants"
   ]
  },
  {
   "cell_type": "code",
   "execution_count": 1,
   "metadata": {
    "ExecuteTime": {
     "end_time": "2021-10-12T18:26:43.853542Z",
     "start_time": "2021-10-12T18:26:43.111629Z"
    }
   },
   "outputs": [],
   "source": [
    "import matplotlib.pyplot as plt\n",
    "import numpy as np\n",
    "from scipy.optimize import curve_fit"
   ]
  },
  {
   "cell_type": "code",
   "execution_count": 2,
   "metadata": {
    "ExecuteTime": {
     "end_time": "2021-10-12T18:26:43.864064Z",
     "start_time": "2021-10-12T18:26:43.857411Z"
    }
   },
   "outputs": [],
   "source": [
    "def sigmoidx(x, L ,x0, k, b):\n",
    "    y = L / (1 + np.exp(-k*(x-x0)))+b\n",
    "    return (y)"
   ]
  },
  {
   "cell_type": "code",
   "execution_count": 16,
   "metadata": {
    "ExecuteTime": {
     "end_time": "2021-10-12T18:37:17.692776Z",
     "start_time": "2021-10-12T18:37:17.688254Z"
    }
   },
   "outputs": [],
   "source": [
    "crop_start_day = 0\n",
    "crop_end_day = 120\n",
    "time_increment = 1\n",
    "curve_max_value = 600 # L\n",
    "sigmoid_midpoint_x0 = 60 # x0\n",
    "logistic_growth_rate = 0.5 # k (taken linear 5 units per day)\n",
    "intercept = 0 # b"
   ]
  },
  {
   "cell_type": "code",
   "execution_count": 17,
   "metadata": {
    "ExecuteTime": {
     "end_time": "2021-10-12T18:37:17.977794Z",
     "start_time": "2021-10-12T18:37:17.972324Z"
    }
   },
   "outputs": [],
   "source": [
    "crop_duration = np.arange(crop_start_day,crop_end_day,time_increment)\n",
    "crop_growth = sigmoidx(crop_duration, curve_max_value, sigmoid_midpoint_x0, logistic_growth_rate, intercept)"
   ]
  },
  {
   "cell_type": "code",
   "execution_count": 18,
   "metadata": {
    "ExecuteTime": {
     "end_time": "2021-10-12T18:37:18.405029Z",
     "start_time": "2021-10-12T18:37:18.106480Z"
    }
   },
   "outputs": [
    {
     "data": {
      "text/plain": [
       "[<matplotlib.lines.Line2D at 0x7f82ca92c6a0>]"
      ]
     },
     "execution_count": 18,
     "metadata": {},
     "output_type": "execute_result"
    },
    {
     "data": {
      "image/png": "[encoded data removed]",
      "text/plain": [
       "<Figure size 432x288 with 1 Axes>"
      ]
     },
     "metadata": {
      "needs_background": "light"
     },
     "output_type": "display_data"
    }
   ],
   "source": [
    "p0 = [max(crop_growth), np.median(crop_duration), 1, min(crop_growth)] # initial guess\n",
    "popt, pcov = curve_fit(sigmoidx, crop_duration, crop_growth, p0, method='dogbox')\n",
    "plt.plot(crop_duration, crop_growth, '+', label='data')"
   ]
  },
  {
   "cell_type": "code",
   "execution_count": 19,
   "metadata": {
    "ExecuteTime": {
     "end_time": "2021-10-12T18:37:18.491185Z",
     "start_time": "2021-10-12T18:37:18.486690Z"
    }
   },
   "outputs": [
    {
     "data": {
      "text/plain": [
       "[599.9999999999075, 59.5, 1, 5.614573781303579e-11]"
      ]
     },
     "execution_count": 19,
     "metadata": {},
     "output_type": "execute_result"
    }
   ],
   "source": [
    "p0"
   ]
  },
  {
   "cell_type": "code",
   "execution_count": 20,
   "metadata": {
    "ExecuteTime": {
     "end_time": "2021-10-12T18:37:18.554619Z",
     "start_time": "2021-10-12T18:37:18.546808Z"
    }
   },
   "outputs": [
    {
     "data": {
      "text/plain": [
       "array([6.0000000e+02, 6.0000000e+01, 5.0000000e-01, 1.6190048e-14])"
      ]
     },
     "execution_count": 20,
     "metadata": {},
     "output_type": "execute_result"
    }
   ],
   "source": [
    "popt"
   ]
  },
  {
   "cell_type": "code",
   "execution_count": 15,
   "metadata": {
    "ExecuteTime": {
     "end_time": "2021-10-12T18:37:05.241074Z",
     "start_time": "2021-10-12T18:37:05.231347Z"
    }
   },
   "outputs": [
    {
     "data": {
      "text/plain": [
       "array([[ 4.72466530e-27,  6.64974171e-30, -6.66074064e-31,\n",
       "        -2.32344666e-27],\n",
       "       [ 6.64974171e-30,  1.09802074e-29, -8.32639072e-34,\n",
       "         4.63815660e-29],\n",
       "       [-6.66074064e-31, -8.32639072e-34,  1.04127765e-34,\n",
       "         3.28167971e-31],\n",
       "       [-2.32344666e-27,  4.63815660e-29,  3.28167971e-31,\n",
       "         1.41329495e-27]])"
      ]
     },
     "execution_count": 15,
     "metadata": {},
     "output_type": "execute_result"
    }
   ],
   "source": [
    "pcov"
   ]
  },
  {
   "cell_type": "code",
   "execution_count": null,
   "metadata": {},
   "outputs": [],
   "source": []
  }
 ],
 "metadata": {
  "hide_input": false,
  "kernelspec": {
   "display_name": "Python 3",
   "language": "python",
   "name": "python3"
  },
  "language_info": {
   "codemirror_mode": {
    "name": "ipython",
    "version": 3
   },
   "file_extension": ".py",
   "mimetype": "text/x-python",
   "name": "python",
   "nbconvert_exporter": "python",
   "pygments_lexer": "ipython3",
   "version": "3.6.9"
  },
  "toc": {
   "base_numbering": 1,
   "nav_menu": {},
   "number_sections": true,
   "sideBar": true,
   "skip_h1_title": false,
   "title_cell": "Table of Contents",
   "title_sidebar": "Contents",
   "toc_cell": false,
   "toc_position": {},
   "toc_section_display": true,
   "toc_window_display": false
  },
  "varInspector": {
   "cols": {
    "lenName": 16,
    "lenType": 16,
    "lenVar": 40
   },
   "kernels_config": {
    "python": {
     "delete_cmd_postfix": "",
     "delete_cmd_prefix": "del ",
     "library": "var_list.py",
     "varRefreshCmd": "print(var_dic_list())"
    },
    "r": {
     "delete_cmd_postfix": ") ",
     "delete_cmd_prefix": "rm(",
     "library": "var_list.r",
     "varRefreshCmd": "cat(var_dic_list()) "
    }
   },
   "types_to_exclude": [
    "module",
    "function",
    "builtin_function_or_method",
    "instance",
    "_Feature"
   ],
   "window_display": false
  }
 },
 "nbformat": 4,
 "nbformat_minor": 4
}
