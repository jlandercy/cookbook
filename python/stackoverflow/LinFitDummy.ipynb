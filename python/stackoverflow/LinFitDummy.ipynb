{
 "cells": [
  {
   "cell_type": "code",
   "execution_count": 1,
   "id": "108e5b72",
   "metadata": {
    "ExecuteTime": {
     "end_time": "2024-06-11T20:31:25.297834Z",
     "start_time": "2024-06-11T20:31:23.363778Z"
    }
   },
   "outputs": [],
   "source": [
    "import numpy as pn\n",
    "import pandas as pd\n",
    "import matplotlib.pyplot as plt\n",
    "from scipy import optimize"
   ]
  },
  {
   "cell_type": "markdown",
   "id": "97d1175f",
   "metadata": {},
   "source": [
    "https://stackoverflow.com/questions/78609085/scipy-curve-fit-shifted-to-the-top-of-the-graph"
   ]
  },
  {
   "cell_type": "code",
   "execution_count": 16,
   "id": "fedcfe1b",
   "metadata": {
    "ExecuteTime": {
     "end_time": "2024-06-11T20:36:28.011208Z",
     "start_time": "2024-06-11T20:36:27.993776Z"
    }
   },
   "outputs": [],
   "source": [
    "data = pd.read_csv(\"Dataset 1(no offset part1 plate 1).csv\", sep=\";\", decimal=\",\").dropna()"
   ]
  },
  {
   "cell_type": "code",
   "execution_count": null,
   "id": "a4377e14",
   "metadata": {
    "ExecuteTime": {
     "end_time": "2024-06-11T20:36:28.543650Z",
     "start_time": "2024-06-11T20:36:28.509733Z"
    }
   },
   "outputs": [],
   "source": []
  },
  {
   "cell_type": "code",
   "execution_count": 18,
   "id": "d26541d1",
   "metadata": {
    "ExecuteTime": {
     "end_time": "2024-06-11T20:36:29.416803Z",
     "start_time": "2024-06-11T20:36:29.413578Z"
    }
   },
   "outputs": [],
   "source": [
    "x = data['Current I_A1 / A'].values\n",
    "y = data['Voltage U_B2 / V'].values"
   ]
  },
  {
   "cell_type": "code",
   "execution_count": 19,
   "id": "2b5222fe",
   "metadata": {
    "ExecuteTime": {
     "end_time": "2024-06-11T20:36:29.898858Z",
     "start_time": "2024-06-11T20:36:29.895495Z"
    }
   },
   "outputs": [],
   "source": [
    "def model(x, a, b):\n",
    "    return a * x + b"
   ]
  },
  {
   "cell_type": "code",
   "execution_count": 22,
   "id": "3c892ea3",
   "metadata": {
    "ExecuteTime": {
     "end_time": "2024-06-11T20:36:46.773291Z",
     "start_time": "2024-06-11T20:36:46.766861Z"
    }
   },
   "outputs": [
    {
     "data": {
      "text/plain": [
       "(array([ 6.86111892e-01, -4.10284620e-04]),\n",
       " array([[ 1.99660740e-07, -3.25556980e-09],\n",
       "        [-3.25556980e-09,  7.60911636e-11]]))"
      ]
     },
     "execution_count": 22,
     "metadata": {},
     "output_type": "execute_result"
    }
   ],
   "source": [
    "popt, pcov = optimize.curve_fit(model, x, y)\n",
    "popt, pcov"
   ]
  },
  {
   "cell_type": "code",
   "execution_count": 23,
   "id": "a578f125",
   "metadata": {
    "ExecuteTime": {
     "end_time": "2024-06-11T20:37:11.807303Z",
     "start_time": "2024-06-11T20:37:11.801703Z"
    }
   },
   "outputs": [],
   "source": [
    "yhat = model(x, *popt)"
   ]
  },
  {
   "cell_type": "code",
   "execution_count": 24,
   "id": "e73411b4",
   "metadata": {
    "ExecuteTime": {
     "end_time": "2024-06-11T20:37:24.752863Z",
     "start_time": "2024-06-11T20:37:24.516212Z"
    }
   },
   "outputs": [
    {
     "data": {
      "image/png": "[encoded data removed]",
      "text/plain": [
       "<Figure size 640x480 with 1 Axes>"
      ]
     },
     "metadata": {},
     "output_type": "display_data"
    }
   ],
   "source": [
    "fig, axe = plt.subplots()\n",
    "axe.scatter(x, y)\n",
    "axe.plot(x, yhat)\n",
    "axe.grid()"
   ]
  },
  {
   "cell_type": "code",
   "execution_count": null,
   "id": "89187fb8",
   "metadata": {},
   "outputs": [],
   "source": []
  },
  {
   "cell_type": "code",
   "execution_count": null,
   "id": "63c1310b",
   "metadata": {},
   "outputs": [],
   "source": []
  }
 ],
 "metadata": {
  "hide_input": false,
  "kernelspec": {
   "display_name": "Python 3",
   "language": "python",
   "name": "python3"
  },
  "language_info": {
   "codemirror_mode": {
    "name": "ipython",
    "version": 3
   },
   "file_extension": ".py",
   "mimetype": "text/x-python",
   "name": "python",
   "nbconvert_exporter": "python",
   "pygments_lexer": "ipython3",
   "version": "3.10.6"
  },
  "toc": {
   "base_numbering": 1,
   "nav_menu": {},
   "number_sections": true,
   "sideBar": true,
   "skip_h1_title": false,
   "title_cell": "Table of Contents",
   "title_sidebar": "Contents",
   "toc_cell": false,
   "toc_position": {},
   "toc_section_display": true,
   "toc_window_display": false
  },
  "varInspector": {
   "cols": {
    "lenName": 16,
    "lenType": 16,
    "lenVar": 40
   },
   "kernels_config": {
    "python": {
     "delete_cmd_postfix": "",
     "delete_cmd_prefix": "del ",
     "library": "var_list.py",
     "varRefreshCmd": "print(var_dic_list())"
    },
    "r": {
     "delete_cmd_postfix": ") ",
     "delete_cmd_prefix": "rm(",
     "library": "var_list.r",
     "varRefreshCmd": "cat(var_dic_list()) "
    }
   },
   "types_to_exclude": [
    "module",
    "function",
    "builtin_function_or_method",
    "instance",
    "_Feature"
   ],
   "window_display": false
  }
 },
 "nbformat": 4,
 "nbformat_minor": 5
}
