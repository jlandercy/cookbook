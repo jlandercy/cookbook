{
 "cells": [
  {
   "cell_type": "markdown",
   "id": "f6a84667",
   "metadata": {},
   "source": [
    "https://stackoverflow.com/questions/77669310/double-exponential-fit-in-python"
   ]
  },
  {
   "cell_type": "code",
   "execution_count": 1,
   "id": "ef0533f6",
   "metadata": {
    "ExecuteTime": {
     "end_time": "2023-12-16T10:45:15.574597Z",
     "start_time": "2023-12-16T10:45:13.418106Z"
    }
   },
   "outputs": [],
   "source": [
    "import numpy as np\n",
    "import matplotlib.pyplot as plt\n",
    "from scipy import optimize\n",
    "from sklearn.metrics import r2_score"
   ]
  },
  {
   "cell_type": "code",
   "execution_count": 2,
   "id": "919968e1",
   "metadata": {
    "ExecuteTime": {
     "end_time": "2023-12-16T10:45:15.590988Z",
     "start_time": "2023-12-16T10:45:15.585591Z"
    }
   },
   "outputs": [],
   "source": [
    "def model(x, a, b, c, d, e):\n",
    "    return a * np.exp(-b * x) + c * np.exp(-d * x) + e"
   ]
  },
  {
   "cell_type": "code",
   "execution_count": 3,
   "id": "54323a76",
   "metadata": {
    "ExecuteTime": {
     "end_time": "2023-12-16T10:45:15.612430Z",
     "start_time": "2023-12-16T10:45:15.599848Z"
    }
   },
   "outputs": [],
   "source": [
    "#p0 = np.array([-1622.6092323, -15.038877, 1713.45499496, -15.33871455, -1.92259733])\n",
    "p0 = np.array([1.7, 1.1, -0.4, 4.2, 1.])"
   ]
  },
  {
   "cell_type": "code",
   "execution_count": 4,
   "id": "4e9a43f6",
   "metadata": {
    "ExecuteTime": {
     "end_time": "2023-12-16T10:45:15.643868Z",
     "start_time": "2023-12-16T10:45:15.628172Z"
    }
   },
   "outputs": [],
   "source": [
    "np.random.seed(12345)\n",
    "x = np.linspace(-0.5, 2.0, 75)\n",
    "y = model(x, *p0)\n",
    "s = 0.01 * np.ones_like(y)\n",
    "n = s * np.random.normal(size=y.size)\n",
    "yexp = y + n"
   ]
  },
  {
   "cell_type": "code",
   "execution_count": 5,
   "id": "00df74b6",
   "metadata": {
    "ExecuteTime": {
     "end_time": "2023-12-16T10:45:15.693022Z",
     "start_time": "2023-12-16T10:45:15.659680Z"
    }
   },
   "outputs": [
    {
     "data": {
      "text/plain": [
       "(array([ 1.69688017,  1.12521179, -0.40501112,  4.20277186,  1.01146397]),\n",
       " array([[ 0.0002596 ,  0.00037287, -0.00035638, -0.0011122 ,  0.0001177 ],\n",
       "        [ 0.00037287,  0.00090803, -0.00069421, -0.0020461 ,  0.00035846],\n",
       "        [-0.00035638, -0.00069421,  0.00058512,  0.00178232, -0.00025642],\n",
       "        [-0.0011122 , -0.0020461 ,  0.00178232,  0.00551396, -0.00074256],\n",
       "        [ 0.0001177 ,  0.00035846, -0.00025642, -0.00074256,  0.00015181]]))"
      ]
     },
     "execution_count": 5,
     "metadata": {},
     "output_type": "execute_result"
    }
   ],
   "source": [
    "popt, pcov = optimize.curve_fit(\n",
    "    model, x, yexp, sigma=s,\n",
    "    p0=[1, 1, -1, 1, 1], absolute_sigma=True\n",
    ")\n",
    "popt, pcov"
   ]
  },
  {
   "cell_type": "code",
   "execution_count": 6,
   "id": "98d41940",
   "metadata": {
    "ExecuteTime": {
     "end_time": "2023-12-16T10:45:15.710935Z",
     "start_time": "2023-12-16T10:45:15.700806Z"
    }
   },
   "outputs": [
    {
     "data": {
      "text/plain": [
       "array([0.01611205, 0.03013359, 0.02418927, 0.07425606, 0.01232132])"
      ]
     },
     "execution_count": 6,
     "metadata": {},
     "output_type": "execute_result"
    }
   ],
   "source": [
    "spopt = np.sqrt(np.diag(pcov))\n",
    "spopt"
   ]
  },
  {
   "cell_type": "code",
   "execution_count": null,
   "id": "e8e2afb8",
   "metadata": {},
   "outputs": [],
   "source": []
  },
  {
   "cell_type": "code",
   "execution_count": 7,
   "id": "98676db3",
   "metadata": {
    "ExecuteTime": {
     "end_time": "2023-12-16T10:45:15.730669Z",
     "start_time": "2023-12-16T10:45:15.718389Z"
    }
   },
   "outputs": [
    {
     "data": {
      "text/plain": [
       "0.9993359389294656"
      ]
     },
     "execution_count": 7,
     "metadata": {},
     "output_type": "execute_result"
    }
   ],
   "source": [
    "yhat = model(x, *popt)\n",
    "score = r2_score(yexp, yhat)\n",
    "score"
   ]
  },
  {
   "cell_type": "code",
   "execution_count": 8,
   "id": "67b4a0a9",
   "metadata": {
    "ExecuteTime": {
     "end_time": "2023-12-16T10:45:15.742635Z",
     "start_time": "2023-12-16T10:45:15.736816Z"
    }
   },
   "outputs": [],
   "source": [
    "xlin = np.linspace(x.min(), x.max(), 200)\n",
    "ylin = model(xlin, *popt)"
   ]
  },
  {
   "cell_type": "code",
   "execution_count": null,
   "id": "bed9b306",
   "metadata": {},
   "outputs": [],
   "source": []
  },
  {
   "cell_type": "code",
   "execution_count": 9,
   "id": "71436285",
   "metadata": {
    "ExecuteTime": {
     "end_time": "2023-12-16T10:45:16.070848Z",
     "start_time": "2023-12-16T10:45:15.745314Z"
    }
   },
   "outputs": [
    {
     "data": {
      "image/png": "[encoded data removed]",
      "text/plain": [
       "<Figure size 640x480 with 1 Axes>"
      ]
     },
     "metadata": {},
     "output_type": "display_data"
    }
   ],
   "source": [
    "fig, axe = plt.subplots()\n",
    "axe.scatter(x, yexp, marker=\".\")\n",
    "axe.plot(xlin, ylin)\n",
    "axe.grid()"
   ]
  },
  {
   "cell_type": "code",
   "execution_count": null,
   "id": "8b839b30",
   "metadata": {},
   "outputs": [],
   "source": []
  },
  {
   "cell_type": "code",
   "execution_count": null,
   "id": "aa4a302c",
   "metadata": {},
   "outputs": [],
   "source": []
  },
  {
   "cell_type": "code",
   "execution_count": null,
   "id": "d7a6d81e",
   "metadata": {},
   "outputs": [],
   "source": []
  }
 ],
 "metadata": {
  "hide_input": false,
  "kernelspec": {
   "display_name": "Python 3",
   "language": "python",
   "name": "python3"
  },
  "language_info": {
   "codemirror_mode": {
    "name": "ipython",
    "version": 3
   },
   "file_extension": ".py",
   "mimetype": "text/x-python",
   "name": "python",
   "nbconvert_exporter": "python",
   "pygments_lexer": "ipython3",
   "version": "3.10.6"
  },
  "toc": {
   "base_numbering": 1,
   "nav_menu": {},
   "number_sections": true,
   "sideBar": true,
   "skip_h1_title": false,
   "title_cell": "Table of Contents",
   "title_sidebar": "Contents",
   "toc_cell": false,
   "toc_position": {},
   "toc_section_display": true,
   "toc_window_display": false
  },
  "varInspector": {
   "cols": {
    "lenName": 16,
    "lenType": 16,
    "lenVar": 40
   },
   "kernels_config": {
    "python": {
     "delete_cmd_postfix": "",
     "delete_cmd_prefix": "del ",
     "library": "var_list.py",
     "varRefreshCmd": "print(var_dic_list())"
    },
    "r": {
     "delete_cmd_postfix": ") ",
     "delete_cmd_prefix": "rm(",
     "library": "var_list.r",
     "varRefreshCmd": "cat(var_dic_list()) "
    }
   },
   "types_to_exclude": [
    "module",
    "function",
    "builtin_function_or_method",
    "instance",
    "_Feature"
   ],
   "window_display": false
  }
 },
 "nbformat": 4,
 "nbformat_minor": 5
}
