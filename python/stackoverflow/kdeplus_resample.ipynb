{
 "cells": [
  {
   "cell_type": "code",
   "execution_count": 1,
   "metadata": {
    "ExecuteTime": {
     "end_time": "2020-10-27T15:30:29.168423Z",
     "start_time": "2020-10-27T15:30:28.527851Z"
    }
   },
   "outputs": [],
   "source": [
    "import pandas as pd"
   ]
  },
  {
   "cell_type": "markdown",
   "metadata": {},
   "source": [
    "Load sample data and remove 20% (missing records)"
   ]
  },
  {
   "cell_type": "code",
   "execution_count": 2,
   "metadata": {
    "ExecuteTime": {
     "end_time": "2020-10-27T15:30:29.195658Z",
     "start_time": "2020-10-27T15:30:29.176780Z"
    }
   },
   "outputs": [],
   "source": [
    "df = pd.read_csv(\"data/kdeplus_sample.csv\", parse_dates=[\"date\"]).set_index(\"date\")\n",
    "_ = df.pop('market_cap_by_available_supply')"
   ]
  },
  {
   "cell_type": "code",
   "execution_count": 3,
   "metadata": {
    "ExecuteTime": {
     "end_time": "2020-10-27T15:30:29.235018Z",
     "start_time": "2020-10-27T15:30:29.203238Z"
    }
   },
   "outputs": [
    {
     "data": {
      "text/html": [
       "<div>\n",
       "<style scoped>\n",
       "    .dataframe tbody tr th:only-of-type {\n",
       "        vertical-align: middle;\n",
       "    }\n",
       "\n",
       "    .dataframe tbody tr th {\n",
       "        vertical-align: top;\n",
       "    }\n",
       "\n",
       "    .dataframe thead th {\n",
       "        text-align: right;\n",
       "    }\n",
       "</style>\n",
       "<table border=\"1\" class=\"dataframe\">\n",
       "  <thead>\n",
       "    <tr style=\"text-align: right;\">\n",
       "      <th></th>\n",
       "      <th>price_usd</th>\n",
       "      <th>volume_usd</th>\n",
       "    </tr>\n",
       "    <tr>\n",
       "      <th>date</th>\n",
       "      <th></th>\n",
       "      <th></th>\n",
       "    </tr>\n",
       "  </thead>\n",
       "  <tbody>\n",
       "    <tr>\n",
       "      <th>2017-07-23 16:29:27+00:00</th>\n",
       "      <td>555.885803</td>\n",
       "      <td>40740.816406</td>\n",
       "    </tr>\n",
       "    <tr>\n",
       "      <th>2017-07-23 16:34:27+00:00</th>\n",
       "      <td>525.961853</td>\n",
       "      <td>38610.488281</td>\n",
       "    </tr>\n",
       "    <tr>\n",
       "      <th>2017-07-23 16:39:27+00:00</th>\n",
       "      <td>524.995483</td>\n",
       "      <td>38609.214844</td>\n",
       "    </tr>\n",
       "    <tr>\n",
       "      <th>2017-07-23 16:44:27+00:00</th>\n",
       "      <td>525.567688</td>\n",
       "      <td>38651.296875</td>\n",
       "    </tr>\n",
       "    <tr>\n",
       "      <th>2017-07-23 16:49:26+00:00</th>\n",
       "      <td>551.869385</td>\n",
       "      <td>40984.359375</td>\n",
       "    </tr>\n",
       "    <tr>\n",
       "      <th>2017-07-23 16:54:29+00:00</th>\n",
       "      <td>578.971375</td>\n",
       "      <td>43986.425781</td>\n",
       "    </tr>\n",
       "    <tr>\n",
       "      <th>2017-07-23 16:59:27+00:00</th>\n",
       "      <td>550.918518</td>\n",
       "      <td>43429.843750</td>\n",
       "    </tr>\n",
       "    <tr>\n",
       "      <th>2017-07-23 17:04:26+00:00</th>\n",
       "      <td>552.964722</td>\n",
       "      <td>43591.148438</td>\n",
       "    </tr>\n",
       "    <tr>\n",
       "      <th>2017-07-23 17:09:27+00:00</th>\n",
       "      <td>552.371277</td>\n",
       "      <td>43544.363281</td>\n",
       "    </tr>\n",
       "    <tr>\n",
       "      <th>2017-07-23 17:14:25+00:00</th>\n",
       "      <td>553.294983</td>\n",
       "      <td>43617.183594</td>\n",
       "    </tr>\n",
       "    <tr>\n",
       "      <th>2017-07-23 17:19:27+00:00</th>\n",
       "      <td>556.417908</td>\n",
       "      <td>43863.371094</td>\n",
       "    </tr>\n",
       "    <tr>\n",
       "      <th>2017-07-23 17:24:26+00:00</th>\n",
       "      <td>557.321899</td>\n",
       "      <td>43934.632812</td>\n",
       "    </tr>\n",
       "    <tr>\n",
       "      <th>2017-07-23 17:29:28+00:00</th>\n",
       "      <td>557.043152</td>\n",
       "      <td>43912.660156</td>\n",
       "    </tr>\n",
       "    <tr>\n",
       "      <th>2017-07-23 17:34:27+00:00</th>\n",
       "      <td>556.890869</td>\n",
       "      <td>43900.656250</td>\n",
       "    </tr>\n",
       "    <tr>\n",
       "      <th>2017-07-23 17:39:27+00:00</th>\n",
       "      <td>556.921936</td>\n",
       "      <td>43903.101562</td>\n",
       "    </tr>\n",
       "    <tr>\n",
       "      <th>2017-07-23 17:44:28+00:00</th>\n",
       "      <td>557.882568</td>\n",
       "      <td>43978.832031</td>\n",
       "    </tr>\n",
       "    <tr>\n",
       "      <th>2017-07-23 17:49:26+00:00</th>\n",
       "      <td>558.880249</td>\n",
       "      <td>44057.480469</td>\n",
       "    </tr>\n",
       "    <tr>\n",
       "      <th>2017-07-23 17:54:27+00:00</th>\n",
       "      <td>555.479004</td>\n",
       "      <td>43789.351562</td>\n",
       "    </tr>\n",
       "    <tr>\n",
       "      <th>2017-07-23 17:59:28+00:00</th>\n",
       "      <td>556.213135</td>\n",
       "      <td>44180.953125</td>\n",
       "    </tr>\n",
       "    <tr>\n",
       "      <th>2017-07-23 18:04:26+00:00</th>\n",
       "      <td>553.892700</td>\n",
       "      <td>47125.246094</td>\n",
       "    </tr>\n",
       "    <tr>\n",
       "      <th>2017-07-23 18:09:28+00:00</th>\n",
       "      <td>555.886719</td>\n",
       "      <td>47294.898438</td>\n",
       "    </tr>\n",
       "    <tr>\n",
       "      <th>2017-07-23 18:14:28+00:00</th>\n",
       "      <td>557.203247</td>\n",
       "      <td>47406.910156</td>\n",
       "    </tr>\n",
       "    <tr>\n",
       "      <th>2017-07-23 18:19:26+00:00</th>\n",
       "      <td>557.610901</td>\n",
       "      <td>47441.593750</td>\n",
       "    </tr>\n",
       "    <tr>\n",
       "      <th>2017-07-23 18:24:27+00:00</th>\n",
       "      <td>556.676819</td>\n",
       "      <td>47362.121094</td>\n",
       "    </tr>\n",
       "    <tr>\n",
       "      <th>2017-07-23 18:29:27+00:00</th>\n",
       "      <td>556.148376</td>\n",
       "      <td>47317.156250</td>\n",
       "    </tr>\n",
       "    <tr>\n",
       "      <th>2017-07-23 18:34:28+00:00</th>\n",
       "      <td>555.691650</td>\n",
       "      <td>47306.082031</td>\n",
       "    </tr>\n",
       "    <tr>\n",
       "      <th>2017-07-23 18:39:29+00:00</th>\n",
       "      <td>551.999634</td>\n",
       "      <td>46991.781250</td>\n",
       "    </tr>\n",
       "  </tbody>\n",
       "</table>\n",
       "</div>"
      ],
      "text/plain": [
       "                            price_usd    volume_usd\n",
       "date                                               \n",
       "2017-07-23 16:29:27+00:00  555.885803  40740.816406\n",
       "2017-07-23 16:34:27+00:00  525.961853  38610.488281\n",
       "2017-07-23 16:39:27+00:00  524.995483  38609.214844\n",
       "2017-07-23 16:44:27+00:00  525.567688  38651.296875\n",
       "2017-07-23 16:49:26+00:00  551.869385  40984.359375\n",
       "2017-07-23 16:54:29+00:00  578.971375  43986.425781\n",
       "2017-07-23 16:59:27+00:00  550.918518  43429.843750\n",
       "2017-07-23 17:04:26+00:00  552.964722  43591.148438\n",
       "2017-07-23 17:09:27+00:00  552.371277  43544.363281\n",
       "2017-07-23 17:14:25+00:00  553.294983  43617.183594\n",
       "2017-07-23 17:19:27+00:00  556.417908  43863.371094\n",
       "2017-07-23 17:24:26+00:00  557.321899  43934.632812\n",
       "2017-07-23 17:29:28+00:00  557.043152  43912.660156\n",
       "2017-07-23 17:34:27+00:00  556.890869  43900.656250\n",
       "2017-07-23 17:39:27+00:00  556.921936  43903.101562\n",
       "2017-07-23 17:44:28+00:00  557.882568  43978.832031\n",
       "2017-07-23 17:49:26+00:00  558.880249  44057.480469\n",
       "2017-07-23 17:54:27+00:00  555.479004  43789.351562\n",
       "2017-07-23 17:59:28+00:00  556.213135  44180.953125\n",
       "2017-07-23 18:04:26+00:00  553.892700  47125.246094\n",
       "2017-07-23 18:09:28+00:00  555.886719  47294.898438\n",
       "2017-07-23 18:14:28+00:00  557.203247  47406.910156\n",
       "2017-07-23 18:19:26+00:00  557.610901  47441.593750\n",
       "2017-07-23 18:24:27+00:00  556.676819  47362.121094\n",
       "2017-07-23 18:29:27+00:00  556.148376  47317.156250\n",
       "2017-07-23 18:34:28+00:00  555.691650  47306.082031\n",
       "2017-07-23 18:39:29+00:00  551.999634  46991.781250"
      ]
     },
     "execution_count": 3,
     "metadata": {},
     "output_type": "execute_result"
    }
   ],
   "source": [
    "df"
   ]
  },
  {
   "cell_type": "code",
   "execution_count": 4,
   "metadata": {
    "ExecuteTime": {
     "end_time": "2020-10-27T15:30:29.267062Z",
     "start_time": "2020-10-27T15:30:29.246396Z"
    }
   },
   "outputs": [
    {
     "data": {
      "text/plain": [
       "(27, 2)"
      ]
     },
     "execution_count": 4,
     "metadata": {},
     "output_type": "execute_result"
    }
   ],
   "source": [
    "df.shape"
   ]
  },
  {
   "cell_type": "code",
   "execution_count": 5,
   "metadata": {
    "ExecuteTime": {
     "end_time": "2020-10-27T15:30:29.327241Z",
     "start_time": "2020-10-27T15:30:29.273684Z"
    }
   },
   "outputs": [],
   "source": [
    "df = df.sample(frac=0.8).sort_index()"
   ]
  },
  {
   "cell_type": "code",
   "execution_count": 6,
   "metadata": {
    "ExecuteTime": {
     "end_time": "2020-10-27T15:30:29.370874Z",
     "start_time": "2020-10-27T15:30:29.343428Z"
    }
   },
   "outputs": [
    {
     "data": {
      "text/plain": [
       "(22, 2)"
      ]
     },
     "execution_count": 6,
     "metadata": {},
     "output_type": "execute_result"
    }
   ],
   "source": [
    "df.shape"
   ]
  },
  {
   "cell_type": "code",
   "execution_count": 7,
   "metadata": {
    "ExecuteTime": {
     "end_time": "2020-10-27T15:30:29.418111Z",
     "start_time": "2020-10-27T15:30:29.373250Z"
    }
   },
   "outputs": [],
   "source": [
    "t1 = df.index.round('5T')\n",
    "t2 = pd.date_range(df.index.min().floor('5T'), df.index.max().ceil('5T'), freq='5T')"
   ]
  },
  {
   "cell_type": "code",
   "execution_count": 8,
   "metadata": {
    "ExecuteTime": {
     "end_time": "2020-10-27T15:30:29.457641Z",
     "start_time": "2020-10-27T15:30:29.429759Z"
    }
   },
   "outputs": [],
   "source": [
    "df = df.reindex(df.index | t2).interpolate(method='index', limit_direction='both').loc[t2,:]"
   ]
  },
  {
   "cell_type": "code",
   "execution_count": 9,
   "metadata": {
    "ExecuteTime": {
     "end_time": "2020-10-27T15:30:29.487289Z",
     "start_time": "2020-10-27T15:30:29.471684Z"
    }
   },
   "outputs": [
    {
     "data": {
      "text/plain": [
       "(28, 2)"
      ]
     },
     "execution_count": 9,
     "metadata": {},
     "output_type": "execute_result"
    }
   ],
   "source": [
    "df.shape"
   ]
  },
  {
   "cell_type": "code",
   "execution_count": 10,
   "metadata": {
    "ExecuteTime": {
     "end_time": "2020-10-27T15:30:29.509175Z",
     "start_time": "2020-10-27T15:30:29.496395Z"
    }
   },
   "outputs": [],
   "source": [
    "#required if t1 used instead of t2\n",
    "#df.resample('5T').interpolate()"
   ]
  },
  {
   "cell_type": "code",
   "execution_count": 11,
   "metadata": {
    "ExecuteTime": {
     "end_time": "2020-10-27T15:30:29.526203Z",
     "start_time": "2020-10-27T15:30:29.511748Z"
    }
   },
   "outputs": [
    {
     "data": {
      "text/plain": [
       "(28, 2)"
      ]
     },
     "execution_count": 11,
     "metadata": {},
     "output_type": "execute_result"
    }
   ],
   "source": [
    "df.shape"
   ]
  },
  {
   "cell_type": "code",
   "execution_count": 12,
   "metadata": {
    "ExecuteTime": {
     "end_time": "2020-10-27T15:30:29.568458Z",
     "start_time": "2020-10-27T15:30:29.538546Z"
    }
   },
   "outputs": [
    {
     "data": {
      "text/html": [
       "<div>\n",
       "<style scoped>\n",
       "    .dataframe tbody tr th:only-of-type {\n",
       "        vertical-align: middle;\n",
       "    }\n",
       "\n",
       "    .dataframe tbody tr th {\n",
       "        vertical-align: top;\n",
       "    }\n",
       "\n",
       "    .dataframe thead th {\n",
       "        text-align: right;\n",
       "    }\n",
       "</style>\n",
       "<table border=\"1\" class=\"dataframe\">\n",
       "  <thead>\n",
       "    <tr style=\"text-align: right;\">\n",
       "      <th></th>\n",
       "      <th>price_usd</th>\n",
       "      <th>volume_usd</th>\n",
       "    </tr>\n",
       "  </thead>\n",
       "  <tbody>\n",
       "    <tr>\n",
       "      <th>2017-07-23 16:25:00+00:00</th>\n",
       "      <td>555.885803</td>\n",
       "      <td>40740.816406</td>\n",
       "    </tr>\n",
       "    <tr>\n",
       "      <th>2017-07-23 16:30:00+00:00</th>\n",
       "      <td>552.594169</td>\n",
       "      <td>40506.480313</td>\n",
       "    </tr>\n",
       "    <tr>\n",
       "      <th>2017-07-23 16:35:00+00:00</th>\n",
       "      <td>525.855552</td>\n",
       "      <td>38610.348203</td>\n",
       "    </tr>\n",
       "    <tr>\n",
       "      <th>2017-07-23 16:40:00+00:00</th>\n",
       "      <td>525.058426</td>\n",
       "      <td>38613.843867</td>\n",
       "    </tr>\n",
       "    <tr>\n",
       "      <th>2017-07-23 16:45:00+00:00</th>\n",
       "      <td>528.470551</td>\n",
       "      <td>38908.792067</td>\n",
       "    </tr>\n",
       "    <tr>\n",
       "      <th>2017-07-23 16:50:00+00:00</th>\n",
       "      <td>554.910532</td>\n",
       "      <td>41321.224912</td>\n",
       "    </tr>\n",
       "    <tr>\n",
       "      <th>2017-07-23 16:55:00+00:00</th>\n",
       "      <td>576.053124</td>\n",
       "      <td>43928.526308</td>\n",
       "    </tr>\n",
       "    <tr>\n",
       "      <th>2017-07-23 17:00:00+00:00</th>\n",
       "      <td>551.144353</td>\n",
       "      <td>43447.646608</td>\n",
       "    </tr>\n",
       "    <tr>\n",
       "      <th>2017-07-23 17:05:00+00:00</th>\n",
       "      <td>552.897688</td>\n",
       "      <td>43585.863735</td>\n",
       "    </tr>\n",
       "    <tr>\n",
       "      <th>2017-07-23 17:10:00+00:00</th>\n",
       "      <td>552.473566</td>\n",
       "      <td>43552.427276</td>\n",
       "    </tr>\n",
       "    <tr>\n",
       "      <th>2017-07-23 17:15:00+00:00</th>\n",
       "      <td>553.399688</td>\n",
       "      <td>43625.437789</td>\n",
       "    </tr>\n",
       "    <tr>\n",
       "      <th>2017-07-23 17:20:00+00:00</th>\n",
       "      <td>554.297164</td>\n",
       "      <td>43696.188036</td>\n",
       "    </tr>\n",
       "    <tr>\n",
       "      <th>2017-07-23 17:25:00+00:00</th>\n",
       "      <td>555.194640</td>\n",
       "      <td>43766.938283</td>\n",
       "    </tr>\n",
       "    <tr>\n",
       "      <th>2017-07-23 17:30:00+00:00</th>\n",
       "      <td>556.092116</td>\n",
       "      <td>43837.688530</td>\n",
       "    </tr>\n",
       "    <tr>\n",
       "      <th>2017-07-23 17:35:00+00:00</th>\n",
       "      <td>556.894286</td>\n",
       "      <td>43900.925234</td>\n",
       "    </tr>\n",
       "    <tr>\n",
       "      <th>2017-07-23 17:40:00+00:00</th>\n",
       "      <td>557.027255</td>\n",
       "      <td>43911.404238</td>\n",
       "    </tr>\n",
       "    <tr>\n",
       "      <th>2017-07-23 17:45:00+00:00</th>\n",
       "      <td>557.989702</td>\n",
       "      <td>43987.277501</td>\n",
       "    </tr>\n",
       "    <tr>\n",
       "      <th>2017-07-23 17:50:00+00:00</th>\n",
       "      <td>558.496055</td>\n",
       "      <td>44027.193483</td>\n",
       "    </tr>\n",
       "    <tr>\n",
       "      <th>2017-07-23 17:55:00+00:00</th>\n",
       "      <td>555.391612</td>\n",
       "      <td>43973.132063</td>\n",
       "    </tr>\n",
       "    <tr>\n",
       "      <th>2017-07-23 18:00:00+00:00</th>\n",
       "      <td>554.597136</td>\n",
       "      <td>45643.863881</td>\n",
       "    </tr>\n",
       "    <tr>\n",
       "      <th>2017-07-23 18:05:00+00:00</th>\n",
       "      <td>554.117192</td>\n",
       "      <td>47144.346026</td>\n",
       "    </tr>\n",
       "    <tr>\n",
       "      <th>2017-07-23 18:10:00+00:00</th>\n",
       "      <td>556.027148</td>\n",
       "      <td>47306.846354</td>\n",
       "    </tr>\n",
       "    <tr>\n",
       "      <th>2017-07-23 18:15:00+00:00</th>\n",
       "      <td>557.247022</td>\n",
       "      <td>47410.634569</td>\n",
       "    </tr>\n",
       "    <tr>\n",
       "      <th>2017-07-23 18:20:00+00:00</th>\n",
       "      <td>557.505390</td>\n",
       "      <td>47432.616772</td>\n",
       "    </tr>\n",
       "    <tr>\n",
       "      <th>2017-07-23 18:25:00+00:00</th>\n",
       "      <td>556.622725</td>\n",
       "      <td>47359.044074</td>\n",
       "    </tr>\n",
       "    <tr>\n",
       "      <th>2017-07-23 18:30:00+00:00</th>\n",
       "      <td>556.130960</td>\n",
       "      <td>47331.071164</td>\n",
       "    </tr>\n",
       "    <tr>\n",
       "      <th>2017-07-23 18:35:00+00:00</th>\n",
       "      <td>555.299144</td>\n",
       "      <td>47272.667995</td>\n",
       "    </tr>\n",
       "    <tr>\n",
       "      <th>2017-07-23 18:40:00+00:00</th>\n",
       "      <td>551.999634</td>\n",
       "      <td>46991.781250</td>\n",
       "    </tr>\n",
       "  </tbody>\n",
       "</table>\n",
       "</div>"
      ],
      "text/plain": [
       "                            price_usd    volume_usd\n",
       "2017-07-23 16:25:00+00:00  555.885803  40740.816406\n",
       "2017-07-23 16:30:00+00:00  552.594169  40506.480313\n",
       "2017-07-23 16:35:00+00:00  525.855552  38610.348203\n",
       "2017-07-23 16:40:00+00:00  525.058426  38613.843867\n",
       "2017-07-23 16:45:00+00:00  528.470551  38908.792067\n",
       "2017-07-23 16:50:00+00:00  554.910532  41321.224912\n",
       "2017-07-23 16:55:00+00:00  576.053124  43928.526308\n",
       "2017-07-23 17:00:00+00:00  551.144353  43447.646608\n",
       "2017-07-23 17:05:00+00:00  552.897688  43585.863735\n",
       "2017-07-23 17:10:00+00:00  552.473566  43552.427276\n",
       "2017-07-23 17:15:00+00:00  553.399688  43625.437789\n",
       "2017-07-23 17:20:00+00:00  554.297164  43696.188036\n",
       "2017-07-23 17:25:00+00:00  555.194640  43766.938283\n",
       "2017-07-23 17:30:00+00:00  556.092116  43837.688530\n",
       "2017-07-23 17:35:00+00:00  556.894286  43900.925234\n",
       "2017-07-23 17:40:00+00:00  557.027255  43911.404238\n",
       "2017-07-23 17:45:00+00:00  557.989702  43987.277501\n",
       "2017-07-23 17:50:00+00:00  558.496055  44027.193483\n",
       "2017-07-23 17:55:00+00:00  555.391612  43973.132063\n",
       "2017-07-23 18:00:00+00:00  554.597136  45643.863881\n",
       "2017-07-23 18:05:00+00:00  554.117192  47144.346026\n",
       "2017-07-23 18:10:00+00:00  556.027148  47306.846354\n",
       "2017-07-23 18:15:00+00:00  557.247022  47410.634569\n",
       "2017-07-23 18:20:00+00:00  557.505390  47432.616772\n",
       "2017-07-23 18:25:00+00:00  556.622725  47359.044074\n",
       "2017-07-23 18:30:00+00:00  556.130960  47331.071164\n",
       "2017-07-23 18:35:00+00:00  555.299144  47272.667995\n",
       "2017-07-23 18:40:00+00:00  551.999634  46991.781250"
      ]
     },
     "execution_count": 12,
     "metadata": {},
     "output_type": "execute_result"
    }
   ],
   "source": [
    "df"
   ]
  },
  {
   "cell_type": "code",
   "execution_count": null,
   "metadata": {},
   "outputs": [],
   "source": []
  },
  {
   "cell_type": "code",
   "execution_count": null,
   "metadata": {},
   "outputs": [],
   "source": []
  }
 ],
 "metadata": {
  "hide_input": false,
  "kernelspec": {
   "display_name": "Python 3",
   "language": "python",
   "name": "python3"
  },
  "language_info": {
   "codemirror_mode": {
    "name": "ipython",
    "version": 3
   },
   "file_extension": ".py",
   "mimetype": "text/x-python",
   "name": "python",
   "nbconvert_exporter": "python",
   "pygments_lexer": "ipython3",
   "version": "3.6.9"
  },
  "toc": {
   "base_numbering": 1,
   "nav_menu": {},
   "number_sections": true,
   "sideBar": true,
   "skip_h1_title": false,
   "title_cell": "Table of Contents",
   "title_sidebar": "Contents",
   "toc_cell": false,
   "toc_position": {},
   "toc_section_display": true,
   "toc_window_display": false
  },
  "varInspector": {
   "cols": {
    "lenName": 16,
    "lenType": 16,
    "lenVar": 40
   },
   "kernels_config": {
    "python": {
     "delete_cmd_postfix": "",
     "delete_cmd_prefix": "del ",
     "library": "var_list.py",
     "varRefreshCmd": "print(var_dic_list())"
    },
    "r": {
     "delete_cmd_postfix": ") ",
     "delete_cmd_prefix": "rm(",
     "library": "var_list.r",
     "varRefreshCmd": "cat(var_dic_list()) "
    }
   },
   "types_to_exclude": [
    "module",
    "function",
    "builtin_function_or_method",
    "instance",
    "_Feature"
   ],
   "window_display": false
  }
 },
 "nbformat": 4,
 "nbformat_minor": 4
}
