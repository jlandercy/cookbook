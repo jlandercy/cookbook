{
 "cells": [
  {
   "cell_type": "markdown",
   "id": "d66ed6ee",
   "metadata": {},
   "source": [
    "https://stackoverflow.com/questions/77587951/how-to-fit-a-system-of-odes-with-interpolation"
   ]
  },
  {
   "cell_type": "code",
   "execution_count": 1,
   "id": "b944284e",
   "metadata": {
    "ExecuteTime": {
     "end_time": "2023-12-04T08:48:33.291246Z",
     "start_time": "2023-12-04T08:48:31.640764Z"
    }
   },
   "outputs": [],
   "source": [
    "import numpy as np\n",
    "import matplotlib.pyplot as plt\n",
    "from scipy import integrate, optimize"
   ]
  },
  {
   "cell_type": "code",
   "execution_count": null,
   "id": "d95d8399",
   "metadata": {
    "ExecuteTime": {
     "end_time": "2023-12-03T16:46:00.762672Z",
     "start_time": "2023-12-03T16:46:00.745945Z"
    }
   },
   "outputs": [],
   "source": []
  },
  {
   "cell_type": "code",
   "execution_count": null,
   "id": "5a3698e3",
   "metadata": {
    "ExecuteTime": {
     "end_time": "2023-12-03T16:46:00.770562Z",
     "start_time": "2023-12-03T16:46:00.765607Z"
    }
   },
   "outputs": [],
   "source": []
  },
  {
   "cell_type": "code",
   "execution_count": 2,
   "id": "add06644",
   "metadata": {
    "ExecuteTime": {
     "end_time": "2023-12-04T08:48:33.305390Z",
     "start_time": "2023-12-04T08:48:33.295361Z"
    }
   },
   "outputs": [],
   "source": [
    "def system(t, x, k0, k1, k2, p1, p2):\n",
    "    return np.array([\n",
    "        -k0 * x[0],\n",
    "        p1 * x[0] - k1 * x[1],\n",
    "        p2 * x[1] - k2 * x[2]\n",
    "    ])"
   ]
  },
  {
   "cell_type": "code",
   "execution_count": null,
   "id": "1eaa6299",
   "metadata": {
    "ExecuteTime": {
     "end_time": "2023-12-03T16:39:53.661292Z",
     "start_time": "2023-12-03T16:39:53.640337Z"
    }
   },
   "outputs": [],
   "source": []
  },
  {
   "cell_type": "code",
   "execution_count": 3,
   "id": "7c9d8d2f",
   "metadata": {
    "ExecuteTime": {
     "end_time": "2023-12-04T08:48:33.315765Z",
     "start_time": "2023-12-04T08:48:33.307709Z"
    }
   },
   "outputs": [],
   "source": [
    "def solver(parameters, t=np.linspace(0, 1, 10)):\n",
    "    x0 = parameters[-3:]\n",
    "    parameters = parameters[:-3]\n",
    "    solution = integrate.solve_ivp(system, [t.min(), t.max()], x0, args=parameters, t_eval=t)\n",
    "    return solution.y"
   ]
  },
  {
   "cell_type": "code",
   "execution_count": 4,
   "id": "df7ede20",
   "metadata": {
    "ExecuteTime": {
     "end_time": "2023-12-04T08:48:33.327857Z",
     "start_time": "2023-12-04T08:48:33.321726Z"
    }
   },
   "outputs": [],
   "source": [
    "texp = np.linspace(0, 35, 10)\n",
    "#p0 = np.array([ 0.03693555,  0.38054633, -0.06252069,  1.41453107, -0.11159681])\n",
    "p0 = np.array([ 0.1, 0.3, 1, 1.2, 0.9, 0.5, 1., 0.8])"
   ]
  },
  {
   "cell_type": "code",
   "execution_count": 5,
   "id": "693a732e",
   "metadata": {
    "ExecuteTime": {
     "end_time": "2023-12-04T08:48:33.346901Z",
     "start_time": "2023-12-04T08:48:33.332319Z"
    }
   },
   "outputs": [],
   "source": [
    "xexp = solver(p0, t=texp)\n",
    "xexp += 0.05 * np.random.normal(size=xexp.shape)"
   ]
  },
  {
   "cell_type": "code",
   "execution_count": null,
   "id": "9cc71774",
   "metadata": {
    "ExecuteTime": {
     "end_time": "2023-12-04T08:22:28.797736Z",
     "start_time": "2023-12-04T08:22:28.784961Z"
    }
   },
   "outputs": [],
   "source": []
  },
  {
   "cell_type": "code",
   "execution_count": 6,
   "id": "dc13a18a",
   "metadata": {
    "ExecuteTime": {
     "end_time": "2023-12-04T08:48:33.354863Z",
     "start_time": "2023-12-04T08:48:33.350495Z"
    }
   },
   "outputs": [],
   "source": [
    "def residuals_factory(t, x):\n",
    "    def wrapped(parameters):\n",
    "        return 0.5 * np.sum(np.power(x - solver(parameters, t=t), 2))\n",
    "    return wrapped"
   ]
  },
  {
   "cell_type": "code",
   "execution_count": null,
   "id": "835173fe",
   "metadata": {
    "ExecuteTime": {
     "end_time": "2023-12-03T16:47:11.806728Z",
     "start_time": "2023-12-03T16:47:11.802589Z"
    }
   },
   "outputs": [],
   "source": []
  },
  {
   "cell_type": "raw",
   "id": "5ec5d3ba",
   "metadata": {
    "ExecuteTime": {
     "end_time": "2023-12-04T08:39:09.227140Z",
     "start_time": "2023-12-04T08:39:09.223685Z"
    }
   },
   "source": [
    "texp = np.array([0, 5, 9, 18, 28, 38])\n",
    "xexp = np.array([\n",
    "    [0.24, 0.71, 0.95, 0.26, 0.05, 0.22],\n",
    "    [0.2, 0.62, 0.95, 0.51, 0.13, 0.05], \n",
    "    [0.89, 0.66, 0.95, 0.49, 0.28, 0.05]\n",
    "])"
   ]
  },
  {
   "cell_type": "code",
   "execution_count": null,
   "id": "d30e948b",
   "metadata": {},
   "outputs": [],
   "source": []
  },
  {
   "cell_type": "code",
   "execution_count": 7,
   "id": "1dc474d2",
   "metadata": {
    "ExecuteTime": {
     "end_time": "2023-12-04T08:48:35.839337Z",
     "start_time": "2023-12-04T08:48:33.358947Z"
    }
   },
   "outputs": [],
   "source": [
    "residuals = residuals_factory(texp, xexp)\n",
    "solution = optimize.minimize(\n",
    "    residuals, x0=[1, 1, 1, 1, 1, 1, 1, 1],\n",
    "    bounds=[(0, np.inf)]*8\n",
    ")"
   ]
  },
  {
   "cell_type": "code",
   "execution_count": 8,
   "id": "57a073f6",
   "metadata": {
    "ExecuteTime": {
     "end_time": "2023-12-04T08:48:35.856478Z",
     "start_time": "2023-12-04T08:48:35.843532Z"
    }
   },
   "outputs": [
    {
     "data": {
      "text/plain": [
       "      fun: 0.019802451367366164\n",
       " hess_inv: <8x8 LbfgsInvHessProduct with dtype=float64>\n",
       "      jac: array([-1.77605500e-04, -5.86246330e-05,  6.94375109e-06,  8.47932840e-06,\n",
       "       -1.63074414e-05,  3.34347133e-05,  4.08631460e-06,  4.16368327e-06])\n",
       "  message: 'CONVERGENCE: REL_REDUCTION_OF_F_<=_FACTR*EPSMCH'\n",
       "     nfev: 720\n",
       "      nit: 62\n",
       "     njev: 80\n",
       "   status: 0\n",
       "  success: True\n",
       "        x: array([0.09428973, 0.39158086, 0.66722838, 1.72023949, 0.58265682,\n",
       "       0.4507214 , 0.99891956, 0.75883089])"
      ]
     },
     "execution_count": 8,
     "metadata": {},
     "output_type": "execute_result"
    }
   ],
   "source": [
    "solution"
   ]
  },
  {
   "cell_type": "code",
   "execution_count": 9,
   "id": "fd6f52db",
   "metadata": {
    "ExecuteTime": {
     "end_time": "2023-12-04T08:48:35.863455Z",
     "start_time": "2023-12-04T08:48:35.859048Z"
    }
   },
   "outputs": [
    {
     "data": {
      "text/plain": [
       "array([0.1, 0.3, 1. , 1.2, 0.9, 0.5, 1. , 0.8])"
      ]
     },
     "execution_count": 9,
     "metadata": {},
     "output_type": "execute_result"
    }
   ],
   "source": [
    "p0"
   ]
  },
  {
   "cell_type": "code",
   "execution_count": null,
   "id": "63b735ba",
   "metadata": {},
   "outputs": [],
   "source": []
  },
  {
   "cell_type": "code",
   "execution_count": 10,
   "id": "bd1bdc34",
   "metadata": {
    "ExecuteTime": {
     "end_time": "2023-12-04T08:48:35.877760Z",
     "start_time": "2023-12-04T08:48:35.869246Z"
    }
   },
   "outputs": [],
   "source": [
    "tlin = np.linspace(texp.min(), texp.max(), 200)\n",
    "xhat = solver(solution.x, t=tlin)"
   ]
  },
  {
   "cell_type": "code",
   "execution_count": null,
   "id": "b64b8ddd",
   "metadata": {
    "ExecuteTime": {
     "end_time": "2023-12-03T16:47:14.565687Z",
     "start_time": "2023-12-03T16:47:14.558004Z"
    }
   },
   "outputs": [],
   "source": []
  },
  {
   "cell_type": "code",
   "execution_count": null,
   "id": "07aa5351",
   "metadata": {
    "ExecuteTime": {
     "end_time": "2023-12-03T16:22:36.546247Z",
     "start_time": "2023-12-03T16:22:36.535265Z"
    },
    "scrolled": true
   },
   "outputs": [],
   "source": []
  },
  {
   "cell_type": "code",
   "execution_count": 11,
   "id": "333a6fa7",
   "metadata": {
    "ExecuteTime": {
     "end_time": "2023-12-04T08:48:36.295068Z",
     "start_time": "2023-12-04T08:48:35.880599Z"
    }
   },
   "outputs": [
    {
     "data": {
      "image/png": "[encoded data removed]",
      "text/plain": [
       "<Figure size 640x480 with 1 Axes>"
      ]
     },
     "metadata": {},
     "output_type": "display_data"
    }
   ],
   "source": [
    "fig, axe = plt.subplots()\n",
    "for i in range(xexp.shape[0]):\n",
    "    axe.scatter(texp, xexp[i, :])\n",
    "    axe.plot(tlin, xhat[i, :])\n",
    "axe.grid()"
   ]
  },
  {
   "cell_type": "code",
   "execution_count": null,
   "id": "fadbaedd",
   "metadata": {},
   "outputs": [],
   "source": []
  },
  {
   "cell_type": "code",
   "execution_count": null,
   "id": "725ac9e6",
   "metadata": {},
   "outputs": [],
   "source": []
  },
  {
   "cell_type": "code",
   "execution_count": null,
   "id": "e5457bbf",
   "metadata": {},
   "outputs": [],
   "source": []
  },
  {
   "cell_type": "code",
   "execution_count": null,
   "id": "12165d08",
   "metadata": {},
   "outputs": [],
   "source": []
  }
 ],
 "metadata": {
  "hide_input": false,
  "kernelspec": {
   "display_name": "Python 3",
   "language": "python",
   "name": "python3"
  },
  "language_info": {
   "codemirror_mode": {
    "name": "ipython",
    "version": 3
   },
   "file_extension": ".py",
   "mimetype": "text/x-python",
   "name": "python",
   "nbconvert_exporter": "python",
   "pygments_lexer": "ipython3",
   "version": "3.10.6"
  },
  "toc": {
   "base_numbering": 1,
   "nav_menu": {},
   "number_sections": true,
   "sideBar": true,
   "skip_h1_title": false,
   "title_cell": "Table of Contents",
   "title_sidebar": "Contents",
   "toc_cell": false,
   "toc_position": {},
   "toc_section_display": true,
   "toc_window_display": false
  },
  "varInspector": {
   "cols": {
    "lenName": 16,
    "lenType": 16,
    "lenVar": 40
   },
   "kernels_config": {
    "python": {
     "delete_cmd_postfix": "",
     "delete_cmd_prefix": "del ",
     "library": "var_list.py",
     "varRefreshCmd": "print(var_dic_list())"
    },
    "r": {
     "delete_cmd_postfix": ") ",
     "delete_cmd_prefix": "rm(",
     "library": "var_list.r",
     "varRefreshCmd": "cat(var_dic_list()) "
    }
   },
   "types_to_exclude": [
    "module",
    "function",
    "builtin_function_or_method",
    "instance",
    "_Feature"
   ],
   "window_display": false
  }
 },
 "nbformat": 4,
 "nbformat_minor": 5
}
