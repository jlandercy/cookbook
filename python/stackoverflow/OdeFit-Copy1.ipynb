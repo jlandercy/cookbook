{
 "cells": [
  {
   "cell_type": "markdown",
   "id": "d66ed6ee",
   "metadata": {},
   "source": [
    "https://stackoverflow.com/questions/77587951/how-to-fit-a-system-of-odes-with-interpolation"
   ]
  },
  {
   "cell_type": "code",
   "execution_count": 28,
   "id": "b944284e",
   "metadata": {
    "ExecuteTime": {
     "end_time": "2023-12-13T09:28:49.091568Z",
     "start_time": "2023-12-13T09:28:49.078390Z"
    }
   },
   "outputs": [],
   "source": [
    "import numpy as np\n",
    "import numdifftools as nd\n",
    "import matplotlib.pyplot as plt\n",
    "from scipy import integrate, optimize, stats\n",
    "from sklearn.metrics import r2_score"
   ]
  },
  {
   "cell_type": "code",
   "execution_count": null,
   "id": "d95d8399",
   "metadata": {
    "ExecuteTime": {
     "end_time": "2023-12-03T16:46:00.762672Z",
     "start_time": "2023-12-03T16:46:00.745945Z"
    }
   },
   "outputs": [],
   "source": []
  },
  {
   "cell_type": "code",
   "execution_count": null,
   "id": "5a3698e3",
   "metadata": {
    "ExecuteTime": {
     "end_time": "2023-12-03T16:46:00.770562Z",
     "start_time": "2023-12-03T16:46:00.765607Z"
    }
   },
   "outputs": [],
   "source": []
  },
  {
   "cell_type": "code",
   "execution_count": 2,
   "id": "add06644",
   "metadata": {
    "ExecuteTime": {
     "end_time": "2023-12-13T08:59:50.301510Z",
     "start_time": "2023-12-13T08:59:50.296072Z"
    }
   },
   "outputs": [],
   "source": [
    "def system(t, x, k0, k1):\n",
    "    return np.array([\n",
    "        - k0 * x[0],\n",
    "        + k0 * x[0] - k1 * x[1],\n",
    "                    + k1 * x[1]\n",
    "    ])"
   ]
  },
  {
   "cell_type": "code",
   "execution_count": null,
   "id": "1eaa6299",
   "metadata": {
    "ExecuteTime": {
     "end_time": "2023-12-03T16:39:53.661292Z",
     "start_time": "2023-12-03T16:39:53.640337Z"
    }
   },
   "outputs": [],
   "source": []
  },
  {
   "cell_type": "code",
   "execution_count": 3,
   "id": "7c9d8d2f",
   "metadata": {
    "ExecuteTime": {
     "end_time": "2023-12-13T08:59:50.310806Z",
     "start_time": "2023-12-13T08:59:50.305442Z"
    }
   },
   "outputs": [],
   "source": [
    "def solver(parameters, t=np.linspace(0, 1, 10)):\n",
    "    solution = integrate.solve_ivp(\n",
    "        system, [t.min(), t.max()], y0=parameters[-3:],\n",
    "        args=parameters[:-3], t_eval=t\n",
    "    )\n",
    "    return solution.y"
   ]
  },
  {
   "cell_type": "code",
   "execution_count": 4,
   "id": "df7ede20",
   "metadata": {
    "ExecuteTime": {
     "end_time": "2023-12-13T08:59:50.339702Z",
     "start_time": "2023-12-13T08:59:50.322517Z"
    }
   },
   "outputs": [],
   "source": [
    "texp = np.linspace(0, 10, 30)\n",
    "p0 = np.array([ 0.85, 0.15, 1.5, 0.25, 0.])"
   ]
  },
  {
   "cell_type": "code",
   "execution_count": 5,
   "id": "693a732e",
   "metadata": {
    "ExecuteTime": {
     "end_time": "2023-12-13T08:59:50.361673Z",
     "start_time": "2023-12-13T08:59:50.343796Z"
    }
   },
   "outputs": [],
   "source": [
    "np.random.seed(12345)\n",
    "xexp = solver(p0, t=texp)\n",
    "sigma = 0.01 * np.ones_like(xexp) \n",
    "xexp += sigma * np.random.normal(size=xexp.shape)"
   ]
  },
  {
   "cell_type": "code",
   "execution_count": null,
   "id": "9cc71774",
   "metadata": {
    "ExecuteTime": {
     "end_time": "2023-12-13T09:07:13.581885Z",
     "start_time": "2023-12-13T09:07:13.569076Z"
    }
   },
   "outputs": [],
   "source": []
  },
  {
   "cell_type": "code",
   "execution_count": null,
   "id": "eabdbb45",
   "metadata": {},
   "outputs": [],
   "source": []
  },
  {
   "cell_type": "code",
   "execution_count": null,
   "id": "4b5bc8a0",
   "metadata": {},
   "outputs": [],
   "source": []
  },
  {
   "cell_type": "code",
   "execution_count": 6,
   "id": "dc13a18a",
   "metadata": {
    "ExecuteTime": {
     "end_time": "2023-12-13T08:59:50.375526Z",
     "start_time": "2023-12-13T08:59:50.364990Z"
    }
   },
   "outputs": [],
   "source": [
    "def loss_factory(t, x, sigma):\n",
    "    def wrapped(parameters):\n",
    "        return 0.5 * np.sum(np.power((x - solver(parameters, t=t)) / sigma, 2))\n",
    "    return wrapped"
   ]
  },
  {
   "cell_type": "code",
   "execution_count": null,
   "id": "835173fe",
   "metadata": {
    "ExecuteTime": {
     "end_time": "2023-12-03T16:47:11.806728Z",
     "start_time": "2023-12-03T16:47:11.802589Z"
    }
   },
   "outputs": [],
   "source": []
  },
  {
   "cell_type": "code",
   "execution_count": null,
   "id": "d30e948b",
   "metadata": {},
   "outputs": [],
   "source": []
  },
  {
   "cell_type": "code",
   "execution_count": 7,
   "id": "1dc474d2",
   "metadata": {
    "ExecuteTime": {
     "end_time": "2023-12-13T08:59:50.985318Z",
     "start_time": "2023-12-13T08:59:50.379632Z"
    }
   },
   "outputs": [],
   "source": [
    "loss = loss_factory(texp, xexp, sigma)\n",
    "solution = optimize.minimize(\n",
    "    loss,\n",
    "    x0=[1, 1, 1, 1, 1],\n",
    "    bounds=[(0, np.inf)] * 5\n",
    ")"
   ]
  },
  {
   "cell_type": "code",
   "execution_count": null,
   "id": "0dc3e727",
   "metadata": {},
   "outputs": [],
   "source": []
  },
  {
   "cell_type": "code",
   "execution_count": 8,
   "id": "57a073f6",
   "metadata": {
    "ExecuteTime": {
     "end_time": "2023-12-13T08:59:51.001117Z",
     "start_time": "2023-12-13T08:59:50.988069Z"
    }
   },
   "outputs": [
    {
     "data": {
      "text/plain": [
       "      fun: 41.60636573541066\n",
       " hess_inv: <5x5 LbfgsInvHessProduct with dtype=float64>\n",
       "      jac: array([-0.00301767, -0.01338876,  0.01562341,  0.01689315,  0.00656257])\n",
       "  message: 'CONVERGENCE: REL_REDUCTION_OF_F_<=_FACTR*EPSMCH'\n",
       "     nfev: 186\n",
       "      nit: 27\n",
       "     njev: 31\n",
       "   status: 0\n",
       "  success: True\n",
       "        x: array([0.8364894 , 0.15044452, 1.5001996 , 0.24623917, 0.00241979])"
      ]
     },
     "execution_count": 8,
     "metadata": {},
     "output_type": "execute_result"
    }
   ],
   "source": [
    "solution"
   ]
  },
  {
   "cell_type": "code",
   "execution_count": null,
   "id": "fd6f52db",
   "metadata": {
    "ExecuteTime": {
     "end_time": "2023-12-12T15:05:31.727971Z",
     "start_time": "2023-12-12T15:05:31.390266Z"
    }
   },
   "outputs": [],
   "source": []
  },
  {
   "cell_type": "code",
   "execution_count": 18,
   "id": "a15ce14f",
   "metadata": {
    "ExecuteTime": {
     "end_time": "2023-12-13T09:20:58.431350Z",
     "start_time": "2023-12-13T09:20:58.312571Z"
    }
   },
   "outputs": [],
   "source": [
    "xhat = solver(solution.x, t=texp)"
   ]
  },
  {
   "cell_type": "code",
   "execution_count": 22,
   "id": "26b0f36d",
   "metadata": {
    "ExecuteTime": {
     "end_time": "2023-12-13T09:22:09.558524Z",
     "start_time": "2023-12-13T09:22:05.781362Z"
    }
   },
   "outputs": [],
   "source": []
  },
  {
   "cell_type": "code",
   "execution_count": 25,
   "id": "b4cd6267",
   "metadata": {
    "ExecuteTime": {
     "end_time": "2023-12-13T09:25:44.537428Z",
     "start_time": "2023-12-13T09:25:44.505719Z"
    }
   },
   "outputs": [
    {
     "data": {
      "text/plain": [
       "0.999498540097489"
      ]
     },
     "execution_count": 25,
     "metadata": {},
     "output_type": "execute_result"
    }
   ],
   "source": [
    "score = r2_score(xexp, xhat)\n",
    "score"
   ]
  },
  {
   "cell_type": "code",
   "execution_count": 45,
   "id": "b7fc4795",
   "metadata": {
    "ExecuteTime": {
     "end_time": "2023-12-13T09:31:38.276827Z",
     "start_time": "2023-12-13T09:31:38.272951Z"
    }
   },
   "outputs": [],
   "source": [
    "chi2 = 2. * solution.fun  # 83.21273147082132\n",
    "nu = xexp.size - p0.size  # 85\n",
    "chi2n = chi2 / nu         # 0.9789733114214274"
   ]
  },
  {
   "cell_type": "code",
   "execution_count": 48,
   "id": "6111c5a0",
   "metadata": {
    "ExecuteTime": {
     "end_time": "2023-12-13T09:34:52.751652Z",
     "start_time": "2023-12-13T09:34:52.742578Z"
    }
   },
   "outputs": [
    {
     "data": {
      "text/plain": [
       "0.5345849047291789"
      ]
     },
     "execution_count": 48,
     "metadata": {},
     "output_type": "execute_result"
    }
   ],
   "source": [
    "law  = stats.chi2(df=nu)\n",
    "pvalue = law.sf(chi2)     # 0.5345849047291789\n",
    "pvalue"
   ]
  },
  {
   "cell_type": "code",
   "execution_count": null,
   "id": "45f9a648",
   "metadata": {},
   "outputs": [],
   "source": []
  },
  {
   "cell_type": "code",
   "execution_count": null,
   "id": "fff1f3fc",
   "metadata": {},
   "outputs": [],
   "source": []
  },
  {
   "cell_type": "code",
   "execution_count": 9,
   "id": "146323a7",
   "metadata": {
    "ExecuteTime": {
     "end_time": "2023-12-13T08:59:53.322546Z",
     "start_time": "2023-12-13T08:59:51.004031Z"
    }
   },
   "outputs": [],
   "source": [
    "H = nd.Hessian(loss)(solution.x)"
   ]
  },
  {
   "cell_type": "code",
   "execution_count": 10,
   "id": "e0d1d27d",
   "metadata": {
    "ExecuteTime": {
     "end_time": "2023-12-13T08:59:53.334600Z",
     "start_time": "2023-12-13T08:59:53.329224Z"
    }
   },
   "outputs": [],
   "source": [
    "C = np.linalg.inv(H)"
   ]
  },
  {
   "cell_type": "code",
   "execution_count": 11,
   "id": "e09b9441",
   "metadata": {
    "ExecuteTime": {
     "end_time": "2023-12-13T08:59:53.346589Z",
     "start_time": "2023-12-13T08:59:53.338950Z"
    }
   },
   "outputs": [
    {
     "data": {
      "text/plain": [
       "array([0.00583539, 0.00059994, 0.00595627, 0.00643674, 0.00338883])"
      ]
     },
     "execution_count": 11,
     "metadata": {},
     "output_type": "execute_result"
    }
   ],
   "source": [
    "np.sqrt(np.diag(C))"
   ]
  },
  {
   "cell_type": "code",
   "execution_count": null,
   "id": "63b735ba",
   "metadata": {},
   "outputs": [],
   "source": []
  },
  {
   "cell_type": "code",
   "execution_count": 12,
   "id": "bd1bdc34",
   "metadata": {
    "ExecuteTime": {
     "end_time": "2023-12-13T08:59:53.363885Z",
     "start_time": "2023-12-13T08:59:53.350814Z"
    }
   },
   "outputs": [],
   "source": [
    "tlin = np.linspace(texp.min(), texp.max(), 200)\n",
    "xhat = solver(solution.x, t=tlin)"
   ]
  },
  {
   "cell_type": "code",
   "execution_count": null,
   "id": "b64b8ddd",
   "metadata": {
    "ExecuteTime": {
     "end_time": "2023-12-03T16:47:14.565687Z",
     "start_time": "2023-12-03T16:47:14.558004Z"
    }
   },
   "outputs": [],
   "source": []
  },
  {
   "cell_type": "code",
   "execution_count": null,
   "id": "07aa5351",
   "metadata": {
    "ExecuteTime": {
     "end_time": "2023-12-03T16:22:36.546247Z",
     "start_time": "2023-12-03T16:22:36.535265Z"
    },
    "scrolled": true
   },
   "outputs": [],
   "source": []
  },
  {
   "cell_type": "code",
   "execution_count": 13,
   "id": "333a6fa7",
   "metadata": {
    "ExecuteTime": {
     "end_time": "2023-12-13T08:59:53.860142Z",
     "start_time": "2023-12-13T08:59:53.368145Z"
    }
   },
   "outputs": [
    {
     "data": {
      "image/png": "[encoded data removed]",
      "text/plain": [
       "<Figure size 640x480 with 1 Axes>"
      ]
     },
     "metadata": {},
     "output_type": "display_data"
    }
   ],
   "source": [
    "fig, axe = plt.subplots()\n",
    "for i in range(xexp.shape[0]):\n",
    "    axe.scatter(texp, xexp[i, :], marker=\".\")\n",
    "    axe.plot(tlin, xhat[i, :])\n",
    "axe.set_title(r\"Kinetics\")\n",
    "axe.set_xlabel(r\"Time, $t$ [min]\")\n",
    "axe.set_ylabel(r\"Concentrations, $x_i(t)$ [mol/L]\")\n",
    "axe.grid()"
   ]
  },
  {
   "cell_type": "code",
   "execution_count": null,
   "id": "fadbaedd",
   "metadata": {},
   "outputs": [],
   "source": []
  },
  {
   "cell_type": "code",
   "execution_count": null,
   "id": "725ac9e6",
   "metadata": {},
   "outputs": [],
   "source": []
  },
  {
   "cell_type": "code",
   "execution_count": null,
   "id": "e5457bbf",
   "metadata": {},
   "outputs": [],
   "source": []
  },
  {
   "cell_type": "code",
   "execution_count": null,
   "id": "12165d08",
   "metadata": {},
   "outputs": [],
   "source": []
  }
 ],
 "metadata": {
  "hide_input": false,
  "kernelspec": {
   "display_name": "Python 3",
   "language": "python",
   "name": "python3"
  },
  "language_info": {
   "codemirror_mode": {
    "name": "ipython",
    "version": 3
   },
   "file_extension": ".py",
   "mimetype": "text/x-python",
   "name": "python",
   "nbconvert_exporter": "python",
   "pygments_lexer": "ipython3",
   "version": "3.10.6"
  },
  "toc": {
   "base_numbering": 1,
   "nav_menu": {},
   "number_sections": true,
   "sideBar": true,
   "skip_h1_title": false,
   "title_cell": "Table of Contents",
   "title_sidebar": "Contents",
   "toc_cell": false,
   "toc_position": {},
   "toc_section_display": true,
   "toc_window_display": false
  },
  "varInspector": {
   "cols": {
    "lenName": 16,
    "lenType": 16,
    "lenVar": 40
   },
   "kernels_config": {
    "python": {
     "delete_cmd_postfix": "",
     "delete_cmd_prefix": "del ",
     "library": "var_list.py",
     "varRefreshCmd": "print(var_dic_list())"
    },
    "r": {
     "delete_cmd_postfix": ") ",
     "delete_cmd_prefix": "rm(",
     "library": "var_list.r",
     "varRefreshCmd": "cat(var_dic_list()) "
    }
   },
   "types_to_exclude": [
    "module",
    "function",
    "builtin_function_or_method",
    "instance",
    "_Feature"
   ],
   "window_display": false
  }
 },
 "nbformat": 4,
 "nbformat_minor": 5
}
