{
 "cells": [
  {
   "cell_type": "code",
   "execution_count": 1,
   "id": "d9349b7e",
   "metadata": {},
   "outputs": [],
   "source": [
    "import numpy as np\n",
    "import pandas as pd\n",
    "import duckdb as db"
   ]
  },
  {
   "cell_type": "markdown",
   "id": "ab40b05a",
   "metadata": {},
   "source": [
    "https://stackoverflow.com/questions/79041162/how-to-efficiently-handle-large-datasets-in-python-using-pandas/79044402#79044402"
   ]
  },
  {
   "cell_type": "code",
   "execution_count": 2,
   "id": "b63c35f7",
   "metadata": {},
   "outputs": [],
   "source": [
    "N = 1_000_000"
   ]
  },
  {
   "cell_type": "code",
   "execution_count": 3,
   "id": "dcc957a6",
   "metadata": {},
   "outputs": [],
   "source": [
    "data = pd.DataFrame({\n",
    "    \"c\": np.random.choice([\"a\", \"b\", \"c\"], size=N),\n",
    "    \"x\": np.random.uniform(size=N),\n",
    "    \"y\": np.random.normal(size=N)\n",
    "})"
   ]
  },
  {
   "cell_type": "code",
   "execution_count": 4,
   "id": "4ce1a858",
   "metadata": {},
   "outputs": [],
   "source": [
    "data.to_csv(\"blob.csv\")"
   ]
  },
  {
   "cell_type": "code",
   "execution_count": 13,
   "id": "10ce22d4",
   "metadata": {},
   "outputs": [
    {
     "data": {
      "text/plain": [
       "22.8883056640625"
      ]
     },
     "execution_count": 13,
     "metadata": {},
     "output_type": "execute_result"
    }
   ],
   "source": [
    "data.memory_usage().sum() / 1024 ** 2"
   ]
  },
  {
   "cell_type": "code",
   "execution_count": 7,
   "id": "725ecc0f",
   "metadata": {},
   "outputs": [
    {
     "name": "stdout",
     "output_type": "stream",
     "text": [
      "137 ms ± 11.5 ms per loop (mean ± std. dev. of 10 runs, 10 loops each)\n"
     ]
    }
   ],
   "source": [
    "%timeit -r 10 -n 10 data[data[\"x\"] > 0.5].groupby(\"c\")[\"y\"].mean()"
   ]
  },
  {
   "cell_type": "code",
   "execution_count": 8,
   "id": "791d229f",
   "metadata": {},
   "outputs": [
    {
     "name": "stdout",
     "output_type": "stream",
     "text": [
      "89.3 ms ± 1.01 ms per loop (mean ± std. dev. of 10 runs, 10 loops each)\n"
     ]
    }
   ],
   "source": [
    "%timeit -r 10 -n 10 db.query(\"SELECT c, MEAN(y) FROM blob.csv WHERE x > 0.5 GROUP BY c;\")"
   ]
  },
  {
   "cell_type": "code",
   "execution_count": null,
   "id": "95e6a7bf",
   "metadata": {},
   "outputs": [],
   "source": []
  }
 ],
 "metadata": {
  "hide_input": false,
  "kernelspec": {
   "display_name": "Python 3",
   "language": "python",
   "name": "python3"
  },
  "language_info": {
   "codemirror_mode": {
    "name": "ipython",
    "version": 3
   },
   "file_extension": ".py",
   "mimetype": "text/x-python",
   "name": "python",
   "nbconvert_exporter": "python",
   "pygments_lexer": "ipython3",
   "version": "3.10.6"
  },
  "toc": {
   "base_numbering": 1,
   "nav_menu": {},
   "number_sections": true,
   "sideBar": true,
   "skip_h1_title": false,
   "title_cell": "Table of Contents",
   "title_sidebar": "Contents",
   "toc_cell": false,
   "toc_position": {},
   "toc_section_display": true,
   "toc_window_display": false
  },
  "varInspector": {
   "cols": {
    "lenName": 16,
    "lenType": 16,
    "lenVar": 40
   },
   "kernels_config": {
    "python": {
     "delete_cmd_postfix": "",
     "delete_cmd_prefix": "del ",
     "library": "var_list.py",
     "varRefreshCmd": "print(var_dic_list())"
    },
    "r": {
     "delete_cmd_postfix": ") ",
     "delete_cmd_prefix": "rm(",
     "library": "var_list.r",
     "varRefreshCmd": "cat(var_dic_list()) "
    }
   },
   "types_to_exclude": [
    "module",
    "function",
    "builtin_function_or_method",
    "instance",
    "_Feature"
   ],
   "window_display": false
  }
 },
 "nbformat": 4,
 "nbformat_minor": 5
}
