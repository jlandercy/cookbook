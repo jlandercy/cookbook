{
 "cells": [
  {
   "cell_type": "code",
   "execution_count": 1,
   "metadata": {
    "ExecuteTime": {
     "end_time": "2020-10-26T11:05:02.620959Z",
     "start_time": "2020-10-26T11:05:02.574519Z"
    }
   },
   "outputs": [],
   "source": [
    "class Artefact:\n",
    "    \n",
    "    _store = dict()\n",
    "    \n",
    "    def __init__(self, *args, **kwargs):\n",
    "        print(\"Artefact.__init__({}, {})\".format(args, kwargs))\n",
    "    \n",
    "    def __new__(cls, *args, **kwargs):\n",
    "        print(\"Artefact.__new__({}, {}, {})\".format(cls, args, kwargs))\n",
    "        key = args[0]\n",
    "        if key in cls._store:\n",
    "            print(\"Found existing\")\n",
    "            return cls._store[key]\n",
    "        else:\n",
    "            print(\"New instance\")\n",
    "            obj = super().__new__(cls)\n",
    "            obj.key = key\n",
    "            obj.data = dict()\n",
    "            cls._store[key] = obj\n",
    "            return obj\n",
    "        \n",
    "    def __repr__(self):\n",
    "        return \"<Artefact '{}' data={}>\".format(self.key, self.data)"
   ]
  },
  {
   "cell_type": "code",
   "execution_count": 2,
   "metadata": {
    "ExecuteTime": {
     "end_time": "2020-10-26T11:05:02.643653Z",
     "start_time": "2020-10-26T11:05:02.625393Z"
    }
   },
   "outputs": [],
   "source": [
    "class Item(Artefact):\n",
    "    \n",
    "    def __init__(self, key, **data):\n",
    "        print(\"Item.__init__({}, {})\".format(key, data))\n",
    "        super().__init__(self, key)\n",
    "        self.data.update(data)\n",
    "        \n",
    "    def __repr__(self):\n",
    "        return \"<Item '{}' data={}>\".format(self.key, self.data)"
   ]
  },
  {
   "cell_type": "code",
   "execution_count": 3,
   "metadata": {
    "ExecuteTime": {
     "end_time": "2020-10-26T11:05:02.661583Z",
     "start_time": "2020-10-26T11:05:02.651513Z"
    }
   },
   "outputs": [],
   "source": [
    "class Object(Item):\n",
    "    \n",
    "    def __init__(self, key, **data):\n",
    "        print(\"Object.__init__({}, {})\".format(key, data))\n",
    "        super().__init__(key, **data)\n",
    "        \n",
    "    def __repr__(self):\n",
    "        return \"<Object '{}' data={}>\".format(self.key, self.data)"
   ]
  },
  {
   "cell_type": "code",
   "execution_count": 4,
   "metadata": {
    "ExecuteTime": {
     "end_time": "2020-10-26T11:05:02.686741Z",
     "start_time": "2020-10-26T11:05:02.665627Z"
    }
   },
   "outputs": [
    {
     "name": "stdout",
     "output_type": "stream",
     "text": [
      "Artefact.__new__(Artefact, ('test',), {'foo': 'bar', 'hello': 'world'})\n",
      "New instance\n",
      "Artefact.__init__(('test',), {'foo': 'bar', 'hello': 'world'})\n",
      "<Artefact 'test' data={}>\n"
     ]
    }
   ],
   "source": [
    "a = Artefact(\"test\", **{\"foo\": \"bar\", \"hello\": \"world\"})\n",
    "print(a)"
   ]
  },
  {
   "cell_type": "code",
   "execution_count": 5,
   "metadata": {
    "ExecuteTime": {
     "end_time": "2020-10-26T11:05:02.706390Z",
     "start_time": "2020-10-26T11:05:02.689876Z"
    }
   },
   "outputs": [
    {
     "name": "stdout",
     "output_type": "stream",
     "text": [
      "Artefact.__new__(Artefact, ('test',), {})\n",
      "Found existing\n",
      "Artefact.__init__(('test',), {})\n",
      "<Artefact 'test' data={}>\n"
     ]
    }
   ],
   "source": [
    "b = Artefact(\"test\")\n",
    "print(b)"
   ]
  },
  {
   "cell_type": "code",
   "execution_count": 6,
   "metadata": {
    "ExecuteTime": {
     "end_time": "2020-10-26T11:05:02.722486Z",
     "start_time": "2020-10-26T11:05:02.712497Z"
    }
   },
   "outputs": [
    {
     "name": "stdout",
     "output_type": "stream",
     "text": [
      "Artefact.__new__(Artefact, ('dummy',), {})\n",
      "New instance\n",
      "Artefact.__init__(('dummy',), {})\n",
      "<Artefact 'dummy' data={}>\n"
     ]
    }
   ],
   "source": [
    "c = Artefact(\"dummy\")\n",
    "print(c)\n"
   ]
  },
  {
   "cell_type": "code",
   "execution_count": 7,
   "metadata": {
    "ExecuteTime": {
     "end_time": "2020-10-26T11:05:02.798628Z",
     "start_time": "2020-10-26T11:05:02.791439Z"
    }
   },
   "outputs": [
    {
     "name": "stdout",
     "output_type": "stream",
     "text": [
      "Artefact.__new__(Item, ('hello',), {'zoo': 'zar', 'null': None})\n",
      "New instance\n",
      "Item.__init__(hello, {'zoo': 'zar', 'null': None})\n",
      "Artefact.__init__((<Item 'hello' data={}>, 'hello'), {})\n",
      "<Item 'hello' data={'zoo': 'zar', 'null': None}>\n"
     ]
    }
   ],
   "source": [
    "d = Item(\"hello\", **{\"zoo\": \"zar\", \"null\": None})\n",
    "print(d)"
   ]
  },
  {
   "cell_type": "code",
   "execution_count": 8,
   "metadata": {
    "ExecuteTime": {
     "end_time": "2020-10-26T11:05:02.812700Z",
     "start_time": "2020-10-26T11:05:02.802384Z"
    }
   },
   "outputs": [
    {
     "name": "stdout",
     "output_type": "stream",
     "text": [
      "Artefact.__new__(Object, ('yollo',), {'yoo': 'yar', 'mil': 1000.0})\n",
      "New instance\n",
      "Object.__init__(yollo, {'yoo': 'yar', 'mil': 1000.0})\n",
      "Item.__init__(yollo, {'yoo': 'yar', 'mil': 1000.0})\n",
      "Artefact.__init__((<Object 'yollo' data={}>, 'yollo'), {})\n",
      "<Object 'yollo' data={'yoo': 'yar', 'mil': 1000.0}>\n"
     ]
    }
   ],
   "source": [
    "e = Object(\"yollo\", **{\"yoo\": \"yar\", \"mil\": 1000.})\n",
    "print(e)"
   ]
  },
  {
   "cell_type": "code",
   "execution_count": null,
   "metadata": {},
   "outputs": [],
   "source": []
  },
  {
   "cell_type": "code",
   "execution_count": null,
   "metadata": {},
   "outputs": [],
   "source": []
  },
  {
   "cell_type": "code",
   "execution_count": null,
   "metadata": {},
   "outputs": [],
   "source": []
  }
 ],
 "metadata": {
  "hide_input": false,
  "kernelspec": {
   "display_name": "Python 3",
   "language": "python",
   "name": "python3"
  },
  "language_info": {
   "codemirror_mode": {
    "name": "ipython",
    "version": 3
   },
   "file_extension": ".py",
   "mimetype": "text/x-python",
   "name": "python",
   "nbconvert_exporter": "python",
   "pygments_lexer": "ipython3",
   "version": "3.6.9"
  },
  "toc": {
   "base_numbering": 1,
   "nav_menu": {},
   "number_sections": true,
   "sideBar": true,
   "skip_h1_title": false,
   "title_cell": "Table of Contents",
   "title_sidebar": "Contents",
   "toc_cell": false,
   "toc_position": {},
   "toc_section_display": true,
   "toc_window_display": false
  },
  "varInspector": {
   "cols": {
    "lenName": 16,
    "lenType": 16,
    "lenVar": 40
   },
   "kernels_config": {
    "python": {
     "delete_cmd_postfix": "",
     "delete_cmd_prefix": "del ",
     "library": "var_list.py",
     "varRefreshCmd": "print(var_dic_list())"
    },
    "r": {
     "delete_cmd_postfix": ") ",
     "delete_cmd_prefix": "rm(",
     "library": "var_list.r",
     "varRefreshCmd": "cat(var_dic_list()) "
    }
   },
   "types_to_exclude": [
    "module",
    "function",
    "builtin_function_or_method",
    "instance",
    "_Feature"
   ],
   "window_display": false
  }
 },
 "nbformat": 4,
 "nbformat_minor": 4
}
