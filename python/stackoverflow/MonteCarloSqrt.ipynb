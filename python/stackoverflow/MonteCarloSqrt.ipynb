{
 "cells": [
  {
   "cell_type": "code",
   "execution_count": 12,
   "metadata": {
    "ExecuteTime": {
     "end_time": "2020-09-04T18:35:47.249342Z",
     "start_time": "2020-09-04T18:35:47.175573Z"
    }
   },
   "outputs": [
    {
     "name": "stdout",
     "output_type": "stream",
     "text": [
      "Estimation of sqrt(25) is   : 5.020584396023697\n",
      "Actual Value of sqrt(25) is : 5.0\n",
      "Error : -0.020584396023696883\n"
     ]
    }
   ],
   "source": [
    "from math import sqrt\n",
    "from random import uniform\n",
    "\n",
    "NUM = 25\n",
    "ITERATIONS = 10000000\n",
    "ITERATIONS = 100000\n",
    "EPS = .0000000001 # Epsilon\n",
    "count = 0\n",
    "\n",
    "for i in range(ITERATIONS):\n",
    "    if (uniform(0, NUM)**2 ) <= NUM: # 0 < uniform(0 + EPS, NUM - EPS) < NUM\n",
    "        count += 1\n",
    "    \n",
    "estimation = ITERATIONS / count\n",
    "sqrt_num = sqrt(NUM)\n",
    "\n",
    "print('Estimation of sqrt(', NUM, ') is   : ', estimation, sep = '')\n",
    "print('Actual Value of sqrt(', NUM, ') is : ', sqrt_num, sep = '')\n",
    "print('Error :', sqrt_num - estimation)"
   ]
  },
  {
   "cell_type": "code",
   "execution_count": null,
   "metadata": {},
   "outputs": [],
   "source": []
  }
 ],
 "metadata": {
  "hide_input": false,
  "kernelspec": {
   "display_name": "Python 3",
   "language": "python",
   "name": "python3"
  },
  "language_info": {
   "codemirror_mode": {
    "name": "ipython",
    "version": 3
   },
   "file_extension": ".py",
   "mimetype": "text/x-python",
   "name": "python",
   "nbconvert_exporter": "python",
   "pygments_lexer": "ipython3",
   "version": "3.6.9"
  },
  "toc": {
   "base_numbering": 1,
   "nav_menu": {},
   "number_sections": true,
   "sideBar": true,
   "skip_h1_title": false,
   "title_cell": "Table of Contents",
   "title_sidebar": "Contents",
   "toc_cell": false,
   "toc_position": {},
   "toc_section_display": true,
   "toc_window_display": false
  },
  "varInspector": {
   "cols": {
    "lenName": 16,
    "lenType": 16,
    "lenVar": 40
   },
   "kernels_config": {
    "python": {
     "delete_cmd_postfix": "",
     "delete_cmd_prefix": "del ",
     "library": "var_list.py",
     "varRefreshCmd": "print(var_dic_list())"
    },
    "r": {
     "delete_cmd_postfix": ") ",
     "delete_cmd_prefix": "rm(",
     "library": "var_list.r",
     "varRefreshCmd": "cat(var_dic_list()) "
    }
   },
   "types_to_exclude": [
    "module",
    "function",
    "builtin_function_or_method",
    "instance",
    "_Feature"
   ],
   "window_display": false
  }
 },
 "nbformat": 4,
 "nbformat_minor": 4
}
