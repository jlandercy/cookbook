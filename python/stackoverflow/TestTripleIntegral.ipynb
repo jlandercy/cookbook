{
 "cells": [
  {
   "cell_type": "code",
   "execution_count": 1,
   "id": "3d5f9d89",
   "metadata": {
    "ExecuteTime": {
     "end_time": "2024-05-22T07:01:50.326624Z",
     "start_time": "2024-05-22T07:01:49.696722Z"
    }
   },
   "outputs": [],
   "source": [
    "import numpy as np\n",
    "from scipy import integrate"
   ]
  },
  {
   "cell_type": "markdown",
   "id": "904f7705",
   "metadata": {},
   "source": [
    " - https://tutorial.math.lamar.edu/classes/calciii/tripleintegrals.aspx"
   ]
  },
  {
   "cell_type": "code",
   "execution_count": null,
   "id": "77610250",
   "metadata": {},
   "outputs": [],
   "source": []
  },
  {
   "cell_type": "code",
   "execution_count": 5,
   "id": "c984217c",
   "metadata": {
    "ExecuteTime": {
     "end_time": "2024-05-22T07:06:56.676510Z",
     "start_time": "2024-05-22T07:06:56.671554Z"
    }
   },
   "outputs": [],
   "source": [
    "def f(z, y, x):\n",
    "    return 8. * x * y * z"
   ]
  },
  {
   "cell_type": "code",
   "execution_count": 6,
   "id": "3e1ca29e",
   "metadata": {
    "ExecuteTime": {
     "end_time": "2024-05-22T07:06:57.005471Z",
     "start_time": "2024-05-22T07:06:56.954585Z"
    }
   },
   "outputs": [
    {
     "data": {
      "text/plain": [
       "(15.000000000000002, 2.6597158354059255e-13)"
      ]
     },
     "execution_count": 6,
     "metadata": {},
     "output_type": "execute_result"
    }
   ],
   "source": [
    "integrate.tplquad(f, 2, 3, 1, 2, 0, 1)"
   ]
  },
  {
   "cell_type": "code",
   "execution_count": null,
   "id": "11af68b7",
   "metadata": {},
   "outputs": [],
   "source": []
  },
  {
   "cell_type": "code",
   "execution_count": 7,
   "id": "13fff138",
   "metadata": {
    "ExecuteTime": {
     "end_time": "2024-05-22T07:06:57.959937Z",
     "start_time": "2024-05-22T07:06:57.954602Z"
    }
   },
   "outputs": [],
   "source": [
    "def g(z, y, x):\n",
    "    return 2. * x"
   ]
  },
  {
   "cell_type": "code",
   "execution_count": 8,
   "id": "86f4dd33",
   "metadata": {
    "ExecuteTime": {
     "end_time": "2024-05-22T07:07:49.195991Z",
     "start_time": "2024-05-22T07:07:49.160377Z"
    }
   },
   "outputs": [
    {
     "data": {
      "text/plain": [
       "(9.0, 9.992007221626409e-14)"
      ]
     },
     "execution_count": 8,
     "metadata": {},
     "output_type": "execute_result"
    }
   ],
   "source": [
    "integrate.tplquad(\n",
    "    g,\n",
    "    0, 3,\n",
    "    0, lambda x: - 2./3. * x + 2.,\n",
    "    0, lambda x, y: 6. - 2. * x - 3. * y\n",
    ")"
   ]
  },
  {
   "cell_type": "code",
   "execution_count": null,
   "id": "ce677896",
   "metadata": {},
   "outputs": [],
   "source": []
  },
  {
   "cell_type": "code",
   "execution_count": null,
   "id": "7613ee8c",
   "metadata": {},
   "outputs": [],
   "source": []
  },
  {
   "cell_type": "code",
   "execution_count": null,
   "id": "01518778",
   "metadata": {},
   "outputs": [],
   "source": []
  }
 ],
 "metadata": {
  "hide_input": false,
  "kernelspec": {
   "display_name": "Python 3",
   "language": "python",
   "name": "python3"
  },
  "language_info": {
   "codemirror_mode": {
    "name": "ipython",
    "version": 3
   },
   "file_extension": ".py",
   "mimetype": "text/x-python",
   "name": "python",
   "nbconvert_exporter": "python",
   "pygments_lexer": "ipython3",
   "version": "3.10.6"
  },
  "toc": {
   "base_numbering": 1,
   "nav_menu": {},
   "number_sections": true,
   "sideBar": true,
   "skip_h1_title": false,
   "title_cell": "Table of Contents",
   "title_sidebar": "Contents",
   "toc_cell": false,
   "toc_position": {},
   "toc_section_display": true,
   "toc_window_display": false
  },
  "varInspector": {
   "cols": {
    "lenName": 16,
    "lenType": 16,
    "lenVar": 40
   },
   "kernels_config": {
    "python": {
     "delete_cmd_postfix": "",
     "delete_cmd_prefix": "del ",
     "library": "var_list.py",
     "varRefreshCmd": "print(var_dic_list())"
    },
    "r": {
     "delete_cmd_postfix": ") ",
     "delete_cmd_prefix": "rm(",
     "library": "var_list.r",
     "varRefreshCmd": "cat(var_dic_list()) "
    }
   },
   "types_to_exclude": [
    "module",
    "function",
    "builtin_function_or_method",
    "instance",
    "_Feature"
   ],
   "window_display": false
  }
 },
 "nbformat": 4,
 "nbformat_minor": 5
}
