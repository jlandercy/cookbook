{
 "cells": [
  {
   "cell_type": "code",
   "execution_count": 3,
   "id": "2a36d454",
   "metadata": {
    "ExecuteTime": {
     "end_time": "2024-04-07T10:30:31.395692Z",
     "start_time": "2024-04-07T10:30:31.389003Z"
    }
   },
   "outputs": [],
   "source": [
    "import numpy as np\n",
    "import matplotlib.pyplot as plt\n",
    "from scipy import stats, optimize\n",
    "from sklearn.metrics import r2_score"
   ]
  },
  {
   "cell_type": "markdown",
   "id": "94b6f4dc",
   "metadata": {},
   "source": [
    "https://stackoverflow.com/questions/78287460/improving-the-quality-of-error-function-fit-using-python"
   ]
  },
  {
   "cell_type": "code",
   "execution_count": 7,
   "id": "07562fb0",
   "metadata": {
    "ExecuteTime": {
     "end_time": "2024-04-07T10:32:32.034824Z",
     "start_time": "2024-04-07T10:32:32.023210Z"
    }
   },
   "outputs": [],
   "source": [
    "x = [337, 337, 337, 337, 337, 337, 337, 337, 337, 337, 337, 337, 337, 337, 337, 337, 337, 337, 337, 337, 337, 337, 337, 337, 337, 337, 337, 336, 336, 334, 334, 333, 331, 331, 331, 329, 329, 328, 324, 323, 315, 308, 294, 283, 273, 264, 244, 234, 222, 217, 205, 188, 181, 174, 162, 151, 133, 126, 117, 112, 105, 96, 95, 87, 80, 73, 62, 59, 58, 52, 40, 35, 33, 31, 30, 29, 29, 26, 23, 21, 19, 18, 16, 15, 15, 15, 15, 15, 15, 14, 13, 12, 12, 12, 12, 12, 11, 10, 8, 8, 7, 7, 7, 6, 6, 5, 5, 5, 5, 5, 5, 5, 4, 3, 2, 2, 2, 2, 2, 2, 2, 2, 2, 1, 0]\n",
    "x = np.array([1 - (i / 1012) for i in x])\n",
    "\n",
    "t_start = 0.0\n",
    "t_end = 1e2\n",
    "timesteps = int(1e3 * t_end) + 1\n",
    "t = np.linspace(t_start, t_end, timesteps)\n",
    "t = t[:len(x)]"
   ]
  },
  {
   "cell_type": "code",
   "execution_count": null,
   "id": "90ef1c01",
   "metadata": {
    "ExecuteTime": {
     "end_time": "2024-04-07T10:39:35.071917Z",
     "start_time": "2024-04-07T10:39:35.036146Z"
    }
   },
   "outputs": [],
   "source": []
  },
  {
   "cell_type": "code",
   "execution_count": 9,
   "id": "babf4905",
   "metadata": {
    "ExecuteTime": {
     "end_time": "2024-04-07T10:34:03.557905Z",
     "start_time": "2024-04-07T10:34:03.550649Z"
    }
   },
   "outputs": [],
   "source": [
    "def model(x, x0, s, A, c):\n",
    "    law = stats.norm(loc=x0, scale=s)\n",
    "    return A * law.cdf(x) + c"
   ]
  },
  {
   "cell_type": "code",
   "execution_count": 25,
   "id": "ae3b7951",
   "metadata": {
    "ExecuteTime": {
     "end_time": "2024-04-07T10:44:20.701631Z",
     "start_time": "2024-04-07T10:44:20.697277Z"
    }
   },
   "outputs": [],
   "source": [
    "def model2(x, x0, A, c):\n",
    "    return c + A / (A + np.exp(-(x - x0)))"
   ]
  },
  {
   "cell_type": "code",
   "execution_count": null,
   "id": "24676d78",
   "metadata": {},
   "outputs": [],
   "source": []
  },
  {
   "cell_type": "code",
   "execution_count": null,
   "id": "b121d2bc",
   "metadata": {},
   "outputs": [],
   "source": []
  },
  {
   "cell_type": "code",
   "execution_count": 26,
   "id": "0521e12a",
   "metadata": {
    "ExecuteTime": {
     "end_time": "2024-04-07T10:44:21.656871Z",
     "start_time": "2024-04-07T10:44:21.366924Z"
    }
   },
   "outputs": [
    {
     "data": {
      "text/plain": [
       "(array([0.0534708 , 0.01188575, 0.32716774, 0.66368917]),\n",
       " array([[ 2.67320113e-08, -2.51209564e-09, -3.45782684e-08,\n",
       "          8.96149464e-08],\n",
       "        [-2.51209564e-09,  4.86073002e-08,  1.89549506e-07,\n",
       "         -1.14281405e-07],\n",
       "        [-3.45782684e-08,  1.89549506e-07,  2.60885182e-06,\n",
       "         -1.57292936e-06],\n",
       "        [ 8.96149464e-08, -1.14281405e-07, -1.57292936e-06,\n",
       "          1.48232580e-06]]))"
      ]
     },
     "execution_count": 26,
     "metadata": {},
     "output_type": "execute_result"
    }
   ],
   "source": [
    "popt, pcov = optimize.curve_fit(model, t, x)\n",
    "popt, pcov"
   ]
  },
  {
   "cell_type": "code",
   "execution_count": 33,
   "id": "3ef9eaaf",
   "metadata": {
    "ExecuteTime": {
     "end_time": "2024-04-07T10:45:44.976952Z",
     "start_time": "2024-04-07T10:45:44.951239Z"
    }
   },
   "outputs": [
    {
     "data": {
      "text/plain": [
       "(array([ 4.46452726, 81.85217454,  0.34900903]),\n",
       " array([[ 2.71279420e+12,  2.22050175e+14, -6.31824857e+06],\n",
       "        [ 2.22050175e+14,  1.81754593e+16, -5.17732170e+08],\n",
       "        [-6.31824857e+06, -5.17732170e+08,  1.73971358e+03]]))"
      ]
     },
     "execution_count": 33,
     "metadata": {},
     "output_type": "execute_result"
    }
   ],
   "source": [
    "popt2, pcov2 = optimize.curve_fit(model2, t, x, p0=[0.04, 10, 0.66])\n",
    "popt2, pcov2"
   ]
  },
  {
   "cell_type": "code",
   "execution_count": null,
   "id": "6225f0af",
   "metadata": {},
   "outputs": [],
   "source": []
  },
  {
   "cell_type": "code",
   "execution_count": null,
   "id": "22b75bfd",
   "metadata": {},
   "outputs": [],
   "source": []
  },
  {
   "cell_type": "code",
   "execution_count": 34,
   "id": "f4187bd8",
   "metadata": {
    "ExecuteTime": {
     "end_time": "2024-04-07T10:45:47.490249Z",
     "start_time": "2024-04-07T10:45:47.478887Z"
    }
   },
   "outputs": [],
   "source": [
    "xhat = model(t, *popt)\n",
    "xhat2 = model2(t, *popt2)"
   ]
  },
  {
   "cell_type": "code",
   "execution_count": 35,
   "id": "7e0b6459",
   "metadata": {
    "ExecuteTime": {
     "end_time": "2024-04-07T10:45:47.611587Z",
     "start_time": "2024-04-07T10:45:47.602350Z"
    }
   },
   "outputs": [
    {
     "name": "stdout",
     "output_type": "stream",
     "text": [
      "0.9979168932633076 0.1140976693879715\n"
     ]
    }
   ],
   "source": [
    "score = r2_score(x, xhat)\n",
    "score2 = r2_score(x, xhat2)\n",
    "print(score, score2)"
   ]
  },
  {
   "cell_type": "code",
   "execution_count": 36,
   "id": "deb15db1",
   "metadata": {
    "ExecuteTime": {
     "end_time": "2024-04-07T10:45:48.013448Z",
     "start_time": "2024-04-07T10:45:47.729542Z"
    }
   },
   "outputs": [
    {
     "data": {
      "image/png": "[encoded data removed]",
      "text/plain": [
       "<Figure size 640x480 with 1 Axes>"
      ]
     },
     "metadata": {},
     "output_type": "display_data"
    }
   ],
   "source": [
    "fig, axe = plt.subplots()\n",
    "axe.plot(t, x)\n",
    "axe.plot(t, xhat)\n",
    "axe.plot(t, xhat2)\n",
    "axe.grid()"
   ]
  },
  {
   "cell_type": "code",
   "execution_count": null,
   "id": "15266e68",
   "metadata": {},
   "outputs": [],
   "source": []
  },
  {
   "cell_type": "code",
   "execution_count": null,
   "id": "8c9c42d6",
   "metadata": {},
   "outputs": [],
   "source": []
  }
 ],
 "metadata": {
  "hide_input": false,
  "kernelspec": {
   "display_name": "Python 3",
   "language": "python",
   "name": "python3"
  },
  "language_info": {
   "codemirror_mode": {
    "name": "ipython",
    "version": 3
   },
   "file_extension": ".py",
   "mimetype": "text/x-python",
   "name": "python",
   "nbconvert_exporter": "python",
   "pygments_lexer": "ipython3",
   "version": "3.10.6"
  },
  "toc": {
   "base_numbering": 1,
   "nav_menu": {},
   "number_sections": true,
   "sideBar": true,
   "skip_h1_title": false,
   "title_cell": "Table of Contents",
   "title_sidebar": "Contents",
   "toc_cell": false,
   "toc_position": {},
   "toc_section_display": true,
   "toc_window_display": false
  },
  "varInspector": {
   "cols": {
    "lenName": 16,
    "lenType": 16,
    "lenVar": 40
   },
   "kernels_config": {
    "python": {
     "delete_cmd_postfix": "",
     "delete_cmd_prefix": "del ",
     "library": "var_list.py",
     "varRefreshCmd": "print(var_dic_list())"
    },
    "r": {
     "delete_cmd_postfix": ") ",
     "delete_cmd_prefix": "rm(",
     "library": "var_list.r",
     "varRefreshCmd": "cat(var_dic_list()) "
    }
   },
   "types_to_exclude": [
    "module",
    "function",
    "builtin_function_or_method",
    "instance",
    "_Feature"
   ],
   "window_display": false
  }
 },
 "nbformat": 4,
 "nbformat_minor": 5
}
