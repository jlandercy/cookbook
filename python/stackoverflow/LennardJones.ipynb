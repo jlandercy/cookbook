{
 "cells": [
  {
   "cell_type": "code",
   "execution_count": 1,
   "id": "e7c0dfce",
   "metadata": {
    "ExecuteTime": {
     "end_time": "2024-03-15T07:22:26.252484Z",
     "start_time": "2024-03-15T07:22:24.327198Z"
    }
   },
   "outputs": [],
   "source": [
    "import io\n",
    "import numpy as np\n",
    "import pandas as pd\n",
    "import matplotlib.pyplot as plt\n",
    "from scipy import optimize"
   ]
  },
  {
   "cell_type": "markdown",
   "id": "a2538276",
   "metadata": {},
   "source": [
    "https://stackoverflow.com/questions/78163975/how-can-i-fit-data-to-a-lennard-jones-potential-in-gnuplot"
   ]
  },
  {
   "cell_type": "code",
   "execution_count": 2,
   "id": "c1286851",
   "metadata": {
    "ExecuteTime": {
     "end_time": "2024-03-15T07:22:26.268335Z",
     "start_time": "2024-03-15T07:22:26.255919Z"
    }
   },
   "outputs": [],
   "source": [
    "data = pd.read_csv(io.StringIO(\"\"\"1 20.6711\n",
    "1.1 12.8327\n",
    "1.2 6.70081\n",
    "1.3 2.56984\n",
    "1.4 -0.0348628\n",
    "1.5 -1.50733\n",
    "1.6 -2.21619\n",
    "1.7 -2.41084\n",
    "1.8 -2.29524\n",
    "1.9 -2.02128\n",
    "2 -1.76153\n",
    "2.1 -1.47329\n",
    "2.2 -1.21735\n",
    "2.3 -0.986853\n",
    "2.4 -0.786588\n",
    "2.5 -0.602345\n",
    "2.6 -0.442397\n",
    "2.7 -0.314293\n",
    "2.8 -0.208958\n",
    "2.9 -0.121526\n",
    "3 -0.16448\n",
    "4 -0.0488864\n",
    "5 0\n",
    "6 0.0207913\n",
    "7 0.0275973\n",
    "8 0.186272\n",
    "9 0.0402228\n",
    "10 0.0421324\"\"\"), sep=\" \", header=None, names=[\"r\", \"V\"])"
   ]
  },
  {
   "cell_type": "raw",
   "id": "1da37c0a",
   "metadata": {
    "ExecuteTime": {
     "end_time": "2024-03-15T07:01:18.161688Z",
     "start_time": "2024-03-15T07:01:18.157778Z"
    }
   },
   "source": [
    "data = data.iloc[3:-5,:]"
   ]
  },
  {
   "cell_type": "code",
   "execution_count": 8,
   "id": "e4e0d3c4",
   "metadata": {
    "ExecuteTime": {
     "end_time": "2024-03-15T07:22:39.461867Z",
     "start_time": "2024-03-15T07:22:39.457294Z"
    }
   },
   "outputs": [],
   "source": [
    "def model(r, epsilon, sigma):\n",
    "    return 4. * epsilon * (np.power(sigma / r, 12.) - np.power(sigma / r, 6.))"
   ]
  },
  {
   "cell_type": "code",
   "execution_count": 9,
   "id": "f795c7b9",
   "metadata": {
    "ExecuteTime": {
     "end_time": "2024-03-15T07:22:40.641593Z",
     "start_time": "2024-03-15T07:22:40.635403Z"
    }
   },
   "outputs": [
    {
     "data": {
      "text/plain": [
       "1.425437949024543"
      ]
     },
     "execution_count": 9,
     "metadata": {},
     "output_type": "execute_result"
    }
   ],
   "source": [
    "s = 1.6 / np.power(2, 1/6)\n",
    "s"
   ]
  },
  {
   "cell_type": "code",
   "execution_count": 13,
   "id": "c20a2bb6",
   "metadata": {
    "ExecuteTime": {
     "end_time": "2024-03-15T07:23:27.543742Z",
     "start_time": "2024-03-15T07:23:27.540349Z"
    }
   },
   "outputs": [],
   "source": [
    "p = [2.43, 1.39]"
   ]
  },
  {
   "cell_type": "code",
   "execution_count": 14,
   "id": "317635b3",
   "metadata": {
    "ExecuteTime": {
     "end_time": "2024-03-15T07:23:30.544204Z",
     "start_time": "2024-03-15T07:23:27.693371Z"
    }
   },
   "outputs": [
    {
     "data": {
      "text/plain": [
       "(array([2.24241424e-11, 8.92542049e+00]),\n",
       " array([[2.90656947e-24, 8.76293559e-35],\n",
       "        [8.76293559e-35, 2.64191312e-45]]))"
      ]
     },
     "execution_count": 14,
     "metadata": {},
     "output_type": "execute_result"
    }
   ],
   "source": [
    "popt, pcov = optimize.curve_fit(\n",
    "    model, data.r, data.V, p0=p,\n",
    "    max_nfev=3000, bounds=[(0., 0.), (np.inf, np.inf)]\n",
    ")\n",
    "popt, pcov"
   ]
  },
  {
   "cell_type": "code",
   "execution_count": null,
   "id": "56c3254b",
   "metadata": {},
   "outputs": [],
   "source": []
  },
  {
   "cell_type": "code",
   "execution_count": 11,
   "id": "a804c198",
   "metadata": {
    "ExecuteTime": {
     "end_time": "2024-03-15T07:23:07.286533Z",
     "start_time": "2024-03-15T07:23:07.282005Z"
    }
   },
   "outputs": [],
   "source": [
    "rlin = np.linspace(data.r.min(), data.r.max(), 201)\n",
    "yhat = model(rlin, *popt)"
   ]
  },
  {
   "cell_type": "code",
   "execution_count": 15,
   "id": "9dbcf4c8",
   "metadata": {
    "ExecuteTime": {
     "end_time": "2024-03-15T07:23:39.752470Z",
     "start_time": "2024-03-15T07:23:39.747617Z"
    }
   },
   "outputs": [],
   "source": [
    "yg = model(rlin, *p)"
   ]
  },
  {
   "cell_type": "code",
   "execution_count": null,
   "id": "7b454016",
   "metadata": {},
   "outputs": [],
   "source": []
  },
  {
   "cell_type": "code",
   "execution_count": 21,
   "id": "25646f65",
   "metadata": {
    "ExecuteTime": {
     "end_time": "2024-03-15T07:29:20.667291Z",
     "start_time": "2024-03-15T07:29:19.936444Z"
    }
   },
   "outputs": [
    {
     "data": {
      "image/png": "[encoded data removed]",
      "text/plain": [
       "<Figure size 640x480 with 1 Axes>"
      ]
     },
     "metadata": {},
     "output_type": "display_data"
    }
   ],
   "source": [
    "fig, axe = plt.subplots()\n",
    "axe.plot(data.r, data.V)\n",
    "axe.plot(rlin, yhat)\n",
    "axe.plot(rlin, yg)\n",
    "axe.set_ylim([-3, 25])\n",
    "axe.grid()"
   ]
  },
  {
   "cell_type": "code",
   "execution_count": null,
   "id": "a4d27cf6",
   "metadata": {},
   "outputs": [],
   "source": []
  },
  {
   "cell_type": "code",
   "execution_count": null,
   "id": "0a097a62",
   "metadata": {},
   "outputs": [],
   "source": []
  },
  {
   "cell_type": "code",
   "execution_count": null,
   "id": "59d1bcdc",
   "metadata": {},
   "outputs": [],
   "source": []
  }
 ],
 "metadata": {
  "hide_input": false,
  "kernelspec": {
   "display_name": "Python 3",
   "language": "python",
   "name": "python3"
  },
  "language_info": {
   "codemirror_mode": {
    "name": "ipython",
    "version": 3
   },
   "file_extension": ".py",
   "mimetype": "text/x-python",
   "name": "python",
   "nbconvert_exporter": "python",
   "pygments_lexer": "ipython3",
   "version": "3.10.6"
  },
  "toc": {
   "base_numbering": 1,
   "nav_menu": {},
   "number_sections": true,
   "sideBar": true,
   "skip_h1_title": false,
   "title_cell": "Table of Contents",
   "title_sidebar": "Contents",
   "toc_cell": false,
   "toc_position": {},
   "toc_section_display": true,
   "toc_window_display": false
  },
  "varInspector": {
   "cols": {
    "lenName": 16,
    "lenType": 16,
    "lenVar": 40
   },
   "kernels_config": {
    "python": {
     "delete_cmd_postfix": "",
     "delete_cmd_prefix": "del ",
     "library": "var_list.py",
     "varRefreshCmd": "print(var_dic_list())"
    },
    "r": {
     "delete_cmd_postfix": ") ",
     "delete_cmd_prefix": "rm(",
     "library": "var_list.r",
     "varRefreshCmd": "cat(var_dic_list()) "
    }
   },
   "types_to_exclude": [
    "module",
    "function",
    "builtin_function_or_method",
    "instance",
    "_Feature"
   ],
   "window_display": false
  }
 },
 "nbformat": 4,
 "nbformat_minor": 5
}
