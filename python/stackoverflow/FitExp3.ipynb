{
 "cells": [
  {
   "cell_type": "code",
   "execution_count": 2,
   "id": "2314a875",
   "metadata": {
    "ExecuteTime": {
     "end_time": "2024-07-28T15:01:29.616712Z",
     "start_time": "2024-07-28T15:01:28.147042Z"
    }
   },
   "outputs": [],
   "source": [
    "import numpy as np\n",
    "import matplotlib.pyplot as plt\n",
    "from scipy import optimize"
   ]
  },
  {
   "cell_type": "markdown",
   "id": "352a0bf2",
   "metadata": {},
   "source": [
    "https://stackoverflow.com/questions/78802767/unable-to-obtain-correct-data-type-for-curve-fit-ex-unhashable-array-with-seq"
   ]
  },
  {
   "cell_type": "code",
   "execution_count": null,
   "id": "8da853fd",
   "metadata": {},
   "outputs": [],
   "source": []
  },
  {
   "cell_type": "code",
   "execution_count": 4,
   "id": "8245c444",
   "metadata": {
    "ExecuteTime": {
     "end_time": "2024-07-28T15:03:05.483398Z",
     "start_time": "2024-07-28T15:03:05.474212Z"
    }
   },
   "outputs": [],
   "source": [
    "x = ['0.001000', '0.001500', '0.002000', '0.002500', '0.003000', '0.004000', '0.005000', '0.007500', '0.010000', '0.012500', '0.015000', '0.017500', '0.020000', '0.022500', '0.025000', '0.027500', '0.030000', '0.035000', '0.050000', '0.075000', '0.100000', '0.125000', '0.150000', '0.175000', '0.250000', '0.500000', '0.750000', '1.000000', '1.250000', '1.500000', '1.750000', '2.000000', '2.500000', '3.000000', '3.500000', '5.000000']\n",
    "y = ['-157341216.0', '-156514192.0', '-156109792.0', '-155292736.0', '-155541808.0', '-154359088.0', '-153406112.0', '-152017536.0', '-150163360.0', '-148821312.0', '-147121408.0', '-145200544.0', '-143513360.0', '-142319280.0', '-140684704.0', '-139887536.0', '-138132720.0', '-135468448.0', '-127346128.0', '-114155104.0', '-101980152.0', '-90303376.0', '-78995040.0', '-68271560.0', '-38386176.0', '38851676.0', '89095032.0', '121053536.0', '142517744.0', '155447904.0', '163979280.0', '168583824.0', '174455648.0', '176974160.0', '177651056.0', '178662960.0']"
   ]
  },
  {
   "cell_type": "code",
   "execution_count": 7,
   "id": "682fab9f",
   "metadata": {
    "ExecuteTime": {
     "end_time": "2024-07-28T15:03:29.891213Z",
     "start_time": "2024-07-28T15:03:29.883021Z"
    }
   },
   "outputs": [],
   "source": [
    "x = np.array(x, dtype=\"float64\")\n",
    "y = np.array(y, dtype=\"float64\")"
   ]
  },
  {
   "cell_type": "code",
   "execution_count": 16,
   "id": "fae5bd17",
   "metadata": {
    "ExecuteTime": {
     "end_time": "2024-07-28T15:06:01.135248Z",
     "start_time": "2024-07-28T15:06:01.128692Z"
    }
   },
   "outputs": [],
   "source": [
    "def model(x, a, b, c):\n",
    "    return a - c * np.exp(- b * x) "
   ]
  },
  {
   "cell_type": "code",
   "execution_count": 20,
   "id": "a0468b7a",
   "metadata": {
    "ExecuteTime": {
     "end_time": "2024-07-28T15:06:12.800335Z",
     "start_time": "2024-07-28T15:06:12.790622Z"
    }
   },
   "outputs": [
    {
     "data": {
      "text/plain": [
       "(array([1.78891661e+08, 1.75535824e+00, 3.35100511e+08]),\n",
       " array([[ 1.15003627e+11, -1.55092365e+03,  1.04426615e+11],\n",
       "        [-1.55092365e+03,  4.71871162e-05, -1.02346030e+03],\n",
       "        [ 1.04426615e+11, -1.02346030e+03,  1.27053653e+11]]))"
      ]
     },
     "execution_count": 20,
     "metadata": {},
     "output_type": "execute_result"
    }
   ],
   "source": [
    "popt, pcov = optimize.curve_fit(model, x, y)\n",
    "popt, pcov"
   ]
  },
  {
   "cell_type": "code",
   "execution_count": 22,
   "id": "e411057d",
   "metadata": {
    "ExecuteTime": {
     "end_time": "2024-07-28T15:06:45.187278Z",
     "start_time": "2024-07-28T15:06:45.182387Z"
    }
   },
   "outputs": [],
   "source": [
    "xlin = np.linspace(x.min(), x.max(), 200)\n",
    "ylin = model(xlin, *popt)"
   ]
  },
  {
   "cell_type": "code",
   "execution_count": null,
   "id": "7228984f",
   "metadata": {},
   "outputs": [],
   "source": []
  },
  {
   "cell_type": "code",
   "execution_count": 24,
   "id": "d56d63e7",
   "metadata": {
    "ExecuteTime": {
     "end_time": "2024-07-28T15:09:17.742518Z",
     "start_time": "2024-07-28T15:09:17.478460Z"
    }
   },
   "outputs": [
    {
     "data": {
      "image/png": "[encoded data removed]",
      "text/plain": [
       "<Figure size 640x480 with 1 Axes>"
      ]
     },
     "metadata": {},
     "output_type": "display_data"
    }
   ],
   "source": [
    "fig, axe = plt.subplots()\n",
    "axe.scatter(x, y)\n",
    "axe.plot(xlin, ylin)\n",
    "axe.grid()"
   ]
  },
  {
   "cell_type": "code",
   "execution_count": null,
   "id": "41512607",
   "metadata": {},
   "outputs": [],
   "source": []
  }
 ],
 "metadata": {
  "hide_input": false,
  "kernelspec": {
   "display_name": "Python 3",
   "language": "python",
   "name": "python3"
  },
  "language_info": {
   "codemirror_mode": {
    "name": "ipython",
    "version": 3
   },
   "file_extension": ".py",
   "mimetype": "text/x-python",
   "name": "python",
   "nbconvert_exporter": "python",
   "pygments_lexer": "ipython3",
   "version": "3.10.6"
  },
  "toc": {
   "base_numbering": 1,
   "nav_menu": {},
   "number_sections": true,
   "sideBar": true,
   "skip_h1_title": false,
   "title_cell": "Table of Contents",
   "title_sidebar": "Contents",
   "toc_cell": false,
   "toc_position": {},
   "toc_section_display": true,
   "toc_window_display": false
  },
  "varInspector": {
   "cols": {
    "lenName": 16,
    "lenType": 16,
    "lenVar": 40
   },
   "kernels_config": {
    "python": {
     "delete_cmd_postfix": "",
     "delete_cmd_prefix": "del ",
     "library": "var_list.py",
     "varRefreshCmd": "print(var_dic_list())"
    },
    "r": {
     "delete_cmd_postfix": ") ",
     "delete_cmd_prefix": "rm(",
     "library": "var_list.r",
     "varRefreshCmd": "cat(var_dic_list()) "
    }
   },
   "types_to_exclude": [
    "module",
    "function",
    "builtin_function_or_method",
    "instance",
    "_Feature"
   ],
   "window_display": false
  }
 },
 "nbformat": 4,
 "nbformat_minor": 5
}
