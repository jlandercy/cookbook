{
 "cells": [
  {
   "cell_type": "code",
   "execution_count": 15,
   "id": "4f80318f",
   "metadata": {
    "ExecuteTime": {
     "end_time": "2024-06-14T06:30:56.314692Z",
     "start_time": "2024-06-14T06:30:56.306238Z"
    }
   },
   "outputs": [],
   "source": [
    "import numpy as np\n",
    "import matplotlib.pyplot as plt\n",
    "from scipy import optimize, stats"
   ]
  },
  {
   "cell_type": "code",
   "execution_count": 2,
   "id": "df74d618",
   "metadata": {
    "ExecuteTime": {
     "end_time": "2024-06-14T06:17:43.219471Z",
     "start_time": "2024-06-14T06:17:43.207976Z"
    }
   },
   "outputs": [],
   "source": [
    "# Data arrays\n",
    "y_data = np.array([\n",
    "    1.500e-04, 1.500e-04, 1.500e-04, 1.500e-04, 1.700e-04, 1.600e-04, 1.800e-04,\n",
    "    1.600e-04, 1.700e-04, 2.300e-04, 2.500e-04, 3.200e-04, 3.200e-04, 3.800e-04,\n",
    "    4.000e-04, 5.000e-04, 5.600e-04, 5.600e-04, 6.500e-04, 7.500e-04, 9.100e-04,\n",
    "    1.180e-03, 1.550e-03, 2.110e-03, 2.880e-03, 3.850e-03, 5.200e-03, 6.780e-03,\n",
    "    8.950e-03, 1.123e-02, 1.403e-02, 1.723e-02, 2.031e-02, 2.330e-02, 2.495e-02,\n",
    "    2.433e-02, 2.171e-02, 1.725e-02, 1.231e-02, 8.080e-03, 4.980e-03, 2.960e-03,\n",
    "    1.970e-03, 1.830e-03, 2.220e-03, 2.880e-03, 3.700e-03, 4.650e-03, 5.820e-03,\n",
    "    7.150e-03, 8.450e-03, 9.510e-03, 1.006e-02, 9.660e-03, 8.560e-03, 6.910e-03,\n",
    "    5.100e-03, 3.380e-03, 2.170e-03, 1.230e-03, 7.000e-04, 3.600e-04, 2.200e-04,\n",
    "    1.700e-04, 1.500e-04, 1.600e-04, 1.100e-04, 1.100e-04, 1.200e-04, 1.000e-04,\n",
    "    1.200e-04, 1.100e-04, 1.300e-04, 1.500e-04, 1.200e-04, 1.600e-04, 1.200e-04,\n",
    "    1.200e-04, 1.200e-04, 1.200e-04, 1.100e-04, 1.500e-04, 1.500e-04, 1.300e-04,\n",
    "    1.100e-04, 8.000e-05, 1.200e-04, 1.200e-04, 1.100e-04, 1.100e-04, 1.500e-04])\n",
    "\n",
    "x_data = np.array([\n",
    "    6555.101, 6555.201, 6555.301, 6555.401, 6555.501, 6555.601, 6555.701, 6555.801,\n",
    "    6555.901, 6556.001, 6556.101, 6556.201, 6556.301, 6556.401, 6556.501, 6556.601,\n",
    "    6556.701, 6556.801, 6556.901, 6557.001, 6557.101, 6557.201, 6557.301, 6557.401,\n",
    "    6557.501, 6557.601, 6557.701, 6557.801, 6557.901, 6558.001, 6558.101, 6558.201,\n",
    "    6558.301, 6558.401, 6558.501, 6558.601, 6558.701, 6558.801, 6558.901, 6559.001,\n",
    "    6559.101, 6559.201, 6559.301, 6559.401, 6559.501, 6559.601, 6559.701, 6559.801,\n",
    "    6559.901, 6560.001, 6560.101, 6560.201, 6560.301, 6560.401, 6560.501, 6560.601,\n",
    "    6560.701, 6560.801, 6560.901, 6561.001, 6561.101, 6561.201, 6561.301, 6561.401,\n",
    "    6561.501, 6561.601, 6561.701, 6561.801, 6561.901, 6562.001, 6562.101, 6562.201,\n",
    "    6562.301, 6562.401, 6562.501, 6562.601, 6562.701, 6562.801, 6562.901, 6563.001,\n",
    "    6563.101, 6563.201, 6563.301, 6563.401, 6563.501, 6563.601, 6563.701, 6563.801,\n",
    "    6563.901, 6564.001, 6564.001])"
   ]
  },
  {
   "cell_type": "code",
   "execution_count": null,
   "id": "2eabe12f",
   "metadata": {},
   "outputs": [],
   "source": []
  },
  {
   "cell_type": "code",
   "execution_count": 5,
   "id": "a76d5708",
   "metadata": {
    "ExecuteTime": {
     "end_time": "2024-06-14T06:21:45.397759Z",
     "start_time": "2024-06-14T06:21:45.387199Z"
    }
   },
   "outputs": [],
   "source": [
    "def peak(x, A, mu, sigma):\n",
    "    law = stats.norm(loc=mu, scale=sigma)\n",
    "    return A * law.pdf(x) / law.pdf(mu)"
   ]
  },
  {
   "cell_type": "code",
   "execution_count": 8,
   "id": "b2def958",
   "metadata": {
    "ExecuteTime": {
     "end_time": "2024-06-14T06:23:43.516971Z",
     "start_time": "2024-06-14T06:23:43.510396Z"
    }
   },
   "outputs": [],
   "source": [
    "def model(x, A0, mu0, sigma0, A1, mu1, sigma1):\n",
    "    return peak(x, A0, mu0, sigma0) + peak(x, A1, mu1, sigma1)"
   ]
  },
  {
   "cell_type": "code",
   "execution_count": 11,
   "id": "aa87ef35",
   "metadata": {
    "ExecuteTime": {
     "end_time": "2024-06-14T06:25:09.758749Z",
     "start_time": "2024-06-14T06:25:08.223408Z"
    }
   },
   "outputs": [],
   "source": [
    "popt, pcov = optimize.curve_fit(model, x_data, y_data, p0=[0.025, 6559, 1, 0.01, 6561, 1])"
   ]
  },
  {
   "cell_type": "code",
   "execution_count": 12,
   "id": "9aca82f1",
   "metadata": {
    "ExecuteTime": {
     "end_time": "2024-06-14T06:25:50.020756Z",
     "start_time": "2024-06-14T06:25:49.702895Z"
    }
   },
   "outputs": [],
   "source": [
    "xlin = np.linspace(x_data.min(), x_data.max(), 200)\n",
    "ylin = model(xlin, *popt)"
   ]
  },
  {
   "cell_type": "code",
   "execution_count": null,
   "id": "0050ce3b",
   "metadata": {},
   "outputs": [],
   "source": []
  },
  {
   "cell_type": "code",
   "execution_count": null,
   "id": "adbef266",
   "metadata": {},
   "outputs": [],
   "source": []
  },
  {
   "cell_type": "code",
   "execution_count": 17,
   "id": "63af493a",
   "metadata": {
    "ExecuteTime": {
     "end_time": "2024-06-14T06:32:39.880159Z",
     "start_time": "2024-06-14T06:32:39.872112Z"
    }
   },
   "outputs": [],
   "source": [
    "def pseudo_voigt(x, eta, sigma, gamma, x0, A):\n",
    "    G = stats.norm.pdf(x, scale=sigma, loc=x0)\n",
    "    L = stats.cauchy.pdf(x, scale=2. * gamma, loc=x0)\n",
    "    return A * ((1. - eta) * G + eta * L)"
   ]
  },
  {
   "cell_type": "code",
   "execution_count": 18,
   "id": "92bb3825",
   "metadata": {
    "ExecuteTime": {
     "end_time": "2024-06-14T06:34:12.434901Z",
     "start_time": "2024-06-14T06:34:12.416419Z"
    }
   },
   "outputs": [],
   "source": [
    "def model2(x, eta0, sigma0, gamma0, x00, A0, eta1, sigma1, gamma1, x01, A1):\n",
    "    return pseudo_voigt(x, eta0, sigma0, gamma0, x00, A0) + pseudo_voigt(x, eta1, sigma1, gamma1, x01, A1)"
   ]
  },
  {
   "cell_type": "code",
   "execution_count": 26,
   "id": "bc7fffc7",
   "metadata": {
    "ExecuteTime": {
     "end_time": "2024-06-14T06:41:10.335897Z",
     "start_time": "2024-06-14T06:41:10.004417Z"
    }
   },
   "outputs": [
    {
     "data": {
      "text/plain": [
       "(array([5.04788238e-01, 3.39173299e-01, 2.55686905e-01, 6.55847681e+03,\n",
       "        2.75922544e-02, 3.34888395e-19, 3.35457589e-01, 4.01394103e+00,\n",
       "        6.56029885e+03, 7.93603468e-03]),\n",
       " array([[ 8.86571451e-03,  8.35897628e-04, -5.77440596e-03,\n",
       "          2.12430868e-06, -1.00305337e-06, -1.98655078e-03,\n",
       "         -7.05031879e-05, -1.83679287e-20,  9.71166064e-05,\n",
       "         -1.51505527e-05],\n",
       "        [ 8.35897628e-04,  5.09820348e-04, -1.66751155e-03,\n",
       "         -4.47397787e-06, -2.09621370e-05,  4.74020589e-03,\n",
       "          6.45069395e-05, -2.49144370e-21, -6.49042040e-05,\n",
       "          4.01860759e-05],\n",
       "        [-5.77440596e-03, -1.66751155e-03,  7.05374077e-03,\n",
       "          1.24787675e-05,  6.59252914e-05, -1.49874615e-02,\n",
       "         -1.53573305e-04,  1.43064336e-20,  1.63145136e-04,\n",
       "         -1.26056745e-04],\n",
       "        [ 2.12430868e-06, -4.47397787e-06,  1.24787675e-05,\n",
       "          2.44361381e-05,  2.73513975e-07, -5.63908866e-05,\n",
       "         -3.68649042e-06,  2.30311507e-23,  2.39647899e-06,\n",
       "         -5.37924227e-07],\n",
       "        [-1.00305337e-06, -2.09621370e-05,  6.59252914e-05,\n",
       "          2.73513975e-07,  1.41651860e-06, -3.79414447e-04,\n",
       "         -3.41185512e-06,  4.59165434e-23,  4.65191477e-06,\n",
       "         -3.12062449e-06],\n",
       "        [-1.98655078e-03,  4.74020589e-03, -1.49874615e-02,\n",
       "         -5.63908866e-05, -3.79414447e-04,  1.64243602e-01,\n",
       "         -1.41004627e-04,  1.15439506e-21, -1.22097477e-03,\n",
       "          1.29370036e-03],\n",
       "        [-7.05031879e-05,  6.45069395e-05, -1.53573305e-04,\n",
       "         -3.68649042e-06, -3.41185512e-06, -1.41004627e-04,\n",
       "          1.67249121e-04, -7.91292943e-21, -1.40172804e-05,\n",
       "          1.52474544e-06],\n",
       "        [-1.83679287e-20, -2.49144370e-21,  1.43064336e-20,\n",
       "          2.30311507e-23,  4.59165434e-23,  1.15439506e-21,\n",
       "         -7.91292943e-21,  1.73778364e-36, -1.31953188e-20,\n",
       "         -9.37548668e-23],\n",
       "        [ 9.71166064e-05, -6.49042040e-05,  1.63145136e-04,\n",
       "          2.39647899e-06,  4.65191477e-06, -1.22097477e-03,\n",
       "         -1.40172804e-05, -1.31953188e-20,  1.54693281e-04,\n",
       "         -1.01163702e-05],\n",
       "        [-1.51505527e-05,  4.01860759e-05, -1.26056745e-04,\n",
       "         -5.37924227e-07, -3.12062449e-06,  1.29370036e-03,\n",
       "          1.52474544e-06, -9.37548668e-23, -1.01163702e-05,\n",
       "          1.02836158e-05]]))"
      ]
     },
     "execution_count": 26,
     "metadata": {},
     "output_type": "execute_result"
    }
   ],
   "source": [
    "popt2, pcov2 = optimize.curve_fit(\n",
    "    model2,\n",
    "    x_data, y_data,\n",
    "    p0=[0.5, 1., 1., 6559, 0.025, 0.5, 1., 1., 6561, 0.01],\n",
    "    bounds=[\n",
    "         (0, 0, 0, 0, 0, 0, 0, 0, 0, 0),\n",
    "         (1, np.inf, np.inf, np.inf, np.inf, 1, np.inf, np.inf, np.inf, np.inf)\n",
    "    ]\n",
    ")\n",
    "popt2, pcov2"
   ]
  },
  {
   "cell_type": "code",
   "execution_count": 27,
   "id": "9d5af527",
   "metadata": {
    "ExecuteTime": {
     "end_time": "2024-06-14T06:41:13.408088Z",
     "start_time": "2024-06-14T06:41:13.401578Z"
    }
   },
   "outputs": [],
   "source": [
    "ylin2 = model2(xlin, *popt2)"
   ]
  },
  {
   "cell_type": "code",
   "execution_count": 29,
   "id": "02ca5b3b",
   "metadata": {
    "ExecuteTime": {
     "end_time": "2024-06-14T06:47:54.036269Z",
     "start_time": "2024-06-14T06:47:53.184282Z"
    }
   },
   "outputs": [
    {
     "data": {
      "image/png": "[encoded data removed]",
      "text/plain": [
       "<Figure size 640x480 with 1 Axes>"
      ]
     },
     "metadata": {},
     "output_type": "display_data"
    }
   ],
   "source": [
    "fig, axe = plt.subplots()\n",
    "axe.scatter(x_data, y_data, label=\"data\")\n",
    "axe.plot(xlin, ylin, label=\"Gaussian\")\n",
    "axe.plot(xlin, ylin2, label=\"Peudo-Voigt\")\n",
    "axe.legend()\n",
    "axe.grid()"
   ]
  },
  {
   "cell_type": "code",
   "execution_count": null,
   "id": "f9924de2",
   "metadata": {},
   "outputs": [],
   "source": []
  }
 ],
 "metadata": {
  "hide_input": false,
  "kernelspec": {
   "display_name": "Python 3",
   "language": "python",
   "name": "python3"
  },
  "language_info": {
   "codemirror_mode": {
    "name": "ipython",
    "version": 3
   },
   "file_extension": ".py",
   "mimetype": "text/x-python",
   "name": "python",
   "nbconvert_exporter": "python",
   "pygments_lexer": "ipython3",
   "version": "3.10.6"
  },
  "toc": {
   "base_numbering": 1,
   "nav_menu": {},
   "number_sections": true,
   "sideBar": true,
   "skip_h1_title": false,
   "title_cell": "Table of Contents",
   "title_sidebar": "Contents",
   "toc_cell": false,
   "toc_position": {},
   "toc_section_display": true,
   "toc_window_display": false
  },
  "varInspector": {
   "cols": {
    "lenName": 16,
    "lenType": 16,
    "lenVar": 40
   },
   "kernels_config": {
    "python": {
     "delete_cmd_postfix": "",
     "delete_cmd_prefix": "del ",
     "library": "var_list.py",
     "varRefreshCmd": "print(var_dic_list())"
    },
    "r": {
     "delete_cmd_postfix": ") ",
     "delete_cmd_prefix": "rm(",
     "library": "var_list.r",
     "varRefreshCmd": "cat(var_dic_list()) "
    }
   },
   "types_to_exclude": [
    "module",
    "function",
    "builtin_function_or_method",
    "instance",
    "_Feature"
   ],
   "window_display": false
  }
 },
 "nbformat": 4,
 "nbformat_minor": 5
}
