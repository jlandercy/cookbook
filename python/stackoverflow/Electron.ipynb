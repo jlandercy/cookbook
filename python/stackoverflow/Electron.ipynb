{
 "cells": [
  {
   "cell_type": "code",
   "execution_count": 19,
   "id": "6208192f",
   "metadata": {
    "ExecuteTime": {
     "end_time": "2024-01-10T09:57:07.917494Z",
     "start_time": "2024-01-10T09:57:07.766941Z"
    }
   },
   "outputs": [],
   "source": [
    "from scipy.constants import c, m_e, eV, e\n",
    "from scipy import integrate\n",
    "import numpy as np\n",
    "import matplotlib.pyplot as plt"
   ]
  },
  {
   "cell_type": "markdown",
   "id": "673feafd",
   "metadata": {},
   "source": [
    "https://stackoverflow.com/questions/77789533/using-solve-ivp-to-find-the-ground-state-energy-of-an-electron\n",
    "\n",
    "$$\\psi '' = - 2 \\cdot m_e \\cdot (E - V(x)) \\cdot \\psi$$"
   ]
  },
  {
   "cell_type": "code",
   "execution_count": null,
   "id": "98088057",
   "metadata": {},
   "outputs": [],
   "source": []
  },
  {
   "cell_type": "code",
   "execution_count": null,
   "id": "f6df75f1",
   "metadata": {},
   "outputs": [],
   "source": []
  },
  {
   "cell_type": "code",
   "execution_count": null,
   "id": "ae78f2e5",
   "metadata": {},
   "outputs": [],
   "source": []
  },
  {
   "cell_type": "code",
   "execution_count": 20,
   "id": "76ee1fff",
   "metadata": {
    "ExecuteTime": {
     "end_time": "2024-01-10T09:57:17.419404Z",
     "start_time": "2024-01-10T09:57:17.161584Z"
    }
   },
   "outputs": [],
   "source": [
    "me_ev = m_e * c**2 / e        # mass m_e in [eV]\n",
    "l_bohr = 5.2918e-11           # Bohr radius [m]\n",
    "convert_length = 5067730.179  # convert [m] to [1/eV] in natural units\n",
    "l_ev = l_bohr * convert_length\n",
    "V0 = 50\n",
    "a = 10e-11 * convert_length\n",
    "\n",
    "def V(x):\n",
    "    return V0 * ((x / a) ** 2)\n",
    "\n",
    "def eqn2(x, y, energy):\n",
    "    psi, v = y\n",
    "    dpsidx = v\n",
    "    dvdx = -2 * me_ev * psi * (energy - V(x))\n",
    "    return dpsidx, dvdx\n",
    "\n",
    "def solve2(energy):\n",
    "    y0 = [0, 1]\n",
    "    sol = integrate.solve_ivp(\n",
    "        eqn2,\n",
    "        [-10 * a, 10 * a],\n",
    "        y0,\n",
    "        t_eval=np.linspace(-10 * a, 10 * a, 1000),\n",
    "        args=(energy,),\n",
    "        dense_output=True,\n",
    "    )\n",
    "    psi_L = sol.sol(10 * a)[0]\n",
    "    return sol\n",
    "\n",
    "s = solve2(138.0214281)"
   ]
  },
  {
   "cell_type": "code",
   "execution_count": null,
   "id": "5cc79776",
   "metadata": {},
   "outputs": [],
   "source": []
  },
  {
   "cell_type": "code",
   "execution_count": 27,
   "id": "aadc76a7",
   "metadata": {
    "ExecuteTime": {
     "end_time": "2024-01-10T10:01:08.332542Z",
     "start_time": "2024-01-10T10:01:08.324208Z"
    }
   },
   "outputs": [],
   "source": [
    "def V(x):\n",
    "    return V0 * np.power((x / a), 2)\n",
    "\n",
    "def system(x, y, energy):\n",
    "    return np.array([\n",
    "        y[1],\n",
    "        -2 * me_ev * y[0] * (energy - V(x))\n",
    "    ])"
   ]
  },
  {
   "cell_type": "code",
   "execution_count": null,
   "id": "3e063dd6",
   "metadata": {},
   "outputs": [],
   "source": []
  },
  {
   "cell_type": "code",
   "execution_count": 51,
   "id": "7b750e95",
   "metadata": {
    "ExecuteTime": {
     "end_time": "2024-01-10T10:05:12.430084Z",
     "start_time": "2024-01-10T10:05:07.004357Z"
    }
   },
   "outputs": [],
   "source": [
    "x = np.linspace(-10 * a, 10 * a, 2000)\n",
    "sol = integrate.solve_ivp(\n",
    "    system,\n",
    "    [x.min(), x.max()],\n",
    "    [0, 1],\n",
    "    t_eval=x,\n",
    "    args=(1000000.0214281,),\n",
    "    dense_output=True,\n",
    ")"
   ]
  },
  {
   "cell_type": "code",
   "execution_count": 52,
   "id": "5e8a76bb",
   "metadata": {
    "ExecuteTime": {
     "end_time": "2024-01-10T10:05:12.889073Z",
     "start_time": "2024-01-10T10:05:12.488255Z"
    }
   },
   "outputs": [
    {
     "data": {
      "text/plain": [
       "[<matplotlib.lines.Line2D at 0x7fe3afd4c8e0>]"
      ]
     },
     "execution_count": 52,
     "metadata": {},
     "output_type": "execute_result"
    },
    {
     "data": {
      "image/png": "[encoded data removed]",
      "text/plain": [
       "<Figure size 640x480 with 1 Axes>"
      ]
     },
     "metadata": {},
     "output_type": "display_data"
    }
   ],
   "source": [
    "fig, axe = plt.subplots()\n",
    "axe.plot(sol.t, sol.y[0,:])"
   ]
  },
  {
   "cell_type": "code",
   "execution_count": null,
   "id": "efd3d905",
   "metadata": {},
   "outputs": [],
   "source": []
  },
  {
   "cell_type": "code",
   "execution_count": null,
   "id": "65ea2dcb",
   "metadata": {},
   "outputs": [],
   "source": []
  },
  {
   "cell_type": "code",
   "execution_count": null,
   "id": "4a61dcc1",
   "metadata": {},
   "outputs": [],
   "source": []
  },
  {
   "cell_type": "code",
   "execution_count": null,
   "id": "fc3e013b",
   "metadata": {},
   "outputs": [],
   "source": []
  }
 ],
 "metadata": {
  "hide_input": false,
  "kernelspec": {
   "display_name": "Python 3",
   "language": "python",
   "name": "python3"
  },
  "language_info": {
   "codemirror_mode": {
    "name": "ipython",
    "version": 3
   },
   "file_extension": ".py",
   "mimetype": "text/x-python",
   "name": "python",
   "nbconvert_exporter": "python",
   "pygments_lexer": "ipython3",
   "version": "3.10.6"
  },
  "toc": {
   "base_numbering": 1,
   "nav_menu": {},
   "number_sections": true,
   "sideBar": true,
   "skip_h1_title": false,
   "title_cell": "Table of Contents",
   "title_sidebar": "Contents",
   "toc_cell": false,
   "toc_position": {},
   "toc_section_display": true,
   "toc_window_display": false
  },
  "varInspector": {
   "cols": {
    "lenName": 16,
    "lenType": 16,
    "lenVar": 40
   },
   "kernels_config": {
    "python": {
     "delete_cmd_postfix": "",
     "delete_cmd_prefix": "del ",
     "library": "var_list.py",
     "varRefreshCmd": "print(var_dic_list())"
    },
    "r": {
     "delete_cmd_postfix": ") ",
     "delete_cmd_prefix": "rm(",
     "library": "var_list.r",
     "varRefreshCmd": "cat(var_dic_list()) "
    }
   },
   "types_to_exclude": [
    "module",
    "function",
    "builtin_function_or_method",
    "instance",
    "_Feature"
   ],
   "window_display": false
  }
 },
 "nbformat": 4,
 "nbformat_minor": 5
}
