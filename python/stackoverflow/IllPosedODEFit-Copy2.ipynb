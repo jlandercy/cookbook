{
 "cells": [
  {
   "cell_type": "code",
   "execution_count": 1,
   "id": "df31f95a",
   "metadata": {
    "ExecuteTime": {
     "end_time": "2024-07-08T11:13:27.715090Z",
     "start_time": "2024-07-08T11:13:26.110855Z"
    }
   },
   "outputs": [],
   "source": [
    "import numpy as np\n",
    "import matplotlib.pyplot as plt\n",
    "from scipy import integrate, optimize"
   ]
  },
  {
   "cell_type": "markdown",
   "id": "8ef52482",
   "metadata": {},
   "source": [
    "https://stackoverflow.com/questions/78694374/fitting-ode-to-elements-in-graph"
   ]
  },
  {
   "cell_type": "code",
   "execution_count": 2,
   "id": "2cf0535e",
   "metadata": {
    "ExecuteTime": {
     "end_time": "2024-07-08T11:13:27.738372Z",
     "start_time": "2024-07-08T11:13:27.729583Z"
    }
   },
   "outputs": [],
   "source": [
    "def dose(t, y, b, s, c, p, d):\n",
    "    target, infectious, virus = y\n",
    "    return np.array([\n",
    "        -b * target * virus,\n",
    "        b * target * virus - s * infectious,\n",
    "        (1. / (d + 1.)) * p * infectious - c * virus\n",
    "    ])"
   ]
  },
  {
   "cell_type": "code",
   "execution_count": null,
   "id": "b6b9a002",
   "metadata": {
    "ExecuteTime": {
     "end_time": "2024-07-05T12:22:46.558468Z",
     "start_time": "2024-07-05T12:22:46.538928Z"
    }
   },
   "outputs": [],
   "source": []
  },
  {
   "cell_type": "code",
   "execution_count": 3,
   "id": "bc357449",
   "metadata": {
    "ExecuteTime": {
     "end_time": "2024-07-08T11:13:27.758574Z",
     "start_time": "2024-07-08T11:13:27.744710Z"
    }
   },
   "outputs": [],
   "source": [
    "def model(D, b, s, c, p):\n",
    "    solutions = []\n",
    "    for d in D:\n",
    "        solution = integrate.solve_ivp(\n",
    "            dose, [0, 5], y0=[1, 0, 0.01],\n",
    "            t_eval=[2.8828828828828827],  # np.linspace(0, 60, 1000)[48]\n",
    "            args=(b, s, c, p, d)\n",
    "        )\n",
    "        data = solution.y[2, 0] / 0.01950269536785707\n",
    "        solutions.append(data)\n",
    "    return np.array(solutions)"
   ]
  },
  {
   "cell_type": "code",
   "execution_count": 4,
   "id": "9e497860",
   "metadata": {
    "ExecuteTime": {
     "end_time": "2024-07-08T11:13:27.846351Z",
     "start_time": "2024-07-08T11:13:27.765814Z"
    }
   },
   "outputs": [],
   "source": [
    "b = 0.00001\n",
    "s = 4\n",
    "c = 4\n",
    "p = 2000000\n",
    "p0 = (b, s, c, p)\n",
    "\n",
    "np.random.seed(12345)\n",
    "D = np.logspace(-3, 3, 20)\n",
    "z = model(D, b, s, c, p)\n",
    "s = np.ones_like(z) * 0.05\n",
    "n = s * np.random.normal(size=s.size) * z\n",
    "zn = z + n"
   ]
  },
  {
   "cell_type": "code",
   "execution_count": null,
   "id": "89f9382c",
   "metadata": {},
   "outputs": [],
   "source": []
  },
  {
   "cell_type": "code",
   "execution_count": 5,
   "id": "7bc57eef",
   "metadata": {
    "ExecuteTime": {
     "end_time": "2024-07-08T11:13:34.639831Z",
     "start_time": "2024-07-08T11:13:27.850429Z"
    }
   },
   "outputs": [],
   "source": [
    "popt, pcov = optimize.curve_fit(\n",
    "    model, D, z, p0=[1e-5, 1, 1, 1e6],\n",
    "    method=\"trf\", bounds=(0, np.inf),\n",
    "    sigma=s, absolute_sigma=True\n",
    ")"
   ]
  },
  {
   "cell_type": "code",
   "execution_count": 6,
   "id": "b16e8b39",
   "metadata": {
    "ExecuteTime": {
     "end_time": "2024-07-08T11:13:34.666576Z",
     "start_time": "2024-07-08T11:13:34.646015Z"
    }
   },
   "outputs": [
    {
     "data": {
      "text/plain": [
       "(array([1.98458777e-05, 3.39383754e+00, 4.55115392e+00, 1.00007348e+06]),\n",
       " array([[ 8.35308599e-10, -3.25230641e-03,  3.73469971e-03,\n",
       "         -5.22169803e-11],\n",
       "        [-3.25230641e-03,  1.28672442e+04, -1.47634805e+04,\n",
       "          2.06436797e-04],\n",
       "        [ 3.73469971e-03, -1.47634805e+04,  1.69398903e+04,\n",
       "         -2.36868204e-04],\n",
       "        [-5.22169803e-11,  2.06436797e-04, -2.36868204e-04,\n",
       "          3.31209815e-12]]))"
      ]
     },
     "execution_count": 6,
     "metadata": {},
     "output_type": "execute_result"
    }
   ],
   "source": [
    "popt, pcov"
   ]
  },
  {
   "cell_type": "code",
   "execution_count": null,
   "id": "96933396",
   "metadata": {
    "ExecuteTime": {
     "end_time": "2024-07-05T12:39:51.780450Z",
     "start_time": "2024-07-05T12:39:51.775390Z"
    }
   },
   "outputs": [],
   "source": []
  },
  {
   "cell_type": "code",
   "execution_count": 13,
   "id": "04eddbc4",
   "metadata": {
    "ExecuteTime": {
     "end_time": "2024-07-08T11:15:02.517515Z",
     "start_time": "2024-07-08T11:14:59.000277Z"
    }
   },
   "outputs": [
    {
     "data": {
      "image/png": "[encoded data removed]",
      "text/plain": [
       "<Figure size 640x480 with 1 Axes>"
      ]
     },
     "metadata": {},
     "output_type": "display_data"
    }
   ],
   "source": [
    "Dlog = np.logspace(-3, 3, 200)\n",
    "fig, axe = plt.subplots()\n",
    "axe.scatter(D, zn, label=\"Data\")\n",
    "axe.semilogx(Dlog, model(Dlog, *popt), label=\"Fit\")\n",
    "axe.semilogx(Dlog, model(Dlog, *p0), \"--\", label=\"Model\")\n",
    "axe.semilogx(Dlog, model(Dlog, *[p0[0], 6, 5, p0[-1]]), \"--\", label=\"Model\")\n",
    "axe.legend()\n",
    "axe.grid()"
   ]
  },
  {
   "cell_type": "code",
   "execution_count": null,
   "id": "0440d39f",
   "metadata": {},
   "outputs": [],
   "source": []
  },
  {
   "cell_type": "code",
   "execution_count": null,
   "id": "5ed43b38",
   "metadata": {},
   "outputs": [],
   "source": []
  },
  {
   "cell_type": "code",
   "execution_count": null,
   "id": "707d0630",
   "metadata": {},
   "outputs": [],
   "source": []
  },
  {
   "cell_type": "code",
   "execution_count": null,
   "id": "4db871f8",
   "metadata": {},
   "outputs": [],
   "source": []
  }
 ],
 "metadata": {
  "hide_input": false,
  "kernelspec": {
   "display_name": "Python 3",
   "language": "python",
   "name": "python3"
  },
  "language_info": {
   "codemirror_mode": {
    "name": "ipython",
    "version": 3
   },
   "file_extension": ".py",
   "mimetype": "text/x-python",
   "name": "python",
   "nbconvert_exporter": "python",
   "pygments_lexer": "ipython3",
   "version": "3.10.6"
  },
  "toc": {
   "base_numbering": 1,
   "nav_menu": {},
   "number_sections": true,
   "sideBar": true,
   "skip_h1_title": false,
   "title_cell": "Table of Contents",
   "title_sidebar": "Contents",
   "toc_cell": false,
   "toc_position": {},
   "toc_section_display": true,
   "toc_window_display": false
  },
  "varInspector": {
   "cols": {
    "lenName": 16,
    "lenType": 16,
    "lenVar": 40
   },
   "kernels_config": {
    "python": {
     "delete_cmd_postfix": "",
     "delete_cmd_prefix": "del ",
     "library": "var_list.py",
     "varRefreshCmd": "print(var_dic_list())"
    },
    "r": {
     "delete_cmd_postfix": ") ",
     "delete_cmd_prefix": "rm(",
     "library": "var_list.r",
     "varRefreshCmd": "cat(var_dic_list()) "
    }
   },
   "types_to_exclude": [
    "module",
    "function",
    "builtin_function_or_method",
    "instance",
    "_Feature"
   ],
   "window_display": false
  }
 },
 "nbformat": 4,
 "nbformat_minor": 5
}
