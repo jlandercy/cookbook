{
 "cells": [
  {
   "cell_type": "code",
   "execution_count": 1,
   "metadata": {
    "ExecuteTime": {
     "end_time": "2020-09-01T09:37:36.986729Z",
     "start_time": "2020-09-01T09:37:36.745253Z"
    }
   },
   "outputs": [],
   "source": [
    "import numpy as np\n",
    "from scipy.interpolate import interp1d"
   ]
  },
  {
   "cell_type": "code",
   "execution_count": 5,
   "metadata": {
    "ExecuteTime": {
     "end_time": "2020-09-01T09:42:25.408118Z",
     "start_time": "2020-09-01T09:42:25.397538Z"
    }
   },
   "outputs": [],
   "source": [
    "p = np.array([0, 1])\n",
    "\n",
    "T = np.array([[[1, 4],[3, 2]],\n",
    "              [[1, 6],[4, 4]]])"
   ]
  },
  {
   "cell_type": "code",
   "execution_count": 6,
   "metadata": {
    "ExecuteTime": {
     "end_time": "2020-09-01T09:42:31.205871Z",
     "start_time": "2020-09-01T09:42:31.196117Z"
    }
   },
   "outputs": [],
   "source": [
    "p_target = np.array([[0.1, 0.4],\n",
    "                     [0.3, 0.2]])"
   ]
  },
  {
   "cell_type": "code",
   "execution_count": null,
   "metadata": {
    "ExecuteTime": {
     "end_time": "2020-09-01T09:43:30.206514Z",
     "start_time": "2020-09-01T09:43:30.182138Z"
    }
   },
   "outputs": [],
   "source": []
  },
  {
   "cell_type": "code",
   "execution_count": 21,
   "metadata": {
    "ExecuteTime": {
     "end_time": "2020-09-01T09:46:22.938134Z",
     "start_time": "2020-09-01T09:46:22.922350Z"
    }
   },
   "outputs": [],
   "source": [
    "T_new = np.empty(p_target.shape)\n",
    "\n",
    "f = [[None]*2]*2\n",
    "\n",
    "for ix,iy in np.ndindex(p_target.shape):\n",
    "    f[ix][iy] = interp1d(p, T[:,ix,iy])\n",
    "    \n",
    "for ix,iy in np.ndindex(p_target.shape):\n",
    "    T_new[ix,iy] = f[ix][iy](p_target[ix,iy])\n"
   ]
  },
  {
   "cell_type": "code",
   "execution_count": 18,
   "metadata": {
    "ExecuteTime": {
     "end_time": "2020-09-01T09:45:38.152725Z",
     "start_time": "2020-09-01T09:45:38.141494Z"
    }
   },
   "outputs": [
    {
     "data": {
      "text/plain": [
       "array([[3.1, 2.8],\n",
       "       [3.3, 2.4]])"
      ]
     },
     "execution_count": 18,
     "metadata": {},
     "output_type": "execute_result"
    }
   ],
   "source": [
    "T_new"
   ]
  },
  {
   "cell_type": "code",
   "execution_count": null,
   "metadata": {},
   "outputs": [],
   "source": []
  }
 ],
 "metadata": {
  "hide_input": false,
  "kernelspec": {
   "display_name": "Python 3",
   "language": "python",
   "name": "python3"
  },
  "language_info": {
   "codemirror_mode": {
    "name": "ipython",
    "version": 3
   },
   "file_extension": ".py",
   "mimetype": "text/x-python",
   "name": "python",
   "nbconvert_exporter": "python",
   "pygments_lexer": "ipython3",
   "version": "3.6.9"
  },
  "toc": {
   "base_numbering": 1,
   "nav_menu": {},
   "number_sections": true,
   "sideBar": true,
   "skip_h1_title": false,
   "title_cell": "Table of Contents",
   "title_sidebar": "Contents",
   "toc_cell": false,
   "toc_position": {},
   "toc_section_display": true,
   "toc_window_display": false
  },
  "varInspector": {
   "cols": {
    "lenName": 16,
    "lenType": 16,
    "lenVar": 40
   },
   "kernels_config": {
    "python": {
     "delete_cmd_postfix": "",
     "delete_cmd_prefix": "del ",
     "library": "var_list.py",
     "varRefreshCmd": "print(var_dic_list())"
    },
    "r": {
     "delete_cmd_postfix": ") ",
     "delete_cmd_prefix": "rm(",
     "library": "var_list.r",
     "varRefreshCmd": "cat(var_dic_list()) "
    }
   },
   "types_to_exclude": [
    "module",
    "function",
    "builtin_function_or_method",
    "instance",
    "_Feature"
   ],
   "window_display": false
  }
 },
 "nbformat": 4,
 "nbformat_minor": 4
}
