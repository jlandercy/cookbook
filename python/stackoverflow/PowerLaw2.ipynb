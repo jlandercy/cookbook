{
 "cells": [
  {
   "cell_type": "code",
   "execution_count": 5,
   "id": "873039af",
   "metadata": {
    "ExecuteTime": {
     "end_time": "2024-03-01T06:50:22.491872Z",
     "start_time": "2024-03-01T06:50:22.488256Z"
    }
   },
   "outputs": [],
   "source": [
    "import networkx as nx\n",
    "import numpy as np\n",
    "from scipy import optimize, stats\n",
    "import matplotlib.pyplot as plt"
   ]
  },
  {
   "cell_type": "markdown",
   "id": "b04fb0f3",
   "metadata": {
    "ExecuteTime": {
     "end_time": "2024-03-01T06:47:37.717965Z",
     "start_time": "2024-03-01T06:47:37.676568Z"
    }
   },
   "source": [
    "https://stackoverflow.com/questions/78081209/the-power-law-fitted-curve-doesnt-overlap-with-the-data-points"
   ]
  },
  {
   "cell_type": "code",
   "execution_count": null,
   "id": "9a026df3",
   "metadata": {},
   "outputs": [],
   "source": []
  },
  {
   "cell_type": "code",
   "execution_count": 18,
   "id": "d1e03965",
   "metadata": {
    "ExecuteTime": {
     "end_time": "2024-03-01T06:54:04.388422Z",
     "start_time": "2024-03-01T06:54:03.773744Z"
    }
   },
   "outputs": [],
   "source": [
    "g = nx.powerlaw_cluster_graph(1000, 25, 0.9)\n",
    "d = np.array(list(dict(g.degree).values()))"
   ]
  },
  {
   "cell_type": "code",
   "execution_count": 88,
   "id": "69f6dd74",
   "metadata": {
    "ExecuteTime": {
     "end_time": "2024-03-01T07:12:54.101984Z",
     "start_time": "2024-03-01T07:12:53.973567Z"
    }
   },
   "outputs": [
    {
     "data": {
      "text/plain": [
       "(0.3827060795865538, 14.999999999999996, 340.07380957050646)"
      ]
     },
     "execution_count": 88,
     "metadata": {},
     "output_type": "execute_result"
    }
   ],
   "source": [
    "p = stats.powerlaw.fit(d)\n",
    "p"
   ]
  },
  {
   "cell_type": "code",
   "execution_count": 35,
   "id": "32b12511",
   "metadata": {
    "ExecuteTime": {
     "end_time": "2024-03-01T06:58:07.376225Z",
     "start_time": "2024-03-01T06:58:07.353794Z"
    }
   },
   "outputs": [],
   "source": [
    "xlin = np.linspace(d.min(), d.max(), 100)\n",
    "bins = np.logspace(np.log10(d.min()), np.log10(d.max()), 31)"
   ]
  },
  {
   "cell_type": "code",
   "execution_count": 39,
   "id": "b18dab4b",
   "metadata": {
    "ExecuteTime": {
     "end_time": "2024-03-01T06:59:02.153215Z",
     "start_time": "2024-03-01T06:59:02.149720Z"
    }
   },
   "outputs": [],
   "source": [
    "density, _ = np.histogram(d, bins=bins, density=1.)"
   ]
  },
  {
   "cell_type": "code",
   "execution_count": 40,
   "id": "90a353ba",
   "metadata": {
    "ExecuteTime": {
     "end_time": "2024-03-01T06:59:44.669477Z",
     "start_time": "2024-03-01T06:59:44.665261Z"
    }
   },
   "outputs": [],
   "source": [
    "centers = (bins[:-1] + bins[1:]) / 2."
   ]
  },
  {
   "cell_type": "code",
   "execution_count": 85,
   "id": "e3a13004",
   "metadata": {
    "ExecuteTime": {
     "end_time": "2024-03-01T07:11:49.300923Z",
     "start_time": "2024-03-01T07:11:49.294091Z"
    }
   },
   "outputs": [],
   "source": [
    "def model(x, x0, k):\n",
    "    return k * np.power(x - x0, k - 1)"
   ]
  },
  {
   "cell_type": "code",
   "execution_count": 86,
   "id": "12cb0d53",
   "metadata": {
    "ExecuteTime": {
     "end_time": "2024-03-01T07:11:49.920187Z",
     "start_time": "2024-03-01T07:11:49.901602Z"
    }
   },
   "outputs": [
    {
     "data": {
      "text/plain": [
       "(array([-19.59973267,   0.25312944]),\n",
       " array([[ 1.36908719e+03, -2.40569007e+00],\n",
       "        [-2.40569007e+00,  4.99613817e-03]]))"
      ]
     },
     "execution_count": 86,
     "metadata": {},
     "output_type": "execute_result"
    }
   ],
   "source": [
    "popt, pcov = optimize.curve_fit(model, centers, density)\n",
    "popt, pcov"
   ]
  },
  {
   "cell_type": "code",
   "execution_count": null,
   "id": "1548a364",
   "metadata": {},
   "outputs": [],
   "source": []
  },
  {
   "cell_type": "code",
   "execution_count": null,
   "id": "8a499c95",
   "metadata": {},
   "outputs": [],
   "source": []
  },
  {
   "cell_type": "code",
   "execution_count": 87,
   "id": "3c705954",
   "metadata": {
    "ExecuteTime": {
     "end_time": "2024-03-01T07:11:52.552965Z",
     "start_time": "2024-03-01T07:11:51.494691Z"
    }
   },
   "outputs": [
    {
     "data": {
      "image/png": "[encoded data removed]",
      "text/plain": [
       "<Figure size 640x480 with 1 Axes>"
      ]
     },
     "metadata": {},
     "output_type": "display_data"
    }
   ],
   "source": [
    "fig, axe = plt.subplots()\n",
    "axe.hist(d, density=1., bins=bins, alpha=0.5)\n",
    "axe.scatter(centers, density, marker=\".\")\n",
    "axe.plot(xlin, model(xlin, *popt))\n",
    "axe.set_xscale(\"log\")\n",
    "axe.set_yscale(\"log\")"
   ]
  },
  {
   "cell_type": "code",
   "execution_count": null,
   "id": "dc2c50c2",
   "metadata": {},
   "outputs": [],
   "source": []
  },
  {
   "cell_type": "code",
   "execution_count": null,
   "id": "2e59b0f8",
   "metadata": {},
   "outputs": [],
   "source": []
  },
  {
   "cell_type": "code",
   "execution_count": 100,
   "id": "b5192063",
   "metadata": {
    "ExecuteTime": {
     "end_time": "2024-03-01T07:18:36.894297Z",
     "start_time": "2024-03-01T07:18:35.667485Z"
    }
   },
   "outputs": [
    {
     "name": "stdout",
     "output_type": "stream",
     "text": [
      "Calculating best minimal value for power law fit\n",
      "xmin progress: 00%\r",
      "xmin progress: 00%\r",
      "xmin progress: 01%\r",
      "xmin progress: 02%\r",
      "xmin progress: 03%\r",
      "xmin progress: 04%\r",
      "xmin progress: 04%\r",
      "xmin progress: 05%\r",
      "xmin progress: 06%\r",
      "xmin progress: 07%\r",
      "xmin progress: 08%\r",
      "xmin progress: 09%\r",
      "xmin progress: 09%\r",
      "xmin progress: 10%\r",
      "xmin progress: 11%\r",
      "xmin progress: 12%\r",
      "xmin progress: 13%\r",
      "xmin progress: 14%\r",
      "xmin progress: 14%\r",
      "xmin progress: 15%\r",
      "xmin progress: 16%\r",
      "xmin progress: 17%\r",
      "xmin progress: 18%\r",
      "xmin progress: 19%\r",
      "xmin progress: 19%\r",
      "xmin progress: 20%\r",
      "xmin progress: 21%\r",
      "xmin progress: 22%\r",
      "xmin progress: 23%\r",
      "xmin progress: 23%\r",
      "xmin progress: 24%\r",
      "xmin progress: 25%\r",
      "xmin progress: 26%\r",
      "xmin progress: 27%\r",
      "xmin progress: 28%\r",
      "xmin progress: 28%\r",
      "xmin progress: 29%\r",
      "xmin progress: 30%\r",
      "xmin progress: 31%\r",
      "xmin progress: 32%\r",
      "xmin progress: 33%\r",
      "xmin progress: 33%\r",
      "xmin progress: 34%\r",
      "xmin progress: 35%\r",
      "xmin progress: 36%\r",
      "xmin progress: 37%\r",
      "xmin progress: 38%\r",
      "xmin progress: 38%\r",
      "xmin progress: 39%\r",
      "xmin progress: 40%\r",
      "xmin progress: 41%\r",
      "xmin progress: 42%\r",
      "xmin progress: 42%\r",
      "xmin progress: 43%\r",
      "xmin progress: 44%\r",
      "xmin progress: 45%\r",
      "xmin progress: 46%\r",
      "xmin progress: 47%\r",
      "xmin progress: 47%\r",
      "xmin progress: 48%\r",
      "xmin progress: 49%\r",
      "xmin progress: 50%\r",
      "xmin progress: 51%\r",
      "xmin progress: 52%\r",
      "xmin progress: 52%\r",
      "xmin progress: 53%\r",
      "xmin progress: 54%\r",
      "xmin progress: 55%\r",
      "xmin progress: 56%\r",
      "xmin progress: 57%\r",
      "xmin progress: 57%\r",
      "xmin progress: 58%\r",
      "xmin progress: 59%\r",
      "xmin progress: 60%\r",
      "xmin progress: 61%\r",
      "xmin progress: 61%\r",
      "xmin progress: 62%\r",
      "xmin progress: 63%\r",
      "xmin progress: 64%\r",
      "xmin progress: 65%\r",
      "xmin progress: 66%\r",
      "xmin progress: 66%\r",
      "xmin progress: 67%\r",
      "xmin progress: 68%\r",
      "xmin progress: 69%\r",
      "xmin progress: 70%\r",
      "xmin progress: 71%\r",
      "xmin progress: 71%\r",
      "xmin progress: 72%\r",
      "xmin progress: 73%\r",
      "xmin progress: 74%\r",
      "xmin progress: 75%\r",
      "xmin progress: 76%\r",
      "xmin progress: 76%\r",
      "xmin progress: 77%\r",
      "xmin progress: 78%\r",
      "xmin progress: 79%\r",
      "xmin progress: 80%\r",
      "xmin progress: 80%\r",
      "xmin progress: 81%\r",
      "xmin progress: 82%\r",
      "xmin progress: 83%\r",
      "xmin progress: 84%\r",
      "xmin progress: 85%\r",
      "xmin progress: 85%\r",
      "xmin progress: 86%\r",
      "xmin progress: 87%\r",
      "xmin progress: 88%\r",
      "xmin progress: 89%\r",
      "xmin progress: 90%\r",
      "xmin progress: 90%\r",
      "xmin progress: 91%\r",
      "xmin progress: 92%\r",
      "xmin progress: 93%\r",
      "xmin progress: 94%\r",
      "xmin progress: 95%\r",
      "xmin progress: 95%\r",
      "xmin progress: 96%\r",
      "xmin progress: 97%\r",
      "xmin progress: 98%\r",
      "xmin progress: 99%\r"
     ]
    },
    {
     "data": {
      "text/plain": [
       "Text(0.05, 0.5, 'KS Distance: 0.03')"
      ]
     },
     "execution_count": 100,
     "metadata": {},
     "output_type": "execute_result"
    },
    {
     "data": {
      "image/png": "[encoded data removed]",
      "text/plain": [
       "<Figure size 640x480 with 1 Axes>"
      ]
     },
     "metadata": {},
     "output_type": "display_data"
    }
   ],
   "source": [
    "import networkx as nx\n",
    "import powerlaw\n",
    "import matplotlib.pyplot as plt\n",
    "\n",
    "g = nx.powerlaw_cluster_graph(1000, 25, 0.9, seed=12)\n",
    "\n",
    "degrees = list(dict(g.degree).values())\n",
    "\n",
    "fit = powerlaw.Fit(degrees, discrete=True)\n",
    "\n",
    "fig, ax = plt.subplots()\n",
    "\n",
    "powerlaw.plot_pdf(degrees, color='r', marker = 'o', linestyle='', ax=ax) #plotting binned data points\n",
    "fit.power_law.plot_pdf(color = 'darkblue', ax=ax) #plotting fitted curve\n",
    "\n",
    "ax.set_xlabel('k')\n",
    "ax.set_ylabel('P(k)')\n",
    "ax.set_title('Degree Distribution of a Network')\n",
    "ax.tick_params()\n",
    "plt.text(0.05, 0.6, f'γ =  {round(fit.power_law.alpha, 2)}', transform=plt.gca().transAxes, color='darkblue')\n",
    "plt.text(0.05, 0.55, '$x_{min}$ = ' + f'{fit.power_law.xmin}', transform=plt.gca().transAxes, color='darkblue')\n",
    "plt.text(0.05, 0.50, f'KS Distance: {round(fit.power_law.D, 2)}', transform=plt.gca().transAxes, color='darkblue')\n"
   ]
  },
  {
   "cell_type": "code",
   "execution_count": null,
   "id": "eaf8ef90",
   "metadata": {},
   "outputs": [],
   "source": []
  }
 ],
 "metadata": {
  "hide_input": false,
  "kernelspec": {
   "display_name": "Python 3",
   "language": "python",
   "name": "python3"
  },
  "language_info": {
   "codemirror_mode": {
    "name": "ipython",
    "version": 3
   },
   "file_extension": ".py",
   "mimetype": "text/x-python",
   "name": "python",
   "nbconvert_exporter": "python",
   "pygments_lexer": "ipython3",
   "version": "3.10.6"
  },
  "toc": {
   "base_numbering": 1,
   "nav_menu": {},
   "number_sections": true,
   "sideBar": true,
   "skip_h1_title": false,
   "title_cell": "Table of Contents",
   "title_sidebar": "Contents",
   "toc_cell": false,
   "toc_position": {},
   "toc_section_display": true,
   "toc_window_display": false
  },
  "varInspector": {
   "cols": {
    "lenName": 16,
    "lenType": 16,
    "lenVar": 40
   },
   "kernels_config": {
    "python": {
     "delete_cmd_postfix": "",
     "delete_cmd_prefix": "del ",
     "library": "var_list.py",
     "varRefreshCmd": "print(var_dic_list())"
    },
    "r": {
     "delete_cmd_postfix": ") ",
     "delete_cmd_prefix": "rm(",
     "library": "var_list.r",
     "varRefreshCmd": "cat(var_dic_list()) "
    }
   },
   "types_to_exclude": [
    "module",
    "function",
    "builtin_function_or_method",
    "instance",
    "_Feature"
   ],
   "window_display": false
  }
 },
 "nbformat": 4,
 "nbformat_minor": 5
}
