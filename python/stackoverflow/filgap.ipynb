{
 "cells": [
  {
   "cell_type": "code",
   "execution_count": 1,
   "id": "37babd08",
   "metadata": {
    "ExecuteTime": {
     "end_time": "2022-09-03T05:56:20.565635Z",
     "start_time": "2022-09-03T05:56:19.724013Z"
    }
   },
   "outputs": [],
   "source": [
    "import pandas as pd"
   ]
  },
  {
   "cell_type": "markdown",
   "id": "932ef595",
   "metadata": {},
   "source": [
    "https://stackoverflow.com/questions/73589538/python-pandas-how-to-create-a-new-row-based-on-missing-value-from-a-column"
   ]
  },
  {
   "cell_type": "code",
   "execution_count": 2,
   "id": "24472286",
   "metadata": {
    "ExecuteTime": {
     "end_time": "2022-09-03T05:56:20.590095Z",
     "start_time": "2022-09-03T05:56:20.569436Z"
    }
   },
   "outputs": [],
   "source": [
    "frame = pd.DataFrame([\n",
    "    {\"country\": \"A\", \"year\": 2008, \"value\": 1},\n",
    "    {\"country\": \"A\", \"year\": 2011, \"value\": 1},\n",
    "    {\"country\": \"B\", \"year\": 2008, \"value\": 1},\n",
    "    {\"country\": \"B\", \"year\": 2011, \"value\": 1},\n",
    "])"
   ]
  },
  {
   "cell_type": "code",
   "execution_count": 3,
   "id": "f5ec667e",
   "metadata": {
    "ExecuteTime": {
     "end_time": "2022-09-03T05:56:20.629706Z",
     "start_time": "2022-09-03T05:56:20.593287Z"
    }
   },
   "outputs": [
    {
     "data": {
      "text/html": [
       "<div>\n",
       "<style scoped>\n",
       "    .dataframe tbody tr th:only-of-type {\n",
       "        vertical-align: middle;\n",
       "    }\n",
       "\n",
       "    .dataframe tbody tr th {\n",
       "        vertical-align: top;\n",
       "    }\n",
       "\n",
       "    .dataframe thead th {\n",
       "        text-align: right;\n",
       "    }\n",
       "</style>\n",
       "<table border=\"1\" class=\"dataframe\">\n",
       "  <thead>\n",
       "    <tr style=\"text-align: right;\">\n",
       "      <th></th>\n",
       "      <th>country</th>\n",
       "      <th>year</th>\n",
       "      <th>value</th>\n",
       "    </tr>\n",
       "  </thead>\n",
       "  <tbody>\n",
       "    <tr>\n",
       "      <th>0</th>\n",
       "      <td>A</td>\n",
       "      <td>2008</td>\n",
       "      <td>1</td>\n",
       "    </tr>\n",
       "    <tr>\n",
       "      <th>1</th>\n",
       "      <td>A</td>\n",
       "      <td>2011</td>\n",
       "      <td>1</td>\n",
       "    </tr>\n",
       "    <tr>\n",
       "      <th>2</th>\n",
       "      <td>B</td>\n",
       "      <td>2008</td>\n",
       "      <td>1</td>\n",
       "    </tr>\n",
       "    <tr>\n",
       "      <th>3</th>\n",
       "      <td>B</td>\n",
       "      <td>2011</td>\n",
       "      <td>1</td>\n",
       "    </tr>\n",
       "  </tbody>\n",
       "</table>\n",
       "</div>"
      ],
      "text/plain": [
       "  country  year  value\n",
       "0       A  2008      1\n",
       "1       A  2011      1\n",
       "2       B  2008      1\n",
       "3       B  2011      1"
      ]
     },
     "execution_count": 3,
     "metadata": {},
     "output_type": "execute_result"
    }
   ],
   "source": [
    "frame"
   ]
  },
  {
   "cell_type": "code",
   "execution_count": 4,
   "id": "4dc9fe25",
   "metadata": {
    "ExecuteTime": {
     "end_time": "2022-09-03T05:56:20.643857Z",
     "start_time": "2022-09-03T05:56:20.633519Z"
    }
   },
   "outputs": [
    {
     "data": {
      "text/plain": [
       "country    object\n",
       "year        int64\n",
       "value       int64\n",
       "dtype: object"
      ]
     },
     "execution_count": 4,
     "metadata": {},
     "output_type": "execute_result"
    }
   ],
   "source": [
    "frame.dtypes"
   ]
  },
  {
   "cell_type": "code",
   "execution_count": 5,
   "id": "7d4f977c",
   "metadata": {
    "ExecuteTime": {
     "end_time": "2022-09-03T05:56:20.682624Z",
     "start_time": "2022-09-03T05:56:20.646275Z"
    }
   },
   "outputs": [
    {
     "name": "stdout",
     "output_type": "stream",
     "text": [
      "  country   min   max                      year\n",
      "0       A  2008  2011  [2008, 2009, 2010, 2011]\n",
      "1       B  2008  2011  [2008, 2009, 2010, 2011]\n"
     ]
    }
   ],
   "source": [
    "extension = frame.groupby(\"country\")[\"year\"].agg([\"min\", \"max\"]).reset_index()\n",
    "extension[\"year\"] = extension.apply(lambda x: list(range(x[\"min\"], x[\"max\"] + 1)), axis=1)\n",
    "print(extension)"
   ]
  },
  {
   "cell_type": "code",
   "execution_count": 6,
   "id": "35ae5979",
   "metadata": {
    "ExecuteTime": {
     "end_time": "2022-09-03T05:56:20.699786Z",
     "start_time": "2022-09-03T05:56:20.688823Z"
    }
   },
   "outputs": [
    {
     "data": {
      "text/plain": [
       "country    object\n",
       "min         int64\n",
       "max         int64\n",
       "year       object\n",
       "dtype: object"
      ]
     },
     "execution_count": 6,
     "metadata": {},
     "output_type": "execute_result"
    }
   ],
   "source": [
    "extension.dtypes"
   ]
  },
  {
   "cell_type": "code",
   "execution_count": 12,
   "id": "37480e3c",
   "metadata": {
    "ExecuteTime": {
     "end_time": "2022-09-03T05:56:57.961796Z",
     "start_time": "2022-09-03T05:56:57.941663Z"
    }
   },
   "outputs": [
    {
     "name": "stdout",
     "output_type": "stream",
     "text": [
      "  country  year\n",
      "0       A  2008\n",
      "0       A  2009\n",
      "0       A  2010\n",
      "0       A  2011\n",
      "1       B  2008\n",
      "1       B  2009\n",
      "1       B  2010\n",
      "1       B  2011\n"
     ]
    }
   ],
   "source": [
    "extension = extension.explode(\"year\")[[\"country\", \"year\"]]\n",
    "extension[\"year\"] = extension[\"year\"].astype(int)\n",
    "print(extension)"
   ]
  },
  {
   "cell_type": "code",
   "execution_count": 13,
   "id": "ee258691",
   "metadata": {
    "ExecuteTime": {
     "end_time": "2022-09-03T05:56:58.856570Z",
     "start_time": "2022-09-03T05:56:58.851283Z"
    }
   },
   "outputs": [
    {
     "data": {
      "text/plain": [
       "country    object\n",
       "year        int64\n",
       "dtype: object"
      ]
     },
     "execution_count": 13,
     "metadata": {},
     "output_type": "execute_result"
    }
   ],
   "source": [
    "extension.dtypes"
   ]
  },
  {
   "cell_type": "code",
   "execution_count": 14,
   "id": "47973ec4",
   "metadata": {
    "ExecuteTime": {
     "end_time": "2022-09-03T05:57:03.619707Z",
     "start_time": "2022-09-03T05:57:03.603962Z"
    }
   },
   "outputs": [
    {
     "name": "stdout",
     "output_type": "stream",
     "text": [
      "  country  year  value\n",
      "0       A  2008    1.0\n",
      "1       A  2009    NaN\n",
      "2       A  2010    NaN\n",
      "3       A  2011    1.0\n",
      "4       B  2008    1.0\n",
      "5       B  2009    NaN\n",
      "6       B  2010    NaN\n",
      "7       B  2011    1.0\n"
     ]
    }
   ],
   "source": [
    "results = frame.merge(extension, how=\"right\", on=[\"country\", \"year\"])\n",
    "print(results)"
   ]
  },
  {
   "cell_type": "code",
   "execution_count": 15,
   "id": "f25b0c92",
   "metadata": {
    "ExecuteTime": {
     "end_time": "2022-09-03T05:57:10.790265Z",
     "start_time": "2022-09-03T05:57:10.782996Z"
    }
   },
   "outputs": [
    {
     "data": {
      "text/plain": [
       "country     object\n",
       "year         int64\n",
       "value      float64\n",
       "dtype: object"
      ]
     },
     "execution_count": 15,
     "metadata": {},
     "output_type": "execute_result"
    }
   ],
   "source": [
    "results.dtypes"
   ]
  },
  {
   "cell_type": "code",
   "execution_count": null,
   "id": "2121b8c2",
   "metadata": {},
   "outputs": [],
   "source": []
  }
 ],
 "metadata": {
  "hide_input": false,
  "kernelspec": {
   "display_name": "Python 3",
   "language": "python",
   "name": "python3"
  },
  "language_info": {
   "codemirror_mode": {
    "name": "ipython",
    "version": 3
   },
   "file_extension": ".py",
   "mimetype": "text/x-python",
   "name": "python",
   "nbconvert_exporter": "python",
   "pygments_lexer": "ipython3",
   "version": "3.6.9"
  },
  "toc": {
   "base_numbering": 1,
   "nav_menu": {},
   "number_sections": true,
   "sideBar": true,
   "skip_h1_title": false,
   "title_cell": "Table of Contents",
   "title_sidebar": "Contents",
   "toc_cell": false,
   "toc_position": {},
   "toc_section_display": true,
   "toc_window_display": false
  },
  "varInspector": {
   "cols": {
    "lenName": 16,
    "lenType": 16,
    "lenVar": 40
   },
   "kernels_config": {
    "python": {
     "delete_cmd_postfix": "",
     "delete_cmd_prefix": "del ",
     "library": "var_list.py",
     "varRefreshCmd": "print(var_dic_list())"
    },
    "r": {
     "delete_cmd_postfix": ") ",
     "delete_cmd_prefix": "rm(",
     "library": "var_list.r",
     "varRefreshCmd": "cat(var_dic_list()) "
    }
   },
   "types_to_exclude": [
    "module",
    "function",
    "builtin_function_or_method",
    "instance",
    "_Feature"
   ],
   "window_display": false
  }
 },
 "nbformat": 4,
 "nbformat_minor": 5
}
