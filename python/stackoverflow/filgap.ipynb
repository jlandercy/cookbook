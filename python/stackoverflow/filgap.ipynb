{
 "cells": [
  {
   "cell_type": "code",
   "execution_count": 1,
   "id": "37babd08",
   "metadata": {
    "ExecuteTime": {
     "end_time": "2022-09-03T06:16:34.115519Z",
     "start_time": "2022-09-03T06:16:33.490774Z"
    }
   },
   "outputs": [],
   "source": [
    "import pandas as pd"
   ]
  },
  {
   "cell_type": "markdown",
   "id": "932ef595",
   "metadata": {},
   "source": [
    "https://stackoverflow.com/questions/73589538/python-pandas-how-to-create-a-new-row-based-on-missing-value-from-a-column"
   ]
  },
  {
   "cell_type": "code",
   "execution_count": 2,
   "id": "24472286",
   "metadata": {
    "ExecuteTime": {
     "end_time": "2022-09-03T06:16:34.133682Z",
     "start_time": "2022-09-03T06:16:34.119070Z"
    }
   },
   "outputs": [],
   "source": [
    "frame = pd.DataFrame([\n",
    "    {\"country\": \"A\", \"year\": 2008, \"value\": 1},\n",
    "    {\"country\": \"A\", \"year\": 2011, \"value\": 2},\n",
    "    {\"country\": \"B\", \"year\": 2005, \"value\": 1},\n",
    "    {\"country\": \"B\", \"year\": 2009, \"value\": 2},\n",
    "    {\"country\": \"C\", \"year\": 2008, \"value\": 1},\n",
    "    {\"country\": \"C\", \"year\": 2010, \"value\": 2},\n",
    "    {\"country\": \"C\", \"year\": 2012, \"value\": 3},\n",
    "])"
   ]
  },
  {
   "cell_type": "code",
   "execution_count": 3,
   "id": "f5ec667e",
   "metadata": {
    "ExecuteTime": {
     "end_time": "2022-09-03T06:16:34.160832Z",
     "start_time": "2022-09-03T06:16:34.136665Z"
    }
   },
   "outputs": [
    {
     "data": {
      "text/html": [
       "<div>\n",
       "<style scoped>\n",
       "    .dataframe tbody tr th:only-of-type {\n",
       "        vertical-align: middle;\n",
       "    }\n",
       "\n",
       "    .dataframe tbody tr th {\n",
       "        vertical-align: top;\n",
       "    }\n",
       "\n",
       "    .dataframe thead th {\n",
       "        text-align: right;\n",
       "    }\n",
       "</style>\n",
       "<table border=\"1\" class=\"dataframe\">\n",
       "  <thead>\n",
       "    <tr style=\"text-align: right;\">\n",
       "      <th></th>\n",
       "      <th>country</th>\n",
       "      <th>year</th>\n",
       "      <th>value</th>\n",
       "    </tr>\n",
       "  </thead>\n",
       "  <tbody>\n",
       "    <tr>\n",
       "      <th>0</th>\n",
       "      <td>A</td>\n",
       "      <td>2008</td>\n",
       "      <td>1</td>\n",
       "    </tr>\n",
       "    <tr>\n",
       "      <th>1</th>\n",
       "      <td>A</td>\n",
       "      <td>2011</td>\n",
       "      <td>2</td>\n",
       "    </tr>\n",
       "    <tr>\n",
       "      <th>2</th>\n",
       "      <td>B</td>\n",
       "      <td>2005</td>\n",
       "      <td>1</td>\n",
       "    </tr>\n",
       "    <tr>\n",
       "      <th>3</th>\n",
       "      <td>B</td>\n",
       "      <td>2009</td>\n",
       "      <td>2</td>\n",
       "    </tr>\n",
       "    <tr>\n",
       "      <th>4</th>\n",
       "      <td>C</td>\n",
       "      <td>2008</td>\n",
       "      <td>1</td>\n",
       "    </tr>\n",
       "    <tr>\n",
       "      <th>5</th>\n",
       "      <td>C</td>\n",
       "      <td>2010</td>\n",
       "      <td>2</td>\n",
       "    </tr>\n",
       "    <tr>\n",
       "      <th>6</th>\n",
       "      <td>C</td>\n",
       "      <td>2012</td>\n",
       "      <td>3</td>\n",
       "    </tr>\n",
       "  </tbody>\n",
       "</table>\n",
       "</div>"
      ],
      "text/plain": [
       "  country  year  value\n",
       "0       A  2008      1\n",
       "1       A  2011      2\n",
       "2       B  2005      1\n",
       "3       B  2009      2\n",
       "4       C  2008      1\n",
       "5       C  2010      2\n",
       "6       C  2012      3"
      ]
     },
     "execution_count": 3,
     "metadata": {},
     "output_type": "execute_result"
    }
   ],
   "source": [
    "frame"
   ]
  },
  {
   "cell_type": "code",
   "execution_count": 4,
   "id": "4dc9fe25",
   "metadata": {
    "ExecuteTime": {
     "end_time": "2022-09-03T06:16:34.169163Z",
     "start_time": "2022-09-03T06:16:34.163538Z"
    }
   },
   "outputs": [
    {
     "data": {
      "text/plain": [
       "country    object\n",
       "year        int64\n",
       "value       int64\n",
       "dtype: object"
      ]
     },
     "execution_count": 4,
     "metadata": {},
     "output_type": "execute_result"
    }
   ],
   "source": [
    "frame.dtypes"
   ]
  },
  {
   "cell_type": "code",
   "execution_count": 5,
   "id": "7d4f977c",
   "metadata": {
    "ExecuteTime": {
     "end_time": "2022-09-03T06:16:34.194250Z",
     "start_time": "2022-09-03T06:16:34.171643Z"
    }
   },
   "outputs": [
    {
     "name": "stdout",
     "output_type": "stream",
     "text": [
      "  country   min   max                            year\n",
      "0       A  2008  2011        [2008, 2009, 2010, 2011]\n",
      "1       B  2005  2009  [2005, 2006, 2007, 2008, 2009]\n",
      "2       C  2008  2012  [2008, 2009, 2010, 2011, 2012]\n"
     ]
    }
   ],
   "source": [
    "extension = frame.groupby(\"country\")[\"year\"].agg([\"min\", \"max\"]).reset_index()\n",
    "extension[\"year\"] = extension.apply(lambda x: list(range(x[\"min\"], x[\"max\"] + 1)), axis=1)\n",
    "print(extension)"
   ]
  },
  {
   "cell_type": "code",
   "execution_count": 6,
   "id": "35ae5979",
   "metadata": {
    "ExecuteTime": {
     "end_time": "2022-09-03T06:16:34.202000Z",
     "start_time": "2022-09-03T06:16:34.196623Z"
    }
   },
   "outputs": [
    {
     "data": {
      "text/plain": [
       "country    object\n",
       "min         int64\n",
       "max         int64\n",
       "year       object\n",
       "dtype: object"
      ]
     },
     "execution_count": 6,
     "metadata": {},
     "output_type": "execute_result"
    }
   ],
   "source": [
    "extension.dtypes"
   ]
  },
  {
   "cell_type": "code",
   "execution_count": 7,
   "id": "37480e3c",
   "metadata": {
    "ExecuteTime": {
     "end_time": "2022-09-03T06:16:34.224292Z",
     "start_time": "2022-09-03T06:16:34.206513Z"
    }
   },
   "outputs": [
    {
     "name": "stdout",
     "output_type": "stream",
     "text": [
      "  country  year\n",
      "0       A  2008\n",
      "0       A  2009\n",
      "0       A  2010\n",
      "0       A  2011\n",
      "1       B  2005\n",
      "1       B  2006\n",
      "1       B  2007\n",
      "1       B  2008\n",
      "1       B  2009\n",
      "2       C  2008\n",
      "2       C  2009\n",
      "2       C  2010\n",
      "2       C  2011\n",
      "2       C  2012\n"
     ]
    }
   ],
   "source": [
    "extension = extension.explode(\"year\")[[\"country\", \"year\"]]\n",
    "extension[\"year\"] = extension[\"year\"].astype(int)\n",
    "print(extension)"
   ]
  },
  {
   "cell_type": "code",
   "execution_count": 8,
   "id": "ee258691",
   "metadata": {
    "ExecuteTime": {
     "end_time": "2022-09-03T06:16:34.233989Z",
     "start_time": "2022-09-03T06:16:34.228726Z"
    }
   },
   "outputs": [
    {
     "data": {
      "text/plain": [
       "country    object\n",
       "year        int64\n",
       "dtype: object"
      ]
     },
     "execution_count": 8,
     "metadata": {},
     "output_type": "execute_result"
    }
   ],
   "source": [
    "extension.dtypes"
   ]
  },
  {
   "cell_type": "code",
   "execution_count": 9,
   "id": "47973ec4",
   "metadata": {
    "ExecuteTime": {
     "end_time": "2022-09-03T06:16:34.248533Z",
     "start_time": "2022-09-03T06:16:34.236790Z"
    }
   },
   "outputs": [
    {
     "name": "stdout",
     "output_type": "stream",
     "text": [
      "   country  year  value\n",
      "0        A  2008    1.0\n",
      "1        A  2009    NaN\n",
      "2        A  2010    NaN\n",
      "3        A  2011    2.0\n",
      "4        B  2005    1.0\n",
      "5        B  2006    NaN\n",
      "6        B  2007    NaN\n",
      "7        B  2008    NaN\n",
      "8        B  2009    2.0\n",
      "9        C  2008    1.0\n",
      "10       C  2009    NaN\n",
      "11       C  2010    2.0\n",
      "12       C  2011    NaN\n",
      "13       C  2012    3.0\n"
     ]
    }
   ],
   "source": [
    "results = frame.merge(extension, how=\"right\", on=[\"country\", \"year\"])\n",
    "print(results)"
   ]
  },
  {
   "cell_type": "code",
   "execution_count": 10,
   "id": "f25b0c92",
   "metadata": {
    "ExecuteTime": {
     "end_time": "2022-09-03T06:16:34.256377Z",
     "start_time": "2022-09-03T06:16:34.250894Z"
    }
   },
   "outputs": [
    {
     "data": {
      "text/plain": [
       "country     object\n",
       "year         int64\n",
       "value      float64\n",
       "dtype: object"
      ]
     },
     "execution_count": 10,
     "metadata": {},
     "output_type": "execute_result"
    }
   ],
   "source": [
    "results.dtypes"
   ]
  },
  {
   "cell_type": "code",
   "execution_count": null,
   "id": "2121b8c2",
   "metadata": {},
   "outputs": [],
   "source": []
  }
 ],
 "metadata": {
  "hide_input": false,
  "kernelspec": {
   "display_name": "Python 3",
   "language": "python",
   "name": "python3"
  },
  "language_info": {
   "codemirror_mode": {
    "name": "ipython",
    "version": 3
   },
   "file_extension": ".py",
   "mimetype": "text/x-python",
   "name": "python",
   "nbconvert_exporter": "python",
   "pygments_lexer": "ipython3",
   "version": "3.6.9"
  },
  "toc": {
   "base_numbering": 1,
   "nav_menu": {},
   "number_sections": true,
   "sideBar": true,
   "skip_h1_title": false,
   "title_cell": "Table of Contents",
   "title_sidebar": "Contents",
   "toc_cell": false,
   "toc_position": {},
   "toc_section_display": true,
   "toc_window_display": false
  },
  "varInspector": {
   "cols": {
    "lenName": 16,
    "lenType": 16,
    "lenVar": 40
   },
   "kernels_config": {
    "python": {
     "delete_cmd_postfix": "",
     "delete_cmd_prefix": "del ",
     "library": "var_list.py",
     "varRefreshCmd": "print(var_dic_list())"
    },
    "r": {
     "delete_cmd_postfix": ") ",
     "delete_cmd_prefix": "rm(",
     "library": "var_list.r",
     "varRefreshCmd": "cat(var_dic_list()) "
    }
   },
   "types_to_exclude": [
    "module",
    "function",
    "builtin_function_or_method",
    "instance",
    "_Feature"
   ],
   "window_display": false
  }
 },
 "nbformat": 4,
 "nbformat_minor": 5
}
