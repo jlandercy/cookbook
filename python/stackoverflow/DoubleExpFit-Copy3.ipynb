{
 "cells": [
  {
   "cell_type": "markdown",
   "id": "f6a84667",
   "metadata": {},
   "source": [
    "https://stackoverflow.com/questions/77669310/double-exponential-fit-in-python"
   ]
  },
  {
   "cell_type": "code",
   "execution_count": 1,
   "id": "ef0533f6",
   "metadata": {
    "ExecuteTime": {
     "end_time": "2023-12-19T07:18:27.048161Z",
     "start_time": "2023-12-19T07:18:25.127155Z"
    }
   },
   "outputs": [],
   "source": [
    "import numpy as np\n",
    "import numdifftools as nd\n",
    "import matplotlib.pyplot as plt\n",
    "from scipy import optimize, integrate\n",
    "from sklearn.metrics import r2_score"
   ]
  },
  {
   "cell_type": "code",
   "execution_count": 2,
   "id": "a6b72c0f",
   "metadata": {
    "ExecuteTime": {
     "end_time": "2023-12-19T07:18:27.054331Z",
     "start_time": "2023-12-19T07:18:27.051324Z"
    }
   },
   "outputs": [],
   "source": [
    "def logistic(x, a, b):\n",
    "    return 1. / (1. + np.exp(a * (x - b)))"
   ]
  },
  {
   "cell_type": "code",
   "execution_count": 3,
   "id": "99d60928",
   "metadata": {
    "ExecuteTime": {
     "end_time": "2023-12-19T07:18:27.059514Z",
     "start_time": "2023-12-19T07:18:27.056683Z"
    }
   },
   "outputs": [],
   "source": [
    "def model(x, a, b, c, p, r, q, s):\n",
    "    return a + b * logistic(x, p, r) - c * logistic(x, q, s)"
   ]
  },
  {
   "cell_type": "code",
   "execution_count": 4,
   "id": "c67f858b",
   "metadata": {
    "ExecuteTime": {
     "end_time": "2023-12-19T07:18:27.064998Z",
     "start_time": "2023-12-19T07:18:27.062567Z"
    }
   },
   "outputs": [],
   "source": [
    "#model = nd.Derivative(model)"
   ]
  },
  {
   "cell_type": "code",
   "execution_count": 5,
   "id": "48a9c21c",
   "metadata": {
    "ExecuteTime": {
     "end_time": "2023-12-19T07:18:27.071267Z",
     "start_time": "2023-12-19T07:18:27.068676Z"
    }
   },
   "outputs": [],
   "source": [
    "p0 = [2, 1, 0.5, 1, 8, 1, 12]"
   ]
  },
  {
   "cell_type": "code",
   "execution_count": 6,
   "id": "991f99f0",
   "metadata": {
    "ExecuteTime": {
     "end_time": "2023-12-19T07:18:27.077732Z",
     "start_time": "2023-12-19T07:18:27.073698Z"
    }
   },
   "outputs": [],
   "source": [
    "np.random.seed(12345)\n",
    "t = np.linspace(0, 20, 50)\n",
    "x = model(t, *p0)\n",
    "s = 0.01 * np.ones_like(x)\n",
    "n = s * np.random.normal(size=x.size)\n",
    "x += n"
   ]
  },
  {
   "cell_type": "code",
   "execution_count": 7,
   "id": "160104ba",
   "metadata": {
    "ExecuteTime": {
     "end_time": "2023-12-19T07:18:27.097542Z",
     "start_time": "2023-12-19T07:18:27.080146Z"
    }
   },
   "outputs": [
    {
     "data": {
      "text/plain": [
       "(array([ 1.99857748,  1.05785034,  0.55096438,  0.96328697,  8.07207129,\n",
       "         0.88238919, 11.83807625]),\n",
       " array([[ 1.26520983e-05,  9.45099354e-05,  1.06310403e-04,\n",
       "         -3.20086138e-05,  1.15865264e-04, -1.48216926e-04,\n",
       "         -2.85838214e-04],\n",
       "        [ 9.45099354e-05,  4.56888485e-03,  4.57549150e-03,\n",
       "         -2.24530047e-03,  6.57861333e-03, -4.03797079e-03,\n",
       "         -1.52089119e-02],\n",
       "        [ 1.06310403e-04,  4.57549150e-03,  4.60430584e-03,\n",
       "         -2.20658489e-03,  6.59511014e-03, -4.14085828e-03,\n",
       "         -1.52702808e-02],\n",
       "        [-3.20086138e-05, -2.24530047e-03, -2.20658489e-03,\n",
       "          1.49330410e-03, -3.37136658e-03,  1.54210592e-03,\n",
       "          6.82611197e-03],\n",
       "        [ 1.15865264e-04,  6.57861333e-03,  6.59511014e-03,\n",
       "         -3.37136658e-03,  1.00989310e-02, -5.31659959e-03,\n",
       "         -2.15999081e-02],\n",
       "        [-1.48216926e-04, -4.03797079e-03, -4.14085828e-03,\n",
       "          1.54210592e-03, -5.31659959e-03,  4.93174330e-03,\n",
       "          1.41160323e-02],\n",
       "        [-2.85838214e-04, -1.52089119e-02, -1.52702808e-02,\n",
       "          6.82611197e-03, -2.15999081e-02,  1.41160323e-02,\n",
       "          5.31287791e-02]]))"
      ]
     },
     "execution_count": 7,
     "metadata": {},
     "output_type": "execute_result"
    }
   ],
   "source": [
    "popt, pcov = optimize.curve_fit(model, t, x, sigma=s, p0=[1, 1, 1, 1, 5, 1, 10], absolute_sigma=True)\n",
    "popt, pcov"
   ]
  },
  {
   "cell_type": "code",
   "execution_count": 8,
   "id": "e2727dd9",
   "metadata": {
    "ExecuteTime": {
     "end_time": "2023-12-19T07:18:27.105834Z",
     "start_time": "2023-12-19T07:18:27.100147Z"
    }
   },
   "outputs": [
    {
     "data": {
      "text/plain": [
       "0.9987856595839526"
      ]
     },
     "execution_count": 8,
     "metadata": {},
     "output_type": "execute_result"
    }
   ],
   "source": [
    "xhat = model(t, *popt)\n",
    "score = r2_score(x, xhat)\n",
    "score"
   ]
  },
  {
   "cell_type": "code",
   "execution_count": null,
   "id": "3cb23d00",
   "metadata": {},
   "outputs": [],
   "source": []
  },
  {
   "cell_type": "code",
   "execution_count": 9,
   "id": "6f33cce9",
   "metadata": {
    "ExecuteTime": {
     "end_time": "2023-12-19T07:18:27.111119Z",
     "start_time": "2023-12-19T07:18:27.107932Z"
    }
   },
   "outputs": [],
   "source": [
    "tlin = np.linspace(t.min(), t.max(), 200)\n",
    "xlin = model(tlin, *popt)"
   ]
  },
  {
   "cell_type": "code",
   "execution_count": 10,
   "id": "15fe1e8a",
   "metadata": {
    "ExecuteTime": {
     "end_time": "2023-12-19T07:18:27.346540Z",
     "start_time": "2023-12-19T07:18:27.115309Z"
    }
   },
   "outputs": [
    {
     "data": {
      "image/png": "[encoded data removed]",
      "text/plain": [
       "<Figure size 640x480 with 1 Axes>"
      ]
     },
     "metadata": {},
     "output_type": "display_data"
    }
   ],
   "source": [
    "fig, axe = plt.subplots()\n",
    "axe.scatter(t, x, marker=\".\")\n",
    "axe.plot(tlin, xlin)\n",
    "axe.grid()"
   ]
  },
  {
   "cell_type": "code",
   "execution_count": null,
   "id": "c5f1c273",
   "metadata": {},
   "outputs": [],
   "source": []
  },
  {
   "cell_type": "code",
   "execution_count": null,
   "id": "cca2e9b9",
   "metadata": {},
   "outputs": [],
   "source": []
  },
  {
   "cell_type": "code",
   "execution_count": null,
   "id": "aa4a302c",
   "metadata": {},
   "outputs": [],
   "source": []
  },
  {
   "cell_type": "code",
   "execution_count": null,
   "id": "d7a6d81e",
   "metadata": {},
   "outputs": [],
   "source": []
  },
  {
   "cell_type": "code",
   "execution_count": null,
   "id": "e0b3900b",
   "metadata": {},
   "outputs": [],
   "source": []
  }
 ],
 "metadata": {
  "hide_input": false,
  "kernelspec": {
   "display_name": "Python 3",
   "language": "python",
   "name": "python3"
  },
  "language_info": {
   "codemirror_mode": {
    "name": "ipython",
    "version": 3
   },
   "file_extension": ".py",
   "mimetype": "text/x-python",
   "name": "python",
   "nbconvert_exporter": "python",
   "pygments_lexer": "ipython3",
   "version": "3.10.6"
  },
  "toc": {
   "base_numbering": 1,
   "nav_menu": {},
   "number_sections": true,
   "sideBar": true,
   "skip_h1_title": false,
   "title_cell": "Table of Contents",
   "title_sidebar": "Contents",
   "toc_cell": false,
   "toc_position": {},
   "toc_section_display": true,
   "toc_window_display": false
  },
  "varInspector": {
   "cols": {
    "lenName": 16,
    "lenType": 16,
    "lenVar": 40
   },
   "kernels_config": {
    "python": {
     "delete_cmd_postfix": "",
     "delete_cmd_prefix": "del ",
     "library": "var_list.py",
     "varRefreshCmd": "print(var_dic_list())"
    },
    "r": {
     "delete_cmd_postfix": ") ",
     "delete_cmd_prefix": "rm(",
     "library": "var_list.r",
     "varRefreshCmd": "cat(var_dic_list()) "
    }
   },
   "types_to_exclude": [
    "module",
    "function",
    "builtin_function_or_method",
    "instance",
    "_Feature"
   ],
   "window_display": false
  }
 },
 "nbformat": 4,
 "nbformat_minor": 5
}
