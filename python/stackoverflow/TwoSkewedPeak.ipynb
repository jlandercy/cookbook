{
 "cells": [
  {
   "cell_type": "raw",
   "id": "3fa5306a",
   "metadata": {},
   "source": [
    "https://stackoverflow.com/questions/77929934/fit-bimodal-skewed-gaussian"
   ]
  },
  {
   "cell_type": "code",
   "execution_count": null,
   "id": "03362c05",
   "metadata": {},
   "outputs": [],
   "source": []
  },
  {
   "cell_type": "code",
   "execution_count": 10,
   "id": "495ff1ac",
   "metadata": {
    "ExecuteTime": {
     "end_time": "2024-02-03T10:12:41.306296Z",
     "start_time": "2024-02-03T10:12:41.279029Z"
    }
   },
   "outputs": [],
   "source": [
    "import numpy as np\n",
    "import matplotlib.pyplot as plt\n",
    "from scipy import stats, optimize"
   ]
  },
  {
   "cell_type": "code",
   "execution_count": null,
   "id": "a946ca71",
   "metadata": {},
   "outputs": [],
   "source": []
  },
  {
   "cell_type": "code",
   "execution_count": null,
   "id": "642176eb",
   "metadata": {
    "ExecuteTime": {
     "end_time": "2024-02-03T10:10:38.092746Z",
     "start_time": "2024-02-03T10:10:38.086890Z"
    }
   },
   "outputs": [],
   "source": []
  },
  {
   "cell_type": "code",
   "execution_count": 11,
   "id": "1f323ea8",
   "metadata": {
    "ExecuteTime": {
     "end_time": "2024-02-03T10:12:41.587925Z",
     "start_time": "2024-02-03T10:12:41.583729Z"
    }
   },
   "outputs": [],
   "source": [
    "def peak(x, A, a, loc, scale):\n",
    "    return A * stats.skewnorm.pdf(x, a=a, loc=loc, scale=scale)"
   ]
  },
  {
   "cell_type": "code",
   "execution_count": 12,
   "id": "4ccd0a58",
   "metadata": {
    "ExecuteTime": {
     "end_time": "2024-02-03T10:12:41.822069Z",
     "start_time": "2024-02-03T10:12:41.817881Z"
    }
   },
   "outputs": [],
   "source": [
    "def model(x, A1, a1, loc1, scale1, A2, a2, loc2, scale2):\n",
    "    return peak(x, A1, a1, loc1, scale1) + peak(x, A2, a2, loc2, scale2)"
   ]
  },
  {
   "cell_type": "code",
   "execution_count": 14,
   "id": "b88ee1cf",
   "metadata": {
    "ExecuteTime": {
     "end_time": "2024-02-03T10:12:54.783511Z",
     "start_time": "2024-02-03T10:12:54.780389Z"
    }
   },
   "outputs": [],
   "source": [
    "p0 = (500, 1.2, 140, 10, 600, 1.5, 170, 15)"
   ]
  },
  {
   "cell_type": "code",
   "execution_count": null,
   "id": "ad9b3674",
   "metadata": {
    "ExecuteTime": {
     "end_time": "2024-02-03T10:05:40.476557Z",
     "start_time": "2024-02-03T10:05:40.471328Z"
    }
   },
   "outputs": [],
   "source": []
  },
  {
   "cell_type": "code",
   "execution_count": 15,
   "id": "8d46e19e",
   "metadata": {
    "ExecuteTime": {
     "end_time": "2024-02-03T10:12:55.252422Z",
     "start_time": "2024-02-03T10:12:55.239309Z"
    }
   },
   "outputs": [],
   "source": [
    "xexp = np.linspace(120, 220, 70)\n",
    "yexp = model(xexp, *p0)"
   ]
  },
  {
   "cell_type": "code",
   "execution_count": 25,
   "id": "4fef9f40",
   "metadata": {
    "ExecuteTime": {
     "end_time": "2024-02-03T10:16:35.351016Z",
     "start_time": "2024-02-03T10:16:35.124016Z"
    }
   },
   "outputs": [
    {
     "data": {
      "text/plain": [
       "array([500. ,   1.2, 140. ,  10. , 600. ,   1.5, 170. ,  15. ])"
      ]
     },
     "execution_count": 25,
     "metadata": {},
     "output_type": "execute_result"
    }
   ],
   "source": [
    "popt, pcov = optimize.curve_fit(\n",
    "    model, xexp, yexp, p0=(1000, 1, 150, 1, 1000, 1, 180, 1),\n",
    "    bounds = [\n",
    "        (1, 0.1, 140, 0.1, 1, 0.1, 170, 0.1), (1e4, 2.0, 160, 100, 1e4, 2.0, 190, 100)\n",
    "    ]\n",
    ")\n",
    "popt"
   ]
  },
  {
   "cell_type": "code",
   "execution_count": 26,
   "id": "17f3ca17",
   "metadata": {
    "ExecuteTime": {
     "end_time": "2024-02-03T10:16:58.648673Z",
     "start_time": "2024-02-03T10:16:58.634861Z"
    }
   },
   "outputs": [],
   "source": [
    "xlin = np.linspace(xexp.min(), xexp.max(), 250)\n",
    "yhat = model(xlin, *popt)"
   ]
  },
  {
   "cell_type": "code",
   "execution_count": 27,
   "id": "8b32581c",
   "metadata": {
    "ExecuteTime": {
     "end_time": "2024-02-03T10:16:59.434167Z",
     "start_time": "2024-02-03T10:16:58.922690Z"
    }
   },
   "outputs": [
    {
     "data": {
      "image/png": "[encoded data removed]",
      "text/plain": [
       "<Figure size 640x480 with 1 Axes>"
      ]
     },
     "metadata": {},
     "output_type": "display_data"
    }
   ],
   "source": [
    "fig, axe = plt.subplots()\n",
    "axe.step(xexp, yexp, where=\"mid\")\n",
    "axe.plot(xlin, yhat)\n",
    "axe.grid()"
   ]
  },
  {
   "cell_type": "code",
   "execution_count": null,
   "id": "17d6778a",
   "metadata": {},
   "outputs": [],
   "source": []
  },
  {
   "cell_type": "code",
   "execution_count": null,
   "id": "0401baa3",
   "metadata": {},
   "outputs": [],
   "source": []
  },
  {
   "cell_type": "code",
   "execution_count": null,
   "id": "993c1d1e",
   "metadata": {},
   "outputs": [],
   "source": []
  },
  {
   "cell_type": "code",
   "execution_count": null,
   "id": "bc59da17",
   "metadata": {},
   "outputs": [],
   "source": []
  }
 ],
 "metadata": {
  "hide_input": false,
  "kernelspec": {
   "display_name": "Python 3",
   "language": "python",
   "name": "python3"
  },
  "language_info": {
   "codemirror_mode": {
    "name": "ipython",
    "version": 3
   },
   "file_extension": ".py",
   "mimetype": "text/x-python",
   "name": "python",
   "nbconvert_exporter": "python",
   "pygments_lexer": "ipython3",
   "version": "3.10.6"
  },
  "toc": {
   "base_numbering": 1,
   "nav_menu": {},
   "number_sections": true,
   "sideBar": true,
   "skip_h1_title": false,
   "title_cell": "Table of Contents",
   "title_sidebar": "Contents",
   "toc_cell": false,
   "toc_position": {},
   "toc_section_display": true,
   "toc_window_display": false
  },
  "varInspector": {
   "cols": {
    "lenName": 16,
    "lenType": 16,
    "lenVar": 40
   },
   "kernels_config": {
    "python": {
     "delete_cmd_postfix": "",
     "delete_cmd_prefix": "del ",
     "library": "var_list.py",
     "varRefreshCmd": "print(var_dic_list())"
    },
    "r": {
     "delete_cmd_postfix": ") ",
     "delete_cmd_prefix": "rm(",
     "library": "var_list.r",
     "varRefreshCmd": "cat(var_dic_list()) "
    }
   },
   "types_to_exclude": [
    "module",
    "function",
    "builtin_function_or_method",
    "instance",
    "_Feature"
   ],
   "window_display": false
  }
 },
 "nbformat": 4,
 "nbformat_minor": 5
}
