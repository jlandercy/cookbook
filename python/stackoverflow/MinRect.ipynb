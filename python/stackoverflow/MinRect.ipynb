{
 "cells": [
  {
   "cell_type": "code",
   "execution_count": 3,
   "id": "d047dd1f",
   "metadata": {
    "ExecuteTime": {
     "end_time": "2024-08-12T13:31:15.907614Z",
     "start_time": "2024-08-12T13:31:15.903980Z"
    }
   },
   "outputs": [],
   "source": [
    "import numpy as np\n",
    "from scipy import optimize"
   ]
  },
  {
   "cell_type": "markdown",
   "id": "1bdde595",
   "metadata": {},
   "source": [
    "https://stackoverflow.com/questions/78858596/minimizing-a-multidimentional-solution-over-a-dataset"
   ]
  },
  {
   "cell_type": "code",
   "execution_count": 12,
   "id": "3563116c",
   "metadata": {
    "ExecuteTime": {
     "end_time": "2024-08-12T13:35:54.244781Z",
     "start_time": "2024-08-12T13:35:54.120851Z"
    }
   },
   "outputs": [],
   "source": [
    "def estimateCurr(vec, previous, current, center):\n",
    "    return np.sum(np.abs(current - (vec[1] * previous + vec[0] + center * (1 - vec[1]))))"
   ]
  },
  {
   "cell_type": "code",
   "execution_count": 13,
   "id": "96fb0a94",
   "metadata": {
    "ExecuteTime": {
     "end_time": "2024-08-12T13:35:55.373924Z",
     "start_time": "2024-08-12T13:35:54.784904Z"
    }
   },
   "outputs": [
    {
     "name": "stderr",
     "output_type": "stream",
     "text": [
      "/home/jlandercy/.local/lib/python3.10/site-packages/scipy/optimize/_differentiable_functions.py:316: UserWarning: delta_grad == 0.0. Check if the approximated function is linear. If the function is linear better results can be obtained by defining the Hessian as zero instead of using quasi-Newton approximations.\n",
      "  self.H.update(self.x - self.x_prev, self.g - self.g_prev)\n"
     ]
    },
    {
     "name": "stdout",
     "output_type": "stream",
     "text": [
      "`xtol` termination condition is satisfied.\n",
      "Number of iterations: 192, function evaluations: 561, CG iterations: 219, optimality: 2.08e+01, constraint violation: 0.00e+00, execution time:  0.5 s.\n"
     ]
    }
   ],
   "source": [
    "h = 270\n",
    "w = 480\n",
    "x0 = 90.8021\n",
    "y0 = -20.8282\n",
    "\n",
    "px = np.array([86.7581, 74.5433, 85.0012, 84.348, 83.704, 91.6176])\n",
    "py = np.array([-19.5163, -17.3714, -3.39899, -4.83069, -1.97073, -2.20099])\n",
    "cx = np.array([89.7436, 75.8955, 87.5827, 87.1492, 86.0817, 92.6683])\n",
    "cy = np.array([-19.2132, -16.3913, -2.9177, -4.81898, -1.49321, -2.43572])\n",
    "\n",
    "numPoints = px.shape[0]\n",
    "\n",
    "boundsX = optimize.Bounds([-w, -1], [w, w - 1])\n",
    "boundsY = optimize.Bounds([-h, -1], [h, h - 1])\n",
    "\n",
    "centerX = np.full((numPoints,), x0)\n",
    "centerY = np.full((numPoints,), y0)\n",
    "\n",
    "init = np.zeros((2 ,))\n",
    "\n",
    "res = optimize.minimize(\n",
    "    estimateCurr, x0=init,\n",
    "    args=(px, cx, centerX),\n",
    "    method='trust-constr', \n",
    "    bounds=boundsX,\n",
    "    options={'verbose': 1}\n",
    ")"
   ]
  },
  {
   "cell_type": "code",
   "execution_count": 14,
   "id": "9a511584",
   "metadata": {
    "ExecuteTime": {
     "end_time": "2024-08-12T13:36:08.940035Z",
     "start_time": "2024-08-12T13:36:08.907833Z"
    }
   },
   "outputs": [
    {
     "data": {
      "text/plain": [
       "           message: `xtol` termination condition is satisfied.\n",
       "           success: True\n",
       "            status: 2\n",
       "               fun: 2.85392821372551\n",
       "                 x: [ 3.263e+00  1.118e+00]\n",
       "               nit: 192\n",
       "              nfev: 561\n",
       "              njev: 187\n",
       "              nhev: 0\n",
       "          cg_niter: 219\n",
       "      cg_stop_cond: 2\n",
       "              grad: [ 0.000e+00  2.538e+01]\n",
       "   lagrangian_grad: [ 5.801e-14  2.075e+01]\n",
       "            constr: [array([ 3.263e+00,  1.118e+00])]\n",
       "               jac: [<Compressed Sparse Row sparse matrix of dtype 'float64'\n",
       "                    \twith 2 stored elements and shape (2, 2)>]\n",
       "       constr_nfev: [0]\n",
       "       constr_njev: [0]\n",
       "       constr_nhev: [0]\n",
       "                 v: [array([ 5.801e-14, -4.629e+00])]\n",
       "            method: tr_interior_point\n",
       "        optimality: 20.754800383190208\n",
       "  constr_violation: 0.0\n",
       "    execution_time: 0.49712705612182617\n",
       "         tr_radius: 5.0000000000000026e-09\n",
       "    constr_penalty: 1.0\n",
       " barrier_parameter: 2.048000000000001e-09\n",
       " barrier_tolerance: 2.048000000000001e-09\n",
       "             niter: 192"
      ]
     },
     "execution_count": 14,
     "metadata": {},
     "output_type": "execute_result"
    }
   ],
   "source": [
    "res"
   ]
  },
  {
   "cell_type": "code",
   "execution_count": null,
   "id": "92e577d8",
   "metadata": {},
   "outputs": [],
   "source": []
  }
 ],
 "metadata": {
  "hide_input": false,
  "kernelspec": {
   "display_name": "Python 3",
   "language": "python",
   "name": "python3"
  },
  "language_info": {
   "codemirror_mode": {
    "name": "ipython",
    "version": 3
   },
   "file_extension": ".py",
   "mimetype": "text/x-python",
   "name": "python",
   "nbconvert_exporter": "python",
   "pygments_lexer": "ipython3",
   "version": "3.10.6"
  },
  "toc": {
   "base_numbering": 1,
   "nav_menu": {},
   "number_sections": true,
   "sideBar": true,
   "skip_h1_title": false,
   "title_cell": "Table of Contents",
   "title_sidebar": "Contents",
   "toc_cell": false,
   "toc_position": {},
   "toc_section_display": true,
   "toc_window_display": false
  },
  "varInspector": {
   "cols": {
    "lenName": 16,
    "lenType": 16,
    "lenVar": 40
   },
   "kernels_config": {
    "python": {
     "delete_cmd_postfix": "",
     "delete_cmd_prefix": "del ",
     "library": "var_list.py",
     "varRefreshCmd": "print(var_dic_list())"
    },
    "r": {
     "delete_cmd_postfix": ") ",
     "delete_cmd_prefix": "rm(",
     "library": "var_list.r",
     "varRefreshCmd": "cat(var_dic_list()) "
    }
   },
   "types_to_exclude": [
    "module",
    "function",
    "builtin_function_or_method",
    "instance",
    "_Feature"
   ],
   "window_display": false
  }
 },
 "nbformat": 4,
 "nbformat_minor": 5
}
