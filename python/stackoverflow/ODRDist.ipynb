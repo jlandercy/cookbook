{
 "cells": [
  {
   "cell_type": "code",
   "execution_count": 1,
   "id": "942cf28d",
   "metadata": {
    "ExecuteTime": {
     "end_time": "2024-04-11T15:19:39.194524Z",
     "start_time": "2024-04-11T15:19:37.731548Z"
    }
   },
   "outputs": [],
   "source": [
    "import numpy as np\n",
    "import matplotlib.pyplot as plt\n",
    "from scipy import odr\n",
    "from shapely.geometry import Point, LineString"
   ]
  },
  {
   "cell_type": "markdown",
   "id": "3edb0e1b",
   "metadata": {},
   "source": [
    "https://stackoverflow.com/questions/78309370/perpendicular-residuals-with-scipy-odr"
   ]
  },
  {
   "cell_type": "code",
   "execution_count": 2,
   "id": "311c8159",
   "metadata": {
    "ExecuteTime": {
     "end_time": "2024-04-11T15:19:39.208955Z",
     "start_time": "2024-04-11T15:19:39.199581Z"
    }
   },
   "outputs": [],
   "source": [
    "def model(B, x):\n",
    "    return B[2] * x ** 2 + B[1] * x + B[0]"
   ]
  },
  {
   "cell_type": "code",
   "execution_count": 3,
   "id": "db99eea7",
   "metadata": {
    "ExecuteTime": {
     "end_time": "2024-04-11T15:19:39.225328Z",
     "start_time": "2024-04-11T15:19:39.219195Z"
    }
   },
   "outputs": [],
   "source": [
    "np.random.seed(12345)\n",
    "x = np.linspace(0, 1, 20)\n",
    "y = model([0.1, 0.2, 1.], x)\n",
    "sx = 0.1 * np.ones_like(x)\n",
    "sy = 0.2 * np.ones_like(x)\n",
    "x += sx * np.random.normal(size=x.size)\n",
    "y += sy * np.random.normal(size=x.size)"
   ]
  },
  {
   "cell_type": "code",
   "execution_count": null,
   "id": "ebc66252",
   "metadata": {},
   "outputs": [],
   "source": []
  },
  {
   "cell_type": "code",
   "execution_count": null,
   "id": "bdc8ec41",
   "metadata": {},
   "outputs": [],
   "source": []
  },
  {
   "cell_type": "code",
   "execution_count": 4,
   "id": "68c8f52b",
   "metadata": {
    "ExecuteTime": {
     "end_time": "2024-04-11T15:19:39.244383Z",
     "start_time": "2024-04-11T15:19:39.230425Z"
    }
   },
   "outputs": [],
   "source": [
    "regressor = odr.Model(model)\n",
    "data = odr.RealData(x, y, sx=sx, sy=sy)\n",
    "solver = odr.ODR(data, regressor, beta0=[1., 1., 1.])\n",
    "solution = solver.run()"
   ]
  },
  {
   "cell_type": "code",
   "execution_count": null,
   "id": "68621008",
   "metadata": {
    "ExecuteTime": {
     "end_time": "2024-04-11T15:12:03.216287Z",
     "start_time": "2024-04-11T15:12:03.211305Z"
    }
   },
   "outputs": [],
   "source": []
  },
  {
   "cell_type": "code",
   "execution_count": null,
   "id": "6ec87f6f",
   "metadata": {
    "ExecuteTime": {
     "end_time": "2024-04-11T15:12:03.223465Z",
     "start_time": "2024-04-11T15:12:03.219097Z"
    }
   },
   "outputs": [],
   "source": []
  },
  {
   "cell_type": "code",
   "execution_count": null,
   "id": "9a570581",
   "metadata": {
    "ExecuteTime": {
     "end_time": "2024-04-11T15:12:03.232543Z",
     "start_time": "2024-04-11T15:12:03.226392Z"
    }
   },
   "outputs": [],
   "source": []
  },
  {
   "cell_type": "code",
   "execution_count": null,
   "id": "bf6e67ea",
   "metadata": {
    "ExecuteTime": {
     "end_time": "2024-04-11T15:12:03.241717Z",
     "start_time": "2024-04-11T15:12:03.235658Z"
    }
   },
   "outputs": [],
   "source": []
  },
  {
   "cell_type": "code",
   "execution_count": null,
   "id": "850daddc",
   "metadata": {
    "ExecuteTime": {
     "end_time": "2024-04-11T14:53:56.931017Z",
     "start_time": "2024-04-11T14:53:56.918709Z"
    }
   },
   "outputs": [],
   "source": []
  },
  {
   "cell_type": "code",
   "execution_count": 5,
   "id": "a7eb7231",
   "metadata": {
    "ExecuteTime": {
     "end_time": "2024-04-11T15:19:39.260259Z",
     "start_time": "2024-04-11T15:19:39.250313Z"
    }
   },
   "outputs": [],
   "source": [
    "xlin = np.linspace(-0.2, 1.1, 200)"
   ]
  },
  {
   "cell_type": "code",
   "execution_count": 6,
   "id": "31353c32",
   "metadata": {
    "ExecuteTime": {
     "end_time": "2024-04-11T15:19:39.291924Z",
     "start_time": "2024-04-11T15:19:39.278303Z"
    }
   },
   "outputs": [],
   "source": [
    "ylin = model(solution.beta, xlin)"
   ]
  },
  {
   "cell_type": "code",
   "execution_count": null,
   "id": "891d3d29",
   "metadata": {},
   "outputs": [],
   "source": []
  },
  {
   "cell_type": "code",
   "execution_count": null,
   "id": "1dda79f1",
   "metadata": {},
   "outputs": [],
   "source": []
  },
  {
   "cell_type": "code",
   "execution_count": null,
   "id": "14b1b1d7",
   "metadata": {
    "ExecuteTime": {
     "end_time": "2024-04-11T14:54:41.256524Z",
     "start_time": "2024-04-11T14:54:41.027434Z"
    }
   },
   "outputs": [],
   "source": []
  },
  {
   "cell_type": "code",
   "execution_count": null,
   "id": "b7227a5d",
   "metadata": {},
   "outputs": [],
   "source": []
  },
  {
   "cell_type": "code",
   "execution_count": 7,
   "id": "eab51837",
   "metadata": {
    "ExecuteTime": {
     "end_time": "2024-04-11T15:19:39.298974Z",
     "start_time": "2024-04-11T15:19:39.294544Z"
    }
   },
   "outputs": [],
   "source": [
    "fit = LineString([(x, y) for x, y in zip(xlin, ylin)])"
   ]
  },
  {
   "cell_type": "code",
   "execution_count": 8,
   "id": "d1515c96",
   "metadata": {
    "ExecuteTime": {
     "end_time": "2024-04-11T15:19:39.310565Z",
     "start_time": "2024-04-11T15:19:39.302250Z"
    }
   },
   "outputs": [],
   "source": [
    "point = Point(x[1], y[1])"
   ]
  },
  {
   "cell_type": "code",
   "execution_count": 9,
   "id": "634b77f2",
   "metadata": {
    "ExecuteTime": {
     "end_time": "2024-04-11T15:19:39.323137Z",
     "start_time": "2024-04-11T15:19:39.315658Z"
    }
   },
   "outputs": [],
   "source": [
    "distances = np.array([\n",
    "    fit.distance(Point(x, y))\n",
    "    for x, y in zip(x, y)\n",
    "])"
   ]
  },
  {
   "cell_type": "code",
   "execution_count": 10,
   "id": "71d27da2",
   "metadata": {
    "ExecuteTime": {
     "end_time": "2024-04-11T15:19:39.378059Z",
     "start_time": "2024-04-11T15:19:39.334636Z"
    }
   },
   "outputs": [
    {
     "data": {
      "text/plain": [
       "array([0.28101353, 0.03419364, 0.26473306, 0.2580743 , 0.12143476,\n",
       "       0.04116252, 0.14389182, 0.17701173, 0.06717896, 0.16068763,\n",
       "       0.04650308, 0.1186231 , 0.19456623, 0.11491941, 0.11564005,\n",
       "       0.02492354, 0.1378421 , 0.08215034, 0.20314288, 0.07182371])"
      ]
     },
     "execution_count": 10,
     "metadata": {},
     "output_type": "execute_result"
    }
   ],
   "source": [
    "distances"
   ]
  },
  {
   "cell_type": "code",
   "execution_count": 11,
   "id": "9a519da8",
   "metadata": {
    "ExecuteTime": {
     "end_time": "2024-04-11T15:19:39.395425Z",
     "start_time": "2024-04-11T15:19:39.382004Z"
    }
   },
   "outputs": [],
   "source": [
    "projected = [\n",
    "    fit.interpolate(fit.project(Point(x, y)))\n",
    "    for x, y in zip(x, y)\n",
    "]\n",
    "projected = np.array([[p.x, p.y] for p in projected])"
   ]
  },
  {
   "cell_type": "code",
   "execution_count": null,
   "id": "44e13698",
   "metadata": {
    "ExecuteTime": {
     "end_time": "2024-04-11T15:12:03.327534Z",
     "start_time": "2024-04-11T15:12:03.319117Z"
    }
   },
   "outputs": [],
   "source": []
  },
  {
   "cell_type": "code",
   "execution_count": null,
   "id": "5550503d",
   "metadata": {},
   "outputs": [],
   "source": []
  },
  {
   "cell_type": "code",
   "execution_count": 12,
   "id": "8f921a29",
   "metadata": {
    "ExecuteTime": {
     "end_time": "2024-04-11T15:19:39.404195Z",
     "start_time": "2024-04-11T15:19:39.399078Z"
    }
   },
   "outputs": [],
   "source": [
    "location = fit.project(point, normalized=False)\n",
    "projection = fit.interpolate(location)"
   ]
  },
  {
   "cell_type": "code",
   "execution_count": 13,
   "id": "9613e347",
   "metadata": {
    "ExecuteTime": {
     "end_time": "2024-04-11T15:19:39.419446Z",
     "start_time": "2024-04-11T15:19:39.409105Z"
    }
   },
   "outputs": [
    {
     "data": {
      "text/plain": [
       "0.03419364398632701"
      ]
     },
     "execution_count": 13,
     "metadata": {},
     "output_type": "execute_result"
    }
   ],
   "source": [
    "fit.distance(point)"
   ]
  },
  {
   "cell_type": "code",
   "execution_count": null,
   "id": "e835d34f",
   "metadata": {},
   "outputs": [],
   "source": []
  },
  {
   "cell_type": "code",
   "execution_count": null,
   "id": "2caaf79b",
   "metadata": {},
   "outputs": [],
   "source": []
  },
  {
   "cell_type": "code",
   "execution_count": 14,
   "id": "c98ee9a6",
   "metadata": {
    "ExecuteTime": {
     "end_time": "2024-04-11T15:19:39.715330Z",
     "start_time": "2024-04-11T15:19:39.423777Z"
    }
   },
   "outputs": [
    {
     "data": {
      "image/png": "[encoded data removed]",
      "text/plain": [
       "<Figure size 640x480 with 1 Axes>"
      ]
     },
     "metadata": {},
     "output_type": "display_data"
    }
   ],
   "source": [
    "fig, axe = plt.subplots()\n",
    "axe.scatter(x, y)\n",
    "axe.plot(xlin, ylin)\n",
    "axe.plot(*projected.T, linestyle=\"none\", marker=\"x\")\n",
    "for i in range(x.size):\n",
    "    axe.plot([x[i], projected[i][0]], [y[i], projected[i][1]], \"--\", color=\"k\")\n",
    "axe.grid()\n",
    "axe.set_aspect(\"equal\")"
   ]
  },
  {
   "cell_type": "code",
   "execution_count": null,
   "id": "0a98721e",
   "metadata": {},
   "outputs": [],
   "source": []
  }
 ],
 "metadata": {
  "hide_input": false,
  "kernelspec": {
   "display_name": "Python 3",
   "language": "python",
   "name": "python3"
  },
  "language_info": {
   "codemirror_mode": {
    "name": "ipython",
    "version": 3
   },
   "file_extension": ".py",
   "mimetype": "text/x-python",
   "name": "python",
   "nbconvert_exporter": "python",
   "pygments_lexer": "ipython3",
   "version": "3.10.6"
  },
  "toc": {
   "base_numbering": 1,
   "nav_menu": {},
   "number_sections": true,
   "sideBar": true,
   "skip_h1_title": false,
   "title_cell": "Table of Contents",
   "title_sidebar": "Contents",
   "toc_cell": false,
   "toc_position": {},
   "toc_section_display": true,
   "toc_window_display": false
  },
  "varInspector": {
   "cols": {
    "lenName": 16,
    "lenType": 16,
    "lenVar": 40
   },
   "kernels_config": {
    "python": {
     "delete_cmd_postfix": "",
     "delete_cmd_prefix": "del ",
     "library": "var_list.py",
     "varRefreshCmd": "print(var_dic_list())"
    },
    "r": {
     "delete_cmd_postfix": ") ",
     "delete_cmd_prefix": "rm(",
     "library": "var_list.r",
     "varRefreshCmd": "cat(var_dic_list()) "
    }
   },
   "types_to_exclude": [
    "module",
    "function",
    "builtin_function_or_method",
    "instance",
    "_Feature"
   ],
   "window_display": false
  }
 },
 "nbformat": 4,
 "nbformat_minor": 5
}
