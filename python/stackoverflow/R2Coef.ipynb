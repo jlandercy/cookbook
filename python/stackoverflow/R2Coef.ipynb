{
 "cells": [
  {
   "cell_type": "code",
   "execution_count": 1,
   "metadata": {
    "ExecuteTime": {
     "end_time": "2020-10-04T15:23:17.352847Z",
     "start_time": "2020-10-04T15:23:15.115049Z"
    }
   },
   "outputs": [],
   "source": [
    "import numpy as np\n",
    "import scipy\n",
    "import pandas as pd\n",
    "from scipy import stats\n",
    "from sklearn import metrics\n",
    "import matplotlib.pyplot as plt"
   ]
  },
  {
   "cell_type": "markdown",
   "metadata": {},
   "source": [
    " - https://stackoverflow.com/questions/64192772/why-do-coefficient-of-determination-r%c2%b2-implementations-produce-different-resul\n",
    " - https://en.wikipedia.org/wiki/Coefficient_of_determination\n",
    " - https://en.wikipedia.org/wiki/Pearson_correlation_coefficient\n",
    " - https://scikit-learn.org/stable/modules/generated/sklearn.metrics.r2_score.html#sklearn.metrics.r2_score\n",
    " - https://scikit-learn.org/stable/modules/generated/sklearn.metrics.explained_variance_score.html#sklearn.metrics.explained_variance_score"
   ]
  },
  {
   "cell_type": "code",
   "execution_count": 2,
   "metadata": {
    "ExecuteTime": {
     "end_time": "2020-10-04T15:23:17.408617Z",
     "start_time": "2020-10-04T15:23:17.372568Z"
    }
   },
   "outputs": [],
   "source": [
    "def calcR2_wikipedia(y, yhat):\n",
    "    y_mean = np.mean(y)\n",
    "    SS_tot = np.sum((y - y_mean)**2)\n",
    "    SS_res = np.sum((y - yhat)**2)\n",
    "    R2 = 1.0 - (SS_res / SS_tot)\n",
    "    return R2"
   ]
  },
  {
   "cell_type": "code",
   "execution_count": 3,
   "metadata": {
    "ExecuteTime": {
     "end_time": "2020-10-04T15:23:17.456651Z",
     "start_time": "2020-10-04T15:23:17.440086Z"
    }
   },
   "outputs": [],
   "source": [
    "def calcR2_stackOverflow(y, yhat):\n",
    "    SST = np.sum((y - np.mean(y))**2)\n",
    "    SSReg = np.sum((yhat - np.mean(y))**2)\n",
    "    R2 = SSReg/SST\n",
    "    return R2"
   ]
  },
  {
   "cell_type": "code",
   "execution_count": 4,
   "metadata": {
    "ExecuteTime": {
     "end_time": "2020-10-04T15:23:17.466470Z",
     "start_time": "2020-10-04T15:23:17.460578Z"
    }
   },
   "outputs": [],
   "source": [
    "np.random.seed(12345)"
   ]
  },
  {
   "cell_type": "code",
   "execution_count": 5,
   "metadata": {
    "ExecuteTime": {
     "end_time": "2020-10-04T15:23:17.483131Z",
     "start_time": "2020-10-04T15:23:17.471767Z"
    }
   },
   "outputs": [],
   "source": [
    "x = np.linspace(-3, 3, 1001)\n",
    "yh = np.polynomial.polynomial.polyval(x, [1, 2])\n",
    "e = np.random.randn(x.size)\n",
    "yn = yh + e"
   ]
  },
  {
   "cell_type": "code",
   "execution_count": 6,
   "metadata": {
    "ExecuteTime": {
     "end_time": "2020-10-04T15:23:17.747037Z",
     "start_time": "2020-10-04T15:23:17.487056Z"
    }
   },
   "outputs": [
    {
     "data": {
      "text/plain": [
       "[<matplotlib.lines.Line2D at 0x7f3bbe879438>]"
      ]
     },
     "execution_count": 6,
     "metadata": {},
     "output_type": "execute_result"
    },
    {
     "data": {
      "image/png": "[encoded data removed]",
      "text/plain": [
       "<Figure size 432x288 with 1 Axes>"
      ]
     },
     "metadata": {
      "needs_background": "light"
     },
     "output_type": "display_data"
    }
   ],
   "source": [
    "fig, axe = plt.subplots()\n",
    "axe.plot(x, yn, '.')\n",
    "axe.plot(x, yh, '-')"
   ]
  },
  {
   "cell_type": "code",
   "execution_count": 7,
   "metadata": {
    "ExecuteTime": {
     "end_time": "2020-10-04T15:23:17.764524Z",
     "start_time": "2020-10-04T15:23:17.755305Z"
    }
   },
   "outputs": [
    {
     "data": {
      "text/plain": [
       "0.9265536406736125"
      ]
     },
     "execution_count": 7,
     "metadata": {},
     "output_type": "execute_result"
    }
   ],
   "source": [
    "calcR2_wikipedia(yn, yh)"
   ]
  },
  {
   "cell_type": "code",
   "execution_count": 8,
   "metadata": {
    "ExecuteTime": {
     "end_time": "2020-10-04T15:23:17.780752Z",
     "start_time": "2020-10-04T15:23:17.771658Z"
    }
   },
   "outputs": [
    {
     "data": {
      "text/plain": [
       "0.920522875218755"
      ]
     },
     "execution_count": 8,
     "metadata": {},
     "output_type": "execute_result"
    }
   ],
   "source": [
    "calcR2_stackOverflow(yn, yh)"
   ]
  },
  {
   "cell_type": "code",
   "execution_count": 9,
   "metadata": {
    "ExecuteTime": {
     "end_time": "2020-10-04T15:23:17.809284Z",
     "start_time": "2020-10-04T15:23:17.785216Z"
    }
   },
   "outputs": [
    {
     "data": {
      "text/plain": [
       "0.9265643732071487"
      ]
     },
     "execution_count": 9,
     "metadata": {},
     "output_type": "execute_result"
    }
   ],
   "source": [
    "slope, intercept, r_value, p_value, std_err = scipy.stats.linregress(yh, yn)\n",
    "R2 = r_value**2\n",
    "R2"
   ]
  },
  {
   "cell_type": "code",
   "execution_count": 10,
   "metadata": {
    "ExecuteTime": {
     "end_time": "2020-10-04T15:23:17.843663Z",
     "start_time": "2020-10-04T15:23:17.822012Z"
    }
   },
   "outputs": [
    {
     "data": {
      "text/plain": [
       "0.9625821384210018"
      ]
     },
     "execution_count": 10,
     "metadata": {},
     "output_type": "execute_result"
    }
   ],
   "source": [
    "r_value"
   ]
  },
  {
   "cell_type": "code",
   "execution_count": 11,
   "metadata": {
    "ExecuteTime": {
     "end_time": "2020-10-04T15:23:17.894503Z",
     "start_time": "2020-10-04T15:23:17.865757Z"
    }
   },
   "outputs": [
    {
     "data": {
      "text/plain": [
       "0.9265536406736125"
      ]
     },
     "execution_count": 11,
     "metadata": {},
     "output_type": "execute_result"
    }
   ],
   "source": [
    "metrics.r2_score(yn, yh)"
   ]
  },
  {
   "cell_type": "code",
   "execution_count": 12,
   "metadata": {
    "ExecuteTime": {
     "end_time": "2020-10-04T15:23:17.923797Z",
     "start_time": "2020-10-04T15:23:17.899022Z"
    }
   },
   "outputs": [
    {
     "data": {
      "text/plain": [
       "0.920212273834683"
      ]
     },
     "execution_count": 12,
     "metadata": {},
     "output_type": "execute_result"
    }
   ],
   "source": [
    "metrics.r2_score(yh, yn)"
   ]
  },
  {
   "cell_type": "code",
   "execution_count": 20,
   "metadata": {
    "ExecuteTime": {
     "end_time": "2020-10-04T15:25:42.742010Z",
     "start_time": "2020-10-04T15:25:42.718707Z"
    }
   },
   "outputs": [
    {
     "data": {
      "text/plain": [
       "0.9202131965553927"
      ]
     },
     "execution_count": 20,
     "metadata": {},
     "output_type": "execute_result"
    }
   ],
   "source": [
    "metrics.explained_variance_score(yh, yn)"
   ]
  },
  {
   "cell_type": "code",
   "execution_count": 19,
   "metadata": {
    "ExecuteTime": {
     "end_time": "2020-10-04T15:25:35.063895Z",
     "start_time": "2020-10-04T15:25:35.043833Z"
    }
   },
   "outputs": [
    {
     "data": {
      "text/plain": [
       "0.9592774346117982"
      ]
     },
     "execution_count": 19,
     "metadata": {},
     "output_type": "execute_result"
    }
   ],
   "source": [
    "np.sqrt(metrics.explained_variance_score(yh, yn))"
   ]
  },
  {
   "cell_type": "code",
   "execution_count": 15,
   "metadata": {
    "ExecuteTime": {
     "end_time": "2020-10-04T15:23:18.033822Z",
     "start_time": "2020-10-04T15:23:17.988640Z"
    }
   },
   "outputs": [
    {
     "data": {
      "text/plain": [
       "0.9625821384210017"
      ]
     },
     "execution_count": 15,
     "metadata": {},
     "output_type": "execute_result"
    }
   ],
   "source": [
    "C = np.cov(yh, yn)\n",
    "C[1,0]/np.sqrt(C[0,0]*C[1,1])"
   ]
  },
  {
   "cell_type": "code",
   "execution_count": null,
   "metadata": {},
   "outputs": [],
   "source": []
  }
 ],
 "metadata": {
  "hide_input": false,
  "kernelspec": {
   "display_name": "Python 3",
   "language": "python",
   "name": "python3"
  },
  "language_info": {
   "codemirror_mode": {
    "name": "ipython",
    "version": 3
   },
   "file_extension": ".py",
   "mimetype": "text/x-python",
   "name": "python",
   "nbconvert_exporter": "python",
   "pygments_lexer": "ipython3",
   "version": "3.6.9"
  },
  "toc": {
   "base_numbering": 1,
   "nav_menu": {},
   "number_sections": true,
   "sideBar": true,
   "skip_h1_title": false,
   "title_cell": "Table of Contents",
   "title_sidebar": "Contents",
   "toc_cell": false,
   "toc_position": {},
   "toc_section_display": true,
   "toc_window_display": false
  },
  "varInspector": {
   "cols": {
    "lenName": 16,
    "lenType": 16,
    "lenVar": 40
   },
   "kernels_config": {
    "python": {
     "delete_cmd_postfix": "",
     "delete_cmd_prefix": "del ",
     "library": "var_list.py",
     "varRefreshCmd": "print(var_dic_list())"
    },
    "r": {
     "delete_cmd_postfix": ") ",
     "delete_cmd_prefix": "rm(",
     "library": "var_list.r",
     "varRefreshCmd": "cat(var_dic_list()) "
    }
   },
   "types_to_exclude": [
    "module",
    "function",
    "builtin_function_or_method",
    "instance",
    "_Feature"
   ],
   "window_display": false
  }
 },
 "nbformat": 4,
 "nbformat_minor": 4
}
