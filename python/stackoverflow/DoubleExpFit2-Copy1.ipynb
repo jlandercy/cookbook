{
 "cells": [
  {
   "cell_type": "markdown",
   "id": "f1f07995",
   "metadata": {},
   "source": [
    "https://stackoverflow.com/questions/77967527/using-script-optimise-minimize-to-fit-the-sum-of-functions-to-allow-individual-d"
   ]
  },
  {
   "cell_type": "code",
   "execution_count": 1,
   "id": "4ec3c8ae",
   "metadata": {
    "ExecuteTime": {
     "end_time": "2024-02-10T20:14:29.170935Z",
     "start_time": "2024-02-10T20:14:27.752773Z"
    }
   },
   "outputs": [],
   "source": [
    "import numpy as np\n",
    "import matplotlib.pyplot as plt\n",
    "from scipy import optimize"
   ]
  },
  {
   "cell_type": "code",
   "execution_count": null,
   "id": "7890eb46",
   "metadata": {
    "ExecuteTime": {
     "end_time": "2024-02-10T10:09:02.179145Z",
     "start_time": "2024-02-10T10:09:02.173568Z"
    }
   },
   "outputs": [],
   "source": []
  },
  {
   "cell_type": "code",
   "execution_count": 2,
   "id": "76b699a7",
   "metadata": {
    "ExecuteTime": {
     "end_time": "2024-02-10T20:14:29.185304Z",
     "start_time": "2024-02-10T20:14:29.174327Z"
    }
   },
   "outputs": [],
   "source": [
    "def func1(x, n, xe, ye):\n",
    "    b = 1.9992 * n - 0.3271\n",
    "    return (ye * 1e-12) * np.exp(-b * np.power(x / xe, 1. / n) - 1.)"
   ]
  },
  {
   "cell_type": "code",
   "execution_count": 3,
   "id": "074108b1",
   "metadata": {
    "ExecuteTime": {
     "end_time": "2024-02-10T20:14:29.191394Z",
     "start_time": "2024-02-10T20:14:29.187815Z"
    }
   },
   "outputs": [],
   "source": [
    "def func2(x, y0, h):\n",
    "    return (y0 * 1e-12) * np.exp(-x / h)"
   ]
  },
  {
   "cell_type": "code",
   "execution_count": 4,
   "id": "6d3442a8",
   "metadata": {
    "ExecuteTime": {
     "end_time": "2024-02-10T20:14:29.198508Z",
     "start_time": "2024-02-10T20:14:29.194869Z"
    }
   },
   "outputs": [],
   "source": [
    "def model(x, n, xe, ye, y0, h):\n",
    "    return (func1(x, n, xe, ye) + func2(x, y0, h))"
   ]
  },
  {
   "cell_type": "code",
   "execution_count": 5,
   "id": "7050db23",
   "metadata": {
    "ExecuteTime": {
     "end_time": "2024-02-10T20:14:29.204060Z",
     "start_time": "2024-02-10T20:14:29.200860Z"
    }
   },
   "outputs": [],
   "source": [
    "p = (3.0, 11.2, 5.6, 5.2, 12.1)"
   ]
  },
  {
   "cell_type": "code",
   "execution_count": 6,
   "id": "269cb545",
   "metadata": {
    "ExecuteTime": {
     "end_time": "2024-02-10T20:14:29.213221Z",
     "start_time": "2024-02-10T20:14:29.206581Z"
    }
   },
   "outputs": [],
   "source": [
    "np.random.seed(12345)\n",
    "xexp = np.logspace(-2, np.log10(40), 50, base=10)\n",
    "#xexp = np.linspace(1e-2, 100, 50)\n",
    "sigma = 1e-14\n",
    "sexp = np.full(xexp.shape, sigma)\n",
    "noise = sexp * np.random.normal(size=xexp.size)\n",
    "yth = model(xexp, *p) \n",
    "yexp = yth + noise"
   ]
  },
  {
   "cell_type": "code",
   "execution_count": null,
   "id": "e9c8cfe8",
   "metadata": {
    "ExecuteTime": {
     "end_time": "2024-02-10T09:18:53.392258Z",
     "start_time": "2024-02-10T09:18:53.386072Z"
    }
   },
   "outputs": [],
   "source": []
  },
  {
   "cell_type": "code",
   "execution_count": null,
   "id": "7090b7c0",
   "metadata": {},
   "outputs": [],
   "source": []
  },
  {
   "cell_type": "code",
   "execution_count": 7,
   "id": "58e0e22c",
   "metadata": {
    "ExecuteTime": {
     "end_time": "2024-02-10T20:14:29.221170Z",
     "start_time": "2024-02-10T20:14:29.216726Z"
    }
   },
   "outputs": [],
   "source": [
    "def loss_factory(x, y, s):\n",
    "    def wrapped(p):\n",
    "        return 0.5 * np.sum(\n",
    "            np.power((y - model(x, *p)) / s, 2.) #+ np.log(2 * np.pi * np.power(s, 2.))\n",
    "        )\n",
    "    return wrapped"
   ]
  },
  {
   "cell_type": "code",
   "execution_count": 8,
   "id": "778a273a",
   "metadata": {
    "ExecuteTime": {
     "end_time": "2024-02-10T20:14:29.230229Z",
     "start_time": "2024-02-10T20:14:29.224294Z"
    }
   },
   "outputs": [],
   "source": [
    "loss = loss_factory(xexp, yexp, sexp)"
   ]
  },
  {
   "cell_type": "code",
   "execution_count": 9,
   "id": "9471e6e8",
   "metadata": {
    "ExecuteTime": {
     "end_time": "2024-02-10T20:14:29.295103Z",
     "start_time": "2024-02-10T20:14:29.232764Z"
    }
   },
   "outputs": [],
   "source": [
    "sol = optimize.minimize(\n",
    "    loss,\n",
    "    x0=(10, 10, 5, 5, 10),\n",
    "    bounds=[\n",
    "        (1e+0, 2e1),\n",
    "        (1e-1, 2e1),\n",
    "        (1e-1, 2e1),\n",
    "        (1e-1, 2e1),\n",
    "        (1e-1, 2e1),\n",
    "    ]\n",
    ")"
   ]
  },
  {
   "cell_type": "code",
   "execution_count": 10,
   "id": "e43673c0",
   "metadata": {
    "ExecuteTime": {
     "end_time": "2024-02-10T20:14:29.312429Z",
     "start_time": "2024-02-10T20:14:29.300509Z"
    }
   },
   "outputs": [
    {
     "data": {
      "text/plain": [
       "array([ 3.11220365, 15.57243235,  5.79168983,  5.17425918, 12.09578291])"
      ]
     },
     "execution_count": 10,
     "metadata": {},
     "output_type": "execute_result"
    }
   ],
   "source": [
    "sol.x"
   ]
  },
  {
   "cell_type": "code",
   "execution_count": null,
   "id": "f29e4f0e",
   "metadata": {},
   "outputs": [],
   "source": [
    "xlin = np.linspace()"
   ]
  },
  {
   "cell_type": "code",
   "execution_count": 11,
   "id": "9b60281e",
   "metadata": {
    "ExecuteTime": {
     "end_time": "2024-02-10T20:14:29.574768Z",
     "start_time": "2024-02-10T20:14:29.315261Z"
    }
   },
   "outputs": [
    {
     "ename": "NameError",
     "evalue": "name 'xlin' is not defined",
     "output_type": "error",
     "traceback": [
      "\u001b[0;31m---------------------------------------------------------------------------\u001b[0m",
      "\u001b[0;31mNameError\u001b[0m                                 Traceback (most recent call last)",
      "Cell \u001b[0;32mIn [11], line 1\u001b[0m\n\u001b[0;32m----> 1\u001b[0m yhat \u001b[38;5;241m=\u001b[39m model(\u001b[43mxlin\u001b[49m, \u001b[38;5;241m*\u001b[39msol\u001b[38;5;241m.\u001b[39mx)\n\u001b[1;32m      2\u001b[0m f1hat \u001b[38;5;241m=\u001b[39m func1(xlin, \u001b[38;5;241m*\u001b[39msol\u001b[38;5;241m.\u001b[39mx[:\u001b[38;5;241m3\u001b[39m])\n\u001b[1;32m      3\u001b[0m f2hat \u001b[38;5;241m=\u001b[39m func2(xlin, \u001b[38;5;241m*\u001b[39msol\u001b[38;5;241m.\u001b[39mx[\u001b[38;5;241m3\u001b[39m:])\n",
      "\u001b[0;31mNameError\u001b[0m: name 'xlin' is not defined"
     ]
    }
   ],
   "source": [
    "yhat = model(xlin, *sol.x)\n",
    "f1hat = func1(xlin, *sol.x[:3])\n",
    "f2hat = func2(xlin, *sol.x[3:])"
   ]
  },
  {
   "cell_type": "code",
   "execution_count": null,
   "id": "c2e3241a",
   "metadata": {
    "ExecuteTime": {
     "end_time": "2024-02-10T11:34:34.553099Z",
     "start_time": "2024-02-10T11:34:34.547514Z"
    }
   },
   "outputs": [],
   "source": []
  },
  {
   "cell_type": "code",
   "execution_count": null,
   "id": "a858d298",
   "metadata": {
    "ExecuteTime": {
     "end_time": "2024-02-10T20:14:29.583395Z",
     "start_time": "2024-02-10T20:14:29.583345Z"
    }
   },
   "outputs": [],
   "source": [
    "fig, axe = plt.subplots()\n",
    "axe.scatter(xexp, yexp, marker='.')\n",
    "axe.semilogx(xlin, yhat)\n",
    "axe.plot(xlin, f1hat, \"--\")\n",
    "axe.plot(xlin, f2hat, \"--\")\n",
    "axe.grid()"
   ]
  },
  {
   "cell_type": "code",
   "execution_count": null,
   "id": "e89c36a8",
   "metadata": {
    "ExecuteTime": {
     "end_time": "2024-02-10T11:32:51.103693Z",
     "start_time": "2024-02-10T11:32:51.055580Z"
    }
   },
   "outputs": [],
   "source": []
  },
  {
   "cell_type": "code",
   "execution_count": null,
   "id": "7badd960",
   "metadata": {},
   "outputs": [],
   "source": []
  },
  {
   "cell_type": "code",
   "execution_count": null,
   "id": "f6f2d32a",
   "metadata": {},
   "outputs": [],
   "source": []
  },
  {
   "cell_type": "code",
   "execution_count": null,
   "id": "ab3ee9fd",
   "metadata": {},
   "outputs": [],
   "source": []
  },
  {
   "cell_type": "code",
   "execution_count": null,
   "id": "9c617dd5",
   "metadata": {},
   "outputs": [],
   "source": []
  }
 ],
 "metadata": {
  "hide_input": false,
  "kernelspec": {
   "display_name": "Python 3",
   "language": "python",
   "name": "python3"
  },
  "language_info": {
   "codemirror_mode": {
    "name": "ipython",
    "version": 3
   },
   "file_extension": ".py",
   "mimetype": "text/x-python",
   "name": "python",
   "nbconvert_exporter": "python",
   "pygments_lexer": "ipython3",
   "version": "3.10.6"
  },
  "toc": {
   "base_numbering": 1,
   "nav_menu": {},
   "number_sections": true,
   "sideBar": true,
   "skip_h1_title": false,
   "title_cell": "Table of Contents",
   "title_sidebar": "Contents",
   "toc_cell": false,
   "toc_position": {},
   "toc_section_display": true,
   "toc_window_display": false
  },
  "varInspector": {
   "cols": {
    "lenName": 16,
    "lenType": 16,
    "lenVar": 40
   },
   "kernels_config": {
    "python": {
     "delete_cmd_postfix": "",
     "delete_cmd_prefix": "del ",
     "library": "var_list.py",
     "varRefreshCmd": "print(var_dic_list())"
    },
    "r": {
     "delete_cmd_postfix": ") ",
     "delete_cmd_prefix": "rm(",
     "library": "var_list.r",
     "varRefreshCmd": "cat(var_dic_list()) "
    }
   },
   "types_to_exclude": [
    "module",
    "function",
    "builtin_function_or_method",
    "instance",
    "_Feature"
   ],
   "window_display": false
  }
 },
 "nbformat": 4,
 "nbformat_minor": 5
}
