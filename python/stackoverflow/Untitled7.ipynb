{
 "cells": [
  {
   "cell_type": "markdown",
   "id": "fbb3829f",
   "metadata": {},
   "source": [
    "https://stackoverflow.com/questions/77335388/meijer-g-function-in-python"
   ]
  },
  {
   "cell_type": "code",
   "execution_count": 14,
   "id": "12cab81b",
   "metadata": {
    "ExecuteTime": {
     "end_time": "2023-10-21T11:35:04.821418Z",
     "start_time": "2023-10-21T11:35:04.690514Z"
    }
   },
   "outputs": [
    {
     "name": "stderr",
     "output_type": "stream",
     "text": [
      "/tmp/ipykernel_62/3962854717.py:13: RuntimeWarning: invalid value encountered in double_scalars\n",
      "  z = D * (gamma1 / gamma2)**0.5\n"
     ]
    },
    {
     "ename": "TypeError",
     "evalue": "unsupported operand type(s) for //: 'mpf' and 'int'",
     "output_type": "error",
     "traceback": [
      "\u001b[0;31m---------------------------------------------------------------------------\u001b[0m",
      "\u001b[0;31mTypeError\u001b[0m                                 Traceback (most recent call last)",
      "Cell \u001b[0;32mIn [14], line 21\u001b[0m\n\u001b[1;32m     18\u001b[0m pdf_values \u001b[38;5;241m=\u001b[39m []\n\u001b[1;32m     20\u001b[0m \u001b[38;5;28;01mfor\u001b[39;00m gamma1 \u001b[38;5;129;01min\u001b[39;00m gamma1_values:\n\u001b[0;32m---> 21\u001b[0m     pdf \u001b[38;5;241m=\u001b[39m \u001b[43mcalculate_pdf\u001b[49m\u001b[43m(\u001b[49m\u001b[43mgamma1\u001b[49m\u001b[43m)\u001b[49m\n\u001b[1;32m     22\u001b[0m     pdf_values\u001b[38;5;241m.\u001b[39mappend(pdf)\n",
      "Cell \u001b[0;32mIn [14], line 14\u001b[0m, in \u001b[0;36mcalculate_pdf\u001b[0;34m(gamma1)\u001b[0m\n\u001b[1;32m     12\u001b[0m \u001b[38;5;28;01mdef\u001b[39;00m \u001b[38;5;21mcalculate_pdf\u001b[39m(gamma1):\n\u001b[1;32m     13\u001b[0m     z \u001b[38;5;241m=\u001b[39m D \u001b[38;5;241m*\u001b[39m (gamma1 \u001b[38;5;241m/\u001b[39m gamma2)\u001b[38;5;241m*\u001b[39m\u001b[38;5;241m*\u001b[39m\u001b[38;5;241m0.5\u001b[39m\n\u001b[0;32m---> 14\u001b[0m     pdf \u001b[38;5;241m=\u001b[39m A \u001b[38;5;241m/\u001b[39m gamma1 \u001b[38;5;241m*\u001b[39m \u001b[38;5;28mfloat\u001b[39m(\u001b[43mmeijerg\u001b[49m\u001b[43m(\u001b[49m\u001b[43m[\u001b[49m\u001b[43m[\u001b[49m\u001b[43m]\u001b[49m\u001b[43m,\u001b[49m\u001b[43m \u001b[49m\u001b[43m[\u001b[49m\u001b[43mzeta\u001b[49m\u001b[38;5;241;43m*\u001b[39;49m\u001b[38;5;241;43m*\u001b[39;49m\u001b[38;5;241;43m2\u001b[39;49m\u001b[38;5;241;43m+\u001b[39;49m\u001b[38;5;241;43m1\u001b[39;49m\u001b[43m]\u001b[49m\u001b[43m]\u001b[49m\u001b[43m,\u001b[49m\u001b[43m \u001b[49m\u001b[43m[\u001b[49m\u001b[43m[\u001b[49m\u001b[43mzeta\u001b[49m\u001b[38;5;241;43m*\u001b[39;49m\u001b[38;5;241;43m*\u001b[39;49m\u001b[38;5;241;43m2\u001b[39;49m\u001b[43m,\u001b[49m\u001b[43m \u001b[49m\u001b[43malpha\u001b[49m\u001b[43m,\u001b[49m\u001b[43m \u001b[49m\u001b[43mbeta\u001b[49m\u001b[43m]\u001b[49m\u001b[43m,\u001b[49m\u001b[43m \u001b[49m\u001b[43m[\u001b[49m\u001b[43m]\u001b[49m\u001b[43m]\u001b[49m\u001b[43m,\u001b[49m\u001b[43m \u001b[49m\u001b[43mz\u001b[49m\u001b[43m)\u001b[49m)\n\u001b[1;32m     15\u001b[0m     \u001b[38;5;28;01mreturn\u001b[39;00m pdf\n",
      "File \u001b[0;32m~/.local/lib/python3.10/site-packages/mpmath/functions/hypergeometric.py:1058\u001b[0m, in \u001b[0;36mmeijerg\u001b[0;34m(ctx, a_s, b_s, z, r, series, **kwargs)\u001b[0m\n\u001b[1;32m   1056\u001b[0m             terms\u001b[38;5;241m.\u001b[39mappend((bases, expts, gn, gd, hn, hd, hz))\n\u001b[1;32m   1057\u001b[0m         \u001b[38;5;28;01mreturn\u001b[39;00m terms\n\u001b[0;32m-> 1058\u001b[0m \u001b[38;5;28;01mreturn\u001b[39;00m \u001b[43mctx\u001b[49m\u001b[38;5;241;43m.\u001b[39;49m\u001b[43mhypercomb\u001b[49m\u001b[43m(\u001b[49m\u001b[43mh\u001b[49m\u001b[43m,\u001b[49m\u001b[43m \u001b[49m\u001b[43ma\u001b[49m\u001b[38;5;241;43m+\u001b[39;49m\u001b[43mb\u001b[49m\u001b[43m,\u001b[49m\u001b[43m \u001b[49m\u001b[38;5;241;43m*\u001b[39;49m\u001b[38;5;241;43m*\u001b[39;49m\u001b[43mkwargs\u001b[49m\u001b[43m)\u001b[49m\n",
      "File \u001b[0;32m~/.local/lib/python3.10/site-packages/mpmath/functions/hypergeometric.py:125\u001b[0m, in \u001b[0;36mhypercomb\u001b[0;34m(ctx, function, params, discard_known_zeros, **kwargs)\u001b[0m\n\u001b[1;32m    120\u001b[0m     \u001b[38;5;28mprint\u001b[39m(\u001b[38;5;124m\"\u001b[39m\u001b[38;5;124m    z\u001b[39m\u001b[38;5;124m\"\u001b[39m, ctx\u001b[38;5;241m.\u001b[39mnstr(z))\n\u001b[1;32m    121\u001b[0m \u001b[38;5;66;03m#v = ctx.hyper(a_s, b_s, z, **kwargs)\u001b[39;00m\n\u001b[1;32m    122\u001b[0m \u001b[38;5;66;03m#for a in alpha_s: v *= ctx.gamma(a)\u001b[39;00m\n\u001b[1;32m    123\u001b[0m \u001b[38;5;66;03m#for b in beta_s: v *= ctx.rgamma(b)\u001b[39;00m\n\u001b[1;32m    124\u001b[0m \u001b[38;5;66;03m#for w, c in zip(w_s, c_s): v *= ctx.power(w, c)\u001b[39;00m\n\u001b[0;32m--> 125\u001b[0m v \u001b[38;5;241m=\u001b[39m ctx\u001b[38;5;241m.\u001b[39mfprod([\u001b[43mctx\u001b[49m\u001b[38;5;241;43m.\u001b[39;49m\u001b[43mhyper\u001b[49m\u001b[43m(\u001b[49m\u001b[43ma_s\u001b[49m\u001b[43m,\u001b[49m\u001b[43m \u001b[49m\u001b[43mb_s\u001b[49m\u001b[43m,\u001b[49m\u001b[43m \u001b[49m\u001b[43mz\u001b[49m\u001b[43m,\u001b[49m\u001b[43m \u001b[49m\u001b[38;5;241;43m*\u001b[39;49m\u001b[38;5;241;43m*\u001b[39;49m\u001b[43mkwargs\u001b[49m\u001b[43m)\u001b[49m] \u001b[38;5;241m+\u001b[39m \\\n\u001b[1;32m    126\u001b[0m     [ctx\u001b[38;5;241m.\u001b[39mgamma(a) \u001b[38;5;28;01mfor\u001b[39;00m a \u001b[38;5;129;01min\u001b[39;00m alpha_s] \u001b[38;5;241m+\u001b[39m \\\n\u001b[1;32m    127\u001b[0m     [ctx\u001b[38;5;241m.\u001b[39mrgamma(b) \u001b[38;5;28;01mfor\u001b[39;00m b \u001b[38;5;129;01min\u001b[39;00m beta_s] \u001b[38;5;241m+\u001b[39m \\\n\u001b[1;32m    128\u001b[0m     [ctx\u001b[38;5;241m.\u001b[39mpower(w,c) \u001b[38;5;28;01mfor\u001b[39;00m (w,c) \u001b[38;5;129;01min\u001b[39;00m \u001b[38;5;28mzip\u001b[39m(w_s,c_s)])\n\u001b[1;32m    129\u001b[0m \u001b[38;5;28;01mif\u001b[39;00m verbose:\n\u001b[1;32m    130\u001b[0m     \u001b[38;5;28mprint\u001b[39m(\u001b[38;5;124m\"\u001b[39m\u001b[38;5;124m    Value:\u001b[39m\u001b[38;5;124m\"\u001b[39m, v)\n",
      "File \u001b[0;32m~/.local/lib/python3.10/site-packages/mpmath/functions/hypergeometric.py:223\u001b[0m, in \u001b[0;36mhyper\u001b[0;34m(ctx, a_s, b_s, z, **kwargs)\u001b[0m\n\u001b[1;32m    221\u001b[0m \u001b[38;5;28;01melif\u001b[39;00m p \u001b[38;5;241m==\u001b[39m \u001b[38;5;241m1\u001b[39m:\n\u001b[1;32m    222\u001b[0m     \u001b[38;5;28;01mif\u001b[39;00m   q \u001b[38;5;241m==\u001b[39m \u001b[38;5;241m1\u001b[39m: \u001b[38;5;28;01mreturn\u001b[39;00m ctx\u001b[38;5;241m.\u001b[39m_hyp1f1(a_s, b_s, z, \u001b[38;5;241m*\u001b[39m\u001b[38;5;241m*\u001b[39mkwargs)\n\u001b[0;32m--> 223\u001b[0m     \u001b[38;5;28;01melif\u001b[39;00m q \u001b[38;5;241m==\u001b[39m \u001b[38;5;241m2\u001b[39m: \u001b[38;5;28;01mreturn\u001b[39;00m \u001b[43mctx\u001b[49m\u001b[38;5;241;43m.\u001b[39;49m\u001b[43m_hyp1f2\u001b[49m\u001b[43m(\u001b[49m\u001b[43ma_s\u001b[49m\u001b[43m,\u001b[49m\u001b[43m \u001b[49m\u001b[43mb_s\u001b[49m\u001b[43m,\u001b[49m\u001b[43m \u001b[49m\u001b[43mz\u001b[49m\u001b[43m,\u001b[49m\u001b[43m \u001b[49m\u001b[38;5;241;43m*\u001b[39;49m\u001b[38;5;241;43m*\u001b[39;49m\u001b[43mkwargs\u001b[49m\u001b[43m)\u001b[49m\n\u001b[1;32m    224\u001b[0m     \u001b[38;5;28;01melif\u001b[39;00m q \u001b[38;5;241m==\u001b[39m \u001b[38;5;241m0\u001b[39m: \u001b[38;5;28;01mreturn\u001b[39;00m ctx\u001b[38;5;241m.\u001b[39m_hyp1f0(a_s[\u001b[38;5;241m0\u001b[39m][\u001b[38;5;241m0\u001b[39m], z)\n\u001b[1;32m    225\u001b[0m \u001b[38;5;28;01melif\u001b[39;00m p \u001b[38;5;241m==\u001b[39m \u001b[38;5;241m2\u001b[39m:\n",
      "File \u001b[0;32m~/.local/lib/python3.10/site-packages/mpmath/functions/hypergeometric.py:823\u001b[0m, in \u001b[0;36m_hyp1f2\u001b[0;34m(ctx, a_s, b_s, z, **kwargs)\u001b[0m\n\u001b[1;32m    820\u001b[0m orig \u001b[38;5;241m=\u001b[39m ctx\u001b[38;5;241m.\u001b[39mprec\n\u001b[1;32m    822\u001b[0m \u001b[38;5;66;03m# Asymptotic expansion is ~ exp(sqrt(z))\u001b[39;00m\n\u001b[0;32m--> 823\u001b[0m asymp_extraprec \u001b[38;5;241m=\u001b[39m z \u001b[38;5;129;01mand\u001b[39;00m \u001b[43mmagz\u001b[49m\u001b[38;5;241;43m/\u001b[39;49m\u001b[38;5;241;43m/\u001b[39;49m\u001b[38;5;241;43m2\u001b[39;49m\n\u001b[1;32m    825\u001b[0m \u001b[38;5;66;03m# Asymptotic series is in terms of 3F0\u001b[39;00m\n\u001b[1;32m    826\u001b[0m can_use_asymptotic \u001b[38;5;241m=\u001b[39m (\u001b[38;5;129;01mnot\u001b[39;00m kwargs\u001b[38;5;241m.\u001b[39mget(\u001b[38;5;124m'\u001b[39m\u001b[38;5;124mforce_series\u001b[39m\u001b[38;5;124m'\u001b[39m)) \u001b[38;5;129;01mand\u001b[39;00m \\\n\u001b[1;32m    827\u001b[0m     (ctx\u001b[38;5;241m.\u001b[39mmag(absz) \u001b[38;5;241m>\u001b[39m \u001b[38;5;241m19\u001b[39m) \u001b[38;5;129;01mand\u001b[39;00m \\\n\u001b[1;32m    828\u001b[0m     (ctx\u001b[38;5;241m.\u001b[39msqrt(absz) \u001b[38;5;241m>\u001b[39m \u001b[38;5;241m1.5\u001b[39m\u001b[38;5;241m*\u001b[39morig)  \u001b[38;5;66;03m# and \\\u001b[39;00m\n",
      "\u001b[0;31mTypeError\u001b[0m: unsupported operand type(s) for //: 'mpf' and 'int'"
     ]
    }
   ],
   "source": [
    "from mpmath import meijerg, mpf\n",
    "from scipy.special import gamma\n",
    "import numpy as np\n",
    "\n",
    "alpha = 4.\n",
    "beta = 2.\n",
    "zeta = 5.2\n",
    "gamma2 = 80.\n",
    "D = 5.\n",
    "A = zeta**2/(2*gamma(alpha)*gamma(beta))\n",
    "\n",
    "def calculate_pdf(gamma1):\n",
    "    z = D * (gamma1 / gamma2)**0.5\n",
    "    pdf = A / gamma1 * float(meijerg([[], [zeta**2+1]], [[zeta**2, alpha, beta], []], z))\n",
    "    return pdf\n",
    "\n",
    "gamma1_values = np.linspace(-100., 100., 1000)\n",
    "pdf_values = []\n",
    "\n",
    "for gamma1 in gamma1_values:\n",
    "    pdf = calculate_pdf(gamma1)\n",
    "    pdf_values.append(pdf)"
   ]
  },
  {
   "cell_type": "code",
   "execution_count": 9,
   "id": "37010560",
   "metadata": {
    "ExecuteTime": {
     "end_time": "2023-10-21T11:33:38.455200Z",
     "start_time": "2023-10-21T11:33:38.449138Z"
    }
   },
   "outputs": [
    {
     "data": {
      "text/plain": [
       "0.6931471805599453"
      ]
     },
     "execution_count": 9,
     "metadata": {},
     "output_type": "execute_result"
    }
   ],
   "source": [
    "float(meijerg([[1,1],[]], [[1],[0]], z=1.))"
   ]
  },
  {
   "cell_type": "code",
   "execution_count": null,
   "id": "4cd3b0c5",
   "metadata": {},
   "outputs": [],
   "source": []
  }
 ],
 "metadata": {
  "hide_input": false,
  "kernelspec": {
   "display_name": "Python 3",
   "language": "python",
   "name": "python3"
  },
  "language_info": {
   "codemirror_mode": {
    "name": "ipython",
    "version": 3
   },
   "file_extension": ".py",
   "mimetype": "text/x-python",
   "name": "python",
   "nbconvert_exporter": "python",
   "pygments_lexer": "ipython3",
   "version": "3.10.6"
  },
  "toc": {
   "base_numbering": 1,
   "nav_menu": {},
   "number_sections": true,
   "sideBar": true,
   "skip_h1_title": false,
   "title_cell": "Table of Contents",
   "title_sidebar": "Contents",
   "toc_cell": false,
   "toc_position": {},
   "toc_section_display": true,
   "toc_window_display": false
  },
  "varInspector": {
   "cols": {
    "lenName": 16,
    "lenType": 16,
    "lenVar": 40
   },
   "kernels_config": {
    "python": {
     "delete_cmd_postfix": "",
     "delete_cmd_prefix": "del ",
     "library": "var_list.py",
     "varRefreshCmd": "print(var_dic_list())"
    },
    "r": {
     "delete_cmd_postfix": ") ",
     "delete_cmd_prefix": "rm(",
     "library": "var_list.r",
     "varRefreshCmd": "cat(var_dic_list()) "
    }
   },
   "types_to_exclude": [
    "module",
    "function",
    "builtin_function_or_method",
    "instance",
    "_Feature"
   ],
   "window_display": false
  }
 },
 "nbformat": 4,
 "nbformat_minor": 5
}
