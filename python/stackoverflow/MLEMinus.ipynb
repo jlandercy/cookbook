{
 "cells": [
  {
   "cell_type": "markdown",
   "id": "618bf3e3",
   "metadata": {},
   "source": [
    "https://stackoverflow.com/questions/77878617/desired-error-not-necessarily-achieved-due-to-precision-loss-novice"
   ]
  },
  {
   "cell_type": "code",
   "execution_count": 1,
   "id": "5e006133",
   "metadata": {
    "ExecuteTime": {
     "end_time": "2024-01-25T15:38:38.647870Z",
     "start_time": "2024-01-25T15:38:36.830288Z"
    }
   },
   "outputs": [],
   "source": [
    "import numpy as np\n",
    "from scipy import stats, optimize"
   ]
  },
  {
   "cell_type": "code",
   "execution_count": 2,
   "id": "355e1fd5",
   "metadata": {
    "ExecuteTime": {
     "end_time": "2024-01-25T15:38:38.656234Z",
     "start_time": "2024-01-25T15:38:38.652253Z"
    }
   },
   "outputs": [],
   "source": [
    "original_data = np.array([0.916666, 1, 3.3, 3.38333, 3.68333, 4.16667, 4.2, 6.08333, 6.61667, 7.03333, 7.5, 7.85, 8.15, 9.08333, 9.35, 10.0833, 10.1833, 10.4333, 11.2833, 14.2, 16.5333, 20.0333, 23.8333, 30.35, 30.5167, 32.4667, 37.1, 40.8167, 45.6, 52, 70.0667, 70.5333, 85.2333, 130.967])"
   ]
  },
  {
   "cell_type": "code",
   "execution_count": 3,
   "id": "a8e224cc",
   "metadata": {
    "ExecuteTime": {
     "end_time": "2024-01-25T15:38:38.662411Z",
     "start_time": "2024-01-25T15:38:38.658542Z"
    }
   },
   "outputs": [],
   "source": [
    "p = [1.0603278885766216, -0.04671203840594998, 10.230045114772532]"
   ]
  },
  {
   "cell_type": "code",
   "execution_count": 4,
   "id": "11d5101b",
   "metadata": {
    "ExecuteTime": {
     "end_time": "2024-01-25T15:38:38.670768Z",
     "start_time": "2024-01-25T15:38:38.666467Z"
    }
   },
   "outputs": [],
   "source": [
    "X = stats.loglaplace(c=p[0], loc=p[1], scale=p[2])"
   ]
  },
  {
   "cell_type": "code",
   "execution_count": 19,
   "id": "9de9b6d3",
   "metadata": {
    "ExecuteTime": {
     "end_time": "2024-01-25T15:39:46.979169Z",
     "start_time": "2024-01-25T15:39:46.972940Z"
    }
   },
   "outputs": [],
   "source": [
    "np.random.seed(123456)\n",
    "data = X.rvs(3000)"
   ]
  },
  {
   "cell_type": "code",
   "execution_count": 20,
   "id": "31797674",
   "metadata": {
    "ExecuteTime": {
     "end_time": "2024-01-25T15:39:47.113420Z",
     "start_time": "2024-01-25T15:39:47.103691Z"
    }
   },
   "outputs": [
    {
     "data": {
      "text/plain": [
       "array([  2.76179973, 131.68300646,   5.48409115, ...,   7.66859531,\n",
       "         4.83534829,   1.30112207])"
      ]
     },
     "execution_count": 20,
     "metadata": {},
     "output_type": "execute_result"
    }
   ],
   "source": [
    "data"
   ]
  },
  {
   "cell_type": "code",
   "execution_count": 27,
   "id": "623deb80",
   "metadata": {
    "ExecuteTime": {
     "end_time": "2024-01-25T15:40:13.650202Z",
     "start_time": "2024-01-25T15:40:13.645698Z"
    }
   },
   "outputs": [],
   "source": [
    "def likelihood(params, data):\n",
    "    c, loc, scale = params\n",
    "    return - stats.loglaplace.logpdf(data, c=c, loc=loc, scale=scale).sum()"
   ]
  },
  {
   "cell_type": "code",
   "execution_count": 40,
   "id": "635fc5e4",
   "metadata": {
    "ExecuteTime": {
     "end_time": "2024-01-25T15:51:51.794060Z",
     "start_time": "2024-01-25T15:51:51.760170Z"
    }
   },
   "outputs": [
    {
     "name": "stderr",
     "output_type": "stream",
     "text": [
      "/usr/local/lib/python3.10/dist-packages/scipy/optimize/_numdiff.py:576: RuntimeWarning: invalid value encountered in subtract\n",
      "  df = fun(x) - f0\n"
     ]
    }
   ],
   "source": [
    "p0 = [1., -1., 10.]\n",
    "results = optimize.minimize(\n",
    "    likelihood, p0, args=(original_data,),\n",
    "    #bounds=[(0., np.inf), (-np.inf, np.inf), (-np.inf, np.inf)]\n",
    ")"
   ]
  },
  {
   "cell_type": "code",
   "execution_count": 41,
   "id": "0cfcda35",
   "metadata": {
    "ExecuteTime": {
     "end_time": "2024-01-25T15:51:53.064874Z",
     "start_time": "2024-01-25T15:51:53.058660Z"
    }
   },
   "outputs": [
    {
     "data": {
      "text/plain": [
       "      fun: 143.3183272859989\n",
       " hess_inv: array([[ 0.06063633, -0.27002167, -0.01566576],\n",
       "       [-0.27002167,  2.81922376,  0.21352969],\n",
       "       [-0.01566576,  0.21352969,  0.77303566]])\n",
       "      jac: array([ 0.73000717, -1.26998901, -0.43971252])\n",
       "  message: 'Desired error not necessarily achieved due to precision loss.'\n",
       "     nfev: 52\n",
       "      nit: 2\n",
       "     njev: 11\n",
       "   status: 2\n",
       "  success: False\n",
       "        x: array([ 1.12952744, -0.4226847 , 10.2751086 ])"
      ]
     },
     "execution_count": 41,
     "metadata": {},
     "output_type": "execute_result"
    }
   ],
   "source": [
    "results"
   ]
  },
  {
   "cell_type": "code",
   "execution_count": null,
   "id": "6197a4b4",
   "metadata": {},
   "outputs": [],
   "source": []
  },
  {
   "cell_type": "code",
   "execution_count": null,
   "id": "d4411de0",
   "metadata": {
    "ExecuteTime": {
     "end_time": "2024-01-25T15:41:31.394146Z",
     "start_time": "2024-01-25T15:41:30.975147Z"
    }
   },
   "outputs": [],
   "source": []
  },
  {
   "cell_type": "code",
   "execution_count": null,
   "id": "2f946d54",
   "metadata": {},
   "outputs": [],
   "source": []
  },
  {
   "cell_type": "code",
   "execution_count": null,
   "id": "1f340892",
   "metadata": {},
   "outputs": [],
   "source": []
  },
  {
   "cell_type": "code",
   "execution_count": null,
   "id": "789c4da1",
   "metadata": {},
   "outputs": [],
   "source": []
  }
 ],
 "metadata": {
  "hide_input": false,
  "kernelspec": {
   "display_name": "Python 3",
   "language": "python",
   "name": "python3"
  },
  "language_info": {
   "codemirror_mode": {
    "name": "ipython",
    "version": 3
   },
   "file_extension": ".py",
   "mimetype": "text/x-python",
   "name": "python",
   "nbconvert_exporter": "python",
   "pygments_lexer": "ipython3",
   "version": "3.10.6"
  },
  "toc": {
   "base_numbering": 1,
   "nav_menu": {},
   "number_sections": true,
   "sideBar": true,
   "skip_h1_title": false,
   "title_cell": "Table of Contents",
   "title_sidebar": "Contents",
   "toc_cell": false,
   "toc_position": {},
   "toc_section_display": true,
   "toc_window_display": false
  },
  "varInspector": {
   "cols": {
    "lenName": 16,
    "lenType": 16,
    "lenVar": 40
   },
   "kernels_config": {
    "python": {
     "delete_cmd_postfix": "",
     "delete_cmd_prefix": "del ",
     "library": "var_list.py",
     "varRefreshCmd": "print(var_dic_list())"
    },
    "r": {
     "delete_cmd_postfix": ") ",
     "delete_cmd_prefix": "rm(",
     "library": "var_list.r",
     "varRefreshCmd": "cat(var_dic_list()) "
    }
   },
   "types_to_exclude": [
    "module",
    "function",
    "builtin_function_or_method",
    "instance",
    "_Feature"
   ],
   "window_display": false
  }
 },
 "nbformat": 4,
 "nbformat_minor": 5
}
