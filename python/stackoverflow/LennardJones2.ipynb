{
 "cells": [
  {
   "cell_type": "code",
   "execution_count": 1,
   "id": "e7c0dfce",
   "metadata": {
    "ExecuteTime": {
     "end_time": "2024-03-15T16:08:01.743067Z",
     "start_time": "2024-03-15T16:07:59.333926Z"
    }
   },
   "outputs": [],
   "source": [
    "import io\n",
    "import numpy as np\n",
    "import pandas as pd\n",
    "import matplotlib.pyplot as plt\n",
    "from scipy import optimize"
   ]
  },
  {
   "cell_type": "markdown",
   "id": "a2538276",
   "metadata": {},
   "source": [
    "https://stackoverflow.com/questions/78163975/how-can-i-fit-data-to-a-lennard-jones-potential-in-gnuplot"
   ]
  },
  {
   "cell_type": "code",
   "execution_count": 2,
   "id": "c1286851",
   "metadata": {
    "ExecuteTime": {
     "end_time": "2024-03-15T16:08:01.779077Z",
     "start_time": "2024-03-15T16:08:01.746551Z"
    }
   },
   "outputs": [],
   "source": [
    "data = pd.read_csv(io.StringIO(\"\"\"1 20.6711\n",
    "1.1 12.8327\n",
    "1.2 6.70081\n",
    "1.3 2.56984\n",
    "1.4 -0.0348628\n",
    "1.5 -1.50733\n",
    "1.6 -2.21619\n",
    "1.7 -2.41084\n",
    "1.8 -2.29524\n",
    "1.9 -2.02128\n",
    "2 -1.76153\n",
    "2.1 -1.47329\n",
    "2.2 -1.21735\n",
    "2.3 -0.986853\n",
    "2.4 -0.786588\n",
    "2.5 -0.602345\n",
    "2.6 -0.442397\n",
    "2.7 -0.314293\n",
    "2.8 -0.208958\n",
    "2.9 -0.121526\n",
    "3 -0.16448\n",
    "4 -0.0488864\n",
    "5 0\n",
    "6 0.0207913\n",
    "7 0.0275973\n",
    "8 0.186272\n",
    "9 0.0402228\n",
    "10 0.0421324\"\"\"), sep=\" \", header=None, names=[\"r\", \"V\"])"
   ]
  },
  {
   "cell_type": "code",
   "execution_count": 3,
   "id": "111000f6",
   "metadata": {
    "ExecuteTime": {
     "end_time": "2024-03-15T16:08:01.803468Z",
     "start_time": "2024-03-15T16:08:01.781416Z"
    }
   },
   "outputs": [],
   "source": [
    "data[\"s\"] = 1 / (data.V**4 + 1)"
   ]
  },
  {
   "cell_type": "code",
   "execution_count": null,
   "id": "a839b92d",
   "metadata": {
    "ExecuteTime": {
     "end_time": "2024-03-15T15:59:38.714195Z",
     "start_time": "2024-03-15T15:59:38.701132Z"
    }
   },
   "outputs": [],
   "source": []
  },
  {
   "cell_type": "raw",
   "id": "1da37c0a",
   "metadata": {
    "ExecuteTime": {
     "end_time": "2024-03-15T07:01:18.161688Z",
     "start_time": "2024-03-15T07:01:18.157778Z"
    }
   },
   "source": [
    "data = data.iloc[3:-5,:]"
   ]
  },
  {
   "cell_type": "code",
   "execution_count": 4,
   "id": "e4e0d3c4",
   "metadata": {
    "ExecuteTime": {
     "end_time": "2024-03-15T16:08:01.819667Z",
     "start_time": "2024-03-15T16:08:01.808095Z"
    }
   },
   "outputs": [],
   "source": [
    "def model(r, epsilon, sigma):\n",
    "    return 4. * epsilon * (np.power(sigma / r, 12.) - np.power(sigma / r, 6.))"
   ]
  },
  {
   "cell_type": "code",
   "execution_count": 5,
   "id": "f795c7b9",
   "metadata": {
    "ExecuteTime": {
     "end_time": "2024-03-15T16:08:01.847585Z",
     "start_time": "2024-03-15T16:08:01.826433Z"
    }
   },
   "outputs": [
    {
     "data": {
      "text/plain": [
       "1.425437949024543"
      ]
     },
     "execution_count": 5,
     "metadata": {},
     "output_type": "execute_result"
    }
   ],
   "source": [
    "s = 1.6 / np.power(2, 1/6)\n",
    "s"
   ]
  },
  {
   "cell_type": "code",
   "execution_count": 6,
   "id": "c20a2bb6",
   "metadata": {
    "ExecuteTime": {
     "end_time": "2024-03-15T16:08:01.855694Z",
     "start_time": "2024-03-15T16:08:01.851652Z"
    }
   },
   "outputs": [],
   "source": [
    "p = [2.43, 1.39]"
   ]
  },
  {
   "cell_type": "code",
   "execution_count": 7,
   "id": "317635b3",
   "metadata": {
    "ExecuteTime": {
     "end_time": "2024-03-15T16:08:11.259158Z",
     "start_time": "2024-03-15T16:08:01.860311Z"
    }
   },
   "outputs": [
    {
     "data": {
      "text/plain": [
       "(array([6.55356455e-11, 8.09366946e+00]),\n",
       " array([[3.30795891e-25, 3.21421023e-35],\n",
       "        [3.21421023e-35, 3.12311842e-45]]))"
      ]
     },
     "execution_count": 7,
     "metadata": {},
     "output_type": "execute_result"
    }
   ],
   "source": [
    "popt, pcov = optimize.curve_fit(\n",
    "    model, data.r, data.V, sigma=data.s, p0=p,\n",
    "    max_nfev=3000, bounds=[(0., 0.), (np.inf, np.inf)]\n",
    ")\n",
    "popt, pcov"
   ]
  },
  {
   "cell_type": "code",
   "execution_count": null,
   "id": "56c3254b",
   "metadata": {},
   "outputs": [],
   "source": []
  },
  {
   "cell_type": "code",
   "execution_count": 8,
   "id": "fbcd0801",
   "metadata": {
    "ExecuteTime": {
     "end_time": "2024-03-15T16:08:11.270517Z",
     "start_time": "2024-03-15T16:08:11.264802Z"
    }
   },
   "outputs": [],
   "source": [
    "def factory(x, y):\n",
    "    def wrapped(p):\n",
    "        return y - model(x, *p)\n",
    "    return wrapped"
   ]
  },
  {
   "cell_type": "code",
   "execution_count": null,
   "id": "c3f0ab29",
   "metadata": {},
   "outputs": [],
   "source": []
  },
  {
   "cell_type": "code",
   "execution_count": null,
   "id": "ec1ddc48",
   "metadata": {},
   "outputs": [],
   "source": []
  },
  {
   "cell_type": "code",
   "execution_count": 9,
   "id": "2cda86e6",
   "metadata": {
    "ExecuteTime": {
     "end_time": "2024-03-15T16:08:11.280693Z",
     "start_time": "2024-03-15T16:08:11.274223Z"
    }
   },
   "outputs": [],
   "source": [
    "residuals = factory(data.r.values, data.V.values)"
   ]
  },
  {
   "cell_type": "code",
   "execution_count": 10,
   "id": "7454baa1",
   "metadata": {
    "ExecuteTime": {
     "end_time": "2024-03-15T16:08:11.322290Z",
     "start_time": "2024-03-15T16:08:11.287705Z"
    }
   },
   "outputs": [],
   "source": [
    "sol = optimize.least_squares(residuals, x0=p, loss=\"cauchy\", bounds=[(0, 0), (np.inf, np.inf)])"
   ]
  },
  {
   "cell_type": "code",
   "execution_count": null,
   "id": "8abd0d2f",
   "metadata": {},
   "outputs": [],
   "source": []
  },
  {
   "cell_type": "code",
   "execution_count": null,
   "id": "956569cc",
   "metadata": {},
   "outputs": [],
   "source": []
  },
  {
   "cell_type": "code",
   "execution_count": 11,
   "id": "a804c198",
   "metadata": {
    "ExecuteTime": {
     "end_time": "2024-03-15T16:08:11.332415Z",
     "start_time": "2024-03-15T16:08:11.325637Z"
    }
   },
   "outputs": [],
   "source": [
    "rlin = np.linspace(data.r.min(), data.r.max(), 201)\n",
    "yhat = model(rlin, *popt)"
   ]
  },
  {
   "cell_type": "code",
   "execution_count": 12,
   "id": "9dbcf4c8",
   "metadata": {
    "ExecuteTime": {
     "end_time": "2024-03-15T16:08:11.340029Z",
     "start_time": "2024-03-15T16:08:11.335903Z"
    }
   },
   "outputs": [],
   "source": [
    "yg = model(rlin, *p)"
   ]
  },
  {
   "cell_type": "code",
   "execution_count": 13,
   "id": "7b454016",
   "metadata": {
    "ExecuteTime": {
     "end_time": "2024-03-15T16:08:11.345939Z",
     "start_time": "2024-03-15T16:08:11.342609Z"
    }
   },
   "outputs": [],
   "source": [
    "yhat2 = model(rlin, *sol.x)"
   ]
  },
  {
   "cell_type": "code",
   "execution_count": 14,
   "id": "c436bf16",
   "metadata": {
    "ExecuteTime": {
     "end_time": "2024-03-15T16:08:11.659541Z",
     "start_time": "2024-03-15T16:08:11.348391Z"
    }
   },
   "outputs": [
    {
     "data": {
      "image/png": "[encoded data removed]",
      "text/plain": [
       "<Figure size 640x480 with 1 Axes>"
      ]
     },
     "metadata": {},
     "output_type": "display_data"
    }
   ],
   "source": [
    "fig, axe = plt.subplots()\n",
    "axe.plot(data.r, data.V)\n",
    "axe.plot(rlin, yhat)\n",
    "axe.plot(rlin, yg)\n",
    "axe.plot(rlin, yhat2)\n",
    "axe.set_ylim([-3, 25])\n",
    "axe.grid()"
   ]
  },
  {
   "cell_type": "code",
   "execution_count": null,
   "id": "a4d27cf6",
   "metadata": {
    "ExecuteTime": {
     "end_time": "2024-03-15T16:08:11.678055Z",
     "start_time": "2024-03-15T16:08:11.665765Z"
    }
   },
   "outputs": [],
   "source": []
  },
  {
   "cell_type": "code",
   "execution_count": null,
   "id": "0a097a62",
   "metadata": {},
   "outputs": [],
   "source": []
  },
  {
   "cell_type": "code",
   "execution_count": null,
   "id": "59d1bcdc",
   "metadata": {},
   "outputs": [],
   "source": []
  }
 ],
 "metadata": {
  "hide_input": false,
  "kernelspec": {
   "display_name": "Python 3",
   "language": "python",
   "name": "python3"
  },
  "language_info": {
   "codemirror_mode": {
    "name": "ipython",
    "version": 3
   },
   "file_extension": ".py",
   "mimetype": "text/x-python",
   "name": "python",
   "nbconvert_exporter": "python",
   "pygments_lexer": "ipython3",
   "version": "3.10.6"
  },
  "toc": {
   "base_numbering": 1,
   "nav_menu": {},
   "number_sections": true,
   "sideBar": true,
   "skip_h1_title": false,
   "title_cell": "Table of Contents",
   "title_sidebar": "Contents",
   "toc_cell": false,
   "toc_position": {},
   "toc_section_display": true,
   "toc_window_display": false
  },
  "varInspector": {
   "cols": {
    "lenName": 16,
    "lenType": 16,
    "lenVar": 40
   },
   "kernels_config": {
    "python": {
     "delete_cmd_postfix": "",
     "delete_cmd_prefix": "del ",
     "library": "var_list.py",
     "varRefreshCmd": "print(var_dic_list())"
    },
    "r": {
     "delete_cmd_postfix": ") ",
     "delete_cmd_prefix": "rm(",
     "library": "var_list.r",
     "varRefreshCmd": "cat(var_dic_list()) "
    }
   },
   "types_to_exclude": [
    "module",
    "function",
    "builtin_function_or_method",
    "instance",
    "_Feature"
   ],
   "window_display": false
  }
 },
 "nbformat": 4,
 "nbformat_minor": 5
}
