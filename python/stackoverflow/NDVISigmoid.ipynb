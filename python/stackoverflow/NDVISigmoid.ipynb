{
 "cells": [
  {
   "cell_type": "code",
   "execution_count": 2,
   "id": "835646da",
   "metadata": {
    "ExecuteTime": {
     "end_time": "2023-12-12T14:32:16.369485Z",
     "start_time": "2023-12-12T14:32:14.635743Z"
    }
   },
   "outputs": [],
   "source": [
    "import numpy as np\n",
    "import matplotlib.pyplot as plt\n",
    "from scipy import optimize"
   ]
  },
  {
   "cell_type": "markdown",
   "id": "96203f22",
   "metadata": {},
   "source": [
    "https://stackoverflow.com/questions/77639914/ndvi-double-logistic-curve-fitting-in-python"
   ]
  },
  {
   "cell_type": "code",
   "execution_count": 3,
   "id": "a2db43a1",
   "metadata": {
    "ExecuteTime": {
     "end_time": "2023-12-12T14:32:16.410101Z",
     "start_time": "2023-12-12T14:32:16.396489Z"
    }
   },
   "outputs": [],
   "source": [
    "def model(t, wNDVI, mNDVI, S, A, mS, mA):\n",
    "    sigmoid1 = 1 / (1 + np.exp(-mS * (t - S)))\n",
    "    sigmoid2 = 1 / (1 + np.exp( mA * (t - A)))\n",
    "    seasonal_term = sigmoid1 + sigmoid2 - 1\n",
    "    return wNDVI + (mNDVI - wNDVI) * seasonal_term\n",
    "\n",
    "def weights(t, wNDVI, mNDVI, S, A, mS, mA, r):\n",
    "    tr = 100 * (t - S) / (A - S)\n",
    "    tr = np.clip(tr, 0, 100)\n",
    "    return np.exp(-np.abs(r) / (1 + tr / 10))"
   ]
  },
  {
   "cell_type": "code",
   "execution_count": 12,
   "id": "c1d94d5d",
   "metadata": {
    "ExecuteTime": {
     "end_time": "2023-12-12T14:33:21.079581Z",
     "start_time": "2023-12-12T14:33:21.019660Z"
    }
   },
   "outputs": [],
   "source": [
    "t = np.array([30, 60, 90, 120, 150, 180, 210, 240, 270]) / 365\n",
    "y = np.array([0.58, 0.583, 0.713, 0.807, 0.832, 0.878, 0.886, 0.863, 0.717])"
   ]
  },
  {
   "cell_type": "code",
   "execution_count": 13,
   "id": "03301981",
   "metadata": {
    "ExecuteTime": {
     "end_time": "2023-12-12T14:33:21.355583Z",
     "start_time": "2023-12-12T14:33:21.349850Z"
    }
   },
   "outputs": [],
   "source": [
    "p0 = [np.min(y), np.max(y), np.mean(t), np.mean(t), 1., 1.]"
   ]
  },
  {
   "cell_type": "code",
   "execution_count": null,
   "id": "e180efda",
   "metadata": {},
   "outputs": [],
   "source": []
  },
  {
   "cell_type": "code",
   "execution_count": 14,
   "id": "da753fda",
   "metadata": {
    "ExecuteTime": {
     "end_time": "2023-12-12T14:33:22.000991Z",
     "start_time": "2023-12-12T14:33:21.950961Z"
    }
   },
   "outputs": [
    {
     "name": "stderr",
     "output_type": "stream",
     "text": [
      "/tmp/ipykernel_3651/4125714048.py:2: RuntimeWarning: overflow encountered in exp\n",
      "  sigmoid1 = 1 / (1 + np.exp(-mS * (t - S)))\n",
      "/tmp/ipykernel_3651/4125714048.py:3: RuntimeWarning: overflow encountered in exp\n",
      "  sigmoid2 = 1 / (1 + np.exp( mA * (t - A)))\n"
     ]
    },
    {
     "data": {
      "text/plain": [
       "array([ 0.55389364,  0.87556035,  0.25739924,  0.7404308 , 17.85264497,\n",
       "       39.94634541])"
      ]
     },
     "execution_count": 14,
     "metadata": {},
     "output_type": "execute_result"
    }
   ],
   "source": [
    "popt, pcov = optimize.curve_fit(model, t, y, p0=p0)\n",
    "popt"
   ]
  },
  {
   "cell_type": "code",
   "execution_count": 15,
   "id": "0c3d9cdc",
   "metadata": {
    "ExecuteTime": {
     "end_time": "2023-12-12T14:33:22.104098Z",
     "start_time": "2023-12-12T14:33:22.100373Z"
    }
   },
   "outputs": [],
   "source": [
    "yhat = model(t, *popt)"
   ]
  },
  {
   "cell_type": "code",
   "execution_count": 16,
   "id": "136cc9a2",
   "metadata": {
    "ExecuteTime": {
     "end_time": "2023-12-12T14:33:24.309612Z",
     "start_time": "2023-12-12T14:33:24.304164Z"
    }
   },
   "outputs": [
    {
     "name": "stderr",
     "output_type": "stream",
     "text": [
      "/tmp/ipykernel_3651/4125714048.py:8: RuntimeWarning: divide by zero encountered in divide\n",
      "  tr = 100 * (t - S) / (A - S)\n"
     ]
    }
   ],
   "source": [
    "sigma = weights(t, *p0, np.abs(y - yhat))"
   ]
  },
  {
   "cell_type": "code",
   "execution_count": 17,
   "id": "a994d5b3",
   "metadata": {
    "ExecuteTime": {
     "end_time": "2023-12-12T14:33:24.999500Z",
     "start_time": "2023-12-12T14:33:24.993802Z"
    }
   },
   "outputs": [
    {
     "data": {
      "text/plain": [
       "array([0.98747321, 0.977987  , 0.98633013, 0.99825989, 0.97621163,\n",
       "       0.99934862, 0.99891173, 0.99991004, 0.99999384])"
      ]
     },
     "execution_count": 17,
     "metadata": {},
     "output_type": "execute_result"
    }
   ],
   "source": [
    "sigma"
   ]
  },
  {
   "cell_type": "code",
   "execution_count": 18,
   "id": "725df53f",
   "metadata": {
    "ExecuteTime": {
     "end_time": "2023-12-12T14:33:25.457807Z",
     "start_time": "2023-12-12T14:33:25.454325Z"
    }
   },
   "outputs": [],
   "source": [
    "tlin = np.linspace(t.min(), t.max(), 200)"
   ]
  },
  {
   "cell_type": "code",
   "execution_count": 19,
   "id": "7d2edad2",
   "metadata": {
    "ExecuteTime": {
     "end_time": "2023-12-12T14:33:25.876781Z",
     "start_time": "2023-12-12T14:33:25.592111Z"
    }
   },
   "outputs": [
    {
     "data": {
      "image/png": "[encoded data removed]",
      "text/plain": [
       "<Figure size 640x480 with 1 Axes>"
      ]
     },
     "metadata": {},
     "output_type": "display_data"
    }
   ],
   "source": [
    "fig, axe = plt.subplots()\n",
    "axe.scatter(t, y)\n",
    "axe.plot(tlin, model(tlin, *popt))\n",
    "axe.grid()"
   ]
  },
  {
   "cell_type": "code",
   "execution_count": null,
   "id": "c5943428",
   "metadata": {},
   "outputs": [],
   "source": []
  },
  {
   "cell_type": "code",
   "execution_count": null,
   "id": "cb1e9b5c",
   "metadata": {},
   "outputs": [],
   "source": []
  },
  {
   "cell_type": "code",
   "execution_count": null,
   "id": "0ac3d4ec",
   "metadata": {},
   "outputs": [],
   "source": []
  },
  {
   "cell_type": "code",
   "execution_count": null,
   "id": "23c0ce2a",
   "metadata": {},
   "outputs": [],
   "source": []
  }
 ],
 "metadata": {
  "hide_input": false,
  "kernelspec": {
   "display_name": "Python 3",
   "language": "python",
   "name": "python3"
  },
  "language_info": {
   "codemirror_mode": {
    "name": "ipython",
    "version": 3
   },
   "file_extension": ".py",
   "mimetype": "text/x-python",
   "name": "python",
   "nbconvert_exporter": "python",
   "pygments_lexer": "ipython3",
   "version": "3.10.6"
  },
  "toc": {
   "base_numbering": 1,
   "nav_menu": {},
   "number_sections": true,
   "sideBar": true,
   "skip_h1_title": false,
   "title_cell": "Table of Contents",
   "title_sidebar": "Contents",
   "toc_cell": false,
   "toc_position": {},
   "toc_section_display": true,
   "toc_window_display": false
  },
  "varInspector": {
   "cols": {
    "lenName": 16,
    "lenType": 16,
    "lenVar": 40
   },
   "kernels_config": {
    "python": {
     "delete_cmd_postfix": "",
     "delete_cmd_prefix": "del ",
     "library": "var_list.py",
     "varRefreshCmd": "print(var_dic_list())"
    },
    "r": {
     "delete_cmd_postfix": ") ",
     "delete_cmd_prefix": "rm(",
     "library": "var_list.r",
     "varRefreshCmd": "cat(var_dic_list()) "
    }
   },
   "types_to_exclude": [
    "module",
    "function",
    "builtin_function_or_method",
    "instance",
    "_Feature"
   ],
   "window_display": false
  }
 },
 "nbformat": 4,
 "nbformat_minor": 5
}
