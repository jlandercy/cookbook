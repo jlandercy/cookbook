{
 "cells": [
  {
   "cell_type": "markdown",
   "id": "4b5ec15b",
   "metadata": {},
   "source": [
    "https://stackoverflow.com/questions/79067652/gamma-function-fitting-optimizewarning-covariance-of-the-parameters-could-not-b"
   ]
  },
  {
   "cell_type": "code",
   "execution_count": 1,
   "id": "6a361b5d",
   "metadata": {
    "ExecuteTime": {
     "end_time": "2024-10-09T10:07:56.972364Z",
     "start_time": "2024-10-09T10:07:54.926238Z"
    }
   },
   "outputs": [],
   "source": [
    "import numpy as np\n",
    "import matplotlib.pyplot as plt\n",
    "from scipy import stats, optimize"
   ]
  },
  {
   "cell_type": "code",
   "execution_count": null,
   "id": "fc7f98a4",
   "metadata": {},
   "outputs": [],
   "source": []
  },
  {
   "cell_type": "code",
   "execution_count": 12,
   "id": "fd0037f0",
   "metadata": {
    "ExecuteTime": {
     "end_time": "2024-10-09T10:09:49.907404Z",
     "start_time": "2024-10-09T10:09:49.870265Z"
    }
   },
   "outputs": [],
   "source": [
    "law = stats.gamma(a=1.5, scale=0.8)\n",
    "data = law.rvs(1_000)"
   ]
  },
  {
   "cell_type": "code",
   "execution_count": null,
   "id": "9c644ff9",
   "metadata": {},
   "outputs": [],
   "source": []
  },
  {
   "cell_type": "code",
   "execution_count": 13,
   "id": "f3d50a99",
   "metadata": {
    "ExecuteTime": {
     "end_time": "2024-10-09T10:09:50.093655Z",
     "start_time": "2024-10-09T10:09:50.070843Z"
    }
   },
   "outputs": [],
   "source": [
    "def likelihood_factory(data):\n",
    "    def wrapped(parameters):\n",
    "        return - np.sum(stats.gamma(a=parameters[0], scale=parameters[1]).logpdf(data))\n",
    "    return wrapped"
   ]
  },
  {
   "cell_type": "code",
   "execution_count": 14,
   "id": "739844b4",
   "metadata": {
    "ExecuteTime": {
     "end_time": "2024-10-09T10:09:50.451684Z",
     "start_time": "2024-10-09T10:09:50.444919Z"
    }
   },
   "outputs": [],
   "source": [
    "likelihood = likelihood_factory(data)"
   ]
  },
  {
   "cell_type": "code",
   "execution_count": 21,
   "id": "0d58386c",
   "metadata": {
    "ExecuteTime": {
     "end_time": "2024-10-09T10:18:54.855544Z",
     "start_time": "2024-10-09T10:18:54.782845Z"
    }
   },
   "outputs": [
    {
     "data": {
      "text/plain": [
       "  message: Optimization terminated successfully.\n",
       "  success: True\n",
       "   status: 0\n",
       "      fun: 1126.2309539053672\n",
       "        x: [ 1.508e+00  7.876e-01]\n",
       "      nit: 8\n",
       "      jac: [-1.526e-05 -3.052e-05]\n",
       " hess_inv: [[ 3.781e-03 -1.978e-03]\n",
       "            [-1.978e-03  1.447e-03]]\n",
       "     nfev: 33\n",
       "     njev: 11"
      ]
     },
     "execution_count": 21,
     "metadata": {},
     "output_type": "execute_result"
    }
   ],
   "source": [
    "solution = optimize.minimize(likelihood, x0=[1., 1.], tol=1e-4)\n",
    "solution"
   ]
  },
  {
   "cell_type": "code",
   "execution_count": null,
   "id": "3b4b8dda",
   "metadata": {},
   "outputs": [],
   "source": []
  },
  {
   "cell_type": "code",
   "execution_count": 16,
   "id": "acb423f2",
   "metadata": {
    "ExecuteTime": {
     "end_time": "2024-10-09T10:09:51.003578Z",
     "start_time": "2024-10-09T10:09:50.998060Z"
    }
   },
   "outputs": [],
   "source": [
    "xlin = np.linspace(data.min(), data.max(), 200)"
   ]
  },
  {
   "cell_type": "code",
   "execution_count": 17,
   "id": "2917dd7f",
   "metadata": {
    "ExecuteTime": {
     "end_time": "2024-10-09T10:09:51.542869Z",
     "start_time": "2024-10-09T10:09:51.184736Z"
    }
   },
   "outputs": [
    {
     "data": {
      "image/png": "[encoded data removed]",
      "text/plain": [
       "<Figure size 640x480 with 1 Axes>"
      ]
     },
     "metadata": {},
     "output_type": "display_data"
    }
   ],
   "source": [
    "fig, axe = plt.subplots()\n",
    "axe.hist(data, density=1.)\n",
    "axe.plot(xlin, stats.gamma(a=solution.x[0], scale=solution.x[1]).pdf(xlin))\n",
    "axe.grid()"
   ]
  },
  {
   "cell_type": "code",
   "execution_count": null,
   "id": "da2e0706",
   "metadata": {},
   "outputs": [],
   "source": []
  },
  {
   "cell_type": "code",
   "execution_count": null,
   "id": "cd918ff2",
   "metadata": {},
   "outputs": [],
   "source": []
  }
 ],
 "metadata": {
  "hide_input": false,
  "kernelspec": {
   "display_name": "Python 3",
   "language": "python",
   "name": "python3"
  },
  "language_info": {
   "codemirror_mode": {
    "name": "ipython",
    "version": 3
   },
   "file_extension": ".py",
   "mimetype": "text/x-python",
   "name": "python",
   "nbconvert_exporter": "python",
   "pygments_lexer": "ipython3",
   "version": "3.10.6"
  },
  "toc": {
   "base_numbering": 1,
   "nav_menu": {},
   "number_sections": true,
   "sideBar": true,
   "skip_h1_title": false,
   "title_cell": "Table of Contents",
   "title_sidebar": "Contents",
   "toc_cell": false,
   "toc_position": {},
   "toc_section_display": true,
   "toc_window_display": false
  },
  "varInspector": {
   "cols": {
    "lenName": 16,
    "lenType": 16,
    "lenVar": 40
   },
   "kernels_config": {
    "python": {
     "delete_cmd_postfix": "",
     "delete_cmd_prefix": "del ",
     "library": "var_list.py",
     "varRefreshCmd": "print(var_dic_list())"
    },
    "r": {
     "delete_cmd_postfix": ") ",
     "delete_cmd_prefix": "rm(",
     "library": "var_list.r",
     "varRefreshCmd": "cat(var_dic_list()) "
    }
   },
   "types_to_exclude": [
    "module",
    "function",
    "builtin_function_or_method",
    "instance",
    "_Feature"
   ],
   "window_display": false
  }
 },
 "nbformat": 4,
 "nbformat_minor": 5
}
