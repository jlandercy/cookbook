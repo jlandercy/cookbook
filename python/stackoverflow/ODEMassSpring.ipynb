{
 "cells": [
  {
   "cell_type": "markdown",
   "metadata": {},
   "source": [
    "$$\n",
    "m x'' + bx' + kx = f(x,t)\n",
    "$$\n",
    "\n",
    " - $m$, mass\n",
    " - $b$, friction coefficient\n",
    " - $k$, spring stiffness coefficient\n",
    " - $f$, excitation function\n",
    " \n",
    "$$\n",
    "x_1 = x_0', c_0 x_1' + c_1 x_1 + c_2 x_0 = f(t, x_0, x_1)\n",
    "$$"
   ]
  },
  {
   "cell_type": "code",
   "execution_count": 1,
   "metadata": {
    "ExecuteTime": {
     "end_time": "2020-10-10T12:19:00.591601Z",
     "start_time": "2020-10-10T12:18:59.399576Z"
    }
   },
   "outputs": [],
   "source": [
    "import numpy as np\n",
    "from scipy.integrate import solve_ivp\n",
    "import matplotlib.pyplot as plt"
   ]
  },
  {
   "cell_type": "code",
   "execution_count": 2,
   "metadata": {
    "ExecuteTime": {
     "end_time": "2020-10-10T12:19:00.630972Z",
     "start_time": "2020-10-10T12:19:00.615635Z"
    }
   },
   "outputs": [],
   "source": [
    "def coefs(t, x, c):\n",
    "    return c"
   ]
  },
  {
   "cell_type": "code",
   "execution_count": 3,
   "metadata": {
    "ExecuteTime": {
     "end_time": "2020-10-10T12:19:00.689366Z",
     "start_time": "2020-10-10T12:19:00.667638Z"
    }
   },
   "outputs": [],
   "source": [
    "def system(t, x, c, f):\n",
    "    c = coefs(t, x, c)\n",
    "    return [\n",
    "        (f(t, x) - c[1]*x[1] - c[2]*x[0])/c[0],\n",
    "        x[0]\n",
    "    ]"
   ]
  },
  {
   "cell_type": "code",
   "execution_count": 4,
   "metadata": {
    "ExecuteTime": {
     "end_time": "2020-10-10T12:19:00.714867Z",
     "start_time": "2020-10-10T12:19:00.707460Z"
    }
   },
   "outputs": [],
   "source": [
    "def source(t, x):\n",
    "    return 0.1*np.sin(7*t + np.pi/3)"
   ]
  },
  {
   "cell_type": "code",
   "execution_count": 5,
   "metadata": {
    "ExecuteTime": {
     "end_time": "2020-10-10T12:19:00.753447Z",
     "start_time": "2020-10-10T12:19:00.732096Z"
    }
   },
   "outputs": [],
   "source": [
    "t = np.linspace(0, 20, 1001)"
   ]
  },
  {
   "cell_type": "code",
   "execution_count": 6,
   "metadata": {
    "ExecuteTime": {
     "end_time": "2020-10-10T12:19:00.775992Z",
     "start_time": "2020-10-10T12:19:00.761718Z"
    }
   },
   "outputs": [],
   "source": [
    "x0 = [0, 1]"
   ]
  },
  {
   "cell_type": "code",
   "execution_count": 7,
   "metadata": {
    "ExecuteTime": {
     "end_time": "2020-10-10T12:19:00.816445Z",
     "start_time": "2020-10-10T12:19:00.784798Z"
    }
   },
   "outputs": [],
   "source": [
    "c = [1, 0.2, 0.5]"
   ]
  },
  {
   "cell_type": "code",
   "execution_count": 8,
   "metadata": {
    "ExecuteTime": {
     "end_time": "2020-10-10T12:19:01.034447Z",
     "start_time": "2020-10-10T12:19:00.841185Z"
    }
   },
   "outputs": [],
   "source": [
    "sol = solve_ivp(system, [t[0], t[-1]], x0, args=(c, source), t_eval=t)"
   ]
  },
  {
   "cell_type": "code",
   "execution_count": 9,
   "metadata": {
    "ExecuteTime": {
     "end_time": "2020-10-10T12:19:01.163540Z",
     "start_time": "2020-10-10T12:19:01.065170Z"
    }
   },
   "outputs": [
    {
     "data": {
      "text/plain": [
       "  message: 'The solver successfully reached the end of the integration interval.'\n",
       "     nfev: 356\n",
       "     njev: 0\n",
       "      nlu: 0\n",
       "      sol: None\n",
       "   status: 0\n",
       "  success: True\n",
       "        t: array([ 0.  ,  0.02,  0.04, ..., 19.96, 19.98, 20.  ])\n",
       " t_events: None\n",
       "        y: array([[ 0.        , -0.00219255, -0.00425905, ...,  0.00900653,\n",
       "         0.00990465,  0.01054437],\n",
       "       [ 1.        ,  0.99997783,  0.99991314, ...,  0.00616658,\n",
       "         0.0063561 ,  0.00656104]])\n",
       " y_events: None"
      ]
     },
     "execution_count": 9,
     "metadata": {},
     "output_type": "execute_result"
    }
   ],
   "source": [
    "sol"
   ]
  },
  {
   "cell_type": "code",
   "execution_count": 10,
   "metadata": {
    "ExecuteTime": {
     "end_time": "2020-10-10T12:19:01.727398Z",
     "start_time": "2020-10-10T12:19:01.209820Z"
    }
   },
   "outputs": [
    {
     "data": {
      "text/plain": [
       "[<matplotlib.lines.Line2D at 0x7f5c13e2c470>,\n",
       " <matplotlib.lines.Line2D at 0x7f5c11d95080>]"
      ]
     },
     "execution_count": 10,
     "metadata": {},
     "output_type": "execute_result"
    },
    {
     "data": {
      "image/png": "[encoded data removed]",
      "text/plain": [
       "<Figure size 432x288 with 1 Axes>"
      ]
     },
     "metadata": {
      "needs_background": "light"
     },
     "output_type": "display_data"
    }
   ],
   "source": [
    "fig, axe = plt.subplots()\n",
    "axe.plot(t, sol.y.T)"
   ]
  },
  {
   "cell_type": "code",
   "execution_count": null,
   "metadata": {},
   "outputs": [],
   "source": []
  },
  {
   "cell_type": "code",
   "execution_count": 11,
   "metadata": {
    "ExecuteTime": {
     "end_time": "2020-10-10T12:19:01.753361Z",
     "start_time": "2020-10-10T12:19:01.739097Z"
    }
   },
   "outputs": [
    {
     "data": {
      "text/plain": [
       "[1, 0.2, 0.5]"
      ]
     },
     "execution_count": 11,
     "metadata": {},
     "output_type": "execute_result"
    }
   ],
   "source": [
    "coefs(None, sol.y.T, c)"
   ]
  },
  {
   "cell_type": "code",
   "execution_count": null,
   "metadata": {},
   "outputs": [],
   "source": []
  }
 ],
 "metadata": {
  "hide_input": false,
  "kernelspec": {
   "display_name": "Python 3",
   "language": "python",
   "name": "python3"
  },
  "language_info": {
   "codemirror_mode": {
    "name": "ipython",
    "version": 3
   },
   "file_extension": ".py",
   "mimetype": "text/x-python",
   "name": "python",
   "nbconvert_exporter": "python",
   "pygments_lexer": "ipython3",
   "version": "3.6.9"
  },
  "toc": {
   "base_numbering": 1,
   "nav_menu": {},
   "number_sections": true,
   "sideBar": true,
   "skip_h1_title": false,
   "title_cell": "Table of Contents",
   "title_sidebar": "Contents",
   "toc_cell": false,
   "toc_position": {},
   "toc_section_display": true,
   "toc_window_display": false
  },
  "varInspector": {
   "cols": {
    "lenName": 16,
    "lenType": 16,
    "lenVar": 40
   },
   "kernels_config": {
    "python": {
     "delete_cmd_postfix": "",
     "delete_cmd_prefix": "del ",
     "library": "var_list.py",
     "varRefreshCmd": "print(var_dic_list())"
    },
    "r": {
     "delete_cmd_postfix": ") ",
     "delete_cmd_prefix": "rm(",
     "library": "var_list.r",
     "varRefreshCmd": "cat(var_dic_list()) "
    }
   },
   "types_to_exclude": [
    "module",
    "function",
    "builtin_function_or_method",
    "instance",
    "_Feature"
   ],
   "window_display": false
  }
 },
 "nbformat": 4,
 "nbformat_minor": 4
}
