{
 "cells": [
  {
   "cell_type": "code",
   "execution_count": 1,
   "metadata": {
    "ExecuteTime": {
     "end_time": "2020-09-05T16:49:21.858345Z",
     "start_time": "2020-09-05T16:49:20.447740Z"
    }
   },
   "outputs": [],
   "source": [
    "import io\n",
    "import itertools\n",
    "import numpy as np\n",
    "import pandas as pd\n",
    "from scipy import stats"
   ]
  },
  {
   "cell_type": "code",
   "execution_count": null,
   "metadata": {},
   "outputs": [],
   "source": []
  },
  {
   "cell_type": "code",
   "execution_count": 2,
   "metadata": {
    "ExecuteTime": {
     "end_time": "2020-09-05T16:49:21.891506Z",
     "start_time": "2020-09-05T16:49:21.873917Z"
    }
   },
   "outputs": [],
   "source": [
    "raw = io.StringIO(\"\"\"id1,id2,similarity\n",
    "CHEMBL1,CHEMBL1,1\n",
    "CHEMBL2,CHEMBL1,0.18\n",
    "CHEMBL3,CHEMBL1,0.56\n",
    "CHEMBL4,CHEMBL1,0.64\n",
    "CHEMBL5,CHEMBL1,0.12\n",
    "CHEMBL1,CHEMBL2,0.18\n",
    "CHEMBL2,CHEMBL2,1\n",
    "CHEMBL3,CHEMBL2,0.26\n",
    "CHEMBL4,CHEMBL2,0.78\n",
    "CHEMBL5,CHEMBL2,0.33\n",
    "CHEMBL1,CHEMBL3,0.56\n",
    "CHEMBL2,CHEMBL3,0.26\n",
    "CHEMBL3,CHEMBL3,1\n",
    "CHEMBL4,CHEMBL3,0.04\n",
    "CHEMBL5,CHEMBL3,0.85\n",
    "CHEMBL1,CHEMBL4,0.64\n",
    "CHEMBL2,CHEMBL4,0.78\n",
    "CHEMBL3,CHEMBL4,0.04\n",
    "CHEMBL4,CHEMBL4,1\n",
    "CHEMBL5,CHEMBL4,0.49\n",
    "CHEMBL1,CHEMBL5,12\n",
    "CHEMBL2,CHEMBL5,0.33\n",
    "CHEMBL3,CHEMBL5,0.85\n",
    "CHEMBL4,CHEMBL5,0.49\n",
    "CHEMBL5,CHEMBL5,1\"\"\")"
   ]
  },
  {
   "cell_type": "code",
   "execution_count": null,
   "metadata": {},
   "outputs": [],
   "source": []
  },
  {
   "cell_type": "code",
   "execution_count": null,
   "metadata": {},
   "outputs": [],
   "source": []
  },
  {
   "cell_type": "code",
   "execution_count": 3,
   "metadata": {
    "ExecuteTime": {
     "end_time": "2020-09-05T16:49:21.955806Z",
     "start_time": "2020-09-05T16:49:21.917862Z"
    }
   },
   "outputs": [],
   "source": [
    "df = pd.read_csv(raw, delimiter = ',', lineterminator = '\\n', header=0)"
   ]
  },
  {
   "cell_type": "code",
   "execution_count": 4,
   "metadata": {
    "ExecuteTime": {
     "end_time": "2020-09-05T16:49:22.044368Z",
     "start_time": "2020-09-05T16:49:21.970790Z"
    }
   },
   "outputs": [
    {
     "data": {
      "text/html": [
       "<div>\n",
       "<style scoped>\n",
       "    .dataframe tbody tr th:only-of-type {\n",
       "        vertical-align: middle;\n",
       "    }\n",
       "\n",
       "    .dataframe tbody tr th {\n",
       "        vertical-align: top;\n",
       "    }\n",
       "\n",
       "    .dataframe thead th {\n",
       "        text-align: right;\n",
       "    }\n",
       "</style>\n",
       "<table border=\"1\" class=\"dataframe\">\n",
       "  <thead>\n",
       "    <tr style=\"text-align: right;\">\n",
       "      <th></th>\n",
       "      <th>id1</th>\n",
       "      <th>id2</th>\n",
       "      <th>similarity</th>\n",
       "    </tr>\n",
       "  </thead>\n",
       "  <tbody>\n",
       "    <tr>\n",
       "      <th>0</th>\n",
       "      <td>CHEMBL1</td>\n",
       "      <td>CHEMBL1</td>\n",
       "      <td>1.00</td>\n",
       "    </tr>\n",
       "    <tr>\n",
       "      <th>1</th>\n",
       "      <td>CHEMBL2</td>\n",
       "      <td>CHEMBL1</td>\n",
       "      <td>0.18</td>\n",
       "    </tr>\n",
       "    <tr>\n",
       "      <th>2</th>\n",
       "      <td>CHEMBL3</td>\n",
       "      <td>CHEMBL1</td>\n",
       "      <td>0.56</td>\n",
       "    </tr>\n",
       "    <tr>\n",
       "      <th>3</th>\n",
       "      <td>CHEMBL4</td>\n",
       "      <td>CHEMBL1</td>\n",
       "      <td>0.64</td>\n",
       "    </tr>\n",
       "    <tr>\n",
       "      <th>4</th>\n",
       "      <td>CHEMBL5</td>\n",
       "      <td>CHEMBL1</td>\n",
       "      <td>0.12</td>\n",
       "    </tr>\n",
       "    <tr>\n",
       "      <th>5</th>\n",
       "      <td>CHEMBL1</td>\n",
       "      <td>CHEMBL2</td>\n",
       "      <td>0.18</td>\n",
       "    </tr>\n",
       "    <tr>\n",
       "      <th>6</th>\n",
       "      <td>CHEMBL2</td>\n",
       "      <td>CHEMBL2</td>\n",
       "      <td>1.00</td>\n",
       "    </tr>\n",
       "    <tr>\n",
       "      <th>7</th>\n",
       "      <td>CHEMBL3</td>\n",
       "      <td>CHEMBL2</td>\n",
       "      <td>0.26</td>\n",
       "    </tr>\n",
       "    <tr>\n",
       "      <th>8</th>\n",
       "      <td>CHEMBL4</td>\n",
       "      <td>CHEMBL2</td>\n",
       "      <td>0.78</td>\n",
       "    </tr>\n",
       "    <tr>\n",
       "      <th>9</th>\n",
       "      <td>CHEMBL5</td>\n",
       "      <td>CHEMBL2</td>\n",
       "      <td>0.33</td>\n",
       "    </tr>\n",
       "    <tr>\n",
       "      <th>10</th>\n",
       "      <td>CHEMBL1</td>\n",
       "      <td>CHEMBL3</td>\n",
       "      <td>0.56</td>\n",
       "    </tr>\n",
       "    <tr>\n",
       "      <th>11</th>\n",
       "      <td>CHEMBL2</td>\n",
       "      <td>CHEMBL3</td>\n",
       "      <td>0.26</td>\n",
       "    </tr>\n",
       "    <tr>\n",
       "      <th>12</th>\n",
       "      <td>CHEMBL3</td>\n",
       "      <td>CHEMBL3</td>\n",
       "      <td>1.00</td>\n",
       "    </tr>\n",
       "    <tr>\n",
       "      <th>13</th>\n",
       "      <td>CHEMBL4</td>\n",
       "      <td>CHEMBL3</td>\n",
       "      <td>0.04</td>\n",
       "    </tr>\n",
       "    <tr>\n",
       "      <th>14</th>\n",
       "      <td>CHEMBL5</td>\n",
       "      <td>CHEMBL3</td>\n",
       "      <td>0.85</td>\n",
       "    </tr>\n",
       "    <tr>\n",
       "      <th>15</th>\n",
       "      <td>CHEMBL1</td>\n",
       "      <td>CHEMBL4</td>\n",
       "      <td>0.64</td>\n",
       "    </tr>\n",
       "    <tr>\n",
       "      <th>16</th>\n",
       "      <td>CHEMBL2</td>\n",
       "      <td>CHEMBL4</td>\n",
       "      <td>0.78</td>\n",
       "    </tr>\n",
       "    <tr>\n",
       "      <th>17</th>\n",
       "      <td>CHEMBL3</td>\n",
       "      <td>CHEMBL4</td>\n",
       "      <td>0.04</td>\n",
       "    </tr>\n",
       "    <tr>\n",
       "      <th>18</th>\n",
       "      <td>CHEMBL4</td>\n",
       "      <td>CHEMBL4</td>\n",
       "      <td>1.00</td>\n",
       "    </tr>\n",
       "    <tr>\n",
       "      <th>19</th>\n",
       "      <td>CHEMBL5</td>\n",
       "      <td>CHEMBL4</td>\n",
       "      <td>0.49</td>\n",
       "    </tr>\n",
       "    <tr>\n",
       "      <th>20</th>\n",
       "      <td>CHEMBL1</td>\n",
       "      <td>CHEMBL5</td>\n",
       "      <td>12.00</td>\n",
       "    </tr>\n",
       "    <tr>\n",
       "      <th>21</th>\n",
       "      <td>CHEMBL2</td>\n",
       "      <td>CHEMBL5</td>\n",
       "      <td>0.33</td>\n",
       "    </tr>\n",
       "    <tr>\n",
       "      <th>22</th>\n",
       "      <td>CHEMBL3</td>\n",
       "      <td>CHEMBL5</td>\n",
       "      <td>0.85</td>\n",
       "    </tr>\n",
       "    <tr>\n",
       "      <th>23</th>\n",
       "      <td>CHEMBL4</td>\n",
       "      <td>CHEMBL5</td>\n",
       "      <td>0.49</td>\n",
       "    </tr>\n",
       "    <tr>\n",
       "      <th>24</th>\n",
       "      <td>CHEMBL5</td>\n",
       "      <td>CHEMBL5</td>\n",
       "      <td>1.00</td>\n",
       "    </tr>\n",
       "  </tbody>\n",
       "</table>\n",
       "</div>"
      ],
      "text/plain": [
       "        id1      id2  similarity\n",
       "0   CHEMBL1  CHEMBL1        1.00\n",
       "1   CHEMBL2  CHEMBL1        0.18\n",
       "2   CHEMBL3  CHEMBL1        0.56\n",
       "3   CHEMBL4  CHEMBL1        0.64\n",
       "4   CHEMBL5  CHEMBL1        0.12\n",
       "5   CHEMBL1  CHEMBL2        0.18\n",
       "6   CHEMBL2  CHEMBL2        1.00\n",
       "7   CHEMBL3  CHEMBL2        0.26\n",
       "8   CHEMBL4  CHEMBL2        0.78\n",
       "9   CHEMBL5  CHEMBL2        0.33\n",
       "10  CHEMBL1  CHEMBL3        0.56\n",
       "11  CHEMBL2  CHEMBL3        0.26\n",
       "12  CHEMBL3  CHEMBL3        1.00\n",
       "13  CHEMBL4  CHEMBL3        0.04\n",
       "14  CHEMBL5  CHEMBL3        0.85\n",
       "15  CHEMBL1  CHEMBL4        0.64\n",
       "16  CHEMBL2  CHEMBL4        0.78\n",
       "17  CHEMBL3  CHEMBL4        0.04\n",
       "18  CHEMBL4  CHEMBL4        1.00\n",
       "19  CHEMBL5  CHEMBL4        0.49\n",
       "20  CHEMBL1  CHEMBL5       12.00\n",
       "21  CHEMBL2  CHEMBL5        0.33\n",
       "22  CHEMBL3  CHEMBL5        0.85\n",
       "23  CHEMBL4  CHEMBL5        0.49\n",
       "24  CHEMBL5  CHEMBL5        1.00"
      ]
     },
     "execution_count": 4,
     "metadata": {},
     "output_type": "execute_result"
    }
   ],
   "source": [
    "df"
   ]
  },
  {
   "cell_type": "code",
   "execution_count": 5,
   "metadata": {
    "ExecuteTime": {
     "end_time": "2020-09-05T16:49:22.182595Z",
     "start_time": "2020-09-05T16:49:22.056795Z"
    }
   },
   "outputs": [
    {
     "name": "stdout",
     "output_type": "stream",
     "text": [
      "{'CHEMBL1': [1.0], 'CHEMBL2': [], 'CHEMBL3': [], 'CHEMBL4': [], 'CHEMBL5': []}\n",
      "{'CHEMBL1': [1.0], 'CHEMBL2': [0.18], 'CHEMBL3': [], 'CHEMBL4': [], 'CHEMBL5': []}\n",
      "{'CHEMBL1': [1.0], 'CHEMBL2': [0.18], 'CHEMBL3': [0.56], 'CHEMBL4': [], 'CHEMBL5': []}\n",
      "{'CHEMBL1': [1.0], 'CHEMBL2': [0.18], 'CHEMBL3': [0.56], 'CHEMBL4': [0.64], 'CHEMBL5': []}\n",
      "{'CHEMBL1': [1.0], 'CHEMBL2': [0.18], 'CHEMBL3': [0.56], 'CHEMBL4': [0.64], 'CHEMBL5': [0.12]}\n",
      "{'CHEMBL1': [1.0, 0.18], 'CHEMBL2': [0.18], 'CHEMBL3': [0.56], 'CHEMBL4': [0.64], 'CHEMBL5': [0.12]}\n",
      "{'CHEMBL1': [1.0, 0.18], 'CHEMBL2': [0.18, 1.0], 'CHEMBL3': [0.56], 'CHEMBL4': [0.64], 'CHEMBL5': [0.12]}\n",
      "{'CHEMBL1': [1.0, 0.18], 'CHEMBL2': [0.18, 1.0], 'CHEMBL3': [0.56, 0.26], 'CHEMBL4': [0.64], 'CHEMBL5': [0.12]}\n",
      "{'CHEMBL1': [1.0, 0.18], 'CHEMBL2': [0.18, 1.0], 'CHEMBL3': [0.56, 0.26], 'CHEMBL4': [0.64, 0.78], 'CHEMBL5': [0.12]}\n",
      "{'CHEMBL1': [1.0, 0.18], 'CHEMBL2': [0.18, 1.0], 'CHEMBL3': [0.56, 0.26], 'CHEMBL4': [0.64, 0.78], 'CHEMBL5': [0.12, 0.33]}\n",
      "{'CHEMBL1': [1.0, 0.18, 0.56], 'CHEMBL2': [0.18, 1.0], 'CHEMBL3': [0.56, 0.26], 'CHEMBL4': [0.64, 0.78], 'CHEMBL5': [0.12, 0.33]}\n",
      "{'CHEMBL1': [1.0, 0.18, 0.56], 'CHEMBL2': [0.18, 1.0, 0.26], 'CHEMBL3': [0.56, 0.26], 'CHEMBL4': [0.64, 0.78], 'CHEMBL5': [0.12, 0.33]}\n",
      "{'CHEMBL1': [1.0, 0.18, 0.56], 'CHEMBL2': [0.18, 1.0, 0.26], 'CHEMBL3': [0.56, 0.26, 1.0], 'CHEMBL4': [0.64, 0.78], 'CHEMBL5': [0.12, 0.33]}\n",
      "{'CHEMBL1': [1.0, 0.18, 0.56], 'CHEMBL2': [0.18, 1.0, 0.26], 'CHEMBL3': [0.56, 0.26, 1.0], 'CHEMBL4': [0.64, 0.78, 0.04], 'CHEMBL5': [0.12, 0.33]}\n",
      "{'CHEMBL1': [1.0, 0.18, 0.56], 'CHEMBL2': [0.18, 1.0, 0.26], 'CHEMBL3': [0.56, 0.26, 1.0], 'CHEMBL4': [0.64, 0.78, 0.04], 'CHEMBL5': [0.12, 0.33, 0.85]}\n",
      "{'CHEMBL1': [1.0, 0.18, 0.56, 0.64], 'CHEMBL2': [0.18, 1.0, 0.26], 'CHEMBL3': [0.56, 0.26, 1.0], 'CHEMBL4': [0.64, 0.78, 0.04], 'CHEMBL5': [0.12, 0.33, 0.85]}\n",
      "{'CHEMBL1': [1.0, 0.18, 0.56, 0.64], 'CHEMBL2': [0.18, 1.0, 0.26, 0.78], 'CHEMBL3': [0.56, 0.26, 1.0], 'CHEMBL4': [0.64, 0.78, 0.04], 'CHEMBL5': [0.12, 0.33, 0.85]}\n",
      "{'CHEMBL1': [1.0, 0.18, 0.56, 0.64], 'CHEMBL2': [0.18, 1.0, 0.26, 0.78], 'CHEMBL3': [0.56, 0.26, 1.0, 0.04], 'CHEMBL4': [0.64, 0.78, 0.04], 'CHEMBL5': [0.12, 0.33, 0.85]}\n",
      "{'CHEMBL1': [1.0, 0.18, 0.56, 0.64], 'CHEMBL2': [0.18, 1.0, 0.26, 0.78], 'CHEMBL3': [0.56, 0.26, 1.0, 0.04], 'CHEMBL4': [0.64, 0.78, 0.04, 1.0], 'CHEMBL5': [0.12, 0.33, 0.85]}\n",
      "{'CHEMBL1': [1.0, 0.18, 0.56, 0.64], 'CHEMBL2': [0.18, 1.0, 0.26, 0.78], 'CHEMBL3': [0.56, 0.26, 1.0, 0.04], 'CHEMBL4': [0.64, 0.78, 0.04, 1.0], 'CHEMBL5': [0.12, 0.33, 0.85, 0.49]}\n",
      "{'CHEMBL1': [1.0, 0.18, 0.56, 0.64, 12.0], 'CHEMBL2': [0.18, 1.0, 0.26, 0.78], 'CHEMBL3': [0.56, 0.26, 1.0, 0.04], 'CHEMBL4': [0.64, 0.78, 0.04, 1.0], 'CHEMBL5': [0.12, 0.33, 0.85, 0.49]}\n",
      "{'CHEMBL1': [1.0, 0.18, 0.56, 0.64, 12.0], 'CHEMBL2': [0.18, 1.0, 0.26, 0.78, 0.33], 'CHEMBL3': [0.56, 0.26, 1.0, 0.04], 'CHEMBL4': [0.64, 0.78, 0.04, 1.0], 'CHEMBL5': [0.12, 0.33, 0.85, 0.49]}\n",
      "{'CHEMBL1': [1.0, 0.18, 0.56, 0.64, 12.0], 'CHEMBL2': [0.18, 1.0, 0.26, 0.78, 0.33], 'CHEMBL3': [0.56, 0.26, 1.0, 0.04, 0.85], 'CHEMBL4': [0.64, 0.78, 0.04, 1.0], 'CHEMBL5': [0.12, 0.33, 0.85, 0.49]}\n",
      "{'CHEMBL1': [1.0, 0.18, 0.56, 0.64, 12.0], 'CHEMBL2': [0.18, 1.0, 0.26, 0.78, 0.33], 'CHEMBL3': [0.56, 0.26, 1.0, 0.04, 0.85], 'CHEMBL4': [0.64, 0.78, 0.04, 1.0, 0.49], 'CHEMBL5': [0.12, 0.33, 0.85, 0.49]}\n",
      "{'CHEMBL1': [1.0, 0.18, 0.56, 0.64, 12.0], 'CHEMBL2': [0.18, 1.0, 0.26, 0.78, 0.33], 'CHEMBL3': [0.56, 0.26, 1.0, 0.04, 0.85], 'CHEMBL4': [0.64, 0.78, 0.04, 1.0, 0.49], 'CHEMBL5': [0.12, 0.33, 0.85, 0.49, 1.0]}\n",
      "0\n",
      "[1.0, 0.18, 0.56, 0.64, 12.0] [1.0, 0.18, 0.56, 0.64, 12.0]\n",
      "1\n",
      "[0.18, 1.0, 0.26, 0.78, 0.33] [1.0, 0.18, 0.56, 0.64, 12.0]\n",
      "2\n",
      "[0.56, 0.26, 1.0, 0.04, 0.85] [1.0, 0.18, 0.56, 0.64, 12.0]\n",
      "3\n",
      "[0.64, 0.78, 0.04, 1.0, 0.49] [1.0, 0.18, 0.56, 0.64, 12.0]\n",
      "4\n",
      "[0.12, 0.33, 0.85, 0.49, 1.0] [1.0, 0.18, 0.56, 0.64, 12.0]\n",
      "5\n",
      "[1.0, 0.18, 0.56, 0.64, 12.0] [0.18, 1.0, 0.26, 0.78, 0.33]\n",
      "6\n",
      "[0.18, 1.0, 0.26, 0.78, 0.33] [0.18, 1.0, 0.26, 0.78, 0.33]\n",
      "7\n",
      "[0.56, 0.26, 1.0, 0.04, 0.85] [0.18, 1.0, 0.26, 0.78, 0.33]\n",
      "8\n",
      "[0.64, 0.78, 0.04, 1.0, 0.49] [0.18, 1.0, 0.26, 0.78, 0.33]\n",
      "9\n",
      "[0.12, 0.33, 0.85, 0.49, 1.0] [0.18, 1.0, 0.26, 0.78, 0.33]\n",
      "10\n",
      "[1.0, 0.18, 0.56, 0.64, 12.0] [0.56, 0.26, 1.0, 0.04, 0.85]\n",
      "11\n",
      "[0.18, 1.0, 0.26, 0.78, 0.33] [0.56, 0.26, 1.0, 0.04, 0.85]\n",
      "12\n",
      "[0.56, 0.26, 1.0, 0.04, 0.85] [0.56, 0.26, 1.0, 0.04, 0.85]\n",
      "13\n",
      "[0.64, 0.78, 0.04, 1.0, 0.49] [0.56, 0.26, 1.0, 0.04, 0.85]\n",
      "14\n",
      "[0.12, 0.33, 0.85, 0.49, 1.0] [0.56, 0.26, 1.0, 0.04, 0.85]\n",
      "15\n",
      "[1.0, 0.18, 0.56, 0.64, 12.0] [0.64, 0.78, 0.04, 1.0, 0.49]\n",
      "16\n",
      "[0.18, 1.0, 0.26, 0.78, 0.33] [0.64, 0.78, 0.04, 1.0, 0.49]\n",
      "17\n",
      "[0.56, 0.26, 1.0, 0.04, 0.85] [0.64, 0.78, 0.04, 1.0, 0.49]\n",
      "18\n",
      "[0.64, 0.78, 0.04, 1.0, 0.49] [0.64, 0.78, 0.04, 1.0, 0.49]\n",
      "19\n",
      "[0.12, 0.33, 0.85, 0.49, 1.0] [0.64, 0.78, 0.04, 1.0, 0.49]\n",
      "20\n",
      "[1.0, 0.18, 0.56, 0.64, 12.0] [0.12, 0.33, 0.85, 0.49, 1.0]\n",
      "21\n",
      "[0.18, 1.0, 0.26, 0.78, 0.33] [0.12, 0.33, 0.85, 0.49, 1.0]\n",
      "22\n",
      "[0.56, 0.26, 1.0, 0.04, 0.85] [0.12, 0.33, 0.85, 0.49, 1.0]\n",
      "23\n",
      "[0.64, 0.78, 0.04, 1.0, 0.49] [0.12, 0.33, 0.85, 0.49, 1.0]\n",
      "24\n",
      "[0.12, 0.33, 0.85, 0.49, 1.0] [0.12, 0.33, 0.85, 0.49, 1.0]\n"
     ]
    }
   ],
   "source": [
    "d = {}\n",
    "l_id1 = []\n",
    "l_id2 = []\n",
    "l_sim = []\n",
    "uniq_comps = df.iloc[:, 0].unique().tolist()\n",
    "for i in uniq_comps:\n",
    "    d[i] = []\n",
    "for j in range(df.shape[0]):\n",
    "    d[df.iloc[j, 0]].append(df.iloc[j, 2])\n",
    "    l_id1.append(df.iloc[j, 0])\n",
    "    l_id2.append(df.iloc[j, 1])\n",
    "    l_sim.append(df.iloc[j, 2])\n",
    "    print(d)\n",
    "for k in range(len(l_id1)):\n",
    "    print(k)\n",
    "    sim = round(l_sim[k]*100, 0)/100\n",
    "    print(d[l_id1[k]], d[l_id2[k]])\n",
    "    ks = stats.ks_2samp(d[l_id1[k]], d[l_id2[k]])\n",
    "    #f_out.write(l_id1[k] + '\\t' + l_id2[k] + '\\t'"
   ]
  },
  {
   "cell_type": "code",
   "execution_count": null,
   "metadata": {},
   "outputs": [],
   "source": []
  },
  {
   "cell_type": "code",
   "execution_count": 6,
   "metadata": {
    "ExecuteTime": {
     "end_time": "2020-09-05T16:49:22.226346Z",
     "start_time": "2020-09-05T16:49:22.203393Z"
    }
   },
   "outputs": [
    {
     "data": {
      "text/plain": [
       "1.4677643775939941"
      ]
     },
     "execution_count": 6,
     "metadata": {},
     "output_type": "execute_result"
    }
   ],
   "source": [
    "8*197e6/1024**3"
   ]
  },
  {
   "cell_type": "code",
   "execution_count": 7,
   "metadata": {
    "ExecuteTime": {
     "end_time": "2020-09-05T16:49:22.258882Z",
     "start_time": "2020-09-05T16:49:22.238081Z"
    }
   },
   "outputs": [
    {
     "data": {
      "text/plain": [
       "0.7450580596923828"
      ]
     },
     "execution_count": 7,
     "metadata": {},
     "output_type": "execute_result"
    }
   ],
   "source": [
    "8*1e8/1024**3"
   ]
  },
  {
   "cell_type": "code",
   "execution_count": 15,
   "metadata": {
    "ExecuteTime": {
     "end_time": "2020-09-05T16:51:11.414990Z",
     "start_time": "2020-09-05T16:51:10.267677Z"
    }
   },
   "outputs": [],
   "source": [
    "N = 10**6\n",
    "df = pd.DataFrame({\n",
    "    \"id1\": np.random.choice([f\"CHEMBL{i:d}\" for i in np.arange(1, 6)], N),\n",
    "    \"id2\": np.random.choice([f\"CHEMBL{i:d}\" for i in np.arange(1, 6)], N),\n",
    "    \"value\": np.random.uniform(0, 12, N)\n",
    "})"
   ]
  },
  {
   "cell_type": "code",
   "execution_count": 16,
   "metadata": {
    "ExecuteTime": {
     "end_time": "2020-09-05T16:51:11.575128Z",
     "start_time": "2020-09-05T16:51:11.562066Z"
    }
   },
   "outputs": [
    {
     "name": "stdout",
     "output_type": "stream",
     "text": [
      "       id1      id2      value\n",
      "0  CHEMBL4  CHEMBL3  10.719870\n",
      "1  CHEMBL2  CHEMBL5   2.911339\n",
      "2  CHEMBL4  CHEMBL4   0.001595\n",
      "3  CHEMBL2  CHEMBL3   0.148120\n",
      "4  CHEMBL5  CHEMBL2   4.683689\n"
     ]
    }
   ],
   "source": [
    "print(df.head())"
   ]
  },
  {
   "cell_type": "code",
   "execution_count": 17,
   "metadata": {
    "ExecuteTime": {
     "end_time": "2020-09-05T16:51:19.651044Z",
     "start_time": "2020-09-05T16:51:19.624336Z"
    }
   },
   "outputs": [],
   "source": [
    "def apply_test(df, idkey=\"id\", valuekey=\"value\", test=stats.ks_2samp):\n",
    "    \"\"\"\n",
    "    Apply statistical test to each possible pair of identifier\n",
    "    \"\"\"\n",
    "    # Group by identifier:\n",
    "    g = df.groupby(idkey)\n",
    "    # Generate all 2-combination of identifier:\n",
    "    for k1, k2 in itertools.combinations(g.groups.keys(), 2):\n",
    "        # Apply Statistical Test to grouped data:\n",
    "        t = test(df.loc[g.groups[k1],valuekey], df.loc[g.groups[k2],valuekey])\n",
    "        # Store Identifier pair:\n",
    "        res = {\"id1\": k1, \"id2\": k2}\n",
    "        # Store statistics and p-value:\n",
    "        res.update({k: getattr(t, k) for k in t._fields})\n",
    "        # Yield result:\n",
    "        yield res"
   ]
  },
  {
   "cell_type": "code",
   "execution_count": 18,
   "metadata": {
    "ExecuteTime": {
     "end_time": "2020-09-05T16:51:27.326507Z",
     "start_time": "2020-09-05T16:51:26.107139Z"
    }
   },
   "outputs": [],
   "source": [
    "r = pd.DataFrame([x for x in apply_test(df, idkey=\"id1\")])"
   ]
  },
  {
   "cell_type": "code",
   "execution_count": 19,
   "metadata": {
    "ExecuteTime": {
     "end_time": "2020-09-05T16:51:28.007460Z",
     "start_time": "2020-09-05T16:51:27.980424Z"
    }
   },
   "outputs": [
    {
     "name": "stdout",
     "output_type": "stream",
     "text": [
      "       id1      id2  statistic    pvalue\n",
      "0  CHEMBL1  CHEMBL2   0.002312  0.657859\n",
      "1  CHEMBL1  CHEMBL3   0.002125  0.756018\n",
      "2  CHEMBL1  CHEMBL4   0.001701  0.934290\n",
      "3  CHEMBL1  CHEMBL5   0.002560  0.527594\n",
      "4  CHEMBL2  CHEMBL3   0.002155  0.741524\n",
      "5  CHEMBL2  CHEMBL4   0.001766  0.914602\n",
      "6  CHEMBL2  CHEMBL5   0.003035  0.315677\n",
      "7  CHEMBL3  CHEMBL4   0.001668  0.944053\n",
      "8  CHEMBL3  CHEMBL5   0.002603  0.507482\n",
      "9  CHEMBL4  CHEMBL5   0.002661  0.479805\n"
     ]
    }
   ],
   "source": [
    "print(r)"
   ]
  },
  {
   "cell_type": "code",
   "execution_count": 21,
   "metadata": {
    "ExecuteTime": {
     "end_time": "2020-09-05T17:08:38.943449Z",
     "start_time": "2020-09-05T17:08:38.457083Z"
    }
   },
   "outputs": [],
   "source": [
    "c = df.merge(r)"
   ]
  },
  {
   "cell_type": "code",
   "execution_count": 24,
   "metadata": {
    "ExecuteTime": {
     "end_time": "2020-09-05T17:09:08.317889Z",
     "start_time": "2020-09-05T17:09:08.267651Z"
    }
   },
   "outputs": [
    {
     "name": "stdout",
     "output_type": "stream",
     "text": [
      "            id1      id2      value  statistic    pvalue\n",
      "0       CHEMBL2  CHEMBL5   2.911339   0.003035  0.315677\n",
      "1       CHEMBL2  CHEMBL5   6.583948   0.003035  0.315677\n",
      "2       CHEMBL2  CHEMBL5  10.237092   0.003035  0.315677\n",
      "3       CHEMBL2  CHEMBL5   8.049175   0.003035  0.315677\n",
      "4       CHEMBL2  CHEMBL5   3.977925   0.003035  0.315677\n",
      "...         ...      ...        ...        ...       ...\n",
      "400776  CHEMBL4  CHEMBL5   4.339528   0.002661  0.479805\n",
      "400777  CHEMBL4  CHEMBL5   5.353133   0.002661  0.479805\n",
      "400778  CHEMBL4  CHEMBL5  10.599985   0.002661  0.479805\n",
      "400779  CHEMBL4  CHEMBL5   9.701375   0.002661  0.479805\n",
      "400780  CHEMBL4  CHEMBL5   7.951454   0.002661  0.479805\n",
      "\n",
      "[400781 rows x 5 columns]\n"
     ]
    }
   ],
   "source": [
    "print(c)"
   ]
  },
  {
   "cell_type": "code",
   "execution_count": null,
   "metadata": {},
   "outputs": [],
   "source": []
  }
 ],
 "metadata": {
  "hide_input": false,
  "kernelspec": {
   "display_name": "Python 3",
   "language": "python",
   "name": "python3"
  },
  "language_info": {
   "codemirror_mode": {
    "name": "ipython",
    "version": 3
   },
   "file_extension": ".py",
   "mimetype": "text/x-python",
   "name": "python",
   "nbconvert_exporter": "python",
   "pygments_lexer": "ipython3",
   "version": "3.6.9"
  },
  "toc": {
   "base_numbering": 1,
   "nav_menu": {},
   "number_sections": true,
   "sideBar": true,
   "skip_h1_title": false,
   "title_cell": "Table of Contents",
   "title_sidebar": "Contents",
   "toc_cell": false,
   "toc_position": {},
   "toc_section_display": true,
   "toc_window_display": false
  },
  "varInspector": {
   "cols": {
    "lenName": 16,
    "lenType": 16,
    "lenVar": 40
   },
   "kernels_config": {
    "python": {
     "delete_cmd_postfix": "",
     "delete_cmd_prefix": "del ",
     "library": "var_list.py",
     "varRefreshCmd": "print(var_dic_list())"
    },
    "r": {
     "delete_cmd_postfix": ") ",
     "delete_cmd_prefix": "rm(",
     "library": "var_list.r",
     "varRefreshCmd": "cat(var_dic_list()) "
    }
   },
   "types_to_exclude": [
    "module",
    "function",
    "builtin_function_or_method",
    "instance",
    "_Feature"
   ],
   "window_display": false
  }
 },
 "nbformat": 4,
 "nbformat_minor": 4
}
