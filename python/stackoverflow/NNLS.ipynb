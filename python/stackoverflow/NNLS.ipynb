{
 "cells": [
  {
   "cell_type": "code",
   "execution_count": 18,
   "id": "5e9049c5",
   "metadata": {
    "ExecuteTime": {
     "end_time": "2024-09-27T10:23:25.091537Z",
     "start_time": "2024-09-27T10:23:25.086588Z"
    }
   },
   "outputs": [],
   "source": [
    "from functools import partial\n",
    "import numpy as np\n",
    "from scipy import optimize"
   ]
  },
  {
   "cell_type": "markdown",
   "id": "c6e14008",
   "metadata": {},
   "source": [
    "https://stackoverflow.com/questions/79028654/fmin-slsqp-taking-too-long?noredirect=1#comment139348089_79028654"
   ]
  },
  {
   "cell_type": "code",
   "execution_count": 19,
   "id": "45f6a50e",
   "metadata": {
    "ExecuteTime": {
     "end_time": "2024-09-27T10:23:25.773796Z",
     "start_time": "2024-09-27T10:23:25.769397Z"
    }
   },
   "outputs": [],
   "source": [
    "def loss(W, X, y):\n",
    "    return np.mean((y - X.dot(W)) ** 2)"
   ]
  },
  {
   "cell_type": "code",
   "execution_count": null,
   "id": "dcd91f63",
   "metadata": {},
   "outputs": [],
   "source": []
  },
  {
   "cell_type": "code",
   "execution_count": 28,
   "id": "bef623ff",
   "metadata": {
    "ExecuteTime": {
     "end_time": "2024-09-27T10:24:43.569723Z",
     "start_time": "2024-09-27T10:24:43.562580Z"
    }
   },
   "outputs": [],
   "source": [
    "def get_result1(X, y):\n",
    "    n = X.shape[1]\n",
    "    w0 = np.array([1 / n] * n)\n",
    "    w = optimize.fmin_slsqp(\n",
    "        partial(loss, X=X, y=y),\n",
    "        w0, bounds=[(0.0, np.inf)] * n\n",
    "    )\n",
    "    return w"
   ]
  },
  {
   "cell_type": "code",
   "execution_count": 30,
   "id": "4292b343",
   "metadata": {
    "ExecuteTime": {
     "end_time": "2024-09-27T10:26:30.651821Z",
     "start_time": "2024-09-27T10:26:30.641953Z"
    }
   },
   "outputs": [],
   "source": [
    "def get_result2(X, y):\n",
    "    n = X.shape[1]\n",
    "    w0 = np.array([1 / n] * n)\n",
    "    w = optimize.nnls(\n",
    "        X, y\n",
    "    )\n",
    "    return w"
   ]
  },
  {
   "cell_type": "code",
   "execution_count": 47,
   "id": "86c1498b",
   "metadata": {
    "ExecuteTime": {
     "end_time": "2024-09-27T10:29:35.862119Z",
     "start_time": "2024-09-27T10:29:35.834113Z"
    }
   },
   "outputs": [],
   "source": [
    "X = np.random.normal(size=(10, 1000)) ** 2 + 1.\n",
    "y = np.ones((10,))"
   ]
  },
  {
   "cell_type": "code",
   "execution_count": null,
   "id": "c8cfe4a0",
   "metadata": {
    "ExecuteTime": {
     "end_time": "2024-09-27T10:29:36.448247Z",
     "start_time": "2024-09-27T10:29:36.405515Z"
    }
   },
   "outputs": [],
   "source": []
  },
  {
   "cell_type": "code",
   "execution_count": null,
   "id": "be341bde",
   "metadata": {},
   "outputs": [],
   "source": []
  },
  {
   "cell_type": "code",
   "execution_count": null,
   "id": "3032e6e9",
   "metadata": {},
   "outputs": [],
   "source": []
  }
 ],
 "metadata": {
  "hide_input": false,
  "kernelspec": {
   "display_name": "Python 3",
   "language": "python",
   "name": "python3"
  },
  "language_info": {
   "codemirror_mode": {
    "name": "ipython",
    "version": 3
   },
   "file_extension": ".py",
   "mimetype": "text/x-python",
   "name": "python",
   "nbconvert_exporter": "python",
   "pygments_lexer": "ipython3",
   "version": "3.10.6"
  },
  "toc": {
   "base_numbering": 1,
   "nav_menu": {},
   "number_sections": true,
   "sideBar": true,
   "skip_h1_title": false,
   "title_cell": "Table of Contents",
   "title_sidebar": "Contents",
   "toc_cell": false,
   "toc_position": {},
   "toc_section_display": true,
   "toc_window_display": false
  },
  "varInspector": {
   "cols": {
    "lenName": 16,
    "lenType": 16,
    "lenVar": 40
   },
   "kernels_config": {
    "python": {
     "delete_cmd_postfix": "",
     "delete_cmd_prefix": "del ",
     "library": "var_list.py",
     "varRefreshCmd": "print(var_dic_list())"
    },
    "r": {
     "delete_cmd_postfix": ") ",
     "delete_cmd_prefix": "rm(",
     "library": "var_list.r",
     "varRefreshCmd": "cat(var_dic_list()) "
    }
   },
   "types_to_exclude": [
    "module",
    "function",
    "builtin_function_or_method",
    "instance",
    "_Feature"
   ],
   "window_display": false
  }
 },
 "nbformat": 4,
 "nbformat_minor": 5
}
