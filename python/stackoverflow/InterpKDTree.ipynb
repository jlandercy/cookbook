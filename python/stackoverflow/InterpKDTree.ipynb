{
 "cells": [
  {
   "cell_type": "code",
   "execution_count": 1,
   "id": "89e717b5",
   "metadata": {
    "ExecuteTime": {
     "end_time": "2024-06-20T06:23:10.571157Z",
     "start_time": "2024-06-20T06:23:09.897832Z"
    }
   },
   "outputs": [],
   "source": [
    "import pickle\n",
    "import numpy as np\n",
    "from scipy.interpolate import NearestNDInterpolator, LinearNDInterpolator"
   ]
  },
  {
   "cell_type": "markdown",
   "id": "c84874c8",
   "metadata": {},
   "source": [
    "https://stackoverflow.com/questions/78644870/re-sampling-2d-dem-data-into-a-regular-local-level-array"
   ]
  },
  {
   "cell_type": "code",
   "execution_count": 2,
   "id": "e33c1dda",
   "metadata": {
    "ExecuteTime": {
     "start_time": "2024-06-20T06:23:09.868Z"
    }
   },
   "outputs": [],
   "source": [
    "# Fake DEM data (don't know how to warp it in the way the TED output is, so just adding some rand) This\n",
    "# could use a rectilinear interpolator, but I believe my data cannot (warped in E as a function of N and\n",
    "# vice versa).\n",
    "e_dim = 7000\n",
    "n_dim = 6000\n",
    "e_rng = np.arange(-e_dim/2, e_dim/2, dtype='float32')*72 + np.random.randint(-100, high=101, size=e_dim)\n",
    "n_rng = np.arange(-n_dim/2, n_dim/2, dtype='float32')*95 + np.random.randint(-100, high=101, size=n_dim)\n",
    "dem_u = np.random.randint(-100, high=4500, size=(n_dim,e_dim))\n",
    "row, col = np.meshgrid(n_rng, e_rng, indexing='ij')\n",
    "ENU = np.dstack((row,col,dem_u))\n"
   ]
  },
  {
   "cell_type": "code",
   "execution_count": null,
   "id": "ec6981ed",
   "metadata": {},
   "outputs": [],
   "source": []
  },
  {
   "cell_type": "code",
   "execution_count": 8,
   "id": "82124800",
   "metadata": {
    "ExecuteTime": {
     "start_time": "2024-06-20T06:23:09.869Z"
    }
   },
   "outputs": [
    {
     "name": "stdout",
     "output_type": "stream",
     "text": [
      "11.8 s ± 488 ms per loop (mean ± std. dev. of 30 runs, 1 loop each)\n"
     ]
    }
   ],
   "source": [
    "# looking for a faster approach to lookup Nx2 arrays of E/N points that are on a regular sample grid for # rastered final output\n",
    "\n",
    "%timeit -n 1 -r 30 interp = NearestNDInterpolator((ENU[:,:,0].flatten(), ENU[:,:,1].flatten()), ENU[:,:,2].flatten())\n",
    "# times about 12-13s on my hardware--pretty darn slow.\n",
    "# 11.8 s ± 488 ms per loop (mean ± std. dev. of 30 runs, 1 loop each)"
   ]
  },
  {
   "cell_type": "code",
   "execution_count": 17,
   "id": "0ca442f3",
   "metadata": {},
   "outputs": [
    {
     "name": "stdout",
     "output_type": "stream",
     "text": [
      "11.7 s ± 630 ms per loop (mean ± std. dev. of 30 runs, 1 loop each)\n"
     ]
    }
   ],
   "source": [
    "%timeit -n 1 -r 30 interp = NearestNDInterpolator((ENU[:,:,0].ravel(), ENU[:,:,1].ravel()), ENU[:,:,2].ravel())\n",
    "# 11.7 s ± 630 ms per loop (mean ± std. dev. of 30 runs, 1 loop each)"
   ]
  },
  {
   "cell_type": "code",
   "execution_count": 11,
   "id": "509e828e",
   "metadata": {},
   "outputs": [
    {
     "data": {
      "text/plain": [
       "8.03"
      ]
     },
     "execution_count": 11,
     "metadata": {},
     "output_type": "execute_result"
    }
   ],
   "source": [
    "11.7 - 3.67"
   ]
  },
  {
   "cell_type": "code",
   "execution_count": 4,
   "id": "38f916f7",
   "metadata": {},
   "outputs": [
    {
     "name": "stdout",
     "output_type": "stream",
     "text": [
      "3.67 s ± 254 ms per loop (mean ± std. dev. of 30 runs, 1 loop each)\n"
     ]
    }
   ],
   "source": [
    "%timeit -n 1 -r 30 interp = NearestNDInterpolator((ENU[:,:,0].ravel(), ENU[:,:,1].ravel()), ENU[:,:,2].ravel(), tree_options={\"compact_nodes\": False, \"balanced_tree\": False, \"leafsize\": 64})\n",
    "# 3.67 s ± 254 ms per loop (mean ± std. dev. of 30 runs, 1 loop each)"
   ]
  },
  {
   "cell_type": "code",
   "execution_count": 12,
   "id": "2bb5b995",
   "metadata": {},
   "outputs": [
    {
     "data": {
      "text/plain": [
       "1.757111597374179"
      ]
     },
     "execution_count": 12,
     "metadata": {},
     "output_type": "execute_result"
    }
   ],
   "source": [
    "(11.7 + 4.36) / (3.67 + 5.47)"
   ]
  },
  {
   "cell_type": "code",
   "execution_count": 14,
   "id": "59332301",
   "metadata": {},
   "outputs": [
    {
     "data": {
      "text/plain": [
       "6.919999999999998"
      ]
     },
     "execution_count": 14,
     "metadata": {},
     "output_type": "execute_result"
    }
   ],
   "source": [
    "(11.7 + 4.36) - (3.67 + 5.47)"
   ]
  },
  {
   "cell_type": "code",
   "execution_count": 13,
   "id": "36846854",
   "metadata": {},
   "outputs": [
    {
     "data": {
      "text/plain": [
       "0.5691158156911582"
      ]
     },
     "execution_count": 13,
     "metadata": {},
     "output_type": "execute_result"
    }
   ],
   "source": [
    "1/1.757111597374179"
   ]
  },
  {
   "cell_type": "code",
   "execution_count": 6,
   "id": "6abae02c",
   "metadata": {},
   "outputs": [],
   "source": [
    "interp = NearestNDInterpolator((ENU[:,:,0].ravel(), ENU[:,:,1].ravel()), ENU[:,:,2].ravel(), tree_options={\"compact_nodes\": False, \"balanced_tree\": False, \"leafsize\": 64})"
   ]
  },
  {
   "cell_type": "code",
   "execution_count": 9,
   "id": "ace426b8",
   "metadata": {},
   "outputs": [],
   "source": [
    "interp = NearestNDInterpolator((ENU[:,:,0].flatten(), ENU[:,:,1].flatten()), ENU[:,:,2].flatten())"
   ]
  },
  {
   "cell_type": "code",
   "execution_count": 10,
   "id": "45d1764d",
   "metadata": {
    "ExecuteTime": {
     "start_time": "2024-06-20T06:23:09.871Z"
    }
   },
   "outputs": [
    {
     "name": "stdout",
     "output_type": "stream",
     "text": [
      "4.36 s ± 149 ms per loop (mean ± std. dev. of 30 runs, 1 loop each)\n"
     ]
    }
   ],
   "source": [
    "interval_m = 11338.7 # Just a coarse starting sample dimension\n",
    "samp_offsets_m = np.array([-150*1852+i*interval_m for i in range(2500) ] )\n",
    "tiles_x, tiles_y = np.meshgrid(samp_offsets_m, samp_offsets_m, indexing='xy' )\n",
    "pTL = np.asarray( [[*tiles_x.flatten()],    #E pos\n",
    "                   [*tiles_y.flatten()]])   #N pos\n",
    "\n",
    "%timeit -n 1 -r 30 interp(pTL[0], pTL[1])\n",
    "# Default: 4.36 s ± 149 ms per loop (mean ± std. dev. of 30 runs, 1 loop each)\n",
    "# Tweak: 5.47 s ± 139 ms per loop (mean ± std. dev. of 30 runs, 1 loop each)"
   ]
  },
  {
   "cell_type": "code",
   "execution_count": null,
   "id": "e4ee189c",
   "metadata": {},
   "outputs": [],
   "source": []
  },
  {
   "cell_type": "code",
   "execution_count": null,
   "id": "8543be58",
   "metadata": {},
   "outputs": [],
   "source": []
  }
 ],
 "metadata": {
  "hide_input": false,
  "kernelspec": {
   "display_name": "Python 3 (ipykernel)",
   "language": "python",
   "name": "python3"
  },
  "language_info": {
   "codemirror_mode": {
    "name": "ipython",
    "version": 3
   },
   "file_extension": ".py",
   "mimetype": "text/x-python",
   "name": "python",
   "nbconvert_exporter": "python",
   "pygments_lexer": "ipython3",
   "version": "3.9.7"
  },
  "toc": {
   "base_numbering": 1,
   "nav_menu": {},
   "number_sections": true,
   "sideBar": true,
   "skip_h1_title": false,
   "title_cell": "Table of Contents",
   "title_sidebar": "Contents",
   "toc_cell": false,
   "toc_position": {},
   "toc_section_display": true,
   "toc_window_display": false
  },
  "varInspector": {
   "cols": {
    "lenName": 16,
    "lenType": 16,
    "lenVar": 40
   },
   "kernels_config": {
    "python": {
     "delete_cmd_postfix": "",
     "delete_cmd_prefix": "del ",
     "library": "var_list.py",
     "varRefreshCmd": "print(var_dic_list())"
    },
    "r": {
     "delete_cmd_postfix": ") ",
     "delete_cmd_prefix": "rm(",
     "library": "var_list.r",
     "varRefreshCmd": "cat(var_dic_list()) "
    }
   },
   "types_to_exclude": [
    "module",
    "function",
    "builtin_function_or_method",
    "instance",
    "_Feature"
   ],
   "window_display": false
  }
 },
 "nbformat": 4,
 "nbformat_minor": 5
}
