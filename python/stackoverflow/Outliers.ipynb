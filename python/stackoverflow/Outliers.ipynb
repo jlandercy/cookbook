{
 "cells": [
  {
   "cell_type": "code",
   "execution_count": 1,
   "id": "8aa8b51d",
   "metadata": {
    "ExecuteTime": {
     "end_time": "2022-10-29T06:40:31.910293Z",
     "start_time": "2022-10-29T06:40:31.171457Z"
    }
   },
   "outputs": [],
   "source": [
    "import io\n",
    "import pandas as pd"
   ]
  },
  {
   "cell_type": "markdown",
   "id": "02ea42f9",
   "metadata": {},
   "source": [
    "https://stackoverflow.com/questions/74236711/pandas-outliers-with-and-without-calculations"
   ]
  },
  {
   "cell_type": "code",
   "execution_count": 2,
   "id": "6c280c19",
   "metadata": {
    "ExecuteTime": {
     "end_time": "2022-10-29T06:40:31.925036Z",
     "start_time": "2022-10-29T06:40:31.914474Z"
    }
   },
   "outputs": [],
   "source": [
    "data = pd.read_fwf(io.StringIO(\"\"\" \n",
    "|   A |   B |    C |   D |   E |\n",
    "| 100 |  99 | 1000 | 300 | 250 |\n",
    "| 665 |   6 |    9 |   1 |   9 |\n",
    "|   7 | 665 |    4 |   9 |   1 |\n",
    "|   1 |   3 |    4 |   3 |   6 |\n",
    "|   1 |   9 |    1 | 665 |   5 |\n",
    "|   3 |   4 |    6 |   1 |   9 |\n",
    "|   5 |   9 |    1 |   3 |   2 |\n",
    "|   1 | 665 |    3 |   2 |   3 |\n",
    "|   2 | 665 |    9 |   1 |   0 |\n",
    "|   5 |   0 |    7 |   6 |   5 |\n",
    "|   0 |   3 |    3 |   7 |   3 |\n",
    "|   6 |   3 |    0 |   3 |   6 |\n",
    "|   6 |   6 |    5 |   1 |   5 |\"\"\".replace(\"|\", \"\")))"
   ]
  },
  {
   "cell_type": "code",
   "execution_count": 3,
   "id": "d8d3c51a",
   "metadata": {
    "ExecuteTime": {
     "end_time": "2022-10-29T06:40:31.948027Z",
     "start_time": "2022-10-29T06:40:31.927604Z"
    }
   },
   "outputs": [
    {
     "data": {
      "text/html": [
       "<div>\n",
       "<style scoped>\n",
       "    .dataframe tbody tr th:only-of-type {\n",
       "        vertical-align: middle;\n",
       "    }\n",
       "\n",
       "    .dataframe tbody tr th {\n",
       "        vertical-align: top;\n",
       "    }\n",
       "\n",
       "    .dataframe thead th {\n",
       "        text-align: right;\n",
       "    }\n",
       "</style>\n",
       "<table border=\"1\" class=\"dataframe\">\n",
       "  <thead>\n",
       "    <tr style=\"text-align: right;\">\n",
       "      <th></th>\n",
       "      <th>A</th>\n",
       "      <th>B</th>\n",
       "      <th>C</th>\n",
       "      <th>D</th>\n",
       "      <th>E</th>\n",
       "    </tr>\n",
       "  </thead>\n",
       "  <tbody>\n",
       "    <tr>\n",
       "      <th>0</th>\n",
       "      <td>100</td>\n",
       "      <td>99</td>\n",
       "      <td>1000</td>\n",
       "      <td>300</td>\n",
       "      <td>250</td>\n",
       "    </tr>\n",
       "    <tr>\n",
       "      <th>1</th>\n",
       "      <td>665</td>\n",
       "      <td>6</td>\n",
       "      <td>9</td>\n",
       "      <td>1</td>\n",
       "      <td>9</td>\n",
       "    </tr>\n",
       "    <tr>\n",
       "      <th>2</th>\n",
       "      <td>7</td>\n",
       "      <td>665</td>\n",
       "      <td>4</td>\n",
       "      <td>9</td>\n",
       "      <td>1</td>\n",
       "    </tr>\n",
       "    <tr>\n",
       "      <th>3</th>\n",
       "      <td>1</td>\n",
       "      <td>3</td>\n",
       "      <td>4</td>\n",
       "      <td>3</td>\n",
       "      <td>6</td>\n",
       "    </tr>\n",
       "    <tr>\n",
       "      <th>4</th>\n",
       "      <td>1</td>\n",
       "      <td>9</td>\n",
       "      <td>1</td>\n",
       "      <td>665</td>\n",
       "      <td>5</td>\n",
       "    </tr>\n",
       "    <tr>\n",
       "      <th>5</th>\n",
       "      <td>3</td>\n",
       "      <td>4</td>\n",
       "      <td>6</td>\n",
       "      <td>1</td>\n",
       "      <td>9</td>\n",
       "    </tr>\n",
       "    <tr>\n",
       "      <th>6</th>\n",
       "      <td>5</td>\n",
       "      <td>9</td>\n",
       "      <td>1</td>\n",
       "      <td>3</td>\n",
       "      <td>2</td>\n",
       "    </tr>\n",
       "    <tr>\n",
       "      <th>7</th>\n",
       "      <td>1</td>\n",
       "      <td>665</td>\n",
       "      <td>3</td>\n",
       "      <td>2</td>\n",
       "      <td>3</td>\n",
       "    </tr>\n",
       "    <tr>\n",
       "      <th>8</th>\n",
       "      <td>2</td>\n",
       "      <td>665</td>\n",
       "      <td>9</td>\n",
       "      <td>1</td>\n",
       "      <td>0</td>\n",
       "    </tr>\n",
       "    <tr>\n",
       "      <th>9</th>\n",
       "      <td>5</td>\n",
       "      <td>0</td>\n",
       "      <td>7</td>\n",
       "      <td>6</td>\n",
       "      <td>5</td>\n",
       "    </tr>\n",
       "    <tr>\n",
       "      <th>10</th>\n",
       "      <td>0</td>\n",
       "      <td>3</td>\n",
       "      <td>3</td>\n",
       "      <td>7</td>\n",
       "      <td>3</td>\n",
       "    </tr>\n",
       "    <tr>\n",
       "      <th>11</th>\n",
       "      <td>6</td>\n",
       "      <td>3</td>\n",
       "      <td>0</td>\n",
       "      <td>3</td>\n",
       "      <td>6</td>\n",
       "    </tr>\n",
       "    <tr>\n",
       "      <th>12</th>\n",
       "      <td>6</td>\n",
       "      <td>6</td>\n",
       "      <td>5</td>\n",
       "      <td>1</td>\n",
       "      <td>5</td>\n",
       "    </tr>\n",
       "  </tbody>\n",
       "</table>\n",
       "</div>"
      ],
      "text/plain": [
       "      A    B     C    D    E\n",
       "0   100   99  1000  300  250\n",
       "1   665    6     9    1    9\n",
       "2     7  665     4    9    1\n",
       "3     1    3     4    3    6\n",
       "4     1    9     1  665    5\n",
       "5     3    4     6    1    9\n",
       "6     5    9     1    3    2\n",
       "7     1  665     3    2    3\n",
       "8     2  665     9    1    0\n",
       "9     5    0     7    6    5\n",
       "10    0    3     3    7    3\n",
       "11    6    3     0    3    6\n",
       "12    6    6     5    1    5"
      ]
     },
     "execution_count": 3,
     "metadata": {},
     "output_type": "execute_result"
    }
   ],
   "source": [
    "data"
   ]
  },
  {
   "cell_type": "code",
   "execution_count": 4,
   "id": "0f2eecd1",
   "metadata": {
    "ExecuteTime": {
     "end_time": "2022-10-29T06:40:31.977645Z",
     "start_time": "2022-10-29T06:40:31.951645Z"
    }
   },
   "outputs": [
    {
     "data": {
      "text/html": [
       "<div>\n",
       "<style scoped>\n",
       "    .dataframe tbody tr th:only-of-type {\n",
       "        vertical-align: middle;\n",
       "    }\n",
       "\n",
       "    .dataframe tbody tr th {\n",
       "        vertical-align: top;\n",
       "    }\n",
       "\n",
       "    .dataframe thead th {\n",
       "        text-align: right;\n",
       "    }\n",
       "</style>\n",
       "<table border=\"1\" class=\"dataframe\">\n",
       "  <thead>\n",
       "    <tr style=\"text-align: right;\">\n",
       "      <th></th>\n",
       "      <th>A</th>\n",
       "      <th>B</th>\n",
       "      <th>C</th>\n",
       "      <th>D</th>\n",
       "      <th>E</th>\n",
       "    </tr>\n",
       "  </thead>\n",
       "  <tbody>\n",
       "    <tr>\n",
       "      <th>count</th>\n",
       "      <td>13.000000</td>\n",
       "      <td>13.000000</td>\n",
       "      <td>13.000000</td>\n",
       "      <td>13.000000</td>\n",
       "      <td>13.000000</td>\n",
       "    </tr>\n",
       "    <tr>\n",
       "      <th>mean</th>\n",
       "      <td>61.692308</td>\n",
       "      <td>164.384615</td>\n",
       "      <td>80.923077</td>\n",
       "      <td>77.076923</td>\n",
       "      <td>23.384615</td>\n",
       "    </tr>\n",
       "    <tr>\n",
       "      <th>std</th>\n",
       "      <td>183.242728</td>\n",
       "      <td>286.569229</td>\n",
       "      <td>276.163135</td>\n",
       "      <td>194.763729</td>\n",
       "      <td>68.143890</td>\n",
       "    </tr>\n",
       "    <tr>\n",
       "      <th>min</th>\n",
       "      <td>0.000000</td>\n",
       "      <td>0.000000</td>\n",
       "      <td>0.000000</td>\n",
       "      <td>1.000000</td>\n",
       "      <td>0.000000</td>\n",
       "    </tr>\n",
       "    <tr>\n",
       "      <th>25%</th>\n",
       "      <td>1.000000</td>\n",
       "      <td>3.000000</td>\n",
       "      <td>3.000000</td>\n",
       "      <td>1.000000</td>\n",
       "      <td>3.000000</td>\n",
       "    </tr>\n",
       "    <tr>\n",
       "      <th>50%</th>\n",
       "      <td>5.000000</td>\n",
       "      <td>6.000000</td>\n",
       "      <td>4.000000</td>\n",
       "      <td>3.000000</td>\n",
       "      <td>5.000000</td>\n",
       "    </tr>\n",
       "    <tr>\n",
       "      <th>75%</th>\n",
       "      <td>6.000000</td>\n",
       "      <td>99.000000</td>\n",
       "      <td>7.000000</td>\n",
       "      <td>7.000000</td>\n",
       "      <td>6.000000</td>\n",
       "    </tr>\n",
       "    <tr>\n",
       "      <th>max</th>\n",
       "      <td>665.000000</td>\n",
       "      <td>665.000000</td>\n",
       "      <td>1000.000000</td>\n",
       "      <td>665.000000</td>\n",
       "      <td>250.000000</td>\n",
       "    </tr>\n",
       "  </tbody>\n",
       "</table>\n",
       "</div>"
      ],
      "text/plain": [
       "                A           B            C           D           E\n",
       "count   13.000000   13.000000    13.000000   13.000000   13.000000\n",
       "mean    61.692308  164.384615    80.923077   77.076923   23.384615\n",
       "std    183.242728  286.569229   276.163135  194.763729   68.143890\n",
       "min      0.000000    0.000000     0.000000    1.000000    0.000000\n",
       "25%      1.000000    3.000000     3.000000    1.000000    3.000000\n",
       "50%      5.000000    6.000000     4.000000    3.000000    5.000000\n",
       "75%      6.000000   99.000000     7.000000    7.000000    6.000000\n",
       "max    665.000000  665.000000  1000.000000  665.000000  250.000000"
      ]
     },
     "execution_count": 4,
     "metadata": {},
     "output_type": "execute_result"
    }
   ],
   "source": [
    "stats = data.describe()\n",
    "stats"
   ]
  },
  {
   "cell_type": "code",
   "execution_count": null,
   "id": "41edf312",
   "metadata": {},
   "outputs": [],
   "source": []
  },
  {
   "cell_type": "code",
   "execution_count": 5,
   "id": "f6d4f326",
   "metadata": {
    "ExecuteTime": {
     "end_time": "2022-10-29T06:40:31.990163Z",
     "start_time": "2022-10-29T06:40:31.980855Z"
    }
   },
   "outputs": [],
   "source": [
    "stats.loc[\"lower\", :] = stats.T[\"mean\"] - 1.5*(stats.T[\"75%\"] - stats.T[\"25%\"])\n",
    "stats.loc[\"upper\", :] = stats.T[\"mean\"] + 1.5*(stats.T[\"75%\"] - stats.T[\"25%\"])"
   ]
  },
  {
   "cell_type": "code",
   "execution_count": 6,
   "id": "33d6f3bf",
   "metadata": {
    "ExecuteTime": {
     "end_time": "2022-10-29T06:40:32.005728Z",
     "start_time": "2022-10-29T06:40:31.992652Z"
    }
   },
   "outputs": [
    {
     "data": {
      "text/html": [
       "<div>\n",
       "<style scoped>\n",
       "    .dataframe tbody tr th:only-of-type {\n",
       "        vertical-align: middle;\n",
       "    }\n",
       "\n",
       "    .dataframe tbody tr th {\n",
       "        vertical-align: top;\n",
       "    }\n",
       "\n",
       "    .dataframe thead th {\n",
       "        text-align: right;\n",
       "    }\n",
       "</style>\n",
       "<table border=\"1\" class=\"dataframe\">\n",
       "  <thead>\n",
       "    <tr style=\"text-align: right;\">\n",
       "      <th></th>\n",
       "      <th>A</th>\n",
       "      <th>B</th>\n",
       "      <th>C</th>\n",
       "      <th>D</th>\n",
       "      <th>E</th>\n",
       "    </tr>\n",
       "  </thead>\n",
       "  <tbody>\n",
       "    <tr>\n",
       "      <th>count</th>\n",
       "      <td>13.000000</td>\n",
       "      <td>13.000000</td>\n",
       "      <td>13.000000</td>\n",
       "      <td>13.000000</td>\n",
       "      <td>13.000000</td>\n",
       "    </tr>\n",
       "    <tr>\n",
       "      <th>mean</th>\n",
       "      <td>61.692308</td>\n",
       "      <td>164.384615</td>\n",
       "      <td>80.923077</td>\n",
       "      <td>77.076923</td>\n",
       "      <td>23.384615</td>\n",
       "    </tr>\n",
       "    <tr>\n",
       "      <th>std</th>\n",
       "      <td>183.242728</td>\n",
       "      <td>286.569229</td>\n",
       "      <td>276.163135</td>\n",
       "      <td>194.763729</td>\n",
       "      <td>68.143890</td>\n",
       "    </tr>\n",
       "    <tr>\n",
       "      <th>min</th>\n",
       "      <td>0.000000</td>\n",
       "      <td>0.000000</td>\n",
       "      <td>0.000000</td>\n",
       "      <td>1.000000</td>\n",
       "      <td>0.000000</td>\n",
       "    </tr>\n",
       "    <tr>\n",
       "      <th>25%</th>\n",
       "      <td>1.000000</td>\n",
       "      <td>3.000000</td>\n",
       "      <td>3.000000</td>\n",
       "      <td>1.000000</td>\n",
       "      <td>3.000000</td>\n",
       "    </tr>\n",
       "    <tr>\n",
       "      <th>50%</th>\n",
       "      <td>5.000000</td>\n",
       "      <td>6.000000</td>\n",
       "      <td>4.000000</td>\n",
       "      <td>3.000000</td>\n",
       "      <td>5.000000</td>\n",
       "    </tr>\n",
       "    <tr>\n",
       "      <th>75%</th>\n",
       "      <td>6.000000</td>\n",
       "      <td>99.000000</td>\n",
       "      <td>7.000000</td>\n",
       "      <td>7.000000</td>\n",
       "      <td>6.000000</td>\n",
       "    </tr>\n",
       "    <tr>\n",
       "      <th>max</th>\n",
       "      <td>665.000000</td>\n",
       "      <td>665.000000</td>\n",
       "      <td>1000.000000</td>\n",
       "      <td>665.000000</td>\n",
       "      <td>250.000000</td>\n",
       "    </tr>\n",
       "    <tr>\n",
       "      <th>lower</th>\n",
       "      <td>54.192308</td>\n",
       "      <td>20.384615</td>\n",
       "      <td>74.923077</td>\n",
       "      <td>68.076923</td>\n",
       "      <td>18.884615</td>\n",
       "    </tr>\n",
       "    <tr>\n",
       "      <th>upper</th>\n",
       "      <td>69.192308</td>\n",
       "      <td>308.384615</td>\n",
       "      <td>86.923077</td>\n",
       "      <td>86.076923</td>\n",
       "      <td>27.884615</td>\n",
       "    </tr>\n",
       "  </tbody>\n",
       "</table>\n",
       "</div>"
      ],
      "text/plain": [
       "                A           B            C           D           E\n",
       "count   13.000000   13.000000    13.000000   13.000000   13.000000\n",
       "mean    61.692308  164.384615    80.923077   77.076923   23.384615\n",
       "std    183.242728  286.569229   276.163135  194.763729   68.143890\n",
       "min      0.000000    0.000000     0.000000    1.000000    0.000000\n",
       "25%      1.000000    3.000000     3.000000    1.000000    3.000000\n",
       "50%      5.000000    6.000000     4.000000    3.000000    5.000000\n",
       "75%      6.000000   99.000000     7.000000    7.000000    6.000000\n",
       "max    665.000000  665.000000  1000.000000  665.000000  250.000000\n",
       "lower   54.192308   20.384615    74.923077   68.076923   18.884615\n",
       "upper   69.192308  308.384615    86.923077   86.076923   27.884615"
      ]
     },
     "execution_count": 6,
     "metadata": {},
     "output_type": "execute_result"
    }
   ],
   "source": [
    "stats"
   ]
  },
  {
   "cell_type": "code",
   "execution_count": null,
   "id": "991869f6",
   "metadata": {},
   "outputs": [],
   "source": []
  },
  {
   "cell_type": "code",
   "execution_count": null,
   "id": "903eeb9d",
   "metadata": {},
   "outputs": [],
   "source": []
  },
  {
   "cell_type": "code",
   "execution_count": 7,
   "id": "da568ea8",
   "metadata": {
    "ExecuteTime": {
     "end_time": "2022-10-29T06:40:32.012059Z",
     "start_time": "2022-10-29T06:40:32.008448Z"
    }
   },
   "outputs": [],
   "source": [
    "def quantile_agg(x, alpha=0.05, aggregate=pd.Series.mean):\n",
    "    return aggregate(x[(x.quantile(alpha/2) < x) & (x < x.quantile(1 - alpha/2))])"
   ]
  },
  {
   "cell_type": "code",
   "execution_count": 8,
   "id": "df2e021c",
   "metadata": {
    "ExecuteTime": {
     "end_time": "2022-10-29T06:40:32.018562Z",
     "start_time": "2022-10-29T06:40:32.014930Z"
    }
   },
   "outputs": [],
   "source": [
    "def irq_agg(x, factor=1.5, aggregate=pd.Series.mean):\n",
    "    q1, q3 = x.quantile(0.25), x.quantile(0.75) \n",
    "    return aggregate(x[(q1 - factor*(q3 - q1) < x) & (x < q3 + factor*(q3 - q1))])"
   ]
  },
  {
   "cell_type": "code",
   "execution_count": 9,
   "id": "3b746884",
   "metadata": {
    "ExecuteTime": {
     "end_time": "2022-10-29T06:40:32.041911Z",
     "start_time": "2022-10-29T06:40:32.021359Z"
    }
   },
   "outputs": [
    {
     "data": {
      "text/plain": [
       "A    12.454545\n",
       "B    15.777778\n",
       "C     4.727273\n",
       "D    41.625000\n",
       "E     4.909091\n",
       "dtype: float64"
      ]
     },
     "execution_count": 9,
     "metadata": {},
     "output_type": "execute_result"
    }
   ],
   "source": [
    "data.apply(quantile_agg, alpha=0.01)"
   ]
  },
  {
   "cell_type": "code",
   "execution_count": 10,
   "id": "5695cffe",
   "metadata": {
    "ExecuteTime": {
     "end_time": "2022-10-29T06:40:32.067537Z",
     "start_time": "2022-10-29T06:40:32.046659Z"
    }
   },
   "outputs": [
    {
     "data": {
      "text/plain": [
       "A     3.363636\n",
       "B    14.200000\n",
       "C     4.333333\n",
       "D     3.363636\n",
       "E     4.500000\n",
       "dtype: float64"
      ]
     },
     "execution_count": 10,
     "metadata": {},
     "output_type": "execute_result"
    }
   ],
   "source": [
    "data.apply(irq_agg)"
   ]
  },
  {
   "cell_type": "code",
   "execution_count": null,
   "id": "3d499d96",
   "metadata": {},
   "outputs": [],
   "source": []
  },
  {
   "cell_type": "code",
   "execution_count": 11,
   "id": "b664d9f0",
   "metadata": {
    "ExecuteTime": {
     "end_time": "2022-10-29T06:40:32.075110Z",
     "start_time": "2022-10-29T06:40:32.070129Z"
    }
   },
   "outputs": [],
   "source": [
    "def analyze(x, alpha=0.05, factor=1.5):\n",
    "    return pd.Series({\n",
    "        \"p_mean\": quantile_agg(x, alpha=alpha),\n",
    "        \"p_median\": quantile_agg(x, alpha=alpha, aggregate=pd.Series.median),\n",
    "        \"irq_mean\": irq_agg(x, factor=factor),\n",
    "        \"irq_median\": irq_agg(x, factor=factor, aggregate=pd.Series.median),\n",
    "        \"standard\": x[((x - x.mean())/x.std()).abs() < 1].mean(),\n",
    "        \"mean\": x.mean(),\n",
    "        \"median\": x.median(),\n",
    "    })"
   ]
  },
  {
   "cell_type": "code",
   "execution_count": 13,
   "id": "7a61acff",
   "metadata": {
    "ExecuteTime": {
     "end_time": "2022-10-29T06:40:37.345920Z",
     "start_time": "2022-10-29T06:40:37.269990Z"
    }
   },
   "outputs": [
    {
     "name": "stdout",
     "output_type": "stream",
     "text": [
      "      p_mean  p_median   irq_mean  irq_median   standard        mean  median\n",
      "A  12.454545       5.0   3.363636         3.0  11.416667   61.692308     5.0\n",
      "B  15.777778       6.0  14.200000         5.0  14.200000  164.384615     6.0\n",
      "C   4.727273       4.0   4.333333         4.0   4.333333   80.923077     4.0\n",
      "D  41.625000       4.5   3.363636         3.0   3.363636   77.076923     3.0\n",
      "E   4.909091       5.0   4.500000         5.0   4.500000   23.384615     5.0\n"
     ]
    }
   ],
   "source": [
    "print(data.apply(analyze).T)"
   ]
  },
  {
   "cell_type": "code",
   "execution_count": null,
   "id": "4a1aed3b",
   "metadata": {},
   "outputs": [],
   "source": []
  }
 ],
 "metadata": {
  "hide_input": false,
  "kernelspec": {
   "display_name": "Python 3",
   "language": "python",
   "name": "python3"
  },
  "language_info": {
   "codemirror_mode": {
    "name": "ipython",
    "version": 3
   },
   "file_extension": ".py",
   "mimetype": "text/x-python",
   "name": "python",
   "nbconvert_exporter": "python",
   "pygments_lexer": "ipython3",
   "version": "3.10.6"
  },
  "toc": {
   "base_numbering": 1,
   "nav_menu": {},
   "number_sections": true,
   "sideBar": true,
   "skip_h1_title": false,
   "title_cell": "Table of Contents",
   "title_sidebar": "Contents",
   "toc_cell": false,
   "toc_position": {},
   "toc_section_display": true,
   "toc_window_display": false
  },
  "varInspector": {
   "cols": {
    "lenName": 16,
    "lenType": 16,
    "lenVar": 40
   },
   "kernels_config": {
    "python": {
     "delete_cmd_postfix": "",
     "delete_cmd_prefix": "del ",
     "library": "var_list.py",
     "varRefreshCmd": "print(var_dic_list())"
    },
    "r": {
     "delete_cmd_postfix": ") ",
     "delete_cmd_prefix": "rm(",
     "library": "var_list.r",
     "varRefreshCmd": "cat(var_dic_list()) "
    }
   },
   "types_to_exclude": [
    "module",
    "function",
    "builtin_function_or_method",
    "instance",
    "_Feature"
   ],
   "window_display": false
  }
 },
 "nbformat": 4,
 "nbformat_minor": 5
}
