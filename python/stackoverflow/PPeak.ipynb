{
 "cells": [
  {
   "cell_type": "code",
   "execution_count": 28,
   "id": "0d7eaf70",
   "metadata": {
    "ExecuteTime": {
     "end_time": "2024-01-21T09:34:35.085027Z",
     "start_time": "2024-01-21T09:34:35.076432Z"
    }
   },
   "outputs": [],
   "source": [
    "import itertools\n",
    "import numpy as np\n",
    "import matplotlib.pyplot as plt\n",
    "from scipy import signal"
   ]
  },
  {
   "cell_type": "markdown",
   "id": "582571ad",
   "metadata": {},
   "source": [
    "https://stackoverflow.com/questions/77852397/finding-the-prominent-peaks-in-data"
   ]
  },
  {
   "cell_type": "code",
   "execution_count": null,
   "id": "434ac2f6",
   "metadata": {},
   "outputs": [],
   "source": []
  },
  {
   "cell_type": "code",
   "execution_count": 3,
   "id": "1f4829c8",
   "metadata": {
    "ExecuteTime": {
     "end_time": "2024-01-21T09:17:14.774292Z",
     "start_time": "2024-01-21T09:17:14.753690Z"
    }
   },
   "outputs": [],
   "source": [
    "w_data1 = np.array([-3.14159265e+00, -3.03687290e+00, -2.77507351e+00, -2.61799388e+00,\n",
    "       -2.35619449e+00, -2.09439510e+00, -1.80641578e+00, -1.72787596e+00,\n",
    "       -1.71740398e+00, -1.61268423e+00, -1.60744824e+00, -1.60221225e+00,\n",
    "       -1.59697627e+00, -1.59174028e+00, -1.58650429e+00, -1.58126830e+00,\n",
    "       -1.57079633e+00, -1.56556034e+00, -1.56032435e+00, -1.55508836e+00,\n",
    "       -1.54985238e+00, -1.51843645e+00, -1.46607657e+00, -1.41371669e+00,\n",
    "       -1.36135682e+00, -1.30899694e+00, -1.04719755e+00, -7.85398163e-01,\n",
    "       -5.23598776e-01, -2.61799388e-01, -4.44089210e-16,  2.61799388e-01,\n",
    "        5.23598776e-01,  1.04719755e+00,  1.57079633e+00,  2.09439510e+00,\n",
    "        2.61799388e+00])\n",
    "\n",
    "PS_data1 = np.array([1.95875121e+01, 2.17955953e+01, 3.02014494e+01, 3.86345651e+01,\n",
    "       6.58105570e+01, 1.46458509e+02, 8.09563221e+02, 2.21754612e+04,\n",
    "       6.40104090e+02, 5.20057432e+05, 1.28551555e+05, 1.25288212e+05,\n",
    "       8.11800261e+04, 1.40052558e+06, 9.64441464e+05, 2.08724844e+06,\n",
    "       9.40242662e+05, 2.61656013e+04, 1.32967749e+05, 1.22127952e+05,\n",
    "       1.23733666e+05, 3.60411360e+03, 2.00470602e+04, 4.04207652e+03,\n",
    "       1.10741091e+04, 5.54534985e+02, 5.58959484e+01, 5.58399196e+00,\n",
    "       3.91053138e+01, 2.73404280e+01, 0.00000000e+00, 1.59311017e+01,\n",
    "       2.25706295e+01, 1.01049830e+02, 2.22757819e+02, 1.27038938e+01,\n",
    "       1.34606021e+01])\n",
    "\n",
    "w_data2 = np.array([-2.61799388e+00, -2.09439510e+00, -1.57079633e+00, -1.04719755e+00,\n",
    "       -8.48230016e-01, -8.42994029e-01, -8.37758041e-01, -8.32522053e-01,\n",
    "       -8.27286065e-01, -8.22050078e-01, -8.16814090e-01, -8.11578102e-01,\n",
    "       -8.06342114e-01, -8.01106127e-01, -7.95870139e-01, -7.90634151e-01,\n",
    "       -5.23598776e-01, -2.61799388e-01, -4.44089210e-16,  2.61799388e-01,\n",
    "        3.14159265e-01, -4.44089210e-16,  2.61799388e-01,  5.23598776e-01,\n",
    "        8.11578102e-01,  8.16814090e-01,  8.22050078e-01,  8.27286065e-01,\n",
    "        8.32522053e-01,  8.37758041e-01,  8.42994029e-01,  8.48230016e-01,\n",
    "        8.53466004e-01,  8.58701992e-01,  1.04719755e+00,  1.30899694e+00,\n",
    "        1.57079633e+00,  1.62315620e+00,  1.62839219e+00,  1.63362818e+00,\n",
    "        1.63886417e+00,  1.64410016e+00,  1.64933614e+00,  1.65457213e+00,\n",
    "        1.65980812e+00,  1.66504411e+00,  1.67028009e+00,  1.67551608e+00,\n",
    "        1.68075207e+00,  1.68598806e+00,  1.69122405e+00,  1.69646003e+00,\n",
    "        1.70169602e+00,  1.91637152e+00,  2.09439510e+00,  2.61799388e+00])\n",
    "\n",
    "PS_data2 = np.array([3.25876564e+00, 3.81409794e+00, 1.11474756e+03, 8.12689697e+02,\n",
    "       1.20040924e+04, 9.14052161e+03, 2.39588219e+04, 2.58246107e+05,\n",
    "       2.25913494e+05, 2.00792586e+04, 7.48461712e+04, 7.79328551e+04,\n",
    "       1.78038258e+04, 1.24493550e+04, 2.49796877e+03, 3.03134727e+03,\n",
    "       3.66156269e+02, 5.77324315e+00, 0.00000000e+00, 3.44609756e+01,\n",
    "       4.28032233e+01, 0.00000000e+00, 3.44609756e+01, 4.21229883e+02,\n",
    "       1.10116850e+05, 5.88833899e+04, 4.86932316e+03, 9.00693183e+05,\n",
    "       4.35660173e+04, 1.12480933e+05, 6.37520293e+05, 1.45519285e+05,\n",
    "       1.84586394e+04, 1.07850037e+05, 8.74590279e+03, 5.45370145e+03,\n",
    "       9.68703597e+01, 1.96921122e+05, 1.89929087e+06, 2.66404045e+05,\n",
    "       3.42301329e+05, 1.20854982e+06, 9.16540956e+05, 3.22951992e+06,\n",
    "       9.83937935e+05, 1.27623169e+05, 1.38875057e+05, 3.03198348e+05,\n",
    "       1.66383588e+05, 3.25265340e+04, 2.45382866e+03, 5.44667942e+04,\n",
    "       9.83374694e+04, 2.93687201e+02, 3.75552805e+00, 4.48805516e+00])"
   ]
  },
  {
   "cell_type": "code",
   "execution_count": null,
   "id": "6ca19aa1",
   "metadata": {},
   "outputs": [],
   "source": []
  },
  {
   "cell_type": "code",
   "execution_count": 9,
   "id": "13e324f8",
   "metadata": {
    "ExecuteTime": {
     "end_time": "2024-01-21T09:20:32.286154Z",
     "start_time": "2024-01-21T09:20:32.269856Z"
    }
   },
   "outputs": [],
   "source": [
    "peaks, stats = signal.find_peaks(PS_data1, prominence=1e6)"
   ]
  },
  {
   "cell_type": "code",
   "execution_count": 11,
   "id": "7a01ef7b",
   "metadata": {
    "ExecuteTime": {
     "end_time": "2024-01-21T09:20:48.852528Z",
     "start_time": "2024-01-21T09:20:48.848687Z"
    }
   },
   "outputs": [],
   "source": [
    "peaks, stats = signal.find_peaks(PS_data2, prominence=1e6)"
   ]
  },
  {
   "cell_type": "code",
   "execution_count": null,
   "id": "2736a128",
   "metadata": {
    "ExecuteTime": {
     "end_time": "2024-01-21T09:20:56.945218Z",
     "start_time": "2024-01-21T09:20:56.939362Z"
    }
   },
   "outputs": [],
   "source": []
  },
  {
   "cell_type": "code",
   "execution_count": 82,
   "id": "f34479b4",
   "metadata": {
    "ExecuteTime": {
     "end_time": "2024-01-21T09:51:32.393618Z",
     "start_time": "2024-01-21T09:51:32.380098Z"
    }
   },
   "outputs": [],
   "source": [
    "def identification(x, y, ratio=10., prominence=1e5, distance=10):\n",
    "    \n",
    "    peaks, stats = signal.find_peaks(y, prominence=prominence, distance=distance)\n",
    "    order = np.flip(np.argsort(stats[\"prominences\"]))\n",
    "    \n",
    "    values = []\n",
    "    \n",
    "    if len(peaks) == 1:\n",
    "        values.append(x[peaks[0]])\n",
    "        \n",
    "    elif len(peaks) > 1:\n",
    "        for i, j in zip(order[:-1], order[1:]):\n",
    "            if stats[\"prominences\"][i] >= ratio * stats[\"prominences\"][j]:\n",
    "                values.append(x[peaks[i]])\n",
    "    \n",
    "    return {\n",
    "        \"values\": values,\n",
    "        \"order\": order,\n",
    "        \"peaks\": peaks,\n",
    "        \"stats\": stats,\n",
    "    }"
   ]
  },
  {
   "cell_type": "code",
   "execution_count": 83,
   "id": "d2541064",
   "metadata": {
    "ExecuteTime": {
     "end_time": "2024-01-21T09:51:33.265613Z",
     "start_time": "2024-01-21T09:51:33.248725Z"
    }
   },
   "outputs": [
    {
     "data": {
      "text/plain": [
       "{'values': [-1.5812683],\n",
       " 'order': array([0]),\n",
       " 'peaks': array([15]),\n",
       " 'stats': {'prominences': array([2087228.8524879]),\n",
       "  'left_bases': array([0]),\n",
       "  'right_bases': array([30])}}"
      ]
     },
     "execution_count": 83,
     "metadata": {},
     "output_type": "execute_result"
    }
   ],
   "source": [
    "identification(w_data1, PS_data1)"
   ]
  },
  {
   "cell_type": "code",
   "execution_count": null,
   "id": "400a39d1",
   "metadata": {},
   "outputs": [],
   "source": []
  },
  {
   "cell_type": "code",
   "execution_count": 84,
   "id": "68036797",
   "metadata": {
    "ExecuteTime": {
     "end_time": "2024-01-21T09:51:45.578531Z",
     "start_time": "2024-01-21T09:51:45.563588Z"
    }
   },
   "outputs": [
    {
     "data": {
      "text/plain": [
       "{'values': [],\n",
       " 'order': array([2, 1, 0]),\n",
       " 'peaks': array([ 7, 27, 43]),\n",
       " 'stats': {'prominences': array([ 258242.84823436,  900596.3126403 , 3229516.16447195]),\n",
       "  'left_bases': array([ 0, 21, 21]),\n",
       "  'right_bases': array([18, 36, 54])}}"
      ]
     },
     "execution_count": 84,
     "metadata": {},
     "output_type": "execute_result"
    }
   ],
   "source": [
    "identification(w_data2, PS_data2)"
   ]
  },
  {
   "cell_type": "code",
   "execution_count": null,
   "id": "3cd4846c",
   "metadata": {},
   "outputs": [],
   "source": []
  },
  {
   "cell_type": "code",
   "execution_count": 90,
   "id": "ef8378d3",
   "metadata": {
    "ExecuteTime": {
     "end_time": "2024-01-21T09:57:55.979697Z",
     "start_time": "2024-01-21T09:57:55.964667Z"
    }
   },
   "outputs": [
    {
     "data": {
      "text/plain": [
       "{'values': [1.65457213, 0.827286065],\n",
       " 'order': array([2, 1, 0]),\n",
       " 'peaks': array([ 7, 27, 43]),\n",
       " 'stats': {'prominences': array([ 258242.84823436,  900596.3126403 , 3229516.16447195]),\n",
       "  'left_bases': array([ 0, 21, 21]),\n",
       "  'right_bases': array([18, 36, 54])}}"
      ]
     },
     "execution_count": 90,
     "metadata": {},
     "output_type": "execute_result"
    }
   ],
   "source": [
    "identification(w_data2, PS_data2, ratio=2)"
   ]
  },
  {
   "cell_type": "code",
   "execution_count": null,
   "id": "01cd8706",
   "metadata": {},
   "outputs": [],
   "source": []
  },
  {
   "cell_type": "code",
   "execution_count": null,
   "id": "e0ddd9ce",
   "metadata": {},
   "outputs": [],
   "source": []
  }
 ],
 "metadata": {
  "hide_input": false,
  "kernelspec": {
   "display_name": "Python 3",
   "language": "python",
   "name": "python3"
  },
  "language_info": {
   "codemirror_mode": {
    "name": "ipython",
    "version": 3
   },
   "file_extension": ".py",
   "mimetype": "text/x-python",
   "name": "python",
   "nbconvert_exporter": "python",
   "pygments_lexer": "ipython3",
   "version": "3.10.6"
  },
  "toc": {
   "base_numbering": 1,
   "nav_menu": {},
   "number_sections": true,
   "sideBar": true,
   "skip_h1_title": false,
   "title_cell": "Table of Contents",
   "title_sidebar": "Contents",
   "toc_cell": false,
   "toc_position": {},
   "toc_section_display": true,
   "toc_window_display": false
  },
  "varInspector": {
   "cols": {
    "lenName": 16,
    "lenType": 16,
    "lenVar": 40
   },
   "kernels_config": {
    "python": {
     "delete_cmd_postfix": "",
     "delete_cmd_prefix": "del ",
     "library": "var_list.py",
     "varRefreshCmd": "print(var_dic_list())"
    },
    "r": {
     "delete_cmd_postfix": ") ",
     "delete_cmd_prefix": "rm(",
     "library": "var_list.r",
     "varRefreshCmd": "cat(var_dic_list()) "
    }
   },
   "types_to_exclude": [
    "module",
    "function",
    "builtin_function_or_method",
    "instance",
    "_Feature"
   ],
   "window_display": false
  }
 },
 "nbformat": 4,
 "nbformat_minor": 5
}
