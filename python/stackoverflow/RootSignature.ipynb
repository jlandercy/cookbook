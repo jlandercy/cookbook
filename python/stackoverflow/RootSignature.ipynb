{
 "cells": [
  {
   "cell_type": "code",
   "execution_count": 1,
   "id": "9f7121c0",
   "metadata": {
    "ExecuteTime": {
     "end_time": "2024-05-01T09:21:38.889201Z",
     "start_time": "2024-05-01T09:21:37.655163Z"
    }
   },
   "outputs": [],
   "source": [
    "import numpy as np\n",
    "import matplotlib.pyplot as plt\n",
    "from scipy import optimize"
   ]
  },
  {
   "cell_type": "code",
   "execution_count": null,
   "id": "5d47e5aa",
   "metadata": {},
   "outputs": [],
   "source": []
  },
  {
   "cell_type": "code",
   "execution_count": 2,
   "id": "0814486a",
   "metadata": {
    "ExecuteTime": {
     "end_time": "2024-05-01T09:22:32.601960Z",
     "start_time": "2024-05-01T09:22:32.595458Z"
    }
   },
   "outputs": [],
   "source": [
    "def f(y, m_l, m_B):\n",
    "    return -1.0 + np.sum(m_l * np.exp(- m_B * y))\n",
    "\n",
    "def df(y, m_l, m_B):\n",
    "    return -np.sum(m_B * m_l * np.exp(- m_B * y))"
   ]
  },
  {
   "cell_type": "code",
   "execution_count": 3,
   "id": "bb1a3613",
   "metadata": {
    "ExecuteTime": {
     "end_time": "2024-05-01T09:23:03.780840Z",
     "start_time": "2024-05-01T09:23:03.771015Z"
    }
   },
   "outputs": [],
   "source": [
    "m_l = np.array([0.0036132256153053369, 0.95110068028445593])\n",
    "m_B = np.array([0.48884897299905006, 0.95605658765269563])\n",
    "guess = -0.048557088449677460"
   ]
  },
  {
   "cell_type": "code",
   "execution_count": 9,
   "id": "85920a9b",
   "metadata": {
    "ExecuteTime": {
     "end_time": "2024-05-01T09:24:26.585143Z",
     "start_time": "2024-05-01T09:24:26.579179Z"
    }
   },
   "outputs": [],
   "source": [
    "root = optimize.root_scalar(f, x0=guess, fprime=df, args=(m_l, m_B), method='newton', rtol=1e-9)"
   ]
  },
  {
   "cell_type": "code",
   "execution_count": 10,
   "id": "c1cb7416",
   "metadata": {
    "ExecuteTime": {
     "end_time": "2024-05-01T09:24:27.255187Z",
     "start_time": "2024-05-01T09:24:27.249367Z"
    }
   },
   "outputs": [
    {
     "data": {
      "text/plain": [
       "      converged: True\n",
       "           flag: converged\n",
       " function_calls: 4\n",
       "     iterations: 2\n",
       "           root: -0.048562463754145045\n",
       "         method: newton"
      ]
     },
     "execution_count": 10,
     "metadata": {},
     "output_type": "execute_result"
    }
   ],
   "source": [
    "root"
   ]
  },
  {
   "cell_type": "code",
   "execution_count": null,
   "id": "21daea75",
   "metadata": {},
   "outputs": [],
   "source": []
  }
 ],
 "metadata": {
  "hide_input": false,
  "kernelspec": {
   "display_name": "Python 3",
   "language": "python",
   "name": "python3"
  },
  "language_info": {
   "codemirror_mode": {
    "name": "ipython",
    "version": 3
   },
   "file_extension": ".py",
   "mimetype": "text/x-python",
   "name": "python",
   "nbconvert_exporter": "python",
   "pygments_lexer": "ipython3",
   "version": "3.10.6"
  },
  "toc": {
   "base_numbering": 1,
   "nav_menu": {},
   "number_sections": true,
   "sideBar": true,
   "skip_h1_title": false,
   "title_cell": "Table of Contents",
   "title_sidebar": "Contents",
   "toc_cell": false,
   "toc_position": {},
   "toc_section_display": true,
   "toc_window_display": false
  },
  "varInspector": {
   "cols": {
    "lenName": 16,
    "lenType": 16,
    "lenVar": 40
   },
   "kernels_config": {
    "python": {
     "delete_cmd_postfix": "",
     "delete_cmd_prefix": "del ",
     "library": "var_list.py",
     "varRefreshCmd": "print(var_dic_list())"
    },
    "r": {
     "delete_cmd_postfix": ") ",
     "delete_cmd_prefix": "rm(",
     "library": "var_list.r",
     "varRefreshCmd": "cat(var_dic_list()) "
    }
   },
   "types_to_exclude": [
    "module",
    "function",
    "builtin_function_or_method",
    "instance",
    "_Feature"
   ],
   "window_display": false
  }
 },
 "nbformat": 4,
 "nbformat_minor": 5
}
