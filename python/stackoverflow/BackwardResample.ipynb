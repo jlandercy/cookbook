{
 "cells": [
  {
   "cell_type": "code",
   "execution_count": 1,
   "id": "50d04617",
   "metadata": {
    "ExecuteTime": {
     "end_time": "2024-04-13T15:57:24.394752Z",
     "start_time": "2024-04-13T15:57:23.905930Z"
    }
   },
   "outputs": [],
   "source": [
    "import pandas as pd"
   ]
  },
  {
   "cell_type": "code",
   "execution_count": null,
   "id": "72fef144",
   "metadata": {},
   "outputs": [],
   "source": []
  },
  {
   "cell_type": "markdown",
   "id": "e96e3ed2",
   "metadata": {},
   "source": [
    "https://stackoverflow.com/questions/78315553/pandas-bug-when-trying-to-loc-data-on-a-quarter/78320367#78320367"
   ]
  },
  {
   "cell_type": "code",
   "execution_count": 11,
   "id": "2658b4f2",
   "metadata": {
    "ExecuteTime": {
     "end_time": "2024-04-13T16:02:25.519727Z",
     "start_time": "2024-04-13T16:02:25.133380Z"
    }
   },
   "outputs": [
    {
     "data": {
      "text/plain": [
       "DatetimeIndex(['2014-01-01', '2014-02-01', '2014-03-01', '2014-04-01',\n",
       "               '2014-05-01', '2014-06-01', '2014-07-01', '2014-08-01',\n",
       "               '2014-09-01', '2014-10-01',\n",
       "               ...\n",
       "               '2022-04-01', '2022-05-01', '2022-06-01', '2022-07-01',\n",
       "               '2022-08-01', '2022-09-01', '2022-10-01', '2022-11-01',\n",
       "               '2022-12-01', '2023-01-01'],\n",
       "              dtype='datetime64[ns]', length=109, freq='MS')"
      ]
     },
     "execution_count": 11,
     "metadata": {},
     "output_type": "execute_result"
    }
   ],
   "source": [
    "index = pd.date_range(start=\"2014-01-01\", end=\"2023-01-01\", freq=\"MS\")\n",
    "index"
   ]
  },
  {
   "cell_type": "code",
   "execution_count": 12,
   "id": "4fa9ac37",
   "metadata": {
    "ExecuteTime": {
     "end_time": "2024-04-13T16:02:27.508070Z",
     "start_time": "2024-04-13T16:02:27.482781Z"
    }
   },
   "outputs": [],
   "source": [
    "df = pd.DataFrame(index=index)"
   ]
  },
  {
   "cell_type": "code",
   "execution_count": 13,
   "id": "a7f35187",
   "metadata": {
    "ExecuteTime": {
     "end_time": "2024-04-13T16:02:28.138786Z",
     "start_time": "2024-04-13T16:02:28.032558Z"
    }
   },
   "outputs": [
    {
     "data": {
      "text/html": [
       "<div>\n",
       "<style scoped>\n",
       "    .dataframe tbody tr th:only-of-type {\n",
       "        vertical-align: middle;\n",
       "    }\n",
       "\n",
       "    .dataframe tbody tr th {\n",
       "        vertical-align: top;\n",
       "    }\n",
       "\n",
       "    .dataframe thead th {\n",
       "        text-align: right;\n",
       "    }\n",
       "</style>\n",
       "<table border=\"1\" class=\"dataframe\">\n",
       "  <thead>\n",
       "    <tr style=\"text-align: right;\">\n",
       "      <th></th>\n",
       "    </tr>\n",
       "  </thead>\n",
       "  <tbody>\n",
       "    <tr>\n",
       "      <th>2014-01-01</th>\n",
       "    </tr>\n",
       "    <tr>\n",
       "      <th>2014-02-01</th>\n",
       "    </tr>\n",
       "    <tr>\n",
       "      <th>2014-03-01</th>\n",
       "    </tr>\n",
       "  </tbody>\n",
       "</table>\n",
       "</div>"
      ],
      "text/plain": [
       "Empty DataFrame\n",
       "Columns: []\n",
       "Index: [2014-01-01 00:00:00, 2014-02-01 00:00:00, 2014-03-01 00:00:00]"
      ]
     },
     "execution_count": 13,
     "metadata": {},
     "output_type": "execute_result"
    }
   ],
   "source": [
    "df.loc[\"2014-Q1\"]"
   ]
  },
  {
   "cell_type": "code",
   "execution_count": 19,
   "id": "befbaedb",
   "metadata": {
    "ExecuteTime": {
     "end_time": "2024-04-13T16:11:21.312936Z",
     "start_time": "2024-04-13T16:11:21.299445Z"
    }
   },
   "outputs": [
    {
     "data": {
      "text/html": [
       "<div>\n",
       "<style scoped>\n",
       "    .dataframe tbody tr th:only-of-type {\n",
       "        vertical-align: middle;\n",
       "    }\n",
       "\n",
       "    .dataframe tbody tr th {\n",
       "        vertical-align: top;\n",
       "    }\n",
       "\n",
       "    .dataframe thead th {\n",
       "        text-align: right;\n",
       "    }\n",
       "</style>\n",
       "<table border=\"1\" class=\"dataframe\">\n",
       "  <thead>\n",
       "    <tr style=\"text-align: right;\">\n",
       "      <th></th>\n",
       "    </tr>\n",
       "  </thead>\n",
       "  <tbody>\n",
       "    <tr>\n",
       "      <th>2014-01-01</th>\n",
       "    </tr>\n",
       "  </tbody>\n",
       "</table>\n",
       "</div>"
      ],
      "text/plain": [
       "Empty DataFrame\n",
       "Columns: []\n",
       "Index: [2014-01-01 00:00:00]"
      ]
     },
     "execution_count": 19,
     "metadata": {},
     "output_type": "execute_result"
    }
   ],
   "source": [
    "df.resample(\"QS\").first().loc[\"2015-Q1\"]"
   ]
  },
  {
   "cell_type": "code",
   "execution_count": null,
   "id": "f1e80671",
   "metadata": {},
   "outputs": [],
   "source": []
  }
 ],
 "metadata": {
  "hide_input": false,
  "kernelspec": {
   "display_name": "Python 3",
   "language": "python",
   "name": "python3"
  },
  "language_info": {
   "codemirror_mode": {
    "name": "ipython",
    "version": 3
   },
   "file_extension": ".py",
   "mimetype": "text/x-python",
   "name": "python",
   "nbconvert_exporter": "python",
   "pygments_lexer": "ipython3",
   "version": "3.10.6"
  },
  "toc": {
   "base_numbering": 1,
   "nav_menu": {},
   "number_sections": true,
   "sideBar": true,
   "skip_h1_title": false,
   "title_cell": "Table of Contents",
   "title_sidebar": "Contents",
   "toc_cell": false,
   "toc_position": {},
   "toc_section_display": true,
   "toc_window_display": false
  },
  "varInspector": {
   "cols": {
    "lenName": 16,
    "lenType": 16,
    "lenVar": 40
   },
   "kernels_config": {
    "python": {
     "delete_cmd_postfix": "",
     "delete_cmd_prefix": "del ",
     "library": "var_list.py",
     "varRefreshCmd": "print(var_dic_list())"
    },
    "r": {
     "delete_cmd_postfix": ") ",
     "delete_cmd_prefix": "rm(",
     "library": "var_list.r",
     "varRefreshCmd": "cat(var_dic_list()) "
    }
   },
   "types_to_exclude": [
    "module",
    "function",
    "builtin_function_or_method",
    "instance",
    "_Feature"
   ],
   "window_display": false
  }
 },
 "nbformat": 4,
 "nbformat_minor": 5
}
