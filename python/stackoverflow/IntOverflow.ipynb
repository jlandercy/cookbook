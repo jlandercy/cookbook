{
 "cells": [
  {
   "cell_type": "code",
   "execution_count": 1,
   "id": "55e8eb7d",
   "metadata": {
    "ExecuteTime": {
     "end_time": "2024-06-08T06:27:44.434642Z",
     "start_time": "2024-06-08T06:27:44.429003Z"
    }
   },
   "outputs": [],
   "source": [
    "import numpy as np"
   ]
  },
  {
   "cell_type": "code",
   "execution_count": null,
   "id": "fc7fe70c",
   "metadata": {},
   "outputs": [],
   "source": []
  },
  {
   "cell_type": "code",
   "execution_count": null,
   "id": "f76e0c1a",
   "metadata": {},
   "outputs": [],
   "source": []
  },
  {
   "cell_type": "code",
   "execution_count": 4,
   "id": "42603a90",
   "metadata": {
    "ExecuteTime": {
     "end_time": "2024-06-09T08:33:46.019825Z",
     "start_time": "2024-06-09T08:33:46.013876Z"
    }
   },
   "outputs": [
    {
     "name": "stdout",
     "output_type": "stream",
     "text": [
      "[[-1323752223  1836311903]\n",
      " [ 1836311903  1134903170]] int32\n"
     ]
    }
   ],
   "source": [
    "A = np.array([[1, 1], [1, 0]], dtype=\"int32\")\n",
    "B = np.linalg.matrix_power(A, 46)\n",
    "print(B, A.dtype)"
   ]
  },
  {
   "cell_type": "code",
   "execution_count": null,
   "id": "704f66e3",
   "metadata": {},
   "outputs": [],
   "source": []
  },
  {
   "cell_type": "code",
   "execution_count": 3,
   "id": "e8b58e5b",
   "metadata": {
    "ExecuteTime": {
     "end_time": "2024-06-09T08:33:34.104496Z",
     "start_time": "2024-06-09T08:33:34.095797Z"
    }
   },
   "outputs": [
    {
     "name": "stdout",
     "output_type": "stream",
     "text": [
      "[[2971215073 1836311903]\n",
      " [1836311903 1134903170]] int64\n"
     ]
    }
   ],
   "source": [
    "A = np.array([[1, 1], [1, 0]], dtype=\"int64\")\n",
    "B = np.linalg.matrix_power(A, 46)\n",
    "print(B, A.dtype)"
   ]
  },
  {
   "cell_type": "code",
   "execution_count": null,
   "id": "9f76c4c5",
   "metadata": {},
   "outputs": [],
   "source": []
  },
  {
   "cell_type": "code",
   "execution_count": 2,
   "id": "f68af735",
   "metadata": {
    "ExecuteTime": {
     "end_time": "2024-06-09T08:33:20.185494Z",
     "start_time": "2024-06-09T08:33:20.168601Z"
    }
   },
   "outputs": [
    {
     "name": "stdout",
     "output_type": "stream",
     "text": [
      "[[2.9712151e+09 1.8363119e+09]\n",
      " [1.8363119e+09 1.1349032e+09]] float32\n"
     ]
    }
   ],
   "source": [
    "A = np.array([[1, 1], [1, 0]], dtype=\"float32\")\n",
    "B = np.linalg.matrix_power(A, 46)\n",
    "print(B, A.dtype)"
   ]
  },
  {
   "cell_type": "code",
   "execution_count": null,
   "id": "ef016bd9",
   "metadata": {},
   "outputs": [],
   "source": []
  },
  {
   "cell_type": "code",
   "execution_count": 1,
   "id": "969c1ba2",
   "metadata": {
    "ExecuteTime": {
     "end_time": "2024-06-09T08:33:02.350883Z",
     "start_time": "2024-06-09T08:33:02.329276Z"
    }
   },
   "outputs": [
    {
     "name": "stdout",
     "output_type": "stream",
     "text": [
      "[[2.97121507e+09 1.83631190e+09]\n",
      " [1.83631190e+09 1.13490317e+09]] float64\n"
     ]
    }
   ],
   "source": [
    "A = np.array([[1, 1], [1, 0]], dtype=\"float64\")\n",
    "B = np.linalg.matrix_power(A, 46)\n",
    "print(B, A.dtype)"
   ]
  },
  {
   "cell_type": "code",
   "execution_count": null,
   "id": "a8446a45",
   "metadata": {
    "ExecuteTime": {
     "end_time": "2024-06-08T06:28:47.915327Z",
     "start_time": "2024-06-08T06:28:47.864337Z"
    }
   },
   "outputs": [],
   "source": []
  },
  {
   "cell_type": "code",
   "execution_count": 5,
   "id": "a37c6070",
   "metadata": {
    "ExecuteTime": {
     "end_time": "2024-06-09T08:34:18.340574Z",
     "start_time": "2024-06-09T08:34:18.329206Z"
    }
   },
   "outputs": [
    {
     "name": "stdout",
     "output_type": "stream",
     "text": [
      "[[2971215073 1836311903]\n",
      " [1836311903 1134903170]] object\n"
     ]
    }
   ],
   "source": [
    "A = np.array([[1, 1], [1, 0]], dtype=object)\n",
    "B = np.linalg.matrix_power(A, 46)\n",
    "print(B, A.dtype)"
   ]
  },
  {
   "cell_type": "code",
   "execution_count": 7,
   "id": "b66cf5ff",
   "metadata": {
    "ExecuteTime": {
     "end_time": "2024-06-09T08:34:35.601235Z",
     "start_time": "2024-06-09T08:34:35.595598Z"
    }
   },
   "outputs": [
    {
     "name": "stdout",
     "output_type": "stream",
     "text": [
      "[[573147844013817084101 354224848179261915075]\n",
      " [354224848179261915075 218922995834555169026]] object\n"
     ]
    }
   ],
   "source": [
    "A = np.array([[1, 1], [1, 0]], dtype=object)\n",
    "B = np.linalg.matrix_power(A, 100)\n",
    "print(B, A.dtype)"
   ]
  },
  {
   "cell_type": "code",
   "execution_count": null,
   "id": "42eb088a",
   "metadata": {},
   "outputs": [],
   "source": []
  }
 ],
 "metadata": {
  "hide_input": false,
  "kernelspec": {
   "display_name": "Python 3",
   "language": "python",
   "name": "python3"
  },
  "language_info": {
   "codemirror_mode": {
    "name": "ipython",
    "version": 3
   },
   "file_extension": ".py",
   "mimetype": "text/x-python",
   "name": "python",
   "nbconvert_exporter": "python",
   "pygments_lexer": "ipython3",
   "version": "3.10.6"
  },
  "toc": {
   "base_numbering": 1,
   "nav_menu": {},
   "number_sections": true,
   "sideBar": true,
   "skip_h1_title": false,
   "title_cell": "Table of Contents",
   "title_sidebar": "Contents",
   "toc_cell": false,
   "toc_position": {},
   "toc_section_display": true,
   "toc_window_display": false
  },
  "varInspector": {
   "cols": {
    "lenName": 16,
    "lenType": 16,
    "lenVar": 40
   },
   "kernels_config": {
    "python": {
     "delete_cmd_postfix": "",
     "delete_cmd_prefix": "del ",
     "library": "var_list.py",
     "varRefreshCmd": "print(var_dic_list())"
    },
    "r": {
     "delete_cmd_postfix": ") ",
     "delete_cmd_prefix": "rm(",
     "library": "var_list.r",
     "varRefreshCmd": "cat(var_dic_list()) "
    }
   },
   "types_to_exclude": [
    "module",
    "function",
    "builtin_function_or_method",
    "instance",
    "_Feature"
   ],
   "window_display": false
  }
 },
 "nbformat": 4,
 "nbformat_minor": 5
}
