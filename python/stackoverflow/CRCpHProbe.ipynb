{
 "cells": [
  {
   "cell_type": "code",
   "execution_count": 1,
   "id": "a92c3440",
   "metadata": {},
   "outputs": [],
   "source": [
    "from collections.abc import Callable\n",
    "import crcmod"
   ]
  },
  {
   "cell_type": "code",
   "execution_count": 2,
   "id": "e11b23a4",
   "metadata": {},
   "outputs": [],
   "source": [
    "crc8 = crcmod.mkCrcFun(0x107, rev=False, initCrc=0x00, xorOut=0x00)\n",
    "crc16 = crcmod.mkCrcFun(0x18005, rev=False, initCrc=0xffff, xorOut=0x0000)\n",
    "crc32 = crcmod.mkCrcFun(poly=0x104c11db7, rev=True, initCrc=0x00000000, xorOut=0xffffffff)"
   ]
  },
  {
   "cell_type": "code",
   "execution_count": null,
   "id": "49e89552",
   "metadata": {},
   "outputs": [],
   "source": []
  },
  {
   "cell_type": "code",
   "execution_count": null,
   "id": "8b38a1dc",
   "metadata": {},
   "outputs": [],
   "source": []
  },
  {
   "cell_type": "code",
   "execution_count": 3,
   "id": "b1522633",
   "metadata": {},
   "outputs": [],
   "source": [
    "datagrams = [\n",
    "    b\"\\x00\\x01\\x1A\\x04\\x00\\x1F\\x22\\x04\\x26\\x80\",\n",
    "    b\"\\x00\\x01\\x1A\\x04\\x00\\x1F\\x29\\xE9\\xC0\\x77\",\n",
    "    b\"\\x00\\x01\\x1A\\x04\\x00\\x1F\\x52\\xA8\\xFA\\x18\",\n",
    "    b\"\\x00\\x01\\x1A\\x04\\x00\\x1F\\x6B\\x5F\\x34\\x13\",\n",
    "]"
   ]
  },
  {
   "cell_type": "code",
   "execution_count": 4,
   "id": "6f868046",
   "metadata": {},
   "outputs": [],
   "source": [
    "def checksum(payload: bytes, method: Callable = crc32, size: int = 4, order: str = \"big\") -> bytes:\n",
    "    return method(payload).to_bytes(size, order)"
   ]
  },
  {
   "cell_type": "code",
   "execution_count": null,
   "id": "cec87eff",
   "metadata": {},
   "outputs": [],
   "source": []
  },
  {
   "cell_type": "code",
   "execution_count": 5,
   "id": "e3960227",
   "metadata": {},
   "outputs": [
    {
     "name": "stdout",
     "output_type": "stream",
     "text": [
      "False: [b'\\x80', b'w', b'\\x18', b'\\x13'] [b'\\xb1', b'K', b'(', b'\\xe8']\n",
      "False: [b'&\\x80', b'\\xc0w', b'\\xfa\\x18', b'4\\x13'] [b'\\x7f\\xac', b'\\xc7\\xc1', b'\\\\B', b'Hs']\n",
      "False: [b'\"\\x04&\\x80', b')\\xe9\\xc0w', b'R\\xa8\\xfa\\x18', b'k_4\\x13'] [b'9\\x07\\x9a\\xc1', b'9\\x07\\x9a\\xc1', b'9\\x07\\x9a\\xc1', b'9\\x07\\x9a\\xc1']\n"
     ]
    }
   ],
   "source": [
    "for method, size in [(crc8, 1), (crc16, 2), (crc32, 4)]:\n",
    "    checksums = [checksum(datagram[:-size], method=method, size=size) for datagram in datagrams]\n",
    "    trials = [datagram[-size:] for datagram in datagrams]\n",
    "    checked = checksum == trials\n",
    "    print(f\"{checked}: {trials} {checksums}\")"
   ]
  },
  {
   "cell_type": "code",
   "execution_count": null,
   "id": "7070b8b1",
   "metadata": {},
   "outputs": [],
   "source": []
  },
  {
   "cell_type": "code",
   "execution_count": null,
   "id": "1310379f",
   "metadata": {},
   "outputs": [],
   "source": []
  },
  {
   "cell_type": "code",
   "execution_count": null,
   "id": "b5724779",
   "metadata": {},
   "outputs": [],
   "source": []
  },
  {
   "cell_type": "code",
   "execution_count": null,
   "id": "d615d169",
   "metadata": {},
   "outputs": [],
   "source": []
  },
  {
   "cell_type": "code",
   "execution_count": null,
   "id": "97a8e256",
   "metadata": {},
   "outputs": [],
   "source": []
  },
  {
   "cell_type": "code",
   "execution_count": null,
   "id": "2dbba9f6",
   "metadata": {},
   "outputs": [],
   "source": []
  },
  {
   "cell_type": "code",
   "execution_count": null,
   "id": "06af1a6f",
   "metadata": {},
   "outputs": [],
   "source": []
  },
  {
   "cell_type": "code",
   "execution_count": null,
   "id": "debf9056",
   "metadata": {},
   "outputs": [],
   "source": []
  },
  {
   "cell_type": "code",
   "execution_count": null,
   "id": "2266cd3f",
   "metadata": {},
   "outputs": [],
   "source": []
  }
 ],
 "metadata": {
  "kernelspec": {
   "display_name": "Python 3 (ipykernel)",
   "language": "python",
   "name": "python3"
  },
  "language_info": {
   "codemirror_mode": {
    "name": "ipython",
    "version": 3
   },
   "file_extension": ".py",
   "mimetype": "text/x-python",
   "name": "python",
   "nbconvert_exporter": "python",
   "pygments_lexer": "ipython3",
   "version": "3.9.7"
  }
 },
 "nbformat": 4,
 "nbformat_minor": 5
}
