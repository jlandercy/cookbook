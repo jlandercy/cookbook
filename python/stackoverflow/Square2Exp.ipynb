{
 "cells": [
  {
   "cell_type": "code",
   "execution_count": 1,
   "id": "d2ebd99f",
   "metadata": {
    "ExecuteTime": {
     "end_time": "2024-06-14T10:06:10.241441Z",
     "start_time": "2024-06-14T10:06:08.228476Z"
    }
   },
   "outputs": [],
   "source": [
    "import numpy as np\n",
    "import numdifftools as nd\n",
    "import matplotlib.pyplot as plt\n",
    "from scipy import optimize, stats"
   ]
  },
  {
   "cell_type": "markdown",
   "id": "f8755fec",
   "metadata": {},
   "source": [
    "https://stackoverflow.com/questions/78619620/possible-to-see-estimated-parameter-array-of-curve-fit-function-used-to-calculat"
   ]
  },
  {
   "cell_type": "code",
   "execution_count": 2,
   "id": "fb0b2c74",
   "metadata": {
    "ExecuteTime": {
     "end_time": "2024-06-14T10:06:10.248987Z",
     "start_time": "2024-06-14T10:06:10.245313Z"
    }
   },
   "outputs": [],
   "source": [
    "x_data = np.array([1, 2, 3, 4, 5])\n",
    "y_data = np.array([2, 4, 9, 16, 25])\n",
    "\n",
    "def model(x, a, b):\n",
    "    return a * np.exp(- b * x)"
   ]
  },
  {
   "cell_type": "code",
   "execution_count": 3,
   "id": "0221f0d6",
   "metadata": {
    "ExecuteTime": {
     "end_time": "2024-06-14T10:06:10.279102Z",
     "start_time": "2024-06-14T10:06:10.253212Z"
    }
   },
   "outputs": [
    {
     "data": {
      "text/plain": [
       "(array([ 1.6726804 , -0.54517096]),\n",
       " array([[0.0919559 , 0.0117965 ],\n",
       "        [0.0117965 , 0.00156188]]))"
      ]
     },
     "execution_count": 3,
     "metadata": {},
     "output_type": "execute_result"
    }
   ],
   "source": [
    "popt, pcov = optimize.curve_fit(model, x_data, y_data, absolute_sigma=True)\n",
    "popt, pcov"
   ]
  },
  {
   "cell_type": "code",
   "execution_count": 4,
   "id": "1304626a",
   "metadata": {
    "ExecuteTime": {
     "end_time": "2024-06-14T10:06:10.289823Z",
     "start_time": "2024-06-14T10:06:10.283969Z"
    }
   },
   "outputs": [],
   "source": [
    "def loss_factory(x, y):\n",
    "    def wrapped(p):\n",
    "        return 0.5 * np.sum(np.power(y - model(x, *p), 2))\n",
    "    return wrapped"
   ]
  },
  {
   "cell_type": "code",
   "execution_count": 5,
   "id": "206b50df",
   "metadata": {
    "ExecuteTime": {
     "end_time": "2024-06-14T10:06:10.298272Z",
     "start_time": "2024-06-14T10:06:10.293924Z"
    }
   },
   "outputs": [],
   "source": [
    "loss = loss_factory(x_data, y_data)"
   ]
  },
  {
   "cell_type": "code",
   "execution_count": 6,
   "id": "0b67db1d",
   "metadata": {
    "ExecuteTime": {
     "end_time": "2024-06-14T10:06:10.346918Z",
     "start_time": "2024-06-14T10:06:10.302228Z"
    }
   },
   "outputs": [
    {
     "data": {
      "text/plain": [
       "  message: Optimization terminated successfully.\n",
       "  success: True\n",
       "   status: 0\n",
       "      fun: 1.8128954064320124\n",
       "        x: [ 1.673e+00 -5.452e-01]\n",
       "      nit: 26\n",
       "      jac: [-1.490e-06  8.389e-06]\n",
       " hess_inv: [[ 8.511e-02  1.089e-02]\n",
       "            [ 1.089e-02  1.443e-03]]\n",
       "     nfev: 129\n",
       "     njev: 43"
      ]
     },
     "execution_count": 6,
     "metadata": {},
     "output_type": "execute_result"
    }
   ],
   "source": [
    "sol = optimize.minimize(loss, x0=[1., -1.])\n",
    "sol"
   ]
  },
  {
   "cell_type": "code",
   "execution_count": 7,
   "id": "dd571835",
   "metadata": {
    "ExecuteTime": {
     "end_time": "2024-06-14T10:06:10.374783Z",
     "start_time": "2024-06-14T10:06:10.350440Z"
    }
   },
   "outputs": [
    {
     "data": {
      "text/plain": [
       "array([[0.08518073, 0.01089965],\n",
       "       [0.01089965, 0.00144316]])"
      ]
     },
     "execution_count": 7,
     "metadata": {},
     "output_type": "execute_result"
    }
   ],
   "source": [
    "H = nd.Hessian(loss)(sol.x)\n",
    "C = np.linalg.inv(H)\n",
    "C "
   ]
  },
  {
   "cell_type": "code",
   "execution_count": null,
   "id": "845a9499",
   "metadata": {},
   "outputs": [],
   "source": []
  },
  {
   "cell_type": "code",
   "execution_count": null,
   "id": "4b20b6a6",
   "metadata": {},
   "outputs": [],
   "source": []
  },
  {
   "cell_type": "code",
   "execution_count": null,
   "id": "cea1f9e4",
   "metadata": {},
   "outputs": [],
   "source": []
  },
  {
   "cell_type": "code",
   "execution_count": 8,
   "id": "83e9b901",
   "metadata": {
    "ExecuteTime": {
     "end_time": "2024-06-14T10:06:10.391720Z",
     "start_time": "2024-06-14T10:06:10.380777Z"
    }
   },
   "outputs": [],
   "source": [
    "np.random.seed(123456)\n",
    "x = np.linspace(-1, 1, 3000)\n",
    "p = (2.5, 1.2)\n",
    "y = model(x, *p)\n",
    "s = 0.1 * np.ones_like(x)\n",
    "n = s * np.random.normal(size=x.size)\n",
    "yn = y + n"
   ]
  },
  {
   "cell_type": "code",
   "execution_count": 9,
   "id": "dabd1b13",
   "metadata": {
    "ExecuteTime": {
     "end_time": "2024-06-14T10:06:10.404137Z",
     "start_time": "2024-06-14T10:06:10.395574Z"
    }
   },
   "outputs": [],
   "source": [
    "def loss_factory(x, y, s):\n",
    "    def wrapped(p):\n",
    "        return 0.5 * np.sum(np.power((y - model(x, *p)) / s, 2))\n",
    "    return wrapped"
   ]
  },
  {
   "cell_type": "code",
   "execution_count": 10,
   "id": "d4f09a6f",
   "metadata": {
    "ExecuteTime": {
     "end_time": "2024-06-14T10:06:10.416549Z",
     "start_time": "2024-06-14T10:06:10.411856Z"
    }
   },
   "outputs": [],
   "source": [
    "loss = loss_factory(x, yn, s)"
   ]
  },
  {
   "cell_type": "code",
   "execution_count": 11,
   "id": "d2dd9923",
   "metadata": {
    "ExecuteTime": {
     "end_time": "2024-06-14T10:06:10.434990Z",
     "start_time": "2024-06-14T10:06:10.421908Z"
    }
   },
   "outputs": [
    {
     "data": {
      "text/plain": [
       "(array([2.50042509, 1.19873061]),\n",
       " array([[ 5.22097958e-06, -2.50399907e-06],\n",
       "        [-2.50399907e-06,  1.66936758e-06]]))"
      ]
     },
     "execution_count": 11,
     "metadata": {},
     "output_type": "execute_result"
    }
   ],
   "source": [
    "popt, pcov = optimize.curve_fit(model, x, yn, sigma=s, absolute_sigma=True)\n",
    "popt, pcov"
   ]
  },
  {
   "cell_type": "code",
   "execution_count": 12,
   "id": "f237bbeb",
   "metadata": {
    "ExecuteTime": {
     "end_time": "2024-06-14T10:06:10.474408Z",
     "start_time": "2024-06-14T10:06:10.438334Z"
    }
   },
   "outputs": [
    {
     "data": {
      "text/plain": [
       "  message: Optimization terminated successfully.\n",
       "  success: True\n",
       "   status: 0\n",
       "      fun: 1554.9574613298098\n",
       "        x: [ 2.500e+00  1.199e+00]\n",
       "      nit: 11\n",
       "      jac: [-9.155e-05 -4.578e-05]\n",
       " hess_inv: [[ 5.208e-06 -2.497e-06]\n",
       "            [-2.497e-06  1.666e-06]]\n",
       "     nfev: 60\n",
       "     njev: 20"
      ]
     },
     "execution_count": 12,
     "metadata": {},
     "output_type": "execute_result"
    }
   ],
   "source": [
    "sol = optimize.minimize(loss, x0=[1., 1.], tol=1e-4)\n",
    "sol"
   ]
  },
  {
   "cell_type": "code",
   "execution_count": 13,
   "id": "0ffb1369",
   "metadata": {
    "ExecuteTime": {
     "end_time": "2024-06-14T10:06:10.512623Z",
     "start_time": "2024-06-14T10:06:10.479251Z"
    }
   },
   "outputs": [
    {
     "data": {
      "text/plain": [
       "array([[ 5.22047492e-06, -2.50366278e-06],\n",
       "       [-2.50366278e-06,  1.66914356e-06]])"
      ]
     },
     "execution_count": 13,
     "metadata": {},
     "output_type": "execute_result"
    }
   ],
   "source": [
    "H = nd.Hessian(loss)(sol.x)\n",
    "C = np.linalg.inv(H)\n",
    "C"
   ]
  },
  {
   "cell_type": "code",
   "execution_count": null,
   "id": "9f328cc3",
   "metadata": {},
   "outputs": [],
   "source": []
  },
  {
   "cell_type": "code",
   "execution_count": null,
   "id": "1a326504",
   "metadata": {},
   "outputs": [],
   "source": []
  },
  {
   "cell_type": "code",
   "execution_count": null,
   "id": "6892189d",
   "metadata": {},
   "outputs": [],
   "source": []
  },
  {
   "cell_type": "code",
   "execution_count": 14,
   "id": "48b5e1c7",
   "metadata": {
    "ExecuteTime": {
     "end_time": "2024-06-14T10:06:10.519043Z",
     "start_time": "2024-06-14T10:06:10.514812Z"
    }
   },
   "outputs": [],
   "source": [
    "yhat = model(x, *popt)"
   ]
  },
  {
   "cell_type": "code",
   "execution_count": 15,
   "id": "244478eb",
   "metadata": {
    "ExecuteTime": {
     "end_time": "2024-06-14T10:06:10.525446Z",
     "start_time": "2024-06-14T10:06:10.521373Z"
    }
   },
   "outputs": [],
   "source": [
    "residuals = yn - yhat"
   ]
  },
  {
   "cell_type": "code",
   "execution_count": null,
   "id": "080af431",
   "metadata": {},
   "outputs": [],
   "source": []
  },
  {
   "cell_type": "code",
   "execution_count": 16,
   "id": "54889c96",
   "metadata": {
    "ExecuteTime": {
     "end_time": "2024-06-14T10:06:10.779474Z",
     "start_time": "2024-06-14T10:06:10.528054Z"
    }
   },
   "outputs": [
    {
     "data": {
      "image/png": "[encoded data removed]",
      "text/plain": [
       "<Figure size 640x480 with 1 Axes>"
      ]
     },
     "metadata": {},
     "output_type": "display_data"
    }
   ],
   "source": [
    "fig, axe = plt.subplots()\n",
    "axe.plot(x, yn)\n",
    "axe.plot(x, yhat)\n",
    "axe.grid()"
   ]
  },
  {
   "cell_type": "code",
   "execution_count": null,
   "id": "f6aa0791",
   "metadata": {},
   "outputs": [],
   "source": []
  },
  {
   "cell_type": "code",
   "execution_count": null,
   "id": "5f5c4abc",
   "metadata": {},
   "outputs": [],
   "source": []
  },
  {
   "cell_type": "code",
   "execution_count": 17,
   "id": "10ac50b4",
   "metadata": {
    "ExecuteTime": {
     "end_time": "2024-06-14T10:06:10.791981Z",
     "start_time": "2024-06-14T10:06:10.784571Z"
    }
   },
   "outputs": [
    {
     "data": {
      "text/plain": [
       "(-3.506208994573257e-05, 0.10181543029512476)"
      ]
     },
     "execution_count": 17,
     "metadata": {},
     "output_type": "execute_result"
    }
   ],
   "source": [
    "p = stats.norm.fit(residuals)\n",
    "p"
   ]
  },
  {
   "cell_type": "code",
   "execution_count": 18,
   "id": "5f5be44e",
   "metadata": {
    "ExecuteTime": {
     "end_time": "2024-06-14T10:06:10.799726Z",
     "start_time": "2024-06-14T10:06:10.794917Z"
    }
   },
   "outputs": [],
   "source": [
    "law = stats.norm(*p)"
   ]
  },
  {
   "cell_type": "code",
   "execution_count": 19,
   "id": "6c6eeb31",
   "metadata": {
    "ExecuteTime": {
     "end_time": "2024-06-14T10:06:10.807489Z",
     "start_time": "2024-06-14T10:06:10.802871Z"
    }
   },
   "outputs": [],
   "source": [
    "rlin = np.linspace(residuals.min(), residuals.max(), 200)"
   ]
  },
  {
   "cell_type": "code",
   "execution_count": null,
   "id": "22149ca7",
   "metadata": {},
   "outputs": [],
   "source": []
  },
  {
   "cell_type": "code",
   "execution_count": null,
   "id": "4d654f26",
   "metadata": {},
   "outputs": [],
   "source": []
  },
  {
   "cell_type": "code",
   "execution_count": 20,
   "id": "2e28ea73",
   "metadata": {
    "ExecuteTime": {
     "end_time": "2024-06-14T10:06:11.047767Z",
     "start_time": "2024-06-14T10:06:10.810292Z"
    }
   },
   "outputs": [
    {
     "data": {
      "image/png": "[encoded data removed]",
      "text/plain": [
       "<Figure size 640x480 with 1 Axes>"
      ]
     },
     "metadata": {},
     "output_type": "display_data"
    }
   ],
   "source": [
    "fig, axe = plt.subplots()\n",
    "axe.hist(residuals, 15, density=1.)\n",
    "axe.plot(rlin, law.pdf(rlin))\n",
    "axe.grid()"
   ]
  },
  {
   "cell_type": "code",
   "execution_count": null,
   "id": "318ec29e",
   "metadata": {},
   "outputs": [],
   "source": []
  },
  {
   "cell_type": "code",
   "execution_count": null,
   "id": "323a24a1",
   "metadata": {},
   "outputs": [],
   "source": []
  },
  {
   "cell_type": "code",
   "execution_count": null,
   "id": "a001ba22",
   "metadata": {},
   "outputs": [],
   "source": []
  }
 ],
 "metadata": {
  "hide_input": false,
  "kernelspec": {
   "display_name": "Python 3",
   "language": "python",
   "name": "python3"
  },
  "language_info": {
   "codemirror_mode": {
    "name": "ipython",
    "version": 3
   },
   "file_extension": ".py",
   "mimetype": "text/x-python",
   "name": "python",
   "nbconvert_exporter": "python",
   "pygments_lexer": "ipython3",
   "version": "3.10.6"
  },
  "toc": {
   "base_numbering": 1,
   "nav_menu": {},
   "number_sections": true,
   "sideBar": true,
   "skip_h1_title": false,
   "title_cell": "Table of Contents",
   "title_sidebar": "Contents",
   "toc_cell": false,
   "toc_position": {},
   "toc_section_display": true,
   "toc_window_display": false
  },
  "varInspector": {
   "cols": {
    "lenName": 16,
    "lenType": 16,
    "lenVar": 40
   },
   "kernels_config": {
    "python": {
     "delete_cmd_postfix": "",
     "delete_cmd_prefix": "del ",
     "library": "var_list.py",
     "varRefreshCmd": "print(var_dic_list())"
    },
    "r": {
     "delete_cmd_postfix": ") ",
     "delete_cmd_prefix": "rm(",
     "library": "var_list.r",
     "varRefreshCmd": "cat(var_dic_list()) "
    }
   },
   "types_to_exclude": [
    "module",
    "function",
    "builtin_function_or_method",
    "instance",
    "_Feature"
   ],
   "window_display": false
  }
 },
 "nbformat": 4,
 "nbformat_minor": 5
}
