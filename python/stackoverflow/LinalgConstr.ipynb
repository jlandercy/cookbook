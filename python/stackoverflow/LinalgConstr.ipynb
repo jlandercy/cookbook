{
 "cells": [
  {
   "cell_type": "code",
   "execution_count": 1,
   "id": "3d09ebc5",
   "metadata": {
    "ExecuteTime": {
     "end_time": "2024-08-07T07:45:42.358011Z",
     "start_time": "2024-08-07T07:45:41.385764Z"
    }
   },
   "outputs": [],
   "source": [
    "import numpy as np\n",
    "from scipy import linalg, optimize"
   ]
  },
  {
   "cell_type": "markdown",
   "id": "3e7ef23b",
   "metadata": {},
   "source": [
    "https://stackoverflow.com/questions/78841904/python-scipy-optimize-gives-wrong-answer-how-to-deal-with-semidefinite-positive\n",
    "\n",
    "```\n",
    "It seems you have two key points to address:\n",
    "  \n",
    "  - Constraints must be somehow differentiable;\n",
    "  - Initial guess must be different from `np.zeros((2, 2))`.\n",
    "\n",
    "Let's adapt your MCVE:\n",
    "\n",
    "    import numpy as np\n",
    "    from scipy import linalg, optimize\n",
    "    \n",
    "    np.random.seed(123)\n",
    "    \n",
    "    def objective(x, C):\n",
    "        A0 = x[:4].reshape((2, 2))  \n",
    "        B0 = x[4:8].reshape((2, 2))\n",
    "        A0 = A0 + A0.T\n",
    "        B0 = B0 + B0.T\n",
    "        D00 = np.kron(A0, B0)\n",
    "        return - np.trace(D00 @ C)\n",
    "    \n",
    "    C = np.random.rand(4, 4)\n",
    "    \n",
    "We change initial guess for `np.ones((2, 2))`:\n",
    "\n",
    "    A0_initial = np.ones((2,2))\n",
    "    B0_initial = np.ones((2,2))\n",
    "    initial_guess = np.hstack([A0_initial.ravel(), B0_initial.ravel()])\n",
    "\n",
    "We rewrite the constraint function to be somehow more smooth and eventually differentiable:\n",
    "\n",
    "    def constraint(x, sign=+1.):\n",
    "        A0 = x.reshape((2, 2))\n",
    "        A0 = A0 + A0.T\n",
    "        U, s, Vt = linalg.svd(np.eye(2) + sign * A0)\n",
    "        return np.min(np.sign(s)) * np.prod(np.abs(s))\n",
    "\n",
    "Then your constraints can be translated as:\n",
    "\n",
    "    constraints = [\n",
    "        {'type': 'ineq', 'fun': lambda x: constraint(x[:4], sign=-1.)},\n",
    "        {'type': 'ineq', 'fun': lambda x: constraint(x[:4], sign=+1.)},\n",
    "        {'type': 'ineq', 'fun': lambda x: constraint(x[4:8], sign=-1.)},\n",
    "        {'type': 'ineq', 'fun': lambda x: constraint(x[4:8], sign=+1.)},\n",
    "    ]\n",
    "\n",
    "And the optimization goes as follow:\n",
    "\n",
    "    result = optimize.minimize(objective, initial_guess, args=(C,), constraints=constraints)\n",
    "     # message: Optimization terminated successfully\n",
    "     # success: True\n",
    "     #  status: 0\n",
    "     #     fun: -2.194729145491076e+17\n",
    "     #       x: [ 8.354e+07  7.744e+07  7.744e+07  8.840e+07  6.991e+07\n",
    "     #            8.913e+07  8.913e+07  7.693e+07]\n",
    "     #     nit: 5\n",
    "     #     jac: [ 0.000e+00  0.000e+00  0.000e+00  0.000e+00  0.000e+00\n",
    "     #            0.000e+00  0.000e+00  0.000e+00]\n",
    "     #    nfev: 45\n",
    "     #    njev: 5\n",
    "\n",
    "Notice than both `A0` and `B0` are real symmetric matrices, therefore their eigenvalues are real as well.\n",
    "\n",
    "To ensure positive definiteness, we also need to check constraints are fulfilled:\n",
    "\n",
    "    constraint(result.x[:4], sign=-1.)  # 5555271365900154.0\n",
    "    constraint(result.x[:4], sign=+1.)  # 5555271365900154.0\n",
    "    constraint(result.x[4:8], sign=-1.) # 1.0262680544836974e+16\n",
    "    constraint(result.x[4:8], sign=+1.) # 1.0262679957475332e+16\n",
    "\n",
    "Which is the case in the current example, but it not guarantied to work with any random matrix.\n",
    "```\n"
   ]
  },
  {
   "cell_type": "code",
   "execution_count": 9,
   "id": "f48ea63f",
   "metadata": {
    "ExecuteTime": {
     "end_time": "2024-08-07T07:46:47.678879Z",
     "start_time": "2024-08-07T07:46:47.667295Z"
    }
   },
   "outputs": [],
   "source": [
    "np.random.seed(123)\n",
    "\n",
    "def objective(x, C):\n",
    "    A0 = x[:4].reshape((2, 2))  \n",
    "    B0 = x[4:8].reshape((2, 2))\n",
    "    A0 = A0 + A0.T\n",
    "    B0 = B0 + B0.T\n",
    "    D00 = np.kron(A0, B0)\n",
    "    return - np.trace(D00 @ C)\n",
    "\n",
    "C = np.random.rand(4, 4)\n",
    "\n",
    "A0_initial = np.eye(2)\n",
    "B0_initial = np.eye(2)\n",
    "initial_guess = np.hstack([A0_initial.ravel(), B0_initial.ravel()])"
   ]
  },
  {
   "cell_type": "code",
   "execution_count": 10,
   "id": "3602a4b3",
   "metadata": {
    "ExecuteTime": {
     "end_time": "2024-08-07T07:46:48.214706Z",
     "start_time": "2024-08-07T07:46:48.163781Z"
    }
   },
   "outputs": [
    {
     "name": "stdout",
     "output_type": "stream",
     "text": [
      " message: Optimization terminated successfully\n",
      " success: True\n",
      "  status: 0\n",
      "     fun: -1.0327977281822147e+17\n",
      "       x: [ 6.132e+07  5.258e+07  5.258e+07  6.376e+07  4.866e+07\n",
      "            5.773e+07  5.773e+07  5.337e+07]\n",
      "     nit: 5\n",
      "     jac: [ 0.000e+00  0.000e+00  0.000e+00  0.000e+00  0.000e+00\n",
      "            0.000e+00  0.000e+00  0.000e+00]\n",
      "    nfev: 45\n",
      "    njev: 5\n"
     ]
    }
   ],
   "source": [
    "def constraint(x, sign=+1.):\n",
    "    A0 = x.reshape((2, 2))\n",
    "    A0 = A0 + A0.T\n",
    "    U, s, Vt = linalg.svd(np.eye(2) + sign * A0)\n",
    "    return np.min(np.sign(s)) * np.prod(np.abs(s))\n",
    "\n",
    "constraints = [\n",
    "    {'type': 'ineq', 'fun': lambda x: constraint(x[:4], sign=-1.)},\n",
    "    {'type': 'ineq', 'fun': lambda x: constraint(x[:4], sign=+1.)},\n",
    "    {'type': 'ineq', 'fun': lambda x: constraint(x[4:8], sign=-1.)},\n",
    "    {'type': 'ineq', 'fun': lambda x: constraint(x[4:8], sign=+1.)},\n",
    "]\n",
    "\n",
    "result = optimize.minimize(objective, initial_guess, args=(C,), constraints=constraints)\n",
    "print(result)"
   ]
  },
  {
   "cell_type": "code",
   "execution_count": 11,
   "id": "74ef91f6",
   "metadata": {
    "ExecuteTime": {
     "end_time": "2024-08-07T07:46:50.903880Z",
     "start_time": "2024-08-07T07:46:50.890379Z"
    }
   },
   "outputs": [],
   "source": [
    "c1 = constraint(result.x[:4], sign=-1.)  # 4583471366310759.0\n",
    "c2 = constraint(result.x[:4], sign=+1.)  # 4583471866661250.0\n",
    "c3 = constraint(result.x[4:8], sign=-1.) # 2940141030255427.5\n",
    "c4 = constraint(result.x[4:8], sign=+1.) # 2940140622105013.0"
   ]
  },
  {
   "cell_type": "code",
   "execution_count": 12,
   "id": "e1d44347",
   "metadata": {
    "ExecuteTime": {
     "end_time": "2024-08-07T07:46:51.581839Z",
     "start_time": "2024-08-07T07:46:51.577156Z"
    }
   },
   "outputs": [
    {
     "name": "stdout",
     "output_type": "stream",
     "text": [
      "250175242.78364667 250175246.7836467 231100091.64182442 231100091.64182442\n"
     ]
    }
   ],
   "source": [
    "print(c1, c2, c3, c4)"
   ]
  },
  {
   "cell_type": "code",
   "execution_count": null,
   "id": "062f4f64",
   "metadata": {
    "ExecuteTime": {
     "end_time": "2024-08-07T07:47:32.605372Z",
     "start_time": "2024-08-07T07:47:32.576688Z"
    }
   },
   "outputs": [],
   "source": []
  },
  {
   "cell_type": "code",
   "execution_count": null,
   "id": "03697cb9",
   "metadata": {},
   "outputs": [],
   "source": []
  }
 ],
 "metadata": {
  "hide_input": false,
  "kernelspec": {
   "display_name": "Python 3",
   "language": "python",
   "name": "python3"
  },
  "language_info": {
   "codemirror_mode": {
    "name": "ipython",
    "version": 3
   },
   "file_extension": ".py",
   "mimetype": "text/x-python",
   "name": "python",
   "nbconvert_exporter": "python",
   "pygments_lexer": "ipython3",
   "version": "3.10.6"
  },
  "toc": {
   "base_numbering": 1,
   "nav_menu": {},
   "number_sections": true,
   "sideBar": true,
   "skip_h1_title": false,
   "title_cell": "Table of Contents",
   "title_sidebar": "Contents",
   "toc_cell": false,
   "toc_position": {},
   "toc_section_display": true,
   "toc_window_display": false
  },
  "varInspector": {
   "cols": {
    "lenName": 16,
    "lenType": 16,
    "lenVar": 40
   },
   "kernels_config": {
    "python": {
     "delete_cmd_postfix": "",
     "delete_cmd_prefix": "del ",
     "library": "var_list.py",
     "varRefreshCmd": "print(var_dic_list())"
    },
    "r": {
     "delete_cmd_postfix": ") ",
     "delete_cmd_prefix": "rm(",
     "library": "var_list.r",
     "varRefreshCmd": "cat(var_dic_list()) "
    }
   },
   "types_to_exclude": [
    "module",
    "function",
    "builtin_function_or_method",
    "instance",
    "_Feature"
   ],
   "window_display": false
  }
 },
 "nbformat": 4,
 "nbformat_minor": 5
}
