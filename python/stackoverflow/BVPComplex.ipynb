{
 "cells": [
  {
   "cell_type": "code",
   "execution_count": 1,
   "id": "5f5d5a46",
   "metadata": {
    "ExecuteTime": {
     "end_time": "2024-10-16T12:47:53.189848Z",
     "start_time": "2024-10-16T12:47:51.486312Z"
    }
   },
   "outputs": [],
   "source": [
    "import numpy as np\n",
    "from scipy import integrate\n",
    "import matplotlib.pyplot as plt"
   ]
  },
  {
   "cell_type": "markdown",
   "id": "d3ef4bbe",
   "metadata": {},
   "source": [
    "https://stackoverflow.com/questions/79093433/solving-non-linear-ode-system-with-boundary-conditions-in-python"
   ]
  },
  {
   "cell_type": "code",
   "execution_count": null,
   "id": "d2303210",
   "metadata": {},
   "outputs": [],
   "source": []
  },
  {
   "cell_type": "code",
   "execution_count": 2,
   "id": "0a349795",
   "metadata": {
    "ExecuteTime": {
     "end_time": "2024-10-16T12:48:14.572659Z",
     "start_time": "2024-10-16T12:48:14.566561Z"
    }
   },
   "outputs": [],
   "source": [
    "def F(r):\n",
    "    return 1.\n",
    "\n",
    "def W(r):\n",
    "    return 1."
   ]
  },
  {
   "cell_type": "code",
   "execution_count": 3,
   "id": "0598718a",
   "metadata": {
    "ExecuteTime": {
     "end_time": "2024-10-16T12:49:24.898717Z",
     "start_time": "2024-10-16T12:49:24.886179Z"
    }
   },
   "outputs": [],
   "source": [
    "def H(r, g=10.):\n",
    "    return g * r * F(r)\n",
    "\n",
    "def K(r, g=10.):\n",
    "    return 1. - g * r * W(r)"
   ]
  },
  {
   "cell_type": "code",
   "execution_count": null,
   "id": "9bebe893",
   "metadata": {},
   "outputs": [],
   "source": []
  },
  {
   "cell_type": "code",
   "execution_count": 49,
   "id": "c18ad807",
   "metadata": {
    "ExecuteTime": {
     "end_time": "2024-10-16T13:07:20.495386Z",
     "start_time": "2024-10-16T13:07:20.489076Z"
    }
   },
   "outputs": [],
   "source": [
    "def system(r, x, l=1.):\n",
    "    return np.array([\n",
    "        x[2],\n",
    "        x[3],\n",
    "        x[0] * (x[0] ** 2 - 1.) / r ** 2,\n",
    "        (x[1] + 1.) / r ** 2\n",
    "    ])"
   ]
  },
  {
   "cell_type": "code",
   "execution_count": 54,
   "id": "0f755bec",
   "metadata": {
    "ExecuteTime": {
     "end_time": "2024-10-16T13:07:36.625356Z",
     "start_time": "2024-10-16T13:07:36.620128Z"
    }
   },
   "outputs": [],
   "source": [
    "r = np.linspace(0.01, 100., 1000)\n",
    "x = np.ones((4, r.size))"
   ]
  },
  {
   "cell_type": "code",
   "execution_count": 58,
   "id": "f7f73cf2",
   "metadata": {
    "ExecuteTime": {
     "end_time": "2024-10-16T13:08:20.451640Z",
     "start_time": "2024-10-16T13:08:20.447368Z"
    }
   },
   "outputs": [],
   "source": [
    "def boundary(ya, yb):\n",
    "    return np.array([\n",
    "        ya[0] - 1.,\n",
    "        yb[0] - 1.,\n",
    "        ya[-1],\n",
    "        yb[-1],\n",
    "    ])"
   ]
  },
  {
   "cell_type": "code",
   "execution_count": null,
   "id": "8aae341a",
   "metadata": {
    "ExecuteTime": {
     "end_time": "2024-10-16T12:57:51.937598Z",
     "start_time": "2024-10-16T12:57:51.838794Z"
    }
   },
   "outputs": [],
   "source": []
  },
  {
   "cell_type": "code",
   "execution_count": 59,
   "id": "4994d033",
   "metadata": {
    "ExecuteTime": {
     "end_time": "2024-10-16T13:08:20.745452Z",
     "start_time": "2024-10-16T13:08:20.719795Z"
    }
   },
   "outputs": [
    {
     "data": {
      "text/plain": [
       "       message: The algorithm converged to the desired accuracy.\n",
       "       success: True\n",
       "        status: 0\n",
       "             x: [ 1.000e-02  1.101e-01 ...  9.990e+01  1.000e+02]\n",
       "           sol: <scipy.interpolate._interpolate.PPoly object at 0x7ff14d9febb0>\n",
       "             p: None\n",
       "             y: [[ 1.000e+00  1.000e+00 ...  1.000e+00  1.000e+00]\n",
       "                 [-1.000e+00 -1.000e+00 ... -1.000e+00 -1.000e+00]\n",
       "                 [-3.486e-14 -2.220e-15 ... -4.441e-16 -6.661e-16]\n",
       "                 [ 0.000e+00 -3.735e-08 ...  1.044e-14  0.000e+00]]\n",
       "            yp: [[-3.486e-14 -2.220e-15 ... -4.441e-16 -6.661e-16]\n",
       "                 [ 0.000e+00 -3.735e-08 ...  1.044e-14  0.000e+00]\n",
       "                 [ 4.441e-12  3.664e-14 ...  0.000e+00  0.000e+00]\n",
       "                 [ 3.252e-06  1.053e-07 ...  4.047e-14  4.038e-14]]\n",
       " rms_residuals: [ 1.254e-06  4.668e-07 ...  5.996e-13  1.589e-13]\n",
       "         niter: 1"
      ]
     },
     "execution_count": 59,
     "metadata": {},
     "output_type": "execute_result"
    }
   ],
   "source": [
    "sol = integrate.solve_bvp(system, boundary, r, x)\n",
    "sol"
   ]
  },
  {
   "cell_type": "code",
   "execution_count": null,
   "id": "3f7e2b7a",
   "metadata": {},
   "outputs": [],
   "source": []
  },
  {
   "cell_type": "code",
   "execution_count": 60,
   "id": "40a527ca",
   "metadata": {
    "ExecuteTime": {
     "end_time": "2024-10-16T13:08:21.266170Z",
     "start_time": "2024-10-16T13:08:20.985977Z"
    }
   },
   "outputs": [
    {
     "data": {
      "text/plain": [
       "[<matplotlib.lines.Line2D at 0x7ff14d2b5090>,\n",
       " <matplotlib.lines.Line2D at 0x7ff14d2b5180>,\n",
       " <matplotlib.lines.Line2D at 0x7ff14d2b5270>,\n",
       " <matplotlib.lines.Line2D at 0x7ff14d2b5360>]"
      ]
     },
     "execution_count": 60,
     "metadata": {},
     "output_type": "execute_result"
    },
    {
     "data": {
      "image/png": "[encoded data removed]",
      "text/plain": [
       "<Figure size 640x480 with 1 Axes>"
      ]
     },
     "metadata": {},
     "output_type": "display_data"
    }
   ],
   "source": [
    "fig, axe = plt.subplots()\n",
    "axe.plot(sol.x, sol.y.T)"
   ]
  },
  {
   "cell_type": "code",
   "execution_count": null,
   "id": "d95aed55",
   "metadata": {},
   "outputs": [],
   "source": []
  },
  {
   "cell_type": "code",
   "execution_count": null,
   "id": "2192b400",
   "metadata": {},
   "outputs": [],
   "source": []
  }
 ],
 "metadata": {
  "hide_input": false,
  "kernelspec": {
   "display_name": "Python 3",
   "language": "python",
   "name": "python3"
  },
  "language_info": {
   "codemirror_mode": {
    "name": "ipython",
    "version": 3
   },
   "file_extension": ".py",
   "mimetype": "text/x-python",
   "name": "python",
   "nbconvert_exporter": "python",
   "pygments_lexer": "ipython3",
   "version": "3.10.6"
  },
  "toc": {
   "base_numbering": 1,
   "nav_menu": {},
   "number_sections": true,
   "sideBar": true,
   "skip_h1_title": false,
   "title_cell": "Table of Contents",
   "title_sidebar": "Contents",
   "toc_cell": false,
   "toc_position": {},
   "toc_section_display": true,
   "toc_window_display": false
  },
  "varInspector": {
   "cols": {
    "lenName": 16,
    "lenType": 16,
    "lenVar": 40
   },
   "kernels_config": {
    "python": {
     "delete_cmd_postfix": "",
     "delete_cmd_prefix": "del ",
     "library": "var_list.py",
     "varRefreshCmd": "print(var_dic_list())"
    },
    "r": {
     "delete_cmd_postfix": ") ",
     "delete_cmd_prefix": "rm(",
     "library": "var_list.r",
     "varRefreshCmd": "cat(var_dic_list()) "
    }
   },
   "types_to_exclude": [
    "module",
    "function",
    "builtin_function_or_method",
    "instance",
    "_Feature"
   ],
   "window_display": false
  }
 },
 "nbformat": 4,
 "nbformat_minor": 5
}
