{
 "cells": [
  {
   "cell_type": "code",
   "execution_count": 9,
   "id": "e6d6b8f1",
   "metadata": {
    "ExecuteTime": {
     "end_time": "2023-11-12T14:23:04.420307Z",
     "start_time": "2023-11-12T14:23:04.412421Z"
    }
   },
   "outputs": [],
   "source": [
    "import io\n",
    "import numpy as np\n",
    "import pandas as pd\n",
    "from matplotlib import pyplot as plt\n",
    "from scipy import optimize"
   ]
  },
  {
   "cell_type": "code",
   "execution_count": null,
   "id": "a0280364",
   "metadata": {},
   "outputs": [],
   "source": []
  },
  {
   "cell_type": "code",
   "execution_count": 10,
   "id": "c948c400",
   "metadata": {
    "ExecuteTime": {
     "end_time": "2023-11-12T14:23:04.877426Z",
     "start_time": "2023-11-12T14:23:04.853160Z"
    }
   },
   "outputs": [],
   "source": [
    "data = pd.read_fwf(io.StringIO(\"\"\"396.6   1055.3\n",
    "409.4   1079.2\n",
    "418.3   1103.7\n",
    "432.1   1129.2\n",
    "439.4   1157.0\n",
    "453.2   1180.9\n",
    "466.0   1204.8\n",
    "478.2   1229.8\n",
    "489.3   1251.4\n",
    "501.6   1277.0\n",
    "512.7   1303.6\n",
    "527.7   1328.1\n",
    "538.8   1354.7\n",
    "552.1   1378.1\n",
    "563.2   1404.7\n",
    "573.2   1424.2\n",
    "590.4   1450.3\n",
    "605.4   1478.6\n",
    "627.7   1515.3\n",
    "638.8   1536.9\n",
    "654.3   1563.6\n",
    "668.2   1587.5\n",
    "680.4   1610.8\n",
    "696.0   1636.9\n",
    "711.0   1659.7\n",
    "724.3   1681.9\n",
    "739.9   1706.3\n",
    "754.8   1728.6\n",
    "769.3   1752.4\n",
    "784.3   1775.2\n",
    "798.7   1798.0\n",
    "814.8   1819.6\n",
    "828.2   1842.4\n",
    "844.8   1862.4\n",
    "862.6   1885.7\n",
    "878.2   1908.5\n",
    "892.0   1930.2\n",
    "910.9   1953.0\n",
    "927.6   1973.0\n",
    "943.1   1996.3\n",
    "959.8   2016.3\n",
    "976.5   2036.3\n",
    "995.9   2057.9\n",
    "1012.0   2077.4\n",
    "1029.2   2095.7\n",
    "1045.3   2115.7\n",
    "1067.6   2140.7\n",
    "1088.7   2160.7\n",
    "1106.4   2181.3\n",
    "1126.4   2201.8\n",
    "1149.2   2222.4\n",
    "1165.3   2239.0\n",
    "1187.0   2257.3\n",
    "1204.8   2272.9\n",
    "1227.0   2290.7\n",
    "1247.0   2310.7\n",
    "1270.9   2327.3\n",
    "1286.4   2340.7\n",
    "1305.8   2357.3\n",
    "1329.7   2375.1\n",
    "1353.6   2394.0\n",
    "1379.7   2410.7\n",
    "1398.1   2421.8\n",
    "1420.3   2435.1\n",
    "1442.5   2448.4\n",
    "1466.9   2463.4\n",
    "1488.6   2475.6\n",
    "1513.0   2488.4\n",
    "1537.5   2501.8\n",
    "1553.6   2510.1\n",
    "1578.6   2519.5\n",
    "1606.9   2533.4\n",
    "1630.8   2544.0\n",
    "1658.0   2554.5\n",
    "1680.2   2562.3\n",
    "1709.1   2574.0\n",
    "1740.2   2581.7\n",
    "1766.9   2590.6\n",
    "1794.6   2596.2\n",
    "1819.6   2601.7\n",
    "1844.6   2608.4\n",
    "1873.0   2611.2\n",
    "1901.3   2615.1\n",
    "1925.7   2617.9\n",
    "1954.1   2620.6\n",
    "1982.4   2622.9\n",
    "2006.3   2623.4\n",
    "2036.8   2624.0\n",
    "2061.3   2623.4\n",
    "2086.8   2620.6\n",
    "2117.4   2620.1\n",
    "2141.2   2617.3\n",
    "2167.9   2612.3\n",
    "2194.6   2609.0\n",
    "2221.2   2604.0\n",
    "2250.1   2599.5\n",
    "2276.8   2594.5\n",
    "2301.2   2587.3\n",
    "2333.4   2577.3\n",
    "2371.2   2565.7\n",
    "2399.5   2554.6\n",
    "2422.3   2547.9\n",
    "2447.8   2539.0\n",
    "2474.5   2527.9\n",
    "2497.8   2515.1\n",
    "2522.8   2504.6\n",
    "2548.9   2494.0\n",
    "2573.4   2483.5\n",
    "2593.9   2467.9\n",
    "2620.0   2452.9\n",
    "2647.2   2434.6\n",
    "2671.1   2419.6\n",
    "2688.9   2406.3\n",
    "2710.0   2390.7\n",
    "2734.4   2377.9\n",
    "2755.6   2357.9\n",
    "2777.2   2341.8\n",
    "2800.5   2323.5\n",
    "2822.8   2308.5\n",
    "2844.4   2288.5\n",
    "2866.6   2269.6\n",
    "2886.6   2253.0\n",
    "2908.9   2232.4\n",
    "2930.5   2212.4\n",
    "2950.0   2189.7\n",
    "2969.4   2173.0\n",
    "2989.4   2154.1\n",
    "3004.4   2134.7\n",
    "3023.8   2114.7\n",
    "3043.3   2093.0\n",
    "3059.4   2072.5\n",
    "3076.6   2051.9\n",
    "3093.8   2033.0\n",
    "3111.0   2011.9\n",
    "3128.8   1991.9\n",
    "3146.0   1968.0\n",
    "3166.6   1945.8\n",
    "3182.7   1923.6\n",
    "3197.1   1903.6\n",
    "3219.3   1873.6\n",
    "3239.9   1847.0\n",
    "3255.5   1823.6\n",
    "3272.7   1798.1\n",
    "3291.0   1775.9\n",
    "3303.2   1750.9\n",
    "3320.4   1728.1\n",
    "3334.3   1707.0\n",
    "3350.4   1683.1\n",
    "3366.5   1658.7\n",
    "3378.2   1637.0\n",
    "3394.3   1612.0\n",
    "3406.0   1589.2\n",
    "3420.4   1565.4\n",
    "3433.2   1541.5\n",
    "3448.2   1520.9\n",
    "3462.1   1493.7\n",
    "3476.0   1469.3\n",
    "3490.4   1445.9\n",
    "3505.4   1419.3\n",
    "3514.3   1397.1\n",
    "3529.3   1370.4\n",
    "3541.5   1349.8\n",
    "3555.4   1321.5\n",
    "3566.5   1299.3\n",
    "3578.2   1277.6\n",
    "3591.5   1254.3\n",
    "3607.0   1223.2\n",
    "3617.0   1198.8\n",
    "3630.4   1172.7\n",
    "3643.2   1146.6\n",
    "3654.3   1121.0\n",
    "3663.1   1098.2\n",
    "3674.3   1074.3\n",
    "3687.6   1051.0\"\"\"), header=None, names=[\"x0\", \"y\"])"
   ]
  },
  {
   "cell_type": "code",
   "execution_count": 11,
   "id": "a9efb156",
   "metadata": {
    "ExecuteTime": {
     "end_time": "2023-11-12T14:23:05.828238Z",
     "start_time": "2023-11-12T14:23:05.816740Z"
    }
   },
   "outputs": [],
   "source": [
    "data[\"sy\"] = 4.75"
   ]
  },
  {
   "cell_type": "code",
   "execution_count": 12,
   "id": "fee49dd8",
   "metadata": {
    "ExecuteTime": {
     "end_time": "2023-11-12T14:23:06.021806Z",
     "start_time": "2023-11-12T14:23:05.996208Z"
    }
   },
   "outputs": [
    {
     "data": {
      "text/html": [
       "<div>\n",
       "<style scoped>\n",
       "    .dataframe tbody tr th:only-of-type {\n",
       "        vertical-align: middle;\n",
       "    }\n",
       "\n",
       "    .dataframe tbody tr th {\n",
       "        vertical-align: top;\n",
       "    }\n",
       "\n",
       "    .dataframe thead th {\n",
       "        text-align: right;\n",
       "    }\n",
       "</style>\n",
       "<table border=\"1\" class=\"dataframe\">\n",
       "  <thead>\n",
       "    <tr style=\"text-align: right;\">\n",
       "      <th></th>\n",
       "      <th>x0</th>\n",
       "      <th>y</th>\n",
       "      <th>sy</th>\n",
       "    </tr>\n",
       "  </thead>\n",
       "  <tbody>\n",
       "    <tr>\n",
       "      <th>0</th>\n",
       "      <td>396.6</td>\n",
       "      <td>1055.3</td>\n",
       "      <td>4.75</td>\n",
       "    </tr>\n",
       "    <tr>\n",
       "      <th>1</th>\n",
       "      <td>409.4</td>\n",
       "      <td>1079.2</td>\n",
       "      <td>4.75</td>\n",
       "    </tr>\n",
       "    <tr>\n",
       "      <th>2</th>\n",
       "      <td>418.3</td>\n",
       "      <td>1103.7</td>\n",
       "      <td>4.75</td>\n",
       "    </tr>\n",
       "    <tr>\n",
       "      <th>3</th>\n",
       "      <td>432.1</td>\n",
       "      <td>1129.2</td>\n",
       "      <td>4.75</td>\n",
       "    </tr>\n",
       "    <tr>\n",
       "      <th>4</th>\n",
       "      <td>439.4</td>\n",
       "      <td>1157.0</td>\n",
       "      <td>4.75</td>\n",
       "    </tr>\n",
       "    <tr>\n",
       "      <th>...</th>\n",
       "      <td>...</td>\n",
       "      <td>...</td>\n",
       "      <td>...</td>\n",
       "    </tr>\n",
       "    <tr>\n",
       "      <th>169</th>\n",
       "      <td>3643.2</td>\n",
       "      <td>1146.6</td>\n",
       "      <td>4.75</td>\n",
       "    </tr>\n",
       "    <tr>\n",
       "      <th>170</th>\n",
       "      <td>3654.3</td>\n",
       "      <td>1121.0</td>\n",
       "      <td>4.75</td>\n",
       "    </tr>\n",
       "    <tr>\n",
       "      <th>171</th>\n",
       "      <td>3663.1</td>\n",
       "      <td>1098.2</td>\n",
       "      <td>4.75</td>\n",
       "    </tr>\n",
       "    <tr>\n",
       "      <th>172</th>\n",
       "      <td>3674.3</td>\n",
       "      <td>1074.3</td>\n",
       "      <td>4.75</td>\n",
       "    </tr>\n",
       "    <tr>\n",
       "      <th>173</th>\n",
       "      <td>3687.6</td>\n",
       "      <td>1051.0</td>\n",
       "      <td>4.75</td>\n",
       "    </tr>\n",
       "  </tbody>\n",
       "</table>\n",
       "<p>174 rows × 3 columns</p>\n",
       "</div>"
      ],
      "text/plain": [
       "         x0       y    sy\n",
       "0     396.6  1055.3  4.75\n",
       "1     409.4  1079.2  4.75\n",
       "2     418.3  1103.7  4.75\n",
       "3     432.1  1129.2  4.75\n",
       "4     439.4  1157.0  4.75\n",
       "..      ...     ...   ...\n",
       "169  3643.2  1146.6  4.75\n",
       "170  3654.3  1121.0  4.75\n",
       "171  3663.1  1098.2  4.75\n",
       "172  3674.3  1074.3  4.75\n",
       "173  3687.6  1051.0  4.75\n",
       "\n",
       "[174 rows x 3 columns]"
      ]
     },
     "execution_count": 12,
     "metadata": {},
     "output_type": "execute_result"
    }
   ],
   "source": [
    "data"
   ]
  },
  {
   "cell_type": "code",
   "execution_count": 13,
   "id": "ff61fa12",
   "metadata": {
    "ExecuteTime": {
     "end_time": "2023-11-12T14:23:06.139116Z",
     "start_time": "2023-11-12T14:23:06.134596Z"
    }
   },
   "outputs": [],
   "source": [
    "def cat(x, a, c, x0):\n",
    "    return c - a * np.cosh((x - x0) / a)"
   ]
  },
  {
   "cell_type": "raw",
   "id": "b91ddda5",
   "metadata": {
    "ExecuteTime": {
     "end_time": "2023-11-12T11:59:17.995754Z",
     "start_time": "2023-11-12T11:59:17.988561Z"
    }
   },
   "source": [
    "data[\"x0\"] = (data[\"x0\"] - data[\"x0\"].mean())/data[\"x0\"].std()\n",
    "data[\"sy\"] /= data[\"y\"].std()\n",
    "data[\"y\"] = (data[\"y\"] - data[\"y\"].mean())/data[\"y\"].std()"
   ]
  },
  {
   "cell_type": "code",
   "execution_count": 14,
   "id": "41766b5e",
   "metadata": {
    "ExecuteTime": {
     "end_time": "2023-11-12T14:23:07.138125Z",
     "start_time": "2023-11-12T14:23:07.120708Z"
    }
   },
   "outputs": [],
   "source": [
    "k = 2000\n",
    "data /= k"
   ]
  },
  {
   "cell_type": "code",
   "execution_count": 15,
   "id": "d20bc955",
   "metadata": {
    "ExecuteTime": {
     "end_time": "2023-11-12T14:23:07.646465Z",
     "start_time": "2023-11-12T14:23:07.634714Z"
    }
   },
   "outputs": [
    {
     "data": {
      "text/html": [
       "<div>\n",
       "<style scoped>\n",
       "    .dataframe tbody tr th:only-of-type {\n",
       "        vertical-align: middle;\n",
       "    }\n",
       "\n",
       "    .dataframe tbody tr th {\n",
       "        vertical-align: top;\n",
       "    }\n",
       "\n",
       "    .dataframe thead th {\n",
       "        text-align: right;\n",
       "    }\n",
       "</style>\n",
       "<table border=\"1\" class=\"dataframe\">\n",
       "  <thead>\n",
       "    <tr style=\"text-align: right;\">\n",
       "      <th></th>\n",
       "      <th>x0</th>\n",
       "      <th>y</th>\n",
       "      <th>sy</th>\n",
       "    </tr>\n",
       "  </thead>\n",
       "  <tbody>\n",
       "    <tr>\n",
       "      <th>0</th>\n",
       "      <td>0.19830</td>\n",
       "      <td>0.52765</td>\n",
       "      <td>0.002375</td>\n",
       "    </tr>\n",
       "    <tr>\n",
       "      <th>1</th>\n",
       "      <td>0.20470</td>\n",
       "      <td>0.53960</td>\n",
       "      <td>0.002375</td>\n",
       "    </tr>\n",
       "    <tr>\n",
       "      <th>2</th>\n",
       "      <td>0.20915</td>\n",
       "      <td>0.55185</td>\n",
       "      <td>0.002375</td>\n",
       "    </tr>\n",
       "    <tr>\n",
       "      <th>3</th>\n",
       "      <td>0.21605</td>\n",
       "      <td>0.56460</td>\n",
       "      <td>0.002375</td>\n",
       "    </tr>\n",
       "    <tr>\n",
       "      <th>4</th>\n",
       "      <td>0.21970</td>\n",
       "      <td>0.57850</td>\n",
       "      <td>0.002375</td>\n",
       "    </tr>\n",
       "    <tr>\n",
       "      <th>...</th>\n",
       "      <td>...</td>\n",
       "      <td>...</td>\n",
       "      <td>...</td>\n",
       "    </tr>\n",
       "    <tr>\n",
       "      <th>169</th>\n",
       "      <td>1.82160</td>\n",
       "      <td>0.57330</td>\n",
       "      <td>0.002375</td>\n",
       "    </tr>\n",
       "    <tr>\n",
       "      <th>170</th>\n",
       "      <td>1.82715</td>\n",
       "      <td>0.56050</td>\n",
       "      <td>0.002375</td>\n",
       "    </tr>\n",
       "    <tr>\n",
       "      <th>171</th>\n",
       "      <td>1.83155</td>\n",
       "      <td>0.54910</td>\n",
       "      <td>0.002375</td>\n",
       "    </tr>\n",
       "    <tr>\n",
       "      <th>172</th>\n",
       "      <td>1.83715</td>\n",
       "      <td>0.53715</td>\n",
       "      <td>0.002375</td>\n",
       "    </tr>\n",
       "    <tr>\n",
       "      <th>173</th>\n",
       "      <td>1.84380</td>\n",
       "      <td>0.52550</td>\n",
       "      <td>0.002375</td>\n",
       "    </tr>\n",
       "  </tbody>\n",
       "</table>\n",
       "<p>174 rows × 3 columns</p>\n",
       "</div>"
      ],
      "text/plain": [
       "          x0        y        sy\n",
       "0    0.19830  0.52765  0.002375\n",
       "1    0.20470  0.53960  0.002375\n",
       "2    0.20915  0.55185  0.002375\n",
       "3    0.21605  0.56460  0.002375\n",
       "4    0.21970  0.57850  0.002375\n",
       "..       ...      ...       ...\n",
       "169  1.82160  0.57330  0.002375\n",
       "170  1.82715  0.56050  0.002375\n",
       "171  1.83155  0.54910  0.002375\n",
       "172  1.83715  0.53715  0.002375\n",
       "173  1.84380  0.52550  0.002375\n",
       "\n",
       "[174 rows x 3 columns]"
      ]
     },
     "execution_count": 15,
     "metadata": {},
     "output_type": "execute_result"
    }
   ],
   "source": [
    "data"
   ]
  },
  {
   "cell_type": "code",
   "execution_count": 22,
   "id": "1de404f9",
   "metadata": {
    "ExecuteTime": {
     "end_time": "2023-11-12T14:32:33.303492Z",
     "start_time": "2023-11-12T14:32:32.918330Z"
    }
   },
   "outputs": [
    {
     "data": {
      "image/png": "[encoded data removed]",
      "text/plain": [
       "<Figure size 640x480 with 1 Axes>"
      ]
     },
     "metadata": {},
     "output_type": "display_data"
    }
   ],
   "source": [
    "axe = data.plot(x=\"x0\", y=\"y\", linestyle=\"none\", marker=\".\")\n",
    "axe.grid()"
   ]
  },
  {
   "cell_type": "markdown",
   "id": "66a84f6a",
   "metadata": {},
   "source": [
    "https://stackoverflow.com/questions/77455295/curve-fit-with-a-catenary-returns-huge-pars-for-no-apparent-reason/77468667#77468667"
   ]
  },
  {
   "cell_type": "code",
   "execution_count": 16,
   "id": "aa7316e1",
   "metadata": {
    "ExecuteTime": {
     "end_time": "2023-11-12T14:23:14.096428Z",
     "start_time": "2023-11-12T14:23:14.047318Z"
    }
   },
   "outputs": [],
   "source": [
    "popt, pcov = optimize.curve_fit(\n",
    "    cat, data.x0.values, data.y.values, sigma=data.sy.values, absolute_sigma=True#, p0=(1000., 3000., 2000.)\n",
    ")"
   ]
  },
  {
   "cell_type": "code",
   "execution_count": 17,
   "id": "0186bb6e",
   "metadata": {
    "ExecuteTime": {
     "end_time": "2023-11-12T14:23:15.464388Z",
     "start_time": "2023-11-12T14:23:15.453514Z"
    }
   },
   "outputs": [
    {
     "data": {
      "text/plain": [
       "(array([0.52514911, 1.83463895, 1.01891444]),\n",
       " array([[ 7.93071474e-08,  1.99806113e-08, -5.84150321e-10],\n",
       "        [ 1.99806113e-08,  3.74513037e-08, -1.32687392e-10],\n",
       "        [-5.84150321e-10, -1.32687392e-10,  1.85414148e-08]]))"
      ]
     },
     "execution_count": 17,
     "metadata": {},
     "output_type": "execute_result"
    }
   ],
   "source": [
    "popt, pcov"
   ]
  },
  {
   "cell_type": "code",
   "execution_count": 18,
   "id": "03a7c575",
   "metadata": {
    "ExecuteTime": {
     "end_time": "2023-11-12T14:23:24.776955Z",
     "start_time": "2023-11-12T14:23:24.771376Z"
    }
   },
   "outputs": [
    {
     "data": {
      "text/plain": [
       "array([1050.29821688, 3669.27789367, 2037.82887592])"
      ]
     },
     "execution_count": 18,
     "metadata": {},
     "output_type": "execute_result"
    }
   ],
   "source": [
    "popt * k"
   ]
  },
  {
   "cell_type": "code",
   "execution_count": null,
   "id": "ae415052",
   "metadata": {},
   "outputs": [],
   "source": []
  },
  {
   "cell_type": "code",
   "execution_count": null,
   "id": "861dd3d4",
   "metadata": {},
   "outputs": [],
   "source": []
  },
  {
   "cell_type": "code",
   "execution_count": null,
   "id": "03d62582",
   "metadata": {},
   "outputs": [],
   "source": []
  },
  {
   "cell_type": "code",
   "execution_count": null,
   "id": "57b90663",
   "metadata": {},
   "outputs": [],
   "source": []
  },
  {
   "cell_type": "code",
   "execution_count": null,
   "id": "63a8b254",
   "metadata": {},
   "outputs": [],
   "source": []
  },
  {
   "cell_type": "code",
   "execution_count": null,
   "id": "431caae9",
   "metadata": {},
   "outputs": [],
   "source": []
  },
  {
   "cell_type": "code",
   "execution_count": null,
   "id": "d0a8ed4a",
   "metadata": {},
   "outputs": [],
   "source": []
  },
  {
   "cell_type": "code",
   "execution_count": null,
   "id": "161a16f0",
   "metadata": {},
   "outputs": [],
   "source": [
    "from scifit.solvers import FitSolver1D"
   ]
  },
  {
   "cell_type": "code",
   "execution_count": 66,
   "id": "83a9370c",
   "metadata": {},
   "outputs": [],
   "source": [
    "class Catenoid(FitSolver1D):\n",
    "    @staticmethod\n",
    "    def model(x, a, b, c, d):\n",
    "        return a + b * np.cosh((x[:,0] - c) / d)    "
   ]
  },
  {
   "cell_type": "code",
   "execution_count": null,
   "id": "8f128611",
   "metadata": {},
   "outputs": [],
   "source": []
  },
  {
   "cell_type": "code",
   "execution_count": 67,
   "id": "16afb640",
   "metadata": {},
   "outputs": [],
   "source": [
    "model = Catenoid()\n",
    "sol = model.fit(data, p0 = (1000, 3000, 2000, -1000))"
   ]
  },
  {
   "cell_type": "code",
   "execution_count": 68,
   "id": "90d590ec",
   "metadata": {},
   "outputs": [
    {
     "data": {
      "text/plain": [
       "<Axes: title={'center': 'Fit Plot: \\nn=174, $R^2$=1.000, $\\\\chi^2_r$=100.959, $P(\\\\chi^2_{170} \\\\geq 0.594 \\\\,|\\\\, H_0) = 1.0000$\\n$\\\\beta \\\\pm s_{\\\\beta}$ = (3.89e+03 ± 27.3; -1.26e+03 ± 26.8; 2.04e+03 ± 0.275; -1.14e+03 ± 10.4)'}, xlabel='Feature, $x_1$', ylabel='Target, $y$'>"
      ]
     },
     "execution_count": 68,
     "metadata": {},
     "output_type": "execute_result"
    },
    {
     "data": {
      "image/png": "[encoded data removed]",
      "text/plain": [
       "<Figure size 432x288 with 1 Axes>"
      ]
     },
     "metadata": {
      "needs_background": "light"
     },
     "output_type": "display_data"
    }
   ],
   "source": [
    "model.plot_fit()"
   ]
  },
  {
   "cell_type": "code",
   "execution_count": 69,
   "id": "ae0fad34",
   "metadata": {},
   "outputs": [
    {
     "data": {
      "text/plain": [
       "<Axes: title={'center': 'Fit $\\\\chi^2$ Plot: \\nn=174, $R^2$=1.000, $\\\\chi^2_r$=100.959, $P(\\\\chi^2_{170} \\\\geq 0.594 \\\\,|\\\\, H_0) = 1.0000$\\n$\\\\beta \\\\pm s_{\\\\beta}$ = (3.89e+03 ± 27.3; -1.26e+03 ± 26.8; 2.04e+03 ± 0.275; -1.14e+03 ± 10.4)'}, xlabel='Random Variable, $\\\\chi^2$', ylabel='Density, $f(\\\\chi^2)$'>"
      ]
     },
     "execution_count": 69,
     "metadata": {},
     "output_type": "execute_result"
    },
    {
     "data": {
      "image/png": "[encoded data removed]",
      "text/plain": [
       "<Figure size 432x288 with 1 Axes>"
      ]
     },
     "metadata": {
      "needs_background": "light"
     },
     "output_type": "display_data"
    }
   ],
   "source": [
    "model.plot_chi_square()"
   ]
  },
  {
   "cell_type": "code",
   "execution_count": 70,
   "id": "7905e779",
   "metadata": {},
   "outputs": [
    {
     "data": {
      "text/plain": [
       "array([[<Axes: ylabel='$\\\\beta_{2}$'>, <Axes: >, <Axes: >],\n",
       "       [<Axes: ylabel='$\\\\beta_{3}$'>, <Axes: >, <Axes: >],\n",
       "       [<Axes: xlabel='$\\\\beta_{1}$', ylabel='$\\\\beta_{4}$'>,\n",
       "        <Axes: xlabel='$\\\\beta_{2}$'>, <Axes: xlabel='$\\\\beta_{3}$'>]],\n",
       "      dtype=object)"
      ]
     },
     "execution_count": 70,
     "metadata": {},
     "output_type": "execute_result"
    },
    {
     "data": {
      "image/png": "[encoded data removed]",
      "text/plain": [
       "<Figure size 432x288 with 9 Axes>"
      ]
     },
     "metadata": {
      "needs_background": "light"
     },
     "output_type": "display_data"
    }
   ],
   "source": [
    "model.plot_loss()"
   ]
  },
  {
   "cell_type": "code",
   "execution_count": null,
   "id": "7c2b294b",
   "metadata": {},
   "outputs": [],
   "source": []
  },
  {
   "cell_type": "code",
   "execution_count": null,
   "id": "48872eee",
   "metadata": {},
   "outputs": [],
   "source": []
  },
  {
   "cell_type": "code",
   "execution_count": null,
   "id": "4abcc3d7",
   "metadata": {},
   "outputs": [],
   "source": []
  },
  {
   "cell_type": "code",
   "execution_count": null,
   "id": "aa8c251a",
   "metadata": {},
   "outputs": [],
   "source": []
  },
  {
   "cell_type": "code",
   "execution_count": null,
   "id": "a172459b",
   "metadata": {},
   "outputs": [],
   "source": []
  },
  {
   "cell_type": "code",
   "execution_count": null,
   "id": "c33fef53",
   "metadata": {},
   "outputs": [],
   "source": []
  }
 ],
 "metadata": {
  "hide_input": false,
  "kernelspec": {
   "display_name": "Python 3",
   "language": "python",
   "name": "python3"
  },
  "language_info": {
   "codemirror_mode": {
    "name": "ipython",
    "version": 3
   },
   "file_extension": ".py",
   "mimetype": "text/x-python",
   "name": "python",
   "nbconvert_exporter": "python",
   "pygments_lexer": "ipython3",
   "version": "3.10.6"
  },
  "toc": {
   "base_numbering": 1,
   "nav_menu": {},
   "number_sections": true,
   "sideBar": true,
   "skip_h1_title": false,
   "title_cell": "Table of Contents",
   "title_sidebar": "Contents",
   "toc_cell": false,
   "toc_position": {},
   "toc_section_display": true,
   "toc_window_display": false
  },
  "varInspector": {
   "cols": {
    "lenName": 16,
    "lenType": 16,
    "lenVar": 40
   },
   "kernels_config": {
    "python": {
     "delete_cmd_postfix": "",
     "delete_cmd_prefix": "del ",
     "library": "var_list.py",
     "varRefreshCmd": "print(var_dic_list())"
    },
    "r": {
     "delete_cmd_postfix": ") ",
     "delete_cmd_prefix": "rm(",
     "library": "var_list.r",
     "varRefreshCmd": "cat(var_dic_list()) "
    }
   },
   "types_to_exclude": [
    "module",
    "function",
    "builtin_function_or_method",
    "instance",
    "_Feature"
   ],
   "window_display": false
  }
 },
 "nbformat": 4,
 "nbformat_minor": 5
}
