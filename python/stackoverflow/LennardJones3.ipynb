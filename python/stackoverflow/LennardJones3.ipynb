{
 "cells": [
  {
   "cell_type": "code",
   "execution_count": 2,
   "id": "e7c0dfce",
   "metadata": {
    "ExecuteTime": {
     "end_time": "2024-03-15T16:13:37.011665Z",
     "start_time": "2024-03-15T16:13:35.272624Z"
    }
   },
   "outputs": [],
   "source": [
    "import io\n",
    "import numpy as np\n",
    "import pandas as pd\n",
    "import matplotlib.pyplot as plt\n",
    "from scipy import optimize"
   ]
  },
  {
   "cell_type": "markdown",
   "id": "a2538276",
   "metadata": {},
   "source": [
    "https://stackoverflow.com/questions/78163975/how-can-i-fit-data-to-a-lennard-jones-potential-in-gnuplot"
   ]
  },
  {
   "cell_type": "code",
   "execution_count": 3,
   "id": "e4e0d3c4",
   "metadata": {
    "ExecuteTime": {
     "end_time": "2024-03-15T16:13:37.030169Z",
     "start_time": "2024-03-15T16:13:37.026137Z"
    }
   },
   "outputs": [],
   "source": [
    "def model(r, epsilon, sigma):\n",
    "    return 4. * epsilon * (np.power(sigma / r, 12.) - np.power(sigma / r, 6.))"
   ]
  },
  {
   "cell_type": "code",
   "execution_count": 4,
   "id": "c20a2bb6",
   "metadata": {
    "ExecuteTime": {
     "end_time": "2024-03-15T16:13:37.043239Z",
     "start_time": "2024-03-15T16:13:37.040282Z"
    }
   },
   "outputs": [],
   "source": [
    "p = [2.43, 1.39]"
   ]
  },
  {
   "cell_type": "code",
   "execution_count": 31,
   "id": "a8e93ed6",
   "metadata": {
    "ExecuteTime": {
     "end_time": "2024-03-15T16:23:10.759857Z",
     "start_time": "2024-03-15T16:23:10.718746Z"
    }
   },
   "outputs": [],
   "source": [
    "r = np.linspace(1, 4, 50)\n",
    "y = model(r, *p) + np.random.randn(r.size)"
   ]
  },
  {
   "cell_type": "code",
   "execution_count": null,
   "id": "77e43c5c",
   "metadata": {},
   "outputs": [],
   "source": []
  },
  {
   "cell_type": "code",
   "execution_count": 22,
   "id": "317635b3",
   "metadata": {
    "ExecuteTime": {
     "end_time": "2024-03-15T16:16:49.215620Z",
     "start_time": "2024-03-15T16:16:49.176808Z"
    }
   },
   "outputs": [
    {
     "data": {
      "text/plain": [
       "(array([2.52803424, 1.38555143]),\n",
       " array([[ 1.81397282e-02, -7.54928284e-04],\n",
       "        [-7.54928284e-04,  3.14652401e-05]]))"
      ]
     },
     "execution_count": 22,
     "metadata": {},
     "output_type": "execute_result"
    }
   ],
   "source": [
    "popt, pcov = optimize.curve_fit(\n",
    "    model, r, y,\n",
    "    bounds=[(0., 0.), (np.inf, np.inf)]\n",
    ")\n",
    "popt, pcov"
   ]
  },
  {
   "cell_type": "code",
   "execution_count": null,
   "id": "56c3254b",
   "metadata": {},
   "outputs": [],
   "source": []
  },
  {
   "cell_type": "code",
   "execution_count": 23,
   "id": "fbcd0801",
   "metadata": {
    "ExecuteTime": {
     "end_time": "2024-03-15T16:16:51.814238Z",
     "start_time": "2024-03-15T16:16:51.809082Z"
    }
   },
   "outputs": [],
   "source": [
    "def factory(x, y):\n",
    "    def wrapped(p):\n",
    "        return y - model(x, *p)\n",
    "    return wrapped"
   ]
  },
  {
   "cell_type": "code",
   "execution_count": null,
   "id": "c3f0ab29",
   "metadata": {},
   "outputs": [],
   "source": []
  },
  {
   "cell_type": "code",
   "execution_count": null,
   "id": "ec1ddc48",
   "metadata": {},
   "outputs": [],
   "source": []
  },
  {
   "cell_type": "code",
   "execution_count": 26,
   "id": "2cda86e6",
   "metadata": {
    "ExecuteTime": {
     "end_time": "2024-03-15T16:17:07.251009Z",
     "start_time": "2024-03-15T16:17:07.245958Z"
    }
   },
   "outputs": [],
   "source": [
    "residuals = factory(r, y)"
   ]
  },
  {
   "cell_type": "code",
   "execution_count": 27,
   "id": "7454baa1",
   "metadata": {
    "ExecuteTime": {
     "end_time": "2024-03-15T16:17:07.941529Z",
     "start_time": "2024-03-15T16:17:07.914389Z"
    }
   },
   "outputs": [],
   "source": [
    "sol = optimize.least_squares(residuals, x0=p, loss=\"cauchy\", bounds=[(0, 0), (np.inf, np.inf)])"
   ]
  },
  {
   "cell_type": "code",
   "execution_count": null,
   "id": "8abd0d2f",
   "metadata": {},
   "outputs": [],
   "source": []
  },
  {
   "cell_type": "code",
   "execution_count": null,
   "id": "956569cc",
   "metadata": {},
   "outputs": [],
   "source": []
  },
  {
   "cell_type": "code",
   "execution_count": 28,
   "id": "a804c198",
   "metadata": {
    "ExecuteTime": {
     "end_time": "2024-03-15T16:17:09.229131Z",
     "start_time": "2024-03-15T16:17:09.223482Z"
    }
   },
   "outputs": [],
   "source": [
    "rlin = np.linspace(r.min(), r.max(), 201)\n",
    "yhat = model(rlin, *popt)"
   ]
  },
  {
   "cell_type": "code",
   "execution_count": 29,
   "id": "9dbcf4c8",
   "metadata": {
    "ExecuteTime": {
     "end_time": "2024-03-15T16:17:09.746543Z",
     "start_time": "2024-03-15T16:17:09.742988Z"
    }
   },
   "outputs": [],
   "source": [
    "yg = model(rlin, *p)"
   ]
  },
  {
   "cell_type": "code",
   "execution_count": null,
   "id": "7b454016",
   "metadata": {
    "ExecuteTime": {
     "end_time": "2024-03-15T16:14:54.313122Z",
     "start_time": "2024-03-15T16:14:54.296904Z"
    }
   },
   "outputs": [],
   "source": []
  },
  {
   "cell_type": "code",
   "execution_count": 30,
   "id": "c436bf16",
   "metadata": {
    "ExecuteTime": {
     "end_time": "2024-03-15T16:17:10.859701Z",
     "start_time": "2024-03-15T16:17:10.582657Z"
    }
   },
   "outputs": [
    {
     "data": {
      "image/png": "[encoded data removed]",
      "text/plain": [
       "<Figure size 640x480 with 1 Axes>"
      ]
     },
     "metadata": {},
     "output_type": "display_data"
    }
   ],
   "source": [
    "fig, axe = plt.subplots()\n",
    "axe.scatter(r, y)\n",
    "axe.plot(rlin, yhat)\n",
    "axe.plot(rlin, yg)\n",
    "axe.set_ylim([-3, 25])\n",
    "axe.grid()"
   ]
  },
  {
   "cell_type": "code",
   "execution_count": null,
   "id": "a4d27cf6",
   "metadata": {
    "ExecuteTime": {
     "end_time": "2024-03-15T16:08:11.678055Z",
     "start_time": "2024-03-15T16:08:11.665765Z"
    }
   },
   "outputs": [],
   "source": []
  },
  {
   "cell_type": "code",
   "execution_count": null,
   "id": "0a097a62",
   "metadata": {},
   "outputs": [],
   "source": []
  },
  {
   "cell_type": "code",
   "execution_count": null,
   "id": "59d1bcdc",
   "metadata": {},
   "outputs": [],
   "source": []
  }
 ],
 "metadata": {
  "hide_input": false,
  "kernelspec": {
   "display_name": "Python 3",
   "language": "python",
   "name": "python3"
  },
  "language_info": {
   "codemirror_mode": {
    "name": "ipython",
    "version": 3
   },
   "file_extension": ".py",
   "mimetype": "text/x-python",
   "name": "python",
   "nbconvert_exporter": "python",
   "pygments_lexer": "ipython3",
   "version": "3.10.6"
  },
  "toc": {
   "base_numbering": 1,
   "nav_menu": {},
   "number_sections": true,
   "sideBar": true,
   "skip_h1_title": false,
   "title_cell": "Table of Contents",
   "title_sidebar": "Contents",
   "toc_cell": false,
   "toc_position": {},
   "toc_section_display": true,
   "toc_window_display": false
  },
  "varInspector": {
   "cols": {
    "lenName": 16,
    "lenType": 16,
    "lenVar": 40
   },
   "kernels_config": {
    "python": {
     "delete_cmd_postfix": "",
     "delete_cmd_prefix": "del ",
     "library": "var_list.py",
     "varRefreshCmd": "print(var_dic_list())"
    },
    "r": {
     "delete_cmd_postfix": ") ",
     "delete_cmd_prefix": "rm(",
     "library": "var_list.r",
     "varRefreshCmd": "cat(var_dic_list()) "
    }
   },
   "types_to_exclude": [
    "module",
    "function",
    "builtin_function_or_method",
    "instance",
    "_Feature"
   ],
   "window_display": false
  }
 },
 "nbformat": 4,
 "nbformat_minor": 5
}
