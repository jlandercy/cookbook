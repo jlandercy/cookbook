{
 "cells": [
  {
   "cell_type": "code",
   "execution_count": 1,
   "id": "5e3d7c05",
   "metadata": {
    "ExecuteTime": {
     "end_time": "2024-02-16T15:56:12.518929Z",
     "start_time": "2024-02-16T15:56:09.984933Z"
    }
   },
   "outputs": [],
   "source": [
    "import numpy as np\n",
    "import matplotlib.pyplot as plt\n",
    "from scipy import optimize"
   ]
  },
  {
   "cell_type": "markdown",
   "id": "640d1f4d",
   "metadata": {},
   "source": [
    "https://stackoverflow.com/questions/77982703/uncertainty-of-optimized-parameters-using-the-scipy-optimize-minimize"
   ]
  },
  {
   "cell_type": "code",
   "execution_count": null,
   "id": "7865c7ff",
   "metadata": {},
   "outputs": [],
   "source": []
  },
  {
   "cell_type": "code",
   "execution_count": 2,
   "id": "6f521d0b",
   "metadata": {
    "ExecuteTime": {
     "end_time": "2024-02-16T15:57:06.457206Z",
     "start_time": "2024-02-16T15:57:06.443435Z"
    }
   },
   "outputs": [],
   "source": [
    "def model(L, K1, K2):\n",
    "    return (K2 * L ** 2)/(1. + K1 * L + K2 * L ** 2)"
   ]
  },
  {
   "cell_type": "code",
   "execution_count": 31,
   "id": "26fcd468",
   "metadata": {
    "ExecuteTime": {
     "end_time": "2024-02-16T16:01:37.818986Z",
     "start_time": "2024-02-16T16:01:37.795963Z"
    }
   },
   "outputs": [],
   "source": [
    "L = np.linspace(0, 2.5, 30)\n",
    "Y = model(L, 2.5e-1, 1.2e-2)\n",
    "s = np.full_like(L, 0.0005)\n",
    "Y += s * np.random.normal(size=L.size)"
   ]
  },
  {
   "cell_type": "code",
   "execution_count": null,
   "id": "97a53b4d",
   "metadata": {},
   "outputs": [],
   "source": []
  },
  {
   "cell_type": "code",
   "execution_count": 36,
   "id": "bbaa4b7e",
   "metadata": {
    "ExecuteTime": {
     "end_time": "2024-02-16T16:02:45.131431Z",
     "start_time": "2024-02-16T16:02:45.085408Z"
    }
   },
   "outputs": [
    {
     "data": {
      "text/plain": [
       "(array([0.26976331, 0.0123301 ]),\n",
       " array([[5.79754620e-04, 9.35928184e-06],\n",
       "        [9.35928184e-06, 1.53919757e-07]]))"
      ]
     },
     "execution_count": 36,
     "metadata": {},
     "output_type": "execute_result"
    }
   ],
   "source": [
    "popt, pcov = optimize.curve_fit(model, L, Y, sigma=s, absolute_sigma=True)\n",
    "popt, pcov"
   ]
  },
  {
   "cell_type": "code",
   "execution_count": null,
   "id": "5377cdb4",
   "metadata": {},
   "outputs": [],
   "source": []
  },
  {
   "cell_type": "code",
   "execution_count": 32,
   "id": "8d8e7a6b",
   "metadata": {
    "ExecuteTime": {
     "end_time": "2024-02-16T16:01:38.433197Z",
     "start_time": "2024-02-16T16:01:38.051245Z"
    }
   },
   "outputs": [
    {
     "data": {
      "text/plain": [
       "<matplotlib.collections.PathCollection at 0x7ff8d66d2950>"
      ]
     },
     "execution_count": 32,
     "metadata": {},
     "output_type": "execute_result"
    },
    {
     "data": {
      "image/png": "[encoded data removed]",
      "text/plain": [
       "<Figure size 640x480 with 1 Axes>"
      ]
     },
     "metadata": {},
     "output_type": "display_data"
    }
   ],
   "source": [
    "fig, axe = plt.subplots()\n",
    "axe.scatter(L, Y)"
   ]
  },
  {
   "cell_type": "code",
   "execution_count": null,
   "id": "df8251cf",
   "metadata": {},
   "outputs": [],
   "source": []
  },
  {
   "cell_type": "code",
   "execution_count": null,
   "id": "c7b98be6",
   "metadata": {},
   "outputs": [],
   "source": []
  }
 ],
 "metadata": {
  "hide_input": false,
  "kernelspec": {
   "display_name": "Python 3",
   "language": "python",
   "name": "python3"
  },
  "language_info": {
   "codemirror_mode": {
    "name": "ipython",
    "version": 3
   },
   "file_extension": ".py",
   "mimetype": "text/x-python",
   "name": "python",
   "nbconvert_exporter": "python",
   "pygments_lexer": "ipython3",
   "version": "3.10.6"
  },
  "toc": {
   "base_numbering": 1,
   "nav_menu": {},
   "number_sections": true,
   "sideBar": true,
   "skip_h1_title": false,
   "title_cell": "Table of Contents",
   "title_sidebar": "Contents",
   "toc_cell": false,
   "toc_position": {},
   "toc_section_display": true,
   "toc_window_display": false
  },
  "varInspector": {
   "cols": {
    "lenName": 16,
    "lenType": 16,
    "lenVar": 40
   },
   "kernels_config": {
    "python": {
     "delete_cmd_postfix": "",
     "delete_cmd_prefix": "del ",
     "library": "var_list.py",
     "varRefreshCmd": "print(var_dic_list())"
    },
    "r": {
     "delete_cmd_postfix": ") ",
     "delete_cmd_prefix": "rm(",
     "library": "var_list.r",
     "varRefreshCmd": "cat(var_dic_list()) "
    }
   },
   "types_to_exclude": [
    "module",
    "function",
    "builtin_function_or_method",
    "instance",
    "_Feature"
   ],
   "window_display": false
  }
 },
 "nbformat": 4,
 "nbformat_minor": 5
}
