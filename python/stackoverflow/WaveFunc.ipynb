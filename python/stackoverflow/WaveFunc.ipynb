{
 "cells": [
  {
   "cell_type": "code",
   "execution_count": 1,
   "id": "e06d2eaa",
   "metadata": {
    "ExecuteTime": {
     "end_time": "2023-12-13T13:56:14.414592Z",
     "start_time": "2023-12-13T13:56:12.928484Z"
    }
   },
   "outputs": [],
   "source": [
    "import numpy as np\n",
    "import matplotlib.pyplot as plt\n",
    "from scipy import integrate, optimize "
   ]
  },
  {
   "cell_type": "code",
   "execution_count": 2,
   "id": "5801204b",
   "metadata": {
    "ExecuteTime": {
     "end_time": "2023-12-13T13:56:14.426383Z",
     "start_time": "2023-12-13T13:56:14.422682Z"
    }
   },
   "outputs": [],
   "source": [
    "A = (-43.9048056327210225) / (np.pi**2 * 800 * 9.1093837)\n",
    "B = (2.5669699537181569) / (8.854187817 * 4 * np.pi)"
   ]
  },
  {
   "cell_type": "code",
   "execution_count": 3,
   "id": "0f0bc107",
   "metadata": {
    "ExecuteTime": {
     "end_time": "2023-12-13T13:56:14.456958Z",
     "start_time": "2023-12-13T13:56:14.444394Z"
    }
   },
   "outputs": [
    {
     "data": {
      "text/plain": [
       "(-0.000610426432346635, 0.023070775397276536)"
      ]
     },
     "execution_count": 3,
     "metadata": {},
     "output_type": "execute_result"
    }
   ],
   "source": [
    "A, B"
   ]
  },
  {
   "cell_type": "code",
   "execution_count": 4,
   "id": "cfd8045f",
   "metadata": {
    "ExecuteTime": {
     "end_time": "2023-12-13T13:56:14.465341Z",
     "start_time": "2023-12-13T13:56:14.462327Z"
    }
   },
   "outputs": [],
   "source": [
    "A = 0"
   ]
  },
  {
   "cell_type": "code",
   "execution_count": null,
   "id": "cfff6bce",
   "metadata": {},
   "outputs": [],
   "source": []
  },
  {
   "cell_type": "code",
   "execution_count": 5,
   "id": "6d93b220",
   "metadata": {
    "ExecuteTime": {
     "end_time": "2023-12-13T13:56:14.475201Z",
     "start_time": "2023-12-13T13:56:14.470051Z"
    }
   },
   "outputs": [],
   "source": [
    "@np.vectorize\n",
    "def numerator(k):\n",
    "    def integrand(r):\n",
    "        return np.exp(-2 * k * r) / r\n",
    "    return integrate.quad(integrand, 0., np.inf)[0]\n",
    "\n",
    "@np.vectorize\n",
    "def denominator(k):\n",
    "    def integrand(r):\n",
    "        return np.exp(-2 * k * r)\n",
    "    return integrate.quad(integrand, 0., np.inf)[0]\n",
    "\n",
    "@np.vectorize\n",
    "def I(k):\n",
    "    return numerator(k)/denominator(k)\n",
    "\n",
    "@np.vectorize\n",
    "def E(k):\n",
    "    return A * k**2 + B * I(k)"
   ]
  },
  {
   "cell_type": "code",
   "execution_count": null,
   "id": "a7c01820",
   "metadata": {},
   "outputs": [],
   "source": []
  },
  {
   "cell_type": "code",
   "execution_count": null,
   "id": "541bbeac",
   "metadata": {},
   "outputs": [],
   "source": []
  },
  {
   "cell_type": "code",
   "execution_count": null,
   "id": "569656ed",
   "metadata": {},
   "outputs": [],
   "source": []
  },
  {
   "cell_type": "code",
   "execution_count": null,
   "id": "cb4213ab",
   "metadata": {
    "ExecuteTime": {
     "end_time": "2023-12-11T07:49:31.050533Z",
     "start_time": "2023-12-11T07:49:31.044185Z"
    }
   },
   "outputs": [],
   "source": []
  },
  {
   "cell_type": "code",
   "execution_count": null,
   "id": "38130461",
   "metadata": {
    "ExecuteTime": {
     "end_time": "2023-12-11T07:49:31.914578Z",
     "start_time": "2023-12-11T07:49:31.512175Z"
    }
   },
   "outputs": [],
   "source": []
  },
  {
   "cell_type": "code",
   "execution_count": null,
   "id": "0fdd4345",
   "metadata": {
    "ExecuteTime": {
     "end_time": "2023-12-11T07:49:43.017856Z",
     "start_time": "2023-12-11T07:49:42.392918Z"
    }
   },
   "outputs": [],
   "source": []
  },
  {
   "cell_type": "code",
   "execution_count": 6,
   "id": "0039409a",
   "metadata": {
    "ExecuteTime": {
     "end_time": "2023-12-13T13:56:14.564273Z",
     "start_time": "2023-12-13T13:56:14.477550Z"
    }
   },
   "outputs": [
    {
     "name": "stderr",
     "output_type": "stream",
     "text": [
      "/tmp/ipykernel_4310/250534212.py:5: IntegrationWarning: Extremely bad integrand behavior occurs at some points of the\n",
      "  integration interval.\n",
      "  return integrate.quad(integrand, 0., np.inf)[0]\n",
      "/tmp/ipykernel_4310/250534212.py:5: IntegrationWarning: The maximum number of subdivisions (50) has been achieved.\n",
      "  If increasing the limit yields no improvement it is advised to analyze \n",
      "  the integrand in order to determine the difficulties.  If the position of a \n",
      "  local difficulty can be determined (singularity, discontinuity) one will \n",
      "  probably gain from splitting up the interval and calling the integrator \n",
      "  on the subranges.  Perhaps a special-purpose integrator should be used.\n",
      "  return integrate.quad(integrand, 0., np.inf)[0]\n",
      "/tmp/ipykernel_4310/250534212.py:11: IntegrationWarning: The integral is probably divergent, or slowly convergent.\n",
      "  return integrate.quad(integrand, 0., np.inf)[0]\n"
     ]
    }
   ],
   "source": [
    "solution = optimize.minimize(E, [1], bounds=[(0., np.inf)])"
   ]
  },
  {
   "cell_type": "code",
   "execution_count": 7,
   "id": "54e5a542",
   "metadata": {
    "ExecuteTime": {
     "end_time": "2023-12-13T13:56:14.572448Z",
     "start_time": "2023-12-13T13:56:14.567287Z"
    }
   },
   "outputs": [
    {
     "data": {
      "text/plain": [
       "      fun: -1.124030347712066\n",
       " hess_inv: <1x1 LbfgsInvHessProduct with dtype=float64>\n",
       "      jac: array([16634399.21381101])\n",
       "  message: 'CONVERGENCE: NORM_OF_PROJECTED_GRADIENT_<=_PGTOL'\n",
       "     nfev: 4\n",
       "      nit: 1\n",
       "     njev: 2\n",
       "   status: 0\n",
       "  success: True\n",
       "        x: array([0.])"
      ]
     },
     "execution_count": 7,
     "metadata": {},
     "output_type": "execute_result"
    }
   ],
   "source": [
    "solution"
   ]
  },
  {
   "cell_type": "code",
   "execution_count": 8,
   "id": "5f3d5c21",
   "metadata": {
    "ExecuteTime": {
     "end_time": "2023-12-13T13:56:18.033301Z",
     "start_time": "2023-12-13T13:56:14.574996Z"
    }
   },
   "outputs": [
    {
     "name": "stderr",
     "output_type": "stream",
     "text": [
      "/tmp/ipykernel_4310/250534212.py:5: IntegrationWarning: The maximum number of subdivisions (50) has been achieved.\n",
      "  If increasing the limit yields no improvement it is advised to analyze \n",
      "  the integrand in order to determine the difficulties.  If the position of a \n",
      "  local difficulty can be determined (singularity, discontinuity) one will \n",
      "  probably gain from splitting up the interval and calling the integrator \n",
      "  on the subranges.  Perhaps a special-purpose integrator should be used.\n",
      "  return integrate.quad(integrand, 0., np.inf)[0]\n",
      "/tmp/ipykernel_4310/250534212.py:11: IntegrationWarning: The integral is probably divergent, or slowly convergent.\n",
      "  return integrate.quad(integrand, 0., np.inf)[0]\n",
      "/tmp/ipykernel_4310/250534212.py:11: IntegrationWarning: The algorithm does not converge.  Roundoff error is detected\n",
      "  in the extrapolation table.  It is assumed that the requested tolerance\n",
      "  cannot be achieved, and that the returned result (if full_output = 1) is \n",
      "  the best which can be obtained.\n",
      "  return integrate.quad(integrand, 0., np.inf)[0]\n",
      "/tmp/ipykernel_4310/250534212.py:5: IntegrationWarning: Extremely bad integrand behavior occurs at some points of the\n",
      "  integration interval.\n",
      "  return integrate.quad(integrand, 0., np.inf)[0]\n",
      "/tmp/ipykernel_4310/250534212.py:15: RuntimeWarning: invalid value encountered in divide\n",
      "  return numerator(k)/denominator(k)\n",
      "/home/jlandercy/.local/lib/python3.10/site-packages/numpy/lib/function_base.py:2411: RuntimeWarning: invalid value encountered in I (vectorized)\n",
      "  outputs = ufunc(*inputs)\n"
     ]
    },
    {
     "data": {
      "image/png": "[encoded data removed]",
      "text/plain": [
       "<Figure size 640x480 with 1 Axes>"
      ]
     },
     "metadata": {},
     "output_type": "display_data"
    }
   ],
   "source": [
    "k = np.logspace(-7, 7, 200, base=10)\n",
    "#k = np.linspace(-2000, 10000, 1000)\n",
    "fig, axe = plt.subplots()\n",
    "axe.loglog(k, E(k))\n",
    "axe.scatter(solution.x, E(solution.x))\n",
    "axe.grid(which=\"both\")\n",
    "#axe.set_ylim([1e-2, 1e9])"
   ]
  },
  {
   "cell_type": "code",
   "execution_count": null,
   "id": "a34bdb51",
   "metadata": {},
   "outputs": [],
   "source": []
  },
  {
   "cell_type": "code",
   "execution_count": null,
   "id": "b7385f23",
   "metadata": {},
   "outputs": [],
   "source": []
  },
  {
   "cell_type": "code",
   "execution_count": 9,
   "id": "2a943f13",
   "metadata": {
    "ExecuteTime": {
     "end_time": "2023-12-13T13:56:22.680549Z",
     "start_time": "2023-12-13T13:56:18.039745Z"
    }
   },
   "outputs": [
    {
     "name": "stderr",
     "output_type": "stream",
     "text": [
      "/tmp/ipykernel_4310/250534212.py:5: IntegrationWarning: The maximum number of subdivisions (50) has been achieved.\n",
      "  If increasing the limit yields no improvement it is advised to analyze \n",
      "  the integrand in order to determine the difficulties.  If the position of a \n",
      "  local difficulty can be determined (singularity, discontinuity) one will \n",
      "  probably gain from splitting up the interval and calling the integrator \n",
      "  on the subranges.  Perhaps a special-purpose integrator should be used.\n",
      "  return integrate.quad(integrand, 0., np.inf)[0]\n",
      "/tmp/ipykernel_4310/250534212.py:5: IntegrationWarning: Extremely bad integrand behavior occurs at some points of the\n",
      "  integration interval.\n",
      "  return integrate.quad(integrand, 0., np.inf)[0]\n",
      "/tmp/ipykernel_4310/250534212.py:11: IntegrationWarning: The integral is probably divergent, or slowly convergent.\n",
      "  return integrate.quad(integrand, 0., np.inf)[0]\n",
      "/tmp/ipykernel_4310/250534212.py:11: IntegrationWarning: The algorithm does not converge.  Roundoff error is detected\n",
      "  in the extrapolation table.  It is assumed that the requested tolerance\n",
      "  cannot be achieved, and that the returned result (if full_output = 1) is \n",
      "  the best which can be obtained.\n",
      "  return integrate.quad(integrand, 0., np.inf)[0]\n",
      "/tmp/ipykernel_4310/250534212.py:15: RuntimeWarning: invalid value encountered in divide\n",
      "  return numerator(k)/denominator(k)\n"
     ]
    },
    {
     "data": {
      "image/png": "[encoded data removed]",
      "text/plain": [
       "<Figure size 640x480 with 1 Axes>"
      ]
     },
     "metadata": {},
     "output_type": "display_data"
    }
   ],
   "source": [
    "fig, axe = plt.subplots()\n",
    "axe.loglog(k, numerator(k))\n",
    "axe.plot(k, denominator(k))\n",
    "axe.plot(k, I(k))\n",
    "axe.plot(k, E(k))\n",
    "#axe.set_ylim([1e-5, 1e5])\n",
    "axe.grid()"
   ]
  },
  {
   "cell_type": "code",
   "execution_count": null,
   "id": "dbc81d50",
   "metadata": {},
   "outputs": [],
   "source": []
  },
  {
   "cell_type": "code",
   "execution_count": 10,
   "id": "c9f92fb6",
   "metadata": {
    "ExecuteTime": {
     "end_time": "2023-12-13T13:56:22.701443Z",
     "start_time": "2023-12-13T13:56:22.692733Z"
    }
   },
   "outputs": [],
   "source": [
    "x = np.linspace(1e-8, 10., 20000)\n",
    "f = np.exp(-x)/x"
   ]
  },
  {
   "cell_type": "code",
   "execution_count": 11,
   "id": "eec765d0",
   "metadata": {
    "ExecuteTime": {
     "end_time": "2023-12-13T13:56:22.722887Z",
     "start_time": "2023-12-13T13:56:22.709887Z"
    }
   },
   "outputs": [
    {
     "data": {
      "text/plain": [
       "25008.850852907224"
      ]
     },
     "execution_count": 11,
     "metadata": {},
     "output_type": "execute_result"
    }
   ],
   "source": [
    "integrate.trapezoid(f, x=x)"
   ]
  },
  {
   "cell_type": "code",
   "execution_count": null,
   "id": "c9535936",
   "metadata": {},
   "outputs": [],
   "source": []
  },
  {
   "cell_type": "code",
   "execution_count": null,
   "id": "f1038240",
   "metadata": {},
   "outputs": [],
   "source": []
  },
  {
   "cell_type": "code",
   "execution_count": null,
   "id": "92f087aa",
   "metadata": {},
   "outputs": [],
   "source": []
  }
 ],
 "metadata": {
  "hide_input": false,
  "kernelspec": {
   "display_name": "Python 3",
   "language": "python",
   "name": "python3"
  },
  "language_info": {
   "codemirror_mode": {
    "name": "ipython",
    "version": 3
   },
   "file_extension": ".py",
   "mimetype": "text/x-python",
   "name": "python",
   "nbconvert_exporter": "python",
   "pygments_lexer": "ipython3",
   "version": "3.10.6"
  },
  "toc": {
   "base_numbering": 1,
   "nav_menu": {},
   "number_sections": true,
   "sideBar": true,
   "skip_h1_title": false,
   "title_cell": "Table of Contents",
   "title_sidebar": "Contents",
   "toc_cell": false,
   "toc_position": {},
   "toc_section_display": true,
   "toc_window_display": false
  },
  "varInspector": {
   "cols": {
    "lenName": 16,
    "lenType": 16,
    "lenVar": 40
   },
   "kernels_config": {
    "python": {
     "delete_cmd_postfix": "",
     "delete_cmd_prefix": "del ",
     "library": "var_list.py",
     "varRefreshCmd": "print(var_dic_list())"
    },
    "r": {
     "delete_cmd_postfix": ") ",
     "delete_cmd_prefix": "rm(",
     "library": "var_list.r",
     "varRefreshCmd": "cat(var_dic_list()) "
    }
   },
   "types_to_exclude": [
    "module",
    "function",
    "builtin_function_or_method",
    "instance",
    "_Feature"
   ],
   "window_display": false
  }
 },
 "nbformat": 4,
 "nbformat_minor": 5
}
