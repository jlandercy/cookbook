{
 "cells": [
  {
   "cell_type": "code",
   "execution_count": 1,
   "id": "e06d2eaa",
   "metadata": {
    "ExecuteTime": {
     "end_time": "2023-12-11T08:14:10.576535Z",
     "start_time": "2023-12-11T08:14:08.962693Z"
    }
   },
   "outputs": [],
   "source": [
    "import numpy as np\n",
    "import matplotlib.pyplot as plt\n",
    "from scipy import integrate, optimize "
   ]
  },
  {
   "cell_type": "code",
   "execution_count": 2,
   "id": "5801204b",
   "metadata": {
    "ExecuteTime": {
     "end_time": "2023-12-11T08:14:10.603166Z",
     "start_time": "2023-12-11T08:14:10.591876Z"
    }
   },
   "outputs": [],
   "source": [
    "A = (-43.9048056327210225) / (np.pi**2 * 800 * 9.1093837)\n",
    "B = (2.5669699537181569) / (8.854187817 * 4 * np.pi)"
   ]
  },
  {
   "cell_type": "code",
   "execution_count": 16,
   "id": "6d93b220",
   "metadata": {
    "ExecuteTime": {
     "end_time": "2023-12-11T08:15:41.845025Z",
     "start_time": "2023-12-11T08:15:41.833168Z"
    }
   },
   "outputs": [],
   "source": [
    "def numerator(k):\n",
    "    def integrand(r):\n",
    "        return np.exp(-2 * k * r) / r\n",
    "    return integrate.quad(integrand, 1e-18, 0.1)[0] + \\\n",
    "           integrate.quad(integrand, 0.1, np.abs(10. * k))[0]\n",
    "\n",
    "\n",
    "def denominator(k):\n",
    "    def integrand(r):\n",
    "        return np.exp(-2 * k * r)\n",
    "    return integrate.quad(integrand, 1e-18, np.abs(10. * k))[0]\n",
    "\n",
    "def I(k):\n",
    "    return numerator(k)/denominator(k)\n",
    "\n",
    "def E(k):\n",
    "    return A * k**2 + B * I(k)"
   ]
  },
  {
   "cell_type": "code",
   "execution_count": null,
   "id": "569656ed",
   "metadata": {},
   "outputs": [],
   "source": []
  },
  {
   "cell_type": "code",
   "execution_count": null,
   "id": "cb4213ab",
   "metadata": {
    "ExecuteTime": {
     "end_time": "2023-12-11T07:49:31.050533Z",
     "start_time": "2023-12-11T07:49:31.044185Z"
    }
   },
   "outputs": [],
   "source": []
  },
  {
   "cell_type": "code",
   "execution_count": null,
   "id": "38130461",
   "metadata": {
    "ExecuteTime": {
     "end_time": "2023-12-11T07:49:31.914578Z",
     "start_time": "2023-12-11T07:49:31.512175Z"
    }
   },
   "outputs": [],
   "source": []
  },
  {
   "cell_type": "code",
   "execution_count": null,
   "id": "0fdd4345",
   "metadata": {
    "ExecuteTime": {
     "end_time": "2023-12-11T07:49:43.017856Z",
     "start_time": "2023-12-11T07:49:42.392918Z"
    }
   },
   "outputs": [],
   "source": []
  },
  {
   "cell_type": "code",
   "execution_count": 17,
   "id": "0039409a",
   "metadata": {
    "ExecuteTime": {
     "end_time": "2023-12-11T08:15:43.373685Z",
     "start_time": "2023-12-11T08:15:42.988538Z"
    }
   },
   "outputs": [
    {
     "name": "stderr",
     "output_type": "stream",
     "text": [
      "/tmp/ipykernel_3388/152234057.py:4: IntegrationWarning: The maximum number of subdivisions (50) has been achieved.\n",
      "  If increasing the limit yields no improvement it is advised to analyze \n",
      "  the integrand in order to determine the difficulties.  If the position of a \n",
      "  local difficulty can be determined (singularity, discontinuity) one will \n",
      "  probably gain from splitting up the interval and calling the integrator \n",
      "  on the subranges.  Perhaps a special-purpose integrator should be used.\n",
      "  return integrate.quad(integrand, 1e-18, 0.1)[0] + \\\n"
     ]
    }
   ],
   "source": [
    "solution = optimize.minimize(E, [0.1], bounds=[(0, np.inf)])"
   ]
  },
  {
   "cell_type": "code",
   "execution_count": 18,
   "id": "54e5a542",
   "metadata": {
    "ExecuteTime": {
     "end_time": "2023-12-11T08:15:43.613483Z",
     "start_time": "2023-12-11T08:15:43.608071Z"
    }
   },
   "outputs": [
    {
     "data": {
      "text/plain": [
       "      fun: 0.669511121892002\n",
       " hess_inv: <1x1 LbfgsInvHessProduct with dtype=float64>\n",
       "      jac: array([2.22044605e-08])\n",
       "  message: 'CONVERGENCE: NORM_OF_PROJECTED_GRADIENT_<=_PGTOL'\n",
       "     nfev: 22\n",
       "      nit: 8\n",
       "     njev: 11\n",
       "   status: 0\n",
       "  success: True\n",
       "        x: array([0.25242623])"
      ]
     },
     "execution_count": 18,
     "metadata": {},
     "output_type": "execute_result"
    }
   ],
   "source": [
    "solution"
   ]
  },
  {
   "cell_type": "code",
   "execution_count": 19,
   "id": "5f3d5c21",
   "metadata": {
    "ExecuteTime": {
     "end_time": "2023-12-11T08:15:45.152520Z",
     "start_time": "2023-12-11T08:15:43.835981Z"
    }
   },
   "outputs": [
    {
     "name": "stderr",
     "output_type": "stream",
     "text": [
      "/tmp/ipykernel_3388/152234057.py:4: IntegrationWarning: The maximum number of subdivisions (50) has been achieved.\n",
      "  If increasing the limit yields no improvement it is advised to analyze \n",
      "  the integrand in order to determine the difficulties.  If the position of a \n",
      "  local difficulty can be determined (singularity, discontinuity) one will \n",
      "  probably gain from splitting up the interval and calling the integrator \n",
      "  on the subranges.  Perhaps a special-purpose integrator should be used.\n",
      "  return integrate.quad(integrand, 1e-18, 0.1)[0] + \\\n"
     ]
    },
    {
     "data": {
      "text/plain": [
       "(0.01, 1000000000.0)"
      ]
     },
     "execution_count": 19,
     "metadata": {},
     "output_type": "execute_result"
    },
    {
     "data": {
      "image/png": "[encoded data removed]",
      "text/plain": [
       "<Figure size 640x480 with 1 Axes>"
      ]
     },
     "metadata": {},
     "output_type": "display_data"
    }
   ],
   "source": [
    "k = np.logspace(-6, 2, 200, base=10)\n",
    "Ev = np.vectorize(E)\n",
    "\n",
    "fig, axe = plt.subplots()\n",
    "axe.loglog(k, Ev(k))\n",
    "axe.scatter(solution.x, Ev(solution.x))\n",
    "axe.grid()\n",
    "axe.set_ylim([1e-2, 1e9])"
   ]
  },
  {
   "cell_type": "code",
   "execution_count": null,
   "id": "a34bdb51",
   "metadata": {},
   "outputs": [],
   "source": []
  },
  {
   "cell_type": "code",
   "execution_count": null,
   "id": "2f9ee657",
   "metadata": {},
   "outputs": [],
   "source": []
  },
  {
   "cell_type": "code",
   "execution_count": 20,
   "id": "d7192ebb",
   "metadata": {
    "ExecuteTime": {
     "end_time": "2023-12-11T08:15:46.891119Z",
     "start_time": "2023-12-11T08:15:45.928126Z"
    }
   },
   "outputs": [
    {
     "name": "stderr",
     "output_type": "stream",
     "text": [
      "/tmp/ipykernel_3388/152234057.py:4: IntegrationWarning: The maximum number of subdivisions (50) has been achieved.\n",
      "  If increasing the limit yields no improvement it is advised to analyze \n",
      "  the integrand in order to determine the difficulties.  If the position of a \n",
      "  local difficulty can be determined (singularity, discontinuity) one will \n",
      "  probably gain from splitting up the interval and calling the integrator \n",
      "  on the subranges.  Perhaps a special-purpose integrator should be used.\n",
      "  return integrate.quad(integrand, 1e-18, 0.1)[0] + \\\n"
     ]
    },
    {
     "data": {
      "text/plain": [
       "array([6.90597589e+04, 6.31487814e+04, 5.77431888e+04, 5.27998210e+04,\n",
       "       4.82791995e+04, 4.41452132e+04, 4.03648319e+04, 3.69078440e+04,\n",
       "       3.37466156e+04, 3.08558715e+04, 2.82124940e+04, 2.57953387e+04,\n",
       "       2.35850665e+04, 2.15639896e+04, 1.97159308e+04, 1.80260943e+04,\n",
       "       1.64809485e+04, 1.50681174e+04, 1.37762824e+04, 1.25950923e+04,\n",
       "       1.15150801e+04, 1.05275883e+04, 9.62469908e+03, 8.79917156e+03,\n",
       "       8.04438395e+03, 7.35428063e+03, 6.72332378e+03, 6.14644920e+03,\n",
       "       5.61902585e+03, 5.13681878e+03, 4.69595539e+03, 4.29289437e+03,\n",
       "       3.92439745e+03, 3.58750345e+03, 3.27950465e+03, 2.99792508e+03,\n",
       "       2.74050070e+03, 2.50516131e+03, 2.29001397e+03, 2.09332781e+03,\n",
       "       1.91352017e+03, 1.74914398e+03, 1.59887607e+03, 1.46150664e+03,\n",
       "       1.33592953e+03, 1.22113334e+03, 1.11619334e+03, 1.02026405e+03,\n",
       "       9.32572435e+02, 8.52411731e+02, 7.79135748e+02, 7.12153691e+02,\n",
       "       6.50925420e+02, 5.94957103e+02, 5.43797258e+02, 4.97033116e+02,\n",
       "       4.54287313e+02, 4.15214851e+02, 3.79500325e+02, 3.46855389e+02,\n",
       "       3.17016435e+02, 2.89742474e+02, 2.64813196e+02, 2.42027196e+02,\n",
       "       2.21200358e+02, 2.02164365e+02, 1.84765351e+02, 1.68862658e+02,\n",
       "       1.54327704e+02, 1.41042947e+02, 1.28900939e+02, 1.17803460e+02,\n",
       "       1.07660722e+02, 9.83906521e+01, 8.99182261e+01, 8.21748648e+01,\n",
       "       7.50978806e+01, 6.86299721e+01, 6.27187616e+01, 5.73163724e+01,\n",
       "       5.23790421e+01, 4.78667699e+01, 4.37429931e+01, 3.99742922e+01,\n",
       "       3.65301207e+01, 3.33825583e+01, 3.05060859e+01, 2.78773785e+01,\n",
       "       2.54751176e+01, 2.32798180e+01, 2.12736709e+01, 1.94403998e+01,\n",
       "       1.77651286e+01, 1.62342615e+01, 1.48353729e+01, 1.35571069e+01,\n",
       "       1.23890857e+01, 1.13218250e+01, 1.03466577e+01, 9.45566373e+00,\n",
       "       8.64160565e+00, 7.89787027e+00, 7.21841503e+00, 6.59771906e+00,\n",
       "       6.03073846e+00, 5.51286545e+00, 5.03989107e+00, 4.60797105e+00,\n",
       "       4.21359472e+00, 3.85355657e+00, 3.52493030e+00, 3.22504518e+00,\n",
       "       2.95146446e+00, 2.70196570e+00, 2.47452293e+00, 2.26729035e+00,\n",
       "       2.07858762e+00, 1.90688651e+00, 1.75079895e+00, 1.60906628e+00,\n",
       "       1.48054971e+00, 1.36422203e+00, 1.25916048e+00, 1.16454082e+00,\n",
       "       1.07963271e+00, 1.00379648e+00, 9.36481479e-01, 8.77226117e-01,\n",
       "       8.25659967e-01, 7.81508140e-01, 7.44598225e-01, 7.14869917e-01,\n",
       "       6.92387106e-01, 6.77351466e-01, 6.70115084e-01, 6.71187282e-01,\n",
       "       6.81227137e-01, 7.01009153e-01, 7.31347564e-01, 7.72970973e-01,\n",
       "       8.26361779e-01, 8.91615978e-01, 9.68416172e-01, 1.05619145e+00,\n",
       "       1.15442881e+00, 1.26297204e+00, 1.38214192e+00, 1.51266283e+00,\n",
       "       1.65551946e+00, 1.81185614e+00, 1.98294023e+00, 2.17016042e+00,\n",
       "       2.37503606e+00, 2.59922913e+00, 2.84455762e+00, 3.11301005e+00,\n",
       "       3.40676137e+00, 3.72819034e+00, 4.07989846e+00, 4.46473068e+00,\n",
       "       4.88579798e+00, 5.34650201e+00, 5.85056198e+00, 6.40204391e+00,\n",
       "       7.00539265e+00, 7.66546661e+00, 8.38757570e+00, 9.17752262e+00,\n",
       "       1.00416477e+01, 1.09868777e+01, 1.20207789e+01, 1.31516148e+01,\n",
       "       1.43884085e+01, 1.57410102e+01, 1.72201711e+01, 1.88376223e+01,\n",
       "       2.06061609e+01, 2.25397419e+01, 2.46535785e+01, 2.69642484e+01,\n",
       "       2.94898092e+01, 3.22499210e+01, 3.52659775e+01, 3.85612452e+01,\n",
       "       4.21610119e+01, 4.60919066e+01, 3.04087543e+08, 1.47893901e+10,\n",
       "       1.61579018e+12, 4.67506581e+14, 4.36698591e+17, 1.67141949e+21,\n",
       "       3.49196830e+25, 5.62396841e+30, 1.05778510e+37, 3.83015567e+44,\n",
       "       4.87227721e+53, 4.49060796e+64, 7.16524348e+77, 5.64600592e+93])"
      ]
     },
     "execution_count": 20,
     "metadata": {},
     "output_type": "execute_result"
    }
   ],
   "source": [
    "Ev(k)"
   ]
  },
  {
   "cell_type": "code",
   "execution_count": 21,
   "id": "d10da742",
   "metadata": {
    "ExecuteTime": {
     "end_time": "2023-12-11T08:15:47.178783Z",
     "start_time": "2023-12-11T08:15:47.168528Z"
    }
   },
   "outputs": [
    {
     "name": "stderr",
     "output_type": "stream",
     "text": [
      "/tmp/ipykernel_3388/152234057.py:4: IntegrationWarning: The maximum number of subdivisions (50) has been achieved.\n",
      "  If increasing the limit yields no improvement it is advised to analyze \n",
      "  the integrand in order to determine the difficulties.  If the position of a \n",
      "  local difficulty can be determined (singularity, discontinuity) one will \n",
      "  probably gain from splitting up the interval and calling the integrator \n",
      "  on the subranges.  Perhaps a special-purpose integrator should be used.\n",
      "  return integrate.quad(integrand, 1e-18, 0.1)[0] + \\\n"
     ]
    },
    {
     "data": {
      "text/plain": [
       "1775.9221758462263"
      ]
     },
     "execution_count": 21,
     "metadata": {},
     "output_type": "execute_result"
    }
   ],
   "source": [
    "I(24)"
   ]
  },
  {
   "cell_type": "code",
   "execution_count": null,
   "id": "b7385f23",
   "metadata": {},
   "outputs": [],
   "source": []
  },
  {
   "cell_type": "code",
   "execution_count": null,
   "id": "2a943f13",
   "metadata": {},
   "outputs": [],
   "source": []
  },
  {
   "cell_type": "code",
   "execution_count": null,
   "id": "dbc81d50",
   "metadata": {},
   "outputs": [],
   "source": []
  },
  {
   "cell_type": "code",
   "execution_count": null,
   "id": "c9f92fb6",
   "metadata": {},
   "outputs": [],
   "source": []
  }
 ],
 "metadata": {
  "hide_input": false,
  "kernelspec": {
   "display_name": "Python 3",
   "language": "python",
   "name": "python3"
  },
  "language_info": {
   "codemirror_mode": {
    "name": "ipython",
    "version": 3
   },
   "file_extension": ".py",
   "mimetype": "text/x-python",
   "name": "python",
   "nbconvert_exporter": "python",
   "pygments_lexer": "ipython3",
   "version": "3.10.6"
  },
  "toc": {
   "base_numbering": 1,
   "nav_menu": {},
   "number_sections": true,
   "sideBar": true,
   "skip_h1_title": false,
   "title_cell": "Table of Contents",
   "title_sidebar": "Contents",
   "toc_cell": false,
   "toc_position": {},
   "toc_section_display": true,
   "toc_window_display": false
  },
  "varInspector": {
   "cols": {
    "lenName": 16,
    "lenType": 16,
    "lenVar": 40
   },
   "kernels_config": {
    "python": {
     "delete_cmd_postfix": "",
     "delete_cmd_prefix": "del ",
     "library": "var_list.py",
     "varRefreshCmd": "print(var_dic_list())"
    },
    "r": {
     "delete_cmd_postfix": ") ",
     "delete_cmd_prefix": "rm(",
     "library": "var_list.r",
     "varRefreshCmd": "cat(var_dic_list()) "
    }
   },
   "types_to_exclude": [
    "module",
    "function",
    "builtin_function_or_method",
    "instance",
    "_Feature"
   ],
   "window_display": false
  }
 },
 "nbformat": 4,
 "nbformat_minor": 5
}
