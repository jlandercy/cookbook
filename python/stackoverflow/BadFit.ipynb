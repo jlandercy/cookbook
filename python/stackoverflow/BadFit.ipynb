{
 "cells": [
  {
   "cell_type": "code",
   "execution_count": 1,
   "id": "87f2d6a2",
   "metadata": {
    "ExecuteTime": {
     "end_time": "2024-05-30T05:27:02.154829Z",
     "start_time": "2024-05-30T05:27:00.635543Z"
    }
   },
   "outputs": [],
   "source": [
    "import numpy as np\n",
    "import matplotlib.pyplot as plt\n",
    "from scipy import optimize"
   ]
  },
  {
   "cell_type": "code",
   "execution_count": null,
   "id": "3aa0fd80",
   "metadata": {},
   "outputs": [],
   "source": []
  },
  {
   "cell_type": "code",
   "execution_count": 6,
   "id": "ea0b8dfe",
   "metadata": {
    "ExecuteTime": {
     "end_time": "2024-05-30T05:28:24.082180Z",
     "start_time": "2024-05-30T05:28:24.077381Z"
    }
   },
   "outputs": [],
   "source": [
    "x = np.array([55000, 55015, 55030, 55045, 55060, 55075, 55090, 55105, 55120, 55135, 55150, 55165])\n",
    "y = np.array([0.03, 0.1, 0.08, 0.12, 0.21, 0.6, 0.41, 1.96, 2.12, 1.55, 0.80, 0.60])\n",
    "ye = np.array([0.02, 0.05, 0.10, 0.06, 0.19, 0.23, 0.22, 0.30, 0.30, 0.32, 0.31, 0.18])"
   ]
  },
  {
   "cell_type": "code",
   "execution_count": null,
   "id": "3e55236d",
   "metadata": {},
   "outputs": [],
   "source": []
  },
  {
   "cell_type": "code",
   "execution_count": 11,
   "id": "a43ba262",
   "metadata": {
    "ExecuteTime": {
     "end_time": "2024-05-30T05:36:41.792486Z",
     "start_time": "2024-05-30T05:36:41.786755Z"
    }
   },
   "outputs": [],
   "source": [
    "# Define the function F(t)\n",
    "def F(t, t_peak, F_peak, T_r, T_d):\n",
    "    return 2 * F_peak / (np.exp((t - t_peak) / T_r) + np.exp(-(t - t_peak) / T_d))\n",
    "\n"
   ]
  },
  {
   "cell_type": "code",
   "execution_count": 16,
   "id": "94756dc3",
   "metadata": {
    "ExecuteTime": {
     "end_time": "2024-05-30T05:38:55.177751Z",
     "start_time": "2024-05-30T05:38:55.156747Z"
    }
   },
   "outputs": [
    {
     "name": "stderr",
     "output_type": "stream",
     "text": [
      "/tmp/ipykernel_691/2590022681.py:1: OptimizeWarning: Covariance of the parameters could not be estimated\n",
      "  popt, pcov = optimize.curve_fit(F, x, y, p0=[55125,0.6e-07,75,15])\n"
     ]
    }
   ],
   "source": [
    "popt, pcov = optimize.curve_fit(F, x, y, p0=[55125,0.6e-07,75,15])"
   ]
  },
  {
   "cell_type": "code",
   "execution_count": null,
   "id": "d2502214",
   "metadata": {},
   "outputs": [],
   "source": []
  },
  {
   "cell_type": "code",
   "execution_count": null,
   "id": "472530e1",
   "metadata": {},
   "outputs": [],
   "source": []
  },
  {
   "cell_type": "code",
   "execution_count": 17,
   "id": "8d984e86",
   "metadata": {
    "ExecuteTime": {
     "end_time": "2024-05-30T05:39:11.154706Z",
     "start_time": "2024-05-30T05:39:10.571643Z"
    }
   },
   "outputs": [
    {
     "data": {
      "text/plain": [
       "[<matplotlib.lines.Line2D at 0x7f240f6f7670>]"
      ]
     },
     "execution_count": 17,
     "metadata": {},
     "output_type": "execute_result"
    },
    {
     "data": {
      "image/png": "[encoded data removed]",
      "text/plain": [
       "<Figure size 640x480 with 1 Axes>"
      ]
     },
     "metadata": {},
     "output_type": "display_data"
    }
   ],
   "source": [
    "fig, axe = plt.subplots()\n",
    "axe.plot(x, y)\n",
    "axe.plot(x, F(x, *popt))"
   ]
  },
  {
   "cell_type": "code",
   "execution_count": null,
   "id": "e18280d6",
   "metadata": {},
   "outputs": [],
   "source": [
    "# Generate an array of times t\n",
    "\n",
    "#t_values = np.linspace(start, end, num_points)\n",
    "\n",
    "# Calculate the flux F(t) for each time t\n",
    "flux_values = F(t_values, t_peak, F_peak, T_r, T_d) \n",
    "\n",
    "# Given parameters t_peak = 55075 # peak time t_{\\circ}\n",
    "F_peak = 0.6e-07\n",
    "T_r = 75\n",
    "T_d = 15\n",
    "start = 55000\n",
    "end = 55090\n",
    "num_points = 1000"
   ]
  }
 ],
 "metadata": {
  "hide_input": false,
  "kernelspec": {
   "display_name": "Python 3",
   "language": "python",
   "name": "python3"
  },
  "language_info": {
   "codemirror_mode": {
    "name": "ipython",
    "version": 3
   },
   "file_extension": ".py",
   "mimetype": "text/x-python",
   "name": "python",
   "nbconvert_exporter": "python",
   "pygments_lexer": "ipython3",
   "version": "3.10.6"
  },
  "toc": {
   "base_numbering": 1,
   "nav_menu": {},
   "number_sections": true,
   "sideBar": true,
   "skip_h1_title": false,
   "title_cell": "Table of Contents",
   "title_sidebar": "Contents",
   "toc_cell": false,
   "toc_position": {},
   "toc_section_display": true,
   "toc_window_display": false
  },
  "varInspector": {
   "cols": {
    "lenName": 16,
    "lenType": 16,
    "lenVar": 40
   },
   "kernels_config": {
    "python": {
     "delete_cmd_postfix": "",
     "delete_cmd_prefix": "del ",
     "library": "var_list.py",
     "varRefreshCmd": "print(var_dic_list())"
    },
    "r": {
     "delete_cmd_postfix": ") ",
     "delete_cmd_prefix": "rm(",
     "library": "var_list.r",
     "varRefreshCmd": "cat(var_dic_list()) "
    }
   },
   "types_to_exclude": [
    "module",
    "function",
    "builtin_function_or_method",
    "instance",
    "_Feature"
   ],
   "window_display": false
  }
 },
 "nbformat": 4,
 "nbformat_minor": 5
}
