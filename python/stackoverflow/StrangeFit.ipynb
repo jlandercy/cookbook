{
 "cells": [
  {
   "cell_type": "code",
   "execution_count": 11,
   "id": "3e185f6e",
   "metadata": {
    "ExecuteTime": {
     "end_time": "2024-05-22T06:46:06.665832Z",
     "start_time": "2024-05-22T06:46:06.660010Z"
    }
   },
   "outputs": [],
   "source": [
    "import io\n",
    "import numpy as np\n",
    "import pandas as pd\n",
    "from scipy import optimize\n",
    "from sklearn.metrics import r2_score"
   ]
  },
  {
   "cell_type": "markdown",
   "id": "d5f6156c",
   "metadata": {},
   "source": [
    "https://stackoverflow.com/questions/78385986/i-want-to-fitting-a-curve-for-multiple-variable-function-using-python"
   ]
  },
  {
   "cell_type": "code",
   "execution_count": null,
   "id": "8bcd4d5d",
   "metadata": {},
   "outputs": [],
   "source": []
  },
  {
   "cell_type": "code",
   "execution_count": 2,
   "id": "aeec115b",
   "metadata": {
    "ExecuteTime": {
     "end_time": "2024-05-22T06:44:26.107546Z",
     "start_time": "2024-05-22T06:44:26.092871Z"
    }
   },
   "outputs": [],
   "source": [
    "data = pd.read_csv(io.StringIO(\"\"\"Area \tRoom \tParking \tWarehouse \tElevator \tAddress \tPrice\n",
    "63 \t1 \t1 \t1 \t0 \t1 \t61666.67\n",
    "60 \t1 \t0 \t0 \t0 \t1 \t30083.33\n",
    "79 \t2 \t1 \t0 \t0 \t2 \t20000.00\n",
    "95 \t2 \t0 \t1 \t1 \t3 \t71666.67\n",
    "123 \t2 \t1 \t1 \t1 \t4 \t79000.00\"\"\"), sep=\"\\t\")"
   ]
  },
  {
   "cell_type": "code",
   "execution_count": 3,
   "id": "9069006d",
   "metadata": {
    "ExecuteTime": {
     "end_time": "2024-05-22T06:44:26.144073Z",
     "start_time": "2024-05-22T06:44:26.111105Z"
    }
   },
   "outputs": [
    {
     "data": {
      "text/html": [
       "<div>\n",
       "<style scoped>\n",
       "    .dataframe tbody tr th:only-of-type {\n",
       "        vertical-align: middle;\n",
       "    }\n",
       "\n",
       "    .dataframe tbody tr th {\n",
       "        vertical-align: top;\n",
       "    }\n",
       "\n",
       "    .dataframe thead th {\n",
       "        text-align: right;\n",
       "    }\n",
       "</style>\n",
       "<table border=\"1\" class=\"dataframe\">\n",
       "  <thead>\n",
       "    <tr style=\"text-align: right;\">\n",
       "      <th></th>\n",
       "      <th>Area</th>\n",
       "      <th>Room</th>\n",
       "      <th>Parking</th>\n",
       "      <th>Warehouse</th>\n",
       "      <th>Elevator</th>\n",
       "      <th>Address</th>\n",
       "      <th>Price</th>\n",
       "    </tr>\n",
       "  </thead>\n",
       "  <tbody>\n",
       "    <tr>\n",
       "      <th>0</th>\n",
       "      <td>63</td>\n",
       "      <td>1</td>\n",
       "      <td>1</td>\n",
       "      <td>1</td>\n",
       "      <td>0</td>\n",
       "      <td>1</td>\n",
       "      <td>61666.67</td>\n",
       "    </tr>\n",
       "    <tr>\n",
       "      <th>1</th>\n",
       "      <td>60</td>\n",
       "      <td>1</td>\n",
       "      <td>0</td>\n",
       "      <td>0</td>\n",
       "      <td>0</td>\n",
       "      <td>1</td>\n",
       "      <td>30083.33</td>\n",
       "    </tr>\n",
       "    <tr>\n",
       "      <th>2</th>\n",
       "      <td>79</td>\n",
       "      <td>2</td>\n",
       "      <td>1</td>\n",
       "      <td>0</td>\n",
       "      <td>0</td>\n",
       "      <td>2</td>\n",
       "      <td>20000.00</td>\n",
       "    </tr>\n",
       "    <tr>\n",
       "      <th>3</th>\n",
       "      <td>95</td>\n",
       "      <td>2</td>\n",
       "      <td>0</td>\n",
       "      <td>1</td>\n",
       "      <td>1</td>\n",
       "      <td>3</td>\n",
       "      <td>71666.67</td>\n",
       "    </tr>\n",
       "    <tr>\n",
       "      <th>4</th>\n",
       "      <td>123</td>\n",
       "      <td>2</td>\n",
       "      <td>1</td>\n",
       "      <td>1</td>\n",
       "      <td>1</td>\n",
       "      <td>4</td>\n",
       "      <td>79000.00</td>\n",
       "    </tr>\n",
       "  </tbody>\n",
       "</table>\n",
       "</div>"
      ],
      "text/plain": [
       "   Area   Room   Parking   Warehouse   Elevator   Address      Price\n",
       "0     63      1         1           1          0         1  61666.67\n",
       "1     60      1         0           0          0         1  30083.33\n",
       "2     79      2         1           0          0         2  20000.00\n",
       "3     95      2         0           1          1         3  71666.67\n",
       "4    123      2         1           1          1         4  79000.00"
      ]
     },
     "execution_count": 3,
     "metadata": {},
     "output_type": "execute_result"
    }
   ],
   "source": [
    "data"
   ]
  },
  {
   "cell_type": "code",
   "execution_count": 4,
   "id": "eed83053",
   "metadata": {
    "ExecuteTime": {
     "end_time": "2024-05-22T06:44:26.157649Z",
     "start_time": "2024-05-22T06:44:26.149498Z"
    }
   },
   "outputs": [],
   "source": [
    "y = data.pop(\"Price\").values\n",
    "X = data.values[:,:-1]"
   ]
  },
  {
   "cell_type": "code",
   "execution_count": null,
   "id": "21efb8fe",
   "metadata": {
    "ExecuteTime": {
     "end_time": "2024-05-22T06:10:56.071680Z",
     "start_time": "2024-05-22T06:10:56.064573Z"
    }
   },
   "outputs": [],
   "source": []
  },
  {
   "cell_type": "code",
   "execution_count": 7,
   "id": "26b1ceeb",
   "metadata": {
    "ExecuteTime": {
     "end_time": "2024-05-22T06:44:54.245211Z",
     "start_time": "2024-05-22T06:44:54.197254Z"
    }
   },
   "outputs": [],
   "source": [
    "def model(x, b0, b1, b2, b3, b4):\n",
    "    return b0 * x[:,0] + b1 * x[:,1] + b2 * x[:,2] + b3 * x[:,3] + b4 * x[:,4]"
   ]
  },
  {
   "cell_type": "code",
   "execution_count": 17,
   "id": "b45203d4",
   "metadata": {
    "ExecuteTime": {
     "end_time": "2024-05-22T06:48:36.713349Z",
     "start_time": "2024-05-22T06:48:36.639747Z"
    }
   },
   "outputs": [
    {
     "name": "stderr",
     "output_type": "stream",
     "text": [
      "/tmp/ipykernel_2179/4275591332.py:1: OptimizeWarning: Covariance of the parameters could not be estimated\n",
      "  popt, pcov = optimize.curve_fit(model, X, y,) #bounds=[[0]*5, [np.inf]*5])\n"
     ]
    }
   ],
   "source": [
    "popt, pcov = optimize.curve_fit(model, X, y,) #bounds=[[0]*5, [np.inf]*5])"
   ]
  },
  {
   "cell_type": "code",
   "execution_count": 18,
   "id": "1d5bf9dc",
   "metadata": {
    "ExecuteTime": {
     "end_time": "2024-05-22T06:48:37.429973Z",
     "start_time": "2024-05-22T06:48:37.425225Z"
    }
   },
   "outputs": [],
   "source": [
    "yhat = model(X, *popt)"
   ]
  },
  {
   "cell_type": "code",
   "execution_count": 19,
   "id": "dcee6fbc",
   "metadata": {
    "ExecuteTime": {
     "end_time": "2024-05-22T06:48:38.209623Z",
     "start_time": "2024-05-22T06:48:38.197339Z"
    }
   },
   "outputs": [
    {
     "data": {
      "text/plain": [
       "1.0"
      ]
     },
     "execution_count": 19,
     "metadata": {},
     "output_type": "execute_result"
    }
   ],
   "source": [
    "r2_score(y, yhat)"
   ]
  },
  {
   "cell_type": "code",
   "execution_count": null,
   "id": "7d624ad5",
   "metadata": {},
   "outputs": [],
   "source": []
  }
 ],
 "metadata": {
  "hide_input": false,
  "kernelspec": {
   "display_name": "Python 3",
   "language": "python",
   "name": "python3"
  },
  "language_info": {
   "codemirror_mode": {
    "name": "ipython",
    "version": 3
   },
   "file_extension": ".py",
   "mimetype": "text/x-python",
   "name": "python",
   "nbconvert_exporter": "python",
   "pygments_lexer": "ipython3",
   "version": "3.10.6"
  },
  "toc": {
   "base_numbering": 1,
   "nav_menu": {},
   "number_sections": true,
   "sideBar": true,
   "skip_h1_title": false,
   "title_cell": "Table of Contents",
   "title_sidebar": "Contents",
   "toc_cell": false,
   "toc_position": {},
   "toc_section_display": true,
   "toc_window_display": false
  },
  "varInspector": {
   "cols": {
    "lenName": 16,
    "lenType": 16,
    "lenVar": 40
   },
   "kernels_config": {
    "python": {
     "delete_cmd_postfix": "",
     "delete_cmd_prefix": "del ",
     "library": "var_list.py",
     "varRefreshCmd": "print(var_dic_list())"
    },
    "r": {
     "delete_cmd_postfix": ") ",
     "delete_cmd_prefix": "rm(",
     "library": "var_list.r",
     "varRefreshCmd": "cat(var_dic_list()) "
    }
   },
   "types_to_exclude": [
    "module",
    "function",
    "builtin_function_or_method",
    "instance",
    "_Feature"
   ],
   "window_display": false
  }
 },
 "nbformat": 4,
 "nbformat_minor": 5
}
