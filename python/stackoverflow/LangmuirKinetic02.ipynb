{
 "cells": [
  {
   "cell_type": "markdown",
   "id": "6f57cb15",
   "metadata": {},
   "source": [
    "\n",
    "https://stackoverflow.com/questions/76603587/non-linear-data-fitting-for-kinetic-data\n",
    "\n",
    "```\n",
    "solve {x = 1/(1+A+sqrt(s*y/x)), y = 1/(1+A+B +sqrt(s*x/y))} for x and y\n",
    "```\n",
    "\n",
    "https://www.wolframalpha.com/input?i=solve+%7Bx+%3D+1%2F%281%2BA%2Bsqrt%28s*y%2Fx%29%29%2C+y+%3D+1%2F%281%2BA%2BB+%2Bsqrt%28s*x%2Fy%29%29%7D+for+x+and+y\n",
    "\n",
    "```\n",
    "jacobian {1/(1+B+sqrt(s*y/x)), 1/(1+A+C +sqrt(s*x/y))} wrt x and y\n",
    "```\n",
    "\n",
    "https://www.wolframalpha.com/input?i=jacobian+%7B1%2F%281%2BB%2Bsqrt%28s*y%2Fx%29%29%2C+1%2F%281%2BA%2BC+%2Bsqrt%28s*x%2Fy%29%29%7D+wrt+x+and+y"
   ]
  },
  {
   "cell_type": "code",
   "execution_count": 1,
   "id": "e24fbeaa",
   "metadata": {
    "ExecuteTime": {
     "end_time": "2023-07-19T08:29:31.069284Z",
     "start_time": "2023-07-19T08:29:28.350536Z"
    }
   },
   "outputs": [],
   "source": [
    "import numpy as np\n",
    "import pandas as pd\n",
    "from scipy import optimize \n",
    "import matplotlib.pyplot as plt\n",
    "\n",
    "import logging\n",
    "import functools"
   ]
  },
  {
   "cell_type": "markdown",
   "id": "2fe48480",
   "metadata": {},
   "source": []
  },
  {
   "cell_type": "code",
   "execution_count": 2,
   "id": "ca544d77",
   "metadata": {
    "ExecuteTime": {
     "end_time": "2023-07-19T08:29:31.086551Z",
     "start_time": "2023-07-19T08:29:31.073937Z"
    }
   },
   "outputs": [],
   "source": [
    "logger = logging.getLogger(__name__)\n",
    "logger.setLevel(logging.INFO)"
   ]
  },
  {
   "cell_type": "code",
   "execution_count": 3,
   "id": "846ab8ea",
   "metadata": {
    "ExecuteTime": {
     "end_time": "2023-07-19T08:29:31.121031Z",
     "start_time": "2023-07-19T08:29:31.089217Z"
    }
   },
   "outputs": [],
   "source": [
    "class Kinetic:\n",
    "    \n",
    "    \"\"\"Langmuir-Hinshelwood Two-Site Kinetic Model Solver\"\"\"\n",
    "    \n",
    "    R = 8.314              # J/mol.K\n",
    "    Ea = 37000             # J/mol\n",
    "    T = 473.15             # K\n",
    "    theta_ = [0.9, 0.9]    # 1\n",
    "    \n",
    "    @staticmethod\n",
    "    def k3(p, k1, k2, k4, k5, k0):\n",
    "        \"\"\"Arrhenius estimation for k3\"\"\"\n",
    "        return k0*np.exp(-Kinetic.Ea/(Kinetic.R*Kinetic.T))\n",
    "\n",
    "    @staticmethod\n",
    "    def s(p, k1, k2, k4, k5, k0):\n",
    "        \"\"\"Partial kinetic rate\"\"\"\n",
    "        pA, pB, pC = p\n",
    "        k3 = Kinetic.k3(p, k1, k2, k4, k5, k0)\n",
    "        return (k1*k2*k3/k4)*pA*pB\n",
    "    \n",
    "    @staticmethod\n",
    "    def equation(x, y, C, s):\n",
    "        return 1/(1 + C + np.sqrt(s*y/x)) - x\n",
    "    \n",
    "    @staticmethod\n",
    "    def isopleth(x, y, s):\n",
    "        return (x + np.sqrt(s*x*y) - 1)/x\n",
    "    \n",
    "    @staticmethod\n",
    "    def system(theta, p, k1, k2, k4, k5, k0):\n",
    "        \"\"\"Isothermal coverages system\"\"\"\n",
    "        pA, pB, pC = p\n",
    "        t0, t1 = theta\n",
    "        s = Kinetic.s(p, k1, k2, k4, k5, k0)\n",
    "        C0 = k2*pB\n",
    "        C1 = k1*pA + pC/k5\n",
    "        return np.array([\n",
    "            Kinetic.equation(t0, t1, C0, s),\n",
    "            Kinetic.equation(t1, t0, C1, s),\n",
    "        ])\n",
    "    \n",
    "    @staticmethod\n",
    "    def _theta(p, k1, k2, k4, k5, k0):\n",
    "        \"\"\"Single Isothermal coverages\"\"\"\n",
    "        solution = optimize.fsolve(\n",
    "            Kinetic.system,\n",
    "            Kinetic.theta_,\n",
    "            args=(p, k1, k2, k4, k5, k0),\n",
    "            full_output=False\n",
    "        )\n",
    "        if not(all((solution >= 0.) & (solution <= 1.0))):\n",
    "            raise ValueError(\"Theta are not constrained to domain: %s\" % solution)\n",
    "        return solution\n",
    "    \n",
    "    @staticmethod\n",
    "    def theta(p, k1, k2, k4, k5, k0):\n",
    "        \"\"\"Isothermal coverages\"\"\"\n",
    "        return np.apply_along_axis(Kinetic._theta, 0, p, k1, k2, k4, k5, k0)\n",
    "    \n",
    "    @staticmethod\n",
    "    def r(p, k1, k2, k4, k5, k0):\n",
    "        \"\"\"Global kinetic rate\"\"\"\n",
    "        pA, pB, pC = p\n",
    "        k3 = Kinetic.k3(p, k1, k2, k4, k5, k0)\n",
    "        t0, t1 = Kinetic.theta(p, k1, k2, k4, k5, k0)\n",
    "        return (k1*k2*k3)*pA*pB*t0*t1\n",
    "    \n",
    "    @staticmethod\n",
    "    def solve(p, r, *k):\n",
    "        \"\"\"Global kinetic constants adjustment\"\"\"\n",
    "        return optimize.curve_fit(\n",
    "            Kinetic.r, p.T, r, p0=k,\n",
    "            bounds=((0, 0, 0, 0, 0), (np.inf, np.inf, np.inf, np.inf, np.inf)),\n",
    "            method=\"trf\",\n",
    "            gtol=1e-10,\n",
    "            full_output=True\n",
    "        )\n",
    "    \n",
    "    @staticmethod\n",
    "    def eval(p, k1, k2, k4, k5, k0):\n",
    "        return np.vectorize(Kinetic.r, excluded=[\"p\"])(p, k1, k2, k4, k5, k0)\n",
    "    \n",
    "    @staticmethod\n",
    "    def mse(k1, k2, k4, k5, k0, p, r):\n",
    "        pass\n",
    "    \n",
    "    @staticmethod\n",
    "    def abaque(s, C=None):\n",
    "        \n",
    "        lin = np.linspace(0.0001, 1.1, 200)\n",
    "        X, Y = np.meshgrid(lin, lin)\n",
    "        if C is None:\n",
    "            C = np.arange(0, 26, 1)\n",
    "        \n",
    "        Cx = Kinetic.isopleth(X, Y, s)\n",
    "        Cy = Kinetic.isopleth(Y, X, s)\n",
    "      \n",
    "        fig, axe = plt.subplots()\n",
    "        xlabels = axe.contour(X, Y, Cx, C, cmap=\"jet\")\n",
    "        axe.clabel(xlabels, xlabels.levels, inline=True, fontsize=7)\n",
    "        ylabels = axe.contour(X, Y, Cy, C, cmap=\"jet\")\n",
    "        axe.clabel(ylabels, ylabels.levels, inline=True, fontsize=7)\n",
    "        axe.set_title(\"Isothemal Coverages System\\nConstant Isopleths ($s={}$)\".format(s))\n",
    "        axe.set_xlabel(r\"Partial Coverage, $\\theta_0$ [-]\")\n",
    "        axe.set_ylabel(r\"Partial Coverage, $\\theta_1$ [-]\")\n",
    "        axe.set_aspect(\"equal\")\n",
    "        axe.set_xlim([0, 1.1])\n",
    "        axe.set_ylim([0, 1.1])\n",
    "        axe.grid()\n",
    "        \n",
    "        return axe"
   ]
  },
  {
   "cell_type": "code",
   "execution_count": 4,
   "id": "69eee9ca",
   "metadata": {
    "ExecuteTime": {
     "end_time": "2023-07-19T08:29:31.619224Z",
     "start_time": "2023-07-19T08:29:31.132744Z"
    }
   },
   "outputs": [
    {
     "data": {
      "text/html": [
       "<div>\n",
       "<style scoped>\n",
       "    .dataframe tbody tr th:only-of-type {\n",
       "        vertical-align: middle;\n",
       "    }\n",
       "\n",
       "    .dataframe tbody tr th {\n",
       "        vertical-align: top;\n",
       "    }\n",
       "\n",
       "    .dataframe thead th {\n",
       "        text-align: right;\n",
       "    }\n",
       "</style>\n",
       "<table border=\"1\" class=\"dataframe\">\n",
       "  <thead>\n",
       "    <tr style=\"text-align: right;\">\n",
       "      <th></th>\n",
       "      <th>pa</th>\n",
       "      <th>pb</th>\n",
       "      <th>pc</th>\n",
       "      <th>T</th>\n",
       "      <th>rate</th>\n",
       "    </tr>\n",
       "  </thead>\n",
       "  <tbody>\n",
       "    <tr>\n",
       "      <th>0</th>\n",
       "      <td>0.10</td>\n",
       "      <td>0.11</td>\n",
       "      <td>0.0114</td>\n",
       "      <td>473.15</td>\n",
       "      <td>0.000001</td>\n",
       "    </tr>\n",
       "    <tr>\n",
       "      <th>1</th>\n",
       "      <td>0.13</td>\n",
       "      <td>0.11</td>\n",
       "      <td>0.0121</td>\n",
       "      <td>473.15</td>\n",
       "      <td>0.000002</td>\n",
       "    </tr>\n",
       "    <tr>\n",
       "      <th>2</th>\n",
       "      <td>0.20</td>\n",
       "      <td>0.11</td>\n",
       "      <td>0.0170</td>\n",
       "      <td>473.15</td>\n",
       "      <td>0.000004</td>\n",
       "    </tr>\n",
       "    <tr>\n",
       "      <th>3</th>\n",
       "      <td>0.25</td>\n",
       "      <td>0.11</td>\n",
       "      <td>0.0172</td>\n",
       "      <td>473.15</td>\n",
       "      <td>0.000004</td>\n",
       "    </tr>\n",
       "    <tr>\n",
       "      <th>4</th>\n",
       "      <td>0.30</td>\n",
       "      <td>0.11</td>\n",
       "      <td>0.0252</td>\n",
       "      <td>473.15</td>\n",
       "      <td>0.000005</td>\n",
       "    </tr>\n",
       "    <tr>\n",
       "      <th>5</th>\n",
       "      <td>0.35</td>\n",
       "      <td>0.11</td>\n",
       "      <td>0.0261</td>\n",
       "      <td>473.15</td>\n",
       "      <td>0.000006</td>\n",
       "    </tr>\n",
       "    <tr>\n",
       "      <th>6</th>\n",
       "      <td>0.10</td>\n",
       "      <td>0.16</td>\n",
       "      <td>0.0123</td>\n",
       "      <td>473.15</td>\n",
       "      <td>0.000003</td>\n",
       "    </tr>\n",
       "    <tr>\n",
       "      <th>7</th>\n",
       "      <td>0.10</td>\n",
       "      <td>0.20</td>\n",
       "      <td>0.0172</td>\n",
       "      <td>473.15</td>\n",
       "      <td>0.000004</td>\n",
       "    </tr>\n",
       "    <tr>\n",
       "      <th>8</th>\n",
       "      <td>0.10</td>\n",
       "      <td>0.22</td>\n",
       "      <td>0.0181</td>\n",
       "      <td>473.15</td>\n",
       "      <td>0.000003</td>\n",
       "    </tr>\n",
       "    <tr>\n",
       "      <th>9</th>\n",
       "      <td>0.10</td>\n",
       "      <td>0.33</td>\n",
       "      <td>0.0221</td>\n",
       "      <td>473.15</td>\n",
       "      <td>0.000005</td>\n",
       "    </tr>\n",
       "    <tr>\n",
       "      <th>10</th>\n",
       "      <td>0.10</td>\n",
       "      <td>0.44</td>\n",
       "      <td>0.0247</td>\n",
       "      <td>473.15</td>\n",
       "      <td>0.000007</td>\n",
       "    </tr>\n",
       "  </tbody>\n",
       "</table>\n",
       "</div>"
      ],
      "text/plain": [
       "      pa    pb      pc       T      rate\n",
       "0   0.10  0.11  0.0114  473.15  0.000001\n",
       "1   0.13  0.11  0.0121  473.15  0.000002\n",
       "2   0.20  0.11  0.0170  473.15  0.000004\n",
       "3   0.25  0.11  0.0172  473.15  0.000004\n",
       "4   0.30  0.11  0.0252  473.15  0.000005\n",
       "5   0.35  0.11  0.0261  473.15  0.000006\n",
       "6   0.10  0.16  0.0123  473.15  0.000003\n",
       "7   0.10  0.20  0.0172  473.15  0.000004\n",
       "8   0.10  0.22  0.0181  473.15  0.000003\n",
       "9   0.10  0.33  0.0221  473.15  0.000005\n",
       "10  0.10  0.44  0.0247  473.15  0.000007"
      ]
     },
     "execution_count": 4,
     "metadata": {},
     "output_type": "execute_result"
    }
   ],
   "source": [
    "df = pd.read_excel(\"LangmuirData.xlsx\")\n",
    "df"
   ]
  },
  {
   "cell_type": "code",
   "execution_count": 5,
   "id": "84ecd8d3",
   "metadata": {
    "ExecuteTime": {
     "end_time": "2023-07-19T08:29:31.640382Z",
     "start_time": "2023-07-19T08:29:31.624766Z"
    }
   },
   "outputs": [],
   "source": [
    "p = df.filter(regex=\"p\").values\n",
    "r = df[\"rate\"].values"
   ]
  },
  {
   "cell_type": "code",
   "execution_count": 6,
   "id": "249f3fb7",
   "metadata": {
    "ExecuteTime": {
     "end_time": "2023-07-19T08:29:31.879827Z",
     "start_time": "2023-07-19T08:29:31.646239Z"
    }
   },
   "outputs": [
    {
     "data": {
      "text/plain": [
       "(array([1.39075854e-01, 2.15668993e+03, 1.16513471e+00, 2.69648513e-01,\n",
       "        2.64057386e+00]),\n",
       " array([[ 1.48622028e+03, -6.20830186e+06,  2.86587881e+05,\n",
       "          1.03973854e+02, -2.89149484e+04],\n",
       "        [-6.20830186e+06,  1.73740772e+12, -3.36688691e+09,\n",
       "          9.40415116e+06,  1.17499454e+08],\n",
       "        [ 2.86587881e+05, -3.36688691e+09,  5.84376597e+07,\n",
       "          5.50069835e+03, -5.57235249e+06],\n",
       "        [ 1.03973854e+02,  9.40415116e+06,  5.50069835e+03,\n",
       "          8.40397226e+01, -2.04455154e+03],\n",
       "        [-2.89149484e+04,  1.17499454e+08, -5.57235249e+06,\n",
       "         -2.04455154e+03,  5.62563731e+05]]),\n",
       " {'nfev': 10,\n",
       "  'fvec': array([ 1.63900711e-06,  1.66564630e-06,  1.55523211e-06,  2.83708013e-06,\n",
       "          2.40778598e-06,  2.85927736e-06,  3.37890387e-08, -1.19231145e-06,\n",
       "         -4.03211541e-07, -2.37714019e-06, -3.98891395e-06])},\n",
       " '`gtol` termination condition is satisfied.',\n",
       " 1)"
      ]
     },
     "execution_count": 6,
     "metadata": {},
     "output_type": "execute_result"
    }
   ],
   "source": [
    "Kinetic.solve(p, r, 5, 1e5, 50, 10, 100)"
   ]
  },
  {
   "cell_type": "code",
   "execution_count": 7,
   "id": "cdbb856a",
   "metadata": {
    "ExecuteTime": {
     "end_time": "2023-07-19T08:29:31.887344Z",
     "start_time": "2023-07-19T08:29:31.882925Z"
    }
   },
   "outputs": [],
   "source": [
    "#Kinetic.solve(p, r, 1, 1, 1, 1, 1)"
   ]
  },
  {
   "cell_type": "code",
   "execution_count": 8,
   "id": "797a41c8",
   "metadata": {
    "ExecuteTime": {
     "end_time": "2023-07-19T08:29:31.894673Z",
     "start_time": "2023-07-19T08:29:31.890729Z"
    }
   },
   "outputs": [],
   "source": [
    "#Kinetic.solve(p, r, 1e2, 1e2, 1e2, 1e2, 1e2)"
   ]
  },
  {
   "cell_type": "code",
   "execution_count": null,
   "id": "3e5ccbf5",
   "metadata": {},
   "outputs": [],
   "source": []
  },
  {
   "cell_type": "code",
   "execution_count": null,
   "id": "1f8d419d",
   "metadata": {},
   "outputs": [],
   "source": []
  },
  {
   "cell_type": "code",
   "execution_count": 9,
   "id": "a63cabd9",
   "metadata": {
    "ExecuteTime": {
     "end_time": "2023-07-19T08:29:31.903710Z",
     "start_time": "2023-07-19T08:29:31.898349Z"
    }
   },
   "outputs": [],
   "source": [
    "plin = np.linspace(0.1, 0.3, 5)\n",
    "PA, PB, PC = np.meshgrid(plin, plin, plin)"
   ]
  },
  {
   "cell_type": "code",
   "execution_count": 10,
   "id": "88dae069",
   "metadata": {
    "ExecuteTime": {
     "end_time": "2023-07-19T08:29:31.919421Z",
     "start_time": "2023-07-19T08:29:31.914076Z"
    }
   },
   "outputs": [],
   "source": [
    "P = np.vstack([\n",
    "    PA.flatten(), PB.flatten(), PC.flatten()\n",
    "]).T"
   ]
  },
  {
   "cell_type": "code",
   "execution_count": null,
   "id": "53a71112",
   "metadata": {
    "ExecuteTime": {
     "end_time": "2023-07-16T09:27:43.063162Z",
     "start_time": "2023-07-16T09:27:43.050912Z"
    }
   },
   "outputs": [],
   "source": []
  },
  {
   "cell_type": "code",
   "execution_count": 105,
   "id": "50f7df56",
   "metadata": {
    "ExecuteTime": {
     "end_time": "2023-07-19T09:00:46.469385Z",
     "start_time": "2023-07-19T09:00:46.319187Z"
    }
   },
   "outputs": [],
   "source": [
    "R = Kinetic.r(P.T, 5, 1e5, 50, 10, 100)\n",
    "R += np.random.randn(R.shape[0])*1e-7"
   ]
  },
  {
   "cell_type": "code",
   "execution_count": 106,
   "id": "95e313e5",
   "metadata": {
    "ExecuteTime": {
     "end_time": "2023-07-19T09:00:47.679200Z",
     "start_time": "2023-07-19T09:00:47.668693Z"
    }
   },
   "outputs": [
    {
     "data": {
      "text/plain": [
       "(125,)"
      ]
     },
     "execution_count": 106,
     "metadata": {},
     "output_type": "execute_result"
    }
   ],
   "source": [
    "R.shape"
   ]
  },
  {
   "cell_type": "code",
   "execution_count": 107,
   "id": "2e56ff16",
   "metadata": {
    "ExecuteTime": {
     "end_time": "2023-07-19T09:01:19.230757Z",
     "start_time": "2023-07-19T09:00:48.915731Z"
    }
   },
   "outputs": [
    {
     "data": {
      "text/plain": [
       "(array([   4.86118569, 2554.54531389,    8.13767002,    9.99495037,\n",
       "         104.4230975 ]),\n",
       " array([[ 1.15491885e-02,  2.91862924e+00,  8.06566538e-01,\n",
       "         -8.55253176e-04, -3.60785930e-01],\n",
       "        [ 2.91862924e+00,  5.37311734e+04,  2.04365118e+02,\n",
       "         -6.64542036e-02, -9.62500756e+01],\n",
       "        [ 8.06566538e-01,  2.04365118e+02,  5.64766277e+01,\n",
       "         -1.83698961e-02, -2.52442933e+01],\n",
       "        [-8.55253176e-04, -6.64542036e-02, -1.83698961e-02,\n",
       "          6.00377228e-02,  8.44654093e-03],\n",
       "        [-3.60785930e-01, -9.62500756e+01, -2.52442933e+01,\n",
       "          8.44654093e-03,  1.12871418e+01]]),\n",
       " {'nfev': 158,\n",
       "  'fvec': array([-3.70050974e-06, -3.67714037e-06, -3.58109037e-06, -3.49657776e-06,\n",
       "         -3.47086215e-06, -5.77026946e-06, -6.00756332e-06, -5.72591314e-06,\n",
       "         -5.66568969e-06, -5.81830402e-06, -6.75302542e-06, -6.72449394e-06,\n",
       "         -6.45728099e-06, -6.63302127e-06, -6.82668578e-06, -7.23979388e-06,\n",
       "         -7.06895663e-06, -7.11566663e-06, -7.07452550e-06, -6.80736380e-06,\n",
       "         -7.10952551e-06, -7.12237755e-06, -6.97256794e-06, -7.03704192e-06,\n",
       "         -7.09502258e-06, -3.72666274e-07, -3.08430214e-07, -3.27134753e-07,\n",
       "         -2.86255734e-07, -3.06118331e-07, -1.39353070e-06, -1.64895936e-06,\n",
       "         -1.57773887e-06, -1.28680398e-06, -1.40304745e-06, -1.75325708e-06,\n",
       "         -1.70198614e-06, -1.69687888e-06, -1.81753395e-06, -1.92991213e-06,\n",
       "         -1.51589522e-06, -1.58349457e-06, -1.49446987e-06, -1.63855547e-06,\n",
       "         -1.69501713e-06, -1.16193090e-06, -1.11193959e-06, -1.29966771e-06,\n",
       "         -1.06113766e-06, -1.16263433e-06,  1.32300338e-06,  1.15497047e-06,\n",
       "          1.44302818e-06,  1.33851945e-06,  1.37675909e-06,  7.08947156e-07,\n",
       "          5.46050142e-07,  7.38855373e-07,  7.22248262e-07,  5.99669810e-07,\n",
       "          7.08500161e-07,  8.93476921e-07,  6.46491842e-07,  9.26909736e-07,\n",
       "          6.59115706e-07,  1.27036782e-06,  1.22257494e-06,  1.03738912e-06,\n",
       "          1.15671481e-06,  1.19717467e-06,  1.96019896e-06,  1.79895887e-06,\n",
       "          1.95730261e-06,  1.87524529e-06,  1.77695855e-06,  2.39846443e-06,\n",
       "          2.27690222e-06,  2.35702317e-06,  2.54775081e-06,  2.33370046e-06,\n",
       "          2.03969043e-06,  2.00080586e-06,  1.98773147e-06,  2.01761021e-06,\n",
       "          1.89807173e-06,  2.21423538e-06,  2.20673086e-06,  2.27328148e-06,\n",
       "          2.14740849e-06,  2.22678530e-06,  2.85595075e-06,  2.81843165e-06,\n",
       "          2.85326293e-06,  2.98974265e-06,  2.91220709e-06,  3.64490769e-06,\n",
       "          3.68598645e-06,  3.67007111e-06,  3.63075092e-06,  3.60927270e-06,\n",
       "          3.04731217e-06,  3.16978829e-06,  3.11722629e-06,  2.94334760e-06,\n",
       "          3.15262987e-06,  2.76119432e-06,  2.96418464e-06,  2.86082751e-06,\n",
       "          2.76091013e-06,  2.76691577e-06,  3.25726590e-06,  3.37773996e-06,\n",
       "          3.30872389e-06,  3.09787272e-06,  3.05917091e-06,  4.03070563e-06,\n",
       "          3.94927474e-06,  3.79437237e-06,  3.95067695e-06,  4.01351992e-06,\n",
       "          4.69744758e-06,  4.88705640e-06,  4.79097050e-06,  4.76066198e-06,\n",
       "          4.71441756e-06])},\n",
       " '`gtol` termination condition is satisfied.',\n",
       " 1)"
      ]
     },
     "execution_count": 107,
     "metadata": {},
     "output_type": "execute_result"
    }
   ],
   "source": [
    "Kinetic.solve(P, R, 1e2, 1e2, 1e2, 1e2, 1e2)"
   ]
  },
  {
   "cell_type": "code",
   "execution_count": 108,
   "id": "d03a6778",
   "metadata": {
    "ExecuteTime": {
     "end_time": "2023-07-19T09:01:43.489680Z",
     "start_time": "2023-07-19T09:01:20.321419Z"
    }
   },
   "outputs": [
    {
     "data": {
      "text/plain": [
       "(array([   4.60027101, 1432.10927392,    1.80536374,   10.00113111,\n",
       "         113.31636563]),\n",
       " array([[ 3.28470816e-02,  4.78771602e+00,  2.39880312e-01,\n",
       "         -2.56195352e-03, -1.16665338e+00],\n",
       "        [ 4.78771602e+00,  1.81843482e+04,  3.50593728e+01,\n",
       "         -1.16584904e-01, -1.75946539e+02],\n",
       "        [ 2.39880312e-01,  3.50593728e+01,  1.75659780e+00,\n",
       "         -5.83998165e-03, -8.53646672e+00],\n",
       "        [-2.56195352e-03, -1.16584904e-01, -5.83998165e-03,\n",
       "          1.88812166e-01,  2.92311605e-02],\n",
       "        [-1.16665338e+00, -1.75946539e+02, -8.53646672e+00,\n",
       "          2.92311605e-02,  4.14977667e+01]]),\n",
       " {'nfev': 126,\n",
       "  'fvec': array([-5.86392998e-06, -5.79863674e-06, -5.66086104e-06, -5.53482117e-06,\n",
       "         -5.46777701e-06, -1.05225078e-05, -1.07300859e-05, -1.04186497e-05,\n",
       "         -1.03285739e-05, -1.04512735e-05, -1.23780173e-05, -1.23380732e-05,\n",
       "         -1.20591702e-05, -1.22229488e-05, -1.24043857e-05, -1.27081532e-05,\n",
       "         -1.25435649e-05, -1.25961155e-05, -1.25604128e-05, -1.22982934e-05,\n",
       "         -1.18439268e-05, -1.18780815e-05, -1.17490928e-05, -1.18339118e-05,\n",
       "         -1.19117678e-05,  3.82110804e-09,  1.02033189e-07,  1.17157382e-07,\n",
       "          1.91717051e-07,  2.05386279e-07, -2.91881951e-06, -3.15320395e-06,\n",
       "         -3.06082108e-06, -2.74861004e-06, -2.84346792e-06, -3.63982817e-06,\n",
       "         -3.58595659e-06, -3.57792855e-06, -3.69534876e-06, -3.80418397e-06,\n",
       "         -2.84943406e-06, -2.93196696e-06, -2.85742973e-06, -3.01556323e-06,\n",
       "         -3.08563959e-06, -1.44494884e-06, -1.42469344e-06, -1.64164254e-06,\n",
       "         -1.43182485e-06, -1.56153145e-06,  2.97622051e-06,  2.83816863e-06,\n",
       "          3.15608565e-06,  3.08131346e-06,  3.14916589e-06,  8.05724531e-07,\n",
       "          6.59513112e-07,  8.69146157e-07,  8.69504469e-07,  7.64024538e-07,\n",
       "          7.01075837e-07,  8.84224088e-07,  6.35752141e-07,  9.15018589e-07,\n",
       "          6.46402416e-07,  2.01521379e-06,  1.94812238e-06,  1.74410301e-06,\n",
       "          1.84505352e-06,  1.86759008e-06,  3.91467370e-06,  3.71945913e-06,\n",
       "          3.84435991e-06,  3.72938476e-06,  3.59869902e-06,  4.81989840e-06,\n",
       "          4.72591345e-06,  4.83350532e-06,  5.05159635e-06,  4.86480073e-06,\n",
       "          3.11247031e-06,  3.08764880e-06,  3.08879417e-06,  3.13304463e-06,\n",
       "          3.02802520e-06,  3.33749438e-06,  3.32549642e-06,  3.38790818e-06,\n",
       "          3.25824459e-06,  3.33417286e-06,  4.85135672e-06,  4.79191278e-06,\n",
       "          4.80529559e-06,  4.92079653e-06,  4.82274529e-06,  6.94567291e-06,\n",
       "          6.95022696e-06,  6.89832842e-06,  6.82356010e-06,  6.76716244e-06,\n",
       "          5.98180110e-06,  6.13024915e-06,  6.10356300e-06,  5.95546280e-06,\n",
       "          6.19042497e-06,  4.48579684e-06,  4.70109879e-06,  4.61021967e-06,\n",
       "          4.52294184e-06,  4.54174384e-06,  5.13564878e-06,  5.24984967e-06,\n",
       "          5.17492365e-06,  4.95851937e-06,  4.91461501e-06,  6.86129273e-06,\n",
       "          6.75618309e-06,  6.57808594e-06,  6.71167297e-06,  6.75226900e-06,\n",
       "          8.89732527e-06,  9.04870628e-06,  8.91494075e-06,  8.84749429e-06,\n",
       "          8.76464722e-06])},\n",
       " '`gtol` termination condition is satisfied.',\n",
       " 1)"
      ]
     },
     "execution_count": 108,
     "metadata": {},
     "output_type": "execute_result"
    }
   ],
   "source": [
    "Kinetic.solve(P, R, 1e4, 1e4, 1e4, 1e4, 1e4)"
   ]
  },
  {
   "cell_type": "code",
   "execution_count": 109,
   "id": "c9f092ce",
   "metadata": {
    "ExecuteTime": {
     "end_time": "2023-07-19T09:02:16.268884Z",
     "start_time": "2023-07-19T09:01:44.548733Z"
    }
   },
   "outputs": [
    {
     "data": {
      "text/plain": [
       "(array([5.00068352e+00, 1.13206833e+05, 5.08728959e+01, 9.99182652e+00,\n",
       "        9.99777726e+01]),\n",
       " array([[ 8.35438771e-06,  7.13582594e-02,  9.11688421e-03,\n",
       "         -6.01615638e-07, -2.43864631e-04],\n",
       "        [ 7.13582594e-02,  1.35760924e+08,  8.14164370e+01,\n",
       "          2.07866611e-03, -8.29515558e+00],\n",
       "        [ 9.11688421e-03,  8.14164370e+01,  9.97470501e+00,\n",
       "         -1.99217705e-04, -2.66624450e-01],\n",
       "        [-6.01615638e-07,  2.07866611e-03, -1.99217705e-04,\n",
       "          4.12949379e-05,  5.47549582e-06],\n",
       "        [-2.43864631e-04, -8.29515558e+00, -2.66624450e-01,\n",
       "          5.47549582e-06,  7.12885021e-03]]),\n",
       " {'nfev': 176,\n",
       "  'fvec': array([-1.71852134e-08, -2.39440964e-08,  4.21341318e-08,  9.68311208e-08,\n",
       "          9.28868619e-08, -1.47817469e-08, -2.76673008e-07, -1.96055815e-08,\n",
       "          1.60514111e-08, -1.61111516e-07,  2.05616044e-09,  1.52502781e-08,\n",
       "          2.67029469e-07,  7.57616186e-08, -1.33521738e-07, -1.36739155e-07,\n",
       "          2.79271294e-08, -2.51217168e-08,  9.51559359e-09,  2.70011330e-07,\n",
       "         -3.87378057e-08, -4.98355384e-08,  1.01519188e-07,  3.83840008e-08,\n",
       "         -1.84613770e-08, -3.52665509e-08,  9.68676276e-09, -2.82145970e-08,\n",
       "         -6.44614169e-09, -4.53327436e-08,  7.64697572e-08, -1.91645511e-07,\n",
       "         -1.33163536e-07,  1.44983144e-07,  1.59038993e-08,  1.37587722e-08,\n",
       "          6.18293834e-08,  6.35804854e-08, -6.05835409e-08, -1.76620508e-07,\n",
       "          5.35734133e-08, -8.22208107e-09,  8.63864274e-08, -5.23322013e-08,\n",
       "         -1.03640524e-07, -6.06818228e-08,  2.69601039e-09, -1.71900430e-07,\n",
       "          7.95095666e-08, -9.35579774e-09, -1.58566894e-08, -1.97738974e-07,\n",
       "          7.65199391e-08, -4.17363467e-08, -1.71923747e-08,  3.19882666e-08,\n",
       "         -1.37628338e-07,  4.83720630e-08,  2.48773580e-08, -1.04669032e-07,\n",
       "         -2.34176902e-08,  1.64439085e-07, -7.98515829e-08,  2.03078369e-07,\n",
       "         -6.23827648e-08,  6.76114768e-08,  3.16215240e-08, -1.42007573e-07,\n",
       "         -1.13679598e-08,  4.01663851e-08,  7.08228936e-08, -7.12032490e-08,\n",
       "          1.06076705e-07,  4.26811307e-08, -3.72151228e-08,  5.27908684e-08,\n",
       "         -7.93572830e-08, -9.79294425e-09,  1.70408311e-07, -5.41373577e-08,\n",
       "          7.32037797e-08,  3.11835561e-08,  1.48682497e-08,  4.14034637e-08,\n",
       "         -8.15785848e-08, -1.86145901e-08, -1.95870992e-08,  5.32920484e-08,\n",
       "         -6.64525138e-08,  1.88559428e-08, -1.18828143e-08, -3.39958088e-08,\n",
       "          1.59796671e-08,  1.67345186e-07,  1.04440487e-07, -4.07216509e-08,\n",
       "          2.30711295e-08,  2.95783460e-08,  1.23925714e-08,  1.27639332e-08,\n",
       "          2.99883762e-08,  1.44055598e-07,  8.30998640e-08, -9.91563733e-08,\n",
       "          1.01765536e-07, -6.55416299e-08,  1.36703882e-07,  3.24833365e-08,\n",
       "         -6.84133302e-08, -6.35001536e-08,  2.31387222e-08,  1.52581040e-07,\n",
       "          9.23178134e-08, -1.09992459e-07, -1.40361897e-07,  5.20937219e-08,\n",
       "         -1.15273845e-08, -1.48892356e-07,  2.46808176e-08,  1.04527104e-07,\n",
       "         -1.86467534e-07,  2.81902075e-08, -4.31474099e-08, -4.90049015e-08,\n",
       "         -7.10921829e-08])},\n",
       " '`gtol` termination condition is satisfied.',\n",
       " 1)"
      ]
     },
     "execution_count": 109,
     "metadata": {},
     "output_type": "execute_result"
    }
   ],
   "source": [
    "Kinetic.solve(P, R, 1, 1, 1, 1, 1)"
   ]
  },
  {
   "cell_type": "code",
   "execution_count": null,
   "id": "5ff92e51",
   "metadata": {
    "ExecuteTime": {
     "end_time": "2023-07-16T10:25:54.652451Z",
     "start_time": "2023-07-16T10:25:54.643802Z"
    }
   },
   "outputs": [],
   "source": []
  },
  {
   "cell_type": "code",
   "execution_count": 145,
   "id": "fe7512bf",
   "metadata": {
    "ExecuteTime": {
     "end_time": "2023-07-19T10:12:54.590328Z",
     "start_time": "2023-07-19T10:12:54.418812Z"
    }
   },
   "outputs": [],
   "source": [
    "N = 50\n",
    "k1, k2, k4, k5, k0 = 5, 1e5, 50, 10, 100\n",
    "k1l = np.logspace(-2, 2, N, base=10)\n",
    "k2l = np.logspace(3, 7, N, base=10)\n",
    "k4l = np.logspace(-3, 3, N, base=10)\n",
    "k5l = np.logspace(0, 4, N, base=10)\n",
    "k0l = np.logspace(1, 6, N, base=10)"
   ]
  },
  {
   "cell_type": "code",
   "execution_count": 146,
   "id": "0e02ebec",
   "metadata": {
    "ExecuteTime": {
     "end_time": "2023-07-19T10:12:56.016315Z",
     "start_time": "2023-07-19T10:12:55.991118Z"
    }
   },
   "outputs": [],
   "source": [
    "partial = functools.partial(Kinetic.r, P.T)\n",
    "vectorized = np.vectorize(partial, otypes=[np.ndarray])\n",
    "\n",
    "def error(y):\n",
    "    def wrapped(yhat):\n",
    "        return np.log10(np.sum((y-yhat)**2)/y.size)\n",
    "    return wrapped"
   ]
  },
  {
   "cell_type": "code",
   "execution_count": 147,
   "id": "8739653c",
   "metadata": {
    "ExecuteTime": {
     "end_time": "2023-07-19T10:12:57.187018Z",
     "start_time": "2023-07-19T10:12:57.123853Z"
    }
   },
   "outputs": [],
   "source": [
    "K1, K2 = np.meshgrid(k1l, k2l)\n",
    "K1, K4 = np.meshgrid(k1l, k4l)\n",
    "K1, K5 = np.meshgrid(k1l, k5l)\n",
    "K1, K0 = np.meshgrid(k1l, k0l)"
   ]
  },
  {
   "cell_type": "code",
   "execution_count": 148,
   "id": "c9b21e21",
   "metadata": {
    "ExecuteTime": {
     "end_time": "2023-07-19T10:12:58.265061Z",
     "start_time": "2023-07-19T10:12:58.253819Z"
    }
   },
   "outputs": [],
   "source": [
    "K4, K0 = np.meshgrid(k4l, k0l)\n"
   ]
  },
  {
   "cell_type": "code",
   "execution_count": 149,
   "id": "6a0d3918",
   "metadata": {
    "ExecuteTime": {
     "end_time": "2023-07-19T10:29:49.708599Z",
     "start_time": "2023-07-19T10:12:59.133271Z"
    }
   },
   "outputs": [
    {
     "name": "stderr",
     "output_type": "stream",
     "text": [
      "/tmp/ipykernel_1285/3908429210.py:24: RuntimeWarning: invalid value encountered in sqrt\n",
      "  return 1/(1 + C + np.sqrt(s*y/x)) - x\n",
      "/usr/local/lib/python3.10/dist-packages/scipy/optimize/_minpack_py.py:175: RuntimeWarning: The iteration is not making good progress, as measured by the \n",
      "  improvement from the last ten iterations.\n",
      "  warnings.warn(msg, RuntimeWarning)\n"
     ]
    }
   ],
   "source": [
    "Rk = vectorized(k1, k2, K4, k5, K0)\n",
    "mse = np.vectorize(error(R))\n",
    "MSEk = mse(Rk)"
   ]
  },
  {
   "cell_type": "code",
   "execution_count": 150,
   "id": "fa9715eb",
   "metadata": {
    "ExecuteTime": {
     "end_time": "2023-07-19T10:29:59.059277Z",
     "start_time": "2023-07-19T10:29:51.932134Z"
    }
   },
   "outputs": [
    {
     "data": {
      "image/png": "[encoded data removed]",
      "text/plain": [
       "<Figure size 640x480 with 1 Axes>"
      ]
     },
     "metadata": {},
     "output_type": "display_data"
    }
   ],
   "source": [
    "fig, axe = plt.subplots()\n",
    "axe.contour(K4, K0, MSEk, 20, cmap=\"jet\")\n",
    "axe.axvline(k4, linestyle=\"-.\", color=\"black\")\n",
    "axe.axhline(k0, linestyle=\"-.\", color=\"black\")\n",
    "axe.set_xscale(\"log\")\n",
    "axe.set_yscale(\"log\")\n",
    "axe.set_title(\"Log-MSE Landscape\")\n",
    "axe.set_xlabel(\"Parameter, $K_4$\")\n",
    "axe.set_ylabel(\"Parameter, $K_0$\")\n",
    "axe.grid()"
   ]
  },
  {
   "cell_type": "code",
   "execution_count": null,
   "id": "97ef3461",
   "metadata": {
    "ExecuteTime": {
     "end_time": "2023-07-19T08:45:52.799354Z",
     "start_time": "2023-07-19T08:45:52.773623Z"
    }
   },
   "outputs": [],
   "source": []
  },
  {
   "cell_type": "code",
   "execution_count": null,
   "id": "3b968c18",
   "metadata": {},
   "outputs": [],
   "source": []
  },
  {
   "cell_type": "code",
   "execution_count": null,
   "id": "971e3c37",
   "metadata": {},
   "outputs": [],
   "source": []
  },
  {
   "cell_type": "code",
   "execution_count": null,
   "id": "dbe519bb",
   "metadata": {},
   "outputs": [],
   "source": []
  },
  {
   "cell_type": "code",
   "execution_count": null,
   "id": "c9298b47",
   "metadata": {},
   "outputs": [],
   "source": []
  }
 ],
 "metadata": {
  "hide_input": false,
  "kernelspec": {
   "display_name": "Python 3",
   "language": "python",
   "name": "python3"
  },
  "language_info": {
   "codemirror_mode": {
    "name": "ipython",
    "version": 3
   },
   "file_extension": ".py",
   "mimetype": "text/x-python",
   "name": "python",
   "nbconvert_exporter": "python",
   "pygments_lexer": "ipython3",
   "version": "3.10.6"
  },
  "toc": {
   "base_numbering": 1,
   "nav_menu": {},
   "number_sections": true,
   "sideBar": true,
   "skip_h1_title": false,
   "title_cell": "Table of Contents",
   "title_sidebar": "Contents",
   "toc_cell": false,
   "toc_position": {},
   "toc_section_display": true,
   "toc_window_display": false
  },
  "varInspector": {
   "cols": {
    "lenName": 16,
    "lenType": 16,
    "lenVar": 40
   },
   "kernels_config": {
    "python": {
     "delete_cmd_postfix": "",
     "delete_cmd_prefix": "del ",
     "library": "var_list.py",
     "varRefreshCmd": "print(var_dic_list())"
    },
    "r": {
     "delete_cmd_postfix": ") ",
     "delete_cmd_prefix": "rm(",
     "library": "var_list.r",
     "varRefreshCmd": "cat(var_dic_list()) "
    }
   },
   "types_to_exclude": [
    "module",
    "function",
    "builtin_function_or_method",
    "instance",
    "_Feature"
   ],
   "window_display": false
  }
 },
 "nbformat": 4,
 "nbformat_minor": 5
}
