{
 "cells": [
  {
   "cell_type": "markdown",
   "id": "6f57cb15",
   "metadata": {},
   "source": [
    "```\n",
    "https://stackoverflow.com/questions/76603587/non-linear-data-fitting-for-kinetic-data\n",
    "\n",
    "```\n",
    "solve {x = 1/(1+A+sqrt(s*y/x)), y = 1/(1+A+B +sqrt(s*x/y))} for x and y\n",
    "```\n",
    "\n",
    "https://www.wolframalpha.com/input?i=solve+%7Bx+%3D+1%2F%281%2BA%2Bsqrt%28s*y%2Fx%29%29%2C+y+%3D+1%2F%281%2BA%2BB+%2Bsqrt%28s*x%2Fy%29%29%7D+for+x+and+y\n",
    "\n",
    "```\n",
    "jacobian {1/(1+B+sqrt(s*y/x)), 1/(1+A+C +sqrt(s*x/y))} wrt x and y\n",
    "```\n",
    "\n",
    "https://www.wolframalpha.com/input?i=jacobian+%7B1%2F%281%2BB%2Bsqrt%28s*y%2Fx%29%29%2C+1%2F%281%2BA%2BC+%2Bsqrt%28s*x%2Fy%29%29%7D+wrt+x+and+y"
   ]
  },
  {
   "cell_type": "code",
   "execution_count": 1,
   "id": "e24fbeaa",
   "metadata": {
    "ExecuteTime": {
     "end_time": "2023-07-16T18:04:11.492893Z",
     "start_time": "2023-07-16T18:04:09.234426Z"
    }
   },
   "outputs": [],
   "source": [
    "import numpy as np\n",
    "import pandas as pd\n",
    "import matplotlib.pyplot as plt\n",
    "from scipy import optimize \n",
    "import logging\n",
    "import functools"
   ]
  },
  {
   "cell_type": "code",
   "execution_count": 2,
   "id": "ca544d77",
   "metadata": {
    "ExecuteTime": {
     "end_time": "2023-07-16T18:04:11.501395Z",
     "start_time": "2023-07-16T18:04:11.497128Z"
    }
   },
   "outputs": [],
   "source": [
    "logger = logging.getLogger(__name__)\n",
    "logger.setLevel(logging.INFO)"
   ]
  },
  {
   "cell_type": "code",
   "execution_count": 3,
   "id": "846ab8ea",
   "metadata": {
    "ExecuteTime": {
     "end_time": "2023-07-16T18:04:11.525160Z",
     "start_time": "2023-07-16T18:04:11.504754Z"
    }
   },
   "outputs": [],
   "source": [
    "class Kinetic:\n",
    "    \n",
    "    \"\"\"Langmuir-Hinshelwood Two-Site Kinetic Model Solver\"\"\"\n",
    "    \n",
    "    R = 8.314              # J/mol.K\n",
    "    Ea = 37000             # J/mol\n",
    "    T = 473.15             # K\n",
    "    theta_ = [0.9, 0.9]    # 1\n",
    "    \n",
    "    @staticmethod\n",
    "    def k3(p, k1, k2, k4, k5, k0):\n",
    "        \"\"\"Arrhenius estimation for k3\"\"\"\n",
    "        return k0*np.exp(-Kinetic.Ea/(Kinetic.R*Kinetic.T))\n",
    "\n",
    "    @staticmethod\n",
    "    def s(p, k1, k2, k4, k5, k0):\n",
    "        \"\"\"Partial kinetic rate\"\"\"\n",
    "        pA, pB, pC = p\n",
    "        k3 = Kinetic.k3(p, k1, k2, k4, k5, k0)\n",
    "        return (k1*k2*k3/k4)*pA*pB\n",
    "    \n",
    "    @staticmethod\n",
    "    def equation(x, y, C, s):\n",
    "        return 1/(1 + C + np.sqrt(s*y/x)) - x\n",
    "    \n",
    "    @staticmethod\n",
    "    def isopleth(x, y, s):\n",
    "        return (x + np.sqrt(s*x*y) - 1)/x\n",
    "    \n",
    "    @staticmethod\n",
    "    def system(theta, p, k1, k2, k4, k5, k0):\n",
    "        \"\"\"Isothermal coverages system\"\"\"\n",
    "        pA, pB, pC = p\n",
    "        t0, t1 = theta\n",
    "        s = Kinetic.s(p, k1, k2, k4, k5, k0)\n",
    "        C0 = k2*pB\n",
    "        C1 = k1*pA + pC/k5\n",
    "        return np.array([\n",
    "            Kinetic.equation(t0, t1, C0, s),\n",
    "            Kinetic.equation(t1, t0, C1, s),\n",
    "        ])\n",
    "    \n",
    "    @staticmethod\n",
    "    def _theta(p, k1, k2, k4, k5, k0):\n",
    "        \"\"\"Single Isothermal coverages\"\"\"\n",
    "        return optimize.fsolve(\n",
    "            Kinetic.system,\n",
    "            Kinetic.theta_,\n",
    "            args=(p, k1, k2, k4, k5, k0),\n",
    "            full_output=False\n",
    "        )\n",
    "    \n",
    "    @staticmethod\n",
    "    def theta(p, k1, k2, k4, k5, k0):\n",
    "        \"\"\"Isothermal coverages\"\"\"\n",
    "        return np.apply_along_axis(Kinetic._theta, 0, p, k1, k2, k4, k5, k0)\n",
    "    \n",
    "    @staticmethod\n",
    "    def r(p, k1, k2, k4, k5, k0):\n",
    "        \"\"\"Global kinetic rate\"\"\"\n",
    "        pA, pB, pC = p\n",
    "        k3 = Kinetic.k3(p, k1, k2, k4, k5, k0)\n",
    "        t0, t1 = Kinetic.theta(p, k1, k2, k4, k5, k0)\n",
    "        return (k1*k2*k3)*pA*pB*t0*t1\n",
    "    \n",
    "    @staticmethod\n",
    "    def solve(p, r, *k):\n",
    "        \"\"\"Global kinetic constants adjustment\"\"\"\n",
    "        return optimize.curve_fit(\n",
    "            Kinetic.r, p.T, r, p0=k,\n",
    "            bounds=((0, 0, 0, 0, 0), (np.inf, np.inf, np.inf, np.inf, np.inf)),\n",
    "            method=\"trf\",\n",
    "            gtol=1e-10,\n",
    "            full_output=True\n",
    "        )\n",
    "    \n",
    "    @staticmethod\n",
    "    def eval(p, k1, k2, k4, k5, k0):\n",
    "        return np.vectorize(Kinetic.r, excluded=[\"p\"])(p, k1, k2, k4, k5, k0)\n",
    "    \n",
    "    @staticmethod\n",
    "    def mse(k1, k2, k4, k5, k0, p, r):\n",
    "        pass\n",
    "    \n",
    "    @staticmethod\n",
    "    def abaque(s, C=None):\n",
    "        \n",
    "        lin = np.linspace(0.0001, 1.1, 200)\n",
    "        X, Y = np.meshgrid(lin, lin)\n",
    "        if C is None:\n",
    "            C = np.arange(0, 26, 1)\n",
    "        \n",
    "        Cx = Kinetic.isopleth(X, Y, s)\n",
    "        Cy = Kinetic.isopleth(Y, X, s)\n",
    "      \n",
    "        fig, axe = plt.subplots()\n",
    "        xlabels = axe.contour(X, Y, Cx, C, cmap=\"jet\")\n",
    "        axe.clabel(xlabels, xlabels.levels, inline=True, fontsize=7)\n",
    "        ylabels = axe.contour(X, Y, Cy, C, cmap=\"jet\")\n",
    "        axe.clabel(ylabels, ylabels.levels, inline=True, fontsize=7)\n",
    "        axe.set_title(\"Isothemal Coverages System\\nConstant Isopleths ($s={}$)\".format(s))\n",
    "        axe.set_xlabel(r\"Partial Coverage, $\\theta_0$ [-]\")\n",
    "        axe.set_ylabel(r\"Partial Coverage, $\\theta_1$ [-]\")\n",
    "        axe.set_aspect(\"equal\")\n",
    "        axe.set_xlim([0, 1.1])\n",
    "        axe.set_ylim([0, 1.1])\n",
    "        axe.grid()\n",
    "        \n",
    "        return axe"
   ]
  },
  {
   "cell_type": "code",
   "execution_count": 4,
   "id": "69eee9ca",
   "metadata": {
    "ExecuteTime": {
     "end_time": "2023-07-16T18:04:11.946404Z",
     "start_time": "2023-07-16T18:04:11.528001Z"
    }
   },
   "outputs": [
    {
     "data": {
      "text/html": [
       "<div>\n",
       "<style scoped>\n",
       "    .dataframe tbody tr th:only-of-type {\n",
       "        vertical-align: middle;\n",
       "    }\n",
       "\n",
       "    .dataframe tbody tr th {\n",
       "        vertical-align: top;\n",
       "    }\n",
       "\n",
       "    .dataframe thead th {\n",
       "        text-align: right;\n",
       "    }\n",
       "</style>\n",
       "<table border=\"1\" class=\"dataframe\">\n",
       "  <thead>\n",
       "    <tr style=\"text-align: right;\">\n",
       "      <th></th>\n",
       "      <th>pa</th>\n",
       "      <th>pb</th>\n",
       "      <th>pc</th>\n",
       "      <th>T</th>\n",
       "      <th>rate</th>\n",
       "    </tr>\n",
       "  </thead>\n",
       "  <tbody>\n",
       "    <tr>\n",
       "      <th>0</th>\n",
       "      <td>0.10</td>\n",
       "      <td>0.11</td>\n",
       "      <td>0.0114</td>\n",
       "      <td>473.15</td>\n",
       "      <td>0.000001</td>\n",
       "    </tr>\n",
       "    <tr>\n",
       "      <th>1</th>\n",
       "      <td>0.13</td>\n",
       "      <td>0.11</td>\n",
       "      <td>0.0121</td>\n",
       "      <td>473.15</td>\n",
       "      <td>0.000002</td>\n",
       "    </tr>\n",
       "    <tr>\n",
       "      <th>2</th>\n",
       "      <td>0.20</td>\n",
       "      <td>0.11</td>\n",
       "      <td>0.0170</td>\n",
       "      <td>473.15</td>\n",
       "      <td>0.000004</td>\n",
       "    </tr>\n",
       "    <tr>\n",
       "      <th>3</th>\n",
       "      <td>0.25</td>\n",
       "      <td>0.11</td>\n",
       "      <td>0.0172</td>\n",
       "      <td>473.15</td>\n",
       "      <td>0.000004</td>\n",
       "    </tr>\n",
       "    <tr>\n",
       "      <th>4</th>\n",
       "      <td>0.30</td>\n",
       "      <td>0.11</td>\n",
       "      <td>0.0252</td>\n",
       "      <td>473.15</td>\n",
       "      <td>0.000005</td>\n",
       "    </tr>\n",
       "    <tr>\n",
       "      <th>5</th>\n",
       "      <td>0.35</td>\n",
       "      <td>0.11</td>\n",
       "      <td>0.0261</td>\n",
       "      <td>473.15</td>\n",
       "      <td>0.000006</td>\n",
       "    </tr>\n",
       "    <tr>\n",
       "      <th>6</th>\n",
       "      <td>0.10</td>\n",
       "      <td>0.16</td>\n",
       "      <td>0.0123</td>\n",
       "      <td>473.15</td>\n",
       "      <td>0.000003</td>\n",
       "    </tr>\n",
       "    <tr>\n",
       "      <th>7</th>\n",
       "      <td>0.10</td>\n",
       "      <td>0.20</td>\n",
       "      <td>0.0172</td>\n",
       "      <td>473.15</td>\n",
       "      <td>0.000004</td>\n",
       "    </tr>\n",
       "    <tr>\n",
       "      <th>8</th>\n",
       "      <td>0.10</td>\n",
       "      <td>0.22</td>\n",
       "      <td>0.0181</td>\n",
       "      <td>473.15</td>\n",
       "      <td>0.000003</td>\n",
       "    </tr>\n",
       "    <tr>\n",
       "      <th>9</th>\n",
       "      <td>0.10</td>\n",
       "      <td>0.33</td>\n",
       "      <td>0.0221</td>\n",
       "      <td>473.15</td>\n",
       "      <td>0.000005</td>\n",
       "    </tr>\n",
       "    <tr>\n",
       "      <th>10</th>\n",
       "      <td>0.10</td>\n",
       "      <td>0.44</td>\n",
       "      <td>0.0247</td>\n",
       "      <td>473.15</td>\n",
       "      <td>0.000007</td>\n",
       "    </tr>\n",
       "  </tbody>\n",
       "</table>\n",
       "</div>"
      ],
      "text/plain": [
       "      pa    pb      pc       T      rate\n",
       "0   0.10  0.11  0.0114  473.15  0.000001\n",
       "1   0.13  0.11  0.0121  473.15  0.000002\n",
       "2   0.20  0.11  0.0170  473.15  0.000004\n",
       "3   0.25  0.11  0.0172  473.15  0.000004\n",
       "4   0.30  0.11  0.0252  473.15  0.000005\n",
       "5   0.35  0.11  0.0261  473.15  0.000006\n",
       "6   0.10  0.16  0.0123  473.15  0.000003\n",
       "7   0.10  0.20  0.0172  473.15  0.000004\n",
       "8   0.10  0.22  0.0181  473.15  0.000003\n",
       "9   0.10  0.33  0.0221  473.15  0.000005\n",
       "10  0.10  0.44  0.0247  473.15  0.000007"
      ]
     },
     "execution_count": 4,
     "metadata": {},
     "output_type": "execute_result"
    }
   ],
   "source": [
    "df = pd.read_excel(\"LangmuirData.xlsx\")\n",
    "df"
   ]
  },
  {
   "cell_type": "code",
   "execution_count": 5,
   "id": "84ecd8d3",
   "metadata": {
    "ExecuteTime": {
     "end_time": "2023-07-16T18:04:11.958004Z",
     "start_time": "2023-07-16T18:04:11.951152Z"
    }
   },
   "outputs": [],
   "source": [
    "p = df.filter(regex=\"p\").values\n",
    "r = df[\"rate\"].values"
   ]
  },
  {
   "cell_type": "code",
   "execution_count": 6,
   "id": "249f3fb7",
   "metadata": {
    "ExecuteTime": {
     "end_time": "2023-07-16T18:04:11.964014Z",
     "start_time": "2023-07-16T18:04:11.961073Z"
    }
   },
   "outputs": [],
   "source": [
    "#Kinetic.solve(p, r, 5, 1e5, 50, 10, 100)"
   ]
  },
  {
   "cell_type": "code",
   "execution_count": 7,
   "id": "cdbb856a",
   "metadata": {
    "ExecuteTime": {
     "end_time": "2023-07-16T18:04:11.969327Z",
     "start_time": "2023-07-16T18:04:11.966858Z"
    }
   },
   "outputs": [],
   "source": [
    "#Kinetic.solve(p, r, 1, 1, 1, 1, 1)"
   ]
  },
  {
   "cell_type": "code",
   "execution_count": 8,
   "id": "797a41c8",
   "metadata": {
    "ExecuteTime": {
     "end_time": "2023-07-16T18:04:11.974850Z",
     "start_time": "2023-07-16T18:04:11.972174Z"
    }
   },
   "outputs": [],
   "source": [
    "#Kinetic.solve(p, r, 1e2, 1e2, 1e2, 1e2, 1e2)"
   ]
  },
  {
   "cell_type": "code",
   "execution_count": null,
   "id": "3e5ccbf5",
   "metadata": {},
   "outputs": [],
   "source": []
  },
  {
   "cell_type": "code",
   "execution_count": null,
   "id": "1f8d419d",
   "metadata": {},
   "outputs": [],
   "source": []
  },
  {
   "cell_type": "code",
   "execution_count": 9,
   "id": "a63cabd9",
   "metadata": {
    "ExecuteTime": {
     "end_time": "2023-07-16T18:04:11.980999Z",
     "start_time": "2023-07-16T18:04:11.977488Z"
    }
   },
   "outputs": [],
   "source": [
    "plin = np.linspace(0.1, 0.3, 5)\n",
    "PA, PB, PC = np.meshgrid(plin, plin, plin)"
   ]
  },
  {
   "cell_type": "code",
   "execution_count": 10,
   "id": "88dae069",
   "metadata": {
    "ExecuteTime": {
     "end_time": "2023-07-16T18:04:11.987030Z",
     "start_time": "2023-07-16T18:04:11.983990Z"
    }
   },
   "outputs": [],
   "source": [
    "P = np.vstack([\n",
    "    PA.flatten(), PB.flatten(), PC.flatten()\n",
    "]).T"
   ]
  },
  {
   "cell_type": "code",
   "execution_count": null,
   "id": "53a71112",
   "metadata": {
    "ExecuteTime": {
     "end_time": "2023-07-16T09:27:43.063162Z",
     "start_time": "2023-07-16T09:27:43.050912Z"
    }
   },
   "outputs": [],
   "source": []
  },
  {
   "cell_type": "code",
   "execution_count": 11,
   "id": "50f7df56",
   "metadata": {
    "ExecuteTime": {
     "end_time": "2023-07-16T18:04:12.018789Z",
     "start_time": "2023-07-16T18:04:11.989770Z"
    }
   },
   "outputs": [],
   "source": [
    "R = Kinetic.r(P.T, 5, 1e5, 50, 10, 100)"
   ]
  },
  {
   "cell_type": "code",
   "execution_count": 12,
   "id": "95e313e5",
   "metadata": {
    "ExecuteTime": {
     "end_time": "2023-07-16T18:04:12.026663Z",
     "start_time": "2023-07-16T18:04:12.021929Z"
    }
   },
   "outputs": [
    {
     "data": {
      "text/plain": [
       "(125,)"
      ]
     },
     "execution_count": 12,
     "metadata": {},
     "output_type": "execute_result"
    }
   ],
   "source": [
    "R.shape"
   ]
  },
  {
   "cell_type": "code",
   "execution_count": 13,
   "id": "2e56ff16",
   "metadata": {
    "ExecuteTime": {
     "end_time": "2023-07-16T18:04:12.031917Z",
     "start_time": "2023-07-16T18:04:12.029425Z"
    }
   },
   "outputs": [],
   "source": [
    "#Kinetic.solve(P, R, 1e2, 1e2, 1e2, 1e2, 1e2)"
   ]
  },
  {
   "cell_type": "code",
   "execution_count": 14,
   "id": "d03a6778",
   "metadata": {
    "ExecuteTime": {
     "end_time": "2023-07-16T18:04:12.041600Z",
     "start_time": "2023-07-16T18:04:12.038969Z"
    }
   },
   "outputs": [],
   "source": [
    "#Kinetic.solve(P, R, 1e4, 1e4, 1e4, 1e4, 1e4)"
   ]
  },
  {
   "cell_type": "code",
   "execution_count": 15,
   "id": "c9f092ce",
   "metadata": {
    "ExecuteTime": {
     "end_time": "2023-07-16T18:04:12.047520Z",
     "start_time": "2023-07-16T18:04:12.044923Z"
    }
   },
   "outputs": [],
   "source": [
    "#Kinetic.solve(P, R, 1, 1, 1, 1, 1)"
   ]
  },
  {
   "cell_type": "code",
   "execution_count": null,
   "id": "5ff92e51",
   "metadata": {
    "ExecuteTime": {
     "end_time": "2023-07-16T10:25:54.652451Z",
     "start_time": "2023-07-16T10:25:54.643802Z"
    }
   },
   "outputs": [],
   "source": []
  },
  {
   "cell_type": "code",
   "execution_count": 42,
   "id": "fe7512bf",
   "metadata": {
    "ExecuteTime": {
     "end_time": "2023-07-16T18:14:18.792064Z",
     "start_time": "2023-07-16T18:14:18.783347Z"
    }
   },
   "outputs": [],
   "source": [
    "k1, k2, k4, k5, k0 = 5, 1e5, 50, 10, 100\n",
    "N = 10\n",
    "k1l = np.logspace(-2, 2, N, base=10)\n",
    "k2l = np.logspace(3, 7, N, base=10)\n",
    "k4l = np.logspace(0, 4, N, base=10)\n",
    "k5l = np.logspace(-1, 3, N, base=10)\n",
    "k0l = np.logspace(0, 4, N, base=10)"
   ]
  },
  {
   "cell_type": "code",
   "execution_count": 43,
   "id": "38a3958f",
   "metadata": {
    "ExecuteTime": {
     "end_time": "2023-07-16T18:14:20.359407Z",
     "start_time": "2023-07-16T18:14:20.355701Z"
    }
   },
   "outputs": [],
   "source": [
    "#K1, K2, K4, K5, K0 = np.meshgrid(k1l, k2l, k4l, k5l, k0l)"
   ]
  },
  {
   "cell_type": "code",
   "execution_count": 44,
   "id": "8fc3ec2a",
   "metadata": {
    "ExecuteTime": {
     "end_time": "2023-07-16T18:14:21.995121Z",
     "start_time": "2023-07-16T18:14:21.990923Z"
    }
   },
   "outputs": [],
   "source": [
    "partial = functools.partial(Kinetic.r, P.T)\n",
    "vectorized = np.vectorize(partial, otypes=[np.ndarray])"
   ]
  },
  {
   "cell_type": "code",
   "execution_count": 45,
   "id": "b3d5bcfa",
   "metadata": {
    "ExecuteTime": {
     "end_time": "2023-07-16T18:14:23.355393Z",
     "start_time": "2023-07-16T18:14:23.351962Z"
    }
   },
   "outputs": [],
   "source": [
    "K1, K2 = np.meshgrid(k1l, k2l)"
   ]
  },
  {
   "cell_type": "code",
   "execution_count": 46,
   "id": "1d7e4181",
   "metadata": {
    "ExecuteTime": {
     "end_time": "2023-07-16T18:14:36.450544Z",
     "start_time": "2023-07-16T18:14:33.753930Z"
    }
   },
   "outputs": [],
   "source": [
    "Z = vectorized(K1, K2, k4, k5, k0)"
   ]
  },
  {
   "cell_type": "code",
   "execution_count": 56,
   "id": "db65ae67",
   "metadata": {
    "ExecuteTime": {
     "end_time": "2023-07-16T18:18:44.681281Z",
     "start_time": "2023-07-16T18:18:44.636845Z"
    }
   },
   "outputs": [
    {
     "data": {
      "text/plain": [
       "array([0.0026835085593803973, 0.0026747168183653774,\n",
       "       0.0026659826015079323, 0.0026573053455674067,\n",
       "       0.0026486844946365853, 0.003446700347732616, 0.0034370172204688013,\n",
       "       0.0034273884609138574, 0.0034178136119904713,\n",
       "       0.0034082922217339266, 0.0040186342729303165,\n",
       "       0.0040087517087486245, 0.003998917740412106, 0.003989132009956464,\n",
       "       0.003979394162926996, 0.0044632655989774225, 0.004453505851283946,\n",
       "       0.004443788794413017, 0.004434114148539868, 0.004424481636281743,\n",
       "       0.004818866832019479, 0.004809380492174581, 0.004799931520183615,\n",
       "       0.0047905196954146955, 0.004781144798970756, 0.00268359734841803,\n",
       "       0.0026748053175821482, 0.0026660708127949017,\n",
       "       0.0026573932707971613, 0.002648772135663475, 0.0034468142762337024,\n",
       "       0.0034371308302372835, 0.003427501753733712, 0.003417926589630715,\n",
       "       0.0034084048859487855, 0.004018767017613897, 0.00400888412846235,\n",
       "       0.003999049836748544, 0.003989263784496489, 0.0039795256172398975,\n",
       "       0.00446341295900268, 0.004453652890613772, 0.004443935514445178,\n",
       "       0.0044342605506629915, 0.004424627721875405, 0.004819025873346757,\n",
       "       0.004809539221965585, 0.004800089939660966, 0.004790677805793814,\n",
       "       0.004781302601459922, 0.002683641745144264, 0.002674849569390767,\n",
       "       0.002666114920631482, 0.0026574372355980405, 0.0026488159583558774,\n",
       "       0.003446871243314581, 0.0034371876379439667, 0.003427558402958231,\n",
       "       0.003417983081257623, 0.00340846122085524, 0.0040188333932518255,\n",
       "       0.004008950341607307, 0.003999115888196858, 0.003989329675038632,\n",
       "       0.003979591347660556, 0.0044634866426730225, 0.004453726413928467,\n",
       "       0.004444008878103142, 0.004434333755358575, 0.004424700768298428,\n",
       "       0.004819105397956956, 0.0048096185907999444, 0.004800169153330826,\n",
       "       0.004790756864906917, 0.00478138150662044, 0.002683668383886421,\n",
       "       0.002674876121180056, 0.002666141386035262, 0.002657463615178131,\n",
       "       0.002648842252668626, 0.0034469054244688677, 0.003437221723471211,\n",
       "       0.003427592393393666, 0.003418016977131994, 0.003408495022694853,\n",
       "       0.004018873219689409, 0.004008990070546534, 0.003999155520115537,\n",
       "       0.003989369210411062, 0.003979630786957557, 0.004463530854045766,\n",
       "       0.0044537705290852835, 0.004444052897463392, 0.004434377679338881,\n",
       "       0.004424744597312691, 0.00481915311398605, 0.00480966621336107,\n",
       "       0.004800216682790797, 0.004790804301630388, 0.004781428850969921,\n",
       "       0.002683686143342209, 0.0026748938226663064, 0.002666159029930222,\n",
       "       0.0026574812018563525, 0.002648859782501012, 0.0034469282122824734,\n",
       "       0.003437244447532401, 0.0034276150540592694, 0.0034180395747558465,\n",
       "       0.003408517557627833, 0.004018899771087325, 0.004009016556944474,\n",
       "       0.003999181941832042, 0.0039893955677623395, 0.0039796570802574935,\n",
       "       0.004463560328782, 0.004453799939676509, 0.004444082244189187,\n",
       "       0.004434406962476998, 0.004424773817139071, 0.004819184925198369,\n",
       "       0.004809697962260382, 0.00480024836962165, 0.004790835926635888,\n",
       "       0.00478146041439175], dtype=object)"
      ]
     },
     "execution_count": 56,
     "metadata": {},
     "output_type": "execute_result"
    }
   ],
   "source": [
    "vectorized(k1, k2, k4, k5, k0)"
   ]
  },
  {
   "cell_type": "code",
   "execution_count": null,
   "id": "c3d4831b",
   "metadata": {},
   "outputs": [],
   "source": [
    "fig, axe = plt.subplots()\n",
    "axe.contour(K1, K2, Z)"
   ]
  },
  {
   "cell_type": "code",
   "execution_count": null,
   "id": "0e02ebec",
   "metadata": {},
   "outputs": [],
   "source": []
  },
  {
   "cell_type": "code",
   "execution_count": null,
   "id": "6a0d3918",
   "metadata": {},
   "outputs": [],
   "source": []
  }
 ],
 "metadata": {
  "hide_input": false,
  "kernelspec": {
   "display_name": "Python 3",
   "language": "python",
   "name": "python3"
  },
  "language_info": {
   "codemirror_mode": {
    "name": "ipython",
    "version": 3
   },
   "file_extension": ".py",
   "mimetype": "text/x-python",
   "name": "python",
   "nbconvert_exporter": "python",
   "pygments_lexer": "ipython3",
   "version": "3.10.6"
  },
  "toc": {
   "base_numbering": 1,
   "nav_menu": {},
   "number_sections": true,
   "sideBar": true,
   "skip_h1_title": false,
   "title_cell": "Table of Contents",
   "title_sidebar": "Contents",
   "toc_cell": false,
   "toc_position": {},
   "toc_section_display": true,
   "toc_window_display": false
  },
  "varInspector": {
   "cols": {
    "lenName": 16,
    "lenType": 16,
    "lenVar": 40
   },
   "kernels_config": {
    "python": {
     "delete_cmd_postfix": "",
     "delete_cmd_prefix": "del ",
     "library": "var_list.py",
     "varRefreshCmd": "print(var_dic_list())"
    },
    "r": {
     "delete_cmd_postfix": ") ",
     "delete_cmd_prefix": "rm(",
     "library": "var_list.r",
     "varRefreshCmd": "cat(var_dic_list()) "
    }
   },
   "types_to_exclude": [
    "module",
    "function",
    "builtin_function_or_method",
    "instance",
    "_Feature"
   ],
   "window_display": false
  }
 },
 "nbformat": 4,
 "nbformat_minor": 5
}
