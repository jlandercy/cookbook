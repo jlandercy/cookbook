{
 "cells": [
  {
   "cell_type": "code",
   "execution_count": 1,
   "id": "1d49ea3f",
   "metadata": {
    "ExecuteTime": {
     "end_time": "2024-04-14T08:47:40.625897Z",
     "start_time": "2024-04-14T08:47:39.191660Z"
    }
   },
   "outputs": [],
   "source": [
    "import numpy as np\n",
    "from scipy import integrate\n",
    "import matplotlib.pyplot as plt"
   ]
  },
  {
   "cell_type": "code",
   "execution_count": 2,
   "id": "e65e9686",
   "metadata": {
    "ExecuteTime": {
     "end_time": "2024-04-14T08:47:40.646851Z",
     "start_time": "2024-04-14T08:47:40.630074Z"
    }
   },
   "outputs": [],
   "source": [
    "def model(t, y, c=0.03):\n",
    "    sin = np.sin(t)\n",
    "    sin[sin < 0.] = 0.\n",
    "    return (sin - y ** 4) / c"
   ]
  },
  {
   "cell_type": "code",
   "execution_count": 3,
   "id": "409c58cd",
   "metadata": {
    "ExecuteTime": {
     "end_time": "2024-04-14T08:47:40.663094Z",
     "start_time": "2024-04-14T08:47:40.651860Z"
    }
   },
   "outputs": [],
   "source": [
    "def bc(ya, yb):\n",
    "    return np.array([\n",
    "        ya[0] - yb[0],\n",
    "        ya[1] - yb[1],\n",
    "    ])"
   ]
  },
  {
   "cell_type": "code",
   "execution_count": 4,
   "id": "984c9d73",
   "metadata": {
    "ExecuteTime": {
     "end_time": "2024-04-14T08:47:40.679504Z",
     "start_time": "2024-04-14T08:47:40.673563Z"
    }
   },
   "outputs": [],
   "source": [
    "t = np.linspace(0., 2. * np.pi, 200)"
   ]
  },
  {
   "cell_type": "code",
   "execution_count": 5,
   "id": "618d2b9c",
   "metadata": {
    "ExecuteTime": {
     "end_time": "2024-04-14T08:47:40.694527Z",
     "start_time": "2024-04-14T08:47:40.686367Z"
    }
   },
   "outputs": [],
   "source": [
    "y0 = np.ones((2, t.size))"
   ]
  },
  {
   "cell_type": "code",
   "execution_count": 6,
   "id": "4b7737be",
   "metadata": {
    "ExecuteTime": {
     "end_time": "2024-04-14T08:47:40.777750Z",
     "start_time": "2024-04-14T08:47:40.697839Z"
    }
   },
   "outputs": [
    {
     "data": {
      "text/plain": [
       "       message: The algorithm converged to the desired accuracy.\n",
       "       success: True\n",
       "        status: 0\n",
       "             x: [ 0.000e+00  5.262e-03 ...  6.278e+00  6.283e+00]\n",
       "           sol: <scipy.interpolate._interpolate.PPoly object at 0x7fe3a795a250>\n",
       "             p: None\n",
       "             y: [[ 1.456e-01  1.460e-01 ...  1.457e-01  1.456e-01]\n",
       "                 [ 1.456e-01  1.460e-01 ...  1.457e-01  1.456e-01]]\n",
       "            yp: [[-1.500e-02  1.603e-01 ... -1.503e-02 -1.500e-02]\n",
       "                 [-1.500e-02  1.603e-01 ... -1.503e-02 -1.500e-02]]\n",
       " rms_residuals: [ 5.880e-06  5.220e-06 ...  5.975e-06  6.083e-06]\n",
       "         niter: 3"
      ]
     },
     "execution_count": 6,
     "metadata": {},
     "output_type": "execute_result"
    }
   ],
   "source": [
    "sol = integrate.solve_bvp(model, bc, t, y0, max_nodes=5000)\n",
    "sol"
   ]
  },
  {
   "cell_type": "code",
   "execution_count": null,
   "id": "d61f4cb6",
   "metadata": {},
   "outputs": [],
   "source": []
  },
  {
   "cell_type": "code",
   "execution_count": 8,
   "id": "5a8cde02",
   "metadata": {
    "ExecuteTime": {
     "end_time": "2024-04-14T08:47:58.244201Z",
     "start_time": "2024-04-14T08:47:58.053284Z"
    }
   },
   "outputs": [
    {
     "data": {
      "image/png": "[encoded data removed]",
      "text/plain": [
       "<Figure size 640x480 with 1 Axes>"
      ]
     },
     "metadata": {},
     "output_type": "display_data"
    }
   ],
   "source": [
    "fig, axe = plt.subplots()\n",
    "axe.plot(sol.x, sol.y[0])\n",
    "axe.grid()"
   ]
  },
  {
   "cell_type": "code",
   "execution_count": null,
   "id": "1e586f28",
   "metadata": {},
   "outputs": [],
   "source": []
  },
  {
   "cell_type": "code",
   "execution_count": null,
   "id": "1375f61c",
   "metadata": {},
   "outputs": [],
   "source": []
  }
 ],
 "metadata": {
  "hide_input": false,
  "kernelspec": {
   "display_name": "Python 3",
   "language": "python",
   "name": "python3"
  },
  "language_info": {
   "codemirror_mode": {
    "name": "ipython",
    "version": 3
   },
   "file_extension": ".py",
   "mimetype": "text/x-python",
   "name": "python",
   "nbconvert_exporter": "python",
   "pygments_lexer": "ipython3",
   "version": "3.10.6"
  },
  "toc": {
   "base_numbering": 1,
   "nav_menu": {},
   "number_sections": true,
   "sideBar": true,
   "skip_h1_title": false,
   "title_cell": "Table of Contents",
   "title_sidebar": "Contents",
   "toc_cell": false,
   "toc_position": {},
   "toc_section_display": true,
   "toc_window_display": false
  },
  "varInspector": {
   "cols": {
    "lenName": 16,
    "lenType": 16,
    "lenVar": 40
   },
   "kernels_config": {
    "python": {
     "delete_cmd_postfix": "",
     "delete_cmd_prefix": "del ",
     "library": "var_list.py",
     "varRefreshCmd": "print(var_dic_list())"
    },
    "r": {
     "delete_cmd_postfix": ") ",
     "delete_cmd_prefix": "rm(",
     "library": "var_list.r",
     "varRefreshCmd": "cat(var_dic_list()) "
    }
   },
   "types_to_exclude": [
    "module",
    "function",
    "builtin_function_or_method",
    "instance",
    "_Feature"
   ],
   "window_display": false
  }
 },
 "nbformat": 4,
 "nbformat_minor": 5
}
