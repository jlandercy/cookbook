{
 "cells": [
  {
   "cell_type": "markdown",
   "id": "1eed59fe",
   "metadata": {},
   "source": [
    "https://stackoverflow.com/questions/73471161/is-there-a-way-to-flatten-a-df-csv-if-the-time-for-rows-is-the-same?noredirect=1#comment129746967_73471161"
   ]
  },
  {
   "cell_type": "code",
   "execution_count": 1,
   "id": "6f9fb092",
   "metadata": {
    "ExecuteTime": {
     "end_time": "2022-08-24T20:20:41.611697Z",
     "start_time": "2022-08-24T20:20:41.155159Z"
    }
   },
   "outputs": [],
   "source": [
    "import pandas as pd"
   ]
  },
  {
   "cell_type": "code",
   "execution_count": 16,
   "id": "a09a206c",
   "metadata": {
    "ExecuteTime": {
     "end_time": "2022-08-24T20:24:15.516826Z",
     "start_time": "2022-08-24T20:24:15.511499Z"
    }
   },
   "outputs": [],
   "source": [
    "data = [\n",
    "    {\"time\": \"06:50\", \"A\": 1}, {\"time\": \"06:50\", \"B\": 2}, {\"time\": \"06:50\", \"C\": 3},\n",
    "    {\"time\": \"06:51\", \"A\": 4}, {\"time\": \"06:51\", \"B\": 5}, {\"time\": \"06:51\", \"C\": 6},\n",
    "    {\"time\": \"06:52\", \"A\": 7}, {\"time\": \"06:52\", \"B\": 8}, {\"time\": \"06:52\", \"C\": 9},\n",
    "]"
   ]
  },
  {
   "cell_type": "code",
   "execution_count": 22,
   "id": "23b2b141",
   "metadata": {
    "ExecuteTime": {
     "end_time": "2022-08-24T20:26:12.501265Z",
     "start_time": "2022-08-24T20:26:12.492160Z"
    }
   },
   "outputs": [
    {
     "name": "stdout",
     "output_type": "stream",
     "text": [
      "    time    A    B    C\n",
      "0  06:50  1.0  NaN  NaN\n",
      "1  06:50  NaN  2.0  NaN\n",
      "2  06:50  NaN  NaN  3.0\n",
      "3  06:51  4.0  NaN  NaN\n",
      "4  06:51  NaN  5.0  NaN\n",
      "5  06:51  NaN  NaN  6.0\n",
      "6  06:52  7.0  NaN  NaN\n",
      "7  06:52  NaN  8.0  NaN\n",
      "8  06:52  NaN  NaN  9.0\n"
     ]
    }
   ],
   "source": [
    "frame = pd.DataFrame(data)\n",
    "print(frame)"
   ]
  },
  {
   "cell_type": "code",
   "execution_count": 18,
   "id": "30e3727a",
   "metadata": {
    "ExecuteTime": {
     "end_time": "2022-08-24T20:24:15.776074Z",
     "start_time": "2022-08-24T20:24:15.759231Z"
    }
   },
   "outputs": [
    {
     "data": {
      "text/html": [
       "<div>\n",
       "<style scoped>\n",
       "    .dataframe tbody tr th:only-of-type {\n",
       "        vertical-align: middle;\n",
       "    }\n",
       "\n",
       "    .dataframe tbody tr th {\n",
       "        vertical-align: top;\n",
       "    }\n",
       "\n",
       "    .dataframe thead th {\n",
       "        text-align: right;\n",
       "    }\n",
       "</style>\n",
       "<table border=\"1\" class=\"dataframe\">\n",
       "  <thead>\n",
       "    <tr style=\"text-align: right;\">\n",
       "      <th></th>\n",
       "      <th>time</th>\n",
       "      <th>variable</th>\n",
       "      <th>value</th>\n",
       "    </tr>\n",
       "  </thead>\n",
       "  <tbody>\n",
       "    <tr>\n",
       "      <th>0</th>\n",
       "      <td>06:50</td>\n",
       "      <td>A</td>\n",
       "      <td>1.0</td>\n",
       "    </tr>\n",
       "    <tr>\n",
       "      <th>3</th>\n",
       "      <td>06:51</td>\n",
       "      <td>A</td>\n",
       "      <td>4.0</td>\n",
       "    </tr>\n",
       "    <tr>\n",
       "      <th>6</th>\n",
       "      <td>06:52</td>\n",
       "      <td>A</td>\n",
       "      <td>7.0</td>\n",
       "    </tr>\n",
       "    <tr>\n",
       "      <th>10</th>\n",
       "      <td>06:50</td>\n",
       "      <td>B</td>\n",
       "      <td>2.0</td>\n",
       "    </tr>\n",
       "    <tr>\n",
       "      <th>13</th>\n",
       "      <td>06:51</td>\n",
       "      <td>B</td>\n",
       "      <td>5.0</td>\n",
       "    </tr>\n",
       "    <tr>\n",
       "      <th>16</th>\n",
       "      <td>06:52</td>\n",
       "      <td>B</td>\n",
       "      <td>8.0</td>\n",
       "    </tr>\n",
       "    <tr>\n",
       "      <th>20</th>\n",
       "      <td>06:50</td>\n",
       "      <td>C</td>\n",
       "      <td>3.0</td>\n",
       "    </tr>\n",
       "    <tr>\n",
       "      <th>23</th>\n",
       "      <td>06:51</td>\n",
       "      <td>C</td>\n",
       "      <td>6.0</td>\n",
       "    </tr>\n",
       "    <tr>\n",
       "      <th>26</th>\n",
       "      <td>06:52</td>\n",
       "      <td>C</td>\n",
       "      <td>9.0</td>\n",
       "    </tr>\n",
       "  </tbody>\n",
       "</table>\n",
       "</div>"
      ],
      "text/plain": [
       "     time variable  value\n",
       "0   06:50        A    1.0\n",
       "3   06:51        A    4.0\n",
       "6   06:52        A    7.0\n",
       "10  06:50        B    2.0\n",
       "13  06:51        B    5.0\n",
       "16  06:52        B    8.0\n",
       "20  06:50        C    3.0\n",
       "23  06:51        C    6.0\n",
       "26  06:52        C    9.0"
      ]
     },
     "execution_count": 18,
     "metadata": {},
     "output_type": "execute_result"
    }
   ],
   "source": [
    "frame = frame.melt(id_vars=[\"time\"]).dropna()\n",
    "frame"
   ]
  },
  {
   "cell_type": "code",
   "execution_count": 20,
   "id": "63325274",
   "metadata": {
    "ExecuteTime": {
     "end_time": "2022-08-24T20:25:41.179790Z",
     "start_time": "2022-08-24T20:25:41.157632Z"
    }
   },
   "outputs": [],
   "source": [
    "frame = frame.pivot_table(index=\"time\", columns=\"variable\", values=\"value\")"
   ]
  },
  {
   "cell_type": "code",
   "execution_count": 21,
   "id": "e8851bac",
   "metadata": {
    "ExecuteTime": {
     "end_time": "2022-08-24T20:25:46.713468Z",
     "start_time": "2022-08-24T20:25:46.703744Z"
    }
   },
   "outputs": [
    {
     "name": "stdout",
     "output_type": "stream",
     "text": [
      "variable    A    B    C\n",
      "time                   \n",
      "06:50     1.0  2.0  3.0\n",
      "06:51     4.0  5.0  6.0\n",
      "06:52     7.0  8.0  9.0\n"
     ]
    }
   ],
   "source": [
    "print(frame)"
   ]
  },
  {
   "cell_type": "code",
   "execution_count": null,
   "id": "7822f8c6",
   "metadata": {},
   "outputs": [],
   "source": []
  },
  {
   "cell_type": "code",
   "execution_count": null,
   "id": "7954ff45",
   "metadata": {},
   "outputs": [],
   "source": []
  }
 ],
 "metadata": {
  "hide_input": false,
  "kernelspec": {
   "display_name": "Python 3",
   "language": "python",
   "name": "python3"
  },
  "language_info": {
   "codemirror_mode": {
    "name": "ipython",
    "version": 3
   },
   "file_extension": ".py",
   "mimetype": "text/x-python",
   "name": "python",
   "nbconvert_exporter": "python",
   "pygments_lexer": "ipython3",
   "version": "3.6.9"
  },
  "toc": {
   "base_numbering": 1,
   "nav_menu": {},
   "number_sections": true,
   "sideBar": true,
   "skip_h1_title": false,
   "title_cell": "Table of Contents",
   "title_sidebar": "Contents",
   "toc_cell": false,
   "toc_position": {},
   "toc_section_display": true,
   "toc_window_display": false
  },
  "varInspector": {
   "cols": {
    "lenName": 16,
    "lenType": 16,
    "lenVar": 40
   },
   "kernels_config": {
    "python": {
     "delete_cmd_postfix": "",
     "delete_cmd_prefix": "del ",
     "library": "var_list.py",
     "varRefreshCmd": "print(var_dic_list())"
    },
    "r": {
     "delete_cmd_postfix": ") ",
     "delete_cmd_prefix": "rm(",
     "library": "var_list.r",
     "varRefreshCmd": "cat(var_dic_list()) "
    }
   },
   "types_to_exclude": [
    "module",
    "function",
    "builtin_function_or_method",
    "instance",
    "_Feature"
   ],
   "window_display": false
  }
 },
 "nbformat": 4,
 "nbformat_minor": 5
}
