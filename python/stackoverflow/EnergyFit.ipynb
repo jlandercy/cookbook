{
 "cells": [
  {
   "cell_type": "markdown",
   "id": "88ca7a25",
   "metadata": {},
   "source": [
    "https://stackoverflow.com/questions/78036400/how-to-use-curve-fit-in-this-scenario"
   ]
  },
  {
   "cell_type": "code",
   "execution_count": 1,
   "id": "3cf626de",
   "metadata": {
    "ExecuteTime": {
     "end_time": "2024-02-21T19:20:44.689415Z",
     "start_time": "2024-02-21T19:20:43.395884Z"
    }
   },
   "outputs": [],
   "source": [
    "import numpy as np\n",
    "import matplotlib.pyplot as plt\n",
    "from scipy import optimize"
   ]
  },
  {
   "cell_type": "code",
   "execution_count": null,
   "id": "a03d2089",
   "metadata": {},
   "outputs": [],
   "source": []
  },
  {
   "cell_type": "code",
   "execution_count": 2,
   "id": "59b255f4",
   "metadata": {
    "ExecuteTime": {
     "end_time": "2024-02-21T19:20:50.558653Z",
     "start_time": "2024-02-21T19:20:50.550552Z"
    }
   },
   "outputs": [],
   "source": [
    "T = np.array([ 93, 100, 110, 130, 140, 159, 179, 195, 210, 224, 241, 255, 265,283, 293])\n",
    "I0 = np.array([3.89071815e-05, 3.86379100e-05, 3.19573788e-05, 2.75543444e-05,3.00226067e-05, 3.59134864e-05, 3.92161213e-05, 4.37321918e-05,4.59245870e-05, 4.95912369e-05, 5.24583115e-05, 5.47069424e-05,5.73620696e-05, 5.80254459e-05, 7.23664434e-05])"
   ]
  },
  {
   "cell_type": "code",
   "execution_count": null,
   "id": "0de1c625",
   "metadata": {},
   "outputs": [],
   "source": []
  },
  {
   "cell_type": "code",
   "execution_count": 49,
   "id": "09234bf4",
   "metadata": {
    "ExecuteTime": {
     "end_time": "2024-02-21T19:32:13.435153Z",
     "start_time": "2024-02-21T19:32:13.430947Z"
    }
   },
   "outputs": [],
   "source": [
    "def model(T, c, Eg):\n",
    "    kB = 8.6173e-5  # [eV]\n",
    "    #kB = 1.380649e-23\n",
    "    return c * np.power(T, 3) * np.exp(- Eg / (kB * T))"
   ]
  },
  {
   "cell_type": "code",
   "execution_count": 54,
   "id": "cb3d4304",
   "metadata": {
    "ExecuteTime": {
     "end_time": "2024-02-21T19:32:45.559795Z",
     "start_time": "2024-02-21T19:32:45.522320Z"
    }
   },
   "outputs": [
    {
     "name": "stderr",
     "output_type": "stream",
     "text": [
      "/tmp/ipykernel_9405/4026404944.py:4: RuntimeWarning: overflow encountered in exp\n",
      "  return c * np.power(T, 3) * np.exp(- Eg / (kB * T))\n"
     ]
    },
    {
     "data": {
      "text/plain": [
       "(array([ 7.21132045e-13, -3.37721651e-02]),\n",
       " array([[1.17303214e-27, 2.34124320e-17],\n",
       "        [2.34124320e-17, 5.51245066e-07]]))"
      ]
     },
     "execution_count": 54,
     "metadata": {},
     "output_type": "execute_result"
    }
   ],
   "source": [
    "popt, pcov = optimize.curve_fit(model, T, I0)\n",
    "popt, pcov"
   ]
  },
  {
   "cell_type": "code",
   "execution_count": 55,
   "id": "295bf42c",
   "metadata": {
    "ExecuteTime": {
     "end_time": "2024-02-21T19:32:46.825686Z",
     "start_time": "2024-02-21T19:32:46.821020Z"
    }
   },
   "outputs": [],
   "source": [
    "Tlin = np.linspace(T.min(), T.max(), 100)"
   ]
  },
  {
   "cell_type": "code",
   "execution_count": 56,
   "id": "aea31fde",
   "metadata": {
    "ExecuteTime": {
     "end_time": "2024-02-21T19:32:47.363466Z",
     "start_time": "2024-02-21T19:32:47.114254Z"
    }
   },
   "outputs": [
    {
     "data": {
      "text/plain": [
       "[<matplotlib.lines.Line2D at 0x7fad8aab6f20>]"
      ]
     },
     "execution_count": 56,
     "metadata": {},
     "output_type": "execute_result"
    },
    {
     "data": {
      "image/png": "[encoded data removed]",
      "text/plain": [
       "<Figure size 640x480 with 1 Axes>"
      ]
     },
     "metadata": {},
     "output_type": "display_data"
    }
   ],
   "source": [
    "fig, axe = plt.subplots()\n",
    "axe.scatter(T, I0)\n",
    "axe.plot(Tlin, model(Tlin, *popt))"
   ]
  },
  {
   "cell_type": "code",
   "execution_count": null,
   "id": "a970b4e6",
   "metadata": {},
   "outputs": [],
   "source": []
  },
  {
   "cell_type": "code",
   "execution_count": null,
   "id": "3e781daf",
   "metadata": {},
   "outputs": [],
   "source": []
  }
 ],
 "metadata": {
  "hide_input": false,
  "kernelspec": {
   "display_name": "Python 3",
   "language": "python",
   "name": "python3"
  },
  "language_info": {
   "codemirror_mode": {
    "name": "ipython",
    "version": 3
   },
   "file_extension": ".py",
   "mimetype": "text/x-python",
   "name": "python",
   "nbconvert_exporter": "python",
   "pygments_lexer": "ipython3",
   "version": "3.10.6"
  },
  "toc": {
   "base_numbering": 1,
   "nav_menu": {},
   "number_sections": true,
   "sideBar": true,
   "skip_h1_title": false,
   "title_cell": "Table of Contents",
   "title_sidebar": "Contents",
   "toc_cell": false,
   "toc_position": {},
   "toc_section_display": true,
   "toc_window_display": false
  },
  "varInspector": {
   "cols": {
    "lenName": 16,
    "lenType": 16,
    "lenVar": 40
   },
   "kernels_config": {
    "python": {
     "delete_cmd_postfix": "",
     "delete_cmd_prefix": "del ",
     "library": "var_list.py",
     "varRefreshCmd": "print(var_dic_list())"
    },
    "r": {
     "delete_cmd_postfix": ") ",
     "delete_cmd_prefix": "rm(",
     "library": "var_list.r",
     "varRefreshCmd": "cat(var_dic_list()) "
    }
   },
   "types_to_exclude": [
    "module",
    "function",
    "builtin_function_or_method",
    "instance",
    "_Feature"
   ],
   "window_display": false
  }
 },
 "nbformat": 4,
 "nbformat_minor": 5
}
