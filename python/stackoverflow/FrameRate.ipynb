{
 "cells": [
  {
   "cell_type": "markdown",
   "id": "3b4d4b41",
   "metadata": {},
   "source": [
    "https://stackoverflow.com/questions/73834673/calculation-of-rolling-speed-in-a-pandasdataframe"
   ]
  },
  {
   "cell_type": "code",
   "execution_count": 1,
   "id": "f8a3c105",
   "metadata": {
    "ExecuteTime": {
     "end_time": "2022-09-24T08:21:26.072626Z",
     "start_time": "2022-09-24T08:21:24.885822Z"
    }
   },
   "outputs": [],
   "source": [
    "import numpy as np\n",
    "import pandas as pd\n",
    "import matplotlib.pyplot as plt\n",
    "\n",
    "data1 = {\n",
    "    'ArucoID' : [910, 910, 910, 910, 910, 898, 898, 898, 898, 898, 912, 912, 912, 912, 912],\n",
    "    'Subtrial' : ['01', '01', '01', '01', '01', '01', '01', '01', '01', '01', '01', '01', '01', '01', '01'],\n",
    "    'frameID' : [1, 2, 3, 4, 5, 1, 2, 3, 4, 5, 1, 2, 3, 4, 5],\n",
    "    'xPos' : [10.0, 10.5, 11.0, 12.0, 13, 4.0, 5.0, 6.0, 7.0, 9.0, 1.5, 2.0, 2.5, 3.0, 4.0 ],\n",
    "    'yPos' : [-0.2, -0.1, -0.1, 0.0, 0.0, 0.2, 0.2, -0.1, 0.0, 0.05, -0.2, -0.1, 0.0, 0.1, 0.05],\n",
    "}\n",
    "\n",
    "data2 = {\n",
    "    'ArucoID' : [910, 910, 910, 910, 910, 898, 898, 898, 898, 898, 912, 912, 912, 912, 912],\n",
    "    'Subtrial' : ['02', '02', '02', '02', '02', '02', '02', '02', '02', '02', '02', '02', '02', '02', '02'],\n",
    "    'frameID' : [1, 2, 3, 4, 5, 1, 2, 3, 4, 5, 1, 2, 3, 4, 5],\n",
    "    'xPos' : [9.4, 9.5, 9.0, 9.0, 10, 3.0, 4.0, 5.0, 6.0, 7.0, 2.5, 3.0, 3.5, 3.5, 5.0 ],\n",
    "    'yPos' : [-0.2, -0.1, -0.1, 0.0, 0.0, 0.2, 0.2, -0.1, 0.0, 0.05, -0.2, -0.1, 0.0, 0.1, 0.05],\n",
    "}\n",
    "\n",
    "df = pd.concat([\n",
    "    pd.DataFrame(data1),\n",
    "    pd.DataFrame(data2) \n",
    "])"
   ]
  },
  {
   "cell_type": "code",
   "execution_count": 2,
   "id": "4c2d1f0d",
   "metadata": {
    "ExecuteTime": {
     "end_time": "2022-09-24T08:21:26.088253Z",
     "start_time": "2022-09-24T08:21:26.076765Z"
    }
   },
   "outputs": [],
   "source": [
    "df = df.sort_values([\"ArucoID\", \"Subtrial\", \"frameID\"])"
   ]
  },
  {
   "cell_type": "code",
   "execution_count": null,
   "id": "92b57f6e",
   "metadata": {
    "ExecuteTime": {
     "end_time": "2022-09-24T07:41:44.187391Z",
     "start_time": "2022-09-24T07:41:44.177101Z"
    }
   },
   "outputs": [],
   "source": []
  },
  {
   "cell_type": "code",
   "execution_count": 3,
   "id": "924a2e08",
   "metadata": {
    "ExecuteTime": {
     "end_time": "2022-09-24T08:21:26.101006Z",
     "start_time": "2022-09-24T08:21:26.091168Z"
    }
   },
   "outputs": [],
   "source": [
    "shifted = df.groupby([\"ArucoID\", \"Subtrial\"]).shift(-1)\n",
    "shifted = shifted.drop(\"frameID\", axis=1).rename(columns=lambda x: x + \"_\")\n"
   ]
  },
  {
   "cell_type": "code",
   "execution_count": 4,
   "id": "03c54087",
   "metadata": {
    "ExecuteTime": {
     "end_time": "2022-09-24T08:21:26.120513Z",
     "start_time": "2022-09-24T08:21:26.103601Z"
    }
   },
   "outputs": [
    {
     "name": "stdout",
     "output_type": "stream",
     "text": [
      "    ArucoID Subtrial  frameID  xPos  yPos  xPos_  yPos_\n",
      "5       898       01        1   4.0  0.20    5.0   0.20\n",
      "6       898       01        2   5.0  0.20    6.0  -0.10\n",
      "7       898       01        3   6.0 -0.10    7.0   0.00\n",
      "8       898       01        4   7.0  0.00    9.0   0.05\n",
      "9       898       01        5   9.0  0.05    NaN    NaN\n",
      "5       898       02        1   3.0  0.20    4.0   0.20\n",
      "6       898       02        2   4.0  0.20    5.0  -0.10\n",
      "7       898       02        3   5.0 -0.10    6.0   0.00\n",
      "8       898       02        4   6.0  0.00    7.0   0.05\n",
      "9       898       02        5   7.0  0.05    NaN    NaN\n",
      "0       910       01        1  10.0 -0.20   10.5  -0.10\n",
      "1       910       01        2  10.5 -0.10   11.0  -0.10\n",
      "2       910       01        3  11.0 -0.10   12.0   0.00\n",
      "3       910       01        4  12.0  0.00   13.0   0.00\n",
      "4       910       01        5  13.0  0.00    NaN    NaN\n",
      "0       910       02        1   9.4 -0.20    9.5  -0.10\n",
      "1       910       02        2   9.5 -0.10    9.0  -0.10\n",
      "2       910       02        3   9.0 -0.10    9.0   0.00\n",
      "3       910       02        4   9.0  0.00   10.0   0.00\n",
      "4       910       02        5  10.0  0.00    NaN    NaN\n",
      "10      912       01        1   1.5 -0.20    2.0  -0.10\n",
      "11      912       01        2   2.0 -0.10    2.5   0.00\n",
      "12      912       01        3   2.5  0.00    3.0   0.10\n",
      "13      912       01        4   3.0  0.10    4.0   0.05\n",
      "14      912       01        5   4.0  0.05    NaN    NaN\n",
      "10      912       02        1   2.5 -0.20    3.0  -0.10\n",
      "11      912       02        2   3.0 -0.10    3.5   0.00\n",
      "12      912       02        3   3.5  0.00    3.5   0.10\n",
      "13      912       02        4   3.5  0.10    5.0   0.05\n",
      "14      912       02        5   5.0  0.05    NaN    NaN\n"
     ]
    }
   ],
   "source": [
    "data = pd.concat([df, shifted], axis=1)\n",
    "print(data)"
   ]
  },
  {
   "cell_type": "code",
   "execution_count": 5,
   "id": "3f1cbf23",
   "metadata": {
    "ExecuteTime": {
     "end_time": "2022-09-24T08:21:26.127548Z",
     "start_time": "2022-09-24T08:21:26.122850Z"
    }
   },
   "outputs": [],
   "source": [
    "def distance(x):\n",
    "    return np.sqrt(np.power(x[\"xPos\"] - x[\"xPos_\"], 2) + np.power(x[\"yPos\"] - x[\"yPos_\"], 2))"
   ]
  },
  {
   "cell_type": "code",
   "execution_count": 6,
   "id": "19d417c7",
   "metadata": {
    "ExecuteTime": {
     "end_time": "2022-09-24T08:21:26.142008Z",
     "start_time": "2022-09-24T08:21:26.130231Z"
    }
   },
   "outputs": [],
   "source": [
    "data[\"dist\"] = data.apply(distance, axis=1)"
   ]
  },
  {
   "cell_type": "code",
   "execution_count": 7,
   "id": "b0df7f40",
   "metadata": {
    "ExecuteTime": {
     "end_time": "2022-09-24T08:21:26.161666Z",
     "start_time": "2022-09-24T08:21:26.144348Z"
    }
   },
   "outputs": [],
   "source": [
    "data[\"point_speed\"] = data[\"dist\"]/(1/30)\n",
    "data[\"mov_speed\"] = data.groupby([\"ArucoID\", \"Subtrial\"]).rolling(3, min_periods=1).mean()[\"point_speed\"].values"
   ]
  },
  {
   "cell_type": "code",
   "execution_count": 8,
   "id": "4969259b",
   "metadata": {
    "ExecuteTime": {
     "end_time": "2022-09-24T08:21:26.185281Z",
     "start_time": "2022-09-24T08:21:26.169392Z"
    }
   },
   "outputs": [
    {
     "name": "stdout",
     "output_type": "stream",
     "text": [
      "    ArucoID Subtrial  frameID  xPos  yPos  xPos_  yPos_      dist  \\\n",
      "5       898       01        1   4.0  0.20    5.0   0.20  1.000000   \n",
      "6       898       01        2   5.0  0.20    6.0  -0.10  1.044031   \n",
      "7       898       01        3   6.0 -0.10    7.0   0.00  1.004988   \n",
      "8       898       01        4   7.0  0.00    9.0   0.05  2.000625   \n",
      "9       898       01        5   9.0  0.05    NaN    NaN       NaN   \n",
      "5       898       02        1   3.0  0.20    4.0   0.20  1.000000   \n",
      "6       898       02        2   4.0  0.20    5.0  -0.10  1.044031   \n",
      "7       898       02        3   5.0 -0.10    6.0   0.00  1.004988   \n",
      "8       898       02        4   6.0  0.00    7.0   0.05  1.001249   \n",
      "9       898       02        5   7.0  0.05    NaN    NaN       NaN   \n",
      "0       910       01        1  10.0 -0.20   10.5  -0.10  0.509902   \n",
      "1       910       01        2  10.5 -0.10   11.0  -0.10  0.500000   \n",
      "2       910       01        3  11.0 -0.10   12.0   0.00  1.004988   \n",
      "3       910       01        4  12.0  0.00   13.0   0.00  1.000000   \n",
      "4       910       01        5  13.0  0.00    NaN    NaN       NaN   \n",
      "0       910       02        1   9.4 -0.20    9.5  -0.10  0.141421   \n",
      "1       910       02        2   9.5 -0.10    9.0  -0.10  0.500000   \n",
      "2       910       02        3   9.0 -0.10    9.0   0.00  0.100000   \n",
      "3       910       02        4   9.0  0.00   10.0   0.00  1.000000   \n",
      "4       910       02        5  10.0  0.00    NaN    NaN       NaN   \n",
      "10      912       01        1   1.5 -0.20    2.0  -0.10  0.509902   \n",
      "11      912       01        2   2.0 -0.10    2.5   0.00  0.509902   \n",
      "12      912       01        3   2.5  0.00    3.0   0.10  0.509902   \n",
      "13      912       01        4   3.0  0.10    4.0   0.05  1.001249   \n",
      "14      912       01        5   4.0  0.05    NaN    NaN       NaN   \n",
      "10      912       02        1   2.5 -0.20    3.0  -0.10  0.509902   \n",
      "11      912       02        2   3.0 -0.10    3.5   0.00  0.509902   \n",
      "12      912       02        3   3.5  0.00    3.5   0.10  0.100000   \n",
      "13      912       02        4   3.5  0.10    5.0   0.05  1.500833   \n",
      "14      912       02        5   5.0  0.05    NaN    NaN       NaN   \n",
      "\n",
      "    point_speed  mov_speed  \n",
      "5     30.000000  30.000000  \n",
      "6     31.320920  30.660460  \n",
      "7     30.149627  30.490182  \n",
      "8     60.018747  40.496431  \n",
      "9           NaN  45.084187  \n",
      "5     30.000000  30.000000  \n",
      "6     31.320920  30.660460  \n",
      "7     30.149627  30.490182  \n",
      "8     30.037477  30.502674  \n",
      "9           NaN  30.093552  \n",
      "0     15.297059  15.297059  \n",
      "1     15.000000  15.148529  \n",
      "2     30.149627  20.148895  \n",
      "3     30.000000  25.049876  \n",
      "4           NaN  30.074813  \n",
      "0      4.242641   4.242641  \n",
      "1     15.000000   9.621320  \n",
      "2      3.000000   7.414214  \n",
      "3     30.000000  16.000000  \n",
      "4           NaN  16.500000  \n",
      "10    15.297059  15.297059  \n",
      "11    15.297059  15.297059  \n",
      "12    15.297059  15.297059  \n",
      "13    30.037477  20.210531  \n",
      "14          NaN  22.667268  \n",
      "10    15.297059  15.297059  \n",
      "11    15.297059  15.297059  \n",
      "12     3.000000  11.198039  \n",
      "13    45.024993  21.107351  \n",
      "14          NaN  24.012497  \n"
     ]
    }
   ],
   "source": [
    "print(data)"
   ]
  },
  {
   "cell_type": "code",
   "execution_count": 9,
   "id": "7195b3e4",
   "metadata": {
    "ExecuteTime": {
     "end_time": "2022-09-24T08:21:26.197855Z",
     "start_time": "2022-09-24T08:21:26.188224Z"
    }
   },
   "outputs": [],
   "source": [
    "final = data.groupby([\"ArucoID\", \"Subtrial\"]).agg({\"dist\": \"sum\", \"frameID\": \"count\"}).rename(columns={\"frameID\": \"count\"})"
   ]
  },
  {
   "cell_type": "code",
   "execution_count": 10,
   "id": "e5296d8f",
   "metadata": {
    "ExecuteTime": {
     "end_time": "2022-09-24T08:21:26.206786Z",
     "start_time": "2022-09-24T08:21:26.200129Z"
    }
   },
   "outputs": [
    {
     "name": "stdout",
     "output_type": "stream",
     "text": [
      "                      dist  count\n",
      "ArucoID Subtrial                 \n",
      "898     01        5.049643      5\n",
      "        02        4.050267      5\n",
      "910     01        3.014890      5\n",
      "        02        1.741421      5\n",
      "912     01        2.530955      5\n",
      "        02        2.620637      5\n"
     ]
    }
   ],
   "source": [
    "print(final)"
   ]
  },
  {
   "cell_type": "code",
   "execution_count": 11,
   "id": "73467e17",
   "metadata": {
    "ExecuteTime": {
     "end_time": "2022-09-24T08:21:26.213406Z",
     "start_time": "2022-09-24T08:21:26.209189Z"
    }
   },
   "outputs": [],
   "source": [
    "def speed(x, frame_time=1.):\n",
    "    return x[\"dist\"]/((x[\"count\"] - 1)*frame_time)"
   ]
  },
  {
   "cell_type": "code",
   "execution_count": 12,
   "id": "abb8317a",
   "metadata": {
    "ExecuteTime": {
     "end_time": "2022-09-24T08:21:26.225135Z",
     "start_time": "2022-09-24T08:21:26.215897Z"
    }
   },
   "outputs": [
    {
     "name": "stdout",
     "output_type": "stream",
     "text": [
      "                      dist  count  avg_speed\n",
      "ArucoID Subtrial                            \n",
      "898     01        5.049643      5  37.872323\n",
      "        02        4.050267      5  30.377006\n",
      "910     01        3.014890      5  22.611671\n",
      "        02        1.741421      5  13.060660\n",
      "912     01        2.530955      5  18.982163\n",
      "        02        2.620637      5  19.654778\n"
     ]
    }
   ],
   "source": [
    "final[\"avg_speed\"] = final.apply(speed, axis=1, frame_time=1/30)\n",
    "print(final)"
   ]
  },
  {
   "cell_type": "code",
   "execution_count": 13,
   "id": "15cecbda",
   "metadata": {
    "ExecuteTime": {
     "end_time": "2022-09-24T08:21:26.268695Z",
     "start_time": "2022-09-24T08:21:26.227289Z"
    }
   },
   "outputs": [
    {
     "data": {
      "text/html": [
       "<div>\n",
       "<style scoped>\n",
       "    .dataframe tbody tr th:only-of-type {\n",
       "        vertical-align: middle;\n",
       "    }\n",
       "\n",
       "    .dataframe tbody tr th {\n",
       "        vertical-align: top;\n",
       "    }\n",
       "\n",
       "    .dataframe thead th {\n",
       "        text-align: right;\n",
       "    }\n",
       "</style>\n",
       "<table border=\"1\" class=\"dataframe\">\n",
       "  <thead>\n",
       "    <tr style=\"text-align: right;\">\n",
       "      <th></th>\n",
       "      <th>ArucoID</th>\n",
       "      <th>Subtrial</th>\n",
       "      <th>frameID</th>\n",
       "      <th>xPos</th>\n",
       "      <th>yPos</th>\n",
       "      <th>xPos_</th>\n",
       "      <th>yPos_</th>\n",
       "      <th>dist</th>\n",
       "      <th>point_speed</th>\n",
       "      <th>mov_speed</th>\n",
       "      <th>avg_speed</th>\n",
       "      <th>speed_ratio</th>\n",
       "      <th>speed_excess</th>\n",
       "    </tr>\n",
       "  </thead>\n",
       "  <tbody>\n",
       "    <tr>\n",
       "      <th>5</th>\n",
       "      <td>898</td>\n",
       "      <td>01</td>\n",
       "      <td>1</td>\n",
       "      <td>4.0</td>\n",
       "      <td>0.20</td>\n",
       "      <td>5.0</td>\n",
       "      <td>0.20</td>\n",
       "      <td>1.000000</td>\n",
       "      <td>30.000000</td>\n",
       "      <td>30.000000</td>\n",
       "      <td>37.872323</td>\n",
       "      <td>0.792135</td>\n",
       "      <td>0.207865</td>\n",
       "    </tr>\n",
       "    <tr>\n",
       "      <th>6</th>\n",
       "      <td>898</td>\n",
       "      <td>01</td>\n",
       "      <td>2</td>\n",
       "      <td>5.0</td>\n",
       "      <td>0.20</td>\n",
       "      <td>6.0</td>\n",
       "      <td>-0.10</td>\n",
       "      <td>1.044031</td>\n",
       "      <td>31.320920</td>\n",
       "      <td>30.660460</td>\n",
       "      <td>37.872323</td>\n",
       "      <td>0.809574</td>\n",
       "      <td>0.190426</td>\n",
       "    </tr>\n",
       "    <tr>\n",
       "      <th>7</th>\n",
       "      <td>898</td>\n",
       "      <td>01</td>\n",
       "      <td>3</td>\n",
       "      <td>6.0</td>\n",
       "      <td>-0.10</td>\n",
       "      <td>7.0</td>\n",
       "      <td>0.00</td>\n",
       "      <td>1.004988</td>\n",
       "      <td>30.149627</td>\n",
       "      <td>30.490182</td>\n",
       "      <td>37.872323</td>\n",
       "      <td>0.805078</td>\n",
       "      <td>0.194922</td>\n",
       "    </tr>\n",
       "    <tr>\n",
       "      <th>8</th>\n",
       "      <td>898</td>\n",
       "      <td>01</td>\n",
       "      <td>4</td>\n",
       "      <td>7.0</td>\n",
       "      <td>0.00</td>\n",
       "      <td>9.0</td>\n",
       "      <td>0.05</td>\n",
       "      <td>2.000625</td>\n",
       "      <td>60.018747</td>\n",
       "      <td>40.496431</td>\n",
       "      <td>37.872323</td>\n",
       "      <td>1.069288</td>\n",
       "      <td>-0.069288</td>\n",
       "    </tr>\n",
       "    <tr>\n",
       "      <th>9</th>\n",
       "      <td>898</td>\n",
       "      <td>01</td>\n",
       "      <td>5</td>\n",
       "      <td>9.0</td>\n",
       "      <td>0.05</td>\n",
       "      <td>NaN</td>\n",
       "      <td>NaN</td>\n",
       "      <td>NaN</td>\n",
       "      <td>NaN</td>\n",
       "      <td>45.084187</td>\n",
       "      <td>37.872323</td>\n",
       "      <td>1.190426</td>\n",
       "      <td>-0.190426</td>\n",
       "    </tr>\n",
       "    <tr>\n",
       "      <th>5</th>\n",
       "      <td>898</td>\n",
       "      <td>02</td>\n",
       "      <td>1</td>\n",
       "      <td>3.0</td>\n",
       "      <td>0.20</td>\n",
       "      <td>4.0</td>\n",
       "      <td>0.20</td>\n",
       "      <td>1.000000</td>\n",
       "      <td>30.000000</td>\n",
       "      <td>30.000000</td>\n",
       "      <td>30.377006</td>\n",
       "      <td>0.987589</td>\n",
       "      <td>0.012411</td>\n",
       "    </tr>\n",
       "    <tr>\n",
       "      <th>6</th>\n",
       "      <td>898</td>\n",
       "      <td>02</td>\n",
       "      <td>2</td>\n",
       "      <td>4.0</td>\n",
       "      <td>0.20</td>\n",
       "      <td>5.0</td>\n",
       "      <td>-0.10</td>\n",
       "      <td>1.044031</td>\n",
       "      <td>31.320920</td>\n",
       "      <td>30.660460</td>\n",
       "      <td>30.377006</td>\n",
       "      <td>1.009331</td>\n",
       "      <td>-0.009331</td>\n",
       "    </tr>\n",
       "    <tr>\n",
       "      <th>7</th>\n",
       "      <td>898</td>\n",
       "      <td>02</td>\n",
       "      <td>3</td>\n",
       "      <td>5.0</td>\n",
       "      <td>-0.10</td>\n",
       "      <td>6.0</td>\n",
       "      <td>0.00</td>\n",
       "      <td>1.004988</td>\n",
       "      <td>30.149627</td>\n",
       "      <td>30.490182</td>\n",
       "      <td>30.377006</td>\n",
       "      <td>1.003726</td>\n",
       "      <td>-0.003726</td>\n",
       "    </tr>\n",
       "    <tr>\n",
       "      <th>8</th>\n",
       "      <td>898</td>\n",
       "      <td>02</td>\n",
       "      <td>4</td>\n",
       "      <td>6.0</td>\n",
       "      <td>0.00</td>\n",
       "      <td>7.0</td>\n",
       "      <td>0.05</td>\n",
       "      <td>1.001249</td>\n",
       "      <td>30.037477</td>\n",
       "      <td>30.502674</td>\n",
       "      <td>30.377006</td>\n",
       "      <td>1.004137</td>\n",
       "      <td>-0.004137</td>\n",
       "    </tr>\n",
       "    <tr>\n",
       "      <th>9</th>\n",
       "      <td>898</td>\n",
       "      <td>02</td>\n",
       "      <td>5</td>\n",
       "      <td>7.0</td>\n",
       "      <td>0.05</td>\n",
       "      <td>NaN</td>\n",
       "      <td>NaN</td>\n",
       "      <td>NaN</td>\n",
       "      <td>NaN</td>\n",
       "      <td>30.093552</td>\n",
       "      <td>30.377006</td>\n",
       "      <td>0.990669</td>\n",
       "      <td>0.009331</td>\n",
       "    </tr>\n",
       "    <tr>\n",
       "      <th>0</th>\n",
       "      <td>910</td>\n",
       "      <td>01</td>\n",
       "      <td>1</td>\n",
       "      <td>10.0</td>\n",
       "      <td>-0.20</td>\n",
       "      <td>10.5</td>\n",
       "      <td>-0.10</td>\n",
       "      <td>0.509902</td>\n",
       "      <td>15.297059</td>\n",
       "      <td>15.297059</td>\n",
       "      <td>22.611671</td>\n",
       "      <td>0.676512</td>\n",
       "      <td>0.323488</td>\n",
       "    </tr>\n",
       "    <tr>\n",
       "      <th>1</th>\n",
       "      <td>910</td>\n",
       "      <td>01</td>\n",
       "      <td>2</td>\n",
       "      <td>10.5</td>\n",
       "      <td>-0.10</td>\n",
       "      <td>11.0</td>\n",
       "      <td>-0.10</td>\n",
       "      <td>0.500000</td>\n",
       "      <td>15.000000</td>\n",
       "      <td>15.148529</td>\n",
       "      <td>22.611671</td>\n",
       "      <td>0.669943</td>\n",
       "      <td>0.330057</td>\n",
       "    </tr>\n",
       "    <tr>\n",
       "      <th>2</th>\n",
       "      <td>910</td>\n",
       "      <td>01</td>\n",
       "      <td>3</td>\n",
       "      <td>11.0</td>\n",
       "      <td>-0.10</td>\n",
       "      <td>12.0</td>\n",
       "      <td>0.00</td>\n",
       "      <td>1.004988</td>\n",
       "      <td>30.149627</td>\n",
       "      <td>20.148895</td>\n",
       "      <td>22.611671</td>\n",
       "      <td>0.891084</td>\n",
       "      <td>0.108916</td>\n",
       "    </tr>\n",
       "    <tr>\n",
       "      <th>3</th>\n",
       "      <td>910</td>\n",
       "      <td>01</td>\n",
       "      <td>4</td>\n",
       "      <td>12.0</td>\n",
       "      <td>0.00</td>\n",
       "      <td>13.0</td>\n",
       "      <td>0.00</td>\n",
       "      <td>1.000000</td>\n",
       "      <td>30.000000</td>\n",
       "      <td>25.049876</td>\n",
       "      <td>22.611671</td>\n",
       "      <td>1.107829</td>\n",
       "      <td>-0.107829</td>\n",
       "    </tr>\n",
       "    <tr>\n",
       "      <th>4</th>\n",
       "      <td>910</td>\n",
       "      <td>01</td>\n",
       "      <td>5</td>\n",
       "      <td>13.0</td>\n",
       "      <td>0.00</td>\n",
       "      <td>NaN</td>\n",
       "      <td>NaN</td>\n",
       "      <td>NaN</td>\n",
       "      <td>NaN</td>\n",
       "      <td>30.074813</td>\n",
       "      <td>22.611671</td>\n",
       "      <td>1.330057</td>\n",
       "      <td>-0.330057</td>\n",
       "    </tr>\n",
       "    <tr>\n",
       "      <th>0</th>\n",
       "      <td>910</td>\n",
       "      <td>02</td>\n",
       "      <td>1</td>\n",
       "      <td>9.4</td>\n",
       "      <td>-0.20</td>\n",
       "      <td>9.5</td>\n",
       "      <td>-0.10</td>\n",
       "      <td>0.141421</td>\n",
       "      <td>4.242641</td>\n",
       "      <td>4.242641</td>\n",
       "      <td>13.060660</td>\n",
       "      <td>0.324841</td>\n",
       "      <td>0.675159</td>\n",
       "    </tr>\n",
       "    <tr>\n",
       "      <th>1</th>\n",
       "      <td>910</td>\n",
       "      <td>02</td>\n",
       "      <td>2</td>\n",
       "      <td>9.5</td>\n",
       "      <td>-0.10</td>\n",
       "      <td>9.0</td>\n",
       "      <td>-0.10</td>\n",
       "      <td>0.500000</td>\n",
       "      <td>15.000000</td>\n",
       "      <td>9.621320</td>\n",
       "      <td>13.060660</td>\n",
       "      <td>0.736664</td>\n",
       "      <td>0.263336</td>\n",
       "    </tr>\n",
       "    <tr>\n",
       "      <th>2</th>\n",
       "      <td>910</td>\n",
       "      <td>02</td>\n",
       "      <td>3</td>\n",
       "      <td>9.0</td>\n",
       "      <td>-0.10</td>\n",
       "      <td>9.0</td>\n",
       "      <td>0.00</td>\n",
       "      <td>0.100000</td>\n",
       "      <td>3.000000</td>\n",
       "      <td>7.414214</td>\n",
       "      <td>13.060660</td>\n",
       "      <td>0.567675</td>\n",
       "      <td>0.432325</td>\n",
       "    </tr>\n",
       "    <tr>\n",
       "      <th>3</th>\n",
       "      <td>910</td>\n",
       "      <td>02</td>\n",
       "      <td>4</td>\n",
       "      <td>9.0</td>\n",
       "      <td>0.00</td>\n",
       "      <td>10.0</td>\n",
       "      <td>0.00</td>\n",
       "      <td>1.000000</td>\n",
       "      <td>30.000000</td>\n",
       "      <td>16.000000</td>\n",
       "      <td>13.060660</td>\n",
       "      <td>1.225053</td>\n",
       "      <td>-0.225053</td>\n",
       "    </tr>\n",
       "    <tr>\n",
       "      <th>4</th>\n",
       "      <td>910</td>\n",
       "      <td>02</td>\n",
       "      <td>5</td>\n",
       "      <td>10.0</td>\n",
       "      <td>0.00</td>\n",
       "      <td>NaN</td>\n",
       "      <td>NaN</td>\n",
       "      <td>NaN</td>\n",
       "      <td>NaN</td>\n",
       "      <td>16.500000</td>\n",
       "      <td>13.060660</td>\n",
       "      <td>1.263336</td>\n",
       "      <td>-0.263336</td>\n",
       "    </tr>\n",
       "    <tr>\n",
       "      <th>10</th>\n",
       "      <td>912</td>\n",
       "      <td>01</td>\n",
       "      <td>1</td>\n",
       "      <td>1.5</td>\n",
       "      <td>-0.20</td>\n",
       "      <td>2.0</td>\n",
       "      <td>-0.10</td>\n",
       "      <td>0.509902</td>\n",
       "      <td>15.297059</td>\n",
       "      <td>15.297059</td>\n",
       "      <td>18.982163</td>\n",
       "      <td>0.805865</td>\n",
       "      <td>0.194135</td>\n",
       "    </tr>\n",
       "    <tr>\n",
       "      <th>11</th>\n",
       "      <td>912</td>\n",
       "      <td>01</td>\n",
       "      <td>2</td>\n",
       "      <td>2.0</td>\n",
       "      <td>-0.10</td>\n",
       "      <td>2.5</td>\n",
       "      <td>0.00</td>\n",
       "      <td>0.509902</td>\n",
       "      <td>15.297059</td>\n",
       "      <td>15.297059</td>\n",
       "      <td>18.982163</td>\n",
       "      <td>0.805865</td>\n",
       "      <td>0.194135</td>\n",
       "    </tr>\n",
       "    <tr>\n",
       "      <th>12</th>\n",
       "      <td>912</td>\n",
       "      <td>01</td>\n",
       "      <td>3</td>\n",
       "      <td>2.5</td>\n",
       "      <td>0.00</td>\n",
       "      <td>3.0</td>\n",
       "      <td>0.10</td>\n",
       "      <td>0.509902</td>\n",
       "      <td>15.297059</td>\n",
       "      <td>15.297059</td>\n",
       "      <td>18.982163</td>\n",
       "      <td>0.805865</td>\n",
       "      <td>0.194135</td>\n",
       "    </tr>\n",
       "    <tr>\n",
       "      <th>13</th>\n",
       "      <td>912</td>\n",
       "      <td>01</td>\n",
       "      <td>4</td>\n",
       "      <td>3.0</td>\n",
       "      <td>0.10</td>\n",
       "      <td>4.0</td>\n",
       "      <td>0.05</td>\n",
       "      <td>1.001249</td>\n",
       "      <td>30.037477</td>\n",
       "      <td>20.210531</td>\n",
       "      <td>18.982163</td>\n",
       "      <td>1.064712</td>\n",
       "      <td>-0.064712</td>\n",
       "    </tr>\n",
       "    <tr>\n",
       "      <th>14</th>\n",
       "      <td>912</td>\n",
       "      <td>01</td>\n",
       "      <td>5</td>\n",
       "      <td>4.0</td>\n",
       "      <td>0.05</td>\n",
       "      <td>NaN</td>\n",
       "      <td>NaN</td>\n",
       "      <td>NaN</td>\n",
       "      <td>NaN</td>\n",
       "      <td>22.667268</td>\n",
       "      <td>18.982163</td>\n",
       "      <td>1.194135</td>\n",
       "      <td>-0.194135</td>\n",
       "    </tr>\n",
       "    <tr>\n",
       "      <th>10</th>\n",
       "      <td>912</td>\n",
       "      <td>02</td>\n",
       "      <td>1</td>\n",
       "      <td>2.5</td>\n",
       "      <td>-0.20</td>\n",
       "      <td>3.0</td>\n",
       "      <td>-0.10</td>\n",
       "      <td>0.509902</td>\n",
       "      <td>15.297059</td>\n",
       "      <td>15.297059</td>\n",
       "      <td>19.654778</td>\n",
       "      <td>0.778287</td>\n",
       "      <td>0.221713</td>\n",
       "    </tr>\n",
       "    <tr>\n",
       "      <th>11</th>\n",
       "      <td>912</td>\n",
       "      <td>02</td>\n",
       "      <td>2</td>\n",
       "      <td>3.0</td>\n",
       "      <td>-0.10</td>\n",
       "      <td>3.5</td>\n",
       "      <td>0.00</td>\n",
       "      <td>0.509902</td>\n",
       "      <td>15.297059</td>\n",
       "      <td>15.297059</td>\n",
       "      <td>19.654778</td>\n",
       "      <td>0.778287</td>\n",
       "      <td>0.221713</td>\n",
       "    </tr>\n",
       "    <tr>\n",
       "      <th>12</th>\n",
       "      <td>912</td>\n",
       "      <td>02</td>\n",
       "      <td>3</td>\n",
       "      <td>3.5</td>\n",
       "      <td>0.00</td>\n",
       "      <td>3.5</td>\n",
       "      <td>0.10</td>\n",
       "      <td>0.100000</td>\n",
       "      <td>3.000000</td>\n",
       "      <td>11.198039</td>\n",
       "      <td>19.654778</td>\n",
       "      <td>0.569736</td>\n",
       "      <td>0.430264</td>\n",
       "    </tr>\n",
       "    <tr>\n",
       "      <th>13</th>\n",
       "      <td>912</td>\n",
       "      <td>02</td>\n",
       "      <td>4</td>\n",
       "      <td>3.5</td>\n",
       "      <td>0.10</td>\n",
       "      <td>5.0</td>\n",
       "      <td>0.05</td>\n",
       "      <td>1.500833</td>\n",
       "      <td>45.024993</td>\n",
       "      <td>21.107351</td>\n",
       "      <td>19.654778</td>\n",
       "      <td>1.073904</td>\n",
       "      <td>-0.073904</td>\n",
       "    </tr>\n",
       "    <tr>\n",
       "      <th>14</th>\n",
       "      <td>912</td>\n",
       "      <td>02</td>\n",
       "      <td>5</td>\n",
       "      <td>5.0</td>\n",
       "      <td>0.05</td>\n",
       "      <td>NaN</td>\n",
       "      <td>NaN</td>\n",
       "      <td>NaN</td>\n",
       "      <td>NaN</td>\n",
       "      <td>24.012497</td>\n",
       "      <td>19.654778</td>\n",
       "      <td>1.221713</td>\n",
       "      <td>-0.221713</td>\n",
       "    </tr>\n",
       "  </tbody>\n",
       "</table>\n",
       "</div>"
      ],
      "text/plain": [
       "    ArucoID Subtrial  frameID  xPos  yPos  xPos_  yPos_      dist  \\\n",
       "5       898       01        1   4.0  0.20    5.0   0.20  1.000000   \n",
       "6       898       01        2   5.0  0.20    6.0  -0.10  1.044031   \n",
       "7       898       01        3   6.0 -0.10    7.0   0.00  1.004988   \n",
       "8       898       01        4   7.0  0.00    9.0   0.05  2.000625   \n",
       "9       898       01        5   9.0  0.05    NaN    NaN       NaN   \n",
       "5       898       02        1   3.0  0.20    4.0   0.20  1.000000   \n",
       "6       898       02        2   4.0  0.20    5.0  -0.10  1.044031   \n",
       "7       898       02        3   5.0 -0.10    6.0   0.00  1.004988   \n",
       "8       898       02        4   6.0  0.00    7.0   0.05  1.001249   \n",
       "9       898       02        5   7.0  0.05    NaN    NaN       NaN   \n",
       "0       910       01        1  10.0 -0.20   10.5  -0.10  0.509902   \n",
       "1       910       01        2  10.5 -0.10   11.0  -0.10  0.500000   \n",
       "2       910       01        3  11.0 -0.10   12.0   0.00  1.004988   \n",
       "3       910       01        4  12.0  0.00   13.0   0.00  1.000000   \n",
       "4       910       01        5  13.0  0.00    NaN    NaN       NaN   \n",
       "0       910       02        1   9.4 -0.20    9.5  -0.10  0.141421   \n",
       "1       910       02        2   9.5 -0.10    9.0  -0.10  0.500000   \n",
       "2       910       02        3   9.0 -0.10    9.0   0.00  0.100000   \n",
       "3       910       02        4   9.0  0.00   10.0   0.00  1.000000   \n",
       "4       910       02        5  10.0  0.00    NaN    NaN       NaN   \n",
       "10      912       01        1   1.5 -0.20    2.0  -0.10  0.509902   \n",
       "11      912       01        2   2.0 -0.10    2.5   0.00  0.509902   \n",
       "12      912       01        3   2.5  0.00    3.0   0.10  0.509902   \n",
       "13      912       01        4   3.0  0.10    4.0   0.05  1.001249   \n",
       "14      912       01        5   4.0  0.05    NaN    NaN       NaN   \n",
       "10      912       02        1   2.5 -0.20    3.0  -0.10  0.509902   \n",
       "11      912       02        2   3.0 -0.10    3.5   0.00  0.509902   \n",
       "12      912       02        3   3.5  0.00    3.5   0.10  0.100000   \n",
       "13      912       02        4   3.5  0.10    5.0   0.05  1.500833   \n",
       "14      912       02        5   5.0  0.05    NaN    NaN       NaN   \n",
       "\n",
       "    point_speed  mov_speed  avg_speed  speed_ratio  speed_excess  \n",
       "5     30.000000  30.000000  37.872323     0.792135      0.207865  \n",
       "6     31.320920  30.660460  37.872323     0.809574      0.190426  \n",
       "7     30.149627  30.490182  37.872323     0.805078      0.194922  \n",
       "8     60.018747  40.496431  37.872323     1.069288     -0.069288  \n",
       "9           NaN  45.084187  37.872323     1.190426     -0.190426  \n",
       "5     30.000000  30.000000  30.377006     0.987589      0.012411  \n",
       "6     31.320920  30.660460  30.377006     1.009331     -0.009331  \n",
       "7     30.149627  30.490182  30.377006     1.003726     -0.003726  \n",
       "8     30.037477  30.502674  30.377006     1.004137     -0.004137  \n",
       "9           NaN  30.093552  30.377006     0.990669      0.009331  \n",
       "0     15.297059  15.297059  22.611671     0.676512      0.323488  \n",
       "1     15.000000  15.148529  22.611671     0.669943      0.330057  \n",
       "2     30.149627  20.148895  22.611671     0.891084      0.108916  \n",
       "3     30.000000  25.049876  22.611671     1.107829     -0.107829  \n",
       "4           NaN  30.074813  22.611671     1.330057     -0.330057  \n",
       "0      4.242641   4.242641  13.060660     0.324841      0.675159  \n",
       "1     15.000000   9.621320  13.060660     0.736664      0.263336  \n",
       "2      3.000000   7.414214  13.060660     0.567675      0.432325  \n",
       "3     30.000000  16.000000  13.060660     1.225053     -0.225053  \n",
       "4           NaN  16.500000  13.060660     1.263336     -0.263336  \n",
       "10    15.297059  15.297059  18.982163     0.805865      0.194135  \n",
       "11    15.297059  15.297059  18.982163     0.805865      0.194135  \n",
       "12    15.297059  15.297059  18.982163     0.805865      0.194135  \n",
       "13    30.037477  20.210531  18.982163     1.064712     -0.064712  \n",
       "14          NaN  22.667268  18.982163     1.194135     -0.194135  \n",
       "10    15.297059  15.297059  19.654778     0.778287      0.221713  \n",
       "11    15.297059  15.297059  19.654778     0.778287      0.221713  \n",
       "12     3.000000  11.198039  19.654778     0.569736      0.430264  \n",
       "13    45.024993  21.107351  19.654778     1.073904     -0.073904  \n",
       "14          NaN  24.012497  19.654778     1.221713     -0.221713  "
      ]
     },
     "execution_count": 13,
     "metadata": {},
     "output_type": "execute_result"
    }
   ],
   "source": [
    "final = data.merge(final[\"avg_speed\"], left_on=[\"ArucoID\", \"Subtrial\"], right_index=True)\n",
    "final[\"speed_ratio\"] = final[\"mov_speed\"]/final[\"avg_speed\"]\n",
    "final[\"speed_excess\"] = 1. - final[\"speed_ratio\"]\n",
    "final"
   ]
  },
  {
   "cell_type": "code",
   "execution_count": 14,
   "id": "93fb092f",
   "metadata": {
    "ExecuteTime": {
     "end_time": "2022-09-24T08:21:26.283210Z",
     "start_time": "2022-09-24T08:21:26.272358Z"
    }
   },
   "outputs": [
    {
     "name": "stdout",
     "output_type": "stream",
     "text": [
      "   ArucoID Subtrial  frameID  xPos  yPos  xPos_  yPos_      dist  point_speed  \\\n",
      "5      898       01        1   4.0  0.20    5.0   0.20  1.000000    30.000000   \n",
      "6      898       01        2   5.0  0.20    6.0  -0.10  1.044031    31.320920   \n",
      "7      898       01        3   6.0 -0.10    7.0   0.00  1.004988    30.149627   \n",
      "8      898       01        4   7.0  0.00    9.0   0.05  2.000625    60.018747   \n",
      "9      898       01        5   9.0  0.05    NaN    NaN       NaN          NaN   \n",
      "5      898       02        1   3.0  0.20    4.0   0.20  1.000000    30.000000   \n",
      "\n",
      "   mov_speed  avg_speed  speed_ratio  speed_excess  \n",
      "5  30.000000  37.872323     0.792135      0.207865  \n",
      "6  30.660460  37.872323     0.809574      0.190426  \n",
      "7  30.490182  37.872323     0.805078      0.194922  \n",
      "8  40.496431  37.872323     1.069288     -0.069288  \n",
      "9  45.084187  37.872323     1.190426     -0.190426  \n",
      "5  30.000000  30.377006     0.987589      0.012411  \n"
     ]
    }
   ],
   "source": [
    "print(final[:6])"
   ]
  },
  {
   "cell_type": "code",
   "execution_count": 18,
   "id": "288958a4",
   "metadata": {
    "ExecuteTime": {
     "end_time": "2022-09-24T08:22:11.046238Z",
     "start_time": "2022-09-24T08:22:11.015073Z"
    }
   },
   "outputs": [],
   "source": [
    "cross = final.pivot_table(index=\"frameID\", columns=[\"ArucoID\", \"Subtrial\"], values=[\"point_speed\", \"mov_speed\", \"avg_speed\", \"speed_ratio\", \"speed_excess\"])"
   ]
  },
  {
   "cell_type": "code",
   "execution_count": 19,
   "id": "213f613b",
   "metadata": {
    "ExecuteTime": {
     "end_time": "2022-09-24T08:22:13.137011Z",
     "start_time": "2022-09-24T08:22:12.766787Z"
    }
   },
   "outputs": [
    {
     "data": {
      "image/png": "[encoded data removed]",
      "text/plain": [
       "<Figure size 432x288 with 1 Axes>"
      ]
     },
     "metadata": {
      "needs_background": "light"
     },
     "output_type": "display_data"
    }
   ],
   "source": [
    "axe = cross[\"mov_speed\"].plot(kind=\"bar\")\n",
    "axe.set_xlabel(\"Frame Id\")\n",
    "axe.set_ylabel(\"Moving Average Speed\")\n",
    "axe.set_title(\"Speed Estimate\")\n",
    "axe.legend(bbox_to_anchor=(1,1), title=\"Device/Trial\")\n",
    "axe.grid(axis=\"y\")"
   ]
  },
  {
   "cell_type": "code",
   "execution_count": 23,
   "id": "6266ef9a",
   "metadata": {
    "ExecuteTime": {
     "end_time": "2022-09-24T08:22:52.225266Z",
     "start_time": "2022-09-24T08:22:51.850149Z"
    }
   },
   "outputs": [
    {
     "data": {
      "image/png": "[encoded data removed]",
      "text/plain": [
       "<Figure size 432x288 with 1 Axes>"
      ]
     },
     "metadata": {
      "needs_background": "light"
     },
     "output_type": "display_data"
    }
   ],
   "source": [
    "axe = cross[\"speed_excess\"].plot(kind=\"bar\")\n",
    "axe.set_xlabel(\"Frame Id\")\n",
    "axe.set_ylabel(\"Speed Excess wrt Average\")\n",
    "axe.set_title(\"Speed Excess\")\n",
    "axe.legend(bbox_to_anchor=(1,1), loc=\"upper left\", title=\"Device/Trial\")\n",
    "axe.grid(axis=\"y\")"
   ]
  },
  {
   "cell_type": "code",
   "execution_count": null,
   "id": "2b5a7002",
   "metadata": {},
   "outputs": [],
   "source": []
  }
 ],
 "metadata": {
  "hide_input": false,
  "kernelspec": {
   "display_name": "Python 3",
   "language": "python",
   "name": "python3"
  },
  "language_info": {
   "codemirror_mode": {
    "name": "ipython",
    "version": 3
   },
   "file_extension": ".py",
   "mimetype": "text/x-python",
   "name": "python",
   "nbconvert_exporter": "python",
   "pygments_lexer": "ipython3",
   "version": "3.6.9"
  },
  "toc": {
   "base_numbering": 1,
   "nav_menu": {},
   "number_sections": true,
   "sideBar": true,
   "skip_h1_title": false,
   "title_cell": "Table of Contents",
   "title_sidebar": "Contents",
   "toc_cell": false,
   "toc_position": {},
   "toc_section_display": true,
   "toc_window_display": false
  },
  "varInspector": {
   "cols": {
    "lenName": 16,
    "lenType": 16,
    "lenVar": 40
   },
   "kernels_config": {
    "python": {
     "delete_cmd_postfix": "",
     "delete_cmd_prefix": "del ",
     "library": "var_list.py",
     "varRefreshCmd": "print(var_dic_list())"
    },
    "r": {
     "delete_cmd_postfix": ") ",
     "delete_cmd_prefix": "rm(",
     "library": "var_list.r",
     "varRefreshCmd": "cat(var_dic_list()) "
    }
   },
   "types_to_exclude": [
    "module",
    "function",
    "builtin_function_or_method",
    "instance",
    "_Feature"
   ],
   "window_display": false
  }
 },
 "nbformat": 4,
 "nbformat_minor": 5
}
