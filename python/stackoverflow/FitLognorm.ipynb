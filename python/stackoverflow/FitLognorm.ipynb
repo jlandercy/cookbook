{
 "cells": [
  {
   "cell_type": "code",
   "execution_count": 1,
   "id": "b6f48f66",
   "metadata": {
    "ExecuteTime": {
     "end_time": "2024-02-13T17:46:18.740544Z",
     "start_time": "2024-02-13T17:46:17.099894Z"
    }
   },
   "outputs": [],
   "source": [
    "import numpy as np\n",
    "import matplotlib.pyplot as plt\n",
    "from scipy import stats, optimize"
   ]
  },
  {
   "cell_type": "code",
   "execution_count": 2,
   "id": "93e82384",
   "metadata": {
    "ExecuteTime": {
     "end_time": "2024-02-13T17:46:18.746976Z",
     "start_time": "2024-02-13T17:46:18.743707Z"
    }
   },
   "outputs": [],
   "source": [
    "np.random.seed(123456)"
   ]
  },
  {
   "cell_type": "code",
   "execution_count": 3,
   "id": "a7e16b19",
   "metadata": {
    "ExecuteTime": {
     "end_time": "2024-02-13T17:46:18.751992Z",
     "start_time": "2024-02-13T17:46:18.749440Z"
    }
   },
   "outputs": [],
   "source": [
    "sigma = 0.15\n",
    "mu = 2"
   ]
  },
  {
   "cell_type": "code",
   "execution_count": 4,
   "id": "21e7b8f6",
   "metadata": {
    "ExecuteTime": {
     "end_time": "2024-02-13T17:46:18.760202Z",
     "start_time": "2024-02-13T17:46:18.755319Z"
    }
   },
   "outputs": [],
   "source": [
    "law = stats.lognorm(s=sigma, scale=np.exp(mu))"
   ]
  },
  {
   "cell_type": "code",
   "execution_count": 5,
   "id": "0f0eace6",
   "metadata": {
    "ExecuteTime": {
     "end_time": "2024-02-13T17:46:18.768043Z",
     "start_time": "2024-02-13T17:46:18.762810Z"
    }
   },
   "outputs": [],
   "source": [
    "N = 30_000\n",
    "x = law.rvs(size=N)"
   ]
  },
  {
   "cell_type": "code",
   "execution_count": null,
   "id": "da180b88",
   "metadata": {
    "ExecuteTime": {
     "end_time": "2024-02-13T17:20:27.205659Z",
     "start_time": "2024-02-13T17:20:27.191106Z"
    }
   },
   "outputs": [],
   "source": []
  },
  {
   "cell_type": "code",
   "execution_count": 6,
   "id": "d97923fb",
   "metadata": {
    "ExecuteTime": {
     "end_time": "2024-02-13T17:46:18.775341Z",
     "start_time": "2024-02-13T17:46:18.770225Z"
    }
   },
   "outputs": [],
   "source": [
    "density, bins = np.histogram(x, density=1., bins=30)\n",
    "centers = (bins[1:] + bins[:-1]) / 2."
   ]
  },
  {
   "cell_type": "code",
   "execution_count": null,
   "id": "cc7742ee",
   "metadata": {
    "ExecuteTime": {
     "end_time": "2024-02-13T17:45:13.567496Z",
     "start_time": "2024-02-13T17:45:13.561526Z"
    }
   },
   "outputs": [],
   "source": []
  },
  {
   "cell_type": "code",
   "execution_count": 7,
   "id": "30c61d92",
   "metadata": {
    "ExecuteTime": {
     "end_time": "2024-02-13T17:46:19.365279Z",
     "start_time": "2024-02-13T17:46:18.777750Z"
    }
   },
   "outputs": [
    {
     "data": {
      "text/plain": [
       "(0.151297129052073, 0.053788977866467386, 7.335249847775119)"
      ]
     },
     "execution_count": 7,
     "metadata": {},
     "output_type": "execute_result"
    }
   ],
   "source": [
    "stats.lognorm.fit(x)"
   ]
  },
  {
   "cell_type": "code",
   "execution_count": null,
   "id": "b89cd078",
   "metadata": {},
   "outputs": [],
   "source": []
  },
  {
   "cell_type": "code",
   "execution_count": 8,
   "id": "c7ecd62d",
   "metadata": {
    "ExecuteTime": {
     "end_time": "2024-02-13T17:46:19.370865Z",
     "start_time": "2024-02-13T17:46:19.367564Z"
    }
   },
   "outputs": [],
   "source": [
    "def model(x, mu, sigma):\n",
    "    return stats.lognorm.pdf(x, s=sigma, scale=np.exp(mu))"
   ]
  },
  {
   "cell_type": "code",
   "execution_count": null,
   "id": "64c459cd",
   "metadata": {},
   "outputs": [],
   "source": []
  },
  {
   "cell_type": "code",
   "execution_count": null,
   "id": "b281c8c1",
   "metadata": {},
   "outputs": [],
   "source": []
  },
  {
   "cell_type": "code",
   "execution_count": 9,
   "id": "f73b17e7",
   "metadata": {
    "ExecuteTime": {
     "end_time": "2024-02-13T17:46:19.393449Z",
     "start_time": "2024-02-13T17:46:19.373279Z"
    }
   },
   "outputs": [
    {
     "data": {
      "text/plain": [
       "(array([2.00059957, 0.15158351]),\n",
       " array([[8.87310596e-07, 4.50003479e-08],\n",
       "        [4.50003479e-08, 5.93772296e-07]]))"
      ]
     },
     "execution_count": 9,
     "metadata": {},
     "output_type": "execute_result"
    }
   ],
   "source": [
    "popt, pcov = optimize.curve_fit(model, centers, density)\n",
    "popt, pcov"
   ]
  },
  {
   "cell_type": "code",
   "execution_count": null,
   "id": "4368916d",
   "metadata": {},
   "outputs": [],
   "source": []
  },
  {
   "cell_type": "code",
   "execution_count": 23,
   "id": "4dd36483",
   "metadata": {
    "ExecuteTime": {
     "end_time": "2024-02-13T17:57:24.292501Z",
     "start_time": "2024-02-13T17:57:24.283015Z"
    }
   },
   "outputs": [],
   "source": [
    "def factory(x):\n",
    "    def wrapped(p):\n",
    "        return - np.sum(stats.lognorm.logpdf(x, s=p[1], scale=np.exp(p[0])))\n",
    "    return wrapped"
   ]
  },
  {
   "cell_type": "code",
   "execution_count": 24,
   "id": "0bef0ec9",
   "metadata": {
    "ExecuteTime": {
     "end_time": "2024-02-13T17:57:29.285049Z",
     "start_time": "2024-02-13T17:57:29.281703Z"
    }
   },
   "outputs": [],
   "source": [
    "likelihood = factory(x)"
   ]
  },
  {
   "cell_type": "code",
   "execution_count": 25,
   "id": "b075bf82",
   "metadata": {
    "ExecuteTime": {
     "end_time": "2024-02-13T17:57:31.295281Z",
     "start_time": "2024-02-13T17:57:31.065450Z"
    }
   },
   "outputs": [
    {
     "data": {
      "text/plain": [
       "      fun: 45693.61136284961\n",
       " hess_inv: array([[ 3.38213795e-08, -1.68343490e-08],\n",
       "       [-1.68343490e-08,  5.54538464e-07]])\n",
       "      jac: array([-0.00048828,  0.00097656])\n",
       "  message: 'Desired error not necessarily achieved due to precision loss.'\n",
       "     nfev: 66\n",
       "      nit: 17\n",
       "     njev: 22\n",
       "   status: 2\n",
       "  success: False\n",
       "        x: array([2.00008072, 0.15018327])"
      ]
     },
     "execution_count": 25,
     "metadata": {},
     "output_type": "execute_result"
    }
   ],
   "source": [
    "sol = optimize.minimize(likelihood, x0=[1, 1])\n",
    "sol"
   ]
  },
  {
   "cell_type": "code",
   "execution_count": null,
   "id": "39688b5b",
   "metadata": {},
   "outputs": [],
   "source": []
  },
  {
   "cell_type": "code",
   "execution_count": null,
   "id": "5cea4377",
   "metadata": {},
   "outputs": [],
   "source": []
  },
  {
   "cell_type": "code",
   "execution_count": 12,
   "id": "db8b0c41",
   "metadata": {
    "ExecuteTime": {
     "end_time": "2024-02-13T17:46:19.588379Z",
     "start_time": "2024-02-13T17:46:19.584448Z"
    }
   },
   "outputs": [],
   "source": [
    "xlin = np.linspace(x.min(), x.max(), 100)"
   ]
  },
  {
   "cell_type": "code",
   "execution_count": 17,
   "id": "3dca82c5",
   "metadata": {
    "ExecuteTime": {
     "end_time": "2024-02-13T17:53:08.107347Z",
     "start_time": "2024-02-13T17:53:07.458900Z"
    }
   },
   "outputs": [
    {
     "data": {
      "image/png": "[encoded data removed]",
      "text/plain": [
       "<Figure size 640x480 with 1 Axes>"
      ]
     },
     "metadata": {},
     "output_type": "display_data"
    }
   ],
   "source": [
    "fig, axe = plt.subplots()\n",
    "_ = axe.hist(x, bins=30, density=1., alpha=0.5)\n",
    "axe.plot(xlin, law.pdf(xlin))\n",
    "axe.plot(xlin, model(xlin, *popt), \"--\")\n",
    "axe.plot(xlin, model(xlin, *sol.x), \"--\")\n",
    "axe.grid()"
   ]
  },
  {
   "cell_type": "code",
   "execution_count": null,
   "id": "3926dcad",
   "metadata": {},
   "outputs": [],
   "source": []
  },
  {
   "cell_type": "code",
   "execution_count": null,
   "id": "41b325e8",
   "metadata": {},
   "outputs": [],
   "source": []
  },
  {
   "cell_type": "code",
   "execution_count": null,
   "id": "2d474c5e",
   "metadata": {},
   "outputs": [],
   "source": []
  },
  {
   "cell_type": "code",
   "execution_count": null,
   "id": "c847a03a",
   "metadata": {},
   "outputs": [],
   "source": []
  },
  {
   "cell_type": "code",
   "execution_count": null,
   "id": "3ef0a3e1",
   "metadata": {},
   "outputs": [],
   "source": []
  }
 ],
 "metadata": {
  "hide_input": false,
  "kernelspec": {
   "display_name": "Python 3",
   "language": "python",
   "name": "python3"
  },
  "language_info": {
   "codemirror_mode": {
    "name": "ipython",
    "version": 3
   },
   "file_extension": ".py",
   "mimetype": "text/x-python",
   "name": "python",
   "nbconvert_exporter": "python",
   "pygments_lexer": "ipython3",
   "version": "3.10.6"
  },
  "toc": {
   "base_numbering": 1,
   "nav_menu": {},
   "number_sections": true,
   "sideBar": true,
   "skip_h1_title": false,
   "title_cell": "Table of Contents",
   "title_sidebar": "Contents",
   "toc_cell": false,
   "toc_position": {},
   "toc_section_display": true,
   "toc_window_display": false
  },
  "varInspector": {
   "cols": {
    "lenName": 16,
    "lenType": 16,
    "lenVar": 40
   },
   "kernels_config": {
    "python": {
     "delete_cmd_postfix": "",
     "delete_cmd_prefix": "del ",
     "library": "var_list.py",
     "varRefreshCmd": "print(var_dic_list())"
    },
    "r": {
     "delete_cmd_postfix": ") ",
     "delete_cmd_prefix": "rm(",
     "library": "var_list.r",
     "varRefreshCmd": "cat(var_dic_list()) "
    }
   },
   "types_to_exclude": [
    "module",
    "function",
    "builtin_function_or_method",
    "instance",
    "_Feature"
   ],
   "window_display": false
  }
 },
 "nbformat": 4,
 "nbformat_minor": 5
}
