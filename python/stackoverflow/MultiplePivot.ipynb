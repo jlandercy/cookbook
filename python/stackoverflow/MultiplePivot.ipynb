{
 "cells": [
  {
   "cell_type": "code",
   "execution_count": 1,
   "id": "3501e531",
   "metadata": {
    "ExecuteTime": {
     "end_time": "2024-04-09T14:59:27.587012Z",
     "start_time": "2024-04-09T14:59:27.070257Z"
    }
   },
   "outputs": [],
   "source": [
    "import io\n",
    "import pandas as pd"
   ]
  },
  {
   "cell_type": "markdown",
   "id": "54045ddd",
   "metadata": {},
   "source": [
    "https://stackoverflow.com/questions/78299328/pivot-dataframe-into-two-seperate-tables"
   ]
  },
  {
   "cell_type": "code",
   "execution_count": 3,
   "id": "215d5d0c",
   "metadata": {
    "ExecuteTime": {
     "end_time": "2024-04-09T15:00:35.532367Z",
     "start_time": "2024-04-09T15:00:35.523993Z"
    }
   },
   "outputs": [],
   "source": [
    "data = pd.read_fwf(io.StringIO(\"\"\"\n",
    "ID    Counterparty  Date           Commodity Deal    Price   Total\n",
    "1     party1        04/03/2024     Oil       Sell    10.00   100.00\n",
    "2     party1        04/03/2024     Oil       Sell    10.00   100.00\n",
    "3     party1        04/03/2024     Oil       Sell    10.00   100.00\n",
    "4     party1        04/03/2024     Oil       Buy     10.00   100.00\n",
    "5     party1        04/03/2024     Oil       Buy     10.00   100.00\n",
    "6     party1        04/03/2024     Oil       Buy     10.00   100.00\n",
    "7     party2        04/03/2024     Oil       Sell    5.00    50.00\n",
    "8     party2        04/03/2024     Oil       Sell    5.00    50.00\n",
    "9     party2        04/03/2024     Oil       Sell    5.00    50.00\n",
    "10    party2        04/03/2024     Oil       Buy     5.00    50.00\n",
    "11    party2        04/03/2024     Oil       Buy     5.00    50.00\n",
    "12    party2        04/03/2024     Oil       Buy     5.00    50.00\"\"\"))"
   ]
  },
  {
   "cell_type": "code",
   "execution_count": 5,
   "id": "a47870d1",
   "metadata": {
    "ExecuteTime": {
     "end_time": "2024-04-09T15:00:45.733776Z",
     "start_time": "2024-04-09T15:00:45.678957Z"
    }
   },
   "outputs": [
    {
     "data": {
      "text/html": [
       "<div>\n",
       "<style scoped>\n",
       "    .dataframe tbody tr th:only-of-type {\n",
       "        vertical-align: middle;\n",
       "    }\n",
       "\n",
       "    .dataframe tbody tr th {\n",
       "        vertical-align: top;\n",
       "    }\n",
       "\n",
       "    .dataframe thead th {\n",
       "        text-align: right;\n",
       "    }\n",
       "</style>\n",
       "<table border=\"1\" class=\"dataframe\">\n",
       "  <thead>\n",
       "    <tr style=\"text-align: right;\">\n",
       "      <th></th>\n",
       "      <th>ID</th>\n",
       "      <th>Counterparty</th>\n",
       "      <th>Date</th>\n",
       "      <th>Commodity</th>\n",
       "      <th>Deal</th>\n",
       "      <th>Price</th>\n",
       "      <th>Total</th>\n",
       "    </tr>\n",
       "  </thead>\n",
       "  <tbody>\n",
       "    <tr>\n",
       "      <th>0</th>\n",
       "      <td>1</td>\n",
       "      <td>party1</td>\n",
       "      <td>04/03/2024</td>\n",
       "      <td>Oil</td>\n",
       "      <td>Sell</td>\n",
       "      <td>10.0</td>\n",
       "      <td>100.0</td>\n",
       "    </tr>\n",
       "    <tr>\n",
       "      <th>1</th>\n",
       "      <td>2</td>\n",
       "      <td>party1</td>\n",
       "      <td>04/03/2024</td>\n",
       "      <td>Oil</td>\n",
       "      <td>Sell</td>\n",
       "      <td>10.0</td>\n",
       "      <td>100.0</td>\n",
       "    </tr>\n",
       "    <tr>\n",
       "      <th>2</th>\n",
       "      <td>3</td>\n",
       "      <td>party1</td>\n",
       "      <td>04/03/2024</td>\n",
       "      <td>Oil</td>\n",
       "      <td>Sell</td>\n",
       "      <td>10.0</td>\n",
       "      <td>100.0</td>\n",
       "    </tr>\n",
       "    <tr>\n",
       "      <th>3</th>\n",
       "      <td>4</td>\n",
       "      <td>party1</td>\n",
       "      <td>04/03/2024</td>\n",
       "      <td>Oil</td>\n",
       "      <td>Buy</td>\n",
       "      <td>10.0</td>\n",
       "      <td>100.0</td>\n",
       "    </tr>\n",
       "    <tr>\n",
       "      <th>4</th>\n",
       "      <td>5</td>\n",
       "      <td>party1</td>\n",
       "      <td>04/03/2024</td>\n",
       "      <td>Oil</td>\n",
       "      <td>Buy</td>\n",
       "      <td>10.0</td>\n",
       "      <td>100.0</td>\n",
       "    </tr>\n",
       "    <tr>\n",
       "      <th>5</th>\n",
       "      <td>6</td>\n",
       "      <td>party1</td>\n",
       "      <td>04/03/2024</td>\n",
       "      <td>Oil</td>\n",
       "      <td>Buy</td>\n",
       "      <td>10.0</td>\n",
       "      <td>100.0</td>\n",
       "    </tr>\n",
       "    <tr>\n",
       "      <th>6</th>\n",
       "      <td>7</td>\n",
       "      <td>party2</td>\n",
       "      <td>04/03/2024</td>\n",
       "      <td>Oil</td>\n",
       "      <td>Sell</td>\n",
       "      <td>5.0</td>\n",
       "      <td>50.0</td>\n",
       "    </tr>\n",
       "    <tr>\n",
       "      <th>7</th>\n",
       "      <td>8</td>\n",
       "      <td>party2</td>\n",
       "      <td>04/03/2024</td>\n",
       "      <td>Oil</td>\n",
       "      <td>Sell</td>\n",
       "      <td>5.0</td>\n",
       "      <td>50.0</td>\n",
       "    </tr>\n",
       "    <tr>\n",
       "      <th>8</th>\n",
       "      <td>9</td>\n",
       "      <td>party2</td>\n",
       "      <td>04/03/2024</td>\n",
       "      <td>Oil</td>\n",
       "      <td>Sell</td>\n",
       "      <td>5.0</td>\n",
       "      <td>50.0</td>\n",
       "    </tr>\n",
       "    <tr>\n",
       "      <th>9</th>\n",
       "      <td>10</td>\n",
       "      <td>party2</td>\n",
       "      <td>04/03/2024</td>\n",
       "      <td>Oil</td>\n",
       "      <td>Buy</td>\n",
       "      <td>5.0</td>\n",
       "      <td>50.0</td>\n",
       "    </tr>\n",
       "    <tr>\n",
       "      <th>10</th>\n",
       "      <td>11</td>\n",
       "      <td>party2</td>\n",
       "      <td>04/03/2024</td>\n",
       "      <td>Oil</td>\n",
       "      <td>Buy</td>\n",
       "      <td>5.0</td>\n",
       "      <td>50.0</td>\n",
       "    </tr>\n",
       "    <tr>\n",
       "      <th>11</th>\n",
       "      <td>12</td>\n",
       "      <td>party2</td>\n",
       "      <td>04/03/2024</td>\n",
       "      <td>Oil</td>\n",
       "      <td>Buy</td>\n",
       "      <td>5.0</td>\n",
       "      <td>50.0</td>\n",
       "    </tr>\n",
       "  </tbody>\n",
       "</table>\n",
       "</div>"
      ],
      "text/plain": [
       "    ID Counterparty        Date Commodity  Deal  Price  Total\n",
       "0    1       party1  04/03/2024       Oil  Sell   10.0  100.0\n",
       "1    2       party1  04/03/2024       Oil  Sell   10.0  100.0\n",
       "2    3       party1  04/03/2024       Oil  Sell   10.0  100.0\n",
       "3    4       party1  04/03/2024       Oil   Buy   10.0  100.0\n",
       "4    5       party1  04/03/2024       Oil   Buy   10.0  100.0\n",
       "5    6       party1  04/03/2024       Oil   Buy   10.0  100.0\n",
       "6    7       party2  04/03/2024       Oil  Sell    5.0   50.0\n",
       "7    8       party2  04/03/2024       Oil  Sell    5.0   50.0\n",
       "8    9       party2  04/03/2024       Oil  Sell    5.0   50.0\n",
       "9   10       party2  04/03/2024       Oil   Buy    5.0   50.0\n",
       "10  11       party2  04/03/2024       Oil   Buy    5.0   50.0\n",
       "11  12       party2  04/03/2024       Oil   Buy    5.0   50.0"
      ]
     },
     "execution_count": 5,
     "metadata": {},
     "output_type": "execute_result"
    }
   ],
   "source": [
    "data"
   ]
  },
  {
   "cell_type": "code",
   "execution_count": 7,
   "id": "8babc7d8",
   "metadata": {
    "ExecuteTime": {
     "end_time": "2024-04-09T15:03:50.337781Z",
     "start_time": "2024-04-09T15:03:50.270819Z"
    }
   },
   "outputs": [],
   "source": [
    "pivot1 = data.pivot_table(index=\"Counterparty\", columns=[\"Deal\", \"Commodity\"], values=\"Total\", aggfunc=\"sum\")"
   ]
  },
  {
   "cell_type": "code",
   "execution_count": 8,
   "id": "fd6ba836",
   "metadata": {
    "ExecuteTime": {
     "end_time": "2024-04-09T15:03:56.345095Z",
     "start_time": "2024-04-09T15:03:56.333174Z"
    }
   },
   "outputs": [
    {
     "data": {
      "text/html": [
       "<div>\n",
       "<style scoped>\n",
       "    .dataframe tbody tr th:only-of-type {\n",
       "        vertical-align: middle;\n",
       "    }\n",
       "\n",
       "    .dataframe tbody tr th {\n",
       "        vertical-align: top;\n",
       "    }\n",
       "\n",
       "    .dataframe thead th {\n",
       "        text-align: right;\n",
       "    }\n",
       "</style>\n",
       "<table border=\"1\" class=\"dataframe\">\n",
       "  <thead>\n",
       "    <tr style=\"text-align: right;\">\n",
       "      <th>Commodity</th>\n",
       "      <th>Oil</th>\n",
       "    </tr>\n",
       "    <tr>\n",
       "      <th>Counterparty</th>\n",
       "      <th></th>\n",
       "    </tr>\n",
       "  </thead>\n",
       "  <tbody>\n",
       "    <tr>\n",
       "      <th>party1</th>\n",
       "      <td>300.0</td>\n",
       "    </tr>\n",
       "    <tr>\n",
       "      <th>party2</th>\n",
       "      <td>150.0</td>\n",
       "    </tr>\n",
       "  </tbody>\n",
       "</table>\n",
       "</div>"
      ],
      "text/plain": [
       "Commodity       Oil\n",
       "Counterparty       \n",
       "party1        300.0\n",
       "party2        150.0"
      ]
     },
     "execution_count": 8,
     "metadata": {},
     "output_type": "execute_result"
    }
   ],
   "source": [
    "pivot1[\"Sell\"]"
   ]
  },
  {
   "cell_type": "code",
   "execution_count": 9,
   "id": "ef3b5695",
   "metadata": {
    "ExecuteTime": {
     "end_time": "2024-04-09T15:04:04.658559Z",
     "start_time": "2024-04-09T15:04:04.638222Z"
    }
   },
   "outputs": [
    {
     "data": {
      "text/html": [
       "<div>\n",
       "<style scoped>\n",
       "    .dataframe tbody tr th:only-of-type {\n",
       "        vertical-align: middle;\n",
       "    }\n",
       "\n",
       "    .dataframe tbody tr th {\n",
       "        vertical-align: top;\n",
       "    }\n",
       "\n",
       "    .dataframe thead th {\n",
       "        text-align: right;\n",
       "    }\n",
       "</style>\n",
       "<table border=\"1\" class=\"dataframe\">\n",
       "  <thead>\n",
       "    <tr style=\"text-align: right;\">\n",
       "      <th>Commodity</th>\n",
       "      <th>Oil</th>\n",
       "    </tr>\n",
       "    <tr>\n",
       "      <th>Counterparty</th>\n",
       "      <th></th>\n",
       "    </tr>\n",
       "  </thead>\n",
       "  <tbody>\n",
       "    <tr>\n",
       "      <th>party1</th>\n",
       "      <td>300.0</td>\n",
       "    </tr>\n",
       "    <tr>\n",
       "      <th>party2</th>\n",
       "      <td>150.0</td>\n",
       "    </tr>\n",
       "  </tbody>\n",
       "</table>\n",
       "</div>"
      ],
      "text/plain": [
       "Commodity       Oil\n",
       "Counterparty       \n",
       "party1        300.0\n",
       "party2        150.0"
      ]
     },
     "execution_count": 9,
     "metadata": {},
     "output_type": "execute_result"
    }
   ],
   "source": [
    "pivot1[\"Buy\"]"
   ]
  },
  {
   "cell_type": "code",
   "execution_count": 10,
   "id": "cb610cf7",
   "metadata": {
    "ExecuteTime": {
     "end_time": "2024-04-09T15:04:20.516052Z",
     "start_time": "2024-04-09T15:04:20.493475Z"
    }
   },
   "outputs": [],
   "source": [
    "pivot2 = data.pivot_table(index=\"Counterparty\", columns=[\"Commodity\"], values=\"Total\", aggfunc=\"sum\")"
   ]
  },
  {
   "cell_type": "code",
   "execution_count": 12,
   "id": "32317c18",
   "metadata": {
    "ExecuteTime": {
     "end_time": "2024-04-09T15:04:27.235319Z",
     "start_time": "2024-04-09T15:04:27.218716Z"
    }
   },
   "outputs": [
    {
     "data": {
      "text/html": [
       "<div>\n",
       "<style scoped>\n",
       "    .dataframe tbody tr th:only-of-type {\n",
       "        vertical-align: middle;\n",
       "    }\n",
       "\n",
       "    .dataframe tbody tr th {\n",
       "        vertical-align: top;\n",
       "    }\n",
       "\n",
       "    .dataframe thead th {\n",
       "        text-align: right;\n",
       "    }\n",
       "</style>\n",
       "<table border=\"1\" class=\"dataframe\">\n",
       "  <thead>\n",
       "    <tr style=\"text-align: right;\">\n",
       "      <th>Commodity</th>\n",
       "      <th>Oil</th>\n",
       "    </tr>\n",
       "    <tr>\n",
       "      <th>Counterparty</th>\n",
       "      <th></th>\n",
       "    </tr>\n",
       "  </thead>\n",
       "  <tbody>\n",
       "    <tr>\n",
       "      <th>party1</th>\n",
       "      <td>600.0</td>\n",
       "    </tr>\n",
       "    <tr>\n",
       "      <th>party2</th>\n",
       "      <td>300.0</td>\n",
       "    </tr>\n",
       "  </tbody>\n",
       "</table>\n",
       "</div>"
      ],
      "text/plain": [
       "Commodity       Oil\n",
       "Counterparty       \n",
       "party1        600.0\n",
       "party2        300.0"
      ]
     },
     "execution_count": 12,
     "metadata": {},
     "output_type": "execute_result"
    }
   ],
   "source": [
    "pivot2"
   ]
  },
  {
   "cell_type": "code",
   "execution_count": null,
   "id": "dcb2f15c",
   "metadata": {},
   "outputs": [],
   "source": []
  }
 ],
 "metadata": {
  "hide_input": false,
  "kernelspec": {
   "display_name": "Python 3",
   "language": "python",
   "name": "python3"
  },
  "language_info": {
   "codemirror_mode": {
    "name": "ipython",
    "version": 3
   },
   "file_extension": ".py",
   "mimetype": "text/x-python",
   "name": "python",
   "nbconvert_exporter": "python",
   "pygments_lexer": "ipython3",
   "version": "3.10.6"
  },
  "toc": {
   "base_numbering": 1,
   "nav_menu": {},
   "number_sections": true,
   "sideBar": true,
   "skip_h1_title": false,
   "title_cell": "Table of Contents",
   "title_sidebar": "Contents",
   "toc_cell": false,
   "toc_position": {},
   "toc_section_display": true,
   "toc_window_display": false
  },
  "varInspector": {
   "cols": {
    "lenName": 16,
    "lenType": 16,
    "lenVar": 40
   },
   "kernels_config": {
    "python": {
     "delete_cmd_postfix": "",
     "delete_cmd_prefix": "del ",
     "library": "var_list.py",
     "varRefreshCmd": "print(var_dic_list())"
    },
    "r": {
     "delete_cmd_postfix": ") ",
     "delete_cmd_prefix": "rm(",
     "library": "var_list.r",
     "varRefreshCmd": "cat(var_dic_list()) "
    }
   },
   "types_to_exclude": [
    "module",
    "function",
    "builtin_function_or_method",
    "instance",
    "_Feature"
   ],
   "window_display": false
  }
 },
 "nbformat": 4,
 "nbformat_minor": 5
}
