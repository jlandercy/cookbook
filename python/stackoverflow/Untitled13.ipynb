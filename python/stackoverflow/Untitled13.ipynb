{
 "cells": [
  {
   "cell_type": "code",
   "execution_count": 2,
   "id": "eb8d9506",
   "metadata": {
    "ExecuteTime": {
     "end_time": "2024-03-21T15:31:44.808737Z",
     "start_time": "2024-03-21T15:31:44.371744Z"
    }
   },
   "outputs": [],
   "source": [
    "import numpy as np\n",
    "import matplotlib.pyplot as plt\n",
    "from scipy import optimize"
   ]
  },
  {
   "cell_type": "code",
   "execution_count": null,
   "id": "269fbce1",
   "metadata": {},
   "outputs": [],
   "source": []
  },
  {
   "cell_type": "code",
   "execution_count": 29,
   "id": "3d5fe0e1",
   "metadata": {
    "ExecuteTime": {
     "end_time": "2024-03-21T15:42:13.929773Z",
     "start_time": "2024-03-21T15:42:13.923312Z"
    }
   },
   "outputs": [],
   "source": [
    "def model(x, x0, x1, C, k, a):\n",
    "    return np.piecewise(\n",
    "        x,\n",
    "        [x < x0, (x >= x0) & (x < x1), x >= x1],\n",
    "        [\n",
    "            lambda x: C,\n",
    "            lambda x: C * np.exp(k * (x - x0)),\n",
    "            lambda x: a * (x - x1) + C * np.exp(k * (x1 - x0))\n",
    "        ]\n",
    "    )"
   ]
  },
  {
   "cell_type": "code",
   "execution_count": null,
   "id": "12eff70e",
   "metadata": {},
   "outputs": [],
   "source": []
  },
  {
   "cell_type": "code",
   "execution_count": 32,
   "id": "68623c95",
   "metadata": {
    "ExecuteTime": {
     "end_time": "2024-03-21T15:42:39.100736Z",
     "start_time": "2024-03-21T15:42:39.097357Z"
    }
   },
   "outputs": [],
   "source": [
    "p = (3, 6, 1, 0.5, 0.3)"
   ]
  },
  {
   "cell_type": "code",
   "execution_count": 33,
   "id": "315ca085",
   "metadata": {
    "ExecuteTime": {
     "end_time": "2024-03-21T15:42:42.815871Z",
     "start_time": "2024-03-21T15:42:42.811046Z"
    }
   },
   "outputs": [],
   "source": [
    "xexp = np.linspace(0, 10, 30)\n",
    "yexp = model(xexp, *p)"
   ]
  },
  {
   "cell_type": "code",
   "execution_count": 39,
   "id": "63add746",
   "metadata": {
    "ExecuteTime": {
     "end_time": "2024-03-21T15:45:30.264724Z",
     "start_time": "2024-03-21T15:45:30.231921Z"
    }
   },
   "outputs": [
    {
     "data": {
      "text/plain": [
       "(array([3. , 6. , 1. , 0.5, 0.3]),\n",
       " array([[ 0., -0.,  0.,  0., -0.],\n",
       "        [-0.,  0., -0., -0., -0.],\n",
       "        [ 0., -0.,  0.,  0., -0.],\n",
       "        [ 0., -0.,  0.,  0., -0.],\n",
       "        [-0., -0., -0., -0.,  0.]]))"
      ]
     },
     "execution_count": 39,
     "metadata": {},
     "output_type": "execute_result"
    }
   ],
   "source": [
    "popt, pcov = optimize.curve_fit(model, xexp, yexp, p0=[3, 6, 1, 1, 1])\n",
    "popt, pcov"
   ]
  },
  {
   "cell_type": "code",
   "execution_count": 40,
   "id": "1fe5bdbe",
   "metadata": {
    "ExecuteTime": {
     "end_time": "2024-03-21T15:45:33.016286Z",
     "start_time": "2024-03-21T15:45:33.008876Z"
    }
   },
   "outputs": [],
   "source": [
    "xlin = np.linspace(xexp.min(), xexp.max(), 201)\n",
    "yhat = model(xlin, *popt)"
   ]
  },
  {
   "cell_type": "code",
   "execution_count": 41,
   "id": "360a57da",
   "metadata": {
    "ExecuteTime": {
     "end_time": "2024-03-21T15:45:33.381002Z",
     "start_time": "2024-03-21T15:45:33.208496Z"
    }
   },
   "outputs": [
    {
     "data": {
      "text/plain": [
       "[<matplotlib.lines.Line2D at 0x7fac71493250>]"
      ]
     },
     "execution_count": 41,
     "metadata": {},
     "output_type": "execute_result"
    },
    {
     "data": {
      "image/png": "[encoded data removed]",
      "text/plain": [
       "<Figure size 640x480 with 1 Axes>"
      ]
     },
     "metadata": {},
     "output_type": "display_data"
    }
   ],
   "source": [
    "fig, axe = plt.subplots()\n",
    "axe.scatter(xexp, yexp)\n",
    "axe.plot(xlin, yhat)"
   ]
  },
  {
   "cell_type": "code",
   "execution_count": null,
   "id": "8c1b8253",
   "metadata": {},
   "outputs": [],
   "source": []
  },
  {
   "cell_type": "code",
   "execution_count": null,
   "id": "60b0f395",
   "metadata": {},
   "outputs": [],
   "source": []
  },
  {
   "cell_type": "code",
   "execution_count": null,
   "id": "2c7d553f",
   "metadata": {},
   "outputs": [],
   "source": []
  }
 ],
 "metadata": {
  "hide_input": false,
  "kernelspec": {
   "display_name": "Python 3",
   "language": "python",
   "name": "python3"
  },
  "language_info": {
   "codemirror_mode": {
    "name": "ipython",
    "version": 3
   },
   "file_extension": ".py",
   "mimetype": "text/x-python",
   "name": "python",
   "nbconvert_exporter": "python",
   "pygments_lexer": "ipython3",
   "version": "3.10.6"
  },
  "toc": {
   "base_numbering": 1,
   "nav_menu": {},
   "number_sections": true,
   "sideBar": true,
   "skip_h1_title": false,
   "title_cell": "Table of Contents",
   "title_sidebar": "Contents",
   "toc_cell": false,
   "toc_position": {},
   "toc_section_display": true,
   "toc_window_display": false
  },
  "varInspector": {
   "cols": {
    "lenName": 16,
    "lenType": 16,
    "lenVar": 40
   },
   "kernels_config": {
    "python": {
     "delete_cmd_postfix": "",
     "delete_cmd_prefix": "del ",
     "library": "var_list.py",
     "varRefreshCmd": "print(var_dic_list())"
    },
    "r": {
     "delete_cmd_postfix": ") ",
     "delete_cmd_prefix": "rm(",
     "library": "var_list.r",
     "varRefreshCmd": "cat(var_dic_list()) "
    }
   },
   "types_to_exclude": [
    "module",
    "function",
    "builtin_function_or_method",
    "instance",
    "_Feature"
   ],
   "window_display": false
  }
 },
 "nbformat": 4,
 "nbformat_minor": 5
}
