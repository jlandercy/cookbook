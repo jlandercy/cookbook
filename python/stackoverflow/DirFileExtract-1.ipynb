{
 "cells": [
  {
   "cell_type": "code",
   "execution_count": 1,
   "id": "08213732",
   "metadata": {
    "ExecuteTime": {
     "end_time": "2022-09-17T11:40:05.727171Z",
     "start_time": "2022-09-17T11:40:05.044309Z"
    }
   },
   "outputs": [],
   "source": [
    "import io\n",
    "import pandas as pd"
   ]
  },
  {
   "cell_type": "code",
   "execution_count": 2,
   "id": "35fdeb1f",
   "metadata": {
    "ExecuteTime": {
     "end_time": "2022-09-17T11:40:05.737776Z",
     "start_time": "2022-09-17T11:40:05.732970Z"
    }
   },
   "outputs": [],
   "source": [
    "data = \"\"\"costCenter: LL63238012\n",
    "mail: shiva.gowni@LLp.com\n",
    "LLpResponsible: cn=LLf58420,ou=Personal,ou=People,ou=LLDI,o=LLP\n",
    "LLpHomeDirectory: nisMapName=auto.home,ou=RDC_AMEC_LL-CDC01,ou=Locations,ou=LLDI,o=LLP#0#Quality=economy,NisMap=llc1002:/proj/llc1002_ziz1/q,Quota=10621\n",
    "LLpHomeDirectory: nisMapName=auto.home,ou=RDC_AMEC_LL-CDC01,ou=Locations,ou=LLDI,o=LLP#0#Quality=scratKG,NisMap=llc1002:/proj/llc1002_ziz1_scratKG/q,Quota=12000,Id=scratKG\n",
    "fullName: Tulip project ziz1\n",
    "\n",
    "costCenter: MX61FRK604\n",
    "mail: ali.pina@LLp.com\n",
    "LLpResponsible: cn=LLa11826,ou=Personal,ou=People,ou=LLDI,o=LLP\n",
    "LLpHomeDirectory: nisMapName=auto.home,ou=SAT_AMEC_MX-GDL01,ou=Locations,ou=LLDI,o=LLP#0#Quality=reference,NisMap=llc0156:/proj/llc0156_zmx28home_3/q,Quota=100,Id=3\n",
    "LLpHomeDirectory: nisMapName=auto.home,ou=SAT_AMEC_MX-GDL01,ou=Locations,ou=LLDI,o=LLP#0#Quality=reference,NisMap=llc0156:/proj/llc0156_zmx28home/q,Quota=300\n",
    "LLpHomeDirectory: nisMapName=auto.home,ou=SAT_AMEC_MX-GDL01,ou=Locations,ou=LLDI,o=LLP#0#Quality=reference,NisMap=llc0156:/proj/llc0156_zmx28home_2/q,Quota=100,Id=2\n",
    "fullName: xFSL to LLDI migration\n",
    "\n",
    "\n",
    "\n",
    "costCenter: RU61FPD561\n",
    "mail: udi.landen@LLp.com\n",
    "LLpResponsible: cn=LLa09278,ou=Personal,ou=People,ou=LLDI,o=LLP\n",
    "LLpHomeDirectory: nisMapName=auto.home,ou=RDC_AMEC_LL-CDC01,ou=Locations,ou=LLDI,o=LLP#0#Quota=1,Quality=EconomyHP,NisMap=llc2002:/proj/llc2002_zru12/q\n",
    "LLpHomeDirectory: nisMapName=auto.home,ou=RDC_AMEC_LL-CDC01,ou=Locations,ou=LLDI,o=LLP#0#Quota=2800,Quality=EconomyHP,NisMap=llc1002:/proj/llc1002_zru12_analog/q,Id=analog\n",
    "LLpHomeDirectory: nisMapName=auto.home,ou=RDC_AMEC_LL-CDC01,ou=Locations,ou=LLDI,o=LLP#0#Quota=1100,Quality=EconomyHP,NisMap=llc1002:/proj/llc1002_zru12_home/q,Id=home\n",
    "LLpHomeDirectory: nisMapName=auto.home,ou=RDC_AMEC_LL-CDC01,ou=Locations,ou=LLDI,o=LLP#0#Quality=EconomyHP,NisMap=llc1002:/proj/llc1002_zru12_libddk/q,Quota=2162,Id=libddk\n",
    "LLpHomeDirectory: nisMapName=auto.home,ou=RDC_AMEC_LL-CDC01,ou=Locations,ou=LLDI,o=LLP#0#Quality=EconomyHP,NisMap=llc1002:/proj/llc1002_zru12_proj/q,Quota=1102,Id=proj\n",
    "fullName: zru12\n",
    "\n",
    "costCenter: KG63010285\n",
    "mail: adam.smith@LLp.com\n",
    "LLpHomeDirectory: nisMapName=auto.home,ou=RDC_EMEA_NL-CDC01,ou=Locations,ou=LLDI,o=LLP#0#Quality=BLLinessCriticalHP,Quota=60,NisMap=llc4008:/proj/llc4008_zuriKG/q\n",
    "fullName: Container to store ZuriKG vault\n",
    "\n",
    "\n",
    "\n",
    "costCenter: KG63010285\n",
    "mail: adam.smith@LLp.com\n",
    "LLpHomeDirectory: nisMapName=auto.home,ou=RDC_EMEA_NL-CDC01,ou=Locations,ou=LLDI,o=LLP#0#Quality=EconomyHP,Quota=1,NisMap=llc3008:/proj/llc3008_zuriKG_rme/q\n",
    "LLpHomeDirectory: nisMapName=auto.home,ou=SAT_EMEA_NL-RME01,ou=Locations,ou=LLDI,o=LLP#0#Quality=EconomyHP,Quota=30,NisMap=llc4014:/proj/llc4014_zuriKG_rme/q\n",
    "LLpHomeDirectory: nisMapName=auto.home,ou=SAT_EMEA_NL-RME01,ou=Locations,ou=LLDI,o=LLP#0#Quality=ScratKGHP,Quota=400,NisMap=llc4014:/proj/llc4014_zuriKG_rme_scratKG/q,Id=scratKG\n",
    "fullName: Project to restore  project data on the RME work on HP-UX\n",
    "\n",
    "\n",
    "\"\"\""
   ]
  },
  {
   "cell_type": "markdown",
   "id": "6bafad3f",
   "metadata": {},
   "source": [
    "https://stackoverflow.com/questions/73693154/pandas-to-extract-directory-data-into-tabular-form"
   ]
  },
  {
   "cell_type": "code",
   "execution_count": 3,
   "id": "65dd7081",
   "metadata": {
    "ExecuteTime": {
     "end_time": "2022-09-17T11:40:05.747373Z",
     "start_time": "2022-09-17T11:40:05.740663Z"
    }
   },
   "outputs": [],
   "source": [
    "def generate(data):\n",
    "    for record in data.split(\"\\n\\n\"):              # Split records based on two newlines (unix)\n",
    "        result = {}\n",
    "        for line in record.split(\"\\n\"):            # Split properties based on single newlines (unix)\n",
    "            if line:                               # Skip empty lines happening for extra or trailing newlines\n",
    "                key, *value = line.split(\": \")     # Tolerant to lines with more than a single ´: ´ (*values)\n",
    "                value = \": \".join(value)           # Recover original value if more than a single (`: `)\n",
    "                if key in result:\n",
    "                    result[key] += \";\" + value\n",
    "                else:\n",
    "                    result[key] = value\n",
    "        if result:                                  # Don't yield empty results\n",
    "            yield result"
   ]
  },
  {
   "cell_type": "code",
   "execution_count": 4,
   "id": "5225b753",
   "metadata": {
    "ExecuteTime": {
     "end_time": "2022-09-17T11:40:05.760816Z",
     "start_time": "2022-09-17T11:40:05.750302Z"
    }
   },
   "outputs": [],
   "source": [
    "frame = pd.DataFrame(generate(data))"
   ]
  },
  {
   "cell_type": "code",
   "execution_count": 5,
   "id": "dd42ad3e",
   "metadata": {
    "ExecuteTime": {
     "end_time": "2022-09-17T11:40:05.774243Z",
     "start_time": "2022-09-17T11:40:05.762993Z"
    }
   },
   "outputs": [],
   "source": [
    "\n",
    "frame[\"responsible\"] = frame[\"LLpResponsible\"].str.extract(\"cn=([\\w]*)\")\n",
    "frame[\"location\"] = frame[\"LLpHomeDirectory\"].str.extract(\"ou=([\\w_\\-]*)\")\n",
    "frame[\"directory\"] = frame[\"LLpHomeDirectory\"].str.findall(\"NisMap=\\w+:([\\w_\\-/]*)\")"
   ]
  },
  {
   "cell_type": "code",
   "execution_count": 6,
   "id": "826fab84",
   "metadata": {
    "ExecuteTime": {
     "end_time": "2022-09-17T11:40:05.795116Z",
     "start_time": "2022-09-17T11:40:05.776670Z"
    }
   },
   "outputs": [
    {
     "data": {
      "text/plain": [
       "array(['nisMapName=auto.home,ou=RDC_AMEC_LL-CDC01,ou=Locations,ou=LLDI,o=LLP#0#Quality=economy,NisMap=llc1002:/proj/llc1002_ziz1/q,Quota=10621;nisMapName=auto.home,ou=RDC_AMEC_LL-CDC01,ou=Locations,ou=LLDI,o=LLP#0#Quality=scratKG,NisMap=llc1002:/proj/llc1002_ziz1_scratKG/q,Quota=12000,Id=scratKG'],\n",
       "      dtype=object)"
      ]
     },
     "execution_count": 6,
     "metadata": {},
     "output_type": "execute_result"
    }
   ],
   "source": [
    "frame.loc[0,[\"LLpHomeDirectory\"]].values"
   ]
  },
  {
   "cell_type": "raw",
   "id": "7889bd59",
   "metadata": {},
   "source": [
    "costCenter      LLCResponsible          fullName                mail                    LLCHomeDirectory                        Location\n",
    "\n",
    "KR000001        llcq05075               Entertainment account   jhaboo.udalt@LLC.com    /proj/LLC4008_teja_rafoo_cache/q        LLC_EMEA_NL-LDC01\n",
    "                                                                                        /proj/LLC3008_teja_rafoo/q\n",
    "KR000002        llcq05076               Entertainment account   jhaboo.udalt@LLC.com    /proj/LLC4008_chourya_rafoo_cache/q     LLC_EMEA_NL-LDC02\n",
    "                                                                                        /proj/LLC3008_chourya_rafoo/q\n",
    "                                                    \n"
   ]
  },
  {
   "cell_type": "code",
   "execution_count": 7,
   "id": "ad7539df",
   "metadata": {
    "ExecuteTime": {
     "end_time": "2022-09-17T11:40:05.822047Z",
     "start_time": "2022-09-17T11:40:05.799512Z"
    }
   },
   "outputs": [
    {
     "data": {
      "text/html": [
       "<div>\n",
       "<style scoped>\n",
       "    .dataframe tbody tr th:only-of-type {\n",
       "        vertical-align: middle;\n",
       "    }\n",
       "\n",
       "    .dataframe tbody tr th {\n",
       "        vertical-align: top;\n",
       "    }\n",
       "\n",
       "    .dataframe thead th {\n",
       "        text-align: right;\n",
       "    }\n",
       "</style>\n",
       "<table border=\"1\" class=\"dataframe\">\n",
       "  <thead>\n",
       "    <tr style=\"text-align: right;\">\n",
       "      <th></th>\n",
       "      <th>costCenter</th>\n",
       "      <th>mail</th>\n",
       "      <th>LLpResponsible</th>\n",
       "      <th>LLpHomeDirectory</th>\n",
       "      <th>fullName</th>\n",
       "      <th>responsible</th>\n",
       "      <th>location</th>\n",
       "      <th>directory</th>\n",
       "    </tr>\n",
       "  </thead>\n",
       "  <tbody>\n",
       "    <tr>\n",
       "      <th>0</th>\n",
       "      <td>LL63238012</td>\n",
       "      <td>shiva.gowni@LLp.com</td>\n",
       "      <td>cn=LLf58420,ou=Personal,ou=People,ou=LLDI,o=LLP</td>\n",
       "      <td>nisMapName=auto.home,ou=RDC_AMEC_LL-CDC01,ou=L...</td>\n",
       "      <td>Tulip project ziz1</td>\n",
       "      <td>LLf58420</td>\n",
       "      <td>RDC_AMEC_LL-CDC01</td>\n",
       "      <td>[/proj/llc1002_ziz1/q, /proj/llc1002_ziz1_scra...</td>\n",
       "    </tr>\n",
       "    <tr>\n",
       "      <th>1</th>\n",
       "      <td>MX61FRK604</td>\n",
       "      <td>ali.pina@LLp.com</td>\n",
       "      <td>cn=LLa11826,ou=Personal,ou=People,ou=LLDI,o=LLP</td>\n",
       "      <td>nisMapName=auto.home,ou=SAT_AMEC_MX-GDL01,ou=L...</td>\n",
       "      <td>xFSL to LLDI migration</td>\n",
       "      <td>LLa11826</td>\n",
       "      <td>SAT_AMEC_MX-GDL01</td>\n",
       "      <td>[/proj/llc0156_zmx28home_3/q, /proj/llc0156_zm...</td>\n",
       "    </tr>\n",
       "    <tr>\n",
       "      <th>2</th>\n",
       "      <td>RU61FPD561</td>\n",
       "      <td>udi.landen@LLp.com</td>\n",
       "      <td>cn=LLa09278,ou=Personal,ou=People,ou=LLDI,o=LLP</td>\n",
       "      <td>nisMapName=auto.home,ou=RDC_AMEC_LL-CDC01,ou=L...</td>\n",
       "      <td>zru12</td>\n",
       "      <td>LLa09278</td>\n",
       "      <td>RDC_AMEC_LL-CDC01</td>\n",
       "      <td>[/proj/llc2002_zru12/q, /proj/llc1002_zru12_an...</td>\n",
       "    </tr>\n",
       "    <tr>\n",
       "      <th>3</th>\n",
       "      <td>KG63010285</td>\n",
       "      <td>adam.smith@LLp.com</td>\n",
       "      <td>NaN</td>\n",
       "      <td>nisMapName=auto.home,ou=RDC_EMEA_NL-CDC01,ou=L...</td>\n",
       "      <td>Container to store ZuriKG vault</td>\n",
       "      <td>NaN</td>\n",
       "      <td>RDC_EMEA_NL-CDC01</td>\n",
       "      <td>[/proj/llc4008_zuriKG/q]</td>\n",
       "    </tr>\n",
       "    <tr>\n",
       "      <th>4</th>\n",
       "      <td>KG63010285</td>\n",
       "      <td>adam.smith@LLp.com</td>\n",
       "      <td>NaN</td>\n",
       "      <td>nisMapName=auto.home,ou=RDC_EMEA_NL-CDC01,ou=L...</td>\n",
       "      <td>Project to restore  project data on the RME wo...</td>\n",
       "      <td>NaN</td>\n",
       "      <td>RDC_EMEA_NL-CDC01</td>\n",
       "      <td>[/proj/llc3008_zuriKG_rme/q, /proj/llc4014_zur...</td>\n",
       "    </tr>\n",
       "  </tbody>\n",
       "</table>\n",
       "</div>"
      ],
      "text/plain": [
       "   costCenter                 mail  \\\n",
       "0  LL63238012  shiva.gowni@LLp.com   \n",
       "1  MX61FRK604     ali.pina@LLp.com   \n",
       "2  RU61FPD561   udi.landen@LLp.com   \n",
       "3  KG63010285   adam.smith@LLp.com   \n",
       "4  KG63010285   adam.smith@LLp.com   \n",
       "\n",
       "                                    LLpResponsible  \\\n",
       "0  cn=LLf58420,ou=Personal,ou=People,ou=LLDI,o=LLP   \n",
       "1  cn=LLa11826,ou=Personal,ou=People,ou=LLDI,o=LLP   \n",
       "2  cn=LLa09278,ou=Personal,ou=People,ou=LLDI,o=LLP   \n",
       "3                                              NaN   \n",
       "4                                              NaN   \n",
       "\n",
       "                                    LLpHomeDirectory  \\\n",
       "0  nisMapName=auto.home,ou=RDC_AMEC_LL-CDC01,ou=L...   \n",
       "1  nisMapName=auto.home,ou=SAT_AMEC_MX-GDL01,ou=L...   \n",
       "2  nisMapName=auto.home,ou=RDC_AMEC_LL-CDC01,ou=L...   \n",
       "3  nisMapName=auto.home,ou=RDC_EMEA_NL-CDC01,ou=L...   \n",
       "4  nisMapName=auto.home,ou=RDC_EMEA_NL-CDC01,ou=L...   \n",
       "\n",
       "                                            fullName responsible  \\\n",
       "0                                 Tulip project ziz1    LLf58420   \n",
       "1                             xFSL to LLDI migration    LLa11826   \n",
       "2                                              zru12    LLa09278   \n",
       "3                    Container to store ZuriKG vault         NaN   \n",
       "4  Project to restore  project data on the RME wo...         NaN   \n",
       "\n",
       "            location                                          directory  \n",
       "0  RDC_AMEC_LL-CDC01  [/proj/llc1002_ziz1/q, /proj/llc1002_ziz1_scra...  \n",
       "1  SAT_AMEC_MX-GDL01  [/proj/llc0156_zmx28home_3/q, /proj/llc0156_zm...  \n",
       "2  RDC_AMEC_LL-CDC01  [/proj/llc2002_zru12/q, /proj/llc1002_zru12_an...  \n",
       "3  RDC_EMEA_NL-CDC01                           [/proj/llc4008_zuriKG/q]  \n",
       "4  RDC_EMEA_NL-CDC01  [/proj/llc3008_zuriKG_rme/q, /proj/llc4014_zur...  "
      ]
     },
     "execution_count": 7,
     "metadata": {},
     "output_type": "execute_result"
    }
   ],
   "source": [
    "frame"
   ]
  },
  {
   "cell_type": "code",
   "execution_count": 13,
   "id": "c8736f8e",
   "metadata": {
    "ExecuteTime": {
     "end_time": "2022-09-17T11:40:56.214877Z",
     "start_time": "2022-09-17T11:40:56.180932Z"
    }
   },
   "outputs": [
    {
     "name": "stdout",
     "output_type": "stream",
     "text": [
      "   costCenter responsible                                          directory\n",
      "0  LL63238012    LLf58420  [/proj/llc1002_ziz1/q, /proj/llc1002_ziz1_scra...\n",
      "1  MX61FRK604    LLa11826  [/proj/llc0156_zmx28home_3/q, /proj/llc0156_zm...\n",
      "2  RU61FPD561    LLa09278  [/proj/llc2002_zru12/q, /proj/llc1002_zru12_an...\n",
      "3  KG63010285         NaN                           [/proj/llc4008_zuriKG/q]\n",
      "4  KG63010285         NaN  [/proj/llc3008_zuriKG_rme/q, /proj/llc4014_zur...\n"
     ]
    }
   ],
   "source": [
    "print(frame[[\"costCenter\", \"responsible\", \"directory\"]])"
   ]
  },
  {
   "cell_type": "code",
   "execution_count": 8,
   "id": "75823183",
   "metadata": {
    "ExecuteTime": {
     "end_time": "2022-09-17T11:40:05.842331Z",
     "start_time": "2022-09-17T11:40:05.825327Z"
    }
   },
   "outputs": [
    {
     "name": "stdout",
     "output_type": "stream",
     "text": [
      "   costCenter responsible                           directory\n",
      "0  LL63238012    LLf58420                /proj/llc1002_ziz1/q\n",
      "0  LL63238012    LLf58420        /proj/llc1002_ziz1_scratKG/q\n",
      "1  MX61FRK604    LLa11826         /proj/llc0156_zmx28home_3/q\n",
      "1  MX61FRK604    LLa11826           /proj/llc0156_zmx28home/q\n",
      "1  MX61FRK604    LLa11826         /proj/llc0156_zmx28home_2/q\n",
      "2  RU61FPD561    LLa09278               /proj/llc2002_zru12/q\n",
      "2  RU61FPD561    LLa09278        /proj/llc1002_zru12_analog/q\n",
      "2  RU61FPD561    LLa09278          /proj/llc1002_zru12_home/q\n",
      "2  RU61FPD561    LLa09278        /proj/llc1002_zru12_libddk/q\n",
      "2  RU61FPD561    LLa09278          /proj/llc1002_zru12_proj/q\n",
      "3  KG63010285         NaN              /proj/llc4008_zuriKG/q\n",
      "4  KG63010285         NaN          /proj/llc3008_zuriKG_rme/q\n",
      "4  KG63010285         NaN          /proj/llc4014_zuriKG_rme/q\n",
      "4  KG63010285         NaN  /proj/llc4014_zuriKG_rme_scratKG/q\n"
     ]
    }
   ],
   "source": [
    "print(frame.explode(\"directory\")[[\"costCenter\", \"responsible\", \"directory\"]])"
   ]
  },
  {
   "cell_type": "code",
   "execution_count": null,
   "id": "c751fe14",
   "metadata": {},
   "outputs": [],
   "source": []
  },
  {
   "cell_type": "code",
   "execution_count": 9,
   "id": "af3eb287",
   "metadata": {
    "ExecuteTime": {
     "end_time": "2022-09-17T11:40:05.848647Z",
     "start_time": "2022-09-17T11:40:05.845475Z"
    }
   },
   "outputs": [],
   "source": [
    "#frame[\"username\"] = frame[\"LLCAutoSudoRole\"].str.extract(\"cn=([\\w]*)\")"
   ]
  },
  {
   "cell_type": "code",
   "execution_count": 10,
   "id": "e0a7199b",
   "metadata": {
    "ExecuteTime": {
     "end_time": "2022-09-17T11:40:05.865519Z",
     "start_time": "2022-09-17T11:40:05.850789Z"
    }
   },
   "outputs": [
    {
     "data": {
      "text/html": [
       "<div>\n",
       "<style scoped>\n",
       "    .dataframe tbody tr th:only-of-type {\n",
       "        vertical-align: middle;\n",
       "    }\n",
       "\n",
       "    .dataframe tbody tr th {\n",
       "        vertical-align: top;\n",
       "    }\n",
       "\n",
       "    .dataframe thead th {\n",
       "        text-align: right;\n",
       "    }\n",
       "</style>\n",
       "<table border=\"1\" class=\"dataframe\">\n",
       "  <thead>\n",
       "    <tr style=\"text-align: right;\">\n",
       "      <th></th>\n",
       "      <th>costCenter</th>\n",
       "      <th>mail</th>\n",
       "      <th>LLpResponsible</th>\n",
       "      <th>LLpHomeDirectory</th>\n",
       "      <th>fullName</th>\n",
       "      <th>responsible</th>\n",
       "      <th>location</th>\n",
       "      <th>directory</th>\n",
       "    </tr>\n",
       "  </thead>\n",
       "  <tbody>\n",
       "    <tr>\n",
       "      <th>0</th>\n",
       "      <td>LL63238012</td>\n",
       "      <td>shiva.gowni@LLp.com</td>\n",
       "      <td>cn=LLf58420,ou=Personal,ou=People,ou=LLDI,o=LLP</td>\n",
       "      <td>nisMapName=auto.home,ou=RDC_AMEC_LL-CDC01,ou=L...</td>\n",
       "      <td>Tulip project ziz1</td>\n",
       "      <td>LLf58420</td>\n",
       "      <td>RDC_AMEC_LL-CDC01</td>\n",
       "      <td>[/proj/llc1002_ziz1/q, /proj/llc1002_ziz1_scra...</td>\n",
       "    </tr>\n",
       "    <tr>\n",
       "      <th>1</th>\n",
       "      <td>MX61FRK604</td>\n",
       "      <td>ali.pina@LLp.com</td>\n",
       "      <td>cn=LLa11826,ou=Personal,ou=People,ou=LLDI,o=LLP</td>\n",
       "      <td>nisMapName=auto.home,ou=SAT_AMEC_MX-GDL01,ou=L...</td>\n",
       "      <td>xFSL to LLDI migration</td>\n",
       "      <td>LLa11826</td>\n",
       "      <td>SAT_AMEC_MX-GDL01</td>\n",
       "      <td>[/proj/llc0156_zmx28home_3/q, /proj/llc0156_zm...</td>\n",
       "    </tr>\n",
       "    <tr>\n",
       "      <th>2</th>\n",
       "      <td>RU61FPD561</td>\n",
       "      <td>udi.landen@LLp.com</td>\n",
       "      <td>cn=LLa09278,ou=Personal,ou=People,ou=LLDI,o=LLP</td>\n",
       "      <td>nisMapName=auto.home,ou=RDC_AMEC_LL-CDC01,ou=L...</td>\n",
       "      <td>zru12</td>\n",
       "      <td>LLa09278</td>\n",
       "      <td>RDC_AMEC_LL-CDC01</td>\n",
       "      <td>[/proj/llc2002_zru12/q, /proj/llc1002_zru12_an...</td>\n",
       "    </tr>\n",
       "    <tr>\n",
       "      <th>3</th>\n",
       "      <td>KG63010285</td>\n",
       "      <td>adam.smith@LLp.com</td>\n",
       "      <td>NaN</td>\n",
       "      <td>nisMapName=auto.home,ou=RDC_EMEA_NL-CDC01,ou=L...</td>\n",
       "      <td>Container to store ZuriKG vault</td>\n",
       "      <td>NaN</td>\n",
       "      <td>RDC_EMEA_NL-CDC01</td>\n",
       "      <td>[/proj/llc4008_zuriKG/q]</td>\n",
       "    </tr>\n",
       "    <tr>\n",
       "      <th>4</th>\n",
       "      <td>KG63010285</td>\n",
       "      <td>adam.smith@LLp.com</td>\n",
       "      <td>NaN</td>\n",
       "      <td>nisMapName=auto.home,ou=RDC_EMEA_NL-CDC01,ou=L...</td>\n",
       "      <td>Project to restore  project data on the RME wo...</td>\n",
       "      <td>NaN</td>\n",
       "      <td>RDC_EMEA_NL-CDC01</td>\n",
       "      <td>[/proj/llc3008_zuriKG_rme/q, /proj/llc4014_zur...</td>\n",
       "    </tr>\n",
       "  </tbody>\n",
       "</table>\n",
       "</div>"
      ],
      "text/plain": [
       "   costCenter                 mail  \\\n",
       "0  LL63238012  shiva.gowni@LLp.com   \n",
       "1  MX61FRK604     ali.pina@LLp.com   \n",
       "2  RU61FPD561   udi.landen@LLp.com   \n",
       "3  KG63010285   adam.smith@LLp.com   \n",
       "4  KG63010285   adam.smith@LLp.com   \n",
       "\n",
       "                                    LLpResponsible  \\\n",
       "0  cn=LLf58420,ou=Personal,ou=People,ou=LLDI,o=LLP   \n",
       "1  cn=LLa11826,ou=Personal,ou=People,ou=LLDI,o=LLP   \n",
       "2  cn=LLa09278,ou=Personal,ou=People,ou=LLDI,o=LLP   \n",
       "3                                              NaN   \n",
       "4                                              NaN   \n",
       "\n",
       "                                    LLpHomeDirectory  \\\n",
       "0  nisMapName=auto.home,ou=RDC_AMEC_LL-CDC01,ou=L...   \n",
       "1  nisMapName=auto.home,ou=SAT_AMEC_MX-GDL01,ou=L...   \n",
       "2  nisMapName=auto.home,ou=RDC_AMEC_LL-CDC01,ou=L...   \n",
       "3  nisMapName=auto.home,ou=RDC_EMEA_NL-CDC01,ou=L...   \n",
       "4  nisMapName=auto.home,ou=RDC_EMEA_NL-CDC01,ou=L...   \n",
       "\n",
       "                                            fullName responsible  \\\n",
       "0                                 Tulip project ziz1    LLf58420   \n",
       "1                             xFSL to LLDI migration    LLa11826   \n",
       "2                                              zru12    LLa09278   \n",
       "3                    Container to store ZuriKG vault         NaN   \n",
       "4  Project to restore  project data on the RME wo...         NaN   \n",
       "\n",
       "            location                                          directory  \n",
       "0  RDC_AMEC_LL-CDC01  [/proj/llc1002_ziz1/q, /proj/llc1002_ziz1_scra...  \n",
       "1  SAT_AMEC_MX-GDL01  [/proj/llc0156_zmx28home_3/q, /proj/llc0156_zm...  \n",
       "2  RDC_AMEC_LL-CDC01  [/proj/llc2002_zru12/q, /proj/llc1002_zru12_an...  \n",
       "3  RDC_EMEA_NL-CDC01                           [/proj/llc4008_zuriKG/q]  \n",
       "4  RDC_EMEA_NL-CDC01  [/proj/llc3008_zuriKG_rme/q, /proj/llc4014_zur...  "
      ]
     },
     "execution_count": 10,
     "metadata": {},
     "output_type": "execute_result"
    }
   ],
   "source": [
    "frame"
   ]
  },
  {
   "cell_type": "code",
   "execution_count": null,
   "id": "05b8d7d4",
   "metadata": {},
   "outputs": [],
   "source": []
  }
 ],
 "metadata": {
  "hide_input": false,
  "kernelspec": {
   "display_name": "Python 3",
   "language": "python",
   "name": "python3"
  },
  "language_info": {
   "codemirror_mode": {
    "name": "ipython",
    "version": 3
   },
   "file_extension": ".py",
   "mimetype": "text/x-python",
   "name": "python",
   "nbconvert_exporter": "python",
   "pygments_lexer": "ipython3",
   "version": "3.6.9"
  },
  "toc": {
   "base_numbering": 1,
   "nav_menu": {},
   "number_sections": true,
   "sideBar": true,
   "skip_h1_title": false,
   "title_cell": "Table of Contents",
   "title_sidebar": "Contents",
   "toc_cell": false,
   "toc_position": {},
   "toc_section_display": true,
   "toc_window_display": false
  },
  "varInspector": {
   "cols": {
    "lenName": 16,
    "lenType": 16,
    "lenVar": 40
   },
   "kernels_config": {
    "python": {
     "delete_cmd_postfix": "",
     "delete_cmd_prefix": "del ",
     "library": "var_list.py",
     "varRefreshCmd": "print(var_dic_list())"
    },
    "r": {
     "delete_cmd_postfix": ") ",
     "delete_cmd_prefix": "rm(",
     "library": "var_list.r",
     "varRefreshCmd": "cat(var_dic_list()) "
    }
   },
   "types_to_exclude": [
    "module",
    "function",
    "builtin_function_or_method",
    "instance",
    "_Feature"
   ],
   "window_display": false
  }
 },
 "nbformat": 4,
 "nbformat_minor": 5
}
