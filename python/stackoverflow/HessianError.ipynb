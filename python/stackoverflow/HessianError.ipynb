{
 "cells": [
  {
   "cell_type": "code",
   "execution_count": 1,
   "id": "010fceca",
   "metadata": {
    "ExecuteTime": {
     "end_time": "2024-03-12T10:05:11.350158Z",
     "start_time": "2024-03-12T10:05:10.773173Z"
    }
   },
   "outputs": [],
   "source": [
    "import inspect\n",
    "import numpy as np\n",
    "import numdifftools as nd\n",
    "from scipy import optimize"
   ]
  },
  {
   "cell_type": "markdown",
   "id": "c7a29df0",
   "metadata": {},
   "source": [
    "https://stackoverflow.com/questions/78145811/python-scipy-optimize-minimize-trust-constr-and-hessian-output/78146124#78146124"
   ]
  },
  {
   "cell_type": "code",
   "execution_count": 2,
   "id": "0ca0c436",
   "metadata": {
    "ExecuteTime": {
     "end_time": "2024-03-12T10:05:11.362128Z",
     "start_time": "2024-03-12T10:05:11.353311Z"
    }
   },
   "outputs": [],
   "source": [
    "def model(x, a, b):\n",
    "    return a * x + b"
   ]
  },
  {
   "cell_type": "code",
   "execution_count": null,
   "id": "94821513",
   "metadata": {},
   "outputs": [],
   "source": []
  },
  {
   "cell_type": "code",
   "execution_count": 3,
   "id": "4e49bd43",
   "metadata": {
    "ExecuteTime": {
     "end_time": "2024-03-12T10:05:11.377402Z",
     "start_time": "2024-03-12T10:05:11.366802Z"
    }
   },
   "outputs": [],
   "source": [
    "def loss_factory(func, x, y, s):\n",
    "    ddof = len(inspect.signature(func).parameters) - 1\n",
    "    def wrapped(p):\n",
    "        return np.sum(np.power((y - func(x, *p)) / s, 2)) / (x.size - ddof)\n",
    "    return wrapped"
   ]
  },
  {
   "cell_type": "code",
   "execution_count": 4,
   "id": "6c46a8d7",
   "metadata": {
    "ExecuteTime": {
     "end_time": "2024-03-12T10:05:11.394173Z",
     "start_time": "2024-03-12T10:05:11.383696Z"
    }
   },
   "outputs": [],
   "source": [
    "np.random.seed(123456)\n",
    "x = np.linspace(-1, 1, 30)\n",
    "s = 0.1 * np.ones_like(x)\n",
    "y = model(x, 2, 3)\n",
    "n = s * np.random.normal(size=x.size)\n",
    "y += n"
   ]
  },
  {
   "cell_type": "code",
   "execution_count": 5,
   "id": "e4fa6c7e",
   "metadata": {
    "ExecuteTime": {
     "end_time": "2024-03-12T10:05:11.404132Z",
     "start_time": "2024-03-12T10:05:11.397976Z"
    }
   },
   "outputs": [],
   "source": [
    "loss = loss_factory(model, x, y, s)"
   ]
  },
  {
   "cell_type": "code",
   "execution_count": 6,
   "id": "a74b715a",
   "metadata": {
    "ExecuteTime": {
     "end_time": "2024-03-12T10:05:11.429681Z",
     "start_time": "2024-03-12T10:05:11.406483Z"
    }
   },
   "outputs": [
    {
     "data": {
      "text/plain": [
       "array([0.1, 0.1, 0.1, 0.1, 0.1, 0.1, 0.1, 0.1, 0.1, 0.1, 0.1, 0.1, 0.1,\n",
       "       0.1, 0.1, 0.1, 0.1, 0.1, 0.1, 0.1, 0.1, 0.1, 0.1, 0.1, 0.1, 0.1,\n",
       "       0.1, 0.1, 0.1, 0.1])"
      ]
     },
     "execution_count": 6,
     "metadata": {},
     "output_type": "execute_result"
    }
   ],
   "source": [
    "s"
   ]
  },
  {
   "cell_type": "code",
   "execution_count": 7,
   "id": "4dfed8bc",
   "metadata": {
    "ExecuteTime": {
     "end_time": "2024-03-12T10:05:11.556442Z",
     "start_time": "2024-03-12T10:05:11.432168Z"
    }
   },
   "outputs": [
    {
     "data": {
      "text/plain": [
       "         cg_niter: 22\n",
       "     cg_stop_cond: 4\n",
       "           constr: []\n",
       "      constr_nfev: []\n",
       "      constr_nhev: []\n",
       "      constr_njev: []\n",
       "   constr_penalty: 1.0\n",
       " constr_violation: 0\n",
       "   execution_time: 0.1094207763671875\n",
       "              fun: 0.7769476219857044\n",
       "             grad: array([2.24757227e-08, 9.80527794e-08])\n",
       "              jac: []\n",
       "  lagrangian_grad: array([2.24757227e-08, 9.80527794e-08])\n",
       "          message: '`xtol` termination condition is satisfied.'\n",
       "           method: 'equality_constrained_sqp'\n",
       "             nfev: 39\n",
       "             nhev: 0\n",
       "              nit: 19\n",
       "            niter: 19\n",
       "             njev: 13\n",
       "       optimality: 9.805277940760494e-08\n",
       "           status: 2\n",
       "          success: True\n",
       "        tr_radius: 7.604991998619307e-09\n",
       "                v: []\n",
       "                x: array([1.98896756, 2.96343096])"
      ]
     },
     "execution_count": 7,
     "metadata": {},
     "output_type": "execute_result"
    }
   ],
   "source": [
    "sol = optimize.minimize(loss, x0=[1., 1.], method=\"trust-constr\")\n",
    "sol"
   ]
  },
  {
   "cell_type": "code",
   "execution_count": 8,
   "id": "7b6db066",
   "metadata": {
    "ExecuteTime": {
     "end_time": "2024-03-12T10:05:11.589735Z",
     "start_time": "2024-03-12T10:05:11.563718Z"
    }
   },
   "outputs": [
    {
     "data": {
      "text/plain": [
       "array([[ 7.63546798e+01, -1.22821246e-14],\n",
       "       [-1.22821246e-14,  2.14285714e+02]])"
      ]
     },
     "execution_count": 8,
     "metadata": {},
     "output_type": "execute_result"
    }
   ],
   "source": [
    "H = nd.Hessian(loss)(sol.x)\n",
    "H"
   ]
  },
  {
   "cell_type": "code",
   "execution_count": 9,
   "id": "2bcfe658",
   "metadata": {
    "ExecuteTime": {
     "end_time": "2024-03-12T10:05:11.611882Z",
     "start_time": "2024-03-12T10:05:11.599089Z"
    }
   },
   "outputs": [
    {
     "data": {
      "text/plain": [
       "array([[1.30967742e-02, 7.50662328e-19],\n",
       "       [7.50662328e-19, 4.66666667e-03]])"
      ]
     },
     "execution_count": 9,
     "metadata": {},
     "output_type": "execute_result"
    }
   ],
   "source": [
    "C = np.linalg.inv(H)\n",
    "C"
   ]
  },
  {
   "cell_type": "code",
   "execution_count": 10,
   "id": "3171c41c",
   "metadata": {
    "ExecuteTime": {
     "end_time": "2024-03-12T10:05:11.634723Z",
     "start_time": "2024-03-12T10:05:11.623584Z"
    }
   },
   "outputs": [
    {
     "data": {
      "text/plain": [
       "array([0.11444114, 0.06831301])"
      ]
     },
     "execution_count": 10,
     "metadata": {},
     "output_type": "execute_result"
    }
   ],
   "source": [
    "sy = np.sqrt(np.diag(C))\n",
    "sy"
   ]
  },
  {
   "cell_type": "code",
   "execution_count": null,
   "id": "19b771f7",
   "metadata": {},
   "outputs": [],
   "source": []
  },
  {
   "cell_type": "code",
   "execution_count": null,
   "id": "b3552187",
   "metadata": {},
   "outputs": [],
   "source": []
  },
  {
   "cell_type": "code",
   "execution_count": null,
   "id": "941b5f5a",
   "metadata": {},
   "outputs": [],
   "source": []
  }
 ],
 "metadata": {
  "hide_input": false,
  "kernelspec": {
   "display_name": "Python 3",
   "language": "python",
   "name": "python3"
  },
  "language_info": {
   "codemirror_mode": {
    "name": "ipython",
    "version": 3
   },
   "file_extension": ".py",
   "mimetype": "text/x-python",
   "name": "python",
   "nbconvert_exporter": "python",
   "pygments_lexer": "ipython3",
   "version": "3.10.6"
  },
  "toc": {
   "base_numbering": 1,
   "nav_menu": {},
   "number_sections": true,
   "sideBar": true,
   "skip_h1_title": false,
   "title_cell": "Table of Contents",
   "title_sidebar": "Contents",
   "toc_cell": false,
   "toc_position": {},
   "toc_section_display": true,
   "toc_window_display": false
  },
  "varInspector": {
   "cols": {
    "lenName": 16,
    "lenType": 16,
    "lenVar": 40
   },
   "kernels_config": {
    "python": {
     "delete_cmd_postfix": "",
     "delete_cmd_prefix": "del ",
     "library": "var_list.py",
     "varRefreshCmd": "print(var_dic_list())"
    },
    "r": {
     "delete_cmd_postfix": ") ",
     "delete_cmd_prefix": "rm(",
     "library": "var_list.r",
     "varRefreshCmd": "cat(var_dic_list()) "
    }
   },
   "types_to_exclude": [
    "module",
    "function",
    "builtin_function_or_method",
    "instance",
    "_Feature"
   ],
   "window_display": false
  }
 },
 "nbformat": 4,
 "nbformat_minor": 5
}
