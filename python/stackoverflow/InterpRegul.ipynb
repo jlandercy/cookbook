{
 "cells": [
  {
   "cell_type": "code",
   "execution_count": 1,
   "id": "baa8ba57",
   "metadata": {
    "ExecuteTime": {
     "end_time": "2024-03-28T10:51:48.178064Z",
     "start_time": "2024-03-28T10:51:47.607882Z"
    }
   },
   "outputs": [],
   "source": [
    "import numpy as np\n",
    "from scipy import interpolate"
   ]
  },
  {
   "cell_type": "code",
   "execution_count": 2,
   "id": "860e3719",
   "metadata": {
    "ExecuteTime": {
     "end_time": "2024-03-28T10:51:48.194798Z",
     "start_time": "2024-03-28T10:51:48.186038Z"
    }
   },
   "outputs": [],
   "source": [
    "def model(x, y, z):\n",
    "    return np.sqrt(x ** 2 + y ** 2 + z ** 2)"
   ]
  },
  {
   "cell_type": "code",
   "execution_count": 15,
   "id": "edbfcab2",
   "metadata": {
    "ExecuteTime": {
     "end_time": "2024-03-28T10:57:48.604402Z",
     "start_time": "2024-03-28T10:57:48.592417Z"
    }
   },
   "outputs": [],
   "source": [
    "x = np.linspace(-1, 1, 200)\n",
    "y = np.linspace(-1, 1, 201)\n",
    "z = np.linspace(-1, 1, 202)"
   ]
  },
  {
   "cell_type": "code",
   "execution_count": 16,
   "id": "17c99e83",
   "metadata": {
    "ExecuteTime": {
     "end_time": "2024-03-28T10:57:49.330640Z",
     "start_time": "2024-03-28T10:57:49.144560Z"
    }
   },
   "outputs": [],
   "source": [
    "X, Y, Z = np.meshgrid(x, y, z, indexing=\"ij\")"
   ]
  },
  {
   "cell_type": "code",
   "execution_count": 17,
   "id": "17d2487c",
   "metadata": {
    "ExecuteTime": {
     "end_time": "2024-03-28T10:57:50.423591Z",
     "start_time": "2024-03-28T10:57:49.882957Z"
    }
   },
   "outputs": [],
   "source": [
    "F = model(X, Y, Z)"
   ]
  },
  {
   "cell_type": "code",
   "execution_count": 18,
   "id": "e261db57",
   "metadata": {
    "ExecuteTime": {
     "end_time": "2024-03-28T10:57:51.167274Z",
     "start_time": "2024-03-28T10:57:51.156114Z"
    }
   },
   "outputs": [],
   "source": [
    "interpolator = interpolate.RegularGridInterpolator((x, y, z), F)"
   ]
  },
  {
   "cell_type": "code",
   "execution_count": 19,
   "id": "09db2af3",
   "metadata": {
    "ExecuteTime": {
     "end_time": "2024-03-28T10:57:51.286066Z",
     "start_time": "2024-03-28T10:57:51.281213Z"
    }
   },
   "outputs": [],
   "source": [
    "points = np.array([\n",
    "    [0, 0, 0],\n",
    "    [0, 0, 1],\n",
    "    [1, 0, 0],\n",
    "    [0, 1, 0],\n",
    "])"
   ]
  },
  {
   "cell_type": "code",
   "execution_count": 20,
   "id": "a74821e3",
   "metadata": {
    "ExecuteTime": {
     "end_time": "2024-03-28T10:57:51.416889Z",
     "start_time": "2024-03-28T10:57:51.402039Z"
    }
   },
   "outputs": [
    {
     "data": {
      "text/plain": [
       "array([0.00707133, 1.00001263, 1.00001238, 1.000025  ])"
      ]
     },
     "execution_count": 20,
     "metadata": {},
     "output_type": "execute_result"
    }
   ],
   "source": [
    "interpolator(points)"
   ]
  },
  {
   "cell_type": "code",
   "execution_count": 23,
   "id": "222f75b5",
   "metadata": {
    "ExecuteTime": {
     "end_time": "2024-03-28T10:58:04.905915Z",
     "start_time": "2024-03-28T10:58:04.899096Z"
    }
   },
   "outputs": [
    {
     "data": {
      "text/plain": [
       "61.9537353515625"
      ]
     },
     "execution_count": 23,
     "metadata": {},
     "output_type": "execute_result"
    }
   ],
   "source": [
    "F.nbytes / 2**20"
   ]
  },
  {
   "cell_type": "code",
   "execution_count": null,
   "id": "f319c692",
   "metadata": {
    "ExecuteTime": {
     "end_time": "2024-03-28T10:55:16.625428Z",
     "start_time": "2024-03-28T10:55:16.620963Z"
    }
   },
   "outputs": [],
   "source": []
  },
  {
   "cell_type": "code",
   "execution_count": null,
   "id": "e38972d1",
   "metadata": {},
   "outputs": [],
   "source": []
  }
 ],
 "metadata": {
  "hide_input": false,
  "kernelspec": {
   "display_name": "Python 3",
   "language": "python",
   "name": "python3"
  },
  "language_info": {
   "codemirror_mode": {
    "name": "ipython",
    "version": 3
   },
   "file_extension": ".py",
   "mimetype": "text/x-python",
   "name": "python",
   "nbconvert_exporter": "python",
   "pygments_lexer": "ipython3",
   "version": "3.10.6"
  },
  "toc": {
   "base_numbering": 1,
   "nav_menu": {},
   "number_sections": true,
   "sideBar": true,
   "skip_h1_title": false,
   "title_cell": "Table of Contents",
   "title_sidebar": "Contents",
   "toc_cell": false,
   "toc_position": {},
   "toc_section_display": true,
   "toc_window_display": false
  },
  "varInspector": {
   "cols": {
    "lenName": 16,
    "lenType": 16,
    "lenVar": 40
   },
   "kernels_config": {
    "python": {
     "delete_cmd_postfix": "",
     "delete_cmd_prefix": "del ",
     "library": "var_list.py",
     "varRefreshCmd": "print(var_dic_list())"
    },
    "r": {
     "delete_cmd_postfix": ") ",
     "delete_cmd_prefix": "rm(",
     "library": "var_list.r",
     "varRefreshCmd": "cat(var_dic_list()) "
    }
   },
   "types_to_exclude": [
    "module",
    "function",
    "builtin_function_or_method",
    "instance",
    "_Feature"
   ],
   "window_display": false
  }
 },
 "nbformat": 4,
 "nbformat_minor": 5
}
