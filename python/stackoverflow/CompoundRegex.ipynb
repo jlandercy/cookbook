{
 "cells": [
  {
   "cell_type": "code",
   "execution_count": 33,
   "id": "c71fea53",
   "metadata": {
    "ExecuteTime": {
     "end_time": "2024-10-01T13:26:59.697250Z",
     "start_time": "2024-10-01T13:26:58.572183Z"
    }
   },
   "outputs": [],
   "source": [
    "import re\n",
    "import pandas as pd"
   ]
  },
  {
   "cell_type": "markdown",
   "id": "a1c68fc1",
   "metadata": {},
   "source": [
    "https://stackoverflow.com/questions/79042960/regex-to-differentiate-chemical-compound-names-from-pattern"
   ]
  },
  {
   "cell_type": "code",
   "execution_count": null,
   "id": "5c98f6c6",
   "metadata": {},
   "outputs": [],
   "source": []
  },
  {
   "cell_type": "code",
   "execution_count": 20,
   "id": "cde1faf1",
   "metadata": {
    "ExecuteTime": {
     "end_time": "2024-10-01T12:36:03.989757Z",
     "start_time": "2024-10-01T12:36:03.984476Z"
    }
   },
   "outputs": [],
   "source": [
    "tokens = [\n",
    "    \"Compound Name,RT,Score\\n2,4,6-Cycloheptatrien-1-one, 3,5-bis-trimethylsilyl-,8.705,626,Area,386902.453,tR (min),8.705\",\n",
    "    \"Compound Name,RT,Score\\nBenzene, 4-ethenyl-1,2-dimethyl-,11.682,600,Area,16289.239,tR (min),11.682\",\n",
    "    \"Compound Name,RT,Score\\n2-(p-Tolyl)propan-2-ol, TMS,11.921,605,Area,17976.558,tR (min),11.921\",\n",
    "    \"Compound Name,RT,Score\\nTris(tert-butyldimethylsilyloxy)arsane,12.036,685,Area,76702.743,tR (min),12.036\",\n",
    "    \"Compound Name,RT,Score\\nPhenyl-pentamethyl-disiloxane,13.646,656,Area,84633.281,tR (min),13.646\",\n",
    "    \"Compound Name,RT,Score\\n**[1,1'-Bicyclopropyl]-2-octanoic acid, 2'-hexyl-, methyl est**,16.642,605,Area,566.512,tR (min),16.642\",\n",
    "    \"Compound Name,RT,Score\\n**(t-Butyl-dimethylsilyl)[2-methyl-2-(4-methyl-pent-3-enyl)-c**,19.853,650,Area,10141.071,tR (min),19.853\",\n",
    "]"
   ]
  },
  {
   "cell_type": "code",
   "execution_count": null,
   "id": "2092678e",
   "metadata": {},
   "outputs": [],
   "source": []
  },
  {
   "cell_type": "code",
   "execution_count": 23,
   "id": "dafaf3b5",
   "metadata": {
    "ExecuteTime": {
     "end_time": "2024-10-01T12:36:08.083766Z",
     "start_time": "2024-10-01T12:36:08.077460Z"
    }
   },
   "outputs": [],
   "source": [
    "def process(token):\n",
    "    lines = token.split(\"\\n\")\n",
    "    fields = lines[-1].split(\",\")\n",
    "    return {\n",
    "        \"compound\": \",\".join(fields[:-6]),\n",
    "        \"area\": fields[-3],\n",
    "        \"rt\": fields[-1],\n",
    "    }"
   ]
  },
  {
   "cell_type": "code",
   "execution_count": 27,
   "id": "54a63002",
   "metadata": {
    "ExecuteTime": {
     "end_time": "2024-10-01T12:38:45.468407Z",
     "start_time": "2024-10-01T12:38:45.444685Z"
    }
   },
   "outputs": [
    {
     "name": "stdout",
     "output_type": "stream",
     "text": [
      "                                            compound        area      rt\n",
      "0  2,4,6-Cycloheptatrien-1-one, 3,5-bis-trimethyl...  386902.453   8.705\n",
      "1                   Benzene, 4-ethenyl-1,2-dimethyl-   16289.239  11.682\n",
      "2                        2-(p-Tolyl)propan-2-ol, TMS   17976.558  11.921\n",
      "3             Tris(tert-butyldimethylsilyloxy)arsane   76702.743  12.036\n",
      "4                      Phenyl-pentamethyl-disiloxane   84633.281  13.646\n",
      "5  **[1,1'-Bicyclopropyl]-2-octanoic acid, 2'-hex...     566.512  16.642\n",
      "6  **(t-Butyl-dimethylsilyl)[2-methyl-2-(4-methyl...   10141.071  19.853\n"
     ]
    }
   ],
   "source": [
    "results = pd.DataFrame([process(token) for token in tokens])\n",
    "print(results)"
   ]
  },
  {
   "cell_type": "code",
   "execution_count": null,
   "id": "da1a95bb",
   "metadata": {},
   "outputs": [],
   "source": []
  },
  {
   "cell_type": "code",
   "execution_count": null,
   "id": "09757256",
   "metadata": {},
   "outputs": [],
   "source": []
  },
  {
   "cell_type": "code",
   "execution_count": 28,
   "id": "6221b155",
   "metadata": {
    "ExecuteTime": {
     "end_time": "2024-10-01T13:08:37.511152Z",
     "start_time": "2024-10-01T13:08:37.350876Z"
    }
   },
   "outputs": [],
   "source": [
    "sample = \"\"\"Sequence Name,20240603_S24031_anonymous\n",
    "Sample Name,Blank\n",
    "Area,15906292.428,tR (min),3.696\n",
    "Area,10164232.248,tR (min),3.783\n",
    "Area,5541647.716,tR (min),4.091\n",
    "Area,203969.547,tR (min),6.514\n",
    "Area,542692.442,tR (min),6.579\n",
    "Area,1039445.806,tR (min),6.788\n",
    "Area,4011338.408,tR (min),7.249\n",
    "Area,504687.529,tR (min),8.177\n",
    "Area,108363.994,tR (min),8.420\n",
    "Compound Name,RT,Score\n",
    "2,4,6-Cycloheptatrien-1-one, 3,5-bis-trimethylsilyl-,8.705,626,Area,386902.453,tR (min),8.705\n",
    "Area,368393.389,tR (min),8.850\n",
    "Area,91574.405,tR (min),9.447\n",
    "Area,899294.259,tR (min),9.651\n",
    "Area,193389.843,tR (min),10.041\n",
    "Area,56853.148,tR (min),10.812\n",
    "Compound Name,RT,Score\n",
    "Benzene, 4-ethenyl-1,2-dimethyl-,11.682,600,Area,16289.239,tR (min),11.682\n",
    "Compound Name,RT,Score\n",
    "2-(p-Tolyl)propan-2-ol, TMS,11.921,605,Area,17976.558,tR (min),11.921\n",
    "Area,78966.216,tR (min),12.031\n",
    "Compound Name,RT,Score\n",
    "Tris(tert-butyldimethylsilyloxy)arsane,12.036,685,Area,76702.743,tR (min),12.036\n",
    "Area,534.128,tR (min),12.285\n",
    "Compound Name,RT,Score\n",
    "Phenyl-pentamethyl-disiloxane,13.646,656,Area,84633.281,tR (min),13.646\n",
    "Area,11464.379,tR (min),13.696\n",
    "Compound Name,RT,Score\n",
    "Cyclopentene, 3,3-dimethyl-4-methylene-1,2-bis(trimethylsil,14.543,645,Area,402308.085,tR (min),14.543\n",
    "\"\"\""
   ]
  },
  {
   "cell_type": "code",
   "execution_count": null,
   "id": "1452edc4",
   "metadata": {},
   "outputs": [],
   "source": []
  },
  {
   "cell_type": "code",
   "execution_count": null,
   "id": "ee8ed5e9",
   "metadata": {},
   "outputs": [],
   "source": []
  },
  {
   "cell_type": "code",
   "execution_count": null,
   "id": "8f6b3d94",
   "metadata": {
    "ExecuteTime": {
     "end_time": "2024-10-01T13:16:46.801031Z",
     "start_time": "2024-10-01T13:16:46.795998Z"
    }
   },
   "outputs": [],
   "source": []
  },
  {
   "cell_type": "code",
   "execution_count": 3,
   "id": "a8d944ec",
   "metadata": {
    "ExecuteTime": {
     "end_time": "2024-10-01T13:17:57.265677Z",
     "start_time": "2024-10-01T13:17:57.253494Z"
    }
   },
   "outputs": [],
   "source": []
  },
  {
   "cell_type": "code",
   "execution_count": 48,
   "id": "2d1e014d",
   "metadata": {
    "ExecuteTime": {
     "end_time": "2024-10-01T13:36:41.661057Z",
     "start_time": "2024-10-01T13:36:41.648719Z"
    }
   },
   "outputs": [],
   "source": [
    "def process(filename):\n",
    "    with open(filename, \"r\") as file:\n",
    "        raw = file.read()\n",
    "    results = []\n",
    "    for sequence_id, sequence in enumerate(raw.split(\"\\n\\n\")):\n",
    "        lines = sequence.split(\"\\n\")\n",
    "        sequence_name = lines[0].split(\",\")[-1]\n",
    "        for line in lines:\n",
    "            fields = line.split(\",\")\n",
    "            data = {}\n",
    "            if \"Area,\" in line:\n",
    "                data |= {\"area\": float(fields[-3]), \"rt\": float(fields[-1])}\n",
    "            if \",Area,\" in line:\n",
    "                data |= {\"compound\": \",\".join(fields[:-6])}\n",
    "            if data:\n",
    "                results.append({\n",
    "                    \"sequence_id\": sequence_id,\n",
    "                    \"sequence_name\": sequence_name,\n",
    "                } | data)\n",
    "    return pd.DataFrame(results)"
   ]
  },
  {
   "cell_type": "code",
   "execution_count": null,
   "id": "e5ae29e7",
   "metadata": {},
   "outputs": [],
   "source": []
  },
  {
   "cell_type": "code",
   "execution_count": 50,
   "id": "899c8672",
   "metadata": {
    "ExecuteTime": {
     "end_time": "2024-10-01T13:38:09.711506Z",
     "start_time": "2024-10-01T13:38:09.669458Z"
    }
   },
   "outputs": [
    {
     "name": "stdout",
     "output_type": "stream",
     "text": [
      "      sequence_id                sequence_name          area      rt  \\\n",
      "0               0    20240603_S24031_anonymous  1.590629e+07   3.696   \n",
      "1               0    20240603_S24031_anonymous  1.016423e+07   3.783   \n",
      "2               0    20240603_S24031_anonymous  5.541648e+06   4.091   \n",
      "3               0    20240603_S24031_anonymous  2.039695e+05   6.514   \n",
      "4               0    20240603_S24031_anonymous  5.426924e+05   6.579   \n",
      "...           ...                          ...           ...     ...   \n",
      "1675           37  20240604_S24032_BelénFlórez  2.436482e+07  19.036   \n",
      "1676           37  20240604_S24032_BelénFlórez  5.640226e+06  21.963   \n",
      "1677           37  20240604_S24032_BelénFlórez  5.021575e+05  23.108   \n",
      "1678           37  20240604_S24032_BelénFlórez  1.940947e+06  23.592   \n",
      "1679           37  20240604_S24032_BelénFlórez  9.665506e+05  24.550   \n",
      "\n",
      "                                  compound  \n",
      "0                                      NaN  \n",
      "1                                      NaN  \n",
      "2                                      NaN  \n",
      "3                                      NaN  \n",
      "4                                      NaN  \n",
      "...                                    ...  \n",
      "1675                         Hexanoic acid  \n",
      "1676                         Octanoic acid  \n",
      "1677  2H-Pyran-2-one, tetrahydro-6-pentyl-  \n",
      "1678                       n-Decanoic acid  \n",
      "1679    Hexanediamide, N,N'-di-benzoyloxy-  \n",
      "\n",
      "[1680 rows x 5 columns]\n"
     ]
    }
   ],
   "source": [
    "print(process(\"agilent_report.csv\"))"
   ]
  },
  {
   "cell_type": "code",
   "execution_count": null,
   "id": "a4bf3b8f",
   "metadata": {},
   "outputs": [],
   "source": []
  },
  {
   "cell_type": "code",
   "execution_count": null,
   "id": "1aa83b3e",
   "metadata": {},
   "outputs": [],
   "source": []
  }
 ],
 "metadata": {
  "hide_input": false,
  "kernelspec": {
   "display_name": "Python 3",
   "language": "python",
   "name": "python3"
  },
  "language_info": {
   "codemirror_mode": {
    "name": "ipython",
    "version": 3
   },
   "file_extension": ".py",
   "mimetype": "text/x-python",
   "name": "python",
   "nbconvert_exporter": "python",
   "pygments_lexer": "ipython3",
   "version": "3.10.6"
  },
  "toc": {
   "base_numbering": 1,
   "nav_menu": {},
   "number_sections": true,
   "sideBar": true,
   "skip_h1_title": false,
   "title_cell": "Table of Contents",
   "title_sidebar": "Contents",
   "toc_cell": false,
   "toc_position": {},
   "toc_section_display": true,
   "toc_window_display": false
  },
  "varInspector": {
   "cols": {
    "lenName": 16,
    "lenType": 16,
    "lenVar": 40
   },
   "kernels_config": {
    "python": {
     "delete_cmd_postfix": "",
     "delete_cmd_prefix": "del ",
     "library": "var_list.py",
     "varRefreshCmd": "print(var_dic_list())"
    },
    "r": {
     "delete_cmd_postfix": ") ",
     "delete_cmd_prefix": "rm(",
     "library": "var_list.r",
     "varRefreshCmd": "cat(var_dic_list()) "
    }
   },
   "types_to_exclude": [
    "module",
    "function",
    "builtin_function_or_method",
    "instance",
    "_Feature"
   ],
   "window_display": false
  }
 },
 "nbformat": 4,
 "nbformat_minor": 5
}
