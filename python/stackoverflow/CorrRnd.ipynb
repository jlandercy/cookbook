{
 "cells": [
  {
   "cell_type": "code",
   "execution_count": 1,
   "id": "d12af260",
   "metadata": {
    "ExecuteTime": {
     "end_time": "2023-12-26T13:08:44.632216Z",
     "start_time": "2023-12-26T13:08:42.639229Z"
    }
   },
   "outputs": [],
   "source": [
    "import numpy as np\n",
    "from scipy import linalg, stats\n",
    "import matplotlib.pyplot as plt"
   ]
  },
  {
   "cell_type": "code",
   "execution_count": null,
   "id": "f071dec0",
   "metadata": {},
   "outputs": [],
   "source": []
  },
  {
   "cell_type": "code",
   "execution_count": 2,
   "id": "2b043a84",
   "metadata": {
    "ExecuteTime": {
     "end_time": "2023-12-26T13:08:44.647755Z",
     "start_time": "2023-12-26T13:08:44.639740Z"
    }
   },
   "outputs": [],
   "source": [
    "np.random.seed(12345)"
   ]
  },
  {
   "cell_type": "code",
   "execution_count": 3,
   "id": "b98b77eb",
   "metadata": {
    "ExecuteTime": {
     "end_time": "2023-12-26T13:08:44.658423Z",
     "start_time": "2023-12-26T13:08:44.653309Z"
    }
   },
   "outputs": [],
   "source": [
    "C = np.array([\n",
    "    [1.0, 0.6],\n",
    "    [0.6, 1.0]\n",
    "])"
   ]
  },
  {
   "cell_type": "code",
   "execution_count": 4,
   "id": "5ed3645e",
   "metadata": {
    "ExecuteTime": {
     "end_time": "2023-12-26T13:08:44.679446Z",
     "start_time": "2023-12-26T13:08:44.664016Z"
    }
   },
   "outputs": [
    {
     "data": {
      "text/plain": [
       "array([[1. , 0.6],\n",
       "       [0. , 0.8]])"
      ]
     },
     "execution_count": 4,
     "metadata": {},
     "output_type": "execute_result"
    }
   ],
   "source": [
    "U = linalg.cholesky(C)\n",
    "U"
   ]
  },
  {
   "cell_type": "code",
   "execution_count": 5,
   "id": "4b32987f",
   "metadata": {
    "ExecuteTime": {
     "end_time": "2023-12-26T13:08:44.692559Z",
     "start_time": "2023-12-26T13:08:44.683452Z"
    }
   },
   "outputs": [
    {
     "data": {
      "text/plain": [
       "array([[1. , 0.6],\n",
       "       [0.6, 1. ]])"
      ]
     },
     "execution_count": 5,
     "metadata": {},
     "output_type": "execute_result"
    }
   ],
   "source": [
    "U.T @ U"
   ]
  },
  {
   "cell_type": "code",
   "execution_count": 13,
   "id": "6df18099",
   "metadata": {
    "ExecuteTime": {
     "end_time": "2023-12-26T13:09:21.795764Z",
     "start_time": "2023-12-26T13:09:21.787584Z"
    }
   },
   "outputs": [],
   "source": [
    "A = np.random.normal(size=(300, 2))"
   ]
  },
  {
   "cell_type": "code",
   "execution_count": 15,
   "id": "5e6eb49e",
   "metadata": {
    "ExecuteTime": {
     "end_time": "2023-12-26T13:09:28.384385Z",
     "start_time": "2023-12-26T13:09:28.380578Z"
    }
   },
   "outputs": [],
   "source": [
    "B = A @ U"
   ]
  },
  {
   "cell_type": "code",
   "execution_count": 16,
   "id": "fabee9a1",
   "metadata": {
    "ExecuteTime": {
     "end_time": "2023-12-26T13:09:28.887950Z",
     "start_time": "2023-12-26T13:09:28.873891Z"
    },
    "scrolled": true
   },
   "outputs": [
    {
     "data": {
      "text/plain": [
       "array([[-8.48317970e-01,  1.35056707e+00],\n",
       "       [-8.05906639e-01, -6.84461044e-01],\n",
       "       [ 1.51880437e+00,  1.83491502e+00],\n",
       "       [ 1.62426916e+00,  1.07264797e+00],\n",
       "       [ 1.45533187e+00,  2.54313609e-01],\n",
       "       [-6.03643008e-01, -8.43513561e-01],\n",
       "       [-1.27199463e-03,  4.84479890e-01],\n",
       "       [ 4.47437423e-01, -3.41329589e-01],\n",
       "       [ 1.56415555e+00, -4.18396056e-01],\n",
       "       [ 2.42791699e+00,  6.51575631e-01],\n",
       "       [ 1.58726520e+00,  7.44090912e-01],\n",
       "       [ 1.48247808e+00,  1.52483808e+00],\n",
       "       [-8.86567656e-01, -1.50234907e+00],\n",
       "       [ 6.19420803e-01,  2.89136846e-01],\n",
       "       [ 1.14113169e+00, -1.42311982e-01],\n",
       "       [-8.83299406e-02, -2.57947536e-01],\n",
       "       [ 7.66607565e-03,  5.81302466e-01],\n",
       "       [-1.25929566e+00,  1.19769818e-02],\n",
       "       [-1.64357129e+00, -1.32602533e+00],\n",
       "       [ 1.24151106e+00,  8.79397363e-01],\n",
       "       [ 2.41033692e-01,  9.56646139e-02],\n",
       "       [ 5.15580393e-01, -4.13044747e-01],\n",
       "       [-1.78662476e+00, -7.00725629e-01],\n",
       "       [ 5.69517947e-01,  3.05891934e-01],\n",
       "       [-1.70564636e+00, -4.93724046e-01],\n",
       "       [ 1.90744658e+00,  1.77234684e+00],\n",
       "       [-2.91185234e-01,  1.74720944e+00],\n",
       "       [-1.21439684e-01,  6.98148885e-01],\n",
       "       [ 6.49894841e-01, -8.32996882e-01],\n",
       "       [ 6.48964328e-01,  4.48284723e-01],\n",
       "       [ 1.10018216e-01,  4.97178571e-01],\n",
       "       [-5.33839995e-01, -9.08264190e-01],\n",
       "       [-6.22074978e-02, -4.15546254e-01],\n",
       "       [ 3.38231096e-01, -4.83092063e-01],\n",
       "       [-1.51057758e+00, -1.63238620e+00],\n",
       "       [-1.08885321e+00, -1.38193176e+00],\n",
       "       [-2.22846529e-01,  4.51909962e-01],\n",
       "       [ 1.04951323e+00, -9.42063258e-01],\n",
       "       [ 1.37484041e+00,  3.98726572e-01],\n",
       "       [ 8.68681857e-01, -4.68282341e-01],\n",
       "       [-5.14022109e-01, -7.28592789e-01],\n",
       "       [-8.89452944e-01, -1.23095821e+00],\n",
       "       [ 2.12175003e-01,  2.63607534e-01],\n",
       "       [ 1.33105900e+00,  1.88733247e+00],\n",
       "       [ 1.51618720e-01, -8.98752919e-01],\n",
       "       [ 1.42223442e+00,  2.70267808e-01],\n",
       "       [-2.46180450e-01,  1.15322265e-01],\n",
       "       [ 6.68505030e-01, -7.44574250e-01],\n",
       "       [-2.33565657e+00, -1.63693718e+00],\n",
       "       [-8.11434582e-01, -1.36494055e+00],\n",
       "       [ 2.33673007e-01,  3.59240249e-01],\n",
       "       [ 1.07632241e+00,  5.47087565e-01],\n",
       "       [ 2.17020563e-01,  3.63320539e-01],\n",
       "       [ 2.31423977e-01, -7.01960877e-01],\n",
       "       [ 2.11826641e-01, -3.18746211e-01],\n",
       "       [-1.78452412e+00, -1.50229132e+00],\n",
       "       [ 4.93189377e-01,  2.67391565e-01],\n",
       "       [-5.49215224e-02, -8.69630813e-01],\n",
       "       [ 4.56573259e-03, -8.86832307e-01],\n",
       "       [-4.08644166e-01, -4.36284676e-01],\n",
       "       [-5.65746012e-01, -1.05233235e+00],\n",
       "       [ 2.49602139e-01,  1.08646947e+00],\n",
       "       [-1.74550181e+00, -4.41660378e-01],\n",
       "       [-1.68520764e-01,  4.20258235e-01],\n",
       "       [ 2.50075559e-01, -8.83165370e-02],\n",
       "       [-3.53403511e-02,  7.07360651e-01],\n",
       "       [-2.08704637e+00, -1.36397655e+00],\n",
       "       [-1.72681442e-01, -1.26908218e+00],\n",
       "       [ 2.51419788e-01,  1.23497558e-01],\n",
       "       [ 1.02864944e-01,  9.26215048e-01],\n",
       "       [-4.86439901e-01, -6.16188655e-01],\n",
       "       [ 1.24714625e+00,  1.00912950e+00],\n",
       "       [ 9.13888242e-02,  1.25204487e+00],\n",
       "       [ 3.47233971e-01,  9.85729425e-01],\n",
       "       [ 1.12739296e+00,  9.29820312e-01],\n",
       "       [-1.17185419e-01, -1.08611045e+00],\n",
       "       [ 1.74374436e+00,  2.27632874e+00],\n",
       "       [-1.26412150e-01,  6.48550564e-02],\n",
       "       [ 1.77394828e-01,  8.77582129e-01],\n",
       "       [ 4.26851936e-01,  3.22196163e-01],\n",
       "       [ 9.09983529e-02,  8.70224618e-01],\n",
       "       [-4.77354559e-01, -6.88491128e-02],\n",
       "       [-1.21233723e+00, -1.13128235e+00],\n",
       "       [-8.39073201e-01, -6.90297947e-01],\n",
       "       [-2.11990946e-01, -5.60110004e-01],\n",
       "       [ 4.98666715e-01, -5.45881930e-02],\n",
       "       [ 2.49025431e-01,  5.03446022e-01],\n",
       "       [-1.71406968e-01, -7.93500306e-01],\n",
       "       [ 1.02914776e+00,  2.86049382e-01],\n",
       "       [ 2.13890924e+00,  1.30603411e+00],\n",
       "       [-5.39275120e-01, -7.37189349e-01],\n",
       "       [-1.51250967e+00, -5.15410276e-01],\n",
       "       [ 3.60341729e-01, -6.97559479e-01],\n",
       "       [ 7.02077324e-01,  4.04167148e-02],\n",
       "       [ 2.08392549e-01,  9.39968358e-01],\n",
       "       [-9.21125118e-01, -9.03651287e-01],\n",
       "       [-1.38631160e+00, -8.52607134e-02],\n",
       "       [-2.95988878e-01,  3.57342941e-02],\n",
       "       [-1.15367344e+00, -3.61083617e-01],\n",
       "       [-2.74771899e-01,  5.99926493e-01],\n",
       "       [-1.42197291e+00, -9.21804099e-01],\n",
       "       [-3.62841971e-01,  4.65168438e-02],\n",
       "       [-1.56578992e-01, -1.60748023e+00],\n",
       "       [ 7.52356450e-01, -5.01282193e-01],\n",
       "       [-1.30551508e+00, -9.26915275e-01],\n",
       "       [-6.48000523e-01, -1.79889919e+00],\n",
       "       [ 6.92744312e-02, -1.07271074e-01],\n",
       "       [ 1.38825797e-01,  1.61564902e+00],\n",
       "       [ 7.39352547e-01, -1.05853383e+00],\n",
       "       [ 2.87023091e-01, -1.23784905e+00],\n",
       "       [-6.12052030e-01, -9.56606485e-01],\n",
       "       [-4.88628937e-02, -2.90555918e-01],\n",
       "       [ 4.61084751e-01, -9.97788901e-02],\n",
       "       [-8.32604318e-01, -2.42018805e+00],\n",
       "       [ 1.46153216e+00, -1.59739885e-01],\n",
       "       [ 1.21790026e+00,  1.65571936e+00],\n",
       "       [ 4.64682332e-01,  3.50292256e-03],\n",
       "       [-1.83717667e+00, -2.28214763e+00],\n",
       "       [-8.30165705e-01, -9.12909093e-01],\n",
       "       [-3.47828970e-01,  5.25353062e-01],\n",
       "       [-6.29543284e-01, -6.84043808e-01],\n",
       "       [-5.76293888e-01,  8.28057871e-01],\n",
       "       [ 6.73455368e-01,  7.69926620e-01],\n",
       "       [-3.73514855e-01, -1.38195339e-01],\n",
       "       [ 4.08822684e-02,  6.16170861e-01],\n",
       "       [-5.24103989e-01, -2.15117072e+00],\n",
       "       [-1.90575161e+00, -1.14505353e+00],\n",
       "       [-1.10788828e-01, -1.25297017e+00],\n",
       "       [-6.50431966e-02, -5.43209586e-01],\n",
       "       [ 1.52319426e-01, -5.90561929e-02],\n",
       "       [-1.49578477e+00, -1.50557776e+00],\n",
       "       [-8.67362529e-01, -1.55352676e+00],\n",
       "       [-2.24942832e-01, -8.33226344e-01],\n",
       "       [-1.02741065e-01,  4.13235364e-01],\n",
       "       [-2.10267127e-01, -3.74461926e-01],\n",
       "       [ 7.22984476e-01,  6.30079413e-01],\n",
       "       [-2.08460148e+00, -5.06642253e-01],\n",
       "       [ 5.06561983e-01,  9.65051634e-01],\n",
       "       [ 5.17649255e-01, -2.43178691e-01],\n",
       "       [-1.04663108e+00, -1.00593369e+00],\n",
       "       [ 2.46065510e-01,  4.15296253e-01],\n",
       "       [-7.87427460e-01, -6.41253795e-01],\n",
       "       [-1.03706451e+00, -6.56546948e-02],\n",
       "       [ 4.64583615e-01, -6.51748955e-01],\n",
       "       [ 4.38165531e-01,  5.26628876e-01],\n",
       "       [-9.07067474e-01,  6.22468338e-01],\n",
       "       [-3.60448030e-01, -1.31932143e+00],\n",
       "       [ 7.12840662e-01,  6.44140392e-01],\n",
       "       [-6.93876483e-01, -1.12497962e+00],\n",
       "       [-4.03005909e-01, -9.84175701e-02],\n",
       "       [ 4.88279461e-01,  9.89731906e-01],\n",
       "       [ 2.09317737e+00,  1.11377434e+00],\n",
       "       [ 6.91295108e-01,  1.69341326e+00],\n",
       "       [-2.16631918e+00, -3.23336760e+00],\n",
       "       [ 3.18743797e-01,  1.88208368e-01],\n",
       "       [-7.00521565e-01, -1.97191288e-01],\n",
       "       [ 8.33061691e-01, -1.00940794e+00],\n",
       "       [ 1.93852313e+00,  1.04889534e+00],\n",
       "       [ 1.28011065e+00,  1.19411128e+00],\n",
       "       [-1.25487094e+00, -3.36738801e-01],\n",
       "       [-7.53077015e-01,  8.63690557e-01],\n",
       "       [ 1.12448674e+00,  1.55353412e+00],\n",
       "       [ 3.37813365e+00,  3.72824537e+00],\n",
       "       [ 6.92667552e-01,  4.48990097e-01],\n",
       "       [-7.36071780e-01,  6.80506591e-01],\n",
       "       [ 9.90679391e-01,  2.55783258e+00],\n",
       "       [-1.09673322e+00,  1.14944092e+00],\n",
       "       [-2.32393953e+00, -1.55890461e+00],\n",
       "       [-3.49192380e-01, -2.22753701e+00],\n",
       "       [-8.32818981e-02,  2.08643722e+00],\n",
       "       [ 3.91993195e-01, -7.22193172e-02],\n",
       "       [ 1.21908139e+00, -1.00838845e-01],\n",
       "       [-1.79716639e+00, -1.85674487e+00],\n",
       "       [-3.88839622e-01, -1.96244758e+00],\n",
       "       [-9.49004765e-01, -9.52689421e-01],\n",
       "       [-7.13567051e-01,  1.21509745e+00],\n",
       "       [ 1.17734630e-01,  4.11045114e-01],\n",
       "       [ 8.10598396e-01,  8.93521855e-01],\n",
       "       [-5.72812195e-01, -1.28455510e+00],\n",
       "       [-5.53696822e-01, -1.17854953e+00],\n",
       "       [ 1.07609719e+00,  2.76037547e+00],\n",
       "       [-1.73839395e+00, -3.81619730e-01],\n",
       "       [-1.27172000e+00, -5.26707346e-01],\n",
       "       [-1.23352600e-01,  9.18460244e-01],\n",
       "       [ 8.56028468e-01, -5.92340404e-01],\n",
       "       [ 3.30942510e-01, -6.81432487e-01],\n",
       "       [-9.20453702e-01,  5.18829402e-01],\n",
       "       [-1.20321540e+00,  2.62926903e-01],\n",
       "       [ 1.34623295e+00,  2.59002318e-01],\n",
       "       [ 4.03721666e-01,  1.00652314e+00],\n",
       "       [ 1.54709172e-01, -2.10253639e-04],\n",
       "       [ 1.03616787e+00,  5.15198881e-01],\n",
       "       [ 1.51309913e+00,  1.49571144e-01],\n",
       "       [-1.18889182e+00, -1.10260990e+00],\n",
       "       [ 1.19163201e+00, -1.19185262e-01],\n",
       "       [-9.16674469e-01,  5.32845757e-02],\n",
       "       [-1.43852590e+00, -1.31215075e+00],\n",
       "       [ 5.84344863e-01,  1.91433108e+00],\n",
       "       [-7.42211281e-01,  4.13143599e-01],\n",
       "       [-5.05046788e-02,  1.84692225e-02],\n",
       "       [ 1.24086500e+00,  2.10191590e+00],\n",
       "       [-8.23434111e-01, -6.35279241e-01],\n",
       "       [ 2.11328478e-01,  9.73067469e-02],\n",
       "       [-3.21236944e-01, -3.93598868e-01],\n",
       "       [-6.65494400e-01,  9.33295542e-01],\n",
       "       [-4.06152044e-01, -3.87394646e-01],\n",
       "       [ 6.44124369e-01, -3.28360300e-01],\n",
       "       [-6.48116395e-01, -3.33236398e-01],\n",
       "       [-6.61885720e-01, -2.91023109e+00],\n",
       "       [-6.93187162e-01, -9.42438995e-01],\n",
       "       [ 4.14160364e-01,  1.69507268e+00],\n",
       "       [ 8.52583496e-01,  1.21272240e-01],\n",
       "       [ 8.44729902e-01,  4.79248990e-01],\n",
       "       [-2.86168648e-01,  1.82553967e-01],\n",
       "       [ 1.12057879e+00,  2.12362892e+00],\n",
       "       [ 7.82341414e-01, -3.55272835e-02],\n",
       "       [ 8.00710328e-02,  7.76455501e-01],\n",
       "       [ 1.26285019e+00,  1.62880411e+00],\n",
       "       [-6.07851935e-01, -4.00276281e-01],\n",
       "       [ 1.62654330e+00, -1.46940754e-01],\n",
       "       [-2.57246554e+00, -1.67001017e+00],\n",
       "       [-3.43405681e-01, -6.96608835e-01],\n",
       "       [-5.63574131e-01, -1.02509582e+00],\n",
       "       [ 1.79287137e-01,  3.56319912e-01],\n",
       "       [ 4.36806543e-01,  4.08473711e-01],\n",
       "       [ 8.18954567e-01,  1.49471027e+00],\n",
       "       [-1.03795154e+00, -1.31587776e+00],\n",
       "       [ 8.21848947e-01,  9.17797302e-01],\n",
       "       [ 2.22658531e+00,  1.92305915e+00],\n",
       "       [ 6.31696841e-01,  1.11995480e+00],\n",
       "       [-3.47819567e-01, -5.16806983e-01],\n",
       "       [ 6.38774065e-01,  9.97596450e-01],\n",
       "       [ 2.26152227e+00,  1.77748304e+00],\n",
       "       [-2.62749820e-01, -9.40905800e-01],\n",
       "       [-3.66989574e-01, -5.32785126e-01],\n",
       "       [-6.34754929e-01, -1.22927805e+00],\n",
       "       [ 7.33316236e-01,  3.35415914e-01],\n",
       "       [ 1.02201707e+00,  3.66138598e-01],\n",
       "       [ 2.40436698e-02,  3.03810934e-01],\n",
       "       [-6.98994647e-01,  6.07340597e-01],\n",
       "       [-2.39388552e-01, -8.79961261e-01],\n",
       "       [ 5.19992985e-01,  1.90594353e+00],\n",
       "       [-3.61323898e-02,  1.37424451e+00],\n",
       "       [-5.78033371e-01, -1.62966797e-01],\n",
       "       [-1.85879347e-01, -7.16439787e-01],\n",
       "       [-8.17108857e-01, -6.64318378e-01],\n",
       "       [ 6.27008549e-01,  1.18206043e+00],\n",
       "       [-1.25059073e+00,  1.86569842e-01],\n",
       "       [-1.72920166e+00, -1.04968255e+00],\n",
       "       [-2.37534493e+00, -2.33595737e+00],\n",
       "       [-7.23841379e-01,  2.17483159e-01],\n",
       "       [ 1.34967611e+00,  1.55185352e+00],\n",
       "       [ 5.75557363e-01,  1.03709887e+00],\n",
       "       [-2.37640130e+00, -6.96115249e-01],\n",
       "       [-1.49356057e+00, -4.55692270e-01],\n",
       "       [ 2.69427923e-01, -2.01845791e-01],\n",
       "       [-3.06673744e-01, -1.58866145e+00],\n",
       "       [-8.46353985e-01, -1.38596396e+00],\n",
       "       [ 1.50206862e+00,  7.50176576e-02],\n",
       "       [ 4.32300916e-02, -8.84922464e-01],\n",
       "       [ 1.18076605e+00, -3.85619365e-01],\n",
       "       [ 1.43585610e+00,  3.79212248e-01],\n",
       "       [ 1.51992390e+00,  1.08415207e+00],\n",
       "       [ 2.24695680e-01, -1.52379083e-01],\n",
       "       [ 2.66361440e-01, -7.97592842e-02],\n",
       "       [ 1.31519320e+00,  1.22853796e+00],\n",
       "       [-7.42267132e-01, -5.38253557e-01],\n",
       "       [-1.63317025e-01,  7.88476404e-01],\n",
       "       [-1.68025919e+00, -6.37185481e-01],\n",
       "       [-3.76518605e-02, -6.89554255e-01],\n",
       "       [-1.18215670e+00, -7.58677081e-02],\n",
       "       [-3.99542537e-01,  9.58510491e-01],\n",
       "       [ 3.52308628e-01, -2.51805904e-02],\n",
       "       [-3.11026511e+00, -3.12109663e-01],\n",
       "       [ 4.47151768e-01,  4.21191516e-01],\n",
       "       [-2.17414880e-01,  3.73266032e-01],\n",
       "       [-7.94158624e-02,  1.60077536e+00],\n",
       "       [-1.10458592e+00, -6.44832134e-01],\n",
       "       [ 7.49364100e-01, -2.21455214e-01],\n",
       "       [-4.83246436e-01, -2.70857957e-01],\n",
       "       [-9.35203470e-01,  1.53054135e-01],\n",
       "       [ 5.05575745e-01,  6.55113604e-01],\n",
       "       [-4.37036609e-01, -1.33630853e-01],\n",
       "       [-2.70773786e-01,  7.04574868e-01],\n",
       "       [-1.99668454e-01,  5.12561798e-01],\n",
       "       [ 5.26031619e-01,  3.81923999e-01],\n",
       "       [ 6.40023815e-01,  5.82196904e-01],\n",
       "       [ 1.13997422e+00,  3.93706954e-01],\n",
       "       [ 1.23387807e+00, -5.23013995e-01],\n",
       "       [-8.51226864e-01, -2.64963224e-01],\n",
       "       [-1.39783350e-01,  1.81912947e+00],\n",
       "       [ 8.91253797e-02,  3.81494889e-01],\n",
       "       [ 1.15595580e+00, -8.67751062e-01],\n",
       "       [-4.27482049e-01, -1.00018750e-01],\n",
       "       [ 8.18084884e-01,  1.56036610e-01],\n",
       "       [-8.59933497e-01, -1.79363960e+00],\n",
       "       [-2.29404239e+00, -4.30999245e-01],\n",
       "       [ 2.98044178e-01, -1.47470875e+00],\n",
       "       [-1.43147603e+00, -1.43250131e+00],\n",
       "       [ 2.23102222e-01,  5.65172776e-01]])"
      ]
     },
     "execution_count": 16,
     "metadata": {},
     "output_type": "execute_result"
    }
   ],
   "source": [
    "B"
   ]
  },
  {
   "cell_type": "code",
   "execution_count": 17,
   "id": "d551a136",
   "metadata": {
    "ExecuteTime": {
     "end_time": "2023-12-26T13:09:33.019815Z",
     "start_time": "2023-12-26T13:09:33.007689Z"
    }
   },
   "outputs": [
    {
     "data": {
      "text/plain": [
       "PearsonRResult(statistic=0.007255039760212954, pvalue=0.9004142782965622)"
      ]
     },
     "execution_count": 17,
     "metadata": {},
     "output_type": "execute_result"
    }
   ],
   "source": [
    "stats.pearsonr(A[:,0], A[:,1])"
   ]
  },
  {
   "cell_type": "code",
   "execution_count": 18,
   "id": "c909edde",
   "metadata": {
    "ExecuteTime": {
     "end_time": "2023-12-26T13:09:34.006404Z",
     "start_time": "2023-12-26T13:09:33.999914Z"
    }
   },
   "outputs": [
    {
     "data": {
      "text/plain": [
       "PearsonRResult(statistic=0.591454895070021, pvalue=1.07649738415667e-29)"
      ]
     },
     "execution_count": 18,
     "metadata": {},
     "output_type": "execute_result"
    }
   ],
   "source": [
    "stats.pearsonr(B[:,0], B[:,1])"
   ]
  },
  {
   "cell_type": "code",
   "execution_count": null,
   "id": "3d4e8df5",
   "metadata": {},
   "outputs": [],
   "source": []
  },
  {
   "cell_type": "code",
   "execution_count": 21,
   "id": "e5b4acec",
   "metadata": {
    "ExecuteTime": {
     "end_time": "2023-12-26T13:10:12.162012Z",
     "start_time": "2023-12-26T13:10:12.154847Z"
    }
   },
   "outputs": [
    {
     "data": {
      "text/plain": [
       "(-0.033487189825915246, 1.0020587781655261)"
      ]
     },
     "execution_count": 21,
     "metadata": {},
     "output_type": "execute_result"
    }
   ],
   "source": [
    "stats.norm.fit(B[:,0])"
   ]
  },
  {
   "cell_type": "code",
   "execution_count": 22,
   "id": "b79a90e4",
   "metadata": {
    "ExecuteTime": {
     "end_time": "2023-12-26T13:10:20.352978Z",
     "start_time": "2023-12-26T13:10:20.347583Z"
    }
   },
   "outputs": [
    {
     "data": {
      "text/plain": [
       "(-0.027923237745183828, 1.0266912816109584)"
      ]
     },
     "execution_count": 22,
     "metadata": {},
     "output_type": "execute_result"
    }
   ],
   "source": [
    "stats.norm.fit(B[:,1])"
   ]
  },
  {
   "cell_type": "code",
   "execution_count": null,
   "id": "d6ec0307",
   "metadata": {},
   "outputs": [],
   "source": []
  },
  {
   "cell_type": "code",
   "execution_count": 19,
   "id": "db1f3184",
   "metadata": {
    "ExecuteTime": {
     "end_time": "2023-12-26T13:09:37.042365Z",
     "start_time": "2023-12-26T13:09:36.771037Z"
    }
   },
   "outputs": [
    {
     "data": {
      "text/plain": [
       "<matplotlib.collections.PathCollection at 0x7f3c21fa5cf0>"
      ]
     },
     "execution_count": 19,
     "metadata": {},
     "output_type": "execute_result"
    },
    {
     "data": {
      "image/png": "[encoded data removed]",
      "text/plain": [
       "<Figure size 640x480 with 1 Axes>"
      ]
     },
     "metadata": {},
     "output_type": "display_data"
    }
   ],
   "source": [
    "fig, axe = plt.subplots()\n",
    "axe.scatter(*B.T)"
   ]
  },
  {
   "cell_type": "code",
   "execution_count": null,
   "id": "59ad37ca",
   "metadata": {},
   "outputs": [],
   "source": []
  }
 ],
 "metadata": {
  "hide_input": false,
  "kernelspec": {
   "display_name": "Python 3",
   "language": "python",
   "name": "python3"
  },
  "language_info": {
   "codemirror_mode": {
    "name": "ipython",
    "version": 3
   },
   "file_extension": ".py",
   "mimetype": "text/x-python",
   "name": "python",
   "nbconvert_exporter": "python",
   "pygments_lexer": "ipython3",
   "version": "3.10.6"
  },
  "toc": {
   "base_numbering": 1,
   "nav_menu": {},
   "number_sections": true,
   "sideBar": true,
   "skip_h1_title": false,
   "title_cell": "Table of Contents",
   "title_sidebar": "Contents",
   "toc_cell": false,
   "toc_position": {},
   "toc_section_display": true,
   "toc_window_display": false
  },
  "varInspector": {
   "cols": {
    "lenName": 16,
    "lenType": 16,
    "lenVar": 40
   },
   "kernels_config": {
    "python": {
     "delete_cmd_postfix": "",
     "delete_cmd_prefix": "del ",
     "library": "var_list.py",
     "varRefreshCmd": "print(var_dic_list())"
    },
    "r": {
     "delete_cmd_postfix": ") ",
     "delete_cmd_prefix": "rm(",
     "library": "var_list.r",
     "varRefreshCmd": "cat(var_dic_list()) "
    }
   },
   "types_to_exclude": [
    "module",
    "function",
    "builtin_function_or_method",
    "instance",
    "_Feature"
   ],
   "window_display": false
  }
 },
 "nbformat": 4,
 "nbformat_minor": 5
}
