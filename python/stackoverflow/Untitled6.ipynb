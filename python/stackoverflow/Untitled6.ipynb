{
 "cells": [
  {
   "cell_type": "code",
   "execution_count": 1,
   "metadata": {},
   "outputs": [],
   "source": [
    "import io\n",
    "import pandas as pd\n",
    "%matplotlib inline"
   ]
  },
  {
   "cell_type": "code",
   "execution_count": 2,
   "metadata": {},
   "outputs": [],
   "source": [
    "s = io.StringIO(\"\"\"Country;Self_cite;Citations\n",
    "Aus.;15606;90765\n",
    "Brazil;14396;60702\n",
    "Canada;40930;215003\n",
    "China;411683;597237\n",
    "France;28601;130632\n",
    "Germany;27426;140566\n",
    "India;37209;128763\n",
    "Iran;19125;57470\n",
    "Italy;26661;111850\n",
    "Japan;61554;223024\n",
    "S. Korea;22595;114675\n",
    "Russian;12422;34266\n",
    "Spain;23964;123336\n",
    "Britain;37874;206091\n",
    "America;265436;792274\"\"\")\n",
    "df = pd.read_csv(s, sep=';', header=0).set_index('Country')\n",
    "df['ratio'] = df['Self_cite']/df['Citations']"
   ]
  },
  {
   "cell_type": "code",
   "execution_count": 3,
   "metadata": {},
   "outputs": [
    {
     "data": {
      "text/plain": [
       "Self_cite      int64\n",
       "Citations      int64\n",
       "ratio        float64\n",
       "dtype: object"
      ]
     },
     "execution_count": 3,
     "metadata": {},
     "output_type": "execute_result"
    }
   ],
   "source": [
    "df.dtypes"
   ]
  },
  {
   "cell_type": "code",
   "execution_count": 4,
   "metadata": {},
   "outputs": [
    {
     "name": "stdout",
     "output_type": "stream",
     "text": [
      "          Self_cite  Citations     ratio\n",
      "Country                                 \n",
      "Aus.          15606      90765  0.171939\n",
      "Brazil        14396      60702  0.237159\n",
      "Canada        40930     215003  0.190369\n",
      "China        411683     597237  0.689313\n",
      "France        28601     130632  0.218943\n",
      "Germany       27426     140566  0.195111\n",
      "India         37209     128763  0.288973\n",
      "Iran          19125      57470  0.332782\n",
      "Italy         26661     111850  0.238364\n",
      "Japan         61554     223024  0.275997\n",
      "S. Korea      22595     114675  0.197035\n",
      "Russian       12422      34266  0.362517\n",
      "Spain         23964     123336  0.194299\n",
      "Britain       37874     206091  0.183773\n",
      "America      265436     792274  0.335031\n"
     ]
    }
   ],
   "source": [
    "print(df)"
   ]
  },
  {
   "cell_type": "code",
   "execution_count": 5,
   "metadata": {},
   "outputs": [
    {
     "data": {
      "text/plain": [
       "<matplotlib.axes._subplots.AxesSubplot at 0x2c46e880748>"
      ]
     },
     "execution_count": 5,
     "metadata": {},
     "output_type": "execute_result"
    },
    {
     "data": {
      "image/png": "[encoded data removed]",
      "text/plain": [
       "<Figure size 432x288 with 1 Axes>"
      ]
     },
     "metadata": {
      "needs_background": "light"
     },
     "output_type": "display_data"
    }
   ],
   "source": [
    "df['ratio'].plot(kind='bar')"
   ]
  },
  {
   "cell_type": "code",
   "execution_count": 9,
   "metadata": {},
   "outputs": [
    {
     "data": {
      "text/plain": [
       "Self_cite    float64\n",
       "Citations    float64\n",
       "ratio        float64\n",
       "dtype: object"
      ]
     },
     "execution_count": 9,
     "metadata": {},
     "output_type": "execute_result"
    }
   ],
   "source": [
    "df.astype(float).dtypes"
   ]
  },
  {
   "cell_type": "code",
   "execution_count": null,
   "metadata": {},
   "outputs": [],
   "source": []
  }
 ],
 "metadata": {
  "hide_input": false,
  "kernelspec": {
   "display_name": "Python 3",
   "language": "python",
   "name": "python3"
  },
  "language_info": {
   "codemirror_mode": {
    "name": "ipython",
    "version": 3
   },
   "file_extension": ".py",
   "mimetype": "text/x-python",
   "name": "python",
   "nbconvert_exporter": "python",
   "pygments_lexer": "ipython3",
   "version": "3.6.9"
  },
  "toc": {
   "base_numbering": 1,
   "nav_menu": {},
   "number_sections": true,
   "sideBar": true,
   "skip_h1_title": false,
   "title_cell": "Table of Contents",
   "title_sidebar": "Contents",
   "toc_cell": false,
   "toc_position": {},
   "toc_section_display": true,
   "toc_window_display": false
  },
  "varInspector": {
   "cols": {
    "lenName": 16,
    "lenType": 16,
    "lenVar": 40
   },
   "kernels_config": {
    "python": {
     "delete_cmd_postfix": "",
     "delete_cmd_prefix": "del ",
     "library": "var_list.py",
     "varRefreshCmd": "print(var_dic_list())"
    },
    "r": {
     "delete_cmd_postfix": ") ",
     "delete_cmd_prefix": "rm(",
     "library": "var_list.r",
     "varRefreshCmd": "cat(var_dic_list()) "
    }
   },
   "types_to_exclude": [
    "module",
    "function",
    "builtin_function_or_method",
    "instance",
    "_Feature"
   ],
   "window_display": false
  }
 },
 "nbformat": 4,
 "nbformat_minor": 2
}
