{
 "cells": [
  {
   "cell_type": "code",
   "execution_count": 1,
   "id": "45bec803",
   "metadata": {
    "ExecuteTime": {
     "end_time": "2023-09-20T12:42:30.826950Z",
     "start_time": "2023-09-20T12:42:29.352791Z"
    }
   },
   "outputs": [],
   "source": [
    "import numpy as np\n",
    "import matplotlib.pyplot as plt\n"
   ]
  },
  {
   "cell_type": "markdown",
   "id": "309a43e3",
   "metadata": {},
   "source": [
    "https://stackoverflow.com/questions/76926828/calculate-x-values-at-certain-y-value-of-high-degree-polynomial-fit-python"
   ]
  },
  {
   "cell_type": "code",
   "execution_count": null,
   "id": "d67467eb",
   "metadata": {},
   "outputs": [],
   "source": []
  },
  {
   "cell_type": "code",
   "execution_count": 2,
   "id": "6113bf36",
   "metadata": {
    "ExecuteTime": {
     "end_time": "2023-09-20T12:42:30.850275Z",
     "start_time": "2023-09-20T12:42:30.837553Z"
    }
   },
   "outputs": [],
   "source": [
    "np.random.seed(123456)"
   ]
  },
  {
   "cell_type": "code",
   "execution_count": 3,
   "id": "4969816d",
   "metadata": {
    "ExecuteTime": {
     "end_time": "2023-09-20T12:42:30.875884Z",
     "start_time": "2023-09-20T12:42:30.864567Z"
    }
   },
   "outputs": [],
   "source": [
    "n = 8"
   ]
  },
  {
   "cell_type": "code",
   "execution_count": null,
   "id": "2212caa3",
   "metadata": {},
   "outputs": [],
   "source": []
  },
  {
   "cell_type": "code",
   "execution_count": 4,
   "id": "0c5bd44c",
   "metadata": {
    "ExecuteTime": {
     "end_time": "2023-09-20T12:42:30.903988Z",
     "start_time": "2023-09-20T12:42:30.890011Z"
    }
   },
   "outputs": [],
   "source": [
    "xlin = np.linspace(-100, 100, 500)"
   ]
  },
  {
   "cell_type": "code",
   "execution_count": 5,
   "id": "79838281",
   "metadata": {
    "ExecuteTime": {
     "end_time": "2023-09-20T12:42:30.920938Z",
     "start_time": "2023-09-20T12:42:30.912387Z"
    }
   },
   "outputs": [],
   "source": [
    "c = np.random.uniform(size=n+1)\n",
    "p = np.poly1d(c)"
   ]
  },
  {
   "cell_type": "code",
   "execution_count": 27,
   "id": "9a39b51e",
   "metadata": {
    "ExecuteTime": {
     "end_time": "2023-09-20T12:43:12.372425Z",
     "start_time": "2023-09-20T12:43:12.367745Z"
    }
   },
   "outputs": [],
   "source": [
    "x = np.linspace(xlin.min(), xlin.max(), n+2)\n",
    "x = np.linspace(-10, -9, n+2)\n",
    "#x = np.linspace(-0.5, 0.5, n+2)\n",
    "#x = np.linspace(-5, -4, n+2)\n",
    "y = p(x)"
   ]
  },
  {
   "cell_type": "code",
   "execution_count": 37,
   "id": "5253eee4",
   "metadata": {
    "ExecuteTime": {
     "end_time": "2023-09-20T12:43:26.269224Z",
     "start_time": "2023-09-20T12:43:26.265654Z"
    }
   },
   "outputs": [],
   "source": [
    "y = np.round(y, 8)"
   ]
  },
  {
   "cell_type": "code",
   "execution_count": null,
   "id": "050f781f",
   "metadata": {},
   "outputs": [],
   "source": []
  },
  {
   "cell_type": "code",
   "execution_count": 38,
   "id": "8703cbce",
   "metadata": {
    "ExecuteTime": {
     "end_time": "2023-09-20T12:43:26.611216Z",
     "start_time": "2023-09-20T12:43:26.606559Z"
    }
   },
   "outputs": [
    {
     "name": "stderr",
     "output_type": "stream",
     "text": [
      "/usr/local/lib/python3.10/dist-packages/IPython/core/interactiveshell.py:3433: RankWarning: Polyfit may be poorly conditioned\n",
      "  exec(code_obj, self.user_global_ns, self.user_ns)\n"
     ]
    }
   ],
   "source": [
    "chat = np.polyfit(x, y, n)\n",
    "phat = np.poly1d(c)"
   ]
  },
  {
   "cell_type": "code",
   "execution_count": 39,
   "id": "85b936ad",
   "metadata": {
    "ExecuteTime": {
     "end_time": "2023-09-20T12:43:27.052295Z",
     "start_time": "2023-09-20T12:43:27.045901Z"
    }
   },
   "outputs": [
    {
     "data": {
      "text/plain": [
       "array([0.12696983, 0.96671784, 0.26047601, 0.89723652, 0.37674972,\n",
       "       0.33622174, 0.45137647, 0.84025508, 0.12310214])"
      ]
     },
     "execution_count": 39,
     "metadata": {},
     "output_type": "execute_result"
    }
   ],
   "source": [
    "c"
   ]
  },
  {
   "cell_type": "code",
   "execution_count": 40,
   "id": "e5c77f40",
   "metadata": {
    "ExecuteTime": {
     "end_time": "2023-09-20T12:43:27.376025Z",
     "start_time": "2023-09-20T12:43:27.366109Z"
    }
   },
   "outputs": [
    {
     "data": {
      "text/plain": [
       "array([ 4.75417039e-03,  2.69398767e-01,  5.95852676e+00,  5.73608142e+01,\n",
       "        3.18022298e+01, -4.58461606e+03, -4.41700100e+04, -1.79188858e+05,\n",
       "       -2.81400648e+05])"
      ]
     },
     "execution_count": 40,
     "metadata": {},
     "output_type": "execute_result"
    }
   ],
   "source": [
    "c - chat"
   ]
  },
  {
   "cell_type": "code",
   "execution_count": 41,
   "id": "89bbc42d",
   "metadata": {
    "ExecuteTime": {
     "end_time": "2023-09-20T12:43:27.726231Z",
     "start_time": "2023-09-20T12:43:27.720594Z"
    }
   },
   "outputs": [
    {
     "data": {
      "text/plain": [
       "False"
      ]
     },
     "execution_count": 41,
     "metadata": {},
     "output_type": "execute_result"
    }
   ],
   "source": [
    "np.allclose(c, chat)"
   ]
  },
  {
   "cell_type": "code",
   "execution_count": 42,
   "id": "80050f77",
   "metadata": {
    "ExecuteTime": {
     "end_time": "2023-09-20T12:43:29.690911Z",
     "start_time": "2023-09-20T12:43:29.685082Z"
    }
   },
   "outputs": [],
   "source": [
    "yhat = phat(x)"
   ]
  },
  {
   "cell_type": "code",
   "execution_count": 43,
   "id": "ba21a447",
   "metadata": {
    "ExecuteTime": {
     "end_time": "2023-09-20T12:43:30.161763Z",
     "start_time": "2023-09-20T12:43:30.146215Z"
    }
   },
   "outputs": [
    {
     "data": {
      "text/plain": [
       "array([-3.53124924e-05,  1.67014077e-05, -3.87830660e-05,  1.09458342e-05,\n",
       "        3.86163592e-05,  4.82876785e-05,  8.30949284e-06,  1.45558733e-05,\n",
       "        3.34931538e-05, -4.42052260e-05])"
      ]
     },
     "execution_count": 43,
     "metadata": {},
     "output_type": "execute_result"
    }
   ],
   "source": [
    "y - yhat"
   ]
  },
  {
   "cell_type": "code",
   "execution_count": 44,
   "id": "eeaa43ca",
   "metadata": {
    "ExecuteTime": {
     "end_time": "2023-09-20T12:43:31.014457Z",
     "start_time": "2023-09-20T12:43:31.006089Z"
    }
   },
   "outputs": [
    {
     "data": {
      "text/plain": [
       "True"
      ]
     },
     "execution_count": 44,
     "metadata": {},
     "output_type": "execute_result"
    }
   ],
   "source": [
    "np.allclose(y, yhat)"
   ]
  },
  {
   "cell_type": "code",
   "execution_count": null,
   "id": "fc27d4ad",
   "metadata": {},
   "outputs": [],
   "source": []
  },
  {
   "cell_type": "code",
   "execution_count": 46,
   "id": "946acf08",
   "metadata": {
    "ExecuteTime": {
     "end_time": "2023-09-20T12:43:37.833939Z",
     "start_time": "2023-09-20T12:43:37.533493Z"
    }
   },
   "outputs": [
    {
     "data": {
      "image/png": "[encoded data removed]",
      "text/plain": [
       "<Figure size 640x480 with 1 Axes>"
      ]
     },
     "metadata": {},
     "output_type": "display_data"
    }
   ],
   "source": [
    "fig, axe = plt.subplots()\n",
    "axe.scatter(x, y, label=\"Dataset\", marker=\".\")\n",
    "axe.plot(xlin, p(xlin), label=\"Ground truth\")\n",
    "axe.plot(xlin, phat(xlin), label=\"Estimated\")\n",
    "axe.set_ylim([-10, 10])\n",
    "axe.legend()\n",
    "axe.grid()"
   ]
  },
  {
   "cell_type": "code",
   "execution_count": null,
   "id": "978b0720",
   "metadata": {},
   "outputs": [],
   "source": []
  },
  {
   "cell_type": "code",
   "execution_count": null,
   "id": "4583bf24",
   "metadata": {},
   "outputs": [],
   "source": []
  }
 ],
 "metadata": {
  "hide_input": false,
  "kernelspec": {
   "display_name": "Python 3",
   "language": "python",
   "name": "python3"
  },
  "language_info": {
   "codemirror_mode": {
    "name": "ipython",
    "version": 3
   },
   "file_extension": ".py",
   "mimetype": "text/x-python",
   "name": "python",
   "nbconvert_exporter": "python",
   "pygments_lexer": "ipython3",
   "version": "3.10.6"
  },
  "toc": {
   "base_numbering": 1,
   "nav_menu": {},
   "number_sections": true,
   "sideBar": true,
   "skip_h1_title": false,
   "title_cell": "Table of Contents",
   "title_sidebar": "Contents",
   "toc_cell": false,
   "toc_position": {},
   "toc_section_display": true,
   "toc_window_display": false
  },
  "varInspector": {
   "cols": {
    "lenName": 16,
    "lenType": 16,
    "lenVar": 40
   },
   "kernels_config": {
    "python": {
     "delete_cmd_postfix": "",
     "delete_cmd_prefix": "del ",
     "library": "var_list.py",
     "varRefreshCmd": "print(var_dic_list())"
    },
    "r": {
     "delete_cmd_postfix": ") ",
     "delete_cmd_prefix": "rm(",
     "library": "var_list.r",
     "varRefreshCmd": "cat(var_dic_list()) "
    }
   },
   "types_to_exclude": [
    "module",
    "function",
    "builtin_function_or_method",
    "instance",
    "_Feature"
   ],
   "window_display": false
  }
 },
 "nbformat": 4,
 "nbformat_minor": 5
}
