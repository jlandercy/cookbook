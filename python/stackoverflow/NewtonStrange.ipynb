{
 "cells": [
  {
   "cell_type": "code",
   "execution_count": 1,
   "id": "e01a9e22",
   "metadata": {
    "ExecuteTime": {
     "end_time": "2024-07-04T08:33:20.524424Z",
     "start_time": "2024-07-04T08:33:18.743293Z"
    }
   },
   "outputs": [],
   "source": [
    "import numpy as np\n",
    "import matplotlib.pyplot as plt\n",
    "from scipy import stats, optimize, special"
   ]
  },
  {
   "cell_type": "markdown",
   "id": "f4bb5e63",
   "metadata": {},
   "source": [
    " - https://stackoverflow.com/questions/78698256/optimize-newton-error-failed-to-converge-after-some-iterations-value-is-using\n",
    " - https://www.wolframalpha.com/input?i=solve+x+*+erf%281%2Fx%29+%3D+0\n",
    " - https://www.wolframalpha.com/input?i=solve+x+*+%281+-+erfc%281%2Fx%29%2F2%29"
   ]
  },
  {
   "cell_type": "code",
   "execution_count": 2,
   "id": "fb26d764",
   "metadata": {
    "ExecuteTime": {
     "end_time": "2024-07-04T08:33:20.541444Z",
     "start_time": "2024-07-04T08:33:20.532359Z"
    }
   },
   "outputs": [],
   "source": [
    "def model(x, a=1, b=1):\n",
    "    return a * x * stats.norm.cdf(b / x)"
   ]
  },
  {
   "cell_type": "code",
   "execution_count": 3,
   "id": "fa2937c7",
   "metadata": {
    "ExecuteTime": {
     "end_time": "2024-07-04T08:33:20.561475Z",
     "start_time": "2024-07-04T08:33:20.550919Z"
    }
   },
   "outputs": [],
   "source": [
    "def model2(x):\n",
    "    return x * special.expit(1 / x)"
   ]
  },
  {
   "cell_type": "code",
   "execution_count": null,
   "id": "4c7e2626",
   "metadata": {
    "ExecuteTime": {
     "end_time": "2024-07-04T08:33:20.590110Z",
     "start_time": "2024-07-04T08:33:20.570306Z"
    }
   },
   "outputs": [],
   "source": []
  },
  {
   "cell_type": "code",
   "execution_count": 11,
   "id": "b8f7821d",
   "metadata": {
    "ExecuteTime": {
     "end_time": "2024-07-04T08:34:30.981110Z",
     "start_time": "2024-07-04T08:34:30.819079Z"
    }
   },
   "outputs": [
    {
     "data": {
      "text/plain": [
       " message: The solution converged.\n",
       " success: True\n",
       "  status: 1\n",
       "     fun: [-0.000e+00]\n",
       "       x: [-2.653e-02]\n",
       "  method: hybr\n",
       "    nfev: 957\n",
       "    fjac: [[-1.000e+00]]\n",
       "       r: [-1.689e-307]\n",
       "     qtf: [ 2.188e-312]"
      ]
     },
     "execution_count": 11,
     "metadata": {},
     "output_type": "execute_result"
    }
   ],
   "source": [
    "optimize.root(model, x0=-0.1, options={\"maxfev\": 4000})"
   ]
  },
  {
   "cell_type": "code",
   "execution_count": 12,
   "id": "f4a9bbfa",
   "metadata": {
    "ExecuteTime": {
     "end_time": "2024-07-04T08:35:13.810143Z",
     "start_time": "2024-07-04T08:35:13.782509Z"
    }
   },
   "outputs": [
    {
     "name": "stderr",
     "output_type": "stream",
     "text": [
      "/tmp/ipykernel_12982/2890102837.py:2: RuntimeWarning: divide by zero encountered in scalar divide\n",
      "  return a * x * stats.norm.cdf(b / x)\n"
     ]
    }
   ],
   "source": [
    "sol = optimize.newton(model, x0=0.1)"
   ]
  },
  {
   "cell_type": "code",
   "execution_count": 13,
   "id": "1ef73269",
   "metadata": {
    "ExecuteTime": {
     "end_time": "2024-07-04T08:35:13.865169Z",
     "start_time": "2024-07-04T08:35:13.857690Z"
    }
   },
   "outputs": [
    {
     "data": {
      "text/plain": [
       "np.float64(0.0)"
      ]
     },
     "execution_count": 13,
     "metadata": {},
     "output_type": "execute_result"
    }
   ],
   "source": [
    "sol"
   ]
  },
  {
   "cell_type": "code",
   "execution_count": 15,
   "id": "4a6a4fd0",
   "metadata": {
    "ExecuteTime": {
     "end_time": "2024-07-04T08:37:35.543988Z",
     "start_time": "2024-07-04T08:37:35.520776Z"
    }
   },
   "outputs": [],
   "source": [
    "xlin = np.linspace(-0.03, 0.01, 2001)\n",
    "ylin = model(xlin)"
   ]
  },
  {
   "cell_type": "code",
   "execution_count": 18,
   "id": "c8ce8cbf",
   "metadata": {
    "ExecuteTime": {
     "end_time": "2024-07-04T08:38:10.697192Z",
     "start_time": "2024-07-04T08:38:07.392740Z"
    }
   },
   "outputs": [
    {
     "name": "stderr",
     "output_type": "stream",
     "text": [
      "/tmp/ipykernel_12982/2890102837.py:2: RuntimeWarning: divide by zero encountered in scalar divide\n",
      "  return a * x * stats.norm.cdf(b / x)\n"
     ]
    },
    {
     "data": {
      "image/png": "[encoded data removed]",
      "text/plain": [
       "<Figure size 640x480 with 1 Axes>"
      ]
     },
     "metadata": {},
     "output_type": "display_data"
    }
   ],
   "source": [
    "fig, axe = plt.subplots()\n",
    "axe.plot(xlin, ylin)\n",
    "axe.scatter(sol, model(sol))\n",
    "axe.set_ylim([-1e-7, 1e-7])\n",
    "axe.grid()"
   ]
  },
  {
   "cell_type": "code",
   "execution_count": null,
   "id": "8fe2788e",
   "metadata": {},
   "outputs": [],
   "source": []
  },
  {
   "cell_type": "code",
   "execution_count": null,
   "id": "28f92484",
   "metadata": {},
   "outputs": [],
   "source": []
  },
  {
   "cell_type": "code",
   "execution_count": null,
   "id": "bcc4d8ff",
   "metadata": {},
   "outputs": [],
   "source": []
  },
  {
   "cell_type": "code",
   "execution_count": null,
   "id": "d053c9a0",
   "metadata": {},
   "outputs": [],
   "source": []
  }
 ],
 "metadata": {
  "hide_input": false,
  "kernelspec": {
   "display_name": "Python 3",
   "language": "python",
   "name": "python3"
  },
  "language_info": {
   "codemirror_mode": {
    "name": "ipython",
    "version": 3
   },
   "file_extension": ".py",
   "mimetype": "text/x-python",
   "name": "python",
   "nbconvert_exporter": "python",
   "pygments_lexer": "ipython3",
   "version": "3.10.6"
  },
  "toc": {
   "base_numbering": 1,
   "nav_menu": {},
   "number_sections": true,
   "sideBar": true,
   "skip_h1_title": false,
   "title_cell": "Table of Contents",
   "title_sidebar": "Contents",
   "toc_cell": false,
   "toc_position": {},
   "toc_section_display": true,
   "toc_window_display": false
  },
  "varInspector": {
   "cols": {
    "lenName": 16,
    "lenType": 16,
    "lenVar": 40
   },
   "kernels_config": {
    "python": {
     "delete_cmd_postfix": "",
     "delete_cmd_prefix": "del ",
     "library": "var_list.py",
     "varRefreshCmd": "print(var_dic_list())"
    },
    "r": {
     "delete_cmd_postfix": ") ",
     "delete_cmd_prefix": "rm(",
     "library": "var_list.r",
     "varRefreshCmd": "cat(var_dic_list()) "
    }
   },
   "types_to_exclude": [
    "module",
    "function",
    "builtin_function_or_method",
    "instance",
    "_Feature"
   ],
   "window_display": false
  }
 },
 "nbformat": 4,
 "nbformat_minor": 5
}
