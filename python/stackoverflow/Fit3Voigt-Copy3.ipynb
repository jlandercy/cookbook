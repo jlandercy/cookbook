{
 "cells": [
  {
   "cell_type": "code",
   "execution_count": 10,
   "id": "fcf4cd5a",
   "metadata": {
    "ExecuteTime": {
     "end_time": "2024-01-14T09:53:54.894414Z",
     "start_time": "2024-01-14T09:53:54.890442Z"
    }
   },
   "outputs": [],
   "source": [
    "import numpy as np\n",
    "import matplotlib.pyplot as plt\n",
    "from scipy import optimize, stats, special\n",
    "from sklearn.metrics import r2_score"
   ]
  },
  {
   "cell_type": "code",
   "execution_count": 11,
   "id": "8649d46b",
   "metadata": {
    "ExecuteTime": {
     "end_time": "2024-01-14T09:53:55.328339Z",
     "start_time": "2024-01-14T09:53:55.318215Z"
    }
   },
   "outputs": [],
   "source": [
    "x = np.arange(58.1, 71.96, 0.05)\n",
    "y = np.array([12, 10, 16, 18, 13, 14, 15, 21, 26, 16, 16, 16, 15, 15, 31, 22, 23, 22, 23, 31, 31, 36, 29, 30, 44, 43, 45, 39, 67, 67, 62, 83, 79, 92, 93, 128, 177, 187, 251, 289, 334, 414, 509, 549, 623, 680, 751, 769, 816, 742, 701, 721, 599, 540, 498, 425, 339, 293, 212, 172, 157, 142, 115, 95, 84, 86, 81, 78, 58, 47, 52, 62, 47, 44, 39, 44, 50, 34, 28, 36, 36, 28, 34, 24, 28, 28, 37, 40, 33, 45, 44, 32, 32, 47, 41, 46, 41, 56, 46, 50, 59, 71, 72, 63, 62, 77, 89, 62, 93, 96, 114, 97, 123, 140, 137, 146, 138, 187, 213, 219, 239, 255, 287, 314, 336, 386, 401, 434, 467, 499, 534, 635, 597, 588, 597, 671, 725, 693, 751, 759, 727, 758, 763, 720, 706, 655, 650, 595, 608, 565, 522, 511, 433, 499, 448, 387, 371, 365, 324, 312, 326, 306, 292, 266, 282, 238, 265, 278, 242, 209, 226, 254, 236, 233, 232, 225, 220, 205, 209, 234, 214, 234, 234, 205, 194, 223, 201, 226, 214, 234, 241, 226, 269, 272, 303, 261, 272, 277, 284, 308, 324, 286, 307, 329, 281, 280, 257, 227, 239, 234, 221, 181, 195, 190, 164, 158, 131, 118, 118, 106, 108, 70, 104, 74, 76, 70, 52, 57, 56, 36, 44, 40, 48, 40, 33, 23, 28, 25, 24, 20, 20, 24, 31, 19, 23, 24, 15, 18, 12, 14, 11, 14, 14, 21, 20, 14, 12, 10, 11, 13, 5, 14, 11, 10, 11, 8, 8, 6, 10, 5, 11, 13, 8, 14, 6, 8, 3, 7])"
   ]
  },
  {
   "cell_type": "markdown",
   "id": "deb4016f",
   "metadata": {
    "ExecuteTime": {
     "end_time": "2024-01-12T19:09:22.381696Z",
     "start_time": "2024-01-12T19:09:22.376298Z"
    }
   },
   "source": [
    " - https://stackoverflow.com/questions/77807226/scipy-optimize-curve-fit-does-not-fit-properly\n",
    "\n",
    " - https://en.wikipedia.org/wiki/Faddeeva_function\n",
    " - https://en.wikipedia.org/wiki/Voigt_profile\n",
    " - https://fr.wikipedia.org/wiki/Fonction_de_Voigt\n",
    " - https://docs.mantidproject.org/nightly/fitting/fitfunctions/PseudoVoigt.html\n",
    " - https://docs.scipy.org/doc/scipy/reference/generated/scipy.special.erfcx.html#scipy.special.erfcx\n",
    " - https://docs.scipy.org/doc/scipy/reference/generated/scipy.special.voigt_profile.html"
   ]
  },
  {
   "cell_type": "code",
   "execution_count": 12,
   "id": "da856655",
   "metadata": {
    "ExecuteTime": {
     "end_time": "2024-01-14T09:53:55.877965Z",
     "start_time": "2024-01-14T09:53:55.870442Z"
    }
   },
   "outputs": [],
   "source": [
    "def peak(x, alpha, A, x0, s, b):\n",
    "    return A * (\n",
    "        (1 - alpha)*(1 / (s * (np.sqrt(2 * np.pi)))) * np.exp(-0.5 * np.power((x - x0) / s, 2)) + \\\n",
    "        alpha / np.pi * (s / (np.power((x - x0), 2) + np.power(s, 2)))\n",
    "    ) + b\n",
    "\n",
    "def voigt(x, sigma, gamma, x0, A):\n",
    "    z = (x - x0 + 1j * gamma) / (sigma * np.sqrt(2))\n",
    "    y = special.erfcx(-1j * z) / (sigma * np.sqrt(2 * np.pi))\n",
    "    return A * np.real(y)\n",
    "\n",
    "def pseudo_voigt(x, eta, sigma, gamma, x0, A=1.):\n",
    "    G = stats.norm.pdf(x, scale=sigma, loc=x0)\n",
    "    L = stats.cauchy.pdf(x, scale=2. * gamma, loc=x0) \n",
    "    return A*((1. - eta) * G + eta * L)\n",
    "\n",
    "def model(x, sigma1, gamma1, x01, A1, sigma2, gamma2, x02, A2, sigma3, gamma3, x03, A3):\n",
    "    return (\n",
    "          voigt(x, sigma1, gamma1, x01, A1)\n",
    "        + voigt(x, sigma2, gamma2, x02, A2)\n",
    "        + voigt(x, sigma3, gamma3, x03, A3)\n",
    "    )"
   ]
  },
  {
   "cell_type": "code",
   "execution_count": 32,
   "id": "a21e6c76",
   "metadata": {
    "ExecuteTime": {
     "end_time": "2024-01-14T09:56:16.221814Z",
     "start_time": "2024-01-14T09:56:16.217215Z"
    }
   },
   "outputs": [],
   "source": [
    "bounds_min = [\n",
    "    0, 0, 60, 0,\n",
    "    0, 0, 64, 0,\n",
    "    0, 0, 67, 0,\n",
    "]\n",
    "bounds_max = [\n",
    "    1, 1, 62, np.inf,\n",
    "    1, 1, 66, np.inf,\n",
    "    1, 1, 70, np.inf,\n",
    "]\n"
   ]
  },
  {
   "cell_type": "code",
   "execution_count": null,
   "id": "45479ac1",
   "metadata": {
    "ExecuteTime": {
     "end_time": "2024-01-13T10:17:14.781531Z",
     "start_time": "2024-01-13T10:17:14.773981Z"
    }
   },
   "outputs": [],
   "source": []
  },
  {
   "cell_type": "code",
   "execution_count": null,
   "id": "22cbeceb",
   "metadata": {},
   "outputs": [],
   "source": []
  },
  {
   "cell_type": "code",
   "execution_count": 33,
   "id": "ed4c8098",
   "metadata": {
    "ExecuteTime": {
     "end_time": "2024-01-14T09:56:17.256841Z",
     "start_time": "2024-01-14T09:56:17.150627Z"
    }
   },
   "outputs": [],
   "source": [
    "popt, pcov = optimize.curve_fit(\n",
    "    model, x, y,\n",
    "    bounds=(bounds_min, bounds_max)\n",
    ")"
   ]
  },
  {
   "cell_type": "code",
   "execution_count": 34,
   "id": "f1a0a995",
   "metadata": {
    "ExecuteTime": {
     "end_time": "2024-01-14T09:56:17.283427Z",
     "start_time": "2024-01-14T09:56:17.277615Z"
    }
   },
   "outputs": [
    {
     "data": {
      "text/plain": [
       "array([2.21959138e-01, 1.65320386e-01, 6.04956801e+01, 7.12019620e+02,\n",
       "       4.37122515e-01, 4.20861584e-01, 6.51117879e+01, 1.49291511e+03,\n",
       "       9.32188697e-01, 4.90643611e-14, 6.78851635e+01, 5.82535170e+02])"
      ]
     },
     "execution_count": 34,
     "metadata": {},
     "output_type": "execute_result"
    }
   ],
   "source": [
    "popt"
   ]
  },
  {
   "cell_type": "code",
   "execution_count": 35,
   "id": "318130b9",
   "metadata": {
    "ExecuteTime": {
     "end_time": "2024-01-14T09:56:17.403606Z",
     "start_time": "2024-01-14T09:56:17.397173Z"
    }
   },
   "outputs": [
    {
     "data": {
      "text/plain": [
       "array([1.25868563e-02, 1.60273203e-02, 3.61241349e-03, 1.25557981e+01,\n",
       "       2.54260436e-02, 3.40608314e-02, 6.85699895e-03, 3.19467061e+01,\n",
       "       6.85809246e-02, 1.30035722e-01, 2.30005556e-02, 3.31566917e+01])"
      ]
     },
     "execution_count": 35,
     "metadata": {},
     "output_type": "execute_result"
    }
   ],
   "source": [
    "spopt = np.sqrt(np.diag(pcov))\n",
    "spopt"
   ]
  },
  {
   "cell_type": "code",
   "execution_count": 36,
   "id": "a6ffd494",
   "metadata": {
    "ExecuteTime": {
     "end_time": "2024-01-14T09:56:17.518098Z",
     "start_time": "2024-01-14T09:56:17.511943Z"
    }
   },
   "outputs": [
    {
     "data": {
      "text/plain": [
       "array([5.67079888e-02, 9.69470290e-02, 5.97135777e-05, 1.76340619e-02,\n",
       "       5.81668589e-02, 8.09311962e-02, 1.05311176e-04, 2.13988766e-02,\n",
       "       7.35697878e-02, 2.65030908e+12, 3.38815648e-04, 5.69179225e-02])"
      ]
     },
     "execution_count": 36,
     "metadata": {},
     "output_type": "execute_result"
    }
   ],
   "source": [
    "rsd = spopt / popt\n",
    "rsd"
   ]
  },
  {
   "cell_type": "code",
   "execution_count": null,
   "id": "a14da401",
   "metadata": {},
   "outputs": [],
   "source": []
  },
  {
   "cell_type": "code",
   "execution_count": 37,
   "id": "05669cd8",
   "metadata": {
    "ExecuteTime": {
     "end_time": "2024-01-14T09:56:17.748870Z",
     "start_time": "2024-01-14T09:56:17.744114Z"
    }
   },
   "outputs": [],
   "source": [
    "xlin = np.linspace(x.min(), x.max(), 500)\n",
    "yhat = model(xlin, *popt)"
   ]
  },
  {
   "cell_type": "code",
   "execution_count": 38,
   "id": "d9d51355",
   "metadata": {
    "ExecuteTime": {
     "end_time": "2024-01-14T09:56:17.869685Z",
     "start_time": "2024-01-14T09:56:17.860441Z"
    }
   },
   "outputs": [
    {
     "data": {
      "text/plain": [
       "0.9914383339892325"
      ]
     },
     "execution_count": 38,
     "metadata": {},
     "output_type": "execute_result"
    }
   ],
   "source": [
    "score = r2_score(y, model(x, *popt))\n",
    "score"
   ]
  },
  {
   "cell_type": "code",
   "execution_count": null,
   "id": "c4d21359",
   "metadata": {},
   "outputs": [],
   "source": []
  },
  {
   "cell_type": "code",
   "execution_count": null,
   "id": "7485440d",
   "metadata": {},
   "outputs": [],
   "source": []
  },
  {
   "cell_type": "code",
   "execution_count": 39,
   "id": "82f249c3",
   "metadata": {
    "ExecuteTime": {
     "end_time": "2024-01-14T09:56:18.618992Z",
     "start_time": "2024-01-14T09:56:18.338278Z"
    }
   },
   "outputs": [
    {
     "data": {
      "image/png": "[encoded data removed]",
      "text/plain": [
       "<Figure size 640x480 with 1 Axes>"
      ]
     },
     "metadata": {},
     "output_type": "display_data"
    }
   ],
   "source": [
    "fig, axe = plt.subplots()\n",
    "axe.scatter(x, y, marker=\".\")\n",
    "#axe.plot(xlin, peak(xlin, *popt[0:4]), \"--\", color=\"gray\")\n",
    "#axe.plot(xlin, peak(xlin, *popt[4:8]), \"--\", color=\"gray\")\n",
    "#axe.plot(xlin, peak(xlin, *popt[8:12]), \"--\", color=\"gray\")\n",
    "axe.plot(xlin, yhat, color=\"orange\")\n",
    "axe.grid()"
   ]
  },
  {
   "cell_type": "code",
   "execution_count": null,
   "id": "4d97792d",
   "metadata": {},
   "outputs": [],
   "source": []
  },
  {
   "cell_type": "code",
   "execution_count": null,
   "id": "51cd03a8",
   "metadata": {},
   "outputs": [],
   "source": []
  },
  {
   "cell_type": "code",
   "execution_count": null,
   "id": "0aa8329a",
   "metadata": {},
   "outputs": [],
   "source": []
  },
  {
   "cell_type": "code",
   "execution_count": null,
   "id": "8f8ea407",
   "metadata": {},
   "outputs": [],
   "source": []
  }
 ],
 "metadata": {
  "hide_input": false,
  "kernelspec": {
   "display_name": "Python 3",
   "language": "python",
   "name": "python3"
  },
  "language_info": {
   "codemirror_mode": {
    "name": "ipython",
    "version": 3
   },
   "file_extension": ".py",
   "mimetype": "text/x-python",
   "name": "python",
   "nbconvert_exporter": "python",
   "pygments_lexer": "ipython3",
   "version": "3.10.6"
  },
  "toc": {
   "base_numbering": 1,
   "nav_menu": {},
   "number_sections": true,
   "sideBar": true,
   "skip_h1_title": false,
   "title_cell": "Table of Contents",
   "title_sidebar": "Contents",
   "toc_cell": false,
   "toc_position": {},
   "toc_section_display": true,
   "toc_window_display": false
  },
  "varInspector": {
   "cols": {
    "lenName": 16,
    "lenType": 16,
    "lenVar": 40
   },
   "kernels_config": {
    "python": {
     "delete_cmd_postfix": "",
     "delete_cmd_prefix": "del ",
     "library": "var_list.py",
     "varRefreshCmd": "print(var_dic_list())"
    },
    "r": {
     "delete_cmd_postfix": ") ",
     "delete_cmd_prefix": "rm(",
     "library": "var_list.r",
     "varRefreshCmd": "cat(var_dic_list()) "
    }
   },
   "types_to_exclude": [
    "module",
    "function",
    "builtin_function_or_method",
    "instance",
    "_Feature"
   ],
   "window_display": false
  }
 },
 "nbformat": 4,
 "nbformat_minor": 5
}
