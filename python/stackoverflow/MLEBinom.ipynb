{
 "cells": [
  {
   "cell_type": "code",
   "execution_count": 1,
   "id": "e2bf797a",
   "metadata": {
    "ExecuteTime": {
     "end_time": "2024-01-08T09:24:44.700320Z",
     "start_time": "2024-01-08T09:24:43.065948Z"
    }
   },
   "outputs": [],
   "source": [
    "import numpy as np\n",
    "import matplotlib.pyplot as plt\n",
    "from scipy import stats, optimize"
   ]
  },
  {
   "cell_type": "markdown",
   "id": "4af3c90a",
   "metadata": {},
   "source": [
    "https://stackoverflow.com/questions/77190950/runtimewarning-divide-by-zero-encountered-in-log-in-max-likelihood-estimate-pyt"
   ]
  },
  {
   "cell_type": "code",
   "execution_count": 2,
   "id": "6da1bc5a",
   "metadata": {
    "ExecuteTime": {
     "end_time": "2024-01-08T09:24:44.710926Z",
     "start_time": "2024-01-08T09:24:44.706290Z"
    }
   },
   "outputs": [],
   "source": [
    "def likelihood(beta, data):\n",
    "    return - stats.binom.logpmf(k=data, n=1, p=beta[0]).sum()"
   ]
  },
  {
   "cell_type": "code",
   "execution_count": null,
   "id": "ecc9de00",
   "metadata": {},
   "outputs": [],
   "source": []
  },
  {
   "cell_type": "code",
   "execution_count": 3,
   "id": "2e03c822",
   "metadata": {
    "ExecuteTime": {
     "end_time": "2024-01-08T09:24:44.719460Z",
     "start_time": "2024-01-08T09:24:44.713526Z"
    }
   },
   "outputs": [],
   "source": [
    "X = stats.binom(n=1, p=0.6)"
   ]
  },
  {
   "cell_type": "code",
   "execution_count": 4,
   "id": "c4aa9421",
   "metadata": {
    "ExecuteTime": {
     "end_time": "2024-01-08T09:24:44.738477Z",
     "start_time": "2024-01-08T09:24:44.732652Z"
    }
   },
   "outputs": [],
   "source": [
    "np.random.seed(12345)\n",
    "data = X.rvs(500)"
   ]
  },
  {
   "cell_type": "code",
   "execution_count": 5,
   "id": "8ecae416",
   "metadata": {
    "ExecuteTime": {
     "end_time": "2024-01-08T09:24:44.752802Z",
     "start_time": "2024-01-08T09:24:44.741485Z"
    }
   },
   "outputs": [],
   "source": [
    "result = optimize.minimize(\n",
    "    likelihood, x0=[0.5], args=(data,),\n",
    "    bounds=[(0., 1.)], method='Powell'\n",
    ")"
   ]
  },
  {
   "cell_type": "code",
   "execution_count": 6,
   "id": "05c07cf1",
   "metadata": {
    "ExecuteTime": {
     "end_time": "2024-01-08T09:24:44.769812Z",
     "start_time": "2024-01-08T09:24:44.756511Z"
    }
   },
   "outputs": [
    {
     "data": {
      "text/plain": [
       "   direc: array([[1.]])\n",
       "     fun: 341.3715241024539\n",
       " message: 'Optimization terminated successfully.'\n",
       "    nfev: 20\n",
       "     nit: 2\n",
       "  status: 0\n",
       " success: True\n",
       "       x: array([0.57200071])"
      ]
     },
     "execution_count": 6,
     "metadata": {},
     "output_type": "execute_result"
    }
   ],
   "source": [
    "result"
   ]
  },
  {
   "cell_type": "code",
   "execution_count": 11,
   "id": "d8271de8",
   "metadata": {
    "ExecuteTime": {
     "end_time": "2024-01-08T09:30:28.910802Z",
     "start_time": "2024-01-08T09:30:28.878179Z"
    }
   },
   "outputs": [
    {
     "data": {
      "text/plain": [
       "0.572"
      ]
     },
     "execution_count": 11,
     "metadata": {},
     "output_type": "execute_result"
    }
   ],
   "source": [
    "data.sum() / data.size"
   ]
  },
  {
   "cell_type": "code",
   "execution_count": 7,
   "id": "60005f42",
   "metadata": {
    "ExecuteTime": {
     "end_time": "2024-01-08T09:24:44.776988Z",
     "start_time": "2024-01-08T09:24:44.773127Z"
    }
   },
   "outputs": [],
   "source": [
    "t = np.linspace(0., 1., 100)"
   ]
  },
  {
   "cell_type": "code",
   "execution_count": 8,
   "id": "9aebe7d7",
   "metadata": {
    "ExecuteTime": {
     "end_time": "2024-01-08T09:24:44.786340Z",
     "start_time": "2024-01-08T09:24:44.779239Z"
    }
   },
   "outputs": [],
   "source": [
    "@np.vectorize\n",
    "def L(beta):\n",
    "    return likelihood([beta], data)"
   ]
  },
  {
   "cell_type": "code",
   "execution_count": 9,
   "id": "6ddc23bc",
   "metadata": {
    "ExecuteTime": {
     "end_time": "2024-01-08T09:24:45.070607Z",
     "start_time": "2024-01-08T09:24:44.789560Z"
    }
   },
   "outputs": [
    {
     "data": {
      "image/png": "[encoded data removed]",
      "text/plain": [
       "<Figure size 640x480 with 1 Axes>"
      ]
     },
     "metadata": {},
     "output_type": "display_data"
    }
   ],
   "source": [
    "fig, axe = plt.subplots()\n",
    "axe.plot(t, L(t))\n",
    "axe.scatter(result.x, L(result.x))\n",
    "axe.grid()"
   ]
  },
  {
   "cell_type": "code",
   "execution_count": null,
   "id": "bca4923c",
   "metadata": {},
   "outputs": [],
   "source": []
  }
 ],
 "metadata": {
  "hide_input": false,
  "kernelspec": {
   "display_name": "Python 3",
   "language": "python",
   "name": "python3"
  },
  "language_info": {
   "codemirror_mode": {
    "name": "ipython",
    "version": 3
   },
   "file_extension": ".py",
   "mimetype": "text/x-python",
   "name": "python",
   "nbconvert_exporter": "python",
   "pygments_lexer": "ipython3",
   "version": "3.10.6"
  },
  "toc": {
   "base_numbering": 1,
   "nav_menu": {},
   "number_sections": true,
   "sideBar": true,
   "skip_h1_title": false,
   "title_cell": "Table of Contents",
   "title_sidebar": "Contents",
   "toc_cell": false,
   "toc_position": {},
   "toc_section_display": true,
   "toc_window_display": false
  },
  "varInspector": {
   "cols": {
    "lenName": 16,
    "lenType": 16,
    "lenVar": 40
   },
   "kernels_config": {
    "python": {
     "delete_cmd_postfix": "",
     "delete_cmd_prefix": "del ",
     "library": "var_list.py",
     "varRefreshCmd": "print(var_dic_list())"
    },
    "r": {
     "delete_cmd_postfix": ") ",
     "delete_cmd_prefix": "rm(",
     "library": "var_list.r",
     "varRefreshCmd": "cat(var_dic_list()) "
    }
   },
   "types_to_exclude": [
    "module",
    "function",
    "builtin_function_or_method",
    "instance",
    "_Feature"
   ],
   "window_display": false
  }
 },
 "nbformat": 4,
 "nbformat_minor": 5
}
