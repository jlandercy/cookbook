{
 "cells": [
  {
   "cell_type": "code",
   "execution_count": 1,
   "id": "2c4bb7f7",
   "metadata": {
    "ExecuteTime": {
     "end_time": "2024-05-22T08:25:18.217925Z",
     "start_time": "2024-05-22T08:25:17.713890Z"
    }
   },
   "outputs": [],
   "source": [
    "import pandas as pd"
   ]
  },
  {
   "cell_type": "code",
   "execution_count": null,
   "id": "552a49c1",
   "metadata": {},
   "outputs": [],
   "source": []
  },
  {
   "cell_type": "code",
   "execution_count": 13,
   "id": "91d7935f",
   "metadata": {
    "ExecuteTime": {
     "end_time": "2024-05-22T08:28:14.362499Z",
     "start_time": "2024-05-22T08:28:14.352504Z"
    }
   },
   "outputs": [],
   "source": [
    "json_data = [\n",
    "    {\n",
    "        \"meta_info\": {\"id\": 1, \"name\": \"Alice\"},\n",
    "        \"data\": [{\"value\": 100}, {\"value\": 200}]\n",
    "    },\n",
    "    {\n",
    "        \"meta_info\": {\"id\": 2, \"name\": \"Bob\"},\n",
    "        \"data\": []\n",
    "    },\n",
    "    {\n",
    "        \"meta_info\": {\"id\": 3, \"name\": \"Charlie\"}\n",
    "        # \"data\" key is missing\n",
    "    }\n",
    "]"
   ]
  },
  {
   "cell_type": "code",
   "execution_count": 14,
   "id": "c371e084",
   "metadata": {
    "ExecuteTime": {
     "end_time": "2024-05-22T08:28:14.707348Z",
     "start_time": "2024-05-22T08:28:14.701326Z"
    }
   },
   "outputs": [],
   "source": [
    "for item in json_data:\n",
    "    if \"data\" not in item or item[\"data\"] == []:\n",
    "        item[\"data\"] = [{\"value\": float(\"nan\")}]"
   ]
  },
  {
   "cell_type": "code",
   "execution_count": 15,
   "id": "6ce4c78e",
   "metadata": {
    "ExecuteTime": {
     "end_time": "2024-05-22T08:28:15.221321Z",
     "start_time": "2024-05-22T08:28:15.213572Z"
    }
   },
   "outputs": [
    {
     "data": {
      "text/plain": [
       "[{'meta_info': {'id': 1, 'name': 'Alice'},\n",
       "  'data': [{'value': 100}, {'value': 200}]},\n",
       " {'meta_info': {'id': 2, 'name': 'Bob'}, 'data': [{'value': nan}]},\n",
       " {'meta_info': {'id': 3, 'name': 'Charlie'}, 'data': [{'value': nan}]}]"
      ]
     },
     "execution_count": 15,
     "metadata": {},
     "output_type": "execute_result"
    }
   ],
   "source": [
    "json_data"
   ]
  },
  {
   "cell_type": "code",
   "execution_count": 32,
   "id": "86e94525",
   "metadata": {
    "ExecuteTime": {
     "end_time": "2024-05-22T08:31:17.067186Z",
     "start_time": "2024-05-22T08:31:17.033959Z"
    }
   },
   "outputs": [],
   "source": [
    "df = pd.json_normalize(json_data, record_path='data', meta=['meta_info'], max_level=1, errors='ignore') "
   ]
  },
  {
   "cell_type": "code",
   "execution_count": 35,
   "id": "870697f3",
   "metadata": {
    "ExecuteTime": {
     "end_time": "2024-05-22T08:31:59.383503Z",
     "start_time": "2024-05-22T08:31:59.370627Z"
    }
   },
   "outputs": [
    {
     "data": {
      "text/html": [
       "<div>\n",
       "<style scoped>\n",
       "    .dataframe tbody tr th:only-of-type {\n",
       "        vertical-align: middle;\n",
       "    }\n",
       "\n",
       "    .dataframe tbody tr th {\n",
       "        vertical-align: top;\n",
       "    }\n",
       "\n",
       "    .dataframe thead th {\n",
       "        text-align: right;\n",
       "    }\n",
       "</style>\n",
       "<table border=\"1\" class=\"dataframe\">\n",
       "  <thead>\n",
       "    <tr style=\"text-align: right;\">\n",
       "      <th></th>\n",
       "      <th>id</th>\n",
       "      <th>name</th>\n",
       "    </tr>\n",
       "  </thead>\n",
       "  <tbody>\n",
       "    <tr>\n",
       "      <th>0</th>\n",
       "      <td>1</td>\n",
       "      <td>Alice</td>\n",
       "    </tr>\n",
       "    <tr>\n",
       "      <th>1</th>\n",
       "      <td>1</td>\n",
       "      <td>Alice</td>\n",
       "    </tr>\n",
       "    <tr>\n",
       "      <th>2</th>\n",
       "      <td>2</td>\n",
       "      <td>Bob</td>\n",
       "    </tr>\n",
       "    <tr>\n",
       "      <th>3</th>\n",
       "      <td>3</td>\n",
       "      <td>Charlie</td>\n",
       "    </tr>\n",
       "  </tbody>\n",
       "</table>\n",
       "</div>"
      ],
      "text/plain": [
       "   id     name\n",
       "0   1    Alice\n",
       "1   1    Alice\n",
       "2   2      Bob\n",
       "3   3  Charlie"
      ]
     },
     "execution_count": 35,
     "metadata": {},
     "output_type": "execute_result"
    }
   ],
   "source": [
    "df[\"meta_info\"].apply(pd.Series)"
   ]
  },
  {
   "cell_type": "code",
   "execution_count": null,
   "id": "2be14f67",
   "metadata": {},
   "outputs": [],
   "source": []
  }
 ],
 "metadata": {
  "hide_input": false,
  "kernelspec": {
   "display_name": "Python 3",
   "language": "python",
   "name": "python3"
  },
  "language_info": {
   "codemirror_mode": {
    "name": "ipython",
    "version": 3
   },
   "file_extension": ".py",
   "mimetype": "text/x-python",
   "name": "python",
   "nbconvert_exporter": "python",
   "pygments_lexer": "ipython3",
   "version": "3.10.6"
  },
  "toc": {
   "base_numbering": 1,
   "nav_menu": {},
   "number_sections": true,
   "sideBar": true,
   "skip_h1_title": false,
   "title_cell": "Table of Contents",
   "title_sidebar": "Contents",
   "toc_cell": false,
   "toc_position": {},
   "toc_section_display": true,
   "toc_window_display": false
  },
  "varInspector": {
   "cols": {
    "lenName": 16,
    "lenType": 16,
    "lenVar": 40
   },
   "kernels_config": {
    "python": {
     "delete_cmd_postfix": "",
     "delete_cmd_prefix": "del ",
     "library": "var_list.py",
     "varRefreshCmd": "print(var_dic_list())"
    },
    "r": {
     "delete_cmd_postfix": ") ",
     "delete_cmd_prefix": "rm(",
     "library": "var_list.r",
     "varRefreshCmd": "cat(var_dic_list()) "
    }
   },
   "types_to_exclude": [
    "module",
    "function",
    "builtin_function_or_method",
    "instance",
    "_Feature"
   ],
   "window_display": false
  }
 },
 "nbformat": 4,
 "nbformat_minor": 5
}
