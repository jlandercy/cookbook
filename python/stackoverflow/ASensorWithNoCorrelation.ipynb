{
 "cells": [
  {
   "cell_type": "code",
   "execution_count": 1,
   "metadata": {
    "ExecuteTime": {
     "end_time": "2020-09-02T15:05:31.245177Z",
     "start_time": "2020-09-02T15:05:29.510410Z"
    }
   },
   "outputs": [],
   "source": [
    "import numpy as np\n",
    "from sklearn.linear_model import LinearRegression\n",
    "from sklearn.preprocessing import PolynomialFeatures\n",
    "import matplotlib.pyplot as plt"
   ]
  },
  {
   "cell_type": "markdown",
   "metadata": {},
   "source": [
    "https://stackoverflow.com/questions/63707473/python-how-to-determine-error-for-sensor-calibration"
   ]
  },
  {
   "cell_type": "code",
   "execution_count": 2,
   "metadata": {
    "ExecuteTime": {
     "end_time": "2020-09-02T15:05:32.882729Z",
     "start_time": "2020-09-02T15:05:32.435393Z"
    },
    "scrolled": false
   },
   "outputs": [
    {
     "name": "stdout",
     "output_type": "stream",
     "text": [
      "\n",
      "\n",
      "coefficient of determination: 0.018159825210669167\n",
      "intercept: 237452.5340250482\n",
      "coefficients: [-7.68759082e+01  6.33531206e-03]\n",
      "predicted response:\n",
      "[4247.09660512 4246.66890752 4246.25388055 4246.25388055 4244.72047891\n",
      " 4244.36880506 4242.26186558 4241.54895088 4240.77578668 4239.99615911\n",
      " 4239.71042976 4241.65757775 4243.54188487 4245.26793725 4246.87685039]\n"
     ]
    },
    {
     "data": {
      "image/png": "[encoded data removed]",
      "text/plain": [
       "<Figure size 432x288 with 1 Axes>"
      ]
     },
     "metadata": {
      "needs_background": "light"
     },
     "output_type": "display_data"
    },
    {
     "name": "stdout",
     "output_type": "stream",
     "text": [
      "The correction error is 1814\n"
     ]
    }
   ],
   "source": [
    "X = [6101,\n",
    "     6097,\n",
    "     6092,\n",
    "     6085,\n",
    "     6070,\n",
    "     6060,\n",
    "     6050,\n",
    "     6054,\n",
    "     6047,\n",
    "     6040,\n",
    "     6039,\n",
    "     6035,\n",
    "     6034,\n",
    "     6035,\n",
    "     6033]\n",
    "\n",
    "Y = [4231, #1\n",
    "     4266, #2\n",
    "     4219, #3\n",
    "     4269, #4\n",
    "     4254, #5\n",
    "     4213, #6\n",
    "     4248, #7\n",
    "     4248, #8\n",
    "     4213, #9\n",
    "     4254, #10\n",
    "     4254, #11\n",
    "     4260, #12\n",
    "     4266, #13\n",
    "     4225, #14\n",
    "     4237, #15     \n",
    "     ]\n",
    "\n",
    "zipped_lists = zip(X, Y)\n",
    "sorted_pairs = sorted(zipped_lists)\n",
    "\n",
    "tuples = zip(*sorted_pairs)\n",
    "x, y = [list(tuple) for tuple in  tuples]\n",
    "\n",
    "x = np.array(x).reshape((-1, 1))\n",
    "\n",
    "y = np.array(y)\n",
    "\n",
    "x_ = PolynomialFeatures(degree=2, include_bias=False).fit_transform(x)\n",
    "\n",
    "model = LinearRegression().fit(x_, y)\n",
    "r_sq = model.score(x_, y)\n",
    "\n",
    "print('\\n')\n",
    "print('coefficient of determination:', r_sq)\n",
    "print('intercept:', model.intercept_)\n",
    "print('coefficients:', model.coef_)\n",
    "\n",
    "y_pred = model.predict(x_)\n",
    "print('predicted response:', y_pred, sep='\\n')\n",
    "\n",
    "plt.plot(x,y)\n",
    "plt.plot(x,y_pred)\n",
    "plt.show()\n",
    "\n",
    "delta_error = X - y_pred\n",
    "error = np.mean(delta_error)\n",
    "\n",
    "print('The correction error is {:.0f}'.format(error))"
   ]
  },
  {
   "cell_type": "code",
   "execution_count": 5,
   "metadata": {
    "ExecuteTime": {
     "end_time": "2020-09-02T15:07:54.701867Z",
     "start_time": "2020-09-02T15:07:54.489008Z"
    }
   },
   "outputs": [
    {
     "data": {
      "text/plain": [
       "[<matplotlib.lines.Line2D at 0x7fc0cc238668>]"
      ]
     },
     "execution_count": 5,
     "metadata": {},
     "output_type": "execute_result"
    },
    {
     "data": {
      "image/png": "[encoded data removed]",
      "text/plain": [
       "<Figure size 432x288 with 1 Axes>"
      ]
     },
     "metadata": {
      "needs_background": "light"
     },
     "output_type": "display_data"
    }
   ],
   "source": [
    "fig, axe = plt.subplots()\n",
    "axe.plot(X, Y, '.')"
   ]
  },
  {
   "cell_type": "code",
   "execution_count": null,
   "metadata": {},
   "outputs": [],
   "source": []
  }
 ],
 "metadata": {
  "hide_input": false,
  "kernelspec": {
   "display_name": "Python 3",
   "language": "python",
   "name": "python3"
  },
  "language_info": {
   "codemirror_mode": {
    "name": "ipython",
    "version": 3
   },
   "file_extension": ".py",
   "mimetype": "text/x-python",
   "name": "python",
   "nbconvert_exporter": "python",
   "pygments_lexer": "ipython3",
   "version": "3.6.9"
  },
  "toc": {
   "base_numbering": 1,
   "nav_menu": {},
   "number_sections": true,
   "sideBar": true,
   "skip_h1_title": false,
   "title_cell": "Table of Contents",
   "title_sidebar": "Contents",
   "toc_cell": false,
   "toc_position": {},
   "toc_section_display": true,
   "toc_window_display": false
  },
  "varInspector": {
   "cols": {
    "lenName": 16,
    "lenType": 16,
    "lenVar": 40
   },
   "kernels_config": {
    "python": {
     "delete_cmd_postfix": "",
     "delete_cmd_prefix": "del ",
     "library": "var_list.py",
     "varRefreshCmd": "print(var_dic_list())"
    },
    "r": {
     "delete_cmd_postfix": ") ",
     "delete_cmd_prefix": "rm(",
     "library": "var_list.r",
     "varRefreshCmd": "cat(var_dic_list()) "
    }
   },
   "types_to_exclude": [
    "module",
    "function",
    "builtin_function_or_method",
    "instance",
    "_Feature"
   ],
   "window_display": false
  }
 },
 "nbformat": 4,
 "nbformat_minor": 4
}
