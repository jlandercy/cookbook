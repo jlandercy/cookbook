{
 "cells": [
  {
   "cell_type": "code",
   "execution_count": 1,
   "id": "e6832323",
   "metadata": {
    "ExecuteTime": {
     "end_time": "2024-01-09T17:10:23.104524Z",
     "start_time": "2024-01-09T17:10:22.630293Z"
    }
   },
   "outputs": [],
   "source": [
    "import numpy as np\n",
    "import scipy as sp\n",
    "from scipy.special import expit, logit\n",
    "import scipy.optimize"
   ]
  },
  {
   "cell_type": "markdown",
   "id": "ee9ebab8",
   "metadata": {},
   "source": [
    "https://stackoverflow.com/questions/57615235/scipy-optimize-raises-valueerror-despite-x0-being-within-bounds"
   ]
  },
  {
   "cell_type": "code",
   "execution_count": 15,
   "id": "060cf4c5",
   "metadata": {
    "ExecuteTime": {
     "end_time": "2024-01-09T17:19:13.781243Z",
     "start_time": "2024-01-09T17:19:13.776419Z"
    }
   },
   "outputs": [],
   "source": [
    "def f(x,x0,g,c,k):\n",
    "    y = c*expit(k*10.*(x-x0)) + g*1e-19*(1.-c)\n",
    "    return y"
   ]
  },
  {
   "cell_type": "code",
   "execution_count": 16,
   "id": "64b39fbe",
   "metadata": {
    "ExecuteTime": {
     "end_time": "2024-01-09T17:19:18.306070Z",
     "start_time": "2024-01-09T17:19:18.299963Z"
    }
   },
   "outputs": [],
   "source": [
    "#               x0                      g                       c                       k\n",
    "p0 = np.array([8.841357069490852e-01, 4.492363462957287, 5.547073496706608e-01, 7.435378446218519e+00])\n",
    "bounds = np.array([[-1.,1.], [0.,10.], [0.,1.], [0.,20.]])\n",
    "x = np.array([1.0, 1.0, 1.0, 1.0, 1.0, 0.8911796599834791, 1.0, 1.0, 1.0, 0.33232919909076103, 1.0])\n",
    "y = np.array([0.999, 0.999, 0.999, 0.999, 0.999, 0.001, 0.001, 0.001, 0.001, 0.001, 0.001])\n",
    "s = np.array([0.9, 0.9, 0.9, 0.9, 0.9, 0.9, 0.9, 0.9, 0.9, 0.9, 0.9])\n"
   ]
  },
  {
   "cell_type": "code",
   "execution_count": 17,
   "id": "720fc96a",
   "metadata": {
    "ExecuteTime": {
     "end_time": "2024-01-09T17:19:19.076454Z",
     "start_time": "2024-01-09T17:19:19.071743Z"
    }
   },
   "outputs": [
    {
     "name": "stdout",
     "output_type": "stream",
     "text": [
      "[True, True, True, True]\n"
     ]
    }
   ],
   "source": [
    "\n",
    "print([pval >= b[0] and pval <= b[1] for pval,b in zip(p0,bounds)])"
   ]
  },
  {
   "cell_type": "code",
   "execution_count": 18,
   "id": "595d2bc6",
   "metadata": {
    "ExecuteTime": {
     "end_time": "2024-01-09T17:19:19.743589Z",
     "start_time": "2024-01-09T17:19:19.719312Z"
    }
   },
   "outputs": [
    {
     "name": "stdout",
     "output_type": "stream",
     "text": [
      "[ 0.93562     4.4932589   0.55550743 14.11561844]\n",
      "[[ 3.01319703e+13 -5.31967224e+08  6.53913058e+11 -9.56817702e+15]\n",
      " [-5.31967224e+08  9.39165693e+03 -1.15445592e+07  1.68922129e+11]\n",
      " [ 6.53913058e+11 -1.15445592e+07  1.41909833e+10 -2.07645097e+14]\n",
      " [-9.56817702e+15  1.68922129e+11 -2.07645097e+14  3.03830153e+18]]\n"
     ]
    }
   ],
   "source": [
    "\n",
    "fit,cov = sp.optimize.curve_fit(f,x,y,p0=p0,sigma=s,bounds=([b[0] for b in bounds],[b[1] for b in bounds]),method='dogbox',tr_solver='exact')\n",
    "\n",
    "print(fit)\n",
    "print(cov)"
   ]
  },
  {
   "cell_type": "code",
   "execution_count": 6,
   "id": "25f52a42",
   "metadata": {
    "ExecuteTime": {
     "end_time": "2024-01-09T17:10:36.894587Z",
     "start_time": "2024-01-09T17:10:36.877009Z"
    }
   },
   "outputs": [
    {
     "data": {
      "text/plain": [
       "'1.23.3'"
      ]
     },
     "execution_count": 6,
     "metadata": {},
     "output_type": "execute_result"
    }
   ],
   "source": [
    "np.__version__"
   ]
  },
  {
   "cell_type": "code",
   "execution_count": 7,
   "id": "7d8baa8d",
   "metadata": {
    "ExecuteTime": {
     "end_time": "2024-01-09T17:10:42.547179Z",
     "start_time": "2024-01-09T17:10:42.540849Z"
    }
   },
   "outputs": [
    {
     "data": {
      "text/plain": [
       "'1.9.3'"
      ]
     },
     "execution_count": 7,
     "metadata": {},
     "output_type": "execute_result"
    }
   ],
   "source": [
    "sp.__version__"
   ]
  },
  {
   "cell_type": "code",
   "execution_count": null,
   "id": "72c76aff",
   "metadata": {},
   "outputs": [],
   "source": []
  }
 ],
 "metadata": {
  "hide_input": false,
  "kernelspec": {
   "display_name": "Python 3",
   "language": "python",
   "name": "python3"
  },
  "language_info": {
   "codemirror_mode": {
    "name": "ipython",
    "version": 3
   },
   "file_extension": ".py",
   "mimetype": "text/x-python",
   "name": "python",
   "nbconvert_exporter": "python",
   "pygments_lexer": "ipython3",
   "version": "3.10.6"
  },
  "toc": {
   "base_numbering": 1,
   "nav_menu": {},
   "number_sections": true,
   "sideBar": true,
   "skip_h1_title": false,
   "title_cell": "Table of Contents",
   "title_sidebar": "Contents",
   "toc_cell": false,
   "toc_position": {},
   "toc_section_display": true,
   "toc_window_display": false
  },
  "varInspector": {
   "cols": {
    "lenName": 16,
    "lenType": 16,
    "lenVar": 40
   },
   "kernels_config": {
    "python": {
     "delete_cmd_postfix": "",
     "delete_cmd_prefix": "del ",
     "library": "var_list.py",
     "varRefreshCmd": "print(var_dic_list())"
    },
    "r": {
     "delete_cmd_postfix": ") ",
     "delete_cmd_prefix": "rm(",
     "library": "var_list.r",
     "varRefreshCmd": "cat(var_dic_list()) "
    }
   },
   "types_to_exclude": [
    "module",
    "function",
    "builtin_function_or_method",
    "instance",
    "_Feature"
   ],
   "window_display": false
  }
 },
 "nbformat": 4,
 "nbformat_minor": 5
}
