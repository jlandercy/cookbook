{
 "cells": [
  {
   "cell_type": "markdown",
   "id": "df72dd48",
   "metadata": {},
   "source": [
    "https://stackoverflow.com/questions/78345555/python-how-to-calculate-a-local-variable-in-function-1-and-send-the-result-to-f"
   ]
  },
  {
   "cell_type": "code",
   "execution_count": 1,
   "id": "666c3a44",
   "metadata": {
    "ExecuteTime": {
     "end_time": "2024-04-18T07:34:27.230928Z",
     "start_time": "2024-04-18T07:34:27.086890Z"
    }
   },
   "outputs": [],
   "source": [
    "import numpy as np\n",
    "import random"
   ]
  },
  {
   "cell_type": "code",
   "execution_count": 2,
   "id": "96ea156e",
   "metadata": {
    "ExecuteTime": {
     "end_time": "2024-04-18T07:34:27.237115Z",
     "start_time": "2024-04-18T07:34:27.234266Z"
    }
   },
   "outputs": [],
   "source": [
    "deck = list(range(52))\n",
    "hands = [[], []]"
   ]
  },
  {
   "cell_type": "code",
   "execution_count": 3,
   "id": "8585cd2d",
   "metadata": {
    "ExecuteTime": {
     "end_time": "2024-04-18T07:34:27.245924Z",
     "start_time": "2024-04-18T07:34:27.243062Z"
    }
   },
   "outputs": [],
   "source": [
    "def shuffle(deck):\n",
    "    np.random.shuffle(deck)"
   ]
  },
  {
   "cell_type": "code",
   "execution_count": 4,
   "id": "45f4d60a",
   "metadata": {
    "ExecuteTime": {
     "end_time": "2024-04-18T07:34:27.251544Z",
     "start_time": "2024-04-18T07:34:27.248511Z"
    }
   },
   "outputs": [],
   "source": [
    "def deal(deck, hands, n=7):\n",
    "    for _ in range(n):\n",
    "        for i in range(len(hands)):\n",
    "            hands[i].append(deck.pop())"
   ]
  },
  {
   "cell_type": "code",
   "execution_count": 5,
   "id": "44dd33f5",
   "metadata": {
    "ExecuteTime": {
     "end_time": "2024-04-18T07:34:27.256748Z",
     "start_time": "2024-04-18T07:34:27.253997Z"
    }
   },
   "outputs": [],
   "source": [
    "shuffle(deck)\n",
    "deal(deck, hands)"
   ]
  },
  {
   "cell_type": "code",
   "execution_count": 6,
   "id": "6a44598b",
   "metadata": {
    "ExecuteTime": {
     "end_time": "2024-04-18T07:34:27.269605Z",
     "start_time": "2024-04-18T07:34:27.259324Z"
    }
   },
   "outputs": [
    {
     "data": {
      "text/plain": [
       "[[10, 43, 24, 4, 49, 32, 23], [12, 11, 5, 33, 0, 48, 22]]"
      ]
     },
     "execution_count": 6,
     "metadata": {},
     "output_type": "execute_result"
    }
   ],
   "source": [
    "hands"
   ]
  },
  {
   "cell_type": "code",
   "execution_count": 7,
   "id": "22c90eae",
   "metadata": {
    "ExecuteTime": {
     "end_time": "2024-04-18T07:34:27.276321Z",
     "start_time": "2024-04-18T07:34:27.271994Z"
    }
   },
   "outputs": [
    {
     "data": {
      "text/plain": [
       "38"
      ]
     },
     "execution_count": 7,
     "metadata": {},
     "output_type": "execute_result"
    }
   ],
   "source": [
    "len(deck)"
   ]
  },
  {
   "cell_type": "code",
   "execution_count": null,
   "id": "18cd01fe",
   "metadata": {},
   "outputs": [],
   "source": []
  }
 ],
 "metadata": {
  "hide_input": false,
  "kernelspec": {
   "display_name": "Python 3",
   "language": "python",
   "name": "python3"
  },
  "language_info": {
   "codemirror_mode": {
    "name": "ipython",
    "version": 3
   },
   "file_extension": ".py",
   "mimetype": "text/x-python",
   "name": "python",
   "nbconvert_exporter": "python",
   "pygments_lexer": "ipython3",
   "version": "3.10.6"
  },
  "toc": {
   "base_numbering": 1,
   "nav_menu": {},
   "number_sections": true,
   "sideBar": true,
   "skip_h1_title": false,
   "title_cell": "Table of Contents",
   "title_sidebar": "Contents",
   "toc_cell": false,
   "toc_position": {},
   "toc_section_display": true,
   "toc_window_display": false
  },
  "varInspector": {
   "cols": {
    "lenName": 16,
    "lenType": 16,
    "lenVar": 40
   },
   "kernels_config": {
    "python": {
     "delete_cmd_postfix": "",
     "delete_cmd_prefix": "del ",
     "library": "var_list.py",
     "varRefreshCmd": "print(var_dic_list())"
    },
    "r": {
     "delete_cmd_postfix": ") ",
     "delete_cmd_prefix": "rm(",
     "library": "var_list.r",
     "varRefreshCmd": "cat(var_dic_list()) "
    }
   },
   "types_to_exclude": [
    "module",
    "function",
    "builtin_function_or_method",
    "instance",
    "_Feature"
   ],
   "window_display": false
  }
 },
 "nbformat": 4,
 "nbformat_minor": 5
}
