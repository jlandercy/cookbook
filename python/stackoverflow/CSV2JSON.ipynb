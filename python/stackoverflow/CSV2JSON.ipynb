{
 "cells": [
  {
   "cell_type": "code",
   "execution_count": 1,
   "id": "5e6b1276",
   "metadata": {
    "ExecuteTime": {
     "end_time": "2024-06-19T09:46:08.400555Z",
     "start_time": "2024-06-19T09:46:07.804932Z"
    }
   },
   "outputs": [],
   "source": [
    "import io\n",
    "import pandas as pd"
   ]
  },
  {
   "cell_type": "code",
   "execution_count": null,
   "id": "b5761a0f",
   "metadata": {},
   "outputs": [],
   "source": []
  },
  {
   "cell_type": "code",
   "execution_count": 16,
   "id": "8141dec0",
   "metadata": {
    "ExecuteTime": {
     "end_time": "2024-06-19T09:51:02.513173Z",
     "start_time": "2024-06-19T09:51:02.433423Z"
    }
   },
   "outputs": [],
   "source": [
    "df = pd.read_csv(io.StringIO(\"\"\"name,columns,tests\n",
    "ABC_ESTIMATE_REFINED,cntquota,dbt_expectations.expect_column_to_exist\n",
    "ABC_ESTIMATE_REFINED,cntquota,not_null\n",
    "ABC_ESTIMATE_REFINED,is_purged,dbt_expectations.expect_column_to_exist\n",
    "ABC_ESTIMATE_REFINED,is_purged,not_null\n",
    "ABC_ESTIMATE_REFINED2,cntquota,dbt_expectations.expect_column_to_exist\n",
    "ABC_ESTIMATE_REFINED2,cntquota,not_null\n",
    "ABC_ESTIMATE_REFINED2,is_purged,dbt_expectations.expect_column_to_exist\n",
    "ABC_ESTIMATE_REFINED2,is_purged,not_null\"\"\"))"
   ]
  },
  {
   "cell_type": "code",
   "execution_count": 17,
   "id": "f25e5ce6",
   "metadata": {
    "ExecuteTime": {
     "end_time": "2024-06-19T09:51:03.239272Z",
     "start_time": "2024-06-19T09:51:03.213034Z"
    }
   },
   "outputs": [
    {
     "data": {
      "text/html": [
       "<div>\n",
       "<style scoped>\n",
       "    .dataframe tbody tr th:only-of-type {\n",
       "        vertical-align: middle;\n",
       "    }\n",
       "\n",
       "    .dataframe tbody tr th {\n",
       "        vertical-align: top;\n",
       "    }\n",
       "\n",
       "    .dataframe thead th {\n",
       "        text-align: right;\n",
       "    }\n",
       "</style>\n",
       "<table border=\"1\" class=\"dataframe\">\n",
       "  <thead>\n",
       "    <tr style=\"text-align: right;\">\n",
       "      <th></th>\n",
       "      <th>name</th>\n",
       "      <th>columns</th>\n",
       "      <th>tests</th>\n",
       "    </tr>\n",
       "  </thead>\n",
       "  <tbody>\n",
       "    <tr>\n",
       "      <th>0</th>\n",
       "      <td>ABC_ESTIMATE_REFINED</td>\n",
       "      <td>cntquota</td>\n",
       "      <td>dbt_expectations.expect_column_to_exist</td>\n",
       "    </tr>\n",
       "    <tr>\n",
       "      <th>1</th>\n",
       "      <td>ABC_ESTIMATE_REFINED</td>\n",
       "      <td>cntquota</td>\n",
       "      <td>not_null</td>\n",
       "    </tr>\n",
       "    <tr>\n",
       "      <th>2</th>\n",
       "      <td>ABC_ESTIMATE_REFINED</td>\n",
       "      <td>is_purged</td>\n",
       "      <td>dbt_expectations.expect_column_to_exist</td>\n",
       "    </tr>\n",
       "    <tr>\n",
       "      <th>3</th>\n",
       "      <td>ABC_ESTIMATE_REFINED</td>\n",
       "      <td>is_purged</td>\n",
       "      <td>not_null</td>\n",
       "    </tr>\n",
       "    <tr>\n",
       "      <th>4</th>\n",
       "      <td>ABC_ESTIMATE_REFINED2</td>\n",
       "      <td>cntquota</td>\n",
       "      <td>dbt_expectations.expect_column_to_exist</td>\n",
       "    </tr>\n",
       "    <tr>\n",
       "      <th>5</th>\n",
       "      <td>ABC_ESTIMATE_REFINED2</td>\n",
       "      <td>cntquota</td>\n",
       "      <td>not_null</td>\n",
       "    </tr>\n",
       "    <tr>\n",
       "      <th>6</th>\n",
       "      <td>ABC_ESTIMATE_REFINED2</td>\n",
       "      <td>is_purged</td>\n",
       "      <td>dbt_expectations.expect_column_to_exist</td>\n",
       "    </tr>\n",
       "    <tr>\n",
       "      <th>7</th>\n",
       "      <td>ABC_ESTIMATE_REFINED2</td>\n",
       "      <td>is_purged</td>\n",
       "      <td>not_null</td>\n",
       "    </tr>\n",
       "  </tbody>\n",
       "</table>\n",
       "</div>"
      ],
      "text/plain": [
       "                    name    columns                                    tests\n",
       "0   ABC_ESTIMATE_REFINED   cntquota  dbt_expectations.expect_column_to_exist\n",
       "1   ABC_ESTIMATE_REFINED   cntquota                                 not_null\n",
       "2   ABC_ESTIMATE_REFINED  is_purged  dbt_expectations.expect_column_to_exist\n",
       "3   ABC_ESTIMATE_REFINED  is_purged                                 not_null\n",
       "4  ABC_ESTIMATE_REFINED2   cntquota  dbt_expectations.expect_column_to_exist\n",
       "5  ABC_ESTIMATE_REFINED2   cntquota                                 not_null\n",
       "6  ABC_ESTIMATE_REFINED2  is_purged  dbt_expectations.expect_column_to_exist\n",
       "7  ABC_ESTIMATE_REFINED2  is_purged                                 not_null"
      ]
     },
     "execution_count": 17,
     "metadata": {},
     "output_type": "execute_result"
    }
   ],
   "source": [
    "df"
   ]
  },
  {
   "cell_type": "code",
   "execution_count": 18,
   "id": "da5b9efb",
   "metadata": {
    "ExecuteTime": {
     "end_time": "2024-06-19T09:51:06.443040Z",
     "start_time": "2024-06-19T09:51:06.339977Z"
    }
   },
   "outputs": [
    {
     "data": {
      "text/html": [
       "<div>\n",
       "<style scoped>\n",
       "    .dataframe tbody tr th:only-of-type {\n",
       "        vertical-align: middle;\n",
       "    }\n",
       "\n",
       "    .dataframe tbody tr th {\n",
       "        vertical-align: top;\n",
       "    }\n",
       "\n",
       "    .dataframe thead th {\n",
       "        text-align: right;\n",
       "    }\n",
       "</style>\n",
       "<table border=\"1\" class=\"dataframe\">\n",
       "  <thead>\n",
       "    <tr style=\"text-align: right;\">\n",
       "      <th></th>\n",
       "      <th>name</th>\n",
       "      <th>tests</th>\n",
       "    </tr>\n",
       "    <tr>\n",
       "      <th>index</th>\n",
       "      <th></th>\n",
       "      <th></th>\n",
       "    </tr>\n",
       "  </thead>\n",
       "  <tbody>\n",
       "    <tr>\n",
       "      <th>ABC_ESTIMATE_REFINED</th>\n",
       "      <td>cntquota</td>\n",
       "      <td>[dbt_expectations.expect_column_to_exist, not_...</td>\n",
       "    </tr>\n",
       "    <tr>\n",
       "      <th>ABC_ESTIMATE_REFINED</th>\n",
       "      <td>is_purged</td>\n",
       "      <td>[dbt_expectations.expect_column_to_exist, not_...</td>\n",
       "    </tr>\n",
       "    <tr>\n",
       "      <th>ABC_ESTIMATE_REFINED2</th>\n",
       "      <td>cntquota</td>\n",
       "      <td>[dbt_expectations.expect_column_to_exist, not_...</td>\n",
       "    </tr>\n",
       "    <tr>\n",
       "      <th>ABC_ESTIMATE_REFINED2</th>\n",
       "      <td>is_purged</td>\n",
       "      <td>[dbt_expectations.expect_column_to_exist, not_...</td>\n",
       "    </tr>\n",
       "  </tbody>\n",
       "</table>\n",
       "</div>"
      ],
      "text/plain": [
       "                            name  \\\n",
       "index                              \n",
       "ABC_ESTIMATE_REFINED    cntquota   \n",
       "ABC_ESTIMATE_REFINED   is_purged   \n",
       "ABC_ESTIMATE_REFINED2   cntquota   \n",
       "ABC_ESTIMATE_REFINED2  is_purged   \n",
       "\n",
       "                                                                   tests  \n",
       "index                                                                     \n",
       "ABC_ESTIMATE_REFINED   [dbt_expectations.expect_column_to_exist, not_...  \n",
       "ABC_ESTIMATE_REFINED   [dbt_expectations.expect_column_to_exist, not_...  \n",
       "ABC_ESTIMATE_REFINED2  [dbt_expectations.expect_column_to_exist, not_...  \n",
       "ABC_ESTIMATE_REFINED2  [dbt_expectations.expect_column_to_exist, not_...  "
      ]
     },
     "execution_count": 18,
     "metadata": {},
     "output_type": "execute_result"
    }
   ],
   "source": [
    "g = df.groupby([\"name\", \"columns\"]).agg({\"tests\": list})\\\n",
    "      .reset_index().rename(columns={\"name\": \"index\", \"columns\": \"name\"})\\\n",
    "      .set_index(\"index\")\n",
    "g"
   ]
  },
  {
   "cell_type": "code",
   "execution_count": 19,
   "id": "05189aee",
   "metadata": {
    "ExecuteTime": {
     "end_time": "2024-06-19T09:51:08.563840Z",
     "start_time": "2024-06-19T09:51:08.554301Z"
    }
   },
   "outputs": [],
   "source": [
    "result = []\n",
    "for key in g.index.unique():\n",
    "    result.append({\n",
    "        \"name\": key,\n",
    "        \"columns\": g.loc[key,:].to_dict(orient=\"records\")\n",
    "    })"
   ]
  },
  {
   "cell_type": "code",
   "execution_count": 20,
   "id": "9ebca924",
   "metadata": {
    "ExecuteTime": {
     "end_time": "2024-06-19T09:51:09.416309Z",
     "start_time": "2024-06-19T09:51:09.408631Z"
    }
   },
   "outputs": [
    {
     "data": {
      "text/plain": [
       "[{'name': 'ABC_ESTIMATE_REFINED',\n",
       "  'columns': [{'name': 'cntquota',\n",
       "    'tests': ['dbt_expectations.expect_column_to_exist', 'not_null']},\n",
       "   {'name': 'is_purged',\n",
       "    'tests': ['dbt_expectations.expect_column_to_exist', 'not_null']}]},\n",
       " {'name': 'ABC_ESTIMATE_REFINED2',\n",
       "  'columns': [{'name': 'cntquota',\n",
       "    'tests': ['dbt_expectations.expect_column_to_exist', 'not_null']},\n",
       "   {'name': 'is_purged',\n",
       "    'tests': ['dbt_expectations.expect_column_to_exist', 'not_null']}]}]"
      ]
     },
     "execution_count": 20,
     "metadata": {},
     "output_type": "execute_result"
    }
   ],
   "source": [
    "result"
   ]
  },
  {
   "cell_type": "code",
   "execution_count": null,
   "id": "9a6212f3",
   "metadata": {},
   "outputs": [],
   "source": []
  },
  {
   "cell_type": "code",
   "execution_count": null,
   "id": "1f0fa008",
   "metadata": {},
   "outputs": [],
   "source": []
  }
 ],
 "metadata": {
  "hide_input": false,
  "kernelspec": {
   "display_name": "Python 3",
   "language": "python",
   "name": "python3"
  },
  "language_info": {
   "codemirror_mode": {
    "name": "ipython",
    "version": 3
   },
   "file_extension": ".py",
   "mimetype": "text/x-python",
   "name": "python",
   "nbconvert_exporter": "python",
   "pygments_lexer": "ipython3",
   "version": "3.10.6"
  },
  "toc": {
   "base_numbering": 1,
   "nav_menu": {},
   "number_sections": true,
   "sideBar": true,
   "skip_h1_title": false,
   "title_cell": "Table of Contents",
   "title_sidebar": "Contents",
   "toc_cell": false,
   "toc_position": {},
   "toc_section_display": true,
   "toc_window_display": false
  },
  "varInspector": {
   "cols": {
    "lenName": 16,
    "lenType": 16,
    "lenVar": 40
   },
   "kernels_config": {
    "python": {
     "delete_cmd_postfix": "",
     "delete_cmd_prefix": "del ",
     "library": "var_list.py",
     "varRefreshCmd": "print(var_dic_list())"
    },
    "r": {
     "delete_cmd_postfix": ") ",
     "delete_cmd_prefix": "rm(",
     "library": "var_list.r",
     "varRefreshCmd": "cat(var_dic_list()) "
    }
   },
   "types_to_exclude": [
    "module",
    "function",
    "builtin_function_or_method",
    "instance",
    "_Feature"
   ],
   "window_display": false
  }
 },
 "nbformat": 4,
 "nbformat_minor": 5
}
