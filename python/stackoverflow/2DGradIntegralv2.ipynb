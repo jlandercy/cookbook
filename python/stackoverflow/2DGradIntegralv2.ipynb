{
 "cells": [
  {
   "cell_type": "code",
   "execution_count": 1,
   "metadata": {
    "ExecuteTime": {
     "end_time": "2020-09-11T09:06:34.764568Z",
     "start_time": "2020-09-11T09:06:33.490141Z"
    }
   },
   "outputs": [],
   "source": [
    "import numpy as np\n",
    "import pandas as pd\n",
    "from scipy import interpolate, integrate\n",
    "import matplotlib.pyplot as plt\n",
    "from matplotlib.tri import Triangulation, LinearTriInterpolator, CubicTriInterpolator"
   ]
  },
  {
   "cell_type": "markdown",
   "metadata": {},
   "source": [
    "https://stackoverflow.com/questions/63220629/inverse-of-numpy-gradient-function"
   ]
  },
  {
   "cell_type": "code",
   "execution_count": 2,
   "metadata": {
    "ExecuteTime": {
     "end_time": "2020-09-11T09:06:34.972899Z",
     "start_time": "2020-09-11T09:06:34.771719Z"
    }
   },
   "outputs": [],
   "source": [
    "df = pd.read_excel('./Trial-Wireup 2.xlsx')"
   ]
  },
  {
   "cell_type": "code",
   "execution_count": 3,
   "metadata": {
    "ExecuteTime": {
     "end_time": "2020-09-11T09:06:34.987015Z",
     "start_time": "2020-09-11T09:06:34.980767Z"
    }
   },
   "outputs": [],
   "source": [
    "x = df['X'].to_numpy()\n",
    "y = df['Y'].to_numpy()\n",
    "z = df['Delay'].to_numpy()"
   ]
  },
  {
   "cell_type": "code",
   "execution_count": 4,
   "metadata": {
    "ExecuteTime": {
     "end_time": "2020-09-11T09:06:34.999742Z",
     "start_time": "2020-09-11T09:06:34.994110Z"
    }
   },
   "outputs": [],
   "source": [
    "r = np.stack([x, y]).T"
   ]
  },
  {
   "cell_type": "code",
   "execution_count": null,
   "metadata": {
    "ExecuteTime": {
     "end_time": "2020-09-11T08:45:11.360646Z",
     "start_time": "2020-09-11T08:45:11.323558Z"
    }
   },
   "outputs": [],
   "source": []
  },
  {
   "cell_type": "code",
   "execution_count": 5,
   "metadata": {
    "ExecuteTime": {
     "end_time": "2020-09-11T09:06:35.019863Z",
     "start_time": "2020-09-11T09:06:35.004686Z"
    }
   },
   "outputs": [],
   "source": [
    "S = interpolate.LinearNDInterpolator(r, z)\n",
    "#S = interpolate.CloughTocher2DInterpolator(r, z)\n",
    "#S = interpolate.NearestNDInterpolator(r, z)\n",
    "#S = interpolate.Rbf(x, y, z, epsilon=0.1, function='thin_plate')"
   ]
  },
  {
   "cell_type": "code",
   "execution_count": 6,
   "metadata": {
    "ExecuteTime": {
     "end_time": "2020-09-11T09:06:35.035607Z",
     "start_time": "2020-09-11T09:06:35.026991Z"
    }
   },
   "outputs": [],
   "source": [
    "N = 200\n",
    "xl = np.linspace(x.min(), x.max(), N)\n",
    "yl = np.linspace(y.min(), y.max(), N)\n",
    "X, Y = np.meshgrid(xl, yl)\n",
    "R = np.stack([X.ravel(), Y.ravel()]).T"
   ]
  },
  {
   "cell_type": "code",
   "execution_count": 7,
   "metadata": {
    "ExecuteTime": {
     "end_time": "2020-09-11T09:06:35.058025Z",
     "start_time": "2020-09-11T09:06:35.042146Z"
    }
   },
   "outputs": [],
   "source": [
    "Zp = S(R)\n",
    "#Zp = S(X.ravel(), Y.ravel())"
   ]
  },
  {
   "cell_type": "code",
   "execution_count": 8,
   "metadata": {
    "ExecuteTime": {
     "end_time": "2020-09-11T09:06:35.070976Z",
     "start_time": "2020-09-11T09:06:35.066169Z"
    }
   },
   "outputs": [],
   "source": [
    "Z = Zp.reshape(X.shape)"
   ]
  },
  {
   "cell_type": "code",
   "execution_count": null,
   "metadata": {},
   "outputs": [],
   "source": []
  },
  {
   "cell_type": "code",
   "execution_count": 9,
   "metadata": {
    "ExecuteTime": {
     "end_time": "2020-09-11T09:06:35.087254Z",
     "start_time": "2020-09-11T09:06:35.078976Z"
    }
   },
   "outputs": [],
   "source": [
    "dZdy, dZdx = np.gradient(Z, yl, xl, edge_order=1)"
   ]
  },
  {
   "cell_type": "code",
   "execution_count": 10,
   "metadata": {
    "ExecuteTime": {
     "end_time": "2020-09-11T09:06:35.877168Z",
     "start_time": "2020-09-11T09:06:35.093817Z"
    }
   },
   "outputs": [],
   "source": [
    "tri = Triangulation(x, y)\n",
    "#Stri = LinearTriInterpolator(tri, z)\n",
    "Stri = CubicTriInterpolator(tri, z)"
   ]
  },
  {
   "cell_type": "code",
   "execution_count": 11,
   "metadata": {
    "ExecuteTime": {
     "end_time": "2020-09-11T09:06:36.017919Z",
     "start_time": "2020-09-11T09:06:35.891538Z"
    }
   },
   "outputs": [],
   "source": [
    "dZdxi, dZdyi = Stri.gradient(x, y)"
   ]
  },
  {
   "cell_type": "code",
   "execution_count": null,
   "metadata": {
    "ExecuteTime": {
     "end_time": "2020-09-11T08:57:15.149415Z",
     "start_time": "2020-09-11T08:57:15.137575Z"
    }
   },
   "outputs": [],
   "source": []
  },
  {
   "cell_type": "code",
   "execution_count": 12,
   "metadata": {
    "ExecuteTime": {
     "end_time": "2020-09-11T09:06:36.082968Z",
     "start_time": "2020-09-11T09:06:36.037922Z"
    }
   },
   "outputs": [],
   "source": [
    "Sx = interpolate.LinearNDInterpolator(r, dZdxi)\n",
    "Sy = interpolate.LinearNDInterpolator(r, dZdyi)\n",
    "\n",
    "#Sx = interpolate.CloughTocher2DInterpolator(r, dZdxi)\n",
    "#Sy = interpolate.CloughTocher2DInterpolator(r, dZdyi)\n",
    "\n",
    "#Sx = interpolate.Rbf(x, y, dZdxi)\n",
    "#Sy = interpolate.Rbf(x, y, dZdyi)"
   ]
  },
  {
   "cell_type": "code",
   "execution_count": 13,
   "metadata": {
    "ExecuteTime": {
     "end_time": "2020-09-11T09:06:36.155811Z",
     "start_time": "2020-09-11T09:06:36.098745Z"
    }
   },
   "outputs": [],
   "source": [
    "dZdx = Sx(R).reshape(X.shape)\n",
    "dZdy = Sy(R).reshape(X.shape)\n",
    "\n",
    "#dZdx = Sx(R[:,0], R[:,1]).reshape(X.shape)\n",
    "#dZdy = Sy(R[:,0], R[:,1]).reshape(X.shape)"
   ]
  },
  {
   "cell_type": "code",
   "execution_count": null,
   "metadata": {
    "ExecuteTime": {
     "end_time": "2020-09-11T08:54:25.243377Z",
     "start_time": "2020-09-11T08:54:25.231471Z"
    }
   },
   "outputs": [],
   "source": []
  },
  {
   "cell_type": "code",
   "execution_count": 14,
   "metadata": {
    "ExecuteTime": {
     "end_time": "2020-09-11T09:06:36.419585Z",
     "start_time": "2020-09-11T09:06:36.170126Z"
    }
   },
   "outputs": [
    {
     "data": {
      "image/png": "[encoded data removed]",
      "text/plain": [
       "<Figure size 432x288 with 1 Axes>"
      ]
     },
     "metadata": {
      "needs_background": "light"
     },
     "output_type": "display_data"
    }
   ],
   "source": [
    "axe = plt.contour(X, Y, np.hypot(dZdx, dZdy), cmap='jet')\n",
    "axe.axes.plot(x, y, '.', markersize=1)\n",
    "axe.axes.set_aspect('equal')\n",
    "axe.axes.grid()"
   ]
  },
  {
   "cell_type": "code",
   "execution_count": null,
   "metadata": {
    "ExecuteTime": {
     "end_time": "2020-09-08T20:27:06.663312Z",
     "start_time": "2020-09-08T20:27:06.657321Z"
    }
   },
   "outputs": [],
   "source": []
  },
  {
   "cell_type": "code",
   "execution_count": null,
   "metadata": {},
   "outputs": [],
   "source": []
  },
  {
   "cell_type": "code",
   "execution_count": null,
   "metadata": {
    "ExecuteTime": {
     "end_time": "2020-09-08T19:54:14.251343Z",
     "start_time": "2020-09-08T19:54:14.236759Z"
    }
   },
   "outputs": [],
   "source": []
  },
  {
   "cell_type": "code",
   "execution_count": 15,
   "metadata": {
    "ExecuteTime": {
     "end_time": "2020-09-11T09:06:37.500533Z",
     "start_time": "2020-09-11T09:06:36.427173Z"
    }
   },
   "outputs": [],
   "source": [
    "SdZx = np.nancumsum(dZdx, axis=1)*np.diff(xl)[0]\n",
    "SdZy = np.nancumsum(dZdy, axis=0)*np.diff(yl)[0]\n",
    "\n",
    "Zhat = np.zeros(SdZx.shape)\n",
    "for i in range(Zhat.shape[0]):\n",
    "    for j in range(Zhat.shape[1]):\n",
    "        #Zhat[i,j] += np.nansum([SdZy[i,0], -SdZy[0,0], SdZx[i,j], -SdZx[i,0]])\n",
    "        Zhat[i,j] += np.nansum([SdZx[0,N//2], SdZy[i,N//2], SdZx[i,j], -SdZx[i,N//2]])\n",
    "        #Zhat[i,j] += np.nansum([SdZy[N//2,0], SdZx[N//2,j], SdZy[i,j], -SdZy[N//2,j]])\n",
    "        \n",
    "Zhat += Z[100,100] - Zhat[100,100]"
   ]
  },
  {
   "cell_type": "code",
   "execution_count": 16,
   "metadata": {
    "ExecuteTime": {
     "end_time": "2020-09-11T09:06:37.522050Z",
     "start_time": "2020-09-11T09:06:37.511354Z"
    }
   },
   "outputs": [
    {
     "data": {
      "text/plain": [
       "False"
      ]
     },
     "execution_count": 16,
     "metadata": {},
     "output_type": "execute_result"
    }
   ],
   "source": [
    "np.all(np.isnan(Zhat))"
   ]
  },
  {
   "cell_type": "code",
   "execution_count": 18,
   "metadata": {
    "ExecuteTime": {
     "end_time": "2020-09-11T09:06:59.923679Z",
     "start_time": "2020-09-11T09:06:59.613112Z"
    }
   },
   "outputs": [
    {
     "data": {
      "image/png": "[encoded data removed]",
      "text/plain": [
       "<Figure size 432x288 with 1 Axes>"
      ]
     },
     "metadata": {
      "needs_background": "light"
     },
     "output_type": "display_data"
    }
   ],
   "source": [
    "lz = np.linspace(0, 5000, 20)\n",
    "#axe = plt.contour(X, Y, Z, lz, cmap='jet')\n",
    "axe = plt.contour(X, Y, Zhat, lz, cmap='jet', linestyles='-')\n",
    "axe.axes.plot(x, y, '.', markersize=1)\n",
    "axe.axes.set_aspect('equal')\n",
    "axe.axes.grid()"
   ]
  },
  {
   "cell_type": "code",
   "execution_count": null,
   "metadata": {},
   "outputs": [],
   "source": []
  },
  {
   "cell_type": "code",
   "execution_count": null,
   "metadata": {},
   "outputs": [],
   "source": []
  },
  {
   "cell_type": "code",
   "execution_count": null,
   "metadata": {},
   "outputs": [],
   "source": []
  }
 ],
 "metadata": {
  "hide_input": false,
  "kernelspec": {
   "display_name": "Python 3",
   "language": "python",
   "name": "python3"
  },
  "language_info": {
   "codemirror_mode": {
    "name": "ipython",
    "version": 3
   },
   "file_extension": ".py",
   "mimetype": "text/x-python",
   "name": "python",
   "nbconvert_exporter": "python",
   "pygments_lexer": "ipython3",
   "version": "3.6.9"
  },
  "toc": {
   "base_numbering": 1,
   "nav_menu": {},
   "number_sections": true,
   "sideBar": true,
   "skip_h1_title": false,
   "title_cell": "Table of Contents",
   "title_sidebar": "Contents",
   "toc_cell": false,
   "toc_position": {},
   "toc_section_display": true,
   "toc_window_display": false
  },
  "varInspector": {
   "cols": {
    "lenName": 16,
    "lenType": 16,
    "lenVar": 40
   },
   "kernels_config": {
    "python": {
     "delete_cmd_postfix": "",
     "delete_cmd_prefix": "del ",
     "library": "var_list.py",
     "varRefreshCmd": "print(var_dic_list())"
    },
    "r": {
     "delete_cmd_postfix": ") ",
     "delete_cmd_prefix": "rm(",
     "library": "var_list.r",
     "varRefreshCmd": "cat(var_dic_list()) "
    }
   },
   "types_to_exclude": [
    "module",
    "function",
    "builtin_function_or_method",
    "instance",
    "_Feature"
   ],
   "window_display": false
  }
 },
 "nbformat": 4,
 "nbformat_minor": 4
}
